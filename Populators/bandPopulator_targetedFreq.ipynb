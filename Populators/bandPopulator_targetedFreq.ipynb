{
 "cells": [
  {
   "cell_type": "code",
   "execution_count": 9,
   "id": "063a6fdd-0625-4d2a-b759-cf7b6c9eef21",
   "metadata": {},
   "outputs": [
    {
     "name": "stdout",
     "output_type": "stream",
     "text": [
      "The autoreload extension is already loaded. To reload it, use:\n",
      "  %reload_ext autoreload\n"
     ]
    }
   ],
   "source": [
    "%load_ext autoreload\n",
    "%autoreload 2\n",
    "import pynwb\n",
    "import os\n",
    "import numpy as np\n",
    "\n",
    "# DataJoint and DataJoint schema\n",
    "import datajoint as dj\n",
    "\n",
    "dj.config[\"filepath_checksum_size_limit\"] = 1 * 1024**2\n",
    "\n",
    "## We also import a bunch of tables so that we can call them easily\n",
    "from spyglass.common import (\n",
    "    ElectrodeGroup,\n",
    "    Electrode,\n",
    "    FirFilterParameters,\n",
    "    IntervalList,\n",
    "    Session,\n",
    "    Task,\n",
    "    TaskEpoch,\n",
    "    Nwbfile,\n",
    "    AnalysisNwbfile,\n",
    "    NwbfileKachery,\n",
    "    AnalysisNwbfileKachery,\n",
    "    interval_list_contains,\n",
    "    interval_list_contains_ind,\n",
    "    interval_list_excludes,\n",
    "    interval_list_excludes_ind,\n",
    "    interval_list_intersect,\n",
    "    get_electrode_indices,\n",
    ")\n",
    "\n",
    "from spyglass.lfp.v1 import (\n",
    "    LFPElectrodeGroup,\n",
    "    LFPSelection,\n",
    "    LFPV1,\n",
    ")\n",
    "from spyglass.lfp.lfp_merge import LFPOutput\n",
    "\n",
    "\n",
    "from spyglass.lfp.analysis.v1.lfp_band import LFPBandSelection,LFPBandV1,FirFilterParameters\n",
    "# from spyglass.lfp_band.lfp_band_merge import LFPBandOutput\n",
    "import os\n",
    "import warnings\n",
    "from tqdm import tqdm\n",
    "warnings.simplefilter(\"ignore\", category=DeprecationWarning)\n",
    "warnings.simplefilter(\"ignore\", category=ResourceWarning)\n",
    "warnings.simplefilter(\"ignore\", category=UserWarning)"
   ]
  },
  {
   "cell_type": "code",
   "execution_count": 20,
   "id": "9be460ef",
   "metadata": {},
   "outputs": [
    {
     "data": {
      "text/html": [
       "\n",
       "    \n",
       "    <style type=\"text/css\">\n",
       "        .Table{\n",
       "            border-collapse:collapse;\n",
       "        }\n",
       "        .Table th{\n",
       "            background: #A0A0A0; color: #ffffff; padding:4px; border:#f0e0e0 1px solid;\n",
       "            font-weight: normal; font-family: monospace; font-size: 100%;\n",
       "        }\n",
       "        .Table td{\n",
       "            padding:4px; border:#f0e0e0 1px solid; font-size:100%;\n",
       "        }\n",
       "        .Table tr:nth-child(odd){\n",
       "            background: #ffffff;\n",
       "            color: #000000;\n",
       "        }\n",
       "        .Table tr:nth-child(even){\n",
       "            background: #f3f1ff;\n",
       "            color: #000000;\n",
       "        }\n",
       "        /* Tooltip container */\n",
       "        .djtooltip {\n",
       "        }\n",
       "        /* Tooltip text */\n",
       "        .djtooltip .djtooltiptext {\n",
       "            visibility: hidden;\n",
       "            width: 120px;\n",
       "            background-color: black;\n",
       "            color: #fff;\n",
       "            text-align: center;\n",
       "            padding: 5px 0;\n",
       "            border-radius: 6px;\n",
       "            /* Position the tooltip text - see examples below! */\n",
       "            position: absolute;\n",
       "            z-index: 1;\n",
       "        }\n",
       "        #primary {\n",
       "            font-weight: bold;\n",
       "            color: black;\n",
       "        }\n",
       "        #nonprimary {\n",
       "            font-weight: normal;\n",
       "            color: white;\n",
       "        }\n",
       "\n",
       "        /* Show the tooltip text when you mouse over the tooltip container */\n",
       "        .djtooltip:hover .djtooltiptext {\n",
       "            visibility: visible;\n",
       "        }\n",
       "    </style>\n",
       "    \n",
       "    <b></b>\n",
       "        <div style=\"max-height:1000px;max-width:1500px;overflow:auto;\">\n",
       "        <table border=\"1\" class=\"Table\">\n",
       "            <thead> <tr style=\"text-align: right;\"> <th> <div class=\"djtooltip\">\n",
       "                            <p id=\"primary\">filter_name</p>\n",
       "                            <span class=\"djtooltiptext\">descriptive name of this filter</span>\n",
       "                        </div></th><th><div class=\"djtooltip\">\n",
       "                            <p id=\"primary\">filter_sampling_rate</p>\n",
       "                            <span class=\"djtooltiptext\">sampling rate for this filter</span>\n",
       "                        </div></th><th><div class=\"djtooltip\">\n",
       "                            <p id=\"nonprimary\">filter_type</p>\n",
       "                            <span class=\"djtooltiptext\"></span>\n",
       "                        </div></th><th><div class=\"djtooltip\">\n",
       "                            <p id=\"nonprimary\">filter_low_stop</p>\n",
       "                            <span class=\"djtooltiptext\">lowest frequency for stop band for low frequency side of filter</span>\n",
       "                        </div></th><th><div class=\"djtooltip\">\n",
       "                            <p id=\"nonprimary\">filter_low_pass</p>\n",
       "                            <span class=\"djtooltiptext\">lowest frequency for pass band of low frequency side of filter</span>\n",
       "                        </div></th><th><div class=\"djtooltip\">\n",
       "                            <p id=\"nonprimary\">filter_high_pass</p>\n",
       "                            <span class=\"djtooltiptext\">highest frequency for pass band for high frequency side of filter</span>\n",
       "                        </div></th><th><div class=\"djtooltip\">\n",
       "                            <p id=\"nonprimary\">filter_high_stop</p>\n",
       "                            <span class=\"djtooltiptext\">highest frequency for stop band of high frequency side of filter</span>\n",
       "                        </div></th><th><div class=\"djtooltip\">\n",
       "                            <p id=\"nonprimary\">filter_comments</p>\n",
       "                            <span class=\"djtooltiptext\">comments about the filter</span>\n",
       "                        </div></th><th><div class=\"djtooltip\">\n",
       "                            <p id=\"nonprimary\">filter_band_edges</p>\n",
       "                            <span class=\"djtooltiptext\">numpy array containing the filter bands (redundant with individual parameters)</span>\n",
       "                        </div></th><th><div class=\"djtooltip\">\n",
       "                            <p id=\"nonprimary\">filter_coeff</p>\n",
       "                            <span class=\"djtooltiptext\">numpy array containing the filter coefficients</span>\n",
       "                        </div> </th> </tr> </thead>\n",
       "            <tbody> <tr> <td>ms_stim_125ms_period</td>\n",
       "<td>1000</td>\n",
       "<td>bandpass</td>\n",
       "<td>6.5</td>\n",
       "<td>7.0</td>\n",
       "<td>9.0</td>\n",
       "<td>9.5</td>\n",
       "<td></td>\n",
       "<td>=BLOB=</td>\n",
       "<td>=BLOB=</td> </tr> </tbody>\n",
       "        </table>\n",
       "        \n",
       "        <p>Total: 1</p></div>\n",
       "        "
      ],
      "text/plain": [
       "*filter_name   *filter_sampli filter_type    filter_low_sto filter_low_pas filter_high_pa filter_high_st filter_comment filter_ban filter_coe\n",
       "+------------+ +------------+ +------------+ +------------+ +------------+ +------------+ +------------+ +------------+ +--------+ +--------+\n",
       "ms_stim_125ms_ 1000           bandpass       6.5            7.0            9.0            9.5                           =BLOB=     =BLOB=    \n",
       " (Total: 1)"
      ]
     },
     "execution_count": 20,
     "metadata": {},
     "output_type": "execute_result"
    }
   ],
   "source": [
    "import os\n",
    "os.chdir('/home/sambray/Documents/MS_analysis_samsplaying/')\n",
    "from ms_opto_stim_protocol import OptoStimProtocol\n",
    "set((OptoStimProtocol() & {'optogenetic_protocol':'pulse_train'}).fetch('period_ms'))\n",
    "FirFilterParameters() & {'filter_name':filter_name}"
   ]
  },
  {
   "cell_type": "code",
   "execution_count": 31,
   "id": "ce9212fe",
   "metadata": {},
   "outputs": [],
   "source": [
    "#make a filter for each driving period\n",
    "period_ms = 125\n",
    "for period_ms in [250,165,125,100,80,50]:\n",
    "    filter_name = f\"ms_stim_{period_ms}ms_period\"\n",
    "    filter_type = 'bandpass'\n",
    "    sampling_rate = 1000\n",
    "    center_freq = 1/(period_ms/1000)\n",
    "    bandwidth = 1\n",
    "    band_edges = [center_freq - bandwidth * 1.5 ,\n",
    "                center_freq - bandwidth,\n",
    "                center_freq + bandwidth,\n",
    "                center_freq + bandwidth * 1.5]\n",
    "    comment = f\"ms stim project. {period_ms}ms period driving frequency\"\n",
    "\n",
    "    FirFilterParameters().add_filter(filter_name=filter_name,\n",
    "                                filter_type=filter_type,\n",
    "                                fs=sampling_rate,\n",
    "                                band_edges=band_edges,)"
   ]
  },
  {
   "cell_type": "markdown",
   "id": "cb132610-c932-4a35-be88-577c96261cc0",
   "metadata": {},
   "source": [
    "## Define Animal Sessions"
   ]
  },
  {
   "cell_type": "code",
   "execution_count": 27,
   "id": "0ee04af0-d14c-486b-9ef7-ab34fbdf226e",
   "metadata": {},
   "outputs": [
    {
     "data": {
      "text/plain": [
       "[array(['Banner20211221_.nwb', 'Banner20211221_.nwb',\n",
       "        'Banner20211222_.nwb', 'Banner20211222_.nwb',\n",
       "        'Banner20211222_.nwb', 'Banner20211222_.nwb',\n",
       "        'Banner20211222_.nwb', 'Banner20211227_.nwb',\n",
       "        'Banner20211227_.nwb', 'Banner20211227_.nwb',\n",
       "        'Banner20211227_.nwb', 'Banner20211227_.nwb',\n",
       "        'Banner20211228_.nwb', 'Banner20211228_.nwb',\n",
       "        'Banner20211228_.nwb', 'Banner20211228_.nwb',\n",
       "        'Banner20211228_.nwb', 'Banner20211228_.nwb',\n",
       "        'Banner20211228_.nwb', 'Banner20211228_.nwb',\n",
       "        'Banner20211228_.nwb', 'Banner20211228_.nwb',\n",
       "        'Banner20211230_.nwb', 'Banner20211230_.nwb',\n",
       "        'Banner20211230_.nwb', 'Banner20211230_.nwb',\n",
       "        'Banner20211230_.nwb', 'Banner20211231_.nwb',\n",
       "        'Banner20211231_.nwb', 'Banner20211231_.nwb',\n",
       "        'Banner20211231_.nwb', 'Banner20211231_.nwb',\n",
       "        'Banner20220103_.nwb', 'Banner20220103_.nwb',\n",
       "        'Banner20220103_.nwb', 'Banner20220103_.nwb',\n",
       "        'Banner20220103_.nwb', 'Banner20220105_.nwb',\n",
       "        'Banner20220105_.nwb', 'Banner20220105_.nwb',\n",
       "        'Banner20220105_.nwb', 'Banner20220105_.nwb',\n",
       "        'Banner20220123_.nwb', 'Banner20220123_.nwb',\n",
       "        'Banner20220124_.nwb', 'Banner20220124_.nwb',\n",
       "        'Banner20220124_.nwb', 'Banner20220124_.nwb',\n",
       "        'Banner20220126_.nwb', 'Banner20220126_.nwb',\n",
       "        'Banner20220126_.nwb', 'Banner20220126_.nwb',\n",
       "        'Banner20220126_.nwb', 'Banner20220126_.nwb',\n",
       "        'Banner20220126_.nwb', 'Banner20220126_.nwb',\n",
       "        'Banner20220126_.nwb', 'Bilbo20230724_.nwb', 'Bilbo20230724_.nwb',\n",
       "        'Bilbo20230724_.nwb', 'Bilbo20230724_.nwb', 'Bilbo20230724_.nwb',\n",
       "        'Bilbo20230725_.nwb', 'Bilbo20230725_.nwb', 'Bilbo20230725_.nwb',\n",
       "        'Bilbo20230725_.nwb', 'Bilbo20230725_.nwb', 'Bilbo20230725_.nwb',\n",
       "        'Bilbo20230726_.nwb', 'Bilbo20230726_.nwb', 'Frodo20230808_.nwb',\n",
       "        'Frodo20230808_.nwb', 'Frodo20230808_.nwb', 'Frodo20230808_.nwb',\n",
       "        'Frodo20230808_.nwb', 'Frodo20230809_.nwb', 'Frodo20230809_.nwb',\n",
       "        'Frodo20230809_.nwb', 'Frodo20230809_.nwb', 'Frodo20230809_.nwb',\n",
       "        'Frodo20230810_.nwb', 'Frodo20230810_.nwb', 'Frodo20230810_.nwb',\n",
       "        'Frodo20230810_.nwb', 'Frodo20230810_.nwb', 'Frodo20230810_.nwb',\n",
       "        'Frodo20230810_.nwb', 'Frodo20230810_.nwb', 'Odins20220107_.nwb',\n",
       "        'Odins20220107_.nwb', 'Odins20220107_.nwb', 'Odins20220107_.nwb',\n",
       "        'Odins20220107_.nwb', 'Odins20220110_.nwb', 'Odins20220110_.nwb',\n",
       "        'Odins20220110_.nwb', 'Odins20220110_.nwb', 'Odins20220110_.nwb',\n",
       "        'Odins20220111_.nwb', 'Odins20220111_.nwb', 'Odins20220111_.nwb',\n",
       "        'Odins20220111_.nwb', 'Odins20220111_.nwb', 'Odins20220113_.nwb',\n",
       "        'Odins20220113_.nwb', 'Odins20220113_.nwb', 'Odins20220113_.nwb',\n",
       "        'Odins20220113_.nwb', 'Odins20220118_.nwb', 'Odins20220118_.nwb',\n",
       "        'Odins20220118_.nwb', 'Odins20220118_.nwb', 'Odins20220118_.nwb',\n",
       "        'Odins20220119_.nwb', 'Odins20220119_.nwb', 'Odins20220119_.nwb',\n",
       "        'Odins20220119_.nwb', 'Odins20220119_.nwb', 'Odins20220119_.nwb',\n",
       "        'Odins20220119_.nwb', 'Odins20220119_.nwb', 'Odins20220119_.nwb',\n",
       "        'Odins20220119_.nwb', 'Odins20220123_.nwb', 'Odins20220123_.nwb',\n",
       "        'Odins20220124_.nwb', 'Odins20220124_.nwb', 'Odins20220124_.nwb',\n",
       "        'Odins20220124_.nwb', 'Olive20220627_.nwb', 'Olive20220627_.nwb',\n",
       "        'Olive20220627_.nwb', 'Olive20220627_.nwb', 'Olive20220628_.nwb',\n",
       "        'Olive20220628_.nwb', 'Olive20220628_.nwb', 'Olive20220628_.nwb',\n",
       "        'Olive20220629_.nwb', 'Olive20220629_.nwb', 'Olive20220629_.nwb',\n",
       "        'Olive20220629_.nwb', 'Olive20220630_.nwb', 'Olive20220630_.nwb',\n",
       "        'Olive20220630_.nwb', 'Olive20220630_.nwb', 'Olive20220701_.nwb',\n",
       "        'Olive20220701_.nwb', 'Olive20220701_.nwb', 'Olive20220701_.nwb',\n",
       "        'Olive20220702_.nwb', 'Olive20220702_.nwb', 'Olive20220702_.nwb',\n",
       "        'Olive20220702_.nwb', 'Olive20220705_.nwb', 'Olive20220705_.nwb',\n",
       "        'Olive20220705_.nwb', 'Olive20220705_.nwb', 'Olive20220706_.nwb',\n",
       "        'Olive20220706_.nwb', 'Olive20220706_.nwb', 'Olive20220706_.nwb',\n",
       "        'Totoro20220530_.nwb', 'Totoro20220530_.nwb',\n",
       "        'Totoro20220531_.nwb', 'Totoro20220531_.nwb',\n",
       "        'Totoro20220602_.nwb', 'Totoro20220602_.nwb',\n",
       "        'Totoro20220602_.nwb', 'Totoro20220602_.nwb',\n",
       "        'Totoro20220602_.nwb', 'Totoro20220602_.nwb',\n",
       "        'Totoro20220603_.nwb', 'Totoro20220603_.nwb',\n",
       "        'Totoro20220603_.nwb', 'Totoro20220603_.nwb',\n",
       "        'Totoro20220603_.nwb', 'Totoro20220603_.nwb',\n",
       "        'Totoro20220606_.nwb', 'Totoro20220606_.nwb',\n",
       "        'Totoro20220606_.nwb', 'Totoro20220606_.nwb',\n",
       "        'Totoro20220606_.nwb', 'Totoro20220606_.nwb',\n",
       "        'Totoro20220606_.nwb', 'Totoro20220606_.nwb',\n",
       "        'Wallie20220911_.nwb', 'Wallie20220911_.nwb',\n",
       "        'Wallie20220911_.nwb', 'Wallie20220911_.nwb',\n",
       "        'Wallie20220911_.nwb', 'Wallie20220911_.nwb',\n",
       "        'Wallie20220912_.nwb', 'Wallie20220912_.nwb',\n",
       "        'Wallie20220912_.nwb', 'Wallie20220912_.nwb',\n",
       "        'Wallie20220912_.nwb', 'Wallie20220912_.nwb',\n",
       "        'Wallie20220912_.nwb', 'Wallie20220912_.nwb',\n",
       "        'Wallie20220913_.nwb', 'Wallie20220913_.nwb',\n",
       "        'Wallie20220913_.nwb', 'Wallie20220913_.nwb',\n",
       "        'Wallie20220913_.nwb', 'Wallie20220913_.nwb',\n",
       "        'Wallie20220913_.nwb', 'Wallie20220913_.nwb',\n",
       "        'Wallie20220916_.nwb', 'Wallie20220916_.nwb',\n",
       "        'Winnie20220713_.nwb', 'Winnie20220713_.nwb',\n",
       "        'Winnie20220713_.nwb', 'Winnie20220713_.nwb',\n",
       "        'Winnie20220713_.nwb', 'Winnie20220713_.nwb',\n",
       "        'Winnie20220714_.nwb', 'Winnie20220714_.nwb',\n",
       "        'Winnie20220714_.nwb', 'Winnie20220714_.nwb',\n",
       "        'Winnie20220714_.nwb', 'Winnie20220714_.nwb',\n",
       "        'Winnie20220715_.nwb', 'Winnie20220715_.nwb',\n",
       "        'Winnie20220715_.nwb', 'Winnie20220715_.nwb',\n",
       "        'Winnie20220715_.nwb', 'Winnie20220715_.nwb',\n",
       "        'Winnie20220716_.nwb', 'Winnie20220716_.nwb',\n",
       "        'Winnie20220716_.nwb', 'Winnie20220716_.nwb',\n",
       "        'Winnie20220716_.nwb', 'Winnie20220716_.nwb',\n",
       "        'Winnie20220716_.nwb', 'Winnie20220716_.nwb', 'Yoshi20220509_.nwb',\n",
       "        'Yoshi20220509_.nwb', 'Yoshi20220509_.nwb', 'Yoshi20220509_.nwb',\n",
       "        'Yoshi20220509_.nwb', 'Yoshi20220509_.nwb', 'Yoshi20220510_.nwb',\n",
       "        'Yoshi20220510_.nwb', 'Yoshi20220510_.nwb', 'Yoshi20220510_.nwb',\n",
       "        'Yoshi20220510_.nwb', 'Yoshi20220510_.nwb', 'Yoshi20220510_.nwb',\n",
       "        'Yoshi20220511_.nwb', 'Yoshi20220511_.nwb', 'Yoshi20220511_.nwb',\n",
       "        'Yoshi20220511_.nwb', 'Yoshi20220511_.nwb', 'Yoshi20220511_.nwb',\n",
       "        'Yoshi20220511_.nwb', 'Yoshi20220511_.nwb'], dtype=object),\n",
       " array(['pos 0 valid times', 'pos 1 valid times', 'pos 0 valid times',\n",
       "        'pos 1 valid times', 'pos 2 valid times', 'pos 3 valid times',\n",
       "        'pos 4 valid times', 'pos 0 valid times', 'pos 1 valid times',\n",
       "        'pos 2 valid times', 'pos 3 valid times', 'pos 4 valid times',\n",
       "        'pos 0 valid times', 'pos 1 valid times', 'pos 2 valid times',\n",
       "        'pos 3 valid times', 'pos 4 valid times', 'pos 5 valid times',\n",
       "        'pos 6 valid times', 'pos 7 valid times', 'pos 8 valid times',\n",
       "        'pos 9 valid times', 'pos 0 valid times', 'pos 1 valid times',\n",
       "        'pos 2 valid times', 'pos 3 valid times', 'pos 4 valid times',\n",
       "        'pos 0 valid times', 'pos 1 valid times', 'pos 2 valid times',\n",
       "        'pos 3 valid times', 'pos 4 valid times', 'pos 0 valid times',\n",
       "        'pos 1 valid times', 'pos 2 valid times', 'pos 3 valid times',\n",
       "        'pos 4 valid times', 'pos 0 valid times', 'pos 1 valid times',\n",
       "        'pos 2 valid times', 'pos 3 valid times', 'pos 4 valid times',\n",
       "        'pos 0 valid times', 'pos 1 valid times', 'pos 0 valid times',\n",
       "        'pos 1 valid times', 'pos 2 valid times', 'pos 3 valid times',\n",
       "        'pos 0 valid times', 'pos 1 valid times', 'pos 2 valid times',\n",
       "        'pos 3 valid times', 'pos 4 valid times', 'pos 5 valid times',\n",
       "        'pos 6 valid times', 'pos 7 valid times', 'pos 8 valid times',\n",
       "        'pos 11 valid times', 'pos 3 valid times', 'pos 5 valid times',\n",
       "        'pos 7 valid times', 'pos 9 valid times', 'pos 1 valid times',\n",
       "        'pos 10 valid times', 'pos 3 valid times', 'pos 5 valid times',\n",
       "        'pos 7 valid times', 'pos 9 valid times', 'pos 3 valid times',\n",
       "        'pos 5 valid times', 'pos 11 valid times', 'pos 3 valid times',\n",
       "        'pos 5 valid times', 'pos 7 valid times', 'pos 9 valid times',\n",
       "        'pos 11 valid times', 'pos 3 valid times', 'pos 5 valid times',\n",
       "        'pos 7 valid times', 'pos 9 valid times', 'pos 11 valid times',\n",
       "        'pos 13 valid times', 'pos 15 valid times', 'pos 17 valid times',\n",
       "        'pos 3 valid times', 'pos 5 valid times', 'pos 7 valid times',\n",
       "        'pos 9 valid times', 'pos 0 valid times', 'pos 1 valid times',\n",
       "        'pos 2 valid times', 'pos 3 valid times', 'pos 4 valid times',\n",
       "        'pos 0 valid times', 'pos 1 valid times', 'pos 2 valid times',\n",
       "        'pos 3 valid times', 'pos 4 valid times', 'pos 0 valid times',\n",
       "        'pos 1 valid times', 'pos 2 valid times', 'pos 3 valid times',\n",
       "        'pos 4 valid times', 'pos 0 valid times', 'pos 1 valid times',\n",
       "        'pos 2 valid times', 'pos 3 valid times', 'pos 4 valid times',\n",
       "        'pos 0 valid times', 'pos 1 valid times', 'pos 2 valid times',\n",
       "        'pos 3 valid times', 'pos 4 valid times', 'pos 0 valid times',\n",
       "        'pos 1 valid times', 'pos 2 valid times', 'pos 3 valid times',\n",
       "        'pos 4 valid times', 'pos 5 valid times', 'pos 6 valid times',\n",
       "        'pos 7 valid times', 'pos 8 valid times', 'pos 9 valid times',\n",
       "        'pos 0 valid times', 'pos 1 valid times', 'pos 0 valid times',\n",
       "        'pos 1 valid times', 'pos 2 valid times', 'pos 3 valid times',\n",
       "        'pos 3 valid times', 'pos 5 valid times', 'pos 7 valid times',\n",
       "        'pos 9 valid times', 'pos 3 valid times', 'pos 5 valid times',\n",
       "        'pos 7 valid times', 'pos 9 valid times', 'pos 3 valid times',\n",
       "        'pos 5 valid times', 'pos 7 valid times', 'pos 9 valid times',\n",
       "        'pos 3 valid times', 'pos 5 valid times', 'pos 7 valid times',\n",
       "        'pos 9 valid times', 'pos 3 valid times', 'pos 5 valid times',\n",
       "        'pos 7 valid times', 'pos 9 valid times', 'pos 3 valid times',\n",
       "        'pos 5 valid times', 'pos 7 valid times', 'pos 9 valid times',\n",
       "        'pos 3 valid times', 'pos 5 valid times', 'pos 7 valid times',\n",
       "        'pos 9 valid times', 'pos 3 valid times', 'pos 5 valid times',\n",
       "        'pos 7 valid times', 'pos 9 valid times', 'pos 3 valid times',\n",
       "        'pos 5 valid times', 'pos 3 valid times', 'pos 5 valid times',\n",
       "        'pos 11 valid times', 'pos 13 valid times', 'pos 3 valid times',\n",
       "        'pos 5 valid times', 'pos 7 valid times', 'pos 9 valid times',\n",
       "        'pos 11 valid times', 'pos 13 valid times', 'pos 3 valid times',\n",
       "        'pos 5 valid times', 'pos 7 valid times', 'pos 9 valid times',\n",
       "        'pos 11 valid times', 'pos 13 valid times', 'pos 15 valid times',\n",
       "        'pos 17 valid times', 'pos 3 valid times', 'pos 5 valid times',\n",
       "        'pos 7 valid times', 'pos 9 valid times', 'pos 11 valid times',\n",
       "        'pos 13 valid times', 'pos 15 valid times', 'pos 17 valid times',\n",
       "        'pos 7 valid times', 'pos 9 valid times', 'pos 11 valid times',\n",
       "        'pos 13 valid times', 'pos 15 valid times', 'pos 17 valid times',\n",
       "        'pos 3 valid times', 'pos 5 valid times', 'pos 7 valid times',\n",
       "        'pos 9 valid times', 'pos 11 valid times', 'pos 13 valid times',\n",
       "        'pos 15 valid times', 'pos 17 valid times', 'pos 3 valid times',\n",
       "        'pos 5 valid times', 'pos 7 valid times', 'pos 9 valid times',\n",
       "        'pos 3 valid times', 'pos 5 valid times', 'pos 11 valid times',\n",
       "        'pos 13 valid times', 'pos 3 valid times', 'pos 5 valid times',\n",
       "        'pos 7 valid times', 'pos 9 valid times', 'pos 11 valid times',\n",
       "        'pos 13 valid times', 'pos 3 valid times', 'pos 5 valid times',\n",
       "        'pos 7 valid times', 'pos 9 valid times', 'pos 11 valid times',\n",
       "        'pos 13 valid times', 'pos 3 valid times', 'pos 5 valid times',\n",
       "        'pos 7 valid times', 'pos 9 valid times', 'pos 11 valid times',\n",
       "        'pos 13 valid times', 'pos 15 valid times', 'pos 17 valid times',\n",
       "        'pos 3 valid times', 'pos 5 valid times', 'pos 7 valid times',\n",
       "        'pos 9 valid times', 'pos 11 valid times', 'pos 13 valid times',\n",
       "        'pos 3 valid times', 'pos 5 valid times', 'pos 7 valid times',\n",
       "        'pos 9 valid times', 'pos 1 valid times', 'pos 11 valid times',\n",
       "        'pos 13 valid times', 'pos 3 valid times', 'pos 5 valid times',\n",
       "        'pos 7 valid times', 'pos 9 valid times', 'pos 11 valid times',\n",
       "        'pos 13 valid times', 'pos 15 valid times', 'pos 17 valid times',\n",
       "        'pos 3 valid times', 'pos 5 valid times', 'pos 7 valid times',\n",
       "        'pos 9 valid times'], dtype=object),\n",
       " array([165, 125, 165, 125, 100,  80,  50, 165, 125, 100,  80,  50, 165,\n",
       "        125, 100,  80,  50, 165, 125, 100,  80,  50, 165, 125, 100,  80,\n",
       "         50, 165, 125, 100,  80,  50, 165, 125, 100,  80,  50, 165, 125,\n",
       "        100,  80,  50, 100, 100, 125,  80, 125,  80, 125, 125,  80,  90,\n",
       "        125, 125, 125,  86, 111,  80, 250, 165, 125, 100,  80, 123,  50,\n",
       "        128, 137, 134, 279, 125,  80, 250, 165, 125, 100, 250,  80, 100,\n",
       "        125, 165, 131, 122,  90, 109, 250, 165, 125, 100, 165, 125, 100,\n",
       "         80,  50, 165, 125, 100,  80,  50, 165, 125, 100,  80,  50, 165,\n",
       "        125, 100,  80,  50, 165, 125, 100,  80,  50, 165, 125, 100,  80,\n",
       "         50, 165, 125, 100,  80,  50, 100, 100, 125,  80, 125,  80, 250,\n",
       "        165, 125, 100, 250, 165, 125, 100,  80,  50,  80,  50, 250, 165,\n",
       "        125, 100, 250, 165, 125, 100,  80,  50,  80,  50, 250, 165, 125,\n",
       "        100, 250, 165, 125, 100, 250, 165, 250, 165,  80,  50, 250, 165,\n",
       "        125, 100,  80,  50, 250, 165, 125, 100, 250, 165, 125, 100, 250,\n",
       "        165, 125, 100, 125, 100,  80,  50, 250, 165,  80,  50, 165, 250,\n",
       "        250, 165, 125, 100, 250, 165, 125, 100, 250, 165, 125, 100, 165,\n",
       "         80,  80,  50, 250, 165, 125, 100, 165, 250,  50,  80, 100, 125,\n",
       "         80,  50, 250, 165, 125, 100, 250, 165, 125, 100, 250, 165, 125,\n",
       "        100,  80,  50, 250, 165, 125, 100, 250,  80,  50, 250, 165, 125,\n",
       "        100, 250, 165, 125, 100, 250, 165, 125, 100])]"
      ]
     },
     "execution_count": 27,
     "metadata": {},
     "output_type": "execute_result"
    }
   ],
   "source": [
    "datset = (OptoStimProtocol() & {'optogenetic_protocol':'pulse_train'})\n",
    "\n",
    "datset.fetch('nwb_file_name','interval_list_name','period_ms')"
   ]
  },
  {
   "cell_type": "markdown",
   "id": "6f9309a3-1774-4192-91e5-acb346a6e1f9",
   "metadata": {},
   "source": [
    "## Populate"
   ]
  },
  {
   "cell_type": "code",
   "execution_count": 47,
   "id": "9c181360-c520-4218-9aa6-858bafa79a7d",
   "metadata": {},
   "outputs": [
    {
     "name": "stderr",
     "output_type": "stream",
     "text": [
      "[2023-11-08 09:18:38,801][WARNING]: Skipped checksum for file with hash: 6cd0fdb9-514d-d485-4dd4-bd1421c2a72f, and path: /stelmo/nwb/analysis/Banner20211221/Banner20211221_B8Y8EIB8TP.nwb\n",
      "WARNING:datajoint:Skipped checksum for file with hash: 6cd0fdb9-514d-d485-4dd4-bd1421c2a72f, and path: /stelmo/nwb/analysis/Banner20211221/Banner20211221_B8Y8EIB8TP.nwb\n",
      "[2023-11-08 09:18:39,185][WARNING]: Skipped checksum for file with hash: 06436bdb-6d9c-22f6-029e-88c2f8c2412d, and path: /stelmo/nwb/analysis/Banner20211221/Banner20211221_FU6J57GS4G.nwb\n",
      "WARNING:datajoint:Skipped checksum for file with hash: 06436bdb-6d9c-22f6-029e-88c2f8c2412d, and path: /stelmo/nwb/analysis/Banner20211221/Banner20211221_FU6J57GS4G.nwb\n",
      "[2023-11-08 09:18:39,558][WARNING]: Skipped checksum for file with hash: ff3b5c39-9487-8d16-a69c-43084265943b, and path: /stelmo/nwb/analysis/Banner20211222/Banner20211222_24ZSISUYXR.nwb\n",
      "WARNING:datajoint:Skipped checksum for file with hash: ff3b5c39-9487-8d16-a69c-43084265943b, and path: /stelmo/nwb/analysis/Banner20211222/Banner20211222_24ZSISUYXR.nwb\n",
      "[2023-11-08 09:18:39,944][WARNING]: Skipped checksum for file with hash: 52940a6b-3512-2d5a-bd6d-715de04c937e, and path: /stelmo/nwb/analysis/Banner20211222/Banner20211222_NJ1AH2SG7X.nwb\n",
      "WARNING:datajoint:Skipped checksum for file with hash: 52940a6b-3512-2d5a-bd6d-715de04c937e, and path: /stelmo/nwb/analysis/Banner20211222/Banner20211222_NJ1AH2SG7X.nwb\n",
      "[2023-11-08 09:18:40,335][WARNING]: Skipped checksum for file with hash: 18e8343e-3700-869b-51a4-ac5a8fae20c4, and path: /stelmo/nwb/analysis/Banner20211222/Banner20211222_PATV8XFL7F.nwb\n",
      "WARNING:datajoint:Skipped checksum for file with hash: 18e8343e-3700-869b-51a4-ac5a8fae20c4, and path: /stelmo/nwb/analysis/Banner20211222/Banner20211222_PATV8XFL7F.nwb\n",
      "[2023-11-08 09:18:40,743][WARNING]: Skipped checksum for file with hash: 9f22e680-257e-a70f-2030-352e0811be69, and path: /stelmo/nwb/analysis/Banner20211222/Banner20211222_HUBPRCYVOX.nwb\n",
      "WARNING:datajoint:Skipped checksum for file with hash: 9f22e680-257e-a70f-2030-352e0811be69, and path: /stelmo/nwb/analysis/Banner20211222/Banner20211222_HUBPRCYVOX.nwb\n",
      "[2023-11-08 09:18:41,139][WARNING]: Skipped checksum for file with hash: d41eab27-79c8-77c5-3b44-956adbbe3feb, and path: /stelmo/nwb/analysis/Banner20211222/Banner20211222_31EI00J14A.nwb\n",
      "WARNING:datajoint:Skipped checksum for file with hash: d41eab27-79c8-77c5-3b44-956adbbe3feb, and path: /stelmo/nwb/analysis/Banner20211222/Banner20211222_31EI00J14A.nwb\n",
      "[2023-11-08 09:18:41,527][WARNING]: Skipped checksum for file with hash: 79ca25de-fb72-086e-6dfe-176c8ed2649d, and path: /stelmo/nwb/analysis/Banner20211227/Banner20211227_OWWPEIV67F.nwb\n",
      "WARNING:datajoint:Skipped checksum for file with hash: 79ca25de-fb72-086e-6dfe-176c8ed2649d, and path: /stelmo/nwb/analysis/Banner20211227/Banner20211227_OWWPEIV67F.nwb\n",
      "[2023-11-08 09:18:41,860][WARNING]: Skipped checksum for file with hash: d620588c-e979-6d3a-2b89-09a75cb4f866, and path: /stelmo/nwb/analysis/Banner20211227/Banner20211227_KMPDJ12FNU.nwb\n",
      "WARNING:datajoint:Skipped checksum for file with hash: d620588c-e979-6d3a-2b89-09a75cb4f866, and path: /stelmo/nwb/analysis/Banner20211227/Banner20211227_KMPDJ12FNU.nwb\n",
      "[2023-11-08 09:18:42,198][WARNING]: Skipped checksum for file with hash: 5fc1883e-e54a-9c1b-83dd-a106a7e9951c, and path: /stelmo/nwb/analysis/Banner20211227/Banner20211227_LBU2JPVC15.nwb\n",
      "WARNING:datajoint:Skipped checksum for file with hash: 5fc1883e-e54a-9c1b-83dd-a106a7e9951c, and path: /stelmo/nwb/analysis/Banner20211227/Banner20211227_LBU2JPVC15.nwb\n",
      "[2023-11-08 09:18:42,531][WARNING]: Skipped checksum for file with hash: d0cd3bc1-8dfd-b59b-32bd-b5284bdd2d41, and path: /stelmo/nwb/analysis/Banner20211227/Banner20211227_HDCA69JEZK.nwb\n",
      "WARNING:datajoint:Skipped checksum for file with hash: d0cd3bc1-8dfd-b59b-32bd-b5284bdd2d41, and path: /stelmo/nwb/analysis/Banner20211227/Banner20211227_HDCA69JEZK.nwb\n",
      "[2023-11-08 09:18:42,862][WARNING]: Skipped checksum for file with hash: 0e9e9dc4-c16a-8085-bd72-7b44e397a4f5, and path: /stelmo/nwb/analysis/Banner20211227/Banner20211227_E0F1NKPG8U.nwb\n",
      "WARNING:datajoint:Skipped checksum for file with hash: 0e9e9dc4-c16a-8085-bd72-7b44e397a4f5, and path: /stelmo/nwb/analysis/Banner20211227/Banner20211227_E0F1NKPG8U.nwb\n",
      "[2023-11-08 09:18:43,179][WARNING]: Skipped checksum for file with hash: dac46601-7bb0-7446-5cad-838e5fda89a4, and path: /stelmo/nwb/analysis/Banner20211228/Banner20211228_Z5D6GX63JC.nwb\n",
      "WARNING:datajoint:Skipped checksum for file with hash: dac46601-7bb0-7446-5cad-838e5fda89a4, and path: /stelmo/nwb/analysis/Banner20211228/Banner20211228_Z5D6GX63JC.nwb\n",
      "[2023-11-08 09:18:43,500][WARNING]: Skipped checksum for file with hash: ce2bab99-7065-d60a-4cf0-9b37d64d1bae, and path: /stelmo/nwb/analysis/Banner20211228/Banner20211228_EETLY22DUA.nwb\n",
      "WARNING:datajoint:Skipped checksum for file with hash: ce2bab99-7065-d60a-4cf0-9b37d64d1bae, and path: /stelmo/nwb/analysis/Banner20211228/Banner20211228_EETLY22DUA.nwb\n",
      "[2023-11-08 09:18:43,814][WARNING]: Skipped checksum for file with hash: 5b938abc-ba48-a187-5fe8-a88d88b68191, and path: /stelmo/nwb/analysis/Banner20211228/Banner20211228_AOWJPX5OD7.nwb\n",
      "WARNING:datajoint:Skipped checksum for file with hash: 5b938abc-ba48-a187-5fe8-a88d88b68191, and path: /stelmo/nwb/analysis/Banner20211228/Banner20211228_AOWJPX5OD7.nwb\n",
      "[2023-11-08 09:18:44,125][WARNING]: Skipped checksum for file with hash: 99c8306c-55aa-194c-ff20-0f091ec55ea6, and path: /stelmo/nwb/analysis/Banner20211228/Banner20211228_E68NRJB14I.nwb\n",
      "WARNING:datajoint:Skipped checksum for file with hash: 99c8306c-55aa-194c-ff20-0f091ec55ea6, and path: /stelmo/nwb/analysis/Banner20211228/Banner20211228_E68NRJB14I.nwb\n",
      "[2023-11-08 09:18:44,437][WARNING]: Skipped checksum for file with hash: 8ca522c6-9987-99b0-8c1b-42e5d2ffe378, and path: /stelmo/nwb/analysis/Banner20211228/Banner20211228_CIIIHMHBIP.nwb\n",
      "WARNING:datajoint:Skipped checksum for file with hash: 8ca522c6-9987-99b0-8c1b-42e5d2ffe378, and path: /stelmo/nwb/analysis/Banner20211228/Banner20211228_CIIIHMHBIP.nwb\n",
      "[2023-11-08 09:18:44,803][WARNING]: Skipped checksum for file with hash: be50311a-4ebf-13ae-a963-0b877c0f8f27, and path: /stelmo/nwb/analysis/Banner20211228/Banner20211228_YJ1RB4IW1V.nwb\n",
      "WARNING:datajoint:Skipped checksum for file with hash: be50311a-4ebf-13ae-a963-0b877c0f8f27, and path: /stelmo/nwb/analysis/Banner20211228/Banner20211228_YJ1RB4IW1V.nwb\n",
      "[2023-11-08 09:18:45,114][WARNING]: Skipped checksum for file with hash: 211b72b5-d0a4-2503-f652-8ee991dbda4c, and path: /stelmo/nwb/analysis/Banner20211228/Banner20211228_IM5S1A0PBL.nwb\n",
      "WARNING:datajoint:Skipped checksum for file with hash: 211b72b5-d0a4-2503-f652-8ee991dbda4c, and path: /stelmo/nwb/analysis/Banner20211228/Banner20211228_IM5S1A0PBL.nwb\n",
      "[2023-11-08 09:18:45,416][WARNING]: Skipped checksum for file with hash: eb9c88d0-745e-1fde-49cb-058c19abadbb, and path: /stelmo/nwb/analysis/Banner20211228/Banner20211228_CU8P2N9EB4.nwb\n",
      "WARNING:datajoint:Skipped checksum for file with hash: eb9c88d0-745e-1fde-49cb-058c19abadbb, and path: /stelmo/nwb/analysis/Banner20211228/Banner20211228_CU8P2N9EB4.nwb\n",
      "[2023-11-08 09:18:45,741][WARNING]: Skipped checksum for file with hash: f7c37e34-c05c-1c55-d153-20d217f296a2, and path: /stelmo/nwb/analysis/Banner20211228/Banner20211228_990FHXX0OX.nwb\n",
      "WARNING:datajoint:Skipped checksum for file with hash: f7c37e34-c05c-1c55-d153-20d217f296a2, and path: /stelmo/nwb/analysis/Banner20211228/Banner20211228_990FHXX0OX.nwb\n",
      "[2023-11-08 09:18:46,064][WARNING]: Skipped checksum for file with hash: 35f5d0b5-3982-4045-5286-7fb1c710a92d, and path: /stelmo/nwb/analysis/Banner20211228/Banner20211228_Q2QX3XSFBV.nwb\n",
      "WARNING:datajoint:Skipped checksum for file with hash: 35f5d0b5-3982-4045-5286-7fb1c710a92d, and path: /stelmo/nwb/analysis/Banner20211228/Banner20211228_Q2QX3XSFBV.nwb\n",
      "[2023-11-08 09:18:46,388][WARNING]: Skipped checksum for file with hash: 5e6c9601-f6de-9d5a-2fc8-09786960e514, and path: /stelmo/nwb/analysis/Banner20211230/Banner20211230_X1YKNAEPTA.nwb\n",
      "WARNING:datajoint:Skipped checksum for file with hash: 5e6c9601-f6de-9d5a-2fc8-09786960e514, and path: /stelmo/nwb/analysis/Banner20211230/Banner20211230_X1YKNAEPTA.nwb\n",
      "[2023-11-08 09:18:46,714][WARNING]: Skipped checksum for file with hash: ddf48a5d-51fc-c935-6719-171520448df0, and path: /stelmo/nwb/analysis/Banner20211230/Banner20211230_11NILAVSP1.nwb\n",
      "WARNING:datajoint:Skipped checksum for file with hash: ddf48a5d-51fc-c935-6719-171520448df0, and path: /stelmo/nwb/analysis/Banner20211230/Banner20211230_11NILAVSP1.nwb\n",
      "[2023-11-08 09:18:47,042][WARNING]: Skipped checksum for file with hash: cf047244-c4b4-8c46-c9ff-f7f235429dbc, and path: /stelmo/nwb/analysis/Banner20211230/Banner20211230_8VNEQ3W8V8.nwb\n",
      "WARNING:datajoint:Skipped checksum for file with hash: cf047244-c4b4-8c46-c9ff-f7f235429dbc, and path: /stelmo/nwb/analysis/Banner20211230/Banner20211230_8VNEQ3W8V8.nwb\n",
      "[2023-11-08 09:18:47,385][WARNING]: Skipped checksum for file with hash: 47be816b-3558-886b-8518-4275c12f5e9b, and path: /stelmo/nwb/analysis/Banner20211230/Banner20211230_ZJK3FOCH2O.nwb\n",
      "WARNING:datajoint:Skipped checksum for file with hash: 47be816b-3558-886b-8518-4275c12f5e9b, and path: /stelmo/nwb/analysis/Banner20211230/Banner20211230_ZJK3FOCH2O.nwb\n",
      "[2023-11-08 09:18:47,778][WARNING]: Skipped checksum for file with hash: a24aa4da-0336-96c5-0597-ac9b6f3a4d94, and path: /stelmo/nwb/analysis/Banner20211230/Banner20211230_HUBSRILAR0.nwb\n",
      "WARNING:datajoint:Skipped checksum for file with hash: a24aa4da-0336-96c5-0597-ac9b6f3a4d94, and path: /stelmo/nwb/analysis/Banner20211230/Banner20211230_HUBSRILAR0.nwb\n",
      "[2023-11-08 09:18:48,176][WARNING]: Skipped checksum for file with hash: db4243cb-d0a7-69cc-b48f-4182f8e09cbd, and path: /stelmo/nwb/analysis/Banner20211231/Banner20211231_2BULMH3K21.nwb\n",
      "WARNING:datajoint:Skipped checksum for file with hash: db4243cb-d0a7-69cc-b48f-4182f8e09cbd, and path: /stelmo/nwb/analysis/Banner20211231/Banner20211231_2BULMH3K21.nwb\n",
      "[2023-11-08 09:18:48,576][WARNING]: Skipped checksum for file with hash: ddc75e05-d34b-5e58-13ee-d195982ba07c, and path: /stelmo/nwb/analysis/Banner20211231/Banner20211231_N1KQXCZC34.nwb\n",
      "WARNING:datajoint:Skipped checksum for file with hash: ddc75e05-d34b-5e58-13ee-d195982ba07c, and path: /stelmo/nwb/analysis/Banner20211231/Banner20211231_N1KQXCZC34.nwb\n",
      "[2023-11-08 09:18:48,974][WARNING]: Skipped checksum for file with hash: d3eac145-ee79-a41d-ae7f-b7616ce5ec2d, and path: /stelmo/nwb/analysis/Banner20211231/Banner20211231_LZG0IJEK6K.nwb\n",
      "WARNING:datajoint:Skipped checksum for file with hash: d3eac145-ee79-a41d-ae7f-b7616ce5ec2d, and path: /stelmo/nwb/analysis/Banner20211231/Banner20211231_LZG0IJEK6K.nwb\n",
      "[2023-11-08 09:18:49,368][WARNING]: Skipped checksum for file with hash: d723d935-7688-85cd-8735-18513e3e3e3f, and path: /stelmo/nwb/analysis/Banner20211231/Banner20211231_B2V64ATUOF.nwb\n",
      "WARNING:datajoint:Skipped checksum for file with hash: d723d935-7688-85cd-8735-18513e3e3e3f, and path: /stelmo/nwb/analysis/Banner20211231/Banner20211231_B2V64ATUOF.nwb\n",
      "[2023-11-08 09:18:49,773][WARNING]: Skipped checksum for file with hash: cf92eeef-73b1-e575-dc34-144967cb4dd4, and path: /stelmo/nwb/analysis/Banner20211231/Banner20211231_JC3KXS0PTO.nwb\n",
      "WARNING:datajoint:Skipped checksum for file with hash: cf92eeef-73b1-e575-dc34-144967cb4dd4, and path: /stelmo/nwb/analysis/Banner20211231/Banner20211231_JC3KXS0PTO.nwb\n",
      "[2023-11-08 09:18:50,164][WARNING]: Skipped checksum for file with hash: 6561951a-9b07-37a6-3f2c-fa69648fd93d, and path: /stelmo/nwb/analysis/Banner20220103/Banner20220103_RS6O1MD4ZK.nwb\n",
      "WARNING:datajoint:Skipped checksum for file with hash: 6561951a-9b07-37a6-3f2c-fa69648fd93d, and path: /stelmo/nwb/analysis/Banner20220103/Banner20220103_RS6O1MD4ZK.nwb\n",
      "[2023-11-08 09:18:50,573][WARNING]: Skipped checksum for file with hash: 2106d39d-3ab7-0aa8-9cab-098ecff13874, and path: /stelmo/nwb/analysis/Banner20220103/Banner20220103_20DCM9WC1N.nwb\n",
      "WARNING:datajoint:Skipped checksum for file with hash: 2106d39d-3ab7-0aa8-9cab-098ecff13874, and path: /stelmo/nwb/analysis/Banner20220103/Banner20220103_20DCM9WC1N.nwb\n",
      "[2023-11-08 09:18:50,962][WARNING]: Skipped checksum for file with hash: 22dd5759-8b47-ba4b-8ef2-319dbc4a289a, and path: /stelmo/nwb/analysis/Banner20220103/Banner20220103_SSDNGXZKC3.nwb\n",
      "WARNING:datajoint:Skipped checksum for file with hash: 22dd5759-8b47-ba4b-8ef2-319dbc4a289a, and path: /stelmo/nwb/analysis/Banner20220103/Banner20220103_SSDNGXZKC3.nwb\n",
      "[2023-11-08 09:18:51,339][WARNING]: Skipped checksum for file with hash: a4b91113-b8f2-eb17-77a8-7e3ba1ad3791, and path: /stelmo/nwb/analysis/Banner20220103/Banner20220103_R2A2U17LH1.nwb\n",
      "WARNING:datajoint:Skipped checksum for file with hash: a4b91113-b8f2-eb17-77a8-7e3ba1ad3791, and path: /stelmo/nwb/analysis/Banner20220103/Banner20220103_R2A2U17LH1.nwb\n",
      "[2023-11-08 09:18:51,724][WARNING]: Skipped checksum for file with hash: 1afa42fc-374b-fd78-a1a5-ed1017dc11f8, and path: /stelmo/nwb/analysis/Banner20220103/Banner20220103_XHEO65EBEJ.nwb\n",
      "WARNING:datajoint:Skipped checksum for file with hash: 1afa42fc-374b-fd78-a1a5-ed1017dc11f8, and path: /stelmo/nwb/analysis/Banner20220103/Banner20220103_XHEO65EBEJ.nwb\n",
      "[2023-11-08 09:18:52,133][WARNING]: Skipped checksum for file with hash: f56b288a-421d-0fcf-5e85-3eb9479e31e9, and path: /stelmo/nwb/analysis/Banner20220123/Banner20220123_ASZTC27FHQ.nwb\n",
      "WARNING:datajoint:Skipped checksum for file with hash: f56b288a-421d-0fcf-5e85-3eb9479e31e9, and path: /stelmo/nwb/analysis/Banner20220123/Banner20220123_ASZTC27FHQ.nwb\n",
      "[2023-11-08 09:18:52,538][WARNING]: Skipped checksum for file with hash: f9c9a596-6505-4ef8-d67b-6105c1e6306f, and path: /stelmo/nwb/analysis/Banner20220123/Banner20220123_WZEY72KQRU.nwb\n",
      "WARNING:datajoint:Skipped checksum for file with hash: f9c9a596-6505-4ef8-d67b-6105c1e6306f, and path: /stelmo/nwb/analysis/Banner20220123/Banner20220123_WZEY72KQRU.nwb\n",
      "[2023-11-08 09:18:52,918][WARNING]: Skipped checksum for file with hash: 6ca546e1-b124-3dae-2502-edd26c77148c, and path: /stelmo/nwb/analysis/Banner20220124/Banner20220124_IZHOFORG6N.nwb\n",
      "WARNING:datajoint:Skipped checksum for file with hash: 6ca546e1-b124-3dae-2502-edd26c77148c, and path: /stelmo/nwb/analysis/Banner20220124/Banner20220124_IZHOFORG6N.nwb\n",
      "[2023-11-08 09:18:53,297][WARNING]: Skipped checksum for file with hash: 996667f3-57db-561d-2300-2bf0b8532ca7, and path: /stelmo/nwb/analysis/Banner20220124/Banner20220124_U3E9D4LN5H.nwb\n",
      "WARNING:datajoint:Skipped checksum for file with hash: 996667f3-57db-561d-2300-2bf0b8532ca7, and path: /stelmo/nwb/analysis/Banner20220124/Banner20220124_U3E9D4LN5H.nwb\n",
      "[2023-11-08 09:18:53,683][WARNING]: Skipped checksum for file with hash: 30abe8fc-3ac2-9c0a-5507-f5772f8a075b, and path: /stelmo/nwb/analysis/Banner20220124/Banner20220124_1D7C9RNC1Q.nwb\n",
      "WARNING:datajoint:Skipped checksum for file with hash: 30abe8fc-3ac2-9c0a-5507-f5772f8a075b, and path: /stelmo/nwb/analysis/Banner20220124/Banner20220124_1D7C9RNC1Q.nwb\n",
      "[2023-11-08 09:18:54,075][WARNING]: Skipped checksum for file with hash: 88652318-4e50-a3b2-f466-045a4f8b65d0, and path: /stelmo/nwb/analysis/Banner20220124/Banner20220124_TDW695HS49.nwb\n",
      "WARNING:datajoint:Skipped checksum for file with hash: 88652318-4e50-a3b2-f466-045a4f8b65d0, and path: /stelmo/nwb/analysis/Banner20220124/Banner20220124_TDW695HS49.nwb\n",
      "[2023-11-08 09:18:54,462][WARNING]: Skipped checksum for file with hash: 8dd4f725-11a0-3718-eec0-1dedd2dcd2bc, and path: /stelmo/nwb/analysis/Banner20220126/Banner20220126_QSE5AH4SXE.nwb\n",
      "WARNING:datajoint:Skipped checksum for file with hash: 8dd4f725-11a0-3718-eec0-1dedd2dcd2bc, and path: /stelmo/nwb/analysis/Banner20220126/Banner20220126_QSE5AH4SXE.nwb\n",
      "[2023-11-08 09:18:54,829][WARNING]: Skipped checksum for file with hash: 6cab8d59-3f06-1a97-e71f-f49216d0129c, and path: /stelmo/nwb/analysis/Banner20220126/Banner20220126_DHFH1LQY5O.nwb\n",
      "WARNING:datajoint:Skipped checksum for file with hash: 6cab8d59-3f06-1a97-e71f-f49216d0129c, and path: /stelmo/nwb/analysis/Banner20220126/Banner20220126_DHFH1LQY5O.nwb\n",
      "[2023-11-08 09:18:55,209][WARNING]: Skipped checksum for file with hash: 24c7e799-bb96-0cbf-468a-e95ef27aaaf6, and path: /stelmo/nwb/analysis/Banner20220126/Banner20220126_P92NLVI5QK.nwb\n",
      "WARNING:datajoint:Skipped checksum for file with hash: 24c7e799-bb96-0cbf-468a-e95ef27aaaf6, and path: /stelmo/nwb/analysis/Banner20220126/Banner20220126_P92NLVI5QK.nwb\n",
      "[2023-11-08 09:18:55,596][WARNING]: Skipped checksum for file with hash: 26710ad5-0a5b-002f-3380-20fecd2ede3a, and path: /stelmo/nwb/analysis/Banner20220126/Banner20220126_L7DTK66XYC.nwb\n",
      "WARNING:datajoint:Skipped checksum for file with hash: 26710ad5-0a5b-002f-3380-20fecd2ede3a, and path: /stelmo/nwb/analysis/Banner20220126/Banner20220126_L7DTK66XYC.nwb\n",
      "[2023-11-08 09:18:55,992][WARNING]: Skipped checksum for file with hash: bd4075d4-5836-a9f7-8912-eea37b46ccb3, and path: /stelmo/nwb/analysis/Banner20220126/Banner20220126_MQMUESZIWA.nwb\n",
      "WARNING:datajoint:Skipped checksum for file with hash: bd4075d4-5836-a9f7-8912-eea37b46ccb3, and path: /stelmo/nwb/analysis/Banner20220126/Banner20220126_MQMUESZIWA.nwb\n",
      "[2023-11-08 09:18:56,431][WARNING]: Skipped checksum for file with hash: a8368913-6b58-c6df-c2c9-113ec4e50263, and path: /stelmo/nwb/analysis/Banner20220126/Banner20220126_AALVT2ANY1.nwb\n",
      "WARNING:datajoint:Skipped checksum for file with hash: a8368913-6b58-c6df-c2c9-113ec4e50263, and path: /stelmo/nwb/analysis/Banner20220126/Banner20220126_AALVT2ANY1.nwb\n",
      "[2023-11-08 09:18:56,883][WARNING]: Skipped checksum for file with hash: c801ec93-e6eb-9b40-526a-8359d397bbff, and path: /stelmo/nwb/analysis/Bilbo20230724/Bilbo20230724_ET6CVP9K6E.nwb\n",
      "WARNING:datajoint:Skipped checksum for file with hash: c801ec93-e6eb-9b40-526a-8359d397bbff, and path: /stelmo/nwb/analysis/Bilbo20230724/Bilbo20230724_ET6CVP9K6E.nwb\n",
      "[2023-11-08 09:18:57,298][WARNING]: Skipped checksum for file with hash: 336178fc-003b-6fbe-9ce8-3011deb6e94c, and path: /stelmo/nwb/analysis/Bilbo20230724/Bilbo20230724_2U8CR1HOB5.nwb\n",
      "WARNING:datajoint:Skipped checksum for file with hash: 336178fc-003b-6fbe-9ce8-3011deb6e94c, and path: /stelmo/nwb/analysis/Bilbo20230724/Bilbo20230724_2U8CR1HOB5.nwb\n",
      "[2023-11-08 09:18:57,703][WARNING]: Skipped checksum for file with hash: 8314ac33-21c4-d6e4-832a-93643ab2a876, and path: /stelmo/nwb/analysis/Bilbo20230724/Bilbo20230724_D6H1ZCCZ1E.nwb\n",
      "WARNING:datajoint:Skipped checksum for file with hash: 8314ac33-21c4-d6e4-832a-93643ab2a876, and path: /stelmo/nwb/analysis/Bilbo20230724/Bilbo20230724_D6H1ZCCZ1E.nwb\n",
      "[2023-11-08 09:18:58,091][WARNING]: Skipped checksum for file with hash: 2e25a7ae-83e2-6899-7452-753224b15fb6, and path: /stelmo/nwb/analysis/Bilbo20230724/Bilbo20230724_D8QN9TLCVP.nwb\n",
      "WARNING:datajoint:Skipped checksum for file with hash: 2e25a7ae-83e2-6899-7452-753224b15fb6, and path: /stelmo/nwb/analysis/Bilbo20230724/Bilbo20230724_D8QN9TLCVP.nwb\n",
      "[2023-11-08 09:18:58,453][WARNING]: Skipped checksum for file with hash: f658fa54-ca93-e721-854d-28c2703eeef9, and path: /stelmo/nwb/analysis/Bilbo20230724/Bilbo20230724_EOIA1A9PV8.nwb\n",
      "WARNING:datajoint:Skipped checksum for file with hash: f658fa54-ca93-e721-854d-28c2703eeef9, and path: /stelmo/nwb/analysis/Bilbo20230724/Bilbo20230724_EOIA1A9PV8.nwb\n",
      "[2023-11-08 09:18:58,811][WARNING]: Skipped checksum for file with hash: 72621d52-94fe-6ec0-08a6-485727d984bb, and path: /stelmo/nwb/analysis/Bilbo20230725/Bilbo20230725_VZLYWWYFCW.nwb\n",
      "WARNING:datajoint:Skipped checksum for file with hash: 72621d52-94fe-6ec0-08a6-485727d984bb, and path: /stelmo/nwb/analysis/Bilbo20230725/Bilbo20230725_VZLYWWYFCW.nwb\n",
      "[2023-11-08 09:18:59,183][WARNING]: Skipped checksum for file with hash: 4b182e31-623b-083e-449b-26479ad184b7, and path: /stelmo/nwb/analysis/Bilbo20230725/Bilbo20230725_B9VKS9RBM6.nwb\n",
      "WARNING:datajoint:Skipped checksum for file with hash: 4b182e31-623b-083e-449b-26479ad184b7, and path: /stelmo/nwb/analysis/Bilbo20230725/Bilbo20230725_B9VKS9RBM6.nwb\n",
      "[2023-11-08 09:18:59,540][WARNING]: Skipped checksum for file with hash: 8a6fce0e-f663-6864-ad4e-9616049f9574, and path: /stelmo/nwb/analysis/Bilbo20230726/Bilbo20230726_EE4E9RVFWI.nwb\n",
      "WARNING:datajoint:Skipped checksum for file with hash: 8a6fce0e-f663-6864-ad4e-9616049f9574, and path: /stelmo/nwb/analysis/Bilbo20230726/Bilbo20230726_EE4E9RVFWI.nwb\n",
      "[2023-11-08 09:18:59,906][WARNING]: Skipped checksum for file with hash: 176db82d-3daa-2686-002b-8ddc3e396de8, and path: /stelmo/nwb/analysis/Frodo20230808/Frodo20230808_80S5ZTW19N.nwb\n",
      "WARNING:datajoint:Skipped checksum for file with hash: 176db82d-3daa-2686-002b-8ddc3e396de8, and path: /stelmo/nwb/analysis/Frodo20230808/Frodo20230808_80S5ZTW19N.nwb\n",
      "[2023-11-08 09:19:00,270][WARNING]: Skipped checksum for file with hash: 69e1155b-5ce8-5f1a-f090-16815eef9435, and path: /stelmo/nwb/analysis/Frodo20230808/Frodo20230808_TW9XTPNDLF.nwb\n",
      "WARNING:datajoint:Skipped checksum for file with hash: 69e1155b-5ce8-5f1a-f090-16815eef9435, and path: /stelmo/nwb/analysis/Frodo20230808/Frodo20230808_TW9XTPNDLF.nwb\n",
      "[2023-11-08 09:19:00,644][WARNING]: Skipped checksum for file with hash: efe77dd0-ec84-3e2a-b76f-2db1abfd6b68, and path: /stelmo/nwb/analysis/Frodo20230808/Frodo20230808_3TUHXR92VQ.nwb\n",
      "WARNING:datajoint:Skipped checksum for file with hash: efe77dd0-ec84-3e2a-b76f-2db1abfd6b68, and path: /stelmo/nwb/analysis/Frodo20230808/Frodo20230808_3TUHXR92VQ.nwb\n",
      "[2023-11-08 09:19:01,024][WARNING]: Skipped checksum for file with hash: f16c467d-7c86-0af5-3fee-d7787855911b, and path: /stelmo/nwb/analysis/Frodo20230808/Frodo20230808_XDBNK6FL9W.nwb\n",
      "WARNING:datajoint:Skipped checksum for file with hash: f16c467d-7c86-0af5-3fee-d7787855911b, and path: /stelmo/nwb/analysis/Frodo20230808/Frodo20230808_XDBNK6FL9W.nwb\n",
      "[2023-11-08 09:19:01,402][WARNING]: Skipped checksum for file with hash: 19dae7c9-a2a3-53e7-92a9-9f6529adcb5e, and path: /stelmo/nwb/analysis/Frodo20230808/Frodo20230808_S54JHWBLO0.nwb\n",
      "WARNING:datajoint:Skipped checksum for file with hash: 19dae7c9-a2a3-53e7-92a9-9f6529adcb5e, and path: /stelmo/nwb/analysis/Frodo20230808/Frodo20230808_S54JHWBLO0.nwb\n",
      "[2023-11-08 09:19:01,794][WARNING]: Skipped checksum for file with hash: 1dbff963-9ba7-3014-3a43-fec29d480df2, and path: /stelmo/nwb/analysis/Frodo20230809/Frodo20230809_239VGF5BXR.nwb\n",
      "WARNING:datajoint:Skipped checksum for file with hash: 1dbff963-9ba7-3014-3a43-fec29d480df2, and path: /stelmo/nwb/analysis/Frodo20230809/Frodo20230809_239VGF5BXR.nwb\n",
      "[2023-11-08 09:19:02,187][WARNING]: Skipped checksum for file with hash: fc463801-9ee2-2e45-3b08-dfdbbf664779, and path: /stelmo/nwb/analysis/Frodo20230809/Frodo20230809_5HFAB1YUN0.nwb\n",
      "WARNING:datajoint:Skipped checksum for file with hash: fc463801-9ee2-2e45-3b08-dfdbbf664779, and path: /stelmo/nwb/analysis/Frodo20230809/Frodo20230809_5HFAB1YUN0.nwb\n",
      "[2023-11-08 09:19:02,578][WARNING]: Skipped checksum for file with hash: 4085d45c-2c19-4302-0e94-5dd944abc674, and path: /stelmo/nwb/analysis/Frodo20230809/Frodo20230809_KSOL7AQAXS.nwb\n",
      "WARNING:datajoint:Skipped checksum for file with hash: 4085d45c-2c19-4302-0e94-5dd944abc674, and path: /stelmo/nwb/analysis/Frodo20230809/Frodo20230809_KSOL7AQAXS.nwb\n",
      "[2023-11-08 09:19:02,945][WARNING]: Skipped checksum for file with hash: 8462ca87-01da-6c12-7e86-6689fc334c85, and path: /stelmo/nwb/analysis/Frodo20230809/Frodo20230809_SQFJEBNAJK.nwb\n",
      "WARNING:datajoint:Skipped checksum for file with hash: 8462ca87-01da-6c12-7e86-6689fc334c85, and path: /stelmo/nwb/analysis/Frodo20230809/Frodo20230809_SQFJEBNAJK.nwb\n",
      "[2023-11-08 09:19:03,320][WARNING]: Skipped checksum for file with hash: b5c7e644-9f38-c8e8-adf4-fc84378d2be1, and path: /stelmo/nwb/analysis/Frodo20230809/Frodo20230809_RDBSPN6OF1.nwb\n",
      "WARNING:datajoint:Skipped checksum for file with hash: b5c7e644-9f38-c8e8-adf4-fc84378d2be1, and path: /stelmo/nwb/analysis/Frodo20230809/Frodo20230809_RDBSPN6OF1.nwb\n",
      "[2023-11-08 09:19:03,648][WARNING]: Skipped checksum for file with hash: d10c3b56-7e1c-ea53-84df-1d73af1eabf1, and path: /stelmo/nwb/analysis/Frodo20230810/Frodo20230810_DU55ZCDCBY.nwb\n",
      "WARNING:datajoint:Skipped checksum for file with hash: d10c3b56-7e1c-ea53-84df-1d73af1eabf1, and path: /stelmo/nwb/analysis/Frodo20230810/Frodo20230810_DU55ZCDCBY.nwb\n",
      "[2023-11-08 09:19:03,966][WARNING]: Skipped checksum for file with hash: 9703c4f4-5316-f7ad-e3b0-1e9492dc7948, and path: /stelmo/nwb/analysis/Frodo20230810/Frodo20230810_A5YZ0L6MGE.nwb\n",
      "WARNING:datajoint:Skipped checksum for file with hash: 9703c4f4-5316-f7ad-e3b0-1e9492dc7948, and path: /stelmo/nwb/analysis/Frodo20230810/Frodo20230810_A5YZ0L6MGE.nwb\n",
      "[2023-11-08 09:19:04,265][WARNING]: Skipped checksum for file with hash: d1185c05-4c6a-25e9-b729-021e1df6a45f, and path: /stelmo/nwb/analysis/Frodo20230810/Frodo20230810_JU2W0PUSJM.nwb\n",
      "WARNING:datajoint:Skipped checksum for file with hash: d1185c05-4c6a-25e9-b729-021e1df6a45f, and path: /stelmo/nwb/analysis/Frodo20230810/Frodo20230810_JU2W0PUSJM.nwb\n",
      "[2023-11-08 09:19:04,592][WARNING]: Skipped checksum for file with hash: 18c46df9-e516-57b0-f67f-966cda876d6e, and path: /stelmo/nwb/analysis/Frodo20230810/Frodo20230810_I71IKLXV7W.nwb\n",
      "WARNING:datajoint:Skipped checksum for file with hash: 18c46df9-e516-57b0-f67f-966cda876d6e, and path: /stelmo/nwb/analysis/Frodo20230810/Frodo20230810_I71IKLXV7W.nwb\n",
      "[2023-11-08 09:19:04,892][WARNING]: Skipped checksum for file with hash: 1c9c4ce8-4fe9-a884-fd4c-0089d28c9c54, and path: /stelmo/nwb/analysis/Odins20220107/Odins20220107_Q35MGROIAG.nwb\n",
      "WARNING:datajoint:Skipped checksum for file with hash: 1c9c4ce8-4fe9-a884-fd4c-0089d28c9c54, and path: /stelmo/nwb/analysis/Odins20220107/Odins20220107_Q35MGROIAG.nwb\n",
      "[2023-11-08 09:19:05,228][WARNING]: Skipped checksum for file with hash: 7fd6f913-2d77-de03-3b60-839751487af4, and path: /stelmo/nwb/analysis/Odins20220107/Odins20220107_493DSUK8YZ.nwb\n",
      "WARNING:datajoint:Skipped checksum for file with hash: 7fd6f913-2d77-de03-3b60-839751487af4, and path: /stelmo/nwb/analysis/Odins20220107/Odins20220107_493DSUK8YZ.nwb\n",
      "[2023-11-08 09:19:05,554][WARNING]: Skipped checksum for file with hash: dada3187-9d17-0413-8c33-c448408516cd, and path: /stelmo/nwb/analysis/Odins20220107/Odins20220107_U51JZD4TJE.nwb\n",
      "WARNING:datajoint:Skipped checksum for file with hash: dada3187-9d17-0413-8c33-c448408516cd, and path: /stelmo/nwb/analysis/Odins20220107/Odins20220107_U51JZD4TJE.nwb\n",
      "[2023-11-08 09:19:05,871][WARNING]: Skipped checksum for file with hash: dac6bd77-c654-1b54-443b-865e831a7120, and path: /stelmo/nwb/analysis/Odins20220107/Odins20220107_MZMCT3NELS.nwb\n",
      "WARNING:datajoint:Skipped checksum for file with hash: dac6bd77-c654-1b54-443b-865e831a7120, and path: /stelmo/nwb/analysis/Odins20220107/Odins20220107_MZMCT3NELS.nwb\n",
      "[2023-11-08 09:19:06,216][WARNING]: Skipped checksum for file with hash: bd0283f7-a72d-5d60-dfba-54bb791230cc, and path: /stelmo/nwb/analysis/Odins20220107/Odins20220107_KKB50J23NB.nwb\n",
      "WARNING:datajoint:Skipped checksum for file with hash: bd0283f7-a72d-5d60-dfba-54bb791230cc, and path: /stelmo/nwb/analysis/Odins20220107/Odins20220107_KKB50J23NB.nwb\n",
      "[2023-11-08 09:19:06,527][WARNING]: Skipped checksum for file with hash: 107d6017-4c8d-4f6b-76e3-cc73f9d3dc15, and path: /stelmo/nwb/analysis/Odins20220110/Odins20220110_2YO12TN1X6.nwb\n",
      "WARNING:datajoint:Skipped checksum for file with hash: 107d6017-4c8d-4f6b-76e3-cc73f9d3dc15, and path: /stelmo/nwb/analysis/Odins20220110/Odins20220110_2YO12TN1X6.nwb\n",
      "[2023-11-08 09:19:06,836][WARNING]: Skipped checksum for file with hash: 453a3050-b651-92df-96ec-1afb45554540, and path: /stelmo/nwb/analysis/Odins20220110/Odins20220110_1LM341GH8P.nwb\n",
      "WARNING:datajoint:Skipped checksum for file with hash: 453a3050-b651-92df-96ec-1afb45554540, and path: /stelmo/nwb/analysis/Odins20220110/Odins20220110_1LM341GH8P.nwb\n",
      "[2023-11-08 09:19:07,164][WARNING]: Skipped checksum for file with hash: f806c3d1-f1b4-338d-20b5-e71323a4df01, and path: /stelmo/nwb/analysis/Odins20220110/Odins20220110_UERO20WG56.nwb\n",
      "WARNING:datajoint:Skipped checksum for file with hash: f806c3d1-f1b4-338d-20b5-e71323a4df01, and path: /stelmo/nwb/analysis/Odins20220110/Odins20220110_UERO20WG56.nwb\n",
      "[2023-11-08 09:19:07,490][WARNING]: Skipped checksum for file with hash: 8cdbc1ca-1cfc-f1cf-c9ad-24bfdaea0b93, and path: /stelmo/nwb/analysis/Odins20220110/Odins20220110_URY5PA5F6L.nwb\n",
      "WARNING:datajoint:Skipped checksum for file with hash: 8cdbc1ca-1cfc-f1cf-c9ad-24bfdaea0b93, and path: /stelmo/nwb/analysis/Odins20220110/Odins20220110_URY5PA5F6L.nwb\n",
      "[2023-11-08 09:19:07,822][WARNING]: Skipped checksum for file with hash: 0880a3e6-d997-7d36-4e84-f79012621a68, and path: /stelmo/nwb/analysis/Odins20220110/Odins20220110_PMGAMD53TV.nwb\n",
      "WARNING:datajoint:Skipped checksum for file with hash: 0880a3e6-d997-7d36-4e84-f79012621a68, and path: /stelmo/nwb/analysis/Odins20220110/Odins20220110_PMGAMD53TV.nwb\n",
      "[2023-11-08 09:19:08,144][WARNING]: Skipped checksum for file with hash: c6ceb4e9-37c1-a164-e47a-c26b0ed6c328, and path: /stelmo/nwb/analysis/Odins20220111/Odins20220111_70AT31ASKL.nwb\n",
      "WARNING:datajoint:Skipped checksum for file with hash: c6ceb4e9-37c1-a164-e47a-c26b0ed6c328, and path: /stelmo/nwb/analysis/Odins20220111/Odins20220111_70AT31ASKL.nwb\n",
      "[2023-11-08 09:19:08,471][WARNING]: Skipped checksum for file with hash: fd59ee44-31bd-08a6-5066-aac52c9eefc2, and path: /stelmo/nwb/analysis/Odins20220111/Odins20220111_7NCCCETC4D.nwb\n",
      "WARNING:datajoint:Skipped checksum for file with hash: fd59ee44-31bd-08a6-5066-aac52c9eefc2, and path: /stelmo/nwb/analysis/Odins20220111/Odins20220111_7NCCCETC4D.nwb\n",
      "[2023-11-08 09:19:08,807][WARNING]: Skipped checksum for file with hash: 9236ed60-059a-8797-81d3-37d6c609dcb3, and path: /stelmo/nwb/analysis/Odins20220111/Odins20220111_S8BGOUTDYU.nwb\n",
      "WARNING:datajoint:Skipped checksum for file with hash: 9236ed60-059a-8797-81d3-37d6c609dcb3, and path: /stelmo/nwb/analysis/Odins20220111/Odins20220111_S8BGOUTDYU.nwb\n",
      "[2023-11-08 09:19:09,129][WARNING]: Skipped checksum for file with hash: 353e44e6-4917-5f6a-1cce-388b57ae5efc, and path: /stelmo/nwb/analysis/Odins20220111/Odins20220111_HBHY9QEQN5.nwb\n",
      "WARNING:datajoint:Skipped checksum for file with hash: 353e44e6-4917-5f6a-1cce-388b57ae5efc, and path: /stelmo/nwb/analysis/Odins20220111/Odins20220111_HBHY9QEQN5.nwb\n",
      "[2023-11-08 09:19:09,450][WARNING]: Skipped checksum for file with hash: 53258412-b3af-5ae3-94f2-0b62db68dbfe, and path: /stelmo/nwb/analysis/Odins20220111/Odins20220111_N67FLQHROE.nwb\n",
      "WARNING:datajoint:Skipped checksum for file with hash: 53258412-b3af-5ae3-94f2-0b62db68dbfe, and path: /stelmo/nwb/analysis/Odins20220111/Odins20220111_N67FLQHROE.nwb\n",
      "[2023-11-08 09:19:09,781][WARNING]: Skipped checksum for file with hash: 53a273f5-5153-1eaa-58df-4f400ddb5783, and path: /stelmo/nwb/analysis/Odins20220113/Odins20220113_UKMXRX7BRK.nwb\n",
      "WARNING:datajoint:Skipped checksum for file with hash: 53a273f5-5153-1eaa-58df-4f400ddb5783, and path: /stelmo/nwb/analysis/Odins20220113/Odins20220113_UKMXRX7BRK.nwb\n",
      "[2023-11-08 09:19:10,107][WARNING]: Skipped checksum for file with hash: fb53d9e9-cc31-fe3b-4d96-f268985b0fb1, and path: /stelmo/nwb/analysis/Odins20220113/Odins20220113_IF3A7FS6OZ.nwb\n",
      "WARNING:datajoint:Skipped checksum for file with hash: fb53d9e9-cc31-fe3b-4d96-f268985b0fb1, and path: /stelmo/nwb/analysis/Odins20220113/Odins20220113_IF3A7FS6OZ.nwb\n",
      "[2023-11-08 09:19:10,435][WARNING]: Skipped checksum for file with hash: 6917ac03-b3eb-22cb-c409-3d0114edd2ff, and path: /stelmo/nwb/analysis/Odins20220113/Odins20220113_KWOOFB5GMN.nwb\n",
      "WARNING:datajoint:Skipped checksum for file with hash: 6917ac03-b3eb-22cb-c409-3d0114edd2ff, and path: /stelmo/nwb/analysis/Odins20220113/Odins20220113_KWOOFB5GMN.nwb\n",
      "[2023-11-08 09:19:10,746][WARNING]: Skipped checksum for file with hash: d6b4120f-a4c2-5fb3-5042-aa6f7eb74181, and path: /stelmo/nwb/analysis/Odins20220113/Odins20220113_XXPBP83E0L.nwb\n",
      "WARNING:datajoint:Skipped checksum for file with hash: d6b4120f-a4c2-5fb3-5042-aa6f7eb74181, and path: /stelmo/nwb/analysis/Odins20220113/Odins20220113_XXPBP83E0L.nwb\n",
      "[2023-11-08 09:19:11,060][WARNING]: Skipped checksum for file with hash: e2f7f92a-1f06-011a-deef-34b703313329, and path: /stelmo/nwb/analysis/Odins20220113/Odins20220113_X9192YOYXJ.nwb\n",
      "WARNING:datajoint:Skipped checksum for file with hash: e2f7f92a-1f06-011a-deef-34b703313329, and path: /stelmo/nwb/analysis/Odins20220113/Odins20220113_X9192YOYXJ.nwb\n",
      "[2023-11-08 09:19:11,380][WARNING]: Skipped checksum for file with hash: 97936803-34f0-17e5-200b-9312162bc2d2, and path: /stelmo/nwb/analysis/Odins20220118/Odins20220118_M3XOYQC81L.nwb\n",
      "WARNING:datajoint:Skipped checksum for file with hash: 97936803-34f0-17e5-200b-9312162bc2d2, and path: /stelmo/nwb/analysis/Odins20220118/Odins20220118_M3XOYQC81L.nwb\n",
      "[2023-11-08 09:19:11,705][WARNING]: Skipped checksum for file with hash: 70e80762-6d65-840f-d89d-39e3162b9e56, and path: /stelmo/nwb/analysis/Odins20220118/Odins20220118_GITXJAV9HC.nwb\n",
      "WARNING:datajoint:Skipped checksum for file with hash: 70e80762-6d65-840f-d89d-39e3162b9e56, and path: /stelmo/nwb/analysis/Odins20220118/Odins20220118_GITXJAV9HC.nwb\n",
      "[2023-11-08 09:19:12,078][WARNING]: Skipped checksum for file with hash: 866f75d4-de66-7056-0bfe-b2197f2dc90a, and path: /stelmo/nwb/analysis/Odins20220118/Odins20220118_BS79Z8MKE0.nwb\n",
      "WARNING:datajoint:Skipped checksum for file with hash: 866f75d4-de66-7056-0bfe-b2197f2dc90a, and path: /stelmo/nwb/analysis/Odins20220118/Odins20220118_BS79Z8MKE0.nwb\n",
      "[2023-11-08 09:19:12,400][WARNING]: Skipped checksum for file with hash: b11e5580-3b0c-2a48-a844-180e730df5a4, and path: /stelmo/nwb/analysis/Odins20220118/Odins20220118_HLHD4NSRD7.nwb\n",
      "WARNING:datajoint:Skipped checksum for file with hash: b11e5580-3b0c-2a48-a844-180e730df5a4, and path: /stelmo/nwb/analysis/Odins20220118/Odins20220118_HLHD4NSRD7.nwb\n",
      "[2023-11-08 09:19:12,731][WARNING]: Skipped checksum for file with hash: 7bde75c4-d5e9-82f8-9ccc-1f38d73a3251, and path: /stelmo/nwb/analysis/Odins20220118/Odins20220118_6J4BP12CWI.nwb\n",
      "WARNING:datajoint:Skipped checksum for file with hash: 7bde75c4-d5e9-82f8-9ccc-1f38d73a3251, and path: /stelmo/nwb/analysis/Odins20220118/Odins20220118_6J4BP12CWI.nwb\n",
      "[2023-11-08 09:19:13,131][WARNING]: Skipped checksum for file with hash: bc56726e-eff4-a014-6972-561d667affc0, and path: /stelmo/nwb/analysis/Odins20220119/Odins20220119_174TXSMHRA.nwb\n",
      "WARNING:datajoint:Skipped checksum for file with hash: bc56726e-eff4-a014-6972-561d667affc0, and path: /stelmo/nwb/analysis/Odins20220119/Odins20220119_174TXSMHRA.nwb\n",
      "[2023-11-08 09:19:13,512][WARNING]: Skipped checksum for file with hash: f90f7aa1-ba69-8a16-e32d-5f73ddd51591, and path: /stelmo/nwb/analysis/Odins20220119/Odins20220119_S0EEASTSKN.nwb\n",
      "WARNING:datajoint:Skipped checksum for file with hash: f90f7aa1-ba69-8a16-e32d-5f73ddd51591, and path: /stelmo/nwb/analysis/Odins20220119/Odins20220119_S0EEASTSKN.nwb\n",
      "[2023-11-08 09:19:13,911][WARNING]: Skipped checksum for file with hash: 4582fc68-eefa-fd1a-8823-1c75f8bba949, and path: /stelmo/nwb/analysis/Odins20220119/Odins20220119_GBA90LL2NZ.nwb\n",
      "WARNING:datajoint:Skipped checksum for file with hash: 4582fc68-eefa-fd1a-8823-1c75f8bba949, and path: /stelmo/nwb/analysis/Odins20220119/Odins20220119_GBA90LL2NZ.nwb\n",
      "[2023-11-08 09:19:14,293][WARNING]: Skipped checksum for file with hash: 83b8119b-8049-0159-c8a5-b8010841e3fb, and path: /stelmo/nwb/analysis/Odins20220119/Odins20220119_BL6QY7K0XC.nwb\n",
      "WARNING:datajoint:Skipped checksum for file with hash: 83b8119b-8049-0159-c8a5-b8010841e3fb, and path: /stelmo/nwb/analysis/Odins20220119/Odins20220119_BL6QY7K0XC.nwb\n",
      "[2023-11-08 09:19:14,674][WARNING]: Skipped checksum for file with hash: 3d18aa67-aa15-908e-eba6-fd48f1f21fbb, and path: /stelmo/nwb/analysis/Odins20220119/Odins20220119_CWLQDGB97O.nwb\n",
      "WARNING:datajoint:Skipped checksum for file with hash: 3d18aa67-aa15-908e-eba6-fd48f1f21fbb, and path: /stelmo/nwb/analysis/Odins20220119/Odins20220119_CWLQDGB97O.nwb\n",
      "[2023-11-08 09:19:15,051][WARNING]: Skipped checksum for file with hash: 8613664f-62df-9d32-605d-e3407f778ce1, and path: /stelmo/nwb/analysis/Odins20220119/Odins20220119_KZJ5TNEAH7.nwb\n",
      "WARNING:datajoint:Skipped checksum for file with hash: 8613664f-62df-9d32-605d-e3407f778ce1, and path: /stelmo/nwb/analysis/Odins20220119/Odins20220119_KZJ5TNEAH7.nwb\n",
      "[2023-11-08 09:19:15,441][WARNING]: Skipped checksum for file with hash: 400912c2-c1e7-7ff2-02c0-68d6746ff4f5, and path: /stelmo/nwb/analysis/Odins20220119/Odins20220119_38ZJQ3W6M7.nwb\n",
      "WARNING:datajoint:Skipped checksum for file with hash: 400912c2-c1e7-7ff2-02c0-68d6746ff4f5, and path: /stelmo/nwb/analysis/Odins20220119/Odins20220119_38ZJQ3W6M7.nwb\n",
      "[2023-11-08 09:19:15,841][WARNING]: Skipped checksum for file with hash: ad1f3a29-865d-b56f-a93e-3755ccd98565, and path: /stelmo/nwb/analysis/Odins20220119/Odins20220119_UO8KRSW6B4.nwb\n",
      "WARNING:datajoint:Skipped checksum for file with hash: ad1f3a29-865d-b56f-a93e-3755ccd98565, and path: /stelmo/nwb/analysis/Odins20220119/Odins20220119_UO8KRSW6B4.nwb\n",
      "[2023-11-08 09:19:16,233][WARNING]: Skipped checksum for file with hash: 35a154a7-4b32-6aaf-7a92-fd7a7450e562, and path: /stelmo/nwb/analysis/Odins20220119/Odins20220119_EBVGYZXU87.nwb\n",
      "WARNING:datajoint:Skipped checksum for file with hash: 35a154a7-4b32-6aaf-7a92-fd7a7450e562, and path: /stelmo/nwb/analysis/Odins20220119/Odins20220119_EBVGYZXU87.nwb\n",
      "[2023-11-08 09:19:16,615][WARNING]: Skipped checksum for file with hash: f8f4f7ef-2c42-6350-4d31-996e3310d945, and path: /stelmo/nwb/analysis/Odins20220119/Odins20220119_WUXLN3JJWT.nwb\n",
      "WARNING:datajoint:Skipped checksum for file with hash: f8f4f7ef-2c42-6350-4d31-996e3310d945, and path: /stelmo/nwb/analysis/Odins20220119/Odins20220119_WUXLN3JJWT.nwb\n",
      "[2023-11-08 09:19:16,987][WARNING]: Skipped checksum for file with hash: b49ce95d-584e-ccf0-ce34-693cb0dd12c2, and path: /stelmo/nwb/analysis/Odins20220123/Odins20220123_5GNRY1JJ18.nwb\n",
      "WARNING:datajoint:Skipped checksum for file with hash: b49ce95d-584e-ccf0-ce34-693cb0dd12c2, and path: /stelmo/nwb/analysis/Odins20220123/Odins20220123_5GNRY1JJ18.nwb\n",
      "[2023-11-08 09:19:17,377][WARNING]: Skipped checksum for file with hash: 1994ab43-6248-8967-879a-75ed99f449aa, and path: /stelmo/nwb/analysis/Odins20220123/Odins20220123_IU9UXB04UX.nwb\n",
      "WARNING:datajoint:Skipped checksum for file with hash: 1994ab43-6248-8967-879a-75ed99f449aa, and path: /stelmo/nwb/analysis/Odins20220123/Odins20220123_IU9UXB04UX.nwb\n",
      "[2023-11-08 09:19:17,780][WARNING]: Skipped checksum for file with hash: 7100f0e5-d3bb-3e41-30fd-d7fa18b0eba3, and path: /stelmo/nwb/analysis/Odins20220124/Odins20220124_6GVMODQ4UT.nwb\n",
      "WARNING:datajoint:Skipped checksum for file with hash: 7100f0e5-d3bb-3e41-30fd-d7fa18b0eba3, and path: /stelmo/nwb/analysis/Odins20220124/Odins20220124_6GVMODQ4UT.nwb\n",
      "[2023-11-08 09:19:18,173][WARNING]: Skipped checksum for file with hash: a3ebafb2-ea78-d772-a9c0-853b6fa44e60, and path: /stelmo/nwb/analysis/Odins20220124/Odins20220124_4IMFSKM31U.nwb\n",
      "WARNING:datajoint:Skipped checksum for file with hash: a3ebafb2-ea78-d772-a9c0-853b6fa44e60, and path: /stelmo/nwb/analysis/Odins20220124/Odins20220124_4IMFSKM31U.nwb\n",
      "[2023-11-08 09:19:18,568][WARNING]: Skipped checksum for file with hash: 5bfec0ce-9f45-aea6-df7d-3bd710bd819f, and path: /stelmo/nwb/analysis/Odins20220124/Odins20220124_HFV9OJOO1E.nwb\n",
      "WARNING:datajoint:Skipped checksum for file with hash: 5bfec0ce-9f45-aea6-df7d-3bd710bd819f, and path: /stelmo/nwb/analysis/Odins20220124/Odins20220124_HFV9OJOO1E.nwb\n",
      "[2023-11-08 09:19:19,005][WARNING]: Skipped checksum for file with hash: 4ca4af7b-ea93-5d92-a363-2f8361df24a7, and path: /stelmo/nwb/analysis/Odins20220124/Odins20220124_PKBKCTD0S2.nwb\n",
      "WARNING:datajoint:Skipped checksum for file with hash: 4ca4af7b-ea93-5d92-a363-2f8361df24a7, and path: /stelmo/nwb/analysis/Odins20220124/Odins20220124_PKBKCTD0S2.nwb\n",
      "[2023-11-08 09:19:19,425][WARNING]: Skipped checksum for file with hash: f3cc0111-cb88-45c4-5b1b-0fa01f6beaac, and path: /stelmo/nwb/analysis/Olive20220627/Olive20220627_DA8MGZ3IBE.nwb\n",
      "WARNING:datajoint:Skipped checksum for file with hash: f3cc0111-cb88-45c4-5b1b-0fa01f6beaac, and path: /stelmo/nwb/analysis/Olive20220627/Olive20220627_DA8MGZ3IBE.nwb\n",
      "[2023-11-08 09:19:19,834][WARNING]: Skipped checksum for file with hash: 7a02d315-6b0d-6f2e-97a3-3471a9483734, and path: /stelmo/nwb/analysis/Olive20220627/Olive20220627_4TIQY9D8H5.nwb\n",
      "WARNING:datajoint:Skipped checksum for file with hash: 7a02d315-6b0d-6f2e-97a3-3471a9483734, and path: /stelmo/nwb/analysis/Olive20220627/Olive20220627_4TIQY9D8H5.nwb\n",
      "[2023-11-08 09:19:20,247][WARNING]: Skipped checksum for file with hash: 56aa4656-1f88-1773-55a4-be1042eddcdb, and path: /stelmo/nwb/analysis/Olive20220627/Olive20220627_S92RHGIW2S.nwb\n",
      "WARNING:datajoint:Skipped checksum for file with hash: 56aa4656-1f88-1773-55a4-be1042eddcdb, and path: /stelmo/nwb/analysis/Olive20220627/Olive20220627_S92RHGIW2S.nwb\n",
      "[2023-11-08 09:19:20,651][WARNING]: Skipped checksum for file with hash: d1cc5e95-0965-afa8-79fa-8ae37b6c7721, and path: /stelmo/nwb/analysis/Olive20220627/Olive20220627_UYA6XM6CJV.nwb\n",
      "WARNING:datajoint:Skipped checksum for file with hash: d1cc5e95-0965-afa8-79fa-8ae37b6c7721, and path: /stelmo/nwb/analysis/Olive20220627/Olive20220627_UYA6XM6CJV.nwb\n",
      "[2023-11-08 09:19:21,504][WARNING]: Skipped checksum for file with hash: abbb5110-1b1e-e711-3e3d-40e94ad3be69, and path: /stelmo/nwb/analysis/Olive20220628/Olive20220628_3ZA3NYOHQI.nwb\n",
      "WARNING:datajoint:Skipped checksum for file with hash: abbb5110-1b1e-e711-3e3d-40e94ad3be69, and path: /stelmo/nwb/analysis/Olive20220628/Olive20220628_3ZA3NYOHQI.nwb\n",
      "[2023-11-08 09:19:22,369][WARNING]: Skipped checksum for file with hash: abbb5110-1b1e-e711-3e3d-40e94ad3be69, and path: /stelmo/nwb/analysis/Olive20220628/Olive20220628_3ZA3NYOHQI.nwb\n",
      "WARNING:datajoint:Skipped checksum for file with hash: abbb5110-1b1e-e711-3e3d-40e94ad3be69, and path: /stelmo/nwb/analysis/Olive20220628/Olive20220628_3ZA3NYOHQI.nwb\n"
     ]
    },
    {
     "name": "stdout",
     "output_type": "stream",
     "text": [
      "Writing new NWB file Olive20220628_HOHNUWIJFV.nwb\n"
     ]
    },
    {
     "name": "stderr",
     "output_type": "stream",
     "text": [
      "[2023-11-08 09:19:31,808][WARNING]: Skipped checksum for file with hash: 82309055-c69e-e1d2-0f42-3f528c8c24a0, and path: /stelmo/nwb/analysis/Olive20220628/Olive20220628_DERT5IYUCB.nwb\n",
      "WARNING:datajoint:Skipped checksum for file with hash: 82309055-c69e-e1d2-0f42-3f528c8c24a0, and path: /stelmo/nwb/analysis/Olive20220628/Olive20220628_DERT5IYUCB.nwb\n",
      "[2023-11-08 09:19:32,582][WARNING]: Skipped checksum for file with hash: 82309055-c69e-e1d2-0f42-3f528c8c24a0, and path: /stelmo/nwb/analysis/Olive20220628/Olive20220628_DERT5IYUCB.nwb\n",
      "WARNING:datajoint:Skipped checksum for file with hash: 82309055-c69e-e1d2-0f42-3f528c8c24a0, and path: /stelmo/nwb/analysis/Olive20220628/Olive20220628_DERT5IYUCB.nwb\n"
     ]
    },
    {
     "name": "stdout",
     "output_type": "stream",
     "text": [
      "Writing new NWB file Olive20220628_20DEW7ECIX.nwb\n"
     ]
    },
    {
     "name": "stderr",
     "output_type": "stream",
     "text": [
      "[2023-11-08 09:19:39,745][WARNING]: Skipped checksum for file with hash: 75cec1be-66e1-eb6c-f045-293a2a5177e2, and path: /stelmo/nwb/analysis/Olive20220628/Olive20220628_ZK9FKM7URM.nwb\n",
      "WARNING:datajoint:Skipped checksum for file with hash: 75cec1be-66e1-eb6c-f045-293a2a5177e2, and path: /stelmo/nwb/analysis/Olive20220628/Olive20220628_ZK9FKM7URM.nwb\n",
      "[2023-11-08 09:19:40,565][WARNING]: Skipped checksum for file with hash: 75cec1be-66e1-eb6c-f045-293a2a5177e2, and path: /stelmo/nwb/analysis/Olive20220628/Olive20220628_ZK9FKM7URM.nwb\n",
      "WARNING:datajoint:Skipped checksum for file with hash: 75cec1be-66e1-eb6c-f045-293a2a5177e2, and path: /stelmo/nwb/analysis/Olive20220628/Olive20220628_ZK9FKM7URM.nwb\n"
     ]
    },
    {
     "name": "stdout",
     "output_type": "stream",
     "text": [
      "Writing new NWB file Olive20220628_9P40N0M5EO.nwb\n"
     ]
    },
    {
     "name": "stderr",
     "output_type": "stream",
     "text": [
      "[2023-11-08 09:19:47,980][WARNING]: Skipped checksum for file with hash: f4177df5-50ce-8199-0597-c7c0b92de648, and path: /stelmo/nwb/analysis/Olive20220628/Olive20220628_WL2F1QAZ6R.nwb\n",
      "WARNING:datajoint:Skipped checksum for file with hash: f4177df5-50ce-8199-0597-c7c0b92de648, and path: /stelmo/nwb/analysis/Olive20220628/Olive20220628_WL2F1QAZ6R.nwb\n",
      "[2023-11-08 09:19:48,806][WARNING]: Skipped checksum for file with hash: f4177df5-50ce-8199-0597-c7c0b92de648, and path: /stelmo/nwb/analysis/Olive20220628/Olive20220628_WL2F1QAZ6R.nwb\n",
      "WARNING:datajoint:Skipped checksum for file with hash: f4177df5-50ce-8199-0597-c7c0b92de648, and path: /stelmo/nwb/analysis/Olive20220628/Olive20220628_WL2F1QAZ6R.nwb\n"
     ]
    },
    {
     "name": "stdout",
     "output_type": "stream",
     "text": [
      "Writing new NWB file Olive20220628_GEHJOX995K.nwb\n"
     ]
    },
    {
     "name": "stderr",
     "output_type": "stream",
     "text": [
      "[2023-11-08 09:19:57,101][WARNING]: Skipped checksum for file with hash: 8836b924-8635-d919-2ea9-11a690d8ca4b, and path: /stelmo/nwb/analysis/Olive20220629/Olive20220629_FUCKU3L7K1.nwb\n",
      "WARNING:datajoint:Skipped checksum for file with hash: 8836b924-8635-d919-2ea9-11a690d8ca4b, and path: /stelmo/nwb/analysis/Olive20220629/Olive20220629_FUCKU3L7K1.nwb\n",
      "[2023-11-08 09:19:57,850][WARNING]: Skipped checksum for file with hash: 8836b924-8635-d919-2ea9-11a690d8ca4b, and path: /stelmo/nwb/analysis/Olive20220629/Olive20220629_FUCKU3L7K1.nwb\n",
      "WARNING:datajoint:Skipped checksum for file with hash: 8836b924-8635-d919-2ea9-11a690d8ca4b, and path: /stelmo/nwb/analysis/Olive20220629/Olive20220629_FUCKU3L7K1.nwb\n"
     ]
    },
    {
     "name": "stdout",
     "output_type": "stream",
     "text": [
      "Writing new NWB file Olive20220629_LXDEEERPN3.nwb\n"
     ]
    },
    {
     "name": "stderr",
     "output_type": "stream",
     "text": [
      "[2023-11-08 09:20:05,769][WARNING]: Skipped checksum for file with hash: db8fcdae-2024-adc1-9e0e-1ccff10ed512, and path: /stelmo/nwb/analysis/Olive20220629/Olive20220629_LYGESXBJH1.nwb\n",
      "WARNING:datajoint:Skipped checksum for file with hash: db8fcdae-2024-adc1-9e0e-1ccff10ed512, and path: /stelmo/nwb/analysis/Olive20220629/Olive20220629_LYGESXBJH1.nwb\n",
      "[2023-11-08 09:20:06,551][WARNING]: Skipped checksum for file with hash: db8fcdae-2024-adc1-9e0e-1ccff10ed512, and path: /stelmo/nwb/analysis/Olive20220629/Olive20220629_LYGESXBJH1.nwb\n",
      "WARNING:datajoint:Skipped checksum for file with hash: db8fcdae-2024-adc1-9e0e-1ccff10ed512, and path: /stelmo/nwb/analysis/Olive20220629/Olive20220629_LYGESXBJH1.nwb\n"
     ]
    },
    {
     "name": "stdout",
     "output_type": "stream",
     "text": [
      "Writing new NWB file Olive20220629_9J8N69CVQW.nwb\n"
     ]
    },
    {
     "name": "stderr",
     "output_type": "stream",
     "text": [
      "[2023-11-08 09:20:14,140][WARNING]: Skipped checksum for file with hash: b5320c49-7cd6-2568-d9f8-e2e805e94397, and path: /stelmo/nwb/analysis/Olive20220629/Olive20220629_7ZFGAL2VIC.nwb\n",
      "WARNING:datajoint:Skipped checksum for file with hash: b5320c49-7cd6-2568-d9f8-e2e805e94397, and path: /stelmo/nwb/analysis/Olive20220629/Olive20220629_7ZFGAL2VIC.nwb\n",
      "[2023-11-08 09:20:15,201][WARNING]: Skipped checksum for file with hash: b5320c49-7cd6-2568-d9f8-e2e805e94397, and path: /stelmo/nwb/analysis/Olive20220629/Olive20220629_7ZFGAL2VIC.nwb\n",
      "WARNING:datajoint:Skipped checksum for file with hash: b5320c49-7cd6-2568-d9f8-e2e805e94397, and path: /stelmo/nwb/analysis/Olive20220629/Olive20220629_7ZFGAL2VIC.nwb\n"
     ]
    },
    {
     "name": "stdout",
     "output_type": "stream",
     "text": [
      "Writing new NWB file Olive20220629_0ZJFQZIW3S.nwb\n"
     ]
    },
    {
     "name": "stderr",
     "output_type": "stream",
     "text": [
      "[2023-11-08 09:20:20,281][WARNING]: Skipped checksum for file with hash: 264c9518-2776-f957-c2a9-48b4aac3895d, and path: /stelmo/nwb/analysis/Olive20220629/Olive20220629_A8A5A2LB7R.nwb\n",
      "WARNING:datajoint:Skipped checksum for file with hash: 264c9518-2776-f957-c2a9-48b4aac3895d, and path: /stelmo/nwb/analysis/Olive20220629/Olive20220629_A8A5A2LB7R.nwb\n",
      "[2023-11-08 09:20:21,373][WARNING]: Skipped checksum for file with hash: 264c9518-2776-f957-c2a9-48b4aac3895d, and path: /stelmo/nwb/analysis/Olive20220629/Olive20220629_A8A5A2LB7R.nwb\n",
      "WARNING:datajoint:Skipped checksum for file with hash: 264c9518-2776-f957-c2a9-48b4aac3895d, and path: /stelmo/nwb/analysis/Olive20220629/Olive20220629_A8A5A2LB7R.nwb\n"
     ]
    },
    {
     "name": "stdout",
     "output_type": "stream",
     "text": [
      "Writing new NWB file Olive20220629_XHUYZHSF56.nwb\n"
     ]
    },
    {
     "name": "stderr",
     "output_type": "stream",
     "text": [
      "[2023-11-08 09:20:29,050][WARNING]: Skipped checksum for file with hash: e5882412-3974-962b-89b0-f4196e4bd069, and path: /stelmo/nwb/analysis/Olive20220630/Olive20220630_WV1AYJZSHE.nwb\n",
      "WARNING:datajoint:Skipped checksum for file with hash: e5882412-3974-962b-89b0-f4196e4bd069, and path: /stelmo/nwb/analysis/Olive20220630/Olive20220630_WV1AYJZSHE.nwb\n",
      "[2023-11-08 09:20:29,860][WARNING]: Skipped checksum for file with hash: e5882412-3974-962b-89b0-f4196e4bd069, and path: /stelmo/nwb/analysis/Olive20220630/Olive20220630_WV1AYJZSHE.nwb\n",
      "WARNING:datajoint:Skipped checksum for file with hash: e5882412-3974-962b-89b0-f4196e4bd069, and path: /stelmo/nwb/analysis/Olive20220630/Olive20220630_WV1AYJZSHE.nwb\n"
     ]
    },
    {
     "name": "stdout",
     "output_type": "stream",
     "text": [
      "Writing new NWB file Olive20220630_Y4Z7LKV496.nwb\n"
     ]
    },
    {
     "name": "stderr",
     "output_type": "stream",
     "text": [
      "[2023-11-08 09:20:36,848][WARNING]: Skipped checksum for file with hash: a51d1be2-dc9e-1b62-4bf2-77cb6f919ab4, and path: /stelmo/nwb/analysis/Olive20220630/Olive20220630_UL8ES3R43D.nwb\n",
      "WARNING:datajoint:Skipped checksum for file with hash: a51d1be2-dc9e-1b62-4bf2-77cb6f919ab4, and path: /stelmo/nwb/analysis/Olive20220630/Olive20220630_UL8ES3R43D.nwb\n",
      "[2023-11-08 09:20:37,936][WARNING]: Skipped checksum for file with hash: a51d1be2-dc9e-1b62-4bf2-77cb6f919ab4, and path: /stelmo/nwb/analysis/Olive20220630/Olive20220630_UL8ES3R43D.nwb\n",
      "WARNING:datajoint:Skipped checksum for file with hash: a51d1be2-dc9e-1b62-4bf2-77cb6f919ab4, and path: /stelmo/nwb/analysis/Olive20220630/Olive20220630_UL8ES3R43D.nwb\n"
     ]
    },
    {
     "name": "stdout",
     "output_type": "stream",
     "text": [
      "Writing new NWB file Olive20220630_KX0KN04U61.nwb\n"
     ]
    },
    {
     "name": "stderr",
     "output_type": "stream",
     "text": [
      "[2023-11-08 09:20:47,115][WARNING]: Skipped checksum for file with hash: 53cca83f-4a2c-86f3-cee9-d92069be14d1, and path: /stelmo/nwb/analysis/Olive20220630/Olive20220630_TZIJ7V9S7Y.nwb\n",
      "WARNING:datajoint:Skipped checksum for file with hash: 53cca83f-4a2c-86f3-cee9-d92069be14d1, and path: /stelmo/nwb/analysis/Olive20220630/Olive20220630_TZIJ7V9S7Y.nwb\n",
      "[2023-11-08 09:20:48,186][WARNING]: Skipped checksum for file with hash: 53cca83f-4a2c-86f3-cee9-d92069be14d1, and path: /stelmo/nwb/analysis/Olive20220630/Olive20220630_TZIJ7V9S7Y.nwb\n",
      "WARNING:datajoint:Skipped checksum for file with hash: 53cca83f-4a2c-86f3-cee9-d92069be14d1, and path: /stelmo/nwb/analysis/Olive20220630/Olive20220630_TZIJ7V9S7Y.nwb\n"
     ]
    },
    {
     "name": "stdout",
     "output_type": "stream",
     "text": [
      "Writing new NWB file Olive20220630_MXCJ4Y82V4.nwb\n"
     ]
    },
    {
     "name": "stderr",
     "output_type": "stream",
     "text": [
      "[2023-11-08 09:20:57,128][WARNING]: Skipped checksum for file with hash: 51a831c0-6e56-ae91-6b47-02a13de51212, and path: /stelmo/nwb/analysis/Olive20220630/Olive20220630_LDGJ5JEU8R.nwb\n",
      "WARNING:datajoint:Skipped checksum for file with hash: 51a831c0-6e56-ae91-6b47-02a13de51212, and path: /stelmo/nwb/analysis/Olive20220630/Olive20220630_LDGJ5JEU8R.nwb\n",
      "[2023-11-08 09:20:57,950][WARNING]: Skipped checksum for file with hash: 51a831c0-6e56-ae91-6b47-02a13de51212, and path: /stelmo/nwb/analysis/Olive20220630/Olive20220630_LDGJ5JEU8R.nwb\n",
      "WARNING:datajoint:Skipped checksum for file with hash: 51a831c0-6e56-ae91-6b47-02a13de51212, and path: /stelmo/nwb/analysis/Olive20220630/Olive20220630_LDGJ5JEU8R.nwb\n"
     ]
    },
    {
     "name": "stdout",
     "output_type": "stream",
     "text": [
      "Writing new NWB file Olive20220630_UFQPAMQRL6.nwb\n"
     ]
    },
    {
     "name": "stderr",
     "output_type": "stream",
     "text": [
      "[2023-11-08 09:21:04,675][WARNING]: Skipped checksum for file with hash: 7f3258f9-b330-ba88-90da-d63bbcc12000, and path: /stelmo/nwb/analysis/Olive20220701/Olive20220701_YBMZ9D00ZQ.nwb\n",
      "WARNING:datajoint:Skipped checksum for file with hash: 7f3258f9-b330-ba88-90da-d63bbcc12000, and path: /stelmo/nwb/analysis/Olive20220701/Olive20220701_YBMZ9D00ZQ.nwb\n",
      "[2023-11-08 09:21:05,599][WARNING]: Skipped checksum for file with hash: 7f3258f9-b330-ba88-90da-d63bbcc12000, and path: /stelmo/nwb/analysis/Olive20220701/Olive20220701_YBMZ9D00ZQ.nwb\n",
      "WARNING:datajoint:Skipped checksum for file with hash: 7f3258f9-b330-ba88-90da-d63bbcc12000, and path: /stelmo/nwb/analysis/Olive20220701/Olive20220701_YBMZ9D00ZQ.nwb\n"
     ]
    },
    {
     "name": "stdout",
     "output_type": "stream",
     "text": [
      "Writing new NWB file Olive20220701_TPHYTAC2KW.nwb\n"
     ]
    },
    {
     "name": "stderr",
     "output_type": "stream",
     "text": [
      "[2023-11-08 09:21:12,849][WARNING]: Skipped checksum for file with hash: 17d6cb86-c4e7-46a3-1a98-2e388110f4cb, and path: /stelmo/nwb/analysis/Olive20220701/Olive20220701_EYYVUTWQI4.nwb\n",
      "WARNING:datajoint:Skipped checksum for file with hash: 17d6cb86-c4e7-46a3-1a98-2e388110f4cb, and path: /stelmo/nwb/analysis/Olive20220701/Olive20220701_EYYVUTWQI4.nwb\n",
      "[2023-11-08 09:21:13,754][WARNING]: Skipped checksum for file with hash: 17d6cb86-c4e7-46a3-1a98-2e388110f4cb, and path: /stelmo/nwb/analysis/Olive20220701/Olive20220701_EYYVUTWQI4.nwb\n",
      "WARNING:datajoint:Skipped checksum for file with hash: 17d6cb86-c4e7-46a3-1a98-2e388110f4cb, and path: /stelmo/nwb/analysis/Olive20220701/Olive20220701_EYYVUTWQI4.nwb\n"
     ]
    },
    {
     "name": "stdout",
     "output_type": "stream",
     "text": [
      "Writing new NWB file Olive20220701_R1J1GI98MP.nwb\n"
     ]
    },
    {
     "name": "stderr",
     "output_type": "stream",
     "text": [
      "[2023-11-08 09:21:20,396][WARNING]: Skipped checksum for file with hash: 9556af70-8eee-a69e-b723-7bebd1d41b87, and path: /stelmo/nwb/analysis/Olive20220701/Olive20220701_1CDXI3QYEK.nwb\n",
      "WARNING:datajoint:Skipped checksum for file with hash: 9556af70-8eee-a69e-b723-7bebd1d41b87, and path: /stelmo/nwb/analysis/Olive20220701/Olive20220701_1CDXI3QYEK.nwb\n",
      "[2023-11-08 09:21:21,396][WARNING]: Skipped checksum for file with hash: 9556af70-8eee-a69e-b723-7bebd1d41b87, and path: /stelmo/nwb/analysis/Olive20220701/Olive20220701_1CDXI3QYEK.nwb\n",
      "WARNING:datajoint:Skipped checksum for file with hash: 9556af70-8eee-a69e-b723-7bebd1d41b87, and path: /stelmo/nwb/analysis/Olive20220701/Olive20220701_1CDXI3QYEK.nwb\n"
     ]
    },
    {
     "name": "stdout",
     "output_type": "stream",
     "text": [
      "Writing new NWB file Olive20220701_F3KYA9TWVS.nwb\n"
     ]
    },
    {
     "name": "stderr",
     "output_type": "stream",
     "text": [
      "[2023-11-08 09:21:28,067][WARNING]: Skipped checksum for file with hash: dc514a18-9435-23b0-097b-6c8300bd23a5, and path: /stelmo/nwb/analysis/Olive20220701/Olive20220701_1Y7J475JX6.nwb\n",
      "WARNING:datajoint:Skipped checksum for file with hash: dc514a18-9435-23b0-097b-6c8300bd23a5, and path: /stelmo/nwb/analysis/Olive20220701/Olive20220701_1Y7J475JX6.nwb\n",
      "[2023-11-08 09:21:29,107][WARNING]: Skipped checksum for file with hash: dc514a18-9435-23b0-097b-6c8300bd23a5, and path: /stelmo/nwb/analysis/Olive20220701/Olive20220701_1Y7J475JX6.nwb\n",
      "WARNING:datajoint:Skipped checksum for file with hash: dc514a18-9435-23b0-097b-6c8300bd23a5, and path: /stelmo/nwb/analysis/Olive20220701/Olive20220701_1Y7J475JX6.nwb\n"
     ]
    },
    {
     "name": "stdout",
     "output_type": "stream",
     "text": [
      "Writing new NWB file Olive20220701_RQU0XK6V6N.nwb\n"
     ]
    },
    {
     "name": "stderr",
     "output_type": "stream",
     "text": [
      "[2023-11-08 09:21:35,532][WARNING]: Skipped checksum for file with hash: 8ada0764-f34d-3848-c29a-857faa0cc5ba, and path: /stelmo/nwb/analysis/Olive20220702/Olive20220702_99I2MGVMJN.nwb\n",
      "WARNING:datajoint:Skipped checksum for file with hash: 8ada0764-f34d-3848-c29a-857faa0cc5ba, and path: /stelmo/nwb/analysis/Olive20220702/Olive20220702_99I2MGVMJN.nwb\n",
      "[2023-11-08 09:21:36,586][WARNING]: Skipped checksum for file with hash: 8ada0764-f34d-3848-c29a-857faa0cc5ba, and path: /stelmo/nwb/analysis/Olive20220702/Olive20220702_99I2MGVMJN.nwb\n",
      "WARNING:datajoint:Skipped checksum for file with hash: 8ada0764-f34d-3848-c29a-857faa0cc5ba, and path: /stelmo/nwb/analysis/Olive20220702/Olive20220702_99I2MGVMJN.nwb\n"
     ]
    },
    {
     "name": "stdout",
     "output_type": "stream",
     "text": [
      "Writing new NWB file Olive20220702_NNMOJI0E5B.nwb\n"
     ]
    },
    {
     "name": "stderr",
     "output_type": "stream",
     "text": [
      "[2023-11-08 09:21:43,238][WARNING]: Skipped checksum for file with hash: c581e921-03e1-180a-7806-ca533e15355c, and path: /stelmo/nwb/analysis/Olive20220702/Olive20220702_NK1KA80LTH.nwb\n",
      "WARNING:datajoint:Skipped checksum for file with hash: c581e921-03e1-180a-7806-ca533e15355c, and path: /stelmo/nwb/analysis/Olive20220702/Olive20220702_NK1KA80LTH.nwb\n",
      "[2023-11-08 09:21:44,049][WARNING]: Skipped checksum for file with hash: c581e921-03e1-180a-7806-ca533e15355c, and path: /stelmo/nwb/analysis/Olive20220702/Olive20220702_NK1KA80LTH.nwb\n",
      "WARNING:datajoint:Skipped checksum for file with hash: c581e921-03e1-180a-7806-ca533e15355c, and path: /stelmo/nwb/analysis/Olive20220702/Olive20220702_NK1KA80LTH.nwb\n"
     ]
    },
    {
     "name": "stdout",
     "output_type": "stream",
     "text": [
      "Writing new NWB file Olive20220702_AD9SXR9LE4.nwb\n"
     ]
    },
    {
     "name": "stderr",
     "output_type": "stream",
     "text": [
      "[2023-11-08 09:21:51,023][WARNING]: Skipped checksum for file with hash: 41e983cc-8f9f-ad88-ba1f-5720cdf1d440, and path: /stelmo/nwb/analysis/Olive20220702/Olive20220702_8T4E6IMD73.nwb\n",
      "WARNING:datajoint:Skipped checksum for file with hash: 41e983cc-8f9f-ad88-ba1f-5720cdf1d440, and path: /stelmo/nwb/analysis/Olive20220702/Olive20220702_8T4E6IMD73.nwb\n",
      "[2023-11-08 09:21:52,127][WARNING]: Skipped checksum for file with hash: 41e983cc-8f9f-ad88-ba1f-5720cdf1d440, and path: /stelmo/nwb/analysis/Olive20220702/Olive20220702_8T4E6IMD73.nwb\n",
      "WARNING:datajoint:Skipped checksum for file with hash: 41e983cc-8f9f-ad88-ba1f-5720cdf1d440, and path: /stelmo/nwb/analysis/Olive20220702/Olive20220702_8T4E6IMD73.nwb\n"
     ]
    },
    {
     "name": "stdout",
     "output_type": "stream",
     "text": [
      "Writing new NWB file Olive20220702_07BOUYWTZ7.nwb\n"
     ]
    },
    {
     "name": "stderr",
     "output_type": "stream",
     "text": [
      "[2023-11-08 09:21:58,825][WARNING]: Skipped checksum for file with hash: 2a07913a-dbb7-93d0-a336-3c302e2927f2, and path: /stelmo/nwb/analysis/Olive20220702/Olive20220702_VCDJZRI9MF.nwb\n",
      "WARNING:datajoint:Skipped checksum for file with hash: 2a07913a-dbb7-93d0-a336-3c302e2927f2, and path: /stelmo/nwb/analysis/Olive20220702/Olive20220702_VCDJZRI9MF.nwb\n",
      "[2023-11-08 09:21:59,913][WARNING]: Skipped checksum for file with hash: 2a07913a-dbb7-93d0-a336-3c302e2927f2, and path: /stelmo/nwb/analysis/Olive20220702/Olive20220702_VCDJZRI9MF.nwb\n",
      "WARNING:datajoint:Skipped checksum for file with hash: 2a07913a-dbb7-93d0-a336-3c302e2927f2, and path: /stelmo/nwb/analysis/Olive20220702/Olive20220702_VCDJZRI9MF.nwb\n"
     ]
    },
    {
     "name": "stdout",
     "output_type": "stream",
     "text": [
      "Writing new NWB file Olive20220702_IE826PKGDP.nwb\n"
     ]
    },
    {
     "name": "stderr",
     "output_type": "stream",
     "text": [
      "[2023-11-08 09:22:06,879][WARNING]: Skipped checksum for file with hash: a52ee82d-fcc4-43d4-a63b-c40dbde8753d, and path: /stelmo/nwb/analysis/Olive20220705/Olive20220705_U5N1WYLRD8.nwb\n",
      "WARNING:datajoint:Skipped checksum for file with hash: a52ee82d-fcc4-43d4-a63b-c40dbde8753d, and path: /stelmo/nwb/analysis/Olive20220705/Olive20220705_U5N1WYLRD8.nwb\n",
      "[2023-11-08 09:22:07,951][WARNING]: Skipped checksum for file with hash: a52ee82d-fcc4-43d4-a63b-c40dbde8753d, and path: /stelmo/nwb/analysis/Olive20220705/Olive20220705_U5N1WYLRD8.nwb\n",
      "WARNING:datajoint:Skipped checksum for file with hash: a52ee82d-fcc4-43d4-a63b-c40dbde8753d, and path: /stelmo/nwb/analysis/Olive20220705/Olive20220705_U5N1WYLRD8.nwb\n"
     ]
    },
    {
     "name": "stdout",
     "output_type": "stream",
     "text": [
      "Writing new NWB file Olive20220705_KXK0KG3U61.nwb\n"
     ]
    },
    {
     "name": "stderr",
     "output_type": "stream",
     "text": [
      "[2023-11-08 09:22:16,699][WARNING]: Skipped checksum for file with hash: b92f59ba-ad0d-fbd7-add6-26ba85b5eebc, and path: /stelmo/nwb/analysis/Olive20220705/Olive20220705_JZI9TZNNUD.nwb\n",
      "WARNING:datajoint:Skipped checksum for file with hash: b92f59ba-ad0d-fbd7-add6-26ba85b5eebc, and path: /stelmo/nwb/analysis/Olive20220705/Olive20220705_JZI9TZNNUD.nwb\n",
      "[2023-11-08 09:22:17,713][WARNING]: Skipped checksum for file with hash: b92f59ba-ad0d-fbd7-add6-26ba85b5eebc, and path: /stelmo/nwb/analysis/Olive20220705/Olive20220705_JZI9TZNNUD.nwb\n",
      "WARNING:datajoint:Skipped checksum for file with hash: b92f59ba-ad0d-fbd7-add6-26ba85b5eebc, and path: /stelmo/nwb/analysis/Olive20220705/Olive20220705_JZI9TZNNUD.nwb\n"
     ]
    },
    {
     "name": "stdout",
     "output_type": "stream",
     "text": [
      "Writing new NWB file Olive20220705_UZBFBNUZFQ.nwb\n"
     ]
    },
    {
     "name": "stderr",
     "output_type": "stream",
     "text": [
      "[2023-11-08 09:22:27,381][WARNING]: Skipped checksum for file with hash: e80feacc-8ab1-5672-c521-ab30c50fa6ff, and path: /stelmo/nwb/analysis/Olive20220705/Olive20220705_82VP9K9V03.nwb\n",
      "WARNING:datajoint:Skipped checksum for file with hash: e80feacc-8ab1-5672-c521-ab30c50fa6ff, and path: /stelmo/nwb/analysis/Olive20220705/Olive20220705_82VP9K9V03.nwb\n",
      "[2023-11-08 09:22:28,259][WARNING]: Skipped checksum for file with hash: e80feacc-8ab1-5672-c521-ab30c50fa6ff, and path: /stelmo/nwb/analysis/Olive20220705/Olive20220705_82VP9K9V03.nwb\n",
      "WARNING:datajoint:Skipped checksum for file with hash: e80feacc-8ab1-5672-c521-ab30c50fa6ff, and path: /stelmo/nwb/analysis/Olive20220705/Olive20220705_82VP9K9V03.nwb\n"
     ]
    },
    {
     "name": "stdout",
     "output_type": "stream",
     "text": [
      "Writing new NWB file Olive20220705_5L4SUXUB04.nwb\n"
     ]
    },
    {
     "name": "stderr",
     "output_type": "stream",
     "text": [
      "[2023-11-08 09:22:43,972][WARNING]: Skipped checksum for file with hash: 33e70d8b-e3fd-2e9c-9b2a-4c368ebf0370, and path: /stelmo/nwb/analysis/Olive20220705/Olive20220705_ZEKV2NIABA.nwb\n",
      "WARNING:datajoint:Skipped checksum for file with hash: 33e70d8b-e3fd-2e9c-9b2a-4c368ebf0370, and path: /stelmo/nwb/analysis/Olive20220705/Olive20220705_ZEKV2NIABA.nwb\n",
      "[2023-11-08 09:22:45,067][WARNING]: Skipped checksum for file with hash: 33e70d8b-e3fd-2e9c-9b2a-4c368ebf0370, and path: /stelmo/nwb/analysis/Olive20220705/Olive20220705_ZEKV2NIABA.nwb\n",
      "WARNING:datajoint:Skipped checksum for file with hash: 33e70d8b-e3fd-2e9c-9b2a-4c368ebf0370, and path: /stelmo/nwb/analysis/Olive20220705/Olive20220705_ZEKV2NIABA.nwb\n"
     ]
    },
    {
     "name": "stdout",
     "output_type": "stream",
     "text": [
      "Writing new NWB file Olive20220705_TPLKSDPMH7.nwb\n"
     ]
    },
    {
     "name": "stderr",
     "output_type": "stream",
     "text": [
      "[2023-11-08 09:22:51,586][WARNING]: Skipped checksum for file with hash: 4ccd2204-c9be-825c-1c8a-8131ac091f11, and path: /stelmo/nwb/analysis/Olive20220706/Olive20220706_DEZHCNGH90.nwb\n",
      "WARNING:datajoint:Skipped checksum for file with hash: 4ccd2204-c9be-825c-1c8a-8131ac091f11, and path: /stelmo/nwb/analysis/Olive20220706/Olive20220706_DEZHCNGH90.nwb\n",
      "[2023-11-08 09:22:52,382][WARNING]: Skipped checksum for file with hash: 4ccd2204-c9be-825c-1c8a-8131ac091f11, and path: /stelmo/nwb/analysis/Olive20220706/Olive20220706_DEZHCNGH90.nwb\n",
      "WARNING:datajoint:Skipped checksum for file with hash: 4ccd2204-c9be-825c-1c8a-8131ac091f11, and path: /stelmo/nwb/analysis/Olive20220706/Olive20220706_DEZHCNGH90.nwb\n"
     ]
    },
    {
     "name": "stdout",
     "output_type": "stream",
     "text": [
      "Writing new NWB file Olive20220706_R6GA6B8H8F.nwb\n"
     ]
    },
    {
     "name": "stderr",
     "output_type": "stream",
     "text": [
      "[2023-11-08 09:23:03,979][WARNING]: Skipped checksum for file with hash: 0b46044a-f5e6-6885-aa38-eb4012ed10a6, and path: /stelmo/nwb/analysis/Olive20220706/Olive20220706_NMQQGEPVU2.nwb\n",
      "WARNING:datajoint:Skipped checksum for file with hash: 0b46044a-f5e6-6885-aa38-eb4012ed10a6, and path: /stelmo/nwb/analysis/Olive20220706/Olive20220706_NMQQGEPVU2.nwb\n",
      "[2023-11-08 09:23:04,880][WARNING]: Skipped checksum for file with hash: 0b46044a-f5e6-6885-aa38-eb4012ed10a6, and path: /stelmo/nwb/analysis/Olive20220706/Olive20220706_NMQQGEPVU2.nwb\n",
      "WARNING:datajoint:Skipped checksum for file with hash: 0b46044a-f5e6-6885-aa38-eb4012ed10a6, and path: /stelmo/nwb/analysis/Olive20220706/Olive20220706_NMQQGEPVU2.nwb\n"
     ]
    },
    {
     "name": "stdout",
     "output_type": "stream",
     "text": [
      "Writing new NWB file Olive20220706_0HCDCERUXN.nwb\n"
     ]
    },
    {
     "name": "stderr",
     "output_type": "stream",
     "text": [
      "[2023-11-08 09:23:15,508][WARNING]: Skipped checksum for file with hash: 0ef15ed7-9b3d-f3e4-b150-1e125e3e1634, and path: /stelmo/nwb/analysis/Olive20220706/Olive20220706_I3PY2A64WK.nwb\n",
      "WARNING:datajoint:Skipped checksum for file with hash: 0ef15ed7-9b3d-f3e4-b150-1e125e3e1634, and path: /stelmo/nwb/analysis/Olive20220706/Olive20220706_I3PY2A64WK.nwb\n",
      "[2023-11-08 09:23:16,242][WARNING]: Skipped checksum for file with hash: 0ef15ed7-9b3d-f3e4-b150-1e125e3e1634, and path: /stelmo/nwb/analysis/Olive20220706/Olive20220706_I3PY2A64WK.nwb\n",
      "WARNING:datajoint:Skipped checksum for file with hash: 0ef15ed7-9b3d-f3e4-b150-1e125e3e1634, and path: /stelmo/nwb/analysis/Olive20220706/Olive20220706_I3PY2A64WK.nwb\n"
     ]
    },
    {
     "name": "stdout",
     "output_type": "stream",
     "text": [
      "Writing new NWB file Olive20220706_YTURHGR45W.nwb\n"
     ]
    },
    {
     "name": "stderr",
     "output_type": "stream",
     "text": [
      "[2023-11-08 09:23:26,923][WARNING]: Skipped checksum for file with hash: 6bb58abe-a5d4-d950-57d4-9924ccfd5bea, and path: /stelmo/nwb/analysis/Olive20220706/Olive20220706_XVE3ALF9ZM.nwb\n",
      "WARNING:datajoint:Skipped checksum for file with hash: 6bb58abe-a5d4-d950-57d4-9924ccfd5bea, and path: /stelmo/nwb/analysis/Olive20220706/Olive20220706_XVE3ALF9ZM.nwb\n",
      "[2023-11-08 09:23:27,689][WARNING]: Skipped checksum for file with hash: 6bb58abe-a5d4-d950-57d4-9924ccfd5bea, and path: /stelmo/nwb/analysis/Olive20220706/Olive20220706_XVE3ALF9ZM.nwb\n",
      "WARNING:datajoint:Skipped checksum for file with hash: 6bb58abe-a5d4-d950-57d4-9924ccfd5bea, and path: /stelmo/nwb/analysis/Olive20220706/Olive20220706_XVE3ALF9ZM.nwb\n"
     ]
    },
    {
     "name": "stdout",
     "output_type": "stream",
     "text": [
      "Writing new NWB file Olive20220706_MU9RAVOELC.nwb\n"
     ]
    },
    {
     "name": "stderr",
     "output_type": "stream",
     "text": [
      "[2023-11-08 09:23:39,082][WARNING]: Skipped checksum for file with hash: 0c7cb652-1a82-f928-4df5-b81b3fcbb90b, and path: /stelmo/nwb/analysis/Totoro20220530/Totoro20220530_AGFOFKUCXF.nwb\n",
      "WARNING:datajoint:Skipped checksum for file with hash: 0c7cb652-1a82-f928-4df5-b81b3fcbb90b, and path: /stelmo/nwb/analysis/Totoro20220530/Totoro20220530_AGFOFKUCXF.nwb\n",
      "[2023-11-08 09:23:39,966][WARNING]: Skipped checksum for file with hash: 0c7cb652-1a82-f928-4df5-b81b3fcbb90b, and path: /stelmo/nwb/analysis/Totoro20220530/Totoro20220530_AGFOFKUCXF.nwb\n",
      "WARNING:datajoint:Skipped checksum for file with hash: 0c7cb652-1a82-f928-4df5-b81b3fcbb90b, and path: /stelmo/nwb/analysis/Totoro20220530/Totoro20220530_AGFOFKUCXF.nwb\n"
     ]
    },
    {
     "name": "stdout",
     "output_type": "stream",
     "text": [
      "Writing new NWB file Totoro20220530_HLNHMWOD4M.nwb\n"
     ]
    },
    {
     "name": "stderr",
     "output_type": "stream",
     "text": [
      "[2023-11-08 09:23:49,096][WARNING]: Skipped checksum for file with hash: f9dd7866-e787-f91d-38f2-8d54ca55d469, and path: /stelmo/nwb/analysis/Totoro20220530/Totoro20220530_8MLLGLNOHB.nwb\n",
      "WARNING:datajoint:Skipped checksum for file with hash: f9dd7866-e787-f91d-38f2-8d54ca55d469, and path: /stelmo/nwb/analysis/Totoro20220530/Totoro20220530_8MLLGLNOHB.nwb\n",
      "[2023-11-08 09:23:49,829][WARNING]: Skipped checksum for file with hash: f9dd7866-e787-f91d-38f2-8d54ca55d469, and path: /stelmo/nwb/analysis/Totoro20220530/Totoro20220530_8MLLGLNOHB.nwb\n",
      "WARNING:datajoint:Skipped checksum for file with hash: f9dd7866-e787-f91d-38f2-8d54ca55d469, and path: /stelmo/nwb/analysis/Totoro20220530/Totoro20220530_8MLLGLNOHB.nwb\n"
     ]
    },
    {
     "name": "stdout",
     "output_type": "stream",
     "text": [
      "Writing new NWB file Totoro20220530_J6V8W35TIW.nwb\n"
     ]
    },
    {
     "name": "stderr",
     "output_type": "stream",
     "text": [
      "[2023-11-08 09:23:58,077][WARNING]: Skipped checksum for file with hash: 14ed0d08-1bd6-7b88-8cf2-a239d6abc926, and path: /stelmo/nwb/analysis/Totoro20220531/Totoro20220531_JV81EJRGGC.nwb\n",
      "WARNING:datajoint:Skipped checksum for file with hash: 14ed0d08-1bd6-7b88-8cf2-a239d6abc926, and path: /stelmo/nwb/analysis/Totoro20220531/Totoro20220531_JV81EJRGGC.nwb\n",
      "[2023-11-08 09:23:58,925][WARNING]: Skipped checksum for file with hash: 14ed0d08-1bd6-7b88-8cf2-a239d6abc926, and path: /stelmo/nwb/analysis/Totoro20220531/Totoro20220531_JV81EJRGGC.nwb\n",
      "WARNING:datajoint:Skipped checksum for file with hash: 14ed0d08-1bd6-7b88-8cf2-a239d6abc926, and path: /stelmo/nwb/analysis/Totoro20220531/Totoro20220531_JV81EJRGGC.nwb\n"
     ]
    },
    {
     "name": "stdout",
     "output_type": "stream",
     "text": [
      "Writing new NWB file Totoro20220531_VTIDRIYOPY.nwb\n"
     ]
    },
    {
     "name": "stderr",
     "output_type": "stream",
     "text": [
      "[2023-11-08 09:24:06,020][WARNING]: Skipped checksum for file with hash: 7592dd84-0011-2c6a-ac38-e22ac48bf196, and path: /stelmo/nwb/analysis/Totoro20220531/Totoro20220531_CNJDMY19O8.nwb\n",
      "WARNING:datajoint:Skipped checksum for file with hash: 7592dd84-0011-2c6a-ac38-e22ac48bf196, and path: /stelmo/nwb/analysis/Totoro20220531/Totoro20220531_CNJDMY19O8.nwb\n",
      "[2023-11-08 09:24:06,821][WARNING]: Skipped checksum for file with hash: 7592dd84-0011-2c6a-ac38-e22ac48bf196, and path: /stelmo/nwb/analysis/Totoro20220531/Totoro20220531_CNJDMY19O8.nwb\n",
      "WARNING:datajoint:Skipped checksum for file with hash: 7592dd84-0011-2c6a-ac38-e22ac48bf196, and path: /stelmo/nwb/analysis/Totoro20220531/Totoro20220531_CNJDMY19O8.nwb\n"
     ]
    },
    {
     "name": "stdout",
     "output_type": "stream",
     "text": [
      "Writing new NWB file Totoro20220531_1936XU503M.nwb\n"
     ]
    },
    {
     "name": "stderr",
     "output_type": "stream",
     "text": [
      "[2023-11-08 09:24:12,408][WARNING]: Skipped checksum for file with hash: 11fcbfff-fca2-0fb6-7db6-30cd78531f4f, and path: /stelmo/nwb/analysis/Totoro20220602/Totoro20220602_RB857PHF12.nwb\n",
      "WARNING:datajoint:Skipped checksum for file with hash: 11fcbfff-fca2-0fb6-7db6-30cd78531f4f, and path: /stelmo/nwb/analysis/Totoro20220602/Totoro20220602_RB857PHF12.nwb\n",
      "[2023-11-08 09:24:13,295][WARNING]: Skipped checksum for file with hash: 11fcbfff-fca2-0fb6-7db6-30cd78531f4f, and path: /stelmo/nwb/analysis/Totoro20220602/Totoro20220602_RB857PHF12.nwb\n",
      "WARNING:datajoint:Skipped checksum for file with hash: 11fcbfff-fca2-0fb6-7db6-30cd78531f4f, and path: /stelmo/nwb/analysis/Totoro20220602/Totoro20220602_RB857PHF12.nwb\n"
     ]
    },
    {
     "name": "stdout",
     "output_type": "stream",
     "text": [
      "Writing new NWB file Totoro20220602_VQ3OZK29M9.nwb\n"
     ]
    },
    {
     "name": "stderr",
     "output_type": "stream",
     "text": [
      "[2023-11-08 09:24:20,234][WARNING]: Skipped checksum for file with hash: 5e372735-459d-d86f-6c9f-228d12fd19fc, and path: /stelmo/nwb/analysis/Totoro20220602/Totoro20220602_TEPX14RD81.nwb\n",
      "WARNING:datajoint:Skipped checksum for file with hash: 5e372735-459d-d86f-6c9f-228d12fd19fc, and path: /stelmo/nwb/analysis/Totoro20220602/Totoro20220602_TEPX14RD81.nwb\n",
      "[2023-11-08 09:24:21,112][WARNING]: Skipped checksum for file with hash: 5e372735-459d-d86f-6c9f-228d12fd19fc, and path: /stelmo/nwb/analysis/Totoro20220602/Totoro20220602_TEPX14RD81.nwb\n",
      "WARNING:datajoint:Skipped checksum for file with hash: 5e372735-459d-d86f-6c9f-228d12fd19fc, and path: /stelmo/nwb/analysis/Totoro20220602/Totoro20220602_TEPX14RD81.nwb\n"
     ]
    },
    {
     "name": "stdout",
     "output_type": "stream",
     "text": [
      "Writing new NWB file Totoro20220602_NYUIWBDCGB.nwb\n"
     ]
    },
    {
     "name": "stderr",
     "output_type": "stream",
     "text": [
      "[2023-11-08 09:24:27,025][WARNING]: Skipped checksum for file with hash: 539bff55-96ef-381a-62c1-2ff33344496a, and path: /stelmo/nwb/analysis/Totoro20220602/Totoro20220602_QKXRQE8TUS.nwb\n",
      "WARNING:datajoint:Skipped checksum for file with hash: 539bff55-96ef-381a-62c1-2ff33344496a, and path: /stelmo/nwb/analysis/Totoro20220602/Totoro20220602_QKXRQE8TUS.nwb\n",
      "[2023-11-08 09:24:28,051][WARNING]: Skipped checksum for file with hash: 539bff55-96ef-381a-62c1-2ff33344496a, and path: /stelmo/nwb/analysis/Totoro20220602/Totoro20220602_QKXRQE8TUS.nwb\n",
      "WARNING:datajoint:Skipped checksum for file with hash: 539bff55-96ef-381a-62c1-2ff33344496a, and path: /stelmo/nwb/analysis/Totoro20220602/Totoro20220602_QKXRQE8TUS.nwb\n"
     ]
    },
    {
     "name": "stdout",
     "output_type": "stream",
     "text": [
      "Writing new NWB file Totoro20220602_U5CZRZQCTJ.nwb\n"
     ]
    },
    {
     "name": "stderr",
     "output_type": "stream",
     "text": [
      "[2023-11-08 09:24:34,162][WARNING]: Skipped checksum for file with hash: ba0188ff-0d1e-5a7b-5afd-477762c53091, and path: /stelmo/nwb/analysis/Totoro20220602/Totoro20220602_VJYI1MB91D.nwb\n",
      "WARNING:datajoint:Skipped checksum for file with hash: ba0188ff-0d1e-5a7b-5afd-477762c53091, and path: /stelmo/nwb/analysis/Totoro20220602/Totoro20220602_VJYI1MB91D.nwb\n",
      "[2023-11-08 09:24:35,267][WARNING]: Skipped checksum for file with hash: ba0188ff-0d1e-5a7b-5afd-477762c53091, and path: /stelmo/nwb/analysis/Totoro20220602/Totoro20220602_VJYI1MB91D.nwb\n",
      "WARNING:datajoint:Skipped checksum for file with hash: ba0188ff-0d1e-5a7b-5afd-477762c53091, and path: /stelmo/nwb/analysis/Totoro20220602/Totoro20220602_VJYI1MB91D.nwb\n"
     ]
    },
    {
     "name": "stdout",
     "output_type": "stream",
     "text": [
      "Writing new NWB file Totoro20220602_5TE926CIYL.nwb\n"
     ]
    },
    {
     "name": "stderr",
     "output_type": "stream",
     "text": [
      "[2023-11-08 09:24:41,097][WARNING]: Skipped checksum for file with hash: ada552ec-2b3c-b265-01c6-83eb4adcc515, and path: /stelmo/nwb/analysis/Totoro20220602/Totoro20220602_1V2C1970QL.nwb\n",
      "WARNING:datajoint:Skipped checksum for file with hash: ada552ec-2b3c-b265-01c6-83eb4adcc515, and path: /stelmo/nwb/analysis/Totoro20220602/Totoro20220602_1V2C1970QL.nwb\n",
      "[2023-11-08 09:24:41,930][WARNING]: Skipped checksum for file with hash: ada552ec-2b3c-b265-01c6-83eb4adcc515, and path: /stelmo/nwb/analysis/Totoro20220602/Totoro20220602_1V2C1970QL.nwb\n",
      "WARNING:datajoint:Skipped checksum for file with hash: ada552ec-2b3c-b265-01c6-83eb4adcc515, and path: /stelmo/nwb/analysis/Totoro20220602/Totoro20220602_1V2C1970QL.nwb\n"
     ]
    },
    {
     "name": "stdout",
     "output_type": "stream",
     "text": [
      "Writing new NWB file Totoro20220602_YTD3ZJE2OS.nwb\n"
     ]
    },
    {
     "name": "stderr",
     "output_type": "stream",
     "text": [
      "[2023-11-08 09:24:47,613][WARNING]: Skipped checksum for file with hash: 12b50f5c-ea38-720a-cb90-ee611946aeda, and path: /stelmo/nwb/analysis/Totoro20220602/Totoro20220602_81R72VGZEU.nwb\n",
      "WARNING:datajoint:Skipped checksum for file with hash: 12b50f5c-ea38-720a-cb90-ee611946aeda, and path: /stelmo/nwb/analysis/Totoro20220602/Totoro20220602_81R72VGZEU.nwb\n",
      "[2023-11-08 09:24:48,475][WARNING]: Skipped checksum for file with hash: 12b50f5c-ea38-720a-cb90-ee611946aeda, and path: /stelmo/nwb/analysis/Totoro20220602/Totoro20220602_81R72VGZEU.nwb\n",
      "WARNING:datajoint:Skipped checksum for file with hash: 12b50f5c-ea38-720a-cb90-ee611946aeda, and path: /stelmo/nwb/analysis/Totoro20220602/Totoro20220602_81R72VGZEU.nwb\n"
     ]
    },
    {
     "name": "stdout",
     "output_type": "stream",
     "text": [
      "Writing new NWB file Totoro20220602_CTVHDMKLNU.nwb\n"
     ]
    },
    {
     "name": "stderr",
     "output_type": "stream",
     "text": [
      "[2023-11-08 09:24:53,646][WARNING]: Skipped checksum for file with hash: d777d59c-79b7-6dd8-3a57-a038965d19d1, and path: /stelmo/nwb/analysis/Totoro20220603/Totoro20220603_HWFISK1RLQ.nwb\n",
      "WARNING:datajoint:Skipped checksum for file with hash: d777d59c-79b7-6dd8-3a57-a038965d19d1, and path: /stelmo/nwb/analysis/Totoro20220603/Totoro20220603_HWFISK1RLQ.nwb\n",
      "[2023-11-08 09:24:54,528][WARNING]: Skipped checksum for file with hash: d777d59c-79b7-6dd8-3a57-a038965d19d1, and path: /stelmo/nwb/analysis/Totoro20220603/Totoro20220603_HWFISK1RLQ.nwb\n",
      "WARNING:datajoint:Skipped checksum for file with hash: d777d59c-79b7-6dd8-3a57-a038965d19d1, and path: /stelmo/nwb/analysis/Totoro20220603/Totoro20220603_HWFISK1RLQ.nwb\n"
     ]
    },
    {
     "name": "stdout",
     "output_type": "stream",
     "text": [
      "Writing new NWB file Totoro20220603_HQFOICAL6E.nwb\n"
     ]
    },
    {
     "name": "stderr",
     "output_type": "stream",
     "text": [
      "[2023-11-08 09:25:01,613][WARNING]: Skipped checksum for file with hash: a1967df3-0bf7-176d-882f-3250ace26928, and path: /stelmo/nwb/analysis/Totoro20220603/Totoro20220603_LAYPK9HXHM.nwb\n",
      "WARNING:datajoint:Skipped checksum for file with hash: a1967df3-0bf7-176d-882f-3250ace26928, and path: /stelmo/nwb/analysis/Totoro20220603/Totoro20220603_LAYPK9HXHM.nwb\n",
      "[2023-11-08 09:25:02,453][WARNING]: Skipped checksum for file with hash: a1967df3-0bf7-176d-882f-3250ace26928, and path: /stelmo/nwb/analysis/Totoro20220603/Totoro20220603_LAYPK9HXHM.nwb\n",
      "WARNING:datajoint:Skipped checksum for file with hash: a1967df3-0bf7-176d-882f-3250ace26928, and path: /stelmo/nwb/analysis/Totoro20220603/Totoro20220603_LAYPK9HXHM.nwb\n"
     ]
    },
    {
     "name": "stdout",
     "output_type": "stream",
     "text": [
      "Writing new NWB file Totoro20220603_FC1IRF5EK6.nwb\n"
     ]
    },
    {
     "name": "stderr",
     "output_type": "stream",
     "text": [
      "[2023-11-08 09:25:08,001][WARNING]: Skipped checksum for file with hash: 877acdd1-b792-1150-16e1-b6be74e3dca7, and path: /stelmo/nwb/analysis/Totoro20220603/Totoro20220603_ISMOPOXPXX.nwb\n",
      "WARNING:datajoint:Skipped checksum for file with hash: 877acdd1-b792-1150-16e1-b6be74e3dca7, and path: /stelmo/nwb/analysis/Totoro20220603/Totoro20220603_ISMOPOXPXX.nwb\n",
      "[2023-11-08 09:25:08,851][WARNING]: Skipped checksum for file with hash: 877acdd1-b792-1150-16e1-b6be74e3dca7, and path: /stelmo/nwb/analysis/Totoro20220603/Totoro20220603_ISMOPOXPXX.nwb\n",
      "WARNING:datajoint:Skipped checksum for file with hash: 877acdd1-b792-1150-16e1-b6be74e3dca7, and path: /stelmo/nwb/analysis/Totoro20220603/Totoro20220603_ISMOPOXPXX.nwb\n"
     ]
    },
    {
     "name": "stdout",
     "output_type": "stream",
     "text": [
      "Writing new NWB file Totoro20220603_VYLB1NKY6F.nwb\n"
     ]
    },
    {
     "name": "stderr",
     "output_type": "stream",
     "text": [
      "[2023-11-08 09:25:16,410][WARNING]: Skipped checksum for file with hash: 317d4e3f-e5f0-3de4-b2b2-d1d3c0f8ffe6, and path: /stelmo/nwb/analysis/Totoro20220603/Totoro20220603_I6961WMF90.nwb\n",
      "WARNING:datajoint:Skipped checksum for file with hash: 317d4e3f-e5f0-3de4-b2b2-d1d3c0f8ffe6, and path: /stelmo/nwb/analysis/Totoro20220603/Totoro20220603_I6961WMF90.nwb\n",
      "[2023-11-08 09:25:17,513][WARNING]: Skipped checksum for file with hash: 317d4e3f-e5f0-3de4-b2b2-d1d3c0f8ffe6, and path: /stelmo/nwb/analysis/Totoro20220603/Totoro20220603_I6961WMF90.nwb\n",
      "WARNING:datajoint:Skipped checksum for file with hash: 317d4e3f-e5f0-3de4-b2b2-d1d3c0f8ffe6, and path: /stelmo/nwb/analysis/Totoro20220603/Totoro20220603_I6961WMF90.nwb\n"
     ]
    },
    {
     "name": "stdout",
     "output_type": "stream",
     "text": [
      "Writing new NWB file Totoro20220603_TLXXNPJ8SW.nwb\n"
     ]
    },
    {
     "name": "stderr",
     "output_type": "stream",
     "text": [
      "[2023-11-08 09:25:25,754][WARNING]: Skipped checksum for file with hash: 2c538766-198f-cacd-43fc-42c7a37da746, and path: /stelmo/nwb/analysis/Totoro20220603/Totoro20220603_AWND98Z5EU.nwb\n",
      "WARNING:datajoint:Skipped checksum for file with hash: 2c538766-198f-cacd-43fc-42c7a37da746, and path: /stelmo/nwb/analysis/Totoro20220603/Totoro20220603_AWND98Z5EU.nwb\n",
      "[2023-11-08 09:25:26,602][WARNING]: Skipped checksum for file with hash: 2c538766-198f-cacd-43fc-42c7a37da746, and path: /stelmo/nwb/analysis/Totoro20220603/Totoro20220603_AWND98Z5EU.nwb\n",
      "WARNING:datajoint:Skipped checksum for file with hash: 2c538766-198f-cacd-43fc-42c7a37da746, and path: /stelmo/nwb/analysis/Totoro20220603/Totoro20220603_AWND98Z5EU.nwb\n"
     ]
    },
    {
     "name": "stdout",
     "output_type": "stream",
     "text": [
      "Writing new NWB file Totoro20220603_WEWURI07A5.nwb\n"
     ]
    },
    {
     "name": "stderr",
     "output_type": "stream",
     "text": [
      "[2023-11-08 09:25:31,482][WARNING]: Skipped checksum for file with hash: 9d5efbbc-0ef2-276e-c714-dc7ed3fc3eef, and path: /stelmo/nwb/analysis/Totoro20220603/Totoro20220603_8VA8Q5DTAW.nwb\n",
      "WARNING:datajoint:Skipped checksum for file with hash: 9d5efbbc-0ef2-276e-c714-dc7ed3fc3eef, and path: /stelmo/nwb/analysis/Totoro20220603/Totoro20220603_8VA8Q5DTAW.nwb\n",
      "[2023-11-08 09:25:32,507][WARNING]: Skipped checksum for file with hash: 9d5efbbc-0ef2-276e-c714-dc7ed3fc3eef, and path: /stelmo/nwb/analysis/Totoro20220603/Totoro20220603_8VA8Q5DTAW.nwb\n",
      "WARNING:datajoint:Skipped checksum for file with hash: 9d5efbbc-0ef2-276e-c714-dc7ed3fc3eef, and path: /stelmo/nwb/analysis/Totoro20220603/Totoro20220603_8VA8Q5DTAW.nwb\n"
     ]
    },
    {
     "name": "stdout",
     "output_type": "stream",
     "text": [
      "Writing new NWB file Totoro20220603_SUPGHAU0IN.nwb\n"
     ]
    },
    {
     "name": "stderr",
     "output_type": "stream",
     "text": [
      "[2023-11-08 09:25:38,291][WARNING]: Skipped checksum for file with hash: 82f39434-8060-281b-2a5d-a6266123abee, and path: /stelmo/nwb/analysis/Totoro20220606/Totoro20220606_HE1Y0JH44Q.nwb\n",
      "WARNING:datajoint:Skipped checksum for file with hash: 82f39434-8060-281b-2a5d-a6266123abee, and path: /stelmo/nwb/analysis/Totoro20220606/Totoro20220606_HE1Y0JH44Q.nwb\n",
      "[2023-11-08 09:25:39,498][WARNING]: Skipped checksum for file with hash: 82f39434-8060-281b-2a5d-a6266123abee, and path: /stelmo/nwb/analysis/Totoro20220606/Totoro20220606_HE1Y0JH44Q.nwb\n",
      "WARNING:datajoint:Skipped checksum for file with hash: 82f39434-8060-281b-2a5d-a6266123abee, and path: /stelmo/nwb/analysis/Totoro20220606/Totoro20220606_HE1Y0JH44Q.nwb\n"
     ]
    },
    {
     "name": "stdout",
     "output_type": "stream",
     "text": [
      "Writing new NWB file Totoro20220606_FJX2D69G4T.nwb\n"
     ]
    },
    {
     "name": "stderr",
     "output_type": "stream",
     "text": [
      "[2023-11-08 09:25:45,828][WARNING]: Skipped checksum for file with hash: 0d064cab-c473-4944-c76e-011ecb5b6084, and path: /stelmo/nwb/analysis/Totoro20220606/Totoro20220606_C77ZSU7JUA.nwb\n",
      "WARNING:datajoint:Skipped checksum for file with hash: 0d064cab-c473-4944-c76e-011ecb5b6084, and path: /stelmo/nwb/analysis/Totoro20220606/Totoro20220606_C77ZSU7JUA.nwb\n",
      "[2023-11-08 09:25:46,841][WARNING]: Skipped checksum for file with hash: 0d064cab-c473-4944-c76e-011ecb5b6084, and path: /stelmo/nwb/analysis/Totoro20220606/Totoro20220606_C77ZSU7JUA.nwb\n",
      "WARNING:datajoint:Skipped checksum for file with hash: 0d064cab-c473-4944-c76e-011ecb5b6084, and path: /stelmo/nwb/analysis/Totoro20220606/Totoro20220606_C77ZSU7JUA.nwb\n"
     ]
    },
    {
     "name": "stdout",
     "output_type": "stream",
     "text": [
      "Writing new NWB file Totoro20220606_WOVOHG0MTR.nwb\n"
     ]
    },
    {
     "name": "stderr",
     "output_type": "stream",
     "text": [
      "[2023-11-08 09:25:51,732][WARNING]: Skipped checksum for file with hash: 48e7eb5e-6ff7-1ef0-e3b3-98cf1bc42a62, and path: /stelmo/nwb/analysis/Totoro20220606/Totoro20220606_3OO8FH7ZIV.nwb\n",
      "WARNING:datajoint:Skipped checksum for file with hash: 48e7eb5e-6ff7-1ef0-e3b3-98cf1bc42a62, and path: /stelmo/nwb/analysis/Totoro20220606/Totoro20220606_3OO8FH7ZIV.nwb\n",
      "[2023-11-08 09:25:52,869][WARNING]: Skipped checksum for file with hash: 48e7eb5e-6ff7-1ef0-e3b3-98cf1bc42a62, and path: /stelmo/nwb/analysis/Totoro20220606/Totoro20220606_3OO8FH7ZIV.nwb\n",
      "WARNING:datajoint:Skipped checksum for file with hash: 48e7eb5e-6ff7-1ef0-e3b3-98cf1bc42a62, and path: /stelmo/nwb/analysis/Totoro20220606/Totoro20220606_3OO8FH7ZIV.nwb\n"
     ]
    },
    {
     "name": "stdout",
     "output_type": "stream",
     "text": [
      "Writing new NWB file Totoro20220606_A5EZXFEWV0.nwb\n"
     ]
    },
    {
     "name": "stderr",
     "output_type": "stream",
     "text": [
      "[2023-11-08 09:25:58,581][WARNING]: Skipped checksum for file with hash: 9d55c2a1-e12c-6905-53b1-c6402c46ce19, and path: /stelmo/nwb/analysis/Totoro20220606/Totoro20220606_6PEQXV0SIW.nwb\n",
      "WARNING:datajoint:Skipped checksum for file with hash: 9d55c2a1-e12c-6905-53b1-c6402c46ce19, and path: /stelmo/nwb/analysis/Totoro20220606/Totoro20220606_6PEQXV0SIW.nwb\n",
      "[2023-11-08 09:25:59,394][WARNING]: Skipped checksum for file with hash: 9d55c2a1-e12c-6905-53b1-c6402c46ce19, and path: /stelmo/nwb/analysis/Totoro20220606/Totoro20220606_6PEQXV0SIW.nwb\n",
      "WARNING:datajoint:Skipped checksum for file with hash: 9d55c2a1-e12c-6905-53b1-c6402c46ce19, and path: /stelmo/nwb/analysis/Totoro20220606/Totoro20220606_6PEQXV0SIW.nwb\n"
     ]
    },
    {
     "name": "stdout",
     "output_type": "stream",
     "text": [
      "Writing new NWB file Totoro20220606_JKTIF868LP.nwb\n"
     ]
    },
    {
     "name": "stderr",
     "output_type": "stream",
     "text": [
      "[2023-11-08 09:26:04,961][WARNING]: Skipped checksum for file with hash: 04944204-5c62-52bb-9fdb-f22aa68d040a, and path: /stelmo/nwb/analysis/Totoro20220606/Totoro20220606_Q7YSPHIWKB.nwb\n",
      "WARNING:datajoint:Skipped checksum for file with hash: 04944204-5c62-52bb-9fdb-f22aa68d040a, and path: /stelmo/nwb/analysis/Totoro20220606/Totoro20220606_Q7YSPHIWKB.nwb\n",
      "[2023-11-08 09:26:05,822][WARNING]: Skipped checksum for file with hash: 04944204-5c62-52bb-9fdb-f22aa68d040a, and path: /stelmo/nwb/analysis/Totoro20220606/Totoro20220606_Q7YSPHIWKB.nwb\n",
      "WARNING:datajoint:Skipped checksum for file with hash: 04944204-5c62-52bb-9fdb-f22aa68d040a, and path: /stelmo/nwb/analysis/Totoro20220606/Totoro20220606_Q7YSPHIWKB.nwb\n"
     ]
    },
    {
     "name": "stdout",
     "output_type": "stream",
     "text": [
      "Writing new NWB file Totoro20220606_1UM57DZXDO.nwb\n"
     ]
    },
    {
     "name": "stderr",
     "output_type": "stream",
     "text": [
      "[2023-11-08 09:26:12,310][WARNING]: Skipped checksum for file with hash: 22f02850-0b31-7202-561c-347ea72233f4, and path: /stelmo/nwb/analysis/Totoro20220606/Totoro20220606_7BM78GKIEX.nwb\n",
      "WARNING:datajoint:Skipped checksum for file with hash: 22f02850-0b31-7202-561c-347ea72233f4, and path: /stelmo/nwb/analysis/Totoro20220606/Totoro20220606_7BM78GKIEX.nwb\n",
      "[2023-11-08 09:26:13,157][WARNING]: Skipped checksum for file with hash: 22f02850-0b31-7202-561c-347ea72233f4, and path: /stelmo/nwb/analysis/Totoro20220606/Totoro20220606_7BM78GKIEX.nwb\n",
      "WARNING:datajoint:Skipped checksum for file with hash: 22f02850-0b31-7202-561c-347ea72233f4, and path: /stelmo/nwb/analysis/Totoro20220606/Totoro20220606_7BM78GKIEX.nwb\n"
     ]
    },
    {
     "name": "stdout",
     "output_type": "stream",
     "text": [
      "Writing new NWB file Totoro20220606_NINMNHZI1R.nwb\n"
     ]
    },
    {
     "name": "stderr",
     "output_type": "stream",
     "text": [
      "[2023-11-08 09:26:19,324][WARNING]: Skipped checksum for file with hash: 09dc5a4b-74f2-7763-9da8-41ef3138b720, and path: /stelmo/nwb/analysis/Totoro20220606/Totoro20220606_Y2D8H6PYY4.nwb\n",
      "WARNING:datajoint:Skipped checksum for file with hash: 09dc5a4b-74f2-7763-9da8-41ef3138b720, and path: /stelmo/nwb/analysis/Totoro20220606/Totoro20220606_Y2D8H6PYY4.nwb\n",
      "[2023-11-08 09:26:20,571][WARNING]: Skipped checksum for file with hash: 09dc5a4b-74f2-7763-9da8-41ef3138b720, and path: /stelmo/nwb/analysis/Totoro20220606/Totoro20220606_Y2D8H6PYY4.nwb\n",
      "WARNING:datajoint:Skipped checksum for file with hash: 09dc5a4b-74f2-7763-9da8-41ef3138b720, and path: /stelmo/nwb/analysis/Totoro20220606/Totoro20220606_Y2D8H6PYY4.nwb\n"
     ]
    },
    {
     "name": "stdout",
     "output_type": "stream",
     "text": [
      "Writing new NWB file Totoro20220606_YHILZ2BB52.nwb\n"
     ]
    },
    {
     "name": "stderr",
     "output_type": "stream",
     "text": [
      "[2023-11-08 09:26:26,488][WARNING]: Skipped checksum for file with hash: 0169bde6-66f1-cb37-d195-bcefdfe4164f, and path: /stelmo/nwb/analysis/Totoro20220606/Totoro20220606_BDC5BWZ2AV.nwb\n",
      "WARNING:datajoint:Skipped checksum for file with hash: 0169bde6-66f1-cb37-d195-bcefdfe4164f, and path: /stelmo/nwb/analysis/Totoro20220606/Totoro20220606_BDC5BWZ2AV.nwb\n",
      "[2023-11-08 09:26:27,723][WARNING]: Skipped checksum for file with hash: 0169bde6-66f1-cb37-d195-bcefdfe4164f, and path: /stelmo/nwb/analysis/Totoro20220606/Totoro20220606_BDC5BWZ2AV.nwb\n",
      "WARNING:datajoint:Skipped checksum for file with hash: 0169bde6-66f1-cb37-d195-bcefdfe4164f, and path: /stelmo/nwb/analysis/Totoro20220606/Totoro20220606_BDC5BWZ2AV.nwb\n"
     ]
    },
    {
     "name": "stdout",
     "output_type": "stream",
     "text": [
      "Writing new NWB file Totoro20220606_4Y0222TG2B.nwb\n"
     ]
    },
    {
     "name": "stderr",
     "output_type": "stream",
     "text": [
      "[2023-11-08 09:26:34,610][WARNING]: Skipped checksum for file with hash: bd08e2a0-2393-9ebc-69e9-8a8657b0939b, and path: /stelmo/nwb/analysis/Wallie20220911/Wallie20220911_7HH21BMRB9.nwb\n",
      "WARNING:datajoint:Skipped checksum for file with hash: bd08e2a0-2393-9ebc-69e9-8a8657b0939b, and path: /stelmo/nwb/analysis/Wallie20220911/Wallie20220911_7HH21BMRB9.nwb\n",
      "[2023-11-08 09:26:35,627][WARNING]: Skipped checksum for file with hash: bd08e2a0-2393-9ebc-69e9-8a8657b0939b, and path: /stelmo/nwb/analysis/Wallie20220911/Wallie20220911_7HH21BMRB9.nwb\n",
      "WARNING:datajoint:Skipped checksum for file with hash: bd08e2a0-2393-9ebc-69e9-8a8657b0939b, and path: /stelmo/nwb/analysis/Wallie20220911/Wallie20220911_7HH21BMRB9.nwb\n"
     ]
    },
    {
     "name": "stdout",
     "output_type": "stream",
     "text": [
      "Writing new NWB file Wallie20220911_TC9L1IJH3W.nwb\n"
     ]
    },
    {
     "name": "stderr",
     "output_type": "stream",
     "text": [
      "[2023-11-08 09:26:44,284][WARNING]: Skipped checksum for file with hash: 44704709-7097-5086-3812-4f0c30c8e691, and path: /stelmo/nwb/analysis/Wallie20220911/Wallie20220911_Y5H7RNRESZ.nwb\n",
      "WARNING:datajoint:Skipped checksum for file with hash: 44704709-7097-5086-3812-4f0c30c8e691, and path: /stelmo/nwb/analysis/Wallie20220911/Wallie20220911_Y5H7RNRESZ.nwb\n",
      "[2023-11-08 09:26:45,611][WARNING]: Skipped checksum for file with hash: 44704709-7097-5086-3812-4f0c30c8e691, and path: /stelmo/nwb/analysis/Wallie20220911/Wallie20220911_Y5H7RNRESZ.nwb\n",
      "WARNING:datajoint:Skipped checksum for file with hash: 44704709-7097-5086-3812-4f0c30c8e691, and path: /stelmo/nwb/analysis/Wallie20220911/Wallie20220911_Y5H7RNRESZ.nwb\n"
     ]
    },
    {
     "name": "stdout",
     "output_type": "stream",
     "text": [
      "Writing new NWB file Wallie20220911_YO01B3BXNM.nwb\n"
     ]
    },
    {
     "name": "stderr",
     "output_type": "stream",
     "text": [
      "[2023-11-08 09:26:51,662][WARNING]: Skipped checksum for file with hash: e7da5ed5-297e-83c7-f616-44dc49e47a9f, and path: /stelmo/nwb/analysis/Wallie20220911/Wallie20220911_1BDJUYV86J.nwb\n",
      "WARNING:datajoint:Skipped checksum for file with hash: e7da5ed5-297e-83c7-f616-44dc49e47a9f, and path: /stelmo/nwb/analysis/Wallie20220911/Wallie20220911_1BDJUYV86J.nwb\n",
      "[2023-11-08 09:26:52,848][WARNING]: Skipped checksum for file with hash: e7da5ed5-297e-83c7-f616-44dc49e47a9f, and path: /stelmo/nwb/analysis/Wallie20220911/Wallie20220911_1BDJUYV86J.nwb\n",
      "WARNING:datajoint:Skipped checksum for file with hash: e7da5ed5-297e-83c7-f616-44dc49e47a9f, and path: /stelmo/nwb/analysis/Wallie20220911/Wallie20220911_1BDJUYV86J.nwb\n"
     ]
    },
    {
     "name": "stdout",
     "output_type": "stream",
     "text": [
      "Writing new NWB file Wallie20220911_VESRG2HLMI.nwb\n"
     ]
    },
    {
     "name": "stderr",
     "output_type": "stream",
     "text": [
      "[2023-11-08 09:26:58,368][WARNING]: Skipped checksum for file with hash: 5b4b07fc-36b6-d0d9-464e-737ba9fe3512, and path: /stelmo/nwb/analysis/Wallie20220911/Wallie20220911_BJYHPWQPOU.nwb\n",
      "WARNING:datajoint:Skipped checksum for file with hash: 5b4b07fc-36b6-d0d9-464e-737ba9fe3512, and path: /stelmo/nwb/analysis/Wallie20220911/Wallie20220911_BJYHPWQPOU.nwb\n",
      "[2023-11-08 09:26:59,718][WARNING]: Skipped checksum for file with hash: 5b4b07fc-36b6-d0d9-464e-737ba9fe3512, and path: /stelmo/nwb/analysis/Wallie20220911/Wallie20220911_BJYHPWQPOU.nwb\n",
      "WARNING:datajoint:Skipped checksum for file with hash: 5b4b07fc-36b6-d0d9-464e-737ba9fe3512, and path: /stelmo/nwb/analysis/Wallie20220911/Wallie20220911_BJYHPWQPOU.nwb\n"
     ]
    },
    {
     "name": "stdout",
     "output_type": "stream",
     "text": [
      "Writing new NWB file Wallie20220911_5U1Z3ZK20H.nwb\n"
     ]
    },
    {
     "name": "stderr",
     "output_type": "stream",
     "text": [
      "[2023-11-08 09:27:05,917][WARNING]: Skipped checksum for file with hash: 04c57030-bde3-371d-8ef5-98ab0094d50e, and path: /stelmo/nwb/analysis/Wallie20220911/Wallie20220911_Y9MJZ9BW8A.nwb\n",
      "WARNING:datajoint:Skipped checksum for file with hash: 04c57030-bde3-371d-8ef5-98ab0094d50e, and path: /stelmo/nwb/analysis/Wallie20220911/Wallie20220911_Y9MJZ9BW8A.nwb\n",
      "[2023-11-08 09:27:06,787][WARNING]: Skipped checksum for file with hash: 04c57030-bde3-371d-8ef5-98ab0094d50e, and path: /stelmo/nwb/analysis/Wallie20220911/Wallie20220911_Y9MJZ9BW8A.nwb\n",
      "WARNING:datajoint:Skipped checksum for file with hash: 04c57030-bde3-371d-8ef5-98ab0094d50e, and path: /stelmo/nwb/analysis/Wallie20220911/Wallie20220911_Y9MJZ9BW8A.nwb\n"
     ]
    },
    {
     "name": "stdout",
     "output_type": "stream",
     "text": [
      "Writing new NWB file Wallie20220911_AZCI1FFVAE.nwb\n"
     ]
    },
    {
     "name": "stderr",
     "output_type": "stream",
     "text": [
      "[2023-11-08 09:27:13,365][WARNING]: Skipped checksum for file with hash: cf2b6ad0-e2cd-e37b-7752-4e9279fd8534, and path: /stelmo/nwb/analysis/Wallie20220911/Wallie20220911_EJ11E83OG5.nwb\n",
      "WARNING:datajoint:Skipped checksum for file with hash: cf2b6ad0-e2cd-e37b-7752-4e9279fd8534, and path: /stelmo/nwb/analysis/Wallie20220911/Wallie20220911_EJ11E83OG5.nwb\n",
      "[2023-11-08 09:27:14,257][WARNING]: Skipped checksum for file with hash: cf2b6ad0-e2cd-e37b-7752-4e9279fd8534, and path: /stelmo/nwb/analysis/Wallie20220911/Wallie20220911_EJ11E83OG5.nwb\n",
      "WARNING:datajoint:Skipped checksum for file with hash: cf2b6ad0-e2cd-e37b-7752-4e9279fd8534, and path: /stelmo/nwb/analysis/Wallie20220911/Wallie20220911_EJ11E83OG5.nwb\n"
     ]
    },
    {
     "name": "stdout",
     "output_type": "stream",
     "text": [
      "Writing new NWB file Wallie20220911_8WU9GRP83I.nwb\n"
     ]
    },
    {
     "name": "stderr",
     "output_type": "stream",
     "text": [
      "[2023-11-08 09:27:19,974][WARNING]: Skipped checksum for file with hash: 2ea70ebf-1961-a8c1-9ea1-0fa0b8afe147, and path: /stelmo/nwb/analysis/Wallie20220912/Wallie20220912_A5W4AVD5UJ.nwb\n",
      "WARNING:datajoint:Skipped checksum for file with hash: 2ea70ebf-1961-a8c1-9ea1-0fa0b8afe147, and path: /stelmo/nwb/analysis/Wallie20220912/Wallie20220912_A5W4AVD5UJ.nwb\n",
      "[2023-11-08 09:27:20,844][WARNING]: Skipped checksum for file with hash: 2ea70ebf-1961-a8c1-9ea1-0fa0b8afe147, and path: /stelmo/nwb/analysis/Wallie20220912/Wallie20220912_A5W4AVD5UJ.nwb\n",
      "WARNING:datajoint:Skipped checksum for file with hash: 2ea70ebf-1961-a8c1-9ea1-0fa0b8afe147, and path: /stelmo/nwb/analysis/Wallie20220912/Wallie20220912_A5W4AVD5UJ.nwb\n"
     ]
    },
    {
     "name": "stdout",
     "output_type": "stream",
     "text": [
      "Writing new NWB file Wallie20220912_KFCRX1KYVY.nwb\n"
     ]
    },
    {
     "name": "stderr",
     "output_type": "stream",
     "text": [
      "[2023-11-08 09:27:29,403][WARNING]: Skipped checksum for file with hash: c90f2e15-afae-0de6-e671-bf6243d9c777, and path: /stelmo/nwb/analysis/Wallie20220912/Wallie20220912_G764ZQIWHW.nwb\n",
      "WARNING:datajoint:Skipped checksum for file with hash: c90f2e15-afae-0de6-e671-bf6243d9c777, and path: /stelmo/nwb/analysis/Wallie20220912/Wallie20220912_G764ZQIWHW.nwb\n",
      "[2023-11-08 09:27:30,221][WARNING]: Skipped checksum for file with hash: c90f2e15-afae-0de6-e671-bf6243d9c777, and path: /stelmo/nwb/analysis/Wallie20220912/Wallie20220912_G764ZQIWHW.nwb\n",
      "WARNING:datajoint:Skipped checksum for file with hash: c90f2e15-afae-0de6-e671-bf6243d9c777, and path: /stelmo/nwb/analysis/Wallie20220912/Wallie20220912_G764ZQIWHW.nwb\n"
     ]
    },
    {
     "name": "stdout",
     "output_type": "stream",
     "text": [
      "Writing new NWB file Wallie20220912_HW90415QJF.nwb\n"
     ]
    },
    {
     "name": "stderr",
     "output_type": "stream",
     "text": [
      "[2023-11-08 09:27:38,415][WARNING]: Skipped checksum for file with hash: 7beea138-39e2-9a16-be0b-31de65bf66fe, and path: /stelmo/nwb/analysis/Wallie20220912/Wallie20220912_TEV8V94LHR.nwb\n",
      "WARNING:datajoint:Skipped checksum for file with hash: 7beea138-39e2-9a16-be0b-31de65bf66fe, and path: /stelmo/nwb/analysis/Wallie20220912/Wallie20220912_TEV8V94LHR.nwb\n",
      "[2023-11-08 09:27:39,334][WARNING]: Skipped checksum for file with hash: 7beea138-39e2-9a16-be0b-31de65bf66fe, and path: /stelmo/nwb/analysis/Wallie20220912/Wallie20220912_TEV8V94LHR.nwb\n",
      "WARNING:datajoint:Skipped checksum for file with hash: 7beea138-39e2-9a16-be0b-31de65bf66fe, and path: /stelmo/nwb/analysis/Wallie20220912/Wallie20220912_TEV8V94LHR.nwb\n"
     ]
    },
    {
     "name": "stdout",
     "output_type": "stream",
     "text": [
      "Writing new NWB file Wallie20220912_EMXUCACQ9M.nwb\n"
     ]
    },
    {
     "name": "stderr",
     "output_type": "stream",
     "text": [
      "[2023-11-08 09:27:49,219][WARNING]: Skipped checksum for file with hash: 11768bcd-7558-b364-050a-3a8e6058374a, and path: /stelmo/nwb/analysis/Wallie20220912/Wallie20220912_MXHNGLGUQW.nwb\n",
      "WARNING:datajoint:Skipped checksum for file with hash: 11768bcd-7558-b364-050a-3a8e6058374a, and path: /stelmo/nwb/analysis/Wallie20220912/Wallie20220912_MXHNGLGUQW.nwb\n",
      "[2023-11-08 09:27:50,088][WARNING]: Skipped checksum for file with hash: 11768bcd-7558-b364-050a-3a8e6058374a, and path: /stelmo/nwb/analysis/Wallie20220912/Wallie20220912_MXHNGLGUQW.nwb\n",
      "WARNING:datajoint:Skipped checksum for file with hash: 11768bcd-7558-b364-050a-3a8e6058374a, and path: /stelmo/nwb/analysis/Wallie20220912/Wallie20220912_MXHNGLGUQW.nwb\n"
     ]
    },
    {
     "name": "stdout",
     "output_type": "stream",
     "text": [
      "Writing new NWB file Wallie20220912_QTI8ADVQSP.nwb\n"
     ]
    },
    {
     "name": "stderr",
     "output_type": "stream",
     "text": [
      "[2023-11-08 09:27:57,915][WARNING]: Skipped checksum for file with hash: 8757e0d6-dd80-6d8a-35d4-a05b1eb5ac73, and path: /stelmo/nwb/analysis/Wallie20220912/Wallie20220912_NCQ2C4NI40.nwb\n",
      "WARNING:datajoint:Skipped checksum for file with hash: 8757e0d6-dd80-6d8a-35d4-a05b1eb5ac73, and path: /stelmo/nwb/analysis/Wallie20220912/Wallie20220912_NCQ2C4NI40.nwb\n",
      "[2023-11-08 09:27:58,819][WARNING]: Skipped checksum for file with hash: 8757e0d6-dd80-6d8a-35d4-a05b1eb5ac73, and path: /stelmo/nwb/analysis/Wallie20220912/Wallie20220912_NCQ2C4NI40.nwb\n",
      "WARNING:datajoint:Skipped checksum for file with hash: 8757e0d6-dd80-6d8a-35d4-a05b1eb5ac73, and path: /stelmo/nwb/analysis/Wallie20220912/Wallie20220912_NCQ2C4NI40.nwb\n"
     ]
    },
    {
     "name": "stdout",
     "output_type": "stream",
     "text": [
      "Writing new NWB file Wallie20220912_JSETULVMKL.nwb\n"
     ]
    },
    {
     "name": "stderr",
     "output_type": "stream",
     "text": [
      "[2023-11-08 09:28:03,803][WARNING]: Skipped checksum for file with hash: 1e0a0d76-18de-0577-923a-d92872a67250, and path: /stelmo/nwb/analysis/Wallie20220912/Wallie20220912_5RF38C8K5L.nwb\n",
      "WARNING:datajoint:Skipped checksum for file with hash: 1e0a0d76-18de-0577-923a-d92872a67250, and path: /stelmo/nwb/analysis/Wallie20220912/Wallie20220912_5RF38C8K5L.nwb\n",
      "[2023-11-08 09:28:04,642][WARNING]: Skipped checksum for file with hash: 1e0a0d76-18de-0577-923a-d92872a67250, and path: /stelmo/nwb/analysis/Wallie20220912/Wallie20220912_5RF38C8K5L.nwb\n",
      "WARNING:datajoint:Skipped checksum for file with hash: 1e0a0d76-18de-0577-923a-d92872a67250, and path: /stelmo/nwb/analysis/Wallie20220912/Wallie20220912_5RF38C8K5L.nwb\n"
     ]
    },
    {
     "name": "stdout",
     "output_type": "stream",
     "text": [
      "Writing new NWB file Wallie20220912_6CZTE8Z6DD.nwb\n"
     ]
    },
    {
     "name": "stderr",
     "output_type": "stream",
     "text": [
      "[2023-11-08 09:28:10,793][WARNING]: Skipped checksum for file with hash: 8bd3cdd7-eed7-bcd3-95f8-5c5b637781db, and path: /stelmo/nwb/analysis/Wallie20220912/Wallie20220912_FJ5A9F4LAA.nwb\n",
      "WARNING:datajoint:Skipped checksum for file with hash: 8bd3cdd7-eed7-bcd3-95f8-5c5b637781db, and path: /stelmo/nwb/analysis/Wallie20220912/Wallie20220912_FJ5A9F4LAA.nwb\n",
      "[2023-11-08 09:28:11,625][WARNING]: Skipped checksum for file with hash: 8bd3cdd7-eed7-bcd3-95f8-5c5b637781db, and path: /stelmo/nwb/analysis/Wallie20220912/Wallie20220912_FJ5A9F4LAA.nwb\n",
      "WARNING:datajoint:Skipped checksum for file with hash: 8bd3cdd7-eed7-bcd3-95f8-5c5b637781db, and path: /stelmo/nwb/analysis/Wallie20220912/Wallie20220912_FJ5A9F4LAA.nwb\n"
     ]
    },
    {
     "name": "stdout",
     "output_type": "stream",
     "text": [
      "Writing new NWB file Wallie20220912_3MML7Q9SYD.nwb\n"
     ]
    },
    {
     "name": "stderr",
     "output_type": "stream",
     "text": [
      "[2023-11-08 09:28:18,205][WARNING]: Skipped checksum for file with hash: 55447f97-7796-427a-9e7d-a571a8f262ee, and path: /stelmo/nwb/analysis/Wallie20220912/Wallie20220912_8SEF30NE37.nwb\n",
      "WARNING:datajoint:Skipped checksum for file with hash: 55447f97-7796-427a-9e7d-a571a8f262ee, and path: /stelmo/nwb/analysis/Wallie20220912/Wallie20220912_8SEF30NE37.nwb\n",
      "[2023-11-08 09:28:18,971][WARNING]: Skipped checksum for file with hash: 55447f97-7796-427a-9e7d-a571a8f262ee, and path: /stelmo/nwb/analysis/Wallie20220912/Wallie20220912_8SEF30NE37.nwb\n",
      "WARNING:datajoint:Skipped checksum for file with hash: 55447f97-7796-427a-9e7d-a571a8f262ee, and path: /stelmo/nwb/analysis/Wallie20220912/Wallie20220912_8SEF30NE37.nwb\n"
     ]
    },
    {
     "name": "stdout",
     "output_type": "stream",
     "text": [
      "Writing new NWB file Wallie20220912_9YRSLC78IK.nwb\n"
     ]
    },
    {
     "name": "stderr",
     "output_type": "stream",
     "text": [
      "[2023-11-08 09:28:24,874][WARNING]: Skipped checksum for file with hash: 40a723ff-aa68-8b5c-74f4-d5480366d15e, and path: /stelmo/nwb/analysis/Wallie20220913/Wallie20220913_RSO2GH9615.nwb\n",
      "WARNING:datajoint:Skipped checksum for file with hash: 40a723ff-aa68-8b5c-74f4-d5480366d15e, and path: /stelmo/nwb/analysis/Wallie20220913/Wallie20220913_RSO2GH9615.nwb\n",
      "[2023-11-08 09:28:25,661][WARNING]: Skipped checksum for file with hash: 40a723ff-aa68-8b5c-74f4-d5480366d15e, and path: /stelmo/nwb/analysis/Wallie20220913/Wallie20220913_RSO2GH9615.nwb\n",
      "WARNING:datajoint:Skipped checksum for file with hash: 40a723ff-aa68-8b5c-74f4-d5480366d15e, and path: /stelmo/nwb/analysis/Wallie20220913/Wallie20220913_RSO2GH9615.nwb\n"
     ]
    },
    {
     "name": "stdout",
     "output_type": "stream",
     "text": [
      "Writing new NWB file Wallie20220913_KG2BN9DPV4.nwb\n"
     ]
    },
    {
     "name": "stderr",
     "output_type": "stream",
     "text": [
      "[2023-11-08 09:28:34,504][WARNING]: Skipped checksum for file with hash: 304a24b9-0c3a-387b-157e-8fd020ccb20f, and path: /stelmo/nwb/analysis/Wallie20220913/Wallie20220913_0UG6RP0I0I.nwb\n",
      "WARNING:datajoint:Skipped checksum for file with hash: 304a24b9-0c3a-387b-157e-8fd020ccb20f, and path: /stelmo/nwb/analysis/Wallie20220913/Wallie20220913_0UG6RP0I0I.nwb\n",
      "[2023-11-08 09:28:35,510][WARNING]: Skipped checksum for file with hash: 304a24b9-0c3a-387b-157e-8fd020ccb20f, and path: /stelmo/nwb/analysis/Wallie20220913/Wallie20220913_0UG6RP0I0I.nwb\n",
      "WARNING:datajoint:Skipped checksum for file with hash: 304a24b9-0c3a-387b-157e-8fd020ccb20f, and path: /stelmo/nwb/analysis/Wallie20220913/Wallie20220913_0UG6RP0I0I.nwb\n"
     ]
    },
    {
     "name": "stdout",
     "output_type": "stream",
     "text": [
      "Writing new NWB file Wallie20220913_YF2GH3VI4A.nwb\n"
     ]
    },
    {
     "name": "stderr",
     "output_type": "stream",
     "text": [
      "[2023-11-08 09:28:41,270][WARNING]: Skipped checksum for file with hash: f5f1de35-ef39-9bb6-0497-778b5c562be6, and path: /stelmo/nwb/analysis/Wallie20220913/Wallie20220913_M8YAM56OIK.nwb\n",
      "WARNING:datajoint:Skipped checksum for file with hash: f5f1de35-ef39-9bb6-0497-778b5c562be6, and path: /stelmo/nwb/analysis/Wallie20220913/Wallie20220913_M8YAM56OIK.nwb\n",
      "[2023-11-08 09:28:42,057][WARNING]: Skipped checksum for file with hash: f5f1de35-ef39-9bb6-0497-778b5c562be6, and path: /stelmo/nwb/analysis/Wallie20220913/Wallie20220913_M8YAM56OIK.nwb\n",
      "WARNING:datajoint:Skipped checksum for file with hash: f5f1de35-ef39-9bb6-0497-778b5c562be6, and path: /stelmo/nwb/analysis/Wallie20220913/Wallie20220913_M8YAM56OIK.nwb\n"
     ]
    },
    {
     "name": "stdout",
     "output_type": "stream",
     "text": [
      "Writing new NWB file Wallie20220913_HB0QXO5MYO.nwb\n"
     ]
    },
    {
     "name": "stderr",
     "output_type": "stream",
     "text": [
      "[2023-11-08 09:28:49,015][WARNING]: Skipped checksum for file with hash: a3a2831b-2f30-b844-db19-1a036c111e63, and path: /stelmo/nwb/analysis/Wallie20220913/Wallie20220913_60KYWA5YL6.nwb\n",
      "WARNING:datajoint:Skipped checksum for file with hash: a3a2831b-2f30-b844-db19-1a036c111e63, and path: /stelmo/nwb/analysis/Wallie20220913/Wallie20220913_60KYWA5YL6.nwb\n",
      "[2023-11-08 09:28:49,821][WARNING]: Skipped checksum for file with hash: a3a2831b-2f30-b844-db19-1a036c111e63, and path: /stelmo/nwb/analysis/Wallie20220913/Wallie20220913_60KYWA5YL6.nwb\n",
      "WARNING:datajoint:Skipped checksum for file with hash: a3a2831b-2f30-b844-db19-1a036c111e63, and path: /stelmo/nwb/analysis/Wallie20220913/Wallie20220913_60KYWA5YL6.nwb\n"
     ]
    },
    {
     "name": "stdout",
     "output_type": "stream",
     "text": [
      "Writing new NWB file Wallie20220913_12SYF0JVPM.nwb\n"
     ]
    },
    {
     "name": "stderr",
     "output_type": "stream",
     "text": [
      "[2023-11-08 09:28:59,071][WARNING]: Skipped checksum for file with hash: 5359e9a4-e96d-003d-41df-924bf3bfafff, and path: /stelmo/nwb/analysis/Wallie20220913/Wallie20220913_2XXE5HGGGJ.nwb\n",
      "WARNING:datajoint:Skipped checksum for file with hash: 5359e9a4-e96d-003d-41df-924bf3bfafff, and path: /stelmo/nwb/analysis/Wallie20220913/Wallie20220913_2XXE5HGGGJ.nwb\n",
      "[2023-11-08 09:28:59,902][WARNING]: Skipped checksum for file with hash: 5359e9a4-e96d-003d-41df-924bf3bfafff, and path: /stelmo/nwb/analysis/Wallie20220913/Wallie20220913_2XXE5HGGGJ.nwb\n",
      "WARNING:datajoint:Skipped checksum for file with hash: 5359e9a4-e96d-003d-41df-924bf3bfafff, and path: /stelmo/nwb/analysis/Wallie20220913/Wallie20220913_2XXE5HGGGJ.nwb\n"
     ]
    },
    {
     "name": "stdout",
     "output_type": "stream",
     "text": [
      "Writing new NWB file Wallie20220913_0M8MJTTGHX.nwb\n"
     ]
    },
    {
     "name": "stderr",
     "output_type": "stream",
     "text": [
      "[2023-11-08 09:29:08,728][WARNING]: Skipped checksum for file with hash: 00b6e84d-9296-3da6-2b37-bf8ba7e112a7, and path: /stelmo/nwb/analysis/Wallie20220913/Wallie20220913_W3MW0UW6YO.nwb\n",
      "WARNING:datajoint:Skipped checksum for file with hash: 00b6e84d-9296-3da6-2b37-bf8ba7e112a7, and path: /stelmo/nwb/analysis/Wallie20220913/Wallie20220913_W3MW0UW6YO.nwb\n",
      "[2023-11-08 09:29:10,096][WARNING]: Skipped checksum for file with hash: 00b6e84d-9296-3da6-2b37-bf8ba7e112a7, and path: /stelmo/nwb/analysis/Wallie20220913/Wallie20220913_W3MW0UW6YO.nwb\n",
      "WARNING:datajoint:Skipped checksum for file with hash: 00b6e84d-9296-3da6-2b37-bf8ba7e112a7, and path: /stelmo/nwb/analysis/Wallie20220913/Wallie20220913_W3MW0UW6YO.nwb\n"
     ]
    },
    {
     "name": "stdout",
     "output_type": "stream",
     "text": [
      "Writing new NWB file Wallie20220913_Z5OEG8F2A3.nwb\n"
     ]
    },
    {
     "name": "stderr",
     "output_type": "stream",
     "text": [
      "[2023-11-08 09:29:15,653][WARNING]: Skipped checksum for file with hash: e68cdd14-0f08-9c14-a180-134da0176537, and path: /stelmo/nwb/analysis/Wallie20220913/Wallie20220913_8182ST7CYK.nwb\n",
      "WARNING:datajoint:Skipped checksum for file with hash: e68cdd14-0f08-9c14-a180-134da0176537, and path: /stelmo/nwb/analysis/Wallie20220913/Wallie20220913_8182ST7CYK.nwb\n",
      "[2023-11-08 09:29:16,586][WARNING]: Skipped checksum for file with hash: e68cdd14-0f08-9c14-a180-134da0176537, and path: /stelmo/nwb/analysis/Wallie20220913/Wallie20220913_8182ST7CYK.nwb\n",
      "WARNING:datajoint:Skipped checksum for file with hash: e68cdd14-0f08-9c14-a180-134da0176537, and path: /stelmo/nwb/analysis/Wallie20220913/Wallie20220913_8182ST7CYK.nwb\n"
     ]
    },
    {
     "name": "stdout",
     "output_type": "stream",
     "text": [
      "Writing new NWB file Wallie20220913_WMJ9W8CCQC.nwb\n"
     ]
    },
    {
     "name": "stderr",
     "output_type": "stream",
     "text": [
      "[2023-11-08 09:29:26,018][WARNING]: Skipped checksum for file with hash: 5c2e97cc-34a4-cd7e-708e-9e8ab39e8236, and path: /stelmo/nwb/analysis/Wallie20220913/Wallie20220913_UJ839LNX9E.nwb\n",
      "WARNING:datajoint:Skipped checksum for file with hash: 5c2e97cc-34a4-cd7e-708e-9e8ab39e8236, and path: /stelmo/nwb/analysis/Wallie20220913/Wallie20220913_UJ839LNX9E.nwb\n",
      "[2023-11-08 09:29:27,120][WARNING]: Skipped checksum for file with hash: 5c2e97cc-34a4-cd7e-708e-9e8ab39e8236, and path: /stelmo/nwb/analysis/Wallie20220913/Wallie20220913_UJ839LNX9E.nwb\n",
      "WARNING:datajoint:Skipped checksum for file with hash: 5c2e97cc-34a4-cd7e-708e-9e8ab39e8236, and path: /stelmo/nwb/analysis/Wallie20220913/Wallie20220913_UJ839LNX9E.nwb\n"
     ]
    },
    {
     "name": "stdout",
     "output_type": "stream",
     "text": [
      "Writing new NWB file Wallie20220913_KUU0SL5HHA.nwb\n"
     ]
    },
    {
     "name": "stderr",
     "output_type": "stream",
     "text": [
      "[2023-11-08 09:29:33,169][WARNING]: Skipped checksum for file with hash: b8db32dd-3674-bbc0-b858-60d1101f77fd, and path: /stelmo/nwb/analysis/Wallie20220916/Wallie20220916_9MQ44S846Y.nwb\n",
      "WARNING:datajoint:Skipped checksum for file with hash: b8db32dd-3674-bbc0-b858-60d1101f77fd, and path: /stelmo/nwb/analysis/Wallie20220916/Wallie20220916_9MQ44S846Y.nwb\n",
      "[2023-11-08 09:29:34,299][WARNING]: Skipped checksum for file with hash: b8db32dd-3674-bbc0-b858-60d1101f77fd, and path: /stelmo/nwb/analysis/Wallie20220916/Wallie20220916_9MQ44S846Y.nwb\n",
      "WARNING:datajoint:Skipped checksum for file with hash: b8db32dd-3674-bbc0-b858-60d1101f77fd, and path: /stelmo/nwb/analysis/Wallie20220916/Wallie20220916_9MQ44S846Y.nwb\n"
     ]
    },
    {
     "name": "stdout",
     "output_type": "stream",
     "text": [
      "Writing new NWB file Wallie20220916_Y21F1ZI8B1.nwb\n"
     ]
    },
    {
     "name": "stderr",
     "output_type": "stream",
     "text": [
      "[2023-11-08 09:29:41,366][WARNING]: Skipped checksum for file with hash: 1fd4d13b-f77f-7192-5753-b1791041edf7, and path: /stelmo/nwb/analysis/Wallie20220916/Wallie20220916_FIKH8D28NO.nwb\n",
      "WARNING:datajoint:Skipped checksum for file with hash: 1fd4d13b-f77f-7192-5753-b1791041edf7, and path: /stelmo/nwb/analysis/Wallie20220916/Wallie20220916_FIKH8D28NO.nwb\n",
      "[2023-11-08 09:29:42,366][WARNING]: Skipped checksum for file with hash: 1fd4d13b-f77f-7192-5753-b1791041edf7, and path: /stelmo/nwb/analysis/Wallie20220916/Wallie20220916_FIKH8D28NO.nwb\n",
      "WARNING:datajoint:Skipped checksum for file with hash: 1fd4d13b-f77f-7192-5753-b1791041edf7, and path: /stelmo/nwb/analysis/Wallie20220916/Wallie20220916_FIKH8D28NO.nwb\n"
     ]
    },
    {
     "name": "stdout",
     "output_type": "stream",
     "text": [
      "Writing new NWB file Wallie20220916_T8TBTJDDIL.nwb\n"
     ]
    },
    {
     "name": "stderr",
     "output_type": "stream",
     "text": [
      "[2023-11-08 09:29:48,873][WARNING]: Skipped checksum for file with hash: 7102307c-e3a0-1af2-e4c0-71b6fe5cdde4, and path: /stelmo/nwb/analysis/Winnie20220713/Winnie20220713_824JXQAB78.nwb\n",
      "WARNING:datajoint:Skipped checksum for file with hash: 7102307c-e3a0-1af2-e4c0-71b6fe5cdde4, and path: /stelmo/nwb/analysis/Winnie20220713/Winnie20220713_824JXQAB78.nwb\n",
      "[2023-11-08 09:29:50,120][WARNING]: Skipped checksum for file with hash: 7102307c-e3a0-1af2-e4c0-71b6fe5cdde4, and path: /stelmo/nwb/analysis/Winnie20220713/Winnie20220713_824JXQAB78.nwb\n",
      "WARNING:datajoint:Skipped checksum for file with hash: 7102307c-e3a0-1af2-e4c0-71b6fe5cdde4, and path: /stelmo/nwb/analysis/Winnie20220713/Winnie20220713_824JXQAB78.nwb\n"
     ]
    },
    {
     "name": "stdout",
     "output_type": "stream",
     "text": [
      "Writing new NWB file Winnie20220713_YMFBQ5LE0N.nwb\n"
     ]
    },
    {
     "name": "stderr",
     "output_type": "stream",
     "text": [
      "[2023-11-08 09:30:12,306][WARNING]: Skipped checksum for file with hash: 25d8b8cd-4a4e-b4ba-2252-776d28bb4718, and path: /stelmo/nwb/analysis/Winnie20220713/Winnie20220713_YYUM4C0GTJ.nwb\n",
      "WARNING:datajoint:Skipped checksum for file with hash: 25d8b8cd-4a4e-b4ba-2252-776d28bb4718, and path: /stelmo/nwb/analysis/Winnie20220713/Winnie20220713_YYUM4C0GTJ.nwb\n",
      "[2023-11-08 09:30:13,321][WARNING]: Skipped checksum for file with hash: 25d8b8cd-4a4e-b4ba-2252-776d28bb4718, and path: /stelmo/nwb/analysis/Winnie20220713/Winnie20220713_YYUM4C0GTJ.nwb\n",
      "WARNING:datajoint:Skipped checksum for file with hash: 25d8b8cd-4a4e-b4ba-2252-776d28bb4718, and path: /stelmo/nwb/analysis/Winnie20220713/Winnie20220713_YYUM4C0GTJ.nwb\n"
     ]
    },
    {
     "name": "stdout",
     "output_type": "stream",
     "text": [
      "Writing new NWB file Winnie20220713_E70KUL3SM3.nwb\n"
     ]
    },
    {
     "name": "stderr",
     "output_type": "stream",
     "text": [
      "[2023-11-08 09:30:37,217][WARNING]: Skipped checksum for file with hash: df73fa88-9d86-b73e-c07c-0048265189ba, and path: /stelmo/nwb/analysis/Winnie20220713/Winnie20220713_I2WK0NS3K8.nwb\n",
      "WARNING:datajoint:Skipped checksum for file with hash: df73fa88-9d86-b73e-c07c-0048265189ba, and path: /stelmo/nwb/analysis/Winnie20220713/Winnie20220713_I2WK0NS3K8.nwb\n",
      "[2023-11-08 09:30:38,068][WARNING]: Skipped checksum for file with hash: df73fa88-9d86-b73e-c07c-0048265189ba, and path: /stelmo/nwb/analysis/Winnie20220713/Winnie20220713_I2WK0NS3K8.nwb\n",
      "WARNING:datajoint:Skipped checksum for file with hash: df73fa88-9d86-b73e-c07c-0048265189ba, and path: /stelmo/nwb/analysis/Winnie20220713/Winnie20220713_I2WK0NS3K8.nwb\n"
     ]
    },
    {
     "name": "stdout",
     "output_type": "stream",
     "text": [
      "Writing new NWB file Winnie20220713_CKQ17HJCTS.nwb\n"
     ]
    },
    {
     "name": "stderr",
     "output_type": "stream",
     "text": [
      "[2023-11-08 09:31:11,787][WARNING]: Skipped checksum for file with hash: 4f16dd59-bffb-5ab0-702a-9eeb237c4157, and path: /stelmo/nwb/analysis/Winnie20220713/Winnie20220713_SMXSE3L1U6.nwb\n",
      "WARNING:datajoint:Skipped checksum for file with hash: 4f16dd59-bffb-5ab0-702a-9eeb237c4157, and path: /stelmo/nwb/analysis/Winnie20220713/Winnie20220713_SMXSE3L1U6.nwb\n",
      "[2023-11-08 09:31:12,599][WARNING]: Skipped checksum for file with hash: 4f16dd59-bffb-5ab0-702a-9eeb237c4157, and path: /stelmo/nwb/analysis/Winnie20220713/Winnie20220713_SMXSE3L1U6.nwb\n",
      "WARNING:datajoint:Skipped checksum for file with hash: 4f16dd59-bffb-5ab0-702a-9eeb237c4157, and path: /stelmo/nwb/analysis/Winnie20220713/Winnie20220713_SMXSE3L1U6.nwb\n"
     ]
    },
    {
     "name": "stdout",
     "output_type": "stream",
     "text": [
      "Writing new NWB file Winnie20220713_831NQ1IUBU.nwb\n"
     ]
    },
    {
     "name": "stderr",
     "output_type": "stream",
     "text": [
      "[2023-11-08 09:31:35,366][WARNING]: Skipped checksum for file with hash: 06113737-be9c-008c-33ba-9458c8013b36, and path: /stelmo/nwb/analysis/Winnie20220713/Winnie20220713_SQN028U8S6.nwb\n",
      "WARNING:datajoint:Skipped checksum for file with hash: 06113737-be9c-008c-33ba-9458c8013b36, and path: /stelmo/nwb/analysis/Winnie20220713/Winnie20220713_SQN028U8S6.nwb\n",
      "[2023-11-08 09:31:36,287][WARNING]: Skipped checksum for file with hash: 06113737-be9c-008c-33ba-9458c8013b36, and path: /stelmo/nwb/analysis/Winnie20220713/Winnie20220713_SQN028U8S6.nwb\n",
      "WARNING:datajoint:Skipped checksum for file with hash: 06113737-be9c-008c-33ba-9458c8013b36, and path: /stelmo/nwb/analysis/Winnie20220713/Winnie20220713_SQN028U8S6.nwb\n"
     ]
    },
    {
     "name": "stdout",
     "output_type": "stream",
     "text": [
      "Writing new NWB file Winnie20220713_3SRO06G5PU.nwb\n"
     ]
    },
    {
     "name": "stderr",
     "output_type": "stream",
     "text": [
      "[2023-11-08 09:32:06,122][WARNING]: Skipped checksum for file with hash: 3fec2fb6-79ca-da9d-ee53-9d8f5b7c5456, and path: /stelmo/nwb/analysis/Winnie20220713/Winnie20220713_SOUE48RYHS.nwb\n",
      "WARNING:datajoint:Skipped checksum for file with hash: 3fec2fb6-79ca-da9d-ee53-9d8f5b7c5456, and path: /stelmo/nwb/analysis/Winnie20220713/Winnie20220713_SOUE48RYHS.nwb\n",
      "[2023-11-08 09:32:07,000][WARNING]: Skipped checksum for file with hash: 3fec2fb6-79ca-da9d-ee53-9d8f5b7c5456, and path: /stelmo/nwb/analysis/Winnie20220713/Winnie20220713_SOUE48RYHS.nwb\n",
      "WARNING:datajoint:Skipped checksum for file with hash: 3fec2fb6-79ca-da9d-ee53-9d8f5b7c5456, and path: /stelmo/nwb/analysis/Winnie20220713/Winnie20220713_SOUE48RYHS.nwb\n"
     ]
    },
    {
     "name": "stdout",
     "output_type": "stream",
     "text": [
      "Writing new NWB file Winnie20220713_YH31SGT8UP.nwb\n"
     ]
    },
    {
     "name": "stderr",
     "output_type": "stream",
     "text": [
      "[2023-11-08 09:32:35,022][WARNING]: Skipped checksum for file with hash: a1b162bb-c917-6c4e-95f8-f9ef82c59316, and path: /stelmo/nwb/analysis/Winnie20220714/Winnie20220714_IVE135OJO8.nwb\n",
      "WARNING:datajoint:Skipped checksum for file with hash: a1b162bb-c917-6c4e-95f8-f9ef82c59316, and path: /stelmo/nwb/analysis/Winnie20220714/Winnie20220714_IVE135OJO8.nwb\n",
      "[2023-11-08 09:32:35,893][WARNING]: Skipped checksum for file with hash: a1b162bb-c917-6c4e-95f8-f9ef82c59316, and path: /stelmo/nwb/analysis/Winnie20220714/Winnie20220714_IVE135OJO8.nwb\n",
      "WARNING:datajoint:Skipped checksum for file with hash: a1b162bb-c917-6c4e-95f8-f9ef82c59316, and path: /stelmo/nwb/analysis/Winnie20220714/Winnie20220714_IVE135OJO8.nwb\n"
     ]
    },
    {
     "name": "stdout",
     "output_type": "stream",
     "text": [
      "Writing new NWB file Winnie20220714_XKMDR8DXDD.nwb\n"
     ]
    },
    {
     "name": "stderr",
     "output_type": "stream",
     "text": [
      "[2023-11-08 09:33:16,399][WARNING]: Skipped checksum for file with hash: 8a73f283-cf98-14ba-7a44-0a01e6cf0003, and path: /stelmo/nwb/analysis/Winnie20220714/Winnie20220714_QFNM95HQ8A.nwb\n",
      "WARNING:datajoint:Skipped checksum for file with hash: 8a73f283-cf98-14ba-7a44-0a01e6cf0003, and path: /stelmo/nwb/analysis/Winnie20220714/Winnie20220714_QFNM95HQ8A.nwb\n",
      "[2023-11-08 09:33:17,192][WARNING]: Skipped checksum for file with hash: 8a73f283-cf98-14ba-7a44-0a01e6cf0003, and path: /stelmo/nwb/analysis/Winnie20220714/Winnie20220714_QFNM95HQ8A.nwb\n",
      "WARNING:datajoint:Skipped checksum for file with hash: 8a73f283-cf98-14ba-7a44-0a01e6cf0003, and path: /stelmo/nwb/analysis/Winnie20220714/Winnie20220714_QFNM95HQ8A.nwb\n"
     ]
    },
    {
     "name": "stdout",
     "output_type": "stream",
     "text": [
      "Writing new NWB file Winnie20220714_EIZ2S2SBHV.nwb\n"
     ]
    },
    {
     "name": "stderr",
     "output_type": "stream",
     "text": [
      "[2023-11-08 09:33:43,922][WARNING]: Skipped checksum for file with hash: 5cf5f302-f2f9-c998-45da-7d84b2ade83f, and path: /stelmo/nwb/analysis/Winnie20220714/Winnie20220714_0JLJY5M9VN.nwb\n",
      "WARNING:datajoint:Skipped checksum for file with hash: 5cf5f302-f2f9-c998-45da-7d84b2ade83f, and path: /stelmo/nwb/analysis/Winnie20220714/Winnie20220714_0JLJY5M9VN.nwb\n",
      "[2023-11-08 09:33:44,676][WARNING]: Skipped checksum for file with hash: 5cf5f302-f2f9-c998-45da-7d84b2ade83f, and path: /stelmo/nwb/analysis/Winnie20220714/Winnie20220714_0JLJY5M9VN.nwb\n",
      "WARNING:datajoint:Skipped checksum for file with hash: 5cf5f302-f2f9-c998-45da-7d84b2ade83f, and path: /stelmo/nwb/analysis/Winnie20220714/Winnie20220714_0JLJY5M9VN.nwb\n"
     ]
    },
    {
     "name": "stdout",
     "output_type": "stream",
     "text": [
      "Writing new NWB file Winnie20220714_JDYKBXWUGE.nwb\n"
     ]
    },
    {
     "name": "stderr",
     "output_type": "stream",
     "text": [
      "[2023-11-08 09:34:08,955][WARNING]: Skipped checksum for file with hash: 4ccfd355-75fe-18a8-4b14-c52fced75075, and path: /stelmo/nwb/analysis/Winnie20220714/Winnie20220714_GW6DVTK51X.nwb\n",
      "WARNING:datajoint:Skipped checksum for file with hash: 4ccfd355-75fe-18a8-4b14-c52fced75075, and path: /stelmo/nwb/analysis/Winnie20220714/Winnie20220714_GW6DVTK51X.nwb\n",
      "[2023-11-08 09:34:09,883][WARNING]: Skipped checksum for file with hash: 4ccfd355-75fe-18a8-4b14-c52fced75075, and path: /stelmo/nwb/analysis/Winnie20220714/Winnie20220714_GW6DVTK51X.nwb\n",
      "WARNING:datajoint:Skipped checksum for file with hash: 4ccfd355-75fe-18a8-4b14-c52fced75075, and path: /stelmo/nwb/analysis/Winnie20220714/Winnie20220714_GW6DVTK51X.nwb\n"
     ]
    },
    {
     "name": "stdout",
     "output_type": "stream",
     "text": [
      "Writing new NWB file Winnie20220714_PEARMEWUS6.nwb\n"
     ]
    },
    {
     "name": "stderr",
     "output_type": "stream",
     "text": [
      "[2023-11-08 09:34:28,514][WARNING]: Skipped checksum for file with hash: a9766e76-ace9-e6a4-db63-143a5ba2ce3f, and path: /stelmo/nwb/analysis/Winnie20220714/Winnie20220714_12ABV28HAV.nwb\n",
      "WARNING:datajoint:Skipped checksum for file with hash: a9766e76-ace9-e6a4-db63-143a5ba2ce3f, and path: /stelmo/nwb/analysis/Winnie20220714/Winnie20220714_12ABV28HAV.nwb\n",
      "[2023-11-08 09:34:29,395][WARNING]: Skipped checksum for file with hash: a9766e76-ace9-e6a4-db63-143a5ba2ce3f, and path: /stelmo/nwb/analysis/Winnie20220714/Winnie20220714_12ABV28HAV.nwb\n",
      "WARNING:datajoint:Skipped checksum for file with hash: a9766e76-ace9-e6a4-db63-143a5ba2ce3f, and path: /stelmo/nwb/analysis/Winnie20220714/Winnie20220714_12ABV28HAV.nwb\n"
     ]
    },
    {
     "name": "stdout",
     "output_type": "stream",
     "text": [
      "Writing new NWB file Winnie20220714_THWNBVC9WG.nwb\n"
     ]
    },
    {
     "name": "stderr",
     "output_type": "stream",
     "text": [
      "[2023-11-08 09:35:07,411][WARNING]: Skipped checksum for file with hash: d4b3e20d-61b4-6786-a0f3-5054422aa702, and path: /stelmo/nwb/analysis/Winnie20220714/Winnie20220714_8S8864K2DZ.nwb\n",
      "WARNING:datajoint:Skipped checksum for file with hash: d4b3e20d-61b4-6786-a0f3-5054422aa702, and path: /stelmo/nwb/analysis/Winnie20220714/Winnie20220714_8S8864K2DZ.nwb\n",
      "[2023-11-08 09:35:08,542][WARNING]: Skipped checksum for file with hash: d4b3e20d-61b4-6786-a0f3-5054422aa702, and path: /stelmo/nwb/analysis/Winnie20220714/Winnie20220714_8S8864K2DZ.nwb\n",
      "WARNING:datajoint:Skipped checksum for file with hash: d4b3e20d-61b4-6786-a0f3-5054422aa702, and path: /stelmo/nwb/analysis/Winnie20220714/Winnie20220714_8S8864K2DZ.nwb\n"
     ]
    },
    {
     "name": "stdout",
     "output_type": "stream",
     "text": [
      "Writing new NWB file Winnie20220714_C3LMCTPHIB.nwb\n"
     ]
    },
    {
     "name": "stderr",
     "output_type": "stream",
     "text": [
      "[2023-11-08 09:35:32,697][WARNING]: Skipped checksum for file with hash: 8d8edd78-fdd5-00a1-365b-63495dd0e9d9, and path: /stelmo/nwb/analysis/Winnie20220715/Winnie20220715_27K91ZCYSK.nwb\n",
      "WARNING:datajoint:Skipped checksum for file with hash: 8d8edd78-fdd5-00a1-365b-63495dd0e9d9, and path: /stelmo/nwb/analysis/Winnie20220715/Winnie20220715_27K91ZCYSK.nwb\n",
      "[2023-11-08 09:35:33,518][WARNING]: Skipped checksum for file with hash: 8d8edd78-fdd5-00a1-365b-63495dd0e9d9, and path: /stelmo/nwb/analysis/Winnie20220715/Winnie20220715_27K91ZCYSK.nwb\n",
      "WARNING:datajoint:Skipped checksum for file with hash: 8d8edd78-fdd5-00a1-365b-63495dd0e9d9, and path: /stelmo/nwb/analysis/Winnie20220715/Winnie20220715_27K91ZCYSK.nwb\n"
     ]
    },
    {
     "name": "stdout",
     "output_type": "stream",
     "text": [
      "Writing new NWB file Winnie20220715_A5E2NSNXOI.nwb\n"
     ]
    },
    {
     "name": "stderr",
     "output_type": "stream",
     "text": [
      "[2023-11-08 09:36:09,139][WARNING]: Skipped checksum for file with hash: 920ff840-745f-3d41-c338-4ea07c5bc707, and path: /stelmo/nwb/analysis/Winnie20220715/Winnie20220715_CW80SAIO6A.nwb\n",
      "WARNING:datajoint:Skipped checksum for file with hash: 920ff840-745f-3d41-c338-4ea07c5bc707, and path: /stelmo/nwb/analysis/Winnie20220715/Winnie20220715_CW80SAIO6A.nwb\n",
      "[2023-11-08 09:36:10,027][WARNING]: Skipped checksum for file with hash: 920ff840-745f-3d41-c338-4ea07c5bc707, and path: /stelmo/nwb/analysis/Winnie20220715/Winnie20220715_CW80SAIO6A.nwb\n",
      "WARNING:datajoint:Skipped checksum for file with hash: 920ff840-745f-3d41-c338-4ea07c5bc707, and path: /stelmo/nwb/analysis/Winnie20220715/Winnie20220715_CW80SAIO6A.nwb\n"
     ]
    },
    {
     "name": "stdout",
     "output_type": "stream",
     "text": [
      "Writing new NWB file Winnie20220715_VDKKWOT1CG.nwb\n"
     ]
    },
    {
     "name": "stderr",
     "output_type": "stream",
     "text": [
      "[2023-11-08 09:37:00,296][WARNING]: Skipped checksum for file with hash: 5c66b90e-62c7-d43d-7139-bede1ae3c4cc, and path: /stelmo/nwb/analysis/Winnie20220715/Winnie20220715_8MNFM73NPE.nwb\n",
      "WARNING:datajoint:Skipped checksum for file with hash: 5c66b90e-62c7-d43d-7139-bede1ae3c4cc, and path: /stelmo/nwb/analysis/Winnie20220715/Winnie20220715_8MNFM73NPE.nwb\n",
      "[2023-11-08 09:37:01,379][WARNING]: Skipped checksum for file with hash: 5c66b90e-62c7-d43d-7139-bede1ae3c4cc, and path: /stelmo/nwb/analysis/Winnie20220715/Winnie20220715_8MNFM73NPE.nwb\n",
      "WARNING:datajoint:Skipped checksum for file with hash: 5c66b90e-62c7-d43d-7139-bede1ae3c4cc, and path: /stelmo/nwb/analysis/Winnie20220715/Winnie20220715_8MNFM73NPE.nwb\n"
     ]
    },
    {
     "name": "stdout",
     "output_type": "stream",
     "text": [
      "Writing new NWB file Winnie20220715_NULDP3RK2D.nwb\n"
     ]
    },
    {
     "name": "stderr",
     "output_type": "stream",
     "text": [
      "[2023-11-08 09:37:38,446][WARNING]: Skipped checksum for file with hash: a0553082-8ebd-2820-7ea8-d751e9793f30, and path: /stelmo/nwb/analysis/Winnie20220715/Winnie20220715_SL147JHXLA.nwb\n",
      "WARNING:datajoint:Skipped checksum for file with hash: a0553082-8ebd-2820-7ea8-d751e9793f30, and path: /stelmo/nwb/analysis/Winnie20220715/Winnie20220715_SL147JHXLA.nwb\n",
      "[2023-11-08 09:37:39,303][WARNING]: Skipped checksum for file with hash: a0553082-8ebd-2820-7ea8-d751e9793f30, and path: /stelmo/nwb/analysis/Winnie20220715/Winnie20220715_SL147JHXLA.nwb\n",
      "WARNING:datajoint:Skipped checksum for file with hash: a0553082-8ebd-2820-7ea8-d751e9793f30, and path: /stelmo/nwb/analysis/Winnie20220715/Winnie20220715_SL147JHXLA.nwb\n"
     ]
    },
    {
     "name": "stdout",
     "output_type": "stream",
     "text": [
      "Writing new NWB file Winnie20220715_X22NS2MWBC.nwb\n"
     ]
    },
    {
     "name": "stderr",
     "output_type": "stream",
     "text": [
      "[2023-11-08 09:38:02,109][WARNING]: Skipped checksum for file with hash: 1c60e2cf-56f2-90b5-2a48-342cd4977acc, and path: /stelmo/nwb/analysis/Winnie20220715/Winnie20220715_QRYUPGK4NW.nwb\n",
      "WARNING:datajoint:Skipped checksum for file with hash: 1c60e2cf-56f2-90b5-2a48-342cd4977acc, and path: /stelmo/nwb/analysis/Winnie20220715/Winnie20220715_QRYUPGK4NW.nwb\n",
      "[2023-11-08 09:38:03,094][WARNING]: Skipped checksum for file with hash: 1c60e2cf-56f2-90b5-2a48-342cd4977acc, and path: /stelmo/nwb/analysis/Winnie20220715/Winnie20220715_QRYUPGK4NW.nwb\n",
      "WARNING:datajoint:Skipped checksum for file with hash: 1c60e2cf-56f2-90b5-2a48-342cd4977acc, and path: /stelmo/nwb/analysis/Winnie20220715/Winnie20220715_QRYUPGK4NW.nwb\n"
     ]
    },
    {
     "name": "stdout",
     "output_type": "stream",
     "text": [
      "Writing new NWB file Winnie20220715_158KGPIJXY.nwb\n"
     ]
    },
    {
     "name": "stderr",
     "output_type": "stream",
     "text": [
      "[2023-11-08 09:38:39,793][WARNING]: Skipped checksum for file with hash: 92a36456-bc79-0b7c-1699-7b62fdf48597, and path: /stelmo/nwb/analysis/Winnie20220715/Winnie20220715_42S8T05OH2.nwb\n",
      "WARNING:datajoint:Skipped checksum for file with hash: 92a36456-bc79-0b7c-1699-7b62fdf48597, and path: /stelmo/nwb/analysis/Winnie20220715/Winnie20220715_42S8T05OH2.nwb\n",
      "[2023-11-08 09:38:40,605][WARNING]: Skipped checksum for file with hash: 92a36456-bc79-0b7c-1699-7b62fdf48597, and path: /stelmo/nwb/analysis/Winnie20220715/Winnie20220715_42S8T05OH2.nwb\n",
      "WARNING:datajoint:Skipped checksum for file with hash: 92a36456-bc79-0b7c-1699-7b62fdf48597, and path: /stelmo/nwb/analysis/Winnie20220715/Winnie20220715_42S8T05OH2.nwb\n"
     ]
    },
    {
     "name": "stdout",
     "output_type": "stream",
     "text": [
      "Writing new NWB file Winnie20220715_CQ6AMYM6G1.nwb\n"
     ]
    },
    {
     "name": "stderr",
     "output_type": "stream",
     "text": [
      "[2023-11-08 09:39:15,537][WARNING]: Skipped checksum for file with hash: 8a296d4a-5b69-1ca8-3838-31c78b4b6b63, and path: /stelmo/nwb/analysis/Winnie20220716/Winnie20220716_0EEX6IAPBV.nwb\n",
      "WARNING:datajoint:Skipped checksum for file with hash: 8a296d4a-5b69-1ca8-3838-31c78b4b6b63, and path: /stelmo/nwb/analysis/Winnie20220716/Winnie20220716_0EEX6IAPBV.nwb\n",
      "[2023-11-08 09:39:16,670][WARNING]: Skipped checksum for file with hash: 8a296d4a-5b69-1ca8-3838-31c78b4b6b63, and path: /stelmo/nwb/analysis/Winnie20220716/Winnie20220716_0EEX6IAPBV.nwb\n",
      "WARNING:datajoint:Skipped checksum for file with hash: 8a296d4a-5b69-1ca8-3838-31c78b4b6b63, and path: /stelmo/nwb/analysis/Winnie20220716/Winnie20220716_0EEX6IAPBV.nwb\n"
     ]
    },
    {
     "name": "stdout",
     "output_type": "stream",
     "text": [
      "Writing new NWB file Winnie20220716_IIM2HLU1HK.nwb\n"
     ]
    },
    {
     "name": "stderr",
     "output_type": "stream",
     "text": [
      "[2023-11-08 09:39:51,708][WARNING]: Skipped checksum for file with hash: 3ffe0282-21ca-4d2d-7697-5b00e20bc8f4, and path: /stelmo/nwb/analysis/Winnie20220716/Winnie20220716_AWAPZ7NOYN.nwb\n",
      "WARNING:datajoint:Skipped checksum for file with hash: 3ffe0282-21ca-4d2d-7697-5b00e20bc8f4, and path: /stelmo/nwb/analysis/Winnie20220716/Winnie20220716_AWAPZ7NOYN.nwb\n",
      "[2023-11-08 09:39:52,553][WARNING]: Skipped checksum for file with hash: 3ffe0282-21ca-4d2d-7697-5b00e20bc8f4, and path: /stelmo/nwb/analysis/Winnie20220716/Winnie20220716_AWAPZ7NOYN.nwb\n",
      "WARNING:datajoint:Skipped checksum for file with hash: 3ffe0282-21ca-4d2d-7697-5b00e20bc8f4, and path: /stelmo/nwb/analysis/Winnie20220716/Winnie20220716_AWAPZ7NOYN.nwb\n"
     ]
    },
    {
     "name": "stdout",
     "output_type": "stream",
     "text": [
      "Writing new NWB file Winnie20220716_78MD2Z5ATJ.nwb\n"
     ]
    },
    {
     "name": "stderr",
     "output_type": "stream",
     "text": [
      "[2023-11-08 09:40:29,850][WARNING]: Skipped checksum for file with hash: 34910d09-597f-2e08-11f6-151653574469, and path: /stelmo/nwb/analysis/Winnie20220716/Winnie20220716_BSIPFIR85H.nwb\n",
      "WARNING:datajoint:Skipped checksum for file with hash: 34910d09-597f-2e08-11f6-151653574469, and path: /stelmo/nwb/analysis/Winnie20220716/Winnie20220716_BSIPFIR85H.nwb\n",
      "[2023-11-08 09:40:31,017][WARNING]: Skipped checksum for file with hash: 34910d09-597f-2e08-11f6-151653574469, and path: /stelmo/nwb/analysis/Winnie20220716/Winnie20220716_BSIPFIR85H.nwb\n",
      "WARNING:datajoint:Skipped checksum for file with hash: 34910d09-597f-2e08-11f6-151653574469, and path: /stelmo/nwb/analysis/Winnie20220716/Winnie20220716_BSIPFIR85H.nwb\n"
     ]
    },
    {
     "name": "stdout",
     "output_type": "stream",
     "text": [
      "Writing new NWB file Winnie20220716_GCLFP5OATC.nwb\n"
     ]
    },
    {
     "name": "stderr",
     "output_type": "stream",
     "text": [
      "[2023-11-08 09:41:00,221][WARNING]: Skipped checksum for file with hash: 7f58650e-4500-4c41-50a9-04a44a67377e, and path: /stelmo/nwb/analysis/Winnie20220716/Winnie20220716_T1MR76RX5N.nwb\n",
      "WARNING:datajoint:Skipped checksum for file with hash: 7f58650e-4500-4c41-50a9-04a44a67377e, and path: /stelmo/nwb/analysis/Winnie20220716/Winnie20220716_T1MR76RX5N.nwb\n",
      "[2023-11-08 09:41:01,592][WARNING]: Skipped checksum for file with hash: 7f58650e-4500-4c41-50a9-04a44a67377e, and path: /stelmo/nwb/analysis/Winnie20220716/Winnie20220716_T1MR76RX5N.nwb\n",
      "WARNING:datajoint:Skipped checksum for file with hash: 7f58650e-4500-4c41-50a9-04a44a67377e, and path: /stelmo/nwb/analysis/Winnie20220716/Winnie20220716_T1MR76RX5N.nwb\n"
     ]
    },
    {
     "name": "stdout",
     "output_type": "stream",
     "text": [
      "Writing new NWB file Winnie20220716_EGANQURCBQ.nwb\n"
     ]
    },
    {
     "name": "stderr",
     "output_type": "stream",
     "text": [
      "[2023-11-08 09:41:38,343][WARNING]: Skipped checksum for file with hash: 3718c6ef-7bfd-ca32-3f24-b73b8d17b3ad, and path: /stelmo/nwb/analysis/Winnie20220716/Winnie20220716_EFOUSPSAEK.nwb\n",
      "WARNING:datajoint:Skipped checksum for file with hash: 3718c6ef-7bfd-ca32-3f24-b73b8d17b3ad, and path: /stelmo/nwb/analysis/Winnie20220716/Winnie20220716_EFOUSPSAEK.nwb\n",
      "[2023-11-08 09:41:39,610][WARNING]: Skipped checksum for file with hash: 3718c6ef-7bfd-ca32-3f24-b73b8d17b3ad, and path: /stelmo/nwb/analysis/Winnie20220716/Winnie20220716_EFOUSPSAEK.nwb\n",
      "WARNING:datajoint:Skipped checksum for file with hash: 3718c6ef-7bfd-ca32-3f24-b73b8d17b3ad, and path: /stelmo/nwb/analysis/Winnie20220716/Winnie20220716_EFOUSPSAEK.nwb\n"
     ]
    },
    {
     "name": "stdout",
     "output_type": "stream",
     "text": [
      "Writing new NWB file Winnie20220716_DODNLKCZLW.nwb\n"
     ]
    },
    {
     "name": "stderr",
     "output_type": "stream",
     "text": [
      "[2023-11-08 09:42:13,477][WARNING]: Skipped checksum for file with hash: 62c9f915-65fc-1af5-aa2b-366d6cf3730d, and path: /stelmo/nwb/analysis/Winnie20220716/Winnie20220716_TQ128JDYB5.nwb\n",
      "WARNING:datajoint:Skipped checksum for file with hash: 62c9f915-65fc-1af5-aa2b-366d6cf3730d, and path: /stelmo/nwb/analysis/Winnie20220716/Winnie20220716_TQ128JDYB5.nwb\n",
      "[2023-11-08 09:42:14,646][WARNING]: Skipped checksum for file with hash: 62c9f915-65fc-1af5-aa2b-366d6cf3730d, and path: /stelmo/nwb/analysis/Winnie20220716/Winnie20220716_TQ128JDYB5.nwb\n",
      "WARNING:datajoint:Skipped checksum for file with hash: 62c9f915-65fc-1af5-aa2b-366d6cf3730d, and path: /stelmo/nwb/analysis/Winnie20220716/Winnie20220716_TQ128JDYB5.nwb\n"
     ]
    },
    {
     "name": "stdout",
     "output_type": "stream",
     "text": [
      "Writing new NWB file Winnie20220716_VGA6FJRQ1Q.nwb\n"
     ]
    },
    {
     "name": "stderr",
     "output_type": "stream",
     "text": [
      "[2023-11-08 09:42:42,849][WARNING]: Skipped checksum for file with hash: b0f6622d-7c2a-11c2-5890-c056e150650a, and path: /stelmo/nwb/analysis/Winnie20220716/Winnie20220716_SLNKKUGG3H.nwb\n",
      "WARNING:datajoint:Skipped checksum for file with hash: b0f6622d-7c2a-11c2-5890-c056e150650a, and path: /stelmo/nwb/analysis/Winnie20220716/Winnie20220716_SLNKKUGG3H.nwb\n",
      "[2023-11-08 09:42:44,152][WARNING]: Skipped checksum for file with hash: b0f6622d-7c2a-11c2-5890-c056e150650a, and path: /stelmo/nwb/analysis/Winnie20220716/Winnie20220716_SLNKKUGG3H.nwb\n",
      "WARNING:datajoint:Skipped checksum for file with hash: b0f6622d-7c2a-11c2-5890-c056e150650a, and path: /stelmo/nwb/analysis/Winnie20220716/Winnie20220716_SLNKKUGG3H.nwb\n"
     ]
    },
    {
     "name": "stdout",
     "output_type": "stream",
     "text": [
      "Writing new NWB file Winnie20220716_VSVFUGQVFB.nwb\n"
     ]
    },
    {
     "name": "stderr",
     "output_type": "stream",
     "text": [
      "[2023-11-08 09:43:07,359][WARNING]: Skipped checksum for file with hash: 00e247b6-42bc-ce26-16f6-7be09005f1a1, and path: /stelmo/nwb/analysis/Winnie20220716/Winnie20220716_GD0ZDGTR5U.nwb\n",
      "WARNING:datajoint:Skipped checksum for file with hash: 00e247b6-42bc-ce26-16f6-7be09005f1a1, and path: /stelmo/nwb/analysis/Winnie20220716/Winnie20220716_GD0ZDGTR5U.nwb\n",
      "[2023-11-08 09:43:08,526][WARNING]: Skipped checksum for file with hash: 00e247b6-42bc-ce26-16f6-7be09005f1a1, and path: /stelmo/nwb/analysis/Winnie20220716/Winnie20220716_GD0ZDGTR5U.nwb\n",
      "WARNING:datajoint:Skipped checksum for file with hash: 00e247b6-42bc-ce26-16f6-7be09005f1a1, and path: /stelmo/nwb/analysis/Winnie20220716/Winnie20220716_GD0ZDGTR5U.nwb\n"
     ]
    },
    {
     "name": "stdout",
     "output_type": "stream",
     "text": [
      "Writing new NWB file Winnie20220716_2N9FY59V4Y.nwb\n"
     ]
    },
    {
     "name": "stderr",
     "output_type": "stream",
     "text": [
      "[2023-11-08 09:43:41,915][WARNING]: Skipped checksum for file with hash: 7e3944ee-aaeb-e6b6-fa81-260fa938d2a5, and path: /stelmo/nwb/analysis/Yoshi20220509/Yoshi20220509_QGAF3MNDBF.nwb\n",
      "WARNING:datajoint:Skipped checksum for file with hash: 7e3944ee-aaeb-e6b6-fa81-260fa938d2a5, and path: /stelmo/nwb/analysis/Yoshi20220509/Yoshi20220509_QGAF3MNDBF.nwb\n",
      "[2023-11-08 09:43:42,818][WARNING]: Skipped checksum for file with hash: 7e3944ee-aaeb-e6b6-fa81-260fa938d2a5, and path: /stelmo/nwb/analysis/Yoshi20220509/Yoshi20220509_QGAF3MNDBF.nwb\n",
      "WARNING:datajoint:Skipped checksum for file with hash: 7e3944ee-aaeb-e6b6-fa81-260fa938d2a5, and path: /stelmo/nwb/analysis/Yoshi20220509/Yoshi20220509_QGAF3MNDBF.nwb\n"
     ]
    },
    {
     "name": "stdout",
     "output_type": "stream",
     "text": [
      "Writing new NWB file Yoshi20220509_WSIQOL45TN.nwb\n"
     ]
    },
    {
     "name": "stderr",
     "output_type": "stream",
     "text": [
      "[2023-11-08 09:43:50,970][WARNING]: Skipped checksum for file with hash: a4e87eb5-2217-b968-c5d4-90bf49145499, and path: /stelmo/nwb/analysis/Yoshi20220509/Yoshi20220509_J0DM50XMK2.nwb\n",
      "WARNING:datajoint:Skipped checksum for file with hash: a4e87eb5-2217-b968-c5d4-90bf49145499, and path: /stelmo/nwb/analysis/Yoshi20220509/Yoshi20220509_J0DM50XMK2.nwb\n",
      "[2023-11-08 09:43:51,840][WARNING]: Skipped checksum for file with hash: a4e87eb5-2217-b968-c5d4-90bf49145499, and path: /stelmo/nwb/analysis/Yoshi20220509/Yoshi20220509_J0DM50XMK2.nwb\n",
      "WARNING:datajoint:Skipped checksum for file with hash: a4e87eb5-2217-b968-c5d4-90bf49145499, and path: /stelmo/nwb/analysis/Yoshi20220509/Yoshi20220509_J0DM50XMK2.nwb\n"
     ]
    },
    {
     "name": "stdout",
     "output_type": "stream",
     "text": [
      "Writing new NWB file Yoshi20220509_PBYEEZMT2A.nwb\n"
     ]
    },
    {
     "name": "stderr",
     "output_type": "stream",
     "text": [
      "[2023-11-08 09:43:57,427][WARNING]: Skipped checksum for file with hash: 5add0371-58d5-55b1-d447-a49b050dc9dd, and path: /stelmo/nwb/analysis/Yoshi20220509/Yoshi20220509_YZL12P9EIN.nwb\n",
      "WARNING:datajoint:Skipped checksum for file with hash: 5add0371-58d5-55b1-d447-a49b050dc9dd, and path: /stelmo/nwb/analysis/Yoshi20220509/Yoshi20220509_YZL12P9EIN.nwb\n",
      "[2023-11-08 09:43:58,372][WARNING]: Skipped checksum for file with hash: 5add0371-58d5-55b1-d447-a49b050dc9dd, and path: /stelmo/nwb/analysis/Yoshi20220509/Yoshi20220509_YZL12P9EIN.nwb\n",
      "WARNING:datajoint:Skipped checksum for file with hash: 5add0371-58d5-55b1-d447-a49b050dc9dd, and path: /stelmo/nwb/analysis/Yoshi20220509/Yoshi20220509_YZL12P9EIN.nwb\n"
     ]
    },
    {
     "name": "stdout",
     "output_type": "stream",
     "text": [
      "Writing new NWB file Yoshi20220509_XT2FSASKHL.nwb\n"
     ]
    },
    {
     "name": "stderr",
     "output_type": "stream",
     "text": [
      "[2023-11-08 09:44:06,916][WARNING]: Skipped checksum for file with hash: e7bf3293-96fa-e385-5c54-17c521875812, and path: /stelmo/nwb/analysis/Yoshi20220509/Yoshi20220509_SUWV6EG7TF.nwb\n",
      "WARNING:datajoint:Skipped checksum for file with hash: e7bf3293-96fa-e385-5c54-17c521875812, and path: /stelmo/nwb/analysis/Yoshi20220509/Yoshi20220509_SUWV6EG7TF.nwb\n",
      "[2023-11-08 09:44:07,896][WARNING]: Skipped checksum for file with hash: e7bf3293-96fa-e385-5c54-17c521875812, and path: /stelmo/nwb/analysis/Yoshi20220509/Yoshi20220509_SUWV6EG7TF.nwb\n",
      "WARNING:datajoint:Skipped checksum for file with hash: e7bf3293-96fa-e385-5c54-17c521875812, and path: /stelmo/nwb/analysis/Yoshi20220509/Yoshi20220509_SUWV6EG7TF.nwb\n"
     ]
    },
    {
     "name": "stdout",
     "output_type": "stream",
     "text": [
      "Writing new NWB file Yoshi20220509_L9M1VEW495.nwb\n"
     ]
    },
    {
     "name": "stderr",
     "output_type": "stream",
     "text": [
      "[2023-11-08 09:44:15,193][WARNING]: Skipped checksum for file with hash: b4a1d955-3cc5-67f3-4b70-11746c0db773, and path: /stelmo/nwb/analysis/Yoshi20220509/Yoshi20220509_GTF35QXQ2Q.nwb\n",
      "WARNING:datajoint:Skipped checksum for file with hash: b4a1d955-3cc5-67f3-4b70-11746c0db773, and path: /stelmo/nwb/analysis/Yoshi20220509/Yoshi20220509_GTF35QXQ2Q.nwb\n",
      "[2023-11-08 09:44:16,177][WARNING]: Skipped checksum for file with hash: b4a1d955-3cc5-67f3-4b70-11746c0db773, and path: /stelmo/nwb/analysis/Yoshi20220509/Yoshi20220509_GTF35QXQ2Q.nwb\n",
      "WARNING:datajoint:Skipped checksum for file with hash: b4a1d955-3cc5-67f3-4b70-11746c0db773, and path: /stelmo/nwb/analysis/Yoshi20220509/Yoshi20220509_GTF35QXQ2Q.nwb\n"
     ]
    },
    {
     "name": "stdout",
     "output_type": "stream",
     "text": [
      "Writing new NWB file Yoshi20220509_58M5QJ5Z1E.nwb\n"
     ]
    },
    {
     "name": "stderr",
     "output_type": "stream",
     "text": [
      "[2023-11-08 09:44:23,217][WARNING]: Skipped checksum for file with hash: a2679d72-8735-26a8-e2e0-68c395cd828a, and path: /stelmo/nwb/analysis/Yoshi20220509/Yoshi20220509_Z0FTLB7W3V.nwb\n",
      "WARNING:datajoint:Skipped checksum for file with hash: a2679d72-8735-26a8-e2e0-68c395cd828a, and path: /stelmo/nwb/analysis/Yoshi20220509/Yoshi20220509_Z0FTLB7W3V.nwb\n",
      "[2023-11-08 09:44:24,054][WARNING]: Skipped checksum for file with hash: a2679d72-8735-26a8-e2e0-68c395cd828a, and path: /stelmo/nwb/analysis/Yoshi20220509/Yoshi20220509_Z0FTLB7W3V.nwb\n",
      "WARNING:datajoint:Skipped checksum for file with hash: a2679d72-8735-26a8-e2e0-68c395cd828a, and path: /stelmo/nwb/analysis/Yoshi20220509/Yoshi20220509_Z0FTLB7W3V.nwb\n"
     ]
    },
    {
     "name": "stdout",
     "output_type": "stream",
     "text": [
      "Writing new NWB file Yoshi20220509_Y0CFQ6MO13.nwb\n"
     ]
    },
    {
     "name": "stderr",
     "output_type": "stream",
     "text": [
      "[2023-11-08 09:44:29,335][WARNING]: Skipped checksum for file with hash: df8c93a7-4a17-f950-ca87-93cdb4c94bd3, and path: /stelmo/nwb/analysis/Yoshi20220510/Yoshi20220510_WEGRZM1XKT.nwb\n",
      "WARNING:datajoint:Skipped checksum for file with hash: df8c93a7-4a17-f950-ca87-93cdb4c94bd3, and path: /stelmo/nwb/analysis/Yoshi20220510/Yoshi20220510_WEGRZM1XKT.nwb\n",
      "[2023-11-08 09:44:30,155][WARNING]: Skipped checksum for file with hash: df8c93a7-4a17-f950-ca87-93cdb4c94bd3, and path: /stelmo/nwb/analysis/Yoshi20220510/Yoshi20220510_WEGRZM1XKT.nwb\n",
      "WARNING:datajoint:Skipped checksum for file with hash: df8c93a7-4a17-f950-ca87-93cdb4c94bd3, and path: /stelmo/nwb/analysis/Yoshi20220510/Yoshi20220510_WEGRZM1XKT.nwb\n"
     ]
    },
    {
     "name": "stdout",
     "output_type": "stream",
     "text": [
      "Writing new NWB file Yoshi20220510_TCXE83JKMI.nwb\n"
     ]
    },
    {
     "name": "stderr",
     "output_type": "stream",
     "text": [
      "[2023-11-08 09:44:40,746][WARNING]: Skipped checksum for file with hash: 91ec54a6-1fcb-33d9-98db-10781a5fc9bb, and path: /stelmo/nwb/analysis/Yoshi20220510/Yoshi20220510_Z1CGWFK976.nwb\n",
      "WARNING:datajoint:Skipped checksum for file with hash: 91ec54a6-1fcb-33d9-98db-10781a5fc9bb, and path: /stelmo/nwb/analysis/Yoshi20220510/Yoshi20220510_Z1CGWFK976.nwb\n",
      "[2023-11-08 09:44:41,574][WARNING]: Skipped checksum for file with hash: 91ec54a6-1fcb-33d9-98db-10781a5fc9bb, and path: /stelmo/nwb/analysis/Yoshi20220510/Yoshi20220510_Z1CGWFK976.nwb\n",
      "WARNING:datajoint:Skipped checksum for file with hash: 91ec54a6-1fcb-33d9-98db-10781a5fc9bb, and path: /stelmo/nwb/analysis/Yoshi20220510/Yoshi20220510_Z1CGWFK976.nwb\n"
     ]
    },
    {
     "name": "stdout",
     "output_type": "stream",
     "text": [
      "Writing new NWB file Yoshi20220510_WPD00U4U4O.nwb\n"
     ]
    },
    {
     "name": "stderr",
     "output_type": "stream",
     "text": [
      "[2023-11-08 09:44:48,526][WARNING]: Skipped checksum for file with hash: 34a5d969-381b-006f-8fde-2b3b0a6d4add, and path: /stelmo/nwb/analysis/Yoshi20220510/Yoshi20220510_JY1WXW164S.nwb\n",
      "WARNING:datajoint:Skipped checksum for file with hash: 34a5d969-381b-006f-8fde-2b3b0a6d4add, and path: /stelmo/nwb/analysis/Yoshi20220510/Yoshi20220510_JY1WXW164S.nwb\n",
      "[2023-11-08 09:44:49,431][WARNING]: Skipped checksum for file with hash: 34a5d969-381b-006f-8fde-2b3b0a6d4add, and path: /stelmo/nwb/analysis/Yoshi20220510/Yoshi20220510_JY1WXW164S.nwb\n",
      "WARNING:datajoint:Skipped checksum for file with hash: 34a5d969-381b-006f-8fde-2b3b0a6d4add, and path: /stelmo/nwb/analysis/Yoshi20220510/Yoshi20220510_JY1WXW164S.nwb\n"
     ]
    },
    {
     "name": "stdout",
     "output_type": "stream",
     "text": [
      "Writing new NWB file Yoshi20220510_8G06J7H80J.nwb\n"
     ]
    },
    {
     "name": "stderr",
     "output_type": "stream",
     "text": [
      "[2023-11-08 09:44:56,808][WARNING]: Skipped checksum for file with hash: db51e932-9862-394f-5140-9b152591797d, and path: /stelmo/nwb/analysis/Yoshi20220510/Yoshi20220510_699WL5SG7G.nwb\n",
      "WARNING:datajoint:Skipped checksum for file with hash: db51e932-9862-394f-5140-9b152591797d, and path: /stelmo/nwb/analysis/Yoshi20220510/Yoshi20220510_699WL5SG7G.nwb\n",
      "[2023-11-08 09:44:57,610][WARNING]: Skipped checksum for file with hash: db51e932-9862-394f-5140-9b152591797d, and path: /stelmo/nwb/analysis/Yoshi20220510/Yoshi20220510_699WL5SG7G.nwb\n",
      "WARNING:datajoint:Skipped checksum for file with hash: db51e932-9862-394f-5140-9b152591797d, and path: /stelmo/nwb/analysis/Yoshi20220510/Yoshi20220510_699WL5SG7G.nwb\n"
     ]
    },
    {
     "name": "stdout",
     "output_type": "stream",
     "text": [
      "Writing new NWB file Yoshi20220510_EJRJKH06UT.nwb\n"
     ]
    },
    {
     "name": "stderr",
     "output_type": "stream",
     "text": [
      "[2023-11-08 09:45:07,117][WARNING]: Skipped checksum for file with hash: c1550b9f-8fad-f7e0-bd52-032e656d895a, and path: /stelmo/nwb/analysis/Yoshi20220510/Yoshi20220510_WPUCD45FCQ.nwb\n",
      "WARNING:datajoint:Skipped checksum for file with hash: c1550b9f-8fad-f7e0-bd52-032e656d895a, and path: /stelmo/nwb/analysis/Yoshi20220510/Yoshi20220510_WPUCD45FCQ.nwb\n",
      "[2023-11-08 09:45:08,287][WARNING]: Skipped checksum for file with hash: c1550b9f-8fad-f7e0-bd52-032e656d895a, and path: /stelmo/nwb/analysis/Yoshi20220510/Yoshi20220510_WPUCD45FCQ.nwb\n",
      "WARNING:datajoint:Skipped checksum for file with hash: c1550b9f-8fad-f7e0-bd52-032e656d895a, and path: /stelmo/nwb/analysis/Yoshi20220510/Yoshi20220510_WPUCD45FCQ.nwb\n"
     ]
    },
    {
     "name": "stdout",
     "output_type": "stream",
     "text": [
      "Writing new NWB file Yoshi20220510_WD5Z91B024.nwb\n"
     ]
    },
    {
     "name": "stderr",
     "output_type": "stream",
     "text": [
      "[2023-11-08 09:45:16,254][WARNING]: Skipped checksum for file with hash: a224c873-7aa7-0947-0798-6c39842fe520, and path: /stelmo/nwb/analysis/Yoshi20220510/Yoshi20220510_ZRI4MRWN7T.nwb\n",
      "WARNING:datajoint:Skipped checksum for file with hash: a224c873-7aa7-0947-0798-6c39842fe520, and path: /stelmo/nwb/analysis/Yoshi20220510/Yoshi20220510_ZRI4MRWN7T.nwb\n",
      "[2023-11-08 09:45:17,444][WARNING]: Skipped checksum for file with hash: a224c873-7aa7-0947-0798-6c39842fe520, and path: /stelmo/nwb/analysis/Yoshi20220510/Yoshi20220510_ZRI4MRWN7T.nwb\n",
      "WARNING:datajoint:Skipped checksum for file with hash: a224c873-7aa7-0947-0798-6c39842fe520, and path: /stelmo/nwb/analysis/Yoshi20220510/Yoshi20220510_ZRI4MRWN7T.nwb\n"
     ]
    },
    {
     "name": "stdout",
     "output_type": "stream",
     "text": [
      "Writing new NWB file Yoshi20220510_L6VSQNCUGQ.nwb\n"
     ]
    },
    {
     "name": "stderr",
     "output_type": "stream",
     "text": [
      "[2023-11-08 09:45:24,157][WARNING]: Skipped checksum for file with hash: 71fb8bad-d59f-e34a-5447-d3e04fa22be1, and path: /stelmo/nwb/analysis/Yoshi20220510/Yoshi20220510_2DGVTWKXFU.nwb\n",
      "WARNING:datajoint:Skipped checksum for file with hash: 71fb8bad-d59f-e34a-5447-d3e04fa22be1, and path: /stelmo/nwb/analysis/Yoshi20220510/Yoshi20220510_2DGVTWKXFU.nwb\n",
      "[2023-11-08 09:45:25,126][WARNING]: Skipped checksum for file with hash: 71fb8bad-d59f-e34a-5447-d3e04fa22be1, and path: /stelmo/nwb/analysis/Yoshi20220510/Yoshi20220510_2DGVTWKXFU.nwb\n",
      "WARNING:datajoint:Skipped checksum for file with hash: 71fb8bad-d59f-e34a-5447-d3e04fa22be1, and path: /stelmo/nwb/analysis/Yoshi20220510/Yoshi20220510_2DGVTWKXFU.nwb\n"
     ]
    },
    {
     "name": "stdout",
     "output_type": "stream",
     "text": [
      "Writing new NWB file Yoshi20220510_ZHJICK9QZW.nwb\n"
     ]
    },
    {
     "name": "stderr",
     "output_type": "stream",
     "text": [
      "[2023-11-08 09:45:30,866][WARNING]: Skipped checksum for file with hash: 78537391-e7d4-800d-f4a8-3ac91223fd2c, and path: /stelmo/nwb/analysis/Yoshi20220511/Yoshi20220511_9TCQQCSCKN.nwb\n",
      "WARNING:datajoint:Skipped checksum for file with hash: 78537391-e7d4-800d-f4a8-3ac91223fd2c, and path: /stelmo/nwb/analysis/Yoshi20220511/Yoshi20220511_9TCQQCSCKN.nwb\n",
      "[2023-11-08 09:45:32,708][WARNING]: Skipped checksum for file with hash: 78537391-e7d4-800d-f4a8-3ac91223fd2c, and path: /stelmo/nwb/analysis/Yoshi20220511/Yoshi20220511_9TCQQCSCKN.nwb\n",
      "WARNING:datajoint:Skipped checksum for file with hash: 78537391-e7d4-800d-f4a8-3ac91223fd2c, and path: /stelmo/nwb/analysis/Yoshi20220511/Yoshi20220511_9TCQQCSCKN.nwb\n"
     ]
    },
    {
     "name": "stdout",
     "output_type": "stream",
     "text": [
      "Writing new NWB file Yoshi20220511_4ZHH6JK56G.nwb\n"
     ]
    },
    {
     "name": "stderr",
     "output_type": "stream",
     "text": [
      "[2023-11-08 09:45:40,966][WARNING]: Skipped checksum for file with hash: 43891a29-27b0-5b9e-0a90-825804cacb49, and path: /stelmo/nwb/analysis/Yoshi20220511/Yoshi20220511_PL34X26X7W.nwb\n",
      "WARNING:datajoint:Skipped checksum for file with hash: 43891a29-27b0-5b9e-0a90-825804cacb49, and path: /stelmo/nwb/analysis/Yoshi20220511/Yoshi20220511_PL34X26X7W.nwb\n",
      "[2023-11-08 09:45:41,916][WARNING]: Skipped checksum for file with hash: 43891a29-27b0-5b9e-0a90-825804cacb49, and path: /stelmo/nwb/analysis/Yoshi20220511/Yoshi20220511_PL34X26X7W.nwb\n",
      "WARNING:datajoint:Skipped checksum for file with hash: 43891a29-27b0-5b9e-0a90-825804cacb49, and path: /stelmo/nwb/analysis/Yoshi20220511/Yoshi20220511_PL34X26X7W.nwb\n"
     ]
    },
    {
     "name": "stdout",
     "output_type": "stream",
     "text": [
      "Writing new NWB file Yoshi20220511_TPZOLCWSPH.nwb\n"
     ]
    },
    {
     "name": "stderr",
     "output_type": "stream",
     "text": [
      "[2023-11-08 09:45:48,398][WARNING]: Skipped checksum for file with hash: 11bdd335-9868-770a-2b6d-c36c72183133, and path: /stelmo/nwb/analysis/Yoshi20220511/Yoshi20220511_5S9H3DL5B4.nwb\n",
      "WARNING:datajoint:Skipped checksum for file with hash: 11bdd335-9868-770a-2b6d-c36c72183133, and path: /stelmo/nwb/analysis/Yoshi20220511/Yoshi20220511_5S9H3DL5B4.nwb\n",
      "[2023-11-08 09:45:49,415][WARNING]: Skipped checksum for file with hash: 11bdd335-9868-770a-2b6d-c36c72183133, and path: /stelmo/nwb/analysis/Yoshi20220511/Yoshi20220511_5S9H3DL5B4.nwb\n",
      "WARNING:datajoint:Skipped checksum for file with hash: 11bdd335-9868-770a-2b6d-c36c72183133, and path: /stelmo/nwb/analysis/Yoshi20220511/Yoshi20220511_5S9H3DL5B4.nwb\n"
     ]
    },
    {
     "name": "stdout",
     "output_type": "stream",
     "text": [
      "Writing new NWB file Yoshi20220511_3KEX5YD50U.nwb\n"
     ]
    },
    {
     "name": "stderr",
     "output_type": "stream",
     "text": [
      "[2023-11-08 09:45:58,587][WARNING]: Skipped checksum for file with hash: 9a8999ea-d90b-cbd0-0e81-e26d38e84453, and path: /stelmo/nwb/analysis/Yoshi20220511/Yoshi20220511_P2AIVSR5R6.nwb\n",
      "WARNING:datajoint:Skipped checksum for file with hash: 9a8999ea-d90b-cbd0-0e81-e26d38e84453, and path: /stelmo/nwb/analysis/Yoshi20220511/Yoshi20220511_P2AIVSR5R6.nwb\n",
      "[2023-11-08 09:45:59,927][WARNING]: Skipped checksum for file with hash: 9a8999ea-d90b-cbd0-0e81-e26d38e84453, and path: /stelmo/nwb/analysis/Yoshi20220511/Yoshi20220511_P2AIVSR5R6.nwb\n",
      "WARNING:datajoint:Skipped checksum for file with hash: 9a8999ea-d90b-cbd0-0e81-e26d38e84453, and path: /stelmo/nwb/analysis/Yoshi20220511/Yoshi20220511_P2AIVSR5R6.nwb\n"
     ]
    },
    {
     "name": "stdout",
     "output_type": "stream",
     "text": [
      "Writing new NWB file Yoshi20220511_MLOAZ4BLUS.nwb\n"
     ]
    },
    {
     "name": "stderr",
     "output_type": "stream",
     "text": [
      "[2023-11-08 09:46:07,964][WARNING]: Skipped checksum for file with hash: 20457dc6-46f7-589e-0b79-10c92271d68a, and path: /stelmo/nwb/analysis/Yoshi20220511/Yoshi20220511_Y3VT22B4IF.nwb\n",
      "WARNING:datajoint:Skipped checksum for file with hash: 20457dc6-46f7-589e-0b79-10c92271d68a, and path: /stelmo/nwb/analysis/Yoshi20220511/Yoshi20220511_Y3VT22B4IF.nwb\n",
      "[2023-11-08 09:46:08,847][WARNING]: Skipped checksum for file with hash: 20457dc6-46f7-589e-0b79-10c92271d68a, and path: /stelmo/nwb/analysis/Yoshi20220511/Yoshi20220511_Y3VT22B4IF.nwb\n",
      "WARNING:datajoint:Skipped checksum for file with hash: 20457dc6-46f7-589e-0b79-10c92271d68a, and path: /stelmo/nwb/analysis/Yoshi20220511/Yoshi20220511_Y3VT22B4IF.nwb\n"
     ]
    },
    {
     "name": "stdout",
     "output_type": "stream",
     "text": [
      "Writing new NWB file Yoshi20220511_TKS5890Z0L.nwb\n"
     ]
    },
    {
     "name": "stderr",
     "output_type": "stream",
     "text": [
      "[2023-11-08 09:46:16,047][WARNING]: Skipped checksum for file with hash: 2116d24f-376e-bf36-8684-f5bf531ce71f, and path: /stelmo/nwb/analysis/Yoshi20220511/Yoshi20220511_GVD5AXRLFG.nwb\n",
      "WARNING:datajoint:Skipped checksum for file with hash: 2116d24f-376e-bf36-8684-f5bf531ce71f, and path: /stelmo/nwb/analysis/Yoshi20220511/Yoshi20220511_GVD5AXRLFG.nwb\n",
      "[2023-11-08 09:46:17,088][WARNING]: Skipped checksum for file with hash: 2116d24f-376e-bf36-8684-f5bf531ce71f, and path: /stelmo/nwb/analysis/Yoshi20220511/Yoshi20220511_GVD5AXRLFG.nwb\n",
      "WARNING:datajoint:Skipped checksum for file with hash: 2116d24f-376e-bf36-8684-f5bf531ce71f, and path: /stelmo/nwb/analysis/Yoshi20220511/Yoshi20220511_GVD5AXRLFG.nwb\n"
     ]
    },
    {
     "name": "stdout",
     "output_type": "stream",
     "text": [
      "Writing new NWB file Yoshi20220511_GSIQYM4ISE.nwb\n"
     ]
    },
    {
     "name": "stderr",
     "output_type": "stream",
     "text": [
      "[2023-11-08 09:46:24,071][WARNING]: Skipped checksum for file with hash: 1efc519d-3e95-ff70-5cb4-ee97280ff168, and path: /stelmo/nwb/analysis/Yoshi20220511/Yoshi20220511_5JAVDO89OW.nwb\n",
      "WARNING:datajoint:Skipped checksum for file with hash: 1efc519d-3e95-ff70-5cb4-ee97280ff168, and path: /stelmo/nwb/analysis/Yoshi20220511/Yoshi20220511_5JAVDO89OW.nwb\n",
      "[2023-11-08 09:46:25,317][WARNING]: Skipped checksum for file with hash: 1efc519d-3e95-ff70-5cb4-ee97280ff168, and path: /stelmo/nwb/analysis/Yoshi20220511/Yoshi20220511_5JAVDO89OW.nwb\n",
      "WARNING:datajoint:Skipped checksum for file with hash: 1efc519d-3e95-ff70-5cb4-ee97280ff168, and path: /stelmo/nwb/analysis/Yoshi20220511/Yoshi20220511_5JAVDO89OW.nwb\n"
     ]
    },
    {
     "name": "stdout",
     "output_type": "stream",
     "text": [
      "Writing new NWB file Yoshi20220511_BNKO63PFVW.nwb\n"
     ]
    },
    {
     "name": "stderr",
     "output_type": "stream",
     "text": [
      "[2023-11-08 09:46:33,705][WARNING]: Skipped checksum for file with hash: eb9cea12-1442-bda9-7c73-1c281ebe4635, and path: /stelmo/nwb/analysis/Yoshi20220511/Yoshi20220511_G8J9DWJE1I.nwb\n",
      "WARNING:datajoint:Skipped checksum for file with hash: eb9cea12-1442-bda9-7c73-1c281ebe4635, and path: /stelmo/nwb/analysis/Yoshi20220511/Yoshi20220511_G8J9DWJE1I.nwb\n",
      "[2023-11-08 09:46:34,741][WARNING]: Skipped checksum for file with hash: eb9cea12-1442-bda9-7c73-1c281ebe4635, and path: /stelmo/nwb/analysis/Yoshi20220511/Yoshi20220511_G8J9DWJE1I.nwb\n",
      "WARNING:datajoint:Skipped checksum for file with hash: eb9cea12-1442-bda9-7c73-1c281ebe4635, and path: /stelmo/nwb/analysis/Yoshi20220511/Yoshi20220511_G8J9DWJE1I.nwb\n"
     ]
    },
    {
     "name": "stdout",
     "output_type": "stream",
     "text": [
      "Writing new NWB file Yoshi20220511_XZASZ9MA49.nwb\n"
     ]
    }
   ],
   "source": [
    "# desired sampling rate\n",
    "lfp_band_sampling_rate = 200\n",
    "missing_lfp = []\n",
    "\n",
    "\n",
    "for nwb_file_name, interval_list_name, period_ms in zip(*datset.fetch('nwb_file_name','interval_list_name','period_ms')):\n",
    "    if period_ms not in [250,165,125,100,80,50]:\n",
    "        continue\n",
    "    \n",
    "    filter_name = f\"ms_stim_{period_ms}ms_period\" \n",
    "            \n",
    "    basic_key = {\"nwb_file_name\": nwb_file_name,'target_interval_list_name':interval_list_name}\n",
    "    \n",
    "    #check that lfp exists for this animal\n",
    "    if len(LFPV1() & basic_key)==0:\n",
    "        missing_lfp.append(basic_key)\n",
    "        continue\n",
    "    if len(LFPV1 & basic_key)>1:\n",
    "        electrode_group_names = (LFPV1() & basic_key).fetch(\"lfp_electrode_group_name\")\n",
    "        electrode_group_name =[x for x in electrode_group_names if nwb_file_name.split('202')[0] in x][0]\n",
    "        basic_key[\"lfp_electrode_group_name\"] = electrode_group_name\n",
    "    if not (LFPV1 & basic_key).fetch1('lfp_sampling_rate')==1000:\n",
    "        continue\n",
    "        \n",
    "    #get lfp's sampling rate\n",
    "    lfp_sampling_rate = (LFPV1() & basic_key ).fetch1(\n",
    "        \"lfp_sampling_rate\"\n",
    "    )\n",
    "    \n",
    "    #get lfp filter sampling_rate\n",
    "    lfp_filter_sampling_rate = (LFPV1() & basic_key).fetch1(\n",
    "        \"filter_sampling_rate\"\n",
    "    )\n",
    "    \n",
    "    #get lfp filter name\n",
    "    lfp_filter_name = (LFPV1() & basic_key).fetch1(\n",
    "        \"filter_name\"\n",
    "    )\n",
    "    \n",
    "    # make lfp selection key\n",
    "    lfp_s_key = basic_key.copy()\n",
    "    lfp_s_key[\"target_interval_list_name\"] = interval_list_name\n",
    "    lfp_s_key[\"filter_name\"] = lfp_filter_name\n",
    "    lfp_s_key[\"filter_sampling_rate\"] = lfp_filter_sampling_rate\n",
    "    \n",
    "    # get the electrodes the lfp was run on\n",
    "    lfp_electrode_group_name = (LFPV1 & lfp_s_key).fetch1('lfp_electrode_group_name')\n",
    "    lfp_eg_key = {\n",
    "            \"nwb_file_name\": nwb_file_name,\n",
    "            \"lfp_electrode_group_name\": lfp_electrode_group_name,\n",
    "            }\n",
    "    electrode_list = list(np.asarray((LFPV1 & basic_key).fetch_nwb()[0]['lfp'].electrodes.to_dataframe().index))\n",
    "    \n",
    "    # remake lfp selection key\n",
    "    lfp_s_key = basic_key.copy()\n",
    "    lfp_s_key[\"target_interval_list_name\"] = interval_list_name\n",
    "    lfp_s_key[\"filter_name\"] = lfp_filter_name\n",
    "    lfp_s_key[\"filter_sampling_rate\"] = lfp_filter_sampling_rate\n",
    "    \n",
    "    # set the reference to -1 to indicate no reference for all channels\n",
    "    ref_elect = [-1]\n",
    "    \n",
    "    # we also need the uuid for the LFP object\n",
    "    lfp_merge_id = (LFPOutput.LFPV1 & lfp_s_key).fetch1('merge_id')\n",
    "    \n",
    "    \n",
    "    # #make Band selection table entry\n",
    "    LFPBandSelection().set_lfp_band_electrodes(\n",
    "            nwb_file_name=nwb_file_name,\n",
    "            lfp_merge_id=lfp_merge_id,\n",
    "            electrode_list=electrode_list,\n",
    "            filter_name=filter_name,\n",
    "            interval_list_name=interval_list_name,\n",
    "            reference_electrode_list=ref_elect,\n",
    "            lfp_band_sampling_rate=lfp_band_sampling_rate,\n",
    "        )\n",
    "    \n",
    "    lfp_band_key = (\n",
    "        LFPBandSelection\n",
    "        & {\n",
    "            \"lfp_merge_id\": lfp_merge_id,\n",
    "            \"filter_name\": filter_name,\n",
    "            \"lfp_band_sampling_rate\": lfp_band_sampling_rate,\n",
    "            \"target_interval_list_name\":interval_list_name,\n",
    "        }\n",
    "    ).fetch1(\"KEY\")\n",
    "    if LFPBandV1() & lfp_band_key:\n",
    "        continue #already populated\n",
    "    # lfp_band_key['lfp_electrode_group_name']=\"full_probe\"\n",
    "    LFPBandV1().populate(LFPBandSelection()&lfp_band_key)"
   ]
  },
  {
   "cell_type": "code",
   "execution_count": 46,
   "id": "2714ae3d",
   "metadata": {},
   "outputs": [
    {
     "data": {
      "text/html": [
       "\n",
       "    \n",
       "    <style type=\"text/css\">\n",
       "        .Table{\n",
       "            border-collapse:collapse;\n",
       "        }\n",
       "        .Table th{\n",
       "            background: #A0A0A0; color: #ffffff; padding:4px; border:#f0e0e0 1px solid;\n",
       "            font-weight: normal; font-family: monospace; font-size: 100%;\n",
       "        }\n",
       "        .Table td{\n",
       "            padding:4px; border:#f0e0e0 1px solid; font-size:100%;\n",
       "        }\n",
       "        .Table tr:nth-child(odd){\n",
       "            background: #ffffff;\n",
       "            color: #000000;\n",
       "        }\n",
       "        .Table tr:nth-child(even){\n",
       "            background: #f3f1ff;\n",
       "            color: #000000;\n",
       "        }\n",
       "        /* Tooltip container */\n",
       "        .djtooltip {\n",
       "        }\n",
       "        /* Tooltip text */\n",
       "        .djtooltip .djtooltiptext {\n",
       "            visibility: hidden;\n",
       "            width: 120px;\n",
       "            background-color: black;\n",
       "            color: #fff;\n",
       "            text-align: center;\n",
       "            padding: 5px 0;\n",
       "            border-radius: 6px;\n",
       "            /* Position the tooltip text - see examples below! */\n",
       "            position: absolute;\n",
       "            z-index: 1;\n",
       "        }\n",
       "        #primary {\n",
       "            font-weight: bold;\n",
       "            color: black;\n",
       "        }\n",
       "        #nonprimary {\n",
       "            font-weight: normal;\n",
       "            color: white;\n",
       "        }\n",
       "\n",
       "        /* Show the tooltip text when you mouse over the tooltip container */\n",
       "        .djtooltip:hover .djtooltiptext {\n",
       "            visibility: visible;\n",
       "        }\n",
       "    </style>\n",
       "    \n",
       "    <b></b>\n",
       "        <div style=\"max-height:1000px;max-width:1500px;overflow:auto;\">\n",
       "        <table border=\"1\" class=\"Table\">\n",
       "            <thead> <tr style=\"text-align: right;\"> <th> <div class=\"djtooltip\">\n",
       "                            <p id=\"primary\">nwb_file_name</p>\n",
       "                            <span class=\"djtooltiptext\">name of the NWB file</span>\n",
       "                        </div></th><th><div class=\"djtooltip\">\n",
       "                            <p id=\"primary\">lfp_electrode_group_name</p>\n",
       "                            <span class=\"djtooltiptext\">the name of this group of electrodes</span>\n",
       "                        </div></th><th><div class=\"djtooltip\">\n",
       "                            <p id=\"primary\">target_interval_list_name</p>\n",
       "                            <span class=\"djtooltiptext\">descriptive name of this interval list</span>\n",
       "                        </div></th><th><div class=\"djtooltip\">\n",
       "                            <p id=\"primary\">filter_name</p>\n",
       "                            <span class=\"djtooltiptext\">descriptive name of this filter</span>\n",
       "                        </div></th><th><div class=\"djtooltip\">\n",
       "                            <p id=\"primary\">filter_sampling_rate</p>\n",
       "                            <span class=\"djtooltiptext\">sampling rate for this filter</span>\n",
       "                        </div></th><th><div class=\"djtooltip\">\n",
       "                            <p id=\"nonprimary\">analysis_file_name</p>\n",
       "                            <span class=\"djtooltiptext\">name of the file</span>\n",
       "                        </div></th><th><div class=\"djtooltip\">\n",
       "                            <p id=\"nonprimary\">interval_list_name</p>\n",
       "                            <span class=\"djtooltiptext\">descriptive name of this interval list</span>\n",
       "                        </div></th><th><div class=\"djtooltip\">\n",
       "                            <p id=\"nonprimary\">lfp_object_id</p>\n",
       "                            <span class=\"djtooltiptext\">the NWB object ID for loading this object from the file</span>\n",
       "                        </div></th><th><div class=\"djtooltip\">\n",
       "                            <p id=\"nonprimary\">lfp_sampling_rate</p>\n",
       "                            <span class=\"djtooltiptext\">the sampling rate, in HZ</span>\n",
       "                        </div> </th> </tr> </thead>\n",
       "            <tbody> <tr> <td>Winnie20220713_.nwb</td>\n",
       "<td>tetrode_sample_Winnie</td>\n",
       "<td>pos 0 valid times</td>\n",
       "<td>LFP 0-400 Hz</td>\n",
       "<td>30000</td>\n",
       "<td>Winnie20220713_C52XDICU6D.nwb</td>\n",
       "<td>lfp_tetrode_sample_Winnie_pos 0 valid times_valid times</td>\n",
       "<td>a89c590f-290b-4f9c-a568-b9ae67eee96d</td>\n",
       "<td>1000.0</td></tr><tr><td>Winnie20220713_.nwb</td>\n",
       "<td>tetrode_sample_Winnie</td>\n",
       "<td>pos 1 valid times</td>\n",
       "<td>LFP 0-400 Hz</td>\n",
       "<td>30000</td>\n",
       "<td>Winnie20220713_FURB0FGK1A.nwb</td>\n",
       "<td>lfp_tetrode_sample_Winnie_pos 1 valid times_valid times</td>\n",
       "<td>2d99415e-6646-44e1-8745-d0af2912f9b1</td>\n",
       "<td>1000.0</td></tr><tr><td>Winnie20220713_.nwb</td>\n",
       "<td>tetrode_sample_Winnie</td>\n",
       "<td>pos 10 valid times</td>\n",
       "<td>LFP 0-400 Hz</td>\n",
       "<td>30000</td>\n",
       "<td>Winnie20220713_9GNIXRYWTS.nwb</td>\n",
       "<td>lfp_tetrode_sample_Winnie_pos 10 valid times_valid times</td>\n",
       "<td>48bc053f-ff5b-460f-838b-cefd8eba4b0d</td>\n",
       "<td>1000.0</td></tr><tr><td>Winnie20220713_.nwb</td>\n",
       "<td>tetrode_sample_Winnie</td>\n",
       "<td>pos 11 valid times</td>\n",
       "<td>LFP 0-400 Hz</td>\n",
       "<td>30000</td>\n",
       "<td>Winnie20220713_824JXQAB78.nwb</td>\n",
       "<td>lfp_tetrode_sample_Winnie_pos 11 valid times_valid times</td>\n",
       "<td>87e1b640-4938-4974-bce2-766f61c2e66f</td>\n",
       "<td>1000.0</td></tr><tr><td>Winnie20220713_.nwb</td>\n",
       "<td>tetrode_sample_Winnie</td>\n",
       "<td>pos 12 valid times</td>\n",
       "<td>LFP 0-400 Hz</td>\n",
       "<td>30000</td>\n",
       "<td>Winnie20220713_FLOILA8D0V.nwb</td>\n",
       "<td>lfp_tetrode_sample_Winnie_pos 12 valid times_valid times</td>\n",
       "<td>21aa2368-261b-4a1e-9e3b-151727e7a8b9</td>\n",
       "<td>1000.0</td></tr><tr><td>Winnie20220713_.nwb</td>\n",
       "<td>tetrode_sample_Winnie</td>\n",
       "<td>pos 13 valid times</td>\n",
       "<td>LFP 0-400 Hz</td>\n",
       "<td>30000</td>\n",
       "<td>Winnie20220713_YYUM4C0GTJ.nwb</td>\n",
       "<td>lfp_tetrode_sample_Winnie_pos 13 valid times_valid times</td>\n",
       "<td>599008ed-d7b4-4aca-9a65-b7cb6619a026</td>\n",
       "<td>1000.0</td></tr><tr><td>Winnie20220713_.nwb</td>\n",
       "<td>tetrode_sample_Winnie</td>\n",
       "<td>pos 14 valid times</td>\n",
       "<td>LFP 0-400 Hz</td>\n",
       "<td>30000</td>\n",
       "<td>Winnie20220713_49PBQ0QLK5.nwb</td>\n",
       "<td>lfp_tetrode_sample_Winnie_pos 14 valid times_valid times</td>\n",
       "<td>5aac489d-2f02-49eb-92e3-46d31390c193</td>\n",
       "<td>1000.0</td></tr><tr><td>Winnie20220713_.nwb</td>\n",
       "<td>tetrode_sample_Winnie</td>\n",
       "<td>pos 2 valid times</td>\n",
       "<td>LFP 0-400 Hz</td>\n",
       "<td>30000</td>\n",
       "<td>Winnie20220713_HBKDTJIJAR.nwb</td>\n",
       "<td>lfp_tetrode_sample_Winnie_pos 2 valid times_valid times</td>\n",
       "<td>3e8e3eaf-a12d-4b0f-b218-6e2deac10f30</td>\n",
       "<td>1000.0</td></tr><tr><td>Winnie20220713_.nwb</td>\n",
       "<td>tetrode_sample_Winnie</td>\n",
       "<td>pos 3 valid times</td>\n",
       "<td>LFP 0-400 Hz</td>\n",
       "<td>30000</td>\n",
       "<td>Winnie20220713_I2WK0NS3K8.nwb</td>\n",
       "<td>lfp_tetrode_sample_Winnie_pos 3 valid times_valid times</td>\n",
       "<td>e7e39ca8-98e9-4dc2-bded-2a0b2980ff07</td>\n",
       "<td>1000.0</td></tr><tr><td>Winnie20220713_.nwb</td>\n",
       "<td>tetrode_sample_Winnie</td>\n",
       "<td>pos 4 valid times</td>\n",
       "<td>LFP 0-400 Hz</td>\n",
       "<td>30000</td>\n",
       "<td>Winnie20220713_W4TKS379ID.nwb</td>\n",
       "<td>lfp_tetrode_sample_Winnie_pos 4 valid times_valid times</td>\n",
       "<td>bf864bf0-6b1a-4043-a34a-65f036dd3e27</td>\n",
       "<td>1000.0</td></tr><tr><td>Winnie20220713_.nwb</td>\n",
       "<td>tetrode_sample_Winnie</td>\n",
       "<td>pos 5 valid times</td>\n",
       "<td>LFP 0-400 Hz</td>\n",
       "<td>30000</td>\n",
       "<td>Winnie20220713_SMXSE3L1U6.nwb</td>\n",
       "<td>lfp_tetrode_sample_Winnie_pos 5 valid times_valid times</td>\n",
       "<td>d59bcfcf-771f-4c7b-9b33-3a799296e965</td>\n",
       "<td>1000.0</td></tr><tr><td>Winnie20220713_.nwb</td>\n",
       "<td>tetrode_sample_Winnie</td>\n",
       "<td>pos 6 valid times</td>\n",
       "<td>LFP 0-400 Hz</td>\n",
       "<td>30000</td>\n",
       "<td>Winnie20220713_9UU7KTKP5F.nwb</td>\n",
       "<td>lfp_tetrode_sample_Winnie_pos 6 valid times_valid times</td>\n",
       "<td>48c4f047-534f-4f74-9060-4f75cd0cbac8</td>\n",
       "<td>1000.0</td> </tr> </tbody>\n",
       "        </table>\n",
       "        <p>...</p>\n",
       "        <p>Total: 15</p></div>\n",
       "        "
      ],
      "text/plain": [
       "*nwb_file_name *lfp_electrode *target_interv *filter_name   *filter_sampli analysis_file_ interval_list_ lfp_object_id  lfp_sampling_r\n",
       "+------------+ +------------+ +------------+ +------------+ +------------+ +------------+ +------------+ +------------+ +------------+\n",
       "Winnie20220713 tetrode_sample pos 0 valid ti LFP 0-400 Hz   30000          Winnie20220713 lfp_tetrode_sa a89c590f-290b- 1000.0        \n",
       "Winnie20220713 tetrode_sample pos 1 valid ti LFP 0-400 Hz   30000          Winnie20220713 lfp_tetrode_sa 2d99415e-6646- 1000.0        \n",
       "Winnie20220713 tetrode_sample pos 10 valid t LFP 0-400 Hz   30000          Winnie20220713 lfp_tetrode_sa 48bc053f-ff5b- 1000.0        \n",
       "Winnie20220713 tetrode_sample pos 11 valid t LFP 0-400 Hz   30000          Winnie20220713 lfp_tetrode_sa 87e1b640-4938- 1000.0        \n",
       "Winnie20220713 tetrode_sample pos 12 valid t LFP 0-400 Hz   30000          Winnie20220713 lfp_tetrode_sa 21aa2368-261b- 1000.0        \n",
       "Winnie20220713 tetrode_sample pos 13 valid t LFP 0-400 Hz   30000          Winnie20220713 lfp_tetrode_sa 599008ed-d7b4- 1000.0        \n",
       "Winnie20220713 tetrode_sample pos 14 valid t LFP 0-400 Hz   30000          Winnie20220713 lfp_tetrode_sa 5aac489d-2f02- 1000.0        \n",
       "Winnie20220713 tetrode_sample pos 2 valid ti LFP 0-400 Hz   30000          Winnie20220713 lfp_tetrode_sa 3e8e3eaf-a12d- 1000.0        \n",
       "Winnie20220713 tetrode_sample pos 3 valid ti LFP 0-400 Hz   30000          Winnie20220713 lfp_tetrode_sa e7e39ca8-98e9- 1000.0        \n",
       "Winnie20220713 tetrode_sample pos 4 valid ti LFP 0-400 Hz   30000          Winnie20220713 lfp_tetrode_sa bf864bf0-6b1a- 1000.0        \n",
       "Winnie20220713 tetrode_sample pos 5 valid ti LFP 0-400 Hz   30000          Winnie20220713 lfp_tetrode_sa d59bcfcf-771f- 1000.0        \n",
       "Winnie20220713 tetrode_sample pos 6 valid ti LFP 0-400 Hz   30000          Winnie20220713 lfp_tetrode_sa 48c4f047-534f- 1000.0        \n",
       "   ...\n",
       " (Total: 15)"
      ]
     },
     "execution_count": 46,
     "metadata": {},
     "output_type": "execute_result"
    }
   ],
   "source": [
    "basic_key\n",
    "period_ms\n",
    "(LFPV1 & basic_key)#.fetch1('lfp_sampling_rate')\n",
    "LFPV1() & {'nwb_file_name':'Winnie20220713_.nwb'}\n",
    "animal = Session & {'nwb_file_name':nwb_file_name}.fetch1('subject_id')\n",
    "electrode_group_name = f'tetrode_sample_{animal}'\n"
   ]
  },
  {
   "cell_type": "code",
   "execution_count": 10,
   "id": "4a0ff770",
   "metadata": {},
   "outputs": [
    {
     "name": "stderr",
     "output_type": "stream",
     "text": [
      "[2023-10-20 08:18:10,755][WARNING]: Skipped checksum for file with hash: 1f41ed1f-df73-533d-6c95-5cb459607516, and path: /stelmo/nwb/analysis/Bilbo20230725/Bilbo20230725_JRH9I6411O.nwb\n",
      "WARNING:datajoint:Skipped checksum for file with hash: 1f41ed1f-df73-533d-6c95-5cb459607516, and path: /stelmo/nwb/analysis/Bilbo20230725/Bilbo20230725_JRH9I6411O.nwb\n"
     ]
    },
    {
     "data": {
      "text/plain": [
       "filtered data pynwb.ecephys.ElectricalSeries at 0x140401433184672\n",
       "Fields:\n",
       "  comments: no comments\n",
       "  conversion: 1.0\n",
       "  data: <HDF5 dataset \"data\": shape (2016507, 14), type \"<i2\">\n",
       "  description: filtered data\n",
       "  electrodes: electrodes <class 'hdmf.common.table.DynamicTableRegion'>\n",
       "  interval: 1\n",
       "  offset: 0.0\n",
       "  resolution: -1.0\n",
       "  timestamps: <HDF5 dataset \"timestamps\": shape (2016507,), type \"<f8\">\n",
       "  timestamps_unit: seconds\n",
       "  unit: volts"
      ]
     },
     "execution_count": 10,
     "metadata": {},
     "output_type": "execute_result"
    }
   ],
   "source": [
    "lfp_band_key\n",
    "\n",
    "(LFPV1 & basic_key).fetch_nwb()[0]['lfp']"
   ]
  },
  {
   "cell_type": "markdown",
   "id": "1e3d7cf8-7f26-4f55-832e-506a5aa551d8",
   "metadata": {},
   "source": [
    "## Check missing LFP's"
   ]
  },
  {
   "cell_type": "code",
   "execution_count": 13,
   "id": "b44704f6-b5b9-4416-8fd2-6c538734ad3f",
   "metadata": {},
   "outputs": [
    {
     "data": {
      "text/plain": [
       "'Banner20220225_.nwb'"
      ]
     },
     "execution_count": 13,
     "metadata": {},
     "output_type": "execute_result"
    }
   ],
   "source": [
    "print(missing_lfp)"
   ]
  },
  {
   "cell_type": "code",
   "execution_count": null,
   "id": "c4e31406-9c3b-4449-833a-eaa6e877b25c",
   "metadata": {},
   "outputs": [],
   "source": []
  }
 ],
 "metadata": {
  "kernelspec": {
   "display_name": "spyglass",
   "language": "python",
   "name": "python3"
  },
  "language_info": {
   "codemirror_mode": {
    "name": "ipython",
    "version": 3
   },
   "file_extension": ".py",
   "mimetype": "text/x-python",
   "name": "python",
   "nbconvert_exporter": "python",
   "pygments_lexer": "ipython3",
   "version": "3.9.16"
  }
 },
 "nbformat": 4,
 "nbformat_minor": 5
}
