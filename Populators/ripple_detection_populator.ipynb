{
 "cells": [
  {
   "cell_type": "code",
   "execution_count": 1,
   "id": "063a6fdd-0625-4d2a-b759-cf7b6c9eef21",
   "metadata": {},
   "outputs": [
    {
     "name": "stderr",
     "output_type": "stream",
     "text": [
      "[2023-12-21 09:13:42,318][INFO]: Connecting sambray@lmf-db.cin.ucsf.edu:3306\n",
      "[2023-12-21 09:13:42,392][INFO]: Connected sambray@lmf-db.cin.ucsf.edu:3306\n"
     ]
    }
   ],
   "source": [
    "%load_ext autoreload\n",
    "%autoreload 2\n",
    "import pynwb\n",
    "import os\n",
    "import numpy as np\n",
    "\n",
    "# DataJoint and DataJoint schema\n",
    "import datajoint as dj\n",
    "\n",
    "dj.config[\"filepath_checksum_size_limit\"] = 1 * 1024**2\n",
    "\n",
    "## We also import a bunch of tables so that we can call them easily\n",
    "from spyglass.common import (\n",
    "    ElectrodeGroup,\n",
    "    Electrode,\n",
    "    FirFilterParameters,\n",
    "    IntervalList,\n",
    "    Session,\n",
    "    Task,\n",
    "    TaskEpoch,\n",
    "    Nwbfile,\n",
    "    AnalysisNwbfile,\n",
    "    NwbfileKachery,\n",
    "    AnalysisNwbfileKachery,\n",
    "    interval_list_contains,\n",
    "    interval_list_contains_ind,\n",
    "    interval_list_excludes,\n",
    "    interval_list_excludes_ind,\n",
    "    interval_list_intersect,\n",
    "    get_electrode_indices,\n",
    ")\n",
    "\n",
    "from spyglass.lfp.v1 import (\n",
    "    LFPElectrodeGroup,\n",
    "    LFPSelection,\n",
    "    LFPV1,\n",
    ")\n",
    "from spyglass.lfp.lfp_merge import LFPOutput\n",
    "\n",
    "\n",
    "from spyglass.lfp.analysis.v1.lfp_band import LFPBandSelection,LFPBandV1\n",
    "# from spyglass.lfp_band.lfp_band_merge import LFPBandOutput\n",
    "import os\n",
    "import warnings\n",
    "from tqdm import tqdm\n",
    "warnings.simplefilter(\"ignore\", category=DeprecationWarning)\n",
    "warnings.simplefilter(\"ignore\", category=ResourceWarning)\n",
    "warnings.simplefilter(\"ignore\", category=UserWarning)"
   ]
  },
  {
   "cell_type": "markdown",
   "id": "cb132610-c932-4a35-be88-577c96261cc0",
   "metadata": {},
   "source": [
    "## Define Animal Sessions"
   ]
  },
  {
   "cell_type": "code",
   "execution_count": 2,
   "id": "0ee04af0-d14c-486b-9ef7-ab34fbdf226e",
   "metadata": {},
   "outputs": [],
   "source": [
    "nwb_file_names = [\n",
    "    #Olive\n",
    "    \"Olive20220624_.nwb\",\n",
    "    \"Olive20220627_.nwb\",\n",
    "    \"Olive20220628_.nwb\",\n",
    "    \"Olive20220629_.nwb\",\n",
    "    \"Olive20220630_.nwb\",\n",
    "    \"Olive20220701_.nwb\",\n",
    "    \"Olive20220702_.nwb\",\n",
    "    \"Olive20220705_.nwb\",\n",
    "    \"Olive20220706_.nwb\",\n",
    "    #Yoshi\n",
    "    \"Yoshi20220509_.nwb\",\n",
    "    \"Yoshi20220510_.nwb\",\n",
    "    \"Yoshi20220511_.nwb\",\n",
    "    \"Yoshi20220519_.nwb\",\n",
    "    \"Yoshi20220525_.nwb\",\n",
    "    #Winnie\n",
    "    \"Winnie20220712_.nwb\",\n",
    "    \"Winnie20220713_.nwb\",\n",
    "    \"Winnie20220714_.nwb\",\n",
    "    \"Winnie20220715_.nwb\",\n",
    "    \"Winnie20220716_.nwb\",\n",
    "    #Wallie\n",
    "    \"Wallie20220911_.nwb\",\n",
    "    \"Wallie20220912_.nwb\",\n",
    "    \"Wallie20220913_.nwb\",\n",
    "    \"Wallie20220916_.nwb\",\n",
    "    #Totoro\n",
    "    \"Totoro20220524_.nwb\",\n",
    "    \"Totoro20220525_.nwb\",\n",
    "    \"Totoro20220526_.nwb\",\n",
    "    \"Totoro20220527_.nwb\",\n",
    "    \"Totoro20220530_.nwb\",\n",
    "    \"Totoro20220531_.nwb\",\n",
    "    \"Totoro20220602_.nwb\",\n",
    "    \"Totoro20220603_.nwb\",\n",
    "    \"Totoro20220606_.nwb\",\n",
    "    \"Totoro20220621_.nwb\",\n",
    "    #Odins\n",
    "    \"Odins20220107_.nwb\",\n",
    "    \"Odins20220110_.nwb\",\n",
    "    \"Odins20220111_.nwb\",\n",
    "    \"Odins20220113_.nwb\",\n",
    "    \"Odins20220118_.nwb\",\n",
    "    \"Odins20220119_.nwb\",\n",
    "    \"Odins20220123_.nwb\",\n",
    "    \"Odins20220124_.nwb\",\n",
    "    # \"Odins20220126_.nwb\", ???\n",
    "    #Banner\n",
    "    \"Banner20211221_.nwb\",\n",
    "    \"Banner20211222_.nwb\",\n",
    "    \"Banner20211227_.nwb\",\n",
    "    \"Banner20211228_.nwb\",\n",
    "    \"Banner20211230_.nwb\",\n",
    "    \"Banner20211231_.nwb\",\n",
    "    \"Banner20220103_.nwb\",\n",
    "    \"Banner20220105_.nwb\",\n",
    "    \"Banner20220123_.nwb\",\n",
    "    \"Banner20220124_.nwb\",\n",
    "    \"Banner20220126_.nwb\",\n",
    "]\n",
    "\n",
    "nwb_file_names.extend([\n",
    "    #Olive\n",
    "    \"Olive20220707_.nwb\",\n",
    "    \"Olive20220708_.nwb\",\n",
    "    \"Olive20220711_.nwb\",\n",
    "    #Yoshi\n",
    "    \"Yoshi20220513_.nwb\",\n",
    "    \"Yoshi20220516_.nwb\",\n",
    "    \"Yoshi20220517_.nwb\",\n",
    "    \"Yoshi20220518_.nwb\",\n",
    "    #Winnie\n",
    "    \"Winnie20220717_.nwb\",\n",
    "    \"Winnie20220718_.nwb\",\n",
    "    \"Winnie20220719_.nwb\",\n",
    "    \"Winnie20220720_.nwb\",\n",
    "    \"Winnie20220722_.nwb\",\n",
    "    #Wallie\n",
    "    \"Wallie20220914_.nwb\",\n",
    "    \"Wallie20220915_.nwb\",\n",
    "    \"Wallie20220922_.nwb\",\n",
    "    #Totoro\n",
    "    \"Totoro20220607_.nwb\",\n",
    "    \"Totoro20220610_.nwb\",\n",
    "    \"Totoro20220613_.nwb\",\n",
    "    \"Totoro20220614_.nwb\",\n",
    "    \"Totoro20220615_.nwb\",\n",
    "    \"Totoro20220616_.nwb\",\n",
    "    \"Totoro20220617_.nwb\",\n",
    "    #Odins\n",
    "    \"Odins20220226_.nwb\",\n",
    "    #Banner\n",
    "    \"Banner20220215_.nwb\",\n",
    "    \"Banner20220216_.nwb\",\n",
    "    \"Banner20220223_.nwb\",\n",
    "    \"Banner20220224_.nwb\",\n",
    "    \"Banner20220225_.nwb\",\n",
    "])\n",
    "    \n",
    "# np.isnan(np.mean([]))\n",
    "animal_names = [\"Wallie\",\"Winnie\",\"Olive\",\"Totoro\",\"Yoshi\",\"Dan\",\"Bilbo\",\"Frodo\"]\n",
    "from spyglass.common import Session\n",
    "nwb_file_names = []\n",
    "[nwb_file_names.extend((Session() & {\"subject_id\":animal}).fetch(\"nwb_file_name\")) for animal in animal_names]\n",
    "\n",
    "nwb_file_names = ['Winnie20220714_.nwb']\n",
    "\n",
    "#write permission?\n",
    "analysis_path = \"/stelmo/nwb/analysis/\"\n",
    "for nwb_file in nwb_file_names:\n",
    "    if not os.path.isdir(analysis_path+nwb_file.split('_')[0]):\n",
    "        print(f'No analysis yet for: {nwb_file}')\n",
    "    elif not os.access(analysis_path+nwb_file.split('_')[0],os.W_OK):\n",
    "        print(f'No write permissions for: {nwb_file}nwb_file')\n"
   ]
  },
  {
   "cell_type": "code",
   "execution_count": 11,
   "id": "0d8a756e",
   "metadata": {},
   "outputs": [],
   "source": [
    "animal_names = [\"Banner\",\"Wallie\",\"Winnie\",\"Olive\",\"Totoro\",\"Yoshi\",\"Dan\",\"Bilbo\",\"Frodo\"]\n",
    "nwb_file_names = []\n",
    "interval_list_names = []\n",
    "\n",
    "for animal in animal_names:\n",
    "    nwb_file_names.extend((LFPV1 * Session() & {\"subject_id\":animal}).fetch(\"nwb_file_name\"))\n",
    "    interval_list_names.extend((LFPV1 * Session() & {\"subject_id\":animal}).fetch(\"target_interval_list_name\"))"
   ]
  },
  {
   "cell_type": "markdown",
   "id": "6f9309a3-1774-4192-91e5-acb346a6e1f9",
   "metadata": {},
   "source": [
    "## Populate Ripple LFPBand"
   ]
  },
  {
   "cell_type": "code",
   "execution_count": 21,
   "id": "9c181360-c520-4218-9aa6-858bafa79a7d",
   "metadata": {},
   "outputs": [
    {
     "name": "stderr",
     "output_type": "stream",
     "text": [
      "0it [00:00, ?it/s][2023-12-21 09:25:27,796][WARNING]: Skipped checksum for file with hash: 6cd0fdb9-514d-d485-4dd4-bd1421c2a72f, and path: /stelmo/nwb/analysis/Banner20211221/Banner20211221_B8Y8EIB8TP.nwb\n"
     ]
    },
    {
     "name": "stderr",
     "output_type": "stream",
     "text": [
      "WARNING:datajoint:Skipped checksum for file with hash: 6cd0fdb9-514d-d485-4dd4-bd1421c2a72f, and path: /stelmo/nwb/analysis/Banner20211221/Banner20211221_B8Y8EIB8TP.nwb\n",
      "1it [00:00,  1.66it/s][2023-12-21 09:25:28,396][WARNING]: Skipped checksum for file with hash: 06436bdb-6d9c-22f6-029e-88c2f8c2412d, and path: /stelmo/nwb/analysis/Banner20211221/Banner20211221_FU6J57GS4G.nwb\n",
      "WARNING:datajoint:Skipped checksum for file with hash: 06436bdb-6d9c-22f6-029e-88c2f8c2412d, and path: /stelmo/nwb/analysis/Banner20211221/Banner20211221_FU6J57GS4G.nwb\n",
      "2it [00:01,  1.64it/s][2023-12-21 09:25:29,015][WARNING]: Skipped checksum for file with hash: ff3b5c39-9487-8d16-a69c-43084265943b, and path: /stelmo/nwb/analysis/Banner20211222/Banner20211222_24ZSISUYXR.nwb\n",
      "WARNING:datajoint:Skipped checksum for file with hash: ff3b5c39-9487-8d16-a69c-43084265943b, and path: /stelmo/nwb/analysis/Banner20211222/Banner20211222_24ZSISUYXR.nwb\n",
      "3it [00:01,  1.64it/s][2023-12-21 09:25:29,620][WARNING]: Skipped checksum for file with hash: 52940a6b-3512-2d5a-bd6d-715de04c937e, and path: /stelmo/nwb/analysis/Banner20211222/Banner20211222_NJ1AH2SG7X.nwb\n",
      "WARNING:datajoint:Skipped checksum for file with hash: 52940a6b-3512-2d5a-bd6d-715de04c937e, and path: /stelmo/nwb/analysis/Banner20211222/Banner20211222_NJ1AH2SG7X.nwb\n",
      "4it [00:02,  1.64it/s][2023-12-21 09:25:30,232][WARNING]: Skipped checksum for file with hash: 18e8343e-3700-869b-51a4-ac5a8fae20c4, and path: /stelmo/nwb/analysis/Banner20211222/Banner20211222_PATV8XFL7F.nwb\n",
      "WARNING:datajoint:Skipped checksum for file with hash: 18e8343e-3700-869b-51a4-ac5a8fae20c4, and path: /stelmo/nwb/analysis/Banner20211222/Banner20211222_PATV8XFL7F.nwb\n",
      "5it [00:03,  1.66it/s][2023-12-21 09:25:30,823][WARNING]: Skipped checksum for file with hash: 9f22e680-257e-a70f-2030-352e0811be69, and path: /stelmo/nwb/analysis/Banner20211222/Banner20211222_HUBPRCYVOX.nwb\n",
      "WARNING:datajoint:Skipped checksum for file with hash: 9f22e680-257e-a70f-2030-352e0811be69, and path: /stelmo/nwb/analysis/Banner20211222/Banner20211222_HUBPRCYVOX.nwb\n",
      "6it [00:03,  1.66it/s][2023-12-21 09:25:31,426][WARNING]: Skipped checksum for file with hash: d41eab27-79c8-77c5-3b44-956adbbe3feb, and path: /stelmo/nwb/analysis/Banner20211222/Banner20211222_31EI00J14A.nwb\n",
      "WARNING:datajoint:Skipped checksum for file with hash: d41eab27-79c8-77c5-3b44-956adbbe3feb, and path: /stelmo/nwb/analysis/Banner20211222/Banner20211222_31EI00J14A.nwb\n",
      "7it [00:04,  1.68it/s][2023-12-21 09:25:32,010][WARNING]: Skipped checksum for file with hash: 79ca25de-fb72-086e-6dfe-176c8ed2649d, and path: /stelmo/nwb/analysis/Banner20211227/Banner20211227_OWWPEIV67F.nwb\n",
      "WARNING:datajoint:Skipped checksum for file with hash: 79ca25de-fb72-086e-6dfe-176c8ed2649d, and path: /stelmo/nwb/analysis/Banner20211227/Banner20211227_OWWPEIV67F.nwb\n",
      "8it [00:04,  1.68it/s][2023-12-21 09:25:32,604][WARNING]: Skipped checksum for file with hash: d620588c-e979-6d3a-2b89-09a75cb4f866, and path: /stelmo/nwb/analysis/Banner20211227/Banner20211227_KMPDJ12FNU.nwb\n",
      "WARNING:datajoint:Skipped checksum for file with hash: d620588c-e979-6d3a-2b89-09a75cb4f866, and path: /stelmo/nwb/analysis/Banner20211227/Banner20211227_KMPDJ12FNU.nwb\n",
      "9it [00:05,  1.68it/s][2023-12-21 09:25:33,193][WARNING]: Skipped checksum for file with hash: 5fc1883e-e54a-9c1b-83dd-a106a7e9951c, and path: /stelmo/nwb/analysis/Banner20211227/Banner20211227_LBU2JPVC15.nwb\n",
      "WARNING:datajoint:Skipped checksum for file with hash: 5fc1883e-e54a-9c1b-83dd-a106a7e9951c, and path: /stelmo/nwb/analysis/Banner20211227/Banner20211227_LBU2JPVC15.nwb\n",
      "10it [00:05,  1.69it/s][2023-12-21 09:25:33,780][WARNING]: Skipped checksum for file with hash: d0cd3bc1-8dfd-b59b-32bd-b5284bdd2d41, and path: /stelmo/nwb/analysis/Banner20211227/Banner20211227_HDCA69JEZK.nwb\n",
      "WARNING:datajoint:Skipped checksum for file with hash: d0cd3bc1-8dfd-b59b-32bd-b5284bdd2d41, and path: /stelmo/nwb/analysis/Banner20211227/Banner20211227_HDCA69JEZK.nwb\n",
      "11it [00:06,  1.70it/s][2023-12-21 09:25:34,366][WARNING]: Skipped checksum for file with hash: 0e9e9dc4-c16a-8085-bd72-7b44e397a4f5, and path: /stelmo/nwb/analysis/Banner20211227/Banner20211227_E0F1NKPG8U.nwb\n",
      "WARNING:datajoint:Skipped checksum for file with hash: 0e9e9dc4-c16a-8085-bd72-7b44e397a4f5, and path: /stelmo/nwb/analysis/Banner20211227/Banner20211227_E0F1NKPG8U.nwb\n",
      "12it [00:07,  1.71it/s][2023-12-21 09:25:34,944][WARNING]: Skipped checksum for file with hash: dac46601-7bb0-7446-5cad-838e5fda89a4, and path: /stelmo/nwb/analysis/Banner20211228/Banner20211228_Z5D6GX63JC.nwb\n",
      "WARNING:datajoint:Skipped checksum for file with hash: dac46601-7bb0-7446-5cad-838e5fda89a4, and path: /stelmo/nwb/analysis/Banner20211228/Banner20211228_Z5D6GX63JC.nwb\n",
      "13it [00:07,  1.71it/s][2023-12-21 09:25:35,527][WARNING]: Skipped checksum for file with hash: ce2bab99-7065-d60a-4cf0-9b37d64d1bae, and path: /stelmo/nwb/analysis/Banner20211228/Banner20211228_EETLY22DUA.nwb\n",
      "WARNING:datajoint:Skipped checksum for file with hash: ce2bab99-7065-d60a-4cf0-9b37d64d1bae, and path: /stelmo/nwb/analysis/Banner20211228/Banner20211228_EETLY22DUA.nwb\n",
      "14it [00:08,  1.71it/s][2023-12-21 09:25:36,113][WARNING]: Skipped checksum for file with hash: 5b938abc-ba48-a187-5fe8-a88d88b68191, and path: /stelmo/nwb/analysis/Banner20211228/Banner20211228_AOWJPX5OD7.nwb\n",
      "WARNING:datajoint:Skipped checksum for file with hash: 5b938abc-ba48-a187-5fe8-a88d88b68191, and path: /stelmo/nwb/analysis/Banner20211228/Banner20211228_AOWJPX5OD7.nwb\n",
      "15it [00:08,  1.71it/s][2023-12-21 09:25:36,697][WARNING]: Skipped checksum for file with hash: 99c8306c-55aa-194c-ff20-0f091ec55ea6, and path: /stelmo/nwb/analysis/Banner20211228/Banner20211228_E68NRJB14I.nwb\n",
      "WARNING:datajoint:Skipped checksum for file with hash: 99c8306c-55aa-194c-ff20-0f091ec55ea6, and path: /stelmo/nwb/analysis/Banner20211228/Banner20211228_E68NRJB14I.nwb\n",
      "16it [00:09,  1.71it/s][2023-12-21 09:25:37,286][WARNING]: Skipped checksum for file with hash: 8ca522c6-9987-99b0-8c1b-42e5d2ffe378, and path: /stelmo/nwb/analysis/Banner20211228/Banner20211228_CIIIHMHBIP.nwb\n",
      "WARNING:datajoint:Skipped checksum for file with hash: 8ca522c6-9987-99b0-8c1b-42e5d2ffe378, and path: /stelmo/nwb/analysis/Banner20211228/Banner20211228_CIIIHMHBIP.nwb\n",
      "17it [00:10,  1.71it/s][2023-12-21 09:25:37,863][WARNING]: Skipped checksum for file with hash: be50311a-4ebf-13ae-a963-0b877c0f8f27, and path: /stelmo/nwb/analysis/Banner20211228/Banner20211228_YJ1RB4IW1V.nwb\n",
      "WARNING:datajoint:Skipped checksum for file with hash: be50311a-4ebf-13ae-a963-0b877c0f8f27, and path: /stelmo/nwb/analysis/Banner20211228/Banner20211228_YJ1RB4IW1V.nwb\n",
      "18it [00:10,  1.71it/s][2023-12-21 09:25:38,450][WARNING]: Skipped checksum for file with hash: 211b72b5-d0a4-2503-f652-8ee991dbda4c, and path: /stelmo/nwb/analysis/Banner20211228/Banner20211228_IM5S1A0PBL.nwb\n",
      "WARNING:datajoint:Skipped checksum for file with hash: 211b72b5-d0a4-2503-f652-8ee991dbda4c, and path: /stelmo/nwb/analysis/Banner20211228/Banner20211228_IM5S1A0PBL.nwb\n",
      "19it [00:11,  1.69it/s][2023-12-21 09:25:39,061][WARNING]: Skipped checksum for file with hash: eb9c88d0-745e-1fde-49cb-058c19abadbb, and path: /stelmo/nwb/analysis/Banner20211228/Banner20211228_CU8P2N9EB4.nwb\n",
      "WARNING:datajoint:Skipped checksum for file with hash: eb9c88d0-745e-1fde-49cb-058c19abadbb, and path: /stelmo/nwb/analysis/Banner20211228/Banner20211228_CU8P2N9EB4.nwb\n",
      "20it [00:11,  1.66it/s][2023-12-21 09:25:39,684][WARNING]: Skipped checksum for file with hash: f7c37e34-c05c-1c55-d153-20d217f296a2, and path: /stelmo/nwb/analysis/Banner20211228/Banner20211228_990FHXX0OX.nwb\n",
      "WARNING:datajoint:Skipped checksum for file with hash: f7c37e34-c05c-1c55-d153-20d217f296a2, and path: /stelmo/nwb/analysis/Banner20211228/Banner20211228_990FHXX0OX.nwb\n",
      "21it [00:12,  1.65it/s][2023-12-21 09:25:40,301][WARNING]: Skipped checksum for file with hash: 35f5d0b5-3982-4045-5286-7fb1c710a92d, and path: /stelmo/nwb/analysis/Banner20211228/Banner20211228_Q2QX3XSFBV.nwb\n",
      "WARNING:datajoint:Skipped checksum for file with hash: 35f5d0b5-3982-4045-5286-7fb1c710a92d, and path: /stelmo/nwb/analysis/Banner20211228/Banner20211228_Q2QX3XSFBV.nwb\n",
      "22it [00:13,  1.64it/s][2023-12-21 09:25:40,923][WARNING]: Skipped checksum for file with hash: 5e6c9601-f6de-9d5a-2fc8-09786960e514, and path: /stelmo/nwb/analysis/Banner20211230/Banner20211230_X1YKNAEPTA.nwb\n",
      "WARNING:datajoint:Skipped checksum for file with hash: 5e6c9601-f6de-9d5a-2fc8-09786960e514, and path: /stelmo/nwb/analysis/Banner20211230/Banner20211230_X1YKNAEPTA.nwb\n",
      "23it [00:13,  1.63it/s][2023-12-21 09:25:41,543][WARNING]: Skipped checksum for file with hash: ddf48a5d-51fc-c935-6719-171520448df0, and path: /stelmo/nwb/analysis/Banner20211230/Banner20211230_11NILAVSP1.nwb\n",
      "WARNING:datajoint:Skipped checksum for file with hash: ddf48a5d-51fc-c935-6719-171520448df0, and path: /stelmo/nwb/analysis/Banner20211230/Banner20211230_11NILAVSP1.nwb\n",
      "24it [00:14,  1.64it/s][2023-12-21 09:25:42,136][WARNING]: Skipped checksum for file with hash: cf047244-c4b4-8c46-c9ff-f7f235429dbc, and path: /stelmo/nwb/analysis/Banner20211230/Banner20211230_8VNEQ3W8V8.nwb\n",
      "WARNING:datajoint:Skipped checksum for file with hash: cf047244-c4b4-8c46-c9ff-f7f235429dbc, and path: /stelmo/nwb/analysis/Banner20211230/Banner20211230_8VNEQ3W8V8.nwb\n",
      "25it [00:14,  1.67it/s][2023-12-21 09:25:42,716][WARNING]: Skipped checksum for file with hash: 47be816b-3558-886b-8518-4275c12f5e9b, and path: /stelmo/nwb/analysis/Banner20211230/Banner20211230_ZJK3FOCH2O.nwb\n",
      "WARNING:datajoint:Skipped checksum for file with hash: 47be816b-3558-886b-8518-4275c12f5e9b, and path: /stelmo/nwb/analysis/Banner20211230/Banner20211230_ZJK3FOCH2O.nwb\n",
      "26it [00:15,  1.67it/s][2023-12-21 09:25:43,313][WARNING]: Skipped checksum for file with hash: a24aa4da-0336-96c5-0597-ac9b6f3a4d94, and path: /stelmo/nwb/analysis/Banner20211230/Banner20211230_HUBSRILAR0.nwb\n",
      "WARNING:datajoint:Skipped checksum for file with hash: a24aa4da-0336-96c5-0597-ac9b6f3a4d94, and path: /stelmo/nwb/analysis/Banner20211230/Banner20211230_HUBSRILAR0.nwb\n",
      "27it [00:16,  1.68it/s][2023-12-21 09:25:43,901][WARNING]: Skipped checksum for file with hash: db4243cb-d0a7-69cc-b48f-4182f8e09cbd, and path: /stelmo/nwb/analysis/Banner20211231/Banner20211231_2BULMH3K21.nwb\n",
      "WARNING:datajoint:Skipped checksum for file with hash: db4243cb-d0a7-69cc-b48f-4182f8e09cbd, and path: /stelmo/nwb/analysis/Banner20211231/Banner20211231_2BULMH3K21.nwb\n",
      "28it [00:16,  1.68it/s][2023-12-21 09:25:44,493][WARNING]: Skipped checksum for file with hash: ddc75e05-d34b-5e58-13ee-d195982ba07c, and path: /stelmo/nwb/analysis/Banner20211231/Banner20211231_N1KQXCZC34.nwb\n",
      "WARNING:datajoint:Skipped checksum for file with hash: ddc75e05-d34b-5e58-13ee-d195982ba07c, and path: /stelmo/nwb/analysis/Banner20211231/Banner20211231_N1KQXCZC34.nwb\n",
      "29it [00:17,  1.69it/s][2023-12-21 09:25:45,078][WARNING]: Skipped checksum for file with hash: d3eac145-ee79-a41d-ae7f-b7616ce5ec2d, and path: /stelmo/nwb/analysis/Banner20211231/Banner20211231_LZG0IJEK6K.nwb\n",
      "WARNING:datajoint:Skipped checksum for file with hash: d3eac145-ee79-a41d-ae7f-b7616ce5ec2d, and path: /stelmo/nwb/analysis/Banner20211231/Banner20211231_LZG0IJEK6K.nwb\n",
      "30it [00:17,  1.70it/s][2023-12-21 09:25:45,661][WARNING]: Skipped checksum for file with hash: d723d935-7688-85cd-8735-18513e3e3e3f, and path: /stelmo/nwb/analysis/Banner20211231/Banner20211231_B2V64ATUOF.nwb\n",
      "WARNING:datajoint:Skipped checksum for file with hash: d723d935-7688-85cd-8735-18513e3e3e3f, and path: /stelmo/nwb/analysis/Banner20211231/Banner20211231_B2V64ATUOF.nwb\n",
      "31it [00:18,  1.68it/s][2023-12-21 09:25:46,273][WARNING]: Skipped checksum for file with hash: cf92eeef-73b1-e575-dc34-144967cb4dd4, and path: /stelmo/nwb/analysis/Banner20211231/Banner20211231_JC3KXS0PTO.nwb\n",
      "WARNING:datajoint:Skipped checksum for file with hash: cf92eeef-73b1-e575-dc34-144967cb4dd4, and path: /stelmo/nwb/analysis/Banner20211231/Banner20211231_JC3KXS0PTO.nwb\n",
      "32it [00:19,  1.67it/s][2023-12-21 09:25:46,885][WARNING]: Skipped checksum for file with hash: 6561951a-9b07-37a6-3f2c-fa69648fd93d, and path: /stelmo/nwb/analysis/Banner20220103/Banner20220103_RS6O1MD4ZK.nwb\n",
      "WARNING:datajoint:Skipped checksum for file with hash: 6561951a-9b07-37a6-3f2c-fa69648fd93d, and path: /stelmo/nwb/analysis/Banner20220103/Banner20220103_RS6O1MD4ZK.nwb\n",
      "33it [00:19,  1.67it/s][2023-12-21 09:25:47,484][WARNING]: Skipped checksum for file with hash: 2106d39d-3ab7-0aa8-9cab-098ecff13874, and path: /stelmo/nwb/analysis/Banner20220103/Banner20220103_20DCM9WC1N.nwb\n",
      "WARNING:datajoint:Skipped checksum for file with hash: 2106d39d-3ab7-0aa8-9cab-098ecff13874, and path: /stelmo/nwb/analysis/Banner20220103/Banner20220103_20DCM9WC1N.nwb\n",
      "34it [00:20,  1.66it/s][2023-12-21 09:25:48,088][WARNING]: Skipped checksum for file with hash: 22dd5759-8b47-ba4b-8ef2-319dbc4a289a, and path: /stelmo/nwb/analysis/Banner20220103/Banner20220103_SSDNGXZKC3.nwb\n",
      "WARNING:datajoint:Skipped checksum for file with hash: 22dd5759-8b47-ba4b-8ef2-319dbc4a289a, and path: /stelmo/nwb/analysis/Banner20220103/Banner20220103_SSDNGXZKC3.nwb\n",
      "35it [00:20,  1.65it/s][2023-12-21 09:25:48,704][WARNING]: Skipped checksum for file with hash: a4b91113-b8f2-eb17-77a8-7e3ba1ad3791, and path: /stelmo/nwb/analysis/Banner20220103/Banner20220103_R2A2U17LH1.nwb\n",
      "WARNING:datajoint:Skipped checksum for file with hash: a4b91113-b8f2-eb17-77a8-7e3ba1ad3791, and path: /stelmo/nwb/analysis/Banner20220103/Banner20220103_R2A2U17LH1.nwb\n",
      "36it [00:21,  1.64it/s][2023-12-21 09:25:49,324][WARNING]: Skipped checksum for file with hash: 1afa42fc-374b-fd78-a1a5-ed1017dc11f8, and path: /stelmo/nwb/analysis/Banner20220103/Banner20220103_XHEO65EBEJ.nwb\n",
      "WARNING:datajoint:Skipped checksum for file with hash: 1afa42fc-374b-fd78-a1a5-ed1017dc11f8, and path: /stelmo/nwb/analysis/Banner20220103/Banner20220103_XHEO65EBEJ.nwb\n",
      "37it [00:22,  1.64it/s][2023-12-21 09:25:49,958][WARNING]: Skipped checksum for file with hash: f56b288a-421d-0fcf-5e85-3eb9479e31e9, and path: /stelmo/nwb/analysis/Banner20220123/Banner20220123_ASZTC27FHQ.nwb\n",
      "WARNING:datajoint:Skipped checksum for file with hash: f56b288a-421d-0fcf-5e85-3eb9479e31e9, and path: /stelmo/nwb/analysis/Banner20220123/Banner20220123_ASZTC27FHQ.nwb\n",
      "43it [00:22,  4.06it/s][2023-12-21 09:25:50,563][WARNING]: Skipped checksum for file with hash: f9c9a596-6505-4ef8-d67b-6105c1e6306f, and path: /stelmo/nwb/analysis/Banner20220123/Banner20220123_WZEY72KQRU.nwb\n",
      "WARNING:datajoint:Skipped checksum for file with hash: f9c9a596-6505-4ef8-d67b-6105c1e6306f, and path: /stelmo/nwb/analysis/Banner20220123/Banner20220123_WZEY72KQRU.nwb\n",
      "44it [00:23,  3.36it/s][2023-12-21 09:25:51,161][WARNING]: Skipped checksum for file with hash: 6ca546e1-b124-3dae-2502-edd26c77148c, and path: /stelmo/nwb/analysis/Banner20220124/Banner20220124_IZHOFORG6N.nwb\n",
      "WARNING:datajoint:Skipped checksum for file with hash: 6ca546e1-b124-3dae-2502-edd26c77148c, and path: /stelmo/nwb/analysis/Banner20220124/Banner20220124_IZHOFORG6N.nwb\n",
      "45it [00:23,  2.87it/s][2023-12-21 09:25:51,750][WARNING]: Skipped checksum for file with hash: 996667f3-57db-561d-2300-2bf0b8532ca7, and path: /stelmo/nwb/analysis/Banner20220124/Banner20220124_U3E9D4LN5H.nwb\n",
      "WARNING:datajoint:Skipped checksum for file with hash: 996667f3-57db-561d-2300-2bf0b8532ca7, and path: /stelmo/nwb/analysis/Banner20220124/Banner20220124_U3E9D4LN5H.nwb\n",
      "46it [00:24,  2.51it/s][2023-12-21 09:25:52,349][WARNING]: Skipped checksum for file with hash: 30abe8fc-3ac2-9c0a-5507-f5772f8a075b, and path: /stelmo/nwb/analysis/Banner20220124/Banner20220124_1D7C9RNC1Q.nwb\n",
      "WARNING:datajoint:Skipped checksum for file with hash: 30abe8fc-3ac2-9c0a-5507-f5772f8a075b, and path: /stelmo/nwb/analysis/Banner20220124/Banner20220124_1D7C9RNC1Q.nwb\n",
      "47it [00:25,  2.27it/s][2023-12-21 09:25:52,943][WARNING]: Skipped checksum for file with hash: 88652318-4e50-a3b2-f466-045a4f8b65d0, and path: /stelmo/nwb/analysis/Banner20220124/Banner20220124_TDW695HS49.nwb\n",
      "WARNING:datajoint:Skipped checksum for file with hash: 88652318-4e50-a3b2-f466-045a4f8b65d0, and path: /stelmo/nwb/analysis/Banner20220124/Banner20220124_TDW695HS49.nwb\n",
      "48it [00:25,  2.12it/s][2023-12-21 09:25:53,515][WARNING]: Skipped checksum for file with hash: 8dd4f725-11a0-3718-eec0-1dedd2dcd2bc, and path: /stelmo/nwb/analysis/Banner20220126/Banner20220126_QSE5AH4SXE.nwb\n",
      "WARNING:datajoint:Skipped checksum for file with hash: 8dd4f725-11a0-3718-eec0-1dedd2dcd2bc, and path: /stelmo/nwb/analysis/Banner20220126/Banner20220126_QSE5AH4SXE.nwb\n",
      "49it [00:26,  2.01it/s][2023-12-21 09:25:54,089][WARNING]: Skipped checksum for file with hash: 6cab8d59-3f06-1a97-e71f-f49216d0129c, and path: /stelmo/nwb/analysis/Banner20220126/Banner20220126_DHFH1LQY5O.nwb\n",
      "WARNING:datajoint:Skipped checksum for file with hash: 6cab8d59-3f06-1a97-e71f-f49216d0129c, and path: /stelmo/nwb/analysis/Banner20220126/Banner20220126_DHFH1LQY5O.nwb\n",
      "50it [00:26,  1.93it/s][2023-12-21 09:25:54,667][WARNING]: Skipped checksum for file with hash: 24c7e799-bb96-0cbf-468a-e95ef27aaaf6, and path: /stelmo/nwb/analysis/Banner20220126/Banner20220126_P92NLVI5QK.nwb\n",
      "WARNING:datajoint:Skipped checksum for file with hash: 24c7e799-bb96-0cbf-468a-e95ef27aaaf6, and path: /stelmo/nwb/analysis/Banner20220126/Banner20220126_P92NLVI5QK.nwb\n",
      "51it [00:27,  1.83it/s][2023-12-21 09:25:55,288][WARNING]: Skipped checksum for file with hash: 499e9522-e63b-02ad-d0a7-e81e12972859, and path: /stelmo/nwb/analysis/Banner20220126/Banner20220126_MIQD2FI3WV.nwb\n",
      "WARNING:datajoint:Skipped checksum for file with hash: 499e9522-e63b-02ad-d0a7-e81e12972859, and path: /stelmo/nwb/analysis/Banner20220126/Banner20220126_MIQD2FI3WV.nwb\n",
      "52it [00:28,  1.75it/s][2023-12-21 09:25:55,914][WARNING]: Skipped checksum for file with hash: 26710ad5-0a5b-002f-3380-20fecd2ede3a, and path: /stelmo/nwb/analysis/Banner20220126/Banner20220126_L7DTK66XYC.nwb\n",
      "WARNING:datajoint:Skipped checksum for file with hash: 26710ad5-0a5b-002f-3380-20fecd2ede3a, and path: /stelmo/nwb/analysis/Banner20220126/Banner20220126_L7DTK66XYC.nwb\n",
      "53it [00:28,  1.72it/s][2023-12-21 09:25:56,520][WARNING]: Skipped checksum for file with hash: bd4075d4-5836-a9f7-8912-eea37b46ccb3, and path: /stelmo/nwb/analysis/Banner20220126/Banner20220126_MQMUESZIWA.nwb\n",
      "WARNING:datajoint:Skipped checksum for file with hash: bd4075d4-5836-a9f7-8912-eea37b46ccb3, and path: /stelmo/nwb/analysis/Banner20220126/Banner20220126_MQMUESZIWA.nwb\n",
      "54it [00:29,  1.70it/s][2023-12-21 09:25:57,134][WARNING]: Skipped checksum for file with hash: a8368913-6b58-c6df-c2c9-113ec4e50263, and path: /stelmo/nwb/analysis/Banner20220126/Banner20220126_AALVT2ANY1.nwb\n",
      "WARNING:datajoint:Skipped checksum for file with hash: a8368913-6b58-c6df-c2c9-113ec4e50263, and path: /stelmo/nwb/analysis/Banner20220126/Banner20220126_AALVT2ANY1.nwb\n",
      "55it [00:29,  1.68it/s][2023-12-21 09:25:57,739][WARNING]: Skipped checksum for file with hash: e61d4e82-2ba1-f75f-a1c7-010eae972329, and path: /stelmo/nwb/analysis/Banner20220126/Banner20220126_QGSGTEUO0O.nwb\n",
      "WARNING:datajoint:Skipped checksum for file with hash: e61d4e82-2ba1-f75f-a1c7-010eae972329, and path: /stelmo/nwb/analysis/Banner20220126/Banner20220126_QGSGTEUO0O.nwb\n",
      "56it [00:30,  1.67it/s][2023-12-21 09:25:58,346][WARNING]: Skipped checksum for file with hash: dcc4ae69-1eec-8d78-bafe-ea0c8ffe5a81, and path: /stelmo/nwb/analysis/Banner20220126/Banner20220126_8LROEFXY3R.nwb\n",
      "WARNING:datajoint:Skipped checksum for file with hash: dcc4ae69-1eec-8d78-bafe-ea0c8ffe5a81, and path: /stelmo/nwb/analysis/Banner20220126/Banner20220126_8LROEFXY3R.nwb\n",
      "57it [00:31,  1.66it/s][2023-12-21 09:25:58,957][WARNING]: Skipped checksum for file with hash: ba63b016-1edc-cae4-e7db-b54d1dbc3b14, and path: /stelmo/nwb/analysis/Banner20220215/Banner20220215_RNFG28MGZJ.nwb\n",
      "WARNING:datajoint:Skipped checksum for file with hash: ba63b016-1edc-cae4-e7db-b54d1dbc3b14, and path: /stelmo/nwb/analysis/Banner20220215/Banner20220215_RNFG28MGZJ.nwb\n",
      "58it [00:31,  1.65it/s][2023-12-21 09:25:59,577][WARNING]: Skipped checksum for file with hash: 24a130ce-946c-d924-d8d6-1978047cdfc1, and path: /stelmo/nwb/analysis/Banner20220215/Banner20220215_LO9I3QXVWJ.nwb\n",
      "WARNING:datajoint:Skipped checksum for file with hash: 24a130ce-946c-d924-d8d6-1978047cdfc1, and path: /stelmo/nwb/analysis/Banner20220215/Banner20220215_LO9I3QXVWJ.nwb\n",
      "59it [00:32,  1.64it/s][2023-12-21 09:26:00,188][WARNING]: Skipped checksum for file with hash: 1acaddd6-9108-14b1-a967-5662c9a432d7, and path: /stelmo/nwb/analysis/Banner20220215/Banner20220215_YAZJ778I1E.nwb\n",
      "WARNING:datajoint:Skipped checksum for file with hash: 1acaddd6-9108-14b1-a967-5662c9a432d7, and path: /stelmo/nwb/analysis/Banner20220215/Banner20220215_YAZJ778I1E.nwb\n",
      "60it [00:32,  1.65it/s][2023-12-21 09:26:00,786][WARNING]: Skipped checksum for file with hash: fe176585-ce27-1c67-743d-1794b019cf8d, and path: /stelmo/nwb/analysis/Banner20220215/Banner20220215_0LZJXLQV29.nwb\n",
      "WARNING:datajoint:Skipped checksum for file with hash: fe176585-ce27-1c67-743d-1794b019cf8d, and path: /stelmo/nwb/analysis/Banner20220215/Banner20220215_0LZJXLQV29.nwb\n",
      "61it [00:33,  1.65it/s][2023-12-21 09:26:01,400][WARNING]: Skipped checksum for file with hash: d20e9bbb-b94a-1fa1-a3f0-870532bfa3ae, and path: /stelmo/nwb/analysis/Banner20220216/Banner20220216_EAF1906X3Y.nwb\n",
      "WARNING:datajoint:Skipped checksum for file with hash: d20e9bbb-b94a-1fa1-a3f0-870532bfa3ae, and path: /stelmo/nwb/analysis/Banner20220216/Banner20220216_EAF1906X3Y.nwb\n",
      "62it [00:34,  1.65it/s][2023-12-21 09:26:02,000][WARNING]: Skipped checksum for file with hash: 727fc584-585b-d366-6ac9-680c2e04839c, and path: /stelmo/nwb/analysis/Banner20220216/Banner20220216_8CL16IRWZM.nwb\n",
      "WARNING:datajoint:Skipped checksum for file with hash: 727fc584-585b-d366-6ac9-680c2e04839c, and path: /stelmo/nwb/analysis/Banner20220216/Banner20220216_8CL16IRWZM.nwb\n",
      "63it [00:34,  1.65it/s][2023-12-21 09:26:02,605][WARNING]: Skipped checksum for file with hash: 3f2d7f91-325a-a0ae-7878-1a63883a0c23, and path: /stelmo/nwb/analysis/Banner20220216/Banner20220216_7OY3KN49BY.nwb\n",
      "WARNING:datajoint:Skipped checksum for file with hash: 3f2d7f91-325a-a0ae-7878-1a63883a0c23, and path: /stelmo/nwb/analysis/Banner20220216/Banner20220216_7OY3KN49BY.nwb\n",
      "64it [00:35,  1.65it/s][2023-12-21 09:26:03,216][WARNING]: Skipped checksum for file with hash: d079f297-2990-266a-5764-948d4330000b, and path: /stelmo/nwb/analysis/Banner20220216/Banner20220216_7DYSID7H42.nwb\n",
      "WARNING:datajoint:Skipped checksum for file with hash: d079f297-2990-266a-5764-948d4330000b, and path: /stelmo/nwb/analysis/Banner20220216/Banner20220216_7DYSID7H42.nwb\n",
      "65it [00:36,  1.65it/s][2023-12-21 09:26:03,824][WARNING]: Skipped checksum for file with hash: c99431e3-2da1-c14b-d386-66cceeb599cc, and path: /stelmo/nwb/analysis/Banner20220223/Banner20220223_BC9H3F1RH9.nwb\n",
      "WARNING:datajoint:Skipped checksum for file with hash: c99431e3-2da1-c14b-d386-66cceeb599cc, and path: /stelmo/nwb/analysis/Banner20220223/Banner20220223_BC9H3F1RH9.nwb\n",
      "66it [00:36,  1.65it/s][2023-12-21 09:26:04,430][WARNING]: Skipped checksum for file with hash: 3cd67b1d-0f80-173e-d432-f3ef57a52534, and path: /stelmo/nwb/analysis/Banner20220223/Banner20220223_EHMSMDIVZG.nwb\n",
      "WARNING:datajoint:Skipped checksum for file with hash: 3cd67b1d-0f80-173e-d432-f3ef57a52534, and path: /stelmo/nwb/analysis/Banner20220223/Banner20220223_EHMSMDIVZG.nwb\n",
      "67it [00:37,  1.66it/s][2023-12-21 09:26:05,023][WARNING]: Skipped checksum for file with hash: 68d075db-914d-a437-898b-a38c98593346, and path: /stelmo/nwb/analysis/Banner20220223/Banner20220223_34DW1FTWWK.nwb\n",
      "WARNING:datajoint:Skipped checksum for file with hash: 68d075db-914d-a437-898b-a38c98593346, and path: /stelmo/nwb/analysis/Banner20220223/Banner20220223_34DW1FTWWK.nwb\n",
      "68it [00:37,  1.67it/s][2023-12-21 09:26:05,610][WARNING]: Skipped checksum for file with hash: 192232c4-bdf5-52cb-66f3-254329bd86bc, and path: /stelmo/nwb/analysis/Banner20220224/Banner20220224_6CINFRHVDZ.nwb\n",
      "WARNING:datajoint:Skipped checksum for file with hash: 192232c4-bdf5-52cb-66f3-254329bd86bc, and path: /stelmo/nwb/analysis/Banner20220224/Banner20220224_6CINFRHVDZ.nwb\n",
      "69it [00:38,  1.70it/s][2023-12-21 09:26:06,174][WARNING]: Skipped checksum for file with hash: 0bfcd057-7551-ca16-688f-75e1400d34e5, and path: /stelmo/nwb/analysis/Banner20220224/Banner20220224_QWRJ6I162L.nwb\n",
      "WARNING:datajoint:Skipped checksum for file with hash: 0bfcd057-7551-ca16-688f-75e1400d34e5, and path: /stelmo/nwb/analysis/Banner20220224/Banner20220224_QWRJ6I162L.nwb\n",
      "70it [00:38,  1.71it/s][2023-12-21 09:26:06,743][WARNING]: Skipped checksum for file with hash: d5130e35-90ed-b1b9-70e7-22a897b8dc17, and path: /stelmo/nwb/analysis/Banner20220224/Banner20220224_LL4YF6DG4J.nwb\n",
      "WARNING:datajoint:Skipped checksum for file with hash: d5130e35-90ed-b1b9-70e7-22a897b8dc17, and path: /stelmo/nwb/analysis/Banner20220224/Banner20220224_LL4YF6DG4J.nwb\n",
      "71it [00:39,  1.70it/s][2023-12-21 09:26:07,343][WARNING]: Skipped checksum for file with hash: 14d7a6b6-825f-d02c-3287-30d911c0f546, and path: /stelmo/nwb/analysis/Banner20220224/Banner20220224_MUWQXS2A9K.nwb\n",
      "WARNING:datajoint:Skipped checksum for file with hash: 14d7a6b6-825f-d02c-3287-30d911c0f546, and path: /stelmo/nwb/analysis/Banner20220224/Banner20220224_MUWQXS2A9K.nwb\n",
      "72it [00:41,  1.16it/s][2023-12-21 09:26:08,839][WARNING]: Skipped checksum for file with hash: be2226e3-0e6d-b058-ef74-86b49c601640, and path: /stelmo/nwb/analysis/Banner20220224/Banner20220224_C4G2J48P31.nwb\n",
      "WARNING:datajoint:Skipped checksum for file with hash: be2226e3-0e6d-b058-ef74-86b49c601640, and path: /stelmo/nwb/analysis/Banner20220224/Banner20220224_C4G2J48P31.nwb\n",
      "73it [00:42,  1.07s/it][2023-12-21 09:26:10,399][WARNING]: Skipped checksum for file with hash: 01b17a3a-29eb-d041-9711-5cc105cbf08f, and path: /stelmo/nwb/analysis/Banner20220224/Banner20220224_3ZY0DCTV6M.nwb\n",
      "WARNING:datajoint:Skipped checksum for file with hash: 01b17a3a-29eb-d041-9711-5cc105cbf08f, and path: /stelmo/nwb/analysis/Banner20220224/Banner20220224_3ZY0DCTV6M.nwb\n",
      "74it [00:43,  1.06s/it][2023-12-21 09:26:11,424][WARNING]: Skipped checksum for file with hash: dad4a9f3-f22a-29b7-4cd6-567578b944e8, and path: /stelmo/nwb/analysis/Banner20220224/Banner20220224_OLGSR49PFB.nwb\n",
      "WARNING:datajoint:Skipped checksum for file with hash: dad4a9f3-f22a-29b7-4cd6-567578b944e8, and path: /stelmo/nwb/analysis/Banner20220224/Banner20220224_OLGSR49PFB.nwb\n",
      "75it [00:44,  1.14s/it][2023-12-21 09:26:12,762][WARNING]: Skipped checksum for file with hash: d9f095e3-fc1d-8994-a16c-ba564d7885ec, and path: /stelmo/nwb/analysis/Banner20220224/Banner20220224_91NGGQIP09.nwb\n",
      "WARNING:datajoint:Skipped checksum for file with hash: d9f095e3-fc1d-8994-a16c-ba564d7885ec, and path: /stelmo/nwb/analysis/Banner20220224/Banner20220224_91NGGQIP09.nwb\n",
      "76it [00:46,  1.21s/it][2023-12-21 09:26:14,144][WARNING]: Skipped checksum for file with hash: 14d7a6b6-825f-d02c-3287-30d911c0f546, and path: /stelmo/nwb/analysis/Banner20220224/Banner20220224_MUWQXS2A9K.nwb\n",
      "WARNING:datajoint:Skipped checksum for file with hash: 14d7a6b6-825f-d02c-3287-30d911c0f546, and path: /stelmo/nwb/analysis/Banner20220224/Banner20220224_MUWQXS2A9K.nwb\n",
      "77it [00:46,  1.03s/it][2023-12-21 09:26:14,756][WARNING]: Skipped checksum for file with hash: 5ee81632-230c-9061-3bcc-8b03b13d58c6, and path: /stelmo/nwb/analysis/Banner20220224/Banner20220224_5MSHZ9CCOW.nwb\n",
      "WARNING:datajoint:Skipped checksum for file with hash: 5ee81632-230c-9061-3bcc-8b03b13d58c6, and path: /stelmo/nwb/analysis/Banner20220224/Banner20220224_5MSHZ9CCOW.nwb\n",
      "78it [00:47,  1.01it/s][2023-12-21 09:26:15,636][WARNING]: Skipped checksum for file with hash: 6f6d759f-afc1-11f5-ad21-349ad3db7e52, and path: /stelmo/nwb/analysis/Banner20220225/Banner20220225_HX4B2HY5N9.nwb\n",
      "WARNING:datajoint:Skipped checksum for file with hash: 6f6d759f-afc1-11f5-ad21-349ad3db7e52, and path: /stelmo/nwb/analysis/Banner20220225/Banner20220225_HX4B2HY5N9.nwb\n",
      "79it [00:49,  1.22s/it][2023-12-21 09:26:17,409][WARNING]: Skipped checksum for file with hash: 7e26f4f2-a2ea-94cb-5f93-7b613c6c447f, and path: /stelmo/nwb/analysis/Banner20220225/Banner20220225_5MSYSSO9YN.nwb\n",
      "WARNING:datajoint:Skipped checksum for file with hash: 7e26f4f2-a2ea-94cb-5f93-7b613c6c447f, and path: /stelmo/nwb/analysis/Banner20220225/Banner20220225_5MSYSSO9YN.nwb\n",
      "80it [00:51,  1.28s/it][2023-12-21 09:26:18,859][WARNING]: Skipped checksum for file with hash: a4bd3988-a6d6-905c-c1f9-34c0b0c678a7, and path: /stelmo/nwb/analysis/Banner20220225/Banner20220225_TELGFY086W.nwb\n",
      "WARNING:datajoint:Skipped checksum for file with hash: a4bd3988-a6d6-905c-c1f9-34c0b0c678a7, and path: /stelmo/nwb/analysis/Banner20220225/Banner20220225_TELGFY086W.nwb\n",
      "81it [00:52,  1.33s/it][2023-12-21 09:26:20,260][WARNING]: Skipped checksum for file with hash: a97b97f3-759f-f768-c70e-9db691dc2272, and path: /stelmo/nwb/analysis/Banner20220225/Banner20220225_D2NX1Y4TKT.nwb\n",
      "WARNING:datajoint:Skipped checksum for file with hash: a97b97f3-759f-f768-c70e-9db691dc2272, and path: /stelmo/nwb/analysis/Banner20220225/Banner20220225_D2NX1Y4TKT.nwb\n",
      "82it [00:53,  1.35s/it][2023-12-21 09:26:21,676][WARNING]: Skipped checksum for file with hash: fe1a701b-072a-a54a-0758-8265f6b94c2b, and path: /stelmo/nwb/analysis/Banner20220225/Banner20220225_HLF9TS7WU0.nwb\n",
      "WARNING:datajoint:Skipped checksum for file with hash: fe1a701b-072a-a54a-0758-8265f6b94c2b, and path: /stelmo/nwb/analysis/Banner20220225/Banner20220225_HLF9TS7WU0.nwb\n",
      "83it [00:55,  1.38s/it][2023-12-21 09:26:23,153][WARNING]: Skipped checksum for file with hash: 4f44577c-48f5-1fc4-3362-aa6f94aa5d05, and path: /stelmo/nwb/analysis/Banner20220225/Banner20220225_B83GNHUV3B.nwb\n",
      "WARNING:datajoint:Skipped checksum for file with hash: 4f44577c-48f5-1fc4-3362-aa6f94aa5d05, and path: /stelmo/nwb/analysis/Banner20220225/Banner20220225_B83GNHUV3B.nwb\n",
      "84it [00:56,  1.40s/it][2023-12-21 09:26:24,578][WARNING]: Skipped checksum for file with hash: 883718b3-b873-dc00-6c0a-69c1fc732ecd, and path: /stelmo/nwb/analysis/Banner20220225/Banner20220225_6ND7AWOHAP.nwb\n",
      "WARNING:datajoint:Skipped checksum for file with hash: 883718b3-b873-dc00-6c0a-69c1fc732ecd, and path: /stelmo/nwb/analysis/Banner20220225/Banner20220225_6ND7AWOHAP.nwb\n",
      "85it [00:58,  1.38s/it][2023-12-21 09:26:25,910][WARNING]: Skipped checksum for file with hash: 581bb49c-8cf8-7556-31ae-c49c0688db64, and path: /stelmo/nwb/analysis/Banner20220225/Banner20220225_WPE06DXIAS.nwb\n",
      "WARNING:datajoint:Skipped checksum for file with hash: 581bb49c-8cf8-7556-31ae-c49c0688db64, and path: /stelmo/nwb/analysis/Banner20220225/Banner20220225_WPE06DXIAS.nwb\n",
      "86it [00:59,  1.39s/it][2023-12-21 09:26:27,314][WARNING]: Skipped checksum for file with hash: 16204961-3958-109a-c60b-9383f5506200, and path: /stelmo/nwb/analysis/SB2spikegadgets20220224/SB2spikegadgets20220224_QO0PXC2P5S.nwb\n",
      "WARNING:datajoint:Skipped checksum for file with hash: 16204961-3958-109a-c60b-9383f5506200, and path: /stelmo/nwb/analysis/SB2spikegadgets20220224/SB2spikegadgets20220224_QO0PXC2P5S.nwb\n",
      "87it [01:00,  1.37s/it][2023-12-21 09:26:28,689][WARNING]: Skipped checksum for file with hash: 5926385f-577c-3532-101c-b6b10d40e981, and path: /stelmo/nwb/analysis/SB2spikegadgets20220224/SB2spikegadgets20220224_R2MD24U7B7.nwb\n",
      "WARNING:datajoint:Skipped checksum for file with hash: 5926385f-577c-3532-101c-b6b10d40e981, and path: /stelmo/nwb/analysis/SB2spikegadgets20220224/SB2spikegadgets20220224_R2MD24U7B7.nwb\n",
      "1106it [01:04, 17.12it/s] \n",
      "[2023-12-21 09:26:32,600][WARNING]: Skipped checksum for file with hash: 73adb77e-ae1f-f459-bdc7-82e70edfcee3, and path: /stelmo/nwb/analysis/tonks20211023/tonks20211023_PUAGOQ6H41.nwb\n",
      "WARNING:datajoint:Skipped checksum for file with hash: 73adb77e-ae1f-f459-bdc7-82e70edfcee3, and path: /stelmo/nwb/analysis/tonks20211023/tonks20211023_PUAGOQ6H41.nwb\n",
      "[2023-12-21 09:26:32,607][WARNING]: Skipped checksum for file with hash: d0faa3f0-5edc-4689-9076-400860e258eb, and path: /stelmo/nwb/analysis/tonks20211101/tonks20211101_44CGCJHXBM.nwb\n",
      "WARNING:datajoint:Skipped checksum for file with hash: d0faa3f0-5edc-4689-9076-400860e258eb, and path: /stelmo/nwb/analysis/tonks20211101/tonks20211101_44CGCJHXBM.nwb\n",
      "[2023-12-21 09:26:32,627][WARNING]: Skipped checksum for file with hash: 2f37ca57-0055-6b8c-ded4-0742803fb94e, and path: /stelmo/nwb/analysis/tonks20211101/tonks20211101_XOJY8AZAJI.nwb\n",
      "WARNING:datajoint:Skipped checksum for file with hash: 2f37ca57-0055-6b8c-ded4-0742803fb94e, and path: /stelmo/nwb/analysis/tonks20211101/tonks20211101_XOJY8AZAJI.nwb\n",
      "[2023-12-21 09:26:32,637][WARNING]: Skipped checksum for file with hash: 2f37ca57-0055-6b8c-ded4-0742803fb94e, and path: /stelmo/nwb/analysis/tonks20211101/tonks20211101_XOJY8AZAJI.nwb\n",
      "WARNING:datajoint:Skipped checksum for file with hash: 2f37ca57-0055-6b8c-ded4-0742803fb94e, and path: /stelmo/nwb/analysis/tonks20211101/tonks20211101_XOJY8AZAJI.nwb\n"
     ]
    },
    {
     "name": "stdout",
     "output_type": "stream",
     "text": [
      "Writing new NWB file tonks20211023_RW4WULFA69.nwb\n"
     ]
    },
    {
     "name": "stderr",
     "output_type": "stream",
     "text": [
      "[2023-12-21 09:26:34,743][WARNING]: Skipped checksum for file with hash: 2f37ca57-0055-6b8c-ded4-0742803fb94e, and path: /stelmo/nwb/analysis/tonks20211101/tonks20211101_XOJY8AZAJI.nwb\n",
      "WARNING:datajoint:Skipped checksum for file with hash: 2f37ca57-0055-6b8c-ded4-0742803fb94e, and path: /stelmo/nwb/analysis/tonks20211101/tonks20211101_XOJY8AZAJI.nwb\n"
     ]
    },
    {
     "name": "stdout",
     "output_type": "stream",
     "text": [
      "Writing new NWB file tonks20211101_MEKNUYOFW9.nwb\n"
     ]
    },
    {
     "name": "stderr",
     "output_type": "stream",
     "text": [
      "[2023-12-21 09:26:36,387][WARNING]: Skipped checksum for file with hash: a4bd3988-a6d6-905c-c1f9-34c0b0c678a7, and path: /stelmo/nwb/analysis/Banner20220225/Banner20220225_TELGFY086W.nwb\n",
      "WARNING:datajoint:Skipped checksum for file with hash: a4bd3988-a6d6-905c-c1f9-34c0b0c678a7, and path: /stelmo/nwb/analysis/Banner20220225/Banner20220225_TELGFY086W.nwb\n"
     ]
    },
    {
     "name": "stdout",
     "output_type": "stream",
     "text": [
      "Writing new NWB file tonks20211101_RBFH6JC8SF.nwb\n"
     ]
    },
    {
     "name": "stderr",
     "output_type": "stream",
     "text": [
      "[2023-12-21 09:26:38,724][WARNING]: Skipped checksum for file with hash: 0e9e9dc4-c16a-8085-bd72-7b44e397a4f5, and path: /stelmo/nwb/analysis/Banner20211227/Banner20211227_E0F1NKPG8U.nwb\n",
      "WARNING:datajoint:Skipped checksum for file with hash: 0e9e9dc4-c16a-8085-bd72-7b44e397a4f5, and path: /stelmo/nwb/analysis/Banner20211227/Banner20211227_E0F1NKPG8U.nwb\n"
     ]
    },
    {
     "name": "stdout",
     "output_type": "stream",
     "text": [
      "Writing new NWB file tonks20211101_AOP38HKNOM.nwb\n"
     ]
    },
    {
     "ename": "PermissionError",
     "evalue": "[Errno 13] Unable to create file (unable to open file: name = '/stelmo/nwb/analysis/tonks20211101/tonks20211101_AOP38HKNOM.nwb', errno = 13, error message = 'Permission denied', flags = 13, o_flags = 242)",
     "output_type": "error",
     "traceback": [
      "\u001b[0;31m---------------------------------------------------------------------------\u001b[0m",
      "\u001b[0;31mRemoteTraceback\u001b[0m                           Traceback (most recent call last)",
      "\u001b[0;31mRemoteTraceback\u001b[0m: \n\"\"\"\nTraceback (most recent call last):\n  File \"/home/sambray/mambaforge-pypy3/envs/spyglass/lib/python3.9/multiprocessing/pool.py\", line 125, in worker\n    result = (True, func(*args, **kwds))\n  File \"/home/sambray/mambaforge-pypy3/envs/spyglass/lib/python3.9/site-packages/datajoint/autopopulate.py\", line 42, in _call_populate1\n    return process.table._populate1(key, process.jobs, **process.populate_kwargs)\n  File \"/home/sambray/mambaforge-pypy3/envs/spyglass/lib/python3.9/site-packages/datajoint/autopopulate.py\", line 292, in _populate1\n    make(dict(key), **(make_kwargs or {}))\n  File \"/home/sambray/Documents/spyglass/src/spyglass/lfp/analysis/v1/lfp_band.py\", line 284, in make\n    lfp_band_file_name = AnalysisNwbfile().create(key[\"nwb_file_name\"])\n  File \"/home/sambray/Documents/spyglass/src/spyglass/common/common_nwbfile.py\", line 204, in create\n    with pynwb.NWBHDF5IO(\n  File \"/home/sambray/mambaforge-pypy3/envs/spyglass/lib/python3.9/site-packages/hdmf/utils.py\", line 645, in func_call\n    return func(args[0], **pargs)\n  File \"/home/sambray/mambaforge-pypy3/envs/spyglass/lib/python3.9/site-packages/pynwb/__init__.py\", line 250, in __init__\n    super().__init__(path, manager=manager, mode=mode, file=file_obj, comm=comm, driver=driver)\n  File \"/home/sambray/mambaforge-pypy3/envs/spyglass/lib/python3.9/site-packages/hdmf/utils.py\", line 645, in func_call\n    return func(args[0], **pargs)\n  File \"/home/sambray/mambaforge-pypy3/envs/spyglass/lib/python3.9/site-packages/hdmf/backends/hdf5/h5tools.py\", line 79, in __init__\n    super().__init__(manager, source=path)  # NOTE: source is not set if path is None and file_obj is passed\n  File \"/home/sambray/mambaforge-pypy3/envs/spyglass/lib/python3.9/site-packages/hdmf/utils.py\", line 645, in func_call\n    return func(args[0], **pargs)\n  File \"/home/sambray/mambaforge-pypy3/envs/spyglass/lib/python3.9/site-packages/hdmf/backends/io.py\", line 29, in __init__\n    self.open()\n  File \"/home/sambray/mambaforge-pypy3/envs/spyglass/lib/python3.9/site-packages/hdmf/backends/hdf5/h5tools.py\", line 739, in open\n    self.__file = File(self.source, open_flag, **kwargs)\n  File \"/home/sambray/mambaforge-pypy3/envs/spyglass/lib/python3.9/site-packages/h5py/_hl/files.py\", line 567, in __init__\n    fid = make_fid(name, mode, userblock_size, fapl, fcpl, swmr=swmr)\n  File \"/home/sambray/mambaforge-pypy3/envs/spyglass/lib/python3.9/site-packages/h5py/_hl/files.py\", line 237, in make_fid\n    fid = h5f.create(name, h5f.ACC_TRUNC, fapl=fapl, fcpl=fcpl)\n  File \"h5py/_objects.pyx\", line 54, in h5py._objects.with_phil.wrapper\n  File \"h5py/_objects.pyx\", line 55, in h5py._objects.with_phil.wrapper\n  File \"h5py/h5f.pyx\", line 126, in h5py.h5f.create\nPermissionError: [Errno 13] Unable to create file (unable to open file: name = '/stelmo/nwb/analysis/tonks20211101/tonks20211101_AOP38HKNOM.nwb', errno = 13, error message = 'Permission denied', flags = 13, o_flags = 242)\n\"\"\"",
      "\nThe above exception was the direct cause of the following exception:\n",
      "\u001b[0;31mPermissionError\u001b[0m                           Traceback (most recent call last)",
      "Cell \u001b[0;32mIn[21], line 95\u001b[0m\n\u001b[1;32m     83\u001b[0m     lfp_band_key \u001b[38;5;241m=\u001b[39m (\n\u001b[1;32m     84\u001b[0m         LFPBandSelection\n\u001b[1;32m     85\u001b[0m         \u001b[38;5;241m&\u001b[39m {\n\u001b[0;32m   (...)\u001b[0m\n\u001b[1;32m     90\u001b[0m         }\n\u001b[1;32m     91\u001b[0m     )\u001b[38;5;241m.\u001b[39mfetch1(\u001b[38;5;124m\"\u001b[39m\u001b[38;5;124mKEY\u001b[39m\u001b[38;5;124m\"\u001b[39m)\n\u001b[1;32m     92\u001b[0m     \u001b[38;5;66;03m# if LFPBandV1() & lfp_band_key:\u001b[39;00m\n\u001b[1;32m     93\u001b[0m     \u001b[38;5;66;03m#     continue #already populated\u001b[39;00m\n\u001b[1;32m     94\u001b[0m     \u001b[38;5;66;03m# lfp_band_key['lfp_electrode_group_name']=\"full_probe\"\u001b[39;00m\n\u001b[0;32m---> 95\u001b[0m \u001b[43mLFPBandV1\u001b[49m\u001b[43m(\u001b[49m\u001b[43m)\u001b[49m\u001b[38;5;241;43m.\u001b[39;49m\u001b[43mpopulate\u001b[49m\u001b[43m(\u001b[49m\u001b[43mprocesses\u001b[49m\u001b[38;5;241;43m=\u001b[39;49m\u001b[38;5;241;43m4\u001b[39;49m\u001b[43m)\u001b[49m\u001b[38;5;66;03m#LFPBandSelection()&lfp_band_key)\u001b[39;00m\n",
      "File \u001b[0;32m~/mambaforge-pypy3/envs/spyglass/lib/python3.9/site-packages/datajoint/autopopulate.py:255\u001b[0m, in \u001b[0;36mAutoPopulate.populate\u001b[0;34m(self, suppress_errors, return_exception_objects, reserve_jobs, order, limit, max_calls, display_progress, processes, make_kwargs, *restrictions)\u001b[0m\n\u001b[1;32m    247\u001b[0m \u001b[38;5;28;01mdel\u001b[39;00m \u001b[38;5;28mself\u001b[39m\u001b[38;5;241m.\u001b[39mconnection\u001b[38;5;241m.\u001b[39m_conn\u001b[38;5;241m.\u001b[39mctx  \u001b[38;5;66;03m# SSLContext is not pickleable\u001b[39;00m\n\u001b[1;32m    248\u001b[0m \u001b[38;5;28;01mwith\u001b[39;00m mp\u001b[38;5;241m.\u001b[39mPool(\n\u001b[1;32m    249\u001b[0m     processes, _initialize_populate, (\u001b[38;5;28mself\u001b[39m, jobs, populate_kwargs)\n\u001b[1;32m    250\u001b[0m ) \u001b[38;5;28;01mas\u001b[39;00m pool, (\n\u001b[0;32m   (...)\u001b[0m\n\u001b[1;32m    253\u001b[0m     \u001b[38;5;28;01melse\u001b[39;00m contextlib\u001b[38;5;241m.\u001b[39mnullcontext()\n\u001b[1;32m    254\u001b[0m ) \u001b[38;5;28;01mas\u001b[39;00m progress_bar:\n\u001b[0;32m--> 255\u001b[0m     \u001b[38;5;28;01mfor\u001b[39;00m error \u001b[38;5;129;01min\u001b[39;00m pool\u001b[38;5;241m.\u001b[39mimap(_call_populate1, keys, chunksize\u001b[38;5;241m=\u001b[39m\u001b[38;5;241m1\u001b[39m):\n\u001b[1;32m    256\u001b[0m         \u001b[38;5;28;01mif\u001b[39;00m error \u001b[38;5;129;01mis\u001b[39;00m \u001b[38;5;129;01mnot\u001b[39;00m \u001b[38;5;28;01mNone\u001b[39;00m:\n\u001b[1;32m    257\u001b[0m             error_list\u001b[38;5;241m.\u001b[39mappend(error)\n",
      "File \u001b[0;32m~/mambaforge-pypy3/envs/spyglass/lib/python3.9/multiprocessing/pool.py:870\u001b[0m, in \u001b[0;36mIMapIterator.next\u001b[0;34m(self, timeout)\u001b[0m\n\u001b[1;32m    868\u001b[0m \u001b[38;5;28;01mif\u001b[39;00m success:\n\u001b[1;32m    869\u001b[0m     \u001b[38;5;28;01mreturn\u001b[39;00m value\n\u001b[0;32m--> 870\u001b[0m \u001b[38;5;28;01mraise\u001b[39;00m value\n",
      "File \u001b[0;32m~/mambaforge-pypy3/envs/spyglass/lib/python3.9/multiprocessing/pool.py:125\u001b[0m, in \u001b[0;36mworker\u001b[0;34m()\u001b[0m\n\u001b[1;32m    123\u001b[0m job, i, func, args, kwds \u001b[38;5;241m=\u001b[39m task\n\u001b[1;32m    124\u001b[0m \u001b[38;5;28;01mtry\u001b[39;00m:\n\u001b[0;32m--> 125\u001b[0m     result \u001b[38;5;241m=\u001b[39m (\u001b[38;5;28;01mTrue\u001b[39;00m, func(\u001b[38;5;241m*\u001b[39margs, \u001b[38;5;241m*\u001b[39m\u001b[38;5;241m*\u001b[39mkwds))\n\u001b[1;32m    126\u001b[0m \u001b[38;5;28;01mexcept\u001b[39;00m \u001b[38;5;167;01mException\u001b[39;00m \u001b[38;5;28;01mas\u001b[39;00m e:\n\u001b[1;32m    127\u001b[0m     \u001b[38;5;28;01mif\u001b[39;00m wrap_exception \u001b[38;5;129;01mand\u001b[39;00m func \u001b[38;5;129;01mis\u001b[39;00m \u001b[38;5;129;01mnot\u001b[39;00m _helper_reraises_exception:\n",
      "File \u001b[0;32m~/mambaforge-pypy3/envs/spyglass/lib/python3.9/site-packages/datajoint/autopopulate.py:42\u001b[0m, in \u001b[0;36m_call_populate1\u001b[0;34m()\u001b[0m\n\u001b[1;32m     36\u001b[0m \u001b[38;5;250m\u001b[39m\u001b[38;5;124;03m\"\"\"\u001b[39;00m\n\u001b[1;32m     37\u001b[0m \u001b[38;5;124;03mCall current process' table._populate1()\u001b[39;00m\n\u001b[1;32m     38\u001b[0m \u001b[38;5;124;03m:key - a dict specifying job to compute\u001b[39;00m\n\u001b[1;32m     39\u001b[0m \u001b[38;5;124;03m:return: key, error if error, otherwise None\u001b[39;00m\n\u001b[1;32m     40\u001b[0m \u001b[38;5;124;03m\"\"\"\u001b[39;00m\n\u001b[1;32m     41\u001b[0m process \u001b[38;5;241m=\u001b[39m mp\u001b[38;5;241m.\u001b[39mcurrent_process()\n\u001b[0;32m---> 42\u001b[0m \u001b[38;5;28;01mreturn\u001b[39;00m process\u001b[38;5;241m.\u001b[39mtable\u001b[38;5;241m.\u001b[39m_populate1(key, process\u001b[38;5;241m.\u001b[39mjobs, \u001b[38;5;241m*\u001b[39m\u001b[38;5;241m*\u001b[39mprocess\u001b[38;5;241m.\u001b[39mpopulate_kwargs)\n",
      "File \u001b[0;32m~/mambaforge-pypy3/envs/spyglass/lib/python3.9/site-packages/datajoint/autopopulate.py:292\u001b[0m, in \u001b[0;36m_populate1\u001b[0;34m()\u001b[0m\n\u001b[1;32m    290\u001b[0m \u001b[38;5;28mself\u001b[39m\u001b[38;5;241m.\u001b[39m\u001b[38;5;18m__class__\u001b[39m\u001b[38;5;241m.\u001b[39m_allow_insert \u001b[38;5;241m=\u001b[39m \u001b[38;5;28;01mTrue\u001b[39;00m\n\u001b[1;32m    291\u001b[0m \u001b[38;5;28;01mtry\u001b[39;00m:\n\u001b[0;32m--> 292\u001b[0m     make(\u001b[38;5;28mdict\u001b[39m(key), \u001b[38;5;241m*\u001b[39m\u001b[38;5;241m*\u001b[39m(make_kwargs \u001b[38;5;129;01mor\u001b[39;00m {}))\n\u001b[1;32m    293\u001b[0m \u001b[38;5;28;01mexcept\u001b[39;00m (\u001b[38;5;167;01mKeyboardInterrupt\u001b[39;00m, \u001b[38;5;167;01mSystemExit\u001b[39;00m, \u001b[38;5;167;01mException\u001b[39;00m) \u001b[38;5;28;01mas\u001b[39;00m error:\n\u001b[1;32m    294\u001b[0m     \u001b[38;5;28;01mtry\u001b[39;00m:\n",
      "File \u001b[0;32m~/Documents/spyglass/src/spyglass/lfp/analysis/v1/lfp_band.py:284\u001b[0m, in \u001b[0;36mmake\u001b[0;34m()\u001b[0m\n\u001b[1;32m    281\u001b[0m     \u001b[38;5;28;01mreturn\u001b[39;00m \u001b[38;5;28;01mNone\u001b[39;00m\n\u001b[1;32m    283\u001b[0m \u001b[38;5;66;03m# create the analysis nwb file to store the results.\u001b[39;00m\n\u001b[0;32m--> 284\u001b[0m lfp_band_file_name \u001b[38;5;241m=\u001b[39m AnalysisNwbfile()\u001b[38;5;241m.\u001b[39mcreate(key[\u001b[38;5;124m\"\u001b[39m\u001b[38;5;124mnwb_file_name\u001b[39m\u001b[38;5;124m\"\u001b[39m])\n\u001b[1;32m    285\u001b[0m lfp_band_file_abspath \u001b[38;5;241m=\u001b[39m AnalysisNwbfile()\u001b[38;5;241m.\u001b[39mget_abs_path(\n\u001b[1;32m    286\u001b[0m     lfp_band_file_name\n\u001b[1;32m    287\u001b[0m )\n\u001b[1;32m    288\u001b[0m \u001b[38;5;66;03m# filter the data and write to an the nwb file\u001b[39;00m\n",
      "File \u001b[0;32m~/Documents/spyglass/src/spyglass/common/common_nwbfile.py:204\u001b[0m, in \u001b[0;36mcreate\u001b[0;34m()\u001b[0m\n\u001b[1;32m    200\u001b[0m     analysis_file_abs_path \u001b[38;5;241m=\u001b[39m AnalysisNwbfile\u001b[38;5;241m.\u001b[39mget_abs_path(\n\u001b[1;32m    201\u001b[0m         analysis_file_name\n\u001b[1;32m    202\u001b[0m     )\n\u001b[1;32m    203\u001b[0m     \u001b[38;5;66;03m# export the new NWB file\u001b[39;00m\n\u001b[0;32m--> 204\u001b[0m     \u001b[38;5;28;01mwith\u001b[39;00m pynwb\u001b[38;5;241m.\u001b[39mNWBHDF5IO(\n\u001b[1;32m    205\u001b[0m         path\u001b[38;5;241m=\u001b[39manalysis_file_abs_path, mode\u001b[38;5;241m=\u001b[39m\u001b[38;5;124m\"\u001b[39m\u001b[38;5;124mw\u001b[39m\u001b[38;5;124m\"\u001b[39m, manager\u001b[38;5;241m=\u001b[39mio\u001b[38;5;241m.\u001b[39mmanager\n\u001b[1;32m    206\u001b[0m     ) \u001b[38;5;28;01mas\u001b[39;00m export_io:\n\u001b[1;32m    207\u001b[0m         export_io\u001b[38;5;241m.\u001b[39mexport(io, nwbf)\n\u001b[1;32m    209\u001b[0m \u001b[38;5;66;03m# change the permissions to only allow owner to write\u001b[39;00m\n",
      "File \u001b[0;32m~/mambaforge-pypy3/envs/spyglass/lib/python3.9/site-packages/hdmf/utils.py:645\u001b[0m, in \u001b[0;36mfunc_call\u001b[0;34m()\u001b[0m\n\u001b[1;32m    643\u001b[0m \u001b[38;5;28;01mdef\u001b[39;00m \u001b[38;5;21mfunc_call\u001b[39m(\u001b[38;5;241m*\u001b[39margs, \u001b[38;5;241m*\u001b[39m\u001b[38;5;241m*\u001b[39mkwargs):\n\u001b[1;32m    644\u001b[0m     pargs \u001b[38;5;241m=\u001b[39m _check_args(args, kwargs)\n\u001b[0;32m--> 645\u001b[0m     \u001b[38;5;28;01mreturn\u001b[39;00m func(args[\u001b[38;5;241m0\u001b[39m], \u001b[38;5;241m*\u001b[39m\u001b[38;5;241m*\u001b[39mpargs)\n",
      "File \u001b[0;32m~/mambaforge-pypy3/envs/spyglass/lib/python3.9/site-packages/pynwb/__init__.py:250\u001b[0m, in \u001b[0;36m__init__\u001b[0;34m()\u001b[0m\n\u001b[1;32m    248\u001b[0m         manager \u001b[38;5;241m=\u001b[39m get_manager()\n\u001b[1;32m    249\u001b[0m \u001b[38;5;66;03m# Open the file\u001b[39;00m\n\u001b[0;32m--> 250\u001b[0m \u001b[38;5;28msuper\u001b[39m()\u001b[38;5;241m.\u001b[39m\u001b[38;5;21m__init__\u001b[39m(path, manager\u001b[38;5;241m=\u001b[39mmanager, mode\u001b[38;5;241m=\u001b[39mmode, file\u001b[38;5;241m=\u001b[39mfile_obj, comm\u001b[38;5;241m=\u001b[39mcomm, driver\u001b[38;5;241m=\u001b[39mdriver)\n",
      "File \u001b[0;32m~/mambaforge-pypy3/envs/spyglass/lib/python3.9/site-packages/hdmf/utils.py:645\u001b[0m, in \u001b[0;36mfunc_call\u001b[0;34m()\u001b[0m\n\u001b[1;32m    643\u001b[0m \u001b[38;5;28;01mdef\u001b[39;00m \u001b[38;5;21mfunc_call\u001b[39m(\u001b[38;5;241m*\u001b[39margs, \u001b[38;5;241m*\u001b[39m\u001b[38;5;241m*\u001b[39mkwargs):\n\u001b[1;32m    644\u001b[0m     pargs \u001b[38;5;241m=\u001b[39m _check_args(args, kwargs)\n\u001b[0;32m--> 645\u001b[0m     \u001b[38;5;28;01mreturn\u001b[39;00m func(args[\u001b[38;5;241m0\u001b[39m], \u001b[38;5;241m*\u001b[39m\u001b[38;5;241m*\u001b[39mpargs)\n",
      "File \u001b[0;32m~/mambaforge-pypy3/envs/spyglass/lib/python3.9/site-packages/hdmf/backends/hdf5/h5tools.py:79\u001b[0m, in \u001b[0;36m__init__\u001b[0;34m()\u001b[0m\n\u001b[1;32m     77\u001b[0m \u001b[38;5;28mself\u001b[39m\u001b[38;5;241m.\u001b[39m__mode \u001b[38;5;241m=\u001b[39m mode\n\u001b[1;32m     78\u001b[0m \u001b[38;5;28mself\u001b[39m\u001b[38;5;241m.\u001b[39m__file \u001b[38;5;241m=\u001b[39m file_obj\n\u001b[0;32m---> 79\u001b[0m \u001b[38;5;28msuper\u001b[39m()\u001b[38;5;241m.\u001b[39m\u001b[38;5;21m__init__\u001b[39m(manager, source\u001b[38;5;241m=\u001b[39mpath)  \u001b[38;5;66;03m# NOTE: source is not set if path is None and file_obj is passed\u001b[39;00m\n\u001b[1;32m     80\u001b[0m \u001b[38;5;28mself\u001b[39m\u001b[38;5;241m.\u001b[39m__built \u001b[38;5;241m=\u001b[39m \u001b[38;5;28mdict\u001b[39m()       \u001b[38;5;66;03m# keep track of each builder for each dataset/group/link for each file\u001b[39;00m\n\u001b[1;32m     81\u001b[0m \u001b[38;5;28mself\u001b[39m\u001b[38;5;241m.\u001b[39m__read \u001b[38;5;241m=\u001b[39m \u001b[38;5;28mdict\u001b[39m()        \u001b[38;5;66;03m# keep track of which files have been read. Key is the filename value is the builder\u001b[39;00m\n",
      "File \u001b[0;32m~/mambaforge-pypy3/envs/spyglass/lib/python3.9/site-packages/hdmf/utils.py:645\u001b[0m, in \u001b[0;36mfunc_call\u001b[0;34m()\u001b[0m\n\u001b[1;32m    643\u001b[0m \u001b[38;5;28;01mdef\u001b[39;00m \u001b[38;5;21mfunc_call\u001b[39m(\u001b[38;5;241m*\u001b[39margs, \u001b[38;5;241m*\u001b[39m\u001b[38;5;241m*\u001b[39mkwargs):\n\u001b[1;32m    644\u001b[0m     pargs \u001b[38;5;241m=\u001b[39m _check_args(args, kwargs)\n\u001b[0;32m--> 645\u001b[0m     \u001b[38;5;28;01mreturn\u001b[39;00m func(args[\u001b[38;5;241m0\u001b[39m], \u001b[38;5;241m*\u001b[39m\u001b[38;5;241m*\u001b[39mpargs)\n",
      "File \u001b[0;32m~/mambaforge-pypy3/envs/spyglass/lib/python3.9/site-packages/hdmf/backends/io.py:29\u001b[0m, in \u001b[0;36m__init__\u001b[0;34m()\u001b[0m\n\u001b[1;32m     27\u001b[0m \u001b[38;5;28mself\u001b[39m\u001b[38;5;241m.\u001b[39m__built \u001b[38;5;241m=\u001b[39m \u001b[38;5;28mdict\u001b[39m()\n\u001b[1;32m     28\u001b[0m \u001b[38;5;28mself\u001b[39m\u001b[38;5;241m.\u001b[39m__source \u001b[38;5;241m=\u001b[39m source\n\u001b[0;32m---> 29\u001b[0m \u001b[38;5;28mself\u001b[39m\u001b[38;5;241m.\u001b[39mopen()\n",
      "File \u001b[0;32m~/mambaforge-pypy3/envs/spyglass/lib/python3.9/site-packages/hdmf/backends/hdf5/h5tools.py:739\u001b[0m, in \u001b[0;36mopen\u001b[0;34m()\u001b[0m\n\u001b[1;32m    736\u001b[0m \u001b[38;5;28;01mif\u001b[39;00m \u001b[38;5;28mself\u001b[39m\u001b[38;5;241m.\u001b[39mdriver \u001b[38;5;129;01mis\u001b[39;00m \u001b[38;5;129;01mnot\u001b[39;00m \u001b[38;5;28;01mNone\u001b[39;00m:\n\u001b[1;32m    737\u001b[0m     kwargs\u001b[38;5;241m.\u001b[39mupdate(driver\u001b[38;5;241m=\u001b[39m\u001b[38;5;28mself\u001b[39m\u001b[38;5;241m.\u001b[39mdriver)\n\u001b[0;32m--> 739\u001b[0m \u001b[38;5;28mself\u001b[39m\u001b[38;5;241m.\u001b[39m__file \u001b[38;5;241m=\u001b[39m File(\u001b[38;5;28mself\u001b[39m\u001b[38;5;241m.\u001b[39msource, open_flag, \u001b[38;5;241m*\u001b[39m\u001b[38;5;241m*\u001b[39mkwargs)\n",
      "File \u001b[0;32m~/mambaforge-pypy3/envs/spyglass/lib/python3.9/site-packages/h5py/_hl/files.py:567\u001b[0m, in \u001b[0;36m__init__\u001b[0;34m()\u001b[0m\n\u001b[1;32m    558\u001b[0m     fapl \u001b[38;5;241m=\u001b[39m make_fapl(driver, libver, rdcc_nslots, rdcc_nbytes, rdcc_w0,\n\u001b[1;32m    559\u001b[0m                      locking, page_buf_size, min_meta_keep, min_raw_keep,\n\u001b[1;32m    560\u001b[0m                      alignment_threshold\u001b[38;5;241m=\u001b[39malignment_threshold,\n\u001b[1;32m    561\u001b[0m                      alignment_interval\u001b[38;5;241m=\u001b[39malignment_interval,\n\u001b[1;32m    562\u001b[0m                      meta_block_size\u001b[38;5;241m=\u001b[39mmeta_block_size,\n\u001b[1;32m    563\u001b[0m                      \u001b[38;5;241m*\u001b[39m\u001b[38;5;241m*\u001b[39mkwds)\n\u001b[1;32m    564\u001b[0m     fcpl \u001b[38;5;241m=\u001b[39m make_fcpl(track_order\u001b[38;5;241m=\u001b[39mtrack_order, fs_strategy\u001b[38;5;241m=\u001b[39mfs_strategy,\n\u001b[1;32m    565\u001b[0m                      fs_persist\u001b[38;5;241m=\u001b[39mfs_persist, fs_threshold\u001b[38;5;241m=\u001b[39mfs_threshold,\n\u001b[1;32m    566\u001b[0m                      fs_page_size\u001b[38;5;241m=\u001b[39mfs_page_size)\n\u001b[0;32m--> 567\u001b[0m     fid \u001b[38;5;241m=\u001b[39m make_fid(name, mode, userblock_size, fapl, fcpl, swmr\u001b[38;5;241m=\u001b[39mswmr)\n\u001b[1;32m    569\u001b[0m \u001b[38;5;28;01mif\u001b[39;00m \u001b[38;5;28misinstance\u001b[39m(libver, \u001b[38;5;28mtuple\u001b[39m):\n\u001b[1;32m    570\u001b[0m     \u001b[38;5;28mself\u001b[39m\u001b[38;5;241m.\u001b[39m_libver \u001b[38;5;241m=\u001b[39m libver\n",
      "File \u001b[0;32m~/mambaforge-pypy3/envs/spyglass/lib/python3.9/site-packages/h5py/_hl/files.py:237\u001b[0m, in \u001b[0;36mmake_fid\u001b[0;34m()\u001b[0m\n\u001b[1;32m    235\u001b[0m     fid \u001b[38;5;241m=\u001b[39m h5f\u001b[38;5;241m.\u001b[39mcreate(name, h5f\u001b[38;5;241m.\u001b[39mACC_EXCL, fapl\u001b[38;5;241m=\u001b[39mfapl, fcpl\u001b[38;5;241m=\u001b[39mfcpl)\n\u001b[1;32m    236\u001b[0m \u001b[38;5;28;01melif\u001b[39;00m mode \u001b[38;5;241m==\u001b[39m \u001b[38;5;124m'\u001b[39m\u001b[38;5;124mw\u001b[39m\u001b[38;5;124m'\u001b[39m:\n\u001b[0;32m--> 237\u001b[0m     fid \u001b[38;5;241m=\u001b[39m h5f\u001b[38;5;241m.\u001b[39mcreate(name, h5f\u001b[38;5;241m.\u001b[39mACC_TRUNC, fapl\u001b[38;5;241m=\u001b[39mfapl, fcpl\u001b[38;5;241m=\u001b[39mfcpl)\n\u001b[1;32m    238\u001b[0m \u001b[38;5;28;01melif\u001b[39;00m mode \u001b[38;5;241m==\u001b[39m \u001b[38;5;124m'\u001b[39m\u001b[38;5;124ma\u001b[39m\u001b[38;5;124m'\u001b[39m:\n\u001b[1;32m    239\u001b[0m     \u001b[38;5;66;03m# Open in append mode (read/write).\u001b[39;00m\n\u001b[1;32m    240\u001b[0m     \u001b[38;5;66;03m# If that fails, create a new file only if it won't clobber an\u001b[39;00m\n\u001b[1;32m    241\u001b[0m     \u001b[38;5;66;03m# existing one (ACC_EXCL)\u001b[39;00m\n\u001b[1;32m    242\u001b[0m     \u001b[38;5;28;01mtry\u001b[39;00m:\n",
      "File \u001b[0;32mh5py/_objects.pyx:54\u001b[0m, in \u001b[0;36mh5py._objects.with_phil.wrapper\u001b[0;34m()\u001b[0m\n",
      "File \u001b[0;32mh5py/_objects.pyx:55\u001b[0m, in \u001b[0;36mh5py._objects.with_phil.wrapper\u001b[0;34m()\u001b[0m\n",
      "File \u001b[0;32mh5py/h5f.pyx:126\u001b[0m, in \u001b[0;36mh5py.h5f.create\u001b[0;34m()\u001b[0m\n",
      "\u001b[0;31mPermissionError\u001b[0m: [Errno 13] Unable to create file (unable to open file: name = '/stelmo/nwb/analysis/tonks20211101/tonks20211101_AOP38HKNOM.nwb', errno = 13, error message = 'Permission denied', flags = 13, o_flags = 242)"
     ]
    }
   ],
   "source": [
    "# nwb_file_names = [\"Totoro20220602_.nwb\",]\n",
    "# interval_list_name = \"pos 3 valid times\"\n",
    "filter_name = \"Ripple 150-250 Hz\"\n",
    "# desired sampling rate\n",
    "lfp_band_sampling_rate = 1000\n",
    "missing_lfp = []\n",
    "\n",
    "\n",
    "\n",
    "############################################\n",
    "for nwb_file_name, interval_list_name in tqdm(zip(nwb_file_names, interval_list_names)):\n",
    "\n",
    "    \n",
    "    basic_key = {\"nwb_file_name\": nwb_file_name,'target_interval_list_name':interval_list_name}\n",
    "    if LFPBandV1() & basic_key & {\"filter_name\":filter_name}:\n",
    "        continue\n",
    "    \n",
    "    #check that lfp exists for this animal\n",
    "    if len(LFPV1() & basic_key & {'lfp_sampling_rate':1000})==0:\n",
    "        missing_lfp.append(basic_key)\n",
    "        continue\n",
    "    if len(LFPV1 & basic_key)>1:\n",
    "        electrode_group_names = (LFPV1() & basic_key).fetch(\"lfp_electrode_group_name\")\n",
    "        if 'full_probe' in electrode_group_names:\n",
    "            electrode_group_name = 'full_probe'\n",
    "        else:\n",
    "            electrode_group_name =[x for x in electrode_group_names if nwb_file_name.split('202')[0] in x][0]\n",
    "        basic_key[\"lfp_electrode_group_name\"] = electrode_group_name\n",
    "        \n",
    "    #get lfp's sampling rate\n",
    "    lfp_sampling_rate = (LFPV1() & basic_key ).fetch1(\n",
    "        \"lfp_sampling_rate\"\n",
    "    )\n",
    "    \n",
    "    #get lfp filter sampling_rate\n",
    "    lfp_filter_sampling_rate = (LFPV1() & basic_key).fetch1(\n",
    "        \"filter_sampling_rate\"\n",
    "    )\n",
    "    \n",
    "    #get lfp filter name\n",
    "    lfp_filter_name = (LFPV1() & basic_key).fetch1(\n",
    "        \"filter_name\"\n",
    "    )\n",
    "    \n",
    "    # make lfp selection key\n",
    "    lfp_s_key = basic_key.copy()\n",
    "    lfp_s_key[\"target_interval_list_name\"] = interval_list_name\n",
    "    lfp_s_key[\"filter_name\"] = lfp_filter_name\n",
    "    lfp_s_key[\"filter_sampling_rate\"] = lfp_filter_sampling_rate\n",
    "    \n",
    "    # get the electrodes the lfp was run on\n",
    "    lfp_electrode_group_name = (LFPV1 & lfp_s_key).fetch1('lfp_electrode_group_name')\n",
    "    lfp_eg_key = {\n",
    "            \"nwb_file_name\": nwb_file_name,\n",
    "            \"lfp_electrode_group_name\": lfp_electrode_group_name,\n",
    "            }\n",
    "    electrode_list = list(np.asarray((LFPV1 & basic_key).fetch_nwb()[0]['lfp'].electrodes.to_dataframe().index))\n",
    "    \n",
    "    # remake lfp selection key\n",
    "    lfp_s_key = basic_key.copy()\n",
    "    lfp_s_key[\"target_interval_list_name\"] = interval_list_name\n",
    "    lfp_s_key[\"filter_name\"] = lfp_filter_name\n",
    "    lfp_s_key[\"filter_sampling_rate\"] = lfp_filter_sampling_rate\n",
    "    \n",
    "    # set the reference to -1 to indicate no reference for all channels\n",
    "    ref_elect = [-1]\n",
    "    \n",
    "    # we also need the uuid for the LFP object\n",
    "    lfp_merge_id = (LFPOutput.LFPV1 & lfp_s_key).fetch1('merge_id')\n",
    "    \n",
    "    \n",
    "    # #make Band selection table entry\n",
    "    LFPBandSelection().set_lfp_band_electrodes(\n",
    "            nwb_file_name=nwb_file_name,\n",
    "            lfp_merge_id=lfp_merge_id,\n",
    "            electrode_list=electrode_list,\n",
    "            filter_name=filter_name,\n",
    "            interval_list_name=interval_list_name,\n",
    "            reference_electrode_list=ref_elect,\n",
    "            lfp_band_sampling_rate=lfp_band_sampling_rate,\n",
    "        )\n",
    "    \n",
    "    lfp_band_key = (\n",
    "        LFPBandSelection\n",
    "        & {\n",
    "            \"lfp_merge_id\": lfp_merge_id,\n",
    "            \"filter_name\": filter_name,\n",
    "            \"lfp_band_sampling_rate\": lfp_band_sampling_rate,\n",
    "            \"target_interval_list_name\":interval_list_name,\n",
    "        }\n",
    "    ).fetch1(\"KEY\")\n",
    "    # if LFPBandV1() & lfp_band_key:\n",
    "    #     continue #already populated\n",
    "    # lfp_band_key['lfp_electrode_group_name']=\"full_probe\"\n",
    "LFPBandV1().populate(processes=4)#LFPBandSelection()&lfp_band_key)"
   ]
  },
  {
   "cell_type": "code",
   "execution_count": 19,
   "id": "b71d37c2",
   "metadata": {},
   "outputs": [
    {
     "data": {
      "text/html": [
       "\n",
       "    \n",
       "    <style type=\"text/css\">\n",
       "        .Table{\n",
       "            border-collapse:collapse;\n",
       "        }\n",
       "        .Table th{\n",
       "            background: #A0A0A0; color: #ffffff; padding:4px; border:#f0e0e0 1px solid;\n",
       "            font-weight: normal; font-family: monospace; font-size: 100%;\n",
       "        }\n",
       "        .Table td{\n",
       "            padding:4px; border:#f0e0e0 1px solid; font-size:100%;\n",
       "        }\n",
       "        .Table tr:nth-child(odd){\n",
       "            background: #ffffff;\n",
       "            color: #000000;\n",
       "        }\n",
       "        .Table tr:nth-child(even){\n",
       "            background: #f3f1ff;\n",
       "            color: #000000;\n",
       "        }\n",
       "        /* Tooltip container */\n",
       "        .djtooltip {\n",
       "        }\n",
       "        /* Tooltip text */\n",
       "        .djtooltip .djtooltiptext {\n",
       "            visibility: hidden;\n",
       "            width: 120px;\n",
       "            background-color: black;\n",
       "            color: #fff;\n",
       "            text-align: center;\n",
       "            padding: 5px 0;\n",
       "            border-radius: 6px;\n",
       "            /* Position the tooltip text - see examples below! */\n",
       "            position: absolute;\n",
       "            z-index: 1;\n",
       "        }\n",
       "        #primary {\n",
       "            font-weight: bold;\n",
       "            color: black;\n",
       "        }\n",
       "        #nonprimary {\n",
       "            font-weight: normal;\n",
       "            color: white;\n",
       "        }\n",
       "\n",
       "        /* Show the tooltip text when you mouse over the tooltip container */\n",
       "        .djtooltip:hover .djtooltiptext {\n",
       "            visibility: visible;\n",
       "        }\n",
       "    </style>\n",
       "    \n",
       "    <b></b>\n",
       "        <div style=\"max-height:1000px;max-width:1500px;overflow:auto;\">\n",
       "        <table border=\"1\" class=\"Table\">\n",
       "            <thead> <tr style=\"text-align: right;\"> <th> <div class=\"djtooltip\">\n",
       "                            <p id=\"primary\">nwb_file_name</p>\n",
       "                            <span class=\"djtooltiptext\">name of the NWB file</span>\n",
       "                        </div></th><th><div class=\"djtooltip\">\n",
       "                            <p id=\"primary\">lfp_electrode_group_name</p>\n",
       "                            <span class=\"djtooltiptext\">the name of this group of electrodes</span>\n",
       "                        </div></th><th><div class=\"djtooltip\">\n",
       "                            <p id=\"primary\">target_interval_list_name</p>\n",
       "                            <span class=\"djtooltiptext\">descriptive name of this interval list</span>\n",
       "                        </div></th><th><div class=\"djtooltip\">\n",
       "                            <p id=\"primary\">filter_name</p>\n",
       "                            <span class=\"djtooltiptext\">descriptive name of this filter</span>\n",
       "                        </div></th><th><div class=\"djtooltip\">\n",
       "                            <p id=\"primary\">filter_sampling_rate</p>\n",
       "                            <span class=\"djtooltiptext\">sampling rate for this filter</span>\n",
       "                        </div></th><th><div class=\"djtooltip\">\n",
       "                            <p id=\"nonprimary\">analysis_file_name</p>\n",
       "                            <span class=\"djtooltiptext\">name of the file</span>\n",
       "                        </div></th><th><div class=\"djtooltip\">\n",
       "                            <p id=\"nonprimary\">interval_list_name</p>\n",
       "                            <span class=\"djtooltiptext\">descriptive name of this interval list</span>\n",
       "                        </div></th><th><div class=\"djtooltip\">\n",
       "                            <p id=\"nonprimary\">lfp_object_id</p>\n",
       "                            <span class=\"djtooltiptext\">the NWB object ID for loading this object from the file</span>\n",
       "                        </div></th><th><div class=\"djtooltip\">\n",
       "                            <p id=\"nonprimary\">lfp_sampling_rate</p>\n",
       "                            <span class=\"djtooltiptext\">the sampling rate, in HZ</span>\n",
       "                        </div> </th> </tr> </thead>\n",
       "            <tbody> <tr> <td>Banner20220224_.nwb</td>\n",
       "<td>full_probe</td>\n",
       "<td>pos 0 valid times</td>\n",
       "<td>LFP 0-400 Hz</td>\n",
       "<td>30000</td>\n",
       "<td>Banner20220224_6CINFRHVDZ.nwb</td>\n",
       "<td>lfp_full_probe_pos 0 valid times_valid times</td>\n",
       "<td>1285ea58-f172-4256-95fb-3f9a78bb81d7</td>\n",
       "<td>1000.0</td></tr><tr><td>Banner20220224_.nwb</td>\n",
       "<td>full_probe</td>\n",
       "<td>pos 1 valid times</td>\n",
       "<td>LFP 0-400 Hz</td>\n",
       "<td>30000</td>\n",
       "<td>Banner20220224_QWRJ6I162L.nwb</td>\n",
       "<td>lfp_full_probe_pos 1 valid times_valid times</td>\n",
       "<td>fe7107d9-5acc-41bf-b6cd-483b72b97386</td>\n",
       "<td>1000.0</td></tr><tr><td>Banner20220224_.nwb</td>\n",
       "<td>full_probe</td>\n",
       "<td>pos 2 valid times</td>\n",
       "<td>LFP 0-400 Hz</td>\n",
       "<td>30000</td>\n",
       "<td>Banner20220224_LL4YF6DG4J.nwb</td>\n",
       "<td>lfp_full_probe_pos 2 valid times_valid times</td>\n",
       "<td>c62ceccd-b00f-4f6e-b162-228bc787b8bb</td>\n",
       "<td>1000.0</td></tr><tr><td>Banner20220224_.nwb</td>\n",
       "<td>full_probe</td>\n",
       "<td>pos 3 valid times</td>\n",
       "<td>LFP 0-400 Hz</td>\n",
       "<td>30000</td>\n",
       "<td>Banner20220224_MUWQXS2A9K.nwb</td>\n",
       "<td>lfp_full_probe_pos 3 valid times_valid times</td>\n",
       "<td>ade9a435-7296-48f6-88ff-0f15e2a4b765</td>\n",
       "<td>1000.0</td></tr><tr><td>Banner20220224_.nwb</td>\n",
       "<td>full_probe</td>\n",
       "<td>pos 4 valid times</td>\n",
       "<td>LFP 0-400 Hz</td>\n",
       "<td>30000</td>\n",
       "<td>Banner20220224_C4G2J48P31.nwb</td>\n",
       "<td>lfp_full_probe_pos 4 valid times_valid times</td>\n",
       "<td>db2e0a50-d1f5-4d63-8fa6-69a61168ea6c</td>\n",
       "<td>1000.0</td></tr><tr><td>Banner20220224_.nwb</td>\n",
       "<td>full_probe</td>\n",
       "<td>pos 5 valid times</td>\n",
       "<td>LFP 0-400 Hz</td>\n",
       "<td>30000</td>\n",
       "<td>Banner20220224_3ZY0DCTV6M.nwb</td>\n",
       "<td>lfp_full_probe_pos 5 valid times_valid times</td>\n",
       "<td>b5a6fa13-a96c-433a-a877-3963aad2a11e</td>\n",
       "<td>1000.0</td></tr><tr><td>Banner20220224_.nwb</td>\n",
       "<td>full_probe</td>\n",
       "<td>pos 6 valid times</td>\n",
       "<td>LFP 0-400 Hz</td>\n",
       "<td>30000</td>\n",
       "<td>Banner20220224_OLGSR49PFB.nwb</td>\n",
       "<td>lfp_full_probe_pos 6 valid times_valid times</td>\n",
       "<td>edbf32d6-9aa6-4dd1-a98e-e8921d202497</td>\n",
       "<td>1000.0</td></tr><tr><td>Banner20220224_.nwb</td>\n",
       "<td>full_probe</td>\n",
       "<td>pos 7 valid times</td>\n",
       "<td>LFP 0-400 Hz</td>\n",
       "<td>30000</td>\n",
       "<td>Banner20220224_91NGGQIP09.nwb</td>\n",
       "<td>lfp_full_probe_pos 7 valid times_valid times</td>\n",
       "<td>d162acd7-8c00-4ee5-8c67-9250f505a530</td>\n",
       "<td>1000.0</td></tr><tr><td>Banner20220224_.nwb</td>\n",
       "<td>test_group</td>\n",
       "<td>pos 3 valid times</td>\n",
       "<td>LFP 0-400 Hz</td>\n",
       "<td>30000</td>\n",
       "<td>Banner20220224_LP2O51GJ4J.nwb</td>\n",
       "<td>lfp_test_group_pos 3 valid times_valid times</td>\n",
       "<td>1e2be78c-cce4-41f4-989c-60c8db598342</td>\n",
       "<td>1000.0</td></tr><tr><td>Banner20220224_.nwb</td>\n",
       "<td>test_group</td>\n",
       "<td>test interval</td>\n",
       "<td>LFP 0-400 Hz</td>\n",
       "<td>30000</td>\n",
       "<td>Banner20220224_5MSHZ9CCOW.nwb</td>\n",
       "<td>lfp_test_group_test interval_valid times</td>\n",
       "<td>d44b3f90-724f-469c-8f8c-6a284f4535fa</td>\n",
       "<td>1000.0</td> </tr> </tbody>\n",
       "        </table>\n",
       "        \n",
       "        <p>Total: 10</p></div>\n",
       "        "
      ],
      "text/plain": [
       "*nwb_file_name *lfp_electrode *target_interv *filter_name   *filter_sampli analysis_file_ interval_list_ lfp_object_id  lfp_sampling_r\n",
       "+------------+ +------------+ +------------+ +------------+ +------------+ +------------+ +------------+ +------------+ +------------+\n",
       "Banner20220224 full_probe     pos 0 valid ti LFP 0-400 Hz   30000          Banner20220224 lfp_full_probe 1285ea58-f172- 1000.0        \n",
       "Banner20220224 full_probe     pos 1 valid ti LFP 0-400 Hz   30000          Banner20220224 lfp_full_probe fe7107d9-5acc- 1000.0        \n",
       "Banner20220224 full_probe     pos 2 valid ti LFP 0-400 Hz   30000          Banner20220224 lfp_full_probe c62ceccd-b00f- 1000.0        \n",
       "Banner20220224 full_probe     pos 3 valid ti LFP 0-400 Hz   30000          Banner20220224 lfp_full_probe ade9a435-7296- 1000.0        \n",
       "Banner20220224 full_probe     pos 4 valid ti LFP 0-400 Hz   30000          Banner20220224 lfp_full_probe db2e0a50-d1f5- 1000.0        \n",
       "Banner20220224 full_probe     pos 5 valid ti LFP 0-400 Hz   30000          Banner20220224 lfp_full_probe b5a6fa13-a96c- 1000.0        \n",
       "Banner20220224 full_probe     pos 6 valid ti LFP 0-400 Hz   30000          Banner20220224 lfp_full_probe edbf32d6-9aa6- 1000.0        \n",
       "Banner20220224 full_probe     pos 7 valid ti LFP 0-400 Hz   30000          Banner20220224 lfp_full_probe d162acd7-8c00- 1000.0        \n",
       "Banner20220224 test_group     pos 3 valid ti LFP 0-400 Hz   30000          Banner20220224 lfp_test_group 1e2be78c-cce4- 1000.0        \n",
       "Banner20220224 test_group     test interval  LFP 0-400 Hz   30000          Banner20220224 lfp_test_group d44b3f90-724f- 1000.0        \n",
       " (Total: 10)"
      ]
     },
     "execution_count": 19,
     "metadata": {},
     "output_type": "execute_result"
    }
   ],
   "source": [
    "LFPV1 & {'nwb_file_name': 'Banner20220224_.nwb'}"
   ]
  },
  {
   "cell_type": "code",
   "execution_count": 1,
   "id": "a40c46b3",
   "metadata": {},
   "outputs": [
    {
     "name": "stderr",
     "output_type": "stream",
     "text": [
      "[2023-12-21 09:43:42,659][INFO]: Connecting sambray@lmf-db.cin.ucsf.edu:3306\n",
      "[2023-12-21 09:43:42,713][INFO]: Connected sambray@lmf-db.cin.ucsf.edu:3306\n",
      "Processes:   0%|          | 0/80 [00:00<?, ?it/s]"
     ]
    },
    {
     "name": "stdout",
     "output_type": "stream",
     "text": [
      "Writing new NWB file Banner20211221_23QKBA128K.nwb\n",
      "Writing new NWB file Banner20211221_P42YU5FP1O.nwb\n",
      "Writing new NWB file Banner20211222_T0BU1WZMKM.nwb\n",
      "Writing new NWB file Banner20211222_GB95P02BMR.nwb\n",
      "Writing new NWB file Banner20211222_H49TEK6B8I.nwb\n",
      "Writing new NWB file Banner20211222_9GGSZHOUZN.nwb\n",
      "Writing new NWB file Banner20211222_FQFOYUGXUF.nwb\n",
      "Writing new NWB file Banner20211227_92JAPRJETG.nwb\n"
     ]
    },
    {
     "data": {
      "application/javascript": "(function(root) {\n  function now() {\n    return new Date();\n  }\n\n  var force = true;\n  var py_version = '3.1.1'.replace('rc', '-rc.');\n  var is_dev = py_version.indexOf(\"+\") !== -1 || py_version.indexOf(\"-\") !== -1;\n  var reloading = false;\n  var Bokeh = root.Bokeh;\n  var bokeh_loaded = Bokeh != null && (Bokeh.version === py_version || (Bokeh.versions !== undefined && Bokeh.versions.has(py_version)));\n\n  if (typeof (root._bokeh_timeout) === \"undefined\" || force) {\n    root._bokeh_timeout = Date.now() + 5000;\n    root._bokeh_failed_load = false;\n  }\n\n  function run_callbacks() {\n    try {\n      root._bokeh_onload_callbacks.forEach(function(callback) {\n        if (callback != null)\n          callback();\n      });\n    } finally {\n      delete root._bokeh_onload_callbacks;\n    }\n    console.debug(\"Bokeh: all callbacks have finished\");\n  }\n\n  function load_libs(css_urls, js_urls, js_modules, js_exports, callback) {\n    if (css_urls == null) css_urls = [];\n    if (js_urls == null) js_urls = [];\n    if (js_modules == null) js_modules = [];\n    if (js_exports == null) js_exports = {};\n\n    root._bokeh_onload_callbacks.push(callback);\n\n    if (root._bokeh_is_loading > 0) {\n      console.debug(\"Bokeh: BokehJS is being loaded, scheduling callback at\", now());\n      return null;\n    }\n    if (js_urls.length === 0 && js_modules.length === 0 && Object.keys(js_exports).length === 0) {\n      run_callbacks();\n      return null;\n    }\n    if (!reloading) {\n      console.debug(\"Bokeh: BokehJS not loaded, scheduling load and callback at\", now());\n    }\n\n    function on_load() {\n      root._bokeh_is_loading--;\n      if (root._bokeh_is_loading === 0) {\n        console.debug(\"Bokeh: all BokehJS libraries/stylesheets loaded\");\n        run_callbacks()\n      }\n    }\n    window._bokeh_on_load = on_load\n\n    function on_error() {\n      console.error(\"failed to load \" + url);\n    }\n\n    var skip = [];\n    if (window.requirejs) {\n      window.requirejs.config({'packages': {}, 'paths': {'jspanel': 'https://cdn.jsdelivr.net/npm/jspanel4@4.12.0/dist/jspanel', 'jspanel-modal': 'https://cdn.jsdelivr.net/npm/jspanel4@4.12.0/dist/extensions/modal/jspanel.modal', 'jspanel-tooltip': 'https://cdn.jsdelivr.net/npm/jspanel4@4.12.0/dist/extensions/tooltip/jspanel.tooltip', 'jspanel-hint': 'https://cdn.jsdelivr.net/npm/jspanel4@4.12.0/dist/extensions/hint/jspanel.hint', 'jspanel-layout': 'https://cdn.jsdelivr.net/npm/jspanel4@4.12.0/dist/extensions/layout/jspanel.layout', 'jspanel-contextmenu': 'https://cdn.jsdelivr.net/npm/jspanel4@4.12.0/dist/extensions/contextmenu/jspanel.contextmenu', 'jspanel-dock': 'https://cdn.jsdelivr.net/npm/jspanel4@4.12.0/dist/extensions/dock/jspanel.dock', 'gridstack': 'https://cdn.jsdelivr.net/npm/gridstack@7.2.3/dist/gridstack-all', 'notyf': 'https://cdn.jsdelivr.net/npm/notyf@3/notyf.min'}, 'shim': {'jspanel': {'exports': 'jsPanel'}, 'gridstack': {'exports': 'GridStack'}}});\n      require([\"jspanel\"], function(jsPanel) {\n\twindow.jsPanel = jsPanel\n\ton_load()\n      })\n      require([\"jspanel-modal\"], function() {\n\ton_load()\n      })\n      require([\"jspanel-tooltip\"], function() {\n\ton_load()\n      })\n      require([\"jspanel-hint\"], function() {\n\ton_load()\n      })\n      require([\"jspanel-layout\"], function() {\n\ton_load()\n      })\n      require([\"jspanel-contextmenu\"], function() {\n\ton_load()\n      })\n      require([\"jspanel-dock\"], function() {\n\ton_load()\n      })\n      require([\"gridstack\"], function(GridStack) {\n\twindow.GridStack = GridStack\n\ton_load()\n      })\n      require([\"notyf\"], function() {\n\ton_load()\n      })\n      root._bokeh_is_loading = css_urls.length + 9;\n    } else {\n      root._bokeh_is_loading = css_urls.length + js_urls.length + js_modules.length + Object.keys(js_exports).length;\n    }\n\n    var existing_stylesheets = []\n    var links = document.getElementsByTagName('link')\n    for (var i = 0; i < links.length; i++) {\n      var link = links[i]\n      if (link.href != null) {\n\texisting_stylesheets.push(link.href)\n      }\n    }\n    for (var i = 0; i < css_urls.length; i++) {\n      var url = css_urls[i];\n      if (existing_stylesheets.indexOf(url) !== -1) {\n\ton_load()\n\tcontinue;\n      }\n      const element = document.createElement(\"link\");\n      element.onload = on_load;\n      element.onerror = on_error;\n      element.rel = \"stylesheet\";\n      element.type = \"text/css\";\n      element.href = url;\n      console.debug(\"Bokeh: injecting link tag for BokehJS stylesheet: \", url);\n      document.body.appendChild(element);\n    }    if (((window['jsPanel'] !== undefined) && (!(window['jsPanel'] instanceof HTMLElement))) || window.requirejs) {\n      var urls = ['https://cdn.holoviz.org/panel/1.1.0/dist/bundled/floatpanel/jspanel4@4.12.0/dist/jspanel.js', 'https://cdn.holoviz.org/panel/1.1.0/dist/bundled/floatpanel/jspanel4@4.12.0/dist/extensions/modal/jspanel.modal.js', 'https://cdn.holoviz.org/panel/1.1.0/dist/bundled/floatpanel/jspanel4@4.12.0/dist/extensions/tooltip/jspanel.tooltip.js', 'https://cdn.holoviz.org/panel/1.1.0/dist/bundled/floatpanel/jspanel4@4.12.0/dist/extensions/hint/jspanel.hint.js', 'https://cdn.holoviz.org/panel/1.1.0/dist/bundled/floatpanel/jspanel4@4.12.0/dist/extensions/layout/jspanel.layout.js', 'https://cdn.holoviz.org/panel/1.1.0/dist/bundled/floatpanel/jspanel4@4.12.0/dist/extensions/contextmenu/jspanel.contextmenu.js', 'https://cdn.holoviz.org/panel/1.1.0/dist/bundled/floatpanel/jspanel4@4.12.0/dist/extensions/dock/jspanel.dock.js'];\n      for (var i = 0; i < urls.length; i++) {\n        skip.push(urls[i])\n      }\n    }    if (((window['GridStack'] !== undefined) && (!(window['GridStack'] instanceof HTMLElement))) || window.requirejs) {\n      var urls = ['https://cdn.holoviz.org/panel/1.1.0/dist/bundled/gridstack/gridstack@7.2.3/dist/gridstack-all.js'];\n      for (var i = 0; i < urls.length; i++) {\n        skip.push(urls[i])\n      }\n    }    if (((window['Notyf'] !== undefined) && (!(window['Notyf'] instanceof HTMLElement))) || window.requirejs) {\n      var urls = ['https://cdn.holoviz.org/panel/1.1.0/dist/bundled/notificationarea/notyf@3/notyf.min.js'];\n      for (var i = 0; i < urls.length; i++) {\n        skip.push(urls[i])\n      }\n    }    var existing_scripts = []\n    var scripts = document.getElementsByTagName('script')\n    for (var i = 0; i < scripts.length; i++) {\n      var script = scripts[i]\n      if (script.src != null) {\n\texisting_scripts.push(script.src)\n      }\n    }\n    for (var i = 0; i < js_urls.length; i++) {\n      var url = js_urls[i];\n      if (skip.indexOf(url) !== -1 || existing_scripts.indexOf(url) !== -1) {\n\tif (!window.requirejs) {\n\t  on_load();\n\t}\n\tcontinue;\n      }\n      var element = document.createElement('script');\n      element.onload = on_load;\n      element.onerror = on_error;\n      element.async = false;\n      element.src = url;\n      console.debug(\"Bokeh: injecting script tag for BokehJS library: \", url);\n      document.head.appendChild(element);\n    }\n    for (var i = 0; i < js_modules.length; i++) {\n      var url = js_modules[i];\n      if (skip.indexOf(url) !== -1 || existing_scripts.indexOf(url) !== -1) {\n\tif (!window.requirejs) {\n\t  on_load();\n\t}\n\tcontinue;\n      }\n      var element = document.createElement('script');\n      element.onload = on_load;\n      element.onerror = on_error;\n      element.async = false;\n      element.src = url;\n      element.type = \"module\";\n      console.debug(\"Bokeh: injecting script tag for BokehJS library: \", url);\n      document.head.appendChild(element);\n    }\n    for (const name in js_exports) {\n      var url = js_exports[name];\n      if (skip.indexOf(url) >= 0 || root[name] != null) {\n\tif (!window.requirejs) {\n\t  on_load();\n\t}\n\tcontinue;\n      }\n      var element = document.createElement('script');\n      element.onerror = on_error;\n      element.async = false;\n      element.type = \"module\";\n      console.debug(\"Bokeh: injecting script tag for BokehJS library: \", url);\n      element.textContent = `\n      import ${name} from \"${url}\"\n      window.${name} = ${name}\n      window._bokeh_on_load()\n      `\n      document.head.appendChild(element);\n    }\n    if (!js_urls.length && !js_modules.length) {\n      on_load()\n    }\n  };\n\n  function inject_raw_css(css) {\n    const element = document.createElement(\"style\");\n    element.appendChild(document.createTextNode(css));\n    document.body.appendChild(element);\n  }\n\n  var js_urls = [\"https://cdn.bokeh.org/bokeh/release/bokeh-3.1.1.min.js\", \"https://cdn.bokeh.org/bokeh/release/bokeh-gl-3.1.1.min.js\", \"https://cdn.bokeh.org/bokeh/release/bokeh-widgets-3.1.1.min.js\", \"https://cdn.bokeh.org/bokeh/release/bokeh-tables-3.1.1.min.js\", \"https://cdn.holoviz.org/panel/1.1.0/dist/panel.min.js\"];\n  var js_modules = [];\n  var js_exports = {};\n  var css_urls = [];\n  var inline_js = [    function(Bokeh) {\n      Bokeh.set_log_level(\"info\");\n    },\nfunction(Bokeh) {} // ensure no trailing comma for IE\n  ];\n\n  function run_inline_js() {\n    if ((root.Bokeh !== undefined) || (force === true)) {\n      for (var i = 0; i < inline_js.length; i++) {\n        inline_js[i].call(root, root.Bokeh);\n      }\n      // Cache old bokeh versions\n      if (Bokeh != undefined && !reloading) {\n\tvar NewBokeh = root.Bokeh;\n\tif (Bokeh.versions === undefined) {\n\t  Bokeh.versions = new Map();\n\t}\n\tif (NewBokeh.version !== Bokeh.version) {\n\t  Bokeh.versions.set(NewBokeh.version, NewBokeh)\n\t}\n\troot.Bokeh = Bokeh;\n      }} else if (Date.now() < root._bokeh_timeout) {\n      setTimeout(run_inline_js, 100);\n    } else if (!root._bokeh_failed_load) {\n      console.log(\"Bokeh: BokehJS failed to load within specified timeout.\");\n      root._bokeh_failed_load = true;\n    }\n    root._bokeh_is_initializing = false\n  }\n\n  function load_or_wait() {\n    // Implement a backoff loop that tries to ensure we do not load multiple\n    // versions of Bokeh and its dependencies at the same time.\n    // In recent versions we use the root._bokeh_is_initializing flag\n    // to determine whether there is an ongoing attempt to initialize\n    // bokeh, however for backward compatibility we also try to ensure\n    // that we do not start loading a newer (Panel>=1.0 and Bokeh>3) version\n    // before older versions are fully initialized.\n    if (root._bokeh_is_initializing && Date.now() > root._bokeh_timeout) {\n      root._bokeh_is_initializing = false;\n      root._bokeh_onload_callbacks = undefined;\n      console.log(\"Bokeh: BokehJS was loaded multiple times but one version failed to initialize.\");\n      load_or_wait();\n    } else if (root._bokeh_is_initializing || (typeof root._bokeh_is_initializing === \"undefined\" && root._bokeh_onload_callbacks !== undefined)) {\n      setTimeout(load_or_wait, 100);\n    } else {\n      Bokeh = root.Bokeh;\n      bokeh_loaded = Bokeh != null && (Bokeh.version === py_version || (Bokeh.versions !== undefined && Bokeh.versions.has(py_version)));\n      root._bokeh_is_initializing = true\n      root._bokeh_onload_callbacks = []\n      if (!reloading && (!bokeh_loaded || is_dev)) {\n\troot.Bokeh = undefined;\n      }\n      load_libs(css_urls, js_urls, js_modules, js_exports, function() {\n\tconsole.debug(\"Bokeh: BokehJS plotting callback run at\", now());\n\trun_inline_js();\n      });\n    }\n  }\n  // Give older versions of the autoload script a head-start to ensure\n  // they initialize before we start loading newer version.\n  setTimeout(load_or_wait, 100)\n}(window));",
      "application/vnd.holoviews_load.v0+json": ""
     },
     "metadata": {},
     "output_type": "display_data"
    },
    {
     "data": {
      "application/javascript": "(function(root) {\n  function now() {\n    return new Date();\n  }\n\n  var force = true;\n  var py_version = '3.1.1'.replace('rc', '-rc.');\n  var is_dev = py_version.indexOf(\"+\") !== -1 || py_version.indexOf(\"-\") !== -1;\n  var reloading = false;\n  var Bokeh = root.Bokeh;\n  var bokeh_loaded = Bokeh != null && (Bokeh.version === py_version || (Bokeh.versions !== undefined && Bokeh.versions.has(py_version)));\n\n  if (typeof (root._bokeh_timeout) === \"undefined\" || force) {\n    root._bokeh_timeout = Date.now() + 5000;\n    root._bokeh_failed_load = false;\n  }\n\n  function run_callbacks() {\n    try {\n      root._bokeh_onload_callbacks.forEach(function(callback) {\n        if (callback != null)\n          callback();\n      });\n    } finally {\n      delete root._bokeh_onload_callbacks;\n    }\n    console.debug(\"Bokeh: all callbacks have finished\");\n  }\n\n  function load_libs(css_urls, js_urls, js_modules, js_exports, callback) {\n    if (css_urls == null) css_urls = [];\n    if (js_urls == null) js_urls = [];\n    if (js_modules == null) js_modules = [];\n    if (js_exports == null) js_exports = {};\n\n    root._bokeh_onload_callbacks.push(callback);\n\n    if (root._bokeh_is_loading > 0) {\n      console.debug(\"Bokeh: BokehJS is being loaded, scheduling callback at\", now());\n      return null;\n    }\n    if (js_urls.length === 0 && js_modules.length === 0 && Object.keys(js_exports).length === 0) {\n      run_callbacks();\n      return null;\n    }\n    if (!reloading) {\n      console.debug(\"Bokeh: BokehJS not loaded, scheduling load and callback at\", now());\n    }\n\n    function on_load() {\n      root._bokeh_is_loading--;\n      if (root._bokeh_is_loading === 0) {\n        console.debug(\"Bokeh: all BokehJS libraries/stylesheets loaded\");\n        run_callbacks()\n      }\n    }\n    window._bokeh_on_load = on_load\n\n    function on_error() {\n      console.error(\"failed to load \" + url);\n    }\n\n    var skip = [];\n    if (window.requirejs) {\n      window.requirejs.config({'packages': {}, 'paths': {'jspanel': 'https://cdn.jsdelivr.net/npm/jspanel4@4.12.0/dist/jspanel', 'jspanel-modal': 'https://cdn.jsdelivr.net/npm/jspanel4@4.12.0/dist/extensions/modal/jspanel.modal', 'jspanel-tooltip': 'https://cdn.jsdelivr.net/npm/jspanel4@4.12.0/dist/extensions/tooltip/jspanel.tooltip', 'jspanel-hint': 'https://cdn.jsdelivr.net/npm/jspanel4@4.12.0/dist/extensions/hint/jspanel.hint', 'jspanel-layout': 'https://cdn.jsdelivr.net/npm/jspanel4@4.12.0/dist/extensions/layout/jspanel.layout', 'jspanel-contextmenu': 'https://cdn.jsdelivr.net/npm/jspanel4@4.12.0/dist/extensions/contextmenu/jspanel.contextmenu', 'jspanel-dock': 'https://cdn.jsdelivr.net/npm/jspanel4@4.12.0/dist/extensions/dock/jspanel.dock', 'gridstack': 'https://cdn.jsdelivr.net/npm/gridstack@7.2.3/dist/gridstack-all', 'notyf': 'https://cdn.jsdelivr.net/npm/notyf@3/notyf.min'}, 'shim': {'jspanel': {'exports': 'jsPanel'}, 'gridstack': {'exports': 'GridStack'}}});\n      require([\"jspanel\"], function(jsPanel) {\n\twindow.jsPanel = jsPanel\n\ton_load()\n      })\n      require([\"jspanel-modal\"], function() {\n\ton_load()\n      })\n      require([\"jspanel-tooltip\"], function() {\n\ton_load()\n      })\n      require([\"jspanel-hint\"], function() {\n\ton_load()\n      })\n      require([\"jspanel-layout\"], function() {\n\ton_load()\n      })\n      require([\"jspanel-contextmenu\"], function() {\n\ton_load()\n      })\n      require([\"jspanel-dock\"], function() {\n\ton_load()\n      })\n      require([\"gridstack\"], function(GridStack) {\n\twindow.GridStack = GridStack\n\ton_load()\n      })\n      require([\"notyf\"], function() {\n\ton_load()\n      })\n      root._bokeh_is_loading = css_urls.length + 9;\n    } else {\n      root._bokeh_is_loading = css_urls.length + js_urls.length + js_modules.length + Object.keys(js_exports).length;\n    }\n\n    var existing_stylesheets = []\n    var links = document.getElementsByTagName('link')\n    for (var i = 0; i < links.length; i++) {\n      var link = links[i]\n      if (link.href != null) {\n\texisting_stylesheets.push(link.href)\n      }\n    }\n    for (var i = 0; i < css_urls.length; i++) {\n      var url = css_urls[i];\n      if (existing_stylesheets.indexOf(url) !== -1) {\n\ton_load()\n\tcontinue;\n      }\n      const element = document.createElement(\"link\");\n      element.onload = on_load;\n      element.onerror = on_error;\n      element.rel = \"stylesheet\";\n      element.type = \"text/css\";\n      element.href = url;\n      console.debug(\"Bokeh: injecting link tag for BokehJS stylesheet: \", url);\n      document.body.appendChild(element);\n    }    if (((window['jsPanel'] !== undefined) && (!(window['jsPanel'] instanceof HTMLElement))) || window.requirejs) {\n      var urls = ['https://cdn.holoviz.org/panel/1.1.0/dist/bundled/floatpanel/jspanel4@4.12.0/dist/jspanel.js', 'https://cdn.holoviz.org/panel/1.1.0/dist/bundled/floatpanel/jspanel4@4.12.0/dist/extensions/modal/jspanel.modal.js', 'https://cdn.holoviz.org/panel/1.1.0/dist/bundled/floatpanel/jspanel4@4.12.0/dist/extensions/tooltip/jspanel.tooltip.js', 'https://cdn.holoviz.org/panel/1.1.0/dist/bundled/floatpanel/jspanel4@4.12.0/dist/extensions/hint/jspanel.hint.js', 'https://cdn.holoviz.org/panel/1.1.0/dist/bundled/floatpanel/jspanel4@4.12.0/dist/extensions/layout/jspanel.layout.js', 'https://cdn.holoviz.org/panel/1.1.0/dist/bundled/floatpanel/jspanel4@4.12.0/dist/extensions/contextmenu/jspanel.contextmenu.js', 'https://cdn.holoviz.org/panel/1.1.0/dist/bundled/floatpanel/jspanel4@4.12.0/dist/extensions/dock/jspanel.dock.js'];\n      for (var i = 0; i < urls.length; i++) {\n        skip.push(urls[i])\n      }\n    }    if (((window['GridStack'] !== undefined) && (!(window['GridStack'] instanceof HTMLElement))) || window.requirejs) {\n      var urls = ['https://cdn.holoviz.org/panel/1.1.0/dist/bundled/gridstack/gridstack@7.2.3/dist/gridstack-all.js'];\n      for (var i = 0; i < urls.length; i++) {\n        skip.push(urls[i])\n      }\n    }    if (((window['Notyf'] !== undefined) && (!(window['Notyf'] instanceof HTMLElement))) || window.requirejs) {\n      var urls = ['https://cdn.holoviz.org/panel/1.1.0/dist/bundled/notificationarea/notyf@3/notyf.min.js'];\n      for (var i = 0; i < urls.length; i++) {\n        skip.push(urls[i])\n      }\n    }    var existing_scripts = []\n    var scripts = document.getElementsByTagName('script')\n    for (var i = 0; i < scripts.length; i++) {\n      var script = scripts[i]\n      if (script.src != null) {\n\texisting_scripts.push(script.src)\n      }\n    }\n    for (var i = 0; i < js_urls.length; i++) {\n      var url = js_urls[i];\n      if (skip.indexOf(url) !== -1 || existing_scripts.indexOf(url) !== -1) {\n\tif (!window.requirejs) {\n\t  on_load();\n\t}\n\tcontinue;\n      }\n      var element = document.createElement('script');\n      element.onload = on_load;\n      element.onerror = on_error;\n      element.async = false;\n      element.src = url;\n      console.debug(\"Bokeh: injecting script tag for BokehJS library: \", url);\n      document.head.appendChild(element);\n    }\n    for (var i = 0; i < js_modules.length; i++) {\n      var url = js_modules[i];\n      if (skip.indexOf(url) !== -1 || existing_scripts.indexOf(url) !== -1) {\n\tif (!window.requirejs) {\n\t  on_load();\n\t}\n\tcontinue;\n      }\n      var element = document.createElement('script');\n      element.onload = on_load;\n      element.onerror = on_error;\n      element.async = false;\n      element.src = url;\n      element.type = \"module\";\n      console.debug(\"Bokeh: injecting script tag for BokehJS library: \", url);\n      document.head.appendChild(element);\n    }\n    for (const name in js_exports) {\n      var url = js_exports[name];\n      if (skip.indexOf(url) >= 0 || root[name] != null) {\n\tif (!window.requirejs) {\n\t  on_load();\n\t}\n\tcontinue;\n      }\n      var element = document.createElement('script');\n      element.onerror = on_error;\n      element.async = false;\n      element.type = \"module\";\n      console.debug(\"Bokeh: injecting script tag for BokehJS library: \", url);\n      element.textContent = `\n      import ${name} from \"${url}\"\n      window.${name} = ${name}\n      window._bokeh_on_load()\n      `\n      document.head.appendChild(element);\n    }\n    if (!js_urls.length && !js_modules.length) {\n      on_load()\n    }\n  };\n\n  function inject_raw_css(css) {\n    const element = document.createElement(\"style\");\n    element.appendChild(document.createTextNode(css));\n    document.body.appendChild(element);\n  }\n\n  var js_urls = [\"https://cdn.bokeh.org/bokeh/release/bokeh-3.1.1.min.js\", \"https://cdn.bokeh.org/bokeh/release/bokeh-gl-3.1.1.min.js\", \"https://cdn.bokeh.org/bokeh/release/bokeh-widgets-3.1.1.min.js\", \"https://cdn.bokeh.org/bokeh/release/bokeh-tables-3.1.1.min.js\", \"https://cdn.holoviz.org/panel/1.1.0/dist/panel.min.js\"];\n  var js_modules = [];\n  var js_exports = {};\n  var css_urls = [];\n  var inline_js = [    function(Bokeh) {\n      Bokeh.set_log_level(\"info\");\n    },\nfunction(Bokeh) {} // ensure no trailing comma for IE\n  ];\n\n  function run_inline_js() {\n    if ((root.Bokeh !== undefined) || (force === true)) {\n      for (var i = 0; i < inline_js.length; i++) {\n        inline_js[i].call(root, root.Bokeh);\n      }\n      // Cache old bokeh versions\n      if (Bokeh != undefined && !reloading) {\n\tvar NewBokeh = root.Bokeh;\n\tif (Bokeh.versions === undefined) {\n\t  Bokeh.versions = new Map();\n\t}\n\tif (NewBokeh.version !== Bokeh.version) {\n\t  Bokeh.versions.set(NewBokeh.version, NewBokeh)\n\t}\n\troot.Bokeh = Bokeh;\n      }} else if (Date.now() < root._bokeh_timeout) {\n      setTimeout(run_inline_js, 100);\n    } else if (!root._bokeh_failed_load) {\n      console.log(\"Bokeh: BokehJS failed to load within specified timeout.\");\n      root._bokeh_failed_load = true;\n    }\n    root._bokeh_is_initializing = false\n  }\n\n  function load_or_wait() {\n    // Implement a backoff loop that tries to ensure we do not load multiple\n    // versions of Bokeh and its dependencies at the same time.\n    // In recent versions we use the root._bokeh_is_initializing flag\n    // to determine whether there is an ongoing attempt to initialize\n    // bokeh, however for backward compatibility we also try to ensure\n    // that we do not start loading a newer (Panel>=1.0 and Bokeh>3) version\n    // before older versions are fully initialized.\n    if (root._bokeh_is_initializing && Date.now() > root._bokeh_timeout) {\n      root._bokeh_is_initializing = false;\n      root._bokeh_onload_callbacks = undefined;\n      console.log(\"Bokeh: BokehJS was loaded multiple times but one version failed to initialize.\");\n      load_or_wait();\n    } else if (root._bokeh_is_initializing || (typeof root._bokeh_is_initializing === \"undefined\" && root._bokeh_onload_callbacks !== undefined)) {\n      setTimeout(load_or_wait, 100);\n    } else {\n      Bokeh = root.Bokeh;\n      bokeh_loaded = Bokeh != null && (Bokeh.version === py_version || (Bokeh.versions !== undefined && Bokeh.versions.has(py_version)));\n      root._bokeh_is_initializing = true\n      root._bokeh_onload_callbacks = []\n      if (!reloading && (!bokeh_loaded || is_dev)) {\n\troot.Bokeh = undefined;\n      }\n      load_libs(css_urls, js_urls, js_modules, js_exports, function() {\n\tconsole.debug(\"Bokeh: BokehJS plotting callback run at\", now());\n\trun_inline_js();\n      });\n    }\n  }\n  // Give older versions of the autoload script a head-start to ensure\n  // they initialize before we start loading newer version.\n  setTimeout(load_or_wait, 100)\n}(window));",
      "application/vnd.holoviews_load.v0+json": ""
     },
     "metadata": {},
     "output_type": "display_data"
    },
    {
     "data": {
      "application/javascript": "(function(root) {\n  function now() {\n    return new Date();\n  }\n\n  var force = true;\n  var py_version = '3.1.1'.replace('rc', '-rc.');\n  var is_dev = py_version.indexOf(\"+\") !== -1 || py_version.indexOf(\"-\") !== -1;\n  var reloading = false;\n  var Bokeh = root.Bokeh;\n  var bokeh_loaded = Bokeh != null && (Bokeh.version === py_version || (Bokeh.versions !== undefined && Bokeh.versions.has(py_version)));\n\n  if (typeof (root._bokeh_timeout) === \"undefined\" || force) {\n    root._bokeh_timeout = Date.now() + 5000;\n    root._bokeh_failed_load = false;\n  }\n\n  function run_callbacks() {\n    try {\n      root._bokeh_onload_callbacks.forEach(function(callback) {\n        if (callback != null)\n          callback();\n      });\n    } finally {\n      delete root._bokeh_onload_callbacks;\n    }\n    console.debug(\"Bokeh: all callbacks have finished\");\n  }\n\n  function load_libs(css_urls, js_urls, js_modules, js_exports, callback) {\n    if (css_urls == null) css_urls = [];\n    if (js_urls == null) js_urls = [];\n    if (js_modules == null) js_modules = [];\n    if (js_exports == null) js_exports = {};\n\n    root._bokeh_onload_callbacks.push(callback);\n\n    if (root._bokeh_is_loading > 0) {\n      console.debug(\"Bokeh: BokehJS is being loaded, scheduling callback at\", now());\n      return null;\n    }\n    if (js_urls.length === 0 && js_modules.length === 0 && Object.keys(js_exports).length === 0) {\n      run_callbacks();\n      return null;\n    }\n    if (!reloading) {\n      console.debug(\"Bokeh: BokehJS not loaded, scheduling load and callback at\", now());\n    }\n\n    function on_load() {\n      root._bokeh_is_loading--;\n      if (root._bokeh_is_loading === 0) {\n        console.debug(\"Bokeh: all BokehJS libraries/stylesheets loaded\");\n        run_callbacks()\n      }\n    }\n    window._bokeh_on_load = on_load\n\n    function on_error() {\n      console.error(\"failed to load \" + url);\n    }\n\n    var skip = [];\n    if (window.requirejs) {\n      window.requirejs.config({'packages': {}, 'paths': {'jspanel': 'https://cdn.jsdelivr.net/npm/jspanel4@4.12.0/dist/jspanel', 'jspanel-modal': 'https://cdn.jsdelivr.net/npm/jspanel4@4.12.0/dist/extensions/modal/jspanel.modal', 'jspanel-tooltip': 'https://cdn.jsdelivr.net/npm/jspanel4@4.12.0/dist/extensions/tooltip/jspanel.tooltip', 'jspanel-hint': 'https://cdn.jsdelivr.net/npm/jspanel4@4.12.0/dist/extensions/hint/jspanel.hint', 'jspanel-layout': 'https://cdn.jsdelivr.net/npm/jspanel4@4.12.0/dist/extensions/layout/jspanel.layout', 'jspanel-contextmenu': 'https://cdn.jsdelivr.net/npm/jspanel4@4.12.0/dist/extensions/contextmenu/jspanel.contextmenu', 'jspanel-dock': 'https://cdn.jsdelivr.net/npm/jspanel4@4.12.0/dist/extensions/dock/jspanel.dock', 'gridstack': 'https://cdn.jsdelivr.net/npm/gridstack@7.2.3/dist/gridstack-all', 'notyf': 'https://cdn.jsdelivr.net/npm/notyf@3/notyf.min'}, 'shim': {'jspanel': {'exports': 'jsPanel'}, 'gridstack': {'exports': 'GridStack'}}});\n      require([\"jspanel\"], function(jsPanel) {\n\twindow.jsPanel = jsPanel\n\ton_load()\n      })\n      require([\"jspanel-modal\"], function() {\n\ton_load()\n      })\n      require([\"jspanel-tooltip\"], function() {\n\ton_load()\n      })\n      require([\"jspanel-hint\"], function() {\n\ton_load()\n      })\n      require([\"jspanel-layout\"], function() {\n\ton_load()\n      })\n      require([\"jspanel-contextmenu\"], function() {\n\ton_load()\n      })\n      require([\"jspanel-dock\"], function() {\n\ton_load()\n      })\n      require([\"gridstack\"], function(GridStack) {\n\twindow.GridStack = GridStack\n\ton_load()\n      })\n      require([\"notyf\"], function() {\n\ton_load()\n      })\n      root._bokeh_is_loading = css_urls.length + 9;\n    } else {\n      root._bokeh_is_loading = css_urls.length + js_urls.length + js_modules.length + Object.keys(js_exports).length;\n    }\n\n    var existing_stylesheets = []\n    var links = document.getElementsByTagName('link')\n    for (var i = 0; i < links.length; i++) {\n      var link = links[i]\n      if (link.href != null) {\n\texisting_stylesheets.push(link.href)\n      }\n    }\n    for (var i = 0; i < css_urls.length; i++) {\n      var url = css_urls[i];\n      if (existing_stylesheets.indexOf(url) !== -1) {\n\ton_load()\n\tcontinue;\n      }\n      const element = document.createElement(\"link\");\n      element.onload = on_load;\n      element.onerror = on_error;\n      element.rel = \"stylesheet\";\n      element.type = \"text/css\";\n      element.href = url;\n      console.debug(\"Bokeh: injecting link tag for BokehJS stylesheet: \", url);\n      document.body.appendChild(element);\n    }    if (((window['jsPanel'] !== undefined) && (!(window['jsPanel'] instanceof HTMLElement))) || window.requirejs) {\n      var urls = ['https://cdn.holoviz.org/panel/1.1.0/dist/bundled/floatpanel/jspanel4@4.12.0/dist/jspanel.js', 'https://cdn.holoviz.org/panel/1.1.0/dist/bundled/floatpanel/jspanel4@4.12.0/dist/extensions/modal/jspanel.modal.js', 'https://cdn.holoviz.org/panel/1.1.0/dist/bundled/floatpanel/jspanel4@4.12.0/dist/extensions/tooltip/jspanel.tooltip.js', 'https://cdn.holoviz.org/panel/1.1.0/dist/bundled/floatpanel/jspanel4@4.12.0/dist/extensions/hint/jspanel.hint.js', 'https://cdn.holoviz.org/panel/1.1.0/dist/bundled/floatpanel/jspanel4@4.12.0/dist/extensions/layout/jspanel.layout.js', 'https://cdn.holoviz.org/panel/1.1.0/dist/bundled/floatpanel/jspanel4@4.12.0/dist/extensions/contextmenu/jspanel.contextmenu.js', 'https://cdn.holoviz.org/panel/1.1.0/dist/bundled/floatpanel/jspanel4@4.12.0/dist/extensions/dock/jspanel.dock.js'];\n      for (var i = 0; i < urls.length; i++) {\n        skip.push(urls[i])\n      }\n    }    if (((window['GridStack'] !== undefined) && (!(window['GridStack'] instanceof HTMLElement))) || window.requirejs) {\n      var urls = ['https://cdn.holoviz.org/panel/1.1.0/dist/bundled/gridstack/gridstack@7.2.3/dist/gridstack-all.js'];\n      for (var i = 0; i < urls.length; i++) {\n        skip.push(urls[i])\n      }\n    }    if (((window['Notyf'] !== undefined) && (!(window['Notyf'] instanceof HTMLElement))) || window.requirejs) {\n      var urls = ['https://cdn.holoviz.org/panel/1.1.0/dist/bundled/notificationarea/notyf@3/notyf.min.js'];\n      for (var i = 0; i < urls.length; i++) {\n        skip.push(urls[i])\n      }\n    }    var existing_scripts = []\n    var scripts = document.getElementsByTagName('script')\n    for (var i = 0; i < scripts.length; i++) {\n      var script = scripts[i]\n      if (script.src != null) {\n\texisting_scripts.push(script.src)\n      }\n    }\n    for (var i = 0; i < js_urls.length; i++) {\n      var url = js_urls[i];\n      if (skip.indexOf(url) !== -1 || existing_scripts.indexOf(url) !== -1) {\n\tif (!window.requirejs) {\n\t  on_load();\n\t}\n\tcontinue;\n      }\n      var element = document.createElement('script');\n      element.onload = on_load;\n      element.onerror = on_error;\n      element.async = false;\n      element.src = url;\n      console.debug(\"Bokeh: injecting script tag for BokehJS library: \", url);\n      document.head.appendChild(element);\n    }\n    for (var i = 0; i < js_modules.length; i++) {\n      var url = js_modules[i];\n      if (skip.indexOf(url) !== -1 || existing_scripts.indexOf(url) !== -1) {\n\tif (!window.requirejs) {\n\t  on_load();\n\t}\n\tcontinue;\n      }\n      var element = document.createElement('script');\n      element.onload = on_load;\n      element.onerror = on_error;\n      element.async = false;\n      element.src = url;\n      element.type = \"module\";\n      console.debug(\"Bokeh: injecting script tag for BokehJS library: \", url);\n      document.head.appendChild(element);\n    }\n    for (const name in js_exports) {\n      var url = js_exports[name];\n      if (skip.indexOf(url) >= 0 || root[name] != null) {\n\tif (!window.requirejs) {\n\t  on_load();\n\t}\n\tcontinue;\n      }\n      var element = document.createElement('script');\n      element.onerror = on_error;\n      element.async = false;\n      element.type = \"module\";\n      console.debug(\"Bokeh: injecting script tag for BokehJS library: \", url);\n      element.textContent = `\n      import ${name} from \"${url}\"\n      window.${name} = ${name}\n      window._bokeh_on_load()\n      `\n      document.head.appendChild(element);\n    }\n    if (!js_urls.length && !js_modules.length) {\n      on_load()\n    }\n  };\n\n  function inject_raw_css(css) {\n    const element = document.createElement(\"style\");\n    element.appendChild(document.createTextNode(css));\n    document.body.appendChild(element);\n  }\n\n  var js_urls = [\"https://cdn.bokeh.org/bokeh/release/bokeh-3.1.1.min.js\", \"https://cdn.bokeh.org/bokeh/release/bokeh-gl-3.1.1.min.js\", \"https://cdn.bokeh.org/bokeh/release/bokeh-widgets-3.1.1.min.js\", \"https://cdn.bokeh.org/bokeh/release/bokeh-tables-3.1.1.min.js\", \"https://cdn.holoviz.org/panel/1.1.0/dist/panel.min.js\"];\n  var js_modules = [];\n  var js_exports = {};\n  var css_urls = [];\n  var inline_js = [    function(Bokeh) {\n      Bokeh.set_log_level(\"info\");\n    },\nfunction(Bokeh) {} // ensure no trailing comma for IE\n  ];\n\n  function run_inline_js() {\n    if ((root.Bokeh !== undefined) || (force === true)) {\n      for (var i = 0; i < inline_js.length; i++) {\n        inline_js[i].call(root, root.Bokeh);\n      }\n      // Cache old bokeh versions\n      if (Bokeh != undefined && !reloading) {\n\tvar NewBokeh = root.Bokeh;\n\tif (Bokeh.versions === undefined) {\n\t  Bokeh.versions = new Map();\n\t}\n\tif (NewBokeh.version !== Bokeh.version) {\n\t  Bokeh.versions.set(NewBokeh.version, NewBokeh)\n\t}\n\troot.Bokeh = Bokeh;\n      }} else if (Date.now() < root._bokeh_timeout) {\n      setTimeout(run_inline_js, 100);\n    } else if (!root._bokeh_failed_load) {\n      console.log(\"Bokeh: BokehJS failed to load within specified timeout.\");\n      root._bokeh_failed_load = true;\n    }\n    root._bokeh_is_initializing = false\n  }\n\n  function load_or_wait() {\n    // Implement a backoff loop that tries to ensure we do not load multiple\n    // versions of Bokeh and its dependencies at the same time.\n    // In recent versions we use the root._bokeh_is_initializing flag\n    // to determine whether there is an ongoing attempt to initialize\n    // bokeh, however for backward compatibility we also try to ensure\n    // that we do not start loading a newer (Panel>=1.0 and Bokeh>3) version\n    // before older versions are fully initialized.\n    if (root._bokeh_is_initializing && Date.now() > root._bokeh_timeout) {\n      root._bokeh_is_initializing = false;\n      root._bokeh_onload_callbacks = undefined;\n      console.log(\"Bokeh: BokehJS was loaded multiple times but one version failed to initialize.\");\n      load_or_wait();\n    } else if (root._bokeh_is_initializing || (typeof root._bokeh_is_initializing === \"undefined\" && root._bokeh_onload_callbacks !== undefined)) {\n      setTimeout(load_or_wait, 100);\n    } else {\n      Bokeh = root.Bokeh;\n      bokeh_loaded = Bokeh != null && (Bokeh.version === py_version || (Bokeh.versions !== undefined && Bokeh.versions.has(py_version)));\n      root._bokeh_is_initializing = true\n      root._bokeh_onload_callbacks = []\n      if (!reloading && (!bokeh_loaded || is_dev)) {\n\troot.Bokeh = undefined;\n      }\n      load_libs(css_urls, js_urls, js_modules, js_exports, function() {\n\tconsole.debug(\"Bokeh: BokehJS plotting callback run at\", now());\n\trun_inline_js();\n      });\n    }\n  }\n  // Give older versions of the autoload script a head-start to ensure\n  // they initialize before we start loading newer version.\n  setTimeout(load_or_wait, 100)\n}(window));",
      "application/vnd.holoviews_load.v0+json": ""
     },
     "metadata": {},
     "output_type": "display_data"
    },
    {
     "data": {
      "application/javascript": "(function(root) {\n  function now() {\n    return new Date();\n  }\n\n  var force = true;\n  var py_version = '3.1.1'.replace('rc', '-rc.');\n  var is_dev = py_version.indexOf(\"+\") !== -1 || py_version.indexOf(\"-\") !== -1;\n  var reloading = false;\n  var Bokeh = root.Bokeh;\n  var bokeh_loaded = Bokeh != null && (Bokeh.version === py_version || (Bokeh.versions !== undefined && Bokeh.versions.has(py_version)));\n\n  if (typeof (root._bokeh_timeout) === \"undefined\" || force) {\n    root._bokeh_timeout = Date.now() + 5000;\n    root._bokeh_failed_load = false;\n  }\n\n  function run_callbacks() {\n    try {\n      root._bokeh_onload_callbacks.forEach(function(callback) {\n        if (callback != null)\n          callback();\n      });\n    } finally {\n      delete root._bokeh_onload_callbacks;\n    }\n    console.debug(\"Bokeh: all callbacks have finished\");\n  }\n\n  function load_libs(css_urls, js_urls, js_modules, js_exports, callback) {\n    if (css_urls == null) css_urls = [];\n    if (js_urls == null) js_urls = [];\n    if (js_modules == null) js_modules = [];\n    if (js_exports == null) js_exports = {};\n\n    root._bokeh_onload_callbacks.push(callback);\n\n    if (root._bokeh_is_loading > 0) {\n      console.debug(\"Bokeh: BokehJS is being loaded, scheduling callback at\", now());\n      return null;\n    }\n    if (js_urls.length === 0 && js_modules.length === 0 && Object.keys(js_exports).length === 0) {\n      run_callbacks();\n      return null;\n    }\n    if (!reloading) {\n      console.debug(\"Bokeh: BokehJS not loaded, scheduling load and callback at\", now());\n    }\n\n    function on_load() {\n      root._bokeh_is_loading--;\n      if (root._bokeh_is_loading === 0) {\n        console.debug(\"Bokeh: all BokehJS libraries/stylesheets loaded\");\n        run_callbacks()\n      }\n    }\n    window._bokeh_on_load = on_load\n\n    function on_error() {\n      console.error(\"failed to load \" + url);\n    }\n\n    var skip = [];\n    if (window.requirejs) {\n      window.requirejs.config({'packages': {}, 'paths': {'jspanel': 'https://cdn.jsdelivr.net/npm/jspanel4@4.12.0/dist/jspanel', 'jspanel-modal': 'https://cdn.jsdelivr.net/npm/jspanel4@4.12.0/dist/extensions/modal/jspanel.modal', 'jspanel-tooltip': 'https://cdn.jsdelivr.net/npm/jspanel4@4.12.0/dist/extensions/tooltip/jspanel.tooltip', 'jspanel-hint': 'https://cdn.jsdelivr.net/npm/jspanel4@4.12.0/dist/extensions/hint/jspanel.hint', 'jspanel-layout': 'https://cdn.jsdelivr.net/npm/jspanel4@4.12.0/dist/extensions/layout/jspanel.layout', 'jspanel-contextmenu': 'https://cdn.jsdelivr.net/npm/jspanel4@4.12.0/dist/extensions/contextmenu/jspanel.contextmenu', 'jspanel-dock': 'https://cdn.jsdelivr.net/npm/jspanel4@4.12.0/dist/extensions/dock/jspanel.dock', 'gridstack': 'https://cdn.jsdelivr.net/npm/gridstack@7.2.3/dist/gridstack-all', 'notyf': 'https://cdn.jsdelivr.net/npm/notyf@3/notyf.min'}, 'shim': {'jspanel': {'exports': 'jsPanel'}, 'gridstack': {'exports': 'GridStack'}}});\n      require([\"jspanel\"], function(jsPanel) {\n\twindow.jsPanel = jsPanel\n\ton_load()\n      })\n      require([\"jspanel-modal\"], function() {\n\ton_load()\n      })\n      require([\"jspanel-tooltip\"], function() {\n\ton_load()\n      })\n      require([\"jspanel-hint\"], function() {\n\ton_load()\n      })\n      require([\"jspanel-layout\"], function() {\n\ton_load()\n      })\n      require([\"jspanel-contextmenu\"], function() {\n\ton_load()\n      })\n      require([\"jspanel-dock\"], function() {\n\ton_load()\n      })\n      require([\"gridstack\"], function(GridStack) {\n\twindow.GridStack = GridStack\n\ton_load()\n      })\n      require([\"notyf\"], function() {\n\ton_load()\n      })\n      root._bokeh_is_loading = css_urls.length + 9;\n    } else {\n      root._bokeh_is_loading = css_urls.length + js_urls.length + js_modules.length + Object.keys(js_exports).length;\n    }\n\n    var existing_stylesheets = []\n    var links = document.getElementsByTagName('link')\n    for (var i = 0; i < links.length; i++) {\n      var link = links[i]\n      if (link.href != null) {\n\texisting_stylesheets.push(link.href)\n      }\n    }\n    for (var i = 0; i < css_urls.length; i++) {\n      var url = css_urls[i];\n      if (existing_stylesheets.indexOf(url) !== -1) {\n\ton_load()\n\tcontinue;\n      }\n      const element = document.createElement(\"link\");\n      element.onload = on_load;\n      element.onerror = on_error;\n      element.rel = \"stylesheet\";\n      element.type = \"text/css\";\n      element.href = url;\n      console.debug(\"Bokeh: injecting link tag for BokehJS stylesheet: \", url);\n      document.body.appendChild(element);\n    }    if (((window['jsPanel'] !== undefined) && (!(window['jsPanel'] instanceof HTMLElement))) || window.requirejs) {\n      var urls = ['https://cdn.holoviz.org/panel/1.1.0/dist/bundled/floatpanel/jspanel4@4.12.0/dist/jspanel.js', 'https://cdn.holoviz.org/panel/1.1.0/dist/bundled/floatpanel/jspanel4@4.12.0/dist/extensions/modal/jspanel.modal.js', 'https://cdn.holoviz.org/panel/1.1.0/dist/bundled/floatpanel/jspanel4@4.12.0/dist/extensions/tooltip/jspanel.tooltip.js', 'https://cdn.holoviz.org/panel/1.1.0/dist/bundled/floatpanel/jspanel4@4.12.0/dist/extensions/hint/jspanel.hint.js', 'https://cdn.holoviz.org/panel/1.1.0/dist/bundled/floatpanel/jspanel4@4.12.0/dist/extensions/layout/jspanel.layout.js', 'https://cdn.holoviz.org/panel/1.1.0/dist/bundled/floatpanel/jspanel4@4.12.0/dist/extensions/contextmenu/jspanel.contextmenu.js', 'https://cdn.holoviz.org/panel/1.1.0/dist/bundled/floatpanel/jspanel4@4.12.0/dist/extensions/dock/jspanel.dock.js'];\n      for (var i = 0; i < urls.length; i++) {\n        skip.push(urls[i])\n      }\n    }    if (((window['GridStack'] !== undefined) && (!(window['GridStack'] instanceof HTMLElement))) || window.requirejs) {\n      var urls = ['https://cdn.holoviz.org/panel/1.1.0/dist/bundled/gridstack/gridstack@7.2.3/dist/gridstack-all.js'];\n      for (var i = 0; i < urls.length; i++) {\n        skip.push(urls[i])\n      }\n    }    if (((window['Notyf'] !== undefined) && (!(window['Notyf'] instanceof HTMLElement))) || window.requirejs) {\n      var urls = ['https://cdn.holoviz.org/panel/1.1.0/dist/bundled/notificationarea/notyf@3/notyf.min.js'];\n      for (var i = 0; i < urls.length; i++) {\n        skip.push(urls[i])\n      }\n    }    var existing_scripts = []\n    var scripts = document.getElementsByTagName('script')\n    for (var i = 0; i < scripts.length; i++) {\n      var script = scripts[i]\n      if (script.src != null) {\n\texisting_scripts.push(script.src)\n      }\n    }\n    for (var i = 0; i < js_urls.length; i++) {\n      var url = js_urls[i];\n      if (skip.indexOf(url) !== -1 || existing_scripts.indexOf(url) !== -1) {\n\tif (!window.requirejs) {\n\t  on_load();\n\t}\n\tcontinue;\n      }\n      var element = document.createElement('script');\n      element.onload = on_load;\n      element.onerror = on_error;\n      element.async = false;\n      element.src = url;\n      console.debug(\"Bokeh: injecting script tag for BokehJS library: \", url);\n      document.head.appendChild(element);\n    }\n    for (var i = 0; i < js_modules.length; i++) {\n      var url = js_modules[i];\n      if (skip.indexOf(url) !== -1 || existing_scripts.indexOf(url) !== -1) {\n\tif (!window.requirejs) {\n\t  on_load();\n\t}\n\tcontinue;\n      }\n      var element = document.createElement('script');\n      element.onload = on_load;\n      element.onerror = on_error;\n      element.async = false;\n      element.src = url;\n      element.type = \"module\";\n      console.debug(\"Bokeh: injecting script tag for BokehJS library: \", url);\n      document.head.appendChild(element);\n    }\n    for (const name in js_exports) {\n      var url = js_exports[name];\n      if (skip.indexOf(url) >= 0 || root[name] != null) {\n\tif (!window.requirejs) {\n\t  on_load();\n\t}\n\tcontinue;\n      }\n      var element = document.createElement('script');\n      element.onerror = on_error;\n      element.async = false;\n      element.type = \"module\";\n      console.debug(\"Bokeh: injecting script tag for BokehJS library: \", url);\n      element.textContent = `\n      import ${name} from \"${url}\"\n      window.${name} = ${name}\n      window._bokeh_on_load()\n      `\n      document.head.appendChild(element);\n    }\n    if (!js_urls.length && !js_modules.length) {\n      on_load()\n    }\n  };\n\n  function inject_raw_css(css) {\n    const element = document.createElement(\"style\");\n    element.appendChild(document.createTextNode(css));\n    document.body.appendChild(element);\n  }\n\n  var js_urls = [\"https://cdn.bokeh.org/bokeh/release/bokeh-3.1.1.min.js\", \"https://cdn.bokeh.org/bokeh/release/bokeh-gl-3.1.1.min.js\", \"https://cdn.bokeh.org/bokeh/release/bokeh-widgets-3.1.1.min.js\", \"https://cdn.bokeh.org/bokeh/release/bokeh-tables-3.1.1.min.js\", \"https://cdn.holoviz.org/panel/1.1.0/dist/panel.min.js\"];\n  var js_modules = [];\n  var js_exports = {};\n  var css_urls = [];\n  var inline_js = [    function(Bokeh) {\n      Bokeh.set_log_level(\"info\");\n    },\nfunction(Bokeh) {} // ensure no trailing comma for IE\n  ];\n\n  function run_inline_js() {\n    if ((root.Bokeh !== undefined) || (force === true)) {\n      for (var i = 0; i < inline_js.length; i++) {\n        inline_js[i].call(root, root.Bokeh);\n      }\n      // Cache old bokeh versions\n      if (Bokeh != undefined && !reloading) {\n\tvar NewBokeh = root.Bokeh;\n\tif (Bokeh.versions === undefined) {\n\t  Bokeh.versions = new Map();\n\t}\n\tif (NewBokeh.version !== Bokeh.version) {\n\t  Bokeh.versions.set(NewBokeh.version, NewBokeh)\n\t}\n\troot.Bokeh = Bokeh;\n      }} else if (Date.now() < root._bokeh_timeout) {\n      setTimeout(run_inline_js, 100);\n    } else if (!root._bokeh_failed_load) {\n      console.log(\"Bokeh: BokehJS failed to load within specified timeout.\");\n      root._bokeh_failed_load = true;\n    }\n    root._bokeh_is_initializing = false\n  }\n\n  function load_or_wait() {\n    // Implement a backoff loop that tries to ensure we do not load multiple\n    // versions of Bokeh and its dependencies at the same time.\n    // In recent versions we use the root._bokeh_is_initializing flag\n    // to determine whether there is an ongoing attempt to initialize\n    // bokeh, however for backward compatibility we also try to ensure\n    // that we do not start loading a newer (Panel>=1.0 and Bokeh>3) version\n    // before older versions are fully initialized.\n    if (root._bokeh_is_initializing && Date.now() > root._bokeh_timeout) {\n      root._bokeh_is_initializing = false;\n      root._bokeh_onload_callbacks = undefined;\n      console.log(\"Bokeh: BokehJS was loaded multiple times but one version failed to initialize.\");\n      load_or_wait();\n    } else if (root._bokeh_is_initializing || (typeof root._bokeh_is_initializing === \"undefined\" && root._bokeh_onload_callbacks !== undefined)) {\n      setTimeout(load_or_wait, 100);\n    } else {\n      Bokeh = root.Bokeh;\n      bokeh_loaded = Bokeh != null && (Bokeh.version === py_version || (Bokeh.versions !== undefined && Bokeh.versions.has(py_version)));\n      root._bokeh_is_initializing = true\n      root._bokeh_onload_callbacks = []\n      if (!reloading && (!bokeh_loaded || is_dev)) {\n\troot.Bokeh = undefined;\n      }\n      load_libs(css_urls, js_urls, js_modules, js_exports, function() {\n\tconsole.debug(\"Bokeh: BokehJS plotting callback run at\", now());\n\trun_inline_js();\n      });\n    }\n  }\n  // Give older versions of the autoload script a head-start to ensure\n  // they initialize before we start loading newer version.\n  setTimeout(load_or_wait, 100)\n}(window));",
      "application/vnd.holoviews_load.v0+json": ""
     },
     "metadata": {},
     "output_type": "display_data"
    },
    {
     "data": {
      "application/javascript": "(function(root) {\n  function now() {\n    return new Date();\n  }\n\n  var force = true;\n  var py_version = '3.1.1'.replace('rc', '-rc.');\n  var is_dev = py_version.indexOf(\"+\") !== -1 || py_version.indexOf(\"-\") !== -1;\n  var reloading = false;\n  var Bokeh = root.Bokeh;\n  var bokeh_loaded = Bokeh != null && (Bokeh.version === py_version || (Bokeh.versions !== undefined && Bokeh.versions.has(py_version)));\n\n  if (typeof (root._bokeh_timeout) === \"undefined\" || force) {\n    root._bokeh_timeout = Date.now() + 5000;\n    root._bokeh_failed_load = false;\n  }\n\n  function run_callbacks() {\n    try {\n      root._bokeh_onload_callbacks.forEach(function(callback) {\n        if (callback != null)\n          callback();\n      });\n    } finally {\n      delete root._bokeh_onload_callbacks;\n    }\n    console.debug(\"Bokeh: all callbacks have finished\");\n  }\n\n  function load_libs(css_urls, js_urls, js_modules, js_exports, callback) {\n    if (css_urls == null) css_urls = [];\n    if (js_urls == null) js_urls = [];\n    if (js_modules == null) js_modules = [];\n    if (js_exports == null) js_exports = {};\n\n    root._bokeh_onload_callbacks.push(callback);\n\n    if (root._bokeh_is_loading > 0) {\n      console.debug(\"Bokeh: BokehJS is being loaded, scheduling callback at\", now());\n      return null;\n    }\n    if (js_urls.length === 0 && js_modules.length === 0 && Object.keys(js_exports).length === 0) {\n      run_callbacks();\n      return null;\n    }\n    if (!reloading) {\n      console.debug(\"Bokeh: BokehJS not loaded, scheduling load and callback at\", now());\n    }\n\n    function on_load() {\n      root._bokeh_is_loading--;\n      if (root._bokeh_is_loading === 0) {\n        console.debug(\"Bokeh: all BokehJS libraries/stylesheets loaded\");\n        run_callbacks()\n      }\n    }\n    window._bokeh_on_load = on_load\n\n    function on_error() {\n      console.error(\"failed to load \" + url);\n    }\n\n    var skip = [];\n    if (window.requirejs) {\n      window.requirejs.config({'packages': {}, 'paths': {'jspanel': 'https://cdn.jsdelivr.net/npm/jspanel4@4.12.0/dist/jspanel', 'jspanel-modal': 'https://cdn.jsdelivr.net/npm/jspanel4@4.12.0/dist/extensions/modal/jspanel.modal', 'jspanel-tooltip': 'https://cdn.jsdelivr.net/npm/jspanel4@4.12.0/dist/extensions/tooltip/jspanel.tooltip', 'jspanel-hint': 'https://cdn.jsdelivr.net/npm/jspanel4@4.12.0/dist/extensions/hint/jspanel.hint', 'jspanel-layout': 'https://cdn.jsdelivr.net/npm/jspanel4@4.12.0/dist/extensions/layout/jspanel.layout', 'jspanel-contextmenu': 'https://cdn.jsdelivr.net/npm/jspanel4@4.12.0/dist/extensions/contextmenu/jspanel.contextmenu', 'jspanel-dock': 'https://cdn.jsdelivr.net/npm/jspanel4@4.12.0/dist/extensions/dock/jspanel.dock', 'gridstack': 'https://cdn.jsdelivr.net/npm/gridstack@7.2.3/dist/gridstack-all', 'notyf': 'https://cdn.jsdelivr.net/npm/notyf@3/notyf.min'}, 'shim': {'jspanel': {'exports': 'jsPanel'}, 'gridstack': {'exports': 'GridStack'}}});\n      require([\"jspanel\"], function(jsPanel) {\n\twindow.jsPanel = jsPanel\n\ton_load()\n      })\n      require([\"jspanel-modal\"], function() {\n\ton_load()\n      })\n      require([\"jspanel-tooltip\"], function() {\n\ton_load()\n      })\n      require([\"jspanel-hint\"], function() {\n\ton_load()\n      })\n      require([\"jspanel-layout\"], function() {\n\ton_load()\n      })\n      require([\"jspanel-contextmenu\"], function() {\n\ton_load()\n      })\n      require([\"jspanel-dock\"], function() {\n\ton_load()\n      })\n      require([\"gridstack\"], function(GridStack) {\n\twindow.GridStack = GridStack\n\ton_load()\n      })\n      require([\"notyf\"], function() {\n\ton_load()\n      })\n      root._bokeh_is_loading = css_urls.length + 9;\n    } else {\n      root._bokeh_is_loading = css_urls.length + js_urls.length + js_modules.length + Object.keys(js_exports).length;\n    }\n\n    var existing_stylesheets = []\n    var links = document.getElementsByTagName('link')\n    for (var i = 0; i < links.length; i++) {\n      var link = links[i]\n      if (link.href != null) {\n\texisting_stylesheets.push(link.href)\n      }\n    }\n    for (var i = 0; i < css_urls.length; i++) {\n      var url = css_urls[i];\n      if (existing_stylesheets.indexOf(url) !== -1) {\n\ton_load()\n\tcontinue;\n      }\n      const element = document.createElement(\"link\");\n      element.onload = on_load;\n      element.onerror = on_error;\n      element.rel = \"stylesheet\";\n      element.type = \"text/css\";\n      element.href = url;\n      console.debug(\"Bokeh: injecting link tag for BokehJS stylesheet: \", url);\n      document.body.appendChild(element);\n    }    if (((window['jsPanel'] !== undefined) && (!(window['jsPanel'] instanceof HTMLElement))) || window.requirejs) {\n      var urls = ['https://cdn.holoviz.org/panel/1.1.0/dist/bundled/floatpanel/jspanel4@4.12.0/dist/jspanel.js', 'https://cdn.holoviz.org/panel/1.1.0/dist/bundled/floatpanel/jspanel4@4.12.0/dist/extensions/modal/jspanel.modal.js', 'https://cdn.holoviz.org/panel/1.1.0/dist/bundled/floatpanel/jspanel4@4.12.0/dist/extensions/tooltip/jspanel.tooltip.js', 'https://cdn.holoviz.org/panel/1.1.0/dist/bundled/floatpanel/jspanel4@4.12.0/dist/extensions/hint/jspanel.hint.js', 'https://cdn.holoviz.org/panel/1.1.0/dist/bundled/floatpanel/jspanel4@4.12.0/dist/extensions/layout/jspanel.layout.js', 'https://cdn.holoviz.org/panel/1.1.0/dist/bundled/floatpanel/jspanel4@4.12.0/dist/extensions/contextmenu/jspanel.contextmenu.js', 'https://cdn.holoviz.org/panel/1.1.0/dist/bundled/floatpanel/jspanel4@4.12.0/dist/extensions/dock/jspanel.dock.js'];\n      for (var i = 0; i < urls.length; i++) {\n        skip.push(urls[i])\n      }\n    }    if (((window['GridStack'] !== undefined) && (!(window['GridStack'] instanceof HTMLElement))) || window.requirejs) {\n      var urls = ['https://cdn.holoviz.org/panel/1.1.0/dist/bundled/gridstack/gridstack@7.2.3/dist/gridstack-all.js'];\n      for (var i = 0; i < urls.length; i++) {\n        skip.push(urls[i])\n      }\n    }    if (((window['Notyf'] !== undefined) && (!(window['Notyf'] instanceof HTMLElement))) || window.requirejs) {\n      var urls = ['https://cdn.holoviz.org/panel/1.1.0/dist/bundled/notificationarea/notyf@3/notyf.min.js'];\n      for (var i = 0; i < urls.length; i++) {\n        skip.push(urls[i])\n      }\n    }    var existing_scripts = []\n    var scripts = document.getElementsByTagName('script')\n    for (var i = 0; i < scripts.length; i++) {\n      var script = scripts[i]\n      if (script.src != null) {\n\texisting_scripts.push(script.src)\n      }\n    }\n    for (var i = 0; i < js_urls.length; i++) {\n      var url = js_urls[i];\n      if (skip.indexOf(url) !== -1 || existing_scripts.indexOf(url) !== -1) {\n\tif (!window.requirejs) {\n\t  on_load();\n\t}\n\tcontinue;\n      }\n      var element = document.createElement('script');\n      element.onload = on_load;\n      element.onerror = on_error;\n      element.async = false;\n      element.src = url;\n      console.debug(\"Bokeh: injecting script tag for BokehJS library: \", url);\n      document.head.appendChild(element);\n    }\n    for (var i = 0; i < js_modules.length; i++) {\n      var url = js_modules[i];\n      if (skip.indexOf(url) !== -1 || existing_scripts.indexOf(url) !== -1) {\n\tif (!window.requirejs) {\n\t  on_load();\n\t}\n\tcontinue;\n      }\n      var element = document.createElement('script');\n      element.onload = on_load;\n      element.onerror = on_error;\n      element.async = false;\n      element.src = url;\n      element.type = \"module\";\n      console.debug(\"Bokeh: injecting script tag for BokehJS library: \", url);\n      document.head.appendChild(element);\n    }\n    for (const name in js_exports) {\n      var url = js_exports[name];\n      if (skip.indexOf(url) >= 0 || root[name] != null) {\n\tif (!window.requirejs) {\n\t  on_load();\n\t}\n\tcontinue;\n      }\n      var element = document.createElement('script');\n      element.onerror = on_error;\n      element.async = false;\n      element.type = \"module\";\n      console.debug(\"Bokeh: injecting script tag for BokehJS library: \", url);\n      element.textContent = `\n      import ${name} from \"${url}\"\n      window.${name} = ${name}\n      window._bokeh_on_load()\n      `\n      document.head.appendChild(element);\n    }\n    if (!js_urls.length && !js_modules.length) {\n      on_load()\n    }\n  };\n\n  function inject_raw_css(css) {\n    const element = document.createElement(\"style\");\n    element.appendChild(document.createTextNode(css));\n    document.body.appendChild(element);\n  }\n\n  var js_urls = [\"https://cdn.bokeh.org/bokeh/release/bokeh-3.1.1.min.js\", \"https://cdn.bokeh.org/bokeh/release/bokeh-gl-3.1.1.min.js\", \"https://cdn.bokeh.org/bokeh/release/bokeh-widgets-3.1.1.min.js\", \"https://cdn.bokeh.org/bokeh/release/bokeh-tables-3.1.1.min.js\", \"https://cdn.holoviz.org/panel/1.1.0/dist/panel.min.js\"];\n  var js_modules = [];\n  var js_exports = {};\n  var css_urls = [];\n  var inline_js = [    function(Bokeh) {\n      Bokeh.set_log_level(\"info\");\n    },\nfunction(Bokeh) {} // ensure no trailing comma for IE\n  ];\n\n  function run_inline_js() {\n    if ((root.Bokeh !== undefined) || (force === true)) {\n      for (var i = 0; i < inline_js.length; i++) {\n        inline_js[i].call(root, root.Bokeh);\n      }\n      // Cache old bokeh versions\n      if (Bokeh != undefined && !reloading) {\n\tvar NewBokeh = root.Bokeh;\n\tif (Bokeh.versions === undefined) {\n\t  Bokeh.versions = new Map();\n\t}\n\tif (NewBokeh.version !== Bokeh.version) {\n\t  Bokeh.versions.set(NewBokeh.version, NewBokeh)\n\t}\n\troot.Bokeh = Bokeh;\n      }} else if (Date.now() < root._bokeh_timeout) {\n      setTimeout(run_inline_js, 100);\n    } else if (!root._bokeh_failed_load) {\n      console.log(\"Bokeh: BokehJS failed to load within specified timeout.\");\n      root._bokeh_failed_load = true;\n    }\n    root._bokeh_is_initializing = false\n  }\n\n  function load_or_wait() {\n    // Implement a backoff loop that tries to ensure we do not load multiple\n    // versions of Bokeh and its dependencies at the same time.\n    // In recent versions we use the root._bokeh_is_initializing flag\n    // to determine whether there is an ongoing attempt to initialize\n    // bokeh, however for backward compatibility we also try to ensure\n    // that we do not start loading a newer (Panel>=1.0 and Bokeh>3) version\n    // before older versions are fully initialized.\n    if (root._bokeh_is_initializing && Date.now() > root._bokeh_timeout) {\n      root._bokeh_is_initializing = false;\n      root._bokeh_onload_callbacks = undefined;\n      console.log(\"Bokeh: BokehJS was loaded multiple times but one version failed to initialize.\");\n      load_or_wait();\n    } else if (root._bokeh_is_initializing || (typeof root._bokeh_is_initializing === \"undefined\" && root._bokeh_onload_callbacks !== undefined)) {\n      setTimeout(load_or_wait, 100);\n    } else {\n      Bokeh = root.Bokeh;\n      bokeh_loaded = Bokeh != null && (Bokeh.version === py_version || (Bokeh.versions !== undefined && Bokeh.versions.has(py_version)));\n      root._bokeh_is_initializing = true\n      root._bokeh_onload_callbacks = []\n      if (!reloading && (!bokeh_loaded || is_dev)) {\n\troot.Bokeh = undefined;\n      }\n      load_libs(css_urls, js_urls, js_modules, js_exports, function() {\n\tconsole.debug(\"Bokeh: BokehJS plotting callback run at\", now());\n\trun_inline_js();\n      });\n    }\n  }\n  // Give older versions of the autoload script a head-start to ensure\n  // they initialize before we start loading newer version.\n  setTimeout(load_or_wait, 100)\n}(window));",
      "application/vnd.holoviews_load.v0+json": ""
     },
     "metadata": {},
     "output_type": "display_data"
    },
    {
     "data": {
      "application/javascript": "(function(root) {\n  function now() {\n    return new Date();\n  }\n\n  var force = true;\n  var py_version = '3.1.1'.replace('rc', '-rc.');\n  var is_dev = py_version.indexOf(\"+\") !== -1 || py_version.indexOf(\"-\") !== -1;\n  var reloading = false;\n  var Bokeh = root.Bokeh;\n  var bokeh_loaded = Bokeh != null && (Bokeh.version === py_version || (Bokeh.versions !== undefined && Bokeh.versions.has(py_version)));\n\n  if (typeof (root._bokeh_timeout) === \"undefined\" || force) {\n    root._bokeh_timeout = Date.now() + 5000;\n    root._bokeh_failed_load = false;\n  }\n\n  function run_callbacks() {\n    try {\n      root._bokeh_onload_callbacks.forEach(function(callback) {\n        if (callback != null)\n          callback();\n      });\n    } finally {\n      delete root._bokeh_onload_callbacks;\n    }\n    console.debug(\"Bokeh: all callbacks have finished\");\n  }\n\n  function load_libs(css_urls, js_urls, js_modules, js_exports, callback) {\n    if (css_urls == null) css_urls = [];\n    if (js_urls == null) js_urls = [];\n    if (js_modules == null) js_modules = [];\n    if (js_exports == null) js_exports = {};\n\n    root._bokeh_onload_callbacks.push(callback);\n\n    if (root._bokeh_is_loading > 0) {\n      console.debug(\"Bokeh: BokehJS is being loaded, scheduling callback at\", now());\n      return null;\n    }\n    if (js_urls.length === 0 && js_modules.length === 0 && Object.keys(js_exports).length === 0) {\n      run_callbacks();\n      return null;\n    }\n    if (!reloading) {\n      console.debug(\"Bokeh: BokehJS not loaded, scheduling load and callback at\", now());\n    }\n\n    function on_load() {\n      root._bokeh_is_loading--;\n      if (root._bokeh_is_loading === 0) {\n        console.debug(\"Bokeh: all BokehJS libraries/stylesheets loaded\");\n        run_callbacks()\n      }\n    }\n    window._bokeh_on_load = on_load\n\n    function on_error() {\n      console.error(\"failed to load \" + url);\n    }\n\n    var skip = [];\n    if (window.requirejs) {\n      window.requirejs.config({'packages': {}, 'paths': {'jspanel': 'https://cdn.jsdelivr.net/npm/jspanel4@4.12.0/dist/jspanel', 'jspanel-modal': 'https://cdn.jsdelivr.net/npm/jspanel4@4.12.0/dist/extensions/modal/jspanel.modal', 'jspanel-tooltip': 'https://cdn.jsdelivr.net/npm/jspanel4@4.12.0/dist/extensions/tooltip/jspanel.tooltip', 'jspanel-hint': 'https://cdn.jsdelivr.net/npm/jspanel4@4.12.0/dist/extensions/hint/jspanel.hint', 'jspanel-layout': 'https://cdn.jsdelivr.net/npm/jspanel4@4.12.0/dist/extensions/layout/jspanel.layout', 'jspanel-contextmenu': 'https://cdn.jsdelivr.net/npm/jspanel4@4.12.0/dist/extensions/contextmenu/jspanel.contextmenu', 'jspanel-dock': 'https://cdn.jsdelivr.net/npm/jspanel4@4.12.0/dist/extensions/dock/jspanel.dock', 'gridstack': 'https://cdn.jsdelivr.net/npm/gridstack@7.2.3/dist/gridstack-all', 'notyf': 'https://cdn.jsdelivr.net/npm/notyf@3/notyf.min'}, 'shim': {'jspanel': {'exports': 'jsPanel'}, 'gridstack': {'exports': 'GridStack'}}});\n      require([\"jspanel\"], function(jsPanel) {\n\twindow.jsPanel = jsPanel\n\ton_load()\n      })\n      require([\"jspanel-modal\"], function() {\n\ton_load()\n      })\n      require([\"jspanel-tooltip\"], function() {\n\ton_load()\n      })\n      require([\"jspanel-hint\"], function() {\n\ton_load()\n      })\n      require([\"jspanel-layout\"], function() {\n\ton_load()\n      })\n      require([\"jspanel-contextmenu\"], function() {\n\ton_load()\n      })\n      require([\"jspanel-dock\"], function() {\n\ton_load()\n      })\n      require([\"gridstack\"], function(GridStack) {\n\twindow.GridStack = GridStack\n\ton_load()\n      })\n      require([\"notyf\"], function() {\n\ton_load()\n      })\n      root._bokeh_is_loading = css_urls.length + 9;\n    } else {\n      root._bokeh_is_loading = css_urls.length + js_urls.length + js_modules.length + Object.keys(js_exports).length;\n    }\n\n    var existing_stylesheets = []\n    var links = document.getElementsByTagName('link')\n    for (var i = 0; i < links.length; i++) {\n      var link = links[i]\n      if (link.href != null) {\n\texisting_stylesheets.push(link.href)\n      }\n    }\n    for (var i = 0; i < css_urls.length; i++) {\n      var url = css_urls[i];\n      if (existing_stylesheets.indexOf(url) !== -1) {\n\ton_load()\n\tcontinue;\n      }\n      const element = document.createElement(\"link\");\n      element.onload = on_load;\n      element.onerror = on_error;\n      element.rel = \"stylesheet\";\n      element.type = \"text/css\";\n      element.href = url;\n      console.debug(\"Bokeh: injecting link tag for BokehJS stylesheet: \", url);\n      document.body.appendChild(element);\n    }    if (((window['jsPanel'] !== undefined) && (!(window['jsPanel'] instanceof HTMLElement))) || window.requirejs) {\n      var urls = ['https://cdn.holoviz.org/panel/1.1.0/dist/bundled/floatpanel/jspanel4@4.12.0/dist/jspanel.js', 'https://cdn.holoviz.org/panel/1.1.0/dist/bundled/floatpanel/jspanel4@4.12.0/dist/extensions/modal/jspanel.modal.js', 'https://cdn.holoviz.org/panel/1.1.0/dist/bundled/floatpanel/jspanel4@4.12.0/dist/extensions/tooltip/jspanel.tooltip.js', 'https://cdn.holoviz.org/panel/1.1.0/dist/bundled/floatpanel/jspanel4@4.12.0/dist/extensions/hint/jspanel.hint.js', 'https://cdn.holoviz.org/panel/1.1.0/dist/bundled/floatpanel/jspanel4@4.12.0/dist/extensions/layout/jspanel.layout.js', 'https://cdn.holoviz.org/panel/1.1.0/dist/bundled/floatpanel/jspanel4@4.12.0/dist/extensions/contextmenu/jspanel.contextmenu.js', 'https://cdn.holoviz.org/panel/1.1.0/dist/bundled/floatpanel/jspanel4@4.12.0/dist/extensions/dock/jspanel.dock.js'];\n      for (var i = 0; i < urls.length; i++) {\n        skip.push(urls[i])\n      }\n    }    if (((window['GridStack'] !== undefined) && (!(window['GridStack'] instanceof HTMLElement))) || window.requirejs) {\n      var urls = ['https://cdn.holoviz.org/panel/1.1.0/dist/bundled/gridstack/gridstack@7.2.3/dist/gridstack-all.js'];\n      for (var i = 0; i < urls.length; i++) {\n        skip.push(urls[i])\n      }\n    }    if (((window['Notyf'] !== undefined) && (!(window['Notyf'] instanceof HTMLElement))) || window.requirejs) {\n      var urls = ['https://cdn.holoviz.org/panel/1.1.0/dist/bundled/notificationarea/notyf@3/notyf.min.js'];\n      for (var i = 0; i < urls.length; i++) {\n        skip.push(urls[i])\n      }\n    }    var existing_scripts = []\n    var scripts = document.getElementsByTagName('script')\n    for (var i = 0; i < scripts.length; i++) {\n      var script = scripts[i]\n      if (script.src != null) {\n\texisting_scripts.push(script.src)\n      }\n    }\n    for (var i = 0; i < js_urls.length; i++) {\n      var url = js_urls[i];\n      if (skip.indexOf(url) !== -1 || existing_scripts.indexOf(url) !== -1) {\n\tif (!window.requirejs) {\n\t  on_load();\n\t}\n\tcontinue;\n      }\n      var element = document.createElement('script');\n      element.onload = on_load;\n      element.onerror = on_error;\n      element.async = false;\n      element.src = url;\n      console.debug(\"Bokeh: injecting script tag for BokehJS library: \", url);\n      document.head.appendChild(element);\n    }\n    for (var i = 0; i < js_modules.length; i++) {\n      var url = js_modules[i];\n      if (skip.indexOf(url) !== -1 || existing_scripts.indexOf(url) !== -1) {\n\tif (!window.requirejs) {\n\t  on_load();\n\t}\n\tcontinue;\n      }\n      var element = document.createElement('script');\n      element.onload = on_load;\n      element.onerror = on_error;\n      element.async = false;\n      element.src = url;\n      element.type = \"module\";\n      console.debug(\"Bokeh: injecting script tag for BokehJS library: \", url);\n      document.head.appendChild(element);\n    }\n    for (const name in js_exports) {\n      var url = js_exports[name];\n      if (skip.indexOf(url) >= 0 || root[name] != null) {\n\tif (!window.requirejs) {\n\t  on_load();\n\t}\n\tcontinue;\n      }\n      var element = document.createElement('script');\n      element.onerror = on_error;\n      element.async = false;\n      element.type = \"module\";\n      console.debug(\"Bokeh: injecting script tag for BokehJS library: \", url);\n      element.textContent = `\n      import ${name} from \"${url}\"\n      window.${name} = ${name}\n      window._bokeh_on_load()\n      `\n      document.head.appendChild(element);\n    }\n    if (!js_urls.length && !js_modules.length) {\n      on_load()\n    }\n  };\n\n  function inject_raw_css(css) {\n    const element = document.createElement(\"style\");\n    element.appendChild(document.createTextNode(css));\n    document.body.appendChild(element);\n  }\n\n  var js_urls = [\"https://cdn.bokeh.org/bokeh/release/bokeh-3.1.1.min.js\", \"https://cdn.bokeh.org/bokeh/release/bokeh-gl-3.1.1.min.js\", \"https://cdn.bokeh.org/bokeh/release/bokeh-widgets-3.1.1.min.js\", \"https://cdn.bokeh.org/bokeh/release/bokeh-tables-3.1.1.min.js\", \"https://cdn.holoviz.org/panel/1.1.0/dist/panel.min.js\"];\n  var js_modules = [];\n  var js_exports = {};\n  var css_urls = [];\n  var inline_js = [    function(Bokeh) {\n      Bokeh.set_log_level(\"info\");\n    },\nfunction(Bokeh) {} // ensure no trailing comma for IE\n  ];\n\n  function run_inline_js() {\n    if ((root.Bokeh !== undefined) || (force === true)) {\n      for (var i = 0; i < inline_js.length; i++) {\n        inline_js[i].call(root, root.Bokeh);\n      }\n      // Cache old bokeh versions\n      if (Bokeh != undefined && !reloading) {\n\tvar NewBokeh = root.Bokeh;\n\tif (Bokeh.versions === undefined) {\n\t  Bokeh.versions = new Map();\n\t}\n\tif (NewBokeh.version !== Bokeh.version) {\n\t  Bokeh.versions.set(NewBokeh.version, NewBokeh)\n\t}\n\troot.Bokeh = Bokeh;\n      }} else if (Date.now() < root._bokeh_timeout) {\n      setTimeout(run_inline_js, 100);\n    } else if (!root._bokeh_failed_load) {\n      console.log(\"Bokeh: BokehJS failed to load within specified timeout.\");\n      root._bokeh_failed_load = true;\n    }\n    root._bokeh_is_initializing = false\n  }\n\n  function load_or_wait() {\n    // Implement a backoff loop that tries to ensure we do not load multiple\n    // versions of Bokeh and its dependencies at the same time.\n    // In recent versions we use the root._bokeh_is_initializing flag\n    // to determine whether there is an ongoing attempt to initialize\n    // bokeh, however for backward compatibility we also try to ensure\n    // that we do not start loading a newer (Panel>=1.0 and Bokeh>3) version\n    // before older versions are fully initialized.\n    if (root._bokeh_is_initializing && Date.now() > root._bokeh_timeout) {\n      root._bokeh_is_initializing = false;\n      root._bokeh_onload_callbacks = undefined;\n      console.log(\"Bokeh: BokehJS was loaded multiple times but one version failed to initialize.\");\n      load_or_wait();\n    } else if (root._bokeh_is_initializing || (typeof root._bokeh_is_initializing === \"undefined\" && root._bokeh_onload_callbacks !== undefined)) {\n      setTimeout(load_or_wait, 100);\n    } else {\n      Bokeh = root.Bokeh;\n      bokeh_loaded = Bokeh != null && (Bokeh.version === py_version || (Bokeh.versions !== undefined && Bokeh.versions.has(py_version)));\n      root._bokeh_is_initializing = true\n      root._bokeh_onload_callbacks = []\n      if (!reloading && (!bokeh_loaded || is_dev)) {\n\troot.Bokeh = undefined;\n      }\n      load_libs(css_urls, js_urls, js_modules, js_exports, function() {\n\tconsole.debug(\"Bokeh: BokehJS plotting callback run at\", now());\n\trun_inline_js();\n      });\n    }\n  }\n  // Give older versions of the autoload script a head-start to ensure\n  // they initialize before we start loading newer version.\n  setTimeout(load_or_wait, 100)\n}(window));",
      "application/vnd.holoviews_load.v0+json": ""
     },
     "metadata": {},
     "output_type": "display_data"
    },
    {
     "data": {
      "application/javascript": "(function(root) {\n  function now() {\n    return new Date();\n  }\n\n  var force = true;\n  var py_version = '3.1.1'.replace('rc', '-rc.');\n  var is_dev = py_version.indexOf(\"+\") !== -1 || py_version.indexOf(\"-\") !== -1;\n  var reloading = false;\n  var Bokeh = root.Bokeh;\n  var bokeh_loaded = Bokeh != null && (Bokeh.version === py_version || (Bokeh.versions !== undefined && Bokeh.versions.has(py_version)));\n\n  if (typeof (root._bokeh_timeout) === \"undefined\" || force) {\n    root._bokeh_timeout = Date.now() + 5000;\n    root._bokeh_failed_load = false;\n  }\n\n  function run_callbacks() {\n    try {\n      root._bokeh_onload_callbacks.forEach(function(callback) {\n        if (callback != null)\n          callback();\n      });\n    } finally {\n      delete root._bokeh_onload_callbacks;\n    }\n    console.debug(\"Bokeh: all callbacks have finished\");\n  }\n\n  function load_libs(css_urls, js_urls, js_modules, js_exports, callback) {\n    if (css_urls == null) css_urls = [];\n    if (js_urls == null) js_urls = [];\n    if (js_modules == null) js_modules = [];\n    if (js_exports == null) js_exports = {};\n\n    root._bokeh_onload_callbacks.push(callback);\n\n    if (root._bokeh_is_loading > 0) {\n      console.debug(\"Bokeh: BokehJS is being loaded, scheduling callback at\", now());\n      return null;\n    }\n    if (js_urls.length === 0 && js_modules.length === 0 && Object.keys(js_exports).length === 0) {\n      run_callbacks();\n      return null;\n    }\n    if (!reloading) {\n      console.debug(\"Bokeh: BokehJS not loaded, scheduling load and callback at\", now());\n    }\n\n    function on_load() {\n      root._bokeh_is_loading--;\n      if (root._bokeh_is_loading === 0) {\n        console.debug(\"Bokeh: all BokehJS libraries/stylesheets loaded\");\n        run_callbacks()\n      }\n    }\n    window._bokeh_on_load = on_load\n\n    function on_error() {\n      console.error(\"failed to load \" + url);\n    }\n\n    var skip = [];\n    if (window.requirejs) {\n      window.requirejs.config({'packages': {}, 'paths': {'jspanel': 'https://cdn.jsdelivr.net/npm/jspanel4@4.12.0/dist/jspanel', 'jspanel-modal': 'https://cdn.jsdelivr.net/npm/jspanel4@4.12.0/dist/extensions/modal/jspanel.modal', 'jspanel-tooltip': 'https://cdn.jsdelivr.net/npm/jspanel4@4.12.0/dist/extensions/tooltip/jspanel.tooltip', 'jspanel-hint': 'https://cdn.jsdelivr.net/npm/jspanel4@4.12.0/dist/extensions/hint/jspanel.hint', 'jspanel-layout': 'https://cdn.jsdelivr.net/npm/jspanel4@4.12.0/dist/extensions/layout/jspanel.layout', 'jspanel-contextmenu': 'https://cdn.jsdelivr.net/npm/jspanel4@4.12.0/dist/extensions/contextmenu/jspanel.contextmenu', 'jspanel-dock': 'https://cdn.jsdelivr.net/npm/jspanel4@4.12.0/dist/extensions/dock/jspanel.dock', 'gridstack': 'https://cdn.jsdelivr.net/npm/gridstack@7.2.3/dist/gridstack-all', 'notyf': 'https://cdn.jsdelivr.net/npm/notyf@3/notyf.min'}, 'shim': {'jspanel': {'exports': 'jsPanel'}, 'gridstack': {'exports': 'GridStack'}}});\n      require([\"jspanel\"], function(jsPanel) {\n\twindow.jsPanel = jsPanel\n\ton_load()\n      })\n      require([\"jspanel-modal\"], function() {\n\ton_load()\n      })\n      require([\"jspanel-tooltip\"], function() {\n\ton_load()\n      })\n      require([\"jspanel-hint\"], function() {\n\ton_load()\n      })\n      require([\"jspanel-layout\"], function() {\n\ton_load()\n      })\n      require([\"jspanel-contextmenu\"], function() {\n\ton_load()\n      })\n      require([\"jspanel-dock\"], function() {\n\ton_load()\n      })\n      require([\"gridstack\"], function(GridStack) {\n\twindow.GridStack = GridStack\n\ton_load()\n      })\n      require([\"notyf\"], function() {\n\ton_load()\n      })\n      root._bokeh_is_loading = css_urls.length + 9;\n    } else {\n      root._bokeh_is_loading = css_urls.length + js_urls.length + js_modules.length + Object.keys(js_exports).length;\n    }\n\n    var existing_stylesheets = []\n    var links = document.getElementsByTagName('link')\n    for (var i = 0; i < links.length; i++) {\n      var link = links[i]\n      if (link.href != null) {\n\texisting_stylesheets.push(link.href)\n      }\n    }\n    for (var i = 0; i < css_urls.length; i++) {\n      var url = css_urls[i];\n      if (existing_stylesheets.indexOf(url) !== -1) {\n\ton_load()\n\tcontinue;\n      }\n      const element = document.createElement(\"link\");\n      element.onload = on_load;\n      element.onerror = on_error;\n      element.rel = \"stylesheet\";\n      element.type = \"text/css\";\n      element.href = url;\n      console.debug(\"Bokeh: injecting link tag for BokehJS stylesheet: \", url);\n      document.body.appendChild(element);\n    }    if (((window['jsPanel'] !== undefined) && (!(window['jsPanel'] instanceof HTMLElement))) || window.requirejs) {\n      var urls = ['https://cdn.holoviz.org/panel/1.1.0/dist/bundled/floatpanel/jspanel4@4.12.0/dist/jspanel.js', 'https://cdn.holoviz.org/panel/1.1.0/dist/bundled/floatpanel/jspanel4@4.12.0/dist/extensions/modal/jspanel.modal.js', 'https://cdn.holoviz.org/panel/1.1.0/dist/bundled/floatpanel/jspanel4@4.12.0/dist/extensions/tooltip/jspanel.tooltip.js', 'https://cdn.holoviz.org/panel/1.1.0/dist/bundled/floatpanel/jspanel4@4.12.0/dist/extensions/hint/jspanel.hint.js', 'https://cdn.holoviz.org/panel/1.1.0/dist/bundled/floatpanel/jspanel4@4.12.0/dist/extensions/layout/jspanel.layout.js', 'https://cdn.holoviz.org/panel/1.1.0/dist/bundled/floatpanel/jspanel4@4.12.0/dist/extensions/contextmenu/jspanel.contextmenu.js', 'https://cdn.holoviz.org/panel/1.1.0/dist/bundled/floatpanel/jspanel4@4.12.0/dist/extensions/dock/jspanel.dock.js'];\n      for (var i = 0; i < urls.length; i++) {\n        skip.push(urls[i])\n      }\n    }    if (((window['GridStack'] !== undefined) && (!(window['GridStack'] instanceof HTMLElement))) || window.requirejs) {\n      var urls = ['https://cdn.holoviz.org/panel/1.1.0/dist/bundled/gridstack/gridstack@7.2.3/dist/gridstack-all.js'];\n      for (var i = 0; i < urls.length; i++) {\n        skip.push(urls[i])\n      }\n    }    if (((window['Notyf'] !== undefined) && (!(window['Notyf'] instanceof HTMLElement))) || window.requirejs) {\n      var urls = ['https://cdn.holoviz.org/panel/1.1.0/dist/bundled/notificationarea/notyf@3/notyf.min.js'];\n      for (var i = 0; i < urls.length; i++) {\n        skip.push(urls[i])\n      }\n    }    var existing_scripts = []\n    var scripts = document.getElementsByTagName('script')\n    for (var i = 0; i < scripts.length; i++) {\n      var script = scripts[i]\n      if (script.src != null) {\n\texisting_scripts.push(script.src)\n      }\n    }\n    for (var i = 0; i < js_urls.length; i++) {\n      var url = js_urls[i];\n      if (skip.indexOf(url) !== -1 || existing_scripts.indexOf(url) !== -1) {\n\tif (!window.requirejs) {\n\t  on_load();\n\t}\n\tcontinue;\n      }\n      var element = document.createElement('script');\n      element.onload = on_load;\n      element.onerror = on_error;\n      element.async = false;\n      element.src = url;\n      console.debug(\"Bokeh: injecting script tag for BokehJS library: \", url);\n      document.head.appendChild(element);\n    }\n    for (var i = 0; i < js_modules.length; i++) {\n      var url = js_modules[i];\n      if (skip.indexOf(url) !== -1 || existing_scripts.indexOf(url) !== -1) {\n\tif (!window.requirejs) {\n\t  on_load();\n\t}\n\tcontinue;\n      }\n      var element = document.createElement('script');\n      element.onload = on_load;\n      element.onerror = on_error;\n      element.async = false;\n      element.src = url;\n      element.type = \"module\";\n      console.debug(\"Bokeh: injecting script tag for BokehJS library: \", url);\n      document.head.appendChild(element);\n    }\n    for (const name in js_exports) {\n      var url = js_exports[name];\n      if (skip.indexOf(url) >= 0 || root[name] != null) {\n\tif (!window.requirejs) {\n\t  on_load();\n\t}\n\tcontinue;\n      }\n      var element = document.createElement('script');\n      element.onerror = on_error;\n      element.async = false;\n      element.type = \"module\";\n      console.debug(\"Bokeh: injecting script tag for BokehJS library: \", url);\n      element.textContent = `\n      import ${name} from \"${url}\"\n      window.${name} = ${name}\n      window._bokeh_on_load()\n      `\n      document.head.appendChild(element);\n    }\n    if (!js_urls.length && !js_modules.length) {\n      on_load()\n    }\n  };\n\n  function inject_raw_css(css) {\n    const element = document.createElement(\"style\");\n    element.appendChild(document.createTextNode(css));\n    document.body.appendChild(element);\n  }\n\n  var js_urls = [\"https://cdn.bokeh.org/bokeh/release/bokeh-3.1.1.min.js\", \"https://cdn.bokeh.org/bokeh/release/bokeh-gl-3.1.1.min.js\", \"https://cdn.bokeh.org/bokeh/release/bokeh-widgets-3.1.1.min.js\", \"https://cdn.bokeh.org/bokeh/release/bokeh-tables-3.1.1.min.js\", \"https://cdn.holoviz.org/panel/1.1.0/dist/panel.min.js\"];\n  var js_modules = [];\n  var js_exports = {};\n  var css_urls = [];\n  var inline_js = [    function(Bokeh) {\n      Bokeh.set_log_level(\"info\");\n    },\nfunction(Bokeh) {} // ensure no trailing comma for IE\n  ];\n\n  function run_inline_js() {\n    if ((root.Bokeh !== undefined) || (force === true)) {\n      for (var i = 0; i < inline_js.length; i++) {\n        inline_js[i].call(root, root.Bokeh);\n      }\n      // Cache old bokeh versions\n      if (Bokeh != undefined && !reloading) {\n\tvar NewBokeh = root.Bokeh;\n\tif (Bokeh.versions === undefined) {\n\t  Bokeh.versions = new Map();\n\t}\n\tif (NewBokeh.version !== Bokeh.version) {\n\t  Bokeh.versions.set(NewBokeh.version, NewBokeh)\n\t}\n\troot.Bokeh = Bokeh;\n      }} else if (Date.now() < root._bokeh_timeout) {\n      setTimeout(run_inline_js, 100);\n    } else if (!root._bokeh_failed_load) {\n      console.log(\"Bokeh: BokehJS failed to load within specified timeout.\");\n      root._bokeh_failed_load = true;\n    }\n    root._bokeh_is_initializing = false\n  }\n\n  function load_or_wait() {\n    // Implement a backoff loop that tries to ensure we do not load multiple\n    // versions of Bokeh and its dependencies at the same time.\n    // In recent versions we use the root._bokeh_is_initializing flag\n    // to determine whether there is an ongoing attempt to initialize\n    // bokeh, however for backward compatibility we also try to ensure\n    // that we do not start loading a newer (Panel>=1.0 and Bokeh>3) version\n    // before older versions are fully initialized.\n    if (root._bokeh_is_initializing && Date.now() > root._bokeh_timeout) {\n      root._bokeh_is_initializing = false;\n      root._bokeh_onload_callbacks = undefined;\n      console.log(\"Bokeh: BokehJS was loaded multiple times but one version failed to initialize.\");\n      load_or_wait();\n    } else if (root._bokeh_is_initializing || (typeof root._bokeh_is_initializing === \"undefined\" && root._bokeh_onload_callbacks !== undefined)) {\n      setTimeout(load_or_wait, 100);\n    } else {\n      Bokeh = root.Bokeh;\n      bokeh_loaded = Bokeh != null && (Bokeh.version === py_version || (Bokeh.versions !== undefined && Bokeh.versions.has(py_version)));\n      root._bokeh_is_initializing = true\n      root._bokeh_onload_callbacks = []\n      if (!reloading && (!bokeh_loaded || is_dev)) {\n\troot.Bokeh = undefined;\n      }\n      load_libs(css_urls, js_urls, js_modules, js_exports, function() {\n\tconsole.debug(\"Bokeh: BokehJS plotting callback run at\", now());\n\trun_inline_js();\n      });\n    }\n  }\n  // Give older versions of the autoload script a head-start to ensure\n  // they initialize before we start loading newer version.\n  setTimeout(load_or_wait, 100)\n}(window));",
      "application/vnd.holoviews_load.v0+json": ""
     },
     "metadata": {},
     "output_type": "display_data"
    },
    {
     "data": {
      "application/javascript": "\nif ((window.PyViz === undefined) || (window.PyViz instanceof HTMLElement)) {\n  window.PyViz = {comms: {}, comm_status:{}, kernels:{}, receivers: {}, plot_index: []}\n}\n\n\n    function JupyterCommManager() {\n    }\n\n    JupyterCommManager.prototype.register_target = function(plot_id, comm_id, msg_handler) {\n      if (window.comm_manager || ((window.Jupyter !== undefined) && (Jupyter.notebook.kernel != null))) {\n        var comm_manager = window.comm_manager || Jupyter.notebook.kernel.comm_manager;\n        comm_manager.register_target(comm_id, function(comm) {\n          comm.on_msg(msg_handler);\n        });\n      } else if ((plot_id in window.PyViz.kernels) && (window.PyViz.kernels[plot_id])) {\n        window.PyViz.kernels[plot_id].registerCommTarget(comm_id, function(comm) {\n          comm.onMsg = msg_handler;\n        });\n      } else if (typeof google != 'undefined' && google.colab.kernel != null) {\n        google.colab.kernel.comms.registerTarget(comm_id, (comm) => {\n          var messages = comm.messages[Symbol.asyncIterator]();\n          function processIteratorResult(result) {\n            var message = result.value;\n            console.log(message)\n            var content = {data: message.data, comm_id};\n            var buffers = []\n            for (var buffer of message.buffers || []) {\n              buffers.push(new DataView(buffer))\n            }\n            var metadata = message.metadata || {};\n            var msg = {content, buffers, metadata}\n            msg_handler(msg);\n            return messages.next().then(processIteratorResult);\n          }\n          return messages.next().then(processIteratorResult);\n        })\n      }\n    }\n\n    JupyterCommManager.prototype.get_client_comm = function(plot_id, comm_id, msg_handler) {\n      if (comm_id in window.PyViz.comms) {\n        return window.PyViz.comms[comm_id];\n      } else if (window.comm_manager || ((window.Jupyter !== undefined) && (Jupyter.notebook.kernel != null))) {\n        var comm_manager = window.comm_manager || Jupyter.notebook.kernel.comm_manager;\n        var comm = comm_manager.new_comm(comm_id, {}, {}, {}, comm_id);\n        if (msg_handler) {\n          comm.on_msg(msg_handler);\n        }\n      } else if ((plot_id in window.PyViz.kernels) && (window.PyViz.kernels[plot_id])) {\n        var comm = window.PyViz.kernels[plot_id].connectToComm(comm_id);\n        comm.open();\n        if (msg_handler) {\n          comm.onMsg = msg_handler;\n        }\n      } else if (typeof google != 'undefined' && google.colab.kernel != null) {\n        var comm_promise = google.colab.kernel.comms.open(comm_id)\n        comm_promise.then((comm) => {\n          window.PyViz.comms[comm_id] = comm;\n          if (msg_handler) {\n            var messages = comm.messages[Symbol.asyncIterator]();\n            function processIteratorResult(result) {\n              var message = result.value;\n              var content = {data: message.data};\n              var metadata = message.metadata || {comm_id};\n              var msg = {content, metadata}\n              msg_handler(msg);\n              return messages.next().then(processIteratorResult);\n            }\n            return messages.next().then(processIteratorResult);\n          }\n        }) \n        var sendClosure = (data, metadata, buffers, disposeOnDone) => {\n          return comm_promise.then((comm) => {\n            comm.send(data, metadata, buffers, disposeOnDone);\n          });\n        };\n        var comm = {\n          send: sendClosure\n        };\n      }\n      window.PyViz.comms[comm_id] = comm;\n      return comm;\n    }\n    window.PyViz.comm_manager = new JupyterCommManager();\n    \n\n\nvar JS_MIME_TYPE = 'application/javascript';\nvar HTML_MIME_TYPE = 'text/html';\nvar EXEC_MIME_TYPE = 'application/vnd.holoviews_exec.v0+json';\nvar CLASS_NAME = 'output';\n\n/**\n * Render data to the DOM node\n */\nfunction render(props, node) {\n  var div = document.createElement(\"div\");\n  var script = document.createElement(\"script\");\n  node.appendChild(div);\n  node.appendChild(script);\n}\n\n/**\n * Handle when a new output is added\n */\nfunction handle_add_output(event, handle) {\n  var output_area = handle.output_area;\n  var output = handle.output;\n  if ((output.data == undefined) || (!output.data.hasOwnProperty(EXEC_MIME_TYPE))) {\n    return\n  }\n  var id = output.metadata[EXEC_MIME_TYPE][\"id\"];\n  var toinsert = output_area.element.find(\".\" + CLASS_NAME.split(' ')[0]);\n  if (id !== undefined) {\n    var nchildren = toinsert.length;\n    var html_node = toinsert[nchildren-1].children[0];\n    html_node.innerHTML = output.data[HTML_MIME_TYPE];\n    var scripts = [];\n    var nodelist = html_node.querySelectorAll(\"script\");\n    for (var i in nodelist) {\n      if (nodelist.hasOwnProperty(i)) {\n        scripts.push(nodelist[i])\n      }\n    }\n\n    scripts.forEach( function (oldScript) {\n      var newScript = document.createElement(\"script\");\n      var attrs = [];\n      var nodemap = oldScript.attributes;\n      for (var j in nodemap) {\n        if (nodemap.hasOwnProperty(j)) {\n          attrs.push(nodemap[j])\n        }\n      }\n      attrs.forEach(function(attr) { newScript.setAttribute(attr.name, attr.value) });\n      newScript.appendChild(document.createTextNode(oldScript.innerHTML));\n      oldScript.parentNode.replaceChild(newScript, oldScript);\n    });\n    if (JS_MIME_TYPE in output.data) {\n      toinsert[nchildren-1].children[1].textContent = output.data[JS_MIME_TYPE];\n    }\n    output_area._hv_plot_id = id;\n    if ((window.Bokeh !== undefined) && (id in Bokeh.index)) {\n      window.PyViz.plot_index[id] = Bokeh.index[id];\n    } else {\n      window.PyViz.plot_index[id] = null;\n    }\n  } else if (output.metadata[EXEC_MIME_TYPE][\"server_id\"] !== undefined) {\n    var bk_div = document.createElement(\"div\");\n    bk_div.innerHTML = output.data[HTML_MIME_TYPE];\n    var script_attrs = bk_div.children[0].attributes;\n    for (var i = 0; i < script_attrs.length; i++) {\n      toinsert[toinsert.length - 1].childNodes[1].setAttribute(script_attrs[i].name, script_attrs[i].value);\n    }\n    // store reference to server id on output_area\n    output_area._bokeh_server_id = output.metadata[EXEC_MIME_TYPE][\"server_id\"];\n  }\n}\n\n/**\n * Handle when an output is cleared or removed\n */\nfunction handle_clear_output(event, handle) {\n  var id = handle.cell.output_area._hv_plot_id;\n  var server_id = handle.cell.output_area._bokeh_server_id;\n  if (((id === undefined) || !(id in PyViz.plot_index)) && (server_id !== undefined)) { return; }\n  var comm = window.PyViz.comm_manager.get_client_comm(\"hv-extension-comm\", \"hv-extension-comm\", function () {});\n  if (server_id !== null) {\n    comm.send({event_type: 'server_delete', 'id': server_id});\n    return;\n  } else if (comm !== null) {\n    comm.send({event_type: 'delete', 'id': id});\n  }\n  delete PyViz.plot_index[id];\n  if ((window.Bokeh !== undefined) & (id in window.Bokeh.index)) {\n    var doc = window.Bokeh.index[id].model.document\n    doc.clear();\n    const i = window.Bokeh.documents.indexOf(doc);\n    if (i > -1) {\n      window.Bokeh.documents.splice(i, 1);\n    }\n  }\n}\n\n/**\n * Handle kernel restart event\n */\nfunction handle_kernel_cleanup(event, handle) {\n  delete PyViz.comms[\"hv-extension-comm\"];\n  window.PyViz.plot_index = {}\n}\n\n/**\n * Handle update_display_data messages\n */\nfunction handle_update_output(event, handle) {\n  handle_clear_output(event, {cell: {output_area: handle.output_area}})\n  handle_add_output(event, handle)\n}\n\nfunction register_renderer(events, OutputArea) {\n  function append_mime(data, metadata, element) {\n    // create a DOM node to render to\n    var toinsert = this.create_output_subarea(\n    metadata,\n    CLASS_NAME,\n    EXEC_MIME_TYPE\n    );\n    this.keyboard_manager.register_events(toinsert);\n    // Render to node\n    var props = {data: data, metadata: metadata[EXEC_MIME_TYPE]};\n    render(props, toinsert[0]);\n    element.append(toinsert);\n    return toinsert\n  }\n\n  events.on('output_added.OutputArea', handle_add_output);\n  events.on('output_updated.OutputArea', handle_update_output);\n  events.on('clear_output.CodeCell', handle_clear_output);\n  events.on('delete.Cell', handle_clear_output);\n  events.on('kernel_ready.Kernel', handle_kernel_cleanup);\n\n  OutputArea.prototype.register_mime_type(EXEC_MIME_TYPE, append_mime, {\n    safe: true,\n    index: 0\n  });\n}\n\nif (window.Jupyter !== undefined) {\n  try {\n    var events = require('base/js/events');\n    var OutputArea = require('notebook/js/outputarea').OutputArea;\n    if (OutputArea.prototype.mime_types().indexOf(EXEC_MIME_TYPE) == -1) {\n      register_renderer(events, OutputArea);\n    }\n  } catch(err) {\n  }\n}\n",
      "application/vnd.holoviews_load.v0+json": ""
     },
     "metadata": {},
     "output_type": "display_data"
    },
    {
     "data": {
      "application/javascript": "\nif ((window.PyViz === undefined) || (window.PyViz instanceof HTMLElement)) {\n  window.PyViz = {comms: {}, comm_status:{}, kernels:{}, receivers: {}, plot_index: []}\n}\n\n\n    function JupyterCommManager() {\n    }\n\n    JupyterCommManager.prototype.register_target = function(plot_id, comm_id, msg_handler) {\n      if (window.comm_manager || ((window.Jupyter !== undefined) && (Jupyter.notebook.kernel != null))) {\n        var comm_manager = window.comm_manager || Jupyter.notebook.kernel.comm_manager;\n        comm_manager.register_target(comm_id, function(comm) {\n          comm.on_msg(msg_handler);\n        });\n      } else if ((plot_id in window.PyViz.kernels) && (window.PyViz.kernels[plot_id])) {\n        window.PyViz.kernels[plot_id].registerCommTarget(comm_id, function(comm) {\n          comm.onMsg = msg_handler;\n        });\n      } else if (typeof google != 'undefined' && google.colab.kernel != null) {\n        google.colab.kernel.comms.registerTarget(comm_id, (comm) => {\n          var messages = comm.messages[Symbol.asyncIterator]();\n          function processIteratorResult(result) {\n            var message = result.value;\n            console.log(message)\n            var content = {data: message.data, comm_id};\n            var buffers = []\n            for (var buffer of message.buffers || []) {\n              buffers.push(new DataView(buffer))\n            }\n            var metadata = message.metadata || {};\n            var msg = {content, buffers, metadata}\n            msg_handler(msg);\n            return messages.next().then(processIteratorResult);\n          }\n          return messages.next().then(processIteratorResult);\n        })\n      }\n    }\n\n    JupyterCommManager.prototype.get_client_comm = function(plot_id, comm_id, msg_handler) {\n      if (comm_id in window.PyViz.comms) {\n        return window.PyViz.comms[comm_id];\n      } else if (window.comm_manager || ((window.Jupyter !== undefined) && (Jupyter.notebook.kernel != null))) {\n        var comm_manager = window.comm_manager || Jupyter.notebook.kernel.comm_manager;\n        var comm = comm_manager.new_comm(comm_id, {}, {}, {}, comm_id);\n        if (msg_handler) {\n          comm.on_msg(msg_handler);\n        }\n      } else if ((plot_id in window.PyViz.kernels) && (window.PyViz.kernels[plot_id])) {\n        var comm = window.PyViz.kernels[plot_id].connectToComm(comm_id);\n        comm.open();\n        if (msg_handler) {\n          comm.onMsg = msg_handler;\n        }\n      } else if (typeof google != 'undefined' && google.colab.kernel != null) {\n        var comm_promise = google.colab.kernel.comms.open(comm_id)\n        comm_promise.then((comm) => {\n          window.PyViz.comms[comm_id] = comm;\n          if (msg_handler) {\n            var messages = comm.messages[Symbol.asyncIterator]();\n            function processIteratorResult(result) {\n              var message = result.value;\n              var content = {data: message.data};\n              var metadata = message.metadata || {comm_id};\n              var msg = {content, metadata}\n              msg_handler(msg);\n              return messages.next().then(processIteratorResult);\n            }\n            return messages.next().then(processIteratorResult);\n          }\n        }) \n        var sendClosure = (data, metadata, buffers, disposeOnDone) => {\n          return comm_promise.then((comm) => {\n            comm.send(data, metadata, buffers, disposeOnDone);\n          });\n        };\n        var comm = {\n          send: sendClosure\n        };\n      }\n      window.PyViz.comms[comm_id] = comm;\n      return comm;\n    }\n    window.PyViz.comm_manager = new JupyterCommManager();\n    \n\n\nvar JS_MIME_TYPE = 'application/javascript';\nvar HTML_MIME_TYPE = 'text/html';\nvar EXEC_MIME_TYPE = 'application/vnd.holoviews_exec.v0+json';\nvar CLASS_NAME = 'output';\n\n/**\n * Render data to the DOM node\n */\nfunction render(props, node) {\n  var div = document.createElement(\"div\");\n  var script = document.createElement(\"script\");\n  node.appendChild(div);\n  node.appendChild(script);\n}\n\n/**\n * Handle when a new output is added\n */\nfunction handle_add_output(event, handle) {\n  var output_area = handle.output_area;\n  var output = handle.output;\n  if ((output.data == undefined) || (!output.data.hasOwnProperty(EXEC_MIME_TYPE))) {\n    return\n  }\n  var id = output.metadata[EXEC_MIME_TYPE][\"id\"];\n  var toinsert = output_area.element.find(\".\" + CLASS_NAME.split(' ')[0]);\n  if (id !== undefined) {\n    var nchildren = toinsert.length;\n    var html_node = toinsert[nchildren-1].children[0];\n    html_node.innerHTML = output.data[HTML_MIME_TYPE];\n    var scripts = [];\n    var nodelist = html_node.querySelectorAll(\"script\");\n    for (var i in nodelist) {\n      if (nodelist.hasOwnProperty(i)) {\n        scripts.push(nodelist[i])\n      }\n    }\n\n    scripts.forEach( function (oldScript) {\n      var newScript = document.createElement(\"script\");\n      var attrs = [];\n      var nodemap = oldScript.attributes;\n      for (var j in nodemap) {\n        if (nodemap.hasOwnProperty(j)) {\n          attrs.push(nodemap[j])\n        }\n      }\n      attrs.forEach(function(attr) { newScript.setAttribute(attr.name, attr.value) });\n      newScript.appendChild(document.createTextNode(oldScript.innerHTML));\n      oldScript.parentNode.replaceChild(newScript, oldScript);\n    });\n    if (JS_MIME_TYPE in output.data) {\n      toinsert[nchildren-1].children[1].textContent = output.data[JS_MIME_TYPE];\n    }\n    output_area._hv_plot_id = id;\n    if ((window.Bokeh !== undefined) && (id in Bokeh.index)) {\n      window.PyViz.plot_index[id] = Bokeh.index[id];\n    } else {\n      window.PyViz.plot_index[id] = null;\n    }\n  } else if (output.metadata[EXEC_MIME_TYPE][\"server_id\"] !== undefined) {\n    var bk_div = document.createElement(\"div\");\n    bk_div.innerHTML = output.data[HTML_MIME_TYPE];\n    var script_attrs = bk_div.children[0].attributes;\n    for (var i = 0; i < script_attrs.length; i++) {\n      toinsert[toinsert.length - 1].childNodes[1].setAttribute(script_attrs[i].name, script_attrs[i].value);\n    }\n    // store reference to server id on output_area\n    output_area._bokeh_server_id = output.metadata[EXEC_MIME_TYPE][\"server_id\"];\n  }\n}\n\n/**\n * Handle when an output is cleared or removed\n */\nfunction handle_clear_output(event, handle) {\n  var id = handle.cell.output_area._hv_plot_id;\n  var server_id = handle.cell.output_area._bokeh_server_id;\n  if (((id === undefined) || !(id in PyViz.plot_index)) && (server_id !== undefined)) { return; }\n  var comm = window.PyViz.comm_manager.get_client_comm(\"hv-extension-comm\", \"hv-extension-comm\", function () {});\n  if (server_id !== null) {\n    comm.send({event_type: 'server_delete', 'id': server_id});\n    return;\n  } else if (comm !== null) {\n    comm.send({event_type: 'delete', 'id': id});\n  }\n  delete PyViz.plot_index[id];\n  if ((window.Bokeh !== undefined) & (id in window.Bokeh.index)) {\n    var doc = window.Bokeh.index[id].model.document\n    doc.clear();\n    const i = window.Bokeh.documents.indexOf(doc);\n    if (i > -1) {\n      window.Bokeh.documents.splice(i, 1);\n    }\n  }\n}\n\n/**\n * Handle kernel restart event\n */\nfunction handle_kernel_cleanup(event, handle) {\n  delete PyViz.comms[\"hv-extension-comm\"];\n  window.PyViz.plot_index = {}\n}\n\n/**\n * Handle update_display_data messages\n */\nfunction handle_update_output(event, handle) {\n  handle_clear_output(event, {cell: {output_area: handle.output_area}})\n  handle_add_output(event, handle)\n}\n\nfunction register_renderer(events, OutputArea) {\n  function append_mime(data, metadata, element) {\n    // create a DOM node to render to\n    var toinsert = this.create_output_subarea(\n    metadata,\n    CLASS_NAME,\n    EXEC_MIME_TYPE\n    );\n    this.keyboard_manager.register_events(toinsert);\n    // Render to node\n    var props = {data: data, metadata: metadata[EXEC_MIME_TYPE]};\n    render(props, toinsert[0]);\n    element.append(toinsert);\n    return toinsert\n  }\n\n  events.on('output_added.OutputArea', handle_add_output);\n  events.on('output_updated.OutputArea', handle_update_output);\n  events.on('clear_output.CodeCell', handle_clear_output);\n  events.on('delete.Cell', handle_clear_output);\n  events.on('kernel_ready.Kernel', handle_kernel_cleanup);\n\n  OutputArea.prototype.register_mime_type(EXEC_MIME_TYPE, append_mime, {\n    safe: true,\n    index: 0\n  });\n}\n\nif (window.Jupyter !== undefined) {\n  try {\n    var events = require('base/js/events');\n    var OutputArea = require('notebook/js/outputarea').OutputArea;\n    if (OutputArea.prototype.mime_types().indexOf(EXEC_MIME_TYPE) == -1) {\n      register_renderer(events, OutputArea);\n    }\n  } catch(err) {\n  }\n}\n",
      "application/vnd.holoviews_load.v0+json": ""
     },
     "metadata": {},
     "output_type": "display_data"
    },
    {
     "data": {
      "application/javascript": "\nif ((window.PyViz === undefined) || (window.PyViz instanceof HTMLElement)) {\n  window.PyViz = {comms: {}, comm_status:{}, kernels:{}, receivers: {}, plot_index: []}\n}\n\n\n    function JupyterCommManager() {\n    }\n\n    JupyterCommManager.prototype.register_target = function(plot_id, comm_id, msg_handler) {\n      if (window.comm_manager || ((window.Jupyter !== undefined) && (Jupyter.notebook.kernel != null))) {\n        var comm_manager = window.comm_manager || Jupyter.notebook.kernel.comm_manager;\n        comm_manager.register_target(comm_id, function(comm) {\n          comm.on_msg(msg_handler);\n        });\n      } else if ((plot_id in window.PyViz.kernels) && (window.PyViz.kernels[plot_id])) {\n        window.PyViz.kernels[plot_id].registerCommTarget(comm_id, function(comm) {\n          comm.onMsg = msg_handler;\n        });\n      } else if (typeof google != 'undefined' && google.colab.kernel != null) {\n        google.colab.kernel.comms.registerTarget(comm_id, (comm) => {\n          var messages = comm.messages[Symbol.asyncIterator]();\n          function processIteratorResult(result) {\n            var message = result.value;\n            console.log(message)\n            var content = {data: message.data, comm_id};\n            var buffers = []\n            for (var buffer of message.buffers || []) {\n              buffers.push(new DataView(buffer))\n            }\n            var metadata = message.metadata || {};\n            var msg = {content, buffers, metadata}\n            msg_handler(msg);\n            return messages.next().then(processIteratorResult);\n          }\n          return messages.next().then(processIteratorResult);\n        })\n      }\n    }\n\n    JupyterCommManager.prototype.get_client_comm = function(plot_id, comm_id, msg_handler) {\n      if (comm_id in window.PyViz.comms) {\n        return window.PyViz.comms[comm_id];\n      } else if (window.comm_manager || ((window.Jupyter !== undefined) && (Jupyter.notebook.kernel != null))) {\n        var comm_manager = window.comm_manager || Jupyter.notebook.kernel.comm_manager;\n        var comm = comm_manager.new_comm(comm_id, {}, {}, {}, comm_id);\n        if (msg_handler) {\n          comm.on_msg(msg_handler);\n        }\n      } else if ((plot_id in window.PyViz.kernels) && (window.PyViz.kernels[plot_id])) {\n        var comm = window.PyViz.kernels[plot_id].connectToComm(comm_id);\n        comm.open();\n        if (msg_handler) {\n          comm.onMsg = msg_handler;\n        }\n      } else if (typeof google != 'undefined' && google.colab.kernel != null) {\n        var comm_promise = google.colab.kernel.comms.open(comm_id)\n        comm_promise.then((comm) => {\n          window.PyViz.comms[comm_id] = comm;\n          if (msg_handler) {\n            var messages = comm.messages[Symbol.asyncIterator]();\n            function processIteratorResult(result) {\n              var message = result.value;\n              var content = {data: message.data};\n              var metadata = message.metadata || {comm_id};\n              var msg = {content, metadata}\n              msg_handler(msg);\n              return messages.next().then(processIteratorResult);\n            }\n            return messages.next().then(processIteratorResult);\n          }\n        }) \n        var sendClosure = (data, metadata, buffers, disposeOnDone) => {\n          return comm_promise.then((comm) => {\n            comm.send(data, metadata, buffers, disposeOnDone);\n          });\n        };\n        var comm = {\n          send: sendClosure\n        };\n      }\n      window.PyViz.comms[comm_id] = comm;\n      return comm;\n    }\n    window.PyViz.comm_manager = new JupyterCommManager();\n    \n\n\nvar JS_MIME_TYPE = 'application/javascript';\nvar HTML_MIME_TYPE = 'text/html';\nvar EXEC_MIME_TYPE = 'application/vnd.holoviews_exec.v0+json';\nvar CLASS_NAME = 'output';\n\n/**\n * Render data to the DOM node\n */\nfunction render(props, node) {\n  var div = document.createElement(\"div\");\n  var script = document.createElement(\"script\");\n  node.appendChild(div);\n  node.appendChild(script);\n}\n\n/**\n * Handle when a new output is added\n */\nfunction handle_add_output(event, handle) {\n  var output_area = handle.output_area;\n  var output = handle.output;\n  if ((output.data == undefined) || (!output.data.hasOwnProperty(EXEC_MIME_TYPE))) {\n    return\n  }\n  var id = output.metadata[EXEC_MIME_TYPE][\"id\"];\n  var toinsert = output_area.element.find(\".\" + CLASS_NAME.split(' ')[0]);\n  if (id !== undefined) {\n    var nchildren = toinsert.length;\n    var html_node = toinsert[nchildren-1].children[0];\n    html_node.innerHTML = output.data[HTML_MIME_TYPE];\n    var scripts = [];\n    var nodelist = html_node.querySelectorAll(\"script\");\n    for (var i in nodelist) {\n      if (nodelist.hasOwnProperty(i)) {\n        scripts.push(nodelist[i])\n      }\n    }\n\n    scripts.forEach( function (oldScript) {\n      var newScript = document.createElement(\"script\");\n      var attrs = [];\n      var nodemap = oldScript.attributes;\n      for (var j in nodemap) {\n        if (nodemap.hasOwnProperty(j)) {\n          attrs.push(nodemap[j])\n        }\n      }\n      attrs.forEach(function(attr) { newScript.setAttribute(attr.name, attr.value) });\n      newScript.appendChild(document.createTextNode(oldScript.innerHTML));\n      oldScript.parentNode.replaceChild(newScript, oldScript);\n    });\n    if (JS_MIME_TYPE in output.data) {\n      toinsert[nchildren-1].children[1].textContent = output.data[JS_MIME_TYPE];\n    }\n    output_area._hv_plot_id = id;\n    if ((window.Bokeh !== undefined) && (id in Bokeh.index)) {\n      window.PyViz.plot_index[id] = Bokeh.index[id];\n    } else {\n      window.PyViz.plot_index[id] = null;\n    }\n  } else if (output.metadata[EXEC_MIME_TYPE][\"server_id\"] !== undefined) {\n    var bk_div = document.createElement(\"div\");\n    bk_div.innerHTML = output.data[HTML_MIME_TYPE];\n    var script_attrs = bk_div.children[0].attributes;\n    for (var i = 0; i < script_attrs.length; i++) {\n      toinsert[toinsert.length - 1].childNodes[1].setAttribute(script_attrs[i].name, script_attrs[i].value);\n    }\n    // store reference to server id on output_area\n    output_area._bokeh_server_id = output.metadata[EXEC_MIME_TYPE][\"server_id\"];\n  }\n}\n\n/**\n * Handle when an output is cleared or removed\n */\nfunction handle_clear_output(event, handle) {\n  var id = handle.cell.output_area._hv_plot_id;\n  var server_id = handle.cell.output_area._bokeh_server_id;\n  if (((id === undefined) || !(id in PyViz.plot_index)) && (server_id !== undefined)) { return; }\n  var comm = window.PyViz.comm_manager.get_client_comm(\"hv-extension-comm\", \"hv-extension-comm\", function () {});\n  if (server_id !== null) {\n    comm.send({event_type: 'server_delete', 'id': server_id});\n    return;\n  } else if (comm !== null) {\n    comm.send({event_type: 'delete', 'id': id});\n  }\n  delete PyViz.plot_index[id];\n  if ((window.Bokeh !== undefined) & (id in window.Bokeh.index)) {\n    var doc = window.Bokeh.index[id].model.document\n    doc.clear();\n    const i = window.Bokeh.documents.indexOf(doc);\n    if (i > -1) {\n      window.Bokeh.documents.splice(i, 1);\n    }\n  }\n}\n\n/**\n * Handle kernel restart event\n */\nfunction handle_kernel_cleanup(event, handle) {\n  delete PyViz.comms[\"hv-extension-comm\"];\n  window.PyViz.plot_index = {}\n}\n\n/**\n * Handle update_display_data messages\n */\nfunction handle_update_output(event, handle) {\n  handle_clear_output(event, {cell: {output_area: handle.output_area}})\n  handle_add_output(event, handle)\n}\n\nfunction register_renderer(events, OutputArea) {\n  function append_mime(data, metadata, element) {\n    // create a DOM node to render to\n    var toinsert = this.create_output_subarea(\n    metadata,\n    CLASS_NAME,\n    EXEC_MIME_TYPE\n    );\n    this.keyboard_manager.register_events(toinsert);\n    // Render to node\n    var props = {data: data, metadata: metadata[EXEC_MIME_TYPE]};\n    render(props, toinsert[0]);\n    element.append(toinsert);\n    return toinsert\n  }\n\n  events.on('output_added.OutputArea', handle_add_output);\n  events.on('output_updated.OutputArea', handle_update_output);\n  events.on('clear_output.CodeCell', handle_clear_output);\n  events.on('delete.Cell', handle_clear_output);\n  events.on('kernel_ready.Kernel', handle_kernel_cleanup);\n\n  OutputArea.prototype.register_mime_type(EXEC_MIME_TYPE, append_mime, {\n    safe: true,\n    index: 0\n  });\n}\n\nif (window.Jupyter !== undefined) {\n  try {\n    var events = require('base/js/events');\n    var OutputArea = require('notebook/js/outputarea').OutputArea;\n    if (OutputArea.prototype.mime_types().indexOf(EXEC_MIME_TYPE) == -1) {\n      register_renderer(events, OutputArea);\n    }\n  } catch(err) {\n  }\n}\n",
      "application/vnd.holoviews_load.v0+json": ""
     },
     "metadata": {},
     "output_type": "display_data"
    },
    {
     "data": {
      "application/javascript": "\nif ((window.PyViz === undefined) || (window.PyViz instanceof HTMLElement)) {\n  window.PyViz = {comms: {}, comm_status:{}, kernels:{}, receivers: {}, plot_index: []}\n}\n\n\n    function JupyterCommManager() {\n    }\n\n    JupyterCommManager.prototype.register_target = function(plot_id, comm_id, msg_handler) {\n      if (window.comm_manager || ((window.Jupyter !== undefined) && (Jupyter.notebook.kernel != null))) {\n        var comm_manager = window.comm_manager || Jupyter.notebook.kernel.comm_manager;\n        comm_manager.register_target(comm_id, function(comm) {\n          comm.on_msg(msg_handler);\n        });\n      } else if ((plot_id in window.PyViz.kernels) && (window.PyViz.kernels[plot_id])) {\n        window.PyViz.kernels[plot_id].registerCommTarget(comm_id, function(comm) {\n          comm.onMsg = msg_handler;\n        });\n      } else if (typeof google != 'undefined' && google.colab.kernel != null) {\n        google.colab.kernel.comms.registerTarget(comm_id, (comm) => {\n          var messages = comm.messages[Symbol.asyncIterator]();\n          function processIteratorResult(result) {\n            var message = result.value;\n            console.log(message)\n            var content = {data: message.data, comm_id};\n            var buffers = []\n            for (var buffer of message.buffers || []) {\n              buffers.push(new DataView(buffer))\n            }\n            var metadata = message.metadata || {};\n            var msg = {content, buffers, metadata}\n            msg_handler(msg);\n            return messages.next().then(processIteratorResult);\n          }\n          return messages.next().then(processIteratorResult);\n        })\n      }\n    }\n\n    JupyterCommManager.prototype.get_client_comm = function(plot_id, comm_id, msg_handler) {\n      if (comm_id in window.PyViz.comms) {\n        return window.PyViz.comms[comm_id];\n      } else if (window.comm_manager || ((window.Jupyter !== undefined) && (Jupyter.notebook.kernel != null))) {\n        var comm_manager = window.comm_manager || Jupyter.notebook.kernel.comm_manager;\n        var comm = comm_manager.new_comm(comm_id, {}, {}, {}, comm_id);\n        if (msg_handler) {\n          comm.on_msg(msg_handler);\n        }\n      } else if ((plot_id in window.PyViz.kernels) && (window.PyViz.kernels[plot_id])) {\n        var comm = window.PyViz.kernels[plot_id].connectToComm(comm_id);\n        comm.open();\n        if (msg_handler) {\n          comm.onMsg = msg_handler;\n        }\n      } else if (typeof google != 'undefined' && google.colab.kernel != null) {\n        var comm_promise = google.colab.kernel.comms.open(comm_id)\n        comm_promise.then((comm) => {\n          window.PyViz.comms[comm_id] = comm;\n          if (msg_handler) {\n            var messages = comm.messages[Symbol.asyncIterator]();\n            function processIteratorResult(result) {\n              var message = result.value;\n              var content = {data: message.data};\n              var metadata = message.metadata || {comm_id};\n              var msg = {content, metadata}\n              msg_handler(msg);\n              return messages.next().then(processIteratorResult);\n            }\n            return messages.next().then(processIteratorResult);\n          }\n        }) \n        var sendClosure = (data, metadata, buffers, disposeOnDone) => {\n          return comm_promise.then((comm) => {\n            comm.send(data, metadata, buffers, disposeOnDone);\n          });\n        };\n        var comm = {\n          send: sendClosure\n        };\n      }\n      window.PyViz.comms[comm_id] = comm;\n      return comm;\n    }\n    window.PyViz.comm_manager = new JupyterCommManager();\n    \n\n\nvar JS_MIME_TYPE = 'application/javascript';\nvar HTML_MIME_TYPE = 'text/html';\nvar EXEC_MIME_TYPE = 'application/vnd.holoviews_exec.v0+json';\nvar CLASS_NAME = 'output';\n\n/**\n * Render data to the DOM node\n */\nfunction render(props, node) {\n  var div = document.createElement(\"div\");\n  var script = document.createElement(\"script\");\n  node.appendChild(div);\n  node.appendChild(script);\n}\n\n/**\n * Handle when a new output is added\n */\nfunction handle_add_output(event, handle) {\n  var output_area = handle.output_area;\n  var output = handle.output;\n  if ((output.data == undefined) || (!output.data.hasOwnProperty(EXEC_MIME_TYPE))) {\n    return\n  }\n  var id = output.metadata[EXEC_MIME_TYPE][\"id\"];\n  var toinsert = output_area.element.find(\".\" + CLASS_NAME.split(' ')[0]);\n  if (id !== undefined) {\n    var nchildren = toinsert.length;\n    var html_node = toinsert[nchildren-1].children[0];\n    html_node.innerHTML = output.data[HTML_MIME_TYPE];\n    var scripts = [];\n    var nodelist = html_node.querySelectorAll(\"script\");\n    for (var i in nodelist) {\n      if (nodelist.hasOwnProperty(i)) {\n        scripts.push(nodelist[i])\n      }\n    }\n\n    scripts.forEach( function (oldScript) {\n      var newScript = document.createElement(\"script\");\n      var attrs = [];\n      var nodemap = oldScript.attributes;\n      for (var j in nodemap) {\n        if (nodemap.hasOwnProperty(j)) {\n          attrs.push(nodemap[j])\n        }\n      }\n      attrs.forEach(function(attr) { newScript.setAttribute(attr.name, attr.value) });\n      newScript.appendChild(document.createTextNode(oldScript.innerHTML));\n      oldScript.parentNode.replaceChild(newScript, oldScript);\n    });\n    if (JS_MIME_TYPE in output.data) {\n      toinsert[nchildren-1].children[1].textContent = output.data[JS_MIME_TYPE];\n    }\n    output_area._hv_plot_id = id;\n    if ((window.Bokeh !== undefined) && (id in Bokeh.index)) {\n      window.PyViz.plot_index[id] = Bokeh.index[id];\n    } else {\n      window.PyViz.plot_index[id] = null;\n    }\n  } else if (output.metadata[EXEC_MIME_TYPE][\"server_id\"] !== undefined) {\n    var bk_div = document.createElement(\"div\");\n    bk_div.innerHTML = output.data[HTML_MIME_TYPE];\n    var script_attrs = bk_div.children[0].attributes;\n    for (var i = 0; i < script_attrs.length; i++) {\n      toinsert[toinsert.length - 1].childNodes[1].setAttribute(script_attrs[i].name, script_attrs[i].value);\n    }\n    // store reference to server id on output_area\n    output_area._bokeh_server_id = output.metadata[EXEC_MIME_TYPE][\"server_id\"];\n  }\n}\n\n/**\n * Handle when an output is cleared or removed\n */\nfunction handle_clear_output(event, handle) {\n  var id = handle.cell.output_area._hv_plot_id;\n  var server_id = handle.cell.output_area._bokeh_server_id;\n  if (((id === undefined) || !(id in PyViz.plot_index)) && (server_id !== undefined)) { return; }\n  var comm = window.PyViz.comm_manager.get_client_comm(\"hv-extension-comm\", \"hv-extension-comm\", function () {});\n  if (server_id !== null) {\n    comm.send({event_type: 'server_delete', 'id': server_id});\n    return;\n  } else if (comm !== null) {\n    comm.send({event_type: 'delete', 'id': id});\n  }\n  delete PyViz.plot_index[id];\n  if ((window.Bokeh !== undefined) & (id in window.Bokeh.index)) {\n    var doc = window.Bokeh.index[id].model.document\n    doc.clear();\n    const i = window.Bokeh.documents.indexOf(doc);\n    if (i > -1) {\n      window.Bokeh.documents.splice(i, 1);\n    }\n  }\n}\n\n/**\n * Handle kernel restart event\n */\nfunction handle_kernel_cleanup(event, handle) {\n  delete PyViz.comms[\"hv-extension-comm\"];\n  window.PyViz.plot_index = {}\n}\n\n/**\n * Handle update_display_data messages\n */\nfunction handle_update_output(event, handle) {\n  handle_clear_output(event, {cell: {output_area: handle.output_area}})\n  handle_add_output(event, handle)\n}\n\nfunction register_renderer(events, OutputArea) {\n  function append_mime(data, metadata, element) {\n    // create a DOM node to render to\n    var toinsert = this.create_output_subarea(\n    metadata,\n    CLASS_NAME,\n    EXEC_MIME_TYPE\n    );\n    this.keyboard_manager.register_events(toinsert);\n    // Render to node\n    var props = {data: data, metadata: metadata[EXEC_MIME_TYPE]};\n    render(props, toinsert[0]);\n    element.append(toinsert);\n    return toinsert\n  }\n\n  events.on('output_added.OutputArea', handle_add_output);\n  events.on('output_updated.OutputArea', handle_update_output);\n  events.on('clear_output.CodeCell', handle_clear_output);\n  events.on('delete.Cell', handle_clear_output);\n  events.on('kernel_ready.Kernel', handle_kernel_cleanup);\n\n  OutputArea.prototype.register_mime_type(EXEC_MIME_TYPE, append_mime, {\n    safe: true,\n    index: 0\n  });\n}\n\nif (window.Jupyter !== undefined) {\n  try {\n    var events = require('base/js/events');\n    var OutputArea = require('notebook/js/outputarea').OutputArea;\n    if (OutputArea.prototype.mime_types().indexOf(EXEC_MIME_TYPE) == -1) {\n      register_renderer(events, OutputArea);\n    }\n  } catch(err) {\n  }\n}\n",
      "application/vnd.holoviews_load.v0+json": ""
     },
     "metadata": {},
     "output_type": "display_data"
    },
    {
     "data": {
      "application/javascript": "\nif ((window.PyViz === undefined) || (window.PyViz instanceof HTMLElement)) {\n  window.PyViz = {comms: {}, comm_status:{}, kernels:{}, receivers: {}, plot_index: []}\n}\n\n\n    function JupyterCommManager() {\n    }\n\n    JupyterCommManager.prototype.register_target = function(plot_id, comm_id, msg_handler) {\n      if (window.comm_manager || ((window.Jupyter !== undefined) && (Jupyter.notebook.kernel != null))) {\n        var comm_manager = window.comm_manager || Jupyter.notebook.kernel.comm_manager;\n        comm_manager.register_target(comm_id, function(comm) {\n          comm.on_msg(msg_handler);\n        });\n      } else if ((plot_id in window.PyViz.kernels) && (window.PyViz.kernels[plot_id])) {\n        window.PyViz.kernels[plot_id].registerCommTarget(comm_id, function(comm) {\n          comm.onMsg = msg_handler;\n        });\n      } else if (typeof google != 'undefined' && google.colab.kernel != null) {\n        google.colab.kernel.comms.registerTarget(comm_id, (comm) => {\n          var messages = comm.messages[Symbol.asyncIterator]();\n          function processIteratorResult(result) {\n            var message = result.value;\n            console.log(message)\n            var content = {data: message.data, comm_id};\n            var buffers = []\n            for (var buffer of message.buffers || []) {\n              buffers.push(new DataView(buffer))\n            }\n            var metadata = message.metadata || {};\n            var msg = {content, buffers, metadata}\n            msg_handler(msg);\n            return messages.next().then(processIteratorResult);\n          }\n          return messages.next().then(processIteratorResult);\n        })\n      }\n    }\n\n    JupyterCommManager.prototype.get_client_comm = function(plot_id, comm_id, msg_handler) {\n      if (comm_id in window.PyViz.comms) {\n        return window.PyViz.comms[comm_id];\n      } else if (window.comm_manager || ((window.Jupyter !== undefined) && (Jupyter.notebook.kernel != null))) {\n        var comm_manager = window.comm_manager || Jupyter.notebook.kernel.comm_manager;\n        var comm = comm_manager.new_comm(comm_id, {}, {}, {}, comm_id);\n        if (msg_handler) {\n          comm.on_msg(msg_handler);\n        }\n      } else if ((plot_id in window.PyViz.kernels) && (window.PyViz.kernels[plot_id])) {\n        var comm = window.PyViz.kernels[plot_id].connectToComm(comm_id);\n        comm.open();\n        if (msg_handler) {\n          comm.onMsg = msg_handler;\n        }\n      } else if (typeof google != 'undefined' && google.colab.kernel != null) {\n        var comm_promise = google.colab.kernel.comms.open(comm_id)\n        comm_promise.then((comm) => {\n          window.PyViz.comms[comm_id] = comm;\n          if (msg_handler) {\n            var messages = comm.messages[Symbol.asyncIterator]();\n            function processIteratorResult(result) {\n              var message = result.value;\n              var content = {data: message.data};\n              var metadata = message.metadata || {comm_id};\n              var msg = {content, metadata}\n              msg_handler(msg);\n              return messages.next().then(processIteratorResult);\n            }\n            return messages.next().then(processIteratorResult);\n          }\n        }) \n        var sendClosure = (data, metadata, buffers, disposeOnDone) => {\n          return comm_promise.then((comm) => {\n            comm.send(data, metadata, buffers, disposeOnDone);\n          });\n        };\n        var comm = {\n          send: sendClosure\n        };\n      }\n      window.PyViz.comms[comm_id] = comm;\n      return comm;\n    }\n    window.PyViz.comm_manager = new JupyterCommManager();\n    \n\n\nvar JS_MIME_TYPE = 'application/javascript';\nvar HTML_MIME_TYPE = 'text/html';\nvar EXEC_MIME_TYPE = 'application/vnd.holoviews_exec.v0+json';\nvar CLASS_NAME = 'output';\n\n/**\n * Render data to the DOM node\n */\nfunction render(props, node) {\n  var div = document.createElement(\"div\");\n  var script = document.createElement(\"script\");\n  node.appendChild(div);\n  node.appendChild(script);\n}\n\n/**\n * Handle when a new output is added\n */\nfunction handle_add_output(event, handle) {\n  var output_area = handle.output_area;\n  var output = handle.output;\n  if ((output.data == undefined) || (!output.data.hasOwnProperty(EXEC_MIME_TYPE))) {\n    return\n  }\n  var id = output.metadata[EXEC_MIME_TYPE][\"id\"];\n  var toinsert = output_area.element.find(\".\" + CLASS_NAME.split(' ')[0]);\n  if (id !== undefined) {\n    var nchildren = toinsert.length;\n    var html_node = toinsert[nchildren-1].children[0];\n    html_node.innerHTML = output.data[HTML_MIME_TYPE];\n    var scripts = [];\n    var nodelist = html_node.querySelectorAll(\"script\");\n    for (var i in nodelist) {\n      if (nodelist.hasOwnProperty(i)) {\n        scripts.push(nodelist[i])\n      }\n    }\n\n    scripts.forEach( function (oldScript) {\n      var newScript = document.createElement(\"script\");\n      var attrs = [];\n      var nodemap = oldScript.attributes;\n      for (var j in nodemap) {\n        if (nodemap.hasOwnProperty(j)) {\n          attrs.push(nodemap[j])\n        }\n      }\n      attrs.forEach(function(attr) { newScript.setAttribute(attr.name, attr.value) });\n      newScript.appendChild(document.createTextNode(oldScript.innerHTML));\n      oldScript.parentNode.replaceChild(newScript, oldScript);\n    });\n    if (JS_MIME_TYPE in output.data) {\n      toinsert[nchildren-1].children[1].textContent = output.data[JS_MIME_TYPE];\n    }\n    output_area._hv_plot_id = id;\n    if ((window.Bokeh !== undefined) && (id in Bokeh.index)) {\n      window.PyViz.plot_index[id] = Bokeh.index[id];\n    } else {\n      window.PyViz.plot_index[id] = null;\n    }\n  } else if (output.metadata[EXEC_MIME_TYPE][\"server_id\"] !== undefined) {\n    var bk_div = document.createElement(\"div\");\n    bk_div.innerHTML = output.data[HTML_MIME_TYPE];\n    var script_attrs = bk_div.children[0].attributes;\n    for (var i = 0; i < script_attrs.length; i++) {\n      toinsert[toinsert.length - 1].childNodes[1].setAttribute(script_attrs[i].name, script_attrs[i].value);\n    }\n    // store reference to server id on output_area\n    output_area._bokeh_server_id = output.metadata[EXEC_MIME_TYPE][\"server_id\"];\n  }\n}\n\n/**\n * Handle when an output is cleared or removed\n */\nfunction handle_clear_output(event, handle) {\n  var id = handle.cell.output_area._hv_plot_id;\n  var server_id = handle.cell.output_area._bokeh_server_id;\n  if (((id === undefined) || !(id in PyViz.plot_index)) && (server_id !== undefined)) { return; }\n  var comm = window.PyViz.comm_manager.get_client_comm(\"hv-extension-comm\", \"hv-extension-comm\", function () {});\n  if (server_id !== null) {\n    comm.send({event_type: 'server_delete', 'id': server_id});\n    return;\n  } else if (comm !== null) {\n    comm.send({event_type: 'delete', 'id': id});\n  }\n  delete PyViz.plot_index[id];\n  if ((window.Bokeh !== undefined) & (id in window.Bokeh.index)) {\n    var doc = window.Bokeh.index[id].model.document\n    doc.clear();\n    const i = window.Bokeh.documents.indexOf(doc);\n    if (i > -1) {\n      window.Bokeh.documents.splice(i, 1);\n    }\n  }\n}\n\n/**\n * Handle kernel restart event\n */\nfunction handle_kernel_cleanup(event, handle) {\n  delete PyViz.comms[\"hv-extension-comm\"];\n  window.PyViz.plot_index = {}\n}\n\n/**\n * Handle update_display_data messages\n */\nfunction handle_update_output(event, handle) {\n  handle_clear_output(event, {cell: {output_area: handle.output_area}})\n  handle_add_output(event, handle)\n}\n\nfunction register_renderer(events, OutputArea) {\n  function append_mime(data, metadata, element) {\n    // create a DOM node to render to\n    var toinsert = this.create_output_subarea(\n    metadata,\n    CLASS_NAME,\n    EXEC_MIME_TYPE\n    );\n    this.keyboard_manager.register_events(toinsert);\n    // Render to node\n    var props = {data: data, metadata: metadata[EXEC_MIME_TYPE]};\n    render(props, toinsert[0]);\n    element.append(toinsert);\n    return toinsert\n  }\n\n  events.on('output_added.OutputArea', handle_add_output);\n  events.on('output_updated.OutputArea', handle_update_output);\n  events.on('clear_output.CodeCell', handle_clear_output);\n  events.on('delete.Cell', handle_clear_output);\n  events.on('kernel_ready.Kernel', handle_kernel_cleanup);\n\n  OutputArea.prototype.register_mime_type(EXEC_MIME_TYPE, append_mime, {\n    safe: true,\n    index: 0\n  });\n}\n\nif (window.Jupyter !== undefined) {\n  try {\n    var events = require('base/js/events');\n    var OutputArea = require('notebook/js/outputarea').OutputArea;\n    if (OutputArea.prototype.mime_types().indexOf(EXEC_MIME_TYPE) == -1) {\n      register_renderer(events, OutputArea);\n    }\n  } catch(err) {\n  }\n}\n",
      "application/vnd.holoviews_load.v0+json": ""
     },
     "metadata": {},
     "output_type": "display_data"
    },
    {
     "data": {
      "application/javascript": "\nif ((window.PyViz === undefined) || (window.PyViz instanceof HTMLElement)) {\n  window.PyViz = {comms: {}, comm_status:{}, kernels:{}, receivers: {}, plot_index: []}\n}\n\n\n    function JupyterCommManager() {\n    }\n\n    JupyterCommManager.prototype.register_target = function(plot_id, comm_id, msg_handler) {\n      if (window.comm_manager || ((window.Jupyter !== undefined) && (Jupyter.notebook.kernel != null))) {\n        var comm_manager = window.comm_manager || Jupyter.notebook.kernel.comm_manager;\n        comm_manager.register_target(comm_id, function(comm) {\n          comm.on_msg(msg_handler);\n        });\n      } else if ((plot_id in window.PyViz.kernels) && (window.PyViz.kernels[plot_id])) {\n        window.PyViz.kernels[plot_id].registerCommTarget(comm_id, function(comm) {\n          comm.onMsg = msg_handler;\n        });\n      } else if (typeof google != 'undefined' && google.colab.kernel != null) {\n        google.colab.kernel.comms.registerTarget(comm_id, (comm) => {\n          var messages = comm.messages[Symbol.asyncIterator]();\n          function processIteratorResult(result) {\n            var message = result.value;\n            console.log(message)\n            var content = {data: message.data, comm_id};\n            var buffers = []\n            for (var buffer of message.buffers || []) {\n              buffers.push(new DataView(buffer))\n            }\n            var metadata = message.metadata || {};\n            var msg = {content, buffers, metadata}\n            msg_handler(msg);\n            return messages.next().then(processIteratorResult);\n          }\n          return messages.next().then(processIteratorResult);\n        })\n      }\n    }\n\n    JupyterCommManager.prototype.get_client_comm = function(plot_id, comm_id, msg_handler) {\n      if (comm_id in window.PyViz.comms) {\n        return window.PyViz.comms[comm_id];\n      } else if (window.comm_manager || ((window.Jupyter !== undefined) && (Jupyter.notebook.kernel != null))) {\n        var comm_manager = window.comm_manager || Jupyter.notebook.kernel.comm_manager;\n        var comm = comm_manager.new_comm(comm_id, {}, {}, {}, comm_id);\n        if (msg_handler) {\n          comm.on_msg(msg_handler);\n        }\n      } else if ((plot_id in window.PyViz.kernels) && (window.PyViz.kernels[plot_id])) {\n        var comm = window.PyViz.kernels[plot_id].connectToComm(comm_id);\n        comm.open();\n        if (msg_handler) {\n          comm.onMsg = msg_handler;\n        }\n      } else if (typeof google != 'undefined' && google.colab.kernel != null) {\n        var comm_promise = google.colab.kernel.comms.open(comm_id)\n        comm_promise.then((comm) => {\n          window.PyViz.comms[comm_id] = comm;\n          if (msg_handler) {\n            var messages = comm.messages[Symbol.asyncIterator]();\n            function processIteratorResult(result) {\n              var message = result.value;\n              var content = {data: message.data};\n              var metadata = message.metadata || {comm_id};\n              var msg = {content, metadata}\n              msg_handler(msg);\n              return messages.next().then(processIteratorResult);\n            }\n            return messages.next().then(processIteratorResult);\n          }\n        }) \n        var sendClosure = (data, metadata, buffers, disposeOnDone) => {\n          return comm_promise.then((comm) => {\n            comm.send(data, metadata, buffers, disposeOnDone);\n          });\n        };\n        var comm = {\n          send: sendClosure\n        };\n      }\n      window.PyViz.comms[comm_id] = comm;\n      return comm;\n    }\n    window.PyViz.comm_manager = new JupyterCommManager();\n    \n\n\nvar JS_MIME_TYPE = 'application/javascript';\nvar HTML_MIME_TYPE = 'text/html';\nvar EXEC_MIME_TYPE = 'application/vnd.holoviews_exec.v0+json';\nvar CLASS_NAME = 'output';\n\n/**\n * Render data to the DOM node\n */\nfunction render(props, node) {\n  var div = document.createElement(\"div\");\n  var script = document.createElement(\"script\");\n  node.appendChild(div);\n  node.appendChild(script);\n}\n\n/**\n * Handle when a new output is added\n */\nfunction handle_add_output(event, handle) {\n  var output_area = handle.output_area;\n  var output = handle.output;\n  if ((output.data == undefined) || (!output.data.hasOwnProperty(EXEC_MIME_TYPE))) {\n    return\n  }\n  var id = output.metadata[EXEC_MIME_TYPE][\"id\"];\n  var toinsert = output_area.element.find(\".\" + CLASS_NAME.split(' ')[0]);\n  if (id !== undefined) {\n    var nchildren = toinsert.length;\n    var html_node = toinsert[nchildren-1].children[0];\n    html_node.innerHTML = output.data[HTML_MIME_TYPE];\n    var scripts = [];\n    var nodelist = html_node.querySelectorAll(\"script\");\n    for (var i in nodelist) {\n      if (nodelist.hasOwnProperty(i)) {\n        scripts.push(nodelist[i])\n      }\n    }\n\n    scripts.forEach( function (oldScript) {\n      var newScript = document.createElement(\"script\");\n      var attrs = [];\n      var nodemap = oldScript.attributes;\n      for (var j in nodemap) {\n        if (nodemap.hasOwnProperty(j)) {\n          attrs.push(nodemap[j])\n        }\n      }\n      attrs.forEach(function(attr) { newScript.setAttribute(attr.name, attr.value) });\n      newScript.appendChild(document.createTextNode(oldScript.innerHTML));\n      oldScript.parentNode.replaceChild(newScript, oldScript);\n    });\n    if (JS_MIME_TYPE in output.data) {\n      toinsert[nchildren-1].children[1].textContent = output.data[JS_MIME_TYPE];\n    }\n    output_area._hv_plot_id = id;\n    if ((window.Bokeh !== undefined) && (id in Bokeh.index)) {\n      window.PyViz.plot_index[id] = Bokeh.index[id];\n    } else {\n      window.PyViz.plot_index[id] = null;\n    }\n  } else if (output.metadata[EXEC_MIME_TYPE][\"server_id\"] !== undefined) {\n    var bk_div = document.createElement(\"div\");\n    bk_div.innerHTML = output.data[HTML_MIME_TYPE];\n    var script_attrs = bk_div.children[0].attributes;\n    for (var i = 0; i < script_attrs.length; i++) {\n      toinsert[toinsert.length - 1].childNodes[1].setAttribute(script_attrs[i].name, script_attrs[i].value);\n    }\n    // store reference to server id on output_area\n    output_area._bokeh_server_id = output.metadata[EXEC_MIME_TYPE][\"server_id\"];\n  }\n}\n\n/**\n * Handle when an output is cleared or removed\n */\nfunction handle_clear_output(event, handle) {\n  var id = handle.cell.output_area._hv_plot_id;\n  var server_id = handle.cell.output_area._bokeh_server_id;\n  if (((id === undefined) || !(id in PyViz.plot_index)) && (server_id !== undefined)) { return; }\n  var comm = window.PyViz.comm_manager.get_client_comm(\"hv-extension-comm\", \"hv-extension-comm\", function () {});\n  if (server_id !== null) {\n    comm.send({event_type: 'server_delete', 'id': server_id});\n    return;\n  } else if (comm !== null) {\n    comm.send({event_type: 'delete', 'id': id});\n  }\n  delete PyViz.plot_index[id];\n  if ((window.Bokeh !== undefined) & (id in window.Bokeh.index)) {\n    var doc = window.Bokeh.index[id].model.document\n    doc.clear();\n    const i = window.Bokeh.documents.indexOf(doc);\n    if (i > -1) {\n      window.Bokeh.documents.splice(i, 1);\n    }\n  }\n}\n\n/**\n * Handle kernel restart event\n */\nfunction handle_kernel_cleanup(event, handle) {\n  delete PyViz.comms[\"hv-extension-comm\"];\n  window.PyViz.plot_index = {}\n}\n\n/**\n * Handle update_display_data messages\n */\nfunction handle_update_output(event, handle) {\n  handle_clear_output(event, {cell: {output_area: handle.output_area}})\n  handle_add_output(event, handle)\n}\n\nfunction register_renderer(events, OutputArea) {\n  function append_mime(data, metadata, element) {\n    // create a DOM node to render to\n    var toinsert = this.create_output_subarea(\n    metadata,\n    CLASS_NAME,\n    EXEC_MIME_TYPE\n    );\n    this.keyboard_manager.register_events(toinsert);\n    // Render to node\n    var props = {data: data, metadata: metadata[EXEC_MIME_TYPE]};\n    render(props, toinsert[0]);\n    element.append(toinsert);\n    return toinsert\n  }\n\n  events.on('output_added.OutputArea', handle_add_output);\n  events.on('output_updated.OutputArea', handle_update_output);\n  events.on('clear_output.CodeCell', handle_clear_output);\n  events.on('delete.Cell', handle_clear_output);\n  events.on('kernel_ready.Kernel', handle_kernel_cleanup);\n\n  OutputArea.prototype.register_mime_type(EXEC_MIME_TYPE, append_mime, {\n    safe: true,\n    index: 0\n  });\n}\n\nif (window.Jupyter !== undefined) {\n  try {\n    var events = require('base/js/events');\n    var OutputArea = require('notebook/js/outputarea').OutputArea;\n    if (OutputArea.prototype.mime_types().indexOf(EXEC_MIME_TYPE) == -1) {\n      register_renderer(events, OutputArea);\n    }\n  } catch(err) {\n  }\n}\n",
      "application/vnd.holoviews_load.v0+json": ""
     },
     "metadata": {},
     "output_type": "display_data"
    },
    {
     "data": {
      "application/javascript": "\nif ((window.PyViz === undefined) || (window.PyViz instanceof HTMLElement)) {\n  window.PyViz = {comms: {}, comm_status:{}, kernels:{}, receivers: {}, plot_index: []}\n}\n\n\n    function JupyterCommManager() {\n    }\n\n    JupyterCommManager.prototype.register_target = function(plot_id, comm_id, msg_handler) {\n      if (window.comm_manager || ((window.Jupyter !== undefined) && (Jupyter.notebook.kernel != null))) {\n        var comm_manager = window.comm_manager || Jupyter.notebook.kernel.comm_manager;\n        comm_manager.register_target(comm_id, function(comm) {\n          comm.on_msg(msg_handler);\n        });\n      } else if ((plot_id in window.PyViz.kernels) && (window.PyViz.kernels[plot_id])) {\n        window.PyViz.kernels[plot_id].registerCommTarget(comm_id, function(comm) {\n          comm.onMsg = msg_handler;\n        });\n      } else if (typeof google != 'undefined' && google.colab.kernel != null) {\n        google.colab.kernel.comms.registerTarget(comm_id, (comm) => {\n          var messages = comm.messages[Symbol.asyncIterator]();\n          function processIteratorResult(result) {\n            var message = result.value;\n            console.log(message)\n            var content = {data: message.data, comm_id};\n            var buffers = []\n            for (var buffer of message.buffers || []) {\n              buffers.push(new DataView(buffer))\n            }\n            var metadata = message.metadata || {};\n            var msg = {content, buffers, metadata}\n            msg_handler(msg);\n            return messages.next().then(processIteratorResult);\n          }\n          return messages.next().then(processIteratorResult);\n        })\n      }\n    }\n\n    JupyterCommManager.prototype.get_client_comm = function(plot_id, comm_id, msg_handler) {\n      if (comm_id in window.PyViz.comms) {\n        return window.PyViz.comms[comm_id];\n      } else if (window.comm_manager || ((window.Jupyter !== undefined) && (Jupyter.notebook.kernel != null))) {\n        var comm_manager = window.comm_manager || Jupyter.notebook.kernel.comm_manager;\n        var comm = comm_manager.new_comm(comm_id, {}, {}, {}, comm_id);\n        if (msg_handler) {\n          comm.on_msg(msg_handler);\n        }\n      } else if ((plot_id in window.PyViz.kernels) && (window.PyViz.kernels[plot_id])) {\n        var comm = window.PyViz.kernels[plot_id].connectToComm(comm_id);\n        comm.open();\n        if (msg_handler) {\n          comm.onMsg = msg_handler;\n        }\n      } else if (typeof google != 'undefined' && google.colab.kernel != null) {\n        var comm_promise = google.colab.kernel.comms.open(comm_id)\n        comm_promise.then((comm) => {\n          window.PyViz.comms[comm_id] = comm;\n          if (msg_handler) {\n            var messages = comm.messages[Symbol.asyncIterator]();\n            function processIteratorResult(result) {\n              var message = result.value;\n              var content = {data: message.data};\n              var metadata = message.metadata || {comm_id};\n              var msg = {content, metadata}\n              msg_handler(msg);\n              return messages.next().then(processIteratorResult);\n            }\n            return messages.next().then(processIteratorResult);\n          }\n        }) \n        var sendClosure = (data, metadata, buffers, disposeOnDone) => {\n          return comm_promise.then((comm) => {\n            comm.send(data, metadata, buffers, disposeOnDone);\n          });\n        };\n        var comm = {\n          send: sendClosure\n        };\n      }\n      window.PyViz.comms[comm_id] = comm;\n      return comm;\n    }\n    window.PyViz.comm_manager = new JupyterCommManager();\n    \n\n\nvar JS_MIME_TYPE = 'application/javascript';\nvar HTML_MIME_TYPE = 'text/html';\nvar EXEC_MIME_TYPE = 'application/vnd.holoviews_exec.v0+json';\nvar CLASS_NAME = 'output';\n\n/**\n * Render data to the DOM node\n */\nfunction render(props, node) {\n  var div = document.createElement(\"div\");\n  var script = document.createElement(\"script\");\n  node.appendChild(div);\n  node.appendChild(script);\n}\n\n/**\n * Handle when a new output is added\n */\nfunction handle_add_output(event, handle) {\n  var output_area = handle.output_area;\n  var output = handle.output;\n  if ((output.data == undefined) || (!output.data.hasOwnProperty(EXEC_MIME_TYPE))) {\n    return\n  }\n  var id = output.metadata[EXEC_MIME_TYPE][\"id\"];\n  var toinsert = output_area.element.find(\".\" + CLASS_NAME.split(' ')[0]);\n  if (id !== undefined) {\n    var nchildren = toinsert.length;\n    var html_node = toinsert[nchildren-1].children[0];\n    html_node.innerHTML = output.data[HTML_MIME_TYPE];\n    var scripts = [];\n    var nodelist = html_node.querySelectorAll(\"script\");\n    for (var i in nodelist) {\n      if (nodelist.hasOwnProperty(i)) {\n        scripts.push(nodelist[i])\n      }\n    }\n\n    scripts.forEach( function (oldScript) {\n      var newScript = document.createElement(\"script\");\n      var attrs = [];\n      var nodemap = oldScript.attributes;\n      for (var j in nodemap) {\n        if (nodemap.hasOwnProperty(j)) {\n          attrs.push(nodemap[j])\n        }\n      }\n      attrs.forEach(function(attr) { newScript.setAttribute(attr.name, attr.value) });\n      newScript.appendChild(document.createTextNode(oldScript.innerHTML));\n      oldScript.parentNode.replaceChild(newScript, oldScript);\n    });\n    if (JS_MIME_TYPE in output.data) {\n      toinsert[nchildren-1].children[1].textContent = output.data[JS_MIME_TYPE];\n    }\n    output_area._hv_plot_id = id;\n    if ((window.Bokeh !== undefined) && (id in Bokeh.index)) {\n      window.PyViz.plot_index[id] = Bokeh.index[id];\n    } else {\n      window.PyViz.plot_index[id] = null;\n    }\n  } else if (output.metadata[EXEC_MIME_TYPE][\"server_id\"] !== undefined) {\n    var bk_div = document.createElement(\"div\");\n    bk_div.innerHTML = output.data[HTML_MIME_TYPE];\n    var script_attrs = bk_div.children[0].attributes;\n    for (var i = 0; i < script_attrs.length; i++) {\n      toinsert[toinsert.length - 1].childNodes[1].setAttribute(script_attrs[i].name, script_attrs[i].value);\n    }\n    // store reference to server id on output_area\n    output_area._bokeh_server_id = output.metadata[EXEC_MIME_TYPE][\"server_id\"];\n  }\n}\n\n/**\n * Handle when an output is cleared or removed\n */\nfunction handle_clear_output(event, handle) {\n  var id = handle.cell.output_area._hv_plot_id;\n  var server_id = handle.cell.output_area._bokeh_server_id;\n  if (((id === undefined) || !(id in PyViz.plot_index)) && (server_id !== undefined)) { return; }\n  var comm = window.PyViz.comm_manager.get_client_comm(\"hv-extension-comm\", \"hv-extension-comm\", function () {});\n  if (server_id !== null) {\n    comm.send({event_type: 'server_delete', 'id': server_id});\n    return;\n  } else if (comm !== null) {\n    comm.send({event_type: 'delete', 'id': id});\n  }\n  delete PyViz.plot_index[id];\n  if ((window.Bokeh !== undefined) & (id in window.Bokeh.index)) {\n    var doc = window.Bokeh.index[id].model.document\n    doc.clear();\n    const i = window.Bokeh.documents.indexOf(doc);\n    if (i > -1) {\n      window.Bokeh.documents.splice(i, 1);\n    }\n  }\n}\n\n/**\n * Handle kernel restart event\n */\nfunction handle_kernel_cleanup(event, handle) {\n  delete PyViz.comms[\"hv-extension-comm\"];\n  window.PyViz.plot_index = {}\n}\n\n/**\n * Handle update_display_data messages\n */\nfunction handle_update_output(event, handle) {\n  handle_clear_output(event, {cell: {output_area: handle.output_area}})\n  handle_add_output(event, handle)\n}\n\nfunction register_renderer(events, OutputArea) {\n  function append_mime(data, metadata, element) {\n    // create a DOM node to render to\n    var toinsert = this.create_output_subarea(\n    metadata,\n    CLASS_NAME,\n    EXEC_MIME_TYPE\n    );\n    this.keyboard_manager.register_events(toinsert);\n    // Render to node\n    var props = {data: data, metadata: metadata[EXEC_MIME_TYPE]};\n    render(props, toinsert[0]);\n    element.append(toinsert);\n    return toinsert\n  }\n\n  events.on('output_added.OutputArea', handle_add_output);\n  events.on('output_updated.OutputArea', handle_update_output);\n  events.on('clear_output.CodeCell', handle_clear_output);\n  events.on('delete.Cell', handle_clear_output);\n  events.on('kernel_ready.Kernel', handle_kernel_cleanup);\n\n  OutputArea.prototype.register_mime_type(EXEC_MIME_TYPE, append_mime, {\n    safe: true,\n    index: 0\n  });\n}\n\nif (window.Jupyter !== undefined) {\n  try {\n    var events = require('base/js/events');\n    var OutputArea = require('notebook/js/outputarea').OutputArea;\n    if (OutputArea.prototype.mime_types().indexOf(EXEC_MIME_TYPE) == -1) {\n      register_renderer(events, OutputArea);\n    }\n  } catch(err) {\n  }\n}\n",
      "application/vnd.holoviews_load.v0+json": ""
     },
     "metadata": {},
     "output_type": "display_data"
    },
    {
     "data": {
      "text/html": [
       "<style>*[data-root-id],\n",
       "*[data-root-id] > * {\n",
       "  box-sizing: border-box;\n",
       "  font-family: var(--jp-ui-font-family);\n",
       "  font-size: var(--jp-ui-font-size1);\n",
       "  color: var(--vscode-editor-foreground, var(--jp-ui-font-color1));\n",
       "}\n",
       "\n",
       "/* Override VSCode background color */\n",
       ".cell-output-ipywidget-background:has(> .cell-output-ipywidget-background\n",
       "    > .lm-Widget\n",
       "    > *[data-root-id]),\n",
       ".cell-output-ipywidget-background:has(> .lm-Widget > *[data-root-id]) {\n",
       "  background-color: transparent !important;\n",
       "}\n",
       "</style>"
      ]
     },
     "metadata": {},
     "output_type": "display_data"
    },
    {
     "data": {
      "text/html": [
       "<style>*[data-root-id],\n",
       "*[data-root-id] > * {\n",
       "  box-sizing: border-box;\n",
       "  font-family: var(--jp-ui-font-family);\n",
       "  font-size: var(--jp-ui-font-size1);\n",
       "  color: var(--vscode-editor-foreground, var(--jp-ui-font-color1));\n",
       "}\n",
       "\n",
       "/* Override VSCode background color */\n",
       ".cell-output-ipywidget-background:has(> .cell-output-ipywidget-background\n",
       "    > .lm-Widget\n",
       "    > *[data-root-id]),\n",
       ".cell-output-ipywidget-background:has(> .lm-Widget > *[data-root-id]) {\n",
       "  background-color: transparent !important;\n",
       "}\n",
       "</style>"
      ]
     },
     "metadata": {},
     "output_type": "display_data"
    },
    {
     "data": {
      "text/html": [
       "<style>*[data-root-id],\n",
       "*[data-root-id] > * {\n",
       "  box-sizing: border-box;\n",
       "  font-family: var(--jp-ui-font-family);\n",
       "  font-size: var(--jp-ui-font-size1);\n",
       "  color: var(--vscode-editor-foreground, var(--jp-ui-font-color1));\n",
       "}\n",
       "\n",
       "/* Override VSCode background color */\n",
       ".cell-output-ipywidget-background:has(> .cell-output-ipywidget-background\n",
       "    > .lm-Widget\n",
       "    > *[data-root-id]),\n",
       ".cell-output-ipywidget-background:has(> .lm-Widget > *[data-root-id]) {\n",
       "  background-color: transparent !important;\n",
       "}\n",
       "</style>"
      ]
     },
     "metadata": {},
     "output_type": "display_data"
    },
    {
     "data": {
      "text/html": [
       "<style>*[data-root-id],\n",
       "*[data-root-id] > * {\n",
       "  box-sizing: border-box;\n",
       "  font-family: var(--jp-ui-font-family);\n",
       "  font-size: var(--jp-ui-font-size1);\n",
       "  color: var(--vscode-editor-foreground, var(--jp-ui-font-color1));\n",
       "}\n",
       "\n",
       "/* Override VSCode background color */\n",
       ".cell-output-ipywidget-background:has(> .cell-output-ipywidget-background\n",
       "    > .lm-Widget\n",
       "    > *[data-root-id]),\n",
       ".cell-output-ipywidget-background:has(> .lm-Widget > *[data-root-id]) {\n",
       "  background-color: transparent !important;\n",
       "}\n",
       "</style>"
      ]
     },
     "metadata": {},
     "output_type": "display_data"
    },
    {
     "data": {
      "text/html": [
       "<style>*[data-root-id],\n",
       "*[data-root-id] > * {\n",
       "  box-sizing: border-box;\n",
       "  font-family: var(--jp-ui-font-family);\n",
       "  font-size: var(--jp-ui-font-size1);\n",
       "  color: var(--vscode-editor-foreground, var(--jp-ui-font-color1));\n",
       "}\n",
       "\n",
       "/* Override VSCode background color */\n",
       ".cell-output-ipywidget-background:has(> .cell-output-ipywidget-background\n",
       "    > .lm-Widget\n",
       "    > *[data-root-id]),\n",
       ".cell-output-ipywidget-background:has(> .lm-Widget > *[data-root-id]) {\n",
       "  background-color: transparent !important;\n",
       "}\n",
       "</style>"
      ]
     },
     "metadata": {},
     "output_type": "display_data"
    },
    {
     "data": {
      "text/html": [
       "<style>*[data-root-id],\n",
       "*[data-root-id] > * {\n",
       "  box-sizing: border-box;\n",
       "  font-family: var(--jp-ui-font-family);\n",
       "  font-size: var(--jp-ui-font-size1);\n",
       "  color: var(--vscode-editor-foreground, var(--jp-ui-font-color1));\n",
       "}\n",
       "\n",
       "/* Override VSCode background color */\n",
       ".cell-output-ipywidget-background:has(> .cell-output-ipywidget-background\n",
       "    > .lm-Widget\n",
       "    > *[data-root-id]),\n",
       ".cell-output-ipywidget-background:has(> .lm-Widget > *[data-root-id]) {\n",
       "  background-color: transparent !important;\n",
       "}\n",
       "</style>"
      ]
     },
     "metadata": {},
     "output_type": "display_data"
    },
    {
     "data": {
      "text/html": [
       "<style>*[data-root-id],\n",
       "*[data-root-id] > * {\n",
       "  box-sizing: border-box;\n",
       "  font-family: var(--jp-ui-font-family);\n",
       "  font-size: var(--jp-ui-font-size1);\n",
       "  color: var(--vscode-editor-foreground, var(--jp-ui-font-color1));\n",
       "}\n",
       "\n",
       "/* Override VSCode background color */\n",
       ".cell-output-ipywidget-background:has(> .cell-output-ipywidget-background\n",
       "    > .lm-Widget\n",
       "    > *[data-root-id]),\n",
       ".cell-output-ipywidget-background:has(> .lm-Widget > *[data-root-id]) {\n",
       "  background-color: transparent !important;\n",
       "}\n",
       "</style>"
      ]
     },
     "metadata": {},
     "output_type": "display_data"
    },
    {
     "data": {
      "application/javascript": "(function(root) {\n  function now() {\n    return new Date();\n  }\n\n  var force = true;\n  var py_version = '3.1.1'.replace('rc', '-rc.');\n  var is_dev = py_version.indexOf(\"+\") !== -1 || py_version.indexOf(\"-\") !== -1;\n  var reloading = false;\n  var Bokeh = root.Bokeh;\n  var bokeh_loaded = Bokeh != null && (Bokeh.version === py_version || (Bokeh.versions !== undefined && Bokeh.versions.has(py_version)));\n\n  if (typeof (root._bokeh_timeout) === \"undefined\" || force) {\n    root._bokeh_timeout = Date.now() + 5000;\n    root._bokeh_failed_load = false;\n  }\n\n  function run_callbacks() {\n    try {\n      root._bokeh_onload_callbacks.forEach(function(callback) {\n        if (callback != null)\n          callback();\n      });\n    } finally {\n      delete root._bokeh_onload_callbacks;\n    }\n    console.debug(\"Bokeh: all callbacks have finished\");\n  }\n\n  function load_libs(css_urls, js_urls, js_modules, js_exports, callback) {\n    if (css_urls == null) css_urls = [];\n    if (js_urls == null) js_urls = [];\n    if (js_modules == null) js_modules = [];\n    if (js_exports == null) js_exports = {};\n\n    root._bokeh_onload_callbacks.push(callback);\n\n    if (root._bokeh_is_loading > 0) {\n      console.debug(\"Bokeh: BokehJS is being loaded, scheduling callback at\", now());\n      return null;\n    }\n    if (js_urls.length === 0 && js_modules.length === 0 && Object.keys(js_exports).length === 0) {\n      run_callbacks();\n      return null;\n    }\n    if (!reloading) {\n      console.debug(\"Bokeh: BokehJS not loaded, scheduling load and callback at\", now());\n    }\n\n    function on_load() {\n      root._bokeh_is_loading--;\n      if (root._bokeh_is_loading === 0) {\n        console.debug(\"Bokeh: all BokehJS libraries/stylesheets loaded\");\n        run_callbacks()\n      }\n    }\n    window._bokeh_on_load = on_load\n\n    function on_error() {\n      console.error(\"failed to load \" + url);\n    }\n\n    var skip = [];\n    if (window.requirejs) {\n      window.requirejs.config({'packages': {}, 'paths': {'jspanel': 'https://cdn.jsdelivr.net/npm/jspanel4@4.12.0/dist/jspanel', 'jspanel-modal': 'https://cdn.jsdelivr.net/npm/jspanel4@4.12.0/dist/extensions/modal/jspanel.modal', 'jspanel-tooltip': 'https://cdn.jsdelivr.net/npm/jspanel4@4.12.0/dist/extensions/tooltip/jspanel.tooltip', 'jspanel-hint': 'https://cdn.jsdelivr.net/npm/jspanel4@4.12.0/dist/extensions/hint/jspanel.hint', 'jspanel-layout': 'https://cdn.jsdelivr.net/npm/jspanel4@4.12.0/dist/extensions/layout/jspanel.layout', 'jspanel-contextmenu': 'https://cdn.jsdelivr.net/npm/jspanel4@4.12.0/dist/extensions/contextmenu/jspanel.contextmenu', 'jspanel-dock': 'https://cdn.jsdelivr.net/npm/jspanel4@4.12.0/dist/extensions/dock/jspanel.dock', 'gridstack': 'https://cdn.jsdelivr.net/npm/gridstack@7.2.3/dist/gridstack-all', 'notyf': 'https://cdn.jsdelivr.net/npm/notyf@3/notyf.min'}, 'shim': {'jspanel': {'exports': 'jsPanel'}, 'gridstack': {'exports': 'GridStack'}}});\n      require([\"jspanel\"], function(jsPanel) {\n\twindow.jsPanel = jsPanel\n\ton_load()\n      })\n      require([\"jspanel-modal\"], function() {\n\ton_load()\n      })\n      require([\"jspanel-tooltip\"], function() {\n\ton_load()\n      })\n      require([\"jspanel-hint\"], function() {\n\ton_load()\n      })\n      require([\"jspanel-layout\"], function() {\n\ton_load()\n      })\n      require([\"jspanel-contextmenu\"], function() {\n\ton_load()\n      })\n      require([\"jspanel-dock\"], function() {\n\ton_load()\n      })\n      require([\"gridstack\"], function(GridStack) {\n\twindow.GridStack = GridStack\n\ton_load()\n      })\n      require([\"notyf\"], function() {\n\ton_load()\n      })\n      root._bokeh_is_loading = css_urls.length + 9;\n    } else {\n      root._bokeh_is_loading = css_urls.length + js_urls.length + js_modules.length + Object.keys(js_exports).length;\n    }\n\n    var existing_stylesheets = []\n    var links = document.getElementsByTagName('link')\n    for (var i = 0; i < links.length; i++) {\n      var link = links[i]\n      if (link.href != null) {\n\texisting_stylesheets.push(link.href)\n      }\n    }\n    for (var i = 0; i < css_urls.length; i++) {\n      var url = css_urls[i];\n      if (existing_stylesheets.indexOf(url) !== -1) {\n\ton_load()\n\tcontinue;\n      }\n      const element = document.createElement(\"link\");\n      element.onload = on_load;\n      element.onerror = on_error;\n      element.rel = \"stylesheet\";\n      element.type = \"text/css\";\n      element.href = url;\n      console.debug(\"Bokeh: injecting link tag for BokehJS stylesheet: \", url);\n      document.body.appendChild(element);\n    }    if (((window['jsPanel'] !== undefined) && (!(window['jsPanel'] instanceof HTMLElement))) || window.requirejs) {\n      var urls = ['https://cdn.holoviz.org/panel/1.1.0/dist/bundled/floatpanel/jspanel4@4.12.0/dist/jspanel.js', 'https://cdn.holoviz.org/panel/1.1.0/dist/bundled/floatpanel/jspanel4@4.12.0/dist/extensions/modal/jspanel.modal.js', 'https://cdn.holoviz.org/panel/1.1.0/dist/bundled/floatpanel/jspanel4@4.12.0/dist/extensions/tooltip/jspanel.tooltip.js', 'https://cdn.holoviz.org/panel/1.1.0/dist/bundled/floatpanel/jspanel4@4.12.0/dist/extensions/hint/jspanel.hint.js', 'https://cdn.holoviz.org/panel/1.1.0/dist/bundled/floatpanel/jspanel4@4.12.0/dist/extensions/layout/jspanel.layout.js', 'https://cdn.holoviz.org/panel/1.1.0/dist/bundled/floatpanel/jspanel4@4.12.0/dist/extensions/contextmenu/jspanel.contextmenu.js', 'https://cdn.holoviz.org/panel/1.1.0/dist/bundled/floatpanel/jspanel4@4.12.0/dist/extensions/dock/jspanel.dock.js'];\n      for (var i = 0; i < urls.length; i++) {\n        skip.push(urls[i])\n      }\n    }    if (((window['GridStack'] !== undefined) && (!(window['GridStack'] instanceof HTMLElement))) || window.requirejs) {\n      var urls = ['https://cdn.holoviz.org/panel/1.1.0/dist/bundled/gridstack/gridstack@7.2.3/dist/gridstack-all.js'];\n      for (var i = 0; i < urls.length; i++) {\n        skip.push(urls[i])\n      }\n    }    if (((window['Notyf'] !== undefined) && (!(window['Notyf'] instanceof HTMLElement))) || window.requirejs) {\n      var urls = ['https://cdn.holoviz.org/panel/1.1.0/dist/bundled/notificationarea/notyf@3/notyf.min.js'];\n      for (var i = 0; i < urls.length; i++) {\n        skip.push(urls[i])\n      }\n    }    var existing_scripts = []\n    var scripts = document.getElementsByTagName('script')\n    for (var i = 0; i < scripts.length; i++) {\n      var script = scripts[i]\n      if (script.src != null) {\n\texisting_scripts.push(script.src)\n      }\n    }\n    for (var i = 0; i < js_urls.length; i++) {\n      var url = js_urls[i];\n      if (skip.indexOf(url) !== -1 || existing_scripts.indexOf(url) !== -1) {\n\tif (!window.requirejs) {\n\t  on_load();\n\t}\n\tcontinue;\n      }\n      var element = document.createElement('script');\n      element.onload = on_load;\n      element.onerror = on_error;\n      element.async = false;\n      element.src = url;\n      console.debug(\"Bokeh: injecting script tag for BokehJS library: \", url);\n      document.head.appendChild(element);\n    }\n    for (var i = 0; i < js_modules.length; i++) {\n      var url = js_modules[i];\n      if (skip.indexOf(url) !== -1 || existing_scripts.indexOf(url) !== -1) {\n\tif (!window.requirejs) {\n\t  on_load();\n\t}\n\tcontinue;\n      }\n      var element = document.createElement('script');\n      element.onload = on_load;\n      element.onerror = on_error;\n      element.async = false;\n      element.src = url;\n      element.type = \"module\";\n      console.debug(\"Bokeh: injecting script tag for BokehJS library: \", url);\n      document.head.appendChild(element);\n    }\n    for (const name in js_exports) {\n      var url = js_exports[name];\n      if (skip.indexOf(url) >= 0 || root[name] != null) {\n\tif (!window.requirejs) {\n\t  on_load();\n\t}\n\tcontinue;\n      }\n      var element = document.createElement('script');\n      element.onerror = on_error;\n      element.async = false;\n      element.type = \"module\";\n      console.debug(\"Bokeh: injecting script tag for BokehJS library: \", url);\n      element.textContent = `\n      import ${name} from \"${url}\"\n      window.${name} = ${name}\n      window._bokeh_on_load()\n      `\n      document.head.appendChild(element);\n    }\n    if (!js_urls.length && !js_modules.length) {\n      on_load()\n    }\n  };\n\n  function inject_raw_css(css) {\n    const element = document.createElement(\"style\");\n    element.appendChild(document.createTextNode(css));\n    document.body.appendChild(element);\n  }\n\n  var js_urls = [\"https://cdn.bokeh.org/bokeh/release/bokeh-3.1.1.min.js\", \"https://cdn.bokeh.org/bokeh/release/bokeh-gl-3.1.1.min.js\", \"https://cdn.bokeh.org/bokeh/release/bokeh-widgets-3.1.1.min.js\", \"https://cdn.bokeh.org/bokeh/release/bokeh-tables-3.1.1.min.js\", \"https://cdn.holoviz.org/panel/1.1.0/dist/panel.min.js\"];\n  var js_modules = [];\n  var js_exports = {};\n  var css_urls = [];\n  var inline_js = [    function(Bokeh) {\n      Bokeh.set_log_level(\"info\");\n    },\nfunction(Bokeh) {} // ensure no trailing comma for IE\n  ];\n\n  function run_inline_js() {\n    if ((root.Bokeh !== undefined) || (force === true)) {\n      for (var i = 0; i < inline_js.length; i++) {\n        inline_js[i].call(root, root.Bokeh);\n      }\n      // Cache old bokeh versions\n      if (Bokeh != undefined && !reloading) {\n\tvar NewBokeh = root.Bokeh;\n\tif (Bokeh.versions === undefined) {\n\t  Bokeh.versions = new Map();\n\t}\n\tif (NewBokeh.version !== Bokeh.version) {\n\t  Bokeh.versions.set(NewBokeh.version, NewBokeh)\n\t}\n\troot.Bokeh = Bokeh;\n      }} else if (Date.now() < root._bokeh_timeout) {\n      setTimeout(run_inline_js, 100);\n    } else if (!root._bokeh_failed_load) {\n      console.log(\"Bokeh: BokehJS failed to load within specified timeout.\");\n      root._bokeh_failed_load = true;\n    }\n    root._bokeh_is_initializing = false\n  }\n\n  function load_or_wait() {\n    // Implement a backoff loop that tries to ensure we do not load multiple\n    // versions of Bokeh and its dependencies at the same time.\n    // In recent versions we use the root._bokeh_is_initializing flag\n    // to determine whether there is an ongoing attempt to initialize\n    // bokeh, however for backward compatibility we also try to ensure\n    // that we do not start loading a newer (Panel>=1.0 and Bokeh>3) version\n    // before older versions are fully initialized.\n    if (root._bokeh_is_initializing && Date.now() > root._bokeh_timeout) {\n      root._bokeh_is_initializing = false;\n      root._bokeh_onload_callbacks = undefined;\n      console.log(\"Bokeh: BokehJS was loaded multiple times but one version failed to initialize.\");\n      load_or_wait();\n    } else if (root._bokeh_is_initializing || (typeof root._bokeh_is_initializing === \"undefined\" && root._bokeh_onload_callbacks !== undefined)) {\n      setTimeout(load_or_wait, 100);\n    } else {\n      Bokeh = root.Bokeh;\n      bokeh_loaded = Bokeh != null && (Bokeh.version === py_version || (Bokeh.versions !== undefined && Bokeh.versions.has(py_version)));\n      root._bokeh_is_initializing = true\n      root._bokeh_onload_callbacks = []\n      if (!reloading && (!bokeh_loaded || is_dev)) {\n\troot.Bokeh = undefined;\n      }\n      load_libs(css_urls, js_urls, js_modules, js_exports, function() {\n\tconsole.debug(\"Bokeh: BokehJS plotting callback run at\", now());\n\trun_inline_js();\n      });\n    }\n  }\n  // Give older versions of the autoload script a head-start to ensure\n  // they initialize before we start loading newer version.\n  setTimeout(load_or_wait, 100)\n}(window));",
      "application/vnd.holoviews_load.v0+json": ""
     },
     "metadata": {},
     "output_type": "display_data"
    },
    {
     "data": {
      "application/javascript": "\nif ((window.PyViz === undefined) || (window.PyViz instanceof HTMLElement)) {\n  window.PyViz = {comms: {}, comm_status:{}, kernels:{}, receivers: {}, plot_index: []}\n}\n\n\n    function JupyterCommManager() {\n    }\n\n    JupyterCommManager.prototype.register_target = function(plot_id, comm_id, msg_handler) {\n      if (window.comm_manager || ((window.Jupyter !== undefined) && (Jupyter.notebook.kernel != null))) {\n        var comm_manager = window.comm_manager || Jupyter.notebook.kernel.comm_manager;\n        comm_manager.register_target(comm_id, function(comm) {\n          comm.on_msg(msg_handler);\n        });\n      } else if ((plot_id in window.PyViz.kernels) && (window.PyViz.kernels[plot_id])) {\n        window.PyViz.kernels[plot_id].registerCommTarget(comm_id, function(comm) {\n          comm.onMsg = msg_handler;\n        });\n      } else if (typeof google != 'undefined' && google.colab.kernel != null) {\n        google.colab.kernel.comms.registerTarget(comm_id, (comm) => {\n          var messages = comm.messages[Symbol.asyncIterator]();\n          function processIteratorResult(result) {\n            var message = result.value;\n            console.log(message)\n            var content = {data: message.data, comm_id};\n            var buffers = []\n            for (var buffer of message.buffers || []) {\n              buffers.push(new DataView(buffer))\n            }\n            var metadata = message.metadata || {};\n            var msg = {content, buffers, metadata}\n            msg_handler(msg);\n            return messages.next().then(processIteratorResult);\n          }\n          return messages.next().then(processIteratorResult);\n        })\n      }\n    }\n\n    JupyterCommManager.prototype.get_client_comm = function(plot_id, comm_id, msg_handler) {\n      if (comm_id in window.PyViz.comms) {\n        return window.PyViz.comms[comm_id];\n      } else if (window.comm_manager || ((window.Jupyter !== undefined) && (Jupyter.notebook.kernel != null))) {\n        var comm_manager = window.comm_manager || Jupyter.notebook.kernel.comm_manager;\n        var comm = comm_manager.new_comm(comm_id, {}, {}, {}, comm_id);\n        if (msg_handler) {\n          comm.on_msg(msg_handler);\n        }\n      } else if ((plot_id in window.PyViz.kernels) && (window.PyViz.kernels[plot_id])) {\n        var comm = window.PyViz.kernels[plot_id].connectToComm(comm_id);\n        comm.open();\n        if (msg_handler) {\n          comm.onMsg = msg_handler;\n        }\n      } else if (typeof google != 'undefined' && google.colab.kernel != null) {\n        var comm_promise = google.colab.kernel.comms.open(comm_id)\n        comm_promise.then((comm) => {\n          window.PyViz.comms[comm_id] = comm;\n          if (msg_handler) {\n            var messages = comm.messages[Symbol.asyncIterator]();\n            function processIteratorResult(result) {\n              var message = result.value;\n              var content = {data: message.data};\n              var metadata = message.metadata || {comm_id};\n              var msg = {content, metadata}\n              msg_handler(msg);\n              return messages.next().then(processIteratorResult);\n            }\n            return messages.next().then(processIteratorResult);\n          }\n        }) \n        var sendClosure = (data, metadata, buffers, disposeOnDone) => {\n          return comm_promise.then((comm) => {\n            comm.send(data, metadata, buffers, disposeOnDone);\n          });\n        };\n        var comm = {\n          send: sendClosure\n        };\n      }\n      window.PyViz.comms[comm_id] = comm;\n      return comm;\n    }\n    window.PyViz.comm_manager = new JupyterCommManager();\n    \n\n\nvar JS_MIME_TYPE = 'application/javascript';\nvar HTML_MIME_TYPE = 'text/html';\nvar EXEC_MIME_TYPE = 'application/vnd.holoviews_exec.v0+json';\nvar CLASS_NAME = 'output';\n\n/**\n * Render data to the DOM node\n */\nfunction render(props, node) {\n  var div = document.createElement(\"div\");\n  var script = document.createElement(\"script\");\n  node.appendChild(div);\n  node.appendChild(script);\n}\n\n/**\n * Handle when a new output is added\n */\nfunction handle_add_output(event, handle) {\n  var output_area = handle.output_area;\n  var output = handle.output;\n  if ((output.data == undefined) || (!output.data.hasOwnProperty(EXEC_MIME_TYPE))) {\n    return\n  }\n  var id = output.metadata[EXEC_MIME_TYPE][\"id\"];\n  var toinsert = output_area.element.find(\".\" + CLASS_NAME.split(' ')[0]);\n  if (id !== undefined) {\n    var nchildren = toinsert.length;\n    var html_node = toinsert[nchildren-1].children[0];\n    html_node.innerHTML = output.data[HTML_MIME_TYPE];\n    var scripts = [];\n    var nodelist = html_node.querySelectorAll(\"script\");\n    for (var i in nodelist) {\n      if (nodelist.hasOwnProperty(i)) {\n        scripts.push(nodelist[i])\n      }\n    }\n\n    scripts.forEach( function (oldScript) {\n      var newScript = document.createElement(\"script\");\n      var attrs = [];\n      var nodemap = oldScript.attributes;\n      for (var j in nodemap) {\n        if (nodemap.hasOwnProperty(j)) {\n          attrs.push(nodemap[j])\n        }\n      }\n      attrs.forEach(function(attr) { newScript.setAttribute(attr.name, attr.value) });\n      newScript.appendChild(document.createTextNode(oldScript.innerHTML));\n      oldScript.parentNode.replaceChild(newScript, oldScript);\n    });\n    if (JS_MIME_TYPE in output.data) {\n      toinsert[nchildren-1].children[1].textContent = output.data[JS_MIME_TYPE];\n    }\n    output_area._hv_plot_id = id;\n    if ((window.Bokeh !== undefined) && (id in Bokeh.index)) {\n      window.PyViz.plot_index[id] = Bokeh.index[id];\n    } else {\n      window.PyViz.plot_index[id] = null;\n    }\n  } else if (output.metadata[EXEC_MIME_TYPE][\"server_id\"] !== undefined) {\n    var bk_div = document.createElement(\"div\");\n    bk_div.innerHTML = output.data[HTML_MIME_TYPE];\n    var script_attrs = bk_div.children[0].attributes;\n    for (var i = 0; i < script_attrs.length; i++) {\n      toinsert[toinsert.length - 1].childNodes[1].setAttribute(script_attrs[i].name, script_attrs[i].value);\n    }\n    // store reference to server id on output_area\n    output_area._bokeh_server_id = output.metadata[EXEC_MIME_TYPE][\"server_id\"];\n  }\n}\n\n/**\n * Handle when an output is cleared or removed\n */\nfunction handle_clear_output(event, handle) {\n  var id = handle.cell.output_area._hv_plot_id;\n  var server_id = handle.cell.output_area._bokeh_server_id;\n  if (((id === undefined) || !(id in PyViz.plot_index)) && (server_id !== undefined)) { return; }\n  var comm = window.PyViz.comm_manager.get_client_comm(\"hv-extension-comm\", \"hv-extension-comm\", function () {});\n  if (server_id !== null) {\n    comm.send({event_type: 'server_delete', 'id': server_id});\n    return;\n  } else if (comm !== null) {\n    comm.send({event_type: 'delete', 'id': id});\n  }\n  delete PyViz.plot_index[id];\n  if ((window.Bokeh !== undefined) & (id in window.Bokeh.index)) {\n    var doc = window.Bokeh.index[id].model.document\n    doc.clear();\n    const i = window.Bokeh.documents.indexOf(doc);\n    if (i > -1) {\n      window.Bokeh.documents.splice(i, 1);\n    }\n  }\n}\n\n/**\n * Handle kernel restart event\n */\nfunction handle_kernel_cleanup(event, handle) {\n  delete PyViz.comms[\"hv-extension-comm\"];\n  window.PyViz.plot_index = {}\n}\n\n/**\n * Handle update_display_data messages\n */\nfunction handle_update_output(event, handle) {\n  handle_clear_output(event, {cell: {output_area: handle.output_area}})\n  handle_add_output(event, handle)\n}\n\nfunction register_renderer(events, OutputArea) {\n  function append_mime(data, metadata, element) {\n    // create a DOM node to render to\n    var toinsert = this.create_output_subarea(\n    metadata,\n    CLASS_NAME,\n    EXEC_MIME_TYPE\n    );\n    this.keyboard_manager.register_events(toinsert);\n    // Render to node\n    var props = {data: data, metadata: metadata[EXEC_MIME_TYPE]};\n    render(props, toinsert[0]);\n    element.append(toinsert);\n    return toinsert\n  }\n\n  events.on('output_added.OutputArea', handle_add_output);\n  events.on('output_updated.OutputArea', handle_update_output);\n  events.on('clear_output.CodeCell', handle_clear_output);\n  events.on('delete.Cell', handle_clear_output);\n  events.on('kernel_ready.Kernel', handle_kernel_cleanup);\n\n  OutputArea.prototype.register_mime_type(EXEC_MIME_TYPE, append_mime, {\n    safe: true,\n    index: 0\n  });\n}\n\nif (window.Jupyter !== undefined) {\n  try {\n    var events = require('base/js/events');\n    var OutputArea = require('notebook/js/outputarea').OutputArea;\n    if (OutputArea.prototype.mime_types().indexOf(EXEC_MIME_TYPE) == -1) {\n      register_renderer(events, OutputArea);\n    }\n  } catch(err) {\n  }\n}\n",
      "application/vnd.holoviews_load.v0+json": ""
     },
     "metadata": {},
     "output_type": "display_data"
    },
    {
     "data": {
      "text/html": [
       "<style>*[data-root-id],\n",
       "*[data-root-id] > * {\n",
       "  box-sizing: border-box;\n",
       "  font-family: var(--jp-ui-font-family);\n",
       "  font-size: var(--jp-ui-font-size1);\n",
       "  color: var(--vscode-editor-foreground, var(--jp-ui-font-color1));\n",
       "}\n",
       "\n",
       "/* Override VSCode background color */\n",
       ".cell-output-ipywidget-background:has(> .cell-output-ipywidget-background\n",
       "    > .lm-Widget\n",
       "    > *[data-root-id]),\n",
       ".cell-output-ipywidget-background:has(> .lm-Widget > *[data-root-id]) {\n",
       "  background-color: transparent !important;\n",
       "}\n",
       "</style>"
      ]
     },
     "metadata": {},
     "output_type": "display_data"
    },
    {
     "name": "stderr",
     "output_type": "stream",
     "text": [
      "Processes:   1%|▏         | 1/80 [00:14<18:43, 14.22s/it]"
     ]
    },
    {
     "name": "stdout",
     "output_type": "stream",
     "text": [
      "Writing new NWB file Banner20211227_ZCV7WYSCTT.nwb\n",
      "Writing new NWB file Banner20211227_8MM9QN52DB.nwb\n",
      "Writing new NWB file Banner20211227_DDUVQV7YG0.nwb\n",
      "Writing new NWB file Banner20211227_Y7MKEZMLKS.nwb\n",
      "Writing new NWB file Banner20211228_QTQ75APIFX.nwb\n",
      "Writing new NWB file Banner20211228_GC7SHY4XMY.nwb\n",
      "Writing new NWB file Banner20211228_E5U4HLKHI7.nwb\n",
      "Writing new NWB file Banner20211228_L66SXOZA8G.nwb\n"
     ]
    },
    {
     "name": "stderr",
     "output_type": "stream",
     "text": [
      "Processes:  11%|█▏        | 9/80 [00:25<02:56,  2.49s/it]"
     ]
    },
    {
     "name": "stdout",
     "output_type": "stream",
     "text": [
      "Writing new NWB file Banner20211228_1TF9MCARPR.nwb\n"
     ]
    },
    {
     "name": "stderr",
     "output_type": "stream",
     "text": [
      "Processes:  19%|█▉        | 15/80 [00:27<01:24,  1.29s/it]"
     ]
    },
    {
     "name": "stdout",
     "output_type": "stream",
     "text": [
      "Writing new NWB file Banner20211228_4HUOPE7H8Q.nwb\n",
      "Writing new NWB file Banner20211228_8KQ3SU3J94.nwb\n",
      "Writing new NWB file Banner20211228_I74RTQDK8E.nwb\n"
     ]
    },
    {
     "name": "stderr",
     "output_type": "stream",
     "text": [
      "Processes:  21%|██▏       | 17/80 [00:30<01:25,  1.36s/it]"
     ]
    },
    {
     "name": "stdout",
     "output_type": "stream",
     "text": [
      "Writing new NWB file Banner20211228_PHQO93CLB8.nwb\n",
      "Writing new NWB file Banner20211228_KPDGO8HDV8.nwb\n",
      "Writing new NWB file Banner20211230_2YICKGDP9Z.nwb\n",
      "Writing new NWB file Banner20211230_KTYZ6NDNN6.nwb\n",
      "Writing new NWB file Banner20211230_QMS8KS31U5.nwb\n"
     ]
    },
    {
     "name": "stderr",
     "output_type": "stream",
     "text": [
      "Processes:  28%|██▊       | 22/80 [00:38<01:11,  1.23s/it]"
     ]
    },
    {
     "name": "stdout",
     "output_type": "stream",
     "text": [
      "Writing new NWB file Banner20211230_26SPETPN4Y.nwb\n",
      "Writing new NWB file Banner20211230_PTN4GQGT6D.nwb\n"
     ]
    },
    {
     "name": "stderr",
     "output_type": "stream",
     "text": [
      "Processes:  31%|███▏      | 25/80 [00:40<00:49,  1.11it/s]"
     ]
    },
    {
     "name": "stdout",
     "output_type": "stream",
     "text": [
      "Writing new NWB file Banner20211231_J0QDM9OJUS.nwb\n",
      "Writing new NWB file Banner20211231_8F8ZQCGLHY.nwb\n",
      "Writing new NWB file Banner20211231_RNZ79PNFNF.nwb\n"
     ]
    },
    {
     "name": "stderr",
     "output_type": "stream",
     "text": [
      "Processes:  34%|███▍      | 27/80 [00:44<01:05,  1.23s/it]"
     ]
    },
    {
     "name": "stdout",
     "output_type": "stream",
     "text": [
      "Writing new NWB file Banner20211231_W657C5V3ZT.nwb\n",
      "Writing new NWB file Banner20211231_OWILY0ZE9R.nwb\n",
      "Writing new NWB file Banner20220103_6V3X04IC3C.nwb\n",
      "Writing new NWB file Banner20220103_NG3AKAE923.nwb\n",
      "Writing new NWB file Banner20220103_Q924EEISH1.nwb\n"
     ]
    },
    {
     "name": "stderr",
     "output_type": "stream",
     "text": [
      "Processes:  38%|███▊      | 30/80 [00:48<00:55,  1.12s/it]"
     ]
    },
    {
     "name": "stdout",
     "output_type": "stream",
     "text": [
      "Writing new NWB file Banner20220103_HDWC8KGBEV.nwb\n",
      "Writing new NWB file Banner20220103_52R4QKA51S.nwb\n"
     ]
    },
    {
     "name": "stderr",
     "output_type": "stream",
     "text": [
      "Processes:  41%|████▏     | 33/80 [00:52<00:49,  1.05s/it]"
     ]
    },
    {
     "name": "stdout",
     "output_type": "stream",
     "text": [
      "Writing new NWB file Banner20220123_F7AWZP1LBI.nwb\n"
     ]
    },
    {
     "name": "stderr",
     "output_type": "stream",
     "text": [
      "Processes:  42%|████▎     | 34/80 [00:52<00:41,  1.11it/s]"
     ]
    },
    {
     "name": "stdout",
     "output_type": "stream",
     "text": [
      "Writing new NWB file Banner20220123_K4SJXHQ55E.nwb\n",
      "Writing new NWB file Banner20220124_B3USGXUEC7.nwb\n",
      "Writing new NWB file Banner20220124_7N2KD4PRAJ.nwb\n",
      "Writing new NWB file Banner20220124_8526N2QUY7.nwb\n",
      "Writing new NWB file Banner20220124_G3SU4YO0FC.nwb\n"
     ]
    },
    {
     "name": "stderr",
     "output_type": "stream",
     "text": [
      "Processes:  49%|████▉     | 39/80 [00:57<00:38,  1.06it/s]"
     ]
    },
    {
     "name": "stdout",
     "output_type": "stream",
     "text": [
      "Writing new NWB file Banner20220126_L1MWFATF6P.nwbWriting new NWB file Banner20220126_4LWRHFPUO4.nwb\n",
      "\n",
      "Writing new NWB file Banner20220126_09G5OB0VWI.nwb\n",
      "Writing new NWB file Banner20220126_BB24BWSD6N.nwb\n"
     ]
    },
    {
     "name": "stderr",
     "output_type": "stream",
     "text": [
      "Processes:  50%|█████     | 40/80 [01:00<00:59,  1.48s/it]"
     ]
    },
    {
     "name": "stdout",
     "output_type": "stream",
     "text": [
      "Writing new NWB file Banner20220126_3RU7VQ02ZX.nwb\n",
      "Writing new NWB file Banner20220126_NFD4ZJ3DEN.nwb\n",
      "Writing new NWB file Banner20220126_J8DBUM84S5.nwb\n",
      "Writing new NWB file Banner20220126_WG0SYFKD1D.nwb\n"
     ]
    },
    {
     "name": "stderr",
     "output_type": "stream",
     "text": [
      "Processes:  64%|██████▍   | 51/80 [01:07<00:12,  2.31it/s]"
     ]
    },
    {
     "name": "stdout",
     "output_type": "stream",
     "text": [
      "Writing new NWB file Banner20220126_2CM6KIN5P2.nwb\n",
      "Writing new NWB file Banner20220216_ONT52XQWRT.nwbWriting new NWB file Banner20220216_B2G4QXA18G.nwb\n",
      "\n",
      "Writing new NWB file Banner20220216_V3ZJQMKO0T.nwb\n",
      "Writing new NWB file Banner20220215_T97244T9RF.nwb\n",
      "Writing new NWB file Banner20220215_Z27AZB98ZM.nwb\n",
      "Writing new NWB file Banner20220215_S83O79Q0XR.nwb\n",
      "Writing new NWB file Banner20220215_K11YCQ4YSR.nwb\n"
     ]
    },
    {
     "name": "stderr",
     "output_type": "stream",
     "text": [
      "Processes:  65%|██████▌   | 52/80 [01:10<00:27,  1.01it/s]"
     ]
    },
    {
     "name": "stdout",
     "output_type": "stream",
     "text": [
      "Writing new NWB file Banner20220216_S6N4G0YTG8.nwb\n"
     ]
    },
    {
     "name": "stderr",
     "output_type": "stream",
     "text": [
      "Processes:  66%|██████▋   | 53/80 [01:16<00:51,  1.90s/it]"
     ]
    },
    {
     "name": "stdout",
     "output_type": "stream",
     "text": [
      "Writing new NWB file Banner20220223_A3TQK7608N.nwbWriting new NWB file Banner20220223_4OHUHGEBYF.nwb\n",
      "\n",
      "Writing new NWB file Banner20220223_RK55D1PRT1.nwb\n",
      "Writing new NWB file Banner20220224_I776ZCN068.nwb\n",
      "Writing new NWB file Banner20220224_CLNJ9YEPUJ.nwb\n",
      "Writing new NWB file Banner20220224_64GRNQRE07.nwb\n",
      "Writing new NWB file Banner20220224_AOIZF9YM0P.nwb\n"
     ]
    },
    {
     "name": "stderr",
     "output_type": "stream",
     "text": [
      "Processes:  75%|███████▌  | 60/80 [01:19<00:18,  1.06it/s]"
     ]
    },
    {
     "name": "stdout",
     "output_type": "stream",
     "text": [
      "Writing new NWB file Banner20220224_5JOBQMOI1R.nwb\n"
     ]
    },
    {
     "name": "stderr",
     "output_type": "stream",
     "text": [
      "Processes:  80%|████████  | 64/80 [01:26<00:18,  1.17s/it]"
     ]
    },
    {
     "name": "stdout",
     "output_type": "stream",
     "text": [
      "Writing new NWB file Banner20220224_9CPVAU7KA3.nwb\n",
      "Writing new NWB file Banner20220224_XBU6C6M1Z1.nwb\n",
      "Writing new NWB file Banner20220224_N1RMKJ6OC6.nwb\n",
      "Writing new NWB file Banner20220224_H0EEMQ6U83.nwb\n",
      "Writing new NWB file Banner20220225_39ZW0DW5PQ.nwb\n"
     ]
    },
    {
     "name": "stderr",
     "output_type": "stream",
     "text": [
      "Processes:  85%|████████▌ | 68/80 [01:29<00:12,  1.03s/it]"
     ]
    },
    {
     "name": "stdout",
     "output_type": "stream",
     "text": [
      "Writing new NWB file Banner20220225_512V9JW5KX.nwb\n",
      "Writing new NWB file Banner20220225_CP2060J1N7.nwb\n"
     ]
    },
    {
     "name": "stderr",
     "output_type": "stream",
     "text": [
      "Processes:  86%|████████▋ | 69/80 [01:32<00:13,  1.25s/it]"
     ]
    },
    {
     "name": "stdout",
     "output_type": "stream",
     "text": [
      "Writing new NWB file Banner20220225_DGFAR5JT2L.nwb\n",
      "Writing new NWB file Banner20220225_A2B6MOEU2M.nwb\n"
     ]
    },
    {
     "name": "stderr",
     "output_type": "stream",
     "text": [
      "Processes:  89%|████████▉ | 71/80 [01:35<00:12,  1.36s/it]"
     ]
    },
    {
     "name": "stdout",
     "output_type": "stream",
     "text": [
      "Writing new NWB file Banner20220225_5S1YI3FJWW.nwb\n",
      "Writing new NWB file Banner20220225_CCVNK6YJ3J.nwb\n"
     ]
    },
    {
     "name": "stderr",
     "output_type": "stream",
     "text": [
      "Processes:  92%|█████████▎| 74/80 [01:37<00:06,  1.03s/it]"
     ]
    },
    {
     "name": "stdout",
     "output_type": "stream",
     "text": [
      "Writing new NWB file Banner20220225_4BLCWOU2LN.nwb\n"
     ]
    },
    {
     "name": "stderr",
     "output_type": "stream",
     "text": [
      "Processes: 100%|██████████| 80/80 [01:43<00:00,  1.29s/it]\n"
     ]
    }
   ],
   "source": [
    "# LFPBandV1().populate(processes=4)]\n",
    "import warnings \n",
    "from spyglass.lfp.analysis.v1.lfp_band import LFPBandV1\n",
    "warnings.filterwarnings('ignore')\n",
    "animal_names = [\"Banner\",\"Wallie\",\"Winnie\",\"Olive\",\"Totoro\",\"Yoshi\",\"Dan\",\"Bilbo\",\"Frodo\"]\n",
    "for animal in animal_names:\n",
    "    LFPBandV1().populate(f\"nwb_file_name LIKE '{animal}%'\",processes=8,display_progress=True)"
   ]
  },
  {
   "cell_type": "markdown",
   "id": "24d0f773",
   "metadata": {},
   "source": [
    "## Populate Ripple Tables"
   ]
  },
  {
   "cell_type": "code",
   "execution_count": 2,
   "id": "e55a8edd",
   "metadata": {},
   "outputs": [],
   "source": [
    "import spyglass.ripple.v1 as sgrip\n",
    "import spyglass.ripple.v1 as sgr\n",
    "from spyglass.position import PositionOutput\n",
    "\n",
    "# params = sgrip.RippleParameters().fetch(\"ripple_param_dict\")[1]\n",
    "# params_name = 'default_ms'\n",
    "# sgr.RippleParameters().insert1({\"ripple_param_dict\":params,\"ripple_param_name\":params_name},skip_duplicates=True)"
   ]
  },
  {
   "cell_type": "code",
   "execution_count": 12,
   "id": "28b66963",
   "metadata": {},
   "outputs": [],
   "source": [
    "key_list = []\n",
    "for animal in animal_names[:2]:\n",
    "    table = (LFPBandV1 ) & f\"nwb_file_name LIKE '{animal}%'\" & \"filter_name='Ripple 150-250 Hz'\"\n",
    "    # table.fetch1_dataframe()\n",
    "    lfp_band_key_list = table.fetch(\"KEY\")\n",
    "    for lfp_band_key in lfp_band_key_list:\n",
    "        if sgrip.RippleTimesV1() & lfp_band_key:\n",
    "            continue\n",
    "        if lfp_band_key['target_interval_list_name'] =='test interval':\n",
    "            continue\n",
    "        # from spyglass.common import RippleLFPSelection\n",
    "        sgr.RippleLFPSelection().set_lfp_electrodes(lfp_band_key)\n",
    "        rip_sel_key = (sgrip.RippleLFPSelection & lfp_band_key).fetch1(\"KEY\")\n",
    "        pos_key = (PositionOutput.TrodesPosV1() & {'nwb_file_name':lfp_band_key['nwb_file_name'],\n",
    "                                'interval_list_name':lfp_band_key['target_interval_list_name']}).fetch1('KEY')\n",
    "        \n",
    "        key = {\n",
    "            \"ripple_param_name\": \"default_ms\",\n",
    "            **rip_sel_key,\n",
    "            \"pos_merge_id\": pos_key[\"merge_id\"],\n",
    "        }\n",
    "        key_list.append(key)"
   ]
  },
  {
   "cell_type": "code",
   "execution_count": 13,
   "id": "bbf004c9",
   "metadata": {},
   "outputs": [
    {
     "name": "stderr",
     "output_type": "stream",
     "text": [
      "Processes:   0%|          | 0/79 [00:00<?, ?it/s]"
     ]
    },
    {
     "name": "stdout",
     "output_type": "stream",
     "text": [
      "Computing ripple times for: {'lfp_merge_id': UUID('638ce6b5-bf11-545a-c5da-8d4acae587e5'), 'filter_name': 'Ripple 150-250 Hz', 'filter_sampling_rate': 1000, 'nwb_file_name': 'Banner20211228_.nwb', 'target_interval_list_name': 'pos 7 valid times', 'lfp_band_sampling_rate': 1000, 'group_name': 'CA1', 'ripple_param_name': 'default_ms', 'pos_merge_id': UUID('05737968-0ed0-e8af-2c06-debc4c689bf0')}Computing ripple times for: {'lfp_merge_id': UUID('b7dc5423-249e-bcb8-7931-7f54f5dfafe3'), 'filter_name': 'Ripple 150-250 Hz', 'filter_sampling_rate': 1000, 'nwb_file_name': 'Banner20220223_.nwb', 'target_interval_list_name': 'pos 2 valid times', 'lfp_band_sampling_rate': 1000, 'group_name': 'CA1', 'ripple_param_name': 'default_ms', 'pos_merge_id': UUID('0838cfa6-0c73-9fa7-2ddc-adc67d7d88b2')}Computing ripple times for: {'lfp_merge_id': UUID('13fb8fd7-7aa5-7258-a6d9-8aa48e5182f7'), 'filter_name': 'Ripple 150-250 Hz', 'filter_sampling_rate': 1000, 'nwb_file_name': 'Banner20220103_.nwb', 'target_interval_list_name': 'pos 1 valid times', 'lfp_band_sampling_rate': 1000, 'group_name': 'CA1', 'ripple_param_name': 'default_ms', 'pos_merge_id': UUID('09e8e7ba-5215-1f12-1aca-59581f1abbcd')}\n",
      "\n",
      "\n",
      "Computing ripple times for: {'lfp_merge_id': UUID('9dc18dd5-69e2-ffbd-5be1-0a50e2a9cb1e'), 'filter_name': 'Ripple 150-250 Hz', 'filter_sampling_rate': 1000, 'nwb_file_name': 'Banner20211221_.nwb', 'target_interval_list_name': 'pos 0 valid times', 'lfp_band_sampling_rate': 1000, 'group_name': 'CA1', 'ripple_param_name': 'default_ms', 'pos_merge_id': UUID('0a5ddae3-31cd-f0de-d3c2-47ed53d7f908')}\n",
      "Writing new NWB file Banner20220223_YT4W7ST6EF.nwb\n",
      "Computing ripple times for: {'lfp_merge_id': UUID('10911e08-10ef-475d-fdf2-a4e94aa9405b'), 'filter_name': 'Ripple 150-250 Hz', 'filter_sampling_rate': 1000, 'nwb_file_name': 'Banner20211228_.nwb', 'target_interval_list_name': 'pos 2 valid times', 'lfp_band_sampling_rate': 1000, 'group_name': 'CA1', 'ripple_param_name': 'default_ms', 'pos_merge_id': UUID('0d6bdfd8-22c9-fdd6-72e3-affd7b45cf93')}\n",
      "Writing new NWB file Banner20211228_UA2T2U4RP4.nwb\n",
      "Writing new NWB file Banner20220103_AOH8YLZ3W8.nwb\n"
     ]
    },
    {
     "name": "stderr",
     "output_type": "stream",
     "text": [
      "Processes:   1%|▏         | 1/79 [00:12<16:00, 12.31s/it]"
     ]
    },
    {
     "name": "stdout",
     "output_type": "stream",
     "text": [
      "Computing ripple times for: {'lfp_merge_id': UUID('2a9092d8-35d9-6d94-d404-08fab51fa2b9'), 'filter_name': 'Ripple 150-250 Hz', 'filter_sampling_rate': 1000, 'nwb_file_name': 'Banner20211221_.nwb', 'target_interval_list_name': 'pos 1 valid times', 'lfp_band_sampling_rate': 1000, 'group_name': 'CA1', 'ripple_param_name': 'default_ms', 'pos_merge_id': UUID('0f37ed35-616e-2bba-ff50-5b1518679d45')}\n",
      "Writing new NWB file Banner20211221_QA9VBPGHG1.nwb\n"
     ]
    },
    {
     "name": "stderr",
     "output_type": "stream",
     "text": [
      "Processes:   4%|▍         | 3/79 [00:13<04:28,  3.54s/it]"
     ]
    },
    {
     "name": "stdout",
     "output_type": "stream",
     "text": [
      "Computing ripple times for: {'lfp_merge_id': UUID('2d0539c8-f223-ec38-6f43-fd0be37c37d8'), 'filter_name': 'Ripple 150-250 Hz', 'filter_sampling_rate': 1000, 'nwb_file_name': 'Banner20211227_.nwb', 'target_interval_list_name': 'pos 2 valid times', 'lfp_band_sampling_rate': 1000, 'group_name': 'CA1', 'ripple_param_name': 'default_ms', 'pos_merge_id': UUID('120aab4e-4090-9e7d-7569-3460ddcfb516')}\n"
     ]
    },
    {
     "name": "stderr",
     "output_type": "stream",
     "text": [
      "Processes:   5%|▌         | 4/79 [00:14<03:16,  2.62s/it]"
     ]
    },
    {
     "name": "stdout",
     "output_type": "stream",
     "text": [
      "Computing ripple times for: {'lfp_merge_id': UUID('4c1af91b-09bc-aebb-bbe1-eb4615722b5f'), 'filter_name': 'Ripple 150-250 Hz', 'filter_sampling_rate': 1000, 'nwb_file_name': 'Banner20220216_.nwb', 'target_interval_list_name': 'pos 2 valid times', 'lfp_band_sampling_rate': 1000, 'group_name': 'CA1', 'ripple_param_name': 'default_ms', 'pos_merge_id': UUID('14eaf058-d0c4-bf76-df71-62489d88ed5f')}\n",
      "Writing new NWB file Banner20211228_75JT7MIN3E.nwb\n",
      "Writing new NWB file Banner20220216_BQ8HD0BMW7.nwb\n"
     ]
    },
    {
     "name": "stderr",
     "output_type": "stream",
     "text": [
      "Processes:   6%|▋         | 5/79 [00:21<05:06,  4.14s/it]"
     ]
    },
    {
     "name": "stdout",
     "output_type": "stream",
     "text": [
      "Computing ripple times for: {'lfp_merge_id': UUID('a64017fa-e1f6-6848-6ef2-5a755ee21375'), 'filter_name': 'Ripple 150-250 Hz', 'filter_sampling_rate': 1000, 'nwb_file_name': 'Banner20220103_.nwb', 'target_interval_list_name': 'pos 4 valid times', 'lfp_band_sampling_rate': 1000, 'group_name': 'CA1', 'ripple_param_name': 'default_ms', 'pos_merge_id': UUID('1a3f7ce9-d457-cbea-0d7c-c3bb053ee904')}\n",
      "Computing ripple times for: {'lfp_merge_id': UUID('62bc6af5-1936-f7cc-7222-bde4c06b5705'), 'filter_name': 'Ripple 150-250 Hz', 'filter_sampling_rate': 1000, 'nwb_file_name': 'Banner20220126_.nwb', 'target_interval_list_name': 'pos 4 valid times', 'lfp_band_sampling_rate': 1000, 'group_name': 'CA1', 'ripple_param_name': 'default_ms', 'pos_merge_id': UUID('1a61fb52-c2af-bc92-4793-aa5d61841209')}\n",
      "Writing new NWB file Banner20211221_FP8GOZZRA5.nwb\n",
      "Writing new NWB file Banner20211227_BZ1KJQE19Q.nwb\n"
     ]
    },
    {
     "name": "stderr",
     "output_type": "stream",
     "text": [
      "Processes:   8%|▊         | 6/79 [00:23<04:27,  3.66s/it]"
     ]
    },
    {
     "name": "stdout",
     "output_type": "stream",
     "text": [
      "Computing ripple times for: {'lfp_merge_id': UUID('d8cca1bb-b9c2-372d-1a25-43648e3e7b59'), 'filter_name': 'Ripple 150-250 Hz', 'filter_sampling_rate': 1000, 'nwb_file_name': 'Banner20220124_.nwb', 'target_interval_list_name': 'pos 3 valid times', 'lfp_band_sampling_rate': 1000, 'group_name': 'CA1', 'ripple_param_name': 'default_ms', 'pos_merge_id': UUID('1aeeaf40-158d-f214-3c89-20391c2a19a0')}\n"
     ]
    },
    {
     "name": "stderr",
     "output_type": "stream",
     "text": [
      "Processes:   9%|▉         | 7/79 [00:24<03:07,  2.61s/it]"
     ]
    },
    {
     "name": "stdout",
     "output_type": "stream",
     "text": [
      "Computing ripple times for: {'lfp_merge_id': UUID('c07368be-bfe8-2391-5211-cbc36a45a64e'), 'filter_name': 'Ripple 150-250 Hz', 'filter_sampling_rate': 1000, 'nwb_file_name': 'Banner20211222_.nwb', 'target_interval_list_name': 'pos 3 valid times', 'lfp_band_sampling_rate': 1000, 'group_name': 'CA1', 'ripple_param_name': 'default_ms', 'pos_merge_id': UUID('1f664746-0724-92f2-a680-6c796a5af765')}\n",
      "Writing new NWB file Banner20220126_DJB6VJB6S2.nwb\n",
      "Computing ripple times for: {'lfp_merge_id': UUID('fa074770-65c8-6b9f-49c7-b8479c868382'), 'filter_name': 'Ripple 150-250 Hz', 'filter_sampling_rate': 1000, 'nwb_file_name': 'Banner20220215_.nwb', 'target_interval_list_name': 'pos 3 valid times', 'lfp_band_sampling_rate': 1000, 'group_name': 'CA1', 'ripple_param_name': 'default_ms', 'pos_merge_id': UUID('294bc9bb-8c00-94f9-f691-c9a5648a0c41')}\n",
      "Writing new NWB file Banner20220124_5DA8SSGSYT.nwb\n",
      "Writing new NWB file Banner20220103_L5UZ3C167N.nwb\n",
      "Computing ripple times for: {'lfp_merge_id': UUID('742e3819-083c-e4ff-e4f9-45cc38e30828'), 'filter_name': 'Ripple 150-250 Hz', 'filter_sampling_rate': 1000, 'nwb_file_name': 'Banner20220126_.nwb', 'target_interval_list_name': 'pos 8 valid times', 'lfp_band_sampling_rate': 1000, 'group_name': 'CA1', 'ripple_param_name': 'default_ms', 'pos_merge_id': UUID('296de05d-b85b-51ff-3ae8-83fd64d506b4')}\n"
     ]
    },
    {
     "name": "stderr",
     "output_type": "stream",
     "text": [
      "Processes:  11%|█▏        | 9/79 [00:32<03:56,  3.37s/it]"
     ]
    },
    {
     "name": "stdout",
     "output_type": "stream",
     "text": [
      "Computing ripple times for: {'lfp_merge_id': UUID('6e903435-ae63-f8fe-7e5f-c37e6dadb8c8'), 'filter_name': 'Ripple 150-250 Hz', 'filter_sampling_rate': 1000, 'nwb_file_name': 'Banner20220224_.nwb', 'target_interval_list_name': 'pos 7 valid times', 'lfp_band_sampling_rate': 1000, 'group_name': 'CA1', 'ripple_param_name': 'default_ms', 'pos_merge_id': UUID('33d46f13-9593-ea18-fb09-9f06e6ddb462')}\n",
      "Writing new NWB file Banner20211222_Z3U2XFE7IE.nwb\n",
      "Writing new NWB file Banner20220215_A9LX0O5SWV.nwb\n"
     ]
    },
    {
     "name": "stderr",
     "output_type": "stream",
     "text": [
      "Processes:  15%|█▌        | 12/79 [00:36<02:31,  2.26s/it]"
     ]
    },
    {
     "name": "stdout",
     "output_type": "stream",
     "text": [
      "Computing ripple times for: {'lfp_merge_id': UUID('e028beb1-2693-ad36-bd5f-b56e7680c671'), 'filter_name': 'Ripple 150-250 Hz', 'filter_sampling_rate': 1000, 'nwb_file_name': 'Banner20211231_.nwb', 'target_interval_list_name': 'pos 2 valid times', 'lfp_band_sampling_rate': 1000, 'group_name': 'CA1', 'ripple_param_name': 'default_ms', 'pos_merge_id': UUID('3be0526a-a6db-03b2-1e2a-37b5fcb44cbe')}\n"
     ]
    },
    {
     "name": "stderr",
     "output_type": "stream",
     "text": [
      "Processes:  16%|█▋        | 13/79 [00:36<02:03,  1.86s/it]"
     ]
    },
    {
     "name": "stdout",
     "output_type": "stream",
     "text": [
      "Computing ripple times for: {'lfp_merge_id': UUID('65fcb70c-ffad-b1b3-664f-702d86c4e7db'), 'filter_name': 'Ripple 150-250 Hz', 'filter_sampling_rate': 1000, 'nwb_file_name': 'Banner20220126_.nwb', 'target_interval_list_name': 'pos 6 valid times', 'lfp_band_sampling_rate': 1000, 'group_name': 'CA1', 'ripple_param_name': 'default_ms', 'pos_merge_id': UUID('3ee4a483-0454-58e3-3aa0-fd0562e51f9f')}\n",
      "Writing new NWB file Banner20220126_QO5BINGFRC.nwb\n"
     ]
    },
    {
     "name": "stderr",
     "output_type": "stream",
     "text": [
      "Processes:  18%|█▊        | 14/79 [00:38<02:02,  1.88s/it]"
     ]
    },
    {
     "name": "stdout",
     "output_type": "stream",
     "text": [
      "Computing ripple times for: {'lfp_merge_id': UUID('be86d2fc-f5ae-f97e-71bc-b558290c86d7'), 'filter_name': 'Ripple 150-250 Hz', 'filter_sampling_rate': 1000, 'nwb_file_name': 'Banner20220126_.nwb', 'target_interval_list_name': 'pos 2 valid times', 'lfp_band_sampling_rate': 1000, 'group_name': 'CA1', 'ripple_param_name': 'default_ms', 'pos_merge_id': UUID('417cf081-f798-98b0-1508-2f0ae442d620')}\n",
      "Writing new NWB file Banner20220126_I2MQDREKAE.nwb\n",
      "Computing ripple times for: {'lfp_merge_id': UUID('7270a721-f21c-e177-b539-7fa225138da7'), 'filter_name': 'Ripple 150-250 Hz', 'filter_sampling_rate': 1000, 'nwb_file_name': 'Banner20220123_.nwb', 'target_interval_list_name': 'pos 1 valid times', 'lfp_band_sampling_rate': 1000, 'group_name': 'CA1', 'ripple_param_name': 'default_ms', 'pos_merge_id': UUID('4715298b-b317-170e-f6f7-8b4439b4717c')}\n",
      "Writing new NWB file Banner20220224_2JMWTBT38D.nwb\n"
     ]
    },
    {
     "name": "stderr",
     "output_type": "stream",
     "text": [
      "Processes:  19%|█▉        | 15/79 [00:44<03:10,  2.98s/it]"
     ]
    },
    {
     "name": "stdout",
     "output_type": "stream",
     "text": [
      "Computing ripple times for: {'lfp_merge_id': UUID('d13852be-9961-44cf-868b-304fece6f471'), 'filter_name': 'Ripple 150-250 Hz', 'filter_sampling_rate': 1000, 'nwb_file_name': 'Banner20220124_.nwb', 'target_interval_list_name': 'pos 1 valid times', 'lfp_band_sampling_rate': 1000, 'group_name': 'CA1', 'ripple_param_name': 'default_ms', 'pos_merge_id': UUID('498c9586-6496-68dc-8f6b-f06de99007a9')}\n",
      "Writing new NWB file Banner20220126_ASIFOTEAYD.nwb\n",
      "Computing ripple times for: {'lfp_merge_id': UUID('656cb25e-f105-ab91-5696-5bb7ab5bdd92'), 'filter_name': 'Ripple 150-250 Hz', 'filter_sampling_rate': 1000, 'nwb_file_name': 'Banner20211228_.nwb', 'target_interval_list_name': 'pos 1 valid times', 'lfp_band_sampling_rate': 1000, 'group_name': 'CA1', 'ripple_param_name': 'default_ms', 'pos_merge_id': UUID('52f40216-cfd8-2889-5968-b3d9f4bf7648')}\n",
      "Writing new NWB file Banner20211231_FKIUX34DUG.nwb\n"
     ]
    },
    {
     "name": "stderr",
     "output_type": "stream",
     "text": [
      "Processes:  20%|██        | 16/79 [00:48<03:10,  3.03s/it]"
     ]
    },
    {
     "name": "stdout",
     "output_type": "stream",
     "text": [
      "Computing ripple times for: {'lfp_merge_id': UUID('705036cc-431d-ce3c-d388-e530d8727822'), 'filter_name': 'Ripple 150-250 Hz', 'filter_sampling_rate': 1000, 'nwb_file_name': 'Banner20220124_.nwb', 'target_interval_list_name': 'pos 2 valid times', 'lfp_band_sampling_rate': 1000, 'group_name': 'CA1', 'ripple_param_name': 'default_ms', 'pos_merge_id': UUID('56a3c0aa-1cff-ec35-5c45-8848552e6169')}\n",
      "Writing new NWB file Banner20220123_LVN6XGCM7I.nwb\n",
      "Writing new NWB file Banner20220124_XZ7BHJBW24.nwb\n"
     ]
    },
    {
     "name": "stderr",
     "output_type": "stream",
     "text": [
      "Processes:  24%|██▍       | 19/79 [00:52<02:16,  2.28s/it]"
     ]
    },
    {
     "name": "stdout",
     "output_type": "stream",
     "text": [
      "Computing ripple times for: {'lfp_merge_id': UUID('4528b033-0e4b-73ef-9254-057e98ad90df'), 'filter_name': 'Ripple 150-250 Hz', 'filter_sampling_rate': 1000, 'nwb_file_name': 'Banner20211227_.nwb', 'target_interval_list_name': 'pos 1 valid times', 'lfp_band_sampling_rate': 1000, 'group_name': 'CA1', 'ripple_param_name': 'default_ms', 'pos_merge_id': UUID('57952bc1-1c99-83fa-a25d-fbce5a1b4c0c')}\n"
     ]
    },
    {
     "name": "stderr",
     "output_type": "stream",
     "text": [
      "Processes:  25%|██▌       | 20/79 [00:53<01:51,  1.88s/it]"
     ]
    },
    {
     "name": "stdout",
     "output_type": "stream",
     "text": [
      "Computing ripple times for: {'lfp_merge_id': UUID('783dcbc0-95a4-4420-1743-9c4f92a4db6c'), 'filter_name': 'Ripple 150-250 Hz', 'filter_sampling_rate': 1000, 'nwb_file_name': 'Banner20220223_.nwb', 'target_interval_list_name': 'pos 1 valid times', 'lfp_band_sampling_rate': 1000, 'group_name': 'CA1', 'ripple_param_name': 'default_ms', 'pos_merge_id': UUID('5815511c-1296-f3f0-e9f1-b21293d38d6d')}\n",
      "Writing new NWB file Banner20211228_OYORP6KR7L.nwb\n",
      "Writing new NWB file Banner20220124_2N24J9TW6J.nwb\n"
     ]
    },
    {
     "name": "stderr",
     "output_type": "stream",
     "text": [
      "Processes:  27%|██▋       | 21/79 [00:57<02:16,  2.35s/it]"
     ]
    },
    {
     "name": "stdout",
     "output_type": "stream",
     "text": [
      "Computing ripple times for: {'lfp_merge_id': UUID('d1e2ef45-9198-7b54-a12b-e5d636c4774f'), 'filter_name': 'Ripple 150-250 Hz', 'filter_sampling_rate': 1000, 'nwb_file_name': 'Banner20220103_.nwb', 'target_interval_list_name': 'pos 0 valid times', 'lfp_band_sampling_rate': 1000, 'group_name': 'CA1', 'ripple_param_name': 'default_ms', 'pos_merge_id': UUID('5886182e-db82-854f-02d6-eeab06b51779')}\n",
      "Computing ripple times for: {'lfp_merge_id': UUID('2a488f33-ec44-6721-69a3-636c27c5db9e'), 'filter_name': 'Ripple 150-250 Hz', 'filter_sampling_rate': 1000, 'nwb_file_name': 'Banner20220225_.nwb', 'target_interval_list_name': 'pos 6 valid times', 'lfp_band_sampling_rate': 1000, 'group_name': 'CA1', 'ripple_param_name': 'default_ms', 'pos_merge_id': UUID('5cef2d6b-5a71-6118-9603-519eb3c8fd22')}\n",
      "Writing new NWB file Banner20220223_3MW0WZF1ID.nwb\n",
      "Computing ripple times for: {'lfp_merge_id': UUID('85317921-a571-d501-f5dd-b1866b5ccf10'), 'filter_name': 'Ripple 150-250 Hz', 'filter_sampling_rate': 1000, 'nwb_file_name': 'Banner20211231_.nwb', 'target_interval_list_name': 'pos 3 valid times', 'lfp_band_sampling_rate': 1000, 'group_name': 'CA1', 'ripple_param_name': 'default_ms', 'pos_merge_id': UUID('5f1203bb-9586-27d8-a01d-e0a2503d050d')}\n",
      "Writing new NWB file Banner20211227_9P9UMBED74.nwb\n"
     ]
    },
    {
     "name": "stderr",
     "output_type": "stream",
     "text": [
      "Processes:  29%|██▉       | 23/79 [01:04<02:40,  2.86s/it]"
     ]
    },
    {
     "name": "stdout",
     "output_type": "stream",
     "text": [
      "Computing ripple times for: {'lfp_merge_id': UUID('12e13ed7-4e9e-1de8-db78-c35da031bf18'), 'filter_name': 'Ripple 150-250 Hz', 'filter_sampling_rate': 1000, 'nwb_file_name': 'Banner20211228_.nwb', 'target_interval_list_name': 'pos 6 valid times', 'lfp_band_sampling_rate': 1000, 'group_name': 'CA1', 'ripple_param_name': 'default_ms', 'pos_merge_id': UUID('5f440467-0c06-1947-f605-6008123b4d16')}\n",
      "Writing new NWB file Banner20220103_Q60UYNTTAD.nwb\n",
      "Writing new NWB file Banner20220225_U4JXDV9OUI.nwb\n"
     ]
    },
    {
     "name": "stderr",
     "output_type": "stream",
     "text": [
      "Processes:  32%|███▏      | 25/79 [01:07<02:11,  2.44s/it]"
     ]
    },
    {
     "name": "stdout",
     "output_type": "stream",
     "text": [
      "Computing ripple times for: {'lfp_merge_id': UUID('1312bf55-0524-fda0-fce8-1eb34267a4b1'), 'filter_name': 'Ripple 150-250 Hz', 'filter_sampling_rate': 1000, 'nwb_file_name': 'Banner20220224_.nwb', 'target_interval_list_name': 'pos 1 valid times', 'lfp_band_sampling_rate': 1000, 'group_name': 'CA1', 'ripple_param_name': 'default_ms', 'pos_merge_id': UUID('62c5eda0-f163-5572-3fa7-68bd5d1ecc9d')}\n"
     ]
    },
    {
     "name": "stderr",
     "output_type": "stream",
     "text": [
      "Processes:  33%|███▎      | 26/79 [01:09<01:59,  2.25s/it]"
     ]
    },
    {
     "name": "stdout",
     "output_type": "stream",
     "text": [
      "Computing ripple times for: {'lfp_merge_id': UUID('c2c8cbad-d2a7-f295-78e5-8c7f6c5109b9'), 'filter_name': 'Ripple 150-250 Hz', 'filter_sampling_rate': 1000, 'nwb_file_name': 'Banner20211222_.nwb', 'target_interval_list_name': 'pos 1 valid times', 'lfp_band_sampling_rate': 1000, 'group_name': 'CA1', 'ripple_param_name': 'default_ms', 'pos_merge_id': UUID('67f1d997-cc7b-3767-ef2f-74f1a4186f4b')}\n",
      "Writing new NWB file Banner20211231_LBR8OWM7YZ.nwb\n"
     ]
    },
    {
     "name": "stderr",
     "output_type": "stream",
     "text": [
      "Processes:  34%|███▍      | 27/79 [01:12<02:12,  2.55s/it]"
     ]
    },
    {
     "name": "stdout",
     "output_type": "stream",
     "text": [
      "Computing ripple times for: {'lfp_merge_id': UUID('fed7d90e-8dab-6e2d-d179-fa83fe4aa9ca'), 'filter_name': 'Ripple 150-250 Hz', 'filter_sampling_rate': 1000, 'nwb_file_name': 'Banner20220225_.nwb', 'target_interval_list_name': 'pos 4 valid times', 'lfp_band_sampling_rate': 1000, 'group_name': 'CA1', 'ripple_param_name': 'default_ms', 'pos_merge_id': UUID('695bbdaa-88a3-07d2-59bb-809d03d5b283')}\n",
      "Writing new NWB file Banner20211228_8VYMR81GU8.nwb\n"
     ]
    },
    {
     "name": "stderr",
     "output_type": "stream",
     "text": [
      "Processes:  35%|███▌      | 28/79 [01:15<02:11,  2.57s/it]"
     ]
    },
    {
     "name": "stdout",
     "output_type": "stream",
     "text": [
      "Computing ripple times for: {'lfp_merge_id': UUID('90ad37d8-98ba-a62a-4124-cf756995adf7'), 'filter_name': 'Ripple 150-250 Hz', 'filter_sampling_rate': 1000, 'nwb_file_name': 'Banner20211228_.nwb', 'target_interval_list_name': 'pos 4 valid times', 'lfp_band_sampling_rate': 1000, 'group_name': 'CA1', 'ripple_param_name': 'default_ms', 'pos_merge_id': UUID('69ef725b-453f-971c-3bea-8ef2fc99a0e8')}\n",
      "Writing new NWB file Banner20220224_MFJNPTOAZ8.nwb\n"
     ]
    },
    {
     "name": "stderr",
     "output_type": "stream",
     "text": [
      "Processes:  37%|███▋      | 29/79 [01:19<02:28,  2.97s/it]"
     ]
    },
    {
     "name": "stdout",
     "output_type": "stream",
     "text": [
      "Computing ripple times for: {'lfp_merge_id': UUID('7a9bbd06-ad9d-a788-114f-b8aee379a1fc'), 'filter_name': 'Ripple 150-250 Hz', 'filter_sampling_rate': 1000, 'nwb_file_name': 'Banner20211222_.nwb', 'target_interval_list_name': 'pos 2 valid times', 'lfp_band_sampling_rate': 1000, 'group_name': 'CA1', 'ripple_param_name': 'default_ms', 'pos_merge_id': UUID('6a6337ca-9f93-07ff-b13c-19bbb69af046')}\n",
      "Writing new NWB file Banner20211222_D5GU2ZBJUO.nwb\n"
     ]
    },
    {
     "name": "stderr",
     "output_type": "stream",
     "text": [
      "Processes:  38%|███▊      | 30/79 [01:21<02:04,  2.55s/it]"
     ]
    },
    {
     "name": "stdout",
     "output_type": "stream",
     "text": [
      "Computing ripple times for: {'lfp_merge_id': UUID('ad3fff12-5976-b2b0-20bf-9acc14ac33ac'), 'filter_name': 'Ripple 150-250 Hz', 'filter_sampling_rate': 1000, 'nwb_file_name': 'Banner20211227_.nwb', 'target_interval_list_name': 'pos 0 valid times', 'lfp_band_sampling_rate': 1000, 'group_name': 'CA1', 'ripple_param_name': 'default_ms', 'pos_merge_id': UUID('71428c3a-e5fa-389f-fa2e-06c9c18f2ba0')}\n",
      "Writing new NWB file Banner20220225_WYX81YSO8F.nwb\n"
     ]
    },
    {
     "name": "stderr",
     "output_type": "stream",
     "text": [
      "Processes:  39%|███▉      | 31/79 [01:24<02:16,  2.85s/it]"
     ]
    },
    {
     "name": "stdout",
     "output_type": "stream",
     "text": [
      "Computing ripple times for: {'lfp_merge_id': UUID('16cb9c1c-353e-5f6a-9287-f7546a08cb1c'), 'filter_name': 'Ripple 150-250 Hz', 'filter_sampling_rate': 1000, 'nwb_file_name': 'Banner20220215_.nwb', 'target_interval_list_name': 'pos 0 valid times', 'lfp_band_sampling_rate': 1000, 'group_name': 'CA1', 'ripple_param_name': 'default_ms', 'pos_merge_id': UUID('7a4f5d10-b364-d01e-888c-f9ce8d5e2b0b')}\n",
      "Writing new NWB file Banner20211228_1XZPDFAEQK.nwb\n",
      "Writing new NWB file Banner20211222_A5UQH213VC.nwb\n"
     ]
    },
    {
     "name": "stderr",
     "output_type": "stream",
     "text": [
      "Processes:  41%|████      | 32/79 [01:27<02:16,  2.90s/it]"
     ]
    },
    {
     "name": "stdout",
     "output_type": "stream",
     "text": [
      "Computing ripple times for: {'lfp_merge_id': UUID('f0079a54-0dfd-0260-def3-6288cabdd2f8'), 'filter_name': 'Ripple 150-250 Hz', 'filter_sampling_rate': 1000, 'nwb_file_name': 'Banner20220224_.nwb', 'target_interval_list_name': 'pos 2 valid times', 'lfp_band_sampling_rate': 1000, 'group_name': 'CA1', 'ripple_param_name': 'default_ms', 'pos_merge_id': UUID('7c035c02-293e-f185-b69c-d6663332ea98')}\n"
     ]
    },
    {
     "name": "stderr",
     "output_type": "stream",
     "text": [
      "Processes:  42%|████▏     | 33/79 [01:28<01:49,  2.37s/it]"
     ]
    },
    {
     "name": "stdout",
     "output_type": "stream",
     "text": [
      "Computing ripple times for: {'lfp_merge_id': UUID('5d185566-3226-cd23-4740-be2f08baf2c0'), 'filter_name': 'Ripple 150-250 Hz', 'filter_sampling_rate': 1000, 'nwb_file_name': 'Banner20220126_.nwb', 'target_interval_list_name': 'pos 3 valid times', 'lfp_band_sampling_rate': 1000, 'group_name': 'CA1', 'ripple_param_name': 'default_ms', 'pos_merge_id': UUID('813d522e-e590-b8f5-34b8-cfaaaea6c63a')}\n",
      "Writing new NWB file Banner20211227_ON6GLIR8CH.nwb\n",
      "Writing new NWB file Banner20220215_FJRR0NVGE8.nwb\n"
     ]
    },
    {
     "name": "stderr",
     "output_type": "stream",
     "text": [
      "Processes:  43%|████▎     | 34/79 [01:33<02:14,  3.00s/it]"
     ]
    },
    {
     "name": "stdout",
     "output_type": "stream",
     "text": [
      "Computing ripple times for: {'lfp_merge_id': UUID('8197a72c-ec61-7dc5-665c-d640f222e453'), 'filter_name': 'Ripple 150-250 Hz', 'filter_sampling_rate': 1000, 'nwb_file_name': 'Banner20220225_.nwb', 'target_interval_list_name': 'pos 3 valid times', 'lfp_band_sampling_rate': 1000, 'group_name': 'CA1', 'ripple_param_name': 'default_ms', 'pos_merge_id': UUID('87c16c92-8484-441b-70a6-964801b6a488')}\n"
     ]
    },
    {
     "name": "stderr",
     "output_type": "stream",
     "text": [
      "Processes:  44%|████▍     | 35/79 [01:33<01:34,  2.15s/it]"
     ]
    },
    {
     "name": "stdout",
     "output_type": "stream",
     "text": [
      "Computing ripple times for: {'lfp_merge_id': UUID('948890aa-3b41-4db8-26ab-53e87139a102'), 'filter_name': 'Ripple 150-250 Hz', 'filter_sampling_rate': 1000, 'nwb_file_name': 'Banner20220225_.nwb', 'target_interval_list_name': 'pos 0 valid times', 'lfp_band_sampling_rate': 1000, 'group_name': 'CA1', 'ripple_param_name': 'default_ms', 'pos_merge_id': UUID('8932313b-8b2e-1d42-032e-6f372d77dbb8')}\n",
      "Writing new NWB file Banner20220126_4J9XHVAU1W.nwb\n",
      "Computing ripple times for: {'lfp_merge_id': UUID('c9286603-73f4-4e33-502f-9938f914235c'), 'filter_name': 'Ripple 150-250 Hz', 'filter_sampling_rate': 1000, 'nwb_file_name': 'Banner20220103_.nwb', 'target_interval_list_name': 'pos 3 valid times', 'lfp_band_sampling_rate': 1000, 'group_name': 'CA1', 'ripple_param_name': 'default_ms', 'pos_merge_id': UUID('8dc0ac8b-d231-729b-2403-58f65c363168')}\n",
      "Writing new NWB file Banner20220224_3XS791WMQG.nwb\n"
     ]
    },
    {
     "name": "stderr",
     "output_type": "stream",
     "text": [
      "Processes:  46%|████▌     | 36/79 [01:39<02:21,  3.29s/it]"
     ]
    },
    {
     "name": "stdout",
     "output_type": "stream",
     "text": [
      "Computing ripple times for: {'lfp_merge_id': UUID('55e9be37-ed37-7bea-4fe4-5f2e18153d2f'), 'filter_name': 'Ripple 150-250 Hz', 'filter_sampling_rate': 1000, 'nwb_file_name': 'Banner20220225_.nwb', 'target_interval_list_name': 'pos 5 valid times', 'lfp_band_sampling_rate': 1000, 'group_name': 'CA1', 'ripple_param_name': 'default_ms', 'pos_merge_id': UUID('9451c236-295b-d568-5142-963eb1ab9b4f')}\n",
      "Writing new NWB file Banner20220225_MI53TO2Q41.nwb\n",
      "Writing new NWB file Banner20220225_5ZIMRFDY18.nwb\n",
      "Computing ripple times for: {'lfp_merge_id': UUID('d626748f-7e9d-23c8-09d9-efc54f4059fa'), 'filter_name': 'Ripple 150-250 Hz', 'filter_sampling_rate': 1000, 'nwb_file_name': 'Banner20220224_.nwb', 'target_interval_list_name': 'pos 6 valid times', 'lfp_band_sampling_rate': 1000, 'group_name': 'CA1', 'ripple_param_name': 'default_ms', 'pos_merge_id': UUID('988acddb-7ad1-f7db-9842-12119d875d2d')}\n"
     ]
    },
    {
     "name": "stderr",
     "output_type": "stream",
     "text": [
      "Processes:  48%|████▊     | 38/79 [01:45<02:12,  3.22s/it]"
     ]
    },
    {
     "name": "stdout",
     "output_type": "stream",
     "text": [
      "Computing ripple times for: {'lfp_merge_id': UUID('0601305a-fadf-eea1-d54f-694abfec91fa'), 'filter_name': 'Ripple 150-250 Hz', 'filter_sampling_rate': 1000, 'nwb_file_name': 'Banner20220225_.nwb', 'target_interval_list_name': 'pos 2 valid times', 'lfp_band_sampling_rate': 1000, 'group_name': 'CA1', 'ripple_param_name': 'default_ms', 'pos_merge_id': UUID('9df94d49-7ffe-6a04-a77e-ca32919d6a32')}\n",
      "Writing new NWB file Banner20220103_J7X10PLQOH.nwb\n"
     ]
    },
    {
     "name": "stderr",
     "output_type": "stream",
     "text": [
      "Processes:  51%|█████     | 40/79 [01:49<01:42,  2.62s/it]"
     ]
    },
    {
     "name": "stdout",
     "output_type": "stream",
     "text": [
      "Computing ripple times for: {'lfp_merge_id': UUID('89c84dd3-5ab4-b5ad-01f9-124f97fd68e1'), 'filter_name': 'Ripple 150-250 Hz', 'filter_sampling_rate': 1000, 'nwb_file_name': 'Banner20220126_.nwb', 'target_interval_list_name': 'pos 5 valid times', 'lfp_band_sampling_rate': 1000, 'group_name': 'CA1', 'ripple_param_name': 'default_ms', 'pos_merge_id': UUID('9e8e2d5e-0248-de2c-9918-ebaae67bc54b')}\n",
      "Writing new NWB file Banner20220225_7HRP84WAXL.nwb\n"
     ]
    },
    {
     "name": "stderr",
     "output_type": "stream",
     "text": [
      "Processes:  52%|█████▏    | 41/79 [01:51<01:38,  2.60s/it]"
     ]
    },
    {
     "name": "stdout",
     "output_type": "stream",
     "text": [
      "Computing ripple times for: {'lfp_merge_id': UUID('4a577993-4bac-6443-52be-7ecb88181955'), 'filter_name': 'Ripple 150-250 Hz', 'filter_sampling_rate': 1000, 'nwb_file_name': 'Banner20211228_.nwb', 'target_interval_list_name': 'pos 9 valid times', 'lfp_band_sampling_rate': 1000, 'group_name': 'CA1', 'ripple_param_name': 'default_ms', 'pos_merge_id': UUID('a372f887-5f84-f922-b25e-9459e59bd69b')}\n",
      "Writing new NWB file Banner20220126_ET36PGF8P0.nwb\n",
      "Computing ripple times for: {'lfp_merge_id': UUID('e8fc74bf-cb48-34f0-08d1-c35e3fdc1e07'), 'filter_name': 'Ripple 150-250 Hz', 'filter_sampling_rate': 1000, 'nwb_file_name': 'Banner20211228_.nwb', 'target_interval_list_name': 'pos 8 valid times', 'lfp_band_sampling_rate': 1000, 'group_name': 'CA1', 'ripple_param_name': 'default_ms', 'pos_merge_id': UUID('a6106622-8ea4-7931-e766-881746600c75')}\n",
      "Writing new NWB file Banner20220224_XU1DZV3A82.nwb\n",
      "Writing new NWB file Banner20220225_CDD3QODUTT.nwb\n"
     ]
    },
    {
     "name": "stderr",
     "output_type": "stream",
     "text": [
      "Processes:  53%|█████▎    | 42/79 [01:57<02:02,  3.32s/it]"
     ]
    },
    {
     "name": "stdout",
     "output_type": "stream",
     "text": [
      "Computing ripple times for: {'lfp_merge_id': UUID('ad1b89bf-7a75-a523-4883-a7e73c63b6d9'), 'filter_name': 'Ripple 150-250 Hz', 'filter_sampling_rate': 1000, 'nwb_file_name': 'Banner20211222_.nwb', 'target_interval_list_name': 'pos 0 valid times', 'lfp_band_sampling_rate': 1000, 'group_name': 'CA1', 'ripple_param_name': 'default_ms', 'pos_merge_id': UUID('a703e1de-b161-a6e1-1cac-11f63634f484')}\n"
     ]
    },
    {
     "name": "stderr",
     "output_type": "stream",
     "text": [
      "Processes:  54%|█████▍    | 43/79 [01:57<01:32,  2.56s/it]"
     ]
    },
    {
     "name": "stdout",
     "output_type": "stream",
     "text": [
      "Computing ripple times for: {'lfp_merge_id': UUID('7251a2ce-812a-957d-e497-58e041291cfb'), 'filter_name': 'Ripple 150-250 Hz', 'filter_sampling_rate': 1000, 'nwb_file_name': 'Banner20211230_.nwb', 'target_interval_list_name': 'pos 4 valid times', 'lfp_band_sampling_rate': 1000, 'group_name': 'CA1', 'ripple_param_name': 'default_ms', 'pos_merge_id': UUID('a71418ba-03f4-bed5-2f93-374656c89cd7')}\n",
      "Writing new NWB file Banner20211228_BJY0SDD6BW.nwb\n"
     ]
    },
    {
     "name": "stderr",
     "output_type": "stream",
     "text": [
      "Processes:  57%|█████▋    | 45/79 [02:04<01:38,  2.89s/it]"
     ]
    },
    {
     "name": "stdout",
     "output_type": "stream",
     "text": [
      "Computing ripple times for: {'lfp_merge_id': UUID('a0ec2a0c-a4cd-95ce-4b16-5b3101a51393'), 'filter_name': 'Ripple 150-250 Hz', 'filter_sampling_rate': 1000, 'nwb_file_name': 'Banner20211230_.nwb', 'target_interval_list_name': 'pos 2 valid times', 'lfp_band_sampling_rate': 1000, 'group_name': 'CA1', 'ripple_param_name': 'default_ms', 'pos_merge_id': UUID('a7552fd7-d19f-3065-35c3-8ae0309c180e')}\n",
      "Writing new NWB file Banner20211228_Q30I7PKVTV.nwb\n"
     ]
    },
    {
     "name": "stderr",
     "output_type": "stream",
     "text": [
      "Processes:  58%|█████▊    | 46/79 [02:07<01:36,  2.93s/it]"
     ]
    },
    {
     "name": "stdout",
     "output_type": "stream",
     "text": [
      "Computing ripple times for: {'lfp_merge_id': UUID('70185e7b-9db7-cb04-22f5-c147ed1baa6c'), 'filter_name': 'Ripple 150-250 Hz', 'filter_sampling_rate': 1000, 'nwb_file_name': 'Banner20220224_.nwb', 'target_interval_list_name': 'pos 5 valid times', 'lfp_band_sampling_rate': 1000, 'group_name': 'CA1', 'ripple_param_name': 'default_ms', 'pos_merge_id': UUID('ad509b8f-52c0-1710-3cdf-aa123bf2f4b1')}\n",
      "Writing new NWB file Banner20211222_NUZYU9J8NF.nwb\n",
      "Writing new NWB file Banner20211230_38FW2F4WTC.nwb\n"
     ]
    },
    {
     "name": "stderr",
     "output_type": "stream",
     "text": [
      "Processes:  59%|█████▉    | 47/79 [02:12<01:53,  3.54s/it]"
     ]
    },
    {
     "name": "stdout",
     "output_type": "stream",
     "text": [
      "Computing ripple times for: {'lfp_merge_id': UUID('92f962e3-c40a-7684-0f67-26921ac34812'), 'filter_name': 'Ripple 150-250 Hz', 'filter_sampling_rate': 1000, 'nwb_file_name': 'Banner20220124_.nwb', 'target_interval_list_name': 'pos 0 valid times', 'lfp_band_sampling_rate': 1000, 'group_name': 'CA1', 'ripple_param_name': 'default_ms', 'pos_merge_id': UUID('adbc190b-2c7b-36f3-f2a7-e00b47d5c0cd')}\n"
     ]
    },
    {
     "name": "stderr",
     "output_type": "stream",
     "text": [
      "Processes:  61%|██████    | 48/79 [02:13<01:26,  2.78s/it]"
     ]
    },
    {
     "name": "stdout",
     "output_type": "stream",
     "text": [
      "Computing ripple times for: {'lfp_merge_id': UUID('e5c5b785-c54a-4a2b-9b2f-6e6e921d17fe'), 'filter_name': 'Ripple 150-250 Hz', 'filter_sampling_rate': 1000, 'nwb_file_name': 'Banner20220224_.nwb', 'target_interval_list_name': 'pos 0 valid times', 'lfp_band_sampling_rate': 1000, 'group_name': 'CA1', 'ripple_param_name': 'default_ms', 'pos_merge_id': UUID('ae4fc118-ae51-a6ef-c40e-10ce82245226')}\n",
      "Writing new NWB file Banner20211230_MY2O1ZZ2LK.nwb\n"
     ]
    },
    {
     "name": "stderr",
     "output_type": "stream",
     "text": [
      "Processes:  62%|██████▏   | 49/79 [02:15<01:19,  2.67s/it]"
     ]
    },
    {
     "name": "stdout",
     "output_type": "stream",
     "text": [
      "Computing ripple times for: {'lfp_merge_id': UUID('90ab6bef-e15c-5b8f-4be1-bff3c31ee83f'), 'filter_name': 'Ripple 150-250 Hz', 'filter_sampling_rate': 1000, 'nwb_file_name': 'Banner20220216_.nwb', 'target_interval_list_name': 'pos 1 valid times', 'lfp_band_sampling_rate': 1000, 'group_name': 'CA1', 'ripple_param_name': 'default_ms', 'pos_merge_id': UUID('b4bb84e6-010d-0fae-6046-7ad824016bdc')}\n",
      "Writing new NWB file Banner20220224_5X7S7KZEBA.nwb\n"
     ]
    },
    {
     "name": "stderr",
     "output_type": "stream",
     "text": [
      "Processes:  63%|██████▎   | 50/79 [02:19<01:27,  3.03s/it]"
     ]
    },
    {
     "name": "stdout",
     "output_type": "stream",
     "text": [
      "Computing ripple times for: {'lfp_merge_id': UUID('aed3cb7e-5ced-5156-50a6-e81924fa5ea1'), 'filter_name': 'Ripple 150-250 Hz', 'filter_sampling_rate': 1000, 'nwb_file_name': 'Banner20220224_.nwb', 'target_interval_list_name': 'pos 4 valid times', 'lfp_band_sampling_rate': 1000, 'group_name': 'CA1', 'ripple_param_name': 'default_ms', 'pos_merge_id': UUID('b593c120-3b6d-4c6c-9ff7-b74f2a6d8336')}\n",
      "Writing new NWB file Banner20220124_6XI5EV9IRQ.nwb\n",
      "Writing new NWB file Banner20220216_EY2M8FY0JE.nwb\n"
     ]
    },
    {
     "name": "stderr",
     "output_type": "stream",
     "text": [
      "Processes:  65%|██████▍   | 51/79 [02:22<01:25,  3.07s/it]"
     ]
    },
    {
     "name": "stdout",
     "output_type": "stream",
     "text": [
      "Computing ripple times for: {'lfp_merge_id': UUID('f7c78093-875e-a749-9c6c-6dd0712b3a4c'), 'filter_name': 'Ripple 150-250 Hz', 'filter_sampling_rate': 1000, 'nwb_file_name': 'Banner20220216_.nwb', 'target_interval_list_name': 'pos 0 valid times', 'lfp_band_sampling_rate': 1000, 'group_name': 'CA1', 'ripple_param_name': 'default_ms', 'pos_merge_id': UUID('b6511b12-2d6d-0a55-8e21-8c0f82ef1936')}\n",
      "Computing ripple times for: {'lfp_merge_id': UUID('cb2f58cf-a512-4369-92ac-23e343e992fb'), 'filter_name': 'Ripple 150-250 Hz', 'filter_sampling_rate': 1000, 'nwb_file_name': 'Banner20220215_.nwb', 'target_interval_list_name': 'pos 2 valid times', 'lfp_band_sampling_rate': 1000, 'group_name': 'CA1', 'ripple_param_name': 'default_ms', 'pos_merge_id': UUID('b70094dd-613a-fe75-e5b0-29a6813aed3d')}\n",
      "Writing new NWB file Banner20220224_GF3MK13FL2.nwb\n"
     ]
    },
    {
     "name": "stderr",
     "output_type": "stream",
     "text": [
      "Processes:  66%|██████▌   | 52/79 [02:26<01:27,  3.24s/it]"
     ]
    },
    {
     "name": "stdout",
     "output_type": "stream",
     "text": [
      "Computing ripple times for: {'lfp_merge_id': UUID('c4c07046-8d58-0098-ce50-ecdd4cd37885'), 'filter_name': 'Ripple 150-250 Hz', 'filter_sampling_rate': 1000, 'nwb_file_name': 'Banner20211230_.nwb', 'target_interval_list_name': 'pos 0 valid times', 'lfp_band_sampling_rate': 1000, 'group_name': 'CA1', 'ripple_param_name': 'default_ms', 'pos_merge_id': UUID('ba92999e-f94e-bfaf-70a8-51634e6b005b')}\n",
      "Writing new NWB file Banner20220216_7XZY53FSQY.nwb\n",
      "Writing new NWB file Banner20220224_ARRNJFMUE8.nwb\n",
      "Computing ripple times for: {'lfp_merge_id': UUID('b700c198-52e5-b845-014d-400db2f8432f'), 'filter_name': 'Ripple 150-250 Hz', 'filter_sampling_rate': 1000, 'nwb_file_name': 'Banner20211222_.nwb', 'target_interval_list_name': 'pos 4 valid times', 'lfp_band_sampling_rate': 1000, 'group_name': 'CA1', 'ripple_param_name': 'default_ms', 'pos_merge_id': UUID('bb0ff9fb-5c4b-62ba-e601-0b4d9ec7e1dc')}\n",
      "Writing new NWB file Banner20220215_8FZ9G5GZBO.nwb\n"
     ]
    },
    {
     "name": "stderr",
     "output_type": "stream",
     "text": [
      "Processes:  68%|██████▊   | 54/79 [02:32<01:16,  3.07s/it]"
     ]
    },
    {
     "name": "stdout",
     "output_type": "stream",
     "text": [
      "Computing ripple times for: {'lfp_merge_id': UUID('8ad339ff-e64a-c280-b98e-5b99624ee746'), 'filter_name': 'Ripple 150-250 Hz', 'filter_sampling_rate': 1000, 'nwb_file_name': 'Banner20220126_.nwb', 'target_interval_list_name': 'pos 0 valid times', 'lfp_band_sampling_rate': 1000, 'group_name': 'CA1', 'ripple_param_name': 'default_ms', 'pos_merge_id': UUID('bb56e967-597c-3151-657e-9d04f374dfcc')}\n"
     ]
    },
    {
     "name": "stderr",
     "output_type": "stream",
     "text": [
      "Processes:  71%|███████   | 56/79 [02:32<00:45,  1.97s/it]"
     ]
    },
    {
     "name": "stdout",
     "output_type": "stream",
     "text": [
      "Computing ripple times for: {'lfp_merge_id': UUID('cf20b20c-47f0-fea6-1929-87a6c534780b'), 'filter_name': 'Ripple 150-250 Hz', 'filter_sampling_rate': 1000, 'nwb_file_name': 'Banner20220123_.nwb', 'target_interval_list_name': 'pos 0 valid times', 'lfp_band_sampling_rate': 1000, 'group_name': 'CA1', 'ripple_param_name': 'default_ms', 'pos_merge_id': UUID('c0d2b06c-aa0b-edfe-6e00-5718ba5145d8')}\n",
      "Writing new NWB file Banner20211230_2MBXNE5ZI6.nwb\n"
     ]
    },
    {
     "name": "stderr",
     "output_type": "stream",
     "text": [
      "Processes:  72%|███████▏  | 57/79 [02:39<01:08,  3.10s/it]"
     ]
    },
    {
     "name": "stdout",
     "output_type": "stream",
     "text": [
      "Computing ripple times for: {'lfp_merge_id': UUID('e90fb226-87d8-c1a3-be22-cfaa18277075'), 'filter_name': 'Ripple 150-250 Hz', 'filter_sampling_rate': 1000, 'nwb_file_name': 'Banner20220224_.nwb', 'target_interval_list_name': 'pos 3 valid times', 'lfp_band_sampling_rate': 1000, 'group_name': 'CA1', 'ripple_param_name': 'default_ms', 'pos_merge_id': UUID('c250c184-7e3e-e724-ce87-482695fa7400')}\n",
      "Writing new NWB file Banner20220126_Y61D29G4D9.nwb\n",
      "Computing ripple times for: {'lfp_merge_id': UUID('4b26984b-48e6-7cfe-c81c-8791a9e12c08'), 'filter_name': 'Ripple 150-250 Hz', 'filter_sampling_rate': 1000, 'nwb_file_name': 'Banner20211231_.nwb', 'target_interval_list_name': 'pos 1 valid times', 'lfp_band_sampling_rate': 1000, 'group_name': 'CA1', 'ripple_param_name': 'default_ms', 'pos_merge_id': UUID('c943e5d3-3e19-f544-61d2-30daed3a3104')}\n",
      "Writing new NWB file Banner20211222_GOE4Q2NWZ8.nwb\n"
     ]
    },
    {
     "name": "stderr",
     "output_type": "stream",
     "text": [
      "Processes:  73%|███████▎  | 58/79 [02:43<01:08,  3.28s/it]"
     ]
    },
    {
     "name": "stdout",
     "output_type": "stream",
     "text": [
      "Computing ripple times for: {'lfp_merge_id': UUID('9d888e40-c0cb-ec21-0675-3b0a41a8b318'), 'filter_name': 'Ripple 150-250 Hz', 'filter_sampling_rate': 1000, 'nwb_file_name': 'Banner20220103_.nwb', 'target_interval_list_name': 'pos 2 valid times', 'lfp_band_sampling_rate': 1000, 'group_name': 'CA1', 'ripple_param_name': 'default_ms', 'pos_merge_id': UUID('cbcab31b-caf1-2166-fb33-e77121f03e13')}\n",
      "Writing new NWB file Banner20220123_2G45Z01AN9.nwb\n"
     ]
    },
    {
     "name": "stderr",
     "output_type": "stream",
     "text": [
      "Processes:  76%|███████▌  | 60/79 [02:47<00:51,  2.70s/it]"
     ]
    },
    {
     "name": "stdout",
     "output_type": "stream",
     "text": [
      "Computing ripple times for: {'lfp_merge_id': UUID('c50bc147-0fb6-ed56-b695-b20c4e36c2b9'), 'filter_name': 'Ripple 150-250 Hz', 'filter_sampling_rate': 1000, 'nwb_file_name': 'Banner20220223_.nwb', 'target_interval_list_name': 'pos 0 valid times', 'lfp_band_sampling_rate': 1000, 'group_name': 'CA1', 'ripple_param_name': 'default_ms', 'pos_merge_id': UUID('d45e80c1-30a2-3dae-c982-cf7e79e336e6')}\n",
      "Writing new NWB file Banner20220224_NW0P0N2SNK.nwb\n"
     ]
    },
    {
     "name": "stderr",
     "output_type": "stream",
     "text": [
      "Processes:  77%|███████▋  | 61/79 [02:52<00:57,  3.18s/it]"
     ]
    },
    {
     "name": "stdout",
     "output_type": "stream",
     "text": [
      "Computing ripple times for: {'lfp_merge_id': UUID('f76edb90-5d29-75ba-ef34-a7927f0a22bc'), 'filter_name': 'Ripple 150-250 Hz', 'filter_sampling_rate': 1000, 'nwb_file_name': 'Banner20211228_.nwb', 'target_interval_list_name': 'pos 0 valid times', 'lfp_band_sampling_rate': 1000, 'group_name': 'CA1', 'ripple_param_name': 'default_ms', 'pos_merge_id': UUID('d51849aa-65e9-36aa-68dd-9bc59f7795cb')}\n",
      "Writing new NWB file Banner20220103_A888IMEZ5J.nwb\n",
      "Writing new NWB file Banner20211231_ZYV5QJ6DAO.nwb\n",
      "Writing new NWB file Banner20220223_9OPM202MSJ.nwb\n",
      "Computing ripple times for: {'lfp_merge_id': UUID('cc6a58b4-0200-22d9-e6e1-d414a8ab303a'), 'filter_name': 'Ripple 150-250 Hz', 'filter_sampling_rate': 1000, 'nwb_file_name': 'Banner20211227_.nwb', 'target_interval_list_name': 'pos 3 valid times', 'lfp_band_sampling_rate': 1000, 'group_name': 'CA1', 'ripple_param_name': 'default_ms', 'pos_merge_id': UUID('d5978dab-80c3-52a3-36d7-ffca2ea2d548')}\n"
     ]
    },
    {
     "name": "stderr",
     "output_type": "stream",
     "text": [
      "Processes:  78%|███████▊  | 62/79 [02:56<00:56,  3.33s/it]"
     ]
    },
    {
     "name": "stdout",
     "output_type": "stream",
     "text": [
      "Computing ripple times for: {'lfp_merge_id': UUID('4910b957-4c5e-f170-5aa8-f9568e89896d'), 'filter_name': 'Ripple 150-250 Hz', 'filter_sampling_rate': 1000, 'nwb_file_name': 'Banner20220216_.nwb', 'target_interval_list_name': 'pos 3 valid times', 'lfp_band_sampling_rate': 1000, 'group_name': 'CA1', 'ripple_param_name': 'default_ms', 'pos_merge_id': UUID('d9417cc9-11d7-90c6-5f06-d9fd3d4f9cce')}\n"
     ]
    },
    {
     "name": "stderr",
     "output_type": "stream",
     "text": [
      "Processes:  81%|████████  | 64/79 [02:56<00:30,  2.04s/it]"
     ]
    },
    {
     "name": "stdout",
     "output_type": "stream",
     "text": [
      "Computing ripple times for: {'lfp_merge_id': UUID('8434622e-f2fe-4838-3531-bec3427452e6'), 'filter_name': 'Ripple 150-250 Hz', 'filter_sampling_rate': 1000, 'nwb_file_name': 'Banner20211231_.nwb', 'target_interval_list_name': 'pos 0 valid times', 'lfp_band_sampling_rate': 1000, 'group_name': 'CA1', 'ripple_param_name': 'default_ms', 'pos_merge_id': UUID('d9958094-6037-36d9-348e-785977e2a7a4')}\n",
      "Writing new NWB file Banner20211228_DNT25GQGJ6.nwb\n"
     ]
    },
    {
     "name": "stderr",
     "output_type": "stream",
     "text": [
      "Processes:  82%|████████▏ | 65/79 [03:03<00:44,  3.15s/it]"
     ]
    },
    {
     "name": "stdout",
     "output_type": "stream",
     "text": [
      "Computing ripple times for: {'lfp_merge_id': UUID('80602f68-9a80-ebba-f37d-df8f8d37a890'), 'filter_name': 'Ripple 150-250 Hz', 'filter_sampling_rate': 1000, 'nwb_file_name': 'Banner20220215_.nwb', 'target_interval_list_name': 'pos 1 valid times', 'lfp_band_sampling_rate': 1000, 'group_name': 'CA1', 'ripple_param_name': 'default_ms', 'pos_merge_id': UUID('dad4fa0c-a44d-20f0-85c6-75a244cf6e24')}\n",
      "Writing new NWB file Banner20220216_AOFXTOX6U2.nwb\n",
      "Computing ripple times for: {'lfp_merge_id': UUID('0f0428e8-fc1d-807c-f69b-d19d755e42bd'), 'filter_name': 'Ripple 150-250 Hz', 'filter_sampling_rate': 1000, 'nwb_file_name': 'Banner20211227_.nwb', 'target_interval_list_name': 'pos 4 valid times', 'lfp_band_sampling_rate': 1000, 'group_name': 'CA1', 'ripple_param_name': 'default_ms', 'pos_merge_id': UUID('e48eaa07-1dff-a4b1-8c3b-61c227c96ea3')}\n",
      "Writing new NWB file Banner20211227_V6X2CIEJM2.nwb\n",
      "Writing new NWB file Banner20211231_GJD8GB1OWQ.nwb\n"
     ]
    },
    {
     "name": "stderr",
     "output_type": "stream",
     "text": [
      "Processes:  84%|████████▎ | 66/79 [03:10<00:52,  4.00s/it]"
     ]
    },
    {
     "name": "stdout",
     "output_type": "stream",
     "text": [
      "Computing ripple times for: {'lfp_merge_id': UUID('6eec60fe-e2ca-a12a-ed74-83b9ffec470a'), 'filter_name': 'Ripple 150-250 Hz', 'filter_sampling_rate': 1000, 'nwb_file_name': 'Banner20211231_.nwb', 'target_interval_list_name': 'pos 4 valid times', 'lfp_band_sampling_rate': 1000, 'group_name': 'CA1', 'ripple_param_name': 'default_ms', 'pos_merge_id': UUID('e5155ee8-49f1-b690-64e6-889739d79d96')}\n"
     ]
    },
    {
     "name": "stderr",
     "output_type": "stream",
     "text": [
      "Processes:  86%|████████▌ | 68/79 [03:10<00:27,  2.54s/it]"
     ]
    },
    {
     "name": "stdout",
     "output_type": "stream",
     "text": [
      "Computing ripple times for: {'lfp_merge_id': UUID('c7401a28-b278-4ca0-7487-a83df7780de0'), 'filter_name': 'Ripple 150-250 Hz', 'filter_sampling_rate': 1000, 'nwb_file_name': 'Banner20211228_.nwb', 'target_interval_list_name': 'pos 5 valid times', 'lfp_band_sampling_rate': 1000, 'group_name': 'CA1', 'ripple_param_name': 'default_ms', 'pos_merge_id': UUID('e6ae16b5-f94d-e34e-580a-be6419737ead')}\n",
      "Writing new NWB file Banner20220215_8VHZZD3SYN.nwb\n"
     ]
    },
    {
     "name": "stderr",
     "output_type": "stream",
     "text": [
      "Processes:  87%|████████▋ | 69/79 [03:12<00:23,  2.40s/it]"
     ]
    },
    {
     "name": "stdout",
     "output_type": "stream",
     "text": [
      "Computing ripple times for: {'lfp_merge_id': UUID('872ea587-58f1-d0e7-f4d5-ba795803b871'), 'filter_name': 'Ripple 150-250 Hz', 'filter_sampling_rate': 1000, 'nwb_file_name': 'Banner20220126_.nwb', 'target_interval_list_name': 'pos 7 valid times', 'lfp_band_sampling_rate': 1000, 'group_name': 'CA1', 'ripple_param_name': 'default_ms', 'pos_merge_id': UUID('e909c668-f172-cd27-1951-7face488174a')}\n",
      "Writing new NWB file Banner20211227_QFC4Y78IZR.nwb\n",
      "Writing new NWB file Banner20220126_LP2B02Q5SA.nwb\n"
     ]
    },
    {
     "name": "stderr",
     "output_type": "stream",
     "text": [
      "Processes:  89%|████████▊ | 70/79 [03:19<00:30,  3.41s/it]"
     ]
    },
    {
     "name": "stdout",
     "output_type": "stream",
     "text": [
      "Computing ripple times for: {'lfp_merge_id': UUID('17d3f342-a520-e4c2-4504-bab41e4f9a5b'), 'filter_name': 'Ripple 150-250 Hz', 'filter_sampling_rate': 1000, 'nwb_file_name': 'Banner20220126_.nwb', 'target_interval_list_name': 'pos 1 valid times', 'lfp_band_sampling_rate': 1000, 'group_name': 'CA1', 'ripple_param_name': 'default_ms', 'pos_merge_id': UUID('ebd47c5b-0ead-746c-58ba-e71c47d21eaf')}\n",
      "Writing new NWB file Banner20211231_18EMFRUNF7.nwb\n",
      "Computing ripple times for: {'lfp_merge_id': UUID('fe073c2c-517a-4b8c-7bbf-9c610ca22dfc'), 'filter_name': 'Ripple 150-250 Hz', 'filter_sampling_rate': 1000, 'nwb_file_name': 'Banner20220225_.nwb', 'target_interval_list_name': 'pos 1 valid times', 'lfp_band_sampling_rate': 1000, 'group_name': 'CA1', 'ripple_param_name': 'default_ms', 'pos_merge_id': UUID('ed218b2c-2ea8-5543-e864-76232b2d7d6b')}\n"
     ]
    },
    {
     "name": "stderr",
     "output_type": "stream",
     "text": [
      "Processes:  90%|████████▉ | 71/79 [03:21<00:24,  3.07s/it]"
     ]
    },
    {
     "name": "stdout",
     "output_type": "stream",
     "text": [
      "Computing ripple times for: {'lfp_merge_id': UUID('3561c237-e5a3-d7c4-13f0-fa8d9a234129'), 'filter_name': 'Ripple 150-250 Hz', 'filter_sampling_rate': 1000, 'nwb_file_name': 'Banner20211230_.nwb', 'target_interval_list_name': 'pos 3 valid times', 'lfp_band_sampling_rate': 1000, 'group_name': 'CA1', 'ripple_param_name': 'default_ms', 'pos_merge_id': UUID('f30ab13e-627f-198d-6950-eeb5d997c4d3')}\n",
      "Writing new NWB file Banner20211228_I9HKDHBWE0.nwb\n"
     ]
    },
    {
     "name": "stderr",
     "output_type": "stream",
     "text": [
      "Processes:  91%|█████████ | 72/79 [03:26<00:24,  3.47s/it]"
     ]
    },
    {
     "name": "stdout",
     "output_type": "stream",
     "text": [
      "Computing ripple times for: {'lfp_merge_id': UUID('56d0f071-3e01-d4b9-5d3b-b38d6195db14'), 'filter_name': 'Ripple 150-250 Hz', 'filter_sampling_rate': 1000, 'nwb_file_name': 'Banner20220225_.nwb', 'target_interval_list_name': 'pos 7 valid times', 'lfp_band_sampling_rate': 1000, 'group_name': 'CA1', 'ripple_param_name': 'default_ms', 'pos_merge_id': UUID('f4827d4c-4a14-d023-c762-48d972d38276')}\n",
      "Writing new NWB file Banner20220126_1C0JTKKN37.nwb\n"
     ]
    },
    {
     "name": "stderr",
     "output_type": "stream",
     "text": [
      "Processes:  94%|█████████▎| 74/79 [03:28<00:12,  2.54s/it]"
     ]
    },
    {
     "name": "stdout",
     "output_type": "stream",
     "text": [
      "Computing ripple times for: {'lfp_merge_id': UUID('88b304c2-a2f1-74a2-3626-193a8e512d58'), 'filter_name': 'Ripple 150-250 Hz', 'filter_sampling_rate': 1000, 'nwb_file_name': 'Banner20211230_.nwb', 'target_interval_list_name': 'pos 1 valid times', 'lfp_band_sampling_rate': 1000, 'group_name': 'CA1', 'ripple_param_name': 'default_ms', 'pos_merge_id': UUID('f4d4469d-a755-49e7-ef98-e4390dc825e6')}\n",
      "Writing new NWB file Banner20220225_DXWO2KXQ25.nwb\n",
      "Writing new NWB file Banner20211230_0FO509SUEE.nwb\n"
     ]
    },
    {
     "name": "stderr",
     "output_type": "stream",
     "text": [
      "Processes:  95%|█████████▍| 75/79 [03:34<00:13,  3.35s/it]"
     ]
    },
    {
     "name": "stdout",
     "output_type": "stream",
     "text": [
      "Computing ripple times for: {'lfp_merge_id': UUID('d05e69d9-cb88-8e6e-1569-3a84d0fea2fa'), 'filter_name': 'Ripple 150-250 Hz', 'filter_sampling_rate': 1000, 'nwb_file_name': 'Banner20211228_.nwb', 'target_interval_list_name': 'pos 3 valid times', 'lfp_band_sampling_rate': 1000, 'group_name': 'CA1', 'ripple_param_name': 'default_ms', 'pos_merge_id': UUID('fba2decc-2a46-f8bb-edaf-8fe106596f0b')}\n"
     ]
    },
    {
     "name": "stderr",
     "output_type": "stream",
     "text": [
      "Processes:  96%|█████████▌| 76/79 [03:35<00:07,  2.63s/it]"
     ]
    },
    {
     "name": "stdout",
     "output_type": "stream",
     "text": [
      "Writing new NWB file Banner20220225_707SGQ01NJ.nwb\n"
     ]
    },
    {
     "name": "stderr",
     "output_type": "stream",
     "text": [
      "Processes:  97%|█████████▋| 77/79 [03:39<00:06,  3.12s/it]"
     ]
    },
    {
     "name": "stdout",
     "output_type": "stream",
     "text": [
      "Writing new NWB file Banner20211230_7967KDE42F.nwb\n"
     ]
    },
    {
     "name": "stderr",
     "output_type": "stream",
     "text": [
      "Processes:  99%|█████████▊| 78/79 [03:42<00:03,  3.01s/it]"
     ]
    },
    {
     "name": "stdout",
     "output_type": "stream",
     "text": [
      "Writing new NWB file Banner20211228_XNTXNJJJ0T.nwb\n"
     ]
    },
    {
     "name": "stderr",
     "output_type": "stream",
     "text": [
      "Processes: 100%|██████████| 79/79 [03:47<00:00,  2.88s/it]\n"
     ]
    }
   ],
   "source": [
    "import warnings\n",
    "warnings.filterwarnings('ignore')\n",
    "sgrip.RippleTimesV1().populate(key_list,display_progress=True,processes=4)\n",
    "# for key in key_list:\n",
    "#     sgrip.RippleTimesV1().populate(key,display_progress=True,processes=1)"
   ]
  },
  {
   "cell_type": "code",
   "execution_count": 64,
   "id": "7c399133",
   "metadata": {},
   "outputs": [
    {
     "name": "stdout",
     "output_type": "stream",
     "text": [
      "> \u001b[0;32m/home/sambray/mambaforge-pypy3/envs/spyglass/lib/python3.9/site-packages/pandas/core/indexing.py\u001b[0m(1589)\u001b[0;36m_validate_integer\u001b[0;34m()\u001b[0m\n",
      "\u001b[0;32m   1587 \u001b[0;31m        \u001b[0mlen_axis\u001b[0m \u001b[0;34m=\u001b[0m \u001b[0mlen\u001b[0m\u001b[0;34m(\u001b[0m\u001b[0mself\u001b[0m\u001b[0;34m.\u001b[0m\u001b[0mobj\u001b[0m\u001b[0;34m.\u001b[0m\u001b[0m_get_axis\u001b[0m\u001b[0;34m(\u001b[0m\u001b[0maxis\u001b[0m\u001b[0;34m)\u001b[0m\u001b[0;34m)\u001b[0m\u001b[0;34m\u001b[0m\u001b[0;34m\u001b[0m\u001b[0m\n",
      "\u001b[0m\u001b[0;32m   1588 \u001b[0;31m        \u001b[0;32mif\u001b[0m \u001b[0mkey\u001b[0m \u001b[0;34m>=\u001b[0m \u001b[0mlen_axis\u001b[0m \u001b[0;32mor\u001b[0m \u001b[0mkey\u001b[0m \u001b[0;34m<\u001b[0m \u001b[0;34m-\u001b[0m\u001b[0mlen_axis\u001b[0m\u001b[0;34m:\u001b[0m\u001b[0;34m\u001b[0m\u001b[0;34m\u001b[0m\u001b[0m\n",
      "\u001b[0m\u001b[0;32m-> 1589 \u001b[0;31m            \u001b[0;32mraise\u001b[0m \u001b[0mIndexError\u001b[0m\u001b[0;34m(\u001b[0m\u001b[0;34m\"single positional indexer is out-of-bounds\"\u001b[0m\u001b[0;34m)\u001b[0m\u001b[0;34m\u001b[0m\u001b[0;34m\u001b[0m\u001b[0m\n",
      "\u001b[0m\u001b[0;32m   1590 \u001b[0;31m\u001b[0;34m\u001b[0m\u001b[0m\n",
      "\u001b[0m\u001b[0;32m   1591 \u001b[0;31m    \u001b[0;31m# -------------------------------------------------------------------\u001b[0m\u001b[0;34m\u001b[0m\u001b[0;34m\u001b[0m\u001b[0m\n",
      "\u001b[0m\n",
      "*** NameError: name 'key' is not defined\n",
      "*** NameError: name 'key' is not defined\n",
      "*** NameError: name 'key' is not defined\n",
      "*** NameError: name 'self' is not defined\n",
      "> \u001b[0;32m/home/sambray/mambaforge-pypy3/envs/spyglass/lib/python3.9/site-packages/pandas/core/indexing.py\u001b[0m(1656)\u001b[0;36m_getitem_axis\u001b[0;34m()\u001b[0m\n",
      "\u001b[0;32m   1654 \u001b[0;31m\u001b[0;34m\u001b[0m\u001b[0m\n",
      "\u001b[0m\u001b[0;32m   1655 \u001b[0;31m            \u001b[0;31m# validate the location\u001b[0m\u001b[0;34m\u001b[0m\u001b[0;34m\u001b[0m\u001b[0m\n",
      "\u001b[0m\u001b[0;32m-> 1656 \u001b[0;31m            \u001b[0mself\u001b[0m\u001b[0;34m.\u001b[0m\u001b[0m_validate_integer\u001b[0m\u001b[0;34m(\u001b[0m\u001b[0mkey\u001b[0m\u001b[0;34m,\u001b[0m \u001b[0maxis\u001b[0m\u001b[0;34m)\u001b[0m\u001b[0;34m\u001b[0m\u001b[0;34m\u001b[0m\u001b[0m\n",
      "\u001b[0m\u001b[0;32m   1657 \u001b[0;31m\u001b[0;34m\u001b[0m\u001b[0m\n",
      "\u001b[0m\u001b[0;32m   1658 \u001b[0;31m            \u001b[0;32mreturn\u001b[0m \u001b[0mself\u001b[0m\u001b[0;34m.\u001b[0m\u001b[0mobj\u001b[0m\u001b[0;34m.\u001b[0m\u001b[0m_ixs\u001b[0m\u001b[0;34m(\u001b[0m\u001b[0mkey\u001b[0m\u001b[0;34m,\u001b[0m \u001b[0maxis\u001b[0m\u001b[0;34m=\u001b[0m\u001b[0maxis\u001b[0m\u001b[0;34m)\u001b[0m\u001b[0;34m\u001b[0m\u001b[0;34m\u001b[0m\u001b[0m\n",
      "\u001b[0m\n",
      "*** NameError: name 'key' is not defined\n",
      "> \u001b[0;32m/home/sambray/mambaforge-pypy3/envs/spyglass/lib/python3.9/site-packages/pandas/core/indexing.py\u001b[0m(1103)\u001b[0;36m__getitem__\u001b[0;34m()\u001b[0m\n",
      "\u001b[0;32m   1101 \u001b[0;31m\u001b[0;34m\u001b[0m\u001b[0m\n",
      "\u001b[0m\u001b[0;32m   1102 \u001b[0;31m            \u001b[0mmaybe_callable\u001b[0m \u001b[0;34m=\u001b[0m \u001b[0mcom\u001b[0m\u001b[0;34m.\u001b[0m\u001b[0mapply_if_callable\u001b[0m\u001b[0;34m(\u001b[0m\u001b[0mkey\u001b[0m\u001b[0;34m,\u001b[0m \u001b[0mself\u001b[0m\u001b[0;34m.\u001b[0m\u001b[0mobj\u001b[0m\u001b[0;34m)\u001b[0m\u001b[0;34m\u001b[0m\u001b[0;34m\u001b[0m\u001b[0m\n",
      "\u001b[0m\u001b[0;32m-> 1103 \u001b[0;31m            \u001b[0;32mreturn\u001b[0m \u001b[0mself\u001b[0m\u001b[0;34m.\u001b[0m\u001b[0m_getitem_axis\u001b[0m\u001b[0;34m(\u001b[0m\u001b[0mmaybe_callable\u001b[0m\u001b[0;34m,\u001b[0m \u001b[0maxis\u001b[0m\u001b[0;34m=\u001b[0m\u001b[0maxis\u001b[0m\u001b[0;34m)\u001b[0m\u001b[0;34m\u001b[0m\u001b[0;34m\u001b[0m\u001b[0m\n",
      "\u001b[0m\u001b[0;32m   1104 \u001b[0;31m\u001b[0;34m\u001b[0m\u001b[0m\n",
      "\u001b[0m\u001b[0;32m   1105 \u001b[0;31m    \u001b[0;32mdef\u001b[0m \u001b[0m_is_scalar_access\u001b[0m\u001b[0;34m(\u001b[0m\u001b[0mself\u001b[0m\u001b[0;34m,\u001b[0m \u001b[0mkey\u001b[0m\u001b[0;34m:\u001b[0m \u001b[0mtuple\u001b[0m\u001b[0;34m)\u001b[0m\u001b[0;34m:\u001b[0m\u001b[0;34m\u001b[0m\u001b[0;34m\u001b[0m\u001b[0m\n",
      "\u001b[0m\n",
      "> \u001b[0;32m/home/sambray/mambaforge-pypy3/envs/spyglass/lib/python3.9/site-packages/hdmf/common/table.py\u001b[0m(1180)\u001b[0;36mfrom_dataframe\u001b[0;34m()\u001b[0m\n",
      "\u001b[0;32m   1178 \u001b[0;31m                columns.append({'name': col_name,\n",
      "\u001b[0m\u001b[0;32m   1179 \u001b[0;31m                                'description': column_descriptions.get(col_name, 'no description')})\n",
      "\u001b[0m\u001b[0;32m-> 1180 \u001b[0;31m                \u001b[0;32mif\u001b[0m \u001b[0mhasattr\u001b[0m\u001b[0;34m(\u001b[0m\u001b[0mdf\u001b[0m\u001b[0;34m[\u001b[0m\u001b[0mcol_name\u001b[0m\u001b[0;34m]\u001b[0m\u001b[0;34m.\u001b[0m\u001b[0miloc\u001b[0m\u001b[0;34m[\u001b[0m\u001b[0;36m0\u001b[0m\u001b[0;34m]\u001b[0m\u001b[0;34m,\u001b[0m \u001b[0;34m'__len__'\u001b[0m\u001b[0;34m)\u001b[0m \u001b[0;32mand\u001b[0m \u001b[0;32mnot\u001b[0m \u001b[0misinstance\u001b[0m\u001b[0;34m(\u001b[0m\u001b[0mdf\u001b[0m\u001b[0;34m[\u001b[0m\u001b[0mcol_name\u001b[0m\u001b[0;34m]\u001b[0m\u001b[0;34m.\u001b[0m\u001b[0miloc\u001b[0m\u001b[0;34m[\u001b[0m\u001b[0;36m0\u001b[0m\u001b[0;34m]\u001b[0m\u001b[0;34m,\u001b[0m \u001b[0mstr\u001b[0m\u001b[0;34m)\u001b[0m\u001b[0;34m:\u001b[0m\u001b[0;34m\u001b[0m\u001b[0;34m\u001b[0m\u001b[0m\n",
      "\u001b[0m\u001b[0;32m   1181 \u001b[0;31m                    \u001b[0mlengths\u001b[0m \u001b[0;34m=\u001b[0m \u001b[0;34m[\u001b[0m\u001b[0mlen\u001b[0m\u001b[0;34m(\u001b[0m\u001b[0mx\u001b[0m\u001b[0;34m)\u001b[0m \u001b[0;32mfor\u001b[0m \u001b[0mx\u001b[0m \u001b[0;32min\u001b[0m \u001b[0mdf\u001b[0m\u001b[0;34m[\u001b[0m\u001b[0mcol_name\u001b[0m\u001b[0;34m]\u001b[0m\u001b[0;34m]\u001b[0m\u001b[0;34m\u001b[0m\u001b[0;34m\u001b[0m\u001b[0m\n",
      "\u001b[0m\u001b[0;32m   1182 \u001b[0;31m                    \u001b[0;32mif\u001b[0m \u001b[0;32mnot\u001b[0m \u001b[0mlengths\u001b[0m\u001b[0;34m[\u001b[0m\u001b[0;36m1\u001b[0m\u001b[0;34m:\u001b[0m\u001b[0;34m]\u001b[0m \u001b[0;34m==\u001b[0m \u001b[0mlengths\u001b[0m\u001b[0;34m[\u001b[0m\u001b[0;34m:\u001b[0m\u001b[0;34m-\u001b[0m\u001b[0;36m1\u001b[0m\u001b[0;34m]\u001b[0m\u001b[0;34m:\u001b[0m\u001b[0;34m\u001b[0m\u001b[0;34m\u001b[0m\u001b[0m\n",
      "\u001b[0m\n",
      "> \u001b[0;32m/home/sambray/mambaforge-pypy3/envs/spyglass/lib/python3.9/site-packages/hdmf/utils.py\u001b[0m(645)\u001b[0;36mfunc_call\u001b[0;34m()\u001b[0m\n",
      "\u001b[0;32m    643 \u001b[0;31m            \u001b[0;32mdef\u001b[0m \u001b[0mfunc_call\u001b[0m\u001b[0;34m(\u001b[0m\u001b[0;34m*\u001b[0m\u001b[0margs\u001b[0m\u001b[0;34m,\u001b[0m \u001b[0;34m**\u001b[0m\u001b[0mkwargs\u001b[0m\u001b[0;34m)\u001b[0m\u001b[0;34m:\u001b[0m\u001b[0;34m\u001b[0m\u001b[0;34m\u001b[0m\u001b[0m\n",
      "\u001b[0m\u001b[0;32m    644 \u001b[0;31m                \u001b[0mpargs\u001b[0m \u001b[0;34m=\u001b[0m \u001b[0m_check_args\u001b[0m\u001b[0;34m(\u001b[0m\u001b[0margs\u001b[0m\u001b[0;34m,\u001b[0m \u001b[0mkwargs\u001b[0m\u001b[0;34m)\u001b[0m\u001b[0;34m\u001b[0m\u001b[0;34m\u001b[0m\u001b[0m\n",
      "\u001b[0m\u001b[0;32m--> 645 \u001b[0;31m                \u001b[0;32mreturn\u001b[0m \u001b[0mfunc\u001b[0m\u001b[0;34m(\u001b[0m\u001b[0margs\u001b[0m\u001b[0;34m[\u001b[0m\u001b[0;36m0\u001b[0m\u001b[0;34m]\u001b[0m\u001b[0;34m,\u001b[0m \u001b[0;34m**\u001b[0m\u001b[0mpargs\u001b[0m\u001b[0;34m)\u001b[0m\u001b[0;34m\u001b[0m\u001b[0;34m\u001b[0m\u001b[0m\n",
      "\u001b[0m\u001b[0;32m    646 \u001b[0;31m        \u001b[0;32melse\u001b[0m\u001b[0;34m:\u001b[0m\u001b[0;34m\u001b[0m\u001b[0;34m\u001b[0m\u001b[0m\n",
      "\u001b[0m\u001b[0;32m    647 \u001b[0;31m            \u001b[0;32mdef\u001b[0m \u001b[0mfunc_call\u001b[0m\u001b[0;34m(\u001b[0m\u001b[0;34m*\u001b[0m\u001b[0margs\u001b[0m\u001b[0;34m,\u001b[0m \u001b[0;34m**\u001b[0m\u001b[0mkwargs\u001b[0m\u001b[0;34m)\u001b[0m\u001b[0;34m:\u001b[0m\u001b[0;34m\u001b[0m\u001b[0;34m\u001b[0m\u001b[0m\n",
      "\u001b[0m\n",
      "> \u001b[0;32m/home/sambray/Documents/spyglass/src/spyglass/common/common_nwbfile.py\u001b[0m(354)\u001b[0;36madd_nwb_object\u001b[0;34m()\u001b[0m\n",
      "\u001b[0;32m    352 \u001b[0;31m            \u001b[0mnwbf\u001b[0m \u001b[0;34m=\u001b[0m \u001b[0mio\u001b[0m\u001b[0;34m.\u001b[0m\u001b[0mread\u001b[0m\u001b[0;34m(\u001b[0m\u001b[0;34m)\u001b[0m\u001b[0;34m\u001b[0m\u001b[0;34m\u001b[0m\u001b[0m\n",
      "\u001b[0m\u001b[0;32m    353 \u001b[0;31m            \u001b[0;32mif\u001b[0m \u001b[0misinstance\u001b[0m\u001b[0;34m(\u001b[0m\u001b[0mnwb_object\u001b[0m\u001b[0;34m,\u001b[0m \u001b[0mpd\u001b[0m\u001b[0;34m.\u001b[0m\u001b[0mDataFrame\u001b[0m\u001b[0;34m)\u001b[0m\u001b[0;34m:\u001b[0m\u001b[0;34m\u001b[0m\u001b[0;34m\u001b[0m\u001b[0m\n",
      "\u001b[0m\u001b[0;32m--> 354 \u001b[0;31m                dt_object = DynamicTable.from_dataframe(\n",
      "\u001b[0m\u001b[0;32m    355 \u001b[0;31m                    \u001b[0mname\u001b[0m\u001b[0;34m=\u001b[0m\u001b[0mtable_name\u001b[0m\u001b[0;34m,\u001b[0m \u001b[0mdf\u001b[0m\u001b[0;34m=\u001b[0m\u001b[0mnwb_object\u001b[0m\u001b[0;34m\u001b[0m\u001b[0;34m\u001b[0m\u001b[0m\n",
      "\u001b[0m\u001b[0;32m    356 \u001b[0;31m                )\n",
      "\u001b[0m\n",
      "> \u001b[0;32m/home/sambray/Documents/spyglass/src/spyglass/ripple/v1/ripple.py\u001b[0m(188)\u001b[0;36mmake\u001b[0;34m()\u001b[0m\n",
      "\u001b[0;32m    186 \u001b[0;31m        \u001b[0mnwb_analysis_file\u001b[0m \u001b[0;34m=\u001b[0m \u001b[0mAnalysisNwbfile\u001b[0m\u001b[0;34m(\u001b[0m\u001b[0;34m)\u001b[0m\u001b[0;34m\u001b[0m\u001b[0;34m\u001b[0m\u001b[0m\n",
      "\u001b[0m\u001b[0;32m    187 \u001b[0;31m        \u001b[0mkey\u001b[0m\u001b[0;34m[\u001b[0m\u001b[0;34m\"analysis_file_name\"\u001b[0m\u001b[0;34m]\u001b[0m \u001b[0;34m=\u001b[0m \u001b[0mnwb_analysis_file\u001b[0m\u001b[0;34m.\u001b[0m\u001b[0mcreate\u001b[0m\u001b[0;34m(\u001b[0m\u001b[0mnwb_file_name\u001b[0m\u001b[0;34m)\u001b[0m\u001b[0;34m\u001b[0m\u001b[0;34m\u001b[0m\u001b[0m\n",
      "\u001b[0m\u001b[0;32m--> 188 \u001b[0;31m        key[\"ripple_times_object_id\"] = nwb_analysis_file.add_nwb_object(\n",
      "\u001b[0m\u001b[0;32m    189 \u001b[0;31m            \u001b[0manalysis_file_name\u001b[0m\u001b[0;34m=\u001b[0m\u001b[0mkey\u001b[0m\u001b[0;34m[\u001b[0m\u001b[0;34m\"analysis_file_name\"\u001b[0m\u001b[0;34m]\u001b[0m\u001b[0;34m,\u001b[0m\u001b[0;34m\u001b[0m\u001b[0;34m\u001b[0m\u001b[0m\n",
      "\u001b[0m\u001b[0;32m    190 \u001b[0;31m            \u001b[0mnwb_object\u001b[0m\u001b[0;34m=\u001b[0m\u001b[0mripple_times\u001b[0m\u001b[0;34m,\u001b[0m\u001b[0;34m\u001b[0m\u001b[0;34m\u001b[0m\u001b[0m\n",
      "\u001b[0m\n",
      "> \u001b[0;32m/home/sambray/mambaforge-pypy3/envs/spyglass/lib/python3.9/site-packages/datajoint/autopopulate.py\u001b[0m(292)\u001b[0;36m_populate1\u001b[0;34m()\u001b[0m\n",
      "\u001b[0;32m    290 \u001b[0;31m                \u001b[0mself\u001b[0m\u001b[0;34m.\u001b[0m\u001b[0m__class__\u001b[0m\u001b[0;34m.\u001b[0m\u001b[0m_allow_insert\u001b[0m \u001b[0;34m=\u001b[0m \u001b[0;32mTrue\u001b[0m\u001b[0;34m\u001b[0m\u001b[0;34m\u001b[0m\u001b[0m\n",
      "\u001b[0m\u001b[0;32m    291 \u001b[0;31m                \u001b[0;32mtry\u001b[0m\u001b[0;34m:\u001b[0m\u001b[0;34m\u001b[0m\u001b[0;34m\u001b[0m\u001b[0m\n",
      "\u001b[0m\u001b[0;32m--> 292 \u001b[0;31m                    \u001b[0mmake\u001b[0m\u001b[0;34m(\u001b[0m\u001b[0mdict\u001b[0m\u001b[0;34m(\u001b[0m\u001b[0mkey\u001b[0m\u001b[0;34m)\u001b[0m\u001b[0;34m,\u001b[0m \u001b[0;34m**\u001b[0m\u001b[0;34m(\u001b[0m\u001b[0mmake_kwargs\u001b[0m \u001b[0;32mor\u001b[0m \u001b[0;34m{\u001b[0m\u001b[0;34m}\u001b[0m\u001b[0;34m)\u001b[0m\u001b[0;34m)\u001b[0m\u001b[0;34m\u001b[0m\u001b[0;34m\u001b[0m\u001b[0m\n",
      "\u001b[0m\u001b[0;32m    293 \u001b[0;31m                \u001b[0;32mexcept\u001b[0m \u001b[0;34m(\u001b[0m\u001b[0mKeyboardInterrupt\u001b[0m\u001b[0;34m,\u001b[0m \u001b[0mSystemExit\u001b[0m\u001b[0;34m,\u001b[0m \u001b[0mException\u001b[0m\u001b[0;34m)\u001b[0m \u001b[0;32mas\u001b[0m \u001b[0merror\u001b[0m\u001b[0;34m:\u001b[0m\u001b[0;34m\u001b[0m\u001b[0;34m\u001b[0m\u001b[0m\n",
      "\u001b[0m\u001b[0;32m    294 \u001b[0;31m                    \u001b[0;32mtry\u001b[0m\u001b[0;34m:\u001b[0m\u001b[0;34m\u001b[0m\u001b[0;34m\u001b[0m\u001b[0m\n",
      "\u001b[0m\n",
      "> \u001b[0;32m/home/sambray/mambaforge-pypy3/envs/spyglass/lib/python3.9/site-packages/datajoint/autopopulate.py\u001b[0m(42)\u001b[0;36m_call_populate1\u001b[0;34m()\u001b[0m\n",
      "\u001b[0;32m     40 \u001b[0;31m    \"\"\"\n",
      "\u001b[0m\u001b[0;32m     41 \u001b[0;31m    \u001b[0mprocess\u001b[0m \u001b[0;34m=\u001b[0m \u001b[0mmp\u001b[0m\u001b[0;34m.\u001b[0m\u001b[0mcurrent_process\u001b[0m\u001b[0;34m(\u001b[0m\u001b[0;34m)\u001b[0m\u001b[0;34m\u001b[0m\u001b[0;34m\u001b[0m\u001b[0m\n",
      "\u001b[0m\u001b[0;32m---> 42 \u001b[0;31m    \u001b[0;32mreturn\u001b[0m \u001b[0mprocess\u001b[0m\u001b[0;34m.\u001b[0m\u001b[0mtable\u001b[0m\u001b[0;34m.\u001b[0m\u001b[0m_populate1\u001b[0m\u001b[0;34m(\u001b[0m\u001b[0mkey\u001b[0m\u001b[0;34m,\u001b[0m \u001b[0mprocess\u001b[0m\u001b[0;34m.\u001b[0m\u001b[0mjobs\u001b[0m\u001b[0;34m,\u001b[0m \u001b[0;34m**\u001b[0m\u001b[0mprocess\u001b[0m\u001b[0;34m.\u001b[0m\u001b[0mpopulate_kwargs\u001b[0m\u001b[0;34m)\u001b[0m\u001b[0;34m\u001b[0m\u001b[0;34m\u001b[0m\u001b[0m\n",
      "\u001b[0m\u001b[0;32m     43 \u001b[0;31m\u001b[0;34m\u001b[0m\u001b[0m\n",
      "\u001b[0m\u001b[0;32m     44 \u001b[0;31m\u001b[0;34m\u001b[0m\u001b[0m\n",
      "\u001b[0m\n",
      "> \u001b[0;32m/home/sambray/mambaforge-pypy3/envs/spyglass/lib/python3.9/multiprocessing/pool.py\u001b[0m(125)\u001b[0;36mworker\u001b[0;34m()\u001b[0m\n",
      "\u001b[0;32m    123 \u001b[0;31m        \u001b[0mjob\u001b[0m\u001b[0;34m,\u001b[0m \u001b[0mi\u001b[0m\u001b[0;34m,\u001b[0m \u001b[0mfunc\u001b[0m\u001b[0;34m,\u001b[0m \u001b[0margs\u001b[0m\u001b[0;34m,\u001b[0m \u001b[0mkwds\u001b[0m \u001b[0;34m=\u001b[0m \u001b[0mtask\u001b[0m\u001b[0;34m\u001b[0m\u001b[0;34m\u001b[0m\u001b[0m\n",
      "\u001b[0m\u001b[0;32m    124 \u001b[0;31m        \u001b[0;32mtry\u001b[0m\u001b[0;34m:\u001b[0m\u001b[0;34m\u001b[0m\u001b[0;34m\u001b[0m\u001b[0m\n",
      "\u001b[0m\u001b[0;32m--> 125 \u001b[0;31m            \u001b[0mresult\u001b[0m \u001b[0;34m=\u001b[0m \u001b[0;34m(\u001b[0m\u001b[0;32mTrue\u001b[0m\u001b[0;34m,\u001b[0m \u001b[0mfunc\u001b[0m\u001b[0;34m(\u001b[0m\u001b[0;34m*\u001b[0m\u001b[0margs\u001b[0m\u001b[0;34m,\u001b[0m \u001b[0;34m**\u001b[0m\u001b[0mkwds\u001b[0m\u001b[0;34m)\u001b[0m\u001b[0;34m)\u001b[0m\u001b[0;34m\u001b[0m\u001b[0;34m\u001b[0m\u001b[0m\n",
      "\u001b[0m\u001b[0;32m    126 \u001b[0;31m        \u001b[0;32mexcept\u001b[0m \u001b[0mException\u001b[0m \u001b[0;32mas\u001b[0m \u001b[0me\u001b[0m\u001b[0;34m:\u001b[0m\u001b[0;34m\u001b[0m\u001b[0;34m\u001b[0m\u001b[0m\n",
      "\u001b[0m\u001b[0;32m    127 \u001b[0;31m            \u001b[0;32mif\u001b[0m \u001b[0mwrap_exception\u001b[0m \u001b[0;32mand\u001b[0m \u001b[0mfunc\u001b[0m \u001b[0;32mis\u001b[0m \u001b[0;32mnot\u001b[0m \u001b[0m_helper_reraises_exception\u001b[0m\u001b[0;34m:\u001b[0m\u001b[0;34m\u001b[0m\u001b[0;34m\u001b[0m\u001b[0m\n",
      "\u001b[0m\n",
      "> \u001b[0;32m/home/sambray/mambaforge-pypy3/envs/spyglass/lib/python3.9/multiprocessing/pool.py\u001b[0m(870)\u001b[0;36mnext\u001b[0;34m()\u001b[0m\n",
      "\u001b[0;32m    868 \u001b[0;31m        \u001b[0;32mif\u001b[0m \u001b[0msuccess\u001b[0m\u001b[0;34m:\u001b[0m\u001b[0;34m\u001b[0m\u001b[0;34m\u001b[0m\u001b[0m\n",
      "\u001b[0m\u001b[0;32m    869 \u001b[0;31m            \u001b[0;32mreturn\u001b[0m \u001b[0mvalue\u001b[0m\u001b[0;34m\u001b[0m\u001b[0;34m\u001b[0m\u001b[0m\n",
      "\u001b[0m\u001b[0;32m--> 870 \u001b[0;31m        \u001b[0;32mraise\u001b[0m \u001b[0mvalue\u001b[0m\u001b[0;34m\u001b[0m\u001b[0;34m\u001b[0m\u001b[0m\n",
      "\u001b[0m\u001b[0;32m    871 \u001b[0;31m\u001b[0;34m\u001b[0m\u001b[0m\n",
      "\u001b[0m\u001b[0;32m    872 \u001b[0;31m    \u001b[0m__next__\u001b[0m \u001b[0;34m=\u001b[0m \u001b[0mnext\u001b[0m                    \u001b[0;31m# XXX\u001b[0m\u001b[0;34m\u001b[0m\u001b[0;34m\u001b[0m\u001b[0m\n",
      "\u001b[0m\n",
      "> \u001b[0;32m/home/sambray/mambaforge-pypy3/envs/spyglass/lib/python3.9/site-packages/datajoint/autopopulate.py\u001b[0m(255)\u001b[0;36mpopulate\u001b[0;34m()\u001b[0m\n",
      "\u001b[0;32m    253 \u001b[0;31m                \u001b[0;32melse\u001b[0m \u001b[0mcontextlib\u001b[0m\u001b[0;34m.\u001b[0m\u001b[0mnullcontext\u001b[0m\u001b[0;34m(\u001b[0m\u001b[0;34m)\u001b[0m\u001b[0;34m\u001b[0m\u001b[0;34m\u001b[0m\u001b[0m\n",
      "\u001b[0m\u001b[0;32m    254 \u001b[0;31m            ) as progress_bar:\n",
      "\u001b[0m\u001b[0;32m--> 255 \u001b[0;31m                \u001b[0;32mfor\u001b[0m \u001b[0merror\u001b[0m \u001b[0;32min\u001b[0m \u001b[0mpool\u001b[0m\u001b[0;34m.\u001b[0m\u001b[0mimap\u001b[0m\u001b[0;34m(\u001b[0m\u001b[0m_call_populate1\u001b[0m\u001b[0;34m,\u001b[0m \u001b[0mkeys\u001b[0m\u001b[0;34m,\u001b[0m \u001b[0mchunksize\u001b[0m\u001b[0;34m=\u001b[0m\u001b[0;36m1\u001b[0m\u001b[0;34m)\u001b[0m\u001b[0;34m:\u001b[0m\u001b[0;34m\u001b[0m\u001b[0;34m\u001b[0m\u001b[0m\n",
      "\u001b[0m\u001b[0;32m    256 \u001b[0;31m                    \u001b[0;32mif\u001b[0m \u001b[0merror\u001b[0m \u001b[0;32mis\u001b[0m \u001b[0;32mnot\u001b[0m \u001b[0;32mNone\u001b[0m\u001b[0;34m:\u001b[0m\u001b[0;34m\u001b[0m\u001b[0;34m\u001b[0m\u001b[0m\n",
      "\u001b[0m\u001b[0;32m    257 \u001b[0;31m                        \u001b[0merror_list\u001b[0m\u001b[0;34m.\u001b[0m\u001b[0mappend\u001b[0m\u001b[0;34m(\u001b[0m\u001b[0merror\u001b[0m\u001b[0;34m)\u001b[0m\u001b[0;34m\u001b[0m\u001b[0;34m\u001b[0m\u001b[0m\n",
      "\u001b[0m\n",
      "> \u001b[0;32m/tmp/ipykernel_3814992/1300374860.py\u001b[0m(3)\u001b[0;36m<module>\u001b[0;34m()\u001b[0m\n",
      "\u001b[0;32m      1 \u001b[0;31m\u001b[0;32mimport\u001b[0m \u001b[0mwarnings\u001b[0m\u001b[0;34m\u001b[0m\u001b[0;34m\u001b[0m\u001b[0m\n",
      "\u001b[0m\u001b[0;32m      2 \u001b[0;31m\u001b[0mwarnings\u001b[0m\u001b[0;34m.\u001b[0m\u001b[0mfilterwarnings\u001b[0m\u001b[0;34m(\u001b[0m\u001b[0;34m'ignore'\u001b[0m\u001b[0;34m)\u001b[0m\u001b[0;34m\u001b[0m\u001b[0;34m\u001b[0m\u001b[0m\n",
      "\u001b[0m\u001b[0;32m----> 3 \u001b[0;31m\u001b[0msgrip\u001b[0m\u001b[0;34m.\u001b[0m\u001b[0mRippleTimesV1\u001b[0m\u001b[0;34m(\u001b[0m\u001b[0;34m)\u001b[0m\u001b[0;34m.\u001b[0m\u001b[0mpopulate\u001b[0m\u001b[0;34m(\u001b[0m\u001b[0mkey_list\u001b[0m\u001b[0;34m,\u001b[0m\u001b[0mdisplay_progress\u001b[0m\u001b[0;34m=\u001b[0m\u001b[0;32mTrue\u001b[0m\u001b[0;34m,\u001b[0m\u001b[0mprocesses\u001b[0m\u001b[0;34m=\u001b[0m\u001b[0;36m4\u001b[0m\u001b[0;34m)\u001b[0m\u001b[0;34m\u001b[0m\u001b[0;34m\u001b[0m\u001b[0m\n",
      "\u001b[0m\u001b[0;32m      4 \u001b[0;31m\u001b[0;31m# for key in key_list:\u001b[0m\u001b[0;34m\u001b[0m\u001b[0;34m\u001b[0m\u001b[0m\n",
      "\u001b[0m\u001b[0;32m      5 \u001b[0;31m\u001b[0;31m#     sgrip.RippleTimesV1().populate(key,display_progress=True,processes=1)\u001b[0m\u001b[0;34m\u001b[0m\u001b[0;34m\u001b[0m\u001b[0m\n",
      "\u001b[0m\n",
      "*** Oldest frame\n",
      "*** Oldest frame\n",
      "*** Oldest frame\n",
      "*** NameError: name 'obj' is not defined\n",
      "*** NameError: name 'obj' is not defined\n"
     ]
    }
   ],
   "source": [
    "%debug"
   ]
  },
  {
   "cell_type": "code",
   "execution_count": 62,
   "id": "645e17fa",
   "metadata": {},
   "outputs": [],
   "source": [
    "import logging\n",
    "logging.getLogger('datajoint').setLevel(logging.ERROR)"
   ]
  },
  {
   "cell_type": "code",
   "execution_count": 51,
   "id": "6aca913b",
   "metadata": {},
   "outputs": [
    {
     "data": {
      "text/html": [
       "<div>\n",
       "<style scoped>\n",
       "    .dataframe tbody tr th:only-of-type {\n",
       "        vertical-align: middle;\n",
       "    }\n",
       "\n",
       "    .dataframe tbody tr th {\n",
       "        vertical-align: top;\n",
       "    }\n",
       "\n",
       "    .dataframe thead th {\n",
       "        text-align: right;\n",
       "    }\n",
       "</style>\n",
       "<table border=\"1\" class=\"dataframe\">\n",
       "  <thead>\n",
       "    <tr style=\"text-align: right;\">\n",
       "      <th></th>\n",
       "      <th>start_time</th>\n",
       "      <th>end_time</th>\n",
       "    </tr>\n",
       "    <tr>\n",
       "      <th>id</th>\n",
       "      <th></th>\n",
       "      <th></th>\n",
       "    </tr>\n",
       "  </thead>\n",
       "  <tbody>\n",
       "    <tr>\n",
       "      <th>0</th>\n",
       "      <td>1.657749e+09</td>\n",
       "      <td>1.657749e+09</td>\n",
       "    </tr>\n",
       "    <tr>\n",
       "      <th>1</th>\n",
       "      <td>1.657749e+09</td>\n",
       "      <td>1.657749e+09</td>\n",
       "    </tr>\n",
       "    <tr>\n",
       "      <th>2</th>\n",
       "      <td>1.657749e+09</td>\n",
       "      <td>1.657749e+09</td>\n",
       "    </tr>\n",
       "    <tr>\n",
       "      <th>3</th>\n",
       "      <td>1.657749e+09</td>\n",
       "      <td>1.657749e+09</td>\n",
       "    </tr>\n",
       "    <tr>\n",
       "      <th>4</th>\n",
       "      <td>1.657749e+09</td>\n",
       "      <td>1.657749e+09</td>\n",
       "    </tr>\n",
       "    <tr>\n",
       "      <th>...</th>\n",
       "      <td>...</td>\n",
       "      <td>...</td>\n",
       "    </tr>\n",
       "    <tr>\n",
       "      <th>588</th>\n",
       "      <td>1.657750e+09</td>\n",
       "      <td>1.657750e+09</td>\n",
       "    </tr>\n",
       "    <tr>\n",
       "      <th>589</th>\n",
       "      <td>1.657750e+09</td>\n",
       "      <td>1.657750e+09</td>\n",
       "    </tr>\n",
       "    <tr>\n",
       "      <th>590</th>\n",
       "      <td>1.657750e+09</td>\n",
       "      <td>1.657750e+09</td>\n",
       "    </tr>\n",
       "    <tr>\n",
       "      <th>591</th>\n",
       "      <td>1.657750e+09</td>\n",
       "      <td>1.657750e+09</td>\n",
       "    </tr>\n",
       "    <tr>\n",
       "      <th>592</th>\n",
       "      <td>1.657750e+09</td>\n",
       "      <td>1.657750e+09</td>\n",
       "    </tr>\n",
       "  </tbody>\n",
       "</table>\n",
       "<p>593 rows × 2 columns</p>\n",
       "</div>"
      ],
      "text/plain": [
       "       start_time      end_time\n",
       "id                             \n",
       "0    1.657749e+09  1.657749e+09\n",
       "1    1.657749e+09  1.657749e+09\n",
       "2    1.657749e+09  1.657749e+09\n",
       "3    1.657749e+09  1.657749e+09\n",
       "4    1.657749e+09  1.657749e+09\n",
       "..            ...           ...\n",
       "588  1.657750e+09  1.657750e+09\n",
       "589  1.657750e+09  1.657750e+09\n",
       "590  1.657750e+09  1.657750e+09\n",
       "591  1.657750e+09  1.657750e+09\n",
       "592  1.657750e+09  1.657750e+09\n",
       "\n",
       "[593 rows x 2 columns]"
      ]
     },
     "execution_count": 51,
     "metadata": {},
     "output_type": "execute_result"
    }
   ],
   "source": [
    "(sgrip.RippleTimesV1() & key).fetch1_dataframe()"
   ]
  }
 ],
 "metadata": {
  "kernelspec": {
   "display_name": "spyglass",
   "language": "python",
   "name": "python3"
  },
  "language_info": {
   "codemirror_mode": {
    "name": "ipython",
    "version": 3
   },
   "file_extension": ".py",
   "mimetype": "text/x-python",
   "name": "python",
   "nbconvert_exporter": "python",
   "pygments_lexer": "ipython3",
   "version": "3.9.16"
  }
 },
 "nbformat": 4,
 "nbformat_minor": 5
}
