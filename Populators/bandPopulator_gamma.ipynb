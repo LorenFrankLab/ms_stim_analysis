{
 "cells": [
  {
   "cell_type": "code",
   "execution_count": 1,
   "id": "063a6fdd-0625-4d2a-b759-cf7b6c9eef21",
   "metadata": {},
   "outputs": [
    {
     "name": "stderr",
     "output_type": "stream",
     "text": [
      "[2023-12-06 07:59:41,316][INFO]: Connecting sambray@lmf-db.cin.ucsf.edu:3306\n",
      "[2023-12-06 07:59:41,418][INFO]: Connected sambray@lmf-db.cin.ucsf.edu:3306\n"
     ]
    }
   ],
   "source": [
    "%load_ext autoreload\n",
    "%autoreload 2\n",
    "import pynwb\n",
    "import os\n",
    "import numpy as np\n",
    "\n",
    "# DataJoint and DataJoint schema\n",
    "import datajoint as dj\n",
    "\n",
    "dj.config[\"filepath_checksum_size_limit\"] = 1 * 1024**2\n",
    "\n",
    "## We also import a bunch of tables so that we can call them easily\n",
    "from spyglass.common import (\n",
    "    ElectrodeGroup,\n",
    "    Electrode,\n",
    "    FirFilterParameters,\n",
    "    IntervalList,\n",
    "    Session,\n",
    "    Task,\n",
    "    TaskEpoch,\n",
    "    Nwbfile,\n",
    "    AnalysisNwbfile,\n",
    "    NwbfileKachery,\n",
    "    AnalysisNwbfileKachery,\n",
    "    interval_list_contains,\n",
    "    interval_list_contains_ind,\n",
    "    interval_list_excludes,\n",
    "    interval_list_excludes_ind,\n",
    "    interval_list_intersect,\n",
    "    get_electrode_indices,\n",
    ")\n",
    "\n",
    "from spyglass.lfp.v1 import (\n",
    "    LFPElectrodeGroup,\n",
    "    LFPSelection,\n",
    "    LFPV1,\n",
    ")\n",
    "from spyglass.lfp.lfp_merge import LFPOutput\n",
    "\n",
    "\n",
    "from spyglass.lfp.analysis.v1.lfp_band import LFPBandSelection,LFPBandV1,FirFilterParameters\n",
    "# from spyglass.lfp_band.lfp_band_merge import LFPBandOutput\n",
    "import os\n",
    "import warnings\n",
    "from tqdm import tqdm\n",
    "warnings.simplefilter(\"ignore\", category=DeprecationWarning)\n",
    "warnings.simplefilter(\"ignore\", category=ResourceWarning)\n",
    "warnings.simplefilter(\"ignore\", category=UserWarning)"
   ]
  },
  {
   "cell_type": "code",
   "execution_count": 6,
   "id": "e1a342f2",
   "metadata": {},
   "outputs": [
    {
     "data": {
      "text/html": [
       "\n",
       "    \n",
       "    <style type=\"text/css\">\n",
       "        .Table{\n",
       "            border-collapse:collapse;\n",
       "        }\n",
       "        .Table th{\n",
       "            background: #A0A0A0; color: #ffffff; padding:4px; border:#f0e0e0 1px solid;\n",
       "            font-weight: normal; font-family: monospace; font-size: 100%;\n",
       "        }\n",
       "        .Table td{\n",
       "            padding:4px; border:#f0e0e0 1px solid; font-size:100%;\n",
       "        }\n",
       "        .Table tr:nth-child(odd){\n",
       "            background: #ffffff;\n",
       "            color: #000000;\n",
       "        }\n",
       "        .Table tr:nth-child(even){\n",
       "            background: #f3f1ff;\n",
       "            color: #000000;\n",
       "        }\n",
       "        /* Tooltip container */\n",
       "        .djtooltip {\n",
       "        }\n",
       "        /* Tooltip text */\n",
       "        .djtooltip .djtooltiptext {\n",
       "            visibility: hidden;\n",
       "            width: 120px;\n",
       "            background-color: black;\n",
       "            color: #fff;\n",
       "            text-align: center;\n",
       "            padding: 5px 0;\n",
       "            border-radius: 6px;\n",
       "            /* Position the tooltip text - see examples below! */\n",
       "            position: absolute;\n",
       "            z-index: 1;\n",
       "        }\n",
       "        #primary {\n",
       "            font-weight: bold;\n",
       "            color: black;\n",
       "        }\n",
       "        #nonprimary {\n",
       "            font-weight: normal;\n",
       "            color: white;\n",
       "        }\n",
       "\n",
       "        /* Show the tooltip text when you mouse over the tooltip container */\n",
       "        .djtooltip:hover .djtooltiptext {\n",
       "            visibility: visible;\n",
       "        }\n",
       "    </style>\n",
       "    \n",
       "    <b></b>\n",
       "        <div style=\"max-height:1000px;max-width:1500px;overflow:auto;\">\n",
       "        <table border=\"1\" class=\"Table\">\n",
       "            <thead> <tr style=\"text-align: right;\"> <th> <div class=\"djtooltip\">\n",
       "                            <p id=\"primary\">filter_name</p>\n",
       "                            <span class=\"djtooltiptext\">descriptive name of this filter</span>\n",
       "                        </div></th><th><div class=\"djtooltip\">\n",
       "                            <p id=\"primary\">filter_sampling_rate</p>\n",
       "                            <span class=\"djtooltiptext\">sampling rate for this filter</span>\n",
       "                        </div></th><th><div class=\"djtooltip\">\n",
       "                            <p id=\"nonprimary\">filter_type</p>\n",
       "                            <span class=\"djtooltiptext\"></span>\n",
       "                        </div></th><th><div class=\"djtooltip\">\n",
       "                            <p id=\"nonprimary\">filter_low_stop</p>\n",
       "                            <span class=\"djtooltiptext\">lowest frequency for stop band for low frequency side of filter</span>\n",
       "                        </div></th><th><div class=\"djtooltip\">\n",
       "                            <p id=\"nonprimary\">filter_low_pass</p>\n",
       "                            <span class=\"djtooltiptext\">lowest frequency for pass band of low frequency side of filter</span>\n",
       "                        </div></th><th><div class=\"djtooltip\">\n",
       "                            <p id=\"nonprimary\">filter_high_pass</p>\n",
       "                            <span class=\"djtooltiptext\">highest frequency for pass band for high frequency side of filter</span>\n",
       "                        </div></th><th><div class=\"djtooltip\">\n",
       "                            <p id=\"nonprimary\">filter_high_stop</p>\n",
       "                            <span class=\"djtooltiptext\">highest frequency for stop band of high frequency side of filter</span>\n",
       "                        </div></th><th><div class=\"djtooltip\">\n",
       "                            <p id=\"nonprimary\">filter_comments</p>\n",
       "                            <span class=\"djtooltiptext\">comments about the filter</span>\n",
       "                        </div></th><th><div class=\"djtooltip\">\n",
       "                            <p id=\"nonprimary\">filter_band_edges</p>\n",
       "                            <span class=\"djtooltiptext\">numpy array containing the filter bands (redundant with individual parameters)</span>\n",
       "                        </div></th><th><div class=\"djtooltip\">\n",
       "                            <p id=\"nonprimary\">filter_coeff</p>\n",
       "                            <span class=\"djtooltiptext\">numpy array containing the filter coefficients</span>\n",
       "                        </div> </th> </tr> </thead>\n",
       "            <tbody> <tr> <td>Fast Gamma 65-100 Hz</td>\n",
       "<td>1000</td>\n",
       "<td>bandpass</td>\n",
       "<td>55.0</td>\n",
       "<td>65.0</td>\n",
       "<td>100.0</td>\n",
       "<td>110.0</td>\n",
       "<td>slow gamma filter for 1 Khz data</td>\n",
       "<td>=BLOB=</td>\n",
       "<td>=BLOB=</td> </tr> </tbody>\n",
       "        </table>\n",
       "        \n",
       "        <p>Total: 1</p></div>\n",
       "        "
      ],
      "text/plain": [
       "*filter_name   *filter_sampli filter_type    filter_low_sto filter_low_pas filter_high_pa filter_high_st filter_comment filter_ban filter_coe\n",
       "+------------+ +------------+ +------------+ +------------+ +------------+ +------------+ +------------+ +------------+ +--------+ +--------+\n",
       "Fast Gamma 65- 1000           bandpass       55.0           65.0           100.0          110.0          slow gamma fil =BLOB=     =BLOB=    \n",
       " (Total: 1)"
      ]
     },
     "execution_count": 6,
     "metadata": {},
     "output_type": "execute_result"
    }
   ],
   "source": [
    "FirFilterParameters().fetch('filter_name')\n",
    "\n",
    "filter_names = ['Slow Gamma 25-55 Hz','Fast Gamma 65-100 Hz']\n",
    "\n",
    "filter_name = filter_names[1]\n",
    "\n",
    "FirFilterParameters & {'filter_name':filter_name} "
   ]
  },
  {
   "cell_type": "markdown",
   "id": "cb132610-c932-4a35-be88-577c96261cc0",
   "metadata": {},
   "source": [
    "## Define Animal Sessions"
   ]
  },
  {
   "cell_type": "code",
   "execution_count": 27,
   "id": "0ee04af0-d14c-486b-9ef7-ab34fbdf226e",
   "metadata": {},
   "outputs": [],
   "source": [
    "animal_names = [\"Banner\",\"Danvers\",\"Odins\",\"Totoro\",\"Wallie\",\"Winnie\",\"Yoshi\",\"Olive\", \"Frodo\", \"Bilbo\"]\n",
    "from spyglass.common import Session\n",
    "\n",
    "nwb_file_names = []\n",
    "interval_list_names = []\n",
    "for animal in animal_names:\n",
    "    dataset = LFPV1 * Session & {'subject_id':animal}\n",
    "    nwb_file_names.extend(dataset.fetch('nwb_file_name'))    \n",
    "    interval_list_names.extend(dataset.fetch('target_interval_list_name'))\n"
   ]
  },
  {
   "cell_type": "code",
   "execution_count": 21,
   "id": "e863c359",
   "metadata": {},
   "outputs": [
    {
     "name": "stdout",
     "output_type": "stream",
     "text": [
      "Slow Gamma 25-55 Hz\n"
     ]
    },
    {
     "data": {
      "text/html": [
       "\n",
       "    \n",
       "    <style type=\"text/css\">\n",
       "        .Table{\n",
       "            border-collapse:collapse;\n",
       "        }\n",
       "        .Table th{\n",
       "            background: #A0A0A0; color: #ffffff; padding:4px; border:#f0e0e0 1px solid;\n",
       "            font-weight: normal; font-family: monospace; font-size: 100%;\n",
       "        }\n",
       "        .Table td{\n",
       "            padding:4px; border:#f0e0e0 1px solid; font-size:100%;\n",
       "        }\n",
       "        .Table tr:nth-child(odd){\n",
       "            background: #ffffff;\n",
       "            color: #000000;\n",
       "        }\n",
       "        .Table tr:nth-child(even){\n",
       "            background: #f3f1ff;\n",
       "            color: #000000;\n",
       "        }\n",
       "        /* Tooltip container */\n",
       "        .djtooltip {\n",
       "        }\n",
       "        /* Tooltip text */\n",
       "        .djtooltip .djtooltiptext {\n",
       "            visibility: hidden;\n",
       "            width: 120px;\n",
       "            background-color: black;\n",
       "            color: #fff;\n",
       "            text-align: center;\n",
       "            padding: 5px 0;\n",
       "            border-radius: 6px;\n",
       "            /* Position the tooltip text - see examples below! */\n",
       "            position: absolute;\n",
       "            z-index: 1;\n",
       "        }\n",
       "        #primary {\n",
       "            font-weight: bold;\n",
       "            color: black;\n",
       "        }\n",
       "        #nonprimary {\n",
       "            font-weight: normal;\n",
       "            color: white;\n",
       "        }\n",
       "\n",
       "        /* Show the tooltip text when you mouse over the tooltip container */\n",
       "        .djtooltip:hover .djtooltiptext {\n",
       "            visibility: visible;\n",
       "        }\n",
       "    </style>\n",
       "    \n",
       "    <b></b>\n",
       "        <div style=\"max-height:1000px;max-width:1500px;overflow:auto;\">\n",
       "        <table border=\"1\" class=\"Table\">\n",
       "            <thead> <tr style=\"text-align: right;\"> <th> <div class=\"djtooltip\">\n",
       "                            <p id=\"primary\">lfp_merge_id</p>\n",
       "                            <span class=\"djtooltiptext\"></span>\n",
       "                        </div></th><th><div class=\"djtooltip\">\n",
       "                            <p id=\"primary\">filter_name</p>\n",
       "                            <span class=\"djtooltiptext\">descriptive name of this filter</span>\n",
       "                        </div></th><th><div class=\"djtooltip\">\n",
       "                            <p id=\"primary\">filter_sampling_rate</p>\n",
       "                            <span class=\"djtooltiptext\">sampling rate for this filter</span>\n",
       "                        </div></th><th><div class=\"djtooltip\">\n",
       "                            <p id=\"primary\">nwb_file_name</p>\n",
       "                            <span class=\"djtooltiptext\">name of the NWB file</span>\n",
       "                        </div></th><th><div class=\"djtooltip\">\n",
       "                            <p id=\"primary\">target_interval_list_name</p>\n",
       "                            <span class=\"djtooltiptext\">descriptive name of this interval list</span>\n",
       "                        </div></th><th><div class=\"djtooltip\">\n",
       "                            <p id=\"primary\">lfp_band_sampling_rate</p>\n",
       "                            <span class=\"djtooltiptext\">the sampling rate for this band</span>\n",
       "                        </div></th><th><div class=\"djtooltip\">\n",
       "                            <p id=\"nonprimary\">min_interval_len</p>\n",
       "                            <span class=\"djtooltiptext\">the minimum length of a valid interval to filter</span>\n",
       "                        </div> </th> </tr> </thead>\n",
       "            <tbody> <tr> <td>e5c5b785-c54a-4a2b-9b2f-6e6e921d17fe</td>\n",
       "<td>Theta 5-11 Hz</td>\n",
       "<td>1000</td>\n",
       "<td>Banner20220224_.nwb</td>\n",
       "<td>pos 0 valid times</td>\n",
       "<td>100</td>\n",
       "<td>1.0</td></tr><tr><td>1312bf55-0524-fda0-fce8-1eb34267a4b1</td>\n",
       "<td>Theta 5-11 Hz</td>\n",
       "<td>1000</td>\n",
       "<td>Banner20220224_.nwb</td>\n",
       "<td>pos 1 valid times</td>\n",
       "<td>100</td>\n",
       "<td>1.0</td></tr><tr><td>f0079a54-0dfd-0260-def3-6288cabdd2f8</td>\n",
       "<td>Theta 5-11 Hz</td>\n",
       "<td>1000</td>\n",
       "<td>Banner20220224_.nwb</td>\n",
       "<td>pos 2 valid times</td>\n",
       "<td>100</td>\n",
       "<td>1.0</td></tr><tr><td>e90fb226-87d8-c1a3-be22-cfaa18277075</td>\n",
       "<td>Theta 5-11 Hz</td>\n",
       "<td>1000</td>\n",
       "<td>Banner20220224_.nwb</td>\n",
       "<td>pos 3 valid times</td>\n",
       "<td>100</td>\n",
       "<td>1.0</td></tr><tr><td>aed3cb7e-5ced-5156-50a6-e81924fa5ea1</td>\n",
       "<td>Theta 5-11 Hz</td>\n",
       "<td>1000</td>\n",
       "<td>Banner20220224_.nwb</td>\n",
       "<td>pos 4 valid times</td>\n",
       "<td>100</td>\n",
       "<td>1.0</td></tr><tr><td>70185e7b-9db7-cb04-22f5-c147ed1baa6c</td>\n",
       "<td>Theta 5-11 Hz</td>\n",
       "<td>1000</td>\n",
       "<td>Banner20220224_.nwb</td>\n",
       "<td>pos 5 valid times</td>\n",
       "<td>100</td>\n",
       "<td>1.0</td></tr><tr><td>70185e7b-9db7-cb04-22f5-c147ed1baa6c</td>\n",
       "<td>Theta 5-11 Hz</td>\n",
       "<td>1000</td>\n",
       "<td>Banner20220224_.nwb</td>\n",
       "<td>pos 5 valid times</td>\n",
       "<td>1000</td>\n",
       "<td>1.0</td></tr><tr><td>d626748f-7e9d-23c8-09d9-efc54f4059fa</td>\n",
       "<td>Theta 5-11 Hz</td>\n",
       "<td>1000</td>\n",
       "<td>Banner20220224_.nwb</td>\n",
       "<td>pos 6 valid times</td>\n",
       "<td>100</td>\n",
       "<td>1.0</td></tr><tr><td>6e903435-ae63-f8fe-7e5f-c37e6dadb8c8</td>\n",
       "<td>Theta 5-11 Hz</td>\n",
       "<td>1000</td>\n",
       "<td>Banner20220224_.nwb</td>\n",
       "<td>pos 7 valid times</td>\n",
       "<td>100</td>\n",
       "<td>1.0</td> </tr> </tbody>\n",
       "        </table>\n",
       "        \n",
       "        <p>Total: 9</p></div>\n",
       "        "
      ],
      "text/plain": [
       "*lfp_merge_id  *filter_name   *filter_sampli *nwb_file_name *target_interv *lfp_band_samp min_interval_l\n",
       "+------------+ +------------+ +------------+ +------------+ +------------+ +------------+ +------------+\n",
       "e5c5b785-c54a- Theta 5-11 Hz  1000           Banner20220224 pos 0 valid ti 100            1.0           \n",
       "1312bf55-0524- Theta 5-11 Hz  1000           Banner20220224 pos 1 valid ti 100            1.0           \n",
       "f0079a54-0dfd- Theta 5-11 Hz  1000           Banner20220224 pos 2 valid ti 100            1.0           \n",
       "e90fb226-87d8- Theta 5-11 Hz  1000           Banner20220224 pos 3 valid ti 100            1.0           \n",
       "aed3cb7e-5ced- Theta 5-11 Hz  1000           Banner20220224 pos 4 valid ti 100            1.0           \n",
       "70185e7b-9db7- Theta 5-11 Hz  1000           Banner20220224 pos 5 valid ti 100            1.0           \n",
       "70185e7b-9db7- Theta 5-11 Hz  1000           Banner20220224 pos 5 valid ti 1000           1.0           \n",
       "d626748f-7e9d- Theta 5-11 Hz  1000           Banner20220224 pos 6 valid ti 100            1.0           \n",
       "6e903435-ae63- Theta 5-11 Hz  1000           Banner20220224 pos 7 valid ti 100            1.0           \n",
       " (Total: 9)"
      ]
     },
     "execution_count": 21,
     "metadata": {},
     "output_type": "execute_result"
    }
   ],
   "source": [
    "for nwb_file_name in set(nwb_file_names):\n",
    "    for filter_name in filter_names:\n",
    "        break\n",
    "        continue\n",
    "    # break\n",
    "    print(filter_name)\n",
    "    print(LFPBandSelection() &  {'nwb_file_name':nwb_file_name})"
   ]
  },
  {
   "cell_type": "code",
   "execution_count": 26,
   "id": "04bd98bd",
   "metadata": {},
   "outputs": [
    {
     "data": {
      "text/html": [
       "\n",
       "    \n",
       "    <style type=\"text/css\">\n",
       "        .Table{\n",
       "            border-collapse:collapse;\n",
       "        }\n",
       "        .Table th{\n",
       "            background: #A0A0A0; color: #ffffff; padding:4px; border:#f0e0e0 1px solid;\n",
       "            font-weight: normal; font-family: monospace; font-size: 100%;\n",
       "        }\n",
       "        .Table td{\n",
       "            padding:4px; border:#f0e0e0 1px solid; font-size:100%;\n",
       "        }\n",
       "        .Table tr:nth-child(odd){\n",
       "            background: #ffffff;\n",
       "            color: #000000;\n",
       "        }\n",
       "        .Table tr:nth-child(even){\n",
       "            background: #f3f1ff;\n",
       "            color: #000000;\n",
       "        }\n",
       "        /* Tooltip container */\n",
       "        .djtooltip {\n",
       "        }\n",
       "        /* Tooltip text */\n",
       "        .djtooltip .djtooltiptext {\n",
       "            visibility: hidden;\n",
       "            width: 120px;\n",
       "            background-color: black;\n",
       "            color: #fff;\n",
       "            text-align: center;\n",
       "            padding: 5px 0;\n",
       "            border-radius: 6px;\n",
       "            /* Position the tooltip text - see examples below! */\n",
       "            position: absolute;\n",
       "            z-index: 1;\n",
       "        }\n",
       "        #primary {\n",
       "            font-weight: bold;\n",
       "            color: black;\n",
       "        }\n",
       "        #nonprimary {\n",
       "            font-weight: normal;\n",
       "            color: white;\n",
       "        }\n",
       "\n",
       "        /* Show the tooltip text when you mouse over the tooltip container */\n",
       "        .djtooltip:hover .djtooltiptext {\n",
       "            visibility: visible;\n",
       "        }\n",
       "    </style>\n",
       "    \n",
       "    <b></b>\n",
       "        <div style=\"max-height:1000px;max-width:1500px;overflow:auto;\">\n",
       "        <table border=\"1\" class=\"Table\">\n",
       "            <thead> <tr style=\"text-align: right;\"> <th> <div class=\"djtooltip\">\n",
       "                            <p id=\"primary\">nwb_file_name</p>\n",
       "                            <span class=\"djtooltiptext\">name of the NWB file</span>\n",
       "                        </div></th><th><div class=\"djtooltip\">\n",
       "                            <p id=\"primary\">lfp_electrode_group_name</p>\n",
       "                            <span class=\"djtooltiptext\">the name of this group of electrodes</span>\n",
       "                        </div></th><th><div class=\"djtooltip\">\n",
       "                            <p id=\"primary\">target_interval_list_name</p>\n",
       "                            <span class=\"djtooltiptext\">descriptive name of this interval list</span>\n",
       "                        </div></th><th><div class=\"djtooltip\">\n",
       "                            <p id=\"primary\">filter_name</p>\n",
       "                            <span class=\"djtooltiptext\">descriptive name of this filter</span>\n",
       "                        </div></th><th><div class=\"djtooltip\">\n",
       "                            <p id=\"primary\">filter_sampling_rate</p>\n",
       "                            <span class=\"djtooltiptext\">sampling rate for this filter</span>\n",
       "                        </div></th><th><div class=\"djtooltip\">\n",
       "                            <p id=\"nonprimary\">analysis_file_name</p>\n",
       "                            <span class=\"djtooltiptext\">name of the file</span>\n",
       "                        </div></th><th><div class=\"djtooltip\">\n",
       "                            <p id=\"nonprimary\">interval_list_name</p>\n",
       "                            <span class=\"djtooltiptext\">descriptive name of this interval list</span>\n",
       "                        </div></th><th><div class=\"djtooltip\">\n",
       "                            <p id=\"nonprimary\">lfp_object_id</p>\n",
       "                            <span class=\"djtooltiptext\">the NWB object ID for loading this object from the file</span>\n",
       "                        </div></th><th><div class=\"djtooltip\">\n",
       "                            <p id=\"nonprimary\">lfp_sampling_rate</p>\n",
       "                            <span class=\"djtooltiptext\">the sampling rate, in HZ</span>\n",
       "                        </div> </th> </tr> </thead>\n",
       "            <tbody> <tr> <td>arthur20220315_.nwb</td>\n",
       "<td>all_tets_arthur</td>\n",
       "<td>r1_r2</td>\n",
       "<td>LFP 0-400 Hz</td>\n",
       "<td>30000</td>\n",
       "<td>arthur20220315_81AZEP1XDH.nwb</td>\n",
       "<td>lfp_all_tets_arthur_r1_r2_valid times</td>\n",
       "<td>e58117d5-41a7-408c-b4e5-c43167f083d7</td>\n",
       "<td>1000.0</td></tr><tr><td>arthur20220315_.nwb</td>\n",
       "<td>all_tets_arthur</td>\n",
       "<td>r2_r3</td>\n",
       "<td>LFP 0-400 Hz</td>\n",
       "<td>30000</td>\n",
       "<td>arthur20220315_8PB45D84KO.nwb</td>\n",
       "<td>lfp_all_tets_arthur_r2_r3_valid times</td>\n",
       "<td>ad302cd5-a998-4f1b-80b6-edb9fdea7999</td>\n",
       "<td>1000.0</td></tr><tr><td>arthur20220316_.nwb</td>\n",
       "<td>all_tets_arthur</td>\n",
       "<td>r1_r2</td>\n",
       "<td>LFP 0-400 Hz</td>\n",
       "<td>30000</td>\n",
       "<td>arthur20220316_J1M0E160MI.nwb</td>\n",
       "<td>lfp_all_tets_arthur_r1_r2_valid times</td>\n",
       "<td>99d2016e-c18a-4b85-9ccb-e832f44c783c</td>\n",
       "<td>1000.0</td></tr><tr><td>arthur20220316_.nwb</td>\n",
       "<td>all_tets_arthur</td>\n",
       "<td>r2_r3</td>\n",
       "<td>LFP 0-400 Hz</td>\n",
       "<td>30000</td>\n",
       "<td>arthur20220316_I9QVY08308.nwb</td>\n",
       "<td>lfp_all_tets_arthur_r2_r3_valid times</td>\n",
       "<td>ca53e85b-e9f0-42b2-be6f-31565bad28c4</td>\n",
       "<td>1000.0</td></tr><tr><td>arthur20220317_.nwb</td>\n",
       "<td>all_tets_arthur</td>\n",
       "<td>r1_r2</td>\n",
       "<td>LFP 0-400 Hz</td>\n",
       "<td>30000</td>\n",
       "<td>arthur20220317_X0R19HUN0X.nwb</td>\n",
       "<td>lfp_all_tets_arthur_r1_r2_valid times</td>\n",
       "<td>3f904bd7-e8b5-4b2e-9a36-6cf3ee628141</td>\n",
       "<td>1000.0</td></tr><tr><td>arthur20220317_.nwb</td>\n",
       "<td>all_tets_arthur</td>\n",
       "<td>r2_r3</td>\n",
       "<td>LFP 0-400 Hz</td>\n",
       "<td>30000</td>\n",
       "<td>arthur20220317_ZF77OL0D5C.nwb</td>\n",
       "<td>lfp_all_tets_arthur_r2_r3_valid times</td>\n",
       "<td>9100fb9b-7906-4852-b252-4d2a3bacbfc4</td>\n",
       "<td>1000.0</td></tr><tr><td>arthur20220318_.nwb</td>\n",
       "<td>all_tets_arthur</td>\n",
       "<td>r1_r2</td>\n",
       "<td>LFP 0-400 Hz</td>\n",
       "<td>30000</td>\n",
       "<td>arthur20220318_YZNI7VFTJV.nwb</td>\n",
       "<td>lfp_all_tets_arthur_r1_r2_valid times</td>\n",
       "<td>06f24d41-437b-440a-9c95-34494dabdb6d</td>\n",
       "<td>1000.0</td></tr><tr><td>arthur20220318_.nwb</td>\n",
       "<td>all_tets_arthur</td>\n",
       "<td>r2_r3</td>\n",
       "<td>LFP 0-400 Hz</td>\n",
       "<td>30000</td>\n",
       "<td>arthur20220318_1LZMUQ09VB.nwb</td>\n",
       "<td>lfp_all_tets_arthur_r2_r3_valid times</td>\n",
       "<td>1e0d14e9-25f2-470e-b7f1-ea524b64c86a</td>\n",
       "<td>1000.0</td></tr><tr><td>arthur20220319_.nwb</td>\n",
       "<td>all_tets_arthur</td>\n",
       "<td>r2_r2</td>\n",
       "<td>LFP 0-400 Hz</td>\n",
       "<td>30000</td>\n",
       "<td>arthur20220319_BOE1MGTXW6.nwb</td>\n",
       "<td>lfp_all_tets_arthur_r2_r2_valid times</td>\n",
       "<td>312e6bce-eb5a-40fc-b388-4f59e6238067</td>\n",
       "<td>1000.0</td></tr><tr><td>arthur20220319_.nwb</td>\n",
       "<td>all_tets_arthur</td>\n",
       "<td>r2_r3</td>\n",
       "<td>LFP 0-400 Hz</td>\n",
       "<td>30000</td>\n",
       "<td>arthur20220319_HJ2E2Y4MSS.nwb</td>\n",
       "<td>lfp_all_tets_arthur_r2_r3_valid times</td>\n",
       "<td>1a0a21c9-e5a5-47d5-9cbb-d77d1c55119e</td>\n",
       "<td>1000.0</td></tr><tr><td>arthur20220320_.nwb</td>\n",
       "<td>all_tets_arthur</td>\n",
       "<td>r1_r2</td>\n",
       "<td>LFP 0-400 Hz</td>\n",
       "<td>30000</td>\n",
       "<td>arthur20220320_KINVYJHANJ.nwb</td>\n",
       "<td>lfp_all_tets_arthur_r1_r2_valid times</td>\n",
       "<td>bcbd533e-9fc2-42f0-9ed7-33a1c7ab9e6a</td>\n",
       "<td>1000.0</td></tr><tr><td>arthur20220320_.nwb</td>\n",
       "<td>all_tets_arthur</td>\n",
       "<td>r2_r3</td>\n",
       "<td>LFP 0-400 Hz</td>\n",
       "<td>30000</td>\n",
       "<td>arthur20220320_DH6XTTJPIU.nwb</td>\n",
       "<td>lfp_all_tets_arthur_r2_r3_valid times</td>\n",
       "<td>71bb85f9-ab3f-4f80-bd75-09b6b5738e92</td>\n",
       "<td>1000.0</td> </tr> </tbody>\n",
       "        </table>\n",
       "        <p>...</p>\n",
       "        <p>Total: 2769</p></div>\n",
       "        "
      ],
      "text/plain": [
       "*nwb_file_name *lfp_electrode *target_interv *filter_name   *filter_sampli analysis_file_ interval_list_ lfp_object_id  lfp_sampling_r\n",
       "+------------+ +------------+ +------------+ +------------+ +------------+ +------------+ +------------+ +------------+ +------------+\n",
       "arthur20220315 all_tets_arthu r1_r2          LFP 0-400 Hz   30000          arthur20220315 lfp_all_tets_a e58117d5-41a7- 1000.0        \n",
       "arthur20220315 all_tets_arthu r2_r3          LFP 0-400 Hz   30000          arthur20220315 lfp_all_tets_a ad302cd5-a998- 1000.0        \n",
       "arthur20220316 all_tets_arthu r1_r2          LFP 0-400 Hz   30000          arthur20220316 lfp_all_tets_a 99d2016e-c18a- 1000.0        \n",
       "arthur20220316 all_tets_arthu r2_r3          LFP 0-400 Hz   30000          arthur20220316 lfp_all_tets_a ca53e85b-e9f0- 1000.0        \n",
       "arthur20220317 all_tets_arthu r1_r2          LFP 0-400 Hz   30000          arthur20220317 lfp_all_tets_a 3f904bd7-e8b5- 1000.0        \n",
       "arthur20220317 all_tets_arthu r2_r3          LFP 0-400 Hz   30000          arthur20220317 lfp_all_tets_a 9100fb9b-7906- 1000.0        \n",
       "arthur20220318 all_tets_arthu r1_r2          LFP 0-400 Hz   30000          arthur20220318 lfp_all_tets_a 06f24d41-437b- 1000.0        \n",
       "arthur20220318 all_tets_arthu r2_r3          LFP 0-400 Hz   30000          arthur20220318 lfp_all_tets_a 1e0d14e9-25f2- 1000.0        \n",
       "arthur20220319 all_tets_arthu r2_r2          LFP 0-400 Hz   30000          arthur20220319 lfp_all_tets_a 312e6bce-eb5a- 1000.0        \n",
       "arthur20220319 all_tets_arthu r2_r3          LFP 0-400 Hz   30000          arthur20220319 lfp_all_tets_a 1a0a21c9-e5a5- 1000.0        \n",
       "arthur20220320 all_tets_arthu r1_r2          LFP 0-400 Hz   30000          arthur20220320 lfp_all_tets_a bcbd533e-9fc2- 1000.0        \n",
       "arthur20220320 all_tets_arthu r2_r3          LFP 0-400 Hz   30000          arthur20220320 lfp_all_tets_a 71bb85f9-ab3f- 1000.0        \n",
       "   ...\n",
       " (Total: 2769)"
      ]
     },
     "execution_count": 26,
     "metadata": {},
     "output_type": "execute_result"
    }
   ],
   "source": [
    "LFPV1()"
   ]
  },
  {
   "cell_type": "markdown",
   "id": "6f9309a3-1774-4192-91e5-acb346a6e1f9",
   "metadata": {},
   "source": [
    "## Populate"
   ]
  },
  {
   "cell_type": "code",
   "execution_count": 32,
   "id": "9c181360-c520-4218-9aa6-858bafa79a7d",
   "metadata": {},
   "outputs": [
    {
     "name": "stderr",
     "output_type": "stream",
     "text": [
      "[2023-12-06 08:55:02,487][WARNING]: Skipped checksum for file with hash: 775580b9-db04-b8d9-0cc5-eb5348656135, and path: /stelmo/nwb/analysis/Wallie20220922/Wallie20220922_4DOLJYTJS7.nwb\n",
      "WARNING:datajoint:Skipped checksum for file with hash: 775580b9-db04-b8d9-0cc5-eb5348656135, and path: /stelmo/nwb/analysis/Wallie20220922/Wallie20220922_4DOLJYTJS7.nwb\n"
     ]
    },
    {
     "name": "stdout",
     "output_type": "stream",
     "text": [
      "Fast Gamma 65-100 Hz Wallie20220922_.nwb pos 7 valid times c86fe31e-493b-90a8-4da9-47687d0e91e7\n"
     ]
    },
    {
     "name": "stderr",
     "output_type": "stream",
     "text": [
      "[2023-12-06 08:55:03,583][WARNING]: Skipped checksum for file with hash: 61750ec6-3a2f-6c1c-2af2-9cb216dd1b26, and path: /stelmo/nwb/analysis/Wallie20220922/Wallie20220922_FWPAVOCR1X.nwb\n",
      "WARNING:datajoint:Skipped checksum for file with hash: 61750ec6-3a2f-6c1c-2af2-9cb216dd1b26, and path: /stelmo/nwb/analysis/Wallie20220922/Wallie20220922_FWPAVOCR1X.nwb\n"
     ]
    },
    {
     "name": "stdout",
     "output_type": "stream",
     "text": [
      "Slow Gamma 25-55 Hz Wallie20220922_.nwb pos 8 valid times c41fa96f-6c66-5f66-94cc-a9f8a8530c57\n"
     ]
    },
    {
     "name": "stderr",
     "output_type": "stream",
     "text": [
      "[2023-12-06 08:55:05,161][WARNING]: Skipped checksum for file with hash: 61750ec6-3a2f-6c1c-2af2-9cb216dd1b26, and path: /stelmo/nwb/analysis/Wallie20220922/Wallie20220922_FWPAVOCR1X.nwb\n",
      "WARNING:datajoint:Skipped checksum for file with hash: 61750ec6-3a2f-6c1c-2af2-9cb216dd1b26, and path: /stelmo/nwb/analysis/Wallie20220922/Wallie20220922_FWPAVOCR1X.nwb\n"
     ]
    },
    {
     "name": "stdout",
     "output_type": "stream",
     "text": [
      "Fast Gamma 65-100 Hz Wallie20220922_.nwb pos 8 valid times c41fa96f-6c66-5f66-94cc-a9f8a8530c57\n"
     ]
    },
    {
     "name": "stderr",
     "output_type": "stream",
     "text": [
      "[2023-12-06 08:55:06,241][WARNING]: Skipped checksum for file with hash: b8039716-0368-80f5-c556-c273dcf72903, and path: /stelmo/nwb/analysis/Wallie20220922/Wallie20220922_6C9H0X5SJK.nwb\n",
      "WARNING:datajoint:Skipped checksum for file with hash: b8039716-0368-80f5-c556-c273dcf72903, and path: /stelmo/nwb/analysis/Wallie20220922/Wallie20220922_6C9H0X5SJK.nwb\n"
     ]
    },
    {
     "name": "stdout",
     "output_type": "stream",
     "text": [
      "Slow Gamma 25-55 Hz Wallie20220922_.nwb pos 9 valid times d2edf3e0-662b-5a83-36c1-44820060ea07\n"
     ]
    },
    {
     "name": "stderr",
     "output_type": "stream",
     "text": [
      "[2023-12-06 08:55:07,742][WARNING]: Skipped checksum for file with hash: b8039716-0368-80f5-c556-c273dcf72903, and path: /stelmo/nwb/analysis/Wallie20220922/Wallie20220922_6C9H0X5SJK.nwb\n",
      "WARNING:datajoint:Skipped checksum for file with hash: b8039716-0368-80f5-c556-c273dcf72903, and path: /stelmo/nwb/analysis/Wallie20220922/Wallie20220922_6C9H0X5SJK.nwb\n"
     ]
    },
    {
     "name": "stdout",
     "output_type": "stream",
     "text": [
      "Fast Gamma 65-100 Hz Wallie20220922_.nwb pos 9 valid times d2edf3e0-662b-5a83-36c1-44820060ea07\n"
     ]
    },
    {
     "name": "stderr",
     "output_type": "stream",
     "text": [
      "[2023-12-06 08:55:09,211][WARNING]: Skipped checksum for file with hash: dce6b0a9-f365-105f-d3f1-6bf4fc74f682, and path: /stelmo/nwb/analysis/Winnie20220712/Winnie20220712_ZLGOQLM5K1.nwb\n",
      "WARNING:datajoint:Skipped checksum for file with hash: dce6b0a9-f365-105f-d3f1-6bf4fc74f682, and path: /stelmo/nwb/analysis/Winnie20220712/Winnie20220712_ZLGOQLM5K1.nwb\n"
     ]
    },
    {
     "name": "stdout",
     "output_type": "stream",
     "text": [
      "Slow Gamma 25-55 Hz Winnie20220712_.nwb pos 0 valid times c0981846-97e1-efda-6379-3253d5448f8e\n"
     ]
    },
    {
     "name": "stderr",
     "output_type": "stream",
     "text": [
      "[2023-12-06 08:55:10,544][WARNING]: Skipped checksum for file with hash: dce6b0a9-f365-105f-d3f1-6bf4fc74f682, and path: /stelmo/nwb/analysis/Winnie20220712/Winnie20220712_ZLGOQLM5K1.nwb\n",
      "WARNING:datajoint:Skipped checksum for file with hash: dce6b0a9-f365-105f-d3f1-6bf4fc74f682, and path: /stelmo/nwb/analysis/Winnie20220712/Winnie20220712_ZLGOQLM5K1.nwb\n"
     ]
    },
    {
     "name": "stdout",
     "output_type": "stream",
     "text": [
      "Fast Gamma 65-100 Hz Winnie20220712_.nwb pos 0 valid times c0981846-97e1-efda-6379-3253d5448f8e\n"
     ]
    },
    {
     "name": "stderr",
     "output_type": "stream",
     "text": [
      "[2023-12-06 08:55:11,467][WARNING]: Skipped checksum for file with hash: 8c5818a8-8f3a-4db9-2e31-ef2b1488fdab, and path: /stelmo/nwb/analysis/Winnie20220712/Winnie20220712_Y6DN0NNNZL.nwb\n",
      "WARNING:datajoint:Skipped checksum for file with hash: 8c5818a8-8f3a-4db9-2e31-ef2b1488fdab, and path: /stelmo/nwb/analysis/Winnie20220712/Winnie20220712_Y6DN0NNNZL.nwb\n"
     ]
    },
    {
     "name": "stdout",
     "output_type": "stream",
     "text": [
      "Slow Gamma 25-55 Hz Winnie20220712_.nwb pos 1 valid times 7f9dcb5a-ddd4-5eb4-e3ac-cdcaa7368297\n"
     ]
    },
    {
     "name": "stderr",
     "output_type": "stream",
     "text": [
      "[2023-12-06 08:55:12,825][WARNING]: Skipped checksum for file with hash: 8c5818a8-8f3a-4db9-2e31-ef2b1488fdab, and path: /stelmo/nwb/analysis/Winnie20220712/Winnie20220712_Y6DN0NNNZL.nwb\n",
      "WARNING:datajoint:Skipped checksum for file with hash: 8c5818a8-8f3a-4db9-2e31-ef2b1488fdab, and path: /stelmo/nwb/analysis/Winnie20220712/Winnie20220712_Y6DN0NNNZL.nwb\n"
     ]
    },
    {
     "name": "stdout",
     "output_type": "stream",
     "text": [
      "Fast Gamma 65-100 Hz Winnie20220712_.nwb pos 1 valid times 7f9dcb5a-ddd4-5eb4-e3ac-cdcaa7368297\n"
     ]
    },
    {
     "name": "stderr",
     "output_type": "stream",
     "text": [
      "[2023-12-06 08:55:13,789][WARNING]: Skipped checksum for file with hash: c54a24f3-11b3-6ecb-a176-ff6ff593321c, and path: /stelmo/nwb/analysis/Winnie20220712/Winnie20220712_JMYHQDM9JZ.nwb\n",
      "WARNING:datajoint:Skipped checksum for file with hash: c54a24f3-11b3-6ecb-a176-ff6ff593321c, and path: /stelmo/nwb/analysis/Winnie20220712/Winnie20220712_JMYHQDM9JZ.nwb\n"
     ]
    },
    {
     "name": "stdout",
     "output_type": "stream",
     "text": [
      "Slow Gamma 25-55 Hz Winnie20220712_.nwb pos 2 valid times 808f1836-6ee4-e7a6-d665-bc71441328b2\n"
     ]
    },
    {
     "name": "stderr",
     "output_type": "stream",
     "text": [
      "[2023-12-06 08:55:15,208][WARNING]: Skipped checksum for file with hash: c54a24f3-11b3-6ecb-a176-ff6ff593321c, and path: /stelmo/nwb/analysis/Winnie20220712/Winnie20220712_JMYHQDM9JZ.nwb\n",
      "WARNING:datajoint:Skipped checksum for file with hash: c54a24f3-11b3-6ecb-a176-ff6ff593321c, and path: /stelmo/nwb/analysis/Winnie20220712/Winnie20220712_JMYHQDM9JZ.nwb\n"
     ]
    },
    {
     "name": "stdout",
     "output_type": "stream",
     "text": [
      "Fast Gamma 65-100 Hz Winnie20220712_.nwb pos 2 valid times 808f1836-6ee4-e7a6-d665-bc71441328b2\n"
     ]
    },
    {
     "name": "stderr",
     "output_type": "stream",
     "text": [
      "[2023-12-06 08:55:16,189][WARNING]: Skipped checksum for file with hash: c0ac732c-cfa3-b41e-6142-50cc8222a53a, and path: /stelmo/nwb/analysis/Winnie20220712/Winnie20220712_ZBG6RBY8QZ.nwb\n",
      "WARNING:datajoint:Skipped checksum for file with hash: c0ac732c-cfa3-b41e-6142-50cc8222a53a, and path: /stelmo/nwb/analysis/Winnie20220712/Winnie20220712_ZBG6RBY8QZ.nwb\n"
     ]
    },
    {
     "name": "stdout",
     "output_type": "stream",
     "text": [
      "Slow Gamma 25-55 Hz Winnie20220712_.nwb pos 3 valid times 0c50b8ce-e956-b9a4-b135-71cdb2e68a09\n"
     ]
    },
    {
     "name": "stderr",
     "output_type": "stream",
     "text": [
      "[2023-12-06 08:55:17,624][WARNING]: Skipped checksum for file with hash: c0ac732c-cfa3-b41e-6142-50cc8222a53a, and path: /stelmo/nwb/analysis/Winnie20220712/Winnie20220712_ZBG6RBY8QZ.nwb\n",
      "WARNING:datajoint:Skipped checksum for file with hash: c0ac732c-cfa3-b41e-6142-50cc8222a53a, and path: /stelmo/nwb/analysis/Winnie20220712/Winnie20220712_ZBG6RBY8QZ.nwb\n"
     ]
    },
    {
     "name": "stdout",
     "output_type": "stream",
     "text": [
      "Fast Gamma 65-100 Hz Winnie20220712_.nwb pos 3 valid times 0c50b8ce-e956-b9a4-b135-71cdb2e68a09\n"
     ]
    },
    {
     "name": "stderr",
     "output_type": "stream",
     "text": [
      "[2023-12-06 08:55:18,595][WARNING]: Skipped checksum for file with hash: d5188f82-0b8b-eb12-d43e-f02e2cd93674, and path: /stelmo/nwb/analysis/Winnie20220712/Winnie20220712_97LC856TB5.nwb\n",
      "WARNING:datajoint:Skipped checksum for file with hash: d5188f82-0b8b-eb12-d43e-f02e2cd93674, and path: /stelmo/nwb/analysis/Winnie20220712/Winnie20220712_97LC856TB5.nwb\n"
     ]
    },
    {
     "name": "stdout",
     "output_type": "stream",
     "text": [
      "Slow Gamma 25-55 Hz Winnie20220712_.nwb pos 4 valid times aa706bba-ebe0-8453-8312-2ffcff269eec\n"
     ]
    },
    {
     "name": "stderr",
     "output_type": "stream",
     "text": [
      "[2023-12-06 08:55:20,174][WARNING]: Skipped checksum for file with hash: d5188f82-0b8b-eb12-d43e-f02e2cd93674, and path: /stelmo/nwb/analysis/Winnie20220712/Winnie20220712_97LC856TB5.nwb\n",
      "WARNING:datajoint:Skipped checksum for file with hash: d5188f82-0b8b-eb12-d43e-f02e2cd93674, and path: /stelmo/nwb/analysis/Winnie20220712/Winnie20220712_97LC856TB5.nwb\n"
     ]
    },
    {
     "name": "stdout",
     "output_type": "stream",
     "text": [
      "Fast Gamma 65-100 Hz Winnie20220712_.nwb pos 4 valid times aa706bba-ebe0-8453-8312-2ffcff269eec\n"
     ]
    },
    {
     "name": "stderr",
     "output_type": "stream",
     "text": [
      "[2023-12-06 08:55:21,126][WARNING]: Skipped checksum for file with hash: b9d19792-ee9c-6abd-3772-3c6dba71f636, and path: /stelmo/nwb/analysis/Winnie20220713/Winnie20220713_C52XDICU6D.nwb\n",
      "WARNING:datajoint:Skipped checksum for file with hash: b9d19792-ee9c-6abd-3772-3c6dba71f636, and path: /stelmo/nwb/analysis/Winnie20220713/Winnie20220713_C52XDICU6D.nwb\n"
     ]
    },
    {
     "name": "stdout",
     "output_type": "stream",
     "text": [
      "Slow Gamma 25-55 Hz Winnie20220713_.nwb pos 0 valid times e2f26c49-7e5b-8142-8a53-d55dc45c69b2\n"
     ]
    },
    {
     "name": "stderr",
     "output_type": "stream",
     "text": [
      "[2023-12-06 08:55:22,569][WARNING]: Skipped checksum for file with hash: b9d19792-ee9c-6abd-3772-3c6dba71f636, and path: /stelmo/nwb/analysis/Winnie20220713/Winnie20220713_C52XDICU6D.nwb\n",
      "WARNING:datajoint:Skipped checksum for file with hash: b9d19792-ee9c-6abd-3772-3c6dba71f636, and path: /stelmo/nwb/analysis/Winnie20220713/Winnie20220713_C52XDICU6D.nwb\n"
     ]
    },
    {
     "name": "stdout",
     "output_type": "stream",
     "text": [
      "Fast Gamma 65-100 Hz Winnie20220713_.nwb pos 0 valid times e2f26c49-7e5b-8142-8a53-d55dc45c69b2\n"
     ]
    },
    {
     "name": "stderr",
     "output_type": "stream",
     "text": [
      "[2023-12-06 08:55:23,553][WARNING]: Skipped checksum for file with hash: 687a5bc0-8031-9173-6f56-d54cb16c1a81, and path: /stelmo/nwb/analysis/Winnie20220713/Winnie20220713_FURB0FGK1A.nwb\n",
      "WARNING:datajoint:Skipped checksum for file with hash: 687a5bc0-8031-9173-6f56-d54cb16c1a81, and path: /stelmo/nwb/analysis/Winnie20220713/Winnie20220713_FURB0FGK1A.nwb\n"
     ]
    },
    {
     "name": "stdout",
     "output_type": "stream",
     "text": [
      "Slow Gamma 25-55 Hz Winnie20220713_.nwb pos 1 valid times 199575e5-d3a4-157d-c6f3-92abeaa4e9e3\n"
     ]
    },
    {
     "name": "stderr",
     "output_type": "stream",
     "text": [
      "[2023-12-06 08:55:24,916][WARNING]: Skipped checksum for file with hash: 687a5bc0-8031-9173-6f56-d54cb16c1a81, and path: /stelmo/nwb/analysis/Winnie20220713/Winnie20220713_FURB0FGK1A.nwb\n",
      "WARNING:datajoint:Skipped checksum for file with hash: 687a5bc0-8031-9173-6f56-d54cb16c1a81, and path: /stelmo/nwb/analysis/Winnie20220713/Winnie20220713_FURB0FGK1A.nwb\n"
     ]
    },
    {
     "name": "stdout",
     "output_type": "stream",
     "text": [
      "Fast Gamma 65-100 Hz Winnie20220713_.nwb pos 1 valid times 199575e5-d3a4-157d-c6f3-92abeaa4e9e3\n"
     ]
    },
    {
     "name": "stderr",
     "output_type": "stream",
     "text": [
      "[2023-12-06 08:55:25,854][WARNING]: Skipped checksum for file with hash: 96182845-83c4-3f7f-2621-b264f604b96b, and path: /stelmo/nwb/analysis/Winnie20220713/Winnie20220713_9GNIXRYWTS.nwb\n",
      "WARNING:datajoint:Skipped checksum for file with hash: 96182845-83c4-3f7f-2621-b264f604b96b, and path: /stelmo/nwb/analysis/Winnie20220713/Winnie20220713_9GNIXRYWTS.nwb\n"
     ]
    },
    {
     "name": "stdout",
     "output_type": "stream",
     "text": [
      "Slow Gamma 25-55 Hz Winnie20220713_.nwb pos 10 valid times 997f6c1c-960f-317f-89c4-53bbeeaf9230\n"
     ]
    },
    {
     "name": "stderr",
     "output_type": "stream",
     "text": [
      "[2023-12-06 08:55:27,239][WARNING]: Skipped checksum for file with hash: 96182845-83c4-3f7f-2621-b264f604b96b, and path: /stelmo/nwb/analysis/Winnie20220713/Winnie20220713_9GNIXRYWTS.nwb\n",
      "WARNING:datajoint:Skipped checksum for file with hash: 96182845-83c4-3f7f-2621-b264f604b96b, and path: /stelmo/nwb/analysis/Winnie20220713/Winnie20220713_9GNIXRYWTS.nwb\n"
     ]
    },
    {
     "name": "stdout",
     "output_type": "stream",
     "text": [
      "Fast Gamma 65-100 Hz Winnie20220713_.nwb pos 10 valid times 997f6c1c-960f-317f-89c4-53bbeeaf9230\n"
     ]
    },
    {
     "name": "stderr",
     "output_type": "stream",
     "text": [
      "[2023-12-06 08:55:28,193][WARNING]: Skipped checksum for file with hash: 7102307c-e3a0-1af2-e4c0-71b6fe5cdde4, and path: /stelmo/nwb/analysis/Winnie20220713/Winnie20220713_824JXQAB78.nwb\n",
      "WARNING:datajoint:Skipped checksum for file with hash: 7102307c-e3a0-1af2-e4c0-71b6fe5cdde4, and path: /stelmo/nwb/analysis/Winnie20220713/Winnie20220713_824JXQAB78.nwb\n"
     ]
    },
    {
     "name": "stdout",
     "output_type": "stream",
     "text": [
      "Slow Gamma 25-55 Hz Winnie20220713_.nwb pos 11 valid times 5d961cc3-e2de-a357-c094-52cf0eb60a82\n"
     ]
    },
    {
     "name": "stderr",
     "output_type": "stream",
     "text": [
      "[2023-12-06 08:55:29,716][WARNING]: Skipped checksum for file with hash: 7102307c-e3a0-1af2-e4c0-71b6fe5cdde4, and path: /stelmo/nwb/analysis/Winnie20220713/Winnie20220713_824JXQAB78.nwb\n",
      "WARNING:datajoint:Skipped checksum for file with hash: 7102307c-e3a0-1af2-e4c0-71b6fe5cdde4, and path: /stelmo/nwb/analysis/Winnie20220713/Winnie20220713_824JXQAB78.nwb\n"
     ]
    },
    {
     "name": "stdout",
     "output_type": "stream",
     "text": [
      "Fast Gamma 65-100 Hz Winnie20220713_.nwb pos 11 valid times 5d961cc3-e2de-a357-c094-52cf0eb60a82\n"
     ]
    },
    {
     "name": "stderr",
     "output_type": "stream",
     "text": [
      "[2023-12-06 08:55:30,698][WARNING]: Skipped checksum for file with hash: dbaa18d3-03bf-a82c-e139-d8f2304130fb, and path: /stelmo/nwb/analysis/Winnie20220713/Winnie20220713_FLOILA8D0V.nwb\n",
      "WARNING:datajoint:Skipped checksum for file with hash: dbaa18d3-03bf-a82c-e139-d8f2304130fb, and path: /stelmo/nwb/analysis/Winnie20220713/Winnie20220713_FLOILA8D0V.nwb\n"
     ]
    },
    {
     "name": "stdout",
     "output_type": "stream",
     "text": [
      "Slow Gamma 25-55 Hz Winnie20220713_.nwb pos 12 valid times 54ebb421-abb0-8e8e-7f62-6e40a03dc4a2\n"
     ]
    },
    {
     "name": "stderr",
     "output_type": "stream",
     "text": [
      "[2023-12-06 08:55:32,213][WARNING]: Skipped checksum for file with hash: dbaa18d3-03bf-a82c-e139-d8f2304130fb, and path: /stelmo/nwb/analysis/Winnie20220713/Winnie20220713_FLOILA8D0V.nwb\n",
      "WARNING:datajoint:Skipped checksum for file with hash: dbaa18d3-03bf-a82c-e139-d8f2304130fb, and path: /stelmo/nwb/analysis/Winnie20220713/Winnie20220713_FLOILA8D0V.nwb\n"
     ]
    },
    {
     "name": "stdout",
     "output_type": "stream",
     "text": [
      "Fast Gamma 65-100 Hz Winnie20220713_.nwb pos 12 valid times 54ebb421-abb0-8e8e-7f62-6e40a03dc4a2\n"
     ]
    },
    {
     "name": "stderr",
     "output_type": "stream",
     "text": [
      "[2023-12-06 08:55:33,199][WARNING]: Skipped checksum for file with hash: 25d8b8cd-4a4e-b4ba-2252-776d28bb4718, and path: /stelmo/nwb/analysis/Winnie20220713/Winnie20220713_YYUM4C0GTJ.nwb\n",
      "WARNING:datajoint:Skipped checksum for file with hash: 25d8b8cd-4a4e-b4ba-2252-776d28bb4718, and path: /stelmo/nwb/analysis/Winnie20220713/Winnie20220713_YYUM4C0GTJ.nwb\n"
     ]
    },
    {
     "name": "stdout",
     "output_type": "stream",
     "text": [
      "Slow Gamma 25-55 Hz Winnie20220713_.nwb pos 13 valid times 59620aa8-9bdd-7394-cab5-fcb790781712\n"
     ]
    },
    {
     "name": "stderr",
     "output_type": "stream",
     "text": [
      "[2023-12-06 08:55:34,611][WARNING]: Skipped checksum for file with hash: 25d8b8cd-4a4e-b4ba-2252-776d28bb4718, and path: /stelmo/nwb/analysis/Winnie20220713/Winnie20220713_YYUM4C0GTJ.nwb\n",
      "WARNING:datajoint:Skipped checksum for file with hash: 25d8b8cd-4a4e-b4ba-2252-776d28bb4718, and path: /stelmo/nwb/analysis/Winnie20220713/Winnie20220713_YYUM4C0GTJ.nwb\n"
     ]
    },
    {
     "name": "stdout",
     "output_type": "stream",
     "text": [
      "Fast Gamma 65-100 Hz Winnie20220713_.nwb pos 13 valid times 59620aa8-9bdd-7394-cab5-fcb790781712\n"
     ]
    },
    {
     "name": "stderr",
     "output_type": "stream",
     "text": [
      "[2023-12-06 08:55:35,567][WARNING]: Skipped checksum for file with hash: 4be0e03f-12a1-77e6-4a04-2c7f5f5ee3cd, and path: /stelmo/nwb/analysis/Winnie20220713/Winnie20220713_49PBQ0QLK5.nwb\n",
      "WARNING:datajoint:Skipped checksum for file with hash: 4be0e03f-12a1-77e6-4a04-2c7f5f5ee3cd, and path: /stelmo/nwb/analysis/Winnie20220713/Winnie20220713_49PBQ0QLK5.nwb\n"
     ]
    },
    {
     "name": "stdout",
     "output_type": "stream",
     "text": [
      "Slow Gamma 25-55 Hz Winnie20220713_.nwb pos 14 valid times 67667544-3f0a-2b85-0690-7e71b6589613\n"
     ]
    },
    {
     "name": "stderr",
     "output_type": "stream",
     "text": [
      "[2023-12-06 08:55:36,948][WARNING]: Skipped checksum for file with hash: 4be0e03f-12a1-77e6-4a04-2c7f5f5ee3cd, and path: /stelmo/nwb/analysis/Winnie20220713/Winnie20220713_49PBQ0QLK5.nwb\n",
      "WARNING:datajoint:Skipped checksum for file with hash: 4be0e03f-12a1-77e6-4a04-2c7f5f5ee3cd, and path: /stelmo/nwb/analysis/Winnie20220713/Winnie20220713_49PBQ0QLK5.nwb\n"
     ]
    },
    {
     "name": "stdout",
     "output_type": "stream",
     "text": [
      "Fast Gamma 65-100 Hz Winnie20220713_.nwb pos 14 valid times 67667544-3f0a-2b85-0690-7e71b6589613\n"
     ]
    },
    {
     "name": "stderr",
     "output_type": "stream",
     "text": [
      "[2023-12-06 08:55:37,939][WARNING]: Skipped checksum for file with hash: f7350bc5-0e42-0369-c01e-1fb0cdfaf0e8, and path: /stelmo/nwb/analysis/Winnie20220713/Winnie20220713_HBKDTJIJAR.nwb\n",
      "WARNING:datajoint:Skipped checksum for file with hash: f7350bc5-0e42-0369-c01e-1fb0cdfaf0e8, and path: /stelmo/nwb/analysis/Winnie20220713/Winnie20220713_HBKDTJIJAR.nwb\n"
     ]
    },
    {
     "name": "stdout",
     "output_type": "stream",
     "text": [
      "Slow Gamma 25-55 Hz Winnie20220713_.nwb pos 2 valid times fc458ef9-78db-09b6-c2db-72837786da04\n"
     ]
    },
    {
     "name": "stderr",
     "output_type": "stream",
     "text": [
      "[2023-12-06 08:55:39,378][WARNING]: Skipped checksum for file with hash: f7350bc5-0e42-0369-c01e-1fb0cdfaf0e8, and path: /stelmo/nwb/analysis/Winnie20220713/Winnie20220713_HBKDTJIJAR.nwb\n",
      "WARNING:datajoint:Skipped checksum for file with hash: f7350bc5-0e42-0369-c01e-1fb0cdfaf0e8, and path: /stelmo/nwb/analysis/Winnie20220713/Winnie20220713_HBKDTJIJAR.nwb\n"
     ]
    },
    {
     "name": "stdout",
     "output_type": "stream",
     "text": [
      "Fast Gamma 65-100 Hz Winnie20220713_.nwb pos 2 valid times fc458ef9-78db-09b6-c2db-72837786da04\n"
     ]
    },
    {
     "name": "stderr",
     "output_type": "stream",
     "text": [
      "[2023-12-06 08:55:40,364][WARNING]: Skipped checksum for file with hash: df73fa88-9d86-b73e-c07c-0048265189ba, and path: /stelmo/nwb/analysis/Winnie20220713/Winnie20220713_I2WK0NS3K8.nwb\n",
      "WARNING:datajoint:Skipped checksum for file with hash: df73fa88-9d86-b73e-c07c-0048265189ba, and path: /stelmo/nwb/analysis/Winnie20220713/Winnie20220713_I2WK0NS3K8.nwb\n"
     ]
    },
    {
     "name": "stdout",
     "output_type": "stream",
     "text": [
      "Slow Gamma 25-55 Hz Winnie20220713_.nwb pos 3 valid times 7a3b6b63-5291-661e-a950-a2e4358f61e5\n"
     ]
    },
    {
     "name": "stderr",
     "output_type": "stream",
     "text": [
      "[2023-12-06 08:55:41,830][WARNING]: Skipped checksum for file with hash: df73fa88-9d86-b73e-c07c-0048265189ba, and path: /stelmo/nwb/analysis/Winnie20220713/Winnie20220713_I2WK0NS3K8.nwb\n",
      "WARNING:datajoint:Skipped checksum for file with hash: df73fa88-9d86-b73e-c07c-0048265189ba, and path: /stelmo/nwb/analysis/Winnie20220713/Winnie20220713_I2WK0NS3K8.nwb\n"
     ]
    },
    {
     "name": "stdout",
     "output_type": "stream",
     "text": [
      "Fast Gamma 65-100 Hz Winnie20220713_.nwb pos 3 valid times 7a3b6b63-5291-661e-a950-a2e4358f61e5\n"
     ]
    },
    {
     "name": "stderr",
     "output_type": "stream",
     "text": [
      "[2023-12-06 08:55:42,803][WARNING]: Skipped checksum for file with hash: 39383a43-7424-f35a-afbd-b996c6815534, and path: /stelmo/nwb/analysis/Winnie20220713/Winnie20220713_W4TKS379ID.nwb\n",
      "WARNING:datajoint:Skipped checksum for file with hash: 39383a43-7424-f35a-afbd-b996c6815534, and path: /stelmo/nwb/analysis/Winnie20220713/Winnie20220713_W4TKS379ID.nwb\n"
     ]
    },
    {
     "name": "stdout",
     "output_type": "stream",
     "text": [
      "Slow Gamma 25-55 Hz Winnie20220713_.nwb pos 4 valid times 250108a1-90c5-9804-5646-ca6812259474\n"
     ]
    },
    {
     "name": "stderr",
     "output_type": "stream",
     "text": [
      "[2023-12-06 08:55:44,194][WARNING]: Skipped checksum for file with hash: 39383a43-7424-f35a-afbd-b996c6815534, and path: /stelmo/nwb/analysis/Winnie20220713/Winnie20220713_W4TKS379ID.nwb\n",
      "WARNING:datajoint:Skipped checksum for file with hash: 39383a43-7424-f35a-afbd-b996c6815534, and path: /stelmo/nwb/analysis/Winnie20220713/Winnie20220713_W4TKS379ID.nwb\n"
     ]
    },
    {
     "name": "stdout",
     "output_type": "stream",
     "text": [
      "Fast Gamma 65-100 Hz Winnie20220713_.nwb pos 4 valid times 250108a1-90c5-9804-5646-ca6812259474\n"
     ]
    },
    {
     "name": "stderr",
     "output_type": "stream",
     "text": [
      "[2023-12-06 08:55:45,161][WARNING]: Skipped checksum for file with hash: 4f16dd59-bffb-5ab0-702a-9eeb237c4157, and path: /stelmo/nwb/analysis/Winnie20220713/Winnie20220713_SMXSE3L1U6.nwb\n",
      "WARNING:datajoint:Skipped checksum for file with hash: 4f16dd59-bffb-5ab0-702a-9eeb237c4157, and path: /stelmo/nwb/analysis/Winnie20220713/Winnie20220713_SMXSE3L1U6.nwb\n"
     ]
    },
    {
     "name": "stdout",
     "output_type": "stream",
     "text": [
      "Slow Gamma 25-55 Hz Winnie20220713_.nwb pos 5 valid times 28212d1c-8043-9a86-fa1e-aef378afd6a5\n"
     ]
    },
    {
     "name": "stderr",
     "output_type": "stream",
     "text": [
      "[2023-12-06 08:55:46,596][WARNING]: Skipped checksum for file with hash: 4f16dd59-bffb-5ab0-702a-9eeb237c4157, and path: /stelmo/nwb/analysis/Winnie20220713/Winnie20220713_SMXSE3L1U6.nwb\n",
      "WARNING:datajoint:Skipped checksum for file with hash: 4f16dd59-bffb-5ab0-702a-9eeb237c4157, and path: /stelmo/nwb/analysis/Winnie20220713/Winnie20220713_SMXSE3L1U6.nwb\n"
     ]
    },
    {
     "name": "stdout",
     "output_type": "stream",
     "text": [
      "Fast Gamma 65-100 Hz Winnie20220713_.nwb pos 5 valid times 28212d1c-8043-9a86-fa1e-aef378afd6a5\n"
     ]
    },
    {
     "name": "stderr",
     "output_type": "stream",
     "text": [
      "[2023-12-06 08:55:47,595][WARNING]: Skipped checksum for file with hash: ef57a205-a86b-69c7-a0e2-1233fca34219, and path: /stelmo/nwb/analysis/Winnie20220713/Winnie20220713_9UU7KTKP5F.nwb\n",
      "WARNING:datajoint:Skipped checksum for file with hash: ef57a205-a86b-69c7-a0e2-1233fca34219, and path: /stelmo/nwb/analysis/Winnie20220713/Winnie20220713_9UU7KTKP5F.nwb\n"
     ]
    },
    {
     "name": "stdout",
     "output_type": "stream",
     "text": [
      "Slow Gamma 25-55 Hz Winnie20220713_.nwb pos 6 valid times 423035a9-0e82-5c17-9b58-a245eb3b13f3\n"
     ]
    },
    {
     "name": "stderr",
     "output_type": "stream",
     "text": [
      "[2023-12-06 08:55:49,065][WARNING]: Skipped checksum for file with hash: ef57a205-a86b-69c7-a0e2-1233fca34219, and path: /stelmo/nwb/analysis/Winnie20220713/Winnie20220713_9UU7KTKP5F.nwb\n",
      "WARNING:datajoint:Skipped checksum for file with hash: ef57a205-a86b-69c7-a0e2-1233fca34219, and path: /stelmo/nwb/analysis/Winnie20220713/Winnie20220713_9UU7KTKP5F.nwb\n"
     ]
    },
    {
     "name": "stdout",
     "output_type": "stream",
     "text": [
      "Fast Gamma 65-100 Hz Winnie20220713_.nwb pos 6 valid times 423035a9-0e82-5c17-9b58-a245eb3b13f3\n"
     ]
    },
    {
     "name": "stderr",
     "output_type": "stream",
     "text": [
      "[2023-12-06 08:55:50,040][WARNING]: Skipped checksum for file with hash: 06113737-be9c-008c-33ba-9458c8013b36, and path: /stelmo/nwb/analysis/Winnie20220713/Winnie20220713_SQN028U8S6.nwb\n",
      "WARNING:datajoint:Skipped checksum for file with hash: 06113737-be9c-008c-33ba-9458c8013b36, and path: /stelmo/nwb/analysis/Winnie20220713/Winnie20220713_SQN028U8S6.nwb\n"
     ]
    },
    {
     "name": "stdout",
     "output_type": "stream",
     "text": [
      "Slow Gamma 25-55 Hz Winnie20220713_.nwb pos 7 valid times dcb4a7c2-773a-5056-656e-505dc5500a17\n"
     ]
    },
    {
     "name": "stderr",
     "output_type": "stream",
     "text": [
      "[2023-12-06 08:55:51,471][WARNING]: Skipped checksum for file with hash: 06113737-be9c-008c-33ba-9458c8013b36, and path: /stelmo/nwb/analysis/Winnie20220713/Winnie20220713_SQN028U8S6.nwb\n",
      "WARNING:datajoint:Skipped checksum for file with hash: 06113737-be9c-008c-33ba-9458c8013b36, and path: /stelmo/nwb/analysis/Winnie20220713/Winnie20220713_SQN028U8S6.nwb\n"
     ]
    },
    {
     "name": "stdout",
     "output_type": "stream",
     "text": [
      "Fast Gamma 65-100 Hz Winnie20220713_.nwb pos 7 valid times dcb4a7c2-773a-5056-656e-505dc5500a17\n"
     ]
    },
    {
     "name": "stderr",
     "output_type": "stream",
     "text": [
      "[2023-12-06 08:55:52,414][WARNING]: Skipped checksum for file with hash: 662b16f8-d82b-3ec8-4c2c-554d918fafe6, and path: /stelmo/nwb/analysis/Winnie20220713/Winnie20220713_LFUJ7AKPPI.nwb\n",
      "WARNING:datajoint:Skipped checksum for file with hash: 662b16f8-d82b-3ec8-4c2c-554d918fafe6, and path: /stelmo/nwb/analysis/Winnie20220713/Winnie20220713_LFUJ7AKPPI.nwb\n"
     ]
    },
    {
     "name": "stdout",
     "output_type": "stream",
     "text": [
      "Slow Gamma 25-55 Hz Winnie20220713_.nwb pos 8 valid times ceea6022-b98d-4a0e-02d5-dac1e370d462\n"
     ]
    },
    {
     "name": "stderr",
     "output_type": "stream",
     "text": [
      "[2023-12-06 08:55:53,781][WARNING]: Skipped checksum for file with hash: 662b16f8-d82b-3ec8-4c2c-554d918fafe6, and path: /stelmo/nwb/analysis/Winnie20220713/Winnie20220713_LFUJ7AKPPI.nwb\n",
      "WARNING:datajoint:Skipped checksum for file with hash: 662b16f8-d82b-3ec8-4c2c-554d918fafe6, and path: /stelmo/nwb/analysis/Winnie20220713/Winnie20220713_LFUJ7AKPPI.nwb\n"
     ]
    },
    {
     "name": "stdout",
     "output_type": "stream",
     "text": [
      "Fast Gamma 65-100 Hz Winnie20220713_.nwb pos 8 valid times ceea6022-b98d-4a0e-02d5-dac1e370d462\n"
     ]
    },
    {
     "name": "stderr",
     "output_type": "stream",
     "text": [
      "[2023-12-06 08:55:54,737][WARNING]: Skipped checksum for file with hash: 3fec2fb6-79ca-da9d-ee53-9d8f5b7c5456, and path: /stelmo/nwb/analysis/Winnie20220713/Winnie20220713_SOUE48RYHS.nwb\n",
      "WARNING:datajoint:Skipped checksum for file with hash: 3fec2fb6-79ca-da9d-ee53-9d8f5b7c5456, and path: /stelmo/nwb/analysis/Winnie20220713/Winnie20220713_SOUE48RYHS.nwb\n"
     ]
    },
    {
     "name": "stdout",
     "output_type": "stream",
     "text": [
      "Slow Gamma 25-55 Hz Winnie20220713_.nwb pos 9 valid times 6d01feb9-778d-b528-5d5c-2658c0709dab\n"
     ]
    },
    {
     "name": "stderr",
     "output_type": "stream",
     "text": [
      "[2023-12-06 08:55:56,169][WARNING]: Skipped checksum for file with hash: 3fec2fb6-79ca-da9d-ee53-9d8f5b7c5456, and path: /stelmo/nwb/analysis/Winnie20220713/Winnie20220713_SOUE48RYHS.nwb\n",
      "WARNING:datajoint:Skipped checksum for file with hash: 3fec2fb6-79ca-da9d-ee53-9d8f5b7c5456, and path: /stelmo/nwb/analysis/Winnie20220713/Winnie20220713_SOUE48RYHS.nwb\n"
     ]
    },
    {
     "name": "stdout",
     "output_type": "stream",
     "text": [
      "Fast Gamma 65-100 Hz Winnie20220713_.nwb pos 9 valid times 6d01feb9-778d-b528-5d5c-2658c0709dab\n"
     ]
    },
    {
     "name": "stderr",
     "output_type": "stream",
     "text": [
      "[2023-12-06 08:55:57,175][WARNING]: Skipped checksum for file with hash: 8c73b162-70f2-aecb-1425-2e1f83e2a1c6, and path: /stelmo/nwb/analysis/Winnie20220714/Winnie20220714_ISXEFBV66J.nwb\n",
      "WARNING:datajoint:Skipped checksum for file with hash: 8c73b162-70f2-aecb-1425-2e1f83e2a1c6, and path: /stelmo/nwb/analysis/Winnie20220714/Winnie20220714_ISXEFBV66J.nwb\n"
     ]
    },
    {
     "name": "stdout",
     "output_type": "stream",
     "text": [
      "Slow Gamma 25-55 Hz Winnie20220714_.nwb pos 0 valid times 23c35eec-102f-b88a-a3e9-a35fc5ce3d8e\n"
     ]
    },
    {
     "name": "stderr",
     "output_type": "stream",
     "text": [
      "[2023-12-06 08:55:58,785][WARNING]: Skipped checksum for file with hash: 8c73b162-70f2-aecb-1425-2e1f83e2a1c6, and path: /stelmo/nwb/analysis/Winnie20220714/Winnie20220714_ISXEFBV66J.nwb\n",
      "WARNING:datajoint:Skipped checksum for file with hash: 8c73b162-70f2-aecb-1425-2e1f83e2a1c6, and path: /stelmo/nwb/analysis/Winnie20220714/Winnie20220714_ISXEFBV66J.nwb\n"
     ]
    },
    {
     "name": "stdout",
     "output_type": "stream",
     "text": [
      "Fast Gamma 65-100 Hz Winnie20220714_.nwb pos 0 valid times 23c35eec-102f-b88a-a3e9-a35fc5ce3d8e\n"
     ]
    },
    {
     "name": "stderr",
     "output_type": "stream",
     "text": [
      "[2023-12-06 08:55:59,784][WARNING]: Skipped checksum for file with hash: 58683a68-d1e8-9038-7c1c-0628a03129d4, and path: /stelmo/nwb/analysis/Winnie20220714/Winnie20220714_RKYT1QGOV3.nwb\n",
      "WARNING:datajoint:Skipped checksum for file with hash: 58683a68-d1e8-9038-7c1c-0628a03129d4, and path: /stelmo/nwb/analysis/Winnie20220714/Winnie20220714_RKYT1QGOV3.nwb\n"
     ]
    },
    {
     "name": "stdout",
     "output_type": "stream",
     "text": [
      "Slow Gamma 25-55 Hz Winnie20220714_.nwb pos 1 valid times ea874196-a415-392d-cf69-c180da5a9b80\n"
     ]
    },
    {
     "name": "stderr",
     "output_type": "stream",
     "text": [
      "[2023-12-06 08:56:01,100][WARNING]: Skipped checksum for file with hash: 58683a68-d1e8-9038-7c1c-0628a03129d4, and path: /stelmo/nwb/analysis/Winnie20220714/Winnie20220714_RKYT1QGOV3.nwb\n",
      "WARNING:datajoint:Skipped checksum for file with hash: 58683a68-d1e8-9038-7c1c-0628a03129d4, and path: /stelmo/nwb/analysis/Winnie20220714/Winnie20220714_RKYT1QGOV3.nwb\n"
     ]
    },
    {
     "name": "stdout",
     "output_type": "stream",
     "text": [
      "Fast Gamma 65-100 Hz Winnie20220714_.nwb pos 1 valid times ea874196-a415-392d-cf69-c180da5a9b80\n"
     ]
    },
    {
     "name": "stderr",
     "output_type": "stream",
     "text": [
      "[2023-12-06 08:56:02,129][WARNING]: Skipped checksum for file with hash: 5ece8129-70a7-a01d-9af8-fe9a1dc89f8e, and path: /stelmo/nwb/analysis/Winnie20220714/Winnie20220714_LWTP99D94J.nwb\n",
      "WARNING:datajoint:Skipped checksum for file with hash: 5ece8129-70a7-a01d-9af8-fe9a1dc89f8e, and path: /stelmo/nwb/analysis/Winnie20220714/Winnie20220714_LWTP99D94J.nwb\n"
     ]
    },
    {
     "name": "stdout",
     "output_type": "stream",
     "text": [
      "Slow Gamma 25-55 Hz Winnie20220714_.nwb pos 10 valid times 09219e28-eb12-529c-ffbc-7ac6fc459400\n"
     ]
    },
    {
     "name": "stderr",
     "output_type": "stream",
     "text": [
      "[2023-12-06 08:56:03,546][WARNING]: Skipped checksum for file with hash: 5ece8129-70a7-a01d-9af8-fe9a1dc89f8e, and path: /stelmo/nwb/analysis/Winnie20220714/Winnie20220714_LWTP99D94J.nwb\n",
      "WARNING:datajoint:Skipped checksum for file with hash: 5ece8129-70a7-a01d-9af8-fe9a1dc89f8e, and path: /stelmo/nwb/analysis/Winnie20220714/Winnie20220714_LWTP99D94J.nwb\n"
     ]
    },
    {
     "name": "stdout",
     "output_type": "stream",
     "text": [
      "Fast Gamma 65-100 Hz Winnie20220714_.nwb pos 10 valid times 09219e28-eb12-529c-ffbc-7ac6fc459400\n"
     ]
    },
    {
     "name": "stderr",
     "output_type": "stream",
     "text": [
      "[2023-12-06 08:56:04,539][WARNING]: Skipped checksum for file with hash: a1b162bb-c917-6c4e-95f8-f9ef82c59316, and path: /stelmo/nwb/analysis/Winnie20220714/Winnie20220714_IVE135OJO8.nwb\n",
      "WARNING:datajoint:Skipped checksum for file with hash: a1b162bb-c917-6c4e-95f8-f9ef82c59316, and path: /stelmo/nwb/analysis/Winnie20220714/Winnie20220714_IVE135OJO8.nwb\n"
     ]
    },
    {
     "name": "stdout",
     "output_type": "stream",
     "text": [
      "Slow Gamma 25-55 Hz Winnie20220714_.nwb pos 11 valid times ceea95fd-9f1c-aa33-7a5f-2e780161e540\n"
     ]
    },
    {
     "name": "stderr",
     "output_type": "stream",
     "text": [
      "[2023-12-06 08:56:05,919][WARNING]: Skipped checksum for file with hash: a1b162bb-c917-6c4e-95f8-f9ef82c59316, and path: /stelmo/nwb/analysis/Winnie20220714/Winnie20220714_IVE135OJO8.nwb\n",
      "WARNING:datajoint:Skipped checksum for file with hash: a1b162bb-c917-6c4e-95f8-f9ef82c59316, and path: /stelmo/nwb/analysis/Winnie20220714/Winnie20220714_IVE135OJO8.nwb\n"
     ]
    },
    {
     "name": "stdout",
     "output_type": "stream",
     "text": [
      "Fast Gamma 65-100 Hz Winnie20220714_.nwb pos 11 valid times ceea95fd-9f1c-aa33-7a5f-2e780161e540\n"
     ]
    },
    {
     "name": "stderr",
     "output_type": "stream",
     "text": [
      "[2023-12-06 08:56:06,908][WARNING]: Skipped checksum for file with hash: 06ad3a54-0814-34e5-dfae-4403b182e01b, and path: /stelmo/nwb/analysis/Winnie20220714/Winnie20220714_QU78NE5M47.nwb\n",
      "WARNING:datajoint:Skipped checksum for file with hash: 06ad3a54-0814-34e5-dfae-4403b182e01b, and path: /stelmo/nwb/analysis/Winnie20220714/Winnie20220714_QU78NE5M47.nwb\n"
     ]
    },
    {
     "name": "stdout",
     "output_type": "stream",
     "text": [
      "Slow Gamma 25-55 Hz Winnie20220714_.nwb pos 12 valid times df6a5a21-4fb9-461f-d1d4-b135c6412d06\n"
     ]
    },
    {
     "name": "stderr",
     "output_type": "stream",
     "text": [
      "[2023-12-06 08:56:08,347][WARNING]: Skipped checksum for file with hash: 06ad3a54-0814-34e5-dfae-4403b182e01b, and path: /stelmo/nwb/analysis/Winnie20220714/Winnie20220714_QU78NE5M47.nwb\n",
      "WARNING:datajoint:Skipped checksum for file with hash: 06ad3a54-0814-34e5-dfae-4403b182e01b, and path: /stelmo/nwb/analysis/Winnie20220714/Winnie20220714_QU78NE5M47.nwb\n"
     ]
    },
    {
     "name": "stdout",
     "output_type": "stream",
     "text": [
      "Fast Gamma 65-100 Hz Winnie20220714_.nwb pos 12 valid times df6a5a21-4fb9-461f-d1d4-b135c6412d06\n"
     ]
    },
    {
     "name": "stderr",
     "output_type": "stream",
     "text": [
      "[2023-12-06 08:56:09,321][WARNING]: Skipped checksum for file with hash: 8a73f283-cf98-14ba-7a44-0a01e6cf0003, and path: /stelmo/nwb/analysis/Winnie20220714/Winnie20220714_QFNM95HQ8A.nwb\n",
      "WARNING:datajoint:Skipped checksum for file with hash: 8a73f283-cf98-14ba-7a44-0a01e6cf0003, and path: /stelmo/nwb/analysis/Winnie20220714/Winnie20220714_QFNM95HQ8A.nwb\n"
     ]
    },
    {
     "name": "stdout",
     "output_type": "stream",
     "text": [
      "Slow Gamma 25-55 Hz Winnie20220714_.nwb pos 13 valid times 1a3d489b-7e4e-b992-bb8f-8cb4718b40cf\n"
     ]
    },
    {
     "name": "stderr",
     "output_type": "stream",
     "text": [
      "[2023-12-06 08:56:10,730][WARNING]: Skipped checksum for file with hash: 8a73f283-cf98-14ba-7a44-0a01e6cf0003, and path: /stelmo/nwb/analysis/Winnie20220714/Winnie20220714_QFNM95HQ8A.nwb\n",
      "WARNING:datajoint:Skipped checksum for file with hash: 8a73f283-cf98-14ba-7a44-0a01e6cf0003, and path: /stelmo/nwb/analysis/Winnie20220714/Winnie20220714_QFNM95HQ8A.nwb\n"
     ]
    },
    {
     "name": "stdout",
     "output_type": "stream",
     "text": [
      "Fast Gamma 65-100 Hz Winnie20220714_.nwb pos 13 valid times 1a3d489b-7e4e-b992-bb8f-8cb4718b40cf\n"
     ]
    },
    {
     "name": "stderr",
     "output_type": "stream",
     "text": [
      "[2023-12-06 08:56:11,720][WARNING]: Skipped checksum for file with hash: 0d00f2b7-63af-7b60-3478-b174aafcbed1, and path: /stelmo/nwb/analysis/Winnie20220714/Winnie20220714_H0SA4HF9KU.nwb\n",
      "WARNING:datajoint:Skipped checksum for file with hash: 0d00f2b7-63af-7b60-3478-b174aafcbed1, and path: /stelmo/nwb/analysis/Winnie20220714/Winnie20220714_H0SA4HF9KU.nwb\n"
     ]
    },
    {
     "name": "stdout",
     "output_type": "stream",
     "text": [
      "Slow Gamma 25-55 Hz Winnie20220714_.nwb pos 14 valid times 438ed76a-9215-438c-2625-2864d2417e8a\n"
     ]
    },
    {
     "name": "stderr",
     "output_type": "stream",
     "text": [
      "[2023-12-06 08:56:13,200][WARNING]: Skipped checksum for file with hash: 0d00f2b7-63af-7b60-3478-b174aafcbed1, and path: /stelmo/nwb/analysis/Winnie20220714/Winnie20220714_H0SA4HF9KU.nwb\n",
      "WARNING:datajoint:Skipped checksum for file with hash: 0d00f2b7-63af-7b60-3478-b174aafcbed1, and path: /stelmo/nwb/analysis/Winnie20220714/Winnie20220714_H0SA4HF9KU.nwb\n"
     ]
    },
    {
     "name": "stdout",
     "output_type": "stream",
     "text": [
      "Fast Gamma 65-100 Hz Winnie20220714_.nwb pos 14 valid times 438ed76a-9215-438c-2625-2864d2417e8a\n"
     ]
    },
    {
     "name": "stderr",
     "output_type": "stream",
     "text": [
      "[2023-12-06 08:56:14,212][WARNING]: Skipped checksum for file with hash: 6872550f-b55b-b196-9f1d-90379f37b399, and path: /stelmo/nwb/analysis/Winnie20220714/Winnie20220714_C1PHSY3BB4.nwb\n",
      "WARNING:datajoint:Skipped checksum for file with hash: 6872550f-b55b-b196-9f1d-90379f37b399, and path: /stelmo/nwb/analysis/Winnie20220714/Winnie20220714_C1PHSY3BB4.nwb\n"
     ]
    },
    {
     "name": "stdout",
     "output_type": "stream",
     "text": [
      "Slow Gamma 25-55 Hz Winnie20220714_.nwb pos 2 valid times 7964808b-9d45-04cd-3327-1f250e8b3bb5\n"
     ]
    },
    {
     "name": "stderr",
     "output_type": "stream",
     "text": [
      "[2023-12-06 08:56:15,638][WARNING]: Skipped checksum for file with hash: 6872550f-b55b-b196-9f1d-90379f37b399, and path: /stelmo/nwb/analysis/Winnie20220714/Winnie20220714_C1PHSY3BB4.nwb\n",
      "WARNING:datajoint:Skipped checksum for file with hash: 6872550f-b55b-b196-9f1d-90379f37b399, and path: /stelmo/nwb/analysis/Winnie20220714/Winnie20220714_C1PHSY3BB4.nwb\n"
     ]
    },
    {
     "name": "stdout",
     "output_type": "stream",
     "text": [
      "Fast Gamma 65-100 Hz Winnie20220714_.nwb pos 2 valid times 7964808b-9d45-04cd-3327-1f250e8b3bb5\n"
     ]
    },
    {
     "name": "stderr",
     "output_type": "stream",
     "text": [
      "[2023-12-06 08:56:16,607][WARNING]: Skipped checksum for file with hash: 5cf5f302-f2f9-c998-45da-7d84b2ade83f, and path: /stelmo/nwb/analysis/Winnie20220714/Winnie20220714_0JLJY5M9VN.nwb\n",
      "WARNING:datajoint:Skipped checksum for file with hash: 5cf5f302-f2f9-c998-45da-7d84b2ade83f, and path: /stelmo/nwb/analysis/Winnie20220714/Winnie20220714_0JLJY5M9VN.nwb\n"
     ]
    },
    {
     "name": "stdout",
     "output_type": "stream",
     "text": [
      "Slow Gamma 25-55 Hz Winnie20220714_.nwb pos 3 valid times 12f5b514-dc4b-a712-d6b6-647ee76ba905\n"
     ]
    },
    {
     "name": "stderr",
     "output_type": "stream",
     "text": [
      "[2023-12-06 08:56:18,096][WARNING]: Skipped checksum for file with hash: 5cf5f302-f2f9-c998-45da-7d84b2ade83f, and path: /stelmo/nwb/analysis/Winnie20220714/Winnie20220714_0JLJY5M9VN.nwb\n",
      "WARNING:datajoint:Skipped checksum for file with hash: 5cf5f302-f2f9-c998-45da-7d84b2ade83f, and path: /stelmo/nwb/analysis/Winnie20220714/Winnie20220714_0JLJY5M9VN.nwb\n"
     ]
    },
    {
     "name": "stdout",
     "output_type": "stream",
     "text": [
      "Fast Gamma 65-100 Hz Winnie20220714_.nwb pos 3 valid times 12f5b514-dc4b-a712-d6b6-647ee76ba905\n"
     ]
    },
    {
     "name": "stderr",
     "output_type": "stream",
     "text": [
      "[2023-12-06 08:56:19,078][WARNING]: Skipped checksum for file with hash: 8b0634d2-5849-cc7e-c842-9201ef0632da, and path: /stelmo/nwb/analysis/Winnie20220714/Winnie20220714_2NR4WTB0TU.nwb\n",
      "WARNING:datajoint:Skipped checksum for file with hash: 8b0634d2-5849-cc7e-c842-9201ef0632da, and path: /stelmo/nwb/analysis/Winnie20220714/Winnie20220714_2NR4WTB0TU.nwb\n"
     ]
    },
    {
     "name": "stdout",
     "output_type": "stream",
     "text": [
      "Slow Gamma 25-55 Hz Winnie20220714_.nwb pos 4 valid times d4421224-e4e2-5f25-dd4e-ca375f911dbf\n"
     ]
    },
    {
     "name": "stderr",
     "output_type": "stream",
     "text": [
      "[2023-12-06 08:56:20,520][WARNING]: Skipped checksum for file with hash: 8b0634d2-5849-cc7e-c842-9201ef0632da, and path: /stelmo/nwb/analysis/Winnie20220714/Winnie20220714_2NR4WTB0TU.nwb\n",
      "WARNING:datajoint:Skipped checksum for file with hash: 8b0634d2-5849-cc7e-c842-9201ef0632da, and path: /stelmo/nwb/analysis/Winnie20220714/Winnie20220714_2NR4WTB0TU.nwb\n"
     ]
    },
    {
     "name": "stdout",
     "output_type": "stream",
     "text": [
      "Fast Gamma 65-100 Hz Winnie20220714_.nwb pos 4 valid times d4421224-e4e2-5f25-dd4e-ca375f911dbf\n"
     ]
    },
    {
     "name": "stderr",
     "output_type": "stream",
     "text": [
      "[2023-12-06 08:56:21,507][WARNING]: Skipped checksum for file with hash: 4ccfd355-75fe-18a8-4b14-c52fced75075, and path: /stelmo/nwb/analysis/Winnie20220714/Winnie20220714_GW6DVTK51X.nwb\n",
      "WARNING:datajoint:Skipped checksum for file with hash: 4ccfd355-75fe-18a8-4b14-c52fced75075, and path: /stelmo/nwb/analysis/Winnie20220714/Winnie20220714_GW6DVTK51X.nwb\n"
     ]
    },
    {
     "name": "stdout",
     "output_type": "stream",
     "text": [
      "Slow Gamma 25-55 Hz Winnie20220714_.nwb pos 5 valid times 5d7c5438-fddc-6fd1-a4ec-49de58d0f028\n"
     ]
    },
    {
     "name": "stderr",
     "output_type": "stream",
     "text": [
      "[2023-12-06 08:56:22,911][WARNING]: Skipped checksum for file with hash: 4ccfd355-75fe-18a8-4b14-c52fced75075, and path: /stelmo/nwb/analysis/Winnie20220714/Winnie20220714_GW6DVTK51X.nwb\n",
      "WARNING:datajoint:Skipped checksum for file with hash: 4ccfd355-75fe-18a8-4b14-c52fced75075, and path: /stelmo/nwb/analysis/Winnie20220714/Winnie20220714_GW6DVTK51X.nwb\n"
     ]
    },
    {
     "name": "stdout",
     "output_type": "stream",
     "text": [
      "Fast Gamma 65-100 Hz Winnie20220714_.nwb pos 5 valid times 5d7c5438-fddc-6fd1-a4ec-49de58d0f028\n"
     ]
    },
    {
     "name": "stderr",
     "output_type": "stream",
     "text": [
      "[2023-12-06 08:56:23,859][WARNING]: Skipped checksum for file with hash: b1f9a07a-37c4-2970-a497-778c36da560a, and path: /stelmo/nwb/analysis/Winnie20220714/Winnie20220714_K6EHH9ZMYY.nwb\n",
      "WARNING:datajoint:Skipped checksum for file with hash: b1f9a07a-37c4-2970-a497-778c36da560a, and path: /stelmo/nwb/analysis/Winnie20220714/Winnie20220714_K6EHH9ZMYY.nwb\n"
     ]
    },
    {
     "name": "stdout",
     "output_type": "stream",
     "text": [
      "Slow Gamma 25-55 Hz Winnie20220714_.nwb pos 6 valid times caefc22f-50fb-32b9-a1a5-a06739758147\n"
     ]
    },
    {
     "name": "stderr",
     "output_type": "stream",
     "text": [
      "[2023-12-06 08:56:25,232][WARNING]: Skipped checksum for file with hash: b1f9a07a-37c4-2970-a497-778c36da560a, and path: /stelmo/nwb/analysis/Winnie20220714/Winnie20220714_K6EHH9ZMYY.nwb\n",
      "WARNING:datajoint:Skipped checksum for file with hash: b1f9a07a-37c4-2970-a497-778c36da560a, and path: /stelmo/nwb/analysis/Winnie20220714/Winnie20220714_K6EHH9ZMYY.nwb\n"
     ]
    },
    {
     "name": "stdout",
     "output_type": "stream",
     "text": [
      "Fast Gamma 65-100 Hz Winnie20220714_.nwb pos 6 valid times caefc22f-50fb-32b9-a1a5-a06739758147\n"
     ]
    },
    {
     "name": "stderr",
     "output_type": "stream",
     "text": [
      "[2023-12-06 08:56:26,205][WARNING]: Skipped checksum for file with hash: a9766e76-ace9-e6a4-db63-143a5ba2ce3f, and path: /stelmo/nwb/analysis/Winnie20220714/Winnie20220714_12ABV28HAV.nwb\n",
      "WARNING:datajoint:Skipped checksum for file with hash: a9766e76-ace9-e6a4-db63-143a5ba2ce3f, and path: /stelmo/nwb/analysis/Winnie20220714/Winnie20220714_12ABV28HAV.nwb\n"
     ]
    },
    {
     "name": "stdout",
     "output_type": "stream",
     "text": [
      "Slow Gamma 25-55 Hz Winnie20220714_.nwb pos 7 valid times 1fa0372f-efa8-5c24-d610-b0d5b3731d0d\n"
     ]
    },
    {
     "name": "stderr",
     "output_type": "stream",
     "text": [
      "[2023-12-06 08:56:27,634][WARNING]: Skipped checksum for file with hash: a9766e76-ace9-e6a4-db63-143a5ba2ce3f, and path: /stelmo/nwb/analysis/Winnie20220714/Winnie20220714_12ABV28HAV.nwb\n",
      "WARNING:datajoint:Skipped checksum for file with hash: a9766e76-ace9-e6a4-db63-143a5ba2ce3f, and path: /stelmo/nwb/analysis/Winnie20220714/Winnie20220714_12ABV28HAV.nwb\n"
     ]
    },
    {
     "name": "stdout",
     "output_type": "stream",
     "text": [
      "Fast Gamma 65-100 Hz Winnie20220714_.nwb pos 7 valid times 1fa0372f-efa8-5c24-d610-b0d5b3731d0d\n"
     ]
    },
    {
     "name": "stderr",
     "output_type": "stream",
     "text": [
      "[2023-12-06 08:56:28,477][WARNING]: Skipped checksum for file with hash: a62d5fcb-4edc-58a4-9c92-d5c517e2ac6c, and path: /stelmo/nwb/analysis/Winnie20220714/Winnie20220714_YN6HXN35Y3.nwb\n",
      "WARNING:datajoint:Skipped checksum for file with hash: a62d5fcb-4edc-58a4-9c92-d5c517e2ac6c, and path: /stelmo/nwb/analysis/Winnie20220714/Winnie20220714_YN6HXN35Y3.nwb\n"
     ]
    },
    {
     "name": "stdout",
     "output_type": "stream",
     "text": [
      "Slow Gamma 25-55 Hz Winnie20220714_.nwb pos 8 valid times e03b8a5a-c8ea-9d63-37e8-9feb007502ca\n"
     ]
    },
    {
     "name": "stderr",
     "output_type": "stream",
     "text": [
      "[2023-12-06 08:56:29,920][WARNING]: Skipped checksum for file with hash: a62d5fcb-4edc-58a4-9c92-d5c517e2ac6c, and path: /stelmo/nwb/analysis/Winnie20220714/Winnie20220714_YN6HXN35Y3.nwb\n",
      "WARNING:datajoint:Skipped checksum for file with hash: a62d5fcb-4edc-58a4-9c92-d5c517e2ac6c, and path: /stelmo/nwb/analysis/Winnie20220714/Winnie20220714_YN6HXN35Y3.nwb\n"
     ]
    },
    {
     "name": "stdout",
     "output_type": "stream",
     "text": [
      "Fast Gamma 65-100 Hz Winnie20220714_.nwb pos 8 valid times e03b8a5a-c8ea-9d63-37e8-9feb007502ca\n"
     ]
    },
    {
     "name": "stderr",
     "output_type": "stream",
     "text": [
      "[2023-12-06 08:56:30,855][WARNING]: Skipped checksum for file with hash: d4b3e20d-61b4-6786-a0f3-5054422aa702, and path: /stelmo/nwb/analysis/Winnie20220714/Winnie20220714_8S8864K2DZ.nwb\n",
      "WARNING:datajoint:Skipped checksum for file with hash: d4b3e20d-61b4-6786-a0f3-5054422aa702, and path: /stelmo/nwb/analysis/Winnie20220714/Winnie20220714_8S8864K2DZ.nwb\n"
     ]
    },
    {
     "name": "stdout",
     "output_type": "stream",
     "text": [
      "Slow Gamma 25-55 Hz Winnie20220714_.nwb pos 9 valid times 0087e094-8238-32b8-9e8d-ecb7d9352b3b\n"
     ]
    },
    {
     "name": "stderr",
     "output_type": "stream",
     "text": [
      "[2023-12-06 08:56:32,406][WARNING]: Skipped checksum for file with hash: d4b3e20d-61b4-6786-a0f3-5054422aa702, and path: /stelmo/nwb/analysis/Winnie20220714/Winnie20220714_8S8864K2DZ.nwb\n",
      "WARNING:datajoint:Skipped checksum for file with hash: d4b3e20d-61b4-6786-a0f3-5054422aa702, and path: /stelmo/nwb/analysis/Winnie20220714/Winnie20220714_8S8864K2DZ.nwb\n"
     ]
    },
    {
     "name": "stdout",
     "output_type": "stream",
     "text": [
      "Fast Gamma 65-100 Hz Winnie20220714_.nwb pos 9 valid times 0087e094-8238-32b8-9e8d-ecb7d9352b3b\n"
     ]
    },
    {
     "name": "stderr",
     "output_type": "stream",
     "text": [
      "[2023-12-06 08:56:33,387][WARNING]: Skipped checksum for file with hash: c5435e34-263f-f778-e5c2-f06fcce895db, and path: /stelmo/nwb/analysis/Winnie20220715/Winnie20220715_TD4IH07DAD.nwb\n",
      "WARNING:datajoint:Skipped checksum for file with hash: c5435e34-263f-f778-e5c2-f06fcce895db, and path: /stelmo/nwb/analysis/Winnie20220715/Winnie20220715_TD4IH07DAD.nwb\n"
     ]
    },
    {
     "name": "stdout",
     "output_type": "stream",
     "text": [
      "Slow Gamma 25-55 Hz Winnie20220715_.nwb pos 0 valid times 6d901a62-c84c-0e0a-1283-85865927f865\n"
     ]
    },
    {
     "name": "stderr",
     "output_type": "stream",
     "text": [
      "[2023-12-06 08:56:34,839][WARNING]: Skipped checksum for file with hash: c5435e34-263f-f778-e5c2-f06fcce895db, and path: /stelmo/nwb/analysis/Winnie20220715/Winnie20220715_TD4IH07DAD.nwb\n",
      "WARNING:datajoint:Skipped checksum for file with hash: c5435e34-263f-f778-e5c2-f06fcce895db, and path: /stelmo/nwb/analysis/Winnie20220715/Winnie20220715_TD4IH07DAD.nwb\n"
     ]
    },
    {
     "name": "stdout",
     "output_type": "stream",
     "text": [
      "Fast Gamma 65-100 Hz Winnie20220715_.nwb pos 0 valid times 6d901a62-c84c-0e0a-1283-85865927f865\n"
     ]
    },
    {
     "name": "stderr",
     "output_type": "stream",
     "text": [
      "[2023-12-06 08:56:35,807][WARNING]: Skipped checksum for file with hash: c7368661-bbf2-fca7-fed2-9deca9bcf22a, and path: /stelmo/nwb/analysis/Winnie20220715/Winnie20220715_XHNK25X0E5.nwb\n",
      "WARNING:datajoint:Skipped checksum for file with hash: c7368661-bbf2-fca7-fed2-9deca9bcf22a, and path: /stelmo/nwb/analysis/Winnie20220715/Winnie20220715_XHNK25X0E5.nwb\n"
     ]
    },
    {
     "name": "stdout",
     "output_type": "stream",
     "text": [
      "Slow Gamma 25-55 Hz Winnie20220715_.nwb pos 1 valid times 31cabda5-df6b-a86c-506d-f5b6a0961148\n"
     ]
    },
    {
     "name": "stderr",
     "output_type": "stream",
     "text": [
      "[2023-12-06 08:56:37,268][WARNING]: Skipped checksum for file with hash: c7368661-bbf2-fca7-fed2-9deca9bcf22a, and path: /stelmo/nwb/analysis/Winnie20220715/Winnie20220715_XHNK25X0E5.nwb\n",
      "WARNING:datajoint:Skipped checksum for file with hash: c7368661-bbf2-fca7-fed2-9deca9bcf22a, and path: /stelmo/nwb/analysis/Winnie20220715/Winnie20220715_XHNK25X0E5.nwb\n"
     ]
    },
    {
     "name": "stdout",
     "output_type": "stream",
     "text": [
      "Fast Gamma 65-100 Hz Winnie20220715_.nwb pos 1 valid times 31cabda5-df6b-a86c-506d-f5b6a0961148\n"
     ]
    },
    {
     "name": "stderr",
     "output_type": "stream",
     "text": [
      "[2023-12-06 08:56:38,275][WARNING]: Skipped checksum for file with hash: 74351693-685b-827c-d954-cebee2aed64e, and path: /stelmo/nwb/analysis/Winnie20220715/Winnie20220715_ONS7R17N7A.nwb\n",
      "WARNING:datajoint:Skipped checksum for file with hash: 74351693-685b-827c-d954-cebee2aed64e, and path: /stelmo/nwb/analysis/Winnie20220715/Winnie20220715_ONS7R17N7A.nwb\n"
     ]
    },
    {
     "name": "stdout",
     "output_type": "stream",
     "text": [
      "Slow Gamma 25-55 Hz Winnie20220715_.nwb pos 10 valid times b790c7cb-6fb4-1e2f-906f-c273fe353ff5\n"
     ]
    },
    {
     "name": "stderr",
     "output_type": "stream",
     "text": [
      "[2023-12-06 08:56:39,732][WARNING]: Skipped checksum for file with hash: 74351693-685b-827c-d954-cebee2aed64e, and path: /stelmo/nwb/analysis/Winnie20220715/Winnie20220715_ONS7R17N7A.nwb\n",
      "WARNING:datajoint:Skipped checksum for file with hash: 74351693-685b-827c-d954-cebee2aed64e, and path: /stelmo/nwb/analysis/Winnie20220715/Winnie20220715_ONS7R17N7A.nwb\n"
     ]
    },
    {
     "name": "stdout",
     "output_type": "stream",
     "text": [
      "Fast Gamma 65-100 Hz Winnie20220715_.nwb pos 10 valid times b790c7cb-6fb4-1e2f-906f-c273fe353ff5\n"
     ]
    },
    {
     "name": "stderr",
     "output_type": "stream",
     "text": [
      "[2023-12-06 08:56:40,687][WARNING]: Skipped checksum for file with hash: 8d8edd78-fdd5-00a1-365b-63495dd0e9d9, and path: /stelmo/nwb/analysis/Winnie20220715/Winnie20220715_27K91ZCYSK.nwb\n",
      "WARNING:datajoint:Skipped checksum for file with hash: 8d8edd78-fdd5-00a1-365b-63495dd0e9d9, and path: /stelmo/nwb/analysis/Winnie20220715/Winnie20220715_27K91ZCYSK.nwb\n"
     ]
    },
    {
     "name": "stdout",
     "output_type": "stream",
     "text": [
      "Slow Gamma 25-55 Hz Winnie20220715_.nwb pos 11 valid times c10c9ff1-6856-8f92-a337-2389665fd015\n"
     ]
    },
    {
     "name": "stderr",
     "output_type": "stream",
     "text": [
      "[2023-12-06 08:56:42,125][WARNING]: Skipped checksum for file with hash: 8d8edd78-fdd5-00a1-365b-63495dd0e9d9, and path: /stelmo/nwb/analysis/Winnie20220715/Winnie20220715_27K91ZCYSK.nwb\n",
      "WARNING:datajoint:Skipped checksum for file with hash: 8d8edd78-fdd5-00a1-365b-63495dd0e9d9, and path: /stelmo/nwb/analysis/Winnie20220715/Winnie20220715_27K91ZCYSK.nwb\n"
     ]
    },
    {
     "name": "stdout",
     "output_type": "stream",
     "text": [
      "Fast Gamma 65-100 Hz Winnie20220715_.nwb pos 11 valid times c10c9ff1-6856-8f92-a337-2389665fd015\n"
     ]
    },
    {
     "name": "stderr",
     "output_type": "stream",
     "text": [
      "[2023-12-06 08:56:43,107][WARNING]: Skipped checksum for file with hash: 8ad7fe96-12cf-1cce-60b7-3d20989fc99e, and path: /stelmo/nwb/analysis/Winnie20220715/Winnie20220715_XHWBZKO4EW.nwb\n",
      "WARNING:datajoint:Skipped checksum for file with hash: 8ad7fe96-12cf-1cce-60b7-3d20989fc99e, and path: /stelmo/nwb/analysis/Winnie20220715/Winnie20220715_XHWBZKO4EW.nwb\n"
     ]
    },
    {
     "name": "stdout",
     "output_type": "stream",
     "text": [
      "Slow Gamma 25-55 Hz Winnie20220715_.nwb pos 12 valid times b92ac41b-3bc2-40b5-41b3-afdd68ee5626\n"
     ]
    },
    {
     "name": "stderr",
     "output_type": "stream",
     "text": [
      "[2023-12-06 08:56:44,495][WARNING]: Skipped checksum for file with hash: 8ad7fe96-12cf-1cce-60b7-3d20989fc99e, and path: /stelmo/nwb/analysis/Winnie20220715/Winnie20220715_XHWBZKO4EW.nwb\n",
      "WARNING:datajoint:Skipped checksum for file with hash: 8ad7fe96-12cf-1cce-60b7-3d20989fc99e, and path: /stelmo/nwb/analysis/Winnie20220715/Winnie20220715_XHWBZKO4EW.nwb\n"
     ]
    },
    {
     "name": "stdout",
     "output_type": "stream",
     "text": [
      "Fast Gamma 65-100 Hz Winnie20220715_.nwb pos 12 valid times b92ac41b-3bc2-40b5-41b3-afdd68ee5626\n"
     ]
    },
    {
     "name": "stderr",
     "output_type": "stream",
     "text": [
      "[2023-12-06 08:56:45,449][WARNING]: Skipped checksum for file with hash: 920ff840-745f-3d41-c338-4ea07c5bc707, and path: /stelmo/nwb/analysis/Winnie20220715/Winnie20220715_CW80SAIO6A.nwb\n",
      "WARNING:datajoint:Skipped checksum for file with hash: 920ff840-745f-3d41-c338-4ea07c5bc707, and path: /stelmo/nwb/analysis/Winnie20220715/Winnie20220715_CW80SAIO6A.nwb\n"
     ]
    },
    {
     "name": "stdout",
     "output_type": "stream",
     "text": [
      "Slow Gamma 25-55 Hz Winnie20220715_.nwb pos 13 valid times 37052deb-7a8a-06d0-a379-618e5881078d\n"
     ]
    },
    {
     "name": "stderr",
     "output_type": "stream",
     "text": [
      "[2023-12-06 08:56:46,847][WARNING]: Skipped checksum for file with hash: 920ff840-745f-3d41-c338-4ea07c5bc707, and path: /stelmo/nwb/analysis/Winnie20220715/Winnie20220715_CW80SAIO6A.nwb\n",
      "WARNING:datajoint:Skipped checksum for file with hash: 920ff840-745f-3d41-c338-4ea07c5bc707, and path: /stelmo/nwb/analysis/Winnie20220715/Winnie20220715_CW80SAIO6A.nwb\n"
     ]
    },
    {
     "name": "stdout",
     "output_type": "stream",
     "text": [
      "Fast Gamma 65-100 Hz Winnie20220715_.nwb pos 13 valid times 37052deb-7a8a-06d0-a379-618e5881078d\n"
     ]
    },
    {
     "name": "stderr",
     "output_type": "stream",
     "text": [
      "[2023-12-06 08:56:47,856][WARNING]: Skipped checksum for file with hash: f6e9255c-d77e-9e3e-55eb-0b95907093d0, and path: /stelmo/nwb/analysis/Winnie20220715/Winnie20220715_TPT72LXA5R.nwb\n",
      "WARNING:datajoint:Skipped checksum for file with hash: f6e9255c-d77e-9e3e-55eb-0b95907093d0, and path: /stelmo/nwb/analysis/Winnie20220715/Winnie20220715_TPT72LXA5R.nwb\n"
     ]
    },
    {
     "name": "stdout",
     "output_type": "stream",
     "text": [
      "Slow Gamma 25-55 Hz Winnie20220715_.nwb pos 14 valid times 544cafc2-8ced-e2f6-34a6-a6d752852d85\n"
     ]
    },
    {
     "name": "stderr",
     "output_type": "stream",
     "text": [
      "[2023-12-06 08:56:49,380][WARNING]: Skipped checksum for file with hash: f6e9255c-d77e-9e3e-55eb-0b95907093d0, and path: /stelmo/nwb/analysis/Winnie20220715/Winnie20220715_TPT72LXA5R.nwb\n",
      "WARNING:datajoint:Skipped checksum for file with hash: f6e9255c-d77e-9e3e-55eb-0b95907093d0, and path: /stelmo/nwb/analysis/Winnie20220715/Winnie20220715_TPT72LXA5R.nwb\n"
     ]
    },
    {
     "name": "stdout",
     "output_type": "stream",
     "text": [
      "Fast Gamma 65-100 Hz Winnie20220715_.nwb pos 14 valid times 544cafc2-8ced-e2f6-34a6-a6d752852d85\n"
     ]
    },
    {
     "name": "stderr",
     "output_type": "stream",
     "text": [
      "[2023-12-06 08:56:50,382][WARNING]: Skipped checksum for file with hash: 8f5e6db3-1d2c-5f01-58ce-4a22013ec3fc, and path: /stelmo/nwb/analysis/Winnie20220715/Winnie20220715_4LAVA3D9EY.nwb\n",
      "WARNING:datajoint:Skipped checksum for file with hash: 8f5e6db3-1d2c-5f01-58ce-4a22013ec3fc, and path: /stelmo/nwb/analysis/Winnie20220715/Winnie20220715_4LAVA3D9EY.nwb\n"
     ]
    },
    {
     "name": "stdout",
     "output_type": "stream",
     "text": [
      "Slow Gamma 25-55 Hz Winnie20220715_.nwb pos 2 valid times 240d1cbe-5509-1865-b52e-f97558705501\n"
     ]
    },
    {
     "name": "stderr",
     "output_type": "stream",
     "text": [
      "[2023-12-06 08:56:51,823][WARNING]: Skipped checksum for file with hash: 8f5e6db3-1d2c-5f01-58ce-4a22013ec3fc, and path: /stelmo/nwb/analysis/Winnie20220715/Winnie20220715_4LAVA3D9EY.nwb\n",
      "WARNING:datajoint:Skipped checksum for file with hash: 8f5e6db3-1d2c-5f01-58ce-4a22013ec3fc, and path: /stelmo/nwb/analysis/Winnie20220715/Winnie20220715_4LAVA3D9EY.nwb\n"
     ]
    },
    {
     "name": "stdout",
     "output_type": "stream",
     "text": [
      "Fast Gamma 65-100 Hz Winnie20220715_.nwb pos 2 valid times 240d1cbe-5509-1865-b52e-f97558705501\n"
     ]
    },
    {
     "name": "stderr",
     "output_type": "stream",
     "text": [
      "[2023-12-06 08:56:53,452][WARNING]: Skipped checksum for file with hash: 5c66b90e-62c7-d43d-7139-bede1ae3c4cc, and path: /stelmo/nwb/analysis/Winnie20220715/Winnie20220715_8MNFM73NPE.nwb\n",
      "WARNING:datajoint:Skipped checksum for file with hash: 5c66b90e-62c7-d43d-7139-bede1ae3c4cc, and path: /stelmo/nwb/analysis/Winnie20220715/Winnie20220715_8MNFM73NPE.nwb\n"
     ]
    },
    {
     "name": "stdout",
     "output_type": "stream",
     "text": [
      "Slow Gamma 25-55 Hz Winnie20220715_.nwb pos 3 valid times 657fe511-52b6-baf9-4f17-c86ebb8bc574\n"
     ]
    },
    {
     "name": "stderr",
     "output_type": "stream",
     "text": [
      "[2023-12-06 08:56:54,724][WARNING]: Skipped checksum for file with hash: 5c66b90e-62c7-d43d-7139-bede1ae3c4cc, and path: /stelmo/nwb/analysis/Winnie20220715/Winnie20220715_8MNFM73NPE.nwb\n",
      "WARNING:datajoint:Skipped checksum for file with hash: 5c66b90e-62c7-d43d-7139-bede1ae3c4cc, and path: /stelmo/nwb/analysis/Winnie20220715/Winnie20220715_8MNFM73NPE.nwb\n"
     ]
    },
    {
     "name": "stdout",
     "output_type": "stream",
     "text": [
      "Fast Gamma 65-100 Hz Winnie20220715_.nwb pos 3 valid times 657fe511-52b6-baf9-4f17-c86ebb8bc574\n"
     ]
    },
    {
     "name": "stderr",
     "output_type": "stream",
     "text": [
      "[2023-12-06 08:56:55,659][WARNING]: Skipped checksum for file with hash: ee6bf119-2cf7-aa29-d70f-32054a061ca3, and path: /stelmo/nwb/analysis/Winnie20220715/Winnie20220715_6RDUHTPV03.nwb\n",
      "WARNING:datajoint:Skipped checksum for file with hash: ee6bf119-2cf7-aa29-d70f-32054a061ca3, and path: /stelmo/nwb/analysis/Winnie20220715/Winnie20220715_6RDUHTPV03.nwb\n"
     ]
    },
    {
     "name": "stdout",
     "output_type": "stream",
     "text": [
      "Slow Gamma 25-55 Hz Winnie20220715_.nwb pos 4 valid times 96f7244a-a902-61ea-8d18-498eee174639\n"
     ]
    },
    {
     "name": "stderr",
     "output_type": "stream",
     "text": [
      "[2023-12-06 08:56:57,147][WARNING]: Skipped checksum for file with hash: ee6bf119-2cf7-aa29-d70f-32054a061ca3, and path: /stelmo/nwb/analysis/Winnie20220715/Winnie20220715_6RDUHTPV03.nwb\n",
      "WARNING:datajoint:Skipped checksum for file with hash: ee6bf119-2cf7-aa29-d70f-32054a061ca3, and path: /stelmo/nwb/analysis/Winnie20220715/Winnie20220715_6RDUHTPV03.nwb\n"
     ]
    },
    {
     "name": "stdout",
     "output_type": "stream",
     "text": [
      "Fast Gamma 65-100 Hz Winnie20220715_.nwb pos 4 valid times 96f7244a-a902-61ea-8d18-498eee174639\n"
     ]
    },
    {
     "name": "stderr",
     "output_type": "stream",
     "text": [
      "[2023-12-06 08:56:58,049][WARNING]: Skipped checksum for file with hash: a0553082-8ebd-2820-7ea8-d751e9793f30, and path: /stelmo/nwb/analysis/Winnie20220715/Winnie20220715_SL147JHXLA.nwb\n",
      "WARNING:datajoint:Skipped checksum for file with hash: a0553082-8ebd-2820-7ea8-d751e9793f30, and path: /stelmo/nwb/analysis/Winnie20220715/Winnie20220715_SL147JHXLA.nwb\n"
     ]
    },
    {
     "name": "stdout",
     "output_type": "stream",
     "text": [
      "Slow Gamma 25-55 Hz Winnie20220715_.nwb pos 5 valid times 44bfc705-9adb-461c-dfd6-a0a41e9b535b\n"
     ]
    },
    {
     "name": "stderr",
     "output_type": "stream",
     "text": [
      "[2023-12-06 08:56:59,494][WARNING]: Skipped checksum for file with hash: a0553082-8ebd-2820-7ea8-d751e9793f30, and path: /stelmo/nwb/analysis/Winnie20220715/Winnie20220715_SL147JHXLA.nwb\n",
      "WARNING:datajoint:Skipped checksum for file with hash: a0553082-8ebd-2820-7ea8-d751e9793f30, and path: /stelmo/nwb/analysis/Winnie20220715/Winnie20220715_SL147JHXLA.nwb\n"
     ]
    },
    {
     "name": "stdout",
     "output_type": "stream",
     "text": [
      "Fast Gamma 65-100 Hz Winnie20220715_.nwb pos 5 valid times 44bfc705-9adb-461c-dfd6-a0a41e9b535b\n"
     ]
    },
    {
     "name": "stderr",
     "output_type": "stream",
     "text": [
      "[2023-12-06 08:57:00,424][WARNING]: Skipped checksum for file with hash: 9e8b4357-dad4-74b7-f8a6-4b22a316e7b7, and path: /stelmo/nwb/analysis/Winnie20220715/Winnie20220715_7OU685LBWD.nwb\n",
      "WARNING:datajoint:Skipped checksum for file with hash: 9e8b4357-dad4-74b7-f8a6-4b22a316e7b7, and path: /stelmo/nwb/analysis/Winnie20220715/Winnie20220715_7OU685LBWD.nwb\n"
     ]
    },
    {
     "name": "stdout",
     "output_type": "stream",
     "text": [
      "Slow Gamma 25-55 Hz Winnie20220715_.nwb pos 6 valid times 166c3391-b97c-fa1c-632a-6bf70e2765fd\n"
     ]
    },
    {
     "name": "stderr",
     "output_type": "stream",
     "text": [
      "[2023-12-06 08:57:01,761][WARNING]: Skipped checksum for file with hash: 9e8b4357-dad4-74b7-f8a6-4b22a316e7b7, and path: /stelmo/nwb/analysis/Winnie20220715/Winnie20220715_7OU685LBWD.nwb\n",
      "WARNING:datajoint:Skipped checksum for file with hash: 9e8b4357-dad4-74b7-f8a6-4b22a316e7b7, and path: /stelmo/nwb/analysis/Winnie20220715/Winnie20220715_7OU685LBWD.nwb\n"
     ]
    },
    {
     "name": "stdout",
     "output_type": "stream",
     "text": [
      "Fast Gamma 65-100 Hz Winnie20220715_.nwb pos 6 valid times 166c3391-b97c-fa1c-632a-6bf70e2765fd\n"
     ]
    },
    {
     "name": "stderr",
     "output_type": "stream",
     "text": [
      "[2023-12-06 08:57:02,670][WARNING]: Skipped checksum for file with hash: 1c60e2cf-56f2-90b5-2a48-342cd4977acc, and path: /stelmo/nwb/analysis/Winnie20220715/Winnie20220715_QRYUPGK4NW.nwb\n",
      "WARNING:datajoint:Skipped checksum for file with hash: 1c60e2cf-56f2-90b5-2a48-342cd4977acc, and path: /stelmo/nwb/analysis/Winnie20220715/Winnie20220715_QRYUPGK4NW.nwb\n"
     ]
    },
    {
     "name": "stdout",
     "output_type": "stream",
     "text": [
      "Slow Gamma 25-55 Hz Winnie20220715_.nwb pos 7 valid times 1408d54b-9874-9ed0-5c77-31863724d935\n"
     ]
    },
    {
     "name": "stderr",
     "output_type": "stream",
     "text": [
      "[2023-12-06 08:57:04,050][WARNING]: Skipped checksum for file with hash: 1c60e2cf-56f2-90b5-2a48-342cd4977acc, and path: /stelmo/nwb/analysis/Winnie20220715/Winnie20220715_QRYUPGK4NW.nwb\n",
      "WARNING:datajoint:Skipped checksum for file with hash: 1c60e2cf-56f2-90b5-2a48-342cd4977acc, and path: /stelmo/nwb/analysis/Winnie20220715/Winnie20220715_QRYUPGK4NW.nwb\n"
     ]
    },
    {
     "name": "stdout",
     "output_type": "stream",
     "text": [
      "Fast Gamma 65-100 Hz Winnie20220715_.nwb pos 7 valid times 1408d54b-9874-9ed0-5c77-31863724d935\n"
     ]
    },
    {
     "name": "stderr",
     "output_type": "stream",
     "text": [
      "[2023-12-06 08:57:04,996][WARNING]: Skipped checksum for file with hash: 50297c06-2ef2-48a7-71ac-6ef28c10d59e, and path: /stelmo/nwb/analysis/Winnie20220715/Winnie20220715_NE6EUYY8P9.nwb\n",
      "WARNING:datajoint:Skipped checksum for file with hash: 50297c06-2ef2-48a7-71ac-6ef28c10d59e, and path: /stelmo/nwb/analysis/Winnie20220715/Winnie20220715_NE6EUYY8P9.nwb\n"
     ]
    },
    {
     "name": "stdout",
     "output_type": "stream",
     "text": [
      "Slow Gamma 25-55 Hz Winnie20220715_.nwb pos 8 valid times c5dd492b-8c8a-04af-3805-f5622019a2df\n"
     ]
    },
    {
     "name": "stderr",
     "output_type": "stream",
     "text": [
      "[2023-12-06 08:57:06,358][WARNING]: Skipped checksum for file with hash: 50297c06-2ef2-48a7-71ac-6ef28c10d59e, and path: /stelmo/nwb/analysis/Winnie20220715/Winnie20220715_NE6EUYY8P9.nwb\n",
      "WARNING:datajoint:Skipped checksum for file with hash: 50297c06-2ef2-48a7-71ac-6ef28c10d59e, and path: /stelmo/nwb/analysis/Winnie20220715/Winnie20220715_NE6EUYY8P9.nwb\n"
     ]
    },
    {
     "name": "stdout",
     "output_type": "stream",
     "text": [
      "Fast Gamma 65-100 Hz Winnie20220715_.nwb pos 8 valid times c5dd492b-8c8a-04af-3805-f5622019a2df\n"
     ]
    },
    {
     "name": "stderr",
     "output_type": "stream",
     "text": [
      "[2023-12-06 08:57:07,254][WARNING]: Skipped checksum for file with hash: 92a36456-bc79-0b7c-1699-7b62fdf48597, and path: /stelmo/nwb/analysis/Winnie20220715/Winnie20220715_42S8T05OH2.nwb\n",
      "WARNING:datajoint:Skipped checksum for file with hash: 92a36456-bc79-0b7c-1699-7b62fdf48597, and path: /stelmo/nwb/analysis/Winnie20220715/Winnie20220715_42S8T05OH2.nwb\n"
     ]
    },
    {
     "name": "stdout",
     "output_type": "stream",
     "text": [
      "Slow Gamma 25-55 Hz Winnie20220715_.nwb pos 9 valid times 6c6583f4-2652-eaf7-9791-d90e218aabc5\n"
     ]
    },
    {
     "name": "stderr",
     "output_type": "stream",
     "text": [
      "[2023-12-06 08:57:08,660][WARNING]: Skipped checksum for file with hash: 92a36456-bc79-0b7c-1699-7b62fdf48597, and path: /stelmo/nwb/analysis/Winnie20220715/Winnie20220715_42S8T05OH2.nwb\n",
      "WARNING:datajoint:Skipped checksum for file with hash: 92a36456-bc79-0b7c-1699-7b62fdf48597, and path: /stelmo/nwb/analysis/Winnie20220715/Winnie20220715_42S8T05OH2.nwb\n"
     ]
    },
    {
     "name": "stdout",
     "output_type": "stream",
     "text": [
      "Fast Gamma 65-100 Hz Winnie20220715_.nwb pos 9 valid times 6c6583f4-2652-eaf7-9791-d90e218aabc5\n"
     ]
    },
    {
     "name": "stderr",
     "output_type": "stream",
     "text": [
      "[2023-12-06 08:57:09,598][WARNING]: Skipped checksum for file with hash: ca0d66c8-01c5-9c3c-1165-92b279ff5ddf, and path: /stelmo/nwb/analysis/Winnie20220716/Winnie20220716_FFW11LDVOC.nwb\n",
      "WARNING:datajoint:Skipped checksum for file with hash: ca0d66c8-01c5-9c3c-1165-92b279ff5ddf, and path: /stelmo/nwb/analysis/Winnie20220716/Winnie20220716_FFW11LDVOC.nwb\n"
     ]
    },
    {
     "name": "stdout",
     "output_type": "stream",
     "text": [
      "Slow Gamma 25-55 Hz Winnie20220716_.nwb pos 0 valid times 8979456b-cc53-d461-686a-afc36fd30953\n"
     ]
    },
    {
     "name": "stderr",
     "output_type": "stream",
     "text": [
      "[2023-12-06 08:57:11,008][WARNING]: Skipped checksum for file with hash: ca0d66c8-01c5-9c3c-1165-92b279ff5ddf, and path: /stelmo/nwb/analysis/Winnie20220716/Winnie20220716_FFW11LDVOC.nwb\n",
      "WARNING:datajoint:Skipped checksum for file with hash: ca0d66c8-01c5-9c3c-1165-92b279ff5ddf, and path: /stelmo/nwb/analysis/Winnie20220716/Winnie20220716_FFW11LDVOC.nwb\n"
     ]
    },
    {
     "name": "stdout",
     "output_type": "stream",
     "text": [
      "Fast Gamma 65-100 Hz Winnie20220716_.nwb pos 0 valid times 8979456b-cc53-d461-686a-afc36fd30953\n"
     ]
    },
    {
     "name": "stderr",
     "output_type": "stream",
     "text": [
      "[2023-12-06 08:57:11,983][WARNING]: Skipped checksum for file with hash: 98c7d14d-3bab-4e2f-194d-dee5ca6ac2c6, and path: /stelmo/nwb/analysis/Winnie20220716/Winnie20220716_8MKESVD6PU.nwb\n",
      "WARNING:datajoint:Skipped checksum for file with hash: 98c7d14d-3bab-4e2f-194d-dee5ca6ac2c6, and path: /stelmo/nwb/analysis/Winnie20220716/Winnie20220716_8MKESVD6PU.nwb\n"
     ]
    },
    {
     "name": "stdout",
     "output_type": "stream",
     "text": [
      "Slow Gamma 25-55 Hz Winnie20220716_.nwb pos 1 valid times 4a982741-2f07-3359-75dc-f87e526c4b9a\n"
     ]
    },
    {
     "name": "stderr",
     "output_type": "stream",
     "text": [
      "[2023-12-06 08:57:13,756][WARNING]: Skipped checksum for file with hash: 98c7d14d-3bab-4e2f-194d-dee5ca6ac2c6, and path: /stelmo/nwb/analysis/Winnie20220716/Winnie20220716_8MKESVD6PU.nwb\n",
      "WARNING:datajoint:Skipped checksum for file with hash: 98c7d14d-3bab-4e2f-194d-dee5ca6ac2c6, and path: /stelmo/nwb/analysis/Winnie20220716/Winnie20220716_8MKESVD6PU.nwb\n"
     ]
    },
    {
     "name": "stdout",
     "output_type": "stream",
     "text": [
      "Fast Gamma 65-100 Hz Winnie20220716_.nwb pos 1 valid times 4a982741-2f07-3359-75dc-f87e526c4b9a\n"
     ]
    },
    {
     "name": "stderr",
     "output_type": "stream",
     "text": [
      "[2023-12-06 08:57:14,730][WARNING]: Skipped checksum for file with hash: 98903e17-4708-605f-c7a5-fd52d9cec177, and path: /stelmo/nwb/analysis/Winnie20220716/Winnie20220716_G1G4SXWLQ1.nwb\n",
      "WARNING:datajoint:Skipped checksum for file with hash: 98903e17-4708-605f-c7a5-fd52d9cec177, and path: /stelmo/nwb/analysis/Winnie20220716/Winnie20220716_G1G4SXWLQ1.nwb\n"
     ]
    },
    {
     "name": "stdout",
     "output_type": "stream",
     "text": [
      "Slow Gamma 25-55 Hz Winnie20220716_.nwb pos 10 valid times 27e53c3f-d020-d189-f8d6-c68e6966f15b\n"
     ]
    },
    {
     "name": "stderr",
     "output_type": "stream",
     "text": [
      "[2023-12-06 08:57:16,142][WARNING]: Skipped checksum for file with hash: 98903e17-4708-605f-c7a5-fd52d9cec177, and path: /stelmo/nwb/analysis/Winnie20220716/Winnie20220716_G1G4SXWLQ1.nwb\n",
      "WARNING:datajoint:Skipped checksum for file with hash: 98903e17-4708-605f-c7a5-fd52d9cec177, and path: /stelmo/nwb/analysis/Winnie20220716/Winnie20220716_G1G4SXWLQ1.nwb\n"
     ]
    },
    {
     "name": "stdout",
     "output_type": "stream",
     "text": [
      "Fast Gamma 65-100 Hz Winnie20220716_.nwb pos 10 valid times 27e53c3f-d020-d189-f8d6-c68e6966f15b\n"
     ]
    },
    {
     "name": "stderr",
     "output_type": "stream",
     "text": [
      "[2023-12-06 08:57:17,125][WARNING]: Skipped checksum for file with hash: 8a296d4a-5b69-1ca8-3838-31c78b4b6b63, and path: /stelmo/nwb/analysis/Winnie20220716/Winnie20220716_0EEX6IAPBV.nwb\n",
      "WARNING:datajoint:Skipped checksum for file with hash: 8a296d4a-5b69-1ca8-3838-31c78b4b6b63, and path: /stelmo/nwb/analysis/Winnie20220716/Winnie20220716_0EEX6IAPBV.nwb\n"
     ]
    },
    {
     "name": "stdout",
     "output_type": "stream",
     "text": [
      "Slow Gamma 25-55 Hz Winnie20220716_.nwb pos 11 valid times 62c11cc7-95aa-97f3-c36c-9c074a29e91d\n"
     ]
    },
    {
     "name": "stderr",
     "output_type": "stream",
     "text": [
      "[2023-12-06 08:57:18,602][WARNING]: Skipped checksum for file with hash: 8a296d4a-5b69-1ca8-3838-31c78b4b6b63, and path: /stelmo/nwb/analysis/Winnie20220716/Winnie20220716_0EEX6IAPBV.nwb\n",
      "WARNING:datajoint:Skipped checksum for file with hash: 8a296d4a-5b69-1ca8-3838-31c78b4b6b63, and path: /stelmo/nwb/analysis/Winnie20220716/Winnie20220716_0EEX6IAPBV.nwb\n"
     ]
    },
    {
     "name": "stdout",
     "output_type": "stream",
     "text": [
      "Fast Gamma 65-100 Hz Winnie20220716_.nwb pos 11 valid times 62c11cc7-95aa-97f3-c36c-9c074a29e91d\n"
     ]
    },
    {
     "name": "stderr",
     "output_type": "stream",
     "text": [
      "[2023-12-06 08:57:19,573][WARNING]: Skipped checksum for file with hash: 3d259409-9a51-511e-e761-3ed45bd69866, and path: /stelmo/nwb/analysis/Winnie20220716/Winnie20220716_R46DY9GWI1.nwb\n",
      "WARNING:datajoint:Skipped checksum for file with hash: 3d259409-9a51-511e-e761-3ed45bd69866, and path: /stelmo/nwb/analysis/Winnie20220716/Winnie20220716_R46DY9GWI1.nwb\n"
     ]
    },
    {
     "name": "stdout",
     "output_type": "stream",
     "text": [
      "Slow Gamma 25-55 Hz Winnie20220716_.nwb pos 12 valid times 7b5560bf-5545-981c-6676-f058bfd35045\n"
     ]
    },
    {
     "name": "stderr",
     "output_type": "stream",
     "text": [
      "[2023-12-06 08:57:21,037][WARNING]: Skipped checksum for file with hash: 3d259409-9a51-511e-e761-3ed45bd69866, and path: /stelmo/nwb/analysis/Winnie20220716/Winnie20220716_R46DY9GWI1.nwb\n",
      "WARNING:datajoint:Skipped checksum for file with hash: 3d259409-9a51-511e-e761-3ed45bd69866, and path: /stelmo/nwb/analysis/Winnie20220716/Winnie20220716_R46DY9GWI1.nwb\n"
     ]
    },
    {
     "name": "stdout",
     "output_type": "stream",
     "text": [
      "Fast Gamma 65-100 Hz Winnie20220716_.nwb pos 12 valid times 7b5560bf-5545-981c-6676-f058bfd35045\n"
     ]
    },
    {
     "name": "stderr",
     "output_type": "stream",
     "text": [
      "[2023-12-06 08:57:22,024][WARNING]: Skipped checksum for file with hash: 3ffe0282-21ca-4d2d-7697-5b00e20bc8f4, and path: /stelmo/nwb/analysis/Winnie20220716/Winnie20220716_AWAPZ7NOYN.nwb\n",
      "WARNING:datajoint:Skipped checksum for file with hash: 3ffe0282-21ca-4d2d-7697-5b00e20bc8f4, and path: /stelmo/nwb/analysis/Winnie20220716/Winnie20220716_AWAPZ7NOYN.nwb\n"
     ]
    },
    {
     "name": "stdout",
     "output_type": "stream",
     "text": [
      "Slow Gamma 25-55 Hz Winnie20220716_.nwb pos 13 valid times 596a9d3e-493e-57a5-c4ee-5e25fa04705c\n"
     ]
    },
    {
     "name": "stderr",
     "output_type": "stream",
     "text": [
      "[2023-12-06 08:57:23,531][WARNING]: Skipped checksum for file with hash: 3ffe0282-21ca-4d2d-7697-5b00e20bc8f4, and path: /stelmo/nwb/analysis/Winnie20220716/Winnie20220716_AWAPZ7NOYN.nwb\n",
      "WARNING:datajoint:Skipped checksum for file with hash: 3ffe0282-21ca-4d2d-7697-5b00e20bc8f4, and path: /stelmo/nwb/analysis/Winnie20220716/Winnie20220716_AWAPZ7NOYN.nwb\n"
     ]
    },
    {
     "name": "stdout",
     "output_type": "stream",
     "text": [
      "Fast Gamma 65-100 Hz Winnie20220716_.nwb pos 13 valid times 596a9d3e-493e-57a5-c4ee-5e25fa04705c\n"
     ]
    },
    {
     "name": "stderr",
     "output_type": "stream",
     "text": [
      "[2023-12-06 08:57:24,545][WARNING]: Skipped checksum for file with hash: d9dda764-6aaf-b3e9-686b-488581ebce2e, and path: /stelmo/nwb/analysis/Winnie20220716/Winnie20220716_3RF95FRLBZ.nwb\n",
      "WARNING:datajoint:Skipped checksum for file with hash: d9dda764-6aaf-b3e9-686b-488581ebce2e, and path: /stelmo/nwb/analysis/Winnie20220716/Winnie20220716_3RF95FRLBZ.nwb\n"
     ]
    },
    {
     "name": "stdout",
     "output_type": "stream",
     "text": [
      "Slow Gamma 25-55 Hz Winnie20220716_.nwb pos 14 valid times 7fa8981b-6866-9796-adcd-0fbeb819872c\n"
     ]
    },
    {
     "name": "stderr",
     "output_type": "stream",
     "text": [
      "[2023-12-06 08:57:26,036][WARNING]: Skipped checksum for file with hash: d9dda764-6aaf-b3e9-686b-488581ebce2e, and path: /stelmo/nwb/analysis/Winnie20220716/Winnie20220716_3RF95FRLBZ.nwb\n",
      "WARNING:datajoint:Skipped checksum for file with hash: d9dda764-6aaf-b3e9-686b-488581ebce2e, and path: /stelmo/nwb/analysis/Winnie20220716/Winnie20220716_3RF95FRLBZ.nwb\n"
     ]
    },
    {
     "name": "stdout",
     "output_type": "stream",
     "text": [
      "Fast Gamma 65-100 Hz Winnie20220716_.nwb pos 14 valid times 7fa8981b-6866-9796-adcd-0fbeb819872c\n"
     ]
    },
    {
     "name": "stderr",
     "output_type": "stream",
     "text": [
      "[2023-12-06 08:57:27,016][WARNING]: Skipped checksum for file with hash: 34910d09-597f-2e08-11f6-151653574469, and path: /stelmo/nwb/analysis/Winnie20220716/Winnie20220716_BSIPFIR85H.nwb\n",
      "WARNING:datajoint:Skipped checksum for file with hash: 34910d09-597f-2e08-11f6-151653574469, and path: /stelmo/nwb/analysis/Winnie20220716/Winnie20220716_BSIPFIR85H.nwb\n"
     ]
    },
    {
     "name": "stdout",
     "output_type": "stream",
     "text": [
      "Slow Gamma 25-55 Hz Winnie20220716_.nwb pos 15 valid times 984b3031-e06c-887e-433e-64833887673b\n"
     ]
    },
    {
     "name": "stderr",
     "output_type": "stream",
     "text": [
      "[2023-12-06 08:57:28,463][WARNING]: Skipped checksum for file with hash: 34910d09-597f-2e08-11f6-151653574469, and path: /stelmo/nwb/analysis/Winnie20220716/Winnie20220716_BSIPFIR85H.nwb\n",
      "WARNING:datajoint:Skipped checksum for file with hash: 34910d09-597f-2e08-11f6-151653574469, and path: /stelmo/nwb/analysis/Winnie20220716/Winnie20220716_BSIPFIR85H.nwb\n"
     ]
    },
    {
     "name": "stdout",
     "output_type": "stream",
     "text": [
      "Fast Gamma 65-100 Hz Winnie20220716_.nwb pos 15 valid times 984b3031-e06c-887e-433e-64833887673b\n"
     ]
    },
    {
     "name": "stderr",
     "output_type": "stream",
     "text": [
      "[2023-12-06 08:57:29,490][WARNING]: Skipped checksum for file with hash: 3dcc4465-3178-2b38-cba0-8c1b3c90fc83, and path: /stelmo/nwb/analysis/Winnie20220716/Winnie20220716_HV8HKTTDY6.nwb\n",
      "WARNING:datajoint:Skipped checksum for file with hash: 3dcc4465-3178-2b38-cba0-8c1b3c90fc83, and path: /stelmo/nwb/analysis/Winnie20220716/Winnie20220716_HV8HKTTDY6.nwb\n"
     ]
    },
    {
     "name": "stdout",
     "output_type": "stream",
     "text": [
      "Slow Gamma 25-55 Hz Winnie20220716_.nwb pos 16 valid times 9ba3fbdc-f1dc-4211-ec1e-6e0dfd362dfb\n"
     ]
    },
    {
     "name": "stderr",
     "output_type": "stream",
     "text": [
      "[2023-12-06 08:57:30,940][WARNING]: Skipped checksum for file with hash: 3dcc4465-3178-2b38-cba0-8c1b3c90fc83, and path: /stelmo/nwb/analysis/Winnie20220716/Winnie20220716_HV8HKTTDY6.nwb\n",
      "WARNING:datajoint:Skipped checksum for file with hash: 3dcc4465-3178-2b38-cba0-8c1b3c90fc83, and path: /stelmo/nwb/analysis/Winnie20220716/Winnie20220716_HV8HKTTDY6.nwb\n"
     ]
    },
    {
     "name": "stdout",
     "output_type": "stream",
     "text": [
      "Fast Gamma 65-100 Hz Winnie20220716_.nwb pos 16 valid times 9ba3fbdc-f1dc-4211-ec1e-6e0dfd362dfb\n"
     ]
    },
    {
     "name": "stderr",
     "output_type": "stream",
     "text": [
      "[2023-12-06 08:57:31,949][WARNING]: Skipped checksum for file with hash: 7f58650e-4500-4c41-50a9-04a44a67377e, and path: /stelmo/nwb/analysis/Winnie20220716/Winnie20220716_T1MR76RX5N.nwb\n",
      "WARNING:datajoint:Skipped checksum for file with hash: 7f58650e-4500-4c41-50a9-04a44a67377e, and path: /stelmo/nwb/analysis/Winnie20220716/Winnie20220716_T1MR76RX5N.nwb\n"
     ]
    },
    {
     "name": "stdout",
     "output_type": "stream",
     "text": [
      "Slow Gamma 25-55 Hz Winnie20220716_.nwb pos 17 valid times 894873e0-c150-ffb8-42cb-fb15103e491d\n"
     ]
    },
    {
     "name": "stderr",
     "output_type": "stream",
     "text": [
      "[2023-12-06 08:57:33,422][WARNING]: Skipped checksum for file with hash: 7f58650e-4500-4c41-50a9-04a44a67377e, and path: /stelmo/nwb/analysis/Winnie20220716/Winnie20220716_T1MR76RX5N.nwb\n",
      "WARNING:datajoint:Skipped checksum for file with hash: 7f58650e-4500-4c41-50a9-04a44a67377e, and path: /stelmo/nwb/analysis/Winnie20220716/Winnie20220716_T1MR76RX5N.nwb\n"
     ]
    },
    {
     "name": "stdout",
     "output_type": "stream",
     "text": [
      "Fast Gamma 65-100 Hz Winnie20220716_.nwb pos 17 valid times 894873e0-c150-ffb8-42cb-fb15103e491d\n"
     ]
    },
    {
     "name": "stderr",
     "output_type": "stream",
     "text": [
      "[2023-12-06 08:57:34,420][WARNING]: Skipped checksum for file with hash: 5ba221d5-b1be-04af-d764-c08abc8014e3, and path: /stelmo/nwb/analysis/Winnie20220716/Winnie20220716_YP491MVIPU.nwb\n",
      "WARNING:datajoint:Skipped checksum for file with hash: 5ba221d5-b1be-04af-d764-c08abc8014e3, and path: /stelmo/nwb/analysis/Winnie20220716/Winnie20220716_YP491MVIPU.nwb\n"
     ]
    },
    {
     "name": "stdout",
     "output_type": "stream",
     "text": [
      "Slow Gamma 25-55 Hz Winnie20220716_.nwb pos 18 valid times b979cb6a-a526-4bc5-d760-8da1fb39c6cc\n"
     ]
    },
    {
     "name": "stderr",
     "output_type": "stream",
     "text": [
      "[2023-12-06 08:57:35,948][WARNING]: Skipped checksum for file with hash: 5ba221d5-b1be-04af-d764-c08abc8014e3, and path: /stelmo/nwb/analysis/Winnie20220716/Winnie20220716_YP491MVIPU.nwb\n",
      "WARNING:datajoint:Skipped checksum for file with hash: 5ba221d5-b1be-04af-d764-c08abc8014e3, and path: /stelmo/nwb/analysis/Winnie20220716/Winnie20220716_YP491MVIPU.nwb\n"
     ]
    },
    {
     "name": "stdout",
     "output_type": "stream",
     "text": [
      "Fast Gamma 65-100 Hz Winnie20220716_.nwb pos 18 valid times b979cb6a-a526-4bc5-d760-8da1fb39c6cc\n"
     ]
    },
    {
     "name": "stderr",
     "output_type": "stream",
     "text": [
      "[2023-12-06 08:57:36,962][WARNING]: Skipped checksum for file with hash: 93a86c2b-9053-c94b-f97c-7676bf4350d8, and path: /stelmo/nwb/analysis/Winnie20220716/Winnie20220716_NCNP7OPK1Z.nwb\n",
      "WARNING:datajoint:Skipped checksum for file with hash: 93a86c2b-9053-c94b-f97c-7676bf4350d8, and path: /stelmo/nwb/analysis/Winnie20220716/Winnie20220716_NCNP7OPK1Z.nwb\n"
     ]
    },
    {
     "name": "stdout",
     "output_type": "stream",
     "text": [
      "Slow Gamma 25-55 Hz Winnie20220716_.nwb pos 2 valid times 78d8d28c-e074-59f2-e810-e488c66e9ec0\n"
     ]
    },
    {
     "name": "stderr",
     "output_type": "stream",
     "text": [
      "[2023-12-06 08:57:38,464][WARNING]: Skipped checksum for file with hash: 93a86c2b-9053-c94b-f97c-7676bf4350d8, and path: /stelmo/nwb/analysis/Winnie20220716/Winnie20220716_NCNP7OPK1Z.nwb\n",
      "WARNING:datajoint:Skipped checksum for file with hash: 93a86c2b-9053-c94b-f97c-7676bf4350d8, and path: /stelmo/nwb/analysis/Winnie20220716/Winnie20220716_NCNP7OPK1Z.nwb\n"
     ]
    },
    {
     "name": "stdout",
     "output_type": "stream",
     "text": [
      "Fast Gamma 65-100 Hz Winnie20220716_.nwb pos 2 valid times 78d8d28c-e074-59f2-e810-e488c66e9ec0\n"
     ]
    },
    {
     "name": "stderr",
     "output_type": "stream",
     "text": [
      "[2023-12-06 08:57:39,478][WARNING]: Skipped checksum for file with hash: 3718c6ef-7bfd-ca32-3f24-b73b8d17b3ad, and path: /stelmo/nwb/analysis/Winnie20220716/Winnie20220716_EFOUSPSAEK.nwb\n",
      "WARNING:datajoint:Skipped checksum for file with hash: 3718c6ef-7bfd-ca32-3f24-b73b8d17b3ad, and path: /stelmo/nwb/analysis/Winnie20220716/Winnie20220716_EFOUSPSAEK.nwb\n"
     ]
    },
    {
     "name": "stdout",
     "output_type": "stream",
     "text": [
      "Slow Gamma 25-55 Hz Winnie20220716_.nwb pos 3 valid times 3af77dd3-e46b-e741-68f3-84d7cc1b75bf\n"
     ]
    },
    {
     "name": "stderr",
     "output_type": "stream",
     "text": [
      "[2023-12-06 08:57:40,920][WARNING]: Skipped checksum for file with hash: 3718c6ef-7bfd-ca32-3f24-b73b8d17b3ad, and path: /stelmo/nwb/analysis/Winnie20220716/Winnie20220716_EFOUSPSAEK.nwb\n",
      "WARNING:datajoint:Skipped checksum for file with hash: 3718c6ef-7bfd-ca32-3f24-b73b8d17b3ad, and path: /stelmo/nwb/analysis/Winnie20220716/Winnie20220716_EFOUSPSAEK.nwb\n"
     ]
    },
    {
     "name": "stdout",
     "output_type": "stream",
     "text": [
      "Fast Gamma 65-100 Hz Winnie20220716_.nwb pos 3 valid times 3af77dd3-e46b-e741-68f3-84d7cc1b75bf\n"
     ]
    },
    {
     "name": "stderr",
     "output_type": "stream",
     "text": [
      "[2023-12-06 08:57:41,934][WARNING]: Skipped checksum for file with hash: fd548d7b-4d0a-9331-7497-568fa4684da8, and path: /stelmo/nwb/analysis/Winnie20220716/Winnie20220716_E7WQAKTPJ1.nwb\n",
      "WARNING:datajoint:Skipped checksum for file with hash: fd548d7b-4d0a-9331-7497-568fa4684da8, and path: /stelmo/nwb/analysis/Winnie20220716/Winnie20220716_E7WQAKTPJ1.nwb\n"
     ]
    },
    {
     "name": "stdout",
     "output_type": "stream",
     "text": [
      "Slow Gamma 25-55 Hz Winnie20220716_.nwb pos 4 valid times 830d3d12-c80a-16e9-6c89-0841f3b3551b\n"
     ]
    },
    {
     "name": "stderr",
     "output_type": "stream",
     "text": [
      "[2023-12-06 08:57:43,413][WARNING]: Skipped checksum for file with hash: fd548d7b-4d0a-9331-7497-568fa4684da8, and path: /stelmo/nwb/analysis/Winnie20220716/Winnie20220716_E7WQAKTPJ1.nwb\n",
      "WARNING:datajoint:Skipped checksum for file with hash: fd548d7b-4d0a-9331-7497-568fa4684da8, and path: /stelmo/nwb/analysis/Winnie20220716/Winnie20220716_E7WQAKTPJ1.nwb\n"
     ]
    },
    {
     "name": "stdout",
     "output_type": "stream",
     "text": [
      "Fast Gamma 65-100 Hz Winnie20220716_.nwb pos 4 valid times 830d3d12-c80a-16e9-6c89-0841f3b3551b\n"
     ]
    },
    {
     "name": "stderr",
     "output_type": "stream",
     "text": [
      "[2023-12-06 08:57:44,439][WARNING]: Skipped checksum for file with hash: 62c9f915-65fc-1af5-aa2b-366d6cf3730d, and path: /stelmo/nwb/analysis/Winnie20220716/Winnie20220716_TQ128JDYB5.nwb\n",
      "WARNING:datajoint:Skipped checksum for file with hash: 62c9f915-65fc-1af5-aa2b-366d6cf3730d, and path: /stelmo/nwb/analysis/Winnie20220716/Winnie20220716_TQ128JDYB5.nwb\n"
     ]
    },
    {
     "name": "stdout",
     "output_type": "stream",
     "text": [
      "Slow Gamma 25-55 Hz Winnie20220716_.nwb pos 5 valid times ab81e92f-97bd-b8b9-4f63-7968e73d64ee\n"
     ]
    },
    {
     "name": "stderr",
     "output_type": "stream",
     "text": [
      "[2023-12-06 08:57:45,914][WARNING]: Skipped checksum for file with hash: 62c9f915-65fc-1af5-aa2b-366d6cf3730d, and path: /stelmo/nwb/analysis/Winnie20220716/Winnie20220716_TQ128JDYB5.nwb\n",
      "WARNING:datajoint:Skipped checksum for file with hash: 62c9f915-65fc-1af5-aa2b-366d6cf3730d, and path: /stelmo/nwb/analysis/Winnie20220716/Winnie20220716_TQ128JDYB5.nwb\n"
     ]
    },
    {
     "name": "stdout",
     "output_type": "stream",
     "text": [
      "Fast Gamma 65-100 Hz Winnie20220716_.nwb pos 5 valid times ab81e92f-97bd-b8b9-4f63-7968e73d64ee\n"
     ]
    },
    {
     "name": "stderr",
     "output_type": "stream",
     "text": [
      "[2023-12-06 08:57:46,939][WARNING]: Skipped checksum for file with hash: 1da22d62-c7f4-7259-c2e9-2757ae2de20c, and path: /stelmo/nwb/analysis/Winnie20220716/Winnie20220716_O6WQWS35V6.nwb\n",
      "WARNING:datajoint:Skipped checksum for file with hash: 1da22d62-c7f4-7259-c2e9-2757ae2de20c, and path: /stelmo/nwb/analysis/Winnie20220716/Winnie20220716_O6WQWS35V6.nwb\n"
     ]
    },
    {
     "name": "stdout",
     "output_type": "stream",
     "text": [
      "Slow Gamma 25-55 Hz Winnie20220716_.nwb pos 6 valid times 8702d4c4-b5a5-73e7-2f50-d74a1d623c86\n"
     ]
    },
    {
     "name": "stderr",
     "output_type": "stream",
     "text": [
      "[2023-12-06 08:57:48,464][WARNING]: Skipped checksum for file with hash: 1da22d62-c7f4-7259-c2e9-2757ae2de20c, and path: /stelmo/nwb/analysis/Winnie20220716/Winnie20220716_O6WQWS35V6.nwb\n",
      "WARNING:datajoint:Skipped checksum for file with hash: 1da22d62-c7f4-7259-c2e9-2757ae2de20c, and path: /stelmo/nwb/analysis/Winnie20220716/Winnie20220716_O6WQWS35V6.nwb\n"
     ]
    },
    {
     "name": "stdout",
     "output_type": "stream",
     "text": [
      "Fast Gamma 65-100 Hz Winnie20220716_.nwb pos 6 valid times 8702d4c4-b5a5-73e7-2f50-d74a1d623c86\n"
     ]
    },
    {
     "name": "stderr",
     "output_type": "stream",
     "text": [
      "[2023-12-06 08:57:49,491][WARNING]: Skipped checksum for file with hash: b0f6622d-7c2a-11c2-5890-c056e150650a, and path: /stelmo/nwb/analysis/Winnie20220716/Winnie20220716_SLNKKUGG3H.nwb\n",
      "WARNING:datajoint:Skipped checksum for file with hash: b0f6622d-7c2a-11c2-5890-c056e150650a, and path: /stelmo/nwb/analysis/Winnie20220716/Winnie20220716_SLNKKUGG3H.nwb\n"
     ]
    },
    {
     "name": "stdout",
     "output_type": "stream",
     "text": [
      "Slow Gamma 25-55 Hz Winnie20220716_.nwb pos 7 valid times 101970fa-c6b2-2a08-7404-92494fafa4c1\n"
     ]
    },
    {
     "name": "stderr",
     "output_type": "stream",
     "text": [
      "[2023-12-06 08:57:50,917][WARNING]: Skipped checksum for file with hash: b0f6622d-7c2a-11c2-5890-c056e150650a, and path: /stelmo/nwb/analysis/Winnie20220716/Winnie20220716_SLNKKUGG3H.nwb\n",
      "WARNING:datajoint:Skipped checksum for file with hash: b0f6622d-7c2a-11c2-5890-c056e150650a, and path: /stelmo/nwb/analysis/Winnie20220716/Winnie20220716_SLNKKUGG3H.nwb\n"
     ]
    },
    {
     "name": "stdout",
     "output_type": "stream",
     "text": [
      "Fast Gamma 65-100 Hz Winnie20220716_.nwb pos 7 valid times 101970fa-c6b2-2a08-7404-92494fafa4c1\n"
     ]
    },
    {
     "name": "stderr",
     "output_type": "stream",
     "text": [
      "[2023-12-06 08:57:51,898][WARNING]: Skipped checksum for file with hash: 351d2bcc-f872-790d-781b-1c7f7870b913, and path: /stelmo/nwb/analysis/Winnie20220716/Winnie20220716_YTB95OIOGR.nwb\n",
      "WARNING:datajoint:Skipped checksum for file with hash: 351d2bcc-f872-790d-781b-1c7f7870b913, and path: /stelmo/nwb/analysis/Winnie20220716/Winnie20220716_YTB95OIOGR.nwb\n"
     ]
    },
    {
     "name": "stdout",
     "output_type": "stream",
     "text": [
      "Slow Gamma 25-55 Hz Winnie20220716_.nwb pos 8 valid times fa61edbe-47cd-0351-02b8-33268ceefade\n"
     ]
    },
    {
     "name": "stderr",
     "output_type": "stream",
     "text": [
      "[2023-12-06 08:57:53,491][WARNING]: Skipped checksum for file with hash: 351d2bcc-f872-790d-781b-1c7f7870b913, and path: /stelmo/nwb/analysis/Winnie20220716/Winnie20220716_YTB95OIOGR.nwb\n",
      "WARNING:datajoint:Skipped checksum for file with hash: 351d2bcc-f872-790d-781b-1c7f7870b913, and path: /stelmo/nwb/analysis/Winnie20220716/Winnie20220716_YTB95OIOGR.nwb\n"
     ]
    },
    {
     "name": "stdout",
     "output_type": "stream",
     "text": [
      "Fast Gamma 65-100 Hz Winnie20220716_.nwb pos 8 valid times fa61edbe-47cd-0351-02b8-33268ceefade\n"
     ]
    },
    {
     "name": "stderr",
     "output_type": "stream",
     "text": [
      "[2023-12-06 08:57:54,457][WARNING]: Skipped checksum for file with hash: 00e247b6-42bc-ce26-16f6-7be09005f1a1, and path: /stelmo/nwb/analysis/Winnie20220716/Winnie20220716_GD0ZDGTR5U.nwb\n",
      "WARNING:datajoint:Skipped checksum for file with hash: 00e247b6-42bc-ce26-16f6-7be09005f1a1, and path: /stelmo/nwb/analysis/Winnie20220716/Winnie20220716_GD0ZDGTR5U.nwb\n"
     ]
    },
    {
     "name": "stdout",
     "output_type": "stream",
     "text": [
      "Slow Gamma 25-55 Hz Winnie20220716_.nwb pos 9 valid times 3b78f953-16bb-3f12-78ea-2506f962ed70\n"
     ]
    },
    {
     "name": "stderr",
     "output_type": "stream",
     "text": [
      "[2023-12-06 08:57:55,876][WARNING]: Skipped checksum for file with hash: 00e247b6-42bc-ce26-16f6-7be09005f1a1, and path: /stelmo/nwb/analysis/Winnie20220716/Winnie20220716_GD0ZDGTR5U.nwb\n",
      "WARNING:datajoint:Skipped checksum for file with hash: 00e247b6-42bc-ce26-16f6-7be09005f1a1, and path: /stelmo/nwb/analysis/Winnie20220716/Winnie20220716_GD0ZDGTR5U.nwb\n"
     ]
    },
    {
     "name": "stdout",
     "output_type": "stream",
     "text": [
      "Fast Gamma 65-100 Hz Winnie20220716_.nwb pos 9 valid times 3b78f953-16bb-3f12-78ea-2506f962ed70\n"
     ]
    },
    {
     "name": "stderr",
     "output_type": "stream",
     "text": [
      "[2023-12-06 08:57:56,850][WARNING]: Skipped checksum for file with hash: 0a790bc5-fcbb-f194-a5e0-97f80062d07d, and path: /stelmo/nwb/analysis/Winnie20220717/Winnie20220717_YL18RUYMMJ.nwb\n",
      "WARNING:datajoint:Skipped checksum for file with hash: 0a790bc5-fcbb-f194-a5e0-97f80062d07d, and path: /stelmo/nwb/analysis/Winnie20220717/Winnie20220717_YL18RUYMMJ.nwb\n"
     ]
    },
    {
     "name": "stdout",
     "output_type": "stream",
     "text": [
      "Slow Gamma 25-55 Hz Winnie20220717_.nwb pos 0 valid times 1b81759e-5254-cade-504f-63c8a4f9f176\n"
     ]
    },
    {
     "name": "stderr",
     "output_type": "stream",
     "text": [
      "[2023-12-06 08:57:58,345][WARNING]: Skipped checksum for file with hash: 0a790bc5-fcbb-f194-a5e0-97f80062d07d, and path: /stelmo/nwb/analysis/Winnie20220717/Winnie20220717_YL18RUYMMJ.nwb\n",
      "WARNING:datajoint:Skipped checksum for file with hash: 0a790bc5-fcbb-f194-a5e0-97f80062d07d, and path: /stelmo/nwb/analysis/Winnie20220717/Winnie20220717_YL18RUYMMJ.nwb\n"
     ]
    },
    {
     "name": "stdout",
     "output_type": "stream",
     "text": [
      "Fast Gamma 65-100 Hz Winnie20220717_.nwb pos 0 valid times 1b81759e-5254-cade-504f-63c8a4f9f176\n"
     ]
    },
    {
     "name": "stderr",
     "output_type": "stream",
     "text": [
      "[2023-12-06 08:57:59,261][WARNING]: Skipped checksum for file with hash: 672226d5-fa9c-e7fc-6bc0-01e60fd6adf7, and path: /stelmo/nwb/analysis/Winnie20220717/Winnie20220717_X2UGEFTEIX.nwb\n",
      "WARNING:datajoint:Skipped checksum for file with hash: 672226d5-fa9c-e7fc-6bc0-01e60fd6adf7, and path: /stelmo/nwb/analysis/Winnie20220717/Winnie20220717_X2UGEFTEIX.nwb\n"
     ]
    },
    {
     "name": "stdout",
     "output_type": "stream",
     "text": [
      "Slow Gamma 25-55 Hz Winnie20220717_.nwb pos 1 valid times 65d0a7aa-1000-89da-535e-934d40fbd4e8\n"
     ]
    },
    {
     "name": "stderr",
     "output_type": "stream",
     "text": [
      "[2023-12-06 08:58:00,666][WARNING]: Skipped checksum for file with hash: 672226d5-fa9c-e7fc-6bc0-01e60fd6adf7, and path: /stelmo/nwb/analysis/Winnie20220717/Winnie20220717_X2UGEFTEIX.nwb\n",
      "WARNING:datajoint:Skipped checksum for file with hash: 672226d5-fa9c-e7fc-6bc0-01e60fd6adf7, and path: /stelmo/nwb/analysis/Winnie20220717/Winnie20220717_X2UGEFTEIX.nwb\n"
     ]
    },
    {
     "name": "stdout",
     "output_type": "stream",
     "text": [
      "Fast Gamma 65-100 Hz Winnie20220717_.nwb pos 1 valid times 65d0a7aa-1000-89da-535e-934d40fbd4e8\n"
     ]
    },
    {
     "name": "stderr",
     "output_type": "stream",
     "text": [
      "[2023-12-06 08:58:01,680][WARNING]: Skipped checksum for file with hash: 18702176-8431-132e-fcaa-5c80420cea7b, and path: /stelmo/nwb/analysis/Winnie20220717/Winnie20220717_0586GHSKEL.nwb\n",
      "WARNING:datajoint:Skipped checksum for file with hash: 18702176-8431-132e-fcaa-5c80420cea7b, and path: /stelmo/nwb/analysis/Winnie20220717/Winnie20220717_0586GHSKEL.nwb\n"
     ]
    },
    {
     "name": "stdout",
     "output_type": "stream",
     "text": [
      "Slow Gamma 25-55 Hz Winnie20220717_.nwb pos 10 valid times 449f51b4-f26e-56b4-c3e2-085cd7905259\n"
     ]
    },
    {
     "name": "stderr",
     "output_type": "stream",
     "text": [
      "[2023-12-06 08:58:03,287][WARNING]: Skipped checksum for file with hash: 18702176-8431-132e-fcaa-5c80420cea7b, and path: /stelmo/nwb/analysis/Winnie20220717/Winnie20220717_0586GHSKEL.nwb\n",
      "WARNING:datajoint:Skipped checksum for file with hash: 18702176-8431-132e-fcaa-5c80420cea7b, and path: /stelmo/nwb/analysis/Winnie20220717/Winnie20220717_0586GHSKEL.nwb\n"
     ]
    },
    {
     "name": "stdout",
     "output_type": "stream",
     "text": [
      "Fast Gamma 65-100 Hz Winnie20220717_.nwb pos 10 valid times 449f51b4-f26e-56b4-c3e2-085cd7905259\n"
     ]
    },
    {
     "name": "stderr",
     "output_type": "stream",
     "text": [
      "[2023-12-06 08:58:04,225][WARNING]: Skipped checksum for file with hash: 68c89452-b909-8530-f2ca-0b00d85b30b4, and path: /stelmo/nwb/analysis/Winnie20220717/Winnie20220717_G1GNNIXKCY.nwb\n",
      "WARNING:datajoint:Skipped checksum for file with hash: 68c89452-b909-8530-f2ca-0b00d85b30b4, and path: /stelmo/nwb/analysis/Winnie20220717/Winnie20220717_G1GNNIXKCY.nwb\n"
     ]
    },
    {
     "name": "stdout",
     "output_type": "stream",
     "text": [
      "Slow Gamma 25-55 Hz Winnie20220717_.nwb pos 11 valid times aff30a90-551b-d49e-daea-11aa7c998935\n"
     ]
    },
    {
     "name": "stderr",
     "output_type": "stream",
     "text": [
      "[2023-12-06 08:58:05,600][WARNING]: Skipped checksum for file with hash: 68c89452-b909-8530-f2ca-0b00d85b30b4, and path: /stelmo/nwb/analysis/Winnie20220717/Winnie20220717_G1GNNIXKCY.nwb\n",
      "WARNING:datajoint:Skipped checksum for file with hash: 68c89452-b909-8530-f2ca-0b00d85b30b4, and path: /stelmo/nwb/analysis/Winnie20220717/Winnie20220717_G1GNNIXKCY.nwb\n"
     ]
    },
    {
     "name": "stdout",
     "output_type": "stream",
     "text": [
      "Fast Gamma 65-100 Hz Winnie20220717_.nwb pos 11 valid times aff30a90-551b-d49e-daea-11aa7c998935\n"
     ]
    },
    {
     "name": "stderr",
     "output_type": "stream",
     "text": [
      "[2023-12-06 08:58:06,536][WARNING]: Skipped checksum for file with hash: e865ace4-7625-3d37-a9fe-8a420c0d1a09, and path: /stelmo/nwb/analysis/Winnie20220717/Winnie20220717_CDI1DKMQA0.nwb\n",
      "WARNING:datajoint:Skipped checksum for file with hash: e865ace4-7625-3d37-a9fe-8a420c0d1a09, and path: /stelmo/nwb/analysis/Winnie20220717/Winnie20220717_CDI1DKMQA0.nwb\n"
     ]
    },
    {
     "name": "stdout",
     "output_type": "stream",
     "text": [
      "Slow Gamma 25-55 Hz Winnie20220717_.nwb pos 12 valid times afc7f833-f453-1cb6-a351-bcebd24bb1bd\n"
     ]
    },
    {
     "name": "stderr",
     "output_type": "stream",
     "text": [
      "[2023-12-06 08:58:07,985][WARNING]: Skipped checksum for file with hash: e865ace4-7625-3d37-a9fe-8a420c0d1a09, and path: /stelmo/nwb/analysis/Winnie20220717/Winnie20220717_CDI1DKMQA0.nwb\n",
      "WARNING:datajoint:Skipped checksum for file with hash: e865ace4-7625-3d37-a9fe-8a420c0d1a09, and path: /stelmo/nwb/analysis/Winnie20220717/Winnie20220717_CDI1DKMQA0.nwb\n"
     ]
    },
    {
     "name": "stdout",
     "output_type": "stream",
     "text": [
      "Fast Gamma 65-100 Hz Winnie20220717_.nwb pos 12 valid times afc7f833-f453-1cb6-a351-bcebd24bb1bd\n"
     ]
    },
    {
     "name": "stderr",
     "output_type": "stream",
     "text": [
      "[2023-12-06 08:58:08,942][WARNING]: Skipped checksum for file with hash: 69dbc038-278a-3b5a-fa8c-3073fed4a92c, and path: /stelmo/nwb/analysis/Winnie20220717/Winnie20220717_05FYO1MYUZ.nwb\n",
      "WARNING:datajoint:Skipped checksum for file with hash: 69dbc038-278a-3b5a-fa8c-3073fed4a92c, and path: /stelmo/nwb/analysis/Winnie20220717/Winnie20220717_05FYO1MYUZ.nwb\n"
     ]
    },
    {
     "name": "stdout",
     "output_type": "stream",
     "text": [
      "Slow Gamma 25-55 Hz Winnie20220717_.nwb pos 13 valid times 5fc40885-8559-64e3-4639-c1e0d1c4acf4\n"
     ]
    },
    {
     "name": "stderr",
     "output_type": "stream",
     "text": [
      "[2023-12-06 08:58:10,413][WARNING]: Skipped checksum for file with hash: 69dbc038-278a-3b5a-fa8c-3073fed4a92c, and path: /stelmo/nwb/analysis/Winnie20220717/Winnie20220717_05FYO1MYUZ.nwb\n",
      "WARNING:datajoint:Skipped checksum for file with hash: 69dbc038-278a-3b5a-fa8c-3073fed4a92c, and path: /stelmo/nwb/analysis/Winnie20220717/Winnie20220717_05FYO1MYUZ.nwb\n"
     ]
    },
    {
     "name": "stdout",
     "output_type": "stream",
     "text": [
      "Fast Gamma 65-100 Hz Winnie20220717_.nwb pos 13 valid times 5fc40885-8559-64e3-4639-c1e0d1c4acf4\n"
     ]
    },
    {
     "name": "stderr",
     "output_type": "stream",
     "text": [
      "[2023-12-06 08:58:11,403][WARNING]: Skipped checksum for file with hash: 154965d3-ef4d-a250-51fe-0523156b4e6a, and path: /stelmo/nwb/analysis/Winnie20220717/Winnie20220717_BRD282LYT3.nwb\n",
      "WARNING:datajoint:Skipped checksum for file with hash: 154965d3-ef4d-a250-51fe-0523156b4e6a, and path: /stelmo/nwb/analysis/Winnie20220717/Winnie20220717_BRD282LYT3.nwb\n"
     ]
    },
    {
     "name": "stdout",
     "output_type": "stream",
     "text": [
      "Slow Gamma 25-55 Hz Winnie20220717_.nwb pos 14 valid times 709f75e1-fa83-358e-24eb-587c2e7f457e\n"
     ]
    },
    {
     "name": "stderr",
     "output_type": "stream",
     "text": [
      "[2023-12-06 08:58:12,893][WARNING]: Skipped checksum for file with hash: 154965d3-ef4d-a250-51fe-0523156b4e6a, and path: /stelmo/nwb/analysis/Winnie20220717/Winnie20220717_BRD282LYT3.nwb\n",
      "WARNING:datajoint:Skipped checksum for file with hash: 154965d3-ef4d-a250-51fe-0523156b4e6a, and path: /stelmo/nwb/analysis/Winnie20220717/Winnie20220717_BRD282LYT3.nwb\n"
     ]
    },
    {
     "name": "stdout",
     "output_type": "stream",
     "text": [
      "Fast Gamma 65-100 Hz Winnie20220717_.nwb pos 14 valid times 709f75e1-fa83-358e-24eb-587c2e7f457e\n"
     ]
    },
    {
     "name": "stderr",
     "output_type": "stream",
     "text": [
      "[2023-12-06 08:58:13,824][WARNING]: Skipped checksum for file with hash: 1d6c3d66-704c-b782-aba5-f7c6a52bffe2, and path: /stelmo/nwb/analysis/Winnie20220717/Winnie20220717_IWRCZ0PMQH.nwb\n",
      "WARNING:datajoint:Skipped checksum for file with hash: 1d6c3d66-704c-b782-aba5-f7c6a52bffe2, and path: /stelmo/nwb/analysis/Winnie20220717/Winnie20220717_IWRCZ0PMQH.nwb\n"
     ]
    },
    {
     "name": "stdout",
     "output_type": "stream",
     "text": [
      "Slow Gamma 25-55 Hz Winnie20220717_.nwb pos 15 valid times 08dfda32-cc36-e9be-a65e-15c6a8270f47\n"
     ]
    },
    {
     "name": "stderr",
     "output_type": "stream",
     "text": [
      "[2023-12-06 08:58:15,277][WARNING]: Skipped checksum for file with hash: 1d6c3d66-704c-b782-aba5-f7c6a52bffe2, and path: /stelmo/nwb/analysis/Winnie20220717/Winnie20220717_IWRCZ0PMQH.nwb\n",
      "WARNING:datajoint:Skipped checksum for file with hash: 1d6c3d66-704c-b782-aba5-f7c6a52bffe2, and path: /stelmo/nwb/analysis/Winnie20220717/Winnie20220717_IWRCZ0PMQH.nwb\n"
     ]
    },
    {
     "name": "stdout",
     "output_type": "stream",
     "text": [
      "Fast Gamma 65-100 Hz Winnie20220717_.nwb pos 15 valid times 08dfda32-cc36-e9be-a65e-15c6a8270f47\n"
     ]
    },
    {
     "name": "stderr",
     "output_type": "stream",
     "text": [
      "[2023-12-06 08:58:16,277][WARNING]: Skipped checksum for file with hash: ddbcd266-f736-8391-e260-3429a8aecf5c, and path: /stelmo/nwb/analysis/Winnie20220717/Winnie20220717_RP29FNEUCU.nwb\n",
      "WARNING:datajoint:Skipped checksum for file with hash: ddbcd266-f736-8391-e260-3429a8aecf5c, and path: /stelmo/nwb/analysis/Winnie20220717/Winnie20220717_RP29FNEUCU.nwb\n"
     ]
    },
    {
     "name": "stdout",
     "output_type": "stream",
     "text": [
      "Slow Gamma 25-55 Hz Winnie20220717_.nwb pos 16 valid times 3037742f-4d4d-3568-f0d6-656f7085dfc0\n"
     ]
    },
    {
     "name": "stderr",
     "output_type": "stream",
     "text": [
      "[2023-12-06 08:58:17,769][WARNING]: Skipped checksum for file with hash: ddbcd266-f736-8391-e260-3429a8aecf5c, and path: /stelmo/nwb/analysis/Winnie20220717/Winnie20220717_RP29FNEUCU.nwb\n",
      "WARNING:datajoint:Skipped checksum for file with hash: ddbcd266-f736-8391-e260-3429a8aecf5c, and path: /stelmo/nwb/analysis/Winnie20220717/Winnie20220717_RP29FNEUCU.nwb\n"
     ]
    },
    {
     "name": "stdout",
     "output_type": "stream",
     "text": [
      "Fast Gamma 65-100 Hz Winnie20220717_.nwb pos 16 valid times 3037742f-4d4d-3568-f0d6-656f7085dfc0\n"
     ]
    },
    {
     "name": "stderr",
     "output_type": "stream",
     "text": [
      "[2023-12-06 08:58:18,804][WARNING]: Skipped checksum for file with hash: 84b61b44-d0ac-c3d6-bc7e-462ea57f876e, and path: /stelmo/nwb/analysis/Winnie20220717/Winnie20220717_Z6B0KB5OXS.nwb\n",
      "WARNING:datajoint:Skipped checksum for file with hash: 84b61b44-d0ac-c3d6-bc7e-462ea57f876e, and path: /stelmo/nwb/analysis/Winnie20220717/Winnie20220717_Z6B0KB5OXS.nwb\n"
     ]
    },
    {
     "name": "stdout",
     "output_type": "stream",
     "text": [
      "Slow Gamma 25-55 Hz Winnie20220717_.nwb pos 17 valid times 1f163bb2-1449-0605-c49d-1753bdb9a7fd\n"
     ]
    },
    {
     "name": "stderr",
     "output_type": "stream",
     "text": [
      "[2023-12-06 08:58:20,176][WARNING]: Skipped checksum for file with hash: 84b61b44-d0ac-c3d6-bc7e-462ea57f876e, and path: /stelmo/nwb/analysis/Winnie20220717/Winnie20220717_Z6B0KB5OXS.nwb\n",
      "WARNING:datajoint:Skipped checksum for file with hash: 84b61b44-d0ac-c3d6-bc7e-462ea57f876e, and path: /stelmo/nwb/analysis/Winnie20220717/Winnie20220717_Z6B0KB5OXS.nwb\n"
     ]
    },
    {
     "name": "stdout",
     "output_type": "stream",
     "text": [
      "Fast Gamma 65-100 Hz Winnie20220717_.nwb pos 17 valid times 1f163bb2-1449-0605-c49d-1753bdb9a7fd\n"
     ]
    },
    {
     "name": "stderr",
     "output_type": "stream",
     "text": [
      "[2023-12-06 08:58:21,204][WARNING]: Skipped checksum for file with hash: 847fb087-9647-c45f-5c86-cc303b0bb48c, and path: /stelmo/nwb/analysis/Winnie20220717/Winnie20220717_3SJI94DSIM.nwb\n",
      "WARNING:datajoint:Skipped checksum for file with hash: 847fb087-9647-c45f-5c86-cc303b0bb48c, and path: /stelmo/nwb/analysis/Winnie20220717/Winnie20220717_3SJI94DSIM.nwb\n"
     ]
    },
    {
     "name": "stdout",
     "output_type": "stream",
     "text": [
      "Slow Gamma 25-55 Hz Winnie20220717_.nwb pos 18 valid times f19f49ff-e114-bb2a-cc45-dc0017d8d177\n"
     ]
    },
    {
     "name": "stderr",
     "output_type": "stream",
     "text": [
      "[2023-12-06 08:58:22,720][WARNING]: Skipped checksum for file with hash: 847fb087-9647-c45f-5c86-cc303b0bb48c, and path: /stelmo/nwb/analysis/Winnie20220717/Winnie20220717_3SJI94DSIM.nwb\n",
      "WARNING:datajoint:Skipped checksum for file with hash: 847fb087-9647-c45f-5c86-cc303b0bb48c, and path: /stelmo/nwb/analysis/Winnie20220717/Winnie20220717_3SJI94DSIM.nwb\n"
     ]
    },
    {
     "name": "stdout",
     "output_type": "stream",
     "text": [
      "Fast Gamma 65-100 Hz Winnie20220717_.nwb pos 18 valid times f19f49ff-e114-bb2a-cc45-dc0017d8d177\n"
     ]
    },
    {
     "name": "stderr",
     "output_type": "stream",
     "text": [
      "[2023-12-06 08:58:23,699][WARNING]: Skipped checksum for file with hash: 13a57422-319c-581a-d92f-6ed3cdccb8b8, and path: /stelmo/nwb/analysis/Winnie20220717/Winnie20220717_N9XI23H87R.nwb\n",
      "WARNING:datajoint:Skipped checksum for file with hash: 13a57422-319c-581a-d92f-6ed3cdccb8b8, and path: /stelmo/nwb/analysis/Winnie20220717/Winnie20220717_N9XI23H87R.nwb\n"
     ]
    },
    {
     "name": "stdout",
     "output_type": "stream",
     "text": [
      "Slow Gamma 25-55 Hz Winnie20220717_.nwb pos 2 valid times 4174f19c-b692-7551-d39f-bf3b291f032b\n"
     ]
    },
    {
     "name": "stderr",
     "output_type": "stream",
     "text": [
      "[2023-12-06 08:58:25,186][WARNING]: Skipped checksum for file with hash: 13a57422-319c-581a-d92f-6ed3cdccb8b8, and path: /stelmo/nwb/analysis/Winnie20220717/Winnie20220717_N9XI23H87R.nwb\n",
      "WARNING:datajoint:Skipped checksum for file with hash: 13a57422-319c-581a-d92f-6ed3cdccb8b8, and path: /stelmo/nwb/analysis/Winnie20220717/Winnie20220717_N9XI23H87R.nwb\n"
     ]
    },
    {
     "name": "stdout",
     "output_type": "stream",
     "text": [
      "Fast Gamma 65-100 Hz Winnie20220717_.nwb pos 2 valid times 4174f19c-b692-7551-d39f-bf3b291f032b\n"
     ]
    },
    {
     "name": "stderr",
     "output_type": "stream",
     "text": [
      "[2023-12-06 08:58:26,184][WARNING]: Skipped checksum for file with hash: 75cf7396-bd4e-97ee-b503-83e0cd81de4b, and path: /stelmo/nwb/analysis/Winnie20220717/Winnie20220717_3Y0U32GJE3.nwb\n",
      "WARNING:datajoint:Skipped checksum for file with hash: 75cf7396-bd4e-97ee-b503-83e0cd81de4b, and path: /stelmo/nwb/analysis/Winnie20220717/Winnie20220717_3Y0U32GJE3.nwb\n"
     ]
    },
    {
     "name": "stdout",
     "output_type": "stream",
     "text": [
      "Slow Gamma 25-55 Hz Winnie20220717_.nwb pos 3 valid times b971c2bb-e7bf-aee6-59b6-801e2fc9bdae\n"
     ]
    },
    {
     "name": "stderr",
     "output_type": "stream",
     "text": [
      "[2023-12-06 08:58:27,678][WARNING]: Skipped checksum for file with hash: 75cf7396-bd4e-97ee-b503-83e0cd81de4b, and path: /stelmo/nwb/analysis/Winnie20220717/Winnie20220717_3Y0U32GJE3.nwb\n",
      "WARNING:datajoint:Skipped checksum for file with hash: 75cf7396-bd4e-97ee-b503-83e0cd81de4b, and path: /stelmo/nwb/analysis/Winnie20220717/Winnie20220717_3Y0U32GJE3.nwb\n"
     ]
    },
    {
     "name": "stdout",
     "output_type": "stream",
     "text": [
      "Fast Gamma 65-100 Hz Winnie20220717_.nwb pos 3 valid times b971c2bb-e7bf-aee6-59b6-801e2fc9bdae\n"
     ]
    },
    {
     "name": "stderr",
     "output_type": "stream",
     "text": [
      "[2023-12-06 08:58:28,581][WARNING]: Skipped checksum for file with hash: b8fd9854-d162-4cba-5d82-012b901620d4, and path: /stelmo/nwb/analysis/Winnie20220717/Winnie20220717_RN98SIF03W.nwb\n",
      "WARNING:datajoint:Skipped checksum for file with hash: b8fd9854-d162-4cba-5d82-012b901620d4, and path: /stelmo/nwb/analysis/Winnie20220717/Winnie20220717_RN98SIF03W.nwb\n"
     ]
    },
    {
     "name": "stdout",
     "output_type": "stream",
     "text": [
      "Slow Gamma 25-55 Hz Winnie20220717_.nwb pos 4 valid times ff5ac52c-f214-a01a-30ef-7afd7a320976\n"
     ]
    },
    {
     "name": "stderr",
     "output_type": "stream",
     "text": [
      "[2023-12-06 08:58:30,127][WARNING]: Skipped checksum for file with hash: b8fd9854-d162-4cba-5d82-012b901620d4, and path: /stelmo/nwb/analysis/Winnie20220717/Winnie20220717_RN98SIF03W.nwb\n",
      "WARNING:datajoint:Skipped checksum for file with hash: b8fd9854-d162-4cba-5d82-012b901620d4, and path: /stelmo/nwb/analysis/Winnie20220717/Winnie20220717_RN98SIF03W.nwb\n"
     ]
    },
    {
     "name": "stdout",
     "output_type": "stream",
     "text": [
      "Fast Gamma 65-100 Hz Winnie20220717_.nwb pos 4 valid times ff5ac52c-f214-a01a-30ef-7afd7a320976\n"
     ]
    },
    {
     "name": "stderr",
     "output_type": "stream",
     "text": [
      "[2023-12-06 08:58:31,131][WARNING]: Skipped checksum for file with hash: bc6699ac-07e1-d344-92b5-2b3ee7b00117, and path: /stelmo/nwb/analysis/Winnie20220717/Winnie20220717_R5S4UF0VMH.nwb\n",
      "WARNING:datajoint:Skipped checksum for file with hash: bc6699ac-07e1-d344-92b5-2b3ee7b00117, and path: /stelmo/nwb/analysis/Winnie20220717/Winnie20220717_R5S4UF0VMH.nwb\n"
     ]
    },
    {
     "name": "stdout",
     "output_type": "stream",
     "text": [
      "Slow Gamma 25-55 Hz Winnie20220717_.nwb pos 5 valid times 19c74780-7665-ed75-3193-88a7365f04e2\n"
     ]
    },
    {
     "name": "stderr",
     "output_type": "stream",
     "text": [
      "[2023-12-06 08:58:32,608][WARNING]: Skipped checksum for file with hash: bc6699ac-07e1-d344-92b5-2b3ee7b00117, and path: /stelmo/nwb/analysis/Winnie20220717/Winnie20220717_R5S4UF0VMH.nwb\n",
      "WARNING:datajoint:Skipped checksum for file with hash: bc6699ac-07e1-d344-92b5-2b3ee7b00117, and path: /stelmo/nwb/analysis/Winnie20220717/Winnie20220717_R5S4UF0VMH.nwb\n"
     ]
    },
    {
     "name": "stdout",
     "output_type": "stream",
     "text": [
      "Fast Gamma 65-100 Hz Winnie20220717_.nwb pos 5 valid times 19c74780-7665-ed75-3193-88a7365f04e2\n"
     ]
    },
    {
     "name": "stderr",
     "output_type": "stream",
     "text": [
      "[2023-12-06 08:58:33,606][WARNING]: Skipped checksum for file with hash: b6c8230e-4337-4c96-ed14-803febeb8503, and path: /stelmo/nwb/analysis/Winnie20220717/Winnie20220717_T05FGLLBUM.nwb\n",
      "WARNING:datajoint:Skipped checksum for file with hash: b6c8230e-4337-4c96-ed14-803febeb8503, and path: /stelmo/nwb/analysis/Winnie20220717/Winnie20220717_T05FGLLBUM.nwb\n"
     ]
    },
    {
     "name": "stdout",
     "output_type": "stream",
     "text": [
      "Slow Gamma 25-55 Hz Winnie20220717_.nwb pos 6 valid times 34142c2c-4540-39f6-51a8-34fdbed58a9d\n"
     ]
    },
    {
     "name": "stderr",
     "output_type": "stream",
     "text": [
      "[2023-12-06 08:58:35,136][WARNING]: Skipped checksum for file with hash: b6c8230e-4337-4c96-ed14-803febeb8503, and path: /stelmo/nwb/analysis/Winnie20220717/Winnie20220717_T05FGLLBUM.nwb\n",
      "WARNING:datajoint:Skipped checksum for file with hash: b6c8230e-4337-4c96-ed14-803febeb8503, and path: /stelmo/nwb/analysis/Winnie20220717/Winnie20220717_T05FGLLBUM.nwb\n"
     ]
    },
    {
     "name": "stdout",
     "output_type": "stream",
     "text": [
      "Fast Gamma 65-100 Hz Winnie20220717_.nwb pos 6 valid times 34142c2c-4540-39f6-51a8-34fdbed58a9d\n"
     ]
    },
    {
     "name": "stderr",
     "output_type": "stream",
     "text": [
      "[2023-12-06 08:58:36,147][WARNING]: Skipped checksum for file with hash: 161f29db-0572-581e-69ed-7c9e804151ae, and path: /stelmo/nwb/analysis/Winnie20220717/Winnie20220717_F3M03I69OW.nwb\n",
      "WARNING:datajoint:Skipped checksum for file with hash: 161f29db-0572-581e-69ed-7c9e804151ae, and path: /stelmo/nwb/analysis/Winnie20220717/Winnie20220717_F3M03I69OW.nwb\n"
     ]
    },
    {
     "name": "stdout",
     "output_type": "stream",
     "text": [
      "Slow Gamma 25-55 Hz Winnie20220717_.nwb pos 7 valid times 0fd60218-2fed-7c08-842e-13427844115c\n"
     ]
    },
    {
     "name": "stderr",
     "output_type": "stream",
     "text": [
      "[2023-12-06 08:58:37,606][WARNING]: Skipped checksum for file with hash: 161f29db-0572-581e-69ed-7c9e804151ae, and path: /stelmo/nwb/analysis/Winnie20220717/Winnie20220717_F3M03I69OW.nwb\n",
      "WARNING:datajoint:Skipped checksum for file with hash: 161f29db-0572-581e-69ed-7c9e804151ae, and path: /stelmo/nwb/analysis/Winnie20220717/Winnie20220717_F3M03I69OW.nwb\n"
     ]
    },
    {
     "name": "stdout",
     "output_type": "stream",
     "text": [
      "Fast Gamma 65-100 Hz Winnie20220717_.nwb pos 7 valid times 0fd60218-2fed-7c08-842e-13427844115c\n"
     ]
    },
    {
     "name": "stderr",
     "output_type": "stream",
     "text": [
      "[2023-12-06 08:58:38,623][WARNING]: Skipped checksum for file with hash: 14875dc2-9f28-a644-2f4a-de378f27e6da, and path: /stelmo/nwb/analysis/Winnie20220717/Winnie20220717_X0Z8XOFJFZ.nwb\n",
      "WARNING:datajoint:Skipped checksum for file with hash: 14875dc2-9f28-a644-2f4a-de378f27e6da, and path: /stelmo/nwb/analysis/Winnie20220717/Winnie20220717_X0Z8XOFJFZ.nwb\n"
     ]
    },
    {
     "name": "stdout",
     "output_type": "stream",
     "text": [
      "Slow Gamma 25-55 Hz Winnie20220717_.nwb pos 8 valid times 8b8270b0-5cd8-a822-b777-ee4783fb9cb4\n"
     ]
    },
    {
     "name": "stderr",
     "output_type": "stream",
     "text": [
      "[2023-12-06 08:58:39,991][WARNING]: Skipped checksum for file with hash: 14875dc2-9f28-a644-2f4a-de378f27e6da, and path: /stelmo/nwb/analysis/Winnie20220717/Winnie20220717_X0Z8XOFJFZ.nwb\n",
      "WARNING:datajoint:Skipped checksum for file with hash: 14875dc2-9f28-a644-2f4a-de378f27e6da, and path: /stelmo/nwb/analysis/Winnie20220717/Winnie20220717_X0Z8XOFJFZ.nwb\n"
     ]
    },
    {
     "name": "stdout",
     "output_type": "stream",
     "text": [
      "Fast Gamma 65-100 Hz Winnie20220717_.nwb pos 8 valid times 8b8270b0-5cd8-a822-b777-ee4783fb9cb4\n"
     ]
    },
    {
     "name": "stderr",
     "output_type": "stream",
     "text": [
      "[2023-12-06 08:58:40,995][WARNING]: Skipped checksum for file with hash: 9498a13f-1d33-3126-9beb-973627f21ca4, and path: /stelmo/nwb/analysis/Winnie20220717/Winnie20220717_2B8T9N18DW.nwb\n",
      "WARNING:datajoint:Skipped checksum for file with hash: 9498a13f-1d33-3126-9beb-973627f21ca4, and path: /stelmo/nwb/analysis/Winnie20220717/Winnie20220717_2B8T9N18DW.nwb\n"
     ]
    },
    {
     "name": "stdout",
     "output_type": "stream",
     "text": [
      "Slow Gamma 25-55 Hz Winnie20220717_.nwb pos 9 valid times 342b49b9-20f8-6a02-b954-e958989816dc\n"
     ]
    },
    {
     "name": "stderr",
     "output_type": "stream",
     "text": [
      "[2023-12-06 08:58:42,433][WARNING]: Skipped checksum for file with hash: 9498a13f-1d33-3126-9beb-973627f21ca4, and path: /stelmo/nwb/analysis/Winnie20220717/Winnie20220717_2B8T9N18DW.nwb\n",
      "WARNING:datajoint:Skipped checksum for file with hash: 9498a13f-1d33-3126-9beb-973627f21ca4, and path: /stelmo/nwb/analysis/Winnie20220717/Winnie20220717_2B8T9N18DW.nwb\n"
     ]
    },
    {
     "name": "stdout",
     "output_type": "stream",
     "text": [
      "Fast Gamma 65-100 Hz Winnie20220717_.nwb pos 9 valid times 342b49b9-20f8-6a02-b954-e958989816dc\n"
     ]
    },
    {
     "name": "stderr",
     "output_type": "stream",
     "text": [
      "[2023-12-06 08:58:43,436][WARNING]: Skipped checksum for file with hash: a176049e-dcc2-f661-ca1a-df053b8b5b8d, and path: /stelmo/nwb/analysis/Winnie20220718/Winnie20220718_KQQGTSWGFU.nwb\n",
      "WARNING:datajoint:Skipped checksum for file with hash: a176049e-dcc2-f661-ca1a-df053b8b5b8d, and path: /stelmo/nwb/analysis/Winnie20220718/Winnie20220718_KQQGTSWGFU.nwb\n"
     ]
    },
    {
     "name": "stdout",
     "output_type": "stream",
     "text": [
      "Slow Gamma 25-55 Hz Winnie20220718_.nwb pos 0 valid times 092973c4-bd82-5ad3-1e5b-c19aa79d55c3\n"
     ]
    },
    {
     "name": "stderr",
     "output_type": "stream",
     "text": [
      "[2023-12-06 08:58:44,987][WARNING]: Skipped checksum for file with hash: a176049e-dcc2-f661-ca1a-df053b8b5b8d, and path: /stelmo/nwb/analysis/Winnie20220718/Winnie20220718_KQQGTSWGFU.nwb\n",
      "WARNING:datajoint:Skipped checksum for file with hash: a176049e-dcc2-f661-ca1a-df053b8b5b8d, and path: /stelmo/nwb/analysis/Winnie20220718/Winnie20220718_KQQGTSWGFU.nwb\n"
     ]
    },
    {
     "name": "stdout",
     "output_type": "stream",
     "text": [
      "Fast Gamma 65-100 Hz Winnie20220718_.nwb pos 0 valid times 092973c4-bd82-5ad3-1e5b-c19aa79d55c3\n"
     ]
    },
    {
     "name": "stderr",
     "output_type": "stream",
     "text": [
      "[2023-12-06 08:58:46,010][WARNING]: Skipped checksum for file with hash: a9a72456-c402-17fc-48c4-a536de8ae2ca, and path: /stelmo/nwb/analysis/Winnie20220718/Winnie20220718_B0GC4P8Z4X.nwb\n",
      "WARNING:datajoint:Skipped checksum for file with hash: a9a72456-c402-17fc-48c4-a536de8ae2ca, and path: /stelmo/nwb/analysis/Winnie20220718/Winnie20220718_B0GC4P8Z4X.nwb\n"
     ]
    },
    {
     "name": "stdout",
     "output_type": "stream",
     "text": [
      "Slow Gamma 25-55 Hz Winnie20220718_.nwb pos 1 valid times f2e4b2cd-584b-1154-1371-1991d47792a8\n"
     ]
    },
    {
     "name": "stderr",
     "output_type": "stream",
     "text": [
      "[2023-12-06 08:58:47,548][WARNING]: Skipped checksum for file with hash: a9a72456-c402-17fc-48c4-a536de8ae2ca, and path: /stelmo/nwb/analysis/Winnie20220718/Winnie20220718_B0GC4P8Z4X.nwb\n",
      "WARNING:datajoint:Skipped checksum for file with hash: a9a72456-c402-17fc-48c4-a536de8ae2ca, and path: /stelmo/nwb/analysis/Winnie20220718/Winnie20220718_B0GC4P8Z4X.nwb\n"
     ]
    },
    {
     "name": "stdout",
     "output_type": "stream",
     "text": [
      "Fast Gamma 65-100 Hz Winnie20220718_.nwb pos 1 valid times f2e4b2cd-584b-1154-1371-1991d47792a8\n"
     ]
    },
    {
     "name": "stderr",
     "output_type": "stream",
     "text": [
      "[2023-12-06 08:58:48,509][WARNING]: Skipped checksum for file with hash: d55b1f71-3cc6-2046-e4e0-27d9b9e65133, and path: /stelmo/nwb/analysis/Winnie20220718/Winnie20220718_4EB6ALQRZE.nwb\n",
      "WARNING:datajoint:Skipped checksum for file with hash: d55b1f71-3cc6-2046-e4e0-27d9b9e65133, and path: /stelmo/nwb/analysis/Winnie20220718/Winnie20220718_4EB6ALQRZE.nwb\n"
     ]
    },
    {
     "name": "stdout",
     "output_type": "stream",
     "text": [
      "Slow Gamma 25-55 Hz Winnie20220718_.nwb pos 10 valid times 56d65fc0-b516-49b9-84a6-f16577e11aec\n"
     ]
    },
    {
     "name": "stderr",
     "output_type": "stream",
     "text": [
      "[2023-12-06 08:58:49,972][WARNING]: Skipped checksum for file with hash: d55b1f71-3cc6-2046-e4e0-27d9b9e65133, and path: /stelmo/nwb/analysis/Winnie20220718/Winnie20220718_4EB6ALQRZE.nwb\n",
      "WARNING:datajoint:Skipped checksum for file with hash: d55b1f71-3cc6-2046-e4e0-27d9b9e65133, and path: /stelmo/nwb/analysis/Winnie20220718/Winnie20220718_4EB6ALQRZE.nwb\n"
     ]
    },
    {
     "name": "stdout",
     "output_type": "stream",
     "text": [
      "Fast Gamma 65-100 Hz Winnie20220718_.nwb pos 10 valid times 56d65fc0-b516-49b9-84a6-f16577e11aec\n"
     ]
    },
    {
     "name": "stderr",
     "output_type": "stream",
     "text": [
      "[2023-12-06 08:58:50,936][WARNING]: Skipped checksum for file with hash: 1deb8fc8-31eb-5a9c-b36c-fbdc9e63fc0e, and path: /stelmo/nwb/analysis/Winnie20220718/Winnie20220718_UTIJ3IOZTH.nwb\n",
      "WARNING:datajoint:Skipped checksum for file with hash: 1deb8fc8-31eb-5a9c-b36c-fbdc9e63fc0e, and path: /stelmo/nwb/analysis/Winnie20220718/Winnie20220718_UTIJ3IOZTH.nwb\n"
     ]
    },
    {
     "name": "stdout",
     "output_type": "stream",
     "text": [
      "Slow Gamma 25-55 Hz Winnie20220718_.nwb pos 11 valid times e71ed9c5-ba7d-0825-51bc-c3f5ae169111\n"
     ]
    },
    {
     "name": "stderr",
     "output_type": "stream",
     "text": [
      "[2023-12-06 08:58:52,399][WARNING]: Skipped checksum for file with hash: 1deb8fc8-31eb-5a9c-b36c-fbdc9e63fc0e, and path: /stelmo/nwb/analysis/Winnie20220718/Winnie20220718_UTIJ3IOZTH.nwb\n",
      "WARNING:datajoint:Skipped checksum for file with hash: 1deb8fc8-31eb-5a9c-b36c-fbdc9e63fc0e, and path: /stelmo/nwb/analysis/Winnie20220718/Winnie20220718_UTIJ3IOZTH.nwb\n"
     ]
    },
    {
     "name": "stdout",
     "output_type": "stream",
     "text": [
      "Fast Gamma 65-100 Hz Winnie20220718_.nwb pos 11 valid times e71ed9c5-ba7d-0825-51bc-c3f5ae169111\n"
     ]
    },
    {
     "name": "stderr",
     "output_type": "stream",
     "text": [
      "[2023-12-06 08:58:53,407][WARNING]: Skipped checksum for file with hash: ee8b1d67-dfc1-1c27-4ed0-ab701165df92, and path: /stelmo/nwb/analysis/Winnie20220718/Winnie20220718_Z5BHMMMX5K.nwb\n",
      "WARNING:datajoint:Skipped checksum for file with hash: ee8b1d67-dfc1-1c27-4ed0-ab701165df92, and path: /stelmo/nwb/analysis/Winnie20220718/Winnie20220718_Z5BHMMMX5K.nwb\n"
     ]
    },
    {
     "name": "stdout",
     "output_type": "stream",
     "text": [
      "Slow Gamma 25-55 Hz Winnie20220718_.nwb pos 12 valid times b5a23a2e-2437-5288-47ea-6ff5eda73718\n"
     ]
    },
    {
     "name": "stderr",
     "output_type": "stream",
     "text": [
      "[2023-12-06 08:58:54,905][WARNING]: Skipped checksum for file with hash: ee8b1d67-dfc1-1c27-4ed0-ab701165df92, and path: /stelmo/nwb/analysis/Winnie20220718/Winnie20220718_Z5BHMMMX5K.nwb\n",
      "WARNING:datajoint:Skipped checksum for file with hash: ee8b1d67-dfc1-1c27-4ed0-ab701165df92, and path: /stelmo/nwb/analysis/Winnie20220718/Winnie20220718_Z5BHMMMX5K.nwb\n"
     ]
    },
    {
     "name": "stdout",
     "output_type": "stream",
     "text": [
      "Fast Gamma 65-100 Hz Winnie20220718_.nwb pos 12 valid times b5a23a2e-2437-5288-47ea-6ff5eda73718\n"
     ]
    },
    {
     "name": "stderr",
     "output_type": "stream",
     "text": [
      "[2023-12-06 08:58:55,879][WARNING]: Skipped checksum for file with hash: 71ff55a4-177f-6ce9-20a4-91637bd4c724, and path: /stelmo/nwb/analysis/Winnie20220718/Winnie20220718_3AEW8YOWBV.nwb\n",
      "WARNING:datajoint:Skipped checksum for file with hash: 71ff55a4-177f-6ce9-20a4-91637bd4c724, and path: /stelmo/nwb/analysis/Winnie20220718/Winnie20220718_3AEW8YOWBV.nwb\n"
     ]
    },
    {
     "name": "stdout",
     "output_type": "stream",
     "text": [
      "Slow Gamma 25-55 Hz Winnie20220718_.nwb pos 13 valid times 5466bfc2-5568-aba8-944e-ef99ca8fbcf3\n"
     ]
    },
    {
     "name": "stderr",
     "output_type": "stream",
     "text": [
      "[2023-12-06 08:58:57,372][WARNING]: Skipped checksum for file with hash: 71ff55a4-177f-6ce9-20a4-91637bd4c724, and path: /stelmo/nwb/analysis/Winnie20220718/Winnie20220718_3AEW8YOWBV.nwb\n",
      "WARNING:datajoint:Skipped checksum for file with hash: 71ff55a4-177f-6ce9-20a4-91637bd4c724, and path: /stelmo/nwb/analysis/Winnie20220718/Winnie20220718_3AEW8YOWBV.nwb\n"
     ]
    },
    {
     "name": "stdout",
     "output_type": "stream",
     "text": [
      "Fast Gamma 65-100 Hz Winnie20220718_.nwb pos 13 valid times 5466bfc2-5568-aba8-944e-ef99ca8fbcf3\n"
     ]
    },
    {
     "name": "stderr",
     "output_type": "stream",
     "text": [
      "[2023-12-06 08:58:58,367][WARNING]: Skipped checksum for file with hash: 8d7e3932-d902-2b3f-3e37-c3e4b04109a8, and path: /stelmo/nwb/analysis/Winnie20220718/Winnie20220718_M8VDOD4149.nwb\n",
      "WARNING:datajoint:Skipped checksum for file with hash: 8d7e3932-d902-2b3f-3e37-c3e4b04109a8, and path: /stelmo/nwb/analysis/Winnie20220718/Winnie20220718_M8VDOD4149.nwb\n"
     ]
    },
    {
     "name": "stdout",
     "output_type": "stream",
     "text": [
      "Slow Gamma 25-55 Hz Winnie20220718_.nwb pos 14 valid times d85d61e8-5ec1-db35-5a5e-8ae03ad53493\n"
     ]
    },
    {
     "name": "stderr",
     "output_type": "stream",
     "text": [
      "[2023-12-06 08:58:59,865][WARNING]: Skipped checksum for file with hash: 8d7e3932-d902-2b3f-3e37-c3e4b04109a8, and path: /stelmo/nwb/analysis/Winnie20220718/Winnie20220718_M8VDOD4149.nwb\n",
      "WARNING:datajoint:Skipped checksum for file with hash: 8d7e3932-d902-2b3f-3e37-c3e4b04109a8, and path: /stelmo/nwb/analysis/Winnie20220718/Winnie20220718_M8VDOD4149.nwb\n"
     ]
    },
    {
     "name": "stdout",
     "output_type": "stream",
     "text": [
      "Fast Gamma 65-100 Hz Winnie20220718_.nwb pos 14 valid times d85d61e8-5ec1-db35-5a5e-8ae03ad53493\n"
     ]
    },
    {
     "name": "stderr",
     "output_type": "stream",
     "text": [
      "[2023-12-06 08:59:00,856][WARNING]: Skipped checksum for file with hash: 55aab8f8-f527-2cf7-2e79-d0333ae50873, and path: /stelmo/nwb/analysis/Winnie20220718/Winnie20220718_EU4VTNZ3U4.nwb\n",
      "WARNING:datajoint:Skipped checksum for file with hash: 55aab8f8-f527-2cf7-2e79-d0333ae50873, and path: /stelmo/nwb/analysis/Winnie20220718/Winnie20220718_EU4VTNZ3U4.nwb\n"
     ]
    },
    {
     "name": "stdout",
     "output_type": "stream",
     "text": [
      "Slow Gamma 25-55 Hz Winnie20220718_.nwb pos 15 valid times f6e665fe-e567-0d6c-a211-eeaec06c18e8\n"
     ]
    },
    {
     "name": "stderr",
     "output_type": "stream",
     "text": [
      "[2023-12-06 08:59:02,438][WARNING]: Skipped checksum for file with hash: 55aab8f8-f527-2cf7-2e79-d0333ae50873, and path: /stelmo/nwb/analysis/Winnie20220718/Winnie20220718_EU4VTNZ3U4.nwb\n",
      "WARNING:datajoint:Skipped checksum for file with hash: 55aab8f8-f527-2cf7-2e79-d0333ae50873, and path: /stelmo/nwb/analysis/Winnie20220718/Winnie20220718_EU4VTNZ3U4.nwb\n"
     ]
    },
    {
     "name": "stdout",
     "output_type": "stream",
     "text": [
      "Fast Gamma 65-100 Hz Winnie20220718_.nwb pos 15 valid times f6e665fe-e567-0d6c-a211-eeaec06c18e8\n"
     ]
    },
    {
     "name": "stderr",
     "output_type": "stream",
     "text": [
      "[2023-12-06 08:59:03,445][WARNING]: Skipped checksum for file with hash: 2a51f7ab-b304-241c-4bc0-96a2e0bb2c5d, and path: /stelmo/nwb/analysis/Winnie20220718/Winnie20220718_DTYTUOC5RM.nwb\n",
      "WARNING:datajoint:Skipped checksum for file with hash: 2a51f7ab-b304-241c-4bc0-96a2e0bb2c5d, and path: /stelmo/nwb/analysis/Winnie20220718/Winnie20220718_DTYTUOC5RM.nwb\n"
     ]
    },
    {
     "name": "stdout",
     "output_type": "stream",
     "text": [
      "Slow Gamma 25-55 Hz Winnie20220718_.nwb pos 16 valid times bd843895-ece5-394e-4006-1a51f25cc28a\n"
     ]
    },
    {
     "name": "stderr",
     "output_type": "stream",
     "text": [
      "[2023-12-06 08:59:04,927][WARNING]: Skipped checksum for file with hash: 2a51f7ab-b304-241c-4bc0-96a2e0bb2c5d, and path: /stelmo/nwb/analysis/Winnie20220718/Winnie20220718_DTYTUOC5RM.nwb\n",
      "WARNING:datajoint:Skipped checksum for file with hash: 2a51f7ab-b304-241c-4bc0-96a2e0bb2c5d, and path: /stelmo/nwb/analysis/Winnie20220718/Winnie20220718_DTYTUOC5RM.nwb\n"
     ]
    },
    {
     "name": "stdout",
     "output_type": "stream",
     "text": [
      "Fast Gamma 65-100 Hz Winnie20220718_.nwb pos 16 valid times bd843895-ece5-394e-4006-1a51f25cc28a\n"
     ]
    },
    {
     "name": "stderr",
     "output_type": "stream",
     "text": [
      "[2023-12-06 08:59:05,870][WARNING]: Skipped checksum for file with hash: 2d48589e-5984-47b7-8f4f-9a7a0cb529f9, and path: /stelmo/nwb/analysis/Winnie20220718/Winnie20220718_4311FW75HL.nwb\n",
      "WARNING:datajoint:Skipped checksum for file with hash: 2d48589e-5984-47b7-8f4f-9a7a0cb529f9, and path: /stelmo/nwb/analysis/Winnie20220718/Winnie20220718_4311FW75HL.nwb\n"
     ]
    },
    {
     "name": "stdout",
     "output_type": "stream",
     "text": [
      "Slow Gamma 25-55 Hz Winnie20220718_.nwb pos 17 valid times a6664f82-570d-51eb-d9f7-539fc99fa3cd\n"
     ]
    },
    {
     "name": "stderr",
     "output_type": "stream",
     "text": [
      "[2023-12-06 08:59:07,329][WARNING]: Skipped checksum for file with hash: 2d48589e-5984-47b7-8f4f-9a7a0cb529f9, and path: /stelmo/nwb/analysis/Winnie20220718/Winnie20220718_4311FW75HL.nwb\n",
      "WARNING:datajoint:Skipped checksum for file with hash: 2d48589e-5984-47b7-8f4f-9a7a0cb529f9, and path: /stelmo/nwb/analysis/Winnie20220718/Winnie20220718_4311FW75HL.nwb\n"
     ]
    },
    {
     "name": "stdout",
     "output_type": "stream",
     "text": [
      "Fast Gamma 65-100 Hz Winnie20220718_.nwb pos 17 valid times a6664f82-570d-51eb-d9f7-539fc99fa3cd\n"
     ]
    },
    {
     "name": "stderr",
     "output_type": "stream",
     "text": [
      "[2023-12-06 08:59:08,303][WARNING]: Skipped checksum for file with hash: 9556ed48-6acb-eff4-8f1f-7443332a2f50, and path: /stelmo/nwb/analysis/Winnie20220718/Winnie20220718_SV7N0CX78K.nwb\n",
      "WARNING:datajoint:Skipped checksum for file with hash: 9556ed48-6acb-eff4-8f1f-7443332a2f50, and path: /stelmo/nwb/analysis/Winnie20220718/Winnie20220718_SV7N0CX78K.nwb\n"
     ]
    },
    {
     "name": "stdout",
     "output_type": "stream",
     "text": [
      "Slow Gamma 25-55 Hz Winnie20220718_.nwb pos 18 valid times 0d0e1706-7b8a-3962-397a-625b65a45214\n"
     ]
    },
    {
     "name": "stderr",
     "output_type": "stream",
     "text": [
      "[2023-12-06 08:59:09,810][WARNING]: Skipped checksum for file with hash: 9556ed48-6acb-eff4-8f1f-7443332a2f50, and path: /stelmo/nwb/analysis/Winnie20220718/Winnie20220718_SV7N0CX78K.nwb\n",
      "WARNING:datajoint:Skipped checksum for file with hash: 9556ed48-6acb-eff4-8f1f-7443332a2f50, and path: /stelmo/nwb/analysis/Winnie20220718/Winnie20220718_SV7N0CX78K.nwb\n"
     ]
    },
    {
     "name": "stdout",
     "output_type": "stream",
     "text": [
      "Fast Gamma 65-100 Hz Winnie20220718_.nwb pos 18 valid times 0d0e1706-7b8a-3962-397a-625b65a45214\n"
     ]
    },
    {
     "name": "stderr",
     "output_type": "stream",
     "text": [
      "[2023-12-06 08:59:10,787][WARNING]: Skipped checksum for file with hash: ad204e7e-fa04-72f1-c9c0-b9d076d3edc2, and path: /stelmo/nwb/analysis/Winnie20220718/Winnie20220718_6VBD7ZJU1E.nwb\n",
      "WARNING:datajoint:Skipped checksum for file with hash: ad204e7e-fa04-72f1-c9c0-b9d076d3edc2, and path: /stelmo/nwb/analysis/Winnie20220718/Winnie20220718_6VBD7ZJU1E.nwb\n"
     ]
    },
    {
     "name": "stdout",
     "output_type": "stream",
     "text": [
      "Slow Gamma 25-55 Hz Winnie20220718_.nwb pos 2 valid times 9cca11c6-986e-1824-8a2e-134051e39b00\n"
     ]
    },
    {
     "name": "stderr",
     "output_type": "stream",
     "text": [
      "[2023-12-06 08:59:12,454][WARNING]: Skipped checksum for file with hash: ad204e7e-fa04-72f1-c9c0-b9d076d3edc2, and path: /stelmo/nwb/analysis/Winnie20220718/Winnie20220718_6VBD7ZJU1E.nwb\n",
      "WARNING:datajoint:Skipped checksum for file with hash: ad204e7e-fa04-72f1-c9c0-b9d076d3edc2, and path: /stelmo/nwb/analysis/Winnie20220718/Winnie20220718_6VBD7ZJU1E.nwb\n"
     ]
    },
    {
     "name": "stdout",
     "output_type": "stream",
     "text": [
      "Fast Gamma 65-100 Hz Winnie20220718_.nwb pos 2 valid times 9cca11c6-986e-1824-8a2e-134051e39b00\n"
     ]
    },
    {
     "name": "stderr",
     "output_type": "stream",
     "text": [
      "[2023-12-06 08:59:13,474][WARNING]: Skipped checksum for file with hash: 66334312-d134-d808-9c0e-a5aa5b4a5e1c, and path: /stelmo/nwb/analysis/Winnie20220718/Winnie20220718_B6BF9U9VUN.nwb\n",
      "WARNING:datajoint:Skipped checksum for file with hash: 66334312-d134-d808-9c0e-a5aa5b4a5e1c, and path: /stelmo/nwb/analysis/Winnie20220718/Winnie20220718_B6BF9U9VUN.nwb\n"
     ]
    },
    {
     "name": "stdout",
     "output_type": "stream",
     "text": [
      "Slow Gamma 25-55 Hz Winnie20220718_.nwb pos 3 valid times f3ccaf78-47ce-4764-a789-d3578ece5049\n"
     ]
    },
    {
     "name": "stderr",
     "output_type": "stream",
     "text": [
      "[2023-12-06 08:59:14,995][WARNING]: Skipped checksum for file with hash: 66334312-d134-d808-9c0e-a5aa5b4a5e1c, and path: /stelmo/nwb/analysis/Winnie20220718/Winnie20220718_B6BF9U9VUN.nwb\n",
      "WARNING:datajoint:Skipped checksum for file with hash: 66334312-d134-d808-9c0e-a5aa5b4a5e1c, and path: /stelmo/nwb/analysis/Winnie20220718/Winnie20220718_B6BF9U9VUN.nwb\n"
     ]
    },
    {
     "name": "stdout",
     "output_type": "stream",
     "text": [
      "Fast Gamma 65-100 Hz Winnie20220718_.nwb pos 3 valid times f3ccaf78-47ce-4764-a789-d3578ece5049\n"
     ]
    },
    {
     "name": "stderr",
     "output_type": "stream",
     "text": [
      "[2023-12-06 08:59:15,988][WARNING]: Skipped checksum for file with hash: 296bafff-e450-6263-00eb-8364ecd4fab2, and path: /stelmo/nwb/analysis/Winnie20220718/Winnie20220718_OYEH3MJF1V.nwb\n",
      "WARNING:datajoint:Skipped checksum for file with hash: 296bafff-e450-6263-00eb-8364ecd4fab2, and path: /stelmo/nwb/analysis/Winnie20220718/Winnie20220718_OYEH3MJF1V.nwb\n"
     ]
    },
    {
     "name": "stdout",
     "output_type": "stream",
     "text": [
      "Slow Gamma 25-55 Hz Winnie20220718_.nwb pos 4 valid times 58afabaa-47b3-60c7-2f05-46c5b90617fe\n"
     ]
    },
    {
     "name": "stderr",
     "output_type": "stream",
     "text": [
      "[2023-12-06 08:59:17,493][WARNING]: Skipped checksum for file with hash: 296bafff-e450-6263-00eb-8364ecd4fab2, and path: /stelmo/nwb/analysis/Winnie20220718/Winnie20220718_OYEH3MJF1V.nwb\n",
      "WARNING:datajoint:Skipped checksum for file with hash: 296bafff-e450-6263-00eb-8364ecd4fab2, and path: /stelmo/nwb/analysis/Winnie20220718/Winnie20220718_OYEH3MJF1V.nwb\n"
     ]
    },
    {
     "name": "stdout",
     "output_type": "stream",
     "text": [
      "Fast Gamma 65-100 Hz Winnie20220718_.nwb pos 4 valid times 58afabaa-47b3-60c7-2f05-46c5b90617fe\n"
     ]
    },
    {
     "name": "stderr",
     "output_type": "stream",
     "text": [
      "[2023-12-06 08:59:18,498][WARNING]: Skipped checksum for file with hash: 158d392f-809b-656b-f9af-4cc8b65d3041, and path: /stelmo/nwb/analysis/Winnie20220718/Winnie20220718_074KB32E65.nwb\n",
      "WARNING:datajoint:Skipped checksum for file with hash: 158d392f-809b-656b-f9af-4cc8b65d3041, and path: /stelmo/nwb/analysis/Winnie20220718/Winnie20220718_074KB32E65.nwb\n"
     ]
    },
    {
     "name": "stdout",
     "output_type": "stream",
     "text": [
      "Slow Gamma 25-55 Hz Winnie20220718_.nwb pos 5 valid times 5febe458-9c62-7b90-14ad-77dbbde925a4\n"
     ]
    },
    {
     "name": "stderr",
     "output_type": "stream",
     "text": [
      "[2023-12-06 08:59:20,004][WARNING]: Skipped checksum for file with hash: 158d392f-809b-656b-f9af-4cc8b65d3041, and path: /stelmo/nwb/analysis/Winnie20220718/Winnie20220718_074KB32E65.nwb\n",
      "WARNING:datajoint:Skipped checksum for file with hash: 158d392f-809b-656b-f9af-4cc8b65d3041, and path: /stelmo/nwb/analysis/Winnie20220718/Winnie20220718_074KB32E65.nwb\n"
     ]
    },
    {
     "name": "stdout",
     "output_type": "stream",
     "text": [
      "Fast Gamma 65-100 Hz Winnie20220718_.nwb pos 5 valid times 5febe458-9c62-7b90-14ad-77dbbde925a4\n"
     ]
    },
    {
     "name": "stderr",
     "output_type": "stream",
     "text": [
      "[2023-12-06 08:59:21,028][WARNING]: Skipped checksum for file with hash: 0500b1b8-30d7-d1b0-fc3f-e69379ef3c7c, and path: /stelmo/nwb/analysis/Winnie20220718/Winnie20220718_JN19HSGFES.nwb\n",
      "WARNING:datajoint:Skipped checksum for file with hash: 0500b1b8-30d7-d1b0-fc3f-e69379ef3c7c, and path: /stelmo/nwb/analysis/Winnie20220718/Winnie20220718_JN19HSGFES.nwb\n"
     ]
    },
    {
     "name": "stdout",
     "output_type": "stream",
     "text": [
      "Slow Gamma 25-55 Hz Winnie20220718_.nwb pos 6 valid times 5a639bb0-658f-93c9-2025-68af1aeb2c8c\n"
     ]
    },
    {
     "name": "stderr",
     "output_type": "stream",
     "text": [
      "[2023-12-06 08:59:22,538][WARNING]: Skipped checksum for file with hash: 0500b1b8-30d7-d1b0-fc3f-e69379ef3c7c, and path: /stelmo/nwb/analysis/Winnie20220718/Winnie20220718_JN19HSGFES.nwb\n",
      "WARNING:datajoint:Skipped checksum for file with hash: 0500b1b8-30d7-d1b0-fc3f-e69379ef3c7c, and path: /stelmo/nwb/analysis/Winnie20220718/Winnie20220718_JN19HSGFES.nwb\n"
     ]
    },
    {
     "name": "stdout",
     "output_type": "stream",
     "text": [
      "Fast Gamma 65-100 Hz Winnie20220718_.nwb pos 6 valid times 5a639bb0-658f-93c9-2025-68af1aeb2c8c\n"
     ]
    },
    {
     "name": "stderr",
     "output_type": "stream",
     "text": [
      "[2023-12-06 08:59:23,548][WARNING]: Skipped checksum for file with hash: 4245291e-8d4e-6d85-e57f-bbbba65cd20d, and path: /stelmo/nwb/analysis/Winnie20220718/Winnie20220718_5Z3QNWUO53.nwb\n",
      "WARNING:datajoint:Skipped checksum for file with hash: 4245291e-8d4e-6d85-e57f-bbbba65cd20d, and path: /stelmo/nwb/analysis/Winnie20220718/Winnie20220718_5Z3QNWUO53.nwb\n"
     ]
    },
    {
     "name": "stdout",
     "output_type": "stream",
     "text": [
      "Slow Gamma 25-55 Hz Winnie20220718_.nwb pos 7 valid times 666b96fa-b908-7509-13fb-9005a9ad6396\n"
     ]
    },
    {
     "name": "stderr",
     "output_type": "stream",
     "text": [
      "[2023-12-06 08:59:25,073][WARNING]: Skipped checksum for file with hash: 4245291e-8d4e-6d85-e57f-bbbba65cd20d, and path: /stelmo/nwb/analysis/Winnie20220718/Winnie20220718_5Z3QNWUO53.nwb\n",
      "WARNING:datajoint:Skipped checksum for file with hash: 4245291e-8d4e-6d85-e57f-bbbba65cd20d, and path: /stelmo/nwb/analysis/Winnie20220718/Winnie20220718_5Z3QNWUO53.nwb\n"
     ]
    },
    {
     "name": "stdout",
     "output_type": "stream",
     "text": [
      "Fast Gamma 65-100 Hz Winnie20220718_.nwb pos 7 valid times 666b96fa-b908-7509-13fb-9005a9ad6396\n"
     ]
    },
    {
     "name": "stderr",
     "output_type": "stream",
     "text": [
      "[2023-12-06 08:59:26,082][WARNING]: Skipped checksum for file with hash: 19ce9ead-1dbd-db44-6c79-1553869f620b, and path: /stelmo/nwb/analysis/Winnie20220718/Winnie20220718_4WZP9CJUKC.nwb\n",
      "WARNING:datajoint:Skipped checksum for file with hash: 19ce9ead-1dbd-db44-6c79-1553869f620b, and path: /stelmo/nwb/analysis/Winnie20220718/Winnie20220718_4WZP9CJUKC.nwb\n"
     ]
    },
    {
     "name": "stdout",
     "output_type": "stream",
     "text": [
      "Slow Gamma 25-55 Hz Winnie20220718_.nwb pos 8 valid times a1bdf8e3-3d65-de0d-3cf7-7e8c5f5b7526\n"
     ]
    },
    {
     "name": "stderr",
     "output_type": "stream",
     "text": [
      "[2023-12-06 08:59:27,595][WARNING]: Skipped checksum for file with hash: 19ce9ead-1dbd-db44-6c79-1553869f620b, and path: /stelmo/nwb/analysis/Winnie20220718/Winnie20220718_4WZP9CJUKC.nwb\n",
      "WARNING:datajoint:Skipped checksum for file with hash: 19ce9ead-1dbd-db44-6c79-1553869f620b, and path: /stelmo/nwb/analysis/Winnie20220718/Winnie20220718_4WZP9CJUKC.nwb\n"
     ]
    },
    {
     "name": "stdout",
     "output_type": "stream",
     "text": [
      "Fast Gamma 65-100 Hz Winnie20220718_.nwb pos 8 valid times a1bdf8e3-3d65-de0d-3cf7-7e8c5f5b7526\n"
     ]
    },
    {
     "name": "stderr",
     "output_type": "stream",
     "text": [
      "[2023-12-06 08:59:28,560][WARNING]: Skipped checksum for file with hash: 1fdc2256-6cd8-1db4-0d4f-a6b448263887, and path: /stelmo/nwb/analysis/Winnie20220718/Winnie20220718_9JSCMPL08G.nwb\n",
      "WARNING:datajoint:Skipped checksum for file with hash: 1fdc2256-6cd8-1db4-0d4f-a6b448263887, and path: /stelmo/nwb/analysis/Winnie20220718/Winnie20220718_9JSCMPL08G.nwb\n"
     ]
    },
    {
     "name": "stdout",
     "output_type": "stream",
     "text": [
      "Slow Gamma 25-55 Hz Winnie20220718_.nwb pos 9 valid times 75376676-f63e-3bca-6198-e9ae1936665d\n"
     ]
    },
    {
     "name": "stderr",
     "output_type": "stream",
     "text": [
      "[2023-12-06 08:59:30,020][WARNING]: Skipped checksum for file with hash: 1fdc2256-6cd8-1db4-0d4f-a6b448263887, and path: /stelmo/nwb/analysis/Winnie20220718/Winnie20220718_9JSCMPL08G.nwb\n",
      "WARNING:datajoint:Skipped checksum for file with hash: 1fdc2256-6cd8-1db4-0d4f-a6b448263887, and path: /stelmo/nwb/analysis/Winnie20220718/Winnie20220718_9JSCMPL08G.nwb\n"
     ]
    },
    {
     "name": "stdout",
     "output_type": "stream",
     "text": [
      "Fast Gamma 65-100 Hz Winnie20220718_.nwb pos 9 valid times 75376676-f63e-3bca-6198-e9ae1936665d\n"
     ]
    },
    {
     "name": "stderr",
     "output_type": "stream",
     "text": [
      "[2023-12-06 08:59:30,959][WARNING]: Skipped checksum for file with hash: 7c3d35fc-be59-d673-e0dd-99ab28f80a51, and path: /stelmo/nwb/analysis/Winnie20220719/Winnie20220719_678A8KELRY.nwb\n",
      "WARNING:datajoint:Skipped checksum for file with hash: 7c3d35fc-be59-d673-e0dd-99ab28f80a51, and path: /stelmo/nwb/analysis/Winnie20220719/Winnie20220719_678A8KELRY.nwb\n"
     ]
    },
    {
     "name": "stdout",
     "output_type": "stream",
     "text": [
      "Slow Gamma 25-55 Hz Winnie20220719_.nwb pos 0 valid times b922ec59-760c-8b97-7415-d19823f29b57\n"
     ]
    },
    {
     "name": "stderr",
     "output_type": "stream",
     "text": [
      "[2023-12-06 08:59:32,408][WARNING]: Skipped checksum for file with hash: 7c3d35fc-be59-d673-e0dd-99ab28f80a51, and path: /stelmo/nwb/analysis/Winnie20220719/Winnie20220719_678A8KELRY.nwb\n",
      "WARNING:datajoint:Skipped checksum for file with hash: 7c3d35fc-be59-d673-e0dd-99ab28f80a51, and path: /stelmo/nwb/analysis/Winnie20220719/Winnie20220719_678A8KELRY.nwb\n"
     ]
    },
    {
     "name": "stdout",
     "output_type": "stream",
     "text": [
      "Fast Gamma 65-100 Hz Winnie20220719_.nwb pos 0 valid times b922ec59-760c-8b97-7415-d19823f29b57\n"
     ]
    },
    {
     "name": "stderr",
     "output_type": "stream",
     "text": [
      "[2023-12-06 08:59:33,377][WARNING]: Skipped checksum for file with hash: 5ab9a48b-b954-78cf-baec-9c3c449cce8c, and path: /stelmo/nwb/analysis/Winnie20220719/Winnie20220719_DAH73IB43C.nwb\n",
      "WARNING:datajoint:Skipped checksum for file with hash: 5ab9a48b-b954-78cf-baec-9c3c449cce8c, and path: /stelmo/nwb/analysis/Winnie20220719/Winnie20220719_DAH73IB43C.nwb\n"
     ]
    },
    {
     "name": "stdout",
     "output_type": "stream",
     "text": [
      "Slow Gamma 25-55 Hz Winnie20220719_.nwb pos 1 valid times 580c130a-5fd3-39cd-6cf0-32154e44c9df\n"
     ]
    },
    {
     "name": "stderr",
     "output_type": "stream",
     "text": [
      "[2023-12-06 08:59:34,874][WARNING]: Skipped checksum for file with hash: 5ab9a48b-b954-78cf-baec-9c3c449cce8c, and path: /stelmo/nwb/analysis/Winnie20220719/Winnie20220719_DAH73IB43C.nwb\n",
      "WARNING:datajoint:Skipped checksum for file with hash: 5ab9a48b-b954-78cf-baec-9c3c449cce8c, and path: /stelmo/nwb/analysis/Winnie20220719/Winnie20220719_DAH73IB43C.nwb\n"
     ]
    },
    {
     "name": "stdout",
     "output_type": "stream",
     "text": [
      "Fast Gamma 65-100 Hz Winnie20220719_.nwb pos 1 valid times 580c130a-5fd3-39cd-6cf0-32154e44c9df\n"
     ]
    },
    {
     "name": "stderr",
     "output_type": "stream",
     "text": [
      "[2023-12-06 08:59:35,833][WARNING]: Skipped checksum for file with hash: ee919ca7-3e68-a432-c934-00b4adfe211a, and path: /stelmo/nwb/analysis/Winnie20220719/Winnie20220719_3CFB8UQI1H.nwb\n",
      "WARNING:datajoint:Skipped checksum for file with hash: ee919ca7-3e68-a432-c934-00b4adfe211a, and path: /stelmo/nwb/analysis/Winnie20220719/Winnie20220719_3CFB8UQI1H.nwb\n"
     ]
    },
    {
     "name": "stdout",
     "output_type": "stream",
     "text": [
      "Slow Gamma 25-55 Hz Winnie20220719_.nwb pos 10 valid times e57c1879-0279-47e2-c1ba-5774c10075ba\n"
     ]
    },
    {
     "name": "stderr",
     "output_type": "stream",
     "text": [
      "[2023-12-06 08:59:37,346][WARNING]: Skipped checksum for file with hash: ee919ca7-3e68-a432-c934-00b4adfe211a, and path: /stelmo/nwb/analysis/Winnie20220719/Winnie20220719_3CFB8UQI1H.nwb\n",
      "WARNING:datajoint:Skipped checksum for file with hash: ee919ca7-3e68-a432-c934-00b4adfe211a, and path: /stelmo/nwb/analysis/Winnie20220719/Winnie20220719_3CFB8UQI1H.nwb\n"
     ]
    },
    {
     "name": "stdout",
     "output_type": "stream",
     "text": [
      "Fast Gamma 65-100 Hz Winnie20220719_.nwb pos 10 valid times e57c1879-0279-47e2-c1ba-5774c10075ba\n"
     ]
    },
    {
     "name": "stderr",
     "output_type": "stream",
     "text": [
      "[2023-12-06 08:59:38,352][WARNING]: Skipped checksum for file with hash: 96da0ea6-2a11-dc41-4e5f-f8ae53a0c82d, and path: /stelmo/nwb/analysis/Winnie20220719/Winnie20220719_VGTHQ1KADN.nwb\n",
      "WARNING:datajoint:Skipped checksum for file with hash: 96da0ea6-2a11-dc41-4e5f-f8ae53a0c82d, and path: /stelmo/nwb/analysis/Winnie20220719/Winnie20220719_VGTHQ1KADN.nwb\n"
     ]
    },
    {
     "name": "stdout",
     "output_type": "stream",
     "text": [
      "Slow Gamma 25-55 Hz Winnie20220719_.nwb pos 11 valid times 300cebbc-07d5-85d2-de9c-3a36bf3bdb5b\n"
     ]
    },
    {
     "name": "stderr",
     "output_type": "stream",
     "text": [
      "[2023-12-06 08:59:39,875][WARNING]: Skipped checksum for file with hash: 96da0ea6-2a11-dc41-4e5f-f8ae53a0c82d, and path: /stelmo/nwb/analysis/Winnie20220719/Winnie20220719_VGTHQ1KADN.nwb\n",
      "WARNING:datajoint:Skipped checksum for file with hash: 96da0ea6-2a11-dc41-4e5f-f8ae53a0c82d, and path: /stelmo/nwb/analysis/Winnie20220719/Winnie20220719_VGTHQ1KADN.nwb\n"
     ]
    },
    {
     "name": "stdout",
     "output_type": "stream",
     "text": [
      "Fast Gamma 65-100 Hz Winnie20220719_.nwb pos 11 valid times 300cebbc-07d5-85d2-de9c-3a36bf3bdb5b\n"
     ]
    },
    {
     "name": "stderr",
     "output_type": "stream",
     "text": [
      "[2023-12-06 08:59:40,870][WARNING]: Skipped checksum for file with hash: 878721c0-fb53-350b-738f-f3f108659706, and path: /stelmo/nwb/analysis/Winnie20220719/Winnie20220719_1GQL3FLEIY.nwb\n",
      "WARNING:datajoint:Skipped checksum for file with hash: 878721c0-fb53-350b-738f-f3f108659706, and path: /stelmo/nwb/analysis/Winnie20220719/Winnie20220719_1GQL3FLEIY.nwb\n"
     ]
    },
    {
     "name": "stdout",
     "output_type": "stream",
     "text": [
      "Slow Gamma 25-55 Hz Winnie20220719_.nwb pos 12 valid times 1dd301be-ec46-e1d1-f3e2-dfd64982f5c4\n"
     ]
    },
    {
     "name": "stderr",
     "output_type": "stream",
     "text": [
      "[2023-12-06 08:59:42,335][WARNING]: Skipped checksum for file with hash: 878721c0-fb53-350b-738f-f3f108659706, and path: /stelmo/nwb/analysis/Winnie20220719/Winnie20220719_1GQL3FLEIY.nwb\n",
      "WARNING:datajoint:Skipped checksum for file with hash: 878721c0-fb53-350b-738f-f3f108659706, and path: /stelmo/nwb/analysis/Winnie20220719/Winnie20220719_1GQL3FLEIY.nwb\n"
     ]
    },
    {
     "name": "stdout",
     "output_type": "stream",
     "text": [
      "Fast Gamma 65-100 Hz Winnie20220719_.nwb pos 12 valid times 1dd301be-ec46-e1d1-f3e2-dfd64982f5c4\n"
     ]
    },
    {
     "name": "stderr",
     "output_type": "stream",
     "text": [
      "[2023-12-06 08:59:43,345][WARNING]: Skipped checksum for file with hash: e5fa687b-ae19-6cd4-537b-2def0391eafc, and path: /stelmo/nwb/analysis/Winnie20220719/Winnie20220719_8XWFML8ZJI.nwb\n",
      "WARNING:datajoint:Skipped checksum for file with hash: e5fa687b-ae19-6cd4-537b-2def0391eafc, and path: /stelmo/nwb/analysis/Winnie20220719/Winnie20220719_8XWFML8ZJI.nwb\n"
     ]
    },
    {
     "name": "stdout",
     "output_type": "stream",
     "text": [
      "Slow Gamma 25-55 Hz Winnie20220719_.nwb pos 13 valid times 752d4ece-1f0a-61c9-0bd8-9e7ad382a90f\n"
     ]
    },
    {
     "name": "stderr",
     "output_type": "stream",
     "text": [
      "[2023-12-06 08:59:44,838][WARNING]: Skipped checksum for file with hash: e5fa687b-ae19-6cd4-537b-2def0391eafc, and path: /stelmo/nwb/analysis/Winnie20220719/Winnie20220719_8XWFML8ZJI.nwb\n",
      "WARNING:datajoint:Skipped checksum for file with hash: e5fa687b-ae19-6cd4-537b-2def0391eafc, and path: /stelmo/nwb/analysis/Winnie20220719/Winnie20220719_8XWFML8ZJI.nwb\n"
     ]
    },
    {
     "name": "stdout",
     "output_type": "stream",
     "text": [
      "Fast Gamma 65-100 Hz Winnie20220719_.nwb pos 13 valid times 752d4ece-1f0a-61c9-0bd8-9e7ad382a90f\n"
     ]
    },
    {
     "name": "stderr",
     "output_type": "stream",
     "text": [
      "[2023-12-06 08:59:45,787][WARNING]: Skipped checksum for file with hash: dbd970b0-d769-b7ee-d1d3-0453968085cf, and path: /stelmo/nwb/analysis/Winnie20220719/Winnie20220719_56OBQEL4DA.nwb\n",
      "WARNING:datajoint:Skipped checksum for file with hash: dbd970b0-d769-b7ee-d1d3-0453968085cf, and path: /stelmo/nwb/analysis/Winnie20220719/Winnie20220719_56OBQEL4DA.nwb\n"
     ]
    },
    {
     "name": "stdout",
     "output_type": "stream",
     "text": [
      "Slow Gamma 25-55 Hz Winnie20220719_.nwb pos 14 valid times 3bd36040-1afb-b0a0-2459-3aa4abc99109\n"
     ]
    },
    {
     "name": "stderr",
     "output_type": "stream",
     "text": [
      "[2023-12-06 08:59:47,227][WARNING]: Skipped checksum for file with hash: dbd970b0-d769-b7ee-d1d3-0453968085cf, and path: /stelmo/nwb/analysis/Winnie20220719/Winnie20220719_56OBQEL4DA.nwb\n",
      "WARNING:datajoint:Skipped checksum for file with hash: dbd970b0-d769-b7ee-d1d3-0453968085cf, and path: /stelmo/nwb/analysis/Winnie20220719/Winnie20220719_56OBQEL4DA.nwb\n"
     ]
    },
    {
     "name": "stdout",
     "output_type": "stream",
     "text": [
      "Fast Gamma 65-100 Hz Winnie20220719_.nwb pos 14 valid times 3bd36040-1afb-b0a0-2459-3aa4abc99109\n"
     ]
    },
    {
     "name": "stderr",
     "output_type": "stream",
     "text": [
      "[2023-12-06 08:59:48,127][WARNING]: Skipped checksum for file with hash: 9900348e-0f0f-8b40-2165-4ac2b8d7fc8b, and path: /stelmo/nwb/analysis/Winnie20220719/Winnie20220719_DNV5CPN437.nwb\n",
      "WARNING:datajoint:Skipped checksum for file with hash: 9900348e-0f0f-8b40-2165-4ac2b8d7fc8b, and path: /stelmo/nwb/analysis/Winnie20220719/Winnie20220719_DNV5CPN437.nwb\n"
     ]
    },
    {
     "name": "stdout",
     "output_type": "stream",
     "text": [
      "Slow Gamma 25-55 Hz Winnie20220719_.nwb pos 15 valid times 30c6a4ac-0971-1d0d-216f-0eb9f5c546c7\n"
     ]
    },
    {
     "name": "stderr",
     "output_type": "stream",
     "text": [
      "[2023-12-06 08:59:49,643][WARNING]: Skipped checksum for file with hash: 9900348e-0f0f-8b40-2165-4ac2b8d7fc8b, and path: /stelmo/nwb/analysis/Winnie20220719/Winnie20220719_DNV5CPN437.nwb\n",
      "WARNING:datajoint:Skipped checksum for file with hash: 9900348e-0f0f-8b40-2165-4ac2b8d7fc8b, and path: /stelmo/nwb/analysis/Winnie20220719/Winnie20220719_DNV5CPN437.nwb\n"
     ]
    },
    {
     "name": "stdout",
     "output_type": "stream",
     "text": [
      "Fast Gamma 65-100 Hz Winnie20220719_.nwb pos 15 valid times 30c6a4ac-0971-1d0d-216f-0eb9f5c546c7\n"
     ]
    },
    {
     "name": "stderr",
     "output_type": "stream",
     "text": [
      "[2023-12-06 08:59:50,643][WARNING]: Skipped checksum for file with hash: 719a398b-a706-610d-6e2b-e199fbd57ed0, and path: /stelmo/nwb/analysis/Winnie20220719/Winnie20220719_F1A7FLOIH1.nwb\n",
      "WARNING:datajoint:Skipped checksum for file with hash: 719a398b-a706-610d-6e2b-e199fbd57ed0, and path: /stelmo/nwb/analysis/Winnie20220719/Winnie20220719_F1A7FLOIH1.nwb\n"
     ]
    },
    {
     "name": "stdout",
     "output_type": "stream",
     "text": [
      "Slow Gamma 25-55 Hz Winnie20220719_.nwb pos 16 valid times 259fd840-41fd-fe05-9c3c-0f8846d5e5a6\n"
     ]
    },
    {
     "name": "stderr",
     "output_type": "stream",
     "text": [
      "[2023-12-06 08:59:52,159][WARNING]: Skipped checksum for file with hash: 719a398b-a706-610d-6e2b-e199fbd57ed0, and path: /stelmo/nwb/analysis/Winnie20220719/Winnie20220719_F1A7FLOIH1.nwb\n",
      "WARNING:datajoint:Skipped checksum for file with hash: 719a398b-a706-610d-6e2b-e199fbd57ed0, and path: /stelmo/nwb/analysis/Winnie20220719/Winnie20220719_F1A7FLOIH1.nwb\n"
     ]
    },
    {
     "name": "stdout",
     "output_type": "stream",
     "text": [
      "Fast Gamma 65-100 Hz Winnie20220719_.nwb pos 16 valid times 259fd840-41fd-fe05-9c3c-0f8846d5e5a6\n"
     ]
    },
    {
     "name": "stderr",
     "output_type": "stream",
     "text": [
      "[2023-12-06 08:59:53,065][WARNING]: Skipped checksum for file with hash: 78e4ea3d-7aab-1c11-a97b-3e485ee57f6a, and path: /stelmo/nwb/analysis/Winnie20220719/Winnie20220719_RDCYG8472Q.nwb\n",
      "WARNING:datajoint:Skipped checksum for file with hash: 78e4ea3d-7aab-1c11-a97b-3e485ee57f6a, and path: /stelmo/nwb/analysis/Winnie20220719/Winnie20220719_RDCYG8472Q.nwb\n"
     ]
    },
    {
     "name": "stdout",
     "output_type": "stream",
     "text": [
      "Slow Gamma 25-55 Hz Winnie20220719_.nwb pos 17 valid times 4800a1c2-1900-debf-63fb-a8396d6b82fa\n"
     ]
    },
    {
     "name": "stderr",
     "output_type": "stream",
     "text": [
      "[2023-12-06 08:59:54,508][WARNING]: Skipped checksum for file with hash: 78e4ea3d-7aab-1c11-a97b-3e485ee57f6a, and path: /stelmo/nwb/analysis/Winnie20220719/Winnie20220719_RDCYG8472Q.nwb\n",
      "WARNING:datajoint:Skipped checksum for file with hash: 78e4ea3d-7aab-1c11-a97b-3e485ee57f6a, and path: /stelmo/nwb/analysis/Winnie20220719/Winnie20220719_RDCYG8472Q.nwb\n"
     ]
    },
    {
     "name": "stdout",
     "output_type": "stream",
     "text": [
      "Fast Gamma 65-100 Hz Winnie20220719_.nwb pos 17 valid times 4800a1c2-1900-debf-63fb-a8396d6b82fa\n"
     ]
    },
    {
     "name": "stderr",
     "output_type": "stream",
     "text": [
      "[2023-12-06 08:59:55,455][WARNING]: Skipped checksum for file with hash: f4d858fd-5165-91d6-fd68-78103b498c4e, and path: /stelmo/nwb/analysis/Winnie20220719/Winnie20220719_64YTJQ9YJQ.nwb\n",
      "WARNING:datajoint:Skipped checksum for file with hash: f4d858fd-5165-91d6-fd68-78103b498c4e, and path: /stelmo/nwb/analysis/Winnie20220719/Winnie20220719_64YTJQ9YJQ.nwb\n"
     ]
    },
    {
     "name": "stdout",
     "output_type": "stream",
     "text": [
      "Slow Gamma 25-55 Hz Winnie20220719_.nwb pos 18 valid times e118bf76-2353-c4f3-878d-03724b1e0bd6\n"
     ]
    },
    {
     "name": "stderr",
     "output_type": "stream",
     "text": [
      "[2023-12-06 08:59:56,942][WARNING]: Skipped checksum for file with hash: f4d858fd-5165-91d6-fd68-78103b498c4e, and path: /stelmo/nwb/analysis/Winnie20220719/Winnie20220719_64YTJQ9YJQ.nwb\n",
      "WARNING:datajoint:Skipped checksum for file with hash: f4d858fd-5165-91d6-fd68-78103b498c4e, and path: /stelmo/nwb/analysis/Winnie20220719/Winnie20220719_64YTJQ9YJQ.nwb\n"
     ]
    },
    {
     "name": "stdout",
     "output_type": "stream",
     "text": [
      "Fast Gamma 65-100 Hz Winnie20220719_.nwb pos 18 valid times e118bf76-2353-c4f3-878d-03724b1e0bd6\n"
     ]
    },
    {
     "name": "stderr",
     "output_type": "stream",
     "text": [
      "[2023-12-06 08:59:57,972][WARNING]: Skipped checksum for file with hash: d5fedce3-6bdc-d17a-d7fc-748346a236e4, and path: /stelmo/nwb/analysis/Winnie20220719/Winnie20220719_8CJ8NND7VS.nwb\n",
      "WARNING:datajoint:Skipped checksum for file with hash: d5fedce3-6bdc-d17a-d7fc-748346a236e4, and path: /stelmo/nwb/analysis/Winnie20220719/Winnie20220719_8CJ8NND7VS.nwb\n"
     ]
    },
    {
     "name": "stdout",
     "output_type": "stream",
     "text": [
      "Slow Gamma 25-55 Hz Winnie20220719_.nwb pos 2 valid times 5518c9e6-7ab0-9c4f-72ed-5bfd0dd4ce9d\n"
     ]
    },
    {
     "name": "stderr",
     "output_type": "stream",
     "text": [
      "[2023-12-06 08:59:59,422][WARNING]: Skipped checksum for file with hash: d5fedce3-6bdc-d17a-d7fc-748346a236e4, and path: /stelmo/nwb/analysis/Winnie20220719/Winnie20220719_8CJ8NND7VS.nwb\n",
      "WARNING:datajoint:Skipped checksum for file with hash: d5fedce3-6bdc-d17a-d7fc-748346a236e4, and path: /stelmo/nwb/analysis/Winnie20220719/Winnie20220719_8CJ8NND7VS.nwb\n"
     ]
    },
    {
     "name": "stdout",
     "output_type": "stream",
     "text": [
      "Fast Gamma 65-100 Hz Winnie20220719_.nwb pos 2 valid times 5518c9e6-7ab0-9c4f-72ed-5bfd0dd4ce9d\n"
     ]
    },
    {
     "name": "stderr",
     "output_type": "stream",
     "text": [
      "[2023-12-06 09:00:00,407][WARNING]: Skipped checksum for file with hash: f88d2f50-495f-b661-f96b-1ad71e9e7dfa, and path: /stelmo/nwb/analysis/Winnie20220719/Winnie20220719_QP4ILV3QVE.nwb\n",
      "WARNING:datajoint:Skipped checksum for file with hash: f88d2f50-495f-b661-f96b-1ad71e9e7dfa, and path: /stelmo/nwb/analysis/Winnie20220719/Winnie20220719_QP4ILV3QVE.nwb\n"
     ]
    },
    {
     "name": "stdout",
     "output_type": "stream",
     "text": [
      "Slow Gamma 25-55 Hz Winnie20220719_.nwb pos 3 valid times 25ce9c7b-84e5-8199-fa2d-acb522c825d4\n"
     ]
    },
    {
     "name": "stderr",
     "output_type": "stream",
     "text": [
      "[2023-12-06 09:00:01,726][WARNING]: Skipped checksum for file with hash: f88d2f50-495f-b661-f96b-1ad71e9e7dfa, and path: /stelmo/nwb/analysis/Winnie20220719/Winnie20220719_QP4ILV3QVE.nwb\n",
      "WARNING:datajoint:Skipped checksum for file with hash: f88d2f50-495f-b661-f96b-1ad71e9e7dfa, and path: /stelmo/nwb/analysis/Winnie20220719/Winnie20220719_QP4ILV3QVE.nwb\n"
     ]
    },
    {
     "name": "stdout",
     "output_type": "stream",
     "text": [
      "Fast Gamma 65-100 Hz Winnie20220719_.nwb pos 3 valid times 25ce9c7b-84e5-8199-fa2d-acb522c825d4\n"
     ]
    },
    {
     "name": "stderr",
     "output_type": "stream",
     "text": [
      "[2023-12-06 09:00:02,685][WARNING]: Skipped checksum for file with hash: e69355cf-b311-c62a-0cac-347182fc364d, and path: /stelmo/nwb/analysis/Winnie20220719/Winnie20220719_5JRUXSQQY3.nwb\n",
      "WARNING:datajoint:Skipped checksum for file with hash: e69355cf-b311-c62a-0cac-347182fc364d, and path: /stelmo/nwb/analysis/Winnie20220719/Winnie20220719_5JRUXSQQY3.nwb\n"
     ]
    },
    {
     "name": "stdout",
     "output_type": "stream",
     "text": [
      "Slow Gamma 25-55 Hz Winnie20220719_.nwb pos 4 valid times d3d2487b-bb7a-a3b8-6245-50d130698ff8\n"
     ]
    },
    {
     "name": "stderr",
     "output_type": "stream",
     "text": [
      "[2023-12-06 09:00:04,131][WARNING]: Skipped checksum for file with hash: e69355cf-b311-c62a-0cac-347182fc364d, and path: /stelmo/nwb/analysis/Winnie20220719/Winnie20220719_5JRUXSQQY3.nwb\n",
      "WARNING:datajoint:Skipped checksum for file with hash: e69355cf-b311-c62a-0cac-347182fc364d, and path: /stelmo/nwb/analysis/Winnie20220719/Winnie20220719_5JRUXSQQY3.nwb\n"
     ]
    },
    {
     "name": "stdout",
     "output_type": "stream",
     "text": [
      "Fast Gamma 65-100 Hz Winnie20220719_.nwb pos 4 valid times d3d2487b-bb7a-a3b8-6245-50d130698ff8\n"
     ]
    },
    {
     "name": "stderr",
     "output_type": "stream",
     "text": [
      "[2023-12-06 09:00:05,011][WARNING]: Skipped checksum for file with hash: 0734d2c4-84bc-77ab-21c3-8808634fc0a5, and path: /stelmo/nwb/analysis/Winnie20220719/Winnie20220719_8CMXVMQCZ2.nwb\n",
      "WARNING:datajoint:Skipped checksum for file with hash: 0734d2c4-84bc-77ab-21c3-8808634fc0a5, and path: /stelmo/nwb/analysis/Winnie20220719/Winnie20220719_8CMXVMQCZ2.nwb\n"
     ]
    },
    {
     "name": "stdout",
     "output_type": "stream",
     "text": [
      "Slow Gamma 25-55 Hz Winnie20220719_.nwb pos 5 valid times 5dfe01a2-9d5d-5525-a3c0-1a134bb1476d\n"
     ]
    },
    {
     "name": "stderr",
     "output_type": "stream",
     "text": [
      "[2023-12-06 09:00:06,425][WARNING]: Skipped checksum for file with hash: 0734d2c4-84bc-77ab-21c3-8808634fc0a5, and path: /stelmo/nwb/analysis/Winnie20220719/Winnie20220719_8CMXVMQCZ2.nwb\n",
      "WARNING:datajoint:Skipped checksum for file with hash: 0734d2c4-84bc-77ab-21c3-8808634fc0a5, and path: /stelmo/nwb/analysis/Winnie20220719/Winnie20220719_8CMXVMQCZ2.nwb\n"
     ]
    },
    {
     "name": "stdout",
     "output_type": "stream",
     "text": [
      "Fast Gamma 65-100 Hz Winnie20220719_.nwb pos 5 valid times 5dfe01a2-9d5d-5525-a3c0-1a134bb1476d\n"
     ]
    },
    {
     "name": "stderr",
     "output_type": "stream",
     "text": [
      "[2023-12-06 09:00:07,412][WARNING]: Skipped checksum for file with hash: ea3dd53c-2a58-3b46-bd20-2a5d12e0daad, and path: /stelmo/nwb/analysis/Winnie20220719/Winnie20220719_ND5QQT3D5L.nwb\n",
      "WARNING:datajoint:Skipped checksum for file with hash: ea3dd53c-2a58-3b46-bd20-2a5d12e0daad, and path: /stelmo/nwb/analysis/Winnie20220719/Winnie20220719_ND5QQT3D5L.nwb\n"
     ]
    },
    {
     "name": "stdout",
     "output_type": "stream",
     "text": [
      "Slow Gamma 25-55 Hz Winnie20220719_.nwb pos 6 valid times 3c8212ca-ceb8-1578-e2c2-f205af0a8441\n"
     ]
    },
    {
     "name": "stderr",
     "output_type": "stream",
     "text": [
      "[2023-12-06 09:00:08,942][WARNING]: Skipped checksum for file with hash: ea3dd53c-2a58-3b46-bd20-2a5d12e0daad, and path: /stelmo/nwb/analysis/Winnie20220719/Winnie20220719_ND5QQT3D5L.nwb\n",
      "WARNING:datajoint:Skipped checksum for file with hash: ea3dd53c-2a58-3b46-bd20-2a5d12e0daad, and path: /stelmo/nwb/analysis/Winnie20220719/Winnie20220719_ND5QQT3D5L.nwb\n"
     ]
    },
    {
     "name": "stdout",
     "output_type": "stream",
     "text": [
      "Fast Gamma 65-100 Hz Winnie20220719_.nwb pos 6 valid times 3c8212ca-ceb8-1578-e2c2-f205af0a8441\n"
     ]
    },
    {
     "name": "stderr",
     "output_type": "stream",
     "text": [
      "[2023-12-06 09:00:09,888][WARNING]: Skipped checksum for file with hash: aa369596-142f-cbb7-206b-b57af2887f0a, and path: /stelmo/nwb/analysis/Winnie20220719/Winnie20220719_7KUI5T2AOC.nwb\n",
      "WARNING:datajoint:Skipped checksum for file with hash: aa369596-142f-cbb7-206b-b57af2887f0a, and path: /stelmo/nwb/analysis/Winnie20220719/Winnie20220719_7KUI5T2AOC.nwb\n"
     ]
    },
    {
     "name": "stdout",
     "output_type": "stream",
     "text": [
      "Slow Gamma 25-55 Hz Winnie20220719_.nwb pos 7 valid times 6af3a2b4-ef3d-0c3f-a017-a3a997569b4e\n"
     ]
    },
    {
     "name": "stderr",
     "output_type": "stream",
     "text": [
      "[2023-12-06 09:00:11,367][WARNING]: Skipped checksum for file with hash: aa369596-142f-cbb7-206b-b57af2887f0a, and path: /stelmo/nwb/analysis/Winnie20220719/Winnie20220719_7KUI5T2AOC.nwb\n",
      "WARNING:datajoint:Skipped checksum for file with hash: aa369596-142f-cbb7-206b-b57af2887f0a, and path: /stelmo/nwb/analysis/Winnie20220719/Winnie20220719_7KUI5T2AOC.nwb\n"
     ]
    },
    {
     "name": "stdout",
     "output_type": "stream",
     "text": [
      "Fast Gamma 65-100 Hz Winnie20220719_.nwb pos 7 valid times 6af3a2b4-ef3d-0c3f-a017-a3a997569b4e\n"
     ]
    },
    {
     "name": "stderr",
     "output_type": "stream",
     "text": [
      "[2023-12-06 09:00:12,354][WARNING]: Skipped checksum for file with hash: e4cd6e12-ce53-dac1-ef93-05ec803fa817, and path: /stelmo/nwb/analysis/Winnie20220719/Winnie20220719_T4BWQPLBRC.nwb\n",
      "WARNING:datajoint:Skipped checksum for file with hash: e4cd6e12-ce53-dac1-ef93-05ec803fa817, and path: /stelmo/nwb/analysis/Winnie20220719/Winnie20220719_T4BWQPLBRC.nwb\n"
     ]
    },
    {
     "name": "stdout",
     "output_type": "stream",
     "text": [
      "Slow Gamma 25-55 Hz Winnie20220719_.nwb pos 8 valid times ae00b226-37b0-1fd1-e925-a9cac2c9a1db\n"
     ]
    },
    {
     "name": "stderr",
     "output_type": "stream",
     "text": [
      "[2023-12-06 09:00:13,752][WARNING]: Skipped checksum for file with hash: e4cd6e12-ce53-dac1-ef93-05ec803fa817, and path: /stelmo/nwb/analysis/Winnie20220719/Winnie20220719_T4BWQPLBRC.nwb\n",
      "WARNING:datajoint:Skipped checksum for file with hash: e4cd6e12-ce53-dac1-ef93-05ec803fa817, and path: /stelmo/nwb/analysis/Winnie20220719/Winnie20220719_T4BWQPLBRC.nwb\n"
     ]
    },
    {
     "name": "stdout",
     "output_type": "stream",
     "text": [
      "Fast Gamma 65-100 Hz Winnie20220719_.nwb pos 8 valid times ae00b226-37b0-1fd1-e925-a9cac2c9a1db\n"
     ]
    },
    {
     "name": "stderr",
     "output_type": "stream",
     "text": [
      "[2023-12-06 09:00:14,743][WARNING]: Skipped checksum for file with hash: 5f8fd676-a797-87b4-3177-6941b2103bc8, and path: /stelmo/nwb/analysis/Winnie20220719/Winnie20220719_GK0IVG3V6P.nwb\n",
      "WARNING:datajoint:Skipped checksum for file with hash: 5f8fd676-a797-87b4-3177-6941b2103bc8, and path: /stelmo/nwb/analysis/Winnie20220719/Winnie20220719_GK0IVG3V6P.nwb\n"
     ]
    },
    {
     "name": "stdout",
     "output_type": "stream",
     "text": [
      "Slow Gamma 25-55 Hz Winnie20220719_.nwb pos 9 valid times 9ccff706-5f1f-bc5a-e66c-b66f33822957\n"
     ]
    },
    {
     "name": "stderr",
     "output_type": "stream",
     "text": [
      "[2023-12-06 09:00:16,190][WARNING]: Skipped checksum for file with hash: 5f8fd676-a797-87b4-3177-6941b2103bc8, and path: /stelmo/nwb/analysis/Winnie20220719/Winnie20220719_GK0IVG3V6P.nwb\n",
      "WARNING:datajoint:Skipped checksum for file with hash: 5f8fd676-a797-87b4-3177-6941b2103bc8, and path: /stelmo/nwb/analysis/Winnie20220719/Winnie20220719_GK0IVG3V6P.nwb\n"
     ]
    },
    {
     "name": "stdout",
     "output_type": "stream",
     "text": [
      "Fast Gamma 65-100 Hz Winnie20220719_.nwb pos 9 valid times 9ccff706-5f1f-bc5a-e66c-b66f33822957\n"
     ]
    },
    {
     "name": "stderr",
     "output_type": "stream",
     "text": [
      "[2023-12-06 09:00:17,085][WARNING]: Skipped checksum for file with hash: 36f557f7-a6c6-5521-fe6a-4ac6348ac873, and path: /stelmo/nwb/analysis/Winnie20220720/Winnie20220720_CTUUK4MIJ7.nwb\n",
      "WARNING:datajoint:Skipped checksum for file with hash: 36f557f7-a6c6-5521-fe6a-4ac6348ac873, and path: /stelmo/nwb/analysis/Winnie20220720/Winnie20220720_CTUUK4MIJ7.nwb\n"
     ]
    },
    {
     "name": "stdout",
     "output_type": "stream",
     "text": [
      "Slow Gamma 25-55 Hz Winnie20220720_.nwb pos 0 valid times 46459c7b-b747-7478-b927-5ed7ad3ae4e5\n"
     ]
    },
    {
     "name": "stderr",
     "output_type": "stream",
     "text": [
      "[2023-12-06 09:00:18,588][WARNING]: Skipped checksum for file with hash: 36f557f7-a6c6-5521-fe6a-4ac6348ac873, and path: /stelmo/nwb/analysis/Winnie20220720/Winnie20220720_CTUUK4MIJ7.nwb\n",
      "WARNING:datajoint:Skipped checksum for file with hash: 36f557f7-a6c6-5521-fe6a-4ac6348ac873, and path: /stelmo/nwb/analysis/Winnie20220720/Winnie20220720_CTUUK4MIJ7.nwb\n"
     ]
    },
    {
     "name": "stdout",
     "output_type": "stream",
     "text": [
      "Fast Gamma 65-100 Hz Winnie20220720_.nwb pos 0 valid times 46459c7b-b747-7478-b927-5ed7ad3ae4e5\n"
     ]
    },
    {
     "name": "stderr",
     "output_type": "stream",
     "text": [
      "[2023-12-06 09:00:19,615][WARNING]: Skipped checksum for file with hash: 2d8e8c68-2511-295d-2c0a-ac00069b4e98, and path: /stelmo/nwb/analysis/Winnie20220720/Winnie20220720_AO0IB2PS3N.nwb\n",
      "WARNING:datajoint:Skipped checksum for file with hash: 2d8e8c68-2511-295d-2c0a-ac00069b4e98, and path: /stelmo/nwb/analysis/Winnie20220720/Winnie20220720_AO0IB2PS3N.nwb\n"
     ]
    },
    {
     "name": "stdout",
     "output_type": "stream",
     "text": [
      "Slow Gamma 25-55 Hz Winnie20220720_.nwb pos 1 valid times c8ce5b51-d851-b24e-e7ca-e37de2aa7ad7\n"
     ]
    },
    {
     "name": "stderr",
     "output_type": "stream",
     "text": [
      "[2023-12-06 09:00:21,019][WARNING]: Skipped checksum for file with hash: 2d8e8c68-2511-295d-2c0a-ac00069b4e98, and path: /stelmo/nwb/analysis/Winnie20220720/Winnie20220720_AO0IB2PS3N.nwb\n",
      "WARNING:datajoint:Skipped checksum for file with hash: 2d8e8c68-2511-295d-2c0a-ac00069b4e98, and path: /stelmo/nwb/analysis/Winnie20220720/Winnie20220720_AO0IB2PS3N.nwb\n"
     ]
    },
    {
     "name": "stdout",
     "output_type": "stream",
     "text": [
      "Fast Gamma 65-100 Hz Winnie20220720_.nwb pos 1 valid times c8ce5b51-d851-b24e-e7ca-e37de2aa7ad7\n"
     ]
    },
    {
     "name": "stderr",
     "output_type": "stream",
     "text": [
      "[2023-12-06 09:00:21,913][WARNING]: Skipped checksum for file with hash: 3a2c875f-84e7-16ea-92c6-b741f9696efc, and path: /stelmo/nwb/analysis/Winnie20220720/Winnie20220720_3U3ZL4T5TJ.nwb\n",
      "WARNING:datajoint:Skipped checksum for file with hash: 3a2c875f-84e7-16ea-92c6-b741f9696efc, and path: /stelmo/nwb/analysis/Winnie20220720/Winnie20220720_3U3ZL4T5TJ.nwb\n"
     ]
    },
    {
     "name": "stdout",
     "output_type": "stream",
     "text": [
      "Slow Gamma 25-55 Hz Winnie20220720_.nwb pos 10 valid times 977a50ff-8749-123e-c60a-5c38b9d69f87\n"
     ]
    },
    {
     "name": "stderr",
     "output_type": "stream",
     "text": [
      "[2023-12-06 09:00:23,424][WARNING]: Skipped checksum for file with hash: 3a2c875f-84e7-16ea-92c6-b741f9696efc, and path: /stelmo/nwb/analysis/Winnie20220720/Winnie20220720_3U3ZL4T5TJ.nwb\n",
      "WARNING:datajoint:Skipped checksum for file with hash: 3a2c875f-84e7-16ea-92c6-b741f9696efc, and path: /stelmo/nwb/analysis/Winnie20220720/Winnie20220720_3U3ZL4T5TJ.nwb\n"
     ]
    },
    {
     "name": "stdout",
     "output_type": "stream",
     "text": [
      "Fast Gamma 65-100 Hz Winnie20220720_.nwb pos 10 valid times 977a50ff-8749-123e-c60a-5c38b9d69f87\n"
     ]
    },
    {
     "name": "stderr",
     "output_type": "stream",
     "text": [
      "[2023-12-06 09:00:24,451][WARNING]: Skipped checksum for file with hash: 385eb3be-36f6-c50a-9312-1b40f4d9a7f8, and path: /stelmo/nwb/analysis/Winnie20220720/Winnie20220720_U68E5PTXZY.nwb\n",
      "WARNING:datajoint:Skipped checksum for file with hash: 385eb3be-36f6-c50a-9312-1b40f4d9a7f8, and path: /stelmo/nwb/analysis/Winnie20220720/Winnie20220720_U68E5PTXZY.nwb\n"
     ]
    },
    {
     "name": "stdout",
     "output_type": "stream",
     "text": [
      "Slow Gamma 25-55 Hz Winnie20220720_.nwb pos 11 valid times 88ef814f-2460-3e91-5616-a2224fe2d55f\n"
     ]
    },
    {
     "name": "stderr",
     "output_type": "stream",
     "text": [
      "[2023-12-06 09:00:25,992][WARNING]: Skipped checksum for file with hash: 385eb3be-36f6-c50a-9312-1b40f4d9a7f8, and path: /stelmo/nwb/analysis/Winnie20220720/Winnie20220720_U68E5PTXZY.nwb\n",
      "WARNING:datajoint:Skipped checksum for file with hash: 385eb3be-36f6-c50a-9312-1b40f4d9a7f8, and path: /stelmo/nwb/analysis/Winnie20220720/Winnie20220720_U68E5PTXZY.nwb\n"
     ]
    },
    {
     "name": "stdout",
     "output_type": "stream",
     "text": [
      "Fast Gamma 65-100 Hz Winnie20220720_.nwb pos 11 valid times 88ef814f-2460-3e91-5616-a2224fe2d55f\n"
     ]
    },
    {
     "name": "stderr",
     "output_type": "stream",
     "text": [
      "[2023-12-06 09:00:26,983][WARNING]: Skipped checksum for file with hash: fb045d57-a1be-146e-0141-b3981f8e06dd, and path: /stelmo/nwb/analysis/Winnie20220720/Winnie20220720_9PJIUSZ37Q.nwb\n",
      "WARNING:datajoint:Skipped checksum for file with hash: fb045d57-a1be-146e-0141-b3981f8e06dd, and path: /stelmo/nwb/analysis/Winnie20220720/Winnie20220720_9PJIUSZ37Q.nwb\n"
     ]
    },
    {
     "name": "stdout",
     "output_type": "stream",
     "text": [
      "Slow Gamma 25-55 Hz Winnie20220720_.nwb pos 12 valid times 4928b7b2-e0e1-1a2e-1da9-7fdcd0b0a614\n"
     ]
    },
    {
     "name": "stderr",
     "output_type": "stream",
     "text": [
      "[2023-12-06 09:00:28,550][WARNING]: Skipped checksum for file with hash: fb045d57-a1be-146e-0141-b3981f8e06dd, and path: /stelmo/nwb/analysis/Winnie20220720/Winnie20220720_9PJIUSZ37Q.nwb\n",
      "WARNING:datajoint:Skipped checksum for file with hash: fb045d57-a1be-146e-0141-b3981f8e06dd, and path: /stelmo/nwb/analysis/Winnie20220720/Winnie20220720_9PJIUSZ37Q.nwb\n"
     ]
    },
    {
     "name": "stdout",
     "output_type": "stream",
     "text": [
      "Fast Gamma 65-100 Hz Winnie20220720_.nwb pos 12 valid times 4928b7b2-e0e1-1a2e-1da9-7fdcd0b0a614\n"
     ]
    },
    {
     "name": "stderr",
     "output_type": "stream",
     "text": [
      "[2023-12-06 09:00:29,585][WARNING]: Skipped checksum for file with hash: 32f30102-70dd-854d-700f-b4a8f7e720c5, and path: /stelmo/nwb/analysis/Winnie20220720/Winnie20220720_5O4WAJNZNI.nwb\n",
      "WARNING:datajoint:Skipped checksum for file with hash: 32f30102-70dd-854d-700f-b4a8f7e720c5, and path: /stelmo/nwb/analysis/Winnie20220720/Winnie20220720_5O4WAJNZNI.nwb\n"
     ]
    },
    {
     "name": "stdout",
     "output_type": "stream",
     "text": [
      "Slow Gamma 25-55 Hz Winnie20220720_.nwb pos 13 valid times a631be43-50fe-8220-0f3e-f9ad39979f0a\n"
     ]
    },
    {
     "name": "stderr",
     "output_type": "stream",
     "text": [
      "[2023-12-06 09:00:31,168][WARNING]: Skipped checksum for file with hash: 32f30102-70dd-854d-700f-b4a8f7e720c5, and path: /stelmo/nwb/analysis/Winnie20220720/Winnie20220720_5O4WAJNZNI.nwb\n",
      "WARNING:datajoint:Skipped checksum for file with hash: 32f30102-70dd-854d-700f-b4a8f7e720c5, and path: /stelmo/nwb/analysis/Winnie20220720/Winnie20220720_5O4WAJNZNI.nwb\n"
     ]
    },
    {
     "name": "stdout",
     "output_type": "stream",
     "text": [
      "Fast Gamma 65-100 Hz Winnie20220720_.nwb pos 13 valid times a631be43-50fe-8220-0f3e-f9ad39979f0a\n"
     ]
    },
    {
     "name": "stderr",
     "output_type": "stream",
     "text": [
      "[2023-12-06 09:00:32,157][WARNING]: Skipped checksum for file with hash: 35edb7c2-f4c1-dca3-f156-ac7825de618e, and path: /stelmo/nwb/analysis/Winnie20220720/Winnie20220720_0TLDFV8LKA.nwb\n",
      "WARNING:datajoint:Skipped checksum for file with hash: 35edb7c2-f4c1-dca3-f156-ac7825de618e, and path: /stelmo/nwb/analysis/Winnie20220720/Winnie20220720_0TLDFV8LKA.nwb\n"
     ]
    },
    {
     "name": "stdout",
     "output_type": "stream",
     "text": [
      "Slow Gamma 25-55 Hz Winnie20220720_.nwb pos 14 valid times 9bbd15ff-936c-fa7f-51dc-4d25492a6679\n"
     ]
    },
    {
     "name": "stderr",
     "output_type": "stream",
     "text": [
      "[2023-12-06 09:00:33,684][WARNING]: Skipped checksum for file with hash: 35edb7c2-f4c1-dca3-f156-ac7825de618e, and path: /stelmo/nwb/analysis/Winnie20220720/Winnie20220720_0TLDFV8LKA.nwb\n",
      "WARNING:datajoint:Skipped checksum for file with hash: 35edb7c2-f4c1-dca3-f156-ac7825de618e, and path: /stelmo/nwb/analysis/Winnie20220720/Winnie20220720_0TLDFV8LKA.nwb\n"
     ]
    },
    {
     "name": "stdout",
     "output_type": "stream",
     "text": [
      "Fast Gamma 65-100 Hz Winnie20220720_.nwb pos 14 valid times 9bbd15ff-936c-fa7f-51dc-4d25492a6679\n"
     ]
    },
    {
     "name": "stderr",
     "output_type": "stream",
     "text": [
      "[2023-12-06 09:00:34,629][WARNING]: Skipped checksum for file with hash: 89b9f031-4092-c554-e884-1884d862c161, and path: /stelmo/nwb/analysis/Winnie20220720/Winnie20220720_GZB98FL74T.nwb\n",
      "WARNING:datajoint:Skipped checksum for file with hash: 89b9f031-4092-c554-e884-1884d862c161, and path: /stelmo/nwb/analysis/Winnie20220720/Winnie20220720_GZB98FL74T.nwb\n"
     ]
    },
    {
     "name": "stdout",
     "output_type": "stream",
     "text": [
      "Slow Gamma 25-55 Hz Winnie20220720_.nwb pos 15 valid times 43669762-9b05-98ed-678b-bf187216f9f4\n"
     ]
    },
    {
     "name": "stderr",
     "output_type": "stream",
     "text": [
      "[2023-12-06 09:00:36,082][WARNING]: Skipped checksum for file with hash: 89b9f031-4092-c554-e884-1884d862c161, and path: /stelmo/nwb/analysis/Winnie20220720/Winnie20220720_GZB98FL74T.nwb\n",
      "WARNING:datajoint:Skipped checksum for file with hash: 89b9f031-4092-c554-e884-1884d862c161, and path: /stelmo/nwb/analysis/Winnie20220720/Winnie20220720_GZB98FL74T.nwb\n"
     ]
    },
    {
     "name": "stdout",
     "output_type": "stream",
     "text": [
      "Fast Gamma 65-100 Hz Winnie20220720_.nwb pos 15 valid times 43669762-9b05-98ed-678b-bf187216f9f4\n"
     ]
    },
    {
     "name": "stderr",
     "output_type": "stream",
     "text": [
      "[2023-12-06 09:00:36,960][WARNING]: Skipped checksum for file with hash: 1baebc1d-c56b-b415-06be-f5ec5fb58dac, and path: /stelmo/nwb/analysis/Winnie20220720/Winnie20220720_DUGKXW20FV.nwb\n",
      "WARNING:datajoint:Skipped checksum for file with hash: 1baebc1d-c56b-b415-06be-f5ec5fb58dac, and path: /stelmo/nwb/analysis/Winnie20220720/Winnie20220720_DUGKXW20FV.nwb\n"
     ]
    },
    {
     "name": "stdout",
     "output_type": "stream",
     "text": [
      "Slow Gamma 25-55 Hz Winnie20220720_.nwb pos 16 valid times 70daccdc-3822-09f0-1c36-3c2de13eb6d6\n"
     ]
    },
    {
     "name": "stderr",
     "output_type": "stream",
     "text": [
      "[2023-12-06 09:00:38,404][WARNING]: Skipped checksum for file with hash: 1baebc1d-c56b-b415-06be-f5ec5fb58dac, and path: /stelmo/nwb/analysis/Winnie20220720/Winnie20220720_DUGKXW20FV.nwb\n",
      "WARNING:datajoint:Skipped checksum for file with hash: 1baebc1d-c56b-b415-06be-f5ec5fb58dac, and path: /stelmo/nwb/analysis/Winnie20220720/Winnie20220720_DUGKXW20FV.nwb\n"
     ]
    },
    {
     "name": "stdout",
     "output_type": "stream",
     "text": [
      "Fast Gamma 65-100 Hz Winnie20220720_.nwb pos 16 valid times 70daccdc-3822-09f0-1c36-3c2de13eb6d6\n"
     ]
    },
    {
     "name": "stderr",
     "output_type": "stream",
     "text": [
      "[2023-12-06 09:00:39,326][WARNING]: Skipped checksum for file with hash: 9f02f4d2-ac3e-8467-d3db-fb119f32ba3a, and path: /stelmo/nwb/analysis/Winnie20220720/Winnie20220720_IHATZAKBSO.nwb\n",
      "WARNING:datajoint:Skipped checksum for file with hash: 9f02f4d2-ac3e-8467-d3db-fb119f32ba3a, and path: /stelmo/nwb/analysis/Winnie20220720/Winnie20220720_IHATZAKBSO.nwb\n"
     ]
    },
    {
     "name": "stdout",
     "output_type": "stream",
     "text": [
      "Slow Gamma 25-55 Hz Winnie20220720_.nwb pos 2 valid times 9e443cda-2e0f-e523-6c01-a4a03ccf3127\n"
     ]
    },
    {
     "name": "stderr",
     "output_type": "stream",
     "text": [
      "[2023-12-06 09:00:40,814][WARNING]: Skipped checksum for file with hash: 9f02f4d2-ac3e-8467-d3db-fb119f32ba3a, and path: /stelmo/nwb/analysis/Winnie20220720/Winnie20220720_IHATZAKBSO.nwb\n",
      "WARNING:datajoint:Skipped checksum for file with hash: 9f02f4d2-ac3e-8467-d3db-fb119f32ba3a, and path: /stelmo/nwb/analysis/Winnie20220720/Winnie20220720_IHATZAKBSO.nwb\n"
     ]
    },
    {
     "name": "stdout",
     "output_type": "stream",
     "text": [
      "Fast Gamma 65-100 Hz Winnie20220720_.nwb pos 2 valid times 9e443cda-2e0f-e523-6c01-a4a03ccf3127\n"
     ]
    },
    {
     "name": "stderr",
     "output_type": "stream",
     "text": [
      "[2023-12-06 09:00:41,801][WARNING]: Skipped checksum for file with hash: 854ccb36-48cd-4d4d-874b-add4c73c8282, and path: /stelmo/nwb/analysis/Winnie20220720/Winnie20220720_1JN0LD6U8Q.nwb\n",
      "WARNING:datajoint:Skipped checksum for file with hash: 854ccb36-48cd-4d4d-874b-add4c73c8282, and path: /stelmo/nwb/analysis/Winnie20220720/Winnie20220720_1JN0LD6U8Q.nwb\n"
     ]
    },
    {
     "name": "stdout",
     "output_type": "stream",
     "text": [
      "Slow Gamma 25-55 Hz Winnie20220720_.nwb pos 3 valid times cd2eee1c-0336-b94b-b529-8e57eeb8e526\n"
     ]
    },
    {
     "name": "stderr",
     "output_type": "stream",
     "text": [
      "[2023-12-06 09:00:43,164][WARNING]: Skipped checksum for file with hash: 854ccb36-48cd-4d4d-874b-add4c73c8282, and path: /stelmo/nwb/analysis/Winnie20220720/Winnie20220720_1JN0LD6U8Q.nwb\n",
      "WARNING:datajoint:Skipped checksum for file with hash: 854ccb36-48cd-4d4d-874b-add4c73c8282, and path: /stelmo/nwb/analysis/Winnie20220720/Winnie20220720_1JN0LD6U8Q.nwb\n"
     ]
    },
    {
     "name": "stdout",
     "output_type": "stream",
     "text": [
      "Fast Gamma 65-100 Hz Winnie20220720_.nwb pos 3 valid times cd2eee1c-0336-b94b-b529-8e57eeb8e526\n"
     ]
    },
    {
     "name": "stderr",
     "output_type": "stream",
     "text": [
      "[2023-12-06 09:00:44,105][WARNING]: Skipped checksum for file with hash: 10a6983c-8b3c-5edf-917b-836029fe82c7, and path: /stelmo/nwb/analysis/Winnie20220720/Winnie20220720_FKXFANVXED.nwb\n",
      "WARNING:datajoint:Skipped checksum for file with hash: 10a6983c-8b3c-5edf-917b-836029fe82c7, and path: /stelmo/nwb/analysis/Winnie20220720/Winnie20220720_FKXFANVXED.nwb\n"
     ]
    },
    {
     "name": "stdout",
     "output_type": "stream",
     "text": [
      "Slow Gamma 25-55 Hz Winnie20220720_.nwb pos 4 valid times a7a3dcb6-7879-729a-888f-ee7b4cc1127f\n"
     ]
    },
    {
     "name": "stderr",
     "output_type": "stream",
     "text": [
      "[2023-12-06 09:00:45,559][WARNING]: Skipped checksum for file with hash: 10a6983c-8b3c-5edf-917b-836029fe82c7, and path: /stelmo/nwb/analysis/Winnie20220720/Winnie20220720_FKXFANVXED.nwb\n",
      "WARNING:datajoint:Skipped checksum for file with hash: 10a6983c-8b3c-5edf-917b-836029fe82c7, and path: /stelmo/nwb/analysis/Winnie20220720/Winnie20220720_FKXFANVXED.nwb\n"
     ]
    },
    {
     "name": "stdout",
     "output_type": "stream",
     "text": [
      "Fast Gamma 65-100 Hz Winnie20220720_.nwb pos 4 valid times a7a3dcb6-7879-729a-888f-ee7b4cc1127f\n"
     ]
    },
    {
     "name": "stderr",
     "output_type": "stream",
     "text": [
      "[2023-12-06 09:00:46,547][WARNING]: Skipped checksum for file with hash: 7627824f-5b5a-7748-1b74-eb52659c4b14, and path: /stelmo/nwb/analysis/Winnie20220720/Winnie20220720_J6IBBXQTZF.nwb\n",
      "WARNING:datajoint:Skipped checksum for file with hash: 7627824f-5b5a-7748-1b74-eb52659c4b14, and path: /stelmo/nwb/analysis/Winnie20220720/Winnie20220720_J6IBBXQTZF.nwb\n"
     ]
    },
    {
     "name": "stdout",
     "output_type": "stream",
     "text": [
      "Slow Gamma 25-55 Hz Winnie20220720_.nwb pos 5 valid times 2d385960-924a-0510-8390-f5f3eca7069a\n"
     ]
    },
    {
     "name": "stderr",
     "output_type": "stream",
     "text": [
      "[2023-12-06 09:00:48,001][WARNING]: Skipped checksum for file with hash: 7627824f-5b5a-7748-1b74-eb52659c4b14, and path: /stelmo/nwb/analysis/Winnie20220720/Winnie20220720_J6IBBXQTZF.nwb\n",
      "WARNING:datajoint:Skipped checksum for file with hash: 7627824f-5b5a-7748-1b74-eb52659c4b14, and path: /stelmo/nwb/analysis/Winnie20220720/Winnie20220720_J6IBBXQTZF.nwb\n"
     ]
    },
    {
     "name": "stdout",
     "output_type": "stream",
     "text": [
      "Fast Gamma 65-100 Hz Winnie20220720_.nwb pos 5 valid times 2d385960-924a-0510-8390-f5f3eca7069a\n"
     ]
    },
    {
     "name": "stderr",
     "output_type": "stream",
     "text": [
      "[2023-12-06 09:00:48,890][WARNING]: Skipped checksum for file with hash: e47c3d0f-e4a6-c171-d94d-b36c47aaf789, and path: /stelmo/nwb/analysis/Winnie20220720/Winnie20220720_AT8M9CYRGL.nwb\n",
      "WARNING:datajoint:Skipped checksum for file with hash: e47c3d0f-e4a6-c171-d94d-b36c47aaf789, and path: /stelmo/nwb/analysis/Winnie20220720/Winnie20220720_AT8M9CYRGL.nwb\n"
     ]
    },
    {
     "name": "stdout",
     "output_type": "stream",
     "text": [
      "Slow Gamma 25-55 Hz Winnie20220720_.nwb pos 6 valid times 94d611d0-5fef-25c0-bb50-b776a99f0f48\n"
     ]
    },
    {
     "name": "stderr",
     "output_type": "stream",
     "text": [
      "[2023-12-06 09:00:50,398][WARNING]: Skipped checksum for file with hash: e47c3d0f-e4a6-c171-d94d-b36c47aaf789, and path: /stelmo/nwb/analysis/Winnie20220720/Winnie20220720_AT8M9CYRGL.nwb\n",
      "WARNING:datajoint:Skipped checksum for file with hash: e47c3d0f-e4a6-c171-d94d-b36c47aaf789, and path: /stelmo/nwb/analysis/Winnie20220720/Winnie20220720_AT8M9CYRGL.nwb\n"
     ]
    },
    {
     "name": "stdout",
     "output_type": "stream",
     "text": [
      "Fast Gamma 65-100 Hz Winnie20220720_.nwb pos 6 valid times 94d611d0-5fef-25c0-bb50-b776a99f0f48\n"
     ]
    },
    {
     "name": "stderr",
     "output_type": "stream",
     "text": [
      "[2023-12-06 09:00:51,347][WARNING]: Skipped checksum for file with hash: d2c48861-afa7-7d23-06ac-26124e31d53a, and path: /stelmo/nwb/analysis/Winnie20220720/Winnie20220720_PM4GH68I4P.nwb\n",
      "WARNING:datajoint:Skipped checksum for file with hash: d2c48861-afa7-7d23-06ac-26124e31d53a, and path: /stelmo/nwb/analysis/Winnie20220720/Winnie20220720_PM4GH68I4P.nwb\n"
     ]
    },
    {
     "name": "stdout",
     "output_type": "stream",
     "text": [
      "Slow Gamma 25-55 Hz Winnie20220720_.nwb pos 7 valid times e10ed354-1973-a67a-125e-261031fc6936\n"
     ]
    },
    {
     "name": "stderr",
     "output_type": "stream",
     "text": [
      "[2023-12-06 09:00:52,847][WARNING]: Skipped checksum for file with hash: d2c48861-afa7-7d23-06ac-26124e31d53a, and path: /stelmo/nwb/analysis/Winnie20220720/Winnie20220720_PM4GH68I4P.nwb\n",
      "WARNING:datajoint:Skipped checksum for file with hash: d2c48861-afa7-7d23-06ac-26124e31d53a, and path: /stelmo/nwb/analysis/Winnie20220720/Winnie20220720_PM4GH68I4P.nwb\n"
     ]
    },
    {
     "name": "stdout",
     "output_type": "stream",
     "text": [
      "Fast Gamma 65-100 Hz Winnie20220720_.nwb pos 7 valid times e10ed354-1973-a67a-125e-261031fc6936\n"
     ]
    },
    {
     "name": "stderr",
     "output_type": "stream",
     "text": [
      "[2023-12-06 09:00:53,848][WARNING]: Skipped checksum for file with hash: b0a7db37-e701-d573-f26e-ad575e1a706a, and path: /stelmo/nwb/analysis/Winnie20220720/Winnie20220720_JXCWE3QR9H.nwb\n",
      "WARNING:datajoint:Skipped checksum for file with hash: b0a7db37-e701-d573-f26e-ad575e1a706a, and path: /stelmo/nwb/analysis/Winnie20220720/Winnie20220720_JXCWE3QR9H.nwb\n"
     ]
    },
    {
     "name": "stdout",
     "output_type": "stream",
     "text": [
      "Slow Gamma 25-55 Hz Winnie20220720_.nwb pos 8 valid times 7ab15335-897c-1daf-3d68-1644b51b477a\n"
     ]
    },
    {
     "name": "stderr",
     "output_type": "stream",
     "text": [
      "[2023-12-06 09:00:55,354][WARNING]: Skipped checksum for file with hash: b0a7db37-e701-d573-f26e-ad575e1a706a, and path: /stelmo/nwb/analysis/Winnie20220720/Winnie20220720_JXCWE3QR9H.nwb\n",
      "WARNING:datajoint:Skipped checksum for file with hash: b0a7db37-e701-d573-f26e-ad575e1a706a, and path: /stelmo/nwb/analysis/Winnie20220720/Winnie20220720_JXCWE3QR9H.nwb\n"
     ]
    },
    {
     "name": "stdout",
     "output_type": "stream",
     "text": [
      "Fast Gamma 65-100 Hz Winnie20220720_.nwb pos 8 valid times 7ab15335-897c-1daf-3d68-1644b51b477a\n"
     ]
    },
    {
     "name": "stderr",
     "output_type": "stream",
     "text": [
      "[2023-12-06 09:00:56,355][WARNING]: Skipped checksum for file with hash: 5b321615-59ff-986e-74b6-872280503871, and path: /stelmo/nwb/analysis/Winnie20220720/Winnie20220720_VSEQ7DLG11.nwb\n",
      "WARNING:datajoint:Skipped checksum for file with hash: 5b321615-59ff-986e-74b6-872280503871, and path: /stelmo/nwb/analysis/Winnie20220720/Winnie20220720_VSEQ7DLG11.nwb\n"
     ]
    },
    {
     "name": "stdout",
     "output_type": "stream",
     "text": [
      "Slow Gamma 25-55 Hz Winnie20220720_.nwb pos 9 valid times c94613c6-2171-af70-3d7a-7514456fff4e\n"
     ]
    },
    {
     "name": "stderr",
     "output_type": "stream",
     "text": [
      "[2023-12-06 09:00:57,737][WARNING]: Skipped checksum for file with hash: 5b321615-59ff-986e-74b6-872280503871, and path: /stelmo/nwb/analysis/Winnie20220720/Winnie20220720_VSEQ7DLG11.nwb\n",
      "WARNING:datajoint:Skipped checksum for file with hash: 5b321615-59ff-986e-74b6-872280503871, and path: /stelmo/nwb/analysis/Winnie20220720/Winnie20220720_VSEQ7DLG11.nwb\n"
     ]
    },
    {
     "name": "stdout",
     "output_type": "stream",
     "text": [
      "Fast Gamma 65-100 Hz Winnie20220720_.nwb pos 9 valid times c94613c6-2171-af70-3d7a-7514456fff4e\n"
     ]
    },
    {
     "name": "stderr",
     "output_type": "stream",
     "text": [
      "[2023-12-06 09:00:58,723][WARNING]: Skipped checksum for file with hash: a12c5843-6ced-1ed8-bb05-fd857f0141b5, and path: /stelmo/nwb/analysis/Winnie20220722/Winnie20220722_PP2YCI9QDI.nwb\n",
      "WARNING:datajoint:Skipped checksum for file with hash: a12c5843-6ced-1ed8-bb05-fd857f0141b5, and path: /stelmo/nwb/analysis/Winnie20220722/Winnie20220722_PP2YCI9QDI.nwb\n"
     ]
    },
    {
     "name": "stdout",
     "output_type": "stream",
     "text": [
      "Slow Gamma 25-55 Hz Winnie20220722_.nwb pos 0 valid times 086233c7-1dc5-171c-0a3b-7ca3e07092c8\n"
     ]
    },
    {
     "name": "stderr",
     "output_type": "stream",
     "text": [
      "[2023-12-06 09:01:00,362][WARNING]: Skipped checksum for file with hash: a12c5843-6ced-1ed8-bb05-fd857f0141b5, and path: /stelmo/nwb/analysis/Winnie20220722/Winnie20220722_PP2YCI9QDI.nwb\n",
      "WARNING:datajoint:Skipped checksum for file with hash: a12c5843-6ced-1ed8-bb05-fd857f0141b5, and path: /stelmo/nwb/analysis/Winnie20220722/Winnie20220722_PP2YCI9QDI.nwb\n"
     ]
    },
    {
     "name": "stdout",
     "output_type": "stream",
     "text": [
      "Fast Gamma 65-100 Hz Winnie20220722_.nwb pos 0 valid times 086233c7-1dc5-171c-0a3b-7ca3e07092c8\n"
     ]
    },
    {
     "name": "stderr",
     "output_type": "stream",
     "text": [
      "[2023-12-06 09:01:01,367][WARNING]: Skipped checksum for file with hash: f733795b-2a09-32b6-9992-da19fae79cf4, and path: /stelmo/nwb/analysis/Winnie20220722/Winnie20220722_8W4U7RA7K6.nwb\n",
      "WARNING:datajoint:Skipped checksum for file with hash: f733795b-2a09-32b6-9992-da19fae79cf4, and path: /stelmo/nwb/analysis/Winnie20220722/Winnie20220722_8W4U7RA7K6.nwb\n"
     ]
    },
    {
     "name": "stdout",
     "output_type": "stream",
     "text": [
      "Slow Gamma 25-55 Hz Winnie20220722_.nwb pos 1 valid times f2cce89a-fad5-9a03-d026-795c4d4ba886\n"
     ]
    },
    {
     "name": "stderr",
     "output_type": "stream",
     "text": [
      "[2023-12-06 09:01:02,869][WARNING]: Skipped checksum for file with hash: f733795b-2a09-32b6-9992-da19fae79cf4, and path: /stelmo/nwb/analysis/Winnie20220722/Winnie20220722_8W4U7RA7K6.nwb\n",
      "WARNING:datajoint:Skipped checksum for file with hash: f733795b-2a09-32b6-9992-da19fae79cf4, and path: /stelmo/nwb/analysis/Winnie20220722/Winnie20220722_8W4U7RA7K6.nwb\n"
     ]
    },
    {
     "name": "stdout",
     "output_type": "stream",
     "text": [
      "Fast Gamma 65-100 Hz Winnie20220722_.nwb pos 1 valid times f2cce89a-fad5-9a03-d026-795c4d4ba886\n"
     ]
    },
    {
     "name": "stderr",
     "output_type": "stream",
     "text": [
      "[2023-12-06 09:01:03,837][WARNING]: Skipped checksum for file with hash: 71e1cc53-5c0a-f1ea-1e00-495db47c0687, and path: /stelmo/nwb/analysis/Winnie20220722/Winnie20220722_BFOPJL06JO.nwb\n",
      "WARNING:datajoint:Skipped checksum for file with hash: 71e1cc53-5c0a-f1ea-1e00-495db47c0687, and path: /stelmo/nwb/analysis/Winnie20220722/Winnie20220722_BFOPJL06JO.nwb\n"
     ]
    },
    {
     "name": "stdout",
     "output_type": "stream",
     "text": [
      "Slow Gamma 25-55 Hz Winnie20220722_.nwb pos 2 valid times 73ed127d-225e-fbbf-51d7-f44c6f1e666d\n"
     ]
    },
    {
     "name": "stderr",
     "output_type": "stream",
     "text": [
      "[2023-12-06 09:01:05,335][WARNING]: Skipped checksum for file with hash: 71e1cc53-5c0a-f1ea-1e00-495db47c0687, and path: /stelmo/nwb/analysis/Winnie20220722/Winnie20220722_BFOPJL06JO.nwb\n",
      "WARNING:datajoint:Skipped checksum for file with hash: 71e1cc53-5c0a-f1ea-1e00-495db47c0687, and path: /stelmo/nwb/analysis/Winnie20220722/Winnie20220722_BFOPJL06JO.nwb\n"
     ]
    },
    {
     "name": "stdout",
     "output_type": "stream",
     "text": [
      "Fast Gamma 65-100 Hz Winnie20220722_.nwb pos 2 valid times 73ed127d-225e-fbbf-51d7-f44c6f1e666d\n"
     ]
    },
    {
     "name": "stderr",
     "output_type": "stream",
     "text": [
      "[2023-12-06 09:01:06,322][WARNING]: Skipped checksum for file with hash: abec679f-16bb-12f1-9c8a-feb5475e7924, and path: /stelmo/nwb/analysis/Winnie20220722/Winnie20220722_FXWKMBMK1Y.nwb\n",
      "WARNING:datajoint:Skipped checksum for file with hash: abec679f-16bb-12f1-9c8a-feb5475e7924, and path: /stelmo/nwb/analysis/Winnie20220722/Winnie20220722_FXWKMBMK1Y.nwb\n"
     ]
    },
    {
     "name": "stdout",
     "output_type": "stream",
     "text": [
      "Slow Gamma 25-55 Hz Winnie20220722_.nwb pos 3 valid times 404b1435-a670-9b5e-e93f-ae0db56c2b01\n"
     ]
    },
    {
     "name": "stderr",
     "output_type": "stream",
     "text": [
      "[2023-12-06 09:01:07,852][WARNING]: Skipped checksum for file with hash: abec679f-16bb-12f1-9c8a-feb5475e7924, and path: /stelmo/nwb/analysis/Winnie20220722/Winnie20220722_FXWKMBMK1Y.nwb\n",
      "WARNING:datajoint:Skipped checksum for file with hash: abec679f-16bb-12f1-9c8a-feb5475e7924, and path: /stelmo/nwb/analysis/Winnie20220722/Winnie20220722_FXWKMBMK1Y.nwb\n"
     ]
    },
    {
     "name": "stdout",
     "output_type": "stream",
     "text": [
      "Fast Gamma 65-100 Hz Winnie20220722_.nwb pos 3 valid times 404b1435-a670-9b5e-e93f-ae0db56c2b01\n"
     ]
    },
    {
     "name": "stderr",
     "output_type": "stream",
     "text": [
      "[2023-12-06 09:01:08,826][WARNING]: Skipped checksum for file with hash: 24b4cd77-b837-7784-867e-fad2979a4b5f, and path: /stelmo/nwb/analysis/Winnie20220722/Winnie20220722_0WDSJXE28R.nwb\n",
      "WARNING:datajoint:Skipped checksum for file with hash: 24b4cd77-b837-7784-867e-fad2979a4b5f, and path: /stelmo/nwb/analysis/Winnie20220722/Winnie20220722_0WDSJXE28R.nwb\n"
     ]
    },
    {
     "name": "stdout",
     "output_type": "stream",
     "text": [
      "Slow Gamma 25-55 Hz Winnie20220722_.nwb pos 4 valid times 7099c096-fef4-348d-84ea-30bc92558931\n"
     ]
    },
    {
     "name": "stderr",
     "output_type": "stream",
     "text": [
      "[2023-12-06 09:01:10,371][WARNING]: Skipped checksum for file with hash: 24b4cd77-b837-7784-867e-fad2979a4b5f, and path: /stelmo/nwb/analysis/Winnie20220722/Winnie20220722_0WDSJXE28R.nwb\n",
      "WARNING:datajoint:Skipped checksum for file with hash: 24b4cd77-b837-7784-867e-fad2979a4b5f, and path: /stelmo/nwb/analysis/Winnie20220722/Winnie20220722_0WDSJXE28R.nwb\n"
     ]
    },
    {
     "name": "stdout",
     "output_type": "stream",
     "text": [
      "Fast Gamma 65-100 Hz Winnie20220722_.nwb pos 4 valid times 7099c096-fef4-348d-84ea-30bc92558931\n"
     ]
    },
    {
     "name": "stderr",
     "output_type": "stream",
     "text": [
      "[2023-12-06 09:01:11,334][WARNING]: Skipped checksum for file with hash: b5414bb3-9458-157c-81db-357a400036fd, and path: /stelmo/nwb/analysis/Yoshi20220509/Yoshi20220509_VVAJVL7WWZ.nwb\n",
      "WARNING:datajoint:Skipped checksum for file with hash: b5414bb3-9458-157c-81db-357a400036fd, and path: /stelmo/nwb/analysis/Yoshi20220509/Yoshi20220509_VVAJVL7WWZ.nwb\n"
     ]
    },
    {
     "name": "stdout",
     "output_type": "stream",
     "text": [
      "Slow Gamma 25-55 Hz Yoshi20220509_.nwb pos 0 valid times 7d07f578-d243-6526-91de-b61c488e3f4e\n"
     ]
    },
    {
     "name": "stderr",
     "output_type": "stream",
     "text": [
      "[2023-12-06 09:01:12,879][WARNING]: Skipped checksum for file with hash: b5414bb3-9458-157c-81db-357a400036fd, and path: /stelmo/nwb/analysis/Yoshi20220509/Yoshi20220509_VVAJVL7WWZ.nwb\n",
      "WARNING:datajoint:Skipped checksum for file with hash: b5414bb3-9458-157c-81db-357a400036fd, and path: /stelmo/nwb/analysis/Yoshi20220509/Yoshi20220509_VVAJVL7WWZ.nwb\n"
     ]
    },
    {
     "name": "stdout",
     "output_type": "stream",
     "text": [
      "Fast Gamma 65-100 Hz Yoshi20220509_.nwb pos 0 valid times 7d07f578-d243-6526-91de-b61c488e3f4e\n"
     ]
    },
    {
     "name": "stderr",
     "output_type": "stream",
     "text": [
      "[2023-12-06 09:01:14,010][WARNING]: Skipped checksum for file with hash: 75a8ed4d-3a2f-ee1e-cfcc-49a87c694a04, and path: /stelmo/nwb/analysis/Yoshi20220509/Yoshi20220509_1JB0S9BN4D.nwb\n",
      "WARNING:datajoint:Skipped checksum for file with hash: 75a8ed4d-3a2f-ee1e-cfcc-49a87c694a04, and path: /stelmo/nwb/analysis/Yoshi20220509/Yoshi20220509_1JB0S9BN4D.nwb\n"
     ]
    },
    {
     "name": "stdout",
     "output_type": "stream",
     "text": [
      "Slow Gamma 25-55 Hz Yoshi20220509_.nwb pos 1 valid times 139a2ac5-1a76-cae6-3ec6-bb2e778e5d96\n"
     ]
    },
    {
     "name": "stderr",
     "output_type": "stream",
     "text": [
      "[2023-12-06 09:01:15,577][WARNING]: Skipped checksum for file with hash: 75a8ed4d-3a2f-ee1e-cfcc-49a87c694a04, and path: /stelmo/nwb/analysis/Yoshi20220509/Yoshi20220509_1JB0S9BN4D.nwb\n",
      "WARNING:datajoint:Skipped checksum for file with hash: 75a8ed4d-3a2f-ee1e-cfcc-49a87c694a04, and path: /stelmo/nwb/analysis/Yoshi20220509/Yoshi20220509_1JB0S9BN4D.nwb\n"
     ]
    },
    {
     "name": "stdout",
     "output_type": "stream",
     "text": [
      "Fast Gamma 65-100 Hz Yoshi20220509_.nwb pos 1 valid times 139a2ac5-1a76-cae6-3ec6-bb2e778e5d96\n"
     ]
    },
    {
     "name": "stderr",
     "output_type": "stream",
     "text": [
      "[2023-12-06 09:01:16,572][WARNING]: Skipped checksum for file with hash: 5e1fc1ec-f12c-511b-8334-4958cac76e10, and path: /stelmo/nwb/analysis/Yoshi20220509/Yoshi20220509_LK7F8I7Z6X.nwb\n",
      "WARNING:datajoint:Skipped checksum for file with hash: 5e1fc1ec-f12c-511b-8334-4958cac76e10, and path: /stelmo/nwb/analysis/Yoshi20220509/Yoshi20220509_LK7F8I7Z6X.nwb\n"
     ]
    },
    {
     "name": "stdout",
     "output_type": "stream",
     "text": [
      "Slow Gamma 25-55 Hz Yoshi20220509_.nwb pos 10 valid times 82506e91-7cd8-da7c-3366-e6cd78cd8749\n"
     ]
    },
    {
     "name": "stderr",
     "output_type": "stream",
     "text": [
      "[2023-12-06 09:01:18,177][WARNING]: Skipped checksum for file with hash: 5e1fc1ec-f12c-511b-8334-4958cac76e10, and path: /stelmo/nwb/analysis/Yoshi20220509/Yoshi20220509_LK7F8I7Z6X.nwb\n",
      "WARNING:datajoint:Skipped checksum for file with hash: 5e1fc1ec-f12c-511b-8334-4958cac76e10, and path: /stelmo/nwb/analysis/Yoshi20220509/Yoshi20220509_LK7F8I7Z6X.nwb\n"
     ]
    },
    {
     "name": "stdout",
     "output_type": "stream",
     "text": [
      "Fast Gamma 65-100 Hz Yoshi20220509_.nwb pos 10 valid times 82506e91-7cd8-da7c-3366-e6cd78cd8749\n"
     ]
    },
    {
     "name": "stderr",
     "output_type": "stream",
     "text": [
      "[2023-12-06 09:01:19,214][WARNING]: Skipped checksum for file with hash: 7e3944ee-aaeb-e6b6-fa81-260fa938d2a5, and path: /stelmo/nwb/analysis/Yoshi20220509/Yoshi20220509_QGAF3MNDBF.nwb\n",
      "WARNING:datajoint:Skipped checksum for file with hash: 7e3944ee-aaeb-e6b6-fa81-260fa938d2a5, and path: /stelmo/nwb/analysis/Yoshi20220509/Yoshi20220509_QGAF3MNDBF.nwb\n"
     ]
    },
    {
     "name": "stdout",
     "output_type": "stream",
     "text": [
      "Slow Gamma 25-55 Hz Yoshi20220509_.nwb pos 11 valid times 921605c3-3e9c-0438-5a69-7b996bc877d6\n"
     ]
    },
    {
     "name": "stderr",
     "output_type": "stream",
     "text": [
      "[2023-12-06 09:01:20,785][WARNING]: Skipped checksum for file with hash: 7e3944ee-aaeb-e6b6-fa81-260fa938d2a5, and path: /stelmo/nwb/analysis/Yoshi20220509/Yoshi20220509_QGAF3MNDBF.nwb\n",
      "WARNING:datajoint:Skipped checksum for file with hash: 7e3944ee-aaeb-e6b6-fa81-260fa938d2a5, and path: /stelmo/nwb/analysis/Yoshi20220509/Yoshi20220509_QGAF3MNDBF.nwb\n"
     ]
    },
    {
     "name": "stdout",
     "output_type": "stream",
     "text": [
      "Fast Gamma 65-100 Hz Yoshi20220509_.nwb pos 11 valid times 921605c3-3e9c-0438-5a69-7b996bc877d6\n"
     ]
    },
    {
     "name": "stderr",
     "output_type": "stream",
     "text": [
      "[2023-12-06 09:01:21,712][WARNING]: Skipped checksum for file with hash: cfa424e0-8513-bf20-4c1f-9d1ba643c616, and path: /stelmo/nwb/analysis/Yoshi20220509/Yoshi20220509_QIP5NSI72E.nwb\n",
      "WARNING:datajoint:Skipped checksum for file with hash: cfa424e0-8513-bf20-4c1f-9d1ba643c616, and path: /stelmo/nwb/analysis/Yoshi20220509/Yoshi20220509_QIP5NSI72E.nwb\n"
     ]
    },
    {
     "name": "stdout",
     "output_type": "stream",
     "text": [
      "Slow Gamma 25-55 Hz Yoshi20220509_.nwb pos 12 valid times 7c83c14e-db0f-ce18-19bc-37f27b13bd55\n"
     ]
    },
    {
     "name": "stderr",
     "output_type": "stream",
     "text": [
      "[2023-12-06 09:01:23,143][WARNING]: Skipped checksum for file with hash: cfa424e0-8513-bf20-4c1f-9d1ba643c616, and path: /stelmo/nwb/analysis/Yoshi20220509/Yoshi20220509_QIP5NSI72E.nwb\n",
      "WARNING:datajoint:Skipped checksum for file with hash: cfa424e0-8513-bf20-4c1f-9d1ba643c616, and path: /stelmo/nwb/analysis/Yoshi20220509/Yoshi20220509_QIP5NSI72E.nwb\n"
     ]
    },
    {
     "name": "stdout",
     "output_type": "stream",
     "text": [
      "Fast Gamma 65-100 Hz Yoshi20220509_.nwb pos 12 valid times 7c83c14e-db0f-ce18-19bc-37f27b13bd55\n"
     ]
    },
    {
     "name": "stderr",
     "output_type": "stream",
     "text": [
      "[2023-12-06 09:01:24,163][WARNING]: Skipped checksum for file with hash: a4e87eb5-2217-b968-c5d4-90bf49145499, and path: /stelmo/nwb/analysis/Yoshi20220509/Yoshi20220509_J0DM50XMK2.nwb\n",
      "WARNING:datajoint:Skipped checksum for file with hash: a4e87eb5-2217-b968-c5d4-90bf49145499, and path: /stelmo/nwb/analysis/Yoshi20220509/Yoshi20220509_J0DM50XMK2.nwb\n"
     ]
    },
    {
     "name": "stdout",
     "output_type": "stream",
     "text": [
      "Slow Gamma 25-55 Hz Yoshi20220509_.nwb pos 13 valid times 9055c708-3ea9-6095-bb7f-776bb2cde346\n"
     ]
    },
    {
     "name": "stderr",
     "output_type": "stream",
     "text": [
      "[2023-12-06 09:01:25,717][WARNING]: Skipped checksum for file with hash: a4e87eb5-2217-b968-c5d4-90bf49145499, and path: /stelmo/nwb/analysis/Yoshi20220509/Yoshi20220509_J0DM50XMK2.nwb\n",
      "WARNING:datajoint:Skipped checksum for file with hash: a4e87eb5-2217-b968-c5d4-90bf49145499, and path: /stelmo/nwb/analysis/Yoshi20220509/Yoshi20220509_J0DM50XMK2.nwb\n"
     ]
    },
    {
     "name": "stdout",
     "output_type": "stream",
     "text": [
      "Fast Gamma 65-100 Hz Yoshi20220509_.nwb pos 13 valid times 9055c708-3ea9-6095-bb7f-776bb2cde346\n"
     ]
    },
    {
     "name": "stderr",
     "output_type": "stream",
     "text": [
      "[2023-12-06 09:01:26,741][WARNING]: Skipped checksum for file with hash: f8a0220e-f750-d1d5-13f7-e3e475c955e6, and path: /stelmo/nwb/analysis/Yoshi20220509/Yoshi20220509_H8KWMQJAA6.nwb\n",
      "WARNING:datajoint:Skipped checksum for file with hash: f8a0220e-f750-d1d5-13f7-e3e475c955e6, and path: /stelmo/nwb/analysis/Yoshi20220509/Yoshi20220509_H8KWMQJAA6.nwb\n"
     ]
    },
    {
     "name": "stdout",
     "output_type": "stream",
     "text": [
      "Slow Gamma 25-55 Hz Yoshi20220509_.nwb pos 14 valid times 17146b0b-5e33-701f-5857-5efa4e4d1aa5\n"
     ]
    },
    {
     "name": "stderr",
     "output_type": "stream",
     "text": [
      "[2023-12-06 09:01:28,279][WARNING]: Skipped checksum for file with hash: f8a0220e-f750-d1d5-13f7-e3e475c955e6, and path: /stelmo/nwb/analysis/Yoshi20220509/Yoshi20220509_H8KWMQJAA6.nwb\n",
      "WARNING:datajoint:Skipped checksum for file with hash: f8a0220e-f750-d1d5-13f7-e3e475c955e6, and path: /stelmo/nwb/analysis/Yoshi20220509/Yoshi20220509_H8KWMQJAA6.nwb\n"
     ]
    },
    {
     "name": "stdout",
     "output_type": "stream",
     "text": [
      "Fast Gamma 65-100 Hz Yoshi20220509_.nwb pos 14 valid times 17146b0b-5e33-701f-5857-5efa4e4d1aa5\n"
     ]
    },
    {
     "name": "stderr",
     "output_type": "stream",
     "text": [
      "[2023-12-06 09:01:29,240][WARNING]: Skipped checksum for file with hash: a71713a4-e954-e15b-37b5-bff35eba0cdd, and path: /stelmo/nwb/analysis/Yoshi20220509/Yoshi20220509_CT6677TMEJ.nwb\n",
      "WARNING:datajoint:Skipped checksum for file with hash: a71713a4-e954-e15b-37b5-bff35eba0cdd, and path: /stelmo/nwb/analysis/Yoshi20220509/Yoshi20220509_CT6677TMEJ.nwb\n"
     ]
    },
    {
     "name": "stdout",
     "output_type": "stream",
     "text": [
      "Slow Gamma 25-55 Hz Yoshi20220509_.nwb pos 2 valid times c67e2253-47d6-9b71-60f1-823682b52f80\n"
     ]
    },
    {
     "name": "stderr",
     "output_type": "stream",
     "text": [
      "[2023-12-06 09:01:30,721][WARNING]: Skipped checksum for file with hash: a71713a4-e954-e15b-37b5-bff35eba0cdd, and path: /stelmo/nwb/analysis/Yoshi20220509/Yoshi20220509_CT6677TMEJ.nwb\n",
      "WARNING:datajoint:Skipped checksum for file with hash: a71713a4-e954-e15b-37b5-bff35eba0cdd, and path: /stelmo/nwb/analysis/Yoshi20220509/Yoshi20220509_CT6677TMEJ.nwb\n"
     ]
    },
    {
     "name": "stdout",
     "output_type": "stream",
     "text": [
      "Fast Gamma 65-100 Hz Yoshi20220509_.nwb pos 2 valid times c67e2253-47d6-9b71-60f1-823682b52f80\n"
     ]
    },
    {
     "name": "stderr",
     "output_type": "stream",
     "text": [
      "[2023-12-06 09:01:31,694][WARNING]: Skipped checksum for file with hash: 5add0371-58d5-55b1-d447-a49b050dc9dd, and path: /stelmo/nwb/analysis/Yoshi20220509/Yoshi20220509_YZL12P9EIN.nwb\n",
      "WARNING:datajoint:Skipped checksum for file with hash: 5add0371-58d5-55b1-d447-a49b050dc9dd, and path: /stelmo/nwb/analysis/Yoshi20220509/Yoshi20220509_YZL12P9EIN.nwb\n"
     ]
    },
    {
     "name": "stdout",
     "output_type": "stream",
     "text": [
      "Slow Gamma 25-55 Hz Yoshi20220509_.nwb pos 3 valid times e5a7faa1-8b6b-edc0-70ca-37b9ea11501f\n"
     ]
    },
    {
     "name": "stderr",
     "output_type": "stream",
     "text": [
      "[2023-12-06 09:01:33,192][WARNING]: Skipped checksum for file with hash: 5add0371-58d5-55b1-d447-a49b050dc9dd, and path: /stelmo/nwb/analysis/Yoshi20220509/Yoshi20220509_YZL12P9EIN.nwb\n",
      "WARNING:datajoint:Skipped checksum for file with hash: 5add0371-58d5-55b1-d447-a49b050dc9dd, and path: /stelmo/nwb/analysis/Yoshi20220509/Yoshi20220509_YZL12P9EIN.nwb\n"
     ]
    },
    {
     "name": "stdout",
     "output_type": "stream",
     "text": [
      "Fast Gamma 65-100 Hz Yoshi20220509_.nwb pos 3 valid times e5a7faa1-8b6b-edc0-70ca-37b9ea11501f\n"
     ]
    },
    {
     "name": "stderr",
     "output_type": "stream",
     "text": [
      "[2023-12-06 09:01:34,091][WARNING]: Skipped checksum for file with hash: 468fa7c7-c4ee-8108-b56e-2f343bd4c442, and path: /stelmo/nwb/analysis/Yoshi20220509/Yoshi20220509_GLDGZUSUVM.nwb\n",
      "WARNING:datajoint:Skipped checksum for file with hash: 468fa7c7-c4ee-8108-b56e-2f343bd4c442, and path: /stelmo/nwb/analysis/Yoshi20220509/Yoshi20220509_GLDGZUSUVM.nwb\n"
     ]
    },
    {
     "name": "stdout",
     "output_type": "stream",
     "text": [
      "Slow Gamma 25-55 Hz Yoshi20220509_.nwb pos 4 valid times 576c260d-fe3c-fd2a-3374-dc23ea785ce2\n"
     ]
    },
    {
     "name": "stderr",
     "output_type": "stream",
     "text": [
      "[2023-12-06 09:01:35,610][WARNING]: Skipped checksum for file with hash: 468fa7c7-c4ee-8108-b56e-2f343bd4c442, and path: /stelmo/nwb/analysis/Yoshi20220509/Yoshi20220509_GLDGZUSUVM.nwb\n",
      "WARNING:datajoint:Skipped checksum for file with hash: 468fa7c7-c4ee-8108-b56e-2f343bd4c442, and path: /stelmo/nwb/analysis/Yoshi20220509/Yoshi20220509_GLDGZUSUVM.nwb\n"
     ]
    },
    {
     "name": "stdout",
     "output_type": "stream",
     "text": [
      "Fast Gamma 65-100 Hz Yoshi20220509_.nwb pos 4 valid times 576c260d-fe3c-fd2a-3374-dc23ea785ce2\n"
     ]
    },
    {
     "name": "stderr",
     "output_type": "stream",
     "text": [
      "[2023-12-06 09:01:36,619][WARNING]: Skipped checksum for file with hash: e7bf3293-96fa-e385-5c54-17c521875812, and path: /stelmo/nwb/analysis/Yoshi20220509/Yoshi20220509_SUWV6EG7TF.nwb\n",
      "WARNING:datajoint:Skipped checksum for file with hash: e7bf3293-96fa-e385-5c54-17c521875812, and path: /stelmo/nwb/analysis/Yoshi20220509/Yoshi20220509_SUWV6EG7TF.nwb\n"
     ]
    },
    {
     "name": "stdout",
     "output_type": "stream",
     "text": [
      "Slow Gamma 25-55 Hz Yoshi20220509_.nwb pos 5 valid times 09ce15c8-14b3-3e7e-8798-13399247e100\n"
     ]
    },
    {
     "name": "stderr",
     "output_type": "stream",
     "text": [
      "[2023-12-06 09:01:38,175][WARNING]: Skipped checksum for file with hash: e7bf3293-96fa-e385-5c54-17c521875812, and path: /stelmo/nwb/analysis/Yoshi20220509/Yoshi20220509_SUWV6EG7TF.nwb\n",
      "WARNING:datajoint:Skipped checksum for file with hash: e7bf3293-96fa-e385-5c54-17c521875812, and path: /stelmo/nwb/analysis/Yoshi20220509/Yoshi20220509_SUWV6EG7TF.nwb\n"
     ]
    },
    {
     "name": "stdout",
     "output_type": "stream",
     "text": [
      "Fast Gamma 65-100 Hz Yoshi20220509_.nwb pos 5 valid times 09ce15c8-14b3-3e7e-8798-13399247e100\n"
     ]
    },
    {
     "name": "stderr",
     "output_type": "stream",
     "text": [
      "[2023-12-06 09:01:39,245][WARNING]: Skipped checksum for file with hash: de551621-eef2-5cfb-3ee8-380dc3f009f3, and path: /stelmo/nwb/analysis/Yoshi20220509/Yoshi20220509_ZJO08N8SHF.nwb\n",
      "WARNING:datajoint:Skipped checksum for file with hash: de551621-eef2-5cfb-3ee8-380dc3f009f3, and path: /stelmo/nwb/analysis/Yoshi20220509/Yoshi20220509_ZJO08N8SHF.nwb\n"
     ]
    },
    {
     "name": "stdout",
     "output_type": "stream",
     "text": [
      "Slow Gamma 25-55 Hz Yoshi20220509_.nwb pos 6 valid times 2f2a4bae-21b1-1e61-994a-956fb966e46f\n"
     ]
    },
    {
     "name": "stderr",
     "output_type": "stream",
     "text": [
      "[2023-12-06 09:01:40,768][WARNING]: Skipped checksum for file with hash: de551621-eef2-5cfb-3ee8-380dc3f009f3, and path: /stelmo/nwb/analysis/Yoshi20220509/Yoshi20220509_ZJO08N8SHF.nwb\n",
      "WARNING:datajoint:Skipped checksum for file with hash: de551621-eef2-5cfb-3ee8-380dc3f009f3, and path: /stelmo/nwb/analysis/Yoshi20220509/Yoshi20220509_ZJO08N8SHF.nwb\n"
     ]
    },
    {
     "name": "stdout",
     "output_type": "stream",
     "text": [
      "Fast Gamma 65-100 Hz Yoshi20220509_.nwb pos 6 valid times 2f2a4bae-21b1-1e61-994a-956fb966e46f\n"
     ]
    },
    {
     "name": "stderr",
     "output_type": "stream",
     "text": [
      "[2023-12-06 09:01:41,763][WARNING]: Skipped checksum for file with hash: b4a1d955-3cc5-67f3-4b70-11746c0db773, and path: /stelmo/nwb/analysis/Yoshi20220509/Yoshi20220509_GTF35QXQ2Q.nwb\n",
      "WARNING:datajoint:Skipped checksum for file with hash: b4a1d955-3cc5-67f3-4b70-11746c0db773, and path: /stelmo/nwb/analysis/Yoshi20220509/Yoshi20220509_GTF35QXQ2Q.nwb\n"
     ]
    },
    {
     "name": "stdout",
     "output_type": "stream",
     "text": [
      "Slow Gamma 25-55 Hz Yoshi20220509_.nwb pos 7 valid times 992340a9-7b91-2864-fee2-b0faa3ab5bed\n"
     ]
    },
    {
     "name": "stderr",
     "output_type": "stream",
     "text": [
      "[2023-12-06 09:01:43,370][WARNING]: Skipped checksum for file with hash: b4a1d955-3cc5-67f3-4b70-11746c0db773, and path: /stelmo/nwb/analysis/Yoshi20220509/Yoshi20220509_GTF35QXQ2Q.nwb\n",
      "WARNING:datajoint:Skipped checksum for file with hash: b4a1d955-3cc5-67f3-4b70-11746c0db773, and path: /stelmo/nwb/analysis/Yoshi20220509/Yoshi20220509_GTF35QXQ2Q.nwb\n"
     ]
    },
    {
     "name": "stdout",
     "output_type": "stream",
     "text": [
      "Fast Gamma 65-100 Hz Yoshi20220509_.nwb pos 7 valid times 992340a9-7b91-2864-fee2-b0faa3ab5bed\n"
     ]
    },
    {
     "name": "stderr",
     "output_type": "stream",
     "text": [
      "[2023-12-06 09:01:44,438][WARNING]: Skipped checksum for file with hash: 7a5c2f38-a5cb-9bee-c41a-dcaf8ad4b1a7, and path: /stelmo/nwb/analysis/Yoshi20220509/Yoshi20220509_UU5G9G2J40.nwb\n",
      "WARNING:datajoint:Skipped checksum for file with hash: 7a5c2f38-a5cb-9bee-c41a-dcaf8ad4b1a7, and path: /stelmo/nwb/analysis/Yoshi20220509/Yoshi20220509_UU5G9G2J40.nwb\n"
     ]
    },
    {
     "name": "stdout",
     "output_type": "stream",
     "text": [
      "Slow Gamma 25-55 Hz Yoshi20220509_.nwb pos 8 valid times d16151eb-1f95-2034-8a89-ab5a1da4ade7\n"
     ]
    },
    {
     "name": "stderr",
     "output_type": "stream",
     "text": [
      "[2023-12-06 09:01:46,018][WARNING]: Skipped checksum for file with hash: 7a5c2f38-a5cb-9bee-c41a-dcaf8ad4b1a7, and path: /stelmo/nwb/analysis/Yoshi20220509/Yoshi20220509_UU5G9G2J40.nwb\n",
      "WARNING:datajoint:Skipped checksum for file with hash: 7a5c2f38-a5cb-9bee-c41a-dcaf8ad4b1a7, and path: /stelmo/nwb/analysis/Yoshi20220509/Yoshi20220509_UU5G9G2J40.nwb\n"
     ]
    },
    {
     "name": "stdout",
     "output_type": "stream",
     "text": [
      "Fast Gamma 65-100 Hz Yoshi20220509_.nwb pos 8 valid times d16151eb-1f95-2034-8a89-ab5a1da4ade7\n"
     ]
    },
    {
     "name": "stderr",
     "output_type": "stream",
     "text": [
      "[2023-12-06 09:01:46,990][WARNING]: Skipped checksum for file with hash: a2679d72-8735-26a8-e2e0-68c395cd828a, and path: /stelmo/nwb/analysis/Yoshi20220509/Yoshi20220509_Z0FTLB7W3V.nwb\n",
      "WARNING:datajoint:Skipped checksum for file with hash: a2679d72-8735-26a8-e2e0-68c395cd828a, and path: /stelmo/nwb/analysis/Yoshi20220509/Yoshi20220509_Z0FTLB7W3V.nwb\n"
     ]
    },
    {
     "name": "stdout",
     "output_type": "stream",
     "text": [
      "Slow Gamma 25-55 Hz Yoshi20220509_.nwb pos 9 valid times d976e09f-19fb-139d-2339-c0b563e7a5fb\n"
     ]
    },
    {
     "name": "stderr",
     "output_type": "stream",
     "text": [
      "[2023-12-06 09:01:48,560][WARNING]: Skipped checksum for file with hash: a2679d72-8735-26a8-e2e0-68c395cd828a, and path: /stelmo/nwb/analysis/Yoshi20220509/Yoshi20220509_Z0FTLB7W3V.nwb\n",
      "WARNING:datajoint:Skipped checksum for file with hash: a2679d72-8735-26a8-e2e0-68c395cd828a, and path: /stelmo/nwb/analysis/Yoshi20220509/Yoshi20220509_Z0FTLB7W3V.nwb\n"
     ]
    },
    {
     "name": "stdout",
     "output_type": "stream",
     "text": [
      "Fast Gamma 65-100 Hz Yoshi20220509_.nwb pos 9 valid times d976e09f-19fb-139d-2339-c0b563e7a5fb\n"
     ]
    },
    {
     "name": "stderr",
     "output_type": "stream",
     "text": [
      "[2023-12-06 09:01:49,862][WARNING]: Skipped checksum for file with hash: 0545e40e-546a-dbec-fb52-aaf0ef4ec133, and path: /stelmo/nwb/analysis/Yoshi20220510/Yoshi20220510_DMTH7U6DPX.nwb\n",
      "WARNING:datajoint:Skipped checksum for file with hash: 0545e40e-546a-dbec-fb52-aaf0ef4ec133, and path: /stelmo/nwb/analysis/Yoshi20220510/Yoshi20220510_DMTH7U6DPX.nwb\n"
     ]
    },
    {
     "name": "stdout",
     "output_type": "stream",
     "text": [
      "Slow Gamma 25-55 Hz Yoshi20220510_.nwb pos 0 valid times a7d743c1-3747-9cea-b7d7-9527b75af77d\n"
     ]
    },
    {
     "name": "stderr",
     "output_type": "stream",
     "text": [
      "[2023-12-06 09:01:51,402][WARNING]: Skipped checksum for file with hash: 0545e40e-546a-dbec-fb52-aaf0ef4ec133, and path: /stelmo/nwb/analysis/Yoshi20220510/Yoshi20220510_DMTH7U6DPX.nwb\n",
      "WARNING:datajoint:Skipped checksum for file with hash: 0545e40e-546a-dbec-fb52-aaf0ef4ec133, and path: /stelmo/nwb/analysis/Yoshi20220510/Yoshi20220510_DMTH7U6DPX.nwb\n"
     ]
    },
    {
     "name": "stdout",
     "output_type": "stream",
     "text": [
      "Fast Gamma 65-100 Hz Yoshi20220510_.nwb pos 0 valid times a7d743c1-3747-9cea-b7d7-9527b75af77d\n"
     ]
    },
    {
     "name": "stderr",
     "output_type": "stream",
     "text": [
      "[2023-12-06 09:01:52,459][WARNING]: Skipped checksum for file with hash: df8c93a7-4a17-f950-ca87-93cdb4c94bd3, and path: /stelmo/nwb/analysis/Yoshi20220510/Yoshi20220510_WEGRZM1XKT.nwb\n",
      "WARNING:datajoint:Skipped checksum for file with hash: df8c93a7-4a17-f950-ca87-93cdb4c94bd3, and path: /stelmo/nwb/analysis/Yoshi20220510/Yoshi20220510_WEGRZM1XKT.nwb\n"
     ]
    },
    {
     "name": "stdout",
     "output_type": "stream",
     "text": [
      "Slow Gamma 25-55 Hz Yoshi20220510_.nwb pos 1 valid times 08d5a578-5f67-da28-259d-b863ef247bab\n"
     ]
    },
    {
     "name": "stderr",
     "output_type": "stream",
     "text": [
      "[2023-12-06 09:01:54,044][WARNING]: Skipped checksum for file with hash: df8c93a7-4a17-f950-ca87-93cdb4c94bd3, and path: /stelmo/nwb/analysis/Yoshi20220510/Yoshi20220510_WEGRZM1XKT.nwb\n",
      "WARNING:datajoint:Skipped checksum for file with hash: df8c93a7-4a17-f950-ca87-93cdb4c94bd3, and path: /stelmo/nwb/analysis/Yoshi20220510/Yoshi20220510_WEGRZM1XKT.nwb\n"
     ]
    },
    {
     "name": "stdout",
     "output_type": "stream",
     "text": [
      "Fast Gamma 65-100 Hz Yoshi20220510_.nwb pos 1 valid times 08d5a578-5f67-da28-259d-b863ef247bab\n"
     ]
    },
    {
     "name": "stderr",
     "output_type": "stream",
     "text": [
      "[2023-12-06 09:01:55,053][WARNING]: Skipped checksum for file with hash: 036f2be4-501d-0be9-b451-eae8fecb61bf, and path: /stelmo/nwb/analysis/Yoshi20220510/Yoshi20220510_VN1NCEQLJN.nwb\n",
      "WARNING:datajoint:Skipped checksum for file with hash: 036f2be4-501d-0be9-b451-eae8fecb61bf, and path: /stelmo/nwb/analysis/Yoshi20220510/Yoshi20220510_VN1NCEQLJN.nwb\n"
     ]
    },
    {
     "name": "stdout",
     "output_type": "stream",
     "text": [
      "Slow Gamma 25-55 Hz Yoshi20220510_.nwb pos 10 valid times fc30df90-7321-9d5c-a0c4-f91b0fb6def8\n"
     ]
    },
    {
     "name": "stderr",
     "output_type": "stream",
     "text": [
      "[2023-12-06 09:01:56,633][WARNING]: Skipped checksum for file with hash: 036f2be4-501d-0be9-b451-eae8fecb61bf, and path: /stelmo/nwb/analysis/Yoshi20220510/Yoshi20220510_VN1NCEQLJN.nwb\n",
      "WARNING:datajoint:Skipped checksum for file with hash: 036f2be4-501d-0be9-b451-eae8fecb61bf, and path: /stelmo/nwb/analysis/Yoshi20220510/Yoshi20220510_VN1NCEQLJN.nwb\n"
     ]
    },
    {
     "name": "stdout",
     "output_type": "stream",
     "text": [
      "Fast Gamma 65-100 Hz Yoshi20220510_.nwb pos 10 valid times fc30df90-7321-9d5c-a0c4-f91b0fb6def8\n"
     ]
    },
    {
     "name": "stderr",
     "output_type": "stream",
     "text": [
      "[2023-12-06 09:01:57,576][WARNING]: Skipped checksum for file with hash: 91ec54a6-1fcb-33d9-98db-10781a5fc9bb, and path: /stelmo/nwb/analysis/Yoshi20220510/Yoshi20220510_Z1CGWFK976.nwb\n",
      "WARNING:datajoint:Skipped checksum for file with hash: 91ec54a6-1fcb-33d9-98db-10781a5fc9bb, and path: /stelmo/nwb/analysis/Yoshi20220510/Yoshi20220510_Z1CGWFK976.nwb\n"
     ]
    },
    {
     "name": "stdout",
     "output_type": "stream",
     "text": [
      "Slow Gamma 25-55 Hz Yoshi20220510_.nwb pos 11 valid times d2cf8444-8ed5-c714-fdb3-29e74ad2e3ef\n"
     ]
    },
    {
     "name": "stderr",
     "output_type": "stream",
     "text": [
      "[2023-12-06 09:01:59,078][WARNING]: Skipped checksum for file with hash: 91ec54a6-1fcb-33d9-98db-10781a5fc9bb, and path: /stelmo/nwb/analysis/Yoshi20220510/Yoshi20220510_Z1CGWFK976.nwb\n",
      "WARNING:datajoint:Skipped checksum for file with hash: 91ec54a6-1fcb-33d9-98db-10781a5fc9bb, and path: /stelmo/nwb/analysis/Yoshi20220510/Yoshi20220510_Z1CGWFK976.nwb\n"
     ]
    },
    {
     "name": "stdout",
     "output_type": "stream",
     "text": [
      "Fast Gamma 65-100 Hz Yoshi20220510_.nwb pos 11 valid times d2cf8444-8ed5-c714-fdb3-29e74ad2e3ef\n"
     ]
    },
    {
     "name": "stderr",
     "output_type": "stream",
     "text": [
      "[2023-12-06 09:02:00,066][WARNING]: Skipped checksum for file with hash: 0af0e332-73a7-e9a6-c7ef-331361b3651e, and path: /stelmo/nwb/analysis/Yoshi20220510/Yoshi20220510_8BOHIHGCB6.nwb\n",
      "WARNING:datajoint:Skipped checksum for file with hash: 0af0e332-73a7-e9a6-c7ef-331361b3651e, and path: /stelmo/nwb/analysis/Yoshi20220510/Yoshi20220510_8BOHIHGCB6.nwb\n"
     ]
    },
    {
     "name": "stdout",
     "output_type": "stream",
     "text": [
      "Slow Gamma 25-55 Hz Yoshi20220510_.nwb pos 12 valid times 67c0e7d6-9e8b-eda0-922e-475e83dd1f3a\n"
     ]
    },
    {
     "name": "stderr",
     "output_type": "stream",
     "text": [
      "[2023-12-06 09:02:01,562][WARNING]: Skipped checksum for file with hash: 0af0e332-73a7-e9a6-c7ef-331361b3651e, and path: /stelmo/nwb/analysis/Yoshi20220510/Yoshi20220510_8BOHIHGCB6.nwb\n",
      "WARNING:datajoint:Skipped checksum for file with hash: 0af0e332-73a7-e9a6-c7ef-331361b3651e, and path: /stelmo/nwb/analysis/Yoshi20220510/Yoshi20220510_8BOHIHGCB6.nwb\n"
     ]
    },
    {
     "name": "stdout",
     "output_type": "stream",
     "text": [
      "Fast Gamma 65-100 Hz Yoshi20220510_.nwb pos 12 valid times 67c0e7d6-9e8b-eda0-922e-475e83dd1f3a\n"
     ]
    },
    {
     "name": "stderr",
     "output_type": "stream",
     "text": [
      "[2023-12-06 09:02:02,526][WARNING]: Skipped checksum for file with hash: 34a5d969-381b-006f-8fde-2b3b0a6d4add, and path: /stelmo/nwb/analysis/Yoshi20220510/Yoshi20220510_JY1WXW164S.nwb\n",
      "WARNING:datajoint:Skipped checksum for file with hash: 34a5d969-381b-006f-8fde-2b3b0a6d4add, and path: /stelmo/nwb/analysis/Yoshi20220510/Yoshi20220510_JY1WXW164S.nwb\n"
     ]
    },
    {
     "name": "stdout",
     "output_type": "stream",
     "text": [
      "Slow Gamma 25-55 Hz Yoshi20220510_.nwb pos 13 valid times b348b17c-5f27-21a7-24f5-83d8771b28d0\n"
     ]
    },
    {
     "name": "stderr",
     "output_type": "stream",
     "text": [
      "[2023-12-06 09:02:04,132][WARNING]: Skipped checksum for file with hash: 34a5d969-381b-006f-8fde-2b3b0a6d4add, and path: /stelmo/nwb/analysis/Yoshi20220510/Yoshi20220510_JY1WXW164S.nwb\n",
      "WARNING:datajoint:Skipped checksum for file with hash: 34a5d969-381b-006f-8fde-2b3b0a6d4add, and path: /stelmo/nwb/analysis/Yoshi20220510/Yoshi20220510_JY1WXW164S.nwb\n"
     ]
    },
    {
     "name": "stdout",
     "output_type": "stream",
     "text": [
      "Fast Gamma 65-100 Hz Yoshi20220510_.nwb pos 13 valid times b348b17c-5f27-21a7-24f5-83d8771b28d0\n"
     ]
    },
    {
     "name": "stderr",
     "output_type": "stream",
     "text": [
      "[2023-12-06 09:02:05,169][WARNING]: Skipped checksum for file with hash: 5b34f825-87d2-70bc-1dee-349d3855960d, and path: /stelmo/nwb/analysis/Yoshi20220510/Yoshi20220510_QNJTBVKP2M.nwb\n",
      "WARNING:datajoint:Skipped checksum for file with hash: 5b34f825-87d2-70bc-1dee-349d3855960d, and path: /stelmo/nwb/analysis/Yoshi20220510/Yoshi20220510_QNJTBVKP2M.nwb\n"
     ]
    },
    {
     "name": "stdout",
     "output_type": "stream",
     "text": [
      "Slow Gamma 25-55 Hz Yoshi20220510_.nwb pos 14 valid times 6df9d2e3-2299-1ee4-4be4-fc1fa72be162\n"
     ]
    },
    {
     "name": "stderr",
     "output_type": "stream",
     "text": [
      "[2023-12-06 09:02:06,743][WARNING]: Skipped checksum for file with hash: 5b34f825-87d2-70bc-1dee-349d3855960d, and path: /stelmo/nwb/analysis/Yoshi20220510/Yoshi20220510_QNJTBVKP2M.nwb\n",
      "WARNING:datajoint:Skipped checksum for file with hash: 5b34f825-87d2-70bc-1dee-349d3855960d, and path: /stelmo/nwb/analysis/Yoshi20220510/Yoshi20220510_QNJTBVKP2M.nwb\n"
     ]
    },
    {
     "name": "stdout",
     "output_type": "stream",
     "text": [
      "Fast Gamma 65-100 Hz Yoshi20220510_.nwb pos 14 valid times 6df9d2e3-2299-1ee4-4be4-fc1fa72be162\n"
     ]
    },
    {
     "name": "stderr",
     "output_type": "stream",
     "text": [
      "[2023-12-06 09:02:07,781][WARNING]: Skipped checksum for file with hash: a8dbc86e-b422-5907-078d-d035c6ae077d, and path: /stelmo/nwb/analysis/Yoshi20220510/Yoshi20220510_OX4O6DF239.nwb\n",
      "WARNING:datajoint:Skipped checksum for file with hash: a8dbc86e-b422-5907-078d-d035c6ae077d, and path: /stelmo/nwb/analysis/Yoshi20220510/Yoshi20220510_OX4O6DF239.nwb\n"
     ]
    },
    {
     "name": "stdout",
     "output_type": "stream",
     "text": [
      "Slow Gamma 25-55 Hz Yoshi20220510_.nwb pos 2 valid times 0c41f4d3-8d81-ef5d-dbf4-991e501ef6cc\n"
     ]
    },
    {
     "name": "stderr",
     "output_type": "stream",
     "text": [
      "[2023-12-06 09:02:09,472][WARNING]: Skipped checksum for file with hash: a8dbc86e-b422-5907-078d-d035c6ae077d, and path: /stelmo/nwb/analysis/Yoshi20220510/Yoshi20220510_OX4O6DF239.nwb\n",
      "WARNING:datajoint:Skipped checksum for file with hash: a8dbc86e-b422-5907-078d-d035c6ae077d, and path: /stelmo/nwb/analysis/Yoshi20220510/Yoshi20220510_OX4O6DF239.nwb\n"
     ]
    },
    {
     "name": "stdout",
     "output_type": "stream",
     "text": [
      "Fast Gamma 65-100 Hz Yoshi20220510_.nwb pos 2 valid times 0c41f4d3-8d81-ef5d-dbf4-991e501ef6cc\n"
     ]
    },
    {
     "name": "stderr",
     "output_type": "stream",
     "text": [
      "[2023-12-06 09:02:10,525][WARNING]: Skipped checksum for file with hash: db51e932-9862-394f-5140-9b152591797d, and path: /stelmo/nwb/analysis/Yoshi20220510/Yoshi20220510_699WL5SG7G.nwb\n",
      "WARNING:datajoint:Skipped checksum for file with hash: db51e932-9862-394f-5140-9b152591797d, and path: /stelmo/nwb/analysis/Yoshi20220510/Yoshi20220510_699WL5SG7G.nwb\n"
     ]
    },
    {
     "name": "stdout",
     "output_type": "stream",
     "text": [
      "Slow Gamma 25-55 Hz Yoshi20220510_.nwb pos 3 valid times 8d31b49e-e2e9-c6dd-223b-5e5b828376ac\n"
     ]
    },
    {
     "name": "stderr",
     "output_type": "stream",
     "text": [
      "[2023-12-06 09:02:12,038][WARNING]: Skipped checksum for file with hash: db51e932-9862-394f-5140-9b152591797d, and path: /stelmo/nwb/analysis/Yoshi20220510/Yoshi20220510_699WL5SG7G.nwb\n",
      "WARNING:datajoint:Skipped checksum for file with hash: db51e932-9862-394f-5140-9b152591797d, and path: /stelmo/nwb/analysis/Yoshi20220510/Yoshi20220510_699WL5SG7G.nwb\n"
     ]
    },
    {
     "name": "stdout",
     "output_type": "stream",
     "text": [
      "Fast Gamma 65-100 Hz Yoshi20220510_.nwb pos 3 valid times 8d31b49e-e2e9-c6dd-223b-5e5b828376ac\n"
     ]
    },
    {
     "name": "stderr",
     "output_type": "stream",
     "text": [
      "[2023-12-06 09:02:13,081][WARNING]: Skipped checksum for file with hash: f6c0ef9c-23ac-718d-c2ae-7944f7ba0d33, and path: /stelmo/nwb/analysis/Yoshi20220510/Yoshi20220510_2BUEN2P3RM.nwb\n",
      "WARNING:datajoint:Skipped checksum for file with hash: f6c0ef9c-23ac-718d-c2ae-7944f7ba0d33, and path: /stelmo/nwb/analysis/Yoshi20220510/Yoshi20220510_2BUEN2P3RM.nwb\n"
     ]
    },
    {
     "name": "stdout",
     "output_type": "stream",
     "text": [
      "Slow Gamma 25-55 Hz Yoshi20220510_.nwb pos 4 valid times a1b731b7-6011-a9ba-ba5c-15c42000f296\n"
     ]
    },
    {
     "name": "stderr",
     "output_type": "stream",
     "text": [
      "[2023-12-06 09:02:14,702][WARNING]: Skipped checksum for file with hash: f6c0ef9c-23ac-718d-c2ae-7944f7ba0d33, and path: /stelmo/nwb/analysis/Yoshi20220510/Yoshi20220510_2BUEN2P3RM.nwb\n",
      "WARNING:datajoint:Skipped checksum for file with hash: f6c0ef9c-23ac-718d-c2ae-7944f7ba0d33, and path: /stelmo/nwb/analysis/Yoshi20220510/Yoshi20220510_2BUEN2P3RM.nwb\n"
     ]
    },
    {
     "name": "stdout",
     "output_type": "stream",
     "text": [
      "Fast Gamma 65-100 Hz Yoshi20220510_.nwb pos 4 valid times a1b731b7-6011-a9ba-ba5c-15c42000f296\n"
     ]
    },
    {
     "name": "stderr",
     "output_type": "stream",
     "text": [
      "[2023-12-06 09:02:15,730][WARNING]: Skipped checksum for file with hash: c1550b9f-8fad-f7e0-bd52-032e656d895a, and path: /stelmo/nwb/analysis/Yoshi20220510/Yoshi20220510_WPUCD45FCQ.nwb\n",
      "WARNING:datajoint:Skipped checksum for file with hash: c1550b9f-8fad-f7e0-bd52-032e656d895a, and path: /stelmo/nwb/analysis/Yoshi20220510/Yoshi20220510_WPUCD45FCQ.nwb\n"
     ]
    },
    {
     "name": "stdout",
     "output_type": "stream",
     "text": [
      "Slow Gamma 25-55 Hz Yoshi20220510_.nwb pos 5 valid times 4ee10573-846c-33af-5147-160ee00f3d94\n"
     ]
    },
    {
     "name": "stderr",
     "output_type": "stream",
     "text": [
      "[2023-12-06 09:02:17,355][WARNING]: Skipped checksum for file with hash: c1550b9f-8fad-f7e0-bd52-032e656d895a, and path: /stelmo/nwb/analysis/Yoshi20220510/Yoshi20220510_WPUCD45FCQ.nwb\n",
      "WARNING:datajoint:Skipped checksum for file with hash: c1550b9f-8fad-f7e0-bd52-032e656d895a, and path: /stelmo/nwb/analysis/Yoshi20220510/Yoshi20220510_WPUCD45FCQ.nwb\n"
     ]
    },
    {
     "name": "stdout",
     "output_type": "stream",
     "text": [
      "Fast Gamma 65-100 Hz Yoshi20220510_.nwb pos 5 valid times 4ee10573-846c-33af-5147-160ee00f3d94\n"
     ]
    },
    {
     "name": "stderr",
     "output_type": "stream",
     "text": [
      "[2023-12-06 09:02:18,401][WARNING]: Skipped checksum for file with hash: ac552932-7f4c-ec3d-5d16-b03c580c581a, and path: /stelmo/nwb/analysis/Yoshi20220510/Yoshi20220510_6AWM8M998M.nwb\n",
      "WARNING:datajoint:Skipped checksum for file with hash: ac552932-7f4c-ec3d-5d16-b03c580c581a, and path: /stelmo/nwb/analysis/Yoshi20220510/Yoshi20220510_6AWM8M998M.nwb\n"
     ]
    },
    {
     "name": "stdout",
     "output_type": "stream",
     "text": [
      "Slow Gamma 25-55 Hz Yoshi20220510_.nwb pos 6 valid times a84f569e-6a3d-d2a3-717e-555b4cbcc111\n"
     ]
    },
    {
     "name": "stderr",
     "output_type": "stream",
     "text": [
      "[2023-12-06 09:02:19,964][WARNING]: Skipped checksum for file with hash: ac552932-7f4c-ec3d-5d16-b03c580c581a, and path: /stelmo/nwb/analysis/Yoshi20220510/Yoshi20220510_6AWM8M998M.nwb\n",
      "WARNING:datajoint:Skipped checksum for file with hash: ac552932-7f4c-ec3d-5d16-b03c580c581a, and path: /stelmo/nwb/analysis/Yoshi20220510/Yoshi20220510_6AWM8M998M.nwb\n"
     ]
    },
    {
     "name": "stdout",
     "output_type": "stream",
     "text": [
      "Fast Gamma 65-100 Hz Yoshi20220510_.nwb pos 6 valid times a84f569e-6a3d-d2a3-717e-555b4cbcc111\n"
     ]
    },
    {
     "name": "stderr",
     "output_type": "stream",
     "text": [
      "[2023-12-06 09:02:21,003][WARNING]: Skipped checksum for file with hash: a224c873-7aa7-0947-0798-6c39842fe520, and path: /stelmo/nwb/analysis/Yoshi20220510/Yoshi20220510_ZRI4MRWN7T.nwb\n",
      "WARNING:datajoint:Skipped checksum for file with hash: a224c873-7aa7-0947-0798-6c39842fe520, and path: /stelmo/nwb/analysis/Yoshi20220510/Yoshi20220510_ZRI4MRWN7T.nwb\n"
     ]
    },
    {
     "name": "stdout",
     "output_type": "stream",
     "text": [
      "Slow Gamma 25-55 Hz Yoshi20220510_.nwb pos 7 valid times a8c4f117-29f0-d6bd-1dbb-f93aefb41d95\n"
     ]
    },
    {
     "name": "stderr",
     "output_type": "stream",
     "text": [
      "[2023-12-06 09:02:22,695][WARNING]: Skipped checksum for file with hash: a224c873-7aa7-0947-0798-6c39842fe520, and path: /stelmo/nwb/analysis/Yoshi20220510/Yoshi20220510_ZRI4MRWN7T.nwb\n",
      "WARNING:datajoint:Skipped checksum for file with hash: a224c873-7aa7-0947-0798-6c39842fe520, and path: /stelmo/nwb/analysis/Yoshi20220510/Yoshi20220510_ZRI4MRWN7T.nwb\n"
     ]
    },
    {
     "name": "stdout",
     "output_type": "stream",
     "text": [
      "Fast Gamma 65-100 Hz Yoshi20220510_.nwb pos 7 valid times a8c4f117-29f0-d6bd-1dbb-f93aefb41d95\n"
     ]
    },
    {
     "name": "stderr",
     "output_type": "stream",
     "text": [
      "[2023-12-06 09:02:23,686][WARNING]: Skipped checksum for file with hash: 95941b81-50dd-11cf-b348-3bd64fac1558, and path: /stelmo/nwb/analysis/Yoshi20220510/Yoshi20220510_G1TWYJUT9D.nwb\n",
      "WARNING:datajoint:Skipped checksum for file with hash: 95941b81-50dd-11cf-b348-3bd64fac1558, and path: /stelmo/nwb/analysis/Yoshi20220510/Yoshi20220510_G1TWYJUT9D.nwb\n"
     ]
    },
    {
     "name": "stdout",
     "output_type": "stream",
     "text": [
      "Slow Gamma 25-55 Hz Yoshi20220510_.nwb pos 8 valid times 4561dc4d-5944-798d-a981-a98ef4d0660e\n"
     ]
    },
    {
     "name": "stderr",
     "output_type": "stream",
     "text": [
      "[2023-12-06 09:02:25,402][WARNING]: Skipped checksum for file with hash: 95941b81-50dd-11cf-b348-3bd64fac1558, and path: /stelmo/nwb/analysis/Yoshi20220510/Yoshi20220510_G1TWYJUT9D.nwb\n",
      "WARNING:datajoint:Skipped checksum for file with hash: 95941b81-50dd-11cf-b348-3bd64fac1558, and path: /stelmo/nwb/analysis/Yoshi20220510/Yoshi20220510_G1TWYJUT9D.nwb\n"
     ]
    },
    {
     "name": "stdout",
     "output_type": "stream",
     "text": [
      "Fast Gamma 65-100 Hz Yoshi20220510_.nwb pos 8 valid times 4561dc4d-5944-798d-a981-a98ef4d0660e\n"
     ]
    },
    {
     "name": "stderr",
     "output_type": "stream",
     "text": [
      "[2023-12-06 09:02:26,472][WARNING]: Skipped checksum for file with hash: 71fb8bad-d59f-e34a-5447-d3e04fa22be1, and path: /stelmo/nwb/analysis/Yoshi20220510/Yoshi20220510_2DGVTWKXFU.nwb\n",
      "WARNING:datajoint:Skipped checksum for file with hash: 71fb8bad-d59f-e34a-5447-d3e04fa22be1, and path: /stelmo/nwb/analysis/Yoshi20220510/Yoshi20220510_2DGVTWKXFU.nwb\n"
     ]
    },
    {
     "name": "stdout",
     "output_type": "stream",
     "text": [
      "Slow Gamma 25-55 Hz Yoshi20220510_.nwb pos 9 valid times d3c6a5fa-5310-2e33-152d-a26c426c80d5\n"
     ]
    },
    {
     "name": "stderr",
     "output_type": "stream",
     "text": [
      "[2023-12-06 09:02:28,085][WARNING]: Skipped checksum for file with hash: 71fb8bad-d59f-e34a-5447-d3e04fa22be1, and path: /stelmo/nwb/analysis/Yoshi20220510/Yoshi20220510_2DGVTWKXFU.nwb\n",
      "WARNING:datajoint:Skipped checksum for file with hash: 71fb8bad-d59f-e34a-5447-d3e04fa22be1, and path: /stelmo/nwb/analysis/Yoshi20220510/Yoshi20220510_2DGVTWKXFU.nwb\n"
     ]
    },
    {
     "name": "stdout",
     "output_type": "stream",
     "text": [
      "Fast Gamma 65-100 Hz Yoshi20220510_.nwb pos 9 valid times d3c6a5fa-5310-2e33-152d-a26c426c80d5\n"
     ]
    },
    {
     "name": "stderr",
     "output_type": "stream",
     "text": [
      "[2023-12-06 09:02:29,131][WARNING]: Skipped checksum for file with hash: fa6d7726-17c6-823c-bd74-22b61091d9a5, and path: /stelmo/nwb/analysis/Yoshi20220511/Yoshi20220511_D7BI6X0UFK.nwb\n",
      "WARNING:datajoint:Skipped checksum for file with hash: fa6d7726-17c6-823c-bd74-22b61091d9a5, and path: /stelmo/nwb/analysis/Yoshi20220511/Yoshi20220511_D7BI6X0UFK.nwb\n"
     ]
    },
    {
     "name": "stdout",
     "output_type": "stream",
     "text": [
      "Slow Gamma 25-55 Hz Yoshi20220511_.nwb pos 0 valid times 953aaca3-0dd4-0f6c-504a-3389ed5c24c9\n"
     ]
    },
    {
     "name": "stderr",
     "output_type": "stream",
     "text": [
      "[2023-12-06 09:02:30,762][WARNING]: Skipped checksum for file with hash: fa6d7726-17c6-823c-bd74-22b61091d9a5, and path: /stelmo/nwb/analysis/Yoshi20220511/Yoshi20220511_D7BI6X0UFK.nwb\n",
      "WARNING:datajoint:Skipped checksum for file with hash: fa6d7726-17c6-823c-bd74-22b61091d9a5, and path: /stelmo/nwb/analysis/Yoshi20220511/Yoshi20220511_D7BI6X0UFK.nwb\n"
     ]
    },
    {
     "name": "stdout",
     "output_type": "stream",
     "text": [
      "Fast Gamma 65-100 Hz Yoshi20220511_.nwb pos 0 valid times 953aaca3-0dd4-0f6c-504a-3389ed5c24c9\n"
     ]
    },
    {
     "name": "stderr",
     "output_type": "stream",
     "text": [
      "[2023-12-06 09:02:31,793][WARNING]: Skipped checksum for file with hash: e8a5ea9a-3eab-bc47-3588-e66b924df5b3, and path: /stelmo/nwb/analysis/Yoshi20220511/Yoshi20220511_9Z8JHJM7YC.nwb\n",
      "WARNING:datajoint:Skipped checksum for file with hash: e8a5ea9a-3eab-bc47-3588-e66b924df5b3, and path: /stelmo/nwb/analysis/Yoshi20220511/Yoshi20220511_9Z8JHJM7YC.nwb\n"
     ]
    },
    {
     "name": "stdout",
     "output_type": "stream",
     "text": [
      "Slow Gamma 25-55 Hz Yoshi20220511_.nwb pos 1 valid times ddf1f933-6096-a3a3-f454-96e3547aaabf\n"
     ]
    },
    {
     "name": "stderr",
     "output_type": "stream",
     "text": [
      "[2023-12-06 09:02:33,365][WARNING]: Skipped checksum for file with hash: e8a5ea9a-3eab-bc47-3588-e66b924df5b3, and path: /stelmo/nwb/analysis/Yoshi20220511/Yoshi20220511_9Z8JHJM7YC.nwb\n",
      "WARNING:datajoint:Skipped checksum for file with hash: e8a5ea9a-3eab-bc47-3588-e66b924df5b3, and path: /stelmo/nwb/analysis/Yoshi20220511/Yoshi20220511_9Z8JHJM7YC.nwb\n"
     ]
    },
    {
     "name": "stdout",
     "output_type": "stream",
     "text": [
      "Fast Gamma 65-100 Hz Yoshi20220511_.nwb pos 1 valid times ddf1f933-6096-a3a3-f454-96e3547aaabf\n"
     ]
    },
    {
     "name": "stderr",
     "output_type": "stream",
     "text": [
      "[2023-12-06 09:02:34,392][WARNING]: Skipped checksum for file with hash: 85c82e23-4fa2-3051-f902-964f87a98c42, and path: /stelmo/nwb/analysis/Yoshi20220511/Yoshi20220511_M230ZWZNIO.nwb\n",
      "WARNING:datajoint:Skipped checksum for file with hash: 85c82e23-4fa2-3051-f902-964f87a98c42, and path: /stelmo/nwb/analysis/Yoshi20220511/Yoshi20220511_M230ZWZNIO.nwb\n"
     ]
    },
    {
     "name": "stdout",
     "output_type": "stream",
     "text": [
      "Slow Gamma 25-55 Hz Yoshi20220511_.nwb pos 10 valid times f07211ca-058e-1903-c3cc-0eb531379f70\n"
     ]
    },
    {
     "name": "stderr",
     "output_type": "stream",
     "text": [
      "[2023-12-06 09:02:36,051][WARNING]: Skipped checksum for file with hash: 85c82e23-4fa2-3051-f902-964f87a98c42, and path: /stelmo/nwb/analysis/Yoshi20220511/Yoshi20220511_M230ZWZNIO.nwb\n",
      "WARNING:datajoint:Skipped checksum for file with hash: 85c82e23-4fa2-3051-f902-964f87a98c42, and path: /stelmo/nwb/analysis/Yoshi20220511/Yoshi20220511_M230ZWZNIO.nwb\n"
     ]
    },
    {
     "name": "stdout",
     "output_type": "stream",
     "text": [
      "Fast Gamma 65-100 Hz Yoshi20220511_.nwb pos 10 valid times f07211ca-058e-1903-c3cc-0eb531379f70\n"
     ]
    },
    {
     "name": "stderr",
     "output_type": "stream",
     "text": [
      "[2023-12-06 09:02:37,113][WARNING]: Skipped checksum for file with hash: 78537391-e7d4-800d-f4a8-3ac91223fd2c, and path: /stelmo/nwb/analysis/Yoshi20220511/Yoshi20220511_9TCQQCSCKN.nwb\n",
      "WARNING:datajoint:Skipped checksum for file with hash: 78537391-e7d4-800d-f4a8-3ac91223fd2c, and path: /stelmo/nwb/analysis/Yoshi20220511/Yoshi20220511_9TCQQCSCKN.nwb\n"
     ]
    },
    {
     "name": "stdout",
     "output_type": "stream",
     "text": [
      "Slow Gamma 25-55 Hz Yoshi20220511_.nwb pos 11 valid times f39f34e4-6d9b-fe54-5d9f-7ef99bbfad14\n"
     ]
    },
    {
     "name": "stderr",
     "output_type": "stream",
     "text": [
      "[2023-12-06 09:02:38,665][WARNING]: Skipped checksum for file with hash: 78537391-e7d4-800d-f4a8-3ac91223fd2c, and path: /stelmo/nwb/analysis/Yoshi20220511/Yoshi20220511_9TCQQCSCKN.nwb\n",
      "WARNING:datajoint:Skipped checksum for file with hash: 78537391-e7d4-800d-f4a8-3ac91223fd2c, and path: /stelmo/nwb/analysis/Yoshi20220511/Yoshi20220511_9TCQQCSCKN.nwb\n"
     ]
    },
    {
     "name": "stdout",
     "output_type": "stream",
     "text": [
      "Fast Gamma 65-100 Hz Yoshi20220511_.nwb pos 11 valid times f39f34e4-6d9b-fe54-5d9f-7ef99bbfad14\n"
     ]
    },
    {
     "name": "stderr",
     "output_type": "stream",
     "text": [
      "[2023-12-06 09:02:39,714][WARNING]: Skipped checksum for file with hash: 460666fb-6150-2a3b-a3b8-27a45ad08243, and path: /stelmo/nwb/analysis/Yoshi20220511/Yoshi20220511_623ZWYR1ZD.nwb\n",
      "WARNING:datajoint:Skipped checksum for file with hash: 460666fb-6150-2a3b-a3b8-27a45ad08243, and path: /stelmo/nwb/analysis/Yoshi20220511/Yoshi20220511_623ZWYR1ZD.nwb\n"
     ]
    },
    {
     "name": "stdout",
     "output_type": "stream",
     "text": [
      "Slow Gamma 25-55 Hz Yoshi20220511_.nwb pos 12 valid times 6461da98-5908-a266-623b-5bba5945dc62\n"
     ]
    },
    {
     "name": "stderr",
     "output_type": "stream",
     "text": [
      "[2023-12-06 09:02:41,224][WARNING]: Skipped checksum for file with hash: 460666fb-6150-2a3b-a3b8-27a45ad08243, and path: /stelmo/nwb/analysis/Yoshi20220511/Yoshi20220511_623ZWYR1ZD.nwb\n",
      "WARNING:datajoint:Skipped checksum for file with hash: 460666fb-6150-2a3b-a3b8-27a45ad08243, and path: /stelmo/nwb/analysis/Yoshi20220511/Yoshi20220511_623ZWYR1ZD.nwb\n"
     ]
    },
    {
     "name": "stdout",
     "output_type": "stream",
     "text": [
      "Fast Gamma 65-100 Hz Yoshi20220511_.nwb pos 12 valid times 6461da98-5908-a266-623b-5bba5945dc62\n"
     ]
    },
    {
     "name": "stderr",
     "output_type": "stream",
     "text": [
      "[2023-12-06 09:02:42,273][WARNING]: Skipped checksum for file with hash: 43891a29-27b0-5b9e-0a90-825804cacb49, and path: /stelmo/nwb/analysis/Yoshi20220511/Yoshi20220511_PL34X26X7W.nwb\n",
      "WARNING:datajoint:Skipped checksum for file with hash: 43891a29-27b0-5b9e-0a90-825804cacb49, and path: /stelmo/nwb/analysis/Yoshi20220511/Yoshi20220511_PL34X26X7W.nwb\n"
     ]
    },
    {
     "name": "stdout",
     "output_type": "stream",
     "text": [
      "Slow Gamma 25-55 Hz Yoshi20220511_.nwb pos 13 valid times f0920814-61ad-4f00-50b8-c3b4d7618ebd\n"
     ]
    },
    {
     "name": "stderr",
     "output_type": "stream",
     "text": [
      "[2023-12-06 09:02:43,862][WARNING]: Skipped checksum for file with hash: 43891a29-27b0-5b9e-0a90-825804cacb49, and path: /stelmo/nwb/analysis/Yoshi20220511/Yoshi20220511_PL34X26X7W.nwb\n",
      "WARNING:datajoint:Skipped checksum for file with hash: 43891a29-27b0-5b9e-0a90-825804cacb49, and path: /stelmo/nwb/analysis/Yoshi20220511/Yoshi20220511_PL34X26X7W.nwb\n"
     ]
    },
    {
     "name": "stdout",
     "output_type": "stream",
     "text": [
      "Fast Gamma 65-100 Hz Yoshi20220511_.nwb pos 13 valid times f0920814-61ad-4f00-50b8-c3b4d7618ebd\n"
     ]
    },
    {
     "name": "stderr",
     "output_type": "stream",
     "text": [
      "[2023-12-06 09:02:44,906][WARNING]: Skipped checksum for file with hash: 121bd919-a29f-6efd-a003-cb2087deea0b, and path: /stelmo/nwb/analysis/Yoshi20220511/Yoshi20220511_ENO5C96A62.nwb\n",
      "WARNING:datajoint:Skipped checksum for file with hash: 121bd919-a29f-6efd-a003-cb2087deea0b, and path: /stelmo/nwb/analysis/Yoshi20220511/Yoshi20220511_ENO5C96A62.nwb\n"
     ]
    },
    {
     "name": "stdout",
     "output_type": "stream",
     "text": [
      "Slow Gamma 25-55 Hz Yoshi20220511_.nwb pos 14 valid times d70a9399-8c90-a762-05d1-0d18645d7fb8\n"
     ]
    },
    {
     "name": "stderr",
     "output_type": "stream",
     "text": [
      "[2023-12-06 09:02:46,473][WARNING]: Skipped checksum for file with hash: 121bd919-a29f-6efd-a003-cb2087deea0b, and path: /stelmo/nwb/analysis/Yoshi20220511/Yoshi20220511_ENO5C96A62.nwb\n",
      "WARNING:datajoint:Skipped checksum for file with hash: 121bd919-a29f-6efd-a003-cb2087deea0b, and path: /stelmo/nwb/analysis/Yoshi20220511/Yoshi20220511_ENO5C96A62.nwb\n"
     ]
    },
    {
     "name": "stdout",
     "output_type": "stream",
     "text": [
      "Fast Gamma 65-100 Hz Yoshi20220511_.nwb pos 14 valid times d70a9399-8c90-a762-05d1-0d18645d7fb8\n"
     ]
    },
    {
     "name": "stderr",
     "output_type": "stream",
     "text": [
      "[2023-12-06 09:02:47,499][WARNING]: Skipped checksum for file with hash: 11bdd335-9868-770a-2b6d-c36c72183133, and path: /stelmo/nwb/analysis/Yoshi20220511/Yoshi20220511_5S9H3DL5B4.nwb\n",
      "WARNING:datajoint:Skipped checksum for file with hash: 11bdd335-9868-770a-2b6d-c36c72183133, and path: /stelmo/nwb/analysis/Yoshi20220511/Yoshi20220511_5S9H3DL5B4.nwb\n"
     ]
    },
    {
     "name": "stdout",
     "output_type": "stream",
     "text": [
      "Slow Gamma 25-55 Hz Yoshi20220511_.nwb pos 15 valid times 8bd55d4f-e3a4-09ce-f9c8-82bd547abe23\n"
     ]
    },
    {
     "name": "stderr",
     "output_type": "stream",
     "text": [
      "[2023-12-06 09:02:49,086][WARNING]: Skipped checksum for file with hash: 11bdd335-9868-770a-2b6d-c36c72183133, and path: /stelmo/nwb/analysis/Yoshi20220511/Yoshi20220511_5S9H3DL5B4.nwb\n",
      "WARNING:datajoint:Skipped checksum for file with hash: 11bdd335-9868-770a-2b6d-c36c72183133, and path: /stelmo/nwb/analysis/Yoshi20220511/Yoshi20220511_5S9H3DL5B4.nwb\n"
     ]
    },
    {
     "name": "stdout",
     "output_type": "stream",
     "text": [
      "Fast Gamma 65-100 Hz Yoshi20220511_.nwb pos 15 valid times 8bd55d4f-e3a4-09ce-f9c8-82bd547abe23\n"
     ]
    },
    {
     "name": "stderr",
     "output_type": "stream",
     "text": [
      "[2023-12-06 09:02:50,129][WARNING]: Skipped checksum for file with hash: 854040e6-9580-eb79-69f6-eaa1b1218320, and path: /stelmo/nwb/analysis/Yoshi20220511/Yoshi20220511_IFOB8JW5QJ.nwb\n",
      "WARNING:datajoint:Skipped checksum for file with hash: 854040e6-9580-eb79-69f6-eaa1b1218320, and path: /stelmo/nwb/analysis/Yoshi20220511/Yoshi20220511_IFOB8JW5QJ.nwb\n"
     ]
    },
    {
     "name": "stdout",
     "output_type": "stream",
     "text": [
      "Slow Gamma 25-55 Hz Yoshi20220511_.nwb pos 16 valid times 32b5f073-4dbd-087f-ba02-f0a9fdee33d9\n"
     ]
    },
    {
     "name": "stderr",
     "output_type": "stream",
     "text": [
      "[2023-12-06 09:02:51,743][WARNING]: Skipped checksum for file with hash: 854040e6-9580-eb79-69f6-eaa1b1218320, and path: /stelmo/nwb/analysis/Yoshi20220511/Yoshi20220511_IFOB8JW5QJ.nwb\n",
      "WARNING:datajoint:Skipped checksum for file with hash: 854040e6-9580-eb79-69f6-eaa1b1218320, and path: /stelmo/nwb/analysis/Yoshi20220511/Yoshi20220511_IFOB8JW5QJ.nwb\n"
     ]
    },
    {
     "name": "stdout",
     "output_type": "stream",
     "text": [
      "Fast Gamma 65-100 Hz Yoshi20220511_.nwb pos 16 valid times 32b5f073-4dbd-087f-ba02-f0a9fdee33d9\n"
     ]
    },
    {
     "name": "stderr",
     "output_type": "stream",
     "text": [
      "[2023-12-06 09:02:52,719][WARNING]: Skipped checksum for file with hash: 9a8999ea-d90b-cbd0-0e81-e26d38e84453, and path: /stelmo/nwb/analysis/Yoshi20220511/Yoshi20220511_P2AIVSR5R6.nwb\n",
      "WARNING:datajoint:Skipped checksum for file with hash: 9a8999ea-d90b-cbd0-0e81-e26d38e84453, and path: /stelmo/nwb/analysis/Yoshi20220511/Yoshi20220511_P2AIVSR5R6.nwb\n"
     ]
    },
    {
     "name": "stdout",
     "output_type": "stream",
     "text": [
      "Slow Gamma 25-55 Hz Yoshi20220511_.nwb pos 17 valid times a36e0b69-c64b-23ec-36ed-25f72f579fdd\n"
     ]
    },
    {
     "name": "stderr",
     "output_type": "stream",
     "text": [
      "[2023-12-06 09:02:54,151][WARNING]: Skipped checksum for file with hash: 9a8999ea-d90b-cbd0-0e81-e26d38e84453, and path: /stelmo/nwb/analysis/Yoshi20220511/Yoshi20220511_P2AIVSR5R6.nwb\n",
      "WARNING:datajoint:Skipped checksum for file with hash: 9a8999ea-d90b-cbd0-0e81-e26d38e84453, and path: /stelmo/nwb/analysis/Yoshi20220511/Yoshi20220511_P2AIVSR5R6.nwb\n"
     ]
    },
    {
     "name": "stdout",
     "output_type": "stream",
     "text": [
      "Fast Gamma 65-100 Hz Yoshi20220511_.nwb pos 17 valid times a36e0b69-c64b-23ec-36ed-25f72f579fdd\n"
     ]
    },
    {
     "name": "stderr",
     "output_type": "stream",
     "text": [
      "[2023-12-06 09:02:55,164][WARNING]: Skipped checksum for file with hash: 742baa56-7bd1-8d5f-ef22-fbf4ff201b5e, and path: /stelmo/nwb/analysis/Yoshi20220511/Yoshi20220511_3DWIO75MIZ.nwb\n",
      "WARNING:datajoint:Skipped checksum for file with hash: 742baa56-7bd1-8d5f-ef22-fbf4ff201b5e, and path: /stelmo/nwb/analysis/Yoshi20220511/Yoshi20220511_3DWIO75MIZ.nwb\n"
     ]
    },
    {
     "name": "stdout",
     "output_type": "stream",
     "text": [
      "Slow Gamma 25-55 Hz Yoshi20220511_.nwb pos 18 valid times c600ba9e-adcd-694f-9cb5-615694d698e3\n"
     ]
    },
    {
     "name": "stderr",
     "output_type": "stream",
     "text": [
      "[2023-12-06 09:02:56,738][WARNING]: Skipped checksum for file with hash: 742baa56-7bd1-8d5f-ef22-fbf4ff201b5e, and path: /stelmo/nwb/analysis/Yoshi20220511/Yoshi20220511_3DWIO75MIZ.nwb\n",
      "WARNING:datajoint:Skipped checksum for file with hash: 742baa56-7bd1-8d5f-ef22-fbf4ff201b5e, and path: /stelmo/nwb/analysis/Yoshi20220511/Yoshi20220511_3DWIO75MIZ.nwb\n"
     ]
    },
    {
     "name": "stdout",
     "output_type": "stream",
     "text": [
      "Fast Gamma 65-100 Hz Yoshi20220511_.nwb pos 18 valid times c600ba9e-adcd-694f-9cb5-615694d698e3\n"
     ]
    },
    {
     "name": "stderr",
     "output_type": "stream",
     "text": [
      "[2023-12-06 09:02:57,743][WARNING]: Skipped checksum for file with hash: 05477f9f-8562-a760-5eb6-ebcf1b40daac, and path: /stelmo/nwb/analysis/Yoshi20220511/Yoshi20220511_73U1J3YRZ8.nwb\n",
      "WARNING:datajoint:Skipped checksum for file with hash: 05477f9f-8562-a760-5eb6-ebcf1b40daac, and path: /stelmo/nwb/analysis/Yoshi20220511/Yoshi20220511_73U1J3YRZ8.nwb\n"
     ]
    },
    {
     "name": "stdout",
     "output_type": "stream",
     "text": [
      "Slow Gamma 25-55 Hz Yoshi20220511_.nwb pos 2 valid times dff621ca-4e47-1abe-1b4d-615180902bb8\n"
     ]
    },
    {
     "name": "stderr",
     "output_type": "stream",
     "text": [
      "[2023-12-06 09:02:59,325][WARNING]: Skipped checksum for file with hash: 05477f9f-8562-a760-5eb6-ebcf1b40daac, and path: /stelmo/nwb/analysis/Yoshi20220511/Yoshi20220511_73U1J3YRZ8.nwb\n",
      "WARNING:datajoint:Skipped checksum for file with hash: 05477f9f-8562-a760-5eb6-ebcf1b40daac, and path: /stelmo/nwb/analysis/Yoshi20220511/Yoshi20220511_73U1J3YRZ8.nwb\n"
     ]
    },
    {
     "name": "stdout",
     "output_type": "stream",
     "text": [
      "Fast Gamma 65-100 Hz Yoshi20220511_.nwb pos 2 valid times dff621ca-4e47-1abe-1b4d-615180902bb8\n"
     ]
    },
    {
     "name": "stderr",
     "output_type": "stream",
     "text": [
      "[2023-12-06 09:03:00,301][WARNING]: Skipped checksum for file with hash: 20457dc6-46f7-589e-0b79-10c92271d68a, and path: /stelmo/nwb/analysis/Yoshi20220511/Yoshi20220511_Y3VT22B4IF.nwb\n",
      "WARNING:datajoint:Skipped checksum for file with hash: 20457dc6-46f7-589e-0b79-10c92271d68a, and path: /stelmo/nwb/analysis/Yoshi20220511/Yoshi20220511_Y3VT22B4IF.nwb\n"
     ]
    },
    {
     "name": "stdout",
     "output_type": "stream",
     "text": [
      "Slow Gamma 25-55 Hz Yoshi20220511_.nwb pos 3 valid times 2bb5c6e8-9f31-dd98-012a-dfc6e8b5ba50\n"
     ]
    },
    {
     "name": "stderr",
     "output_type": "stream",
     "text": [
      "[2023-12-06 09:03:01,921][WARNING]: Skipped checksum for file with hash: 20457dc6-46f7-589e-0b79-10c92271d68a, and path: /stelmo/nwb/analysis/Yoshi20220511/Yoshi20220511_Y3VT22B4IF.nwb\n",
      "WARNING:datajoint:Skipped checksum for file with hash: 20457dc6-46f7-589e-0b79-10c92271d68a, and path: /stelmo/nwb/analysis/Yoshi20220511/Yoshi20220511_Y3VT22B4IF.nwb\n"
     ]
    },
    {
     "name": "stdout",
     "output_type": "stream",
     "text": [
      "Fast Gamma 65-100 Hz Yoshi20220511_.nwb pos 3 valid times 2bb5c6e8-9f31-dd98-012a-dfc6e8b5ba50\n"
     ]
    },
    {
     "name": "stderr",
     "output_type": "stream",
     "text": [
      "[2023-12-06 09:03:02,960][WARNING]: Skipped checksum for file with hash: 5e34d7d0-52b9-b543-b6eb-382acc183d31, and path: /stelmo/nwb/analysis/Yoshi20220511/Yoshi20220511_UZJHUFHOZR.nwb\n",
      "WARNING:datajoint:Skipped checksum for file with hash: 5e34d7d0-52b9-b543-b6eb-382acc183d31, and path: /stelmo/nwb/analysis/Yoshi20220511/Yoshi20220511_UZJHUFHOZR.nwb\n"
     ]
    },
    {
     "name": "stdout",
     "output_type": "stream",
     "text": [
      "Slow Gamma 25-55 Hz Yoshi20220511_.nwb pos 4 valid times e4809bca-0622-84b7-f45d-947ce38304cf\n"
     ]
    },
    {
     "name": "stderr",
     "output_type": "stream",
     "text": [
      "[2023-12-06 09:03:04,493][WARNING]: Skipped checksum for file with hash: 5e34d7d0-52b9-b543-b6eb-382acc183d31, and path: /stelmo/nwb/analysis/Yoshi20220511/Yoshi20220511_UZJHUFHOZR.nwb\n",
      "WARNING:datajoint:Skipped checksum for file with hash: 5e34d7d0-52b9-b543-b6eb-382acc183d31, and path: /stelmo/nwb/analysis/Yoshi20220511/Yoshi20220511_UZJHUFHOZR.nwb\n"
     ]
    },
    {
     "name": "stdout",
     "output_type": "stream",
     "text": [
      "Fast Gamma 65-100 Hz Yoshi20220511_.nwb pos 4 valid times e4809bca-0622-84b7-f45d-947ce38304cf\n"
     ]
    },
    {
     "name": "stderr",
     "output_type": "stream",
     "text": [
      "[2023-12-06 09:03:05,514][WARNING]: Skipped checksum for file with hash: 2116d24f-376e-bf36-8684-f5bf531ce71f, and path: /stelmo/nwb/analysis/Yoshi20220511/Yoshi20220511_GVD5AXRLFG.nwb\n",
      "WARNING:datajoint:Skipped checksum for file with hash: 2116d24f-376e-bf36-8684-f5bf531ce71f, and path: /stelmo/nwb/analysis/Yoshi20220511/Yoshi20220511_GVD5AXRLFG.nwb\n"
     ]
    },
    {
     "name": "stdout",
     "output_type": "stream",
     "text": [
      "Slow Gamma 25-55 Hz Yoshi20220511_.nwb pos 5 valid times aef89466-61bf-f0e7-5532-4549722b8637\n"
     ]
    },
    {
     "name": "stderr",
     "output_type": "stream",
     "text": [
      "[2023-12-06 09:03:07,082][WARNING]: Skipped checksum for file with hash: 2116d24f-376e-bf36-8684-f5bf531ce71f, and path: /stelmo/nwb/analysis/Yoshi20220511/Yoshi20220511_GVD5AXRLFG.nwb\n",
      "WARNING:datajoint:Skipped checksum for file with hash: 2116d24f-376e-bf36-8684-f5bf531ce71f, and path: /stelmo/nwb/analysis/Yoshi20220511/Yoshi20220511_GVD5AXRLFG.nwb\n"
     ]
    },
    {
     "name": "stdout",
     "output_type": "stream",
     "text": [
      "Fast Gamma 65-100 Hz Yoshi20220511_.nwb pos 5 valid times aef89466-61bf-f0e7-5532-4549722b8637\n"
     ]
    },
    {
     "name": "stderr",
     "output_type": "stream",
     "text": [
      "[2023-12-06 09:03:08,115][WARNING]: Skipped checksum for file with hash: d6be6d7e-7dfc-00a0-af73-29acf3c226d4, and path: /stelmo/nwb/analysis/Yoshi20220511/Yoshi20220511_B3JV7UMNWL.nwb\n",
      "WARNING:datajoint:Skipped checksum for file with hash: d6be6d7e-7dfc-00a0-af73-29acf3c226d4, and path: /stelmo/nwb/analysis/Yoshi20220511/Yoshi20220511_B3JV7UMNWL.nwb\n"
     ]
    },
    {
     "name": "stdout",
     "output_type": "stream",
     "text": [
      "Slow Gamma 25-55 Hz Yoshi20220511_.nwb pos 6 valid times c6f0c9a5-52ab-a160-e7bf-fcc7c723d4db\n"
     ]
    },
    {
     "name": "stderr",
     "output_type": "stream",
     "text": [
      "[2023-12-06 09:03:09,627][WARNING]: Skipped checksum for file with hash: d6be6d7e-7dfc-00a0-af73-29acf3c226d4, and path: /stelmo/nwb/analysis/Yoshi20220511/Yoshi20220511_B3JV7UMNWL.nwb\n",
      "WARNING:datajoint:Skipped checksum for file with hash: d6be6d7e-7dfc-00a0-af73-29acf3c226d4, and path: /stelmo/nwb/analysis/Yoshi20220511/Yoshi20220511_B3JV7UMNWL.nwb\n"
     ]
    },
    {
     "name": "stdout",
     "output_type": "stream",
     "text": [
      "Fast Gamma 65-100 Hz Yoshi20220511_.nwb pos 6 valid times c6f0c9a5-52ab-a160-e7bf-fcc7c723d4db\n"
     ]
    },
    {
     "name": "stderr",
     "output_type": "stream",
     "text": [
      "[2023-12-06 09:03:10,629][WARNING]: Skipped checksum for file with hash: 1efc519d-3e95-ff70-5cb4-ee97280ff168, and path: /stelmo/nwb/analysis/Yoshi20220511/Yoshi20220511_5JAVDO89OW.nwb\n",
      "WARNING:datajoint:Skipped checksum for file with hash: 1efc519d-3e95-ff70-5cb4-ee97280ff168, and path: /stelmo/nwb/analysis/Yoshi20220511/Yoshi20220511_5JAVDO89OW.nwb\n"
     ]
    },
    {
     "name": "stdout",
     "output_type": "stream",
     "text": [
      "Slow Gamma 25-55 Hz Yoshi20220511_.nwb pos 7 valid times ce382539-6e11-4747-0eb0-42df83db831e\n"
     ]
    },
    {
     "name": "stderr",
     "output_type": "stream",
     "text": [
      "[2023-12-06 09:03:12,252][WARNING]: Skipped checksum for file with hash: 1efc519d-3e95-ff70-5cb4-ee97280ff168, and path: /stelmo/nwb/analysis/Yoshi20220511/Yoshi20220511_5JAVDO89OW.nwb\n",
      "WARNING:datajoint:Skipped checksum for file with hash: 1efc519d-3e95-ff70-5cb4-ee97280ff168, and path: /stelmo/nwb/analysis/Yoshi20220511/Yoshi20220511_5JAVDO89OW.nwb\n"
     ]
    },
    {
     "name": "stdout",
     "output_type": "stream",
     "text": [
      "Fast Gamma 65-100 Hz Yoshi20220511_.nwb pos 7 valid times ce382539-6e11-4747-0eb0-42df83db831e\n"
     ]
    },
    {
     "name": "stderr",
     "output_type": "stream",
     "text": [
      "[2023-12-06 09:03:13,234][WARNING]: Skipped checksum for file with hash: 407d4b89-38e6-8419-8d2a-d5e4321d2bc5, and path: /stelmo/nwb/analysis/Yoshi20220511/Yoshi20220511_9238F8KTLL.nwb\n",
      "WARNING:datajoint:Skipped checksum for file with hash: 407d4b89-38e6-8419-8d2a-d5e4321d2bc5, and path: /stelmo/nwb/analysis/Yoshi20220511/Yoshi20220511_9238F8KTLL.nwb\n"
     ]
    },
    {
     "name": "stdout",
     "output_type": "stream",
     "text": [
      "Slow Gamma 25-55 Hz Yoshi20220511_.nwb pos 8 valid times 3fdeb6fe-5bcd-365e-db1a-a20d24787ff3\n"
     ]
    },
    {
     "name": "stderr",
     "output_type": "stream",
     "text": [
      "[2023-12-06 09:03:14,835][WARNING]: Skipped checksum for file with hash: 407d4b89-38e6-8419-8d2a-d5e4321d2bc5, and path: /stelmo/nwb/analysis/Yoshi20220511/Yoshi20220511_9238F8KTLL.nwb\n",
      "WARNING:datajoint:Skipped checksum for file with hash: 407d4b89-38e6-8419-8d2a-d5e4321d2bc5, and path: /stelmo/nwb/analysis/Yoshi20220511/Yoshi20220511_9238F8KTLL.nwb\n"
     ]
    },
    {
     "name": "stdout",
     "output_type": "stream",
     "text": [
      "Fast Gamma 65-100 Hz Yoshi20220511_.nwb pos 8 valid times 3fdeb6fe-5bcd-365e-db1a-a20d24787ff3\n"
     ]
    },
    {
     "name": "stderr",
     "output_type": "stream",
     "text": [
      "[2023-12-06 09:03:15,857][WARNING]: Skipped checksum for file with hash: eb9cea12-1442-bda9-7c73-1c281ebe4635, and path: /stelmo/nwb/analysis/Yoshi20220511/Yoshi20220511_G8J9DWJE1I.nwb\n",
      "WARNING:datajoint:Skipped checksum for file with hash: eb9cea12-1442-bda9-7c73-1c281ebe4635, and path: /stelmo/nwb/analysis/Yoshi20220511/Yoshi20220511_G8J9DWJE1I.nwb\n"
     ]
    },
    {
     "name": "stdout",
     "output_type": "stream",
     "text": [
      "Slow Gamma 25-55 Hz Yoshi20220511_.nwb pos 9 valid times d3c11ff1-e3a7-1404-5228-3852c0016e60\n"
     ]
    },
    {
     "name": "stderr",
     "output_type": "stream",
     "text": [
      "[2023-12-06 09:03:17,374][WARNING]: Skipped checksum for file with hash: eb9cea12-1442-bda9-7c73-1c281ebe4635, and path: /stelmo/nwb/analysis/Yoshi20220511/Yoshi20220511_G8J9DWJE1I.nwb\n",
      "WARNING:datajoint:Skipped checksum for file with hash: eb9cea12-1442-bda9-7c73-1c281ebe4635, and path: /stelmo/nwb/analysis/Yoshi20220511/Yoshi20220511_G8J9DWJE1I.nwb\n"
     ]
    },
    {
     "name": "stdout",
     "output_type": "stream",
     "text": [
      "Fast Gamma 65-100 Hz Yoshi20220511_.nwb pos 9 valid times d3c11ff1-e3a7-1404-5228-3852c0016e60\n"
     ]
    },
    {
     "name": "stderr",
     "output_type": "stream",
     "text": [
      "[2023-12-06 09:03:18,411][WARNING]: Skipped checksum for file with hash: 7bacfd13-f11b-a3de-3373-b820c4db96e1, and path: /stelmo/nwb/analysis/Yoshi20220513/Yoshi20220513_CYGWP83XMI.nwb\n",
      "WARNING:datajoint:Skipped checksum for file with hash: 7bacfd13-f11b-a3de-3373-b820c4db96e1, and path: /stelmo/nwb/analysis/Yoshi20220513/Yoshi20220513_CYGWP83XMI.nwb\n"
     ]
    },
    {
     "name": "stdout",
     "output_type": "stream",
     "text": [
      "Slow Gamma 25-55 Hz Yoshi20220513_.nwb pos 0 valid times 1ae8ed29-c870-caba-fce5-7ea82503544d\n"
     ]
    },
    {
     "name": "stderr",
     "output_type": "stream",
     "text": [
      "[2023-12-06 09:03:20,003][WARNING]: Skipped checksum for file with hash: 7bacfd13-f11b-a3de-3373-b820c4db96e1, and path: /stelmo/nwb/analysis/Yoshi20220513/Yoshi20220513_CYGWP83XMI.nwb\n",
      "WARNING:datajoint:Skipped checksum for file with hash: 7bacfd13-f11b-a3de-3373-b820c4db96e1, and path: /stelmo/nwb/analysis/Yoshi20220513/Yoshi20220513_CYGWP83XMI.nwb\n"
     ]
    },
    {
     "name": "stdout",
     "output_type": "stream",
     "text": [
      "Fast Gamma 65-100 Hz Yoshi20220513_.nwb pos 0 valid times 1ae8ed29-c870-caba-fce5-7ea82503544d\n"
     ]
    },
    {
     "name": "stderr",
     "output_type": "stream",
     "text": [
      "[2023-12-06 09:03:21,014][WARNING]: Skipped checksum for file with hash: f54427ec-b832-8f40-819b-055a05566a92, and path: /stelmo/nwb/analysis/Yoshi20220513/Yoshi20220513_FYQHRN6OBZ.nwb\n",
      "WARNING:datajoint:Skipped checksum for file with hash: f54427ec-b832-8f40-819b-055a05566a92, and path: /stelmo/nwb/analysis/Yoshi20220513/Yoshi20220513_FYQHRN6OBZ.nwb\n"
     ]
    },
    {
     "name": "stdout",
     "output_type": "stream",
     "text": [
      "Slow Gamma 25-55 Hz Yoshi20220513_.nwb pos 1 valid times 50954535-f4e0-faca-96d2-e3c7f84185ca\n"
     ]
    },
    {
     "name": "stderr",
     "output_type": "stream",
     "text": [
      "[2023-12-06 09:03:22,608][WARNING]: Skipped checksum for file with hash: f54427ec-b832-8f40-819b-055a05566a92, and path: /stelmo/nwb/analysis/Yoshi20220513/Yoshi20220513_FYQHRN6OBZ.nwb\n",
      "WARNING:datajoint:Skipped checksum for file with hash: f54427ec-b832-8f40-819b-055a05566a92, and path: /stelmo/nwb/analysis/Yoshi20220513/Yoshi20220513_FYQHRN6OBZ.nwb\n"
     ]
    },
    {
     "name": "stdout",
     "output_type": "stream",
     "text": [
      "Fast Gamma 65-100 Hz Yoshi20220513_.nwb pos 1 valid times 50954535-f4e0-faca-96d2-e3c7f84185ca\n"
     ]
    },
    {
     "name": "stderr",
     "output_type": "stream",
     "text": [
      "[2023-12-06 09:03:23,611][WARNING]: Skipped checksum for file with hash: f40e9cbf-8ae6-6bca-7cdb-3800cab3cf2e, and path: /stelmo/nwb/analysis/Yoshi20220513/Yoshi20220513_AMSYQZNCLL.nwb\n",
      "WARNING:datajoint:Skipped checksum for file with hash: f40e9cbf-8ae6-6bca-7cdb-3800cab3cf2e, and path: /stelmo/nwb/analysis/Yoshi20220513/Yoshi20220513_AMSYQZNCLL.nwb\n"
     ]
    },
    {
     "name": "stdout",
     "output_type": "stream",
     "text": [
      "Slow Gamma 25-55 Hz Yoshi20220513_.nwb pos 10 valid times 0297dbf8-e03e-a419-28e7-595e0bd0d73d\n"
     ]
    },
    {
     "name": "stderr",
     "output_type": "stream",
     "text": [
      "[2023-12-06 09:03:25,191][WARNING]: Skipped checksum for file with hash: f40e9cbf-8ae6-6bca-7cdb-3800cab3cf2e, and path: /stelmo/nwb/analysis/Yoshi20220513/Yoshi20220513_AMSYQZNCLL.nwb\n",
      "WARNING:datajoint:Skipped checksum for file with hash: f40e9cbf-8ae6-6bca-7cdb-3800cab3cf2e, and path: /stelmo/nwb/analysis/Yoshi20220513/Yoshi20220513_AMSYQZNCLL.nwb\n"
     ]
    },
    {
     "name": "stdout",
     "output_type": "stream",
     "text": [
      "Fast Gamma 65-100 Hz Yoshi20220513_.nwb pos 10 valid times 0297dbf8-e03e-a419-28e7-595e0bd0d73d\n"
     ]
    },
    {
     "name": "stderr",
     "output_type": "stream",
     "text": [
      "[2023-12-06 09:03:26,259][WARNING]: Skipped checksum for file with hash: 1f20dda6-868c-3af2-daab-51078e9af53e, and path: /stelmo/nwb/analysis/Yoshi20220513/Yoshi20220513_E2CGH7N90C.nwb\n",
      "WARNING:datajoint:Skipped checksum for file with hash: 1f20dda6-868c-3af2-daab-51078e9af53e, and path: /stelmo/nwb/analysis/Yoshi20220513/Yoshi20220513_E2CGH7N90C.nwb\n"
     ]
    },
    {
     "name": "stdout",
     "output_type": "stream",
     "text": [
      "Slow Gamma 25-55 Hz Yoshi20220513_.nwb pos 11 valid times fc52355c-4ce7-d3d2-7200-7f5447336546\n"
     ]
    },
    {
     "name": "stderr",
     "output_type": "stream",
     "text": [
      "[2023-12-06 09:03:27,868][WARNING]: Skipped checksum for file with hash: 1f20dda6-868c-3af2-daab-51078e9af53e, and path: /stelmo/nwb/analysis/Yoshi20220513/Yoshi20220513_E2CGH7N90C.nwb\n",
      "WARNING:datajoint:Skipped checksum for file with hash: 1f20dda6-868c-3af2-daab-51078e9af53e, and path: /stelmo/nwb/analysis/Yoshi20220513/Yoshi20220513_E2CGH7N90C.nwb\n"
     ]
    },
    {
     "name": "stdout",
     "output_type": "stream",
     "text": [
      "Fast Gamma 65-100 Hz Yoshi20220513_.nwb pos 11 valid times fc52355c-4ce7-d3d2-7200-7f5447336546\n"
     ]
    },
    {
     "name": "stderr",
     "output_type": "stream",
     "text": [
      "[2023-12-06 09:03:28,863][WARNING]: Skipped checksum for file with hash: 395ceec4-b32c-9c96-9ef7-9e096f457d3e, and path: /stelmo/nwb/analysis/Yoshi20220513/Yoshi20220513_KT4WY8NVKW.nwb\n",
      "WARNING:datajoint:Skipped checksum for file with hash: 395ceec4-b32c-9c96-9ef7-9e096f457d3e, and path: /stelmo/nwb/analysis/Yoshi20220513/Yoshi20220513_KT4WY8NVKW.nwb\n"
     ]
    },
    {
     "name": "stdout",
     "output_type": "stream",
     "text": [
      "Slow Gamma 25-55 Hz Yoshi20220513_.nwb pos 12 valid times 7454da72-82ed-28c4-146e-7f6d5a529ce0\n"
     ]
    },
    {
     "name": "stderr",
     "output_type": "stream",
     "text": [
      "[2023-12-06 09:03:30,379][WARNING]: Skipped checksum for file with hash: 395ceec4-b32c-9c96-9ef7-9e096f457d3e, and path: /stelmo/nwb/analysis/Yoshi20220513/Yoshi20220513_KT4WY8NVKW.nwb\n",
      "WARNING:datajoint:Skipped checksum for file with hash: 395ceec4-b32c-9c96-9ef7-9e096f457d3e, and path: /stelmo/nwb/analysis/Yoshi20220513/Yoshi20220513_KT4WY8NVKW.nwb\n"
     ]
    },
    {
     "name": "stdout",
     "output_type": "stream",
     "text": [
      "Fast Gamma 65-100 Hz Yoshi20220513_.nwb pos 12 valid times 7454da72-82ed-28c4-146e-7f6d5a529ce0\n"
     ]
    },
    {
     "name": "stderr",
     "output_type": "stream",
     "text": [
      "[2023-12-06 09:03:31,281][WARNING]: Skipped checksum for file with hash: 40b0fc25-b0ea-09f9-e387-ab52a45a761f, and path: /stelmo/nwb/analysis/Yoshi20220513/Yoshi20220513_74IDCCYP6O.nwb\n",
      "WARNING:datajoint:Skipped checksum for file with hash: 40b0fc25-b0ea-09f9-e387-ab52a45a761f, and path: /stelmo/nwb/analysis/Yoshi20220513/Yoshi20220513_74IDCCYP6O.nwb\n"
     ]
    },
    {
     "name": "stdout",
     "output_type": "stream",
     "text": [
      "Slow Gamma 25-55 Hz Yoshi20220513_.nwb pos 13 valid times 776f8860-a13d-1545-147a-b841229d7e70\n"
     ]
    },
    {
     "name": "stderr",
     "output_type": "stream",
     "text": [
      "[2023-12-06 09:03:32,847][WARNING]: Skipped checksum for file with hash: 40b0fc25-b0ea-09f9-e387-ab52a45a761f, and path: /stelmo/nwb/analysis/Yoshi20220513/Yoshi20220513_74IDCCYP6O.nwb\n",
      "WARNING:datajoint:Skipped checksum for file with hash: 40b0fc25-b0ea-09f9-e387-ab52a45a761f, and path: /stelmo/nwb/analysis/Yoshi20220513/Yoshi20220513_74IDCCYP6O.nwb\n"
     ]
    },
    {
     "name": "stdout",
     "output_type": "stream",
     "text": [
      "Fast Gamma 65-100 Hz Yoshi20220513_.nwb pos 13 valid times 776f8860-a13d-1545-147a-b841229d7e70\n"
     ]
    },
    {
     "name": "stderr",
     "output_type": "stream",
     "text": [
      "[2023-12-06 09:03:33,856][WARNING]: Skipped checksum for file with hash: 79a5f977-00d5-34d9-69e7-d6cb801657a1, and path: /stelmo/nwb/analysis/Yoshi20220513/Yoshi20220513_KQR4XOQOEL.nwb\n",
      "WARNING:datajoint:Skipped checksum for file with hash: 79a5f977-00d5-34d9-69e7-d6cb801657a1, and path: /stelmo/nwb/analysis/Yoshi20220513/Yoshi20220513_KQR4XOQOEL.nwb\n"
     ]
    },
    {
     "name": "stdout",
     "output_type": "stream",
     "text": [
      "Slow Gamma 25-55 Hz Yoshi20220513_.nwb pos 14 valid times 561adf6c-a736-c355-8f36-022bdcda3f4f\n"
     ]
    },
    {
     "name": "stderr",
     "output_type": "stream",
     "text": [
      "[2023-12-06 09:03:35,408][WARNING]: Skipped checksum for file with hash: 79a5f977-00d5-34d9-69e7-d6cb801657a1, and path: /stelmo/nwb/analysis/Yoshi20220513/Yoshi20220513_KQR4XOQOEL.nwb\n",
      "WARNING:datajoint:Skipped checksum for file with hash: 79a5f977-00d5-34d9-69e7-d6cb801657a1, and path: /stelmo/nwb/analysis/Yoshi20220513/Yoshi20220513_KQR4XOQOEL.nwb\n"
     ]
    },
    {
     "name": "stdout",
     "output_type": "stream",
     "text": [
      "Fast Gamma 65-100 Hz Yoshi20220513_.nwb pos 14 valid times 561adf6c-a736-c355-8f36-022bdcda3f4f\n"
     ]
    },
    {
     "name": "stderr",
     "output_type": "stream",
     "text": [
      "[2023-12-06 09:03:36,424][WARNING]: Skipped checksum for file with hash: 62769447-ea68-62b5-b73f-bc9133edfa96, and path: /stelmo/nwb/analysis/Yoshi20220513/Yoshi20220513_PKQRKML8IR.nwb\n",
      "WARNING:datajoint:Skipped checksum for file with hash: 62769447-ea68-62b5-b73f-bc9133edfa96, and path: /stelmo/nwb/analysis/Yoshi20220513/Yoshi20220513_PKQRKML8IR.nwb\n"
     ]
    },
    {
     "name": "stdout",
     "output_type": "stream",
     "text": [
      "Slow Gamma 25-55 Hz Yoshi20220513_.nwb pos 15 valid times 8da671a0-7279-6d58-c313-6f90677ad10b\n"
     ]
    },
    {
     "name": "stderr",
     "output_type": "stream",
     "text": [
      "[2023-12-06 09:03:38,010][WARNING]: Skipped checksum for file with hash: 62769447-ea68-62b5-b73f-bc9133edfa96, and path: /stelmo/nwb/analysis/Yoshi20220513/Yoshi20220513_PKQRKML8IR.nwb\n",
      "WARNING:datajoint:Skipped checksum for file with hash: 62769447-ea68-62b5-b73f-bc9133edfa96, and path: /stelmo/nwb/analysis/Yoshi20220513/Yoshi20220513_PKQRKML8IR.nwb\n"
     ]
    },
    {
     "name": "stdout",
     "output_type": "stream",
     "text": [
      "Fast Gamma 65-100 Hz Yoshi20220513_.nwb pos 15 valid times 8da671a0-7279-6d58-c313-6f90677ad10b\n"
     ]
    },
    {
     "name": "stderr",
     "output_type": "stream",
     "text": [
      "[2023-12-06 09:03:38,955][WARNING]: Skipped checksum for file with hash: 5233d73f-8a41-2582-86f0-6c6d526a0099, and path: /stelmo/nwb/analysis/Yoshi20220513/Yoshi20220513_YX497DZ1VD.nwb\n",
      "WARNING:datajoint:Skipped checksum for file with hash: 5233d73f-8a41-2582-86f0-6c6d526a0099, and path: /stelmo/nwb/analysis/Yoshi20220513/Yoshi20220513_YX497DZ1VD.nwb\n"
     ]
    },
    {
     "name": "stdout",
     "output_type": "stream",
     "text": [
      "Slow Gamma 25-55 Hz Yoshi20220513_.nwb pos 16 valid times 2373d4a4-f5d1-b5bd-a963-f91534c7f3d9\n"
     ]
    },
    {
     "name": "stderr",
     "output_type": "stream",
     "text": [
      "[2023-12-06 09:03:40,569][WARNING]: Skipped checksum for file with hash: 5233d73f-8a41-2582-86f0-6c6d526a0099, and path: /stelmo/nwb/analysis/Yoshi20220513/Yoshi20220513_YX497DZ1VD.nwb\n",
      "WARNING:datajoint:Skipped checksum for file with hash: 5233d73f-8a41-2582-86f0-6c6d526a0099, and path: /stelmo/nwb/analysis/Yoshi20220513/Yoshi20220513_YX497DZ1VD.nwb\n"
     ]
    },
    {
     "name": "stdout",
     "output_type": "stream",
     "text": [
      "Fast Gamma 65-100 Hz Yoshi20220513_.nwb pos 16 valid times 2373d4a4-f5d1-b5bd-a963-f91534c7f3d9\n"
     ]
    },
    {
     "name": "stderr",
     "output_type": "stream",
     "text": [
      "[2023-12-06 09:03:41,617][WARNING]: Skipped checksum for file with hash: b62092be-896c-f21e-d8b3-7f4337749298, and path: /stelmo/nwb/analysis/Yoshi20220513/Yoshi20220513_WHNX3WRL2R.nwb\n",
      "WARNING:datajoint:Skipped checksum for file with hash: b62092be-896c-f21e-d8b3-7f4337749298, and path: /stelmo/nwb/analysis/Yoshi20220513/Yoshi20220513_WHNX3WRL2R.nwb\n"
     ]
    },
    {
     "name": "stdout",
     "output_type": "stream",
     "text": [
      "Slow Gamma 25-55 Hz Yoshi20220513_.nwb pos 17 valid times 9c4d83ef-69b4-1a2a-b646-ea2f211732c6\n"
     ]
    },
    {
     "name": "stderr",
     "output_type": "stream",
     "text": [
      "[2023-12-06 09:03:43,237][WARNING]: Skipped checksum for file with hash: b62092be-896c-f21e-d8b3-7f4337749298, and path: /stelmo/nwb/analysis/Yoshi20220513/Yoshi20220513_WHNX3WRL2R.nwb\n",
      "WARNING:datajoint:Skipped checksum for file with hash: b62092be-896c-f21e-d8b3-7f4337749298, and path: /stelmo/nwb/analysis/Yoshi20220513/Yoshi20220513_WHNX3WRL2R.nwb\n"
     ]
    },
    {
     "name": "stdout",
     "output_type": "stream",
     "text": [
      "Fast Gamma 65-100 Hz Yoshi20220513_.nwb pos 17 valid times 9c4d83ef-69b4-1a2a-b646-ea2f211732c6\n"
     ]
    },
    {
     "name": "stderr",
     "output_type": "stream",
     "text": [
      "[2023-12-06 09:03:44,202][WARNING]: Skipped checksum for file with hash: 4aba84e4-6aa9-9341-9d4f-7e3090b81c9c, and path: /stelmo/nwb/analysis/Yoshi20220513/Yoshi20220513_BLVZI4TCQE.nwb\n",
      "WARNING:datajoint:Skipped checksum for file with hash: 4aba84e4-6aa9-9341-9d4f-7e3090b81c9c, and path: /stelmo/nwb/analysis/Yoshi20220513/Yoshi20220513_BLVZI4TCQE.nwb\n"
     ]
    },
    {
     "name": "stdout",
     "output_type": "stream",
     "text": [
      "Slow Gamma 25-55 Hz Yoshi20220513_.nwb pos 18 valid times a7576180-ba4a-7c2f-5d0c-2783f94cb0f5\n"
     ]
    },
    {
     "name": "stderr",
     "output_type": "stream",
     "text": [
      "[2023-12-06 09:03:45,644][WARNING]: Skipped checksum for file with hash: 4aba84e4-6aa9-9341-9d4f-7e3090b81c9c, and path: /stelmo/nwb/analysis/Yoshi20220513/Yoshi20220513_BLVZI4TCQE.nwb\n",
      "WARNING:datajoint:Skipped checksum for file with hash: 4aba84e4-6aa9-9341-9d4f-7e3090b81c9c, and path: /stelmo/nwb/analysis/Yoshi20220513/Yoshi20220513_BLVZI4TCQE.nwb\n"
     ]
    },
    {
     "name": "stdout",
     "output_type": "stream",
     "text": [
      "Fast Gamma 65-100 Hz Yoshi20220513_.nwb pos 18 valid times a7576180-ba4a-7c2f-5d0c-2783f94cb0f5\n"
     ]
    },
    {
     "name": "stderr",
     "output_type": "stream",
     "text": [
      "[2023-12-06 09:03:46,590][WARNING]: Skipped checksum for file with hash: c309b6ab-2ba5-2e03-9ba9-ef72a03b53fc, and path: /stelmo/nwb/analysis/Yoshi20220513/Yoshi20220513_E3WMVY9O17.nwb\n",
      "WARNING:datajoint:Skipped checksum for file with hash: c309b6ab-2ba5-2e03-9ba9-ef72a03b53fc, and path: /stelmo/nwb/analysis/Yoshi20220513/Yoshi20220513_E3WMVY9O17.nwb\n"
     ]
    },
    {
     "name": "stdout",
     "output_type": "stream",
     "text": [
      "Slow Gamma 25-55 Hz Yoshi20220513_.nwb pos 2 valid times b10c85ec-75ae-5541-c859-9e6217362d07\n"
     ]
    },
    {
     "name": "stderr",
     "output_type": "stream",
     "text": [
      "[2023-12-06 09:03:48,137][WARNING]: Skipped checksum for file with hash: c309b6ab-2ba5-2e03-9ba9-ef72a03b53fc, and path: /stelmo/nwb/analysis/Yoshi20220513/Yoshi20220513_E3WMVY9O17.nwb\n",
      "WARNING:datajoint:Skipped checksum for file with hash: c309b6ab-2ba5-2e03-9ba9-ef72a03b53fc, and path: /stelmo/nwb/analysis/Yoshi20220513/Yoshi20220513_E3WMVY9O17.nwb\n"
     ]
    },
    {
     "name": "stdout",
     "output_type": "stream",
     "text": [
      "Fast Gamma 65-100 Hz Yoshi20220513_.nwb pos 2 valid times b10c85ec-75ae-5541-c859-9e6217362d07\n"
     ]
    },
    {
     "name": "stderr",
     "output_type": "stream",
     "text": [
      "[2023-12-06 09:03:49,165][WARNING]: Skipped checksum for file with hash: 8d69fc9f-9c76-c771-169b-38a9dd757b08, and path: /stelmo/nwb/analysis/Yoshi20220513/Yoshi20220513_BYRES9ZDMP.nwb\n",
      "WARNING:datajoint:Skipped checksum for file with hash: 8d69fc9f-9c76-c771-169b-38a9dd757b08, and path: /stelmo/nwb/analysis/Yoshi20220513/Yoshi20220513_BYRES9ZDMP.nwb\n"
     ]
    },
    {
     "name": "stdout",
     "output_type": "stream",
     "text": [
      "Slow Gamma 25-55 Hz Yoshi20220513_.nwb pos 3 valid times 1159034d-cb92-0f5c-ed8e-efe61b047364\n"
     ]
    },
    {
     "name": "stderr",
     "output_type": "stream",
     "text": [
      "[2023-12-06 09:03:50,687][WARNING]: Skipped checksum for file with hash: 8d69fc9f-9c76-c771-169b-38a9dd757b08, and path: /stelmo/nwb/analysis/Yoshi20220513/Yoshi20220513_BYRES9ZDMP.nwb\n",
      "WARNING:datajoint:Skipped checksum for file with hash: 8d69fc9f-9c76-c771-169b-38a9dd757b08, and path: /stelmo/nwb/analysis/Yoshi20220513/Yoshi20220513_BYRES9ZDMP.nwb\n"
     ]
    },
    {
     "name": "stdout",
     "output_type": "stream",
     "text": [
      "Fast Gamma 65-100 Hz Yoshi20220513_.nwb pos 3 valid times 1159034d-cb92-0f5c-ed8e-efe61b047364\n"
     ]
    },
    {
     "name": "stderr",
     "output_type": "stream",
     "text": [
      "[2023-12-06 09:03:51,693][WARNING]: Skipped checksum for file with hash: e9b3844a-3a77-755f-0c44-17428e63f917, and path: /stelmo/nwb/analysis/Yoshi20220513/Yoshi20220513_02LDP06F0S.nwb\n",
      "WARNING:datajoint:Skipped checksum for file with hash: e9b3844a-3a77-755f-0c44-17428e63f917, and path: /stelmo/nwb/analysis/Yoshi20220513/Yoshi20220513_02LDP06F0S.nwb\n"
     ]
    },
    {
     "name": "stdout",
     "output_type": "stream",
     "text": [
      "Slow Gamma 25-55 Hz Yoshi20220513_.nwb pos 4 valid times 31f8fec3-80b9-bd05-f7cf-072f16c5fce7\n"
     ]
    },
    {
     "name": "stderr",
     "output_type": "stream",
     "text": [
      "[2023-12-06 09:03:53,287][WARNING]: Skipped checksum for file with hash: e9b3844a-3a77-755f-0c44-17428e63f917, and path: /stelmo/nwb/analysis/Yoshi20220513/Yoshi20220513_02LDP06F0S.nwb\n",
      "WARNING:datajoint:Skipped checksum for file with hash: e9b3844a-3a77-755f-0c44-17428e63f917, and path: /stelmo/nwb/analysis/Yoshi20220513/Yoshi20220513_02LDP06F0S.nwb\n"
     ]
    },
    {
     "name": "stdout",
     "output_type": "stream",
     "text": [
      "Fast Gamma 65-100 Hz Yoshi20220513_.nwb pos 4 valid times 31f8fec3-80b9-bd05-f7cf-072f16c5fce7\n"
     ]
    },
    {
     "name": "stderr",
     "output_type": "stream",
     "text": [
      "[2023-12-06 09:03:54,331][WARNING]: Skipped checksum for file with hash: 6ab940b6-4a6b-7136-bc73-6be639a83d3e, and path: /stelmo/nwb/analysis/Yoshi20220513/Yoshi20220513_MFVWRHKLOS.nwb\n",
      "WARNING:datajoint:Skipped checksum for file with hash: 6ab940b6-4a6b-7136-bc73-6be639a83d3e, and path: /stelmo/nwb/analysis/Yoshi20220513/Yoshi20220513_MFVWRHKLOS.nwb\n"
     ]
    },
    {
     "name": "stdout",
     "output_type": "stream",
     "text": [
      "Slow Gamma 25-55 Hz Yoshi20220513_.nwb pos 5 valid times b3c46be5-63b8-7e20-d906-791970280565\n"
     ]
    },
    {
     "name": "stderr",
     "output_type": "stream",
     "text": [
      "[2023-12-06 09:03:55,923][WARNING]: Skipped checksum for file with hash: 6ab940b6-4a6b-7136-bc73-6be639a83d3e, and path: /stelmo/nwb/analysis/Yoshi20220513/Yoshi20220513_MFVWRHKLOS.nwb\n",
      "WARNING:datajoint:Skipped checksum for file with hash: 6ab940b6-4a6b-7136-bc73-6be639a83d3e, and path: /stelmo/nwb/analysis/Yoshi20220513/Yoshi20220513_MFVWRHKLOS.nwb\n"
     ]
    },
    {
     "name": "stdout",
     "output_type": "stream",
     "text": [
      "Fast Gamma 65-100 Hz Yoshi20220513_.nwb pos 5 valid times b3c46be5-63b8-7e20-d906-791970280565\n"
     ]
    },
    {
     "name": "stderr",
     "output_type": "stream",
     "text": [
      "[2023-12-06 09:03:56,993][WARNING]: Skipped checksum for file with hash: cb24b8fa-146f-4e78-0d7c-93a4ef88c344, and path: /stelmo/nwb/analysis/Yoshi20220513/Yoshi20220513_6E9L33287L.nwb\n",
      "WARNING:datajoint:Skipped checksum for file with hash: cb24b8fa-146f-4e78-0d7c-93a4ef88c344, and path: /stelmo/nwb/analysis/Yoshi20220513/Yoshi20220513_6E9L33287L.nwb\n"
     ]
    },
    {
     "name": "stdout",
     "output_type": "stream",
     "text": [
      "Slow Gamma 25-55 Hz Yoshi20220513_.nwb pos 6 valid times eccb5247-fc99-c2fa-7e6c-45d98df08f67\n"
     ]
    },
    {
     "name": "stderr",
     "output_type": "stream",
     "text": [
      "[2023-12-06 09:03:58,532][WARNING]: Skipped checksum for file with hash: cb24b8fa-146f-4e78-0d7c-93a4ef88c344, and path: /stelmo/nwb/analysis/Yoshi20220513/Yoshi20220513_6E9L33287L.nwb\n",
      "WARNING:datajoint:Skipped checksum for file with hash: cb24b8fa-146f-4e78-0d7c-93a4ef88c344, and path: /stelmo/nwb/analysis/Yoshi20220513/Yoshi20220513_6E9L33287L.nwb\n"
     ]
    },
    {
     "name": "stdout",
     "output_type": "stream",
     "text": [
      "Fast Gamma 65-100 Hz Yoshi20220513_.nwb pos 6 valid times eccb5247-fc99-c2fa-7e6c-45d98df08f67\n"
     ]
    },
    {
     "name": "stderr",
     "output_type": "stream",
     "text": [
      "[2023-12-06 09:03:59,537][WARNING]: Skipped checksum for file with hash: c9fed352-2f8c-c4da-9562-98700e06a52f, and path: /stelmo/nwb/analysis/Yoshi20220513/Yoshi20220513_FG6BJVHHFE.nwb\n",
      "WARNING:datajoint:Skipped checksum for file with hash: c9fed352-2f8c-c4da-9562-98700e06a52f, and path: /stelmo/nwb/analysis/Yoshi20220513/Yoshi20220513_FG6BJVHHFE.nwb\n"
     ]
    },
    {
     "name": "stdout",
     "output_type": "stream",
     "text": [
      "Slow Gamma 25-55 Hz Yoshi20220513_.nwb pos 7 valid times ee1f7c69-91b4-9146-056b-1d96f9908f86\n"
     ]
    },
    {
     "name": "stderr",
     "output_type": "stream",
     "text": [
      "[2023-12-06 09:04:01,067][WARNING]: Skipped checksum for file with hash: c9fed352-2f8c-c4da-9562-98700e06a52f, and path: /stelmo/nwb/analysis/Yoshi20220513/Yoshi20220513_FG6BJVHHFE.nwb\n",
      "WARNING:datajoint:Skipped checksum for file with hash: c9fed352-2f8c-c4da-9562-98700e06a52f, and path: /stelmo/nwb/analysis/Yoshi20220513/Yoshi20220513_FG6BJVHHFE.nwb\n"
     ]
    },
    {
     "name": "stdout",
     "output_type": "stream",
     "text": [
      "Fast Gamma 65-100 Hz Yoshi20220513_.nwb pos 7 valid times ee1f7c69-91b4-9146-056b-1d96f9908f86\n"
     ]
    },
    {
     "name": "stderr",
     "output_type": "stream",
     "text": [
      "[2023-12-06 09:04:02,052][WARNING]: Skipped checksum for file with hash: b5d90723-3b26-8e3e-b302-9001bf068df5, and path: /stelmo/nwb/analysis/Yoshi20220513/Yoshi20220513_JRI3XLRUV0.nwb\n",
      "WARNING:datajoint:Skipped checksum for file with hash: b5d90723-3b26-8e3e-b302-9001bf068df5, and path: /stelmo/nwb/analysis/Yoshi20220513/Yoshi20220513_JRI3XLRUV0.nwb\n"
     ]
    },
    {
     "name": "stdout",
     "output_type": "stream",
     "text": [
      "Slow Gamma 25-55 Hz Yoshi20220513_.nwb pos 8 valid times 099c0e6e-eff4-ccf3-0e3f-c9a5b46e9681\n"
     ]
    },
    {
     "name": "stderr",
     "output_type": "stream",
     "text": [
      "[2023-12-06 09:04:03,635][WARNING]: Skipped checksum for file with hash: b5d90723-3b26-8e3e-b302-9001bf068df5, and path: /stelmo/nwb/analysis/Yoshi20220513/Yoshi20220513_JRI3XLRUV0.nwb\n",
      "WARNING:datajoint:Skipped checksum for file with hash: b5d90723-3b26-8e3e-b302-9001bf068df5, and path: /stelmo/nwb/analysis/Yoshi20220513/Yoshi20220513_JRI3XLRUV0.nwb\n"
     ]
    },
    {
     "name": "stdout",
     "output_type": "stream",
     "text": [
      "Fast Gamma 65-100 Hz Yoshi20220513_.nwb pos 8 valid times 099c0e6e-eff4-ccf3-0e3f-c9a5b46e9681\n"
     ]
    },
    {
     "name": "stderr",
     "output_type": "stream",
     "text": [
      "[2023-12-06 09:04:04,691][WARNING]: Skipped checksum for file with hash: fb309449-4aae-785d-251e-42faf870985d, and path: /stelmo/nwb/analysis/Yoshi20220513/Yoshi20220513_JF0V06URLZ.nwb\n",
      "WARNING:datajoint:Skipped checksum for file with hash: fb309449-4aae-785d-251e-42faf870985d, and path: /stelmo/nwb/analysis/Yoshi20220513/Yoshi20220513_JF0V06URLZ.nwb\n"
     ]
    },
    {
     "name": "stdout",
     "output_type": "stream",
     "text": [
      "Slow Gamma 25-55 Hz Yoshi20220513_.nwb pos 9 valid times c516da2d-d2a5-5e9c-efb3-640ea8f3a53f\n"
     ]
    },
    {
     "name": "stderr",
     "output_type": "stream",
     "text": [
      "[2023-12-06 09:04:07,118][WARNING]: Skipped checksum for file with hash: fb309449-4aae-785d-251e-42faf870985d, and path: /stelmo/nwb/analysis/Yoshi20220513/Yoshi20220513_JF0V06URLZ.nwb\n",
      "WARNING:datajoint:Skipped checksum for file with hash: fb309449-4aae-785d-251e-42faf870985d, and path: /stelmo/nwb/analysis/Yoshi20220513/Yoshi20220513_JF0V06URLZ.nwb\n"
     ]
    },
    {
     "name": "stdout",
     "output_type": "stream",
     "text": [
      "Fast Gamma 65-100 Hz Yoshi20220513_.nwb pos 9 valid times c516da2d-d2a5-5e9c-efb3-640ea8f3a53f\n"
     ]
    },
    {
     "name": "stderr",
     "output_type": "stream",
     "text": [
      "[2023-12-06 09:04:08,093][WARNING]: Skipped checksum for file with hash: ea8937a9-1f2b-2633-b2fb-804cf5538154, and path: /stelmo/nwb/analysis/Yoshi20220516/Yoshi20220516_V4K8HSK2B1.nwb\n",
      "WARNING:datajoint:Skipped checksum for file with hash: ea8937a9-1f2b-2633-b2fb-804cf5538154, and path: /stelmo/nwb/analysis/Yoshi20220516/Yoshi20220516_V4K8HSK2B1.nwb\n"
     ]
    },
    {
     "name": "stdout",
     "output_type": "stream",
     "text": [
      "Slow Gamma 25-55 Hz Yoshi20220516_.nwb pos 0 valid times 507e9fd3-cb37-267f-1558-f320e75e9096\n"
     ]
    },
    {
     "name": "stderr",
     "output_type": "stream",
     "text": [
      "[2023-12-06 09:04:09,716][WARNING]: Skipped checksum for file with hash: ea8937a9-1f2b-2633-b2fb-804cf5538154, and path: /stelmo/nwb/analysis/Yoshi20220516/Yoshi20220516_V4K8HSK2B1.nwb\n",
      "WARNING:datajoint:Skipped checksum for file with hash: ea8937a9-1f2b-2633-b2fb-804cf5538154, and path: /stelmo/nwb/analysis/Yoshi20220516/Yoshi20220516_V4K8HSK2B1.nwb\n"
     ]
    },
    {
     "name": "stdout",
     "output_type": "stream",
     "text": [
      "Fast Gamma 65-100 Hz Yoshi20220516_.nwb pos 0 valid times 507e9fd3-cb37-267f-1558-f320e75e9096\n"
     ]
    },
    {
     "name": "stderr",
     "output_type": "stream",
     "text": [
      "[2023-12-06 09:04:10,758][WARNING]: Skipped checksum for file with hash: 53734823-e221-bcc5-8a78-7c7f3b014d58, and path: /stelmo/nwb/analysis/Yoshi20220516/Yoshi20220516_XJER0J5YZJ.nwb\n",
      "WARNING:datajoint:Skipped checksum for file with hash: 53734823-e221-bcc5-8a78-7c7f3b014d58, and path: /stelmo/nwb/analysis/Yoshi20220516/Yoshi20220516_XJER0J5YZJ.nwb\n"
     ]
    },
    {
     "name": "stdout",
     "output_type": "stream",
     "text": [
      "Slow Gamma 25-55 Hz Yoshi20220516_.nwb pos 1 valid times 8c77fccd-54d4-f586-694c-c3e74cd67c99\n"
     ]
    },
    {
     "name": "stderr",
     "output_type": "stream",
     "text": [
      "[2023-12-06 09:04:12,296][WARNING]: Skipped checksum for file with hash: 53734823-e221-bcc5-8a78-7c7f3b014d58, and path: /stelmo/nwb/analysis/Yoshi20220516/Yoshi20220516_XJER0J5YZJ.nwb\n",
      "WARNING:datajoint:Skipped checksum for file with hash: 53734823-e221-bcc5-8a78-7c7f3b014d58, and path: /stelmo/nwb/analysis/Yoshi20220516/Yoshi20220516_XJER0J5YZJ.nwb\n"
     ]
    },
    {
     "name": "stdout",
     "output_type": "stream",
     "text": [
      "Fast Gamma 65-100 Hz Yoshi20220516_.nwb pos 1 valid times 8c77fccd-54d4-f586-694c-c3e74cd67c99\n"
     ]
    },
    {
     "name": "stderr",
     "output_type": "stream",
     "text": [
      "[2023-12-06 09:04:13,324][WARNING]: Skipped checksum for file with hash: 99c953da-780a-380f-3b03-f772daab281a, and path: /stelmo/nwb/analysis/Yoshi20220516/Yoshi20220516_V0ZN5QKCLE.nwb\n",
      "WARNING:datajoint:Skipped checksum for file with hash: 99c953da-780a-380f-3b03-f772daab281a, and path: /stelmo/nwb/analysis/Yoshi20220516/Yoshi20220516_V0ZN5QKCLE.nwb\n"
     ]
    },
    {
     "name": "stdout",
     "output_type": "stream",
     "text": [
      "Slow Gamma 25-55 Hz Yoshi20220516_.nwb pos 10 valid times e11e955d-fbba-2f31-726e-ecbc8cb9ae58\n"
     ]
    },
    {
     "name": "stderr",
     "output_type": "stream",
     "text": [
      "[2023-12-06 09:04:14,879][WARNING]: Skipped checksum for file with hash: 99c953da-780a-380f-3b03-f772daab281a, and path: /stelmo/nwb/analysis/Yoshi20220516/Yoshi20220516_V0ZN5QKCLE.nwb\n",
      "WARNING:datajoint:Skipped checksum for file with hash: 99c953da-780a-380f-3b03-f772daab281a, and path: /stelmo/nwb/analysis/Yoshi20220516/Yoshi20220516_V0ZN5QKCLE.nwb\n"
     ]
    },
    {
     "name": "stdout",
     "output_type": "stream",
     "text": [
      "Fast Gamma 65-100 Hz Yoshi20220516_.nwb pos 10 valid times e11e955d-fbba-2f31-726e-ecbc8cb9ae58\n"
     ]
    },
    {
     "name": "stderr",
     "output_type": "stream",
     "text": [
      "[2023-12-06 09:04:15,813][WARNING]: Skipped checksum for file with hash: f6d2965b-0f54-1a4e-a667-9b24ae01b3a4, and path: /stelmo/nwb/analysis/Yoshi20220516/Yoshi20220516_88BTC0HKCT.nwb\n",
      "WARNING:datajoint:Skipped checksum for file with hash: f6d2965b-0f54-1a4e-a667-9b24ae01b3a4, and path: /stelmo/nwb/analysis/Yoshi20220516/Yoshi20220516_88BTC0HKCT.nwb\n"
     ]
    },
    {
     "name": "stdout",
     "output_type": "stream",
     "text": [
      "Slow Gamma 25-55 Hz Yoshi20220516_.nwb pos 11 valid times 731536ca-3c0d-e3ea-094c-dfbd8bca8502\n"
     ]
    },
    {
     "name": "stderr",
     "output_type": "stream",
     "text": [
      "[2023-12-06 09:04:17,431][WARNING]: Skipped checksum for file with hash: f6d2965b-0f54-1a4e-a667-9b24ae01b3a4, and path: /stelmo/nwb/analysis/Yoshi20220516/Yoshi20220516_88BTC0HKCT.nwb\n",
      "WARNING:datajoint:Skipped checksum for file with hash: f6d2965b-0f54-1a4e-a667-9b24ae01b3a4, and path: /stelmo/nwb/analysis/Yoshi20220516/Yoshi20220516_88BTC0HKCT.nwb\n"
     ]
    },
    {
     "name": "stdout",
     "output_type": "stream",
     "text": [
      "Fast Gamma 65-100 Hz Yoshi20220516_.nwb pos 11 valid times 731536ca-3c0d-e3ea-094c-dfbd8bca8502\n"
     ]
    },
    {
     "name": "stderr",
     "output_type": "stream",
     "text": [
      "[2023-12-06 09:04:18,440][WARNING]: Skipped checksum for file with hash: 9b11e881-04e4-a1ad-17fd-7340d5b033bd, and path: /stelmo/nwb/analysis/Yoshi20220516/Yoshi20220516_VYVRDLH6QS.nwb\n",
      "WARNING:datajoint:Skipped checksum for file with hash: 9b11e881-04e4-a1ad-17fd-7340d5b033bd, and path: /stelmo/nwb/analysis/Yoshi20220516/Yoshi20220516_VYVRDLH6QS.nwb\n"
     ]
    },
    {
     "name": "stdout",
     "output_type": "stream",
     "text": [
      "Slow Gamma 25-55 Hz Yoshi20220516_.nwb pos 12 valid times 5b1aeb7e-37f6-7763-e10e-6b9722cc3df5\n"
     ]
    },
    {
     "name": "stderr",
     "output_type": "stream",
     "text": [
      "[2023-12-06 09:04:20,005][WARNING]: Skipped checksum for file with hash: 9b11e881-04e4-a1ad-17fd-7340d5b033bd, and path: /stelmo/nwb/analysis/Yoshi20220516/Yoshi20220516_VYVRDLH6QS.nwb\n",
      "WARNING:datajoint:Skipped checksum for file with hash: 9b11e881-04e4-a1ad-17fd-7340d5b033bd, and path: /stelmo/nwb/analysis/Yoshi20220516/Yoshi20220516_VYVRDLH6QS.nwb\n"
     ]
    },
    {
     "name": "stdout",
     "output_type": "stream",
     "text": [
      "Fast Gamma 65-100 Hz Yoshi20220516_.nwb pos 12 valid times 5b1aeb7e-37f6-7763-e10e-6b9722cc3df5\n"
     ]
    },
    {
     "name": "stderr",
     "output_type": "stream",
     "text": [
      "[2023-12-06 09:04:20,989][WARNING]: Skipped checksum for file with hash: 1b8f712c-e5e5-0a17-48ce-fac97c28566f, and path: /stelmo/nwb/analysis/Yoshi20220516/Yoshi20220516_RLT5T5RHRS.nwb\n",
      "WARNING:datajoint:Skipped checksum for file with hash: 1b8f712c-e5e5-0a17-48ce-fac97c28566f, and path: /stelmo/nwb/analysis/Yoshi20220516/Yoshi20220516_RLT5T5RHRS.nwb\n"
     ]
    },
    {
     "name": "stdout",
     "output_type": "stream",
     "text": [
      "Slow Gamma 25-55 Hz Yoshi20220516_.nwb pos 13 valid times 323d6738-25cf-d530-b62c-ff6c02c727a6\n"
     ]
    },
    {
     "name": "stderr",
     "output_type": "stream",
     "text": [
      "[2023-12-06 09:04:22,589][WARNING]: Skipped checksum for file with hash: 1b8f712c-e5e5-0a17-48ce-fac97c28566f, and path: /stelmo/nwb/analysis/Yoshi20220516/Yoshi20220516_RLT5T5RHRS.nwb\n",
      "WARNING:datajoint:Skipped checksum for file with hash: 1b8f712c-e5e5-0a17-48ce-fac97c28566f, and path: /stelmo/nwb/analysis/Yoshi20220516/Yoshi20220516_RLT5T5RHRS.nwb\n"
     ]
    },
    {
     "name": "stdout",
     "output_type": "stream",
     "text": [
      "Fast Gamma 65-100 Hz Yoshi20220516_.nwb pos 13 valid times 323d6738-25cf-d530-b62c-ff6c02c727a6\n"
     ]
    },
    {
     "name": "stderr",
     "output_type": "stream",
     "text": [
      "[2023-12-06 09:04:23,551][WARNING]: Skipped checksum for file with hash: 49d9877c-5cbf-0d48-5e77-6463f891d8c7, and path: /stelmo/nwb/analysis/Yoshi20220516/Yoshi20220516_EYXO15HKLQ.nwb\n",
      "WARNING:datajoint:Skipped checksum for file with hash: 49d9877c-5cbf-0d48-5e77-6463f891d8c7, and path: /stelmo/nwb/analysis/Yoshi20220516/Yoshi20220516_EYXO15HKLQ.nwb\n"
     ]
    },
    {
     "name": "stdout",
     "output_type": "stream",
     "text": [
      "Slow Gamma 25-55 Hz Yoshi20220516_.nwb pos 14 valid times b7073ff3-ad7f-135b-0e8e-ee74d1fb1017\n"
     ]
    },
    {
     "name": "stderr",
     "output_type": "stream",
     "text": [
      "[2023-12-06 09:04:25,169][WARNING]: Skipped checksum for file with hash: 49d9877c-5cbf-0d48-5e77-6463f891d8c7, and path: /stelmo/nwb/analysis/Yoshi20220516/Yoshi20220516_EYXO15HKLQ.nwb\n",
      "WARNING:datajoint:Skipped checksum for file with hash: 49d9877c-5cbf-0d48-5e77-6463f891d8c7, and path: /stelmo/nwb/analysis/Yoshi20220516/Yoshi20220516_EYXO15HKLQ.nwb\n"
     ]
    },
    {
     "name": "stdout",
     "output_type": "stream",
     "text": [
      "Fast Gamma 65-100 Hz Yoshi20220516_.nwb pos 14 valid times b7073ff3-ad7f-135b-0e8e-ee74d1fb1017\n"
     ]
    },
    {
     "name": "stderr",
     "output_type": "stream",
     "text": [
      "[2023-12-06 09:04:26,236][WARNING]: Skipped checksum for file with hash: b7c40ff0-aee4-20ee-66bf-129afbb9d1cd, and path: /stelmo/nwb/analysis/Yoshi20220516/Yoshi20220516_3R5V9UR2AQ.nwb\n",
      "WARNING:datajoint:Skipped checksum for file with hash: b7c40ff0-aee4-20ee-66bf-129afbb9d1cd, and path: /stelmo/nwb/analysis/Yoshi20220516/Yoshi20220516_3R5V9UR2AQ.nwb\n"
     ]
    },
    {
     "name": "stdout",
     "output_type": "stream",
     "text": [
      "Slow Gamma 25-55 Hz Yoshi20220516_.nwb pos 15 valid times b5fb73b9-c82d-e736-cbf7-5b4caa7aac6b\n"
     ]
    },
    {
     "name": "stderr",
     "output_type": "stream",
     "text": [
      "[2023-12-06 09:04:27,846][WARNING]: Skipped checksum for file with hash: b7c40ff0-aee4-20ee-66bf-129afbb9d1cd, and path: /stelmo/nwb/analysis/Yoshi20220516/Yoshi20220516_3R5V9UR2AQ.nwb\n",
      "WARNING:datajoint:Skipped checksum for file with hash: b7c40ff0-aee4-20ee-66bf-129afbb9d1cd, and path: /stelmo/nwb/analysis/Yoshi20220516/Yoshi20220516_3R5V9UR2AQ.nwb\n"
     ]
    },
    {
     "name": "stdout",
     "output_type": "stream",
     "text": [
      "Fast Gamma 65-100 Hz Yoshi20220516_.nwb pos 15 valid times b5fb73b9-c82d-e736-cbf7-5b4caa7aac6b\n"
     ]
    },
    {
     "name": "stderr",
     "output_type": "stream",
     "text": [
      "[2023-12-06 09:04:28,835][WARNING]: Skipped checksum for file with hash: 109f4771-9295-f28f-129d-b205b48a46ee, and path: /stelmo/nwb/analysis/Yoshi20220516/Yoshi20220516_VFPO9SQYNG.nwb\n",
      "WARNING:datajoint:Skipped checksum for file with hash: 109f4771-9295-f28f-129d-b205b48a46ee, and path: /stelmo/nwb/analysis/Yoshi20220516/Yoshi20220516_VFPO9SQYNG.nwb\n"
     ]
    },
    {
     "name": "stdout",
     "output_type": "stream",
     "text": [
      "Slow Gamma 25-55 Hz Yoshi20220516_.nwb pos 16 valid times 89b980c7-fc05-06aa-97c9-c57284e195e8\n"
     ]
    },
    {
     "name": "stderr",
     "output_type": "stream",
     "text": [
      "[2023-12-06 09:04:30,517][WARNING]: Skipped checksum for file with hash: 109f4771-9295-f28f-129d-b205b48a46ee, and path: /stelmo/nwb/analysis/Yoshi20220516/Yoshi20220516_VFPO9SQYNG.nwb\n",
      "WARNING:datajoint:Skipped checksum for file with hash: 109f4771-9295-f28f-129d-b205b48a46ee, and path: /stelmo/nwb/analysis/Yoshi20220516/Yoshi20220516_VFPO9SQYNG.nwb\n"
     ]
    },
    {
     "name": "stdout",
     "output_type": "stream",
     "text": [
      "Fast Gamma 65-100 Hz Yoshi20220516_.nwb pos 16 valid times 89b980c7-fc05-06aa-97c9-c57284e195e8\n"
     ]
    },
    {
     "name": "stderr",
     "output_type": "stream",
     "text": [
      "[2023-12-06 09:04:31,546][WARNING]: Skipped checksum for file with hash: 010c24fb-9124-f200-448b-7a7249a015eb, and path: /stelmo/nwb/analysis/Yoshi20220516/Yoshi20220516_9SG5UTH096.nwb\n",
      "WARNING:datajoint:Skipped checksum for file with hash: 010c24fb-9124-f200-448b-7a7249a015eb, and path: /stelmo/nwb/analysis/Yoshi20220516/Yoshi20220516_9SG5UTH096.nwb\n"
     ]
    },
    {
     "name": "stdout",
     "output_type": "stream",
     "text": [
      "Slow Gamma 25-55 Hz Yoshi20220516_.nwb pos 17 valid times f7d4014e-03da-d3c5-d947-9be5e5271e73\n"
     ]
    },
    {
     "name": "stderr",
     "output_type": "stream",
     "text": [
      "[2023-12-06 09:04:33,177][WARNING]: Skipped checksum for file with hash: 010c24fb-9124-f200-448b-7a7249a015eb, and path: /stelmo/nwb/analysis/Yoshi20220516/Yoshi20220516_9SG5UTH096.nwb\n",
      "WARNING:datajoint:Skipped checksum for file with hash: 010c24fb-9124-f200-448b-7a7249a015eb, and path: /stelmo/nwb/analysis/Yoshi20220516/Yoshi20220516_9SG5UTH096.nwb\n"
     ]
    },
    {
     "name": "stdout",
     "output_type": "stream",
     "text": [
      "Fast Gamma 65-100 Hz Yoshi20220516_.nwb pos 17 valid times f7d4014e-03da-d3c5-d947-9be5e5271e73\n"
     ]
    },
    {
     "name": "stderr",
     "output_type": "stream",
     "text": [
      "[2023-12-06 09:04:34,221][WARNING]: Skipped checksum for file with hash: aefe0afa-e943-7aa1-d3f4-75350d8a7c1f, and path: /stelmo/nwb/analysis/Yoshi20220516/Yoshi20220516_3J2ZY68FXP.nwb\n",
      "WARNING:datajoint:Skipped checksum for file with hash: aefe0afa-e943-7aa1-d3f4-75350d8a7c1f, and path: /stelmo/nwb/analysis/Yoshi20220516/Yoshi20220516_3J2ZY68FXP.nwb\n"
     ]
    },
    {
     "name": "stdout",
     "output_type": "stream",
     "text": [
      "Slow Gamma 25-55 Hz Yoshi20220516_.nwb pos 18 valid times 19da0be4-dd2e-0f76-6a83-539c93373198\n"
     ]
    },
    {
     "name": "stderr",
     "output_type": "stream",
     "text": [
      "[2023-12-06 09:04:35,823][WARNING]: Skipped checksum for file with hash: aefe0afa-e943-7aa1-d3f4-75350d8a7c1f, and path: /stelmo/nwb/analysis/Yoshi20220516/Yoshi20220516_3J2ZY68FXP.nwb\n",
      "WARNING:datajoint:Skipped checksum for file with hash: aefe0afa-e943-7aa1-d3f4-75350d8a7c1f, and path: /stelmo/nwb/analysis/Yoshi20220516/Yoshi20220516_3J2ZY68FXP.nwb\n"
     ]
    },
    {
     "name": "stdout",
     "output_type": "stream",
     "text": [
      "Fast Gamma 65-100 Hz Yoshi20220516_.nwb pos 18 valid times 19da0be4-dd2e-0f76-6a83-539c93373198\n"
     ]
    },
    {
     "name": "stderr",
     "output_type": "stream",
     "text": [
      "[2023-12-06 09:04:36,830][WARNING]: Skipped checksum for file with hash: c5231f2a-cf5a-b9aa-285d-aa02e6c2463e, and path: /stelmo/nwb/analysis/Yoshi20220516/Yoshi20220516_YCUUKQ4JOO.nwb\n",
      "WARNING:datajoint:Skipped checksum for file with hash: c5231f2a-cf5a-b9aa-285d-aa02e6c2463e, and path: /stelmo/nwb/analysis/Yoshi20220516/Yoshi20220516_YCUUKQ4JOO.nwb\n"
     ]
    },
    {
     "name": "stdout",
     "output_type": "stream",
     "text": [
      "Slow Gamma 25-55 Hz Yoshi20220516_.nwb pos 2 valid times c7f3efba-15c6-aec7-5bd4-ced37fe41905\n"
     ]
    },
    {
     "name": "stderr",
     "output_type": "stream",
     "text": [
      "[2023-12-06 09:04:38,367][WARNING]: Skipped checksum for file with hash: c5231f2a-cf5a-b9aa-285d-aa02e6c2463e, and path: /stelmo/nwb/analysis/Yoshi20220516/Yoshi20220516_YCUUKQ4JOO.nwb\n",
      "WARNING:datajoint:Skipped checksum for file with hash: c5231f2a-cf5a-b9aa-285d-aa02e6c2463e, and path: /stelmo/nwb/analysis/Yoshi20220516/Yoshi20220516_YCUUKQ4JOO.nwb\n"
     ]
    },
    {
     "name": "stdout",
     "output_type": "stream",
     "text": [
      "Fast Gamma 65-100 Hz Yoshi20220516_.nwb pos 2 valid times c7f3efba-15c6-aec7-5bd4-ced37fe41905\n"
     ]
    },
    {
     "name": "stderr",
     "output_type": "stream",
     "text": [
      "[2023-12-06 09:04:39,355][WARNING]: Skipped checksum for file with hash: 88dfc4ea-fb62-7024-2ab2-889b286989c7, and path: /stelmo/nwb/analysis/Yoshi20220516/Yoshi20220516_0NMKWDYBYW.nwb\n",
      "WARNING:datajoint:Skipped checksum for file with hash: 88dfc4ea-fb62-7024-2ab2-889b286989c7, and path: /stelmo/nwb/analysis/Yoshi20220516/Yoshi20220516_0NMKWDYBYW.nwb\n"
     ]
    },
    {
     "name": "stdout",
     "output_type": "stream",
     "text": [
      "Slow Gamma 25-55 Hz Yoshi20220516_.nwb pos 3 valid times ba3845a4-c33b-7197-7a33-5c7d8d8fc147\n"
     ]
    },
    {
     "name": "stderr",
     "output_type": "stream",
     "text": [
      "[2023-12-06 09:04:40,868][WARNING]: Skipped checksum for file with hash: 88dfc4ea-fb62-7024-2ab2-889b286989c7, and path: /stelmo/nwb/analysis/Yoshi20220516/Yoshi20220516_0NMKWDYBYW.nwb\n",
      "WARNING:datajoint:Skipped checksum for file with hash: 88dfc4ea-fb62-7024-2ab2-889b286989c7, and path: /stelmo/nwb/analysis/Yoshi20220516/Yoshi20220516_0NMKWDYBYW.nwb\n"
     ]
    },
    {
     "name": "stdout",
     "output_type": "stream",
     "text": [
      "Fast Gamma 65-100 Hz Yoshi20220516_.nwb pos 3 valid times ba3845a4-c33b-7197-7a33-5c7d8d8fc147\n"
     ]
    },
    {
     "name": "stderr",
     "output_type": "stream",
     "text": [
      "[2023-12-06 09:04:41,777][WARNING]: Skipped checksum for file with hash: ca4afd62-8f70-002b-e292-a9d0b7b7350d, and path: /stelmo/nwb/analysis/Yoshi20220516/Yoshi20220516_RJ0HG6FA7T.nwb\n",
      "WARNING:datajoint:Skipped checksum for file with hash: ca4afd62-8f70-002b-e292-a9d0b7b7350d, and path: /stelmo/nwb/analysis/Yoshi20220516/Yoshi20220516_RJ0HG6FA7T.nwb\n"
     ]
    },
    {
     "name": "stdout",
     "output_type": "stream",
     "text": [
      "Slow Gamma 25-55 Hz Yoshi20220516_.nwb pos 4 valid times 61214530-1f3a-3651-87ee-35b2500665a9\n"
     ]
    },
    {
     "name": "stderr",
     "output_type": "stream",
     "text": [
      "[2023-12-06 09:04:43,383][WARNING]: Skipped checksum for file with hash: ca4afd62-8f70-002b-e292-a9d0b7b7350d, and path: /stelmo/nwb/analysis/Yoshi20220516/Yoshi20220516_RJ0HG6FA7T.nwb\n",
      "WARNING:datajoint:Skipped checksum for file with hash: ca4afd62-8f70-002b-e292-a9d0b7b7350d, and path: /stelmo/nwb/analysis/Yoshi20220516/Yoshi20220516_RJ0HG6FA7T.nwb\n"
     ]
    },
    {
     "name": "stdout",
     "output_type": "stream",
     "text": [
      "Fast Gamma 65-100 Hz Yoshi20220516_.nwb pos 4 valid times 61214530-1f3a-3651-87ee-35b2500665a9\n"
     ]
    },
    {
     "name": "stderr",
     "output_type": "stream",
     "text": [
      "[2023-12-06 09:04:44,374][WARNING]: Skipped checksum for file with hash: 6f9e4b0f-45fb-9c1b-fa04-b7747eef409d, and path: /stelmo/nwb/analysis/Yoshi20220516/Yoshi20220516_72GK0NROGA.nwb\n",
      "WARNING:datajoint:Skipped checksum for file with hash: 6f9e4b0f-45fb-9c1b-fa04-b7747eef409d, and path: /stelmo/nwb/analysis/Yoshi20220516/Yoshi20220516_72GK0NROGA.nwb\n"
     ]
    },
    {
     "name": "stdout",
     "output_type": "stream",
     "text": [
      "Slow Gamma 25-55 Hz Yoshi20220516_.nwb pos 5 valid times 651715e9-d2e8-c0ff-e336-284611a3ec87\n"
     ]
    },
    {
     "name": "stderr",
     "output_type": "stream",
     "text": [
      "[2023-12-06 09:04:45,836][WARNING]: Skipped checksum for file with hash: 6f9e4b0f-45fb-9c1b-fa04-b7747eef409d, and path: /stelmo/nwb/analysis/Yoshi20220516/Yoshi20220516_72GK0NROGA.nwb\n",
      "WARNING:datajoint:Skipped checksum for file with hash: 6f9e4b0f-45fb-9c1b-fa04-b7747eef409d, and path: /stelmo/nwb/analysis/Yoshi20220516/Yoshi20220516_72GK0NROGA.nwb\n"
     ]
    },
    {
     "name": "stdout",
     "output_type": "stream",
     "text": [
      "Fast Gamma 65-100 Hz Yoshi20220516_.nwb pos 5 valid times 651715e9-d2e8-c0ff-e336-284611a3ec87\n"
     ]
    },
    {
     "name": "stderr",
     "output_type": "stream",
     "text": [
      "[2023-12-06 09:04:46,807][WARNING]: Skipped checksum for file with hash: 21565e93-09b1-b050-c92d-e1031a7ebcda, and path: /stelmo/nwb/analysis/Yoshi20220516/Yoshi20220516_S96SZA1D7H.nwb\n",
      "WARNING:datajoint:Skipped checksum for file with hash: 21565e93-09b1-b050-c92d-e1031a7ebcda, and path: /stelmo/nwb/analysis/Yoshi20220516/Yoshi20220516_S96SZA1D7H.nwb\n"
     ]
    },
    {
     "name": "stdout",
     "output_type": "stream",
     "text": [
      "Slow Gamma 25-55 Hz Yoshi20220516_.nwb pos 6 valid times a6392665-7ae6-8f88-14a3-8548289749b2\n"
     ]
    },
    {
     "name": "stderr",
     "output_type": "stream",
     "text": [
      "[2023-12-06 09:04:48,357][WARNING]: Skipped checksum for file with hash: 21565e93-09b1-b050-c92d-e1031a7ebcda, and path: /stelmo/nwb/analysis/Yoshi20220516/Yoshi20220516_S96SZA1D7H.nwb\n",
      "WARNING:datajoint:Skipped checksum for file with hash: 21565e93-09b1-b050-c92d-e1031a7ebcda, and path: /stelmo/nwb/analysis/Yoshi20220516/Yoshi20220516_S96SZA1D7H.nwb\n"
     ]
    },
    {
     "name": "stdout",
     "output_type": "stream",
     "text": [
      "Fast Gamma 65-100 Hz Yoshi20220516_.nwb pos 6 valid times a6392665-7ae6-8f88-14a3-8548289749b2\n"
     ]
    },
    {
     "name": "stderr",
     "output_type": "stream",
     "text": [
      "[2023-12-06 09:04:49,331][WARNING]: Skipped checksum for file with hash: 5a22daf2-3675-1e19-38fe-89ad251a427c, and path: /stelmo/nwb/analysis/Yoshi20220516/Yoshi20220516_XSVR7D7AK2.nwb\n",
      "WARNING:datajoint:Skipped checksum for file with hash: 5a22daf2-3675-1e19-38fe-89ad251a427c, and path: /stelmo/nwb/analysis/Yoshi20220516/Yoshi20220516_XSVR7D7AK2.nwb\n"
     ]
    },
    {
     "name": "stdout",
     "output_type": "stream",
     "text": [
      "Slow Gamma 25-55 Hz Yoshi20220516_.nwb pos 7 valid times 07f03d4b-44f5-18ab-e1d0-472c7e863a4f\n"
     ]
    },
    {
     "name": "stderr",
     "output_type": "stream",
     "text": [
      "[2023-12-06 09:04:50,751][WARNING]: Skipped checksum for file with hash: 5a22daf2-3675-1e19-38fe-89ad251a427c, and path: /stelmo/nwb/analysis/Yoshi20220516/Yoshi20220516_XSVR7D7AK2.nwb\n",
      "WARNING:datajoint:Skipped checksum for file with hash: 5a22daf2-3675-1e19-38fe-89ad251a427c, and path: /stelmo/nwb/analysis/Yoshi20220516/Yoshi20220516_XSVR7D7AK2.nwb\n"
     ]
    },
    {
     "name": "stdout",
     "output_type": "stream",
     "text": [
      "Fast Gamma 65-100 Hz Yoshi20220516_.nwb pos 7 valid times 07f03d4b-44f5-18ab-e1d0-472c7e863a4f\n"
     ]
    },
    {
     "name": "stderr",
     "output_type": "stream",
     "text": [
      "[2023-12-06 09:04:51,676][WARNING]: Skipped checksum for file with hash: 8e0fca63-23b3-0ce5-3ad3-b231d77a81f6, and path: /stelmo/nwb/analysis/Yoshi20220516/Yoshi20220516_F65X7GKW8H.nwb\n",
      "WARNING:datajoint:Skipped checksum for file with hash: 8e0fca63-23b3-0ce5-3ad3-b231d77a81f6, and path: /stelmo/nwb/analysis/Yoshi20220516/Yoshi20220516_F65X7GKW8H.nwb\n"
     ]
    },
    {
     "name": "stdout",
     "output_type": "stream",
     "text": [
      "Slow Gamma 25-55 Hz Yoshi20220516_.nwb pos 8 valid times 5e8836a0-f56a-0e31-9f4b-bd128d7725ff\n"
     ]
    },
    {
     "name": "stderr",
     "output_type": "stream",
     "text": [
      "[2023-12-06 09:04:53,227][WARNING]: Skipped checksum for file with hash: 8e0fca63-23b3-0ce5-3ad3-b231d77a81f6, and path: /stelmo/nwb/analysis/Yoshi20220516/Yoshi20220516_F65X7GKW8H.nwb\n",
      "WARNING:datajoint:Skipped checksum for file with hash: 8e0fca63-23b3-0ce5-3ad3-b231d77a81f6, and path: /stelmo/nwb/analysis/Yoshi20220516/Yoshi20220516_F65X7GKW8H.nwb\n"
     ]
    },
    {
     "name": "stdout",
     "output_type": "stream",
     "text": [
      "Fast Gamma 65-100 Hz Yoshi20220516_.nwb pos 8 valid times 5e8836a0-f56a-0e31-9f4b-bd128d7725ff\n"
     ]
    },
    {
     "name": "stderr",
     "output_type": "stream",
     "text": [
      "[2023-12-06 09:04:54,176][WARNING]: Skipped checksum for file with hash: 68c45bf7-1364-3b27-0921-93945cb506b7, and path: /stelmo/nwb/analysis/Yoshi20220516/Yoshi20220516_07A4D6MAZE.nwb\n",
      "WARNING:datajoint:Skipped checksum for file with hash: 68c45bf7-1364-3b27-0921-93945cb506b7, and path: /stelmo/nwb/analysis/Yoshi20220516/Yoshi20220516_07A4D6MAZE.nwb\n"
     ]
    },
    {
     "name": "stdout",
     "output_type": "stream",
     "text": [
      "Slow Gamma 25-55 Hz Yoshi20220516_.nwb pos 9 valid times bc518bde-df73-ae29-06e5-251c3da6810b\n"
     ]
    },
    {
     "name": "stderr",
     "output_type": "stream",
     "text": [
      "[2023-12-06 09:04:55,776][WARNING]: Skipped checksum for file with hash: 68c45bf7-1364-3b27-0921-93945cb506b7, and path: /stelmo/nwb/analysis/Yoshi20220516/Yoshi20220516_07A4D6MAZE.nwb\n",
      "WARNING:datajoint:Skipped checksum for file with hash: 68c45bf7-1364-3b27-0921-93945cb506b7, and path: /stelmo/nwb/analysis/Yoshi20220516/Yoshi20220516_07A4D6MAZE.nwb\n"
     ]
    },
    {
     "name": "stdout",
     "output_type": "stream",
     "text": [
      "Fast Gamma 65-100 Hz Yoshi20220516_.nwb pos 9 valid times bc518bde-df73-ae29-06e5-251c3da6810b\n"
     ]
    },
    {
     "name": "stderr",
     "output_type": "stream",
     "text": [
      "[2023-12-06 09:04:56,837][WARNING]: Skipped checksum for file with hash: 227a719e-063c-2ce6-8b6d-98644914a8c8, and path: /stelmo/nwb/analysis/Yoshi20220517/Yoshi20220517_LGM0TPR4L1.nwb\n",
      "WARNING:datajoint:Skipped checksum for file with hash: 227a719e-063c-2ce6-8b6d-98644914a8c8, and path: /stelmo/nwb/analysis/Yoshi20220517/Yoshi20220517_LGM0TPR4L1.nwb\n"
     ]
    },
    {
     "name": "stdout",
     "output_type": "stream",
     "text": [
      "Slow Gamma 25-55 Hz Yoshi20220517_.nwb pos 0 valid times fcb7f461-b0b6-051f-8562-7ed8dda38d7c\n"
     ]
    },
    {
     "name": "stderr",
     "output_type": "stream",
     "text": [
      "[2023-12-06 09:04:58,511][WARNING]: Skipped checksum for file with hash: 227a719e-063c-2ce6-8b6d-98644914a8c8, and path: /stelmo/nwb/analysis/Yoshi20220517/Yoshi20220517_LGM0TPR4L1.nwb\n",
      "WARNING:datajoint:Skipped checksum for file with hash: 227a719e-063c-2ce6-8b6d-98644914a8c8, and path: /stelmo/nwb/analysis/Yoshi20220517/Yoshi20220517_LGM0TPR4L1.nwb\n"
     ]
    },
    {
     "name": "stdout",
     "output_type": "stream",
     "text": [
      "Fast Gamma 65-100 Hz Yoshi20220517_.nwb pos 0 valid times fcb7f461-b0b6-051f-8562-7ed8dda38d7c\n"
     ]
    },
    {
     "name": "stderr",
     "output_type": "stream",
     "text": [
      "[2023-12-06 09:04:59,531][WARNING]: Skipped checksum for file with hash: b5c8ba14-a30f-2411-dc9e-74d015d4055a, and path: /stelmo/nwb/analysis/Yoshi20220517/Yoshi20220517_09KO47PDGV.nwb\n",
      "WARNING:datajoint:Skipped checksum for file with hash: b5c8ba14-a30f-2411-dc9e-74d015d4055a, and path: /stelmo/nwb/analysis/Yoshi20220517/Yoshi20220517_09KO47PDGV.nwb\n"
     ]
    },
    {
     "name": "stdout",
     "output_type": "stream",
     "text": [
      "Slow Gamma 25-55 Hz Yoshi20220517_.nwb pos 1 valid times 7352df94-828b-f51d-8404-f99434882835\n"
     ]
    },
    {
     "name": "stderr",
     "output_type": "stream",
     "text": [
      "[2023-12-06 09:05:01,127][WARNING]: Skipped checksum for file with hash: b5c8ba14-a30f-2411-dc9e-74d015d4055a, and path: /stelmo/nwb/analysis/Yoshi20220517/Yoshi20220517_09KO47PDGV.nwb\n",
      "WARNING:datajoint:Skipped checksum for file with hash: b5c8ba14-a30f-2411-dc9e-74d015d4055a, and path: /stelmo/nwb/analysis/Yoshi20220517/Yoshi20220517_09KO47PDGV.nwb\n"
     ]
    },
    {
     "name": "stdout",
     "output_type": "stream",
     "text": [
      "Fast Gamma 65-100 Hz Yoshi20220517_.nwb pos 1 valid times 7352df94-828b-f51d-8404-f99434882835\n"
     ]
    },
    {
     "name": "stderr",
     "output_type": "stream",
     "text": [
      "[2023-12-06 09:05:02,110][WARNING]: Skipped checksum for file with hash: ef4cc4f7-bd52-e0ce-38be-3c333409f19e, and path: /stelmo/nwb/analysis/Yoshi20220517/Yoshi20220517_F12GVYKDBE.nwb\n",
      "WARNING:datajoint:Skipped checksum for file with hash: ef4cc4f7-bd52-e0ce-38be-3c333409f19e, and path: /stelmo/nwb/analysis/Yoshi20220517/Yoshi20220517_F12GVYKDBE.nwb\n"
     ]
    },
    {
     "name": "stdout",
     "output_type": "stream",
     "text": [
      "Slow Gamma 25-55 Hz Yoshi20220517_.nwb pos 10 valid times 04f89b54-c234-e3a9-c7c7-359c2381b674\n"
     ]
    },
    {
     "name": "stderr",
     "output_type": "stream",
     "text": [
      "[2023-12-06 09:05:03,727][WARNING]: Skipped checksum for file with hash: ef4cc4f7-bd52-e0ce-38be-3c333409f19e, and path: /stelmo/nwb/analysis/Yoshi20220517/Yoshi20220517_F12GVYKDBE.nwb\n",
      "WARNING:datajoint:Skipped checksum for file with hash: ef4cc4f7-bd52-e0ce-38be-3c333409f19e, and path: /stelmo/nwb/analysis/Yoshi20220517/Yoshi20220517_F12GVYKDBE.nwb\n"
     ]
    },
    {
     "name": "stdout",
     "output_type": "stream",
     "text": [
      "Fast Gamma 65-100 Hz Yoshi20220517_.nwb pos 10 valid times 04f89b54-c234-e3a9-c7c7-359c2381b674\n"
     ]
    },
    {
     "name": "stderr",
     "output_type": "stream",
     "text": [
      "[2023-12-06 09:05:04,744][WARNING]: Skipped checksum for file with hash: e1cb7821-92a8-b51b-f7fa-85a34e851522, and path: /stelmo/nwb/analysis/Yoshi20220517/Yoshi20220517_ZLDD2TFB73.nwb\n",
      "WARNING:datajoint:Skipped checksum for file with hash: e1cb7821-92a8-b51b-f7fa-85a34e851522, and path: /stelmo/nwb/analysis/Yoshi20220517/Yoshi20220517_ZLDD2TFB73.nwb\n"
     ]
    },
    {
     "name": "stdout",
     "output_type": "stream",
     "text": [
      "Slow Gamma 25-55 Hz Yoshi20220517_.nwb pos 11 valid times 67b68be9-93b5-816b-3acd-c9ce3d489abe\n"
     ]
    },
    {
     "name": "stderr",
     "output_type": "stream",
     "text": [
      "[2023-12-06 09:05:06,367][WARNING]: Skipped checksum for file with hash: e1cb7821-92a8-b51b-f7fa-85a34e851522, and path: /stelmo/nwb/analysis/Yoshi20220517/Yoshi20220517_ZLDD2TFB73.nwb\n",
      "WARNING:datajoint:Skipped checksum for file with hash: e1cb7821-92a8-b51b-f7fa-85a34e851522, and path: /stelmo/nwb/analysis/Yoshi20220517/Yoshi20220517_ZLDD2TFB73.nwb\n"
     ]
    },
    {
     "name": "stdout",
     "output_type": "stream",
     "text": [
      "Fast Gamma 65-100 Hz Yoshi20220517_.nwb pos 11 valid times 67b68be9-93b5-816b-3acd-c9ce3d489abe\n"
     ]
    },
    {
     "name": "stderr",
     "output_type": "stream",
     "text": [
      "[2023-12-06 09:05:07,358][WARNING]: Skipped checksum for file with hash: 9f40caa7-8226-56e9-8ba9-e3bc6ff7e923, and path: /stelmo/nwb/analysis/Yoshi20220517/Yoshi20220517_KK0XFLCUG9.nwb\n",
      "WARNING:datajoint:Skipped checksum for file with hash: 9f40caa7-8226-56e9-8ba9-e3bc6ff7e923, and path: /stelmo/nwb/analysis/Yoshi20220517/Yoshi20220517_KK0XFLCUG9.nwb\n"
     ]
    },
    {
     "name": "stdout",
     "output_type": "stream",
     "text": [
      "Slow Gamma 25-55 Hz Yoshi20220517_.nwb pos 12 valid times 906853c7-acf9-ad50-dd45-5a032aae10b1\n"
     ]
    },
    {
     "name": "stderr",
     "output_type": "stream",
     "text": [
      "[2023-12-06 09:05:08,930][WARNING]: Skipped checksum for file with hash: 9f40caa7-8226-56e9-8ba9-e3bc6ff7e923, and path: /stelmo/nwb/analysis/Yoshi20220517/Yoshi20220517_KK0XFLCUG9.nwb\n",
      "WARNING:datajoint:Skipped checksum for file with hash: 9f40caa7-8226-56e9-8ba9-e3bc6ff7e923, and path: /stelmo/nwb/analysis/Yoshi20220517/Yoshi20220517_KK0XFLCUG9.nwb\n"
     ]
    },
    {
     "name": "stdout",
     "output_type": "stream",
     "text": [
      "Fast Gamma 65-100 Hz Yoshi20220517_.nwb pos 12 valid times 906853c7-acf9-ad50-dd45-5a032aae10b1\n"
     ]
    },
    {
     "name": "stderr",
     "output_type": "stream",
     "text": [
      "[2023-12-06 09:05:09,864][WARNING]: Skipped checksum for file with hash: 3eafd493-03e7-f84c-7d06-448207415f43, and path: /stelmo/nwb/analysis/Yoshi20220517/Yoshi20220517_BSNDCSD2NK.nwb\n",
      "WARNING:datajoint:Skipped checksum for file with hash: 3eafd493-03e7-f84c-7d06-448207415f43, and path: /stelmo/nwb/analysis/Yoshi20220517/Yoshi20220517_BSNDCSD2NK.nwb\n"
     ]
    },
    {
     "name": "stdout",
     "output_type": "stream",
     "text": [
      "Slow Gamma 25-55 Hz Yoshi20220517_.nwb pos 13 valid times 45dd57bb-e6e4-3148-ece0-5762c91f4b3f\n"
     ]
    },
    {
     "name": "stderr",
     "output_type": "stream",
     "text": [
      "[2023-12-06 09:05:11,439][WARNING]: Skipped checksum for file with hash: 3eafd493-03e7-f84c-7d06-448207415f43, and path: /stelmo/nwb/analysis/Yoshi20220517/Yoshi20220517_BSNDCSD2NK.nwb\n",
      "WARNING:datajoint:Skipped checksum for file with hash: 3eafd493-03e7-f84c-7d06-448207415f43, and path: /stelmo/nwb/analysis/Yoshi20220517/Yoshi20220517_BSNDCSD2NK.nwb\n"
     ]
    },
    {
     "name": "stdout",
     "output_type": "stream",
     "text": [
      "Fast Gamma 65-100 Hz Yoshi20220517_.nwb pos 13 valid times 45dd57bb-e6e4-3148-ece0-5762c91f4b3f\n"
     ]
    },
    {
     "name": "stderr",
     "output_type": "stream",
     "text": [
      "[2023-12-06 09:05:12,385][WARNING]: Skipped checksum for file with hash: 747b8453-1fc3-9a80-aec5-6cf681e50343, and path: /stelmo/nwb/analysis/Yoshi20220517/Yoshi20220517_UR8BCNIU5H.nwb\n",
      "WARNING:datajoint:Skipped checksum for file with hash: 747b8453-1fc3-9a80-aec5-6cf681e50343, and path: /stelmo/nwb/analysis/Yoshi20220517/Yoshi20220517_UR8BCNIU5H.nwb\n"
     ]
    },
    {
     "name": "stdout",
     "output_type": "stream",
     "text": [
      "Slow Gamma 25-55 Hz Yoshi20220517_.nwb pos 14 valid times 7d45bdee-fef7-b3c0-e359-d5a80c0cd169\n"
     ]
    },
    {
     "name": "stderr",
     "output_type": "stream",
     "text": [
      "[2023-12-06 09:05:13,925][WARNING]: Skipped checksum for file with hash: 747b8453-1fc3-9a80-aec5-6cf681e50343, and path: /stelmo/nwb/analysis/Yoshi20220517/Yoshi20220517_UR8BCNIU5H.nwb\n",
      "WARNING:datajoint:Skipped checksum for file with hash: 747b8453-1fc3-9a80-aec5-6cf681e50343, and path: /stelmo/nwb/analysis/Yoshi20220517/Yoshi20220517_UR8BCNIU5H.nwb\n"
     ]
    },
    {
     "name": "stdout",
     "output_type": "stream",
     "text": [
      "Fast Gamma 65-100 Hz Yoshi20220517_.nwb pos 14 valid times 7d45bdee-fef7-b3c0-e359-d5a80c0cd169\n"
     ]
    },
    {
     "name": "stderr",
     "output_type": "stream",
     "text": [
      "[2023-12-06 09:05:14,862][WARNING]: Skipped checksum for file with hash: 689bc3ac-c488-97a6-338d-7ac54d823d07, and path: /stelmo/nwb/analysis/Yoshi20220517/Yoshi20220517_CLUBTYFP3B.nwb\n",
      "WARNING:datajoint:Skipped checksum for file with hash: 689bc3ac-c488-97a6-338d-7ac54d823d07, and path: /stelmo/nwb/analysis/Yoshi20220517/Yoshi20220517_CLUBTYFP3B.nwb\n"
     ]
    },
    {
     "name": "stdout",
     "output_type": "stream",
     "text": [
      "Slow Gamma 25-55 Hz Yoshi20220517_.nwb pos 15 valid times 56d4be17-5181-b361-7163-b9ff7220446f\n"
     ]
    },
    {
     "name": "stderr",
     "output_type": "stream",
     "text": [
      "[2023-12-06 09:05:16,439][WARNING]: Skipped checksum for file with hash: 689bc3ac-c488-97a6-338d-7ac54d823d07, and path: /stelmo/nwb/analysis/Yoshi20220517/Yoshi20220517_CLUBTYFP3B.nwb\n",
      "WARNING:datajoint:Skipped checksum for file with hash: 689bc3ac-c488-97a6-338d-7ac54d823d07, and path: /stelmo/nwb/analysis/Yoshi20220517/Yoshi20220517_CLUBTYFP3B.nwb\n"
     ]
    },
    {
     "name": "stdout",
     "output_type": "stream",
     "text": [
      "Fast Gamma 65-100 Hz Yoshi20220517_.nwb pos 15 valid times 56d4be17-5181-b361-7163-b9ff7220446f\n"
     ]
    },
    {
     "name": "stderr",
     "output_type": "stream",
     "text": [
      "[2023-12-06 09:05:17,439][WARNING]: Skipped checksum for file with hash: 204b13a3-adec-df39-3198-b1864bdd43f0, and path: /stelmo/nwb/analysis/Yoshi20220517/Yoshi20220517_7VFOL1VNLI.nwb\n",
      "WARNING:datajoint:Skipped checksum for file with hash: 204b13a3-adec-df39-3198-b1864bdd43f0, and path: /stelmo/nwb/analysis/Yoshi20220517/Yoshi20220517_7VFOL1VNLI.nwb\n"
     ]
    },
    {
     "name": "stdout",
     "output_type": "stream",
     "text": [
      "Slow Gamma 25-55 Hz Yoshi20220517_.nwb pos 16 valid times 7a0927fe-5d50-fdbc-e49c-0269e85773ad\n"
     ]
    },
    {
     "name": "stderr",
     "output_type": "stream",
     "text": [
      "[2023-12-06 09:05:18,976][WARNING]: Skipped checksum for file with hash: 204b13a3-adec-df39-3198-b1864bdd43f0, and path: /stelmo/nwb/analysis/Yoshi20220517/Yoshi20220517_7VFOL1VNLI.nwb\n",
      "WARNING:datajoint:Skipped checksum for file with hash: 204b13a3-adec-df39-3198-b1864bdd43f0, and path: /stelmo/nwb/analysis/Yoshi20220517/Yoshi20220517_7VFOL1VNLI.nwb\n"
     ]
    },
    {
     "name": "stdout",
     "output_type": "stream",
     "text": [
      "Fast Gamma 65-100 Hz Yoshi20220517_.nwb pos 16 valid times 7a0927fe-5d50-fdbc-e49c-0269e85773ad\n"
     ]
    },
    {
     "name": "stderr",
     "output_type": "stream",
     "text": [
      "[2023-12-06 09:05:20,005][WARNING]: Skipped checksum for file with hash: ba01df8c-79e0-07bc-3232-b37ec515cd26, and path: /stelmo/nwb/analysis/Yoshi20220517/Yoshi20220517_F9CTAY6LXL.nwb\n",
      "WARNING:datajoint:Skipped checksum for file with hash: ba01df8c-79e0-07bc-3232-b37ec515cd26, and path: /stelmo/nwb/analysis/Yoshi20220517/Yoshi20220517_F9CTAY6LXL.nwb\n"
     ]
    },
    {
     "name": "stdout",
     "output_type": "stream",
     "text": [
      "Slow Gamma 25-55 Hz Yoshi20220517_.nwb pos 2 valid times 2533544b-2779-658b-f37c-e1512dc371c6\n"
     ]
    },
    {
     "name": "stderr",
     "output_type": "stream",
     "text": [
      "[2023-12-06 09:05:21,612][WARNING]: Skipped checksum for file with hash: ba01df8c-79e0-07bc-3232-b37ec515cd26, and path: /stelmo/nwb/analysis/Yoshi20220517/Yoshi20220517_F9CTAY6LXL.nwb\n",
      "WARNING:datajoint:Skipped checksum for file with hash: ba01df8c-79e0-07bc-3232-b37ec515cd26, and path: /stelmo/nwb/analysis/Yoshi20220517/Yoshi20220517_F9CTAY6LXL.nwb\n"
     ]
    },
    {
     "name": "stdout",
     "output_type": "stream",
     "text": [
      "Fast Gamma 65-100 Hz Yoshi20220517_.nwb pos 2 valid times 2533544b-2779-658b-f37c-e1512dc371c6\n"
     ]
    },
    {
     "name": "stderr",
     "output_type": "stream",
     "text": [
      "[2023-12-06 09:05:22,640][WARNING]: Skipped checksum for file with hash: 88ced847-278c-aa41-d9fb-cb1e644a2022, and path: /stelmo/nwb/analysis/Yoshi20220517/Yoshi20220517_02TY5DGJD9.nwb\n",
      "WARNING:datajoint:Skipped checksum for file with hash: 88ced847-278c-aa41-d9fb-cb1e644a2022, and path: /stelmo/nwb/analysis/Yoshi20220517/Yoshi20220517_02TY5DGJD9.nwb\n"
     ]
    },
    {
     "name": "stdout",
     "output_type": "stream",
     "text": [
      "Slow Gamma 25-55 Hz Yoshi20220517_.nwb pos 3 valid times f5854cbd-6de6-e488-68b3-5e4139f97f76\n"
     ]
    },
    {
     "name": "stderr",
     "output_type": "stream",
     "text": [
      "[2023-12-06 09:05:24,269][WARNING]: Skipped checksum for file with hash: 88ced847-278c-aa41-d9fb-cb1e644a2022, and path: /stelmo/nwb/analysis/Yoshi20220517/Yoshi20220517_02TY5DGJD9.nwb\n",
      "WARNING:datajoint:Skipped checksum for file with hash: 88ced847-278c-aa41-d9fb-cb1e644a2022, and path: /stelmo/nwb/analysis/Yoshi20220517/Yoshi20220517_02TY5DGJD9.nwb\n"
     ]
    },
    {
     "name": "stdout",
     "output_type": "stream",
     "text": [
      "Fast Gamma 65-100 Hz Yoshi20220517_.nwb pos 3 valid times f5854cbd-6de6-e488-68b3-5e4139f97f76\n"
     ]
    },
    {
     "name": "stderr",
     "output_type": "stream",
     "text": [
      "[2023-12-06 09:05:25,320][WARNING]: Skipped checksum for file with hash: 0ba5bcf1-93be-6c26-74e1-cf29c413ba02, and path: /stelmo/nwb/analysis/Yoshi20220517/Yoshi20220517_2C76V0261L.nwb\n",
      "WARNING:datajoint:Skipped checksum for file with hash: 0ba5bcf1-93be-6c26-74e1-cf29c413ba02, and path: /stelmo/nwb/analysis/Yoshi20220517/Yoshi20220517_2C76V0261L.nwb\n"
     ]
    },
    {
     "name": "stdout",
     "output_type": "stream",
     "text": [
      "Slow Gamma 25-55 Hz Yoshi20220517_.nwb pos 4 valid times 4becc2a4-1002-adc8-ff19-5f339c7cc958\n"
     ]
    },
    {
     "name": "stderr",
     "output_type": "stream",
     "text": [
      "[2023-12-06 09:05:26,996][WARNING]: Skipped checksum for file with hash: 0ba5bcf1-93be-6c26-74e1-cf29c413ba02, and path: /stelmo/nwb/analysis/Yoshi20220517/Yoshi20220517_2C76V0261L.nwb\n",
      "WARNING:datajoint:Skipped checksum for file with hash: 0ba5bcf1-93be-6c26-74e1-cf29c413ba02, and path: /stelmo/nwb/analysis/Yoshi20220517/Yoshi20220517_2C76V0261L.nwb\n"
     ]
    },
    {
     "name": "stdout",
     "output_type": "stream",
     "text": [
      "Fast Gamma 65-100 Hz Yoshi20220517_.nwb pos 4 valid times 4becc2a4-1002-adc8-ff19-5f339c7cc958\n"
     ]
    },
    {
     "name": "stderr",
     "output_type": "stream",
     "text": [
      "[2023-12-06 09:05:28,094][WARNING]: Skipped checksum for file with hash: 70e56ba8-caf6-27ab-56aa-b3fb5c6bfd84, and path: /stelmo/nwb/analysis/Yoshi20220517/Yoshi20220517_UEEDEW6WN2.nwb\n",
      "WARNING:datajoint:Skipped checksum for file with hash: 70e56ba8-caf6-27ab-56aa-b3fb5c6bfd84, and path: /stelmo/nwb/analysis/Yoshi20220517/Yoshi20220517_UEEDEW6WN2.nwb\n"
     ]
    },
    {
     "name": "stdout",
     "output_type": "stream",
     "text": [
      "Slow Gamma 25-55 Hz Yoshi20220517_.nwb pos 5 valid times 747bbe0c-c4c0-f0c1-07e1-7a87130a65de\n"
     ]
    },
    {
     "name": "stderr",
     "output_type": "stream",
     "text": [
      "[2023-12-06 09:05:29,701][WARNING]: Skipped checksum for file with hash: 70e56ba8-caf6-27ab-56aa-b3fb5c6bfd84, and path: /stelmo/nwb/analysis/Yoshi20220517/Yoshi20220517_UEEDEW6WN2.nwb\n",
      "WARNING:datajoint:Skipped checksum for file with hash: 70e56ba8-caf6-27ab-56aa-b3fb5c6bfd84, and path: /stelmo/nwb/analysis/Yoshi20220517/Yoshi20220517_UEEDEW6WN2.nwb\n"
     ]
    },
    {
     "name": "stdout",
     "output_type": "stream",
     "text": [
      "Fast Gamma 65-100 Hz Yoshi20220517_.nwb pos 5 valid times 747bbe0c-c4c0-f0c1-07e1-7a87130a65de\n"
     ]
    },
    {
     "name": "stderr",
     "output_type": "stream",
     "text": [
      "[2023-12-06 09:05:30,759][WARNING]: Skipped checksum for file with hash: be6c72e6-e0c6-1d3f-d963-2be83aaf78d2, and path: /stelmo/nwb/analysis/Yoshi20220517/Yoshi20220517_2K8T8P9NSV.nwb\n",
      "WARNING:datajoint:Skipped checksum for file with hash: be6c72e6-e0c6-1d3f-d963-2be83aaf78d2, and path: /stelmo/nwb/analysis/Yoshi20220517/Yoshi20220517_2K8T8P9NSV.nwb\n"
     ]
    },
    {
     "name": "stdout",
     "output_type": "stream",
     "text": [
      "Slow Gamma 25-55 Hz Yoshi20220517_.nwb pos 6 valid times 04ca642b-15dd-a44b-8720-d3feee747cb8\n"
     ]
    },
    {
     "name": "stderr",
     "output_type": "stream",
     "text": [
      "[2023-12-06 09:05:32,393][WARNING]: Skipped checksum for file with hash: be6c72e6-e0c6-1d3f-d963-2be83aaf78d2, and path: /stelmo/nwb/analysis/Yoshi20220517/Yoshi20220517_2K8T8P9NSV.nwb\n",
      "WARNING:datajoint:Skipped checksum for file with hash: be6c72e6-e0c6-1d3f-d963-2be83aaf78d2, and path: /stelmo/nwb/analysis/Yoshi20220517/Yoshi20220517_2K8T8P9NSV.nwb\n"
     ]
    },
    {
     "name": "stdout",
     "output_type": "stream",
     "text": [
      "Fast Gamma 65-100 Hz Yoshi20220517_.nwb pos 6 valid times 04ca642b-15dd-a44b-8720-d3feee747cb8\n"
     ]
    },
    {
     "name": "stderr",
     "output_type": "stream",
     "text": [
      "[2023-12-06 09:05:33,447][WARNING]: Skipped checksum for file with hash: 91140f87-d2b7-5c09-4df9-d5e07376d16c, and path: /stelmo/nwb/analysis/Yoshi20220517/Yoshi20220517_CM6Q8PKCZD.nwb\n",
      "WARNING:datajoint:Skipped checksum for file with hash: 91140f87-d2b7-5c09-4df9-d5e07376d16c, and path: /stelmo/nwb/analysis/Yoshi20220517/Yoshi20220517_CM6Q8PKCZD.nwb\n"
     ]
    },
    {
     "name": "stdout",
     "output_type": "stream",
     "text": [
      "Slow Gamma 25-55 Hz Yoshi20220517_.nwb pos 7 valid times d31353d8-d511-a91d-aab5-4da3880b3ec5\n"
     ]
    },
    {
     "name": "stderr",
     "output_type": "stream",
     "text": [
      "[2023-12-06 09:05:35,049][WARNING]: Skipped checksum for file with hash: 91140f87-d2b7-5c09-4df9-d5e07376d16c, and path: /stelmo/nwb/analysis/Yoshi20220517/Yoshi20220517_CM6Q8PKCZD.nwb\n",
      "WARNING:datajoint:Skipped checksum for file with hash: 91140f87-d2b7-5c09-4df9-d5e07376d16c, and path: /stelmo/nwb/analysis/Yoshi20220517/Yoshi20220517_CM6Q8PKCZD.nwb\n"
     ]
    },
    {
     "name": "stdout",
     "output_type": "stream",
     "text": [
      "Fast Gamma 65-100 Hz Yoshi20220517_.nwb pos 7 valid times d31353d8-d511-a91d-aab5-4da3880b3ec5\n"
     ]
    },
    {
     "name": "stderr",
     "output_type": "stream",
     "text": [
      "[2023-12-06 09:05:36,060][WARNING]: Skipped checksum for file with hash: 6f8d6e91-e6b7-6cb5-0e44-d738d7be1303, and path: /stelmo/nwb/analysis/Yoshi20220517/Yoshi20220517_BEVM2HS7OW.nwb\n",
      "WARNING:datajoint:Skipped checksum for file with hash: 6f8d6e91-e6b7-6cb5-0e44-d738d7be1303, and path: /stelmo/nwb/analysis/Yoshi20220517/Yoshi20220517_BEVM2HS7OW.nwb\n"
     ]
    },
    {
     "name": "stdout",
     "output_type": "stream",
     "text": [
      "Slow Gamma 25-55 Hz Yoshi20220517_.nwb pos 8 valid times d1ca1f32-40e0-9e92-3e7b-3b4b0d87319b\n"
     ]
    },
    {
     "name": "stderr",
     "output_type": "stream",
     "text": [
      "[2023-12-06 09:05:37,668][WARNING]: Skipped checksum for file with hash: 6f8d6e91-e6b7-6cb5-0e44-d738d7be1303, and path: /stelmo/nwb/analysis/Yoshi20220517/Yoshi20220517_BEVM2HS7OW.nwb\n",
      "WARNING:datajoint:Skipped checksum for file with hash: 6f8d6e91-e6b7-6cb5-0e44-d738d7be1303, and path: /stelmo/nwb/analysis/Yoshi20220517/Yoshi20220517_BEVM2HS7OW.nwb\n"
     ]
    },
    {
     "name": "stdout",
     "output_type": "stream",
     "text": [
      "Fast Gamma 65-100 Hz Yoshi20220517_.nwb pos 8 valid times d1ca1f32-40e0-9e92-3e7b-3b4b0d87319b\n"
     ]
    },
    {
     "name": "stderr",
     "output_type": "stream",
     "text": [
      "[2023-12-06 09:05:38,637][WARNING]: Skipped checksum for file with hash: bfe5fa98-4ada-783e-03da-89dd62fa469b, and path: /stelmo/nwb/analysis/Yoshi20220517/Yoshi20220517_HJY190HJG1.nwb\n",
      "WARNING:datajoint:Skipped checksum for file with hash: bfe5fa98-4ada-783e-03da-89dd62fa469b, and path: /stelmo/nwb/analysis/Yoshi20220517/Yoshi20220517_HJY190HJG1.nwb\n"
     ]
    },
    {
     "name": "stdout",
     "output_type": "stream",
     "text": [
      "Slow Gamma 25-55 Hz Yoshi20220517_.nwb pos 9 valid times d6f5f7d1-3998-4016-69ca-828e78c28396\n"
     ]
    },
    {
     "name": "stderr",
     "output_type": "stream",
     "text": [
      "[2023-12-06 09:05:40,257][WARNING]: Skipped checksum for file with hash: bfe5fa98-4ada-783e-03da-89dd62fa469b, and path: /stelmo/nwb/analysis/Yoshi20220517/Yoshi20220517_HJY190HJG1.nwb\n",
      "WARNING:datajoint:Skipped checksum for file with hash: bfe5fa98-4ada-783e-03da-89dd62fa469b, and path: /stelmo/nwb/analysis/Yoshi20220517/Yoshi20220517_HJY190HJG1.nwb\n"
     ]
    },
    {
     "name": "stdout",
     "output_type": "stream",
     "text": [
      "Fast Gamma 65-100 Hz Yoshi20220517_.nwb pos 9 valid times d6f5f7d1-3998-4016-69ca-828e78c28396\n"
     ]
    },
    {
     "name": "stderr",
     "output_type": "stream",
     "text": [
      "[2023-12-06 09:05:41,614][WARNING]: Skipped checksum for file with hash: 39c6f42c-07b0-d0be-8e5a-6b6a90c5aafd, and path: /stelmo/nwb/analysis/Yoshi20220518/Yoshi20220518_ELDK5RSHGB.nwb\n",
      "WARNING:datajoint:Skipped checksum for file with hash: 39c6f42c-07b0-d0be-8e5a-6b6a90c5aafd, and path: /stelmo/nwb/analysis/Yoshi20220518/Yoshi20220518_ELDK5RSHGB.nwb\n"
     ]
    },
    {
     "name": "stdout",
     "output_type": "stream",
     "text": [
      "Slow Gamma 25-55 Hz Yoshi20220518_.nwb pos 0 valid times 65675754-6472-95a8-f101-dae92ef14e20\n"
     ]
    },
    {
     "name": "stderr",
     "output_type": "stream",
     "text": [
      "[2023-12-06 09:05:43,269][WARNING]: Skipped checksum for file with hash: 39c6f42c-07b0-d0be-8e5a-6b6a90c5aafd, and path: /stelmo/nwb/analysis/Yoshi20220518/Yoshi20220518_ELDK5RSHGB.nwb\n",
      "WARNING:datajoint:Skipped checksum for file with hash: 39c6f42c-07b0-d0be-8e5a-6b6a90c5aafd, and path: /stelmo/nwb/analysis/Yoshi20220518/Yoshi20220518_ELDK5RSHGB.nwb\n"
     ]
    },
    {
     "name": "stdout",
     "output_type": "stream",
     "text": [
      "Fast Gamma 65-100 Hz Yoshi20220518_.nwb pos 0 valid times 65675754-6472-95a8-f101-dae92ef14e20\n"
     ]
    },
    {
     "name": "stderr",
     "output_type": "stream",
     "text": [
      "[2023-12-06 09:05:44,288][WARNING]: Skipped checksum for file with hash: f47024a3-27a2-b49f-87a3-f87d09544c84, and path: /stelmo/nwb/analysis/Yoshi20220518/Yoshi20220518_V8OU7LG0XT.nwb\n",
      "WARNING:datajoint:Skipped checksum for file with hash: f47024a3-27a2-b49f-87a3-f87d09544c84, and path: /stelmo/nwb/analysis/Yoshi20220518/Yoshi20220518_V8OU7LG0XT.nwb\n"
     ]
    },
    {
     "name": "stdout",
     "output_type": "stream",
     "text": [
      "Slow Gamma 25-55 Hz Yoshi20220518_.nwb pos 1 valid times 03e853c1-2a2b-1843-b75a-b4e00b4f0c3b\n"
     ]
    },
    {
     "name": "stderr",
     "output_type": "stream",
     "text": [
      "[2023-12-06 09:05:45,782][WARNING]: Skipped checksum for file with hash: f47024a3-27a2-b49f-87a3-f87d09544c84, and path: /stelmo/nwb/analysis/Yoshi20220518/Yoshi20220518_V8OU7LG0XT.nwb\n",
      "WARNING:datajoint:Skipped checksum for file with hash: f47024a3-27a2-b49f-87a3-f87d09544c84, and path: /stelmo/nwb/analysis/Yoshi20220518/Yoshi20220518_V8OU7LG0XT.nwb\n"
     ]
    },
    {
     "name": "stdout",
     "output_type": "stream",
     "text": [
      "Fast Gamma 65-100 Hz Yoshi20220518_.nwb pos 1 valid times 03e853c1-2a2b-1843-b75a-b4e00b4f0c3b\n"
     ]
    },
    {
     "name": "stderr",
     "output_type": "stream",
     "text": [
      "[2023-12-06 09:05:46,843][WARNING]: Skipped checksum for file with hash: 4a193a71-b990-95ff-bfb4-dd739dedaf28, and path: /stelmo/nwb/analysis/Yoshi20220518/Yoshi20220518_R34XO199WA.nwb\n",
      "WARNING:datajoint:Skipped checksum for file with hash: 4a193a71-b990-95ff-bfb4-dd739dedaf28, and path: /stelmo/nwb/analysis/Yoshi20220518/Yoshi20220518_R34XO199WA.nwb\n"
     ]
    },
    {
     "name": "stdout",
     "output_type": "stream",
     "text": [
      "Slow Gamma 25-55 Hz Yoshi20220518_.nwb pos 10 valid times 22a893f6-26b6-c7bc-8834-ce0d77c703dd\n"
     ]
    },
    {
     "name": "stderr",
     "output_type": "stream",
     "text": [
      "[2023-12-06 09:05:48,473][WARNING]: Skipped checksum for file with hash: 4a193a71-b990-95ff-bfb4-dd739dedaf28, and path: /stelmo/nwb/analysis/Yoshi20220518/Yoshi20220518_R34XO199WA.nwb\n",
      "WARNING:datajoint:Skipped checksum for file with hash: 4a193a71-b990-95ff-bfb4-dd739dedaf28, and path: /stelmo/nwb/analysis/Yoshi20220518/Yoshi20220518_R34XO199WA.nwb\n"
     ]
    },
    {
     "name": "stdout",
     "output_type": "stream",
     "text": [
      "Fast Gamma 65-100 Hz Yoshi20220518_.nwb pos 10 valid times 22a893f6-26b6-c7bc-8834-ce0d77c703dd\n"
     ]
    },
    {
     "name": "stderr",
     "output_type": "stream",
     "text": [
      "[2023-12-06 09:05:49,523][WARNING]: Skipped checksum for file with hash: 4b111ba6-6194-892d-a717-3c95adb8be32, and path: /stelmo/nwb/analysis/Yoshi20220518/Yoshi20220518_KLK34P5ZSZ.nwb\n",
      "WARNING:datajoint:Skipped checksum for file with hash: 4b111ba6-6194-892d-a717-3c95adb8be32, and path: /stelmo/nwb/analysis/Yoshi20220518/Yoshi20220518_KLK34P5ZSZ.nwb\n"
     ]
    },
    {
     "name": "stdout",
     "output_type": "stream",
     "text": [
      "Slow Gamma 25-55 Hz Yoshi20220518_.nwb pos 11 valid times af891871-907c-1219-38bb-40f8147351d2\n"
     ]
    },
    {
     "name": "stderr",
     "output_type": "stream",
     "text": [
      "[2023-12-06 09:05:51,168][WARNING]: Skipped checksum for file with hash: 4b111ba6-6194-892d-a717-3c95adb8be32, and path: /stelmo/nwb/analysis/Yoshi20220518/Yoshi20220518_KLK34P5ZSZ.nwb\n",
      "WARNING:datajoint:Skipped checksum for file with hash: 4b111ba6-6194-892d-a717-3c95adb8be32, and path: /stelmo/nwb/analysis/Yoshi20220518/Yoshi20220518_KLK34P5ZSZ.nwb\n"
     ]
    },
    {
     "name": "stdout",
     "output_type": "stream",
     "text": [
      "Fast Gamma 65-100 Hz Yoshi20220518_.nwb pos 11 valid times af891871-907c-1219-38bb-40f8147351d2\n"
     ]
    },
    {
     "name": "stderr",
     "output_type": "stream",
     "text": [
      "[2023-12-06 09:05:52,208][WARNING]: Skipped checksum for file with hash: 1d9171a9-befe-0086-f4af-85cbaadbbad0, and path: /stelmo/nwb/analysis/Yoshi20220518/Yoshi20220518_RBR5C46YBJ.nwb\n",
      "WARNING:datajoint:Skipped checksum for file with hash: 1d9171a9-befe-0086-f4af-85cbaadbbad0, and path: /stelmo/nwb/analysis/Yoshi20220518/Yoshi20220518_RBR5C46YBJ.nwb\n"
     ]
    },
    {
     "name": "stdout",
     "output_type": "stream",
     "text": [
      "Slow Gamma 25-55 Hz Yoshi20220518_.nwb pos 12 valid times ae5d8eac-3d7b-bd68-03c6-b45b6beb2c23\n"
     ]
    },
    {
     "name": "stderr",
     "output_type": "stream",
     "text": [
      "[2023-12-06 09:05:53,739][WARNING]: Skipped checksum for file with hash: 1d9171a9-befe-0086-f4af-85cbaadbbad0, and path: /stelmo/nwb/analysis/Yoshi20220518/Yoshi20220518_RBR5C46YBJ.nwb\n",
      "WARNING:datajoint:Skipped checksum for file with hash: 1d9171a9-befe-0086-f4af-85cbaadbbad0, and path: /stelmo/nwb/analysis/Yoshi20220518/Yoshi20220518_RBR5C46YBJ.nwb\n"
     ]
    },
    {
     "name": "stdout",
     "output_type": "stream",
     "text": [
      "Fast Gamma 65-100 Hz Yoshi20220518_.nwb pos 12 valid times ae5d8eac-3d7b-bd68-03c6-b45b6beb2c23\n"
     ]
    },
    {
     "name": "stderr",
     "output_type": "stream",
     "text": [
      "[2023-12-06 09:05:54,771][WARNING]: Skipped checksum for file with hash: a8686b44-9429-f7e3-ca4d-5780aa5456e7, and path: /stelmo/nwb/analysis/Yoshi20220518/Yoshi20220518_41UQKOP48K.nwb\n",
      "WARNING:datajoint:Skipped checksum for file with hash: a8686b44-9429-f7e3-ca4d-5780aa5456e7, and path: /stelmo/nwb/analysis/Yoshi20220518/Yoshi20220518_41UQKOP48K.nwb\n"
     ]
    },
    {
     "name": "stdout",
     "output_type": "stream",
     "text": [
      "Slow Gamma 25-55 Hz Yoshi20220518_.nwb pos 13 valid times 4fe1a1a2-68e2-2cd3-5183-b5d42eb40c0e\n"
     ]
    },
    {
     "name": "stderr",
     "output_type": "stream",
     "text": [
      "[2023-12-06 09:05:56,365][WARNING]: Skipped checksum for file with hash: a8686b44-9429-f7e3-ca4d-5780aa5456e7, and path: /stelmo/nwb/analysis/Yoshi20220518/Yoshi20220518_41UQKOP48K.nwb\n",
      "WARNING:datajoint:Skipped checksum for file with hash: a8686b44-9429-f7e3-ca4d-5780aa5456e7, and path: /stelmo/nwb/analysis/Yoshi20220518/Yoshi20220518_41UQKOP48K.nwb\n"
     ]
    },
    {
     "name": "stdout",
     "output_type": "stream",
     "text": [
      "Fast Gamma 65-100 Hz Yoshi20220518_.nwb pos 13 valid times 4fe1a1a2-68e2-2cd3-5183-b5d42eb40c0e\n"
     ]
    },
    {
     "name": "stderr",
     "output_type": "stream",
     "text": [
      "[2023-12-06 09:05:57,322][WARNING]: Skipped checksum for file with hash: 49962be1-6e45-c0bb-1235-904ac215492c, and path: /stelmo/nwb/analysis/Yoshi20220518/Yoshi20220518_WXYAT2WC2I.nwb\n",
      "WARNING:datajoint:Skipped checksum for file with hash: 49962be1-6e45-c0bb-1235-904ac215492c, and path: /stelmo/nwb/analysis/Yoshi20220518/Yoshi20220518_WXYAT2WC2I.nwb\n"
     ]
    },
    {
     "name": "stdout",
     "output_type": "stream",
     "text": [
      "Slow Gamma 25-55 Hz Yoshi20220518_.nwb pos 14 valid times 76a6a338-e058-e1d9-8d63-400bba60d533\n"
     ]
    },
    {
     "name": "stderr",
     "output_type": "stream",
     "text": [
      "[2023-12-06 09:05:58,938][WARNING]: Skipped checksum for file with hash: 49962be1-6e45-c0bb-1235-904ac215492c, and path: /stelmo/nwb/analysis/Yoshi20220518/Yoshi20220518_WXYAT2WC2I.nwb\n",
      "WARNING:datajoint:Skipped checksum for file with hash: 49962be1-6e45-c0bb-1235-904ac215492c, and path: /stelmo/nwb/analysis/Yoshi20220518/Yoshi20220518_WXYAT2WC2I.nwb\n"
     ]
    },
    {
     "name": "stdout",
     "output_type": "stream",
     "text": [
      "Fast Gamma 65-100 Hz Yoshi20220518_.nwb pos 14 valid times 76a6a338-e058-e1d9-8d63-400bba60d533\n"
     ]
    },
    {
     "name": "stderr",
     "output_type": "stream",
     "text": [
      "[2023-12-06 09:06:00,001][WARNING]: Skipped checksum for file with hash: f40aebee-92f0-a5c9-5fc7-abc6d911c914, and path: /stelmo/nwb/analysis/Yoshi20220518/Yoshi20220518_9L6X4PBMQ3.nwb\n",
      "WARNING:datajoint:Skipped checksum for file with hash: f40aebee-92f0-a5c9-5fc7-abc6d911c914, and path: /stelmo/nwb/analysis/Yoshi20220518/Yoshi20220518_9L6X4PBMQ3.nwb\n"
     ]
    },
    {
     "name": "stdout",
     "output_type": "stream",
     "text": [
      "Slow Gamma 25-55 Hz Yoshi20220518_.nwb pos 15 valid times 636c5f77-f9b1-0262-e131-fcaf8dfdb877\n"
     ]
    },
    {
     "name": "stderr",
     "output_type": "stream",
     "text": [
      "[2023-12-06 09:06:01,575][WARNING]: Skipped checksum for file with hash: f40aebee-92f0-a5c9-5fc7-abc6d911c914, and path: /stelmo/nwb/analysis/Yoshi20220518/Yoshi20220518_9L6X4PBMQ3.nwb\n",
      "WARNING:datajoint:Skipped checksum for file with hash: f40aebee-92f0-a5c9-5fc7-abc6d911c914, and path: /stelmo/nwb/analysis/Yoshi20220518/Yoshi20220518_9L6X4PBMQ3.nwb\n"
     ]
    },
    {
     "name": "stdout",
     "output_type": "stream",
     "text": [
      "Fast Gamma 65-100 Hz Yoshi20220518_.nwb pos 15 valid times 636c5f77-f9b1-0262-e131-fcaf8dfdb877\n"
     ]
    },
    {
     "name": "stderr",
     "output_type": "stream",
     "text": [
      "[2023-12-06 09:06:02,616][WARNING]: Skipped checksum for file with hash: 5256b49e-c912-d54b-da8f-1746f117610b, and path: /stelmo/nwb/analysis/Yoshi20220518/Yoshi20220518_3F58RE4IVG.nwb\n",
      "WARNING:datajoint:Skipped checksum for file with hash: 5256b49e-c912-d54b-da8f-1746f117610b, and path: /stelmo/nwb/analysis/Yoshi20220518/Yoshi20220518_3F58RE4IVG.nwb\n"
     ]
    },
    {
     "name": "stdout",
     "output_type": "stream",
     "text": [
      "Slow Gamma 25-55 Hz Yoshi20220518_.nwb pos 16 valid times ac379f07-0774-58bd-138c-c0eedc76f3ab\n"
     ]
    },
    {
     "name": "stderr",
     "output_type": "stream",
     "text": [
      "[2023-12-06 09:06:04,273][WARNING]: Skipped checksum for file with hash: 5256b49e-c912-d54b-da8f-1746f117610b, and path: /stelmo/nwb/analysis/Yoshi20220518/Yoshi20220518_3F58RE4IVG.nwb\n",
      "WARNING:datajoint:Skipped checksum for file with hash: 5256b49e-c912-d54b-da8f-1746f117610b, and path: /stelmo/nwb/analysis/Yoshi20220518/Yoshi20220518_3F58RE4IVG.nwb\n"
     ]
    },
    {
     "name": "stdout",
     "output_type": "stream",
     "text": [
      "Fast Gamma 65-100 Hz Yoshi20220518_.nwb pos 16 valid times ac379f07-0774-58bd-138c-c0eedc76f3ab\n"
     ]
    },
    {
     "name": "stderr",
     "output_type": "stream",
     "text": [
      "[2023-12-06 09:06:05,163][WARNING]: Skipped checksum for file with hash: 8cfa023e-a3c3-5693-f266-3197b458dff1, and path: /stelmo/nwb/analysis/Yoshi20220518/Yoshi20220518_LVMM2IRPLG.nwb\n",
      "WARNING:datajoint:Skipped checksum for file with hash: 8cfa023e-a3c3-5693-f266-3197b458dff1, and path: /stelmo/nwb/analysis/Yoshi20220518/Yoshi20220518_LVMM2IRPLG.nwb\n"
     ]
    },
    {
     "name": "stdout",
     "output_type": "stream",
     "text": [
      "Slow Gamma 25-55 Hz Yoshi20220518_.nwb pos 2 valid times 46319fb3-12ba-5bd3-51f6-969ac9d9290a\n"
     ]
    },
    {
     "name": "stderr",
     "output_type": "stream",
     "text": [
      "[2023-12-06 09:06:06,750][WARNING]: Skipped checksum for file with hash: 8cfa023e-a3c3-5693-f266-3197b458dff1, and path: /stelmo/nwb/analysis/Yoshi20220518/Yoshi20220518_LVMM2IRPLG.nwb\n",
      "WARNING:datajoint:Skipped checksum for file with hash: 8cfa023e-a3c3-5693-f266-3197b458dff1, and path: /stelmo/nwb/analysis/Yoshi20220518/Yoshi20220518_LVMM2IRPLG.nwb\n"
     ]
    },
    {
     "name": "stdout",
     "output_type": "stream",
     "text": [
      "Fast Gamma 65-100 Hz Yoshi20220518_.nwb pos 2 valid times 46319fb3-12ba-5bd3-51f6-969ac9d9290a\n"
     ]
    },
    {
     "name": "stderr",
     "output_type": "stream",
     "text": [
      "[2023-12-06 09:06:07,750][WARNING]: Skipped checksum for file with hash: 927861ed-0227-40d8-3dda-7bffa13d26d0, and path: /stelmo/nwb/analysis/Yoshi20220518/Yoshi20220518_NRU7HJ4RUR.nwb\n",
      "WARNING:datajoint:Skipped checksum for file with hash: 927861ed-0227-40d8-3dda-7bffa13d26d0, and path: /stelmo/nwb/analysis/Yoshi20220518/Yoshi20220518_NRU7HJ4RUR.nwb\n"
     ]
    },
    {
     "name": "stdout",
     "output_type": "stream",
     "text": [
      "Slow Gamma 25-55 Hz Yoshi20220518_.nwb pos 3 valid times 7c4f09bd-9f83-b053-08e0-9bf3d6275486\n"
     ]
    },
    {
     "name": "stderr",
     "output_type": "stream",
     "text": [
      "[2023-12-06 09:06:09,343][WARNING]: Skipped checksum for file with hash: 927861ed-0227-40d8-3dda-7bffa13d26d0, and path: /stelmo/nwb/analysis/Yoshi20220518/Yoshi20220518_NRU7HJ4RUR.nwb\n",
      "WARNING:datajoint:Skipped checksum for file with hash: 927861ed-0227-40d8-3dda-7bffa13d26d0, and path: /stelmo/nwb/analysis/Yoshi20220518/Yoshi20220518_NRU7HJ4RUR.nwb\n"
     ]
    },
    {
     "name": "stdout",
     "output_type": "stream",
     "text": [
      "Fast Gamma 65-100 Hz Yoshi20220518_.nwb pos 3 valid times 7c4f09bd-9f83-b053-08e0-9bf3d6275486\n"
     ]
    },
    {
     "name": "stderr",
     "output_type": "stream",
     "text": [
      "[2023-12-06 09:06:10,347][WARNING]: Skipped checksum for file with hash: 75866a7b-a6ac-7b4f-f03b-4dd9a123f622, and path: /stelmo/nwb/analysis/Yoshi20220518/Yoshi20220518_I5XJDS797E.nwb\n",
      "WARNING:datajoint:Skipped checksum for file with hash: 75866a7b-a6ac-7b4f-f03b-4dd9a123f622, and path: /stelmo/nwb/analysis/Yoshi20220518/Yoshi20220518_I5XJDS797E.nwb\n"
     ]
    },
    {
     "name": "stdout",
     "output_type": "stream",
     "text": [
      "Slow Gamma 25-55 Hz Yoshi20220518_.nwb pos 4 valid times 01b2a8c3-913b-8685-85ce-2e0f1312f090\n"
     ]
    },
    {
     "name": "stderr",
     "output_type": "stream",
     "text": [
      "[2023-12-06 09:06:11,957][WARNING]: Skipped checksum for file with hash: 75866a7b-a6ac-7b4f-f03b-4dd9a123f622, and path: /stelmo/nwb/analysis/Yoshi20220518/Yoshi20220518_I5XJDS797E.nwb\n",
      "WARNING:datajoint:Skipped checksum for file with hash: 75866a7b-a6ac-7b4f-f03b-4dd9a123f622, and path: /stelmo/nwb/analysis/Yoshi20220518/Yoshi20220518_I5XJDS797E.nwb\n"
     ]
    },
    {
     "name": "stdout",
     "output_type": "stream",
     "text": [
      "Fast Gamma 65-100 Hz Yoshi20220518_.nwb pos 4 valid times 01b2a8c3-913b-8685-85ce-2e0f1312f090\n"
     ]
    },
    {
     "name": "stderr",
     "output_type": "stream",
     "text": [
      "[2023-12-06 09:06:12,956][WARNING]: Skipped checksum for file with hash: 596f01ef-6b54-fbc5-f83a-a79d2d9b920b, and path: /stelmo/nwb/analysis/Yoshi20220518/Yoshi20220518_BTCIEIHMG7.nwb\n",
      "WARNING:datajoint:Skipped checksum for file with hash: 596f01ef-6b54-fbc5-f83a-a79d2d9b920b, and path: /stelmo/nwb/analysis/Yoshi20220518/Yoshi20220518_BTCIEIHMG7.nwb\n"
     ]
    },
    {
     "name": "stdout",
     "output_type": "stream",
     "text": [
      "Slow Gamma 25-55 Hz Yoshi20220518_.nwb pos 5 valid times 654beaaf-9aae-67f4-2069-afc215bc55ea\n"
     ]
    },
    {
     "name": "stderr",
     "output_type": "stream",
     "text": [
      "[2023-12-06 09:06:14,732][WARNING]: Skipped checksum for file with hash: 596f01ef-6b54-fbc5-f83a-a79d2d9b920b, and path: /stelmo/nwb/analysis/Yoshi20220518/Yoshi20220518_BTCIEIHMG7.nwb\n",
      "WARNING:datajoint:Skipped checksum for file with hash: 596f01ef-6b54-fbc5-f83a-a79d2d9b920b, and path: /stelmo/nwb/analysis/Yoshi20220518/Yoshi20220518_BTCIEIHMG7.nwb\n"
     ]
    },
    {
     "name": "stdout",
     "output_type": "stream",
     "text": [
      "Fast Gamma 65-100 Hz Yoshi20220518_.nwb pos 5 valid times 654beaaf-9aae-67f4-2069-afc215bc55ea\n"
     ]
    },
    {
     "name": "stderr",
     "output_type": "stream",
     "text": [
      "[2023-12-06 09:06:15,763][WARNING]: Skipped checksum for file with hash: 25141f2b-a9db-835e-d397-671d48f58396, and path: /stelmo/nwb/analysis/Yoshi20220518/Yoshi20220518_0BK9WNNVQV.nwb\n",
      "WARNING:datajoint:Skipped checksum for file with hash: 25141f2b-a9db-835e-d397-671d48f58396, and path: /stelmo/nwb/analysis/Yoshi20220518/Yoshi20220518_0BK9WNNVQV.nwb\n"
     ]
    },
    {
     "name": "stdout",
     "output_type": "stream",
     "text": [
      "Slow Gamma 25-55 Hz Yoshi20220518_.nwb pos 6 valid times 515e60e9-439f-9fc5-69e2-f1efa99aa633\n"
     ]
    },
    {
     "name": "stderr",
     "output_type": "stream",
     "text": [
      "[2023-12-06 09:06:17,364][WARNING]: Skipped checksum for file with hash: 25141f2b-a9db-835e-d397-671d48f58396, and path: /stelmo/nwb/analysis/Yoshi20220518/Yoshi20220518_0BK9WNNVQV.nwb\n",
      "WARNING:datajoint:Skipped checksum for file with hash: 25141f2b-a9db-835e-d397-671d48f58396, and path: /stelmo/nwb/analysis/Yoshi20220518/Yoshi20220518_0BK9WNNVQV.nwb\n"
     ]
    },
    {
     "name": "stdout",
     "output_type": "stream",
     "text": [
      "Fast Gamma 65-100 Hz Yoshi20220518_.nwb pos 6 valid times 515e60e9-439f-9fc5-69e2-f1efa99aa633\n"
     ]
    },
    {
     "name": "stderr",
     "output_type": "stream",
     "text": [
      "[2023-12-06 09:06:18,400][WARNING]: Skipped checksum for file with hash: 10d5d254-164a-d8a0-6a2e-dc774583ec22, and path: /stelmo/nwb/analysis/Yoshi20220518/Yoshi20220518_L6NNR7FOZU.nwb\n",
      "WARNING:datajoint:Skipped checksum for file with hash: 10d5d254-164a-d8a0-6a2e-dc774583ec22, and path: /stelmo/nwb/analysis/Yoshi20220518/Yoshi20220518_L6NNR7FOZU.nwb\n"
     ]
    },
    {
     "name": "stdout",
     "output_type": "stream",
     "text": [
      "Slow Gamma 25-55 Hz Yoshi20220518_.nwb pos 7 valid times 9c32bbff-207b-5bf2-db62-6eaae5c15154\n"
     ]
    },
    {
     "name": "stderr",
     "output_type": "stream",
     "text": [
      "[2023-12-06 09:06:19,994][WARNING]: Skipped checksum for file with hash: 10d5d254-164a-d8a0-6a2e-dc774583ec22, and path: /stelmo/nwb/analysis/Yoshi20220518/Yoshi20220518_L6NNR7FOZU.nwb\n",
      "WARNING:datajoint:Skipped checksum for file with hash: 10d5d254-164a-d8a0-6a2e-dc774583ec22, and path: /stelmo/nwb/analysis/Yoshi20220518/Yoshi20220518_L6NNR7FOZU.nwb\n"
     ]
    },
    {
     "name": "stdout",
     "output_type": "stream",
     "text": [
      "Fast Gamma 65-100 Hz Yoshi20220518_.nwb pos 7 valid times 9c32bbff-207b-5bf2-db62-6eaae5c15154\n"
     ]
    },
    {
     "name": "stderr",
     "output_type": "stream",
     "text": [
      "[2023-12-06 09:06:21,110][WARNING]: Skipped checksum for file with hash: ce5f782a-f672-a25c-3557-a7f45428e0b0, and path: /stelmo/nwb/analysis/Yoshi20220518/Yoshi20220518_RD47QA4G9U.nwb\n",
      "WARNING:datajoint:Skipped checksum for file with hash: ce5f782a-f672-a25c-3557-a7f45428e0b0, and path: /stelmo/nwb/analysis/Yoshi20220518/Yoshi20220518_RD47QA4G9U.nwb\n"
     ]
    },
    {
     "name": "stdout",
     "output_type": "stream",
     "text": [
      "Slow Gamma 25-55 Hz Yoshi20220518_.nwb pos 8 valid times 157570a2-cf1d-6b94-5482-f108a053a78f\n"
     ]
    },
    {
     "name": "stderr",
     "output_type": "stream",
     "text": [
      "[2023-12-06 09:06:22,733][WARNING]: Skipped checksum for file with hash: ce5f782a-f672-a25c-3557-a7f45428e0b0, and path: /stelmo/nwb/analysis/Yoshi20220518/Yoshi20220518_RD47QA4G9U.nwb\n",
      "WARNING:datajoint:Skipped checksum for file with hash: ce5f782a-f672-a25c-3557-a7f45428e0b0, and path: /stelmo/nwb/analysis/Yoshi20220518/Yoshi20220518_RD47QA4G9U.nwb\n"
     ]
    },
    {
     "name": "stdout",
     "output_type": "stream",
     "text": [
      "Fast Gamma 65-100 Hz Yoshi20220518_.nwb pos 8 valid times 157570a2-cf1d-6b94-5482-f108a053a78f\n"
     ]
    },
    {
     "name": "stderr",
     "output_type": "stream",
     "text": [
      "[2023-12-06 09:06:23,793][WARNING]: Skipped checksum for file with hash: d1399081-fcda-5717-4e5f-fe7d413dd94a, and path: /stelmo/nwb/analysis/Yoshi20220518/Yoshi20220518_HPOVJPRR97.nwb\n",
      "WARNING:datajoint:Skipped checksum for file with hash: d1399081-fcda-5717-4e5f-fe7d413dd94a, and path: /stelmo/nwb/analysis/Yoshi20220518/Yoshi20220518_HPOVJPRR97.nwb\n"
     ]
    },
    {
     "name": "stdout",
     "output_type": "stream",
     "text": [
      "Slow Gamma 25-55 Hz Yoshi20220518_.nwb pos 9 valid times f4da42fb-9e40-3ae2-940e-e915b2cf2fd0\n"
     ]
    },
    {
     "name": "stderr",
     "output_type": "stream",
     "text": [
      "[2023-12-06 09:06:25,425][WARNING]: Skipped checksum for file with hash: d1399081-fcda-5717-4e5f-fe7d413dd94a, and path: /stelmo/nwb/analysis/Yoshi20220518/Yoshi20220518_HPOVJPRR97.nwb\n",
      "WARNING:datajoint:Skipped checksum for file with hash: d1399081-fcda-5717-4e5f-fe7d413dd94a, and path: /stelmo/nwb/analysis/Yoshi20220518/Yoshi20220518_HPOVJPRR97.nwb\n"
     ]
    },
    {
     "name": "stdout",
     "output_type": "stream",
     "text": [
      "Fast Gamma 65-100 Hz Yoshi20220518_.nwb pos 9 valid times f4da42fb-9e40-3ae2-940e-e915b2cf2fd0\n"
     ]
    },
    {
     "name": "stderr",
     "output_type": "stream",
     "text": [
      "[2023-12-06 09:06:26,858][WARNING]: Skipped checksum for file with hash: 3305e988-d3ed-fff0-692f-44cf29b33685, and path: /stelmo/nwb/analysis/Olive20220627/Olive20220627_1O31157MJH.nwb\n",
      "WARNING:datajoint:Skipped checksum for file with hash: 3305e988-d3ed-fff0-692f-44cf29b33685, and path: /stelmo/nwb/analysis/Olive20220627/Olive20220627_1O31157MJH.nwb\n"
     ]
    },
    {
     "name": "stdout",
     "output_type": "stream",
     "text": [
      "Slow Gamma 25-55 Hz Olive20220627_.nwb pos 0 valid times 8d7835c2-a837-8f3e-f373-6295380d29a7\n"
     ]
    },
    {
     "name": "stderr",
     "output_type": "stream",
     "text": [
      "[2023-12-06 09:06:28,345][WARNING]: Skipped checksum for file with hash: 3305e988-d3ed-fff0-692f-44cf29b33685, and path: /stelmo/nwb/analysis/Olive20220627/Olive20220627_1O31157MJH.nwb\n",
      "WARNING:datajoint:Skipped checksum for file with hash: 3305e988-d3ed-fff0-692f-44cf29b33685, and path: /stelmo/nwb/analysis/Olive20220627/Olive20220627_1O31157MJH.nwb\n"
     ]
    },
    {
     "name": "stdout",
     "output_type": "stream",
     "text": [
      "Fast Gamma 65-100 Hz Olive20220627_.nwb pos 0 valid times 8d7835c2-a837-8f3e-f373-6295380d29a7\n"
     ]
    },
    {
     "name": "stderr",
     "output_type": "stream",
     "text": [
      "[2023-12-06 09:06:29,195][WARNING]: Skipped checksum for file with hash: 99ac47f7-bb8f-2dc7-3254-e5968913844a, and path: /stelmo/nwb/analysis/Olive20220627/Olive20220627_R99Z880N4Y.nwb\n",
      "WARNING:datajoint:Skipped checksum for file with hash: 99ac47f7-bb8f-2dc7-3254-e5968913844a, and path: /stelmo/nwb/analysis/Olive20220627/Olive20220627_R99Z880N4Y.nwb\n"
     ]
    },
    {
     "name": "stdout",
     "output_type": "stream",
     "text": [
      "Slow Gamma 25-55 Hz Olive20220627_.nwb pos 1 valid times d932a775-77e0-f1a5-2c18-c61fa110d728\n"
     ]
    },
    {
     "name": "stderr",
     "output_type": "stream",
     "text": [
      "[2023-12-06 09:06:30,733][WARNING]: Skipped checksum for file with hash: 99ac47f7-bb8f-2dc7-3254-e5968913844a, and path: /stelmo/nwb/analysis/Olive20220627/Olive20220627_R99Z880N4Y.nwb\n",
      "WARNING:datajoint:Skipped checksum for file with hash: 99ac47f7-bb8f-2dc7-3254-e5968913844a, and path: /stelmo/nwb/analysis/Olive20220627/Olive20220627_R99Z880N4Y.nwb\n"
     ]
    },
    {
     "name": "stdout",
     "output_type": "stream",
     "text": [
      "Fast Gamma 65-100 Hz Olive20220627_.nwb pos 1 valid times d932a775-77e0-f1a5-2c18-c61fa110d728\n"
     ]
    },
    {
     "name": "stderr",
     "output_type": "stream",
     "text": [
      "[2023-12-06 09:06:31,596][WARNING]: Skipped checksum for file with hash: 11b65188-8a0f-cc71-0ce7-c3c10119fe80, and path: /stelmo/nwb/analysis/Olive20220627/Olive20220627_TDOUR64QIV.nwb\n",
      "WARNING:datajoint:Skipped checksum for file with hash: 11b65188-8a0f-cc71-0ce7-c3c10119fe80, and path: /stelmo/nwb/analysis/Olive20220627/Olive20220627_TDOUR64QIV.nwb\n"
     ]
    },
    {
     "name": "stdout",
     "output_type": "stream",
     "text": [
      "Slow Gamma 25-55 Hz Olive20220627_.nwb pos 10 valid times c1f83357-b5e5-9520-420c-48df12532150\n"
     ]
    },
    {
     "name": "stderr",
     "output_type": "stream",
     "text": [
      "[2023-12-06 09:06:32,987][WARNING]: Skipped checksum for file with hash: 11b65188-8a0f-cc71-0ce7-c3c10119fe80, and path: /stelmo/nwb/analysis/Olive20220627/Olive20220627_TDOUR64QIV.nwb\n",
      "WARNING:datajoint:Skipped checksum for file with hash: 11b65188-8a0f-cc71-0ce7-c3c10119fe80, and path: /stelmo/nwb/analysis/Olive20220627/Olive20220627_TDOUR64QIV.nwb\n"
     ]
    },
    {
     "name": "stdout",
     "output_type": "stream",
     "text": [
      "Fast Gamma 65-100 Hz Olive20220627_.nwb pos 10 valid times c1f83357-b5e5-9520-420c-48df12532150\n"
     ]
    },
    {
     "name": "stderr",
     "output_type": "stream",
     "text": [
      "[2023-12-06 09:06:33,863][WARNING]: Skipped checksum for file with hash: 9359adc9-e730-6ea2-0f49-314b9e8e4c6a, and path: /stelmo/nwb/analysis/Olive20220627/Olive20220627_V7VIWUZFCE.nwb\n",
      "WARNING:datajoint:Skipped checksum for file with hash: 9359adc9-e730-6ea2-0f49-314b9e8e4c6a, and path: /stelmo/nwb/analysis/Olive20220627/Olive20220627_V7VIWUZFCE.nwb\n"
     ]
    },
    {
     "name": "stdout",
     "output_type": "stream",
     "text": [
      "Slow Gamma 25-55 Hz Olive20220627_.nwb pos 2 valid times d2402c0f-fbe3-361a-7ef7-64671c8c62a6\n"
     ]
    },
    {
     "name": "stderr",
     "output_type": "stream",
     "text": [
      "[2023-12-06 09:06:35,347][WARNING]: Skipped checksum for file with hash: 9359adc9-e730-6ea2-0f49-314b9e8e4c6a, and path: /stelmo/nwb/analysis/Olive20220627/Olive20220627_V7VIWUZFCE.nwb\n",
      "WARNING:datajoint:Skipped checksum for file with hash: 9359adc9-e730-6ea2-0f49-314b9e8e4c6a, and path: /stelmo/nwb/analysis/Olive20220627/Olive20220627_V7VIWUZFCE.nwb\n"
     ]
    },
    {
     "name": "stdout",
     "output_type": "stream",
     "text": [
      "Fast Gamma 65-100 Hz Olive20220627_.nwb pos 2 valid times d2402c0f-fbe3-361a-7ef7-64671c8c62a6\n"
     ]
    },
    {
     "name": "stderr",
     "output_type": "stream",
     "text": [
      "[2023-12-06 09:06:36,164][WARNING]: Skipped checksum for file with hash: f3cc0111-cb88-45c4-5b1b-0fa01f6beaac, and path: /stelmo/nwb/analysis/Olive20220627/Olive20220627_DA8MGZ3IBE.nwb\n",
      "WARNING:datajoint:Skipped checksum for file with hash: f3cc0111-cb88-45c4-5b1b-0fa01f6beaac, and path: /stelmo/nwb/analysis/Olive20220627/Olive20220627_DA8MGZ3IBE.nwb\n"
     ]
    },
    {
     "name": "stdout",
     "output_type": "stream",
     "text": [
      "Slow Gamma 25-55 Hz Olive20220627_.nwb pos 3 valid times cc5a7669-35a3-3aba-740f-4fbe8f0b75a2\n"
     ]
    },
    {
     "name": "stderr",
     "output_type": "stream",
     "text": [
      "[2023-12-06 09:06:37,673][WARNING]: Skipped checksum for file with hash: f3cc0111-cb88-45c4-5b1b-0fa01f6beaac, and path: /stelmo/nwb/analysis/Olive20220627/Olive20220627_DA8MGZ3IBE.nwb\n",
      "WARNING:datajoint:Skipped checksum for file with hash: f3cc0111-cb88-45c4-5b1b-0fa01f6beaac, and path: /stelmo/nwb/analysis/Olive20220627/Olive20220627_DA8MGZ3IBE.nwb\n"
     ]
    },
    {
     "name": "stdout",
     "output_type": "stream",
     "text": [
      "Fast Gamma 65-100 Hz Olive20220627_.nwb pos 3 valid times cc5a7669-35a3-3aba-740f-4fbe8f0b75a2\n"
     ]
    },
    {
     "name": "stderr",
     "output_type": "stream",
     "text": [
      "[2023-12-06 09:06:38,568][WARNING]: Skipped checksum for file with hash: 1c55eb33-8fe5-f3b9-61c4-3b9c397cf84e, and path: /stelmo/nwb/analysis/Olive20220627/Olive20220627_K58F5A1HQ5.nwb\n",
      "WARNING:datajoint:Skipped checksum for file with hash: 1c55eb33-8fe5-f3b9-61c4-3b9c397cf84e, and path: /stelmo/nwb/analysis/Olive20220627/Olive20220627_K58F5A1HQ5.nwb\n"
     ]
    },
    {
     "name": "stdout",
     "output_type": "stream",
     "text": [
      "Slow Gamma 25-55 Hz Olive20220627_.nwb pos 4 valid times a4d7832e-5500-a80d-4a98-dfbf5e73e164\n"
     ]
    },
    {
     "name": "stderr",
     "output_type": "stream",
     "text": [
      "[2023-12-06 09:06:40,057][WARNING]: Skipped checksum for file with hash: 1c55eb33-8fe5-f3b9-61c4-3b9c397cf84e, and path: /stelmo/nwb/analysis/Olive20220627/Olive20220627_K58F5A1HQ5.nwb\n",
      "WARNING:datajoint:Skipped checksum for file with hash: 1c55eb33-8fe5-f3b9-61c4-3b9c397cf84e, and path: /stelmo/nwb/analysis/Olive20220627/Olive20220627_K58F5A1HQ5.nwb\n"
     ]
    },
    {
     "name": "stdout",
     "output_type": "stream",
     "text": [
      "Fast Gamma 65-100 Hz Olive20220627_.nwb pos 4 valid times a4d7832e-5500-a80d-4a98-dfbf5e73e164\n"
     ]
    },
    {
     "name": "stderr",
     "output_type": "stream",
     "text": [
      "[2023-12-06 09:06:40,966][WARNING]: Skipped checksum for file with hash: 7a02d315-6b0d-6f2e-97a3-3471a9483734, and path: /stelmo/nwb/analysis/Olive20220627/Olive20220627_4TIQY9D8H5.nwb\n",
      "WARNING:datajoint:Skipped checksum for file with hash: 7a02d315-6b0d-6f2e-97a3-3471a9483734, and path: /stelmo/nwb/analysis/Olive20220627/Olive20220627_4TIQY9D8H5.nwb\n"
     ]
    },
    {
     "name": "stdout",
     "output_type": "stream",
     "text": [
      "Slow Gamma 25-55 Hz Olive20220627_.nwb pos 5 valid times 6a7edc95-52d5-82f8-d8ce-aec80b79534f\n"
     ]
    },
    {
     "name": "stderr",
     "output_type": "stream",
     "text": [
      "[2023-12-06 09:06:42,495][WARNING]: Skipped checksum for file with hash: 7a02d315-6b0d-6f2e-97a3-3471a9483734, and path: /stelmo/nwb/analysis/Olive20220627/Olive20220627_4TIQY9D8H5.nwb\n",
      "WARNING:datajoint:Skipped checksum for file with hash: 7a02d315-6b0d-6f2e-97a3-3471a9483734, and path: /stelmo/nwb/analysis/Olive20220627/Olive20220627_4TIQY9D8H5.nwb\n"
     ]
    },
    {
     "name": "stdout",
     "output_type": "stream",
     "text": [
      "Fast Gamma 65-100 Hz Olive20220627_.nwb pos 5 valid times 6a7edc95-52d5-82f8-d8ce-aec80b79534f\n"
     ]
    },
    {
     "name": "stderr",
     "output_type": "stream",
     "text": [
      "[2023-12-06 09:06:43,351][WARNING]: Skipped checksum for file with hash: 2f88f58f-1512-8fd4-bc77-ad7dc731d094, and path: /stelmo/nwb/analysis/Olive20220627/Olive20220627_U17LZKEL04.nwb\n",
      "WARNING:datajoint:Skipped checksum for file with hash: 2f88f58f-1512-8fd4-bc77-ad7dc731d094, and path: /stelmo/nwb/analysis/Olive20220627/Olive20220627_U17LZKEL04.nwb\n"
     ]
    },
    {
     "name": "stdout",
     "output_type": "stream",
     "text": [
      "Slow Gamma 25-55 Hz Olive20220627_.nwb pos 6 valid times a9b9ac93-3f45-7322-2f56-bdaeeaaac1cd\n"
     ]
    },
    {
     "name": "stderr",
     "output_type": "stream",
     "text": [
      "[2023-12-06 09:06:44,880][WARNING]: Skipped checksum for file with hash: 2f88f58f-1512-8fd4-bc77-ad7dc731d094, and path: /stelmo/nwb/analysis/Olive20220627/Olive20220627_U17LZKEL04.nwb\n",
      "WARNING:datajoint:Skipped checksum for file with hash: 2f88f58f-1512-8fd4-bc77-ad7dc731d094, and path: /stelmo/nwb/analysis/Olive20220627/Olive20220627_U17LZKEL04.nwb\n"
     ]
    },
    {
     "name": "stdout",
     "output_type": "stream",
     "text": [
      "Fast Gamma 65-100 Hz Olive20220627_.nwb pos 6 valid times a9b9ac93-3f45-7322-2f56-bdaeeaaac1cd\n"
     ]
    },
    {
     "name": "stderr",
     "output_type": "stream",
     "text": [
      "[2023-12-06 09:06:45,852][WARNING]: Skipped checksum for file with hash: 56aa4656-1f88-1773-55a4-be1042eddcdb, and path: /stelmo/nwb/analysis/Olive20220627/Olive20220627_S92RHGIW2S.nwb\n",
      "WARNING:datajoint:Skipped checksum for file with hash: 56aa4656-1f88-1773-55a4-be1042eddcdb, and path: /stelmo/nwb/analysis/Olive20220627/Olive20220627_S92RHGIW2S.nwb\n"
     ]
    },
    {
     "name": "stdout",
     "output_type": "stream",
     "text": [
      "Slow Gamma 25-55 Hz Olive20220627_.nwb pos 7 valid times 39623595-65b4-77b5-efe8-d8178bda4933\n"
     ]
    },
    {
     "name": "stderr",
     "output_type": "stream",
     "text": [
      "[2023-12-06 09:06:47,329][WARNING]: Skipped checksum for file with hash: 56aa4656-1f88-1773-55a4-be1042eddcdb, and path: /stelmo/nwb/analysis/Olive20220627/Olive20220627_S92RHGIW2S.nwb\n",
      "WARNING:datajoint:Skipped checksum for file with hash: 56aa4656-1f88-1773-55a4-be1042eddcdb, and path: /stelmo/nwb/analysis/Olive20220627/Olive20220627_S92RHGIW2S.nwb\n"
     ]
    },
    {
     "name": "stdout",
     "output_type": "stream",
     "text": [
      "Fast Gamma 65-100 Hz Olive20220627_.nwb pos 7 valid times 39623595-65b4-77b5-efe8-d8178bda4933\n"
     ]
    },
    {
     "name": "stderr",
     "output_type": "stream",
     "text": [
      "[2023-12-06 09:06:48,153][WARNING]: Skipped checksum for file with hash: 22eee999-f665-d1e4-5bbb-827c7d187634, and path: /stelmo/nwb/analysis/Olive20220627/Olive20220627_2PTTXUZCHI.nwb\n",
      "WARNING:datajoint:Skipped checksum for file with hash: 22eee999-f665-d1e4-5bbb-827c7d187634, and path: /stelmo/nwb/analysis/Olive20220627/Olive20220627_2PTTXUZCHI.nwb\n"
     ]
    },
    {
     "name": "stdout",
     "output_type": "stream",
     "text": [
      "Slow Gamma 25-55 Hz Olive20220627_.nwb pos 8 valid times 02628850-5760-b7f6-b0dc-350178739b82\n"
     ]
    },
    {
     "name": "stderr",
     "output_type": "stream",
     "text": [
      "[2023-12-06 09:06:49,579][WARNING]: Skipped checksum for file with hash: 22eee999-f665-d1e4-5bbb-827c7d187634, and path: /stelmo/nwb/analysis/Olive20220627/Olive20220627_2PTTXUZCHI.nwb\n",
      "WARNING:datajoint:Skipped checksum for file with hash: 22eee999-f665-d1e4-5bbb-827c7d187634, and path: /stelmo/nwb/analysis/Olive20220627/Olive20220627_2PTTXUZCHI.nwb\n"
     ]
    },
    {
     "name": "stdout",
     "output_type": "stream",
     "text": [
      "Fast Gamma 65-100 Hz Olive20220627_.nwb pos 8 valid times 02628850-5760-b7f6-b0dc-350178739b82\n"
     ]
    },
    {
     "name": "stderr",
     "output_type": "stream",
     "text": [
      "[2023-12-06 09:06:50,364][WARNING]: Skipped checksum for file with hash: d1cc5e95-0965-afa8-79fa-8ae37b6c7721, and path: /stelmo/nwb/analysis/Olive20220627/Olive20220627_UYA6XM6CJV.nwb\n",
      "WARNING:datajoint:Skipped checksum for file with hash: d1cc5e95-0965-afa8-79fa-8ae37b6c7721, and path: /stelmo/nwb/analysis/Olive20220627/Olive20220627_UYA6XM6CJV.nwb\n"
     ]
    },
    {
     "name": "stdout",
     "output_type": "stream",
     "text": [
      "Slow Gamma 25-55 Hz Olive20220627_.nwb pos 9 valid times e64d2612-16ef-0f3c-55b6-33174563b97b\n"
     ]
    },
    {
     "name": "stderr",
     "output_type": "stream",
     "text": [
      "[2023-12-06 09:06:51,818][WARNING]: Skipped checksum for file with hash: d1cc5e95-0965-afa8-79fa-8ae37b6c7721, and path: /stelmo/nwb/analysis/Olive20220627/Olive20220627_UYA6XM6CJV.nwb\n",
      "WARNING:datajoint:Skipped checksum for file with hash: d1cc5e95-0965-afa8-79fa-8ae37b6c7721, and path: /stelmo/nwb/analysis/Olive20220627/Olive20220627_UYA6XM6CJV.nwb\n"
     ]
    },
    {
     "name": "stdout",
     "output_type": "stream",
     "text": [
      "Fast Gamma 65-100 Hz Olive20220627_.nwb pos 9 valid times e64d2612-16ef-0f3c-55b6-33174563b97b\n"
     ]
    },
    {
     "name": "stderr",
     "output_type": "stream",
     "text": [
      "[2023-12-06 09:06:52,602][WARNING]: Skipped checksum for file with hash: aaf8b7cb-db57-ee39-fcbe-3ed4c102bbff, and path: /stelmo/nwb/analysis/Olive20220628/Olive20220628_N3OGAHDVXE.nwb\n",
      "WARNING:datajoint:Skipped checksum for file with hash: aaf8b7cb-db57-ee39-fcbe-3ed4c102bbff, and path: /stelmo/nwb/analysis/Olive20220628/Olive20220628_N3OGAHDVXE.nwb\n"
     ]
    },
    {
     "name": "stdout",
     "output_type": "stream",
     "text": [
      "Slow Gamma 25-55 Hz Olive20220628_.nwb pos 0 valid times 72adda31-c243-5f64-715b-5ee2ff2e6ef3\n"
     ]
    },
    {
     "name": "stderr",
     "output_type": "stream",
     "text": [
      "[2023-12-06 09:06:54,103][WARNING]: Skipped checksum for file with hash: aaf8b7cb-db57-ee39-fcbe-3ed4c102bbff, and path: /stelmo/nwb/analysis/Olive20220628/Olive20220628_N3OGAHDVXE.nwb\n",
      "WARNING:datajoint:Skipped checksum for file with hash: aaf8b7cb-db57-ee39-fcbe-3ed4c102bbff, and path: /stelmo/nwb/analysis/Olive20220628/Olive20220628_N3OGAHDVXE.nwb\n"
     ]
    },
    {
     "name": "stdout",
     "output_type": "stream",
     "text": [
      "Fast Gamma 65-100 Hz Olive20220628_.nwb pos 0 valid times 72adda31-c243-5f64-715b-5ee2ff2e6ef3\n"
     ]
    },
    {
     "name": "stderr",
     "output_type": "stream",
     "text": [
      "[2023-12-06 09:06:54,894][WARNING]: Skipped checksum for file with hash: f40aadaf-0668-a177-8529-dc32467b392d, and path: /stelmo/nwb/analysis/Olive20220628/Olive20220628_JE4TPYSNR6.nwb\n",
      "WARNING:datajoint:Skipped checksum for file with hash: f40aadaf-0668-a177-8529-dc32467b392d, and path: /stelmo/nwb/analysis/Olive20220628/Olive20220628_JE4TPYSNR6.nwb\n"
     ]
    },
    {
     "name": "stdout",
     "output_type": "stream",
     "text": [
      "Slow Gamma 25-55 Hz Olive20220628_.nwb pos 1 valid times e91d2799-f754-8ab6-8fd3-bf8d4fe906b7\n"
     ]
    },
    {
     "name": "stderr",
     "output_type": "stream",
     "text": [
      "[2023-12-06 09:06:56,364][WARNING]: Skipped checksum for file with hash: f40aadaf-0668-a177-8529-dc32467b392d, and path: /stelmo/nwb/analysis/Olive20220628/Olive20220628_JE4TPYSNR6.nwb\n",
      "WARNING:datajoint:Skipped checksum for file with hash: f40aadaf-0668-a177-8529-dc32467b392d, and path: /stelmo/nwb/analysis/Olive20220628/Olive20220628_JE4TPYSNR6.nwb\n"
     ]
    },
    {
     "name": "stdout",
     "output_type": "stream",
     "text": [
      "Fast Gamma 65-100 Hz Olive20220628_.nwb pos 1 valid times e91d2799-f754-8ab6-8fd3-bf8d4fe906b7\n"
     ]
    },
    {
     "name": "stderr",
     "output_type": "stream",
     "text": [
      "[2023-12-06 09:06:57,175][WARNING]: Skipped checksum for file with hash: e45eb4a3-bc56-f094-76f6-64c1f6ac360f, and path: /stelmo/nwb/analysis/Olive20220628/Olive20220628_HER8BJ0QBP.nwb\n",
      "WARNING:datajoint:Skipped checksum for file with hash: e45eb4a3-bc56-f094-76f6-64c1f6ac360f, and path: /stelmo/nwb/analysis/Olive20220628/Olive20220628_HER8BJ0QBP.nwb\n"
     ]
    },
    {
     "name": "stdout",
     "output_type": "stream",
     "text": [
      "Slow Gamma 25-55 Hz Olive20220628_.nwb pos 10 valid times 4f6ab579-d97c-3e2f-f9e9-eba82efa207e\n"
     ]
    },
    {
     "name": "stderr",
     "output_type": "stream",
     "text": [
      "[2023-12-06 09:06:58,606][WARNING]: Skipped checksum for file with hash: e45eb4a3-bc56-f094-76f6-64c1f6ac360f, and path: /stelmo/nwb/analysis/Olive20220628/Olive20220628_HER8BJ0QBP.nwb\n",
      "WARNING:datajoint:Skipped checksum for file with hash: e45eb4a3-bc56-f094-76f6-64c1f6ac360f, and path: /stelmo/nwb/analysis/Olive20220628/Olive20220628_HER8BJ0QBP.nwb\n"
     ]
    },
    {
     "name": "stdout",
     "output_type": "stream",
     "text": [
      "Fast Gamma 65-100 Hz Olive20220628_.nwb pos 10 valid times 4f6ab579-d97c-3e2f-f9e9-eba82efa207e\n"
     ]
    },
    {
     "name": "stderr",
     "output_type": "stream",
     "text": [
      "[2023-12-06 09:06:59,418][WARNING]: Skipped checksum for file with hash: 7b12c8dd-f1fd-5683-c761-aa6340872aa2, and path: /stelmo/nwb/analysis/Olive20220628/Olive20220628_1CHO27GU2J.nwb\n",
      "WARNING:datajoint:Skipped checksum for file with hash: 7b12c8dd-f1fd-5683-c761-aa6340872aa2, and path: /stelmo/nwb/analysis/Olive20220628/Olive20220628_1CHO27GU2J.nwb\n"
     ]
    },
    {
     "name": "stdout",
     "output_type": "stream",
     "text": [
      "Slow Gamma 25-55 Hz Olive20220628_.nwb pos 2 valid times e3a93f12-c97e-deee-2b57-2014d053c8c7\n"
     ]
    },
    {
     "name": "stderr",
     "output_type": "stream",
     "text": [
      "[2023-12-06 09:07:00,798][WARNING]: Skipped checksum for file with hash: 7b12c8dd-f1fd-5683-c761-aa6340872aa2, and path: /stelmo/nwb/analysis/Olive20220628/Olive20220628_1CHO27GU2J.nwb\n",
      "WARNING:datajoint:Skipped checksum for file with hash: 7b12c8dd-f1fd-5683-c761-aa6340872aa2, and path: /stelmo/nwb/analysis/Olive20220628/Olive20220628_1CHO27GU2J.nwb\n"
     ]
    },
    {
     "name": "stdout",
     "output_type": "stream",
     "text": [
      "Fast Gamma 65-100 Hz Olive20220628_.nwb pos 2 valid times e3a93f12-c97e-deee-2b57-2014d053c8c7\n"
     ]
    },
    {
     "name": "stderr",
     "output_type": "stream",
     "text": [
      "[2023-12-06 09:07:01,682][WARNING]: Skipped checksum for file with hash: abbb5110-1b1e-e711-3e3d-40e94ad3be69, and path: /stelmo/nwb/analysis/Olive20220628/Olive20220628_3ZA3NYOHQI.nwb\n",
      "WARNING:datajoint:Skipped checksum for file with hash: abbb5110-1b1e-e711-3e3d-40e94ad3be69, and path: /stelmo/nwb/analysis/Olive20220628/Olive20220628_3ZA3NYOHQI.nwb\n"
     ]
    },
    {
     "name": "stdout",
     "output_type": "stream",
     "text": [
      "Slow Gamma 25-55 Hz Olive20220628_.nwb pos 3 valid times 75a3f985-939a-a3d9-08d3-0e03af5d843d\n"
     ]
    },
    {
     "name": "stderr",
     "output_type": "stream",
     "text": [
      "[2023-12-06 09:07:03,247][WARNING]: Skipped checksum for file with hash: abbb5110-1b1e-e711-3e3d-40e94ad3be69, and path: /stelmo/nwb/analysis/Olive20220628/Olive20220628_3ZA3NYOHQI.nwb\n",
      "WARNING:datajoint:Skipped checksum for file with hash: abbb5110-1b1e-e711-3e3d-40e94ad3be69, and path: /stelmo/nwb/analysis/Olive20220628/Olive20220628_3ZA3NYOHQI.nwb\n"
     ]
    },
    {
     "name": "stdout",
     "output_type": "stream",
     "text": [
      "Fast Gamma 65-100 Hz Olive20220628_.nwb pos 3 valid times 75a3f985-939a-a3d9-08d3-0e03af5d843d\n"
     ]
    },
    {
     "name": "stderr",
     "output_type": "stream",
     "text": [
      "[2023-12-06 09:07:04,102][WARNING]: Skipped checksum for file with hash: cfd0e8ee-0793-1e30-14c9-7f8cc1a17e6a, and path: /stelmo/nwb/analysis/Olive20220628/Olive20220628_EDRJT9OJ9E.nwb\n",
      "WARNING:datajoint:Skipped checksum for file with hash: cfd0e8ee-0793-1e30-14c9-7f8cc1a17e6a, and path: /stelmo/nwb/analysis/Olive20220628/Olive20220628_EDRJT9OJ9E.nwb\n"
     ]
    },
    {
     "name": "stdout",
     "output_type": "stream",
     "text": [
      "Slow Gamma 25-55 Hz Olive20220628_.nwb pos 4 valid times 8851ed1f-ddb5-5043-084c-55b541b9094e\n"
     ]
    },
    {
     "name": "stderr",
     "output_type": "stream",
     "text": [
      "[2023-12-06 09:07:05,626][WARNING]: Skipped checksum for file with hash: cfd0e8ee-0793-1e30-14c9-7f8cc1a17e6a, and path: /stelmo/nwb/analysis/Olive20220628/Olive20220628_EDRJT9OJ9E.nwb\n",
      "WARNING:datajoint:Skipped checksum for file with hash: cfd0e8ee-0793-1e30-14c9-7f8cc1a17e6a, and path: /stelmo/nwb/analysis/Olive20220628/Olive20220628_EDRJT9OJ9E.nwb\n"
     ]
    },
    {
     "name": "stdout",
     "output_type": "stream",
     "text": [
      "Fast Gamma 65-100 Hz Olive20220628_.nwb pos 4 valid times 8851ed1f-ddb5-5043-084c-55b541b9094e\n"
     ]
    },
    {
     "name": "stderr",
     "output_type": "stream",
     "text": [
      "[2023-12-06 09:07:06,481][WARNING]: Skipped checksum for file with hash: 82309055-c69e-e1d2-0f42-3f528c8c24a0, and path: /stelmo/nwb/analysis/Olive20220628/Olive20220628_DERT5IYUCB.nwb\n",
      "WARNING:datajoint:Skipped checksum for file with hash: 82309055-c69e-e1d2-0f42-3f528c8c24a0, and path: /stelmo/nwb/analysis/Olive20220628/Olive20220628_DERT5IYUCB.nwb\n"
     ]
    },
    {
     "name": "stdout",
     "output_type": "stream",
     "text": [
      "Slow Gamma 25-55 Hz Olive20220628_.nwb pos 5 valid times b851e13b-4f8f-ebfd-18f1-4a0cdd7b818d\n"
     ]
    },
    {
     "name": "stderr",
     "output_type": "stream",
     "text": [
      "[2023-12-06 09:07:07,969][WARNING]: Skipped checksum for file with hash: 82309055-c69e-e1d2-0f42-3f528c8c24a0, and path: /stelmo/nwb/analysis/Olive20220628/Olive20220628_DERT5IYUCB.nwb\n",
      "WARNING:datajoint:Skipped checksum for file with hash: 82309055-c69e-e1d2-0f42-3f528c8c24a0, and path: /stelmo/nwb/analysis/Olive20220628/Olive20220628_DERT5IYUCB.nwb\n"
     ]
    },
    {
     "name": "stdout",
     "output_type": "stream",
     "text": [
      "Fast Gamma 65-100 Hz Olive20220628_.nwb pos 5 valid times b851e13b-4f8f-ebfd-18f1-4a0cdd7b818d\n"
     ]
    },
    {
     "name": "stderr",
     "output_type": "stream",
     "text": [
      "[2023-12-06 09:07:08,814][WARNING]: Skipped checksum for file with hash: 80394fcb-9e51-b131-2c64-0d08937a2c58, and path: /stelmo/nwb/analysis/Olive20220628/Olive20220628_IMAHYNNA7T.nwb\n",
      "WARNING:datajoint:Skipped checksum for file with hash: 80394fcb-9e51-b131-2c64-0d08937a2c58, and path: /stelmo/nwb/analysis/Olive20220628/Olive20220628_IMAHYNNA7T.nwb\n"
     ]
    },
    {
     "name": "stdout",
     "output_type": "stream",
     "text": [
      "Slow Gamma 25-55 Hz Olive20220628_.nwb pos 6 valid times c668dc24-5f81-e634-19e8-367946b2be9d\n"
     ]
    },
    {
     "name": "stderr",
     "output_type": "stream",
     "text": [
      "[2023-12-06 09:07:10,321][WARNING]: Skipped checksum for file with hash: 80394fcb-9e51-b131-2c64-0d08937a2c58, and path: /stelmo/nwb/analysis/Olive20220628/Olive20220628_IMAHYNNA7T.nwb\n",
      "WARNING:datajoint:Skipped checksum for file with hash: 80394fcb-9e51-b131-2c64-0d08937a2c58, and path: /stelmo/nwb/analysis/Olive20220628/Olive20220628_IMAHYNNA7T.nwb\n"
     ]
    },
    {
     "name": "stdout",
     "output_type": "stream",
     "text": [
      "Fast Gamma 65-100 Hz Olive20220628_.nwb pos 6 valid times c668dc24-5f81-e634-19e8-367946b2be9d\n"
     ]
    },
    {
     "name": "stderr",
     "output_type": "stream",
     "text": [
      "[2023-12-06 09:07:11,164][WARNING]: Skipped checksum for file with hash: 75cec1be-66e1-eb6c-f045-293a2a5177e2, and path: /stelmo/nwb/analysis/Olive20220628/Olive20220628_ZK9FKM7URM.nwb\n",
      "WARNING:datajoint:Skipped checksum for file with hash: 75cec1be-66e1-eb6c-f045-293a2a5177e2, and path: /stelmo/nwb/analysis/Olive20220628/Olive20220628_ZK9FKM7URM.nwb\n"
     ]
    },
    {
     "name": "stdout",
     "output_type": "stream",
     "text": [
      "Slow Gamma 25-55 Hz Olive20220628_.nwb pos 7 valid times 721117b7-26e5-4aa9-584b-f672cee6092b\n"
     ]
    },
    {
     "name": "stderr",
     "output_type": "stream",
     "text": [
      "[2023-12-06 09:07:12,619][WARNING]: Skipped checksum for file with hash: 75cec1be-66e1-eb6c-f045-293a2a5177e2, and path: /stelmo/nwb/analysis/Olive20220628/Olive20220628_ZK9FKM7URM.nwb\n",
      "WARNING:datajoint:Skipped checksum for file with hash: 75cec1be-66e1-eb6c-f045-293a2a5177e2, and path: /stelmo/nwb/analysis/Olive20220628/Olive20220628_ZK9FKM7URM.nwb\n"
     ]
    },
    {
     "name": "stdout",
     "output_type": "stream",
     "text": [
      "Fast Gamma 65-100 Hz Olive20220628_.nwb pos 7 valid times 721117b7-26e5-4aa9-584b-f672cee6092b\n"
     ]
    },
    {
     "name": "stderr",
     "output_type": "stream",
     "text": [
      "[2023-12-06 09:07:13,467][WARNING]: Skipped checksum for file with hash: d28a8152-b985-104a-6d0f-1dce0ee18778, and path: /stelmo/nwb/analysis/Olive20220628/Olive20220628_FC0091TX0W.nwb\n",
      "WARNING:datajoint:Skipped checksum for file with hash: d28a8152-b985-104a-6d0f-1dce0ee18778, and path: /stelmo/nwb/analysis/Olive20220628/Olive20220628_FC0091TX0W.nwb\n"
     ]
    },
    {
     "name": "stdout",
     "output_type": "stream",
     "text": [
      "Slow Gamma 25-55 Hz Olive20220628_.nwb pos 8 valid times 71f56e01-c36d-2e58-f10e-abffada077f4\n"
     ]
    },
    {
     "name": "stderr",
     "output_type": "stream",
     "text": [
      "[2023-12-06 09:07:14,915][WARNING]: Skipped checksum for file with hash: d28a8152-b985-104a-6d0f-1dce0ee18778, and path: /stelmo/nwb/analysis/Olive20220628/Olive20220628_FC0091TX0W.nwb\n",
      "WARNING:datajoint:Skipped checksum for file with hash: d28a8152-b985-104a-6d0f-1dce0ee18778, and path: /stelmo/nwb/analysis/Olive20220628/Olive20220628_FC0091TX0W.nwb\n"
     ]
    },
    {
     "name": "stdout",
     "output_type": "stream",
     "text": [
      "Fast Gamma 65-100 Hz Olive20220628_.nwb pos 8 valid times 71f56e01-c36d-2e58-f10e-abffada077f4\n"
     ]
    },
    {
     "name": "stderr",
     "output_type": "stream",
     "text": [
      "[2023-12-06 09:07:15,688][WARNING]: Skipped checksum for file with hash: f4177df5-50ce-8199-0597-c7c0b92de648, and path: /stelmo/nwb/analysis/Olive20220628/Olive20220628_WL2F1QAZ6R.nwb\n",
      "WARNING:datajoint:Skipped checksum for file with hash: f4177df5-50ce-8199-0597-c7c0b92de648, and path: /stelmo/nwb/analysis/Olive20220628/Olive20220628_WL2F1QAZ6R.nwb\n"
     ]
    },
    {
     "name": "stdout",
     "output_type": "stream",
     "text": [
      "Slow Gamma 25-55 Hz Olive20220628_.nwb pos 9 valid times b48a46bb-1d5e-3f1e-7570-a432fd28f5cc\n"
     ]
    },
    {
     "name": "stderr",
     "output_type": "stream",
     "text": [
      "[2023-12-06 09:07:17,176][WARNING]: Skipped checksum for file with hash: f4177df5-50ce-8199-0597-c7c0b92de648, and path: /stelmo/nwb/analysis/Olive20220628/Olive20220628_WL2F1QAZ6R.nwb\n",
      "WARNING:datajoint:Skipped checksum for file with hash: f4177df5-50ce-8199-0597-c7c0b92de648, and path: /stelmo/nwb/analysis/Olive20220628/Olive20220628_WL2F1QAZ6R.nwb\n"
     ]
    },
    {
     "name": "stdout",
     "output_type": "stream",
     "text": [
      "Fast Gamma 65-100 Hz Olive20220628_.nwb pos 9 valid times b48a46bb-1d5e-3f1e-7570-a432fd28f5cc\n"
     ]
    },
    {
     "name": "stderr",
     "output_type": "stream",
     "text": [
      "[2023-12-06 09:07:18,211][WARNING]: Skipped checksum for file with hash: 5372f4ac-9539-dd8a-3d9d-fcdfafc67a95, and path: /stelmo/nwb/analysis/Olive20220629/Olive20220629_X8DKP3SFFW.nwb\n",
      "WARNING:datajoint:Skipped checksum for file with hash: 5372f4ac-9539-dd8a-3d9d-fcdfafc67a95, and path: /stelmo/nwb/analysis/Olive20220629/Olive20220629_X8DKP3SFFW.nwb\n"
     ]
    },
    {
     "name": "stdout",
     "output_type": "stream",
     "text": [
      "Slow Gamma 25-55 Hz Olive20220629_.nwb pos 0 valid times eb9a2d7a-5760-7f04-7e5b-2fd5134951d2\n"
     ]
    },
    {
     "name": "stderr",
     "output_type": "stream",
     "text": [
      "[2023-12-06 09:07:19,701][WARNING]: Skipped checksum for file with hash: 5372f4ac-9539-dd8a-3d9d-fcdfafc67a95, and path: /stelmo/nwb/analysis/Olive20220629/Olive20220629_X8DKP3SFFW.nwb\n",
      "WARNING:datajoint:Skipped checksum for file with hash: 5372f4ac-9539-dd8a-3d9d-fcdfafc67a95, and path: /stelmo/nwb/analysis/Olive20220629/Olive20220629_X8DKP3SFFW.nwb\n"
     ]
    },
    {
     "name": "stdout",
     "output_type": "stream",
     "text": [
      "Fast Gamma 65-100 Hz Olive20220629_.nwb pos 0 valid times eb9a2d7a-5760-7f04-7e5b-2fd5134951d2\n"
     ]
    },
    {
     "name": "stderr",
     "output_type": "stream",
     "text": [
      "[2023-12-06 09:07:20,582][WARNING]: Skipped checksum for file with hash: 36f9c2c0-c5fa-b923-e4e0-bbe9d818ce0d, and path: /stelmo/nwb/analysis/Olive20220629/Olive20220629_33UD6X8GVD.nwb\n",
      "WARNING:datajoint:Skipped checksum for file with hash: 36f9c2c0-c5fa-b923-e4e0-bbe9d818ce0d, and path: /stelmo/nwb/analysis/Olive20220629/Olive20220629_33UD6X8GVD.nwb\n"
     ]
    },
    {
     "name": "stdout",
     "output_type": "stream",
     "text": [
      "Slow Gamma 25-55 Hz Olive20220629_.nwb pos 1 valid times 1d510dbf-685e-adbc-e29d-d7a36b33820b\n"
     ]
    },
    {
     "name": "stderr",
     "output_type": "stream",
     "text": [
      "[2023-12-06 09:07:22,129][WARNING]: Skipped checksum for file with hash: 36f9c2c0-c5fa-b923-e4e0-bbe9d818ce0d, and path: /stelmo/nwb/analysis/Olive20220629/Olive20220629_33UD6X8GVD.nwb\n",
      "WARNING:datajoint:Skipped checksum for file with hash: 36f9c2c0-c5fa-b923-e4e0-bbe9d818ce0d, and path: /stelmo/nwb/analysis/Olive20220629/Olive20220629_33UD6X8GVD.nwb\n"
     ]
    },
    {
     "name": "stdout",
     "output_type": "stream",
     "text": [
      "Fast Gamma 65-100 Hz Olive20220629_.nwb pos 1 valid times 1d510dbf-685e-adbc-e29d-d7a36b33820b\n"
     ]
    },
    {
     "name": "stderr",
     "output_type": "stream",
     "text": [
      "[2023-12-06 09:07:22,955][WARNING]: Skipped checksum for file with hash: e2c7478f-c5ae-6c3c-689f-514bb82e6233, and path: /stelmo/nwb/analysis/Olive20220629/Olive20220629_49HOI6VLR3.nwb\n",
      "WARNING:datajoint:Skipped checksum for file with hash: e2c7478f-c5ae-6c3c-689f-514bb82e6233, and path: /stelmo/nwb/analysis/Olive20220629/Olive20220629_49HOI6VLR3.nwb\n"
     ]
    },
    {
     "name": "stdout",
     "output_type": "stream",
     "text": [
      "Slow Gamma 25-55 Hz Olive20220629_.nwb pos 10 valid times 699300c5-36a5-6f35-2560-c8c9ec61e9b9\n"
     ]
    },
    {
     "name": "stderr",
     "output_type": "stream",
     "text": [
      "[2023-12-06 09:07:24,486][WARNING]: Skipped checksum for file with hash: e2c7478f-c5ae-6c3c-689f-514bb82e6233, and path: /stelmo/nwb/analysis/Olive20220629/Olive20220629_49HOI6VLR3.nwb\n",
      "WARNING:datajoint:Skipped checksum for file with hash: e2c7478f-c5ae-6c3c-689f-514bb82e6233, and path: /stelmo/nwb/analysis/Olive20220629/Olive20220629_49HOI6VLR3.nwb\n"
     ]
    },
    {
     "name": "stdout",
     "output_type": "stream",
     "text": [
      "Fast Gamma 65-100 Hz Olive20220629_.nwb pos 10 valid times 699300c5-36a5-6f35-2560-c8c9ec61e9b9\n"
     ]
    },
    {
     "name": "stderr",
     "output_type": "stream",
     "text": [
      "[2023-12-06 09:07:25,355][WARNING]: Skipped checksum for file with hash: db763bbe-e083-6996-0bb4-dc74ad100d82, and path: /stelmo/nwb/analysis/Olive20220629/Olive20220629_TTWIZDJYIO.nwb\n",
      "WARNING:datajoint:Skipped checksum for file with hash: db763bbe-e083-6996-0bb4-dc74ad100d82, and path: /stelmo/nwb/analysis/Olive20220629/Olive20220629_TTWIZDJYIO.nwb\n"
     ]
    },
    {
     "name": "stdout",
     "output_type": "stream",
     "text": [
      "Slow Gamma 25-55 Hz Olive20220629_.nwb pos 2 valid times ec45e88d-3432-1930-5618-bbd11d2207e7\n"
     ]
    },
    {
     "name": "stderr",
     "output_type": "stream",
     "text": [
      "[2023-12-06 09:07:26,806][WARNING]: Skipped checksum for file with hash: db763bbe-e083-6996-0bb4-dc74ad100d82, and path: /stelmo/nwb/analysis/Olive20220629/Olive20220629_TTWIZDJYIO.nwb\n",
      "WARNING:datajoint:Skipped checksum for file with hash: db763bbe-e083-6996-0bb4-dc74ad100d82, and path: /stelmo/nwb/analysis/Olive20220629/Olive20220629_TTWIZDJYIO.nwb\n"
     ]
    },
    {
     "name": "stdout",
     "output_type": "stream",
     "text": [
      "Fast Gamma 65-100 Hz Olive20220629_.nwb pos 2 valid times ec45e88d-3432-1930-5618-bbd11d2207e7\n"
     ]
    },
    {
     "name": "stderr",
     "output_type": "stream",
     "text": [
      "[2023-12-06 09:07:27,628][WARNING]: Skipped checksum for file with hash: 8836b924-8635-d919-2ea9-11a690d8ca4b, and path: /stelmo/nwb/analysis/Olive20220629/Olive20220629_FUCKU3L7K1.nwb\n",
      "WARNING:datajoint:Skipped checksum for file with hash: 8836b924-8635-d919-2ea9-11a690d8ca4b, and path: /stelmo/nwb/analysis/Olive20220629/Olive20220629_FUCKU3L7K1.nwb\n"
     ]
    },
    {
     "name": "stdout",
     "output_type": "stream",
     "text": [
      "Slow Gamma 25-55 Hz Olive20220629_.nwb pos 3 valid times 59e6e4d7-282c-754d-680d-ca71732a8e58\n"
     ]
    },
    {
     "name": "stderr",
     "output_type": "stream",
     "text": [
      "[2023-12-06 09:07:29,071][WARNING]: Skipped checksum for file with hash: 8836b924-8635-d919-2ea9-11a690d8ca4b, and path: /stelmo/nwb/analysis/Olive20220629/Olive20220629_FUCKU3L7K1.nwb\n",
      "WARNING:datajoint:Skipped checksum for file with hash: 8836b924-8635-d919-2ea9-11a690d8ca4b, and path: /stelmo/nwb/analysis/Olive20220629/Olive20220629_FUCKU3L7K1.nwb\n"
     ]
    },
    {
     "name": "stdout",
     "output_type": "stream",
     "text": [
      "Fast Gamma 65-100 Hz Olive20220629_.nwb pos 3 valid times 59e6e4d7-282c-754d-680d-ca71732a8e58\n"
     ]
    },
    {
     "name": "stderr",
     "output_type": "stream",
     "text": [
      "[2023-12-06 09:07:29,884][WARNING]: Skipped checksum for file with hash: 01a59816-ea5c-899e-38a5-e1a92078f771, and path: /stelmo/nwb/analysis/Olive20220629/Olive20220629_YM1WVE8DQ1.nwb\n",
      "WARNING:datajoint:Skipped checksum for file with hash: 01a59816-ea5c-899e-38a5-e1a92078f771, and path: /stelmo/nwb/analysis/Olive20220629/Olive20220629_YM1WVE8DQ1.nwb\n"
     ]
    },
    {
     "name": "stdout",
     "output_type": "stream",
     "text": [
      "Slow Gamma 25-55 Hz Olive20220629_.nwb pos 4 valid times fc73a43b-5dff-1a3d-7d8d-deaf33708080\n"
     ]
    },
    {
     "name": "stderr",
     "output_type": "stream",
     "text": [
      "[2023-12-06 09:07:31,338][WARNING]: Skipped checksum for file with hash: 01a59816-ea5c-899e-38a5-e1a92078f771, and path: /stelmo/nwb/analysis/Olive20220629/Olive20220629_YM1WVE8DQ1.nwb\n",
      "WARNING:datajoint:Skipped checksum for file with hash: 01a59816-ea5c-899e-38a5-e1a92078f771, and path: /stelmo/nwb/analysis/Olive20220629/Olive20220629_YM1WVE8DQ1.nwb\n"
     ]
    },
    {
     "name": "stdout",
     "output_type": "stream",
     "text": [
      "Fast Gamma 65-100 Hz Olive20220629_.nwb pos 4 valid times fc73a43b-5dff-1a3d-7d8d-deaf33708080\n"
     ]
    },
    {
     "name": "stderr",
     "output_type": "stream",
     "text": [
      "[2023-12-06 09:07:32,113][WARNING]: Skipped checksum for file with hash: db8fcdae-2024-adc1-9e0e-1ccff10ed512, and path: /stelmo/nwb/analysis/Olive20220629/Olive20220629_LYGESXBJH1.nwb\n",
      "WARNING:datajoint:Skipped checksum for file with hash: db8fcdae-2024-adc1-9e0e-1ccff10ed512, and path: /stelmo/nwb/analysis/Olive20220629/Olive20220629_LYGESXBJH1.nwb\n"
     ]
    },
    {
     "name": "stdout",
     "output_type": "stream",
     "text": [
      "Slow Gamma 25-55 Hz Olive20220629_.nwb pos 5 valid times bbc92e0d-3050-6791-6bc7-d6b3e1657604\n"
     ]
    },
    {
     "name": "stderr",
     "output_type": "stream",
     "text": [
      "[2023-12-06 09:07:33,622][WARNING]: Skipped checksum for file with hash: db8fcdae-2024-adc1-9e0e-1ccff10ed512, and path: /stelmo/nwb/analysis/Olive20220629/Olive20220629_LYGESXBJH1.nwb\n",
      "WARNING:datajoint:Skipped checksum for file with hash: db8fcdae-2024-adc1-9e0e-1ccff10ed512, and path: /stelmo/nwb/analysis/Olive20220629/Olive20220629_LYGESXBJH1.nwb\n"
     ]
    },
    {
     "name": "stdout",
     "output_type": "stream",
     "text": [
      "Fast Gamma 65-100 Hz Olive20220629_.nwb pos 5 valid times bbc92e0d-3050-6791-6bc7-d6b3e1657604\n"
     ]
    },
    {
     "name": "stderr",
     "output_type": "stream",
     "text": [
      "[2023-12-06 09:07:34,521][WARNING]: Skipped checksum for file with hash: e0257f41-d9dc-712d-8ab5-253c52acc63f, and path: /stelmo/nwb/analysis/Olive20220629/Olive20220629_MA1GXW1V1G.nwb\n",
      "WARNING:datajoint:Skipped checksum for file with hash: e0257f41-d9dc-712d-8ab5-253c52acc63f, and path: /stelmo/nwb/analysis/Olive20220629/Olive20220629_MA1GXW1V1G.nwb\n"
     ]
    },
    {
     "name": "stdout",
     "output_type": "stream",
     "text": [
      "Slow Gamma 25-55 Hz Olive20220629_.nwb pos 6 valid times 5ed204cb-c402-57b1-f1a8-4990c9c88c6c\n"
     ]
    },
    {
     "name": "stderr",
     "output_type": "stream",
     "text": [
      "[2023-12-06 09:07:35,902][WARNING]: Skipped checksum for file with hash: e0257f41-d9dc-712d-8ab5-253c52acc63f, and path: /stelmo/nwb/analysis/Olive20220629/Olive20220629_MA1GXW1V1G.nwb\n",
      "WARNING:datajoint:Skipped checksum for file with hash: e0257f41-d9dc-712d-8ab5-253c52acc63f, and path: /stelmo/nwb/analysis/Olive20220629/Olive20220629_MA1GXW1V1G.nwb\n"
     ]
    },
    {
     "name": "stdout",
     "output_type": "stream",
     "text": [
      "Fast Gamma 65-100 Hz Olive20220629_.nwb pos 6 valid times 5ed204cb-c402-57b1-f1a8-4990c9c88c6c\n"
     ]
    },
    {
     "name": "stderr",
     "output_type": "stream",
     "text": [
      "[2023-12-06 09:07:36,695][WARNING]: Skipped checksum for file with hash: b5320c49-7cd6-2568-d9f8-e2e805e94397, and path: /stelmo/nwb/analysis/Olive20220629/Olive20220629_7ZFGAL2VIC.nwb\n",
      "WARNING:datajoint:Skipped checksum for file with hash: b5320c49-7cd6-2568-d9f8-e2e805e94397, and path: /stelmo/nwb/analysis/Olive20220629/Olive20220629_7ZFGAL2VIC.nwb\n"
     ]
    },
    {
     "name": "stdout",
     "output_type": "stream",
     "text": [
      "Slow Gamma 25-55 Hz Olive20220629_.nwb pos 7 valid times ba065453-c38e-8a5a-8184-85172e96d710\n"
     ]
    },
    {
     "name": "stderr",
     "output_type": "stream",
     "text": [
      "[2023-12-06 09:07:38,137][WARNING]: Skipped checksum for file with hash: b5320c49-7cd6-2568-d9f8-e2e805e94397, and path: /stelmo/nwb/analysis/Olive20220629/Olive20220629_7ZFGAL2VIC.nwb\n",
      "WARNING:datajoint:Skipped checksum for file with hash: b5320c49-7cd6-2568-d9f8-e2e805e94397, and path: /stelmo/nwb/analysis/Olive20220629/Olive20220629_7ZFGAL2VIC.nwb\n"
     ]
    },
    {
     "name": "stdout",
     "output_type": "stream",
     "text": [
      "Fast Gamma 65-100 Hz Olive20220629_.nwb pos 7 valid times ba065453-c38e-8a5a-8184-85172e96d710\n"
     ]
    },
    {
     "name": "stderr",
     "output_type": "stream",
     "text": [
      "[2023-12-06 09:07:38,966][WARNING]: Skipped checksum for file with hash: 544931b9-125c-8b3a-172d-573db30dfd01, and path: /stelmo/nwb/analysis/Olive20220629/Olive20220629_KIMX577XXU.nwb\n",
      "WARNING:datajoint:Skipped checksum for file with hash: 544931b9-125c-8b3a-172d-573db30dfd01, and path: /stelmo/nwb/analysis/Olive20220629/Olive20220629_KIMX577XXU.nwb\n"
     ]
    },
    {
     "name": "stdout",
     "output_type": "stream",
     "text": [
      "Slow Gamma 25-55 Hz Olive20220629_.nwb pos 8 valid times 5adc9591-8d42-99ed-42d0-3be5586dc57d\n"
     ]
    },
    {
     "name": "stderr",
     "output_type": "stream",
     "text": [
      "[2023-12-06 09:07:40,501][WARNING]: Skipped checksum for file with hash: 544931b9-125c-8b3a-172d-573db30dfd01, and path: /stelmo/nwb/analysis/Olive20220629/Olive20220629_KIMX577XXU.nwb\n",
      "WARNING:datajoint:Skipped checksum for file with hash: 544931b9-125c-8b3a-172d-573db30dfd01, and path: /stelmo/nwb/analysis/Olive20220629/Olive20220629_KIMX577XXU.nwb\n"
     ]
    },
    {
     "name": "stdout",
     "output_type": "stream",
     "text": [
      "Fast Gamma 65-100 Hz Olive20220629_.nwb pos 8 valid times 5adc9591-8d42-99ed-42d0-3be5586dc57d\n"
     ]
    },
    {
     "name": "stderr",
     "output_type": "stream",
     "text": [
      "[2023-12-06 09:07:41,303][WARNING]: Skipped checksum for file with hash: 264c9518-2776-f957-c2a9-48b4aac3895d, and path: /stelmo/nwb/analysis/Olive20220629/Olive20220629_A8A5A2LB7R.nwb\n",
      "WARNING:datajoint:Skipped checksum for file with hash: 264c9518-2776-f957-c2a9-48b4aac3895d, and path: /stelmo/nwb/analysis/Olive20220629/Olive20220629_A8A5A2LB7R.nwb\n"
     ]
    },
    {
     "name": "stdout",
     "output_type": "stream",
     "text": [
      "Slow Gamma 25-55 Hz Olive20220629_.nwb pos 9 valid times 4bb6acee-ac9d-03da-6dbd-00a229f01c61\n"
     ]
    },
    {
     "name": "stderr",
     "output_type": "stream",
     "text": [
      "[2023-12-06 09:07:42,748][WARNING]: Skipped checksum for file with hash: 264c9518-2776-f957-c2a9-48b4aac3895d, and path: /stelmo/nwb/analysis/Olive20220629/Olive20220629_A8A5A2LB7R.nwb\n",
      "WARNING:datajoint:Skipped checksum for file with hash: 264c9518-2776-f957-c2a9-48b4aac3895d, and path: /stelmo/nwb/analysis/Olive20220629/Olive20220629_A8A5A2LB7R.nwb\n"
     ]
    },
    {
     "name": "stdout",
     "output_type": "stream",
     "text": [
      "Fast Gamma 65-100 Hz Olive20220629_.nwb pos 9 valid times 4bb6acee-ac9d-03da-6dbd-00a229f01c61\n"
     ]
    },
    {
     "name": "stderr",
     "output_type": "stream",
     "text": [
      "[2023-12-06 09:07:43,581][WARNING]: Skipped checksum for file with hash: ff3c9981-a6cd-ee8d-6e66-b9b58a5d45e2, and path: /stelmo/nwb/analysis/Olive20220630/Olive20220630_B4SVTKAYFL.nwb\n",
      "WARNING:datajoint:Skipped checksum for file with hash: ff3c9981-a6cd-ee8d-6e66-b9b58a5d45e2, and path: /stelmo/nwb/analysis/Olive20220630/Olive20220630_B4SVTKAYFL.nwb\n"
     ]
    },
    {
     "name": "stdout",
     "output_type": "stream",
     "text": [
      "Slow Gamma 25-55 Hz Olive20220630_.nwb pos 0 valid times 5c0acfe2-7455-75f2-046f-826ed1c7abb2\n"
     ]
    },
    {
     "name": "stderr",
     "output_type": "stream",
     "text": [
      "[2023-12-06 09:07:45,015][WARNING]: Skipped checksum for file with hash: ff3c9981-a6cd-ee8d-6e66-b9b58a5d45e2, and path: /stelmo/nwb/analysis/Olive20220630/Olive20220630_B4SVTKAYFL.nwb\n",
      "WARNING:datajoint:Skipped checksum for file with hash: ff3c9981-a6cd-ee8d-6e66-b9b58a5d45e2, and path: /stelmo/nwb/analysis/Olive20220630/Olive20220630_B4SVTKAYFL.nwb\n"
     ]
    },
    {
     "name": "stdout",
     "output_type": "stream",
     "text": [
      "Fast Gamma 65-100 Hz Olive20220630_.nwb pos 0 valid times 5c0acfe2-7455-75f2-046f-826ed1c7abb2\n"
     ]
    },
    {
     "name": "stderr",
     "output_type": "stream",
     "text": [
      "[2023-12-06 09:07:45,939][WARNING]: Skipped checksum for file with hash: b9bdfd5f-be56-c079-29d6-5569785ac274, and path: /stelmo/nwb/analysis/Olive20220630/Olive20220630_N3JZ7SBHHA.nwb\n",
      "WARNING:datajoint:Skipped checksum for file with hash: b9bdfd5f-be56-c079-29d6-5569785ac274, and path: /stelmo/nwb/analysis/Olive20220630/Olive20220630_N3JZ7SBHHA.nwb\n"
     ]
    },
    {
     "name": "stdout",
     "output_type": "stream",
     "text": [
      "Slow Gamma 25-55 Hz Olive20220630_.nwb pos 1 valid times 420c448a-fb53-ad0a-94c9-a885ded36074\n"
     ]
    },
    {
     "name": "stderr",
     "output_type": "stream",
     "text": [
      "[2023-12-06 09:07:47,369][WARNING]: Skipped checksum for file with hash: b9bdfd5f-be56-c079-29d6-5569785ac274, and path: /stelmo/nwb/analysis/Olive20220630/Olive20220630_N3JZ7SBHHA.nwb\n",
      "WARNING:datajoint:Skipped checksum for file with hash: b9bdfd5f-be56-c079-29d6-5569785ac274, and path: /stelmo/nwb/analysis/Olive20220630/Olive20220630_N3JZ7SBHHA.nwb\n"
     ]
    },
    {
     "name": "stdout",
     "output_type": "stream",
     "text": [
      "Fast Gamma 65-100 Hz Olive20220630_.nwb pos 1 valid times 420c448a-fb53-ad0a-94c9-a885ded36074\n"
     ]
    },
    {
     "name": "stderr",
     "output_type": "stream",
     "text": [
      "[2023-12-06 09:07:48,202][WARNING]: Skipped checksum for file with hash: b7bc58bb-25f4-33d3-d754-b7eb6b2d2d97, and path: /stelmo/nwb/analysis/Olive20220630/Olive20220630_SQ1XT09HGS.nwb\n",
      "WARNING:datajoint:Skipped checksum for file with hash: b7bc58bb-25f4-33d3-d754-b7eb6b2d2d97, and path: /stelmo/nwb/analysis/Olive20220630/Olive20220630_SQ1XT09HGS.nwb\n"
     ]
    },
    {
     "name": "stdout",
     "output_type": "stream",
     "text": [
      "Slow Gamma 25-55 Hz Olive20220630_.nwb pos 10 valid times f5ad954b-712b-4958-ae77-f48120d46d61\n"
     ]
    },
    {
     "name": "stderr",
     "output_type": "stream",
     "text": [
      "[2023-12-06 09:07:49,720][WARNING]: Skipped checksum for file with hash: b7bc58bb-25f4-33d3-d754-b7eb6b2d2d97, and path: /stelmo/nwb/analysis/Olive20220630/Olive20220630_SQ1XT09HGS.nwb\n",
      "WARNING:datajoint:Skipped checksum for file with hash: b7bc58bb-25f4-33d3-d754-b7eb6b2d2d97, and path: /stelmo/nwb/analysis/Olive20220630/Olive20220630_SQ1XT09HGS.nwb\n"
     ]
    },
    {
     "name": "stdout",
     "output_type": "stream",
     "text": [
      "Fast Gamma 65-100 Hz Olive20220630_.nwb pos 10 valid times f5ad954b-712b-4958-ae77-f48120d46d61\n"
     ]
    },
    {
     "name": "stderr",
     "output_type": "stream",
     "text": [
      "[2023-12-06 09:07:50,536][WARNING]: Skipped checksum for file with hash: 710ba1ae-1989-285f-c0fc-c93e66ce8ae7, and path: /stelmo/nwb/analysis/Olive20220630/Olive20220630_3RLQBAA1GK.nwb\n",
      "WARNING:datajoint:Skipped checksum for file with hash: 710ba1ae-1989-285f-c0fc-c93e66ce8ae7, and path: /stelmo/nwb/analysis/Olive20220630/Olive20220630_3RLQBAA1GK.nwb\n"
     ]
    },
    {
     "name": "stdout",
     "output_type": "stream",
     "text": [
      "Slow Gamma 25-55 Hz Olive20220630_.nwb pos 2 valid times 0bc0cbb4-b88a-4dce-918e-65bc82a1d874\n"
     ]
    },
    {
     "name": "stderr",
     "output_type": "stream",
     "text": [
      "[2023-12-06 09:07:51,999][WARNING]: Skipped checksum for file with hash: 710ba1ae-1989-285f-c0fc-c93e66ce8ae7, and path: /stelmo/nwb/analysis/Olive20220630/Olive20220630_3RLQBAA1GK.nwb\n",
      "WARNING:datajoint:Skipped checksum for file with hash: 710ba1ae-1989-285f-c0fc-c93e66ce8ae7, and path: /stelmo/nwb/analysis/Olive20220630/Olive20220630_3RLQBAA1GK.nwb\n"
     ]
    },
    {
     "name": "stdout",
     "output_type": "stream",
     "text": [
      "Fast Gamma 65-100 Hz Olive20220630_.nwb pos 2 valid times 0bc0cbb4-b88a-4dce-918e-65bc82a1d874\n"
     ]
    },
    {
     "name": "stderr",
     "output_type": "stream",
     "text": [
      "[2023-12-06 09:07:52,771][WARNING]: Skipped checksum for file with hash: e5882412-3974-962b-89b0-f4196e4bd069, and path: /stelmo/nwb/analysis/Olive20220630/Olive20220630_WV1AYJZSHE.nwb\n",
      "WARNING:datajoint:Skipped checksum for file with hash: e5882412-3974-962b-89b0-f4196e4bd069, and path: /stelmo/nwb/analysis/Olive20220630/Olive20220630_WV1AYJZSHE.nwb\n"
     ]
    },
    {
     "name": "stdout",
     "output_type": "stream",
     "text": [
      "Slow Gamma 25-55 Hz Olive20220630_.nwb pos 3 valid times 46e5bd87-fe95-7457-dfb7-ad8a6e1a63d6\n"
     ]
    },
    {
     "name": "stderr",
     "output_type": "stream",
     "text": [
      "[2023-12-06 09:07:54,217][WARNING]: Skipped checksum for file with hash: e5882412-3974-962b-89b0-f4196e4bd069, and path: /stelmo/nwb/analysis/Olive20220630/Olive20220630_WV1AYJZSHE.nwb\n",
      "WARNING:datajoint:Skipped checksum for file with hash: e5882412-3974-962b-89b0-f4196e4bd069, and path: /stelmo/nwb/analysis/Olive20220630/Olive20220630_WV1AYJZSHE.nwb\n"
     ]
    },
    {
     "name": "stdout",
     "output_type": "stream",
     "text": [
      "Fast Gamma 65-100 Hz Olive20220630_.nwb pos 3 valid times 46e5bd87-fe95-7457-dfb7-ad8a6e1a63d6\n"
     ]
    },
    {
     "name": "stderr",
     "output_type": "stream",
     "text": [
      "[2023-12-06 09:07:55,066][WARNING]: Skipped checksum for file with hash: 68915266-e30d-d5d6-ce6b-b4e244f9ee89, and path: /stelmo/nwb/analysis/Olive20220630/Olive20220630_4HM1NBC5HJ.nwb\n",
      "WARNING:datajoint:Skipped checksum for file with hash: 68915266-e30d-d5d6-ce6b-b4e244f9ee89, and path: /stelmo/nwb/analysis/Olive20220630/Olive20220630_4HM1NBC5HJ.nwb\n"
     ]
    },
    {
     "name": "stdout",
     "output_type": "stream",
     "text": [
      "Slow Gamma 25-55 Hz Olive20220630_.nwb pos 4 valid times 79b58a02-a1a5-e3f0-21d8-934e2e3039ea\n"
     ]
    },
    {
     "name": "stderr",
     "output_type": "stream",
     "text": [
      "[2023-12-06 09:07:56,466][WARNING]: Skipped checksum for file with hash: 68915266-e30d-d5d6-ce6b-b4e244f9ee89, and path: /stelmo/nwb/analysis/Olive20220630/Olive20220630_4HM1NBC5HJ.nwb\n",
      "WARNING:datajoint:Skipped checksum for file with hash: 68915266-e30d-d5d6-ce6b-b4e244f9ee89, and path: /stelmo/nwb/analysis/Olive20220630/Olive20220630_4HM1NBC5HJ.nwb\n"
     ]
    },
    {
     "name": "stdout",
     "output_type": "stream",
     "text": [
      "Fast Gamma 65-100 Hz Olive20220630_.nwb pos 4 valid times 79b58a02-a1a5-e3f0-21d8-934e2e3039ea\n"
     ]
    },
    {
     "name": "stderr",
     "output_type": "stream",
     "text": [
      "[2023-12-06 09:07:57,304][WARNING]: Skipped checksum for file with hash: a51d1be2-dc9e-1b62-4bf2-77cb6f919ab4, and path: /stelmo/nwb/analysis/Olive20220630/Olive20220630_UL8ES3R43D.nwb\n",
      "WARNING:datajoint:Skipped checksum for file with hash: a51d1be2-dc9e-1b62-4bf2-77cb6f919ab4, and path: /stelmo/nwb/analysis/Olive20220630/Olive20220630_UL8ES3R43D.nwb\n"
     ]
    },
    {
     "name": "stdout",
     "output_type": "stream",
     "text": [
      "Slow Gamma 25-55 Hz Olive20220630_.nwb pos 5 valid times 94f69010-ddd5-77d8-22a6-6fea63791af0\n"
     ]
    },
    {
     "name": "stderr",
     "output_type": "stream",
     "text": [
      "[2023-12-06 09:07:58,811][WARNING]: Skipped checksum for file with hash: a51d1be2-dc9e-1b62-4bf2-77cb6f919ab4, and path: /stelmo/nwb/analysis/Olive20220630/Olive20220630_UL8ES3R43D.nwb\n",
      "WARNING:datajoint:Skipped checksum for file with hash: a51d1be2-dc9e-1b62-4bf2-77cb6f919ab4, and path: /stelmo/nwb/analysis/Olive20220630/Olive20220630_UL8ES3R43D.nwb\n"
     ]
    },
    {
     "name": "stdout",
     "output_type": "stream",
     "text": [
      "Fast Gamma 65-100 Hz Olive20220630_.nwb pos 5 valid times 94f69010-ddd5-77d8-22a6-6fea63791af0\n"
     ]
    },
    {
     "name": "stderr",
     "output_type": "stream",
     "text": [
      "[2023-12-06 09:07:59,632][WARNING]: Skipped checksum for file with hash: 5cc80121-423e-1dd1-6b9e-74cd4fd4e555, and path: /stelmo/nwb/analysis/Olive20220630/Olive20220630_5XZ46ZOANM.nwb\n",
      "WARNING:datajoint:Skipped checksum for file with hash: 5cc80121-423e-1dd1-6b9e-74cd4fd4e555, and path: /stelmo/nwb/analysis/Olive20220630/Olive20220630_5XZ46ZOANM.nwb\n"
     ]
    },
    {
     "name": "stdout",
     "output_type": "stream",
     "text": [
      "Slow Gamma 25-55 Hz Olive20220630_.nwb pos 6 valid times 7ae2d658-f54f-4b86-5a44-ab588508583b\n"
     ]
    },
    {
     "name": "stderr",
     "output_type": "stream",
     "text": [
      "[2023-12-06 09:08:01,132][WARNING]: Skipped checksum for file with hash: 5cc80121-423e-1dd1-6b9e-74cd4fd4e555, and path: /stelmo/nwb/analysis/Olive20220630/Olive20220630_5XZ46ZOANM.nwb\n",
      "WARNING:datajoint:Skipped checksum for file with hash: 5cc80121-423e-1dd1-6b9e-74cd4fd4e555, and path: /stelmo/nwb/analysis/Olive20220630/Olive20220630_5XZ46ZOANM.nwb\n"
     ]
    },
    {
     "name": "stdout",
     "output_type": "stream",
     "text": [
      "Fast Gamma 65-100 Hz Olive20220630_.nwb pos 6 valid times 7ae2d658-f54f-4b86-5a44-ab588508583b\n"
     ]
    },
    {
     "name": "stderr",
     "output_type": "stream",
     "text": [
      "[2023-12-06 09:08:01,968][WARNING]: Skipped checksum for file with hash: 53cca83f-4a2c-86f3-cee9-d92069be14d1, and path: /stelmo/nwb/analysis/Olive20220630/Olive20220630_TZIJ7V9S7Y.nwb\n",
      "WARNING:datajoint:Skipped checksum for file with hash: 53cca83f-4a2c-86f3-cee9-d92069be14d1, and path: /stelmo/nwb/analysis/Olive20220630/Olive20220630_TZIJ7V9S7Y.nwb\n"
     ]
    },
    {
     "name": "stdout",
     "output_type": "stream",
     "text": [
      "Slow Gamma 25-55 Hz Olive20220630_.nwb pos 7 valid times 538541da-c7a3-1a29-ad00-17303f2aea0a\n"
     ]
    },
    {
     "name": "stderr",
     "output_type": "stream",
     "text": [
      "[2023-12-06 09:08:03,450][WARNING]: Skipped checksum for file with hash: 53cca83f-4a2c-86f3-cee9-d92069be14d1, and path: /stelmo/nwb/analysis/Olive20220630/Olive20220630_TZIJ7V9S7Y.nwb\n",
      "WARNING:datajoint:Skipped checksum for file with hash: 53cca83f-4a2c-86f3-cee9-d92069be14d1, and path: /stelmo/nwb/analysis/Olive20220630/Olive20220630_TZIJ7V9S7Y.nwb\n"
     ]
    },
    {
     "name": "stdout",
     "output_type": "stream",
     "text": [
      "Fast Gamma 65-100 Hz Olive20220630_.nwb pos 7 valid times 538541da-c7a3-1a29-ad00-17303f2aea0a\n"
     ]
    },
    {
     "name": "stderr",
     "output_type": "stream",
     "text": [
      "[2023-12-06 09:08:04,265][WARNING]: Skipped checksum for file with hash: def3a0f6-19a3-473b-065f-8163a8feb84d, and path: /stelmo/nwb/analysis/Olive20220630/Olive20220630_7W3SIOLW4S.nwb\n",
      "WARNING:datajoint:Skipped checksum for file with hash: def3a0f6-19a3-473b-065f-8163a8feb84d, and path: /stelmo/nwb/analysis/Olive20220630/Olive20220630_7W3SIOLW4S.nwb\n"
     ]
    },
    {
     "name": "stdout",
     "output_type": "stream",
     "text": [
      "Slow Gamma 25-55 Hz Olive20220630_.nwb pos 8 valid times 628f32db-a26c-cf64-988e-31ab2c8c994f\n"
     ]
    },
    {
     "name": "stderr",
     "output_type": "stream",
     "text": [
      "[2023-12-06 09:08:05,728][WARNING]: Skipped checksum for file with hash: def3a0f6-19a3-473b-065f-8163a8feb84d, and path: /stelmo/nwb/analysis/Olive20220630/Olive20220630_7W3SIOLW4S.nwb\n",
      "WARNING:datajoint:Skipped checksum for file with hash: def3a0f6-19a3-473b-065f-8163a8feb84d, and path: /stelmo/nwb/analysis/Olive20220630/Olive20220630_7W3SIOLW4S.nwb\n"
     ]
    },
    {
     "name": "stdout",
     "output_type": "stream",
     "text": [
      "Fast Gamma 65-100 Hz Olive20220630_.nwb pos 8 valid times 628f32db-a26c-cf64-988e-31ab2c8c994f\n"
     ]
    },
    {
     "name": "stderr",
     "output_type": "stream",
     "text": [
      "[2023-12-06 09:08:06,535][WARNING]: Skipped checksum for file with hash: 51a831c0-6e56-ae91-6b47-02a13de51212, and path: /stelmo/nwb/analysis/Olive20220630/Olive20220630_LDGJ5JEU8R.nwb\n",
      "WARNING:datajoint:Skipped checksum for file with hash: 51a831c0-6e56-ae91-6b47-02a13de51212, and path: /stelmo/nwb/analysis/Olive20220630/Olive20220630_LDGJ5JEU8R.nwb\n"
     ]
    },
    {
     "name": "stdout",
     "output_type": "stream",
     "text": [
      "Slow Gamma 25-55 Hz Olive20220630_.nwb pos 9 valid times 701610c8-58e8-f71c-909c-bd1b28c475d2\n"
     ]
    },
    {
     "name": "stderr",
     "output_type": "stream",
     "text": [
      "[2023-12-06 09:08:08,044][WARNING]: Skipped checksum for file with hash: 51a831c0-6e56-ae91-6b47-02a13de51212, and path: /stelmo/nwb/analysis/Olive20220630/Olive20220630_LDGJ5JEU8R.nwb\n",
      "WARNING:datajoint:Skipped checksum for file with hash: 51a831c0-6e56-ae91-6b47-02a13de51212, and path: /stelmo/nwb/analysis/Olive20220630/Olive20220630_LDGJ5JEU8R.nwb\n"
     ]
    },
    {
     "name": "stdout",
     "output_type": "stream",
     "text": [
      "Fast Gamma 65-100 Hz Olive20220630_.nwb pos 9 valid times 701610c8-58e8-f71c-909c-bd1b28c475d2\n"
     ]
    },
    {
     "name": "stderr",
     "output_type": "stream",
     "text": [
      "[2023-12-06 09:08:08,851][WARNING]: Skipped checksum for file with hash: 385624fe-3cc9-f522-efb3-79789677ae1c, and path: /stelmo/nwb/analysis/Olive20220701/Olive20220701_GFE3QIWY8Z.nwb\n",
      "WARNING:datajoint:Skipped checksum for file with hash: 385624fe-3cc9-f522-efb3-79789677ae1c, and path: /stelmo/nwb/analysis/Olive20220701/Olive20220701_GFE3QIWY8Z.nwb\n"
     ]
    },
    {
     "name": "stdout",
     "output_type": "stream",
     "text": [
      "Slow Gamma 25-55 Hz Olive20220701_.nwb pos 0 valid times 46b76f8a-5a26-c336-157b-4f1c71dbfe62\n"
     ]
    },
    {
     "name": "stderr",
     "output_type": "stream",
     "text": [
      "[2023-12-06 09:08:10,299][WARNING]: Skipped checksum for file with hash: 385624fe-3cc9-f522-efb3-79789677ae1c, and path: /stelmo/nwb/analysis/Olive20220701/Olive20220701_GFE3QIWY8Z.nwb\n",
      "WARNING:datajoint:Skipped checksum for file with hash: 385624fe-3cc9-f522-efb3-79789677ae1c, and path: /stelmo/nwb/analysis/Olive20220701/Olive20220701_GFE3QIWY8Z.nwb\n"
     ]
    },
    {
     "name": "stdout",
     "output_type": "stream",
     "text": [
      "Fast Gamma 65-100 Hz Olive20220701_.nwb pos 0 valid times 46b76f8a-5a26-c336-157b-4f1c71dbfe62\n"
     ]
    },
    {
     "name": "stderr",
     "output_type": "stream",
     "text": [
      "[2023-12-06 09:08:11,228][WARNING]: Skipped checksum for file with hash: aa0388cd-d5e0-94eb-9bde-0eb0d3cdd253, and path: /stelmo/nwb/analysis/Olive20220701/Olive20220701_MZ9NX11XLE.nwb\n",
      "WARNING:datajoint:Skipped checksum for file with hash: aa0388cd-d5e0-94eb-9bde-0eb0d3cdd253, and path: /stelmo/nwb/analysis/Olive20220701/Olive20220701_MZ9NX11XLE.nwb\n"
     ]
    },
    {
     "name": "stdout",
     "output_type": "stream",
     "text": [
      "Slow Gamma 25-55 Hz Olive20220701_.nwb pos 1 valid times 5cc815d7-fff0-1200-f59c-a2aff78ed4da\n"
     ]
    },
    {
     "name": "stderr",
     "output_type": "stream",
     "text": [
      "[2023-12-06 09:08:12,737][WARNING]: Skipped checksum for file with hash: aa0388cd-d5e0-94eb-9bde-0eb0d3cdd253, and path: /stelmo/nwb/analysis/Olive20220701/Olive20220701_MZ9NX11XLE.nwb\n",
      "WARNING:datajoint:Skipped checksum for file with hash: aa0388cd-d5e0-94eb-9bde-0eb0d3cdd253, and path: /stelmo/nwb/analysis/Olive20220701/Olive20220701_MZ9NX11XLE.nwb\n"
     ]
    },
    {
     "name": "stdout",
     "output_type": "stream",
     "text": [
      "Fast Gamma 65-100 Hz Olive20220701_.nwb pos 1 valid times 5cc815d7-fff0-1200-f59c-a2aff78ed4da\n"
     ]
    },
    {
     "name": "stderr",
     "output_type": "stream",
     "text": [
      "[2023-12-06 09:08:13,562][WARNING]: Skipped checksum for file with hash: 45d2f9fd-69f9-b802-33cd-8d49d03585b0, and path: /stelmo/nwb/analysis/Olive20220701/Olive20220701_VTA76LWGJV.nwb\n",
      "WARNING:datajoint:Skipped checksum for file with hash: 45d2f9fd-69f9-b802-33cd-8d49d03585b0, and path: /stelmo/nwb/analysis/Olive20220701/Olive20220701_VTA76LWGJV.nwb\n"
     ]
    },
    {
     "name": "stdout",
     "output_type": "stream",
     "text": [
      "Slow Gamma 25-55 Hz Olive20220701_.nwb pos 10 valid times 59b9d9b5-9b4a-69b3-1819-13caf2aca974\n"
     ]
    },
    {
     "name": "stderr",
     "output_type": "stream",
     "text": [
      "[2023-12-06 09:08:15,060][WARNING]: Skipped checksum for file with hash: 45d2f9fd-69f9-b802-33cd-8d49d03585b0, and path: /stelmo/nwb/analysis/Olive20220701/Olive20220701_VTA76LWGJV.nwb\n",
      "WARNING:datajoint:Skipped checksum for file with hash: 45d2f9fd-69f9-b802-33cd-8d49d03585b0, and path: /stelmo/nwb/analysis/Olive20220701/Olive20220701_VTA76LWGJV.nwb\n"
     ]
    },
    {
     "name": "stdout",
     "output_type": "stream",
     "text": [
      "Fast Gamma 65-100 Hz Olive20220701_.nwb pos 10 valid times 59b9d9b5-9b4a-69b3-1819-13caf2aca974\n"
     ]
    },
    {
     "name": "stderr",
     "output_type": "stream",
     "text": [
      "[2023-12-06 09:08:15,878][WARNING]: Skipped checksum for file with hash: 1d2da85f-06b4-4be7-ab25-6e9733017d3f, and path: /stelmo/nwb/analysis/Olive20220701/Olive20220701_4KTVTVRYZB.nwb\n",
      "WARNING:datajoint:Skipped checksum for file with hash: 1d2da85f-06b4-4be7-ab25-6e9733017d3f, and path: /stelmo/nwb/analysis/Olive20220701/Olive20220701_4KTVTVRYZB.nwb\n"
     ]
    },
    {
     "name": "stdout",
     "output_type": "stream",
     "text": [
      "Slow Gamma 25-55 Hz Olive20220701_.nwb pos 2 valid times e4d4fe85-ffa7-7a41-72d9-709337e45ffd\n"
     ]
    },
    {
     "name": "stderr",
     "output_type": "stream",
     "text": [
      "[2023-12-06 09:08:17,381][WARNING]: Skipped checksum for file with hash: 1d2da85f-06b4-4be7-ab25-6e9733017d3f, and path: /stelmo/nwb/analysis/Olive20220701/Olive20220701_4KTVTVRYZB.nwb\n",
      "WARNING:datajoint:Skipped checksum for file with hash: 1d2da85f-06b4-4be7-ab25-6e9733017d3f, and path: /stelmo/nwb/analysis/Olive20220701/Olive20220701_4KTVTVRYZB.nwb\n"
     ]
    },
    {
     "name": "stdout",
     "output_type": "stream",
     "text": [
      "Fast Gamma 65-100 Hz Olive20220701_.nwb pos 2 valid times e4d4fe85-ffa7-7a41-72d9-709337e45ffd\n"
     ]
    },
    {
     "name": "stderr",
     "output_type": "stream",
     "text": [
      "[2023-12-06 09:08:18,243][WARNING]: Skipped checksum for file with hash: 7f3258f9-b330-ba88-90da-d63bbcc12000, and path: /stelmo/nwb/analysis/Olive20220701/Olive20220701_YBMZ9D00ZQ.nwb\n",
      "WARNING:datajoint:Skipped checksum for file with hash: 7f3258f9-b330-ba88-90da-d63bbcc12000, and path: /stelmo/nwb/analysis/Olive20220701/Olive20220701_YBMZ9D00ZQ.nwb\n"
     ]
    },
    {
     "name": "stdout",
     "output_type": "stream",
     "text": [
      "Slow Gamma 25-55 Hz Olive20220701_.nwb pos 3 valid times c1b28d55-4752-54c8-d0cb-6e689a909a64\n"
     ]
    },
    {
     "name": "stderr",
     "output_type": "stream",
     "text": [
      "[2023-12-06 09:08:19,689][WARNING]: Skipped checksum for file with hash: 7f3258f9-b330-ba88-90da-d63bbcc12000, and path: /stelmo/nwb/analysis/Olive20220701/Olive20220701_YBMZ9D00ZQ.nwb\n",
      "WARNING:datajoint:Skipped checksum for file with hash: 7f3258f9-b330-ba88-90da-d63bbcc12000, and path: /stelmo/nwb/analysis/Olive20220701/Olive20220701_YBMZ9D00ZQ.nwb\n"
     ]
    },
    {
     "name": "stdout",
     "output_type": "stream",
     "text": [
      "Fast Gamma 65-100 Hz Olive20220701_.nwb pos 3 valid times c1b28d55-4752-54c8-d0cb-6e689a909a64\n"
     ]
    },
    {
     "name": "stderr",
     "output_type": "stream",
     "text": [
      "[2023-12-06 09:08:20,527][WARNING]: Skipped checksum for file with hash: 0b60a0a2-91d3-46a7-2125-47baf1db3c87, and path: /stelmo/nwb/analysis/Olive20220701/Olive20220701_1KWOZE1M2M.nwb\n",
      "WARNING:datajoint:Skipped checksum for file with hash: 0b60a0a2-91d3-46a7-2125-47baf1db3c87, and path: /stelmo/nwb/analysis/Olive20220701/Olive20220701_1KWOZE1M2M.nwb\n"
     ]
    },
    {
     "name": "stdout",
     "output_type": "stream",
     "text": [
      "Slow Gamma 25-55 Hz Olive20220701_.nwb pos 4 valid times e432de3f-1d5d-dcff-2f8d-fda306583c48\n"
     ]
    },
    {
     "name": "stderr",
     "output_type": "stream",
     "text": [
      "[2023-12-06 09:08:22,031][WARNING]: Skipped checksum for file with hash: 0b60a0a2-91d3-46a7-2125-47baf1db3c87, and path: /stelmo/nwb/analysis/Olive20220701/Olive20220701_1KWOZE1M2M.nwb\n",
      "WARNING:datajoint:Skipped checksum for file with hash: 0b60a0a2-91d3-46a7-2125-47baf1db3c87, and path: /stelmo/nwb/analysis/Olive20220701/Olive20220701_1KWOZE1M2M.nwb\n"
     ]
    },
    {
     "name": "stdout",
     "output_type": "stream",
     "text": [
      "Fast Gamma 65-100 Hz Olive20220701_.nwb pos 4 valid times e432de3f-1d5d-dcff-2f8d-fda306583c48\n"
     ]
    },
    {
     "name": "stderr",
     "output_type": "stream",
     "text": [
      "[2023-12-06 09:08:22,853][WARNING]: Skipped checksum for file with hash: 17d6cb86-c4e7-46a3-1a98-2e388110f4cb, and path: /stelmo/nwb/analysis/Olive20220701/Olive20220701_EYYVUTWQI4.nwb\n",
      "WARNING:datajoint:Skipped checksum for file with hash: 17d6cb86-c4e7-46a3-1a98-2e388110f4cb, and path: /stelmo/nwb/analysis/Olive20220701/Olive20220701_EYYVUTWQI4.nwb\n"
     ]
    },
    {
     "name": "stdout",
     "output_type": "stream",
     "text": [
      "Slow Gamma 25-55 Hz Olive20220701_.nwb pos 5 valid times 190263cb-83c9-95bf-fca2-d541562face2\n"
     ]
    },
    {
     "name": "stderr",
     "output_type": "stream",
     "text": [
      "[2023-12-06 09:08:24,365][WARNING]: Skipped checksum for file with hash: 17d6cb86-c4e7-46a3-1a98-2e388110f4cb, and path: /stelmo/nwb/analysis/Olive20220701/Olive20220701_EYYVUTWQI4.nwb\n",
      "WARNING:datajoint:Skipped checksum for file with hash: 17d6cb86-c4e7-46a3-1a98-2e388110f4cb, and path: /stelmo/nwb/analysis/Olive20220701/Olive20220701_EYYVUTWQI4.nwb\n"
     ]
    },
    {
     "name": "stdout",
     "output_type": "stream",
     "text": [
      "Fast Gamma 65-100 Hz Olive20220701_.nwb pos 5 valid times 190263cb-83c9-95bf-fca2-d541562face2\n"
     ]
    },
    {
     "name": "stderr",
     "output_type": "stream",
     "text": [
      "[2023-12-06 09:08:25,239][WARNING]: Skipped checksum for file with hash: 4db391c8-7f19-5471-7b92-98ae3454ab97, and path: /stelmo/nwb/analysis/Olive20220701/Olive20220701_4BPUJO88JQ.nwb\n",
      "WARNING:datajoint:Skipped checksum for file with hash: 4db391c8-7f19-5471-7b92-98ae3454ab97, and path: /stelmo/nwb/analysis/Olive20220701/Olive20220701_4BPUJO88JQ.nwb\n"
     ]
    },
    {
     "name": "stdout",
     "output_type": "stream",
     "text": [
      "Slow Gamma 25-55 Hz Olive20220701_.nwb pos 6 valid times 9d74b9c7-5bf2-bc1a-2aa8-fde6f9230ef0\n"
     ]
    },
    {
     "name": "stderr",
     "output_type": "stream",
     "text": [
      "[2023-12-06 09:08:26,842][WARNING]: Skipped checksum for file with hash: 4db391c8-7f19-5471-7b92-98ae3454ab97, and path: /stelmo/nwb/analysis/Olive20220701/Olive20220701_4BPUJO88JQ.nwb\n",
      "WARNING:datajoint:Skipped checksum for file with hash: 4db391c8-7f19-5471-7b92-98ae3454ab97, and path: /stelmo/nwb/analysis/Olive20220701/Olive20220701_4BPUJO88JQ.nwb\n"
     ]
    },
    {
     "name": "stdout",
     "output_type": "stream",
     "text": [
      "Fast Gamma 65-100 Hz Olive20220701_.nwb pos 6 valid times 9d74b9c7-5bf2-bc1a-2aa8-fde6f9230ef0\n"
     ]
    },
    {
     "name": "stderr",
     "output_type": "stream",
     "text": [
      "[2023-12-06 09:08:27,669][WARNING]: Skipped checksum for file with hash: 9556af70-8eee-a69e-b723-7bebd1d41b87, and path: /stelmo/nwb/analysis/Olive20220701/Olive20220701_1CDXI3QYEK.nwb\n",
      "WARNING:datajoint:Skipped checksum for file with hash: 9556af70-8eee-a69e-b723-7bebd1d41b87, and path: /stelmo/nwb/analysis/Olive20220701/Olive20220701_1CDXI3QYEK.nwb\n"
     ]
    },
    {
     "name": "stdout",
     "output_type": "stream",
     "text": [
      "Slow Gamma 25-55 Hz Olive20220701_.nwb pos 7 valid times 9baad798-e049-9ca7-87f5-9b2e9aa7707d\n"
     ]
    },
    {
     "name": "stderr",
     "output_type": "stream",
     "text": [
      "[2023-12-06 09:08:29,170][WARNING]: Skipped checksum for file with hash: 9556af70-8eee-a69e-b723-7bebd1d41b87, and path: /stelmo/nwb/analysis/Olive20220701/Olive20220701_1CDXI3QYEK.nwb\n",
      "WARNING:datajoint:Skipped checksum for file with hash: 9556af70-8eee-a69e-b723-7bebd1d41b87, and path: /stelmo/nwb/analysis/Olive20220701/Olive20220701_1CDXI3QYEK.nwb\n"
     ]
    },
    {
     "name": "stdout",
     "output_type": "stream",
     "text": [
      "Fast Gamma 65-100 Hz Olive20220701_.nwb pos 7 valid times 9baad798-e049-9ca7-87f5-9b2e9aa7707d\n"
     ]
    },
    {
     "name": "stderr",
     "output_type": "stream",
     "text": [
      "[2023-12-06 09:08:30,013][WARNING]: Skipped checksum for file with hash: 7b53d031-4043-2a46-106b-c9a871defbaa, and path: /stelmo/nwb/analysis/Olive20220701/Olive20220701_7JTIU5KOH1.nwb\n",
      "WARNING:datajoint:Skipped checksum for file with hash: 7b53d031-4043-2a46-106b-c9a871defbaa, and path: /stelmo/nwb/analysis/Olive20220701/Olive20220701_7JTIU5KOH1.nwb\n"
     ]
    },
    {
     "name": "stdout",
     "output_type": "stream",
     "text": [
      "Slow Gamma 25-55 Hz Olive20220701_.nwb pos 8 valid times 1b80eba8-816e-a7b0-c172-38c05cb40bc0\n"
     ]
    },
    {
     "name": "stderr",
     "output_type": "stream",
     "text": [
      "[2023-12-06 09:08:31,499][WARNING]: Skipped checksum for file with hash: 7b53d031-4043-2a46-106b-c9a871defbaa, and path: /stelmo/nwb/analysis/Olive20220701/Olive20220701_7JTIU5KOH1.nwb\n",
      "WARNING:datajoint:Skipped checksum for file with hash: 7b53d031-4043-2a46-106b-c9a871defbaa, and path: /stelmo/nwb/analysis/Olive20220701/Olive20220701_7JTIU5KOH1.nwb\n"
     ]
    },
    {
     "name": "stdout",
     "output_type": "stream",
     "text": [
      "Fast Gamma 65-100 Hz Olive20220701_.nwb pos 8 valid times 1b80eba8-816e-a7b0-c172-38c05cb40bc0\n"
     ]
    },
    {
     "name": "stderr",
     "output_type": "stream",
     "text": [
      "[2023-12-06 09:08:32,341][WARNING]: Skipped checksum for file with hash: dc514a18-9435-23b0-097b-6c8300bd23a5, and path: /stelmo/nwb/analysis/Olive20220701/Olive20220701_1Y7J475JX6.nwb\n",
      "WARNING:datajoint:Skipped checksum for file with hash: dc514a18-9435-23b0-097b-6c8300bd23a5, and path: /stelmo/nwb/analysis/Olive20220701/Olive20220701_1Y7J475JX6.nwb\n"
     ]
    },
    {
     "name": "stdout",
     "output_type": "stream",
     "text": [
      "Slow Gamma 25-55 Hz Olive20220701_.nwb pos 9 valid times c4bf07cb-3098-62e5-1388-004f8b9e1cf1\n"
     ]
    },
    {
     "name": "stderr",
     "output_type": "stream",
     "text": [
      "[2023-12-06 09:08:33,790][WARNING]: Skipped checksum for file with hash: dc514a18-9435-23b0-097b-6c8300bd23a5, and path: /stelmo/nwb/analysis/Olive20220701/Olive20220701_1Y7J475JX6.nwb\n",
      "WARNING:datajoint:Skipped checksum for file with hash: dc514a18-9435-23b0-097b-6c8300bd23a5, and path: /stelmo/nwb/analysis/Olive20220701/Olive20220701_1Y7J475JX6.nwb\n"
     ]
    },
    {
     "name": "stdout",
     "output_type": "stream",
     "text": [
      "Fast Gamma 65-100 Hz Olive20220701_.nwb pos 9 valid times c4bf07cb-3098-62e5-1388-004f8b9e1cf1\n"
     ]
    },
    {
     "name": "stderr",
     "output_type": "stream",
     "text": [
      "[2023-12-06 09:08:34,655][WARNING]: Skipped checksum for file with hash: 5582f7db-9ca6-4e06-29c3-4c7bf058a01e, and path: /stelmo/nwb/analysis/Olive20220702/Olive20220702_NF3YPE6J8D.nwb\n",
      "WARNING:datajoint:Skipped checksum for file with hash: 5582f7db-9ca6-4e06-29c3-4c7bf058a01e, and path: /stelmo/nwb/analysis/Olive20220702/Olive20220702_NF3YPE6J8D.nwb\n"
     ]
    },
    {
     "name": "stdout",
     "output_type": "stream",
     "text": [
      "Slow Gamma 25-55 Hz Olive20220702_.nwb pos 0 valid times cc93cea5-1476-374e-c345-89aa92247143\n"
     ]
    },
    {
     "name": "stderr",
     "output_type": "stream",
     "text": [
      "[2023-12-06 09:08:36,183][WARNING]: Skipped checksum for file with hash: 5582f7db-9ca6-4e06-29c3-4c7bf058a01e, and path: /stelmo/nwb/analysis/Olive20220702/Olive20220702_NF3YPE6J8D.nwb\n",
      "WARNING:datajoint:Skipped checksum for file with hash: 5582f7db-9ca6-4e06-29c3-4c7bf058a01e, and path: /stelmo/nwb/analysis/Olive20220702/Olive20220702_NF3YPE6J8D.nwb\n"
     ]
    },
    {
     "name": "stdout",
     "output_type": "stream",
     "text": [
      "Fast Gamma 65-100 Hz Olive20220702_.nwb pos 0 valid times cc93cea5-1476-374e-c345-89aa92247143\n"
     ]
    },
    {
     "name": "stderr",
     "output_type": "stream",
     "text": [
      "[2023-12-06 09:08:37,019][WARNING]: Skipped checksum for file with hash: 8a0ba69e-a21b-7bb1-ee72-1fe5b9d6ef89, and path: /stelmo/nwb/analysis/Olive20220702/Olive20220702_QKDP7TJGJT.nwb\n",
      "WARNING:datajoint:Skipped checksum for file with hash: 8a0ba69e-a21b-7bb1-ee72-1fe5b9d6ef89, and path: /stelmo/nwb/analysis/Olive20220702/Olive20220702_QKDP7TJGJT.nwb\n"
     ]
    },
    {
     "name": "stdout",
     "output_type": "stream",
     "text": [
      "Slow Gamma 25-55 Hz Olive20220702_.nwb pos 1 valid times d6270188-9c66-6477-cf13-b71fbede3746\n"
     ]
    },
    {
     "name": "stderr",
     "output_type": "stream",
     "text": [
      "[2023-12-06 09:08:38,558][WARNING]: Skipped checksum for file with hash: 8a0ba69e-a21b-7bb1-ee72-1fe5b9d6ef89, and path: /stelmo/nwb/analysis/Olive20220702/Olive20220702_QKDP7TJGJT.nwb\n",
      "WARNING:datajoint:Skipped checksum for file with hash: 8a0ba69e-a21b-7bb1-ee72-1fe5b9d6ef89, and path: /stelmo/nwb/analysis/Olive20220702/Olive20220702_QKDP7TJGJT.nwb\n"
     ]
    },
    {
     "name": "stdout",
     "output_type": "stream",
     "text": [
      "Fast Gamma 65-100 Hz Olive20220702_.nwb pos 1 valid times d6270188-9c66-6477-cf13-b71fbede3746\n"
     ]
    },
    {
     "name": "stderr",
     "output_type": "stream",
     "text": [
      "[2023-12-06 09:08:39,387][WARNING]: Skipped checksum for file with hash: eceae2a3-a520-fe9b-e5f7-e005622ebee9, and path: /stelmo/nwb/analysis/Olive20220702/Olive20220702_YU25IL3X7X.nwb\n",
      "WARNING:datajoint:Skipped checksum for file with hash: eceae2a3-a520-fe9b-e5f7-e005622ebee9, and path: /stelmo/nwb/analysis/Olive20220702/Olive20220702_YU25IL3X7X.nwb\n"
     ]
    },
    {
     "name": "stdout",
     "output_type": "stream",
     "text": [
      "Slow Gamma 25-55 Hz Olive20220702_.nwb pos 10 valid times 314730b3-3924-3f01-2029-1894aacd5fa7\n"
     ]
    },
    {
     "name": "stderr",
     "output_type": "stream",
     "text": [
      "[2023-12-06 09:08:40,878][WARNING]: Skipped checksum for file with hash: eceae2a3-a520-fe9b-e5f7-e005622ebee9, and path: /stelmo/nwb/analysis/Olive20220702/Olive20220702_YU25IL3X7X.nwb\n",
      "WARNING:datajoint:Skipped checksum for file with hash: eceae2a3-a520-fe9b-e5f7-e005622ebee9, and path: /stelmo/nwb/analysis/Olive20220702/Olive20220702_YU25IL3X7X.nwb\n"
     ]
    },
    {
     "name": "stdout",
     "output_type": "stream",
     "text": [
      "Fast Gamma 65-100 Hz Olive20220702_.nwb pos 10 valid times 314730b3-3924-3f01-2029-1894aacd5fa7\n"
     ]
    },
    {
     "name": "stderr",
     "output_type": "stream",
     "text": [
      "[2023-12-06 09:08:41,786][WARNING]: Skipped checksum for file with hash: 1cd4418e-446b-dcb4-b4a2-7d00553eef48, and path: /stelmo/nwb/analysis/Olive20220702/Olive20220702_N9KYYPNA1J.nwb\n",
      "WARNING:datajoint:Skipped checksum for file with hash: 1cd4418e-446b-dcb4-b4a2-7d00553eef48, and path: /stelmo/nwb/analysis/Olive20220702/Olive20220702_N9KYYPNA1J.nwb\n"
     ]
    },
    {
     "name": "stdout",
     "output_type": "stream",
     "text": [
      "Slow Gamma 25-55 Hz Olive20220702_.nwb pos 2 valid times fcec3c5b-bbc3-bee3-884d-afe3d27b6658\n"
     ]
    },
    {
     "name": "stderr",
     "output_type": "stream",
     "text": [
      "[2023-12-06 09:08:43,255][WARNING]: Skipped checksum for file with hash: 1cd4418e-446b-dcb4-b4a2-7d00553eef48, and path: /stelmo/nwb/analysis/Olive20220702/Olive20220702_N9KYYPNA1J.nwb\n",
      "WARNING:datajoint:Skipped checksum for file with hash: 1cd4418e-446b-dcb4-b4a2-7d00553eef48, and path: /stelmo/nwb/analysis/Olive20220702/Olive20220702_N9KYYPNA1J.nwb\n"
     ]
    },
    {
     "name": "stdout",
     "output_type": "stream",
     "text": [
      "Fast Gamma 65-100 Hz Olive20220702_.nwb pos 2 valid times fcec3c5b-bbc3-bee3-884d-afe3d27b6658\n"
     ]
    },
    {
     "name": "stderr",
     "output_type": "stream",
     "text": [
      "[2023-12-06 09:08:44,100][WARNING]: Skipped checksum for file with hash: 8ada0764-f34d-3848-c29a-857faa0cc5ba, and path: /stelmo/nwb/analysis/Olive20220702/Olive20220702_99I2MGVMJN.nwb\n",
      "WARNING:datajoint:Skipped checksum for file with hash: 8ada0764-f34d-3848-c29a-857faa0cc5ba, and path: /stelmo/nwb/analysis/Olive20220702/Olive20220702_99I2MGVMJN.nwb\n"
     ]
    },
    {
     "name": "stdout",
     "output_type": "stream",
     "text": [
      "Slow Gamma 25-55 Hz Olive20220702_.nwb pos 3 valid times 25742400-d02c-ce90-fcea-2cc9fd57266f\n"
     ]
    },
    {
     "name": "stderr",
     "output_type": "stream",
     "text": [
      "[2023-12-06 09:08:45,546][WARNING]: Skipped checksum for file with hash: 8ada0764-f34d-3848-c29a-857faa0cc5ba, and path: /stelmo/nwb/analysis/Olive20220702/Olive20220702_99I2MGVMJN.nwb\n",
      "WARNING:datajoint:Skipped checksum for file with hash: 8ada0764-f34d-3848-c29a-857faa0cc5ba, and path: /stelmo/nwb/analysis/Olive20220702/Olive20220702_99I2MGVMJN.nwb\n"
     ]
    },
    {
     "name": "stdout",
     "output_type": "stream",
     "text": [
      "Fast Gamma 65-100 Hz Olive20220702_.nwb pos 3 valid times 25742400-d02c-ce90-fcea-2cc9fd57266f\n"
     ]
    },
    {
     "name": "stderr",
     "output_type": "stream",
     "text": [
      "[2023-12-06 09:08:46,399][WARNING]: Skipped checksum for file with hash: 8c60fcb9-d66f-4f74-48c7-9c2853337d39, and path: /stelmo/nwb/analysis/Olive20220702/Olive20220702_IQTLSA2CR2.nwb\n",
      "WARNING:datajoint:Skipped checksum for file with hash: 8c60fcb9-d66f-4f74-48c7-9c2853337d39, and path: /stelmo/nwb/analysis/Olive20220702/Olive20220702_IQTLSA2CR2.nwb\n"
     ]
    },
    {
     "name": "stdout",
     "output_type": "stream",
     "text": [
      "Slow Gamma 25-55 Hz Olive20220702_.nwb pos 4 valid times 7ae9c031-0e21-605c-e599-af38160812b3\n"
     ]
    },
    {
     "name": "stderr",
     "output_type": "stream",
     "text": [
      "[2023-12-06 09:08:47,878][WARNING]: Skipped checksum for file with hash: 8c60fcb9-d66f-4f74-48c7-9c2853337d39, and path: /stelmo/nwb/analysis/Olive20220702/Olive20220702_IQTLSA2CR2.nwb\n",
      "WARNING:datajoint:Skipped checksum for file with hash: 8c60fcb9-d66f-4f74-48c7-9c2853337d39, and path: /stelmo/nwb/analysis/Olive20220702/Olive20220702_IQTLSA2CR2.nwb\n"
     ]
    },
    {
     "name": "stdout",
     "output_type": "stream",
     "text": [
      "Fast Gamma 65-100 Hz Olive20220702_.nwb pos 4 valid times 7ae9c031-0e21-605c-e599-af38160812b3\n"
     ]
    },
    {
     "name": "stderr",
     "output_type": "stream",
     "text": [
      "[2023-12-06 09:08:48,734][WARNING]: Skipped checksum for file with hash: c581e921-03e1-180a-7806-ca533e15355c, and path: /stelmo/nwb/analysis/Olive20220702/Olive20220702_NK1KA80LTH.nwb\n",
      "WARNING:datajoint:Skipped checksum for file with hash: c581e921-03e1-180a-7806-ca533e15355c, and path: /stelmo/nwb/analysis/Olive20220702/Olive20220702_NK1KA80LTH.nwb\n"
     ]
    },
    {
     "name": "stdout",
     "output_type": "stream",
     "text": [
      "Slow Gamma 25-55 Hz Olive20220702_.nwb pos 5 valid times 1699cd43-1919-79ff-f453-271d9a2f137c\n"
     ]
    },
    {
     "name": "stderr",
     "output_type": "stream",
     "text": [
      "[2023-12-06 09:08:50,217][WARNING]: Skipped checksum for file with hash: c581e921-03e1-180a-7806-ca533e15355c, and path: /stelmo/nwb/analysis/Olive20220702/Olive20220702_NK1KA80LTH.nwb\n",
      "WARNING:datajoint:Skipped checksum for file with hash: c581e921-03e1-180a-7806-ca533e15355c, and path: /stelmo/nwb/analysis/Olive20220702/Olive20220702_NK1KA80LTH.nwb\n"
     ]
    },
    {
     "name": "stdout",
     "output_type": "stream",
     "text": [
      "Fast Gamma 65-100 Hz Olive20220702_.nwb pos 5 valid times 1699cd43-1919-79ff-f453-271d9a2f137c\n"
     ]
    },
    {
     "name": "stderr",
     "output_type": "stream",
     "text": [
      "[2023-12-06 09:08:51,057][WARNING]: Skipped checksum for file with hash: 8d229d54-27bc-6154-ca11-1e5fe26e03b5, and path: /stelmo/nwb/analysis/Olive20220702/Olive20220702_XR6JOBNYDG.nwb\n",
      "WARNING:datajoint:Skipped checksum for file with hash: 8d229d54-27bc-6154-ca11-1e5fe26e03b5, and path: /stelmo/nwb/analysis/Olive20220702/Olive20220702_XR6JOBNYDG.nwb\n"
     ]
    },
    {
     "name": "stdout",
     "output_type": "stream",
     "text": [
      "Slow Gamma 25-55 Hz Olive20220702_.nwb pos 6 valid times ec8da674-d35f-c691-5618-1442c45f91bf\n"
     ]
    },
    {
     "name": "stderr",
     "output_type": "stream",
     "text": [
      "[2023-12-06 09:08:52,598][WARNING]: Skipped checksum for file with hash: 8d229d54-27bc-6154-ca11-1e5fe26e03b5, and path: /stelmo/nwb/analysis/Olive20220702/Olive20220702_XR6JOBNYDG.nwb\n",
      "WARNING:datajoint:Skipped checksum for file with hash: 8d229d54-27bc-6154-ca11-1e5fe26e03b5, and path: /stelmo/nwb/analysis/Olive20220702/Olive20220702_XR6JOBNYDG.nwb\n"
     ]
    },
    {
     "name": "stdout",
     "output_type": "stream",
     "text": [
      "Fast Gamma 65-100 Hz Olive20220702_.nwb pos 6 valid times ec8da674-d35f-c691-5618-1442c45f91bf\n"
     ]
    },
    {
     "name": "stderr",
     "output_type": "stream",
     "text": [
      "[2023-12-06 09:08:53,415][WARNING]: Skipped checksum for file with hash: 41e983cc-8f9f-ad88-ba1f-5720cdf1d440, and path: /stelmo/nwb/analysis/Olive20220702/Olive20220702_8T4E6IMD73.nwb\n",
      "WARNING:datajoint:Skipped checksum for file with hash: 41e983cc-8f9f-ad88-ba1f-5720cdf1d440, and path: /stelmo/nwb/analysis/Olive20220702/Olive20220702_8T4E6IMD73.nwb\n"
     ]
    },
    {
     "name": "stdout",
     "output_type": "stream",
     "text": [
      "Slow Gamma 25-55 Hz Olive20220702_.nwb pos 7 valid times 9ceb9e93-da6c-d060-bb95-54369cbf18b4\n"
     ]
    },
    {
     "name": "stderr",
     "output_type": "stream",
     "text": [
      "[2023-12-06 09:08:54,895][WARNING]: Skipped checksum for file with hash: 41e983cc-8f9f-ad88-ba1f-5720cdf1d440, and path: /stelmo/nwb/analysis/Olive20220702/Olive20220702_8T4E6IMD73.nwb\n",
      "WARNING:datajoint:Skipped checksum for file with hash: 41e983cc-8f9f-ad88-ba1f-5720cdf1d440, and path: /stelmo/nwb/analysis/Olive20220702/Olive20220702_8T4E6IMD73.nwb\n"
     ]
    },
    {
     "name": "stdout",
     "output_type": "stream",
     "text": [
      "Fast Gamma 65-100 Hz Olive20220702_.nwb pos 7 valid times 9ceb9e93-da6c-d060-bb95-54369cbf18b4\n"
     ]
    },
    {
     "name": "stderr",
     "output_type": "stream",
     "text": [
      "[2023-12-06 09:08:55,812][WARNING]: Skipped checksum for file with hash: c277bdb1-f029-ce1d-1332-804744fe936f, and path: /stelmo/nwb/analysis/Olive20220702/Olive20220702_R514YOIFGB.nwb\n",
      "WARNING:datajoint:Skipped checksum for file with hash: c277bdb1-f029-ce1d-1332-804744fe936f, and path: /stelmo/nwb/analysis/Olive20220702/Olive20220702_R514YOIFGB.nwb\n"
     ]
    },
    {
     "name": "stdout",
     "output_type": "stream",
     "text": [
      "Slow Gamma 25-55 Hz Olive20220702_.nwb pos 8 valid times 36ac9a23-9987-72fa-34ca-506ce3084ef1\n"
     ]
    },
    {
     "name": "stderr",
     "output_type": "stream",
     "text": [
      "[2023-12-06 09:08:57,302][WARNING]: Skipped checksum for file with hash: c277bdb1-f029-ce1d-1332-804744fe936f, and path: /stelmo/nwb/analysis/Olive20220702/Olive20220702_R514YOIFGB.nwb\n",
      "WARNING:datajoint:Skipped checksum for file with hash: c277bdb1-f029-ce1d-1332-804744fe936f, and path: /stelmo/nwb/analysis/Olive20220702/Olive20220702_R514YOIFGB.nwb\n"
     ]
    },
    {
     "name": "stdout",
     "output_type": "stream",
     "text": [
      "Fast Gamma 65-100 Hz Olive20220702_.nwb pos 8 valid times 36ac9a23-9987-72fa-34ca-506ce3084ef1\n"
     ]
    },
    {
     "name": "stderr",
     "output_type": "stream",
     "text": [
      "[2023-12-06 09:08:58,147][WARNING]: Skipped checksum for file with hash: 2a07913a-dbb7-93d0-a336-3c302e2927f2, and path: /stelmo/nwb/analysis/Olive20220702/Olive20220702_VCDJZRI9MF.nwb\n",
      "WARNING:datajoint:Skipped checksum for file with hash: 2a07913a-dbb7-93d0-a336-3c302e2927f2, and path: /stelmo/nwb/analysis/Olive20220702/Olive20220702_VCDJZRI9MF.nwb\n"
     ]
    },
    {
     "name": "stdout",
     "output_type": "stream",
     "text": [
      "Slow Gamma 25-55 Hz Olive20220702_.nwb pos 9 valid times 0e2db3cb-37ab-5bc3-ce8f-a140e4117690\n"
     ]
    },
    {
     "name": "stderr",
     "output_type": "stream",
     "text": [
      "[2023-12-06 09:08:59,702][WARNING]: Skipped checksum for file with hash: 2a07913a-dbb7-93d0-a336-3c302e2927f2, and path: /stelmo/nwb/analysis/Olive20220702/Olive20220702_VCDJZRI9MF.nwb\n",
      "WARNING:datajoint:Skipped checksum for file with hash: 2a07913a-dbb7-93d0-a336-3c302e2927f2, and path: /stelmo/nwb/analysis/Olive20220702/Olive20220702_VCDJZRI9MF.nwb\n"
     ]
    },
    {
     "name": "stdout",
     "output_type": "stream",
     "text": [
      "Fast Gamma 65-100 Hz Olive20220702_.nwb pos 9 valid times 0e2db3cb-37ab-5bc3-ce8f-a140e4117690\n"
     ]
    },
    {
     "name": "stderr",
     "output_type": "stream",
     "text": [
      "[2023-12-06 09:09:00,590][WARNING]: Skipped checksum for file with hash: 00e18994-d97b-59f5-2214-0725b103dba4, and path: /stelmo/nwb/analysis/Olive20220705/Olive20220705_MQJIOI8864.nwb\n",
      "WARNING:datajoint:Skipped checksum for file with hash: 00e18994-d97b-59f5-2214-0725b103dba4, and path: /stelmo/nwb/analysis/Olive20220705/Olive20220705_MQJIOI8864.nwb\n"
     ]
    },
    {
     "name": "stdout",
     "output_type": "stream",
     "text": [
      "Slow Gamma 25-55 Hz Olive20220705_.nwb pos 0 valid times 43035f2b-98e5-abfc-5003-f3b2bf2e39ff\n"
     ]
    },
    {
     "name": "stderr",
     "output_type": "stream",
     "text": [
      "[2023-12-06 09:09:02,141][WARNING]: Skipped checksum for file with hash: 00e18994-d97b-59f5-2214-0725b103dba4, and path: /stelmo/nwb/analysis/Olive20220705/Olive20220705_MQJIOI8864.nwb\n",
      "WARNING:datajoint:Skipped checksum for file with hash: 00e18994-d97b-59f5-2214-0725b103dba4, and path: /stelmo/nwb/analysis/Olive20220705/Olive20220705_MQJIOI8864.nwb\n"
     ]
    },
    {
     "name": "stdout",
     "output_type": "stream",
     "text": [
      "Fast Gamma 65-100 Hz Olive20220705_.nwb pos 0 valid times 43035f2b-98e5-abfc-5003-f3b2bf2e39ff\n"
     ]
    },
    {
     "name": "stderr",
     "output_type": "stream",
     "text": [
      "[2023-12-06 09:09:03,009][WARNING]: Skipped checksum for file with hash: 601428d5-3014-4bcb-45fa-0092313e8379, and path: /stelmo/nwb/analysis/Olive20220705/Olive20220705_EXKFJTGFH2.nwb\n",
      "WARNING:datajoint:Skipped checksum for file with hash: 601428d5-3014-4bcb-45fa-0092313e8379, and path: /stelmo/nwb/analysis/Olive20220705/Olive20220705_EXKFJTGFH2.nwb\n"
     ]
    },
    {
     "name": "stdout",
     "output_type": "stream",
     "text": [
      "Slow Gamma 25-55 Hz Olive20220705_.nwb pos 1 valid times b6fe5d1a-7372-81dd-ede0-9542abbd2e30\n"
     ]
    },
    {
     "name": "stderr",
     "output_type": "stream",
     "text": [
      "[2023-12-06 09:09:04,510][WARNING]: Skipped checksum for file with hash: 601428d5-3014-4bcb-45fa-0092313e8379, and path: /stelmo/nwb/analysis/Olive20220705/Olive20220705_EXKFJTGFH2.nwb\n",
      "WARNING:datajoint:Skipped checksum for file with hash: 601428d5-3014-4bcb-45fa-0092313e8379, and path: /stelmo/nwb/analysis/Olive20220705/Olive20220705_EXKFJTGFH2.nwb\n"
     ]
    },
    {
     "name": "stdout",
     "output_type": "stream",
     "text": [
      "Fast Gamma 65-100 Hz Olive20220705_.nwb pos 1 valid times b6fe5d1a-7372-81dd-ede0-9542abbd2e30\n"
     ]
    },
    {
     "name": "stderr",
     "output_type": "stream",
     "text": [
      "[2023-12-06 09:09:05,363][WARNING]: Skipped checksum for file with hash: a659fefc-f3b4-985e-e195-c31102acb6a7, and path: /stelmo/nwb/analysis/Olive20220705/Olive20220705_4YRIDK4XEM.nwb\n",
      "WARNING:datajoint:Skipped checksum for file with hash: a659fefc-f3b4-985e-e195-c31102acb6a7, and path: /stelmo/nwb/analysis/Olive20220705/Olive20220705_4YRIDK4XEM.nwb\n"
     ]
    },
    {
     "name": "stdout",
     "output_type": "stream",
     "text": [
      "Slow Gamma 25-55 Hz Olive20220705_.nwb pos 10 valid times dd0936f1-37c1-1646-522d-6e84a29c939d\n"
     ]
    },
    {
     "name": "stderr",
     "output_type": "stream",
     "text": [
      "[2023-12-06 09:09:06,894][WARNING]: Skipped checksum for file with hash: a659fefc-f3b4-985e-e195-c31102acb6a7, and path: /stelmo/nwb/analysis/Olive20220705/Olive20220705_4YRIDK4XEM.nwb\n",
      "WARNING:datajoint:Skipped checksum for file with hash: a659fefc-f3b4-985e-e195-c31102acb6a7, and path: /stelmo/nwb/analysis/Olive20220705/Olive20220705_4YRIDK4XEM.nwb\n"
     ]
    },
    {
     "name": "stdout",
     "output_type": "stream",
     "text": [
      "Fast Gamma 65-100 Hz Olive20220705_.nwb pos 10 valid times dd0936f1-37c1-1646-522d-6e84a29c939d\n"
     ]
    },
    {
     "name": "stderr",
     "output_type": "stream",
     "text": [
      "[2023-12-06 09:09:07,745][WARNING]: Skipped checksum for file with hash: 838df293-eead-6fca-b03d-cd540227b8ea, and path: /stelmo/nwb/analysis/Olive20220705/Olive20220705_MCFRMMPKLQ.nwb\n",
      "WARNING:datajoint:Skipped checksum for file with hash: 838df293-eead-6fca-b03d-cd540227b8ea, and path: /stelmo/nwb/analysis/Olive20220705/Olive20220705_MCFRMMPKLQ.nwb\n"
     ]
    },
    {
     "name": "stdout",
     "output_type": "stream",
     "text": [
      "Slow Gamma 25-55 Hz Olive20220705_.nwb pos 2 valid times 61243b67-384d-f9eb-8759-12cee50999c3\n"
     ]
    },
    {
     "name": "stderr",
     "output_type": "stream",
     "text": [
      "[2023-12-06 09:09:09,258][WARNING]: Skipped checksum for file with hash: 838df293-eead-6fca-b03d-cd540227b8ea, and path: /stelmo/nwb/analysis/Olive20220705/Olive20220705_MCFRMMPKLQ.nwb\n",
      "WARNING:datajoint:Skipped checksum for file with hash: 838df293-eead-6fca-b03d-cd540227b8ea, and path: /stelmo/nwb/analysis/Olive20220705/Olive20220705_MCFRMMPKLQ.nwb\n"
     ]
    },
    {
     "name": "stdout",
     "output_type": "stream",
     "text": [
      "Fast Gamma 65-100 Hz Olive20220705_.nwb pos 2 valid times 61243b67-384d-f9eb-8759-12cee50999c3\n"
     ]
    },
    {
     "name": "stderr",
     "output_type": "stream",
     "text": [
      "[2023-12-06 09:09:10,076][WARNING]: Skipped checksum for file with hash: a52ee82d-fcc4-43d4-a63b-c40dbde8753d, and path: /stelmo/nwb/analysis/Olive20220705/Olive20220705_U5N1WYLRD8.nwb\n",
      "WARNING:datajoint:Skipped checksum for file with hash: a52ee82d-fcc4-43d4-a63b-c40dbde8753d, and path: /stelmo/nwb/analysis/Olive20220705/Olive20220705_U5N1WYLRD8.nwb\n"
     ]
    },
    {
     "name": "stdout",
     "output_type": "stream",
     "text": [
      "Slow Gamma 25-55 Hz Olive20220705_.nwb pos 3 valid times 7e8c148d-50c8-c441-89e7-d0c611a24628\n"
     ]
    },
    {
     "name": "stderr",
     "output_type": "stream",
     "text": [
      "[2023-12-06 09:09:11,565][WARNING]: Skipped checksum for file with hash: a52ee82d-fcc4-43d4-a63b-c40dbde8753d, and path: /stelmo/nwb/analysis/Olive20220705/Olive20220705_U5N1WYLRD8.nwb\n",
      "WARNING:datajoint:Skipped checksum for file with hash: a52ee82d-fcc4-43d4-a63b-c40dbde8753d, and path: /stelmo/nwb/analysis/Olive20220705/Olive20220705_U5N1WYLRD8.nwb\n"
     ]
    },
    {
     "name": "stdout",
     "output_type": "stream",
     "text": [
      "Fast Gamma 65-100 Hz Olive20220705_.nwb pos 3 valid times 7e8c148d-50c8-c441-89e7-d0c611a24628\n"
     ]
    },
    {
     "name": "stderr",
     "output_type": "stream",
     "text": [
      "[2023-12-06 09:09:12,419][WARNING]: Skipped checksum for file with hash: 0db1f554-b04c-e4dd-1805-c0d9c69487bb, and path: /stelmo/nwb/analysis/Olive20220705/Olive20220705_50I74XEYFP.nwb\n",
      "WARNING:datajoint:Skipped checksum for file with hash: 0db1f554-b04c-e4dd-1805-c0d9c69487bb, and path: /stelmo/nwb/analysis/Olive20220705/Olive20220705_50I74XEYFP.nwb\n"
     ]
    },
    {
     "name": "stdout",
     "output_type": "stream",
     "text": [
      "Slow Gamma 25-55 Hz Olive20220705_.nwb pos 4 valid times dbe55afb-4b3b-f7a3-cb1b-2fbcd5b3144c\n"
     ]
    },
    {
     "name": "stderr",
     "output_type": "stream",
     "text": [
      "[2023-12-06 09:09:13,915][WARNING]: Skipped checksum for file with hash: 0db1f554-b04c-e4dd-1805-c0d9c69487bb, and path: /stelmo/nwb/analysis/Olive20220705/Olive20220705_50I74XEYFP.nwb\n",
      "WARNING:datajoint:Skipped checksum for file with hash: 0db1f554-b04c-e4dd-1805-c0d9c69487bb, and path: /stelmo/nwb/analysis/Olive20220705/Olive20220705_50I74XEYFP.nwb\n"
     ]
    },
    {
     "name": "stdout",
     "output_type": "stream",
     "text": [
      "Fast Gamma 65-100 Hz Olive20220705_.nwb pos 4 valid times dbe55afb-4b3b-f7a3-cb1b-2fbcd5b3144c\n"
     ]
    },
    {
     "name": "stderr",
     "output_type": "stream",
     "text": [
      "[2023-12-06 09:09:14,797][WARNING]: Skipped checksum for file with hash: b92f59ba-ad0d-fbd7-add6-26ba85b5eebc, and path: /stelmo/nwb/analysis/Olive20220705/Olive20220705_JZI9TZNNUD.nwb\n",
      "WARNING:datajoint:Skipped checksum for file with hash: b92f59ba-ad0d-fbd7-add6-26ba85b5eebc, and path: /stelmo/nwb/analysis/Olive20220705/Olive20220705_JZI9TZNNUD.nwb\n"
     ]
    },
    {
     "name": "stdout",
     "output_type": "stream",
     "text": [
      "Slow Gamma 25-55 Hz Olive20220705_.nwb pos 5 valid times c624fc4b-af44-478c-bfa1-bbdf1d5b0daf\n"
     ]
    },
    {
     "name": "stderr",
     "output_type": "stream",
     "text": [
      "[2023-12-06 09:09:16,229][WARNING]: Skipped checksum for file with hash: b92f59ba-ad0d-fbd7-add6-26ba85b5eebc, and path: /stelmo/nwb/analysis/Olive20220705/Olive20220705_JZI9TZNNUD.nwb\n",
      "WARNING:datajoint:Skipped checksum for file with hash: b92f59ba-ad0d-fbd7-add6-26ba85b5eebc, and path: /stelmo/nwb/analysis/Olive20220705/Olive20220705_JZI9TZNNUD.nwb\n"
     ]
    },
    {
     "name": "stdout",
     "output_type": "stream",
     "text": [
      "Fast Gamma 65-100 Hz Olive20220705_.nwb pos 5 valid times c624fc4b-af44-478c-bfa1-bbdf1d5b0daf\n"
     ]
    },
    {
     "name": "stderr",
     "output_type": "stream",
     "text": [
      "[2023-12-06 09:09:17,089][WARNING]: Skipped checksum for file with hash: 9e58a484-1018-16be-de8c-1e813b766ffc, and path: /stelmo/nwb/analysis/Olive20220705/Olive20220705_YRIYZNGME8.nwb\n",
      "WARNING:datajoint:Skipped checksum for file with hash: 9e58a484-1018-16be-de8c-1e813b766ffc, and path: /stelmo/nwb/analysis/Olive20220705/Olive20220705_YRIYZNGME8.nwb\n"
     ]
    },
    {
     "name": "stdout",
     "output_type": "stream",
     "text": [
      "Slow Gamma 25-55 Hz Olive20220705_.nwb pos 6 valid times b57ccebb-12da-9377-634a-ab2e5af4703a\n"
     ]
    },
    {
     "name": "stderr",
     "output_type": "stream",
     "text": [
      "[2023-12-06 09:09:18,624][WARNING]: Skipped checksum for file with hash: 9e58a484-1018-16be-de8c-1e813b766ffc, and path: /stelmo/nwb/analysis/Olive20220705/Olive20220705_YRIYZNGME8.nwb\n",
      "WARNING:datajoint:Skipped checksum for file with hash: 9e58a484-1018-16be-de8c-1e813b766ffc, and path: /stelmo/nwb/analysis/Olive20220705/Olive20220705_YRIYZNGME8.nwb\n"
     ]
    },
    {
     "name": "stdout",
     "output_type": "stream",
     "text": [
      "Fast Gamma 65-100 Hz Olive20220705_.nwb pos 6 valid times b57ccebb-12da-9377-634a-ab2e5af4703a\n"
     ]
    },
    {
     "name": "stderr",
     "output_type": "stream",
     "text": [
      "[2023-12-06 09:09:19,475][WARNING]: Skipped checksum for file with hash: e80feacc-8ab1-5672-c521-ab30c50fa6ff, and path: /stelmo/nwb/analysis/Olive20220705/Olive20220705_82VP9K9V03.nwb\n",
      "WARNING:datajoint:Skipped checksum for file with hash: e80feacc-8ab1-5672-c521-ab30c50fa6ff, and path: /stelmo/nwb/analysis/Olive20220705/Olive20220705_82VP9K9V03.nwb\n"
     ]
    },
    {
     "name": "stdout",
     "output_type": "stream",
     "text": [
      "Slow Gamma 25-55 Hz Olive20220705_.nwb pos 7 valid times f38d905b-c769-5d14-7d96-346a103d031f\n"
     ]
    },
    {
     "name": "stderr",
     "output_type": "stream",
     "text": [
      "[2023-12-06 09:09:20,910][WARNING]: Skipped checksum for file with hash: e80feacc-8ab1-5672-c521-ab30c50fa6ff, and path: /stelmo/nwb/analysis/Olive20220705/Olive20220705_82VP9K9V03.nwb\n",
      "WARNING:datajoint:Skipped checksum for file with hash: e80feacc-8ab1-5672-c521-ab30c50fa6ff, and path: /stelmo/nwb/analysis/Olive20220705/Olive20220705_82VP9K9V03.nwb\n"
     ]
    },
    {
     "name": "stdout",
     "output_type": "stream",
     "text": [
      "Fast Gamma 65-100 Hz Olive20220705_.nwb pos 7 valid times f38d905b-c769-5d14-7d96-346a103d031f\n"
     ]
    },
    {
     "name": "stderr",
     "output_type": "stream",
     "text": [
      "[2023-12-06 09:09:21,753][WARNING]: Skipped checksum for file with hash: 5bd23f0a-0aae-facf-f2e5-e3ac6b626840, and path: /stelmo/nwb/analysis/Olive20220705/Olive20220705_ILSMHGLV7E.nwb\n",
      "WARNING:datajoint:Skipped checksum for file with hash: 5bd23f0a-0aae-facf-f2e5-e3ac6b626840, and path: /stelmo/nwb/analysis/Olive20220705/Olive20220705_ILSMHGLV7E.nwb\n"
     ]
    },
    {
     "name": "stdout",
     "output_type": "stream",
     "text": [
      "Slow Gamma 25-55 Hz Olive20220705_.nwb pos 8 valid times fd7d05c9-9abe-a6ff-c07f-4d6e5704573a\n"
     ]
    },
    {
     "name": "stderr",
     "output_type": "stream",
     "text": [
      "[2023-12-06 09:09:23,377][WARNING]: Skipped checksum for file with hash: 5bd23f0a-0aae-facf-f2e5-e3ac6b626840, and path: /stelmo/nwb/analysis/Olive20220705/Olive20220705_ILSMHGLV7E.nwb\n",
      "WARNING:datajoint:Skipped checksum for file with hash: 5bd23f0a-0aae-facf-f2e5-e3ac6b626840, and path: /stelmo/nwb/analysis/Olive20220705/Olive20220705_ILSMHGLV7E.nwb\n"
     ]
    },
    {
     "name": "stdout",
     "output_type": "stream",
     "text": [
      "Fast Gamma 65-100 Hz Olive20220705_.nwb pos 8 valid times fd7d05c9-9abe-a6ff-c07f-4d6e5704573a\n"
     ]
    },
    {
     "name": "stderr",
     "output_type": "stream",
     "text": [
      "[2023-12-06 09:09:24,196][WARNING]: Skipped checksum for file with hash: 33e70d8b-e3fd-2e9c-9b2a-4c368ebf0370, and path: /stelmo/nwb/analysis/Olive20220705/Olive20220705_ZEKV2NIABA.nwb\n",
      "WARNING:datajoint:Skipped checksum for file with hash: 33e70d8b-e3fd-2e9c-9b2a-4c368ebf0370, and path: /stelmo/nwb/analysis/Olive20220705/Olive20220705_ZEKV2NIABA.nwb\n"
     ]
    },
    {
     "name": "stdout",
     "output_type": "stream",
     "text": [
      "Slow Gamma 25-55 Hz Olive20220705_.nwb pos 9 valid times a1ef647b-0a33-c3f0-d489-4a2443ae898e\n"
     ]
    },
    {
     "name": "stderr",
     "output_type": "stream",
     "text": [
      "[2023-12-06 09:09:25,655][WARNING]: Skipped checksum for file with hash: 33e70d8b-e3fd-2e9c-9b2a-4c368ebf0370, and path: /stelmo/nwb/analysis/Olive20220705/Olive20220705_ZEKV2NIABA.nwb\n",
      "WARNING:datajoint:Skipped checksum for file with hash: 33e70d8b-e3fd-2e9c-9b2a-4c368ebf0370, and path: /stelmo/nwb/analysis/Olive20220705/Olive20220705_ZEKV2NIABA.nwb\n"
     ]
    },
    {
     "name": "stdout",
     "output_type": "stream",
     "text": [
      "Fast Gamma 65-100 Hz Olive20220705_.nwb pos 9 valid times a1ef647b-0a33-c3f0-d489-4a2443ae898e\n"
     ]
    },
    {
     "name": "stderr",
     "output_type": "stream",
     "text": [
      "[2023-12-06 09:09:26,521][WARNING]: Skipped checksum for file with hash: fa427187-03e1-0db1-6c21-99b40eaeb448, and path: /stelmo/nwb/analysis/Olive20220706/Olive20220706_TUBX1GHUK1.nwb\n",
      "WARNING:datajoint:Skipped checksum for file with hash: fa427187-03e1-0db1-6c21-99b40eaeb448, and path: /stelmo/nwb/analysis/Olive20220706/Olive20220706_TUBX1GHUK1.nwb\n"
     ]
    },
    {
     "name": "stdout",
     "output_type": "stream",
     "text": [
      "Slow Gamma 25-55 Hz Olive20220706_.nwb pos 0 valid times 7c68b84e-7d23-2f11-d77b-54b80e25d7f5\n"
     ]
    },
    {
     "name": "stderr",
     "output_type": "stream",
     "text": [
      "[2023-12-06 09:09:28,052][WARNING]: Skipped checksum for file with hash: fa427187-03e1-0db1-6c21-99b40eaeb448, and path: /stelmo/nwb/analysis/Olive20220706/Olive20220706_TUBX1GHUK1.nwb\n",
      "WARNING:datajoint:Skipped checksum for file with hash: fa427187-03e1-0db1-6c21-99b40eaeb448, and path: /stelmo/nwb/analysis/Olive20220706/Olive20220706_TUBX1GHUK1.nwb\n"
     ]
    },
    {
     "name": "stdout",
     "output_type": "stream",
     "text": [
      "Fast Gamma 65-100 Hz Olive20220706_.nwb pos 0 valid times 7c68b84e-7d23-2f11-d77b-54b80e25d7f5\n"
     ]
    },
    {
     "name": "stderr",
     "output_type": "stream",
     "text": [
      "[2023-12-06 09:09:28,912][WARNING]: Skipped checksum for file with hash: a9159ac5-3c17-837a-2f30-145041c5c1aa, and path: /stelmo/nwb/analysis/Olive20220706/Olive20220706_SBUIH11FGM.nwb\n",
      "WARNING:datajoint:Skipped checksum for file with hash: a9159ac5-3c17-837a-2f30-145041c5c1aa, and path: /stelmo/nwb/analysis/Olive20220706/Olive20220706_SBUIH11FGM.nwb\n"
     ]
    },
    {
     "name": "stdout",
     "output_type": "stream",
     "text": [
      "Slow Gamma 25-55 Hz Olive20220706_.nwb pos 1 valid times 986c41c0-499e-8b40-33be-34b198250e96\n"
     ]
    },
    {
     "name": "stderr",
     "output_type": "stream",
     "text": [
      "[2023-12-06 09:09:30,441][WARNING]: Skipped checksum for file with hash: a9159ac5-3c17-837a-2f30-145041c5c1aa, and path: /stelmo/nwb/analysis/Olive20220706/Olive20220706_SBUIH11FGM.nwb\n",
      "WARNING:datajoint:Skipped checksum for file with hash: a9159ac5-3c17-837a-2f30-145041c5c1aa, and path: /stelmo/nwb/analysis/Olive20220706/Olive20220706_SBUIH11FGM.nwb\n"
     ]
    },
    {
     "name": "stdout",
     "output_type": "stream",
     "text": [
      "Fast Gamma 65-100 Hz Olive20220706_.nwb pos 1 valid times 986c41c0-499e-8b40-33be-34b198250e96\n"
     ]
    },
    {
     "name": "stderr",
     "output_type": "stream",
     "text": [
      "[2023-12-06 09:09:31,291][WARNING]: Skipped checksum for file with hash: 8b31486a-0014-962c-596a-eaf966f0d912, and path: /stelmo/nwb/analysis/Olive20220706/Olive20220706_5GKY81MM42.nwb\n",
      "WARNING:datajoint:Skipped checksum for file with hash: 8b31486a-0014-962c-596a-eaf966f0d912, and path: /stelmo/nwb/analysis/Olive20220706/Olive20220706_5GKY81MM42.nwb\n"
     ]
    },
    {
     "name": "stdout",
     "output_type": "stream",
     "text": [
      "Slow Gamma 25-55 Hz Olive20220706_.nwb pos 10 valid times def7cef4-a390-0dbe-a877-9e8868915a99\n"
     ]
    },
    {
     "name": "stderr",
     "output_type": "stream",
     "text": [
      "[2023-12-06 09:09:32,782][WARNING]: Skipped checksum for file with hash: 8b31486a-0014-962c-596a-eaf966f0d912, and path: /stelmo/nwb/analysis/Olive20220706/Olive20220706_5GKY81MM42.nwb\n",
      "WARNING:datajoint:Skipped checksum for file with hash: 8b31486a-0014-962c-596a-eaf966f0d912, and path: /stelmo/nwb/analysis/Olive20220706/Olive20220706_5GKY81MM42.nwb\n"
     ]
    },
    {
     "name": "stdout",
     "output_type": "stream",
     "text": [
      "Fast Gamma 65-100 Hz Olive20220706_.nwb pos 10 valid times def7cef4-a390-0dbe-a877-9e8868915a99\n"
     ]
    },
    {
     "name": "stderr",
     "output_type": "stream",
     "text": [
      "[2023-12-06 09:09:33,654][WARNING]: Skipped checksum for file with hash: afa341a6-0d1b-2351-bcd7-a1c9afc0047c, and path: /stelmo/nwb/analysis/Olive20220706/Olive20220706_6RNC6FN6S1.nwb\n",
      "WARNING:datajoint:Skipped checksum for file with hash: afa341a6-0d1b-2351-bcd7-a1c9afc0047c, and path: /stelmo/nwb/analysis/Olive20220706/Olive20220706_6RNC6FN6S1.nwb\n"
     ]
    },
    {
     "name": "stdout",
     "output_type": "stream",
     "text": [
      "Slow Gamma 25-55 Hz Olive20220706_.nwb pos 2 valid times c29c9a1e-9ca2-eaff-2887-e4bc089c36c0\n"
     ]
    },
    {
     "name": "stderr",
     "output_type": "stream",
     "text": [
      "[2023-12-06 09:09:35,160][WARNING]: Skipped checksum for file with hash: afa341a6-0d1b-2351-bcd7-a1c9afc0047c, and path: /stelmo/nwb/analysis/Olive20220706/Olive20220706_6RNC6FN6S1.nwb\n",
      "WARNING:datajoint:Skipped checksum for file with hash: afa341a6-0d1b-2351-bcd7-a1c9afc0047c, and path: /stelmo/nwb/analysis/Olive20220706/Olive20220706_6RNC6FN6S1.nwb\n"
     ]
    },
    {
     "name": "stdout",
     "output_type": "stream",
     "text": [
      "Fast Gamma 65-100 Hz Olive20220706_.nwb pos 2 valid times c29c9a1e-9ca2-eaff-2887-e4bc089c36c0\n"
     ]
    },
    {
     "name": "stderr",
     "output_type": "stream",
     "text": [
      "[2023-12-06 09:09:36,064][WARNING]: Skipped checksum for file with hash: 4ccd2204-c9be-825c-1c8a-8131ac091f11, and path: /stelmo/nwb/analysis/Olive20220706/Olive20220706_DEZHCNGH90.nwb\n",
      "WARNING:datajoint:Skipped checksum for file with hash: 4ccd2204-c9be-825c-1c8a-8131ac091f11, and path: /stelmo/nwb/analysis/Olive20220706/Olive20220706_DEZHCNGH90.nwb\n"
     ]
    },
    {
     "name": "stdout",
     "output_type": "stream",
     "text": [
      "Slow Gamma 25-55 Hz Olive20220706_.nwb pos 3 valid times bca82c65-038d-0e74-7850-3a7ccc098068\n"
     ]
    },
    {
     "name": "stderr",
     "output_type": "stream",
     "text": [
      "[2023-12-06 09:09:37,599][WARNING]: Skipped checksum for file with hash: 4ccd2204-c9be-825c-1c8a-8131ac091f11, and path: /stelmo/nwb/analysis/Olive20220706/Olive20220706_DEZHCNGH90.nwb\n",
      "WARNING:datajoint:Skipped checksum for file with hash: 4ccd2204-c9be-825c-1c8a-8131ac091f11, and path: /stelmo/nwb/analysis/Olive20220706/Olive20220706_DEZHCNGH90.nwb\n"
     ]
    },
    {
     "name": "stdout",
     "output_type": "stream",
     "text": [
      "Fast Gamma 65-100 Hz Olive20220706_.nwb pos 3 valid times bca82c65-038d-0e74-7850-3a7ccc098068\n"
     ]
    },
    {
     "name": "stderr",
     "output_type": "stream",
     "text": [
      "[2023-12-06 09:09:38,447][WARNING]: Skipped checksum for file with hash: 5d606a9e-df3f-b400-d3b5-a29751f7acc4, and path: /stelmo/nwb/analysis/Olive20220706/Olive20220706_H3TF110JQB.nwb\n",
      "WARNING:datajoint:Skipped checksum for file with hash: 5d606a9e-df3f-b400-d3b5-a29751f7acc4, and path: /stelmo/nwb/analysis/Olive20220706/Olive20220706_H3TF110JQB.nwb\n"
     ]
    },
    {
     "name": "stdout",
     "output_type": "stream",
     "text": [
      "Slow Gamma 25-55 Hz Olive20220706_.nwb pos 4 valid times 7cbe211c-09ae-7edf-90b5-cdc483d065cd\n"
     ]
    },
    {
     "name": "stderr",
     "output_type": "stream",
     "text": [
      "[2023-12-06 09:09:39,966][WARNING]: Skipped checksum for file with hash: 5d606a9e-df3f-b400-d3b5-a29751f7acc4, and path: /stelmo/nwb/analysis/Olive20220706/Olive20220706_H3TF110JQB.nwb\n",
      "WARNING:datajoint:Skipped checksum for file with hash: 5d606a9e-df3f-b400-d3b5-a29751f7acc4, and path: /stelmo/nwb/analysis/Olive20220706/Olive20220706_H3TF110JQB.nwb\n"
     ]
    },
    {
     "name": "stdout",
     "output_type": "stream",
     "text": [
      "Fast Gamma 65-100 Hz Olive20220706_.nwb pos 4 valid times 7cbe211c-09ae-7edf-90b5-cdc483d065cd\n"
     ]
    },
    {
     "name": "stderr",
     "output_type": "stream",
     "text": [
      "[2023-12-06 09:09:40,814][WARNING]: Skipped checksum for file with hash: 0b46044a-f5e6-6885-aa38-eb4012ed10a6, and path: /stelmo/nwb/analysis/Olive20220706/Olive20220706_NMQQGEPVU2.nwb\n",
      "WARNING:datajoint:Skipped checksum for file with hash: 0b46044a-f5e6-6885-aa38-eb4012ed10a6, and path: /stelmo/nwb/analysis/Olive20220706/Olive20220706_NMQQGEPVU2.nwb\n"
     ]
    },
    {
     "name": "stdout",
     "output_type": "stream",
     "text": [
      "Slow Gamma 25-55 Hz Olive20220706_.nwb pos 5 valid times 0f5ab125-64b2-3b1a-3d72-078f469bec6a\n"
     ]
    },
    {
     "name": "stderr",
     "output_type": "stream",
     "text": [
      "[2023-12-06 09:09:42,331][WARNING]: Skipped checksum for file with hash: 0b46044a-f5e6-6885-aa38-eb4012ed10a6, and path: /stelmo/nwb/analysis/Olive20220706/Olive20220706_NMQQGEPVU2.nwb\n",
      "WARNING:datajoint:Skipped checksum for file with hash: 0b46044a-f5e6-6885-aa38-eb4012ed10a6, and path: /stelmo/nwb/analysis/Olive20220706/Olive20220706_NMQQGEPVU2.nwb\n"
     ]
    },
    {
     "name": "stdout",
     "output_type": "stream",
     "text": [
      "Fast Gamma 65-100 Hz Olive20220706_.nwb pos 5 valid times 0f5ab125-64b2-3b1a-3d72-078f469bec6a\n"
     ]
    },
    {
     "name": "stderr",
     "output_type": "stream",
     "text": [
      "[2023-12-06 09:09:43,181][WARNING]: Skipped checksum for file with hash: fa467d87-b092-392a-fef8-1206068aad70, and path: /stelmo/nwb/analysis/Olive20220706/Olive20220706_CSW5MDLUXF.nwb\n",
      "WARNING:datajoint:Skipped checksum for file with hash: fa467d87-b092-392a-fef8-1206068aad70, and path: /stelmo/nwb/analysis/Olive20220706/Olive20220706_CSW5MDLUXF.nwb\n"
     ]
    },
    {
     "name": "stdout",
     "output_type": "stream",
     "text": [
      "Slow Gamma 25-55 Hz Olive20220706_.nwb pos 6 valid times a9a6156b-a921-9cba-b1cf-a6fe3418bab6\n"
     ]
    },
    {
     "name": "stderr",
     "output_type": "stream",
     "text": [
      "[2023-12-06 09:09:44,732][WARNING]: Skipped checksum for file with hash: fa467d87-b092-392a-fef8-1206068aad70, and path: /stelmo/nwb/analysis/Olive20220706/Olive20220706_CSW5MDLUXF.nwb\n",
      "WARNING:datajoint:Skipped checksum for file with hash: fa467d87-b092-392a-fef8-1206068aad70, and path: /stelmo/nwb/analysis/Olive20220706/Olive20220706_CSW5MDLUXF.nwb\n"
     ]
    },
    {
     "name": "stdout",
     "output_type": "stream",
     "text": [
      "Fast Gamma 65-100 Hz Olive20220706_.nwb pos 6 valid times a9a6156b-a921-9cba-b1cf-a6fe3418bab6\n"
     ]
    },
    {
     "name": "stderr",
     "output_type": "stream",
     "text": [
      "[2023-12-06 09:09:45,591][WARNING]: Skipped checksum for file with hash: 0ef15ed7-9b3d-f3e4-b150-1e125e3e1634, and path: /stelmo/nwb/analysis/Olive20220706/Olive20220706_I3PY2A64WK.nwb\n",
      "WARNING:datajoint:Skipped checksum for file with hash: 0ef15ed7-9b3d-f3e4-b150-1e125e3e1634, and path: /stelmo/nwb/analysis/Olive20220706/Olive20220706_I3PY2A64WK.nwb\n"
     ]
    },
    {
     "name": "stdout",
     "output_type": "stream",
     "text": [
      "Slow Gamma 25-55 Hz Olive20220706_.nwb pos 7 valid times 57dafadd-18e8-97ef-294d-a7a762c8b37c\n"
     ]
    },
    {
     "name": "stderr",
     "output_type": "stream",
     "text": [
      "[2023-12-06 09:09:47,060][WARNING]: Skipped checksum for file with hash: 0ef15ed7-9b3d-f3e4-b150-1e125e3e1634, and path: /stelmo/nwb/analysis/Olive20220706/Olive20220706_I3PY2A64WK.nwb\n",
      "WARNING:datajoint:Skipped checksum for file with hash: 0ef15ed7-9b3d-f3e4-b150-1e125e3e1634, and path: /stelmo/nwb/analysis/Olive20220706/Olive20220706_I3PY2A64WK.nwb\n"
     ]
    },
    {
     "name": "stdout",
     "output_type": "stream",
     "text": [
      "Fast Gamma 65-100 Hz Olive20220706_.nwb pos 7 valid times 57dafadd-18e8-97ef-294d-a7a762c8b37c\n"
     ]
    },
    {
     "name": "stderr",
     "output_type": "stream",
     "text": [
      "[2023-12-06 09:09:47,889][WARNING]: Skipped checksum for file with hash: b93e3cbb-9446-afda-8097-a5e74152b09b, and path: /stelmo/nwb/analysis/Olive20220706/Olive20220706_3JBXRSE337.nwb\n",
      "WARNING:datajoint:Skipped checksum for file with hash: b93e3cbb-9446-afda-8097-a5e74152b09b, and path: /stelmo/nwb/analysis/Olive20220706/Olive20220706_3JBXRSE337.nwb\n"
     ]
    },
    {
     "name": "stdout",
     "output_type": "stream",
     "text": [
      "Slow Gamma 25-55 Hz Olive20220706_.nwb pos 8 valid times de1c7671-67f4-ca1a-94e9-c73b48459c60\n"
     ]
    },
    {
     "name": "stderr",
     "output_type": "stream",
     "text": [
      "[2023-12-06 09:09:49,474][WARNING]: Skipped checksum for file with hash: b93e3cbb-9446-afda-8097-a5e74152b09b, and path: /stelmo/nwb/analysis/Olive20220706/Olive20220706_3JBXRSE337.nwb\n",
      "WARNING:datajoint:Skipped checksum for file with hash: b93e3cbb-9446-afda-8097-a5e74152b09b, and path: /stelmo/nwb/analysis/Olive20220706/Olive20220706_3JBXRSE337.nwb\n"
     ]
    },
    {
     "name": "stdout",
     "output_type": "stream",
     "text": [
      "Fast Gamma 65-100 Hz Olive20220706_.nwb pos 8 valid times de1c7671-67f4-ca1a-94e9-c73b48459c60\n"
     ]
    },
    {
     "name": "stderr",
     "output_type": "stream",
     "text": [
      "[2023-12-06 09:09:50,322][WARNING]: Skipped checksum for file with hash: 6bb58abe-a5d4-d950-57d4-9924ccfd5bea, and path: /stelmo/nwb/analysis/Olive20220706/Olive20220706_XVE3ALF9ZM.nwb\n",
      "WARNING:datajoint:Skipped checksum for file with hash: 6bb58abe-a5d4-d950-57d4-9924ccfd5bea, and path: /stelmo/nwb/analysis/Olive20220706/Olive20220706_XVE3ALF9ZM.nwb\n"
     ]
    },
    {
     "name": "stdout",
     "output_type": "stream",
     "text": [
      "Slow Gamma 25-55 Hz Olive20220706_.nwb pos 9 valid times 02ffb385-3edb-de95-ea94-d312ea1619e3\n"
     ]
    },
    {
     "name": "stderr",
     "output_type": "stream",
     "text": [
      "[2023-12-06 09:09:51,985][WARNING]: Skipped checksum for file with hash: 6bb58abe-a5d4-d950-57d4-9924ccfd5bea, and path: /stelmo/nwb/analysis/Olive20220706/Olive20220706_XVE3ALF9ZM.nwb\n",
      "WARNING:datajoint:Skipped checksum for file with hash: 6bb58abe-a5d4-d950-57d4-9924ccfd5bea, and path: /stelmo/nwb/analysis/Olive20220706/Olive20220706_XVE3ALF9ZM.nwb\n"
     ]
    },
    {
     "name": "stdout",
     "output_type": "stream",
     "text": [
      "Fast Gamma 65-100 Hz Olive20220706_.nwb pos 9 valid times 02ffb385-3edb-de95-ea94-d312ea1619e3\n"
     ]
    },
    {
     "name": "stderr",
     "output_type": "stream",
     "text": [
      "[2023-12-06 09:09:52,871][WARNING]: Skipped checksum for file with hash: bab2464f-1ef1-b860-6d2d-cf77b37f0598, and path: /stelmo/nwb/analysis/Olive20220707/Olive20220707_M9N9RK9277.nwb\n",
      "WARNING:datajoint:Skipped checksum for file with hash: bab2464f-1ef1-b860-6d2d-cf77b37f0598, and path: /stelmo/nwb/analysis/Olive20220707/Olive20220707_M9N9RK9277.nwb\n"
     ]
    },
    {
     "name": "stdout",
     "output_type": "stream",
     "text": [
      "Slow Gamma 25-55 Hz Olive20220707_.nwb pos 0 valid times 5b718287-a789-474e-70ef-01fce8003fb7\n"
     ]
    },
    {
     "name": "stderr",
     "output_type": "stream",
     "text": [
      "[2023-12-06 09:09:54,483][WARNING]: Skipped checksum for file with hash: bab2464f-1ef1-b860-6d2d-cf77b37f0598, and path: /stelmo/nwb/analysis/Olive20220707/Olive20220707_M9N9RK9277.nwb\n",
      "WARNING:datajoint:Skipped checksum for file with hash: bab2464f-1ef1-b860-6d2d-cf77b37f0598, and path: /stelmo/nwb/analysis/Olive20220707/Olive20220707_M9N9RK9277.nwb\n"
     ]
    },
    {
     "name": "stdout",
     "output_type": "stream",
     "text": [
      "Fast Gamma 65-100 Hz Olive20220707_.nwb pos 0 valid times 5b718287-a789-474e-70ef-01fce8003fb7\n"
     ]
    },
    {
     "name": "stderr",
     "output_type": "stream",
     "text": [
      "[2023-12-06 09:09:55,334][WARNING]: Skipped checksum for file with hash: 81b473b3-5685-40cc-1bff-501a04efc955, and path: /stelmo/nwb/analysis/Olive20220707/Olive20220707_QAJV80B5PR.nwb\n",
      "WARNING:datajoint:Skipped checksum for file with hash: 81b473b3-5685-40cc-1bff-501a04efc955, and path: /stelmo/nwb/analysis/Olive20220707/Olive20220707_QAJV80B5PR.nwb\n"
     ]
    },
    {
     "name": "stdout",
     "output_type": "stream",
     "text": [
      "Slow Gamma 25-55 Hz Olive20220707_.nwb pos 1 valid times aedf781d-abf1-3c65-5b88-628d1cfb9c55\n"
     ]
    },
    {
     "name": "stderr",
     "output_type": "stream",
     "text": [
      "[2023-12-06 09:09:56,874][WARNING]: Skipped checksum for file with hash: 81b473b3-5685-40cc-1bff-501a04efc955, and path: /stelmo/nwb/analysis/Olive20220707/Olive20220707_QAJV80B5PR.nwb\n",
      "WARNING:datajoint:Skipped checksum for file with hash: 81b473b3-5685-40cc-1bff-501a04efc955, and path: /stelmo/nwb/analysis/Olive20220707/Olive20220707_QAJV80B5PR.nwb\n"
     ]
    },
    {
     "name": "stdout",
     "output_type": "stream",
     "text": [
      "Fast Gamma 65-100 Hz Olive20220707_.nwb pos 1 valid times aedf781d-abf1-3c65-5b88-628d1cfb9c55\n"
     ]
    },
    {
     "name": "stderr",
     "output_type": "stream",
     "text": [
      "[2023-12-06 09:09:57,751][WARNING]: Skipped checksum for file with hash: 9a685b4f-ca98-5b44-a641-814af1eafbe5, and path: /stelmo/nwb/analysis/Olive20220707/Olive20220707_G62EH6IAXA.nwb\n",
      "WARNING:datajoint:Skipped checksum for file with hash: 9a685b4f-ca98-5b44-a641-814af1eafbe5, and path: /stelmo/nwb/analysis/Olive20220707/Olive20220707_G62EH6IAXA.nwb\n"
     ]
    },
    {
     "name": "stdout",
     "output_type": "stream",
     "text": [
      "Slow Gamma 25-55 Hz Olive20220707_.nwb pos 10 valid times 91784fed-2772-089a-8627-77af08d53718\n"
     ]
    },
    {
     "name": "stderr",
     "output_type": "stream",
     "text": [
      "[2023-12-06 09:09:59,243][WARNING]: Skipped checksum for file with hash: 9a685b4f-ca98-5b44-a641-814af1eafbe5, and path: /stelmo/nwb/analysis/Olive20220707/Olive20220707_G62EH6IAXA.nwb\n",
      "WARNING:datajoint:Skipped checksum for file with hash: 9a685b4f-ca98-5b44-a641-814af1eafbe5, and path: /stelmo/nwb/analysis/Olive20220707/Olive20220707_G62EH6IAXA.nwb\n"
     ]
    },
    {
     "name": "stdout",
     "output_type": "stream",
     "text": [
      "Fast Gamma 65-100 Hz Olive20220707_.nwb pos 10 valid times 91784fed-2772-089a-8627-77af08d53718\n"
     ]
    },
    {
     "name": "stderr",
     "output_type": "stream",
     "text": [
      "[2023-12-06 09:10:00,078][WARNING]: Skipped checksum for file with hash: bc9209d6-ea04-afd2-800e-73df6fc2465e, and path: /stelmo/nwb/analysis/Olive20220707/Olive20220707_9FGGRUFMSJ.nwb\n",
      "WARNING:datajoint:Skipped checksum for file with hash: bc9209d6-ea04-afd2-800e-73df6fc2465e, and path: /stelmo/nwb/analysis/Olive20220707/Olive20220707_9FGGRUFMSJ.nwb\n"
     ]
    },
    {
     "name": "stdout",
     "output_type": "stream",
     "text": [
      "Slow Gamma 25-55 Hz Olive20220707_.nwb pos 11 valid times 6e7d699b-c5f6-376b-365c-85487e8f8d74\n"
     ]
    },
    {
     "name": "stderr",
     "output_type": "stream",
     "text": [
      "[2023-12-06 09:10:01,602][WARNING]: Skipped checksum for file with hash: bc9209d6-ea04-afd2-800e-73df6fc2465e, and path: /stelmo/nwb/analysis/Olive20220707/Olive20220707_9FGGRUFMSJ.nwb\n",
      "WARNING:datajoint:Skipped checksum for file with hash: bc9209d6-ea04-afd2-800e-73df6fc2465e, and path: /stelmo/nwb/analysis/Olive20220707/Olive20220707_9FGGRUFMSJ.nwb\n"
     ]
    },
    {
     "name": "stdout",
     "output_type": "stream",
     "text": [
      "Fast Gamma 65-100 Hz Olive20220707_.nwb pos 11 valid times 6e7d699b-c5f6-376b-365c-85487e8f8d74\n"
     ]
    },
    {
     "name": "stderr",
     "output_type": "stream",
     "text": [
      "[2023-12-06 09:10:02,437][WARNING]: Skipped checksum for file with hash: 302b76fc-d090-1eab-8515-272b42f9a3b6, and path: /stelmo/nwb/analysis/Olive20220707/Olive20220707_XWHQB6Q9FO.nwb\n",
      "WARNING:datajoint:Skipped checksum for file with hash: 302b76fc-d090-1eab-8515-272b42f9a3b6, and path: /stelmo/nwb/analysis/Olive20220707/Olive20220707_XWHQB6Q9FO.nwb\n"
     ]
    },
    {
     "name": "stdout",
     "output_type": "stream",
     "text": [
      "Slow Gamma 25-55 Hz Olive20220707_.nwb pos 12 valid times d421cacc-f47b-31e6-e33e-c10ba86980b4\n"
     ]
    },
    {
     "name": "stderr",
     "output_type": "stream",
     "text": [
      "[2023-12-06 09:10:03,975][WARNING]: Skipped checksum for file with hash: 302b76fc-d090-1eab-8515-272b42f9a3b6, and path: /stelmo/nwb/analysis/Olive20220707/Olive20220707_XWHQB6Q9FO.nwb\n",
      "WARNING:datajoint:Skipped checksum for file with hash: 302b76fc-d090-1eab-8515-272b42f9a3b6, and path: /stelmo/nwb/analysis/Olive20220707/Olive20220707_XWHQB6Q9FO.nwb\n"
     ]
    },
    {
     "name": "stdout",
     "output_type": "stream",
     "text": [
      "Fast Gamma 65-100 Hz Olive20220707_.nwb pos 12 valid times d421cacc-f47b-31e6-e33e-c10ba86980b4\n"
     ]
    },
    {
     "name": "stderr",
     "output_type": "stream",
     "text": [
      "[2023-12-06 09:10:04,897][WARNING]: Skipped checksum for file with hash: 41a5e9eb-6fdf-118d-ac03-777f16bbe0a7, and path: /stelmo/nwb/analysis/Olive20220707/Olive20220707_DAH6LCZPS7.nwb\n",
      "WARNING:datajoint:Skipped checksum for file with hash: 41a5e9eb-6fdf-118d-ac03-777f16bbe0a7, and path: /stelmo/nwb/analysis/Olive20220707/Olive20220707_DAH6LCZPS7.nwb\n"
     ]
    },
    {
     "name": "stdout",
     "output_type": "stream",
     "text": [
      "Slow Gamma 25-55 Hz Olive20220707_.nwb pos 13 valid times 204c72b9-7a0f-e1e3-cf83-c40a70b8c7b2\n"
     ]
    },
    {
     "name": "stderr",
     "output_type": "stream",
     "text": [
      "[2023-12-06 09:10:06,425][WARNING]: Skipped checksum for file with hash: 41a5e9eb-6fdf-118d-ac03-777f16bbe0a7, and path: /stelmo/nwb/analysis/Olive20220707/Olive20220707_DAH6LCZPS7.nwb\n",
      "WARNING:datajoint:Skipped checksum for file with hash: 41a5e9eb-6fdf-118d-ac03-777f16bbe0a7, and path: /stelmo/nwb/analysis/Olive20220707/Olive20220707_DAH6LCZPS7.nwb\n"
     ]
    },
    {
     "name": "stdout",
     "output_type": "stream",
     "text": [
      "Fast Gamma 65-100 Hz Olive20220707_.nwb pos 13 valid times 204c72b9-7a0f-e1e3-cf83-c40a70b8c7b2\n"
     ]
    },
    {
     "name": "stderr",
     "output_type": "stream",
     "text": [
      "[2023-12-06 09:10:07,299][WARNING]: Skipped checksum for file with hash: 73703463-eb30-abd9-0b02-16c0b9bee558, and path: /stelmo/nwb/analysis/Olive20220707/Olive20220707_H3FKH9KBK8.nwb\n",
      "WARNING:datajoint:Skipped checksum for file with hash: 73703463-eb30-abd9-0b02-16c0b9bee558, and path: /stelmo/nwb/analysis/Olive20220707/Olive20220707_H3FKH9KBK8.nwb\n"
     ]
    },
    {
     "name": "stdout",
     "output_type": "stream",
     "text": [
      "Slow Gamma 25-55 Hz Olive20220707_.nwb pos 14 valid times 11d7c339-d685-0179-7df9-a28ae1336871\n"
     ]
    },
    {
     "name": "stderr",
     "output_type": "stream",
     "text": [
      "[2023-12-06 09:10:08,736][WARNING]: Skipped checksum for file with hash: 73703463-eb30-abd9-0b02-16c0b9bee558, and path: /stelmo/nwb/analysis/Olive20220707/Olive20220707_H3FKH9KBK8.nwb\n",
      "WARNING:datajoint:Skipped checksum for file with hash: 73703463-eb30-abd9-0b02-16c0b9bee558, and path: /stelmo/nwb/analysis/Olive20220707/Olive20220707_H3FKH9KBK8.nwb\n"
     ]
    },
    {
     "name": "stdout",
     "output_type": "stream",
     "text": [
      "Fast Gamma 65-100 Hz Olive20220707_.nwb pos 14 valid times 11d7c339-d685-0179-7df9-a28ae1336871\n"
     ]
    },
    {
     "name": "stderr",
     "output_type": "stream",
     "text": [
      "[2023-12-06 09:10:09,566][WARNING]: Skipped checksum for file with hash: b8b1eaa4-4885-60f9-2fe6-a46c65141e59, and path: /stelmo/nwb/analysis/Olive20220707/Olive20220707_346WW69ASE.nwb\n",
      "WARNING:datajoint:Skipped checksum for file with hash: b8b1eaa4-4885-60f9-2fe6-a46c65141e59, and path: /stelmo/nwb/analysis/Olive20220707/Olive20220707_346WW69ASE.nwb\n"
     ]
    },
    {
     "name": "stdout",
     "output_type": "stream",
     "text": [
      "Slow Gamma 25-55 Hz Olive20220707_.nwb pos 15 valid times 981b0951-8438-6371-1e6a-23e4b5f59d3b\n"
     ]
    },
    {
     "name": "stderr",
     "output_type": "stream",
     "text": [
      "[2023-12-06 09:10:11,163][WARNING]: Skipped checksum for file with hash: b8b1eaa4-4885-60f9-2fe6-a46c65141e59, and path: /stelmo/nwb/analysis/Olive20220707/Olive20220707_346WW69ASE.nwb\n",
      "WARNING:datajoint:Skipped checksum for file with hash: b8b1eaa4-4885-60f9-2fe6-a46c65141e59, and path: /stelmo/nwb/analysis/Olive20220707/Olive20220707_346WW69ASE.nwb\n"
     ]
    },
    {
     "name": "stdout",
     "output_type": "stream",
     "text": [
      "Fast Gamma 65-100 Hz Olive20220707_.nwb pos 15 valid times 981b0951-8438-6371-1e6a-23e4b5f59d3b\n"
     ]
    },
    {
     "name": "stderr",
     "output_type": "stream",
     "text": [
      "[2023-12-06 09:10:11,976][WARNING]: Skipped checksum for file with hash: 21b2c687-75e0-d190-9e48-6fde0a39eec4, and path: /stelmo/nwb/analysis/Olive20220707/Olive20220707_GVFZCLLW2S.nwb\n",
      "WARNING:datajoint:Skipped checksum for file with hash: 21b2c687-75e0-d190-9e48-6fde0a39eec4, and path: /stelmo/nwb/analysis/Olive20220707/Olive20220707_GVFZCLLW2S.nwb\n"
     ]
    },
    {
     "name": "stdout",
     "output_type": "stream",
     "text": [
      "Slow Gamma 25-55 Hz Olive20220707_.nwb pos 16 valid times 779aeb7d-adda-0895-e59e-f128dac4ae0f\n"
     ]
    },
    {
     "name": "stderr",
     "output_type": "stream",
     "text": [
      "[2023-12-06 09:10:13,771][WARNING]: Skipped checksum for file with hash: 21b2c687-75e0-d190-9e48-6fde0a39eec4, and path: /stelmo/nwb/analysis/Olive20220707/Olive20220707_GVFZCLLW2S.nwb\n",
      "WARNING:datajoint:Skipped checksum for file with hash: 21b2c687-75e0-d190-9e48-6fde0a39eec4, and path: /stelmo/nwb/analysis/Olive20220707/Olive20220707_GVFZCLLW2S.nwb\n"
     ]
    },
    {
     "name": "stdout",
     "output_type": "stream",
     "text": [
      "Fast Gamma 65-100 Hz Olive20220707_.nwb pos 16 valid times 779aeb7d-adda-0895-e59e-f128dac4ae0f\n"
     ]
    },
    {
     "name": "stderr",
     "output_type": "stream",
     "text": [
      "[2023-12-06 09:10:14,621][WARNING]: Skipped checksum for file with hash: 54e45a52-64db-113a-c112-ad2658ad6957, and path: /stelmo/nwb/analysis/Olive20220707/Olive20220707_ZMBF8PP8TR.nwb\n",
      "WARNING:datajoint:Skipped checksum for file with hash: 54e45a52-64db-113a-c112-ad2658ad6957, and path: /stelmo/nwb/analysis/Olive20220707/Olive20220707_ZMBF8PP8TR.nwb\n"
     ]
    },
    {
     "name": "stdout",
     "output_type": "stream",
     "text": [
      "Slow Gamma 25-55 Hz Olive20220707_.nwb pos 17 valid times d2662f7f-514d-092d-4ab5-412bcbc9730a\n"
     ]
    },
    {
     "name": "stderr",
     "output_type": "stream",
     "text": [
      "[2023-12-06 09:10:16,233][WARNING]: Skipped checksum for file with hash: 54e45a52-64db-113a-c112-ad2658ad6957, and path: /stelmo/nwb/analysis/Olive20220707/Olive20220707_ZMBF8PP8TR.nwb\n",
      "WARNING:datajoint:Skipped checksum for file with hash: 54e45a52-64db-113a-c112-ad2658ad6957, and path: /stelmo/nwb/analysis/Olive20220707/Olive20220707_ZMBF8PP8TR.nwb\n"
     ]
    },
    {
     "name": "stdout",
     "output_type": "stream",
     "text": [
      "Fast Gamma 65-100 Hz Olive20220707_.nwb pos 17 valid times d2662f7f-514d-092d-4ab5-412bcbc9730a\n"
     ]
    },
    {
     "name": "stderr",
     "output_type": "stream",
     "text": [
      "[2023-12-06 09:10:17,075][WARNING]: Skipped checksum for file with hash: fca62e83-6f25-aff1-a284-b057c64df167, and path: /stelmo/nwb/analysis/Olive20220707/Olive20220707_52ISVA8HUU.nwb\n",
      "WARNING:datajoint:Skipped checksum for file with hash: fca62e83-6f25-aff1-a284-b057c64df167, and path: /stelmo/nwb/analysis/Olive20220707/Olive20220707_52ISVA8HUU.nwb\n"
     ]
    },
    {
     "name": "stdout",
     "output_type": "stream",
     "text": [
      "Slow Gamma 25-55 Hz Olive20220707_.nwb pos 18 valid times 36cc7ec8-7e8d-3b88-42d4-ca32f4275998\n"
     ]
    },
    {
     "name": "stderr",
     "output_type": "stream",
     "text": [
      "[2023-12-06 09:10:23,057][WARNING]: Skipped checksum for file with hash: fca62e83-6f25-aff1-a284-b057c64df167, and path: /stelmo/nwb/analysis/Olive20220707/Olive20220707_52ISVA8HUU.nwb\n",
      "WARNING:datajoint:Skipped checksum for file with hash: fca62e83-6f25-aff1-a284-b057c64df167, and path: /stelmo/nwb/analysis/Olive20220707/Olive20220707_52ISVA8HUU.nwb\n"
     ]
    },
    {
     "name": "stdout",
     "output_type": "stream",
     "text": [
      "Fast Gamma 65-100 Hz Olive20220707_.nwb pos 18 valid times 36cc7ec8-7e8d-3b88-42d4-ca32f4275998\n"
     ]
    },
    {
     "name": "stderr",
     "output_type": "stream",
     "text": [
      "[2023-12-06 09:10:23,919][WARNING]: Skipped checksum for file with hash: aad127c7-90c7-ecc2-777e-7c6a2f8450d6, and path: /stelmo/nwb/analysis/Olive20220707/Olive20220707_2C0P9YG8N2.nwb\n",
      "WARNING:datajoint:Skipped checksum for file with hash: aad127c7-90c7-ecc2-777e-7c6a2f8450d6, and path: /stelmo/nwb/analysis/Olive20220707/Olive20220707_2C0P9YG8N2.nwb\n"
     ]
    },
    {
     "name": "stdout",
     "output_type": "stream",
     "text": [
      "Slow Gamma 25-55 Hz Olive20220707_.nwb pos 2 valid times d15e5885-909a-23fa-5279-6a2ee7cbdfb3\n"
     ]
    },
    {
     "name": "stderr",
     "output_type": "stream",
     "text": [
      "[2023-12-06 09:10:25,494][WARNING]: Skipped checksum for file with hash: aad127c7-90c7-ecc2-777e-7c6a2f8450d6, and path: /stelmo/nwb/analysis/Olive20220707/Olive20220707_2C0P9YG8N2.nwb\n",
      "WARNING:datajoint:Skipped checksum for file with hash: aad127c7-90c7-ecc2-777e-7c6a2f8450d6, and path: /stelmo/nwb/analysis/Olive20220707/Olive20220707_2C0P9YG8N2.nwb\n"
     ]
    },
    {
     "name": "stdout",
     "output_type": "stream",
     "text": [
      "Fast Gamma 65-100 Hz Olive20220707_.nwb pos 2 valid times d15e5885-909a-23fa-5279-6a2ee7cbdfb3\n"
     ]
    },
    {
     "name": "stderr",
     "output_type": "stream",
     "text": [
      "[2023-12-06 09:10:26,319][WARNING]: Skipped checksum for file with hash: 084318a6-c16b-65f6-73eb-7056e8553699, and path: /stelmo/nwb/analysis/Olive20220707/Olive20220707_OS9HT5OY68.nwb\n",
      "WARNING:datajoint:Skipped checksum for file with hash: 084318a6-c16b-65f6-73eb-7056e8553699, and path: /stelmo/nwb/analysis/Olive20220707/Olive20220707_OS9HT5OY68.nwb\n"
     ]
    },
    {
     "name": "stdout",
     "output_type": "stream",
     "text": [
      "Slow Gamma 25-55 Hz Olive20220707_.nwb pos 3 valid times b23a7265-0f3d-83dc-9374-fa9f5e62f179\n"
     ]
    },
    {
     "name": "stderr",
     "output_type": "stream",
     "text": [
      "[2023-12-06 09:10:27,805][WARNING]: Skipped checksum for file with hash: 084318a6-c16b-65f6-73eb-7056e8553699, and path: /stelmo/nwb/analysis/Olive20220707/Olive20220707_OS9HT5OY68.nwb\n",
      "WARNING:datajoint:Skipped checksum for file with hash: 084318a6-c16b-65f6-73eb-7056e8553699, and path: /stelmo/nwb/analysis/Olive20220707/Olive20220707_OS9HT5OY68.nwb\n"
     ]
    },
    {
     "name": "stdout",
     "output_type": "stream",
     "text": [
      "Fast Gamma 65-100 Hz Olive20220707_.nwb pos 3 valid times b23a7265-0f3d-83dc-9374-fa9f5e62f179\n"
     ]
    },
    {
     "name": "stderr",
     "output_type": "stream",
     "text": [
      "[2023-12-06 09:10:28,620][WARNING]: Skipped checksum for file with hash: 23a5ffb8-1512-5813-c146-d2752b46c8f3, and path: /stelmo/nwb/analysis/Olive20220707/Olive20220707_3K3DH1X8GX.nwb\n",
      "WARNING:datajoint:Skipped checksum for file with hash: 23a5ffb8-1512-5813-c146-d2752b46c8f3, and path: /stelmo/nwb/analysis/Olive20220707/Olive20220707_3K3DH1X8GX.nwb\n"
     ]
    },
    {
     "name": "stdout",
     "output_type": "stream",
     "text": [
      "Slow Gamma 25-55 Hz Olive20220707_.nwb pos 4 valid times 9dd09e2b-6a99-7f1e-a611-c6e0a96521c2\n"
     ]
    },
    {
     "name": "stderr",
     "output_type": "stream",
     "text": [
      "[2023-12-06 09:10:30,032][WARNING]: Skipped checksum for file with hash: 23a5ffb8-1512-5813-c146-d2752b46c8f3, and path: /stelmo/nwb/analysis/Olive20220707/Olive20220707_3K3DH1X8GX.nwb\n",
      "WARNING:datajoint:Skipped checksum for file with hash: 23a5ffb8-1512-5813-c146-d2752b46c8f3, and path: /stelmo/nwb/analysis/Olive20220707/Olive20220707_3K3DH1X8GX.nwb\n"
     ]
    },
    {
     "name": "stdout",
     "output_type": "stream",
     "text": [
      "Fast Gamma 65-100 Hz Olive20220707_.nwb pos 4 valid times 9dd09e2b-6a99-7f1e-a611-c6e0a96521c2\n"
     ]
    },
    {
     "name": "stderr",
     "output_type": "stream",
     "text": [
      "[2023-12-06 09:10:30,876][WARNING]: Skipped checksum for file with hash: ceb548c7-4fea-7fbb-3670-00735cd73ba3, and path: /stelmo/nwb/analysis/Olive20220707/Olive20220707_0IO238JZ26.nwb\n",
      "WARNING:datajoint:Skipped checksum for file with hash: ceb548c7-4fea-7fbb-3670-00735cd73ba3, and path: /stelmo/nwb/analysis/Olive20220707/Olive20220707_0IO238JZ26.nwb\n"
     ]
    },
    {
     "name": "stdout",
     "output_type": "stream",
     "text": [
      "Slow Gamma 25-55 Hz Olive20220707_.nwb pos 5 valid times f658b383-23be-5e70-c0ea-7ca9b539b433\n"
     ]
    },
    {
     "name": "stderr",
     "output_type": "stream",
     "text": [
      "[2023-12-06 09:10:32,486][WARNING]: Skipped checksum for file with hash: ceb548c7-4fea-7fbb-3670-00735cd73ba3, and path: /stelmo/nwb/analysis/Olive20220707/Olive20220707_0IO238JZ26.nwb\n",
      "WARNING:datajoint:Skipped checksum for file with hash: ceb548c7-4fea-7fbb-3670-00735cd73ba3, and path: /stelmo/nwb/analysis/Olive20220707/Olive20220707_0IO238JZ26.nwb\n"
     ]
    },
    {
     "name": "stdout",
     "output_type": "stream",
     "text": [
      "Fast Gamma 65-100 Hz Olive20220707_.nwb pos 5 valid times f658b383-23be-5e70-c0ea-7ca9b539b433\n"
     ]
    },
    {
     "name": "stderr",
     "output_type": "stream",
     "text": [
      "[2023-12-06 09:10:33,310][WARNING]: Skipped checksum for file with hash: bc991084-c8c0-9c96-3187-d8ec3a13bd07, and path: /stelmo/nwb/analysis/Olive20220707/Olive20220707_NWJ3IVPXYB.nwb\n",
      "WARNING:datajoint:Skipped checksum for file with hash: bc991084-c8c0-9c96-3187-d8ec3a13bd07, and path: /stelmo/nwb/analysis/Olive20220707/Olive20220707_NWJ3IVPXYB.nwb\n"
     ]
    },
    {
     "name": "stdout",
     "output_type": "stream",
     "text": [
      "Slow Gamma 25-55 Hz Olive20220707_.nwb pos 6 valid times fc215d22-8123-5f19-0752-c1b97280f033\n"
     ]
    },
    {
     "name": "stderr",
     "output_type": "stream",
     "text": [
      "[2023-12-06 09:10:34,874][WARNING]: Skipped checksum for file with hash: bc991084-c8c0-9c96-3187-d8ec3a13bd07, and path: /stelmo/nwb/analysis/Olive20220707/Olive20220707_NWJ3IVPXYB.nwb\n",
      "WARNING:datajoint:Skipped checksum for file with hash: bc991084-c8c0-9c96-3187-d8ec3a13bd07, and path: /stelmo/nwb/analysis/Olive20220707/Olive20220707_NWJ3IVPXYB.nwb\n"
     ]
    },
    {
     "name": "stdout",
     "output_type": "stream",
     "text": [
      "Fast Gamma 65-100 Hz Olive20220707_.nwb pos 6 valid times fc215d22-8123-5f19-0752-c1b97280f033\n"
     ]
    },
    {
     "name": "stderr",
     "output_type": "stream",
     "text": [
      "[2023-12-06 09:10:35,724][WARNING]: Skipped checksum for file with hash: 0154cb9c-ddc1-dbd4-4aaf-842fca39c2d9, and path: /stelmo/nwb/analysis/Olive20220707/Olive20220707_8UCQZB5E30.nwb\n",
      "WARNING:datajoint:Skipped checksum for file with hash: 0154cb9c-ddc1-dbd4-4aaf-842fca39c2d9, and path: /stelmo/nwb/analysis/Olive20220707/Olive20220707_8UCQZB5E30.nwb\n"
     ]
    },
    {
     "name": "stdout",
     "output_type": "stream",
     "text": [
      "Slow Gamma 25-55 Hz Olive20220707_.nwb pos 7 valid times 92a911e8-1440-94b7-0fc9-c4fe0d4adfb1\n"
     ]
    },
    {
     "name": "stderr",
     "output_type": "stream",
     "text": [
      "[2023-12-06 09:10:37,267][WARNING]: Skipped checksum for file with hash: 0154cb9c-ddc1-dbd4-4aaf-842fca39c2d9, and path: /stelmo/nwb/analysis/Olive20220707/Olive20220707_8UCQZB5E30.nwb\n",
      "WARNING:datajoint:Skipped checksum for file with hash: 0154cb9c-ddc1-dbd4-4aaf-842fca39c2d9, and path: /stelmo/nwb/analysis/Olive20220707/Olive20220707_8UCQZB5E30.nwb\n"
     ]
    },
    {
     "name": "stdout",
     "output_type": "stream",
     "text": [
      "Fast Gamma 65-100 Hz Olive20220707_.nwb pos 7 valid times 92a911e8-1440-94b7-0fc9-c4fe0d4adfb1\n"
     ]
    },
    {
     "name": "stderr",
     "output_type": "stream",
     "text": [
      "[2023-12-06 09:10:38,113][WARNING]: Skipped checksum for file with hash: 34b7e76b-711d-c3b4-41bb-5b5d36afbdbc, and path: /stelmo/nwb/analysis/Olive20220707/Olive20220707_XEE676ZPFW.nwb\n",
      "WARNING:datajoint:Skipped checksum for file with hash: 34b7e76b-711d-c3b4-41bb-5b5d36afbdbc, and path: /stelmo/nwb/analysis/Olive20220707/Olive20220707_XEE676ZPFW.nwb\n"
     ]
    },
    {
     "name": "stdout",
     "output_type": "stream",
     "text": [
      "Slow Gamma 25-55 Hz Olive20220707_.nwb pos 8 valid times c7fc7458-4110-af29-469e-1fbd75b5c48e\n"
     ]
    },
    {
     "name": "stderr",
     "output_type": "stream",
     "text": [
      "[2023-12-06 09:10:39,639][WARNING]: Skipped checksum for file with hash: 34b7e76b-711d-c3b4-41bb-5b5d36afbdbc, and path: /stelmo/nwb/analysis/Olive20220707/Olive20220707_XEE676ZPFW.nwb\n",
      "WARNING:datajoint:Skipped checksum for file with hash: 34b7e76b-711d-c3b4-41bb-5b5d36afbdbc, and path: /stelmo/nwb/analysis/Olive20220707/Olive20220707_XEE676ZPFW.nwb\n"
     ]
    },
    {
     "name": "stdout",
     "output_type": "stream",
     "text": [
      "Fast Gamma 65-100 Hz Olive20220707_.nwb pos 8 valid times c7fc7458-4110-af29-469e-1fbd75b5c48e\n"
     ]
    },
    {
     "name": "stderr",
     "output_type": "stream",
     "text": [
      "[2023-12-06 09:10:40,547][WARNING]: Skipped checksum for file with hash: da1f88f3-ec2b-f8b9-5435-dd372c5dd4c0, and path: /stelmo/nwb/analysis/Olive20220707/Olive20220707_E1E2YIYREB.nwb\n",
      "WARNING:datajoint:Skipped checksum for file with hash: da1f88f3-ec2b-f8b9-5435-dd372c5dd4c0, and path: /stelmo/nwb/analysis/Olive20220707/Olive20220707_E1E2YIYREB.nwb\n"
     ]
    },
    {
     "name": "stdout",
     "output_type": "stream",
     "text": [
      "Slow Gamma 25-55 Hz Olive20220707_.nwb pos 9 valid times a582bfbc-5f9e-945c-ec54-4d4ca97a68e7\n"
     ]
    },
    {
     "name": "stderr",
     "output_type": "stream",
     "text": [
      "[2023-12-06 09:10:42,047][WARNING]: Skipped checksum for file with hash: da1f88f3-ec2b-f8b9-5435-dd372c5dd4c0, and path: /stelmo/nwb/analysis/Olive20220707/Olive20220707_E1E2YIYREB.nwb\n",
      "WARNING:datajoint:Skipped checksum for file with hash: da1f88f3-ec2b-f8b9-5435-dd372c5dd4c0, and path: /stelmo/nwb/analysis/Olive20220707/Olive20220707_E1E2YIYREB.nwb\n"
     ]
    },
    {
     "name": "stdout",
     "output_type": "stream",
     "text": [
      "Fast Gamma 65-100 Hz Olive20220707_.nwb pos 9 valid times a582bfbc-5f9e-945c-ec54-4d4ca97a68e7\n"
     ]
    },
    {
     "name": "stderr",
     "output_type": "stream",
     "text": [
      "[2023-12-06 09:10:42,893][WARNING]: Skipped checksum for file with hash: c7e0279c-6362-4384-fb2e-7b8ebbfe1e17, and path: /stelmo/nwb/analysis/Olive20220708/Olive20220708_8284S5DYSZ.nwb\n",
      "WARNING:datajoint:Skipped checksum for file with hash: c7e0279c-6362-4384-fb2e-7b8ebbfe1e17, and path: /stelmo/nwb/analysis/Olive20220708/Olive20220708_8284S5DYSZ.nwb\n"
     ]
    },
    {
     "name": "stdout",
     "output_type": "stream",
     "text": [
      "Slow Gamma 25-55 Hz Olive20220708_.nwb pos 0 valid times 229ac1fb-0f25-a936-1ad6-ed31c0d43e27\n"
     ]
    },
    {
     "name": "stderr",
     "output_type": "stream",
     "text": [
      "[2023-12-06 09:10:44,414][WARNING]: Skipped checksum for file with hash: c7e0279c-6362-4384-fb2e-7b8ebbfe1e17, and path: /stelmo/nwb/analysis/Olive20220708/Olive20220708_8284S5DYSZ.nwb\n",
      "WARNING:datajoint:Skipped checksum for file with hash: c7e0279c-6362-4384-fb2e-7b8ebbfe1e17, and path: /stelmo/nwb/analysis/Olive20220708/Olive20220708_8284S5DYSZ.nwb\n"
     ]
    },
    {
     "name": "stdout",
     "output_type": "stream",
     "text": [
      "Fast Gamma 65-100 Hz Olive20220708_.nwb pos 0 valid times 229ac1fb-0f25-a936-1ad6-ed31c0d43e27\n"
     ]
    },
    {
     "name": "stderr",
     "output_type": "stream",
     "text": [
      "[2023-12-06 09:10:45,259][WARNING]: Skipped checksum for file with hash: a6514bc9-da7f-884c-7326-c40c207a4647, and path: /stelmo/nwb/analysis/Olive20220708/Olive20220708_MS8AHYHR67.nwb\n",
      "WARNING:datajoint:Skipped checksum for file with hash: a6514bc9-da7f-884c-7326-c40c207a4647, and path: /stelmo/nwb/analysis/Olive20220708/Olive20220708_MS8AHYHR67.nwb\n"
     ]
    },
    {
     "name": "stdout",
     "output_type": "stream",
     "text": [
      "Slow Gamma 25-55 Hz Olive20220708_.nwb pos 1 valid times b47d6ca5-c9a6-bd87-7074-e3b6f993ee2c\n"
     ]
    },
    {
     "name": "stderr",
     "output_type": "stream",
     "text": [
      "[2023-12-06 09:10:46,764][WARNING]: Skipped checksum for file with hash: a6514bc9-da7f-884c-7326-c40c207a4647, and path: /stelmo/nwb/analysis/Olive20220708/Olive20220708_MS8AHYHR67.nwb\n",
      "WARNING:datajoint:Skipped checksum for file with hash: a6514bc9-da7f-884c-7326-c40c207a4647, and path: /stelmo/nwb/analysis/Olive20220708/Olive20220708_MS8AHYHR67.nwb\n"
     ]
    },
    {
     "name": "stdout",
     "output_type": "stream",
     "text": [
      "Fast Gamma 65-100 Hz Olive20220708_.nwb pos 1 valid times b47d6ca5-c9a6-bd87-7074-e3b6f993ee2c\n"
     ]
    },
    {
     "name": "stderr",
     "output_type": "stream",
     "text": [
      "[2023-12-06 09:10:47,640][WARNING]: Skipped checksum for file with hash: 2144d32a-af0a-69ba-900b-caf1c996faea, and path: /stelmo/nwb/analysis/Olive20220708/Olive20220708_WZ7AYCWREZ.nwb\n",
      "WARNING:datajoint:Skipped checksum for file with hash: 2144d32a-af0a-69ba-900b-caf1c996faea, and path: /stelmo/nwb/analysis/Olive20220708/Olive20220708_WZ7AYCWREZ.nwb\n"
     ]
    },
    {
     "name": "stdout",
     "output_type": "stream",
     "text": [
      "Slow Gamma 25-55 Hz Olive20220708_.nwb pos 10 valid times 82b4bfcd-1385-25cc-73f3-34cccd235ccb\n"
     ]
    },
    {
     "name": "stderr",
     "output_type": "stream",
     "text": [
      "[2023-12-06 09:10:49,121][WARNING]: Skipped checksum for file with hash: 2144d32a-af0a-69ba-900b-caf1c996faea, and path: /stelmo/nwb/analysis/Olive20220708/Olive20220708_WZ7AYCWREZ.nwb\n",
      "WARNING:datajoint:Skipped checksum for file with hash: 2144d32a-af0a-69ba-900b-caf1c996faea, and path: /stelmo/nwb/analysis/Olive20220708/Olive20220708_WZ7AYCWREZ.nwb\n"
     ]
    },
    {
     "name": "stdout",
     "output_type": "stream",
     "text": [
      "Fast Gamma 65-100 Hz Olive20220708_.nwb pos 10 valid times 82b4bfcd-1385-25cc-73f3-34cccd235ccb\n"
     ]
    },
    {
     "name": "stderr",
     "output_type": "stream",
     "text": [
      "[2023-12-06 09:10:50,034][WARNING]: Skipped checksum for file with hash: 12dc2ad7-dab7-feb2-94a4-ba37a478539b, and path: /stelmo/nwb/analysis/Olive20220708/Olive20220708_3FPJXNXFMY.nwb\n",
      "WARNING:datajoint:Skipped checksum for file with hash: 12dc2ad7-dab7-feb2-94a4-ba37a478539b, and path: /stelmo/nwb/analysis/Olive20220708/Olive20220708_3FPJXNXFMY.nwb\n"
     ]
    },
    {
     "name": "stdout",
     "output_type": "stream",
     "text": [
      "Slow Gamma 25-55 Hz Olive20220708_.nwb pos 11 valid times 5d9378ab-7a3b-9123-a4e6-231c885f7e2e\n"
     ]
    },
    {
     "name": "stderr",
     "output_type": "stream",
     "text": [
      "[2023-12-06 09:10:51,506][WARNING]: Skipped checksum for file with hash: 12dc2ad7-dab7-feb2-94a4-ba37a478539b, and path: /stelmo/nwb/analysis/Olive20220708/Olive20220708_3FPJXNXFMY.nwb\n",
      "WARNING:datajoint:Skipped checksum for file with hash: 12dc2ad7-dab7-feb2-94a4-ba37a478539b, and path: /stelmo/nwb/analysis/Olive20220708/Olive20220708_3FPJXNXFMY.nwb\n"
     ]
    },
    {
     "name": "stdout",
     "output_type": "stream",
     "text": [
      "Fast Gamma 65-100 Hz Olive20220708_.nwb pos 11 valid times 5d9378ab-7a3b-9123-a4e6-231c885f7e2e\n"
     ]
    },
    {
     "name": "stderr",
     "output_type": "stream",
     "text": [
      "[2023-12-06 09:10:52,347][WARNING]: Skipped checksum for file with hash: 28fd30d9-097f-9d5d-60da-8d158ff4827b, and path: /stelmo/nwb/analysis/Olive20220708/Olive20220708_UD83FEEGIT.nwb\n",
      "WARNING:datajoint:Skipped checksum for file with hash: 28fd30d9-097f-9d5d-60da-8d158ff4827b, and path: /stelmo/nwb/analysis/Olive20220708/Olive20220708_UD83FEEGIT.nwb\n"
     ]
    },
    {
     "name": "stdout",
     "output_type": "stream",
     "text": [
      "Slow Gamma 25-55 Hz Olive20220708_.nwb pos 12 valid times ad8ec4b5-712f-be22-2e58-aa40721b6b24\n"
     ]
    },
    {
     "name": "stderr",
     "output_type": "stream",
     "text": [
      "[2023-12-06 09:10:53,894][WARNING]: Skipped checksum for file with hash: 28fd30d9-097f-9d5d-60da-8d158ff4827b, and path: /stelmo/nwb/analysis/Olive20220708/Olive20220708_UD83FEEGIT.nwb\n",
      "WARNING:datajoint:Skipped checksum for file with hash: 28fd30d9-097f-9d5d-60da-8d158ff4827b, and path: /stelmo/nwb/analysis/Olive20220708/Olive20220708_UD83FEEGIT.nwb\n"
     ]
    },
    {
     "name": "stdout",
     "output_type": "stream",
     "text": [
      "Fast Gamma 65-100 Hz Olive20220708_.nwb pos 12 valid times ad8ec4b5-712f-be22-2e58-aa40721b6b24\n"
     ]
    },
    {
     "name": "stderr",
     "output_type": "stream",
     "text": [
      "[2023-12-06 09:10:54,747][WARNING]: Skipped checksum for file with hash: d8cfe990-32b8-2284-22b5-bd900cff2b23, and path: /stelmo/nwb/analysis/Olive20220708/Olive20220708_QHVU1H4AO2.nwb\n",
      "WARNING:datajoint:Skipped checksum for file with hash: d8cfe990-32b8-2284-22b5-bd900cff2b23, and path: /stelmo/nwb/analysis/Olive20220708/Olive20220708_QHVU1H4AO2.nwb\n"
     ]
    },
    {
     "name": "stdout",
     "output_type": "stream",
     "text": [
      "Slow Gamma 25-55 Hz Olive20220708_.nwb pos 13 valid times ef7db6b3-9446-82d3-9375-13bc0d2bd678\n"
     ]
    },
    {
     "name": "stderr",
     "output_type": "stream",
     "text": [
      "[2023-12-06 09:10:56,202][WARNING]: Skipped checksum for file with hash: d8cfe990-32b8-2284-22b5-bd900cff2b23, and path: /stelmo/nwb/analysis/Olive20220708/Olive20220708_QHVU1H4AO2.nwb\n",
      "WARNING:datajoint:Skipped checksum for file with hash: d8cfe990-32b8-2284-22b5-bd900cff2b23, and path: /stelmo/nwb/analysis/Olive20220708/Olive20220708_QHVU1H4AO2.nwb\n"
     ]
    },
    {
     "name": "stdout",
     "output_type": "stream",
     "text": [
      "Fast Gamma 65-100 Hz Olive20220708_.nwb pos 13 valid times ef7db6b3-9446-82d3-9375-13bc0d2bd678\n"
     ]
    },
    {
     "name": "stderr",
     "output_type": "stream",
     "text": [
      "[2023-12-06 09:10:57,048][WARNING]: Skipped checksum for file with hash: 53dfed72-1e5d-296b-7d54-51c3a30ea038, and path: /stelmo/nwb/analysis/Olive20220708/Olive20220708_SDMOYDI2DO.nwb\n",
      "WARNING:datajoint:Skipped checksum for file with hash: 53dfed72-1e5d-296b-7d54-51c3a30ea038, and path: /stelmo/nwb/analysis/Olive20220708/Olive20220708_SDMOYDI2DO.nwb\n"
     ]
    },
    {
     "name": "stdout",
     "output_type": "stream",
     "text": [
      "Slow Gamma 25-55 Hz Olive20220708_.nwb pos 14 valid times 0ebfa0be-d4a6-e976-30ad-7a0f06696ea7\n"
     ]
    },
    {
     "name": "stderr",
     "output_type": "stream",
     "text": [
      "[2023-12-06 09:10:58,516][WARNING]: Skipped checksum for file with hash: 53dfed72-1e5d-296b-7d54-51c3a30ea038, and path: /stelmo/nwb/analysis/Olive20220708/Olive20220708_SDMOYDI2DO.nwb\n",
      "WARNING:datajoint:Skipped checksum for file with hash: 53dfed72-1e5d-296b-7d54-51c3a30ea038, and path: /stelmo/nwb/analysis/Olive20220708/Olive20220708_SDMOYDI2DO.nwb\n"
     ]
    },
    {
     "name": "stdout",
     "output_type": "stream",
     "text": [
      "Fast Gamma 65-100 Hz Olive20220708_.nwb pos 14 valid times 0ebfa0be-d4a6-e976-30ad-7a0f06696ea7\n"
     ]
    },
    {
     "name": "stderr",
     "output_type": "stream",
     "text": [
      "[2023-12-06 09:10:59,366][WARNING]: Skipped checksum for file with hash: f22f8a9a-c4d3-237c-b852-e8544225e18e, and path: /stelmo/nwb/analysis/Olive20220708/Olive20220708_3N3GCII27N.nwb\n",
      "WARNING:datajoint:Skipped checksum for file with hash: f22f8a9a-c4d3-237c-b852-e8544225e18e, and path: /stelmo/nwb/analysis/Olive20220708/Olive20220708_3N3GCII27N.nwb\n"
     ]
    },
    {
     "name": "stdout",
     "output_type": "stream",
     "text": [
      "Slow Gamma 25-55 Hz Olive20220708_.nwb pos 15 valid times 65fef680-1bc7-bc74-c5d1-5ce9abe37e30\n"
     ]
    },
    {
     "name": "stderr",
     "output_type": "stream",
     "text": [
      "[2023-12-06 09:11:00,863][WARNING]: Skipped checksum for file with hash: f22f8a9a-c4d3-237c-b852-e8544225e18e, and path: /stelmo/nwb/analysis/Olive20220708/Olive20220708_3N3GCII27N.nwb\n",
      "WARNING:datajoint:Skipped checksum for file with hash: f22f8a9a-c4d3-237c-b852-e8544225e18e, and path: /stelmo/nwb/analysis/Olive20220708/Olive20220708_3N3GCII27N.nwb\n"
     ]
    },
    {
     "name": "stdout",
     "output_type": "stream",
     "text": [
      "Fast Gamma 65-100 Hz Olive20220708_.nwb pos 15 valid times 65fef680-1bc7-bc74-c5d1-5ce9abe37e30\n"
     ]
    },
    {
     "name": "stderr",
     "output_type": "stream",
     "text": [
      "[2023-12-06 09:11:01,700][WARNING]: Skipped checksum for file with hash: 477e9ea8-e96d-2747-ec0b-63bbdfd38d06, and path: /stelmo/nwb/analysis/Olive20220708/Olive20220708_9IX6MZE864.nwb\n",
      "WARNING:datajoint:Skipped checksum for file with hash: 477e9ea8-e96d-2747-ec0b-63bbdfd38d06, and path: /stelmo/nwb/analysis/Olive20220708/Olive20220708_9IX6MZE864.nwb\n"
     ]
    },
    {
     "name": "stdout",
     "output_type": "stream",
     "text": [
      "Slow Gamma 25-55 Hz Olive20220708_.nwb pos 16 valid times fec34c9f-c4fd-5540-438f-ab476bf74166\n"
     ]
    },
    {
     "name": "stderr",
     "output_type": "stream",
     "text": [
      "[2023-12-06 09:11:03,198][WARNING]: Skipped checksum for file with hash: 477e9ea8-e96d-2747-ec0b-63bbdfd38d06, and path: /stelmo/nwb/analysis/Olive20220708/Olive20220708_9IX6MZE864.nwb\n",
      "WARNING:datajoint:Skipped checksum for file with hash: 477e9ea8-e96d-2747-ec0b-63bbdfd38d06, and path: /stelmo/nwb/analysis/Olive20220708/Olive20220708_9IX6MZE864.nwb\n"
     ]
    },
    {
     "name": "stdout",
     "output_type": "stream",
     "text": [
      "Fast Gamma 65-100 Hz Olive20220708_.nwb pos 16 valid times fec34c9f-c4fd-5540-438f-ab476bf74166\n"
     ]
    },
    {
     "name": "stderr",
     "output_type": "stream",
     "text": [
      "[2023-12-06 09:11:04,053][WARNING]: Skipped checksum for file with hash: 925afa5b-55e5-8368-524d-0fe3b5e6d6cc, and path: /stelmo/nwb/analysis/Olive20220708/Olive20220708_ERNG5OZ4XI.nwb\n",
      "WARNING:datajoint:Skipped checksum for file with hash: 925afa5b-55e5-8368-524d-0fe3b5e6d6cc, and path: /stelmo/nwb/analysis/Olive20220708/Olive20220708_ERNG5OZ4XI.nwb\n"
     ]
    },
    {
     "name": "stdout",
     "output_type": "stream",
     "text": [
      "Slow Gamma 25-55 Hz Olive20220708_.nwb pos 17 valid times 60732f15-7573-f730-2411-794e6c780b52\n"
     ]
    },
    {
     "name": "stderr",
     "output_type": "stream",
     "text": [
      "[2023-12-06 09:11:05,541][WARNING]: Skipped checksum for file with hash: 925afa5b-55e5-8368-524d-0fe3b5e6d6cc, and path: /stelmo/nwb/analysis/Olive20220708/Olive20220708_ERNG5OZ4XI.nwb\n",
      "WARNING:datajoint:Skipped checksum for file with hash: 925afa5b-55e5-8368-524d-0fe3b5e6d6cc, and path: /stelmo/nwb/analysis/Olive20220708/Olive20220708_ERNG5OZ4XI.nwb\n"
     ]
    },
    {
     "name": "stdout",
     "output_type": "stream",
     "text": [
      "Fast Gamma 65-100 Hz Olive20220708_.nwb pos 17 valid times 60732f15-7573-f730-2411-794e6c780b52\n"
     ]
    },
    {
     "name": "stderr",
     "output_type": "stream",
     "text": [
      "[2023-12-06 09:11:06,374][WARNING]: Skipped checksum for file with hash: 57b11005-327d-880a-9fd9-69edff341d42, and path: /stelmo/nwb/analysis/Olive20220708/Olive20220708_R6JRJE4D85.nwb\n",
      "WARNING:datajoint:Skipped checksum for file with hash: 57b11005-327d-880a-9fd9-69edff341d42, and path: /stelmo/nwb/analysis/Olive20220708/Olive20220708_R6JRJE4D85.nwb\n"
     ]
    },
    {
     "name": "stdout",
     "output_type": "stream",
     "text": [
      "Slow Gamma 25-55 Hz Olive20220708_.nwb pos 18 valid times f7262493-572e-25a3-69c2-df603ec8c869\n"
     ]
    },
    {
     "name": "stderr",
     "output_type": "stream",
     "text": [
      "[2023-12-06 09:11:07,903][WARNING]: Skipped checksum for file with hash: 57b11005-327d-880a-9fd9-69edff341d42, and path: /stelmo/nwb/analysis/Olive20220708/Olive20220708_R6JRJE4D85.nwb\n",
      "WARNING:datajoint:Skipped checksum for file with hash: 57b11005-327d-880a-9fd9-69edff341d42, and path: /stelmo/nwb/analysis/Olive20220708/Olive20220708_R6JRJE4D85.nwb\n"
     ]
    },
    {
     "name": "stdout",
     "output_type": "stream",
     "text": [
      "Fast Gamma 65-100 Hz Olive20220708_.nwb pos 18 valid times f7262493-572e-25a3-69c2-df603ec8c869\n"
     ]
    },
    {
     "name": "stderr",
     "output_type": "stream",
     "text": [
      "[2023-12-06 09:11:08,759][WARNING]: Skipped checksum for file with hash: 73f000c1-a392-4b3b-48f3-8f0960260594, and path: /stelmo/nwb/analysis/Olive20220708/Olive20220708_L32P59RSWO.nwb\n",
      "WARNING:datajoint:Skipped checksum for file with hash: 73f000c1-a392-4b3b-48f3-8f0960260594, and path: /stelmo/nwb/analysis/Olive20220708/Olive20220708_L32P59RSWO.nwb\n"
     ]
    },
    {
     "name": "stdout",
     "output_type": "stream",
     "text": [
      "Slow Gamma 25-55 Hz Olive20220708_.nwb pos 2 valid times a613d469-2467-02d5-4dea-32b34d98cad0\n"
     ]
    },
    {
     "name": "stderr",
     "output_type": "stream",
     "text": [
      "[2023-12-06 09:11:10,285][WARNING]: Skipped checksum for file with hash: 73f000c1-a392-4b3b-48f3-8f0960260594, and path: /stelmo/nwb/analysis/Olive20220708/Olive20220708_L32P59RSWO.nwb\n",
      "WARNING:datajoint:Skipped checksum for file with hash: 73f000c1-a392-4b3b-48f3-8f0960260594, and path: /stelmo/nwb/analysis/Olive20220708/Olive20220708_L32P59RSWO.nwb\n"
     ]
    },
    {
     "name": "stdout",
     "output_type": "stream",
     "text": [
      "Fast Gamma 65-100 Hz Olive20220708_.nwb pos 2 valid times a613d469-2467-02d5-4dea-32b34d98cad0\n"
     ]
    },
    {
     "name": "stderr",
     "output_type": "stream",
     "text": [
      "[2023-12-06 09:11:11,203][WARNING]: Skipped checksum for file with hash: 00734162-c67c-b644-c1b9-2bc2907cfc1d, and path: /stelmo/nwb/analysis/Olive20220708/Olive20220708_DUACK2XP6X.nwb\n",
      "WARNING:datajoint:Skipped checksum for file with hash: 00734162-c67c-b644-c1b9-2bc2907cfc1d, and path: /stelmo/nwb/analysis/Olive20220708/Olive20220708_DUACK2XP6X.nwb\n"
     ]
    },
    {
     "name": "stdout",
     "output_type": "stream",
     "text": [
      "Slow Gamma 25-55 Hz Olive20220708_.nwb pos 3 valid times 555d9947-b54a-116b-5c7e-79edfa23252a\n"
     ]
    },
    {
     "name": "stderr",
     "output_type": "stream",
     "text": [
      "[2023-12-06 09:11:12,625][WARNING]: Skipped checksum for file with hash: 00734162-c67c-b644-c1b9-2bc2907cfc1d, and path: /stelmo/nwb/analysis/Olive20220708/Olive20220708_DUACK2XP6X.nwb\n",
      "WARNING:datajoint:Skipped checksum for file with hash: 00734162-c67c-b644-c1b9-2bc2907cfc1d, and path: /stelmo/nwb/analysis/Olive20220708/Olive20220708_DUACK2XP6X.nwb\n"
     ]
    },
    {
     "name": "stdout",
     "output_type": "stream",
     "text": [
      "Fast Gamma 65-100 Hz Olive20220708_.nwb pos 3 valid times 555d9947-b54a-116b-5c7e-79edfa23252a\n"
     ]
    },
    {
     "name": "stderr",
     "output_type": "stream",
     "text": [
      "[2023-12-06 09:11:13,434][WARNING]: Skipped checksum for file with hash: 4d91acc8-7e48-81b2-41d0-def7618d440a, and path: /stelmo/nwb/analysis/Olive20220708/Olive20220708_S49WA7T1G5.nwb\n",
      "WARNING:datajoint:Skipped checksum for file with hash: 4d91acc8-7e48-81b2-41d0-def7618d440a, and path: /stelmo/nwb/analysis/Olive20220708/Olive20220708_S49WA7T1G5.nwb\n"
     ]
    },
    {
     "name": "stdout",
     "output_type": "stream",
     "text": [
      "Slow Gamma 25-55 Hz Olive20220708_.nwb pos 4 valid times 89cb2e8a-2b08-c874-6775-c24cc2e96324\n"
     ]
    },
    {
     "name": "stderr",
     "output_type": "stream",
     "text": [
      "[2023-12-06 09:11:14,945][WARNING]: Skipped checksum for file with hash: 4d91acc8-7e48-81b2-41d0-def7618d440a, and path: /stelmo/nwb/analysis/Olive20220708/Olive20220708_S49WA7T1G5.nwb\n",
      "WARNING:datajoint:Skipped checksum for file with hash: 4d91acc8-7e48-81b2-41d0-def7618d440a, and path: /stelmo/nwb/analysis/Olive20220708/Olive20220708_S49WA7T1G5.nwb\n"
     ]
    },
    {
     "name": "stdout",
     "output_type": "stream",
     "text": [
      "Fast Gamma 65-100 Hz Olive20220708_.nwb pos 4 valid times 89cb2e8a-2b08-c874-6775-c24cc2e96324\n"
     ]
    },
    {
     "name": "stderr",
     "output_type": "stream",
     "text": [
      "[2023-12-06 09:11:15,817][WARNING]: Skipped checksum for file with hash: 434f3577-6968-2e43-add9-a80efc8bcee6, and path: /stelmo/nwb/analysis/Olive20220708/Olive20220708_69182PM0R3.nwb\n",
      "WARNING:datajoint:Skipped checksum for file with hash: 434f3577-6968-2e43-add9-a80efc8bcee6, and path: /stelmo/nwb/analysis/Olive20220708/Olive20220708_69182PM0R3.nwb\n"
     ]
    },
    {
     "name": "stdout",
     "output_type": "stream",
     "text": [
      "Slow Gamma 25-55 Hz Olive20220708_.nwb pos 5 valid times 0f1ef946-e70a-a6f5-e4cb-0eba065c6b81\n"
     ]
    },
    {
     "name": "stderr",
     "output_type": "stream",
     "text": [
      "[2023-12-06 09:11:17,329][WARNING]: Skipped checksum for file with hash: 434f3577-6968-2e43-add9-a80efc8bcee6, and path: /stelmo/nwb/analysis/Olive20220708/Olive20220708_69182PM0R3.nwb\n",
      "WARNING:datajoint:Skipped checksum for file with hash: 434f3577-6968-2e43-add9-a80efc8bcee6, and path: /stelmo/nwb/analysis/Olive20220708/Olive20220708_69182PM0R3.nwb\n"
     ]
    },
    {
     "name": "stdout",
     "output_type": "stream",
     "text": [
      "Fast Gamma 65-100 Hz Olive20220708_.nwb pos 5 valid times 0f1ef946-e70a-a6f5-e4cb-0eba065c6b81\n"
     ]
    },
    {
     "name": "stderr",
     "output_type": "stream",
     "text": [
      "[2023-12-06 09:11:18,192][WARNING]: Skipped checksum for file with hash: c2b1e9b2-fa37-43fa-7597-dc316984e5b3, and path: /stelmo/nwb/analysis/Olive20220708/Olive20220708_IUGIJFKOOW.nwb\n",
      "WARNING:datajoint:Skipped checksum for file with hash: c2b1e9b2-fa37-43fa-7597-dc316984e5b3, and path: /stelmo/nwb/analysis/Olive20220708/Olive20220708_IUGIJFKOOW.nwb\n"
     ]
    },
    {
     "name": "stdout",
     "output_type": "stream",
     "text": [
      "Slow Gamma 25-55 Hz Olive20220708_.nwb pos 6 valid times 67eefc4a-f504-4974-9dc5-ef2853d61d5e\n"
     ]
    },
    {
     "name": "stderr",
     "output_type": "stream",
     "text": [
      "[2023-12-06 09:11:19,578][WARNING]: Skipped checksum for file with hash: c2b1e9b2-fa37-43fa-7597-dc316984e5b3, and path: /stelmo/nwb/analysis/Olive20220708/Olive20220708_IUGIJFKOOW.nwb\n",
      "WARNING:datajoint:Skipped checksum for file with hash: c2b1e9b2-fa37-43fa-7597-dc316984e5b3, and path: /stelmo/nwb/analysis/Olive20220708/Olive20220708_IUGIJFKOOW.nwb\n"
     ]
    },
    {
     "name": "stdout",
     "output_type": "stream",
     "text": [
      "Fast Gamma 65-100 Hz Olive20220708_.nwb pos 6 valid times 67eefc4a-f504-4974-9dc5-ef2853d61d5e\n"
     ]
    },
    {
     "name": "stderr",
     "output_type": "stream",
     "text": [
      "[2023-12-06 09:11:20,422][WARNING]: Skipped checksum for file with hash: a8ae6d9f-c938-c2ac-7b77-f08af106bf52, and path: /stelmo/nwb/analysis/Olive20220708/Olive20220708_HITRMDGABE.nwb\n",
      "WARNING:datajoint:Skipped checksum for file with hash: a8ae6d9f-c938-c2ac-7b77-f08af106bf52, and path: /stelmo/nwb/analysis/Olive20220708/Olive20220708_HITRMDGABE.nwb\n"
     ]
    },
    {
     "name": "stdout",
     "output_type": "stream",
     "text": [
      "Slow Gamma 25-55 Hz Olive20220708_.nwb pos 7 valid times 34923f80-ccf6-a265-40b4-2603eab1113b\n"
     ]
    },
    {
     "name": "stderr",
     "output_type": "stream",
     "text": [
      "[2023-12-06 09:11:21,977][WARNING]: Skipped checksum for file with hash: a8ae6d9f-c938-c2ac-7b77-f08af106bf52, and path: /stelmo/nwb/analysis/Olive20220708/Olive20220708_HITRMDGABE.nwb\n",
      "WARNING:datajoint:Skipped checksum for file with hash: a8ae6d9f-c938-c2ac-7b77-f08af106bf52, and path: /stelmo/nwb/analysis/Olive20220708/Olive20220708_HITRMDGABE.nwb\n"
     ]
    },
    {
     "name": "stdout",
     "output_type": "stream",
     "text": [
      "Fast Gamma 65-100 Hz Olive20220708_.nwb pos 7 valid times 34923f80-ccf6-a265-40b4-2603eab1113b\n"
     ]
    },
    {
     "name": "stderr",
     "output_type": "stream",
     "text": [
      "[2023-12-06 09:11:22,896][WARNING]: Skipped checksum for file with hash: 6241efdb-4d5a-9abe-73a4-c9652e5820a9, and path: /stelmo/nwb/analysis/Olive20220708/Olive20220708_2FEAP1237P.nwb\n",
      "WARNING:datajoint:Skipped checksum for file with hash: 6241efdb-4d5a-9abe-73a4-c9652e5820a9, and path: /stelmo/nwb/analysis/Olive20220708/Olive20220708_2FEAP1237P.nwb\n"
     ]
    },
    {
     "name": "stdout",
     "output_type": "stream",
     "text": [
      "Slow Gamma 25-55 Hz Olive20220708_.nwb pos 8 valid times f2c25ecb-7d52-64f2-8bab-39da0a0f0010\n"
     ]
    },
    {
     "name": "stderr",
     "output_type": "stream",
     "text": [
      "[2023-12-06 09:11:24,388][WARNING]: Skipped checksum for file with hash: 6241efdb-4d5a-9abe-73a4-c9652e5820a9, and path: /stelmo/nwb/analysis/Olive20220708/Olive20220708_2FEAP1237P.nwb\n",
      "WARNING:datajoint:Skipped checksum for file with hash: 6241efdb-4d5a-9abe-73a4-c9652e5820a9, and path: /stelmo/nwb/analysis/Olive20220708/Olive20220708_2FEAP1237P.nwb\n"
     ]
    },
    {
     "name": "stdout",
     "output_type": "stream",
     "text": [
      "Fast Gamma 65-100 Hz Olive20220708_.nwb pos 8 valid times f2c25ecb-7d52-64f2-8bab-39da0a0f0010\n"
     ]
    },
    {
     "name": "stderr",
     "output_type": "stream",
     "text": [
      "[2023-12-06 09:11:25,234][WARNING]: Skipped checksum for file with hash: e22f5f6a-e6ed-af16-6035-df38cb20d4a2, and path: /stelmo/nwb/analysis/Olive20220708/Olive20220708_OX5SV7QU8T.nwb\n",
      "WARNING:datajoint:Skipped checksum for file with hash: e22f5f6a-e6ed-af16-6035-df38cb20d4a2, and path: /stelmo/nwb/analysis/Olive20220708/Olive20220708_OX5SV7QU8T.nwb\n"
     ]
    },
    {
     "name": "stdout",
     "output_type": "stream",
     "text": [
      "Slow Gamma 25-55 Hz Olive20220708_.nwb pos 9 valid times 72c0acbe-9240-e641-6d65-4fe4ae694578\n"
     ]
    },
    {
     "name": "stderr",
     "output_type": "stream",
     "text": [
      "[2023-12-06 09:11:26,736][WARNING]: Skipped checksum for file with hash: e22f5f6a-e6ed-af16-6035-df38cb20d4a2, and path: /stelmo/nwb/analysis/Olive20220708/Olive20220708_OX5SV7QU8T.nwb\n",
      "WARNING:datajoint:Skipped checksum for file with hash: e22f5f6a-e6ed-af16-6035-df38cb20d4a2, and path: /stelmo/nwb/analysis/Olive20220708/Olive20220708_OX5SV7QU8T.nwb\n"
     ]
    },
    {
     "name": "stdout",
     "output_type": "stream",
     "text": [
      "Fast Gamma 65-100 Hz Olive20220708_.nwb pos 9 valid times 72c0acbe-9240-e641-6d65-4fe4ae694578\n"
     ]
    },
    {
     "name": "stderr",
     "output_type": "stream",
     "text": [
      "[2023-12-06 09:11:27,575][WARNING]: Skipped checksum for file with hash: 8f10a4bb-b805-4d22-353d-7485356b61dd, and path: /stelmo/nwb/analysis/Olive20220711/Olive20220711_WF3CHTRDNF.nwb\n",
      "WARNING:datajoint:Skipped checksum for file with hash: 8f10a4bb-b805-4d22-353d-7485356b61dd, and path: /stelmo/nwb/analysis/Olive20220711/Olive20220711_WF3CHTRDNF.nwb\n"
     ]
    },
    {
     "name": "stdout",
     "output_type": "stream",
     "text": [
      "Slow Gamma 25-55 Hz Olive20220711_.nwb pos 0 valid times 46a43217-4ade-a5ce-eaaf-e08d2378d7c0\n"
     ]
    },
    {
     "name": "stderr",
     "output_type": "stream",
     "text": [
      "[2023-12-06 09:11:29,104][WARNING]: Skipped checksum for file with hash: 8f10a4bb-b805-4d22-353d-7485356b61dd, and path: /stelmo/nwb/analysis/Olive20220711/Olive20220711_WF3CHTRDNF.nwb\n",
      "WARNING:datajoint:Skipped checksum for file with hash: 8f10a4bb-b805-4d22-353d-7485356b61dd, and path: /stelmo/nwb/analysis/Olive20220711/Olive20220711_WF3CHTRDNF.nwb\n"
     ]
    },
    {
     "name": "stdout",
     "output_type": "stream",
     "text": [
      "Fast Gamma 65-100 Hz Olive20220711_.nwb pos 0 valid times 46a43217-4ade-a5ce-eaaf-e08d2378d7c0\n"
     ]
    },
    {
     "name": "stderr",
     "output_type": "stream",
     "text": [
      "[2023-12-06 09:11:29,952][WARNING]: Skipped checksum for file with hash: e366ea6b-fd37-7c28-81ba-87d213a39b9f, and path: /stelmo/nwb/analysis/Olive20220711/Olive20220711_U0M15QLF73.nwb\n",
      "WARNING:datajoint:Skipped checksum for file with hash: e366ea6b-fd37-7c28-81ba-87d213a39b9f, and path: /stelmo/nwb/analysis/Olive20220711/Olive20220711_U0M15QLF73.nwb\n"
     ]
    },
    {
     "name": "stdout",
     "output_type": "stream",
     "text": [
      "Slow Gamma 25-55 Hz Olive20220711_.nwb pos 1 valid times 9420e552-d65c-934e-794a-8c891e1989a2\n"
     ]
    },
    {
     "name": "stderr",
     "output_type": "stream",
     "text": [
      "[2023-12-06 09:11:31,373][WARNING]: Skipped checksum for file with hash: e366ea6b-fd37-7c28-81ba-87d213a39b9f, and path: /stelmo/nwb/analysis/Olive20220711/Olive20220711_U0M15QLF73.nwb\n",
      "WARNING:datajoint:Skipped checksum for file with hash: e366ea6b-fd37-7c28-81ba-87d213a39b9f, and path: /stelmo/nwb/analysis/Olive20220711/Olive20220711_U0M15QLF73.nwb\n"
     ]
    },
    {
     "name": "stdout",
     "output_type": "stream",
     "text": [
      "Fast Gamma 65-100 Hz Olive20220711_.nwb pos 1 valid times 9420e552-d65c-934e-794a-8c891e1989a2\n"
     ]
    },
    {
     "name": "stderr",
     "output_type": "stream",
     "text": [
      "[2023-12-06 09:11:32,214][WARNING]: Skipped checksum for file with hash: c707f648-77a3-fd9f-b859-6aafa390f438, and path: /stelmo/nwb/analysis/Olive20220711/Olive20220711_MRVLFO15T4.nwb\n",
      "WARNING:datajoint:Skipped checksum for file with hash: c707f648-77a3-fd9f-b859-6aafa390f438, and path: /stelmo/nwb/analysis/Olive20220711/Olive20220711_MRVLFO15T4.nwb\n"
     ]
    },
    {
     "name": "stdout",
     "output_type": "stream",
     "text": [
      "Slow Gamma 25-55 Hz Olive20220711_.nwb pos 10 valid times faa4b2bb-ea44-3b84-259b-929e5dd6e1cd\n"
     ]
    },
    {
     "name": "stderr",
     "output_type": "stream",
     "text": [
      "[2023-12-06 09:11:33,782][WARNING]: Skipped checksum for file with hash: c707f648-77a3-fd9f-b859-6aafa390f438, and path: /stelmo/nwb/analysis/Olive20220711/Olive20220711_MRVLFO15T4.nwb\n",
      "WARNING:datajoint:Skipped checksum for file with hash: c707f648-77a3-fd9f-b859-6aafa390f438, and path: /stelmo/nwb/analysis/Olive20220711/Olive20220711_MRVLFO15T4.nwb\n"
     ]
    },
    {
     "name": "stdout",
     "output_type": "stream",
     "text": [
      "Fast Gamma 65-100 Hz Olive20220711_.nwb pos 10 valid times faa4b2bb-ea44-3b84-259b-929e5dd6e1cd\n"
     ]
    },
    {
     "name": "stderr",
     "output_type": "stream",
     "text": [
      "[2023-12-06 09:11:34,620][WARNING]: Skipped checksum for file with hash: 7a64728b-1516-e912-0b56-1af798576af4, and path: /stelmo/nwb/analysis/Olive20220711/Olive20220711_GK5ZFWSX4X.nwb\n",
      "WARNING:datajoint:Skipped checksum for file with hash: 7a64728b-1516-e912-0b56-1af798576af4, and path: /stelmo/nwb/analysis/Olive20220711/Olive20220711_GK5ZFWSX4X.nwb\n"
     ]
    },
    {
     "name": "stdout",
     "output_type": "stream",
     "text": [
      "Slow Gamma 25-55 Hz Olive20220711_.nwb pos 11 valid times ddd29d6c-02c9-a7e7-7cda-9be8e8243f60\n"
     ]
    },
    {
     "name": "stderr",
     "output_type": "stream",
     "text": [
      "[2023-12-06 09:11:36,147][WARNING]: Skipped checksum for file with hash: 7a64728b-1516-e912-0b56-1af798576af4, and path: /stelmo/nwb/analysis/Olive20220711/Olive20220711_GK5ZFWSX4X.nwb\n",
      "WARNING:datajoint:Skipped checksum for file with hash: 7a64728b-1516-e912-0b56-1af798576af4, and path: /stelmo/nwb/analysis/Olive20220711/Olive20220711_GK5ZFWSX4X.nwb\n"
     ]
    },
    {
     "name": "stdout",
     "output_type": "stream",
     "text": [
      "Fast Gamma 65-100 Hz Olive20220711_.nwb pos 11 valid times ddd29d6c-02c9-a7e7-7cda-9be8e8243f60\n"
     ]
    },
    {
     "name": "stderr",
     "output_type": "stream",
     "text": [
      "[2023-12-06 09:11:37,002][WARNING]: Skipped checksum for file with hash: e585ce7b-aa94-4f5c-5e23-883428f05d2d, and path: /stelmo/nwb/analysis/Olive20220711/Olive20220711_9GZAUW5I8K.nwb\n",
      "WARNING:datajoint:Skipped checksum for file with hash: e585ce7b-aa94-4f5c-5e23-883428f05d2d, and path: /stelmo/nwb/analysis/Olive20220711/Olive20220711_9GZAUW5I8K.nwb\n"
     ]
    },
    {
     "name": "stdout",
     "output_type": "stream",
     "text": [
      "Slow Gamma 25-55 Hz Olive20220711_.nwb pos 12 valid times a29278ca-a76c-8499-dc0e-ad8c72f7587d\n"
     ]
    },
    {
     "name": "stderr",
     "output_type": "stream",
     "text": [
      "[2023-12-06 09:11:38,671][WARNING]: Skipped checksum for file with hash: e585ce7b-aa94-4f5c-5e23-883428f05d2d, and path: /stelmo/nwb/analysis/Olive20220711/Olive20220711_9GZAUW5I8K.nwb\n",
      "WARNING:datajoint:Skipped checksum for file with hash: e585ce7b-aa94-4f5c-5e23-883428f05d2d, and path: /stelmo/nwb/analysis/Olive20220711/Olive20220711_9GZAUW5I8K.nwb\n"
     ]
    },
    {
     "name": "stdout",
     "output_type": "stream",
     "text": [
      "Fast Gamma 65-100 Hz Olive20220711_.nwb pos 12 valid times a29278ca-a76c-8499-dc0e-ad8c72f7587d\n"
     ]
    },
    {
     "name": "stderr",
     "output_type": "stream",
     "text": [
      "[2023-12-06 09:11:39,530][WARNING]: Skipped checksum for file with hash: 082646ec-d804-5366-59f7-034f4ab9f87c, and path: /stelmo/nwb/analysis/Olive20220711/Olive20220711_WKHRV2XNX0.nwb\n",
      "WARNING:datajoint:Skipped checksum for file with hash: 082646ec-d804-5366-59f7-034f4ab9f87c, and path: /stelmo/nwb/analysis/Olive20220711/Olive20220711_WKHRV2XNX0.nwb\n"
     ]
    },
    {
     "name": "stdout",
     "output_type": "stream",
     "text": [
      "Slow Gamma 25-55 Hz Olive20220711_.nwb pos 13 valid times ddcec356-ae45-c3ba-dff3-0f38923351f5\n"
     ]
    },
    {
     "name": "stderr",
     "output_type": "stream",
     "text": [
      "[2023-12-06 09:11:41,046][WARNING]: Skipped checksum for file with hash: 082646ec-d804-5366-59f7-034f4ab9f87c, and path: /stelmo/nwb/analysis/Olive20220711/Olive20220711_WKHRV2XNX0.nwb\n",
      "WARNING:datajoint:Skipped checksum for file with hash: 082646ec-d804-5366-59f7-034f4ab9f87c, and path: /stelmo/nwb/analysis/Olive20220711/Olive20220711_WKHRV2XNX0.nwb\n"
     ]
    },
    {
     "name": "stdout",
     "output_type": "stream",
     "text": [
      "Fast Gamma 65-100 Hz Olive20220711_.nwb pos 13 valid times ddcec356-ae45-c3ba-dff3-0f38923351f5\n"
     ]
    },
    {
     "name": "stderr",
     "output_type": "stream",
     "text": [
      "[2023-12-06 09:11:41,895][WARNING]: Skipped checksum for file with hash: 91d290d4-0d13-84bb-42af-3a56df69d189, and path: /stelmo/nwb/analysis/Olive20220711/Olive20220711_QH5VGLFT7M.nwb\n",
      "WARNING:datajoint:Skipped checksum for file with hash: 91d290d4-0d13-84bb-42af-3a56df69d189, and path: /stelmo/nwb/analysis/Olive20220711/Olive20220711_QH5VGLFT7M.nwb\n"
     ]
    },
    {
     "name": "stdout",
     "output_type": "stream",
     "text": [
      "Slow Gamma 25-55 Hz Olive20220711_.nwb pos 14 valid times 8e4937ae-9cd8-d29e-a250-95cd967a6c13\n"
     ]
    },
    {
     "name": "stderr",
     "output_type": "stream",
     "text": [
      "[2023-12-06 09:11:43,421][WARNING]: Skipped checksum for file with hash: 91d290d4-0d13-84bb-42af-3a56df69d189, and path: /stelmo/nwb/analysis/Olive20220711/Olive20220711_QH5VGLFT7M.nwb\n",
      "WARNING:datajoint:Skipped checksum for file with hash: 91d290d4-0d13-84bb-42af-3a56df69d189, and path: /stelmo/nwb/analysis/Olive20220711/Olive20220711_QH5VGLFT7M.nwb\n"
     ]
    },
    {
     "name": "stdout",
     "output_type": "stream",
     "text": [
      "Fast Gamma 65-100 Hz Olive20220711_.nwb pos 14 valid times 8e4937ae-9cd8-d29e-a250-95cd967a6c13\n"
     ]
    },
    {
     "name": "stderr",
     "output_type": "stream",
     "text": [
      "[2023-12-06 09:11:44,296][WARNING]: Skipped checksum for file with hash: 95868f4f-f905-15b1-33d7-1c6929408f76, and path: /stelmo/nwb/analysis/Olive20220711/Olive20220711_FI2XGV0VGG.nwb\n",
      "WARNING:datajoint:Skipped checksum for file with hash: 95868f4f-f905-15b1-33d7-1c6929408f76, and path: /stelmo/nwb/analysis/Olive20220711/Olive20220711_FI2XGV0VGG.nwb\n"
     ]
    },
    {
     "name": "stdout",
     "output_type": "stream",
     "text": [
      "Slow Gamma 25-55 Hz Olive20220711_.nwb pos 15 valid times 3a6d9acf-dedf-a2ab-0585-dd4911fb0fbb\n"
     ]
    },
    {
     "name": "stderr",
     "output_type": "stream",
     "text": [
      "[2023-12-06 09:11:45,816][WARNING]: Skipped checksum for file with hash: 95868f4f-f905-15b1-33d7-1c6929408f76, and path: /stelmo/nwb/analysis/Olive20220711/Olive20220711_FI2XGV0VGG.nwb\n",
      "WARNING:datajoint:Skipped checksum for file with hash: 95868f4f-f905-15b1-33d7-1c6929408f76, and path: /stelmo/nwb/analysis/Olive20220711/Olive20220711_FI2XGV0VGG.nwb\n"
     ]
    },
    {
     "name": "stdout",
     "output_type": "stream",
     "text": [
      "Fast Gamma 65-100 Hz Olive20220711_.nwb pos 15 valid times 3a6d9acf-dedf-a2ab-0585-dd4911fb0fbb\n"
     ]
    },
    {
     "name": "stderr",
     "output_type": "stream",
     "text": [
      "[2023-12-06 09:11:46,657][WARNING]: Skipped checksum for file with hash: 5f023311-657e-8d87-c2fb-51909299e90c, and path: /stelmo/nwb/analysis/Olive20220711/Olive20220711_MUP4X4IPAF.nwb\n",
      "WARNING:datajoint:Skipped checksum for file with hash: 5f023311-657e-8d87-c2fb-51909299e90c, and path: /stelmo/nwb/analysis/Olive20220711/Olive20220711_MUP4X4IPAF.nwb\n"
     ]
    },
    {
     "name": "stdout",
     "output_type": "stream",
     "text": [
      "Slow Gamma 25-55 Hz Olive20220711_.nwb pos 16 valid times be316512-f4db-1931-8adb-e7331ad32900\n"
     ]
    },
    {
     "name": "stderr",
     "output_type": "stream",
     "text": [
      "[2023-12-06 09:11:48,174][WARNING]: Skipped checksum for file with hash: 5f023311-657e-8d87-c2fb-51909299e90c, and path: /stelmo/nwb/analysis/Olive20220711/Olive20220711_MUP4X4IPAF.nwb\n",
      "WARNING:datajoint:Skipped checksum for file with hash: 5f023311-657e-8d87-c2fb-51909299e90c, and path: /stelmo/nwb/analysis/Olive20220711/Olive20220711_MUP4X4IPAF.nwb\n"
     ]
    },
    {
     "name": "stdout",
     "output_type": "stream",
     "text": [
      "Fast Gamma 65-100 Hz Olive20220711_.nwb pos 16 valid times be316512-f4db-1931-8adb-e7331ad32900\n"
     ]
    },
    {
     "name": "stderr",
     "output_type": "stream",
     "text": [
      "[2023-12-06 09:11:49,002][WARNING]: Skipped checksum for file with hash: 324ff066-519e-a97b-e122-0abe39eb6f80, and path: /stelmo/nwb/analysis/Olive20220711/Olive20220711_F7RTGL09L8.nwb\n",
      "WARNING:datajoint:Skipped checksum for file with hash: 324ff066-519e-a97b-e122-0abe39eb6f80, and path: /stelmo/nwb/analysis/Olive20220711/Olive20220711_F7RTGL09L8.nwb\n"
     ]
    },
    {
     "name": "stdout",
     "output_type": "stream",
     "text": [
      "Slow Gamma 25-55 Hz Olive20220711_.nwb pos 2 valid times f20ecd5a-7591-919d-d03f-687fed2a50f8\n"
     ]
    },
    {
     "name": "stderr",
     "output_type": "stream",
     "text": [
      "[2023-12-06 09:11:50,510][WARNING]: Skipped checksum for file with hash: 324ff066-519e-a97b-e122-0abe39eb6f80, and path: /stelmo/nwb/analysis/Olive20220711/Olive20220711_F7RTGL09L8.nwb\n",
      "WARNING:datajoint:Skipped checksum for file with hash: 324ff066-519e-a97b-e122-0abe39eb6f80, and path: /stelmo/nwb/analysis/Olive20220711/Olive20220711_F7RTGL09L8.nwb\n"
     ]
    },
    {
     "name": "stdout",
     "output_type": "stream",
     "text": [
      "Fast Gamma 65-100 Hz Olive20220711_.nwb pos 2 valid times f20ecd5a-7591-919d-d03f-687fed2a50f8\n"
     ]
    },
    {
     "name": "stderr",
     "output_type": "stream",
     "text": [
      "[2023-12-06 09:11:51,401][WARNING]: Skipped checksum for file with hash: cfdabdab-f105-b41c-8d09-9dd9813db1e0, and path: /stelmo/nwb/analysis/Olive20220711/Olive20220711_CQ3QIHM2TF.nwb\n",
      "WARNING:datajoint:Skipped checksum for file with hash: cfdabdab-f105-b41c-8d09-9dd9813db1e0, and path: /stelmo/nwb/analysis/Olive20220711/Olive20220711_CQ3QIHM2TF.nwb\n"
     ]
    },
    {
     "name": "stdout",
     "output_type": "stream",
     "text": [
      "Slow Gamma 25-55 Hz Olive20220711_.nwb pos 3 valid times cdd8ebdd-a8e4-9280-398b-92955eb3019d\n"
     ]
    },
    {
     "name": "stderr",
     "output_type": "stream",
     "text": [
      "[2023-12-06 09:11:52,870][WARNING]: Skipped checksum for file with hash: cfdabdab-f105-b41c-8d09-9dd9813db1e0, and path: /stelmo/nwb/analysis/Olive20220711/Olive20220711_CQ3QIHM2TF.nwb\n",
      "WARNING:datajoint:Skipped checksum for file with hash: cfdabdab-f105-b41c-8d09-9dd9813db1e0, and path: /stelmo/nwb/analysis/Olive20220711/Olive20220711_CQ3QIHM2TF.nwb\n"
     ]
    },
    {
     "name": "stdout",
     "output_type": "stream",
     "text": [
      "Fast Gamma 65-100 Hz Olive20220711_.nwb pos 3 valid times cdd8ebdd-a8e4-9280-398b-92955eb3019d\n"
     ]
    },
    {
     "name": "stderr",
     "output_type": "stream",
     "text": [
      "[2023-12-06 09:11:53,728][WARNING]: Skipped checksum for file with hash: fb32d63b-185b-733f-873b-066b0612ce3f, and path: /stelmo/nwb/analysis/Olive20220711/Olive20220711_QF3VR48X1F.nwb\n",
      "WARNING:datajoint:Skipped checksum for file with hash: fb32d63b-185b-733f-873b-066b0612ce3f, and path: /stelmo/nwb/analysis/Olive20220711/Olive20220711_QF3VR48X1F.nwb\n"
     ]
    },
    {
     "name": "stdout",
     "output_type": "stream",
     "text": [
      "Slow Gamma 25-55 Hz Olive20220711_.nwb pos 4 valid times 78a33697-dc50-171b-6a12-7f4fcbb6784c\n"
     ]
    },
    {
     "name": "stderr",
     "output_type": "stream",
     "text": [
      "[2023-12-06 09:11:55,162][WARNING]: Skipped checksum for file with hash: fb32d63b-185b-733f-873b-066b0612ce3f, and path: /stelmo/nwb/analysis/Olive20220711/Olive20220711_QF3VR48X1F.nwb\n",
      "WARNING:datajoint:Skipped checksum for file with hash: fb32d63b-185b-733f-873b-066b0612ce3f, and path: /stelmo/nwb/analysis/Olive20220711/Olive20220711_QF3VR48X1F.nwb\n"
     ]
    },
    {
     "name": "stdout",
     "output_type": "stream",
     "text": [
      "Fast Gamma 65-100 Hz Olive20220711_.nwb pos 4 valid times 78a33697-dc50-171b-6a12-7f4fcbb6784c\n"
     ]
    },
    {
     "name": "stderr",
     "output_type": "stream",
     "text": [
      "[2023-12-06 09:11:55,988][WARNING]: Skipped checksum for file with hash: b1011023-77c8-6881-0eb1-c907f1b089b1, and path: /stelmo/nwb/analysis/Olive20220711/Olive20220711_83KT4U2CH9.nwb\n",
      "WARNING:datajoint:Skipped checksum for file with hash: b1011023-77c8-6881-0eb1-c907f1b089b1, and path: /stelmo/nwb/analysis/Olive20220711/Olive20220711_83KT4U2CH9.nwb\n"
     ]
    },
    {
     "name": "stdout",
     "output_type": "stream",
     "text": [
      "Slow Gamma 25-55 Hz Olive20220711_.nwb pos 5 valid times 28b254a4-5310-1f46-7a8b-f93b6ec8786a\n"
     ]
    },
    {
     "name": "stderr",
     "output_type": "stream",
     "text": [
      "[2023-12-06 09:11:57,480][WARNING]: Skipped checksum for file with hash: b1011023-77c8-6881-0eb1-c907f1b089b1, and path: /stelmo/nwb/analysis/Olive20220711/Olive20220711_83KT4U2CH9.nwb\n",
      "WARNING:datajoint:Skipped checksum for file with hash: b1011023-77c8-6881-0eb1-c907f1b089b1, and path: /stelmo/nwb/analysis/Olive20220711/Olive20220711_83KT4U2CH9.nwb\n"
     ]
    },
    {
     "name": "stdout",
     "output_type": "stream",
     "text": [
      "Fast Gamma 65-100 Hz Olive20220711_.nwb pos 5 valid times 28b254a4-5310-1f46-7a8b-f93b6ec8786a\n"
     ]
    },
    {
     "name": "stderr",
     "output_type": "stream",
     "text": [
      "[2023-12-06 09:11:58,318][WARNING]: Skipped checksum for file with hash: aa9c164c-9c90-9a47-78f6-8ec2e211ce90, and path: /stelmo/nwb/analysis/Olive20220711/Olive20220711_DFBABTGIU1.nwb\n",
      "WARNING:datajoint:Skipped checksum for file with hash: aa9c164c-9c90-9a47-78f6-8ec2e211ce90, and path: /stelmo/nwb/analysis/Olive20220711/Olive20220711_DFBABTGIU1.nwb\n"
     ]
    },
    {
     "name": "stdout",
     "output_type": "stream",
     "text": [
      "Slow Gamma 25-55 Hz Olive20220711_.nwb pos 6 valid times d82824c1-5809-127f-5658-ea4e8ef1331e\n"
     ]
    },
    {
     "name": "stderr",
     "output_type": "stream",
     "text": [
      "[2023-12-06 09:11:59,925][WARNING]: Skipped checksum for file with hash: aa9c164c-9c90-9a47-78f6-8ec2e211ce90, and path: /stelmo/nwb/analysis/Olive20220711/Olive20220711_DFBABTGIU1.nwb\n",
      "WARNING:datajoint:Skipped checksum for file with hash: aa9c164c-9c90-9a47-78f6-8ec2e211ce90, and path: /stelmo/nwb/analysis/Olive20220711/Olive20220711_DFBABTGIU1.nwb\n"
     ]
    },
    {
     "name": "stdout",
     "output_type": "stream",
     "text": [
      "Fast Gamma 65-100 Hz Olive20220711_.nwb pos 6 valid times d82824c1-5809-127f-5658-ea4e8ef1331e\n"
     ]
    },
    {
     "name": "stderr",
     "output_type": "stream",
     "text": [
      "[2023-12-06 09:12:00,782][WARNING]: Skipped checksum for file with hash: 98261958-7df7-1331-bad3-639c866973d1, and path: /stelmo/nwb/analysis/Olive20220711/Olive20220711_NOUU03XEO3.nwb\n",
      "WARNING:datajoint:Skipped checksum for file with hash: 98261958-7df7-1331-bad3-639c866973d1, and path: /stelmo/nwb/analysis/Olive20220711/Olive20220711_NOUU03XEO3.nwb\n"
     ]
    },
    {
     "name": "stdout",
     "output_type": "stream",
     "text": [
      "Slow Gamma 25-55 Hz Olive20220711_.nwb pos 7 valid times aeef36bf-f982-96fe-2f86-f239642a3385\n"
     ]
    },
    {
     "name": "stderr",
     "output_type": "stream",
     "text": [
      "[2023-12-06 09:12:02,307][WARNING]: Skipped checksum for file with hash: 98261958-7df7-1331-bad3-639c866973d1, and path: /stelmo/nwb/analysis/Olive20220711/Olive20220711_NOUU03XEO3.nwb\n",
      "WARNING:datajoint:Skipped checksum for file with hash: 98261958-7df7-1331-bad3-639c866973d1, and path: /stelmo/nwb/analysis/Olive20220711/Olive20220711_NOUU03XEO3.nwb\n"
     ]
    },
    {
     "name": "stdout",
     "output_type": "stream",
     "text": [
      "Fast Gamma 65-100 Hz Olive20220711_.nwb pos 7 valid times aeef36bf-f982-96fe-2f86-f239642a3385\n"
     ]
    },
    {
     "name": "stderr",
     "output_type": "stream",
     "text": [
      "[2023-12-06 09:12:03,151][WARNING]: Skipped checksum for file with hash: 9f35c2eb-ca94-fc13-7a22-8ecb93d67f93, and path: /stelmo/nwb/analysis/Olive20220711/Olive20220711_DHF46XVLCL.nwb\n",
      "WARNING:datajoint:Skipped checksum for file with hash: 9f35c2eb-ca94-fc13-7a22-8ecb93d67f93, and path: /stelmo/nwb/analysis/Olive20220711/Olive20220711_DHF46XVLCL.nwb\n"
     ]
    },
    {
     "name": "stdout",
     "output_type": "stream",
     "text": [
      "Slow Gamma 25-55 Hz Olive20220711_.nwb pos 8 valid times 824d9485-4929-e5ce-1d1c-3cf286a8982d\n"
     ]
    },
    {
     "name": "stderr",
     "output_type": "stream",
     "text": [
      "[2023-12-06 09:12:04,708][WARNING]: Skipped checksum for file with hash: 9f35c2eb-ca94-fc13-7a22-8ecb93d67f93, and path: /stelmo/nwb/analysis/Olive20220711/Olive20220711_DHF46XVLCL.nwb\n",
      "WARNING:datajoint:Skipped checksum for file with hash: 9f35c2eb-ca94-fc13-7a22-8ecb93d67f93, and path: /stelmo/nwb/analysis/Olive20220711/Olive20220711_DHF46XVLCL.nwb\n"
     ]
    },
    {
     "name": "stdout",
     "output_type": "stream",
     "text": [
      "Fast Gamma 65-100 Hz Olive20220711_.nwb pos 8 valid times 824d9485-4929-e5ce-1d1c-3cf286a8982d\n"
     ]
    },
    {
     "name": "stderr",
     "output_type": "stream",
     "text": [
      "[2023-12-06 09:12:05,578][WARNING]: Skipped checksum for file with hash: 1f0edd26-7dbe-2699-0e47-5a54e3a77b11, and path: /stelmo/nwb/analysis/Olive20220711/Olive20220711_0GN4HWYCGO.nwb\n",
      "WARNING:datajoint:Skipped checksum for file with hash: 1f0edd26-7dbe-2699-0e47-5a54e3a77b11, and path: /stelmo/nwb/analysis/Olive20220711/Olive20220711_0GN4HWYCGO.nwb\n"
     ]
    },
    {
     "name": "stdout",
     "output_type": "stream",
     "text": [
      "Slow Gamma 25-55 Hz Olive20220711_.nwb pos 9 valid times c812d732-c8e8-a2db-f7fd-e4db4f06bc90\n"
     ]
    },
    {
     "name": "stderr",
     "output_type": "stream",
     "text": [
      "[2023-12-06 09:12:07,125][WARNING]: Skipped checksum for file with hash: 1f0edd26-7dbe-2699-0e47-5a54e3a77b11, and path: /stelmo/nwb/analysis/Olive20220711/Olive20220711_0GN4HWYCGO.nwb\n",
      "WARNING:datajoint:Skipped checksum for file with hash: 1f0edd26-7dbe-2699-0e47-5a54e3a77b11, and path: /stelmo/nwb/analysis/Olive20220711/Olive20220711_0GN4HWYCGO.nwb\n"
     ]
    },
    {
     "name": "stdout",
     "output_type": "stream",
     "text": [
      "Fast Gamma 65-100 Hz Olive20220711_.nwb pos 9 valid times c812d732-c8e8-a2db-f7fd-e4db4f06bc90\n"
     ]
    },
    {
     "name": "stderr",
     "output_type": "stream",
     "text": [
      "[2023-12-06 09:12:08,269][WARNING]: Skipped checksum for file with hash: ad58b58d-5f88-a9b2-afe5-9dc88dc87251, and path: /stelmo/nwb/analysis/Frodo20230808/Frodo20230808_NEX746W5SZ.nwb\n",
      "WARNING:datajoint:Skipped checksum for file with hash: ad58b58d-5f88-a9b2-afe5-9dc88dc87251, and path: /stelmo/nwb/analysis/Frodo20230808/Frodo20230808_NEX746W5SZ.nwb\n"
     ]
    },
    {
     "name": "stdout",
     "output_type": "stream",
     "text": [
      "Slow Gamma 25-55 Hz Frodo20230808_.nwb pos 0 valid times 23af9eae-dd1a-ff82-aa1d-957789187651\n"
     ]
    },
    {
     "name": "stderr",
     "output_type": "stream",
     "text": [
      "[2023-12-06 09:12:09,951][WARNING]: Skipped checksum for file with hash: ad58b58d-5f88-a9b2-afe5-9dc88dc87251, and path: /stelmo/nwb/analysis/Frodo20230808/Frodo20230808_NEX746W5SZ.nwb\n",
      "WARNING:datajoint:Skipped checksum for file with hash: ad58b58d-5f88-a9b2-afe5-9dc88dc87251, and path: /stelmo/nwb/analysis/Frodo20230808/Frodo20230808_NEX746W5SZ.nwb\n"
     ]
    },
    {
     "name": "stdout",
     "output_type": "stream",
     "text": [
      "Fast Gamma 65-100 Hz Frodo20230808_.nwb pos 0 valid times 23af9eae-dd1a-ff82-aa1d-957789187651\n"
     ]
    },
    {
     "name": "stderr",
     "output_type": "stream",
     "text": [
      "[2023-12-06 09:12:10,704][WARNING]: Skipped checksum for file with hash: 970940b0-b710-fe1b-9f9d-b086dac5bb9b, and path: /stelmo/nwb/analysis/Frodo20230808/Frodo20230808_C1HAAG16AF.nwb\n",
      "WARNING:datajoint:Skipped checksum for file with hash: 970940b0-b710-fe1b-9f9d-b086dac5bb9b, and path: /stelmo/nwb/analysis/Frodo20230808/Frodo20230808_C1HAAG16AF.nwb\n"
     ]
    },
    {
     "name": "stdout",
     "output_type": "stream",
     "text": [
      "Slow Gamma 25-55 Hz Frodo20230808_.nwb pos 1 valid times b3ecf52e-e723-2f41-8b28-d76ea5bad153\n"
     ]
    },
    {
     "name": "stderr",
     "output_type": "stream",
     "text": [
      "[2023-12-06 09:12:12,372][WARNING]: Skipped checksum for file with hash: 970940b0-b710-fe1b-9f9d-b086dac5bb9b, and path: /stelmo/nwb/analysis/Frodo20230808/Frodo20230808_C1HAAG16AF.nwb\n",
      "WARNING:datajoint:Skipped checksum for file with hash: 970940b0-b710-fe1b-9f9d-b086dac5bb9b, and path: /stelmo/nwb/analysis/Frodo20230808/Frodo20230808_C1HAAG16AF.nwb\n"
     ]
    },
    {
     "name": "stdout",
     "output_type": "stream",
     "text": [
      "Fast Gamma 65-100 Hz Frodo20230808_.nwb pos 1 valid times b3ecf52e-e723-2f41-8b28-d76ea5bad153\n"
     ]
    },
    {
     "name": "stderr",
     "output_type": "stream",
     "text": [
      "[2023-12-06 09:12:13,138][WARNING]: Skipped checksum for file with hash: b38a23a8-3bd9-1814-b4c1-93652c412deb, and path: /stelmo/nwb/analysis/Frodo20230808/Frodo20230808_8T2FBVK8AJ.nwb\n",
      "WARNING:datajoint:Skipped checksum for file with hash: b38a23a8-3bd9-1814-b4c1-93652c412deb, and path: /stelmo/nwb/analysis/Frodo20230808/Frodo20230808_8T2FBVK8AJ.nwb\n"
     ]
    },
    {
     "name": "stdout",
     "output_type": "stream",
     "text": [
      "Slow Gamma 25-55 Hz Frodo20230808_.nwb pos 10 valid times 15dfd86d-8dd6-2435-f14c-ea1edff7f547\n"
     ]
    },
    {
     "name": "stderr",
     "output_type": "stream",
     "text": [
      "[2023-12-06 09:12:14,842][WARNING]: Skipped checksum for file with hash: b38a23a8-3bd9-1814-b4c1-93652c412deb, and path: /stelmo/nwb/analysis/Frodo20230808/Frodo20230808_8T2FBVK8AJ.nwb\n",
      "WARNING:datajoint:Skipped checksum for file with hash: b38a23a8-3bd9-1814-b4c1-93652c412deb, and path: /stelmo/nwb/analysis/Frodo20230808/Frodo20230808_8T2FBVK8AJ.nwb\n"
     ]
    },
    {
     "name": "stdout",
     "output_type": "stream",
     "text": [
      "Fast Gamma 65-100 Hz Frodo20230808_.nwb pos 10 valid times 15dfd86d-8dd6-2435-f14c-ea1edff7f547\n"
     ]
    },
    {
     "name": "stderr",
     "output_type": "stream",
     "text": [
      "[2023-12-06 09:12:15,548][WARNING]: Skipped checksum for file with hash: 176db82d-3daa-2686-002b-8ddc3e396de8, and path: /stelmo/nwb/analysis/Frodo20230808/Frodo20230808_80S5ZTW19N.nwb\n",
      "WARNING:datajoint:Skipped checksum for file with hash: 176db82d-3daa-2686-002b-8ddc3e396de8, and path: /stelmo/nwb/analysis/Frodo20230808/Frodo20230808_80S5ZTW19N.nwb\n"
     ]
    },
    {
     "name": "stdout",
     "output_type": "stream",
     "text": [
      "Slow Gamma 25-55 Hz Frodo20230808_.nwb pos 11 valid times bafe1b05-1488-8f6f-9e15-6b84af4acd3a\n"
     ]
    },
    {
     "name": "stderr",
     "output_type": "stream",
     "text": [
      "[2023-12-06 09:12:17,178][WARNING]: Skipped checksum for file with hash: 176db82d-3daa-2686-002b-8ddc3e396de8, and path: /stelmo/nwb/analysis/Frodo20230808/Frodo20230808_80S5ZTW19N.nwb\n",
      "WARNING:datajoint:Skipped checksum for file with hash: 176db82d-3daa-2686-002b-8ddc3e396de8, and path: /stelmo/nwb/analysis/Frodo20230808/Frodo20230808_80S5ZTW19N.nwb\n"
     ]
    },
    {
     "name": "stdout",
     "output_type": "stream",
     "text": [
      "Fast Gamma 65-100 Hz Frodo20230808_.nwb pos 11 valid times bafe1b05-1488-8f6f-9e15-6b84af4acd3a\n"
     ]
    },
    {
     "name": "stderr",
     "output_type": "stream",
     "text": [
      "[2023-12-06 09:12:17,918][WARNING]: Skipped checksum for file with hash: b382aeba-6d06-a8c7-73c3-d38d7c7b2c3a, and path: /stelmo/nwb/analysis/Frodo20230808/Frodo20230808_CXK68T07ZR.nwb\n",
      "WARNING:datajoint:Skipped checksum for file with hash: b382aeba-6d06-a8c7-73c3-d38d7c7b2c3a, and path: /stelmo/nwb/analysis/Frodo20230808/Frodo20230808_CXK68T07ZR.nwb\n"
     ]
    },
    {
     "name": "stdout",
     "output_type": "stream",
     "text": [
      "Slow Gamma 25-55 Hz Frodo20230808_.nwb pos 2 valid times 95d4c270-291b-da62-8af2-01d3e1bebe3f\n"
     ]
    },
    {
     "name": "stderr",
     "output_type": "stream",
     "text": [
      "[2023-12-06 09:12:19,453][WARNING]: Skipped checksum for file with hash: b382aeba-6d06-a8c7-73c3-d38d7c7b2c3a, and path: /stelmo/nwb/analysis/Frodo20230808/Frodo20230808_CXK68T07ZR.nwb\n",
      "WARNING:datajoint:Skipped checksum for file with hash: b382aeba-6d06-a8c7-73c3-d38d7c7b2c3a, and path: /stelmo/nwb/analysis/Frodo20230808/Frodo20230808_CXK68T07ZR.nwb\n"
     ]
    },
    {
     "name": "stdout",
     "output_type": "stream",
     "text": [
      "Fast Gamma 65-100 Hz Frodo20230808_.nwb pos 2 valid times 95d4c270-291b-da62-8af2-01d3e1bebe3f\n"
     ]
    },
    {
     "name": "stderr",
     "output_type": "stream",
     "text": [
      "[2023-12-06 09:12:20,210][WARNING]: Skipped checksum for file with hash: 69e1155b-5ce8-5f1a-f090-16815eef9435, and path: /stelmo/nwb/analysis/Frodo20230808/Frodo20230808_TW9XTPNDLF.nwb\n",
      "WARNING:datajoint:Skipped checksum for file with hash: 69e1155b-5ce8-5f1a-f090-16815eef9435, and path: /stelmo/nwb/analysis/Frodo20230808/Frodo20230808_TW9XTPNDLF.nwb\n"
     ]
    },
    {
     "name": "stdout",
     "output_type": "stream",
     "text": [
      "Slow Gamma 25-55 Hz Frodo20230808_.nwb pos 3 valid times d4da16d1-fe3e-b47e-929c-7e5e8d4fe6fd\n"
     ]
    },
    {
     "name": "stderr",
     "output_type": "stream",
     "text": [
      "[2023-12-06 09:12:22,045][WARNING]: Skipped checksum for file with hash: 69e1155b-5ce8-5f1a-f090-16815eef9435, and path: /stelmo/nwb/analysis/Frodo20230808/Frodo20230808_TW9XTPNDLF.nwb\n",
      "WARNING:datajoint:Skipped checksum for file with hash: 69e1155b-5ce8-5f1a-f090-16815eef9435, and path: /stelmo/nwb/analysis/Frodo20230808/Frodo20230808_TW9XTPNDLF.nwb\n"
     ]
    },
    {
     "name": "stdout",
     "output_type": "stream",
     "text": [
      "Fast Gamma 65-100 Hz Frodo20230808_.nwb pos 3 valid times d4da16d1-fe3e-b47e-929c-7e5e8d4fe6fd\n"
     ]
    },
    {
     "name": "stderr",
     "output_type": "stream",
     "text": [
      "[2023-12-06 09:12:22,872][WARNING]: Skipped checksum for file with hash: 3bbe36e3-adde-7f6b-46d7-82c3cfdb4904, and path: /stelmo/nwb/analysis/Frodo20230808/Frodo20230808_FG06IXXV3A.nwb\n",
      "WARNING:datajoint:Skipped checksum for file with hash: 3bbe36e3-adde-7f6b-46d7-82c3cfdb4904, and path: /stelmo/nwb/analysis/Frodo20230808/Frodo20230808_FG06IXXV3A.nwb\n"
     ]
    },
    {
     "name": "stdout",
     "output_type": "stream",
     "text": [
      "Slow Gamma 25-55 Hz Frodo20230808_.nwb pos 4 valid times 4f4683b7-2f8b-c52d-c443-fc43049336b3\n"
     ]
    },
    {
     "name": "stderr",
     "output_type": "stream",
     "text": [
      "[2023-12-06 09:12:25,720][WARNING]: Skipped checksum for file with hash: 3bbe36e3-adde-7f6b-46d7-82c3cfdb4904, and path: /stelmo/nwb/analysis/Frodo20230808/Frodo20230808_FG06IXXV3A.nwb\n",
      "WARNING:datajoint:Skipped checksum for file with hash: 3bbe36e3-adde-7f6b-46d7-82c3cfdb4904, and path: /stelmo/nwb/analysis/Frodo20230808/Frodo20230808_FG06IXXV3A.nwb\n"
     ]
    },
    {
     "name": "stdout",
     "output_type": "stream",
     "text": [
      "Fast Gamma 65-100 Hz Frodo20230808_.nwb pos 4 valid times 4f4683b7-2f8b-c52d-c443-fc43049336b3\n"
     ]
    },
    {
     "name": "stderr",
     "output_type": "stream",
     "text": [
      "[2023-12-06 09:12:26,433][WARNING]: Skipped checksum for file with hash: efe77dd0-ec84-3e2a-b76f-2db1abfd6b68, and path: /stelmo/nwb/analysis/Frodo20230808/Frodo20230808_3TUHXR92VQ.nwb\n",
      "WARNING:datajoint:Skipped checksum for file with hash: efe77dd0-ec84-3e2a-b76f-2db1abfd6b68, and path: /stelmo/nwb/analysis/Frodo20230808/Frodo20230808_3TUHXR92VQ.nwb\n"
     ]
    },
    {
     "name": "stdout",
     "output_type": "stream",
     "text": [
      "Slow Gamma 25-55 Hz Frodo20230808_.nwb pos 5 valid times acaca5f0-0ee4-7125-a38e-fecedf1e136f\n"
     ]
    },
    {
     "name": "stderr",
     "output_type": "stream",
     "text": [
      "[2023-12-06 09:12:28,029][WARNING]: Skipped checksum for file with hash: efe77dd0-ec84-3e2a-b76f-2db1abfd6b68, and path: /stelmo/nwb/analysis/Frodo20230808/Frodo20230808_3TUHXR92VQ.nwb\n",
      "WARNING:datajoint:Skipped checksum for file with hash: efe77dd0-ec84-3e2a-b76f-2db1abfd6b68, and path: /stelmo/nwb/analysis/Frodo20230808/Frodo20230808_3TUHXR92VQ.nwb\n"
     ]
    },
    {
     "name": "stdout",
     "output_type": "stream",
     "text": [
      "Fast Gamma 65-100 Hz Frodo20230808_.nwb pos 5 valid times acaca5f0-0ee4-7125-a38e-fecedf1e136f\n"
     ]
    },
    {
     "name": "stderr",
     "output_type": "stream",
     "text": [
      "[2023-12-06 09:12:28,798][WARNING]: Skipped checksum for file with hash: 53f00e97-4659-a283-b790-77f3612cf992, and path: /stelmo/nwb/analysis/Frodo20230808/Frodo20230808_Z1IB70WBIN.nwb\n",
      "WARNING:datajoint:Skipped checksum for file with hash: 53f00e97-4659-a283-b790-77f3612cf992, and path: /stelmo/nwb/analysis/Frodo20230808/Frodo20230808_Z1IB70WBIN.nwb\n"
     ]
    },
    {
     "name": "stdout",
     "output_type": "stream",
     "text": [
      "Slow Gamma 25-55 Hz Frodo20230808_.nwb pos 6 valid times d10cc9f6-6567-f7ea-c486-32435eac0502\n"
     ]
    },
    {
     "name": "stderr",
     "output_type": "stream",
     "text": [
      "[2023-12-06 09:12:30,530][WARNING]: Skipped checksum for file with hash: 53f00e97-4659-a283-b790-77f3612cf992, and path: /stelmo/nwb/analysis/Frodo20230808/Frodo20230808_Z1IB70WBIN.nwb\n",
      "WARNING:datajoint:Skipped checksum for file with hash: 53f00e97-4659-a283-b790-77f3612cf992, and path: /stelmo/nwb/analysis/Frodo20230808/Frodo20230808_Z1IB70WBIN.nwb\n"
     ]
    },
    {
     "name": "stdout",
     "output_type": "stream",
     "text": [
      "Fast Gamma 65-100 Hz Frodo20230808_.nwb pos 6 valid times d10cc9f6-6567-f7ea-c486-32435eac0502\n"
     ]
    },
    {
     "name": "stderr",
     "output_type": "stream",
     "text": [
      "[2023-12-06 09:12:31,285][WARNING]: Skipped checksum for file with hash: f16c467d-7c86-0af5-3fee-d7787855911b, and path: /stelmo/nwb/analysis/Frodo20230808/Frodo20230808_XDBNK6FL9W.nwb\n",
      "WARNING:datajoint:Skipped checksum for file with hash: f16c467d-7c86-0af5-3fee-d7787855911b, and path: /stelmo/nwb/analysis/Frodo20230808/Frodo20230808_XDBNK6FL9W.nwb\n"
     ]
    },
    {
     "name": "stdout",
     "output_type": "stream",
     "text": [
      "Slow Gamma 25-55 Hz Frodo20230808_.nwb pos 7 valid times 6bf5aa12-a678-110b-ae98-fea0d050c813\n"
     ]
    },
    {
     "name": "stderr",
     "output_type": "stream",
     "text": [
      "[2023-12-06 09:12:32,989][WARNING]: Skipped checksum for file with hash: f16c467d-7c86-0af5-3fee-d7787855911b, and path: /stelmo/nwb/analysis/Frodo20230808/Frodo20230808_XDBNK6FL9W.nwb\n",
      "WARNING:datajoint:Skipped checksum for file with hash: f16c467d-7c86-0af5-3fee-d7787855911b, and path: /stelmo/nwb/analysis/Frodo20230808/Frodo20230808_XDBNK6FL9W.nwb\n"
     ]
    },
    {
     "name": "stdout",
     "output_type": "stream",
     "text": [
      "Fast Gamma 65-100 Hz Frodo20230808_.nwb pos 7 valid times 6bf5aa12-a678-110b-ae98-fea0d050c813\n"
     ]
    },
    {
     "name": "stderr",
     "output_type": "stream",
     "text": [
      "[2023-12-06 09:12:33,734][WARNING]: Skipped checksum for file with hash: 94974793-5408-4671-9e65-394a5bf70120, and path: /stelmo/nwb/analysis/Frodo20230808/Frodo20230808_YAD02RUAYY.nwb\n",
      "WARNING:datajoint:Skipped checksum for file with hash: 94974793-5408-4671-9e65-394a5bf70120, and path: /stelmo/nwb/analysis/Frodo20230808/Frodo20230808_YAD02RUAYY.nwb\n"
     ]
    },
    {
     "name": "stdout",
     "output_type": "stream",
     "text": [
      "Slow Gamma 25-55 Hz Frodo20230808_.nwb pos 8 valid times 783b8a52-d220-87ec-ed47-6f4d5921cdb0\n"
     ]
    },
    {
     "name": "stderr",
     "output_type": "stream",
     "text": [
      "[2023-12-06 09:12:35,415][WARNING]: Skipped checksum for file with hash: 94974793-5408-4671-9e65-394a5bf70120, and path: /stelmo/nwb/analysis/Frodo20230808/Frodo20230808_YAD02RUAYY.nwb\n",
      "WARNING:datajoint:Skipped checksum for file with hash: 94974793-5408-4671-9e65-394a5bf70120, and path: /stelmo/nwb/analysis/Frodo20230808/Frodo20230808_YAD02RUAYY.nwb\n"
     ]
    },
    {
     "name": "stdout",
     "output_type": "stream",
     "text": [
      "Fast Gamma 65-100 Hz Frodo20230808_.nwb pos 8 valid times 783b8a52-d220-87ec-ed47-6f4d5921cdb0\n"
     ]
    },
    {
     "name": "stderr",
     "output_type": "stream",
     "text": [
      "[2023-12-06 09:12:36,134][WARNING]: Skipped checksum for file with hash: 19dae7c9-a2a3-53e7-92a9-9f6529adcb5e, and path: /stelmo/nwb/analysis/Frodo20230808/Frodo20230808_S54JHWBLO0.nwb\n",
      "WARNING:datajoint:Skipped checksum for file with hash: 19dae7c9-a2a3-53e7-92a9-9f6529adcb5e, and path: /stelmo/nwb/analysis/Frodo20230808/Frodo20230808_S54JHWBLO0.nwb\n"
     ]
    },
    {
     "name": "stdout",
     "output_type": "stream",
     "text": [
      "Slow Gamma 25-55 Hz Frodo20230808_.nwb pos 9 valid times bee6904a-fb3a-b067-76e0-9e59c03c1f93\n"
     ]
    },
    {
     "name": "stderr",
     "output_type": "stream",
     "text": [
      "[2023-12-06 09:12:37,849][WARNING]: Skipped checksum for file with hash: 19dae7c9-a2a3-53e7-92a9-9f6529adcb5e, and path: /stelmo/nwb/analysis/Frodo20230808/Frodo20230808_S54JHWBLO0.nwb\n",
      "WARNING:datajoint:Skipped checksum for file with hash: 19dae7c9-a2a3-53e7-92a9-9f6529adcb5e, and path: /stelmo/nwb/analysis/Frodo20230808/Frodo20230808_S54JHWBLO0.nwb\n"
     ]
    },
    {
     "name": "stdout",
     "output_type": "stream",
     "text": [
      "Fast Gamma 65-100 Hz Frodo20230808_.nwb pos 9 valid times bee6904a-fb3a-b067-76e0-9e59c03c1f93\n"
     ]
    },
    {
     "name": "stderr",
     "output_type": "stream",
     "text": [
      "[2023-12-06 09:12:38,599][WARNING]: Skipped checksum for file with hash: 141cfcb7-9639-020e-3b20-e9a154064a14, and path: /stelmo/nwb/analysis/Frodo20230809/Frodo20230809_HCCIBO0Q3F.nwb\n",
      "WARNING:datajoint:Skipped checksum for file with hash: 141cfcb7-9639-020e-3b20-e9a154064a14, and path: /stelmo/nwb/analysis/Frodo20230809/Frodo20230809_HCCIBO0Q3F.nwb\n"
     ]
    },
    {
     "name": "stdout",
     "output_type": "stream",
     "text": [
      "Slow Gamma 25-55 Hz Frodo20230809_.nwb pos 0 valid times 96ec7e08-7118-7e3b-40fc-766ff2f5c586\n"
     ]
    },
    {
     "name": "stderr",
     "output_type": "stream",
     "text": [
      "[2023-12-06 09:12:40,248][WARNING]: Skipped checksum for file with hash: 141cfcb7-9639-020e-3b20-e9a154064a14, and path: /stelmo/nwb/analysis/Frodo20230809/Frodo20230809_HCCIBO0Q3F.nwb\n",
      "WARNING:datajoint:Skipped checksum for file with hash: 141cfcb7-9639-020e-3b20-e9a154064a14, and path: /stelmo/nwb/analysis/Frodo20230809/Frodo20230809_HCCIBO0Q3F.nwb\n"
     ]
    },
    {
     "name": "stdout",
     "output_type": "stream",
     "text": [
      "Fast Gamma 65-100 Hz Frodo20230809_.nwb pos 0 valid times 96ec7e08-7118-7e3b-40fc-766ff2f5c586\n"
     ]
    },
    {
     "name": "stderr",
     "output_type": "stream",
     "text": [
      "[2023-12-06 09:12:40,966][WARNING]: Skipped checksum for file with hash: bbe05ad9-74f8-6fc9-8e0b-bad9816c727d, and path: /stelmo/nwb/analysis/Frodo20230809/Frodo20230809_ESTX4YHX3I.nwb\n",
      "WARNING:datajoint:Skipped checksum for file with hash: bbe05ad9-74f8-6fc9-8e0b-bad9816c727d, and path: /stelmo/nwb/analysis/Frodo20230809/Frodo20230809_ESTX4YHX3I.nwb\n"
     ]
    },
    {
     "name": "stdout",
     "output_type": "stream",
     "text": [
      "Slow Gamma 25-55 Hz Frodo20230809_.nwb pos 1 valid times e1b886cf-5bd3-7111-dde9-c9dafa93371d\n"
     ]
    },
    {
     "name": "stderr",
     "output_type": "stream",
     "text": [
      "[2023-12-06 09:12:42,621][WARNING]: Skipped checksum for file with hash: bbe05ad9-74f8-6fc9-8e0b-bad9816c727d, and path: /stelmo/nwb/analysis/Frodo20230809/Frodo20230809_ESTX4YHX3I.nwb\n",
      "WARNING:datajoint:Skipped checksum for file with hash: bbe05ad9-74f8-6fc9-8e0b-bad9816c727d, and path: /stelmo/nwb/analysis/Frodo20230809/Frodo20230809_ESTX4YHX3I.nwb\n"
     ]
    },
    {
     "name": "stdout",
     "output_type": "stream",
     "text": [
      "Fast Gamma 65-100 Hz Frodo20230809_.nwb pos 1 valid times e1b886cf-5bd3-7111-dde9-c9dafa93371d\n"
     ]
    },
    {
     "name": "stderr",
     "output_type": "stream",
     "text": [
      "[2023-12-06 09:12:43,356][WARNING]: Skipped checksum for file with hash: 9be57b39-c2a8-d08e-ec08-9a24e1f3f719, and path: /stelmo/nwb/analysis/Frodo20230809/Frodo20230809_2U13T1GI7G.nwb\n",
      "WARNING:datajoint:Skipped checksum for file with hash: 9be57b39-c2a8-d08e-ec08-9a24e1f3f719, and path: /stelmo/nwb/analysis/Frodo20230809/Frodo20230809_2U13T1GI7G.nwb\n"
     ]
    },
    {
     "name": "stdout",
     "output_type": "stream",
     "text": [
      "Slow Gamma 25-55 Hz Frodo20230809_.nwb pos 10 valid times e958dcee-727b-8ea6-9db2-0fdf617bc72d\n"
     ]
    },
    {
     "name": "stderr",
     "output_type": "stream",
     "text": [
      "[2023-12-06 09:12:45,135][WARNING]: Skipped checksum for file with hash: 9be57b39-c2a8-d08e-ec08-9a24e1f3f719, and path: /stelmo/nwb/analysis/Frodo20230809/Frodo20230809_2U13T1GI7G.nwb\n",
      "WARNING:datajoint:Skipped checksum for file with hash: 9be57b39-c2a8-d08e-ec08-9a24e1f3f719, and path: /stelmo/nwb/analysis/Frodo20230809/Frodo20230809_2U13T1GI7G.nwb\n"
     ]
    },
    {
     "name": "stdout",
     "output_type": "stream",
     "text": [
      "Fast Gamma 65-100 Hz Frodo20230809_.nwb pos 10 valid times e958dcee-727b-8ea6-9db2-0fdf617bc72d\n"
     ]
    },
    {
     "name": "stderr",
     "output_type": "stream",
     "text": [
      "[2023-12-06 09:12:45,903][WARNING]: Skipped checksum for file with hash: 1dbff963-9ba7-3014-3a43-fec29d480df2, and path: /stelmo/nwb/analysis/Frodo20230809/Frodo20230809_239VGF5BXR.nwb\n",
      "WARNING:datajoint:Skipped checksum for file with hash: 1dbff963-9ba7-3014-3a43-fec29d480df2, and path: /stelmo/nwb/analysis/Frodo20230809/Frodo20230809_239VGF5BXR.nwb\n"
     ]
    },
    {
     "name": "stdout",
     "output_type": "stream",
     "text": [
      "Slow Gamma 25-55 Hz Frodo20230809_.nwb pos 11 valid times 58fb1640-6c1b-c4ed-5688-9cd3fd2584e6\n"
     ]
    },
    {
     "name": "stderr",
     "output_type": "stream",
     "text": [
      "[2023-12-06 09:12:47,604][WARNING]: Skipped checksum for file with hash: 1dbff963-9ba7-3014-3a43-fec29d480df2, and path: /stelmo/nwb/analysis/Frodo20230809/Frodo20230809_239VGF5BXR.nwb\n",
      "WARNING:datajoint:Skipped checksum for file with hash: 1dbff963-9ba7-3014-3a43-fec29d480df2, and path: /stelmo/nwb/analysis/Frodo20230809/Frodo20230809_239VGF5BXR.nwb\n"
     ]
    },
    {
     "name": "stdout",
     "output_type": "stream",
     "text": [
      "Fast Gamma 65-100 Hz Frodo20230809_.nwb pos 11 valid times 58fb1640-6c1b-c4ed-5688-9cd3fd2584e6\n"
     ]
    },
    {
     "name": "stderr",
     "output_type": "stream",
     "text": [
      "[2023-12-06 09:12:48,326][WARNING]: Skipped checksum for file with hash: ff57e36d-91f8-d583-4d72-14556a9e38d5, and path: /stelmo/nwb/analysis/Frodo20230809/Frodo20230809_S0NQ2MLQNS.nwb\n",
      "WARNING:datajoint:Skipped checksum for file with hash: ff57e36d-91f8-d583-4d72-14556a9e38d5, and path: /stelmo/nwb/analysis/Frodo20230809/Frodo20230809_S0NQ2MLQNS.nwb\n"
     ]
    },
    {
     "name": "stdout",
     "output_type": "stream",
     "text": [
      "Slow Gamma 25-55 Hz Frodo20230809_.nwb pos 12 valid times 605a94b8-b9c1-be92-f68f-cc194d9459d4\n"
     ]
    },
    {
     "name": "stderr",
     "output_type": "stream",
     "text": [
      "[2023-12-06 09:12:49,977][WARNING]: Skipped checksum for file with hash: ff57e36d-91f8-d583-4d72-14556a9e38d5, and path: /stelmo/nwb/analysis/Frodo20230809/Frodo20230809_S0NQ2MLQNS.nwb\n",
      "WARNING:datajoint:Skipped checksum for file with hash: ff57e36d-91f8-d583-4d72-14556a9e38d5, and path: /stelmo/nwb/analysis/Frodo20230809/Frodo20230809_S0NQ2MLQNS.nwb\n"
     ]
    },
    {
     "name": "stdout",
     "output_type": "stream",
     "text": [
      "Fast Gamma 65-100 Hz Frodo20230809_.nwb pos 12 valid times 605a94b8-b9c1-be92-f68f-cc194d9459d4\n"
     ]
    },
    {
     "name": "stderr",
     "output_type": "stream",
     "text": [
      "[2023-12-06 09:12:50,729][WARNING]: Skipped checksum for file with hash: a81b02f6-ce31-1e1a-399c-0a3a01c2981f, and path: /stelmo/nwb/analysis/Frodo20230809/Frodo20230809_VRLXZF0PDB.nwb\n",
      "WARNING:datajoint:Skipped checksum for file with hash: a81b02f6-ce31-1e1a-399c-0a3a01c2981f, and path: /stelmo/nwb/analysis/Frodo20230809/Frodo20230809_VRLXZF0PDB.nwb\n"
     ]
    },
    {
     "name": "stdout",
     "output_type": "stream",
     "text": [
      "Slow Gamma 25-55 Hz Frodo20230809_.nwb pos 2 valid times 2a5d013a-5f7b-612f-71fc-36266ced3c00\n"
     ]
    },
    {
     "name": "stderr",
     "output_type": "stream",
     "text": [
      "[2023-12-06 09:12:52,426][WARNING]: Skipped checksum for file with hash: a81b02f6-ce31-1e1a-399c-0a3a01c2981f, and path: /stelmo/nwb/analysis/Frodo20230809/Frodo20230809_VRLXZF0PDB.nwb\n",
      "WARNING:datajoint:Skipped checksum for file with hash: a81b02f6-ce31-1e1a-399c-0a3a01c2981f, and path: /stelmo/nwb/analysis/Frodo20230809/Frodo20230809_VRLXZF0PDB.nwb\n"
     ]
    },
    {
     "name": "stdout",
     "output_type": "stream",
     "text": [
      "Fast Gamma 65-100 Hz Frodo20230809_.nwb pos 2 valid times 2a5d013a-5f7b-612f-71fc-36266ced3c00\n"
     ]
    },
    {
     "name": "stderr",
     "output_type": "stream",
     "text": [
      "[2023-12-06 09:12:53,187][WARNING]: Skipped checksum for file with hash: fc463801-9ee2-2e45-3b08-dfdbbf664779, and path: /stelmo/nwb/analysis/Frodo20230809/Frodo20230809_5HFAB1YUN0.nwb\n",
      "WARNING:datajoint:Skipped checksum for file with hash: fc463801-9ee2-2e45-3b08-dfdbbf664779, and path: /stelmo/nwb/analysis/Frodo20230809/Frodo20230809_5HFAB1YUN0.nwb\n"
     ]
    },
    {
     "name": "stdout",
     "output_type": "stream",
     "text": [
      "Slow Gamma 25-55 Hz Frodo20230809_.nwb pos 3 valid times c907ddba-718f-3a99-a397-9cab5e9a4402\n"
     ]
    },
    {
     "name": "stderr",
     "output_type": "stream",
     "text": [
      "[2023-12-06 09:12:55,271][WARNING]: Skipped checksum for file with hash: fc463801-9ee2-2e45-3b08-dfdbbf664779, and path: /stelmo/nwb/analysis/Frodo20230809/Frodo20230809_5HFAB1YUN0.nwb\n",
      "WARNING:datajoint:Skipped checksum for file with hash: fc463801-9ee2-2e45-3b08-dfdbbf664779, and path: /stelmo/nwb/analysis/Frodo20230809/Frodo20230809_5HFAB1YUN0.nwb\n"
     ]
    },
    {
     "name": "stdout",
     "output_type": "stream",
     "text": [
      "Fast Gamma 65-100 Hz Frodo20230809_.nwb pos 3 valid times c907ddba-718f-3a99-a397-9cab5e9a4402\n"
     ]
    },
    {
     "name": "stderr",
     "output_type": "stream",
     "text": [
      "[2023-12-06 09:12:56,078][WARNING]: Skipped checksum for file with hash: 7d10592a-399d-f938-ed61-e1e562c14640, and path: /stelmo/nwb/analysis/Frodo20230809/Frodo20230809_XPGYKK4LRD.nwb\n",
      "WARNING:datajoint:Skipped checksum for file with hash: 7d10592a-399d-f938-ed61-e1e562c14640, and path: /stelmo/nwb/analysis/Frodo20230809/Frodo20230809_XPGYKK4LRD.nwb\n"
     ]
    },
    {
     "name": "stdout",
     "output_type": "stream",
     "text": [
      "Slow Gamma 25-55 Hz Frodo20230809_.nwb pos 4 valid times 5a0f267c-fd5c-c34b-bdc9-f716e72ab6bc\n"
     ]
    },
    {
     "name": "stderr",
     "output_type": "stream",
     "text": [
      "[2023-12-06 09:12:57,780][WARNING]: Skipped checksum for file with hash: 7d10592a-399d-f938-ed61-e1e562c14640, and path: /stelmo/nwb/analysis/Frodo20230809/Frodo20230809_XPGYKK4LRD.nwb\n",
      "WARNING:datajoint:Skipped checksum for file with hash: 7d10592a-399d-f938-ed61-e1e562c14640, and path: /stelmo/nwb/analysis/Frodo20230809/Frodo20230809_XPGYKK4LRD.nwb\n"
     ]
    },
    {
     "name": "stdout",
     "output_type": "stream",
     "text": [
      "Fast Gamma 65-100 Hz Frodo20230809_.nwb pos 4 valid times 5a0f267c-fd5c-c34b-bdc9-f716e72ab6bc\n"
     ]
    },
    {
     "name": "stderr",
     "output_type": "stream",
     "text": [
      "[2023-12-06 09:12:58,498][WARNING]: Skipped checksum for file with hash: 4085d45c-2c19-4302-0e94-5dd944abc674, and path: /stelmo/nwb/analysis/Frodo20230809/Frodo20230809_KSOL7AQAXS.nwb\n",
      "WARNING:datajoint:Skipped checksum for file with hash: 4085d45c-2c19-4302-0e94-5dd944abc674, and path: /stelmo/nwb/analysis/Frodo20230809/Frodo20230809_KSOL7AQAXS.nwb\n"
     ]
    },
    {
     "name": "stdout",
     "output_type": "stream",
     "text": [
      "Slow Gamma 25-55 Hz Frodo20230809_.nwb pos 5 valid times a21d48bf-e389-299f-d616-b0e85815c3bb\n"
     ]
    },
    {
     "name": "stderr",
     "output_type": "stream",
     "text": [
      "[2023-12-06 09:13:00,244][WARNING]: Skipped checksum for file with hash: 4085d45c-2c19-4302-0e94-5dd944abc674, and path: /stelmo/nwb/analysis/Frodo20230809/Frodo20230809_KSOL7AQAXS.nwb\n",
      "WARNING:datajoint:Skipped checksum for file with hash: 4085d45c-2c19-4302-0e94-5dd944abc674, and path: /stelmo/nwb/analysis/Frodo20230809/Frodo20230809_KSOL7AQAXS.nwb\n"
     ]
    },
    {
     "name": "stdout",
     "output_type": "stream",
     "text": [
      "Fast Gamma 65-100 Hz Frodo20230809_.nwb pos 5 valid times a21d48bf-e389-299f-d616-b0e85815c3bb\n"
     ]
    },
    {
     "name": "stderr",
     "output_type": "stream",
     "text": [
      "[2023-12-06 09:13:00,962][WARNING]: Skipped checksum for file with hash: 0486febe-8e41-4964-65bb-1e073e716dfc, and path: /stelmo/nwb/analysis/Frodo20230809/Frodo20230809_12SE8T1EG3.nwb\n",
      "WARNING:datajoint:Skipped checksum for file with hash: 0486febe-8e41-4964-65bb-1e073e716dfc, and path: /stelmo/nwb/analysis/Frodo20230809/Frodo20230809_12SE8T1EG3.nwb\n"
     ]
    },
    {
     "name": "stdout",
     "output_type": "stream",
     "text": [
      "Slow Gamma 25-55 Hz Frodo20230809_.nwb pos 6 valid times 693e7e42-a815-5e6d-2eac-31b14a928cee\n"
     ]
    },
    {
     "name": "stderr",
     "output_type": "stream",
     "text": [
      "[2023-12-06 09:13:02,898][WARNING]: Skipped checksum for file with hash: 0486febe-8e41-4964-65bb-1e073e716dfc, and path: /stelmo/nwb/analysis/Frodo20230809/Frodo20230809_12SE8T1EG3.nwb\n",
      "WARNING:datajoint:Skipped checksum for file with hash: 0486febe-8e41-4964-65bb-1e073e716dfc, and path: /stelmo/nwb/analysis/Frodo20230809/Frodo20230809_12SE8T1EG3.nwb\n"
     ]
    },
    {
     "name": "stdout",
     "output_type": "stream",
     "text": [
      "Fast Gamma 65-100 Hz Frodo20230809_.nwb pos 6 valid times 693e7e42-a815-5e6d-2eac-31b14a928cee\n"
     ]
    },
    {
     "name": "stderr",
     "output_type": "stream",
     "text": [
      "[2023-12-06 09:13:03,714][WARNING]: Skipped checksum for file with hash: 8462ca87-01da-6c12-7e86-6689fc334c85, and path: /stelmo/nwb/analysis/Frodo20230809/Frodo20230809_SQFJEBNAJK.nwb\n",
      "WARNING:datajoint:Skipped checksum for file with hash: 8462ca87-01da-6c12-7e86-6689fc334c85, and path: /stelmo/nwb/analysis/Frodo20230809/Frodo20230809_SQFJEBNAJK.nwb\n"
     ]
    },
    {
     "name": "stdout",
     "output_type": "stream",
     "text": [
      "Slow Gamma 25-55 Hz Frodo20230809_.nwb pos 7 valid times 6c2427e6-2238-7ff8-d761-621c08ed2d5e\n"
     ]
    },
    {
     "name": "stderr",
     "output_type": "stream",
     "text": [
      "[2023-12-06 09:13:05,589][WARNING]: Skipped checksum for file with hash: 8462ca87-01da-6c12-7e86-6689fc334c85, and path: /stelmo/nwb/analysis/Frodo20230809/Frodo20230809_SQFJEBNAJK.nwb\n",
      "WARNING:datajoint:Skipped checksum for file with hash: 8462ca87-01da-6c12-7e86-6689fc334c85, and path: /stelmo/nwb/analysis/Frodo20230809/Frodo20230809_SQFJEBNAJK.nwb\n"
     ]
    },
    {
     "name": "stdout",
     "output_type": "stream",
     "text": [
      "Fast Gamma 65-100 Hz Frodo20230809_.nwb pos 7 valid times 6c2427e6-2238-7ff8-d761-621c08ed2d5e\n"
     ]
    },
    {
     "name": "stderr",
     "output_type": "stream",
     "text": [
      "[2023-12-06 09:13:06,343][WARNING]: Skipped checksum for file with hash: ca7ee2fc-5cd6-f41c-015a-9e3d9c6352b7, and path: /stelmo/nwb/analysis/Frodo20230809/Frodo20230809_TGLWY7D7D3.nwb\n",
      "WARNING:datajoint:Skipped checksum for file with hash: ca7ee2fc-5cd6-f41c-015a-9e3d9c6352b7, and path: /stelmo/nwb/analysis/Frodo20230809/Frodo20230809_TGLWY7D7D3.nwb\n"
     ]
    },
    {
     "name": "stdout",
     "output_type": "stream",
     "text": [
      "Slow Gamma 25-55 Hz Frodo20230809_.nwb pos 8 valid times 106a8972-2e59-fb24-4842-04ccf8f38b90\n"
     ]
    },
    {
     "name": "stderr",
     "output_type": "stream",
     "text": [
      "[2023-12-06 09:13:08,048][WARNING]: Skipped checksum for file with hash: ca7ee2fc-5cd6-f41c-015a-9e3d9c6352b7, and path: /stelmo/nwb/analysis/Frodo20230809/Frodo20230809_TGLWY7D7D3.nwb\n",
      "WARNING:datajoint:Skipped checksum for file with hash: ca7ee2fc-5cd6-f41c-015a-9e3d9c6352b7, and path: /stelmo/nwb/analysis/Frodo20230809/Frodo20230809_TGLWY7D7D3.nwb\n"
     ]
    },
    {
     "name": "stdout",
     "output_type": "stream",
     "text": [
      "Fast Gamma 65-100 Hz Frodo20230809_.nwb pos 8 valid times 106a8972-2e59-fb24-4842-04ccf8f38b90\n"
     ]
    },
    {
     "name": "stderr",
     "output_type": "stream",
     "text": [
      "[2023-12-06 09:13:08,843][WARNING]: Skipped checksum for file with hash: b5c7e644-9f38-c8e8-adf4-fc84378d2be1, and path: /stelmo/nwb/analysis/Frodo20230809/Frodo20230809_RDBSPN6OF1.nwb\n",
      "WARNING:datajoint:Skipped checksum for file with hash: b5c7e644-9f38-c8e8-adf4-fc84378d2be1, and path: /stelmo/nwb/analysis/Frodo20230809/Frodo20230809_RDBSPN6OF1.nwb\n"
     ]
    },
    {
     "name": "stdout",
     "output_type": "stream",
     "text": [
      "Slow Gamma 25-55 Hz Frodo20230809_.nwb pos 9 valid times 8a5504ec-24b0-9cda-1662-40c0278b5b38\n"
     ]
    },
    {
     "name": "stderr",
     "output_type": "stream",
     "text": [
      "[2023-12-06 09:13:10,568][WARNING]: Skipped checksum for file with hash: b5c7e644-9f38-c8e8-adf4-fc84378d2be1, and path: /stelmo/nwb/analysis/Frodo20230809/Frodo20230809_RDBSPN6OF1.nwb\n",
      "WARNING:datajoint:Skipped checksum for file with hash: b5c7e644-9f38-c8e8-adf4-fc84378d2be1, and path: /stelmo/nwb/analysis/Frodo20230809/Frodo20230809_RDBSPN6OF1.nwb\n"
     ]
    },
    {
     "name": "stdout",
     "output_type": "stream",
     "text": [
      "Fast Gamma 65-100 Hz Frodo20230809_.nwb pos 9 valid times 8a5504ec-24b0-9cda-1662-40c0278b5b38\n"
     ]
    },
    {
     "name": "stderr",
     "output_type": "stream",
     "text": [
      "[2023-12-06 09:13:11,305][WARNING]: Skipped checksum for file with hash: 515441bd-8da0-9a70-0270-894c03620da3, and path: /stelmo/nwb/analysis/Frodo20230810/Frodo20230810_HVLDX7C58P.nwb\n",
      "WARNING:datajoint:Skipped checksum for file with hash: 515441bd-8da0-9a70-0270-894c03620da3, and path: /stelmo/nwb/analysis/Frodo20230810/Frodo20230810_HVLDX7C58P.nwb\n"
     ]
    },
    {
     "name": "stdout",
     "output_type": "stream",
     "text": [
      "Slow Gamma 25-55 Hz Frodo20230810_.nwb pos 0 valid times d2416ea6-985b-e793-d47d-0f10bb743fff\n"
     ]
    },
    {
     "name": "stderr",
     "output_type": "stream",
     "text": [
      "[2023-12-06 09:13:13,124][WARNING]: Skipped checksum for file with hash: 515441bd-8da0-9a70-0270-894c03620da3, and path: /stelmo/nwb/analysis/Frodo20230810/Frodo20230810_HVLDX7C58P.nwb\n",
      "WARNING:datajoint:Skipped checksum for file with hash: 515441bd-8da0-9a70-0270-894c03620da3, and path: /stelmo/nwb/analysis/Frodo20230810/Frodo20230810_HVLDX7C58P.nwb\n"
     ]
    },
    {
     "name": "stdout",
     "output_type": "stream",
     "text": [
      "Fast Gamma 65-100 Hz Frodo20230810_.nwb pos 0 valid times d2416ea6-985b-e793-d47d-0f10bb743fff\n"
     ]
    },
    {
     "name": "stderr",
     "output_type": "stream",
     "text": [
      "[2023-12-06 09:13:13,845][WARNING]: Skipped checksum for file with hash: 793aedca-54dd-7734-6b78-f7d018862d1e, and path: /stelmo/nwb/analysis/Frodo20230810/Frodo20230810_EVYQ4BL652.nwb\n",
      "WARNING:datajoint:Skipped checksum for file with hash: 793aedca-54dd-7734-6b78-f7d018862d1e, and path: /stelmo/nwb/analysis/Frodo20230810/Frodo20230810_EVYQ4BL652.nwb\n"
     ]
    },
    {
     "name": "stdout",
     "output_type": "stream",
     "text": [
      "Slow Gamma 25-55 Hz Frodo20230810_.nwb pos 1 valid times 20a0cd3f-a737-04c2-a8af-c71915d1bed0\n"
     ]
    },
    {
     "name": "stderr",
     "output_type": "stream",
     "text": [
      "[2023-12-06 09:13:15,571][WARNING]: Skipped checksum for file with hash: 793aedca-54dd-7734-6b78-f7d018862d1e, and path: /stelmo/nwb/analysis/Frodo20230810/Frodo20230810_EVYQ4BL652.nwb\n",
      "WARNING:datajoint:Skipped checksum for file with hash: 793aedca-54dd-7734-6b78-f7d018862d1e, and path: /stelmo/nwb/analysis/Frodo20230810/Frodo20230810_EVYQ4BL652.nwb\n"
     ]
    },
    {
     "name": "stdout",
     "output_type": "stream",
     "text": [
      "Fast Gamma 65-100 Hz Frodo20230810_.nwb pos 1 valid times 20a0cd3f-a737-04c2-a8af-c71915d1bed0\n"
     ]
    },
    {
     "name": "stderr",
     "output_type": "stream",
     "text": [
      "[2023-12-06 09:13:16,339][WARNING]: Skipped checksum for file with hash: 6e5f4f6b-ed0b-a32e-24c1-be016c13bb9b, and path: /stelmo/nwb/analysis/Frodo20230810/Frodo20230810_SIE83NZOCP.nwb\n",
      "WARNING:datajoint:Skipped checksum for file with hash: 6e5f4f6b-ed0b-a32e-24c1-be016c13bb9b, and path: /stelmo/nwb/analysis/Frodo20230810/Frodo20230810_SIE83NZOCP.nwb\n"
     ]
    },
    {
     "name": "stdout",
     "output_type": "stream",
     "text": [
      "Slow Gamma 25-55 Hz Frodo20230810_.nwb pos 10 valid times 7fdfee9b-e3d7-948e-4386-0a5a7982caca\n"
     ]
    },
    {
     "name": "stderr",
     "output_type": "stream",
     "text": [
      "[2023-12-06 09:13:18,024][WARNING]: Skipped checksum for file with hash: 6e5f4f6b-ed0b-a32e-24c1-be016c13bb9b, and path: /stelmo/nwb/analysis/Frodo20230810/Frodo20230810_SIE83NZOCP.nwb\n",
      "WARNING:datajoint:Skipped checksum for file with hash: 6e5f4f6b-ed0b-a32e-24c1-be016c13bb9b, and path: /stelmo/nwb/analysis/Frodo20230810/Frodo20230810_SIE83NZOCP.nwb\n"
     ]
    },
    {
     "name": "stdout",
     "output_type": "stream",
     "text": [
      "Fast Gamma 65-100 Hz Frodo20230810_.nwb pos 10 valid times 7fdfee9b-e3d7-948e-4386-0a5a7982caca\n"
     ]
    },
    {
     "name": "stderr",
     "output_type": "stream",
     "text": [
      "[2023-12-06 09:13:18,799][WARNING]: Skipped checksum for file with hash: 3be8ad09-c824-fd8f-bbd6-e0a28b891807, and path: /stelmo/nwb/analysis/Frodo20230810/Frodo20230810_CONWYG7VUY.nwb\n",
      "WARNING:datajoint:Skipped checksum for file with hash: 3be8ad09-c824-fd8f-bbd6-e0a28b891807, and path: /stelmo/nwb/analysis/Frodo20230810/Frodo20230810_CONWYG7VUY.nwb\n"
     ]
    },
    {
     "name": "stdout",
     "output_type": "stream",
     "text": [
      "Slow Gamma 25-55 Hz Frodo20230810_.nwb pos 11 valid times 396de7f5-4c5d-2a68-2387-0cc7f0381f37\n"
     ]
    },
    {
     "name": "stderr",
     "output_type": "stream",
     "text": [
      "[2023-12-06 09:13:20,457][WARNING]: Skipped checksum for file with hash: 3be8ad09-c824-fd8f-bbd6-e0a28b891807, and path: /stelmo/nwb/analysis/Frodo20230810/Frodo20230810_CONWYG7VUY.nwb\n",
      "WARNING:datajoint:Skipped checksum for file with hash: 3be8ad09-c824-fd8f-bbd6-e0a28b891807, and path: /stelmo/nwb/analysis/Frodo20230810/Frodo20230810_CONWYG7VUY.nwb\n"
     ]
    },
    {
     "name": "stdout",
     "output_type": "stream",
     "text": [
      "Fast Gamma 65-100 Hz Frodo20230810_.nwb pos 11 valid times 396de7f5-4c5d-2a68-2387-0cc7f0381f37\n"
     ]
    },
    {
     "name": "stderr",
     "output_type": "stream",
     "text": [
      "[2023-12-06 09:13:21,196][WARNING]: Skipped checksum for file with hash: ab0e26d4-32db-9891-95aa-d3e59243e183, and path: /stelmo/nwb/analysis/Frodo20230810/Frodo20230810_MRZKP3MUMM.nwb\n",
      "WARNING:datajoint:Skipped checksum for file with hash: ab0e26d4-32db-9891-95aa-d3e59243e183, and path: /stelmo/nwb/analysis/Frodo20230810/Frodo20230810_MRZKP3MUMM.nwb\n"
     ]
    },
    {
     "name": "stdout",
     "output_type": "stream",
     "text": [
      "Slow Gamma 25-55 Hz Frodo20230810_.nwb pos 12 valid times 565dcc99-52d4-46be-316a-d6eb07dc0d80\n"
     ]
    },
    {
     "name": "stderr",
     "output_type": "stream",
     "text": [
      "[2023-12-06 09:13:22,875][WARNING]: Skipped checksum for file with hash: ab0e26d4-32db-9891-95aa-d3e59243e183, and path: /stelmo/nwb/analysis/Frodo20230810/Frodo20230810_MRZKP3MUMM.nwb\n",
      "WARNING:datajoint:Skipped checksum for file with hash: ab0e26d4-32db-9891-95aa-d3e59243e183, and path: /stelmo/nwb/analysis/Frodo20230810/Frodo20230810_MRZKP3MUMM.nwb\n"
     ]
    },
    {
     "name": "stdout",
     "output_type": "stream",
     "text": [
      "Fast Gamma 65-100 Hz Frodo20230810_.nwb pos 12 valid times 565dcc99-52d4-46be-316a-d6eb07dc0d80\n"
     ]
    },
    {
     "name": "stderr",
     "output_type": "stream",
     "text": [
      "[2023-12-06 09:13:23,650][WARNING]: Skipped checksum for file with hash: 10fb7271-0dd2-681f-9478-ab1442ae61f0, and path: /stelmo/nwb/analysis/Frodo20230810/Frodo20230810_2YWU00613R.nwb\n",
      "WARNING:datajoint:Skipped checksum for file with hash: 10fb7271-0dd2-681f-9478-ab1442ae61f0, and path: /stelmo/nwb/analysis/Frodo20230810/Frodo20230810_2YWU00613R.nwb\n"
     ]
    },
    {
     "name": "stdout",
     "output_type": "stream",
     "text": [
      "Slow Gamma 25-55 Hz Frodo20230810_.nwb pos 13 valid times dcd287b2-37a4-25ce-1ab7-98a367936850\n"
     ]
    },
    {
     "name": "stderr",
     "output_type": "stream",
     "text": [
      "[2023-12-06 09:13:25,363][WARNING]: Skipped checksum for file with hash: 10fb7271-0dd2-681f-9478-ab1442ae61f0, and path: /stelmo/nwb/analysis/Frodo20230810/Frodo20230810_2YWU00613R.nwb\n",
      "WARNING:datajoint:Skipped checksum for file with hash: 10fb7271-0dd2-681f-9478-ab1442ae61f0, and path: /stelmo/nwb/analysis/Frodo20230810/Frodo20230810_2YWU00613R.nwb\n"
     ]
    },
    {
     "name": "stdout",
     "output_type": "stream",
     "text": [
      "Fast Gamma 65-100 Hz Frodo20230810_.nwb pos 13 valid times dcd287b2-37a4-25ce-1ab7-98a367936850\n"
     ]
    },
    {
     "name": "stderr",
     "output_type": "stream",
     "text": [
      "[2023-12-06 09:13:26,065][WARNING]: Skipped checksum for file with hash: 8e856083-8aef-ff32-2eae-db12f3ab5c9f, and path: /stelmo/nwb/analysis/Frodo20230810/Frodo20230810_WAI4ZT8J62.nwb\n",
      "WARNING:datajoint:Skipped checksum for file with hash: 8e856083-8aef-ff32-2eae-db12f3ab5c9f, and path: /stelmo/nwb/analysis/Frodo20230810/Frodo20230810_WAI4ZT8J62.nwb\n"
     ]
    },
    {
     "name": "stdout",
     "output_type": "stream",
     "text": [
      "Slow Gamma 25-55 Hz Frodo20230810_.nwb pos 14 valid times 40ecce6d-0ae8-64ab-b9ad-5b6626ddf9cb\n"
     ]
    },
    {
     "name": "stderr",
     "output_type": "stream",
     "text": [
      "[2023-12-06 09:13:27,864][WARNING]: Skipped checksum for file with hash: 8e856083-8aef-ff32-2eae-db12f3ab5c9f, and path: /stelmo/nwb/analysis/Frodo20230810/Frodo20230810_WAI4ZT8J62.nwb\n",
      "WARNING:datajoint:Skipped checksum for file with hash: 8e856083-8aef-ff32-2eae-db12f3ab5c9f, and path: /stelmo/nwb/analysis/Frodo20230810/Frodo20230810_WAI4ZT8J62.nwb\n"
     ]
    },
    {
     "name": "stdout",
     "output_type": "stream",
     "text": [
      "Fast Gamma 65-100 Hz Frodo20230810_.nwb pos 14 valid times 40ecce6d-0ae8-64ab-b9ad-5b6626ddf9cb\n"
     ]
    },
    {
     "name": "stderr",
     "output_type": "stream",
     "text": [
      "[2023-12-06 09:13:28,602][WARNING]: Skipped checksum for file with hash: 1ef4cace-b721-ca8f-a576-74291ff6e874, and path: /stelmo/nwb/analysis/Frodo20230810/Frodo20230810_9OFI55CTUA.nwb\n",
      "WARNING:datajoint:Skipped checksum for file with hash: 1ef4cace-b721-ca8f-a576-74291ff6e874, and path: /stelmo/nwb/analysis/Frodo20230810/Frodo20230810_9OFI55CTUA.nwb\n"
     ]
    },
    {
     "name": "stdout",
     "output_type": "stream",
     "text": [
      "Slow Gamma 25-55 Hz Frodo20230810_.nwb pos 15 valid times 71ec4731-e3df-895b-98be-b4a79810dfbd\n"
     ]
    },
    {
     "name": "stderr",
     "output_type": "stream",
     "text": [
      "[2023-12-06 09:13:30,253][WARNING]: Skipped checksum for file with hash: 1ef4cace-b721-ca8f-a576-74291ff6e874, and path: /stelmo/nwb/analysis/Frodo20230810/Frodo20230810_9OFI55CTUA.nwb\n",
      "WARNING:datajoint:Skipped checksum for file with hash: 1ef4cace-b721-ca8f-a576-74291ff6e874, and path: /stelmo/nwb/analysis/Frodo20230810/Frodo20230810_9OFI55CTUA.nwb\n"
     ]
    },
    {
     "name": "stdout",
     "output_type": "stream",
     "text": [
      "Fast Gamma 65-100 Hz Frodo20230810_.nwb pos 15 valid times 71ec4731-e3df-895b-98be-b4a79810dfbd\n"
     ]
    },
    {
     "name": "stderr",
     "output_type": "stream",
     "text": [
      "[2023-12-06 09:13:30,990][WARNING]: Skipped checksum for file with hash: 42a9fd37-e8b6-402d-7bd7-fb827711b788, and path: /stelmo/nwb/analysis/Frodo20230810/Frodo20230810_F8WG0TYLAY.nwb\n",
      "WARNING:datajoint:Skipped checksum for file with hash: 42a9fd37-e8b6-402d-7bd7-fb827711b788, and path: /stelmo/nwb/analysis/Frodo20230810/Frodo20230810_F8WG0TYLAY.nwb\n"
     ]
    },
    {
     "name": "stdout",
     "output_type": "stream",
     "text": [
      "Slow Gamma 25-55 Hz Frodo20230810_.nwb pos 16 valid times c3856991-37d0-e257-018c-3ba2106d5209\n"
     ]
    },
    {
     "name": "stderr",
     "output_type": "stream",
     "text": [
      "[2023-12-06 09:13:32,554][WARNING]: Skipped checksum for file with hash: 42a9fd37-e8b6-402d-7bd7-fb827711b788, and path: /stelmo/nwb/analysis/Frodo20230810/Frodo20230810_F8WG0TYLAY.nwb\n",
      "WARNING:datajoint:Skipped checksum for file with hash: 42a9fd37-e8b6-402d-7bd7-fb827711b788, and path: /stelmo/nwb/analysis/Frodo20230810/Frodo20230810_F8WG0TYLAY.nwb\n"
     ]
    },
    {
     "name": "stdout",
     "output_type": "stream",
     "text": [
      "Fast Gamma 65-100 Hz Frodo20230810_.nwb pos 16 valid times c3856991-37d0-e257-018c-3ba2106d5209\n"
     ]
    },
    {
     "name": "stderr",
     "output_type": "stream",
     "text": [
      "[2023-12-06 09:13:33,257][WARNING]: Skipped checksum for file with hash: a155b075-2af5-98e4-5c24-068575ccab66, and path: /stelmo/nwb/analysis/Frodo20230810/Frodo20230810_WYKCZCJZWE.nwb\n",
      "WARNING:datajoint:Skipped checksum for file with hash: a155b075-2af5-98e4-5c24-068575ccab66, and path: /stelmo/nwb/analysis/Frodo20230810/Frodo20230810_WYKCZCJZWE.nwb\n"
     ]
    },
    {
     "name": "stdout",
     "output_type": "stream",
     "text": [
      "Slow Gamma 25-55 Hz Frodo20230810_.nwb pos 17 valid times 2ce6bb86-5999-ea92-055e-6aa5a4c90d7a\n"
     ]
    },
    {
     "name": "stderr",
     "output_type": "stream",
     "text": [
      "[2023-12-06 09:13:34,906][WARNING]: Skipped checksum for file with hash: a155b075-2af5-98e4-5c24-068575ccab66, and path: /stelmo/nwb/analysis/Frodo20230810/Frodo20230810_WYKCZCJZWE.nwb\n",
      "WARNING:datajoint:Skipped checksum for file with hash: a155b075-2af5-98e4-5c24-068575ccab66, and path: /stelmo/nwb/analysis/Frodo20230810/Frodo20230810_WYKCZCJZWE.nwb\n"
     ]
    },
    {
     "name": "stdout",
     "output_type": "stream",
     "text": [
      "Fast Gamma 65-100 Hz Frodo20230810_.nwb pos 17 valid times 2ce6bb86-5999-ea92-055e-6aa5a4c90d7a\n"
     ]
    },
    {
     "name": "stderr",
     "output_type": "stream",
     "text": [
      "[2023-12-06 09:13:35,639][WARNING]: Skipped checksum for file with hash: 2052448a-f1f9-e322-6017-d611c9fad2f9, and path: /stelmo/nwb/analysis/Frodo20230810/Frodo20230810_03SAH6SF1N.nwb\n",
      "WARNING:datajoint:Skipped checksum for file with hash: 2052448a-f1f9-e322-6017-d611c9fad2f9, and path: /stelmo/nwb/analysis/Frodo20230810/Frodo20230810_03SAH6SF1N.nwb\n"
     ]
    },
    {
     "name": "stdout",
     "output_type": "stream",
     "text": [
      "Slow Gamma 25-55 Hz Frodo20230810_.nwb pos 18 valid times 21082add-4130-311f-99c4-870fb2732d4b\n"
     ]
    },
    {
     "name": "stderr",
     "output_type": "stream",
     "text": [
      "[2023-12-06 09:13:37,299][WARNING]: Skipped checksum for file with hash: 2052448a-f1f9-e322-6017-d611c9fad2f9, and path: /stelmo/nwb/analysis/Frodo20230810/Frodo20230810_03SAH6SF1N.nwb\n",
      "WARNING:datajoint:Skipped checksum for file with hash: 2052448a-f1f9-e322-6017-d611c9fad2f9, and path: /stelmo/nwb/analysis/Frodo20230810/Frodo20230810_03SAH6SF1N.nwb\n"
     ]
    },
    {
     "name": "stdout",
     "output_type": "stream",
     "text": [
      "Fast Gamma 65-100 Hz Frodo20230810_.nwb pos 18 valid times 21082add-4130-311f-99c4-870fb2732d4b\n"
     ]
    },
    {
     "name": "stderr",
     "output_type": "stream",
     "text": [
      "[2023-12-06 09:13:37,995][WARNING]: Skipped checksum for file with hash: 88e210b1-2592-c9de-c46f-7ce9987f2922, and path: /stelmo/nwb/analysis/Frodo20230810/Frodo20230810_W8Y6CRJE5E.nwb\n",
      "WARNING:datajoint:Skipped checksum for file with hash: 88e210b1-2592-c9de-c46f-7ce9987f2922, and path: /stelmo/nwb/analysis/Frodo20230810/Frodo20230810_W8Y6CRJE5E.nwb\n"
     ]
    },
    {
     "name": "stdout",
     "output_type": "stream",
     "text": [
      "Slow Gamma 25-55 Hz Frodo20230810_.nwb pos 2 valid times 6c16e638-73a2-d9b0-1c2e-91549e7cf349\n"
     ]
    },
    {
     "name": "stderr",
     "output_type": "stream",
     "text": [
      "[2023-12-06 09:13:39,605][WARNING]: Skipped checksum for file with hash: 88e210b1-2592-c9de-c46f-7ce9987f2922, and path: /stelmo/nwb/analysis/Frodo20230810/Frodo20230810_W8Y6CRJE5E.nwb\n",
      "WARNING:datajoint:Skipped checksum for file with hash: 88e210b1-2592-c9de-c46f-7ce9987f2922, and path: /stelmo/nwb/analysis/Frodo20230810/Frodo20230810_W8Y6CRJE5E.nwb\n"
     ]
    },
    {
     "name": "stdout",
     "output_type": "stream",
     "text": [
      "Fast Gamma 65-100 Hz Frodo20230810_.nwb pos 2 valid times 6c16e638-73a2-d9b0-1c2e-91549e7cf349\n"
     ]
    },
    {
     "name": "stderr",
     "output_type": "stream",
     "text": [
      "[2023-12-06 09:13:40,319][WARNING]: Skipped checksum for file with hash: d10c3b56-7e1c-ea53-84df-1d73af1eabf1, and path: /stelmo/nwb/analysis/Frodo20230810/Frodo20230810_DU55ZCDCBY.nwb\n",
      "WARNING:datajoint:Skipped checksum for file with hash: d10c3b56-7e1c-ea53-84df-1d73af1eabf1, and path: /stelmo/nwb/analysis/Frodo20230810/Frodo20230810_DU55ZCDCBY.nwb\n"
     ]
    },
    {
     "name": "stdout",
     "output_type": "stream",
     "text": [
      "Slow Gamma 25-55 Hz Frodo20230810_.nwb pos 3 valid times 287917b3-b5c6-def9-fb0b-09d5a64df70a\n"
     ]
    },
    {
     "name": "stderr",
     "output_type": "stream",
     "text": [
      "[2023-12-06 09:13:41,965][WARNING]: Skipped checksum for file with hash: d10c3b56-7e1c-ea53-84df-1d73af1eabf1, and path: /stelmo/nwb/analysis/Frodo20230810/Frodo20230810_DU55ZCDCBY.nwb\n",
      "WARNING:datajoint:Skipped checksum for file with hash: d10c3b56-7e1c-ea53-84df-1d73af1eabf1, and path: /stelmo/nwb/analysis/Frodo20230810/Frodo20230810_DU55ZCDCBY.nwb\n"
     ]
    },
    {
     "name": "stdout",
     "output_type": "stream",
     "text": [
      "Fast Gamma 65-100 Hz Frodo20230810_.nwb pos 3 valid times 287917b3-b5c6-def9-fb0b-09d5a64df70a\n"
     ]
    },
    {
     "name": "stderr",
     "output_type": "stream",
     "text": [
      "[2023-12-06 09:13:42,719][WARNING]: Skipped checksum for file with hash: 2f1eb870-08a3-2dc2-857f-d14e77c4dbde, and path: /stelmo/nwb/analysis/Frodo20230810/Frodo20230810_RD7WXANE2B.nwb\n",
      "WARNING:datajoint:Skipped checksum for file with hash: 2f1eb870-08a3-2dc2-857f-d14e77c4dbde, and path: /stelmo/nwb/analysis/Frodo20230810/Frodo20230810_RD7WXANE2B.nwb\n"
     ]
    },
    {
     "name": "stdout",
     "output_type": "stream",
     "text": [
      "Slow Gamma 25-55 Hz Frodo20230810_.nwb pos 4 valid times a1941952-d3bc-9c60-d526-77f7de5d4b40\n"
     ]
    },
    {
     "name": "stderr",
     "output_type": "stream",
     "text": [
      "[2023-12-06 09:13:44,330][WARNING]: Skipped checksum for file with hash: 2f1eb870-08a3-2dc2-857f-d14e77c4dbde, and path: /stelmo/nwb/analysis/Frodo20230810/Frodo20230810_RD7WXANE2B.nwb\n",
      "WARNING:datajoint:Skipped checksum for file with hash: 2f1eb870-08a3-2dc2-857f-d14e77c4dbde, and path: /stelmo/nwb/analysis/Frodo20230810/Frodo20230810_RD7WXANE2B.nwb\n"
     ]
    },
    {
     "name": "stdout",
     "output_type": "stream",
     "text": [
      "Fast Gamma 65-100 Hz Frodo20230810_.nwb pos 4 valid times a1941952-d3bc-9c60-d526-77f7de5d4b40\n"
     ]
    },
    {
     "name": "stderr",
     "output_type": "stream",
     "text": [
      "[2023-12-06 09:13:45,037][WARNING]: Skipped checksum for file with hash: 9703c4f4-5316-f7ad-e3b0-1e9492dc7948, and path: /stelmo/nwb/analysis/Frodo20230810/Frodo20230810_A5YZ0L6MGE.nwb\n",
      "WARNING:datajoint:Skipped checksum for file with hash: 9703c4f4-5316-f7ad-e3b0-1e9492dc7948, and path: /stelmo/nwb/analysis/Frodo20230810/Frodo20230810_A5YZ0L6MGE.nwb\n"
     ]
    },
    {
     "name": "stdout",
     "output_type": "stream",
     "text": [
      "Slow Gamma 25-55 Hz Frodo20230810_.nwb pos 5 valid times dc997dc6-8e45-2aae-6d73-1255f757fd3c\n"
     ]
    },
    {
     "name": "stderr",
     "output_type": "stream",
     "text": [
      "[2023-12-06 09:13:46,717][WARNING]: Skipped checksum for file with hash: 9703c4f4-5316-f7ad-e3b0-1e9492dc7948, and path: /stelmo/nwb/analysis/Frodo20230810/Frodo20230810_A5YZ0L6MGE.nwb\n",
      "WARNING:datajoint:Skipped checksum for file with hash: 9703c4f4-5316-f7ad-e3b0-1e9492dc7948, and path: /stelmo/nwb/analysis/Frodo20230810/Frodo20230810_A5YZ0L6MGE.nwb\n"
     ]
    },
    {
     "name": "stdout",
     "output_type": "stream",
     "text": [
      "Fast Gamma 65-100 Hz Frodo20230810_.nwb pos 5 valid times dc997dc6-8e45-2aae-6d73-1255f757fd3c\n"
     ]
    },
    {
     "name": "stderr",
     "output_type": "stream",
     "text": [
      "[2023-12-06 09:13:47,434][WARNING]: Skipped checksum for file with hash: 857b8171-f91e-0912-5bdb-69bcd90818d8, and path: /stelmo/nwb/analysis/Frodo20230810/Frodo20230810_GPGGYZ1SC7.nwb\n",
      "WARNING:datajoint:Skipped checksum for file with hash: 857b8171-f91e-0912-5bdb-69bcd90818d8, and path: /stelmo/nwb/analysis/Frodo20230810/Frodo20230810_GPGGYZ1SC7.nwb\n"
     ]
    },
    {
     "name": "stdout",
     "output_type": "stream",
     "text": [
      "Slow Gamma 25-55 Hz Frodo20230810_.nwb pos 6 valid times 64c20a1a-711c-35e7-ab1a-83a90d950a6f\n"
     ]
    },
    {
     "name": "stderr",
     "output_type": "stream",
     "text": [
      "[2023-12-06 09:13:49,084][WARNING]: Skipped checksum for file with hash: 857b8171-f91e-0912-5bdb-69bcd90818d8, and path: /stelmo/nwb/analysis/Frodo20230810/Frodo20230810_GPGGYZ1SC7.nwb\n",
      "WARNING:datajoint:Skipped checksum for file with hash: 857b8171-f91e-0912-5bdb-69bcd90818d8, and path: /stelmo/nwb/analysis/Frodo20230810/Frodo20230810_GPGGYZ1SC7.nwb\n"
     ]
    },
    {
     "name": "stdout",
     "output_type": "stream",
     "text": [
      "Fast Gamma 65-100 Hz Frodo20230810_.nwb pos 6 valid times 64c20a1a-711c-35e7-ab1a-83a90d950a6f\n"
     ]
    },
    {
     "name": "stderr",
     "output_type": "stream",
     "text": [
      "[2023-12-06 09:13:49,879][WARNING]: Skipped checksum for file with hash: d1185c05-4c6a-25e9-b729-021e1df6a45f, and path: /stelmo/nwb/analysis/Frodo20230810/Frodo20230810_JU2W0PUSJM.nwb\n",
      "WARNING:datajoint:Skipped checksum for file with hash: d1185c05-4c6a-25e9-b729-021e1df6a45f, and path: /stelmo/nwb/analysis/Frodo20230810/Frodo20230810_JU2W0PUSJM.nwb\n"
     ]
    },
    {
     "name": "stdout",
     "output_type": "stream",
     "text": [
      "Slow Gamma 25-55 Hz Frodo20230810_.nwb pos 7 valid times 205b6b44-ddec-b05b-8b82-d9a90e466e3f\n"
     ]
    },
    {
     "name": "stderr",
     "output_type": "stream",
     "text": [
      "[2023-12-06 09:13:51,561][WARNING]: Skipped checksum for file with hash: d1185c05-4c6a-25e9-b729-021e1df6a45f, and path: /stelmo/nwb/analysis/Frodo20230810/Frodo20230810_JU2W0PUSJM.nwb\n",
      "WARNING:datajoint:Skipped checksum for file with hash: d1185c05-4c6a-25e9-b729-021e1df6a45f, and path: /stelmo/nwb/analysis/Frodo20230810/Frodo20230810_JU2W0PUSJM.nwb\n"
     ]
    },
    {
     "name": "stdout",
     "output_type": "stream",
     "text": [
      "Fast Gamma 65-100 Hz Frodo20230810_.nwb pos 7 valid times 205b6b44-ddec-b05b-8b82-d9a90e466e3f\n"
     ]
    },
    {
     "name": "stderr",
     "output_type": "stream",
     "text": [
      "[2023-12-06 09:13:52,264][WARNING]: Skipped checksum for file with hash: fc74d468-8719-443b-87ca-3309a5710d91, and path: /stelmo/nwb/analysis/Frodo20230810/Frodo20230810_Y78YDGH3TB.nwb\n",
      "WARNING:datajoint:Skipped checksum for file with hash: fc74d468-8719-443b-87ca-3309a5710d91, and path: /stelmo/nwb/analysis/Frodo20230810/Frodo20230810_Y78YDGH3TB.nwb\n"
     ]
    },
    {
     "name": "stdout",
     "output_type": "stream",
     "text": [
      "Slow Gamma 25-55 Hz Frodo20230810_.nwb pos 8 valid times 16d251f9-3df0-6975-29c9-6b5ba9c1e670\n"
     ]
    },
    {
     "name": "stderr",
     "output_type": "stream",
     "text": [
      "[2023-12-06 09:13:53,865][WARNING]: Skipped checksum for file with hash: fc74d468-8719-443b-87ca-3309a5710d91, and path: /stelmo/nwb/analysis/Frodo20230810/Frodo20230810_Y78YDGH3TB.nwb\n",
      "WARNING:datajoint:Skipped checksum for file with hash: fc74d468-8719-443b-87ca-3309a5710d91, and path: /stelmo/nwb/analysis/Frodo20230810/Frodo20230810_Y78YDGH3TB.nwb\n"
     ]
    },
    {
     "name": "stdout",
     "output_type": "stream",
     "text": [
      "Fast Gamma 65-100 Hz Frodo20230810_.nwb pos 8 valid times 16d251f9-3df0-6975-29c9-6b5ba9c1e670\n"
     ]
    },
    {
     "name": "stderr",
     "output_type": "stream",
     "text": [
      "[2023-12-06 09:13:54,601][WARNING]: Skipped checksum for file with hash: 18c46df9-e516-57b0-f67f-966cda876d6e, and path: /stelmo/nwb/analysis/Frodo20230810/Frodo20230810_I71IKLXV7W.nwb\n",
      "WARNING:datajoint:Skipped checksum for file with hash: 18c46df9-e516-57b0-f67f-966cda876d6e, and path: /stelmo/nwb/analysis/Frodo20230810/Frodo20230810_I71IKLXV7W.nwb\n"
     ]
    },
    {
     "name": "stdout",
     "output_type": "stream",
     "text": [
      "Slow Gamma 25-55 Hz Frodo20230810_.nwb pos 9 valid times c4d3f6a2-4283-43c7-5557-4f8aebd9c117\n"
     ]
    },
    {
     "name": "stderr",
     "output_type": "stream",
     "text": [
      "[2023-12-06 09:13:56,339][WARNING]: Skipped checksum for file with hash: 18c46df9-e516-57b0-f67f-966cda876d6e, and path: /stelmo/nwb/analysis/Frodo20230810/Frodo20230810_I71IKLXV7W.nwb\n",
      "WARNING:datajoint:Skipped checksum for file with hash: 18c46df9-e516-57b0-f67f-966cda876d6e, and path: /stelmo/nwb/analysis/Frodo20230810/Frodo20230810_I71IKLXV7W.nwb\n"
     ]
    },
    {
     "name": "stdout",
     "output_type": "stream",
     "text": [
      "Fast Gamma 65-100 Hz Frodo20230810_.nwb pos 9 valid times c4d3f6a2-4283-43c7-5557-4f8aebd9c117\n"
     ]
    },
    {
     "name": "stderr",
     "output_type": "stream",
     "text": [
      "[2023-12-06 09:13:56,990][WARNING]: Skipped checksum for file with hash: 939a6860-325e-c2d2-7eb0-ce9d77ee6fdc, and path: /stelmo/nwb/analysis/Frodo20230811/Frodo20230811_QUBK2XDZ9B.nwb\n",
      "WARNING:datajoint:Skipped checksum for file with hash: 939a6860-325e-c2d2-7eb0-ce9d77ee6fdc, and path: /stelmo/nwb/analysis/Frodo20230811/Frodo20230811_QUBK2XDZ9B.nwb\n"
     ]
    },
    {
     "name": "stdout",
     "output_type": "stream",
     "text": [
      "Slow Gamma 25-55 Hz Frodo20230811_.nwb pos 0 valid times 2f3dbfd3-d1f5-e796-29e9-097d7c0eee5c\n"
     ]
    },
    {
     "name": "stderr",
     "output_type": "stream",
     "text": [
      "[2023-12-06 09:13:58,629][WARNING]: Skipped checksum for file with hash: 939a6860-325e-c2d2-7eb0-ce9d77ee6fdc, and path: /stelmo/nwb/analysis/Frodo20230811/Frodo20230811_QUBK2XDZ9B.nwb\n",
      "WARNING:datajoint:Skipped checksum for file with hash: 939a6860-325e-c2d2-7eb0-ce9d77ee6fdc, and path: /stelmo/nwb/analysis/Frodo20230811/Frodo20230811_QUBK2XDZ9B.nwb\n"
     ]
    },
    {
     "name": "stdout",
     "output_type": "stream",
     "text": [
      "Fast Gamma 65-100 Hz Frodo20230811_.nwb pos 0 valid times 2f3dbfd3-d1f5-e796-29e9-097d7c0eee5c\n"
     ]
    },
    {
     "name": "stderr",
     "output_type": "stream",
     "text": [
      "[2023-12-06 09:13:59,302][WARNING]: Skipped checksum for file with hash: 1d82e8b8-b2eb-b892-11d4-8e2b19766cfe, and path: /stelmo/nwb/analysis/Frodo20230811/Frodo20230811_2BD5IXU5K1.nwb\n",
      "WARNING:datajoint:Skipped checksum for file with hash: 1d82e8b8-b2eb-b892-11d4-8e2b19766cfe, and path: /stelmo/nwb/analysis/Frodo20230811/Frodo20230811_2BD5IXU5K1.nwb\n"
     ]
    },
    {
     "name": "stdout",
     "output_type": "stream",
     "text": [
      "Slow Gamma 25-55 Hz Frodo20230811_.nwb pos 1 valid times 3e4fb73d-2362-604a-4207-e4a83c25a63a\n"
     ]
    },
    {
     "name": "stderr",
     "output_type": "stream",
     "text": [
      "[2023-12-06 09:14:00,954][WARNING]: Skipped checksum for file with hash: 1d82e8b8-b2eb-b892-11d4-8e2b19766cfe, and path: /stelmo/nwb/analysis/Frodo20230811/Frodo20230811_2BD5IXU5K1.nwb\n",
      "WARNING:datajoint:Skipped checksum for file with hash: 1d82e8b8-b2eb-b892-11d4-8e2b19766cfe, and path: /stelmo/nwb/analysis/Frodo20230811/Frodo20230811_2BD5IXU5K1.nwb\n"
     ]
    },
    {
     "name": "stdout",
     "output_type": "stream",
     "text": [
      "Fast Gamma 65-100 Hz Frodo20230811_.nwb pos 1 valid times 3e4fb73d-2362-604a-4207-e4a83c25a63a\n"
     ]
    },
    {
     "name": "stderr",
     "output_type": "stream",
     "text": [
      "[2023-12-06 09:14:01,782][WARNING]: Skipped checksum for file with hash: 092fd3c4-76bd-7796-6e3d-58021ef1db09, and path: /stelmo/nwb/analysis/Frodo20230811/Frodo20230811_NZ756C59O8.nwb\n",
      "WARNING:datajoint:Skipped checksum for file with hash: 092fd3c4-76bd-7796-6e3d-58021ef1db09, and path: /stelmo/nwb/analysis/Frodo20230811/Frodo20230811_NZ756C59O8.nwb\n"
     ]
    },
    {
     "name": "stdout",
     "output_type": "stream",
     "text": [
      "Slow Gamma 25-55 Hz Frodo20230811_.nwb pos 10 valid times fb10378f-d886-782c-fbe4-6d0b2aa31a99\n"
     ]
    },
    {
     "name": "stderr",
     "output_type": "stream",
     "text": [
      "[2023-12-06 09:14:03,435][WARNING]: Skipped checksum for file with hash: 092fd3c4-76bd-7796-6e3d-58021ef1db09, and path: /stelmo/nwb/analysis/Frodo20230811/Frodo20230811_NZ756C59O8.nwb\n",
      "WARNING:datajoint:Skipped checksum for file with hash: 092fd3c4-76bd-7796-6e3d-58021ef1db09, and path: /stelmo/nwb/analysis/Frodo20230811/Frodo20230811_NZ756C59O8.nwb\n"
     ]
    },
    {
     "name": "stdout",
     "output_type": "stream",
     "text": [
      "Fast Gamma 65-100 Hz Frodo20230811_.nwb pos 10 valid times fb10378f-d886-782c-fbe4-6d0b2aa31a99\n"
     ]
    },
    {
     "name": "stderr",
     "output_type": "stream",
     "text": [
      "[2023-12-06 09:14:04,248][WARNING]: Skipped checksum for file with hash: 40bfc72e-9c78-f75a-8220-3bc93f89879a, and path: /stelmo/nwb/analysis/Frodo20230811/Frodo20230811_OVJRNXO4M6.nwb\n",
      "WARNING:datajoint:Skipped checksum for file with hash: 40bfc72e-9c78-f75a-8220-3bc93f89879a, and path: /stelmo/nwb/analysis/Frodo20230811/Frodo20230811_OVJRNXO4M6.nwb\n"
     ]
    },
    {
     "name": "stdout",
     "output_type": "stream",
     "text": [
      "Slow Gamma 25-55 Hz Frodo20230811_.nwb pos 11 valid times 7dc042fb-2fc9-038d-6a2c-1d22dffcc586\n"
     ]
    },
    {
     "name": "stderr",
     "output_type": "stream",
     "text": [
      "[2023-12-06 09:14:05,885][WARNING]: Skipped checksum for file with hash: 40bfc72e-9c78-f75a-8220-3bc93f89879a, and path: /stelmo/nwb/analysis/Frodo20230811/Frodo20230811_OVJRNXO4M6.nwb\n",
      "WARNING:datajoint:Skipped checksum for file with hash: 40bfc72e-9c78-f75a-8220-3bc93f89879a, and path: /stelmo/nwb/analysis/Frodo20230811/Frodo20230811_OVJRNXO4M6.nwb\n"
     ]
    },
    {
     "name": "stdout",
     "output_type": "stream",
     "text": [
      "Fast Gamma 65-100 Hz Frodo20230811_.nwb pos 11 valid times 7dc042fb-2fc9-038d-6a2c-1d22dffcc586\n"
     ]
    },
    {
     "name": "stderr",
     "output_type": "stream",
     "text": [
      "[2023-12-06 09:14:06,633][WARNING]: Skipped checksum for file with hash: 16126c35-0952-01d8-f944-91a6881186e1, and path: /stelmo/nwb/analysis/Frodo20230811/Frodo20230811_7TSYM6P8PT.nwb\n",
      "WARNING:datajoint:Skipped checksum for file with hash: 16126c35-0952-01d8-f944-91a6881186e1, and path: /stelmo/nwb/analysis/Frodo20230811/Frodo20230811_7TSYM6P8PT.nwb\n"
     ]
    },
    {
     "name": "stdout",
     "output_type": "stream",
     "text": [
      "Slow Gamma 25-55 Hz Frodo20230811_.nwb pos 12 valid times 909eec1d-93c4-745b-4ffb-2370292943f6\n"
     ]
    },
    {
     "name": "stderr",
     "output_type": "stream",
     "text": [
      "[2023-12-06 09:14:08,249][WARNING]: Skipped checksum for file with hash: 16126c35-0952-01d8-f944-91a6881186e1, and path: /stelmo/nwb/analysis/Frodo20230811/Frodo20230811_7TSYM6P8PT.nwb\n",
      "WARNING:datajoint:Skipped checksum for file with hash: 16126c35-0952-01d8-f944-91a6881186e1, and path: /stelmo/nwb/analysis/Frodo20230811/Frodo20230811_7TSYM6P8PT.nwb\n"
     ]
    },
    {
     "name": "stdout",
     "output_type": "stream",
     "text": [
      "Fast Gamma 65-100 Hz Frodo20230811_.nwb pos 12 valid times 909eec1d-93c4-745b-4ffb-2370292943f6\n"
     ]
    },
    {
     "name": "stderr",
     "output_type": "stream",
     "text": [
      "[2023-12-06 09:14:08,969][WARNING]: Skipped checksum for file with hash: 77f58663-a890-a6a8-2635-521cc6970983, and path: /stelmo/nwb/analysis/Frodo20230811/Frodo20230811_9V48XGU9EB.nwb\n",
      "WARNING:datajoint:Skipped checksum for file with hash: 77f58663-a890-a6a8-2635-521cc6970983, and path: /stelmo/nwb/analysis/Frodo20230811/Frodo20230811_9V48XGU9EB.nwb\n"
     ]
    },
    {
     "name": "stdout",
     "output_type": "stream",
     "text": [
      "Slow Gamma 25-55 Hz Frodo20230811_.nwb pos 13 valid times cf0bc40b-ea3b-43ec-c265-b6de8f051f3f\n"
     ]
    },
    {
     "name": "stderr",
     "output_type": "stream",
     "text": [
      "[2023-12-06 09:14:10,622][WARNING]: Skipped checksum for file with hash: 77f58663-a890-a6a8-2635-521cc6970983, and path: /stelmo/nwb/analysis/Frodo20230811/Frodo20230811_9V48XGU9EB.nwb\n",
      "WARNING:datajoint:Skipped checksum for file with hash: 77f58663-a890-a6a8-2635-521cc6970983, and path: /stelmo/nwb/analysis/Frodo20230811/Frodo20230811_9V48XGU9EB.nwb\n"
     ]
    },
    {
     "name": "stdout",
     "output_type": "stream",
     "text": [
      "Fast Gamma 65-100 Hz Frodo20230811_.nwb pos 13 valid times cf0bc40b-ea3b-43ec-c265-b6de8f051f3f\n"
     ]
    },
    {
     "name": "stderr",
     "output_type": "stream",
     "text": [
      "[2023-12-06 09:14:11,354][WARNING]: Skipped checksum for file with hash: e3b4189e-3cf6-0332-af9e-880299561219, and path: /stelmo/nwb/analysis/Frodo20230811/Frodo20230811_57RZVUA3C0.nwb\n",
      "WARNING:datajoint:Skipped checksum for file with hash: e3b4189e-3cf6-0332-af9e-880299561219, and path: /stelmo/nwb/analysis/Frodo20230811/Frodo20230811_57RZVUA3C0.nwb\n"
     ]
    },
    {
     "name": "stdout",
     "output_type": "stream",
     "text": [
      "Slow Gamma 25-55 Hz Frodo20230811_.nwb pos 14 valid times 6fef8545-20e0-2ddd-b55f-a6856d73800c\n"
     ]
    },
    {
     "name": "stderr",
     "output_type": "stream",
     "text": [
      "[2023-12-06 09:14:12,976][WARNING]: Skipped checksum for file with hash: e3b4189e-3cf6-0332-af9e-880299561219, and path: /stelmo/nwb/analysis/Frodo20230811/Frodo20230811_57RZVUA3C0.nwb\n",
      "WARNING:datajoint:Skipped checksum for file with hash: e3b4189e-3cf6-0332-af9e-880299561219, and path: /stelmo/nwb/analysis/Frodo20230811/Frodo20230811_57RZVUA3C0.nwb\n"
     ]
    },
    {
     "name": "stdout",
     "output_type": "stream",
     "text": [
      "Fast Gamma 65-100 Hz Frodo20230811_.nwb pos 14 valid times 6fef8545-20e0-2ddd-b55f-a6856d73800c\n"
     ]
    },
    {
     "name": "stderr",
     "output_type": "stream",
     "text": [
      "[2023-12-06 09:14:13,759][WARNING]: Skipped checksum for file with hash: 66d80012-f3e5-7dac-3f4a-345d66f81318, and path: /stelmo/nwb/analysis/Frodo20230811/Frodo20230811_FHTL3JA249.nwb\n",
      "WARNING:datajoint:Skipped checksum for file with hash: 66d80012-f3e5-7dac-3f4a-345d66f81318, and path: /stelmo/nwb/analysis/Frodo20230811/Frodo20230811_FHTL3JA249.nwb\n"
     ]
    },
    {
     "name": "stdout",
     "output_type": "stream",
     "text": [
      "Slow Gamma 25-55 Hz Frodo20230811_.nwb pos 15 valid times 07e3f85c-0313-148c-af57-0e22dc75671b\n"
     ]
    },
    {
     "name": "stderr",
     "output_type": "stream",
     "text": [
      "[2023-12-06 09:14:15,476][WARNING]: Skipped checksum for file with hash: 66d80012-f3e5-7dac-3f4a-345d66f81318, and path: /stelmo/nwb/analysis/Frodo20230811/Frodo20230811_FHTL3JA249.nwb\n",
      "WARNING:datajoint:Skipped checksum for file with hash: 66d80012-f3e5-7dac-3f4a-345d66f81318, and path: /stelmo/nwb/analysis/Frodo20230811/Frodo20230811_FHTL3JA249.nwb\n"
     ]
    },
    {
     "name": "stdout",
     "output_type": "stream",
     "text": [
      "Fast Gamma 65-100 Hz Frodo20230811_.nwb pos 15 valid times 07e3f85c-0313-148c-af57-0e22dc75671b\n"
     ]
    },
    {
     "name": "stderr",
     "output_type": "stream",
     "text": [
      "[2023-12-06 09:14:16,223][WARNING]: Skipped checksum for file with hash: 9b7609e6-4a4f-e262-59d9-4f089bbf43b4, and path: /stelmo/nwb/analysis/Frodo20230811/Frodo20230811_3PQ9U0MWLZ.nwb\n",
      "WARNING:datajoint:Skipped checksum for file with hash: 9b7609e6-4a4f-e262-59d9-4f089bbf43b4, and path: /stelmo/nwb/analysis/Frodo20230811/Frodo20230811_3PQ9U0MWLZ.nwb\n"
     ]
    },
    {
     "name": "stdout",
     "output_type": "stream",
     "text": [
      "Slow Gamma 25-55 Hz Frodo20230811_.nwb pos 16 valid times 09c112a3-8b2a-cdc2-0257-deac0bfb4b24\n"
     ]
    },
    {
     "name": "stderr",
     "output_type": "stream",
     "text": [
      "[2023-12-06 09:14:17,867][WARNING]: Skipped checksum for file with hash: 9b7609e6-4a4f-e262-59d9-4f089bbf43b4, and path: /stelmo/nwb/analysis/Frodo20230811/Frodo20230811_3PQ9U0MWLZ.nwb\n",
      "WARNING:datajoint:Skipped checksum for file with hash: 9b7609e6-4a4f-e262-59d9-4f089bbf43b4, and path: /stelmo/nwb/analysis/Frodo20230811/Frodo20230811_3PQ9U0MWLZ.nwb\n"
     ]
    },
    {
     "name": "stdout",
     "output_type": "stream",
     "text": [
      "Fast Gamma 65-100 Hz Frodo20230811_.nwb pos 16 valid times 09c112a3-8b2a-cdc2-0257-deac0bfb4b24\n"
     ]
    },
    {
     "name": "stderr",
     "output_type": "stream",
     "text": [
      "[2023-12-06 09:14:18,585][WARNING]: Skipped checksum for file with hash: a8064c18-a694-3680-9aff-de8262dfdc10, and path: /stelmo/nwb/analysis/Frodo20230811/Frodo20230811_OYIMF3H132.nwb\n",
      "WARNING:datajoint:Skipped checksum for file with hash: a8064c18-a694-3680-9aff-de8262dfdc10, and path: /stelmo/nwb/analysis/Frodo20230811/Frodo20230811_OYIMF3H132.nwb\n"
     ]
    },
    {
     "name": "stdout",
     "output_type": "stream",
     "text": [
      "Slow Gamma 25-55 Hz Frodo20230811_.nwb pos 17 valid times 26980d4d-6be9-a61b-b7ff-f81758f0a535\n"
     ]
    },
    {
     "name": "stderr",
     "output_type": "stream",
     "text": [
      "[2023-12-06 09:14:20,245][WARNING]: Skipped checksum for file with hash: a8064c18-a694-3680-9aff-de8262dfdc10, and path: /stelmo/nwb/analysis/Frodo20230811/Frodo20230811_OYIMF3H132.nwb\n",
      "WARNING:datajoint:Skipped checksum for file with hash: a8064c18-a694-3680-9aff-de8262dfdc10, and path: /stelmo/nwb/analysis/Frodo20230811/Frodo20230811_OYIMF3H132.nwb\n"
     ]
    },
    {
     "name": "stdout",
     "output_type": "stream",
     "text": [
      "Fast Gamma 65-100 Hz Frodo20230811_.nwb pos 17 valid times 26980d4d-6be9-a61b-b7ff-f81758f0a535\n"
     ]
    },
    {
     "name": "stderr",
     "output_type": "stream",
     "text": [
      "[2023-12-06 09:14:20,963][WARNING]: Skipped checksum for file with hash: 7ee30571-860a-0355-c383-8a0b4609f02f, and path: /stelmo/nwb/analysis/Frodo20230811/Frodo20230811_47XCUM4R0E.nwb\n",
      "WARNING:datajoint:Skipped checksum for file with hash: 7ee30571-860a-0355-c383-8a0b4609f02f, and path: /stelmo/nwb/analysis/Frodo20230811/Frodo20230811_47XCUM4R0E.nwb\n"
     ]
    },
    {
     "name": "stdout",
     "output_type": "stream",
     "text": [
      "Slow Gamma 25-55 Hz Frodo20230811_.nwb pos 18 valid times e663bec6-3410-c73d-69fe-90d5c4ba15b6\n"
     ]
    },
    {
     "name": "stderr",
     "output_type": "stream",
     "text": [
      "[2023-12-06 09:14:22,634][WARNING]: Skipped checksum for file with hash: 7ee30571-860a-0355-c383-8a0b4609f02f, and path: /stelmo/nwb/analysis/Frodo20230811/Frodo20230811_47XCUM4R0E.nwb\n",
      "WARNING:datajoint:Skipped checksum for file with hash: 7ee30571-860a-0355-c383-8a0b4609f02f, and path: /stelmo/nwb/analysis/Frodo20230811/Frodo20230811_47XCUM4R0E.nwb\n"
     ]
    },
    {
     "name": "stdout",
     "output_type": "stream",
     "text": [
      "Fast Gamma 65-100 Hz Frodo20230811_.nwb pos 18 valid times e663bec6-3410-c73d-69fe-90d5c4ba15b6\n"
     ]
    },
    {
     "name": "stderr",
     "output_type": "stream",
     "text": [
      "[2023-12-06 09:14:23,410][WARNING]: Skipped checksum for file with hash: 2b6311a8-6c40-fc6b-fd2a-7447afc9847d, and path: /stelmo/nwb/analysis/Frodo20230811/Frodo20230811_HOBWW0DVU1.nwb\n",
      "WARNING:datajoint:Skipped checksum for file with hash: 2b6311a8-6c40-fc6b-fd2a-7447afc9847d, and path: /stelmo/nwb/analysis/Frodo20230811/Frodo20230811_HOBWW0DVU1.nwb\n"
     ]
    },
    {
     "name": "stdout",
     "output_type": "stream",
     "text": [
      "Slow Gamma 25-55 Hz Frodo20230811_.nwb pos 19 valid times 52d4e867-5407-e6de-357a-c1f48dc55461\n"
     ]
    },
    {
     "name": "stderr",
     "output_type": "stream",
     "text": [
      "[2023-12-06 09:14:25,122][WARNING]: Skipped checksum for file with hash: 2b6311a8-6c40-fc6b-fd2a-7447afc9847d, and path: /stelmo/nwb/analysis/Frodo20230811/Frodo20230811_HOBWW0DVU1.nwb\n",
      "WARNING:datajoint:Skipped checksum for file with hash: 2b6311a8-6c40-fc6b-fd2a-7447afc9847d, and path: /stelmo/nwb/analysis/Frodo20230811/Frodo20230811_HOBWW0DVU1.nwb\n"
     ]
    },
    {
     "name": "stdout",
     "output_type": "stream",
     "text": [
      "Fast Gamma 65-100 Hz Frodo20230811_.nwb pos 19 valid times 52d4e867-5407-e6de-357a-c1f48dc55461\n"
     ]
    },
    {
     "name": "stderr",
     "output_type": "stream",
     "text": [
      "[2023-12-06 09:14:25,853][WARNING]: Skipped checksum for file with hash: 45f41270-7e5f-172c-c117-efafeed8d1e9, and path: /stelmo/nwb/analysis/Frodo20230811/Frodo20230811_YET1MNEDVV.nwb\n",
      "WARNING:datajoint:Skipped checksum for file with hash: 45f41270-7e5f-172c-c117-efafeed8d1e9, and path: /stelmo/nwb/analysis/Frodo20230811/Frodo20230811_YET1MNEDVV.nwb\n"
     ]
    },
    {
     "name": "stdout",
     "output_type": "stream",
     "text": [
      "Slow Gamma 25-55 Hz Frodo20230811_.nwb pos 2 valid times 7f5b74fa-b609-2833-869b-6e6c83602b47\n"
     ]
    },
    {
     "name": "stderr",
     "output_type": "stream",
     "text": [
      "[2023-12-06 09:14:27,550][WARNING]: Skipped checksum for file with hash: 45f41270-7e5f-172c-c117-efafeed8d1e9, and path: /stelmo/nwb/analysis/Frodo20230811/Frodo20230811_YET1MNEDVV.nwb\n",
      "WARNING:datajoint:Skipped checksum for file with hash: 45f41270-7e5f-172c-c117-efafeed8d1e9, and path: /stelmo/nwb/analysis/Frodo20230811/Frodo20230811_YET1MNEDVV.nwb\n"
     ]
    },
    {
     "name": "stdout",
     "output_type": "stream",
     "text": [
      "Fast Gamma 65-100 Hz Frodo20230811_.nwb pos 2 valid times 7f5b74fa-b609-2833-869b-6e6c83602b47\n"
     ]
    },
    {
     "name": "stderr",
     "output_type": "stream",
     "text": [
      "[2023-12-06 09:14:28,337][WARNING]: Skipped checksum for file with hash: 5bcaab4a-3a30-3697-d257-8c4a9ea62ee9, and path: /stelmo/nwb/analysis/Frodo20230811/Frodo20230811_52UQH8I7Z6.nwb\n",
      "WARNING:datajoint:Skipped checksum for file with hash: 5bcaab4a-3a30-3697-d257-8c4a9ea62ee9, and path: /stelmo/nwb/analysis/Frodo20230811/Frodo20230811_52UQH8I7Z6.nwb\n"
     ]
    },
    {
     "name": "stdout",
     "output_type": "stream",
     "text": [
      "Slow Gamma 25-55 Hz Frodo20230811_.nwb pos 20 valid times 24ccd24b-9f2d-7518-4940-179d8b6637e8\n"
     ]
    },
    {
     "name": "stderr",
     "output_type": "stream",
     "text": [
      "[2023-12-06 09:14:29,976][WARNING]: Skipped checksum for file with hash: 5bcaab4a-3a30-3697-d257-8c4a9ea62ee9, and path: /stelmo/nwb/analysis/Frodo20230811/Frodo20230811_52UQH8I7Z6.nwb\n",
      "WARNING:datajoint:Skipped checksum for file with hash: 5bcaab4a-3a30-3697-d257-8c4a9ea62ee9, and path: /stelmo/nwb/analysis/Frodo20230811/Frodo20230811_52UQH8I7Z6.nwb\n"
     ]
    },
    {
     "name": "stdout",
     "output_type": "stream",
     "text": [
      "Fast Gamma 65-100 Hz Frodo20230811_.nwb pos 20 valid times 24ccd24b-9f2d-7518-4940-179d8b6637e8\n"
     ]
    },
    {
     "name": "stderr",
     "output_type": "stream",
     "text": [
      "[2023-12-06 09:14:30,703][WARNING]: Skipped checksum for file with hash: 28296c82-73f0-a0ae-6b55-5273e864f61c, and path: /stelmo/nwb/analysis/Frodo20230811/Frodo20230811_CK6S0UODF0.nwb\n",
      "WARNING:datajoint:Skipped checksum for file with hash: 28296c82-73f0-a0ae-6b55-5273e864f61c, and path: /stelmo/nwb/analysis/Frodo20230811/Frodo20230811_CK6S0UODF0.nwb\n"
     ]
    },
    {
     "name": "stdout",
     "output_type": "stream",
     "text": [
      "Slow Gamma 25-55 Hz Frodo20230811_.nwb pos 3 valid times 089813ee-b8c9-e0d3-3b3d-af54689eaad2\n"
     ]
    },
    {
     "name": "stderr",
     "output_type": "stream",
     "text": [
      "[2023-12-06 09:14:32,363][WARNING]: Skipped checksum for file with hash: 28296c82-73f0-a0ae-6b55-5273e864f61c, and path: /stelmo/nwb/analysis/Frodo20230811/Frodo20230811_CK6S0UODF0.nwb\n",
      "WARNING:datajoint:Skipped checksum for file with hash: 28296c82-73f0-a0ae-6b55-5273e864f61c, and path: /stelmo/nwb/analysis/Frodo20230811/Frodo20230811_CK6S0UODF0.nwb\n"
     ]
    },
    {
     "name": "stdout",
     "output_type": "stream",
     "text": [
      "Fast Gamma 65-100 Hz Frodo20230811_.nwb pos 3 valid times 089813ee-b8c9-e0d3-3b3d-af54689eaad2\n"
     ]
    },
    {
     "name": "stderr",
     "output_type": "stream",
     "text": [
      "[2023-12-06 09:14:33,054][WARNING]: Skipped checksum for file with hash: a84b0201-7b29-7416-e816-8148888788b7, and path: /stelmo/nwb/analysis/Frodo20230811/Frodo20230811_LL23EOO3U1.nwb\n",
      "WARNING:datajoint:Skipped checksum for file with hash: a84b0201-7b29-7416-e816-8148888788b7, and path: /stelmo/nwb/analysis/Frodo20230811/Frodo20230811_LL23EOO3U1.nwb\n"
     ]
    },
    {
     "name": "stdout",
     "output_type": "stream",
     "text": [
      "Slow Gamma 25-55 Hz Frodo20230811_.nwb pos 4 valid times 35c9f433-2a4f-081d-0764-320495289095\n"
     ]
    },
    {
     "name": "stderr",
     "output_type": "stream",
     "text": [
      "[2023-12-06 09:14:34,683][WARNING]: Skipped checksum for file with hash: a84b0201-7b29-7416-e816-8148888788b7, and path: /stelmo/nwb/analysis/Frodo20230811/Frodo20230811_LL23EOO3U1.nwb\n",
      "WARNING:datajoint:Skipped checksum for file with hash: a84b0201-7b29-7416-e816-8148888788b7, and path: /stelmo/nwb/analysis/Frodo20230811/Frodo20230811_LL23EOO3U1.nwb\n"
     ]
    },
    {
     "name": "stdout",
     "output_type": "stream",
     "text": [
      "Fast Gamma 65-100 Hz Frodo20230811_.nwb pos 4 valid times 35c9f433-2a4f-081d-0764-320495289095\n"
     ]
    },
    {
     "name": "stderr",
     "output_type": "stream",
     "text": [
      "[2023-12-06 09:14:35,363][WARNING]: Skipped checksum for file with hash: dc4646bb-63d2-6a8d-b23a-ad897ad31a96, and path: /stelmo/nwb/analysis/Frodo20230811/Frodo20230811_36B3A6BZ1T.nwb\n",
      "WARNING:datajoint:Skipped checksum for file with hash: dc4646bb-63d2-6a8d-b23a-ad897ad31a96, and path: /stelmo/nwb/analysis/Frodo20230811/Frodo20230811_36B3A6BZ1T.nwb\n"
     ]
    },
    {
     "name": "stdout",
     "output_type": "stream",
     "text": [
      "Slow Gamma 25-55 Hz Frodo20230811_.nwb pos 5 valid times 7e9069df-6a05-88ef-5a0d-cb5e22977ec9\n"
     ]
    },
    {
     "name": "stderr",
     "output_type": "stream",
     "text": [
      "[2023-12-06 09:14:37,009][WARNING]: Skipped checksum for file with hash: dc4646bb-63d2-6a8d-b23a-ad897ad31a96, and path: /stelmo/nwb/analysis/Frodo20230811/Frodo20230811_36B3A6BZ1T.nwb\n",
      "WARNING:datajoint:Skipped checksum for file with hash: dc4646bb-63d2-6a8d-b23a-ad897ad31a96, and path: /stelmo/nwb/analysis/Frodo20230811/Frodo20230811_36B3A6BZ1T.nwb\n"
     ]
    },
    {
     "name": "stdout",
     "output_type": "stream",
     "text": [
      "Fast Gamma 65-100 Hz Frodo20230811_.nwb pos 5 valid times 7e9069df-6a05-88ef-5a0d-cb5e22977ec9\n"
     ]
    },
    {
     "name": "stderr",
     "output_type": "stream",
     "text": [
      "[2023-12-06 09:14:37,770][WARNING]: Skipped checksum for file with hash: 363d3e44-195f-7ff2-a07f-042946ee11b2, and path: /stelmo/nwb/analysis/Frodo20230811/Frodo20230811_RHD0IVOZGJ.nwb\n",
      "WARNING:datajoint:Skipped checksum for file with hash: 363d3e44-195f-7ff2-a07f-042946ee11b2, and path: /stelmo/nwb/analysis/Frodo20230811/Frodo20230811_RHD0IVOZGJ.nwb\n"
     ]
    },
    {
     "name": "stdout",
     "output_type": "stream",
     "text": [
      "Slow Gamma 25-55 Hz Frodo20230811_.nwb pos 6 valid times d550120c-34c8-e665-6ea8-37704c5614ac\n"
     ]
    },
    {
     "name": "stderr",
     "output_type": "stream",
     "text": [
      "[2023-12-06 09:14:39,465][WARNING]: Skipped checksum for file with hash: 363d3e44-195f-7ff2-a07f-042946ee11b2, and path: /stelmo/nwb/analysis/Frodo20230811/Frodo20230811_RHD0IVOZGJ.nwb\n",
      "WARNING:datajoint:Skipped checksum for file with hash: 363d3e44-195f-7ff2-a07f-042946ee11b2, and path: /stelmo/nwb/analysis/Frodo20230811/Frodo20230811_RHD0IVOZGJ.nwb\n"
     ]
    },
    {
     "name": "stdout",
     "output_type": "stream",
     "text": [
      "Fast Gamma 65-100 Hz Frodo20230811_.nwb pos 6 valid times d550120c-34c8-e665-6ea8-37704c5614ac\n"
     ]
    },
    {
     "name": "stderr",
     "output_type": "stream",
     "text": [
      "[2023-12-06 09:14:40,176][WARNING]: Skipped checksum for file with hash: 2b7cc3db-08b6-2c16-315b-e33659da1aa7, and path: /stelmo/nwb/analysis/Frodo20230811/Frodo20230811_VKOMQZ71J5.nwb\n",
      "WARNING:datajoint:Skipped checksum for file with hash: 2b7cc3db-08b6-2c16-315b-e33659da1aa7, and path: /stelmo/nwb/analysis/Frodo20230811/Frodo20230811_VKOMQZ71J5.nwb\n"
     ]
    },
    {
     "name": "stdout",
     "output_type": "stream",
     "text": [
      "Slow Gamma 25-55 Hz Frodo20230811_.nwb pos 7 valid times c7cd5444-dec2-75bd-6e81-f33c7c4c15b5\n"
     ]
    },
    {
     "name": "stderr",
     "output_type": "stream",
     "text": [
      "[2023-12-06 09:14:41,923][WARNING]: Skipped checksum for file with hash: 2b7cc3db-08b6-2c16-315b-e33659da1aa7, and path: /stelmo/nwb/analysis/Frodo20230811/Frodo20230811_VKOMQZ71J5.nwb\n",
      "WARNING:datajoint:Skipped checksum for file with hash: 2b7cc3db-08b6-2c16-315b-e33659da1aa7, and path: /stelmo/nwb/analysis/Frodo20230811/Frodo20230811_VKOMQZ71J5.nwb\n"
     ]
    },
    {
     "name": "stdout",
     "output_type": "stream",
     "text": [
      "Fast Gamma 65-100 Hz Frodo20230811_.nwb pos 7 valid times c7cd5444-dec2-75bd-6e81-f33c7c4c15b5\n"
     ]
    },
    {
     "name": "stderr",
     "output_type": "stream",
     "text": [
      "[2023-12-06 09:14:42,701][WARNING]: Skipped checksum for file with hash: 3d1d3d31-3da8-4c37-ab92-0187a15dc480, and path: /stelmo/nwb/analysis/Frodo20230811/Frodo20230811_BTYYHF9ZSE.nwb\n",
      "WARNING:datajoint:Skipped checksum for file with hash: 3d1d3d31-3da8-4c37-ab92-0187a15dc480, and path: /stelmo/nwb/analysis/Frodo20230811/Frodo20230811_BTYYHF9ZSE.nwb\n"
     ]
    },
    {
     "name": "stdout",
     "output_type": "stream",
     "text": [
      "Slow Gamma 25-55 Hz Frodo20230811_.nwb pos 8 valid times 34e144c3-8f18-532c-e0b9-bf1494e41bca\n"
     ]
    },
    {
     "name": "stderr",
     "output_type": "stream",
     "text": [
      "[2023-12-06 09:14:44,357][WARNING]: Skipped checksum for file with hash: 3d1d3d31-3da8-4c37-ab92-0187a15dc480, and path: /stelmo/nwb/analysis/Frodo20230811/Frodo20230811_BTYYHF9ZSE.nwb\n",
      "WARNING:datajoint:Skipped checksum for file with hash: 3d1d3d31-3da8-4c37-ab92-0187a15dc480, and path: /stelmo/nwb/analysis/Frodo20230811/Frodo20230811_BTYYHF9ZSE.nwb\n"
     ]
    },
    {
     "name": "stdout",
     "output_type": "stream",
     "text": [
      "Fast Gamma 65-100 Hz Frodo20230811_.nwb pos 8 valid times 34e144c3-8f18-532c-e0b9-bf1494e41bca\n"
     ]
    },
    {
     "name": "stderr",
     "output_type": "stream",
     "text": [
      "[2023-12-06 09:14:45,082][WARNING]: Skipped checksum for file with hash: 3cfde8e1-a15a-1669-f952-57ab094affe6, and path: /stelmo/nwb/analysis/Frodo20230811/Frodo20230811_P9OH6AWC4U.nwb\n",
      "WARNING:datajoint:Skipped checksum for file with hash: 3cfde8e1-a15a-1669-f952-57ab094affe6, and path: /stelmo/nwb/analysis/Frodo20230811/Frodo20230811_P9OH6AWC4U.nwb\n"
     ]
    },
    {
     "name": "stdout",
     "output_type": "stream",
     "text": [
      "Slow Gamma 25-55 Hz Frodo20230811_.nwb pos 9 valid times 66436961-682c-4e2f-7029-c7f37c9643af\n"
     ]
    },
    {
     "name": "stderr",
     "output_type": "stream",
     "text": [
      "[2023-12-06 09:14:46,628][WARNING]: Skipped checksum for file with hash: 3cfde8e1-a15a-1669-f952-57ab094affe6, and path: /stelmo/nwb/analysis/Frodo20230811/Frodo20230811_P9OH6AWC4U.nwb\n",
      "WARNING:datajoint:Skipped checksum for file with hash: 3cfde8e1-a15a-1669-f952-57ab094affe6, and path: /stelmo/nwb/analysis/Frodo20230811/Frodo20230811_P9OH6AWC4U.nwb\n"
     ]
    },
    {
     "name": "stdout",
     "output_type": "stream",
     "text": [
      "Fast Gamma 65-100 Hz Frodo20230811_.nwb pos 9 valid times 66436961-682c-4e2f-7029-c7f37c9643af\n"
     ]
    },
    {
     "name": "stderr",
     "output_type": "stream",
     "text": [
      "[2023-12-06 09:14:47,313][WARNING]: Skipped checksum for file with hash: 8a70d72f-fc7d-089c-f732-7b5996ac9bc7, and path: /stelmo/nwb/analysis/Frodo20230814/Frodo20230814_BUYCGOA7EB.nwb\n",
      "WARNING:datajoint:Skipped checksum for file with hash: 8a70d72f-fc7d-089c-f732-7b5996ac9bc7, and path: /stelmo/nwb/analysis/Frodo20230814/Frodo20230814_BUYCGOA7EB.nwb\n"
     ]
    },
    {
     "name": "stdout",
     "output_type": "stream",
     "text": [
      "Slow Gamma 25-55 Hz Frodo20230814_.nwb pos 0 valid times e34be75f-c3a5-774b-b54a-4d2a6ad96e00\n"
     ]
    },
    {
     "name": "stderr",
     "output_type": "stream",
     "text": [
      "[2023-12-06 09:14:48,956][WARNING]: Skipped checksum for file with hash: 8a70d72f-fc7d-089c-f732-7b5996ac9bc7, and path: /stelmo/nwb/analysis/Frodo20230814/Frodo20230814_BUYCGOA7EB.nwb\n",
      "WARNING:datajoint:Skipped checksum for file with hash: 8a70d72f-fc7d-089c-f732-7b5996ac9bc7, and path: /stelmo/nwb/analysis/Frodo20230814/Frodo20230814_BUYCGOA7EB.nwb\n"
     ]
    },
    {
     "name": "stdout",
     "output_type": "stream",
     "text": [
      "Fast Gamma 65-100 Hz Frodo20230814_.nwb pos 0 valid times e34be75f-c3a5-774b-b54a-4d2a6ad96e00\n"
     ]
    },
    {
     "name": "stderr",
     "output_type": "stream",
     "text": [
      "[2023-12-06 09:14:49,699][WARNING]: Skipped checksum for file with hash: f2f8c4f7-dcf0-0984-dc92-4ba7d31bb93a, and path: /stelmo/nwb/analysis/Frodo20230814/Frodo20230814_FBL6865CCN.nwb\n",
      "WARNING:datajoint:Skipped checksum for file with hash: f2f8c4f7-dcf0-0984-dc92-4ba7d31bb93a, and path: /stelmo/nwb/analysis/Frodo20230814/Frodo20230814_FBL6865CCN.nwb\n"
     ]
    },
    {
     "name": "stdout",
     "output_type": "stream",
     "text": [
      "Slow Gamma 25-55 Hz Frodo20230814_.nwb pos 1 valid times f4235da1-0843-1d21-c48b-69aa088370ce\n"
     ]
    },
    {
     "name": "stderr",
     "output_type": "stream",
     "text": [
      "[2023-12-06 09:14:51,374][WARNING]: Skipped checksum for file with hash: f2f8c4f7-dcf0-0984-dc92-4ba7d31bb93a, and path: /stelmo/nwb/analysis/Frodo20230814/Frodo20230814_FBL6865CCN.nwb\n",
      "WARNING:datajoint:Skipped checksum for file with hash: f2f8c4f7-dcf0-0984-dc92-4ba7d31bb93a, and path: /stelmo/nwb/analysis/Frodo20230814/Frodo20230814_FBL6865CCN.nwb\n"
     ]
    },
    {
     "name": "stdout",
     "output_type": "stream",
     "text": [
      "Fast Gamma 65-100 Hz Frodo20230814_.nwb pos 1 valid times f4235da1-0843-1d21-c48b-69aa088370ce\n"
     ]
    },
    {
     "name": "stderr",
     "output_type": "stream",
     "text": [
      "[2023-12-06 09:14:52,116][WARNING]: Skipped checksum for file with hash: 86f5894c-4c03-1a20-7292-f44faf043234, and path: /stelmo/nwb/analysis/Frodo20230814/Frodo20230814_TS82T2Q2GN.nwb\n",
      "WARNING:datajoint:Skipped checksum for file with hash: 86f5894c-4c03-1a20-7292-f44faf043234, and path: /stelmo/nwb/analysis/Frodo20230814/Frodo20230814_TS82T2Q2GN.nwb\n"
     ]
    },
    {
     "name": "stdout",
     "output_type": "stream",
     "text": [
      "Slow Gamma 25-55 Hz Frodo20230814_.nwb pos 10 valid times e74c9e16-6bd6-706b-b4df-e0d32c157164\n"
     ]
    },
    {
     "name": "stderr",
     "output_type": "stream",
     "text": [
      "[2023-12-06 09:14:53,843][WARNING]: Skipped checksum for file with hash: 86f5894c-4c03-1a20-7292-f44faf043234, and path: /stelmo/nwb/analysis/Frodo20230814/Frodo20230814_TS82T2Q2GN.nwb\n",
      "WARNING:datajoint:Skipped checksum for file with hash: 86f5894c-4c03-1a20-7292-f44faf043234, and path: /stelmo/nwb/analysis/Frodo20230814/Frodo20230814_TS82T2Q2GN.nwb\n"
     ]
    },
    {
     "name": "stdout",
     "output_type": "stream",
     "text": [
      "Fast Gamma 65-100 Hz Frodo20230814_.nwb pos 10 valid times e74c9e16-6bd6-706b-b4df-e0d32c157164\n"
     ]
    },
    {
     "name": "stderr",
     "output_type": "stream",
     "text": [
      "[2023-12-06 09:14:54,573][WARNING]: Skipped checksum for file with hash: de48a697-3281-1070-015b-2336196b2cc8, and path: /stelmo/nwb/analysis/Frodo20230814/Frodo20230814_U4TVQPFVNH.nwb\n",
      "WARNING:datajoint:Skipped checksum for file with hash: de48a697-3281-1070-015b-2336196b2cc8, and path: /stelmo/nwb/analysis/Frodo20230814/Frodo20230814_U4TVQPFVNH.nwb\n"
     ]
    },
    {
     "name": "stdout",
     "output_type": "stream",
     "text": [
      "Slow Gamma 25-55 Hz Frodo20230814_.nwb pos 11 valid times cbe41be8-17a3-4c7e-d925-661a614a1e48\n"
     ]
    },
    {
     "name": "stderr",
     "output_type": "stream",
     "text": [
      "[2023-12-06 09:14:56,236][WARNING]: Skipped checksum for file with hash: de48a697-3281-1070-015b-2336196b2cc8, and path: /stelmo/nwb/analysis/Frodo20230814/Frodo20230814_U4TVQPFVNH.nwb\n",
      "WARNING:datajoint:Skipped checksum for file with hash: de48a697-3281-1070-015b-2336196b2cc8, and path: /stelmo/nwb/analysis/Frodo20230814/Frodo20230814_U4TVQPFVNH.nwb\n"
     ]
    },
    {
     "name": "stdout",
     "output_type": "stream",
     "text": [
      "Fast Gamma 65-100 Hz Frodo20230814_.nwb pos 11 valid times cbe41be8-17a3-4c7e-d925-661a614a1e48\n"
     ]
    },
    {
     "name": "stderr",
     "output_type": "stream",
     "text": [
      "[2023-12-06 09:14:56,964][WARNING]: Skipped checksum for file with hash: 1726465b-7246-74b8-7a48-23429e0958f8, and path: /stelmo/nwb/analysis/Frodo20230814/Frodo20230814_LPXQ3BH56I.nwb\n",
      "WARNING:datajoint:Skipped checksum for file with hash: 1726465b-7246-74b8-7a48-23429e0958f8, and path: /stelmo/nwb/analysis/Frodo20230814/Frodo20230814_LPXQ3BH56I.nwb\n"
     ]
    },
    {
     "name": "stdout",
     "output_type": "stream",
     "text": [
      "Slow Gamma 25-55 Hz Frodo20230814_.nwb pos 12 valid times 952746bc-6e4f-2d43-f9a2-eaea12447152\n"
     ]
    },
    {
     "name": "stderr",
     "output_type": "stream",
     "text": [
      "[2023-12-06 09:14:58,648][WARNING]: Skipped checksum for file with hash: 1726465b-7246-74b8-7a48-23429e0958f8, and path: /stelmo/nwb/analysis/Frodo20230814/Frodo20230814_LPXQ3BH56I.nwb\n",
      "WARNING:datajoint:Skipped checksum for file with hash: 1726465b-7246-74b8-7a48-23429e0958f8, and path: /stelmo/nwb/analysis/Frodo20230814/Frodo20230814_LPXQ3BH56I.nwb\n"
     ]
    },
    {
     "name": "stdout",
     "output_type": "stream",
     "text": [
      "Fast Gamma 65-100 Hz Frodo20230814_.nwb pos 12 valid times 952746bc-6e4f-2d43-f9a2-eaea12447152\n"
     ]
    },
    {
     "name": "stderr",
     "output_type": "stream",
     "text": [
      "[2023-12-06 09:14:59,379][WARNING]: Skipped checksum for file with hash: 607c2701-ea89-b231-d464-738d8e4f2752, and path: /stelmo/nwb/analysis/Frodo20230814/Frodo20230814_YZXAPHZ3H5.nwb\n",
      "WARNING:datajoint:Skipped checksum for file with hash: 607c2701-ea89-b231-d464-738d8e4f2752, and path: /stelmo/nwb/analysis/Frodo20230814/Frodo20230814_YZXAPHZ3H5.nwb\n"
     ]
    },
    {
     "name": "stdout",
     "output_type": "stream",
     "text": [
      "Slow Gamma 25-55 Hz Frodo20230814_.nwb pos 13 valid times 840d2ce9-d1ad-0ea3-2ab0-21caad015291\n"
     ]
    },
    {
     "name": "stderr",
     "output_type": "stream",
     "text": [
      "[2023-12-06 09:15:01,083][WARNING]: Skipped checksum for file with hash: 607c2701-ea89-b231-d464-738d8e4f2752, and path: /stelmo/nwb/analysis/Frodo20230814/Frodo20230814_YZXAPHZ3H5.nwb\n",
      "WARNING:datajoint:Skipped checksum for file with hash: 607c2701-ea89-b231-d464-738d8e4f2752, and path: /stelmo/nwb/analysis/Frodo20230814/Frodo20230814_YZXAPHZ3H5.nwb\n"
     ]
    },
    {
     "name": "stdout",
     "output_type": "stream",
     "text": [
      "Fast Gamma 65-100 Hz Frodo20230814_.nwb pos 13 valid times 840d2ce9-d1ad-0ea3-2ab0-21caad015291\n"
     ]
    },
    {
     "name": "stderr",
     "output_type": "stream",
     "text": [
      "[2023-12-06 09:15:01,899][WARNING]: Skipped checksum for file with hash: b6b97669-213b-9cfb-7ab2-65507d9a9086, and path: /stelmo/nwb/analysis/Frodo20230814/Frodo20230814_ELC1M26HHC.nwb\n",
      "WARNING:datajoint:Skipped checksum for file with hash: b6b97669-213b-9cfb-7ab2-65507d9a9086, and path: /stelmo/nwb/analysis/Frodo20230814/Frodo20230814_ELC1M26HHC.nwb\n"
     ]
    },
    {
     "name": "stdout",
     "output_type": "stream",
     "text": [
      "Slow Gamma 25-55 Hz Frodo20230814_.nwb pos 14 valid times 051f7980-1679-2575-10c0-d3c1aead9694\n"
     ]
    },
    {
     "name": "stderr",
     "output_type": "stream",
     "text": [
      "[2023-12-06 09:15:03,643][WARNING]: Skipped checksum for file with hash: b6b97669-213b-9cfb-7ab2-65507d9a9086, and path: /stelmo/nwb/analysis/Frodo20230814/Frodo20230814_ELC1M26HHC.nwb\n",
      "WARNING:datajoint:Skipped checksum for file with hash: b6b97669-213b-9cfb-7ab2-65507d9a9086, and path: /stelmo/nwb/analysis/Frodo20230814/Frodo20230814_ELC1M26HHC.nwb\n"
     ]
    },
    {
     "name": "stdout",
     "output_type": "stream",
     "text": [
      "Fast Gamma 65-100 Hz Frodo20230814_.nwb pos 14 valid times 051f7980-1679-2575-10c0-d3c1aead9694\n"
     ]
    },
    {
     "name": "stderr",
     "output_type": "stream",
     "text": [
      "[2023-12-06 09:15:04,395][WARNING]: Skipped checksum for file with hash: 8aae8fc1-6491-bb47-2b45-92df77cf3ac8, and path: /stelmo/nwb/analysis/Frodo20230814/Frodo20230814_RD9H9XQWAL.nwb\n",
      "WARNING:datajoint:Skipped checksum for file with hash: 8aae8fc1-6491-bb47-2b45-92df77cf3ac8, and path: /stelmo/nwb/analysis/Frodo20230814/Frodo20230814_RD9H9XQWAL.nwb\n"
     ]
    },
    {
     "name": "stdout",
     "output_type": "stream",
     "text": [
      "Slow Gamma 25-55 Hz Frodo20230814_.nwb pos 15 valid times ad4f9029-9592-0247-b730-3850b3d54e42\n"
     ]
    },
    {
     "name": "stderr",
     "output_type": "stream",
     "text": [
      "[2023-12-06 09:15:06,088][WARNING]: Skipped checksum for file with hash: 8aae8fc1-6491-bb47-2b45-92df77cf3ac8, and path: /stelmo/nwb/analysis/Frodo20230814/Frodo20230814_RD9H9XQWAL.nwb\n",
      "WARNING:datajoint:Skipped checksum for file with hash: 8aae8fc1-6491-bb47-2b45-92df77cf3ac8, and path: /stelmo/nwb/analysis/Frodo20230814/Frodo20230814_RD9H9XQWAL.nwb\n"
     ]
    },
    {
     "name": "stdout",
     "output_type": "stream",
     "text": [
      "Fast Gamma 65-100 Hz Frodo20230814_.nwb pos 15 valid times ad4f9029-9592-0247-b730-3850b3d54e42\n"
     ]
    },
    {
     "name": "stderr",
     "output_type": "stream",
     "text": [
      "[2023-12-06 09:15:06,879][WARNING]: Skipped checksum for file with hash: 54a94da9-7bad-e46d-c778-5b1eaa1f9821, and path: /stelmo/nwb/analysis/Frodo20230814/Frodo20230814_W9K4P47USZ.nwb\n",
      "WARNING:datajoint:Skipped checksum for file with hash: 54a94da9-7bad-e46d-c778-5b1eaa1f9821, and path: /stelmo/nwb/analysis/Frodo20230814/Frodo20230814_W9K4P47USZ.nwb\n"
     ]
    },
    {
     "name": "stdout",
     "output_type": "stream",
     "text": [
      "Slow Gamma 25-55 Hz Frodo20230814_.nwb pos 16 valid times 3ab8a9c0-9882-c651-8496-6918f8db82a1\n"
     ]
    },
    {
     "name": "stderr",
     "output_type": "stream",
     "text": [
      "[2023-12-06 09:15:08,620][WARNING]: Skipped checksum for file with hash: 54a94da9-7bad-e46d-c778-5b1eaa1f9821, and path: /stelmo/nwb/analysis/Frodo20230814/Frodo20230814_W9K4P47USZ.nwb\n",
      "WARNING:datajoint:Skipped checksum for file with hash: 54a94da9-7bad-e46d-c778-5b1eaa1f9821, and path: /stelmo/nwb/analysis/Frodo20230814/Frodo20230814_W9K4P47USZ.nwb\n"
     ]
    },
    {
     "name": "stdout",
     "output_type": "stream",
     "text": [
      "Fast Gamma 65-100 Hz Frodo20230814_.nwb pos 16 valid times 3ab8a9c0-9882-c651-8496-6918f8db82a1\n"
     ]
    },
    {
     "name": "stderr",
     "output_type": "stream",
     "text": [
      "[2023-12-06 09:15:09,351][WARNING]: Skipped checksum for file with hash: 7a717291-9bed-d1c5-1d3e-f48b01901028, and path: /stelmo/nwb/analysis/Frodo20230814/Frodo20230814_S3QUD5IEDY.nwb\n",
      "WARNING:datajoint:Skipped checksum for file with hash: 7a717291-9bed-d1c5-1d3e-f48b01901028, and path: /stelmo/nwb/analysis/Frodo20230814/Frodo20230814_S3QUD5IEDY.nwb\n"
     ]
    },
    {
     "name": "stdout",
     "output_type": "stream",
     "text": [
      "Slow Gamma 25-55 Hz Frodo20230814_.nwb pos 17 valid times 2df2b808-547a-97bc-8c72-cef6e0a538ba\n"
     ]
    },
    {
     "name": "stderr",
     "output_type": "stream",
     "text": [
      "[2023-12-06 09:15:11,077][WARNING]: Skipped checksum for file with hash: 7a717291-9bed-d1c5-1d3e-f48b01901028, and path: /stelmo/nwb/analysis/Frodo20230814/Frodo20230814_S3QUD5IEDY.nwb\n",
      "WARNING:datajoint:Skipped checksum for file with hash: 7a717291-9bed-d1c5-1d3e-f48b01901028, and path: /stelmo/nwb/analysis/Frodo20230814/Frodo20230814_S3QUD5IEDY.nwb\n"
     ]
    },
    {
     "name": "stdout",
     "output_type": "stream",
     "text": [
      "Fast Gamma 65-100 Hz Frodo20230814_.nwb pos 17 valid times 2df2b808-547a-97bc-8c72-cef6e0a538ba\n"
     ]
    },
    {
     "name": "stderr",
     "output_type": "stream",
     "text": [
      "[2023-12-06 09:15:11,848][WARNING]: Skipped checksum for file with hash: 4c2c3e4d-75fe-fa1b-9198-7f97891a9c50, and path: /stelmo/nwb/analysis/Frodo20230814/Frodo20230814_YIG4YV09TC.nwb\n",
      "WARNING:datajoint:Skipped checksum for file with hash: 4c2c3e4d-75fe-fa1b-9198-7f97891a9c50, and path: /stelmo/nwb/analysis/Frodo20230814/Frodo20230814_YIG4YV09TC.nwb\n"
     ]
    },
    {
     "name": "stdout",
     "output_type": "stream",
     "text": [
      "Slow Gamma 25-55 Hz Frodo20230814_.nwb pos 18 valid times a213a0c3-8175-2acf-1b43-9d6151ab1c90\n"
     ]
    },
    {
     "name": "stderr",
     "output_type": "stream",
     "text": [
      "[2023-12-06 09:15:13,588][WARNING]: Skipped checksum for file with hash: 4c2c3e4d-75fe-fa1b-9198-7f97891a9c50, and path: /stelmo/nwb/analysis/Frodo20230814/Frodo20230814_YIG4YV09TC.nwb\n",
      "WARNING:datajoint:Skipped checksum for file with hash: 4c2c3e4d-75fe-fa1b-9198-7f97891a9c50, and path: /stelmo/nwb/analysis/Frodo20230814/Frodo20230814_YIG4YV09TC.nwb\n"
     ]
    },
    {
     "name": "stdout",
     "output_type": "stream",
     "text": [
      "Fast Gamma 65-100 Hz Frodo20230814_.nwb pos 18 valid times a213a0c3-8175-2acf-1b43-9d6151ab1c90\n"
     ]
    },
    {
     "name": "stderr",
     "output_type": "stream",
     "text": [
      "[2023-12-06 09:15:14,325][WARNING]: Skipped checksum for file with hash: 519e5a86-1cc0-bb08-03bb-4551883fb671, and path: /stelmo/nwb/analysis/Frodo20230814/Frodo20230814_OH6ZJHYHLG.nwb\n",
      "WARNING:datajoint:Skipped checksum for file with hash: 519e5a86-1cc0-bb08-03bb-4551883fb671, and path: /stelmo/nwb/analysis/Frodo20230814/Frodo20230814_OH6ZJHYHLG.nwb\n"
     ]
    },
    {
     "name": "stdout",
     "output_type": "stream",
     "text": [
      "Slow Gamma 25-55 Hz Frodo20230814_.nwb pos 2 valid times 0c5ca6d2-c34c-9fe9-cf51-c629e3cf27cb\n"
     ]
    },
    {
     "name": "stderr",
     "output_type": "stream",
     "text": [
      "[2023-12-06 09:15:15,989][WARNING]: Skipped checksum for file with hash: 519e5a86-1cc0-bb08-03bb-4551883fb671, and path: /stelmo/nwb/analysis/Frodo20230814/Frodo20230814_OH6ZJHYHLG.nwb\n",
      "WARNING:datajoint:Skipped checksum for file with hash: 519e5a86-1cc0-bb08-03bb-4551883fb671, and path: /stelmo/nwb/analysis/Frodo20230814/Frodo20230814_OH6ZJHYHLG.nwb\n"
     ]
    },
    {
     "name": "stdout",
     "output_type": "stream",
     "text": [
      "Fast Gamma 65-100 Hz Frodo20230814_.nwb pos 2 valid times 0c5ca6d2-c34c-9fe9-cf51-c629e3cf27cb\n"
     ]
    },
    {
     "name": "stderr",
     "output_type": "stream",
     "text": [
      "[2023-12-06 09:15:16,750][WARNING]: Skipped checksum for file with hash: 43cf8959-4183-b134-7faf-8ed496a3a19e, and path: /stelmo/nwb/analysis/Frodo20230814/Frodo20230814_DVWU6RR5PE.nwb\n",
      "WARNING:datajoint:Skipped checksum for file with hash: 43cf8959-4183-b134-7faf-8ed496a3a19e, and path: /stelmo/nwb/analysis/Frodo20230814/Frodo20230814_DVWU6RR5PE.nwb\n"
     ]
    },
    {
     "name": "stdout",
     "output_type": "stream",
     "text": [
      "Slow Gamma 25-55 Hz Frodo20230814_.nwb pos 3 valid times ff0690f8-bca2-7ead-d3d1-2e32d5153a74\n"
     ]
    },
    {
     "name": "stderr",
     "output_type": "stream",
     "text": [
      "[2023-12-06 09:15:18,532][WARNING]: Skipped checksum for file with hash: 43cf8959-4183-b134-7faf-8ed496a3a19e, and path: /stelmo/nwb/analysis/Frodo20230814/Frodo20230814_DVWU6RR5PE.nwb\n",
      "WARNING:datajoint:Skipped checksum for file with hash: 43cf8959-4183-b134-7faf-8ed496a3a19e, and path: /stelmo/nwb/analysis/Frodo20230814/Frodo20230814_DVWU6RR5PE.nwb\n"
     ]
    },
    {
     "name": "stdout",
     "output_type": "stream",
     "text": [
      "Fast Gamma 65-100 Hz Frodo20230814_.nwb pos 3 valid times ff0690f8-bca2-7ead-d3d1-2e32d5153a74\n"
     ]
    },
    {
     "name": "stderr",
     "output_type": "stream",
     "text": [
      "[2023-12-06 09:15:19,272][WARNING]: Skipped checksum for file with hash: 2c8b84fc-84b6-27d2-860c-dc495f02b513, and path: /stelmo/nwb/analysis/Frodo20230814/Frodo20230814_2J49WPXYGV.nwb\n",
      "WARNING:datajoint:Skipped checksum for file with hash: 2c8b84fc-84b6-27d2-860c-dc495f02b513, and path: /stelmo/nwb/analysis/Frodo20230814/Frodo20230814_2J49WPXYGV.nwb\n"
     ]
    },
    {
     "name": "stdout",
     "output_type": "stream",
     "text": [
      "Slow Gamma 25-55 Hz Frodo20230814_.nwb pos 4 valid times 2dc4145d-3873-1476-0099-1d8cc06022e3\n"
     ]
    },
    {
     "name": "stderr",
     "output_type": "stream",
     "text": [
      "[2023-12-06 09:15:20,991][WARNING]: Skipped checksum for file with hash: 2c8b84fc-84b6-27d2-860c-dc495f02b513, and path: /stelmo/nwb/analysis/Frodo20230814/Frodo20230814_2J49WPXYGV.nwb\n",
      "WARNING:datajoint:Skipped checksum for file with hash: 2c8b84fc-84b6-27d2-860c-dc495f02b513, and path: /stelmo/nwb/analysis/Frodo20230814/Frodo20230814_2J49WPXYGV.nwb\n"
     ]
    },
    {
     "name": "stdout",
     "output_type": "stream",
     "text": [
      "Fast Gamma 65-100 Hz Frodo20230814_.nwb pos 4 valid times 2dc4145d-3873-1476-0099-1d8cc06022e3\n"
     ]
    },
    {
     "name": "stderr",
     "output_type": "stream",
     "text": [
      "[2023-12-06 09:15:21,798][WARNING]: Skipped checksum for file with hash: ef9e0678-12a5-2e7f-a66c-73f6a543250c, and path: /stelmo/nwb/analysis/Frodo20230814/Frodo20230814_16Q9YFFNWN.nwb\n",
      "WARNING:datajoint:Skipped checksum for file with hash: ef9e0678-12a5-2e7f-a66c-73f6a543250c, and path: /stelmo/nwb/analysis/Frodo20230814/Frodo20230814_16Q9YFFNWN.nwb\n"
     ]
    },
    {
     "name": "stdout",
     "output_type": "stream",
     "text": [
      "Slow Gamma 25-55 Hz Frodo20230814_.nwb pos 5 valid times b9b643b1-e0a2-2830-c485-0e94e31ebd49\n"
     ]
    },
    {
     "name": "stderr",
     "output_type": "stream",
     "text": [
      "[2023-12-06 09:15:23,524][WARNING]: Skipped checksum for file with hash: ef9e0678-12a5-2e7f-a66c-73f6a543250c, and path: /stelmo/nwb/analysis/Frodo20230814/Frodo20230814_16Q9YFFNWN.nwb\n",
      "WARNING:datajoint:Skipped checksum for file with hash: ef9e0678-12a5-2e7f-a66c-73f6a543250c, and path: /stelmo/nwb/analysis/Frodo20230814/Frodo20230814_16Q9YFFNWN.nwb\n"
     ]
    },
    {
     "name": "stdout",
     "output_type": "stream",
     "text": [
      "Fast Gamma 65-100 Hz Frodo20230814_.nwb pos 5 valid times b9b643b1-e0a2-2830-c485-0e94e31ebd49\n"
     ]
    },
    {
     "name": "stderr",
     "output_type": "stream",
     "text": [
      "[2023-12-06 09:15:24,245][WARNING]: Skipped checksum for file with hash: a874f5d2-a33e-3906-3f20-73da162de106, and path: /stelmo/nwb/analysis/Frodo20230814/Frodo20230814_OD0HZQLOZS.nwb\n",
      "WARNING:datajoint:Skipped checksum for file with hash: a874f5d2-a33e-3906-3f20-73da162de106, and path: /stelmo/nwb/analysis/Frodo20230814/Frodo20230814_OD0HZQLOZS.nwb\n"
     ]
    },
    {
     "name": "stdout",
     "output_type": "stream",
     "text": [
      "Slow Gamma 25-55 Hz Frodo20230814_.nwb pos 6 valid times 90df0b7e-a139-eb6b-162b-91044ace41ac\n"
     ]
    },
    {
     "name": "stderr",
     "output_type": "stream",
     "text": [
      "[2023-12-06 09:15:25,969][WARNING]: Skipped checksum for file with hash: a874f5d2-a33e-3906-3f20-73da162de106, and path: /stelmo/nwb/analysis/Frodo20230814/Frodo20230814_OD0HZQLOZS.nwb\n",
      "WARNING:datajoint:Skipped checksum for file with hash: a874f5d2-a33e-3906-3f20-73da162de106, and path: /stelmo/nwb/analysis/Frodo20230814/Frodo20230814_OD0HZQLOZS.nwb\n"
     ]
    },
    {
     "name": "stdout",
     "output_type": "stream",
     "text": [
      "Fast Gamma 65-100 Hz Frodo20230814_.nwb pos 6 valid times 90df0b7e-a139-eb6b-162b-91044ace41ac\n"
     ]
    },
    {
     "name": "stderr",
     "output_type": "stream",
     "text": [
      "[2023-12-06 09:15:26,727][WARNING]: Skipped checksum for file with hash: cdfbef3b-19c7-14ea-25b8-bbce746e4d99, and path: /stelmo/nwb/analysis/Frodo20230814/Frodo20230814_NF2GKE4BVP.nwb\n",
      "WARNING:datajoint:Skipped checksum for file with hash: cdfbef3b-19c7-14ea-25b8-bbce746e4d99, and path: /stelmo/nwb/analysis/Frodo20230814/Frodo20230814_NF2GKE4BVP.nwb\n"
     ]
    },
    {
     "name": "stdout",
     "output_type": "stream",
     "text": [
      "Slow Gamma 25-55 Hz Frodo20230814_.nwb pos 7 valid times 13152d64-984e-2c93-83db-21c369c557e5\n"
     ]
    },
    {
     "name": "stderr",
     "output_type": "stream",
     "text": [
      "[2023-12-06 09:15:28,516][WARNING]: Skipped checksum for file with hash: cdfbef3b-19c7-14ea-25b8-bbce746e4d99, and path: /stelmo/nwb/analysis/Frodo20230814/Frodo20230814_NF2GKE4BVP.nwb\n",
      "WARNING:datajoint:Skipped checksum for file with hash: cdfbef3b-19c7-14ea-25b8-bbce746e4d99, and path: /stelmo/nwb/analysis/Frodo20230814/Frodo20230814_NF2GKE4BVP.nwb\n"
     ]
    },
    {
     "name": "stdout",
     "output_type": "stream",
     "text": [
      "Fast Gamma 65-100 Hz Frodo20230814_.nwb pos 7 valid times 13152d64-984e-2c93-83db-21c369c557e5\n"
     ]
    },
    {
     "name": "stderr",
     "output_type": "stream",
     "text": [
      "[2023-12-06 09:15:29,246][WARNING]: Skipped checksum for file with hash: 15f0ca5e-e868-4706-499e-7c1f426edb68, and path: /stelmo/nwb/analysis/Frodo20230814/Frodo20230814_IYUBKS8QYE.nwb\n",
      "WARNING:datajoint:Skipped checksum for file with hash: 15f0ca5e-e868-4706-499e-7c1f426edb68, and path: /stelmo/nwb/analysis/Frodo20230814/Frodo20230814_IYUBKS8QYE.nwb\n"
     ]
    },
    {
     "name": "stdout",
     "output_type": "stream",
     "text": [
      "Slow Gamma 25-55 Hz Frodo20230814_.nwb pos 8 valid times 21c777f9-5365-e7eb-8d67-b258191908e0\n"
     ]
    },
    {
     "name": "stderr",
     "output_type": "stream",
     "text": [
      "[2023-12-06 09:15:30,981][WARNING]: Skipped checksum for file with hash: 15f0ca5e-e868-4706-499e-7c1f426edb68, and path: /stelmo/nwb/analysis/Frodo20230814/Frodo20230814_IYUBKS8QYE.nwb\n",
      "WARNING:datajoint:Skipped checksum for file with hash: 15f0ca5e-e868-4706-499e-7c1f426edb68, and path: /stelmo/nwb/analysis/Frodo20230814/Frodo20230814_IYUBKS8QYE.nwb\n"
     ]
    },
    {
     "name": "stdout",
     "output_type": "stream",
     "text": [
      "Fast Gamma 65-100 Hz Frodo20230814_.nwb pos 8 valid times 21c777f9-5365-e7eb-8d67-b258191908e0\n"
     ]
    },
    {
     "name": "stderr",
     "output_type": "stream",
     "text": [
      "[2023-12-06 09:15:31,752][WARNING]: Skipped checksum for file with hash: 4ed9ff03-b4d7-364b-af81-bd9a6c4699a2, and path: /stelmo/nwb/analysis/Frodo20230814/Frodo20230814_QUG6IOQZM0.nwb\n",
      "WARNING:datajoint:Skipped checksum for file with hash: 4ed9ff03-b4d7-364b-af81-bd9a6c4699a2, and path: /stelmo/nwb/analysis/Frodo20230814/Frodo20230814_QUG6IOQZM0.nwb\n"
     ]
    },
    {
     "name": "stdout",
     "output_type": "stream",
     "text": [
      "Slow Gamma 25-55 Hz Frodo20230814_.nwb pos 9 valid times b0fdbd2a-0070-2d2a-8a9d-9f90c2087492\n"
     ]
    },
    {
     "name": "stderr",
     "output_type": "stream",
     "text": [
      "[2023-12-06 09:15:33,400][WARNING]: Skipped checksum for file with hash: 4ed9ff03-b4d7-364b-af81-bd9a6c4699a2, and path: /stelmo/nwb/analysis/Frodo20230814/Frodo20230814_QUG6IOQZM0.nwb\n",
      "WARNING:datajoint:Skipped checksum for file with hash: 4ed9ff03-b4d7-364b-af81-bd9a6c4699a2, and path: /stelmo/nwb/analysis/Frodo20230814/Frodo20230814_QUG6IOQZM0.nwb\n"
     ]
    },
    {
     "name": "stdout",
     "output_type": "stream",
     "text": [
      "Fast Gamma 65-100 Hz Frodo20230814_.nwb pos 9 valid times b0fdbd2a-0070-2d2a-8a9d-9f90c2087492\n"
     ]
    },
    {
     "name": "stderr",
     "output_type": "stream",
     "text": [
      "[2023-12-06 09:15:34,136][WARNING]: Skipped checksum for file with hash: e1609528-5c53-9cd7-8a25-6917253c6e62, and path: /stelmo/nwb/analysis/Frodo20230815/Frodo20230815_VZV9DMWGZN.nwb\n",
      "WARNING:datajoint:Skipped checksum for file with hash: e1609528-5c53-9cd7-8a25-6917253c6e62, and path: /stelmo/nwb/analysis/Frodo20230815/Frodo20230815_VZV9DMWGZN.nwb\n"
     ]
    },
    {
     "name": "stdout",
     "output_type": "stream",
     "text": [
      "Slow Gamma 25-55 Hz Frodo20230815_.nwb pos 0 valid times 318d42b1-79b6-f7e8-be3c-66faf3465b44\n"
     ]
    },
    {
     "name": "stderr",
     "output_type": "stream",
     "text": [
      "[2023-12-06 09:15:35,852][WARNING]: Skipped checksum for file with hash: e1609528-5c53-9cd7-8a25-6917253c6e62, and path: /stelmo/nwb/analysis/Frodo20230815/Frodo20230815_VZV9DMWGZN.nwb\n",
      "WARNING:datajoint:Skipped checksum for file with hash: e1609528-5c53-9cd7-8a25-6917253c6e62, and path: /stelmo/nwb/analysis/Frodo20230815/Frodo20230815_VZV9DMWGZN.nwb\n"
     ]
    },
    {
     "name": "stdout",
     "output_type": "stream",
     "text": [
      "Fast Gamma 65-100 Hz Frodo20230815_.nwb pos 0 valid times 318d42b1-79b6-f7e8-be3c-66faf3465b44\n"
     ]
    },
    {
     "name": "stderr",
     "output_type": "stream",
     "text": [
      "[2023-12-06 09:15:36,572][WARNING]: Skipped checksum for file with hash: 1e7a2ecf-1cb3-4009-2f3b-1676c35ab8ed, and path: /stelmo/nwb/analysis/Frodo20230815/Frodo20230815_Q85N6001WT.nwb\n",
      "WARNING:datajoint:Skipped checksum for file with hash: 1e7a2ecf-1cb3-4009-2f3b-1676c35ab8ed, and path: /stelmo/nwb/analysis/Frodo20230815/Frodo20230815_Q85N6001WT.nwb\n"
     ]
    },
    {
     "name": "stdout",
     "output_type": "stream",
     "text": [
      "Slow Gamma 25-55 Hz Frodo20230815_.nwb pos 1 valid times 5aac6b87-bcfc-46bb-d4e2-ba1922835fad\n"
     ]
    },
    {
     "name": "stderr",
     "output_type": "stream",
     "text": [
      "[2023-12-06 09:15:38,273][WARNING]: Skipped checksum for file with hash: 1e7a2ecf-1cb3-4009-2f3b-1676c35ab8ed, and path: /stelmo/nwb/analysis/Frodo20230815/Frodo20230815_Q85N6001WT.nwb\n",
      "WARNING:datajoint:Skipped checksum for file with hash: 1e7a2ecf-1cb3-4009-2f3b-1676c35ab8ed, and path: /stelmo/nwb/analysis/Frodo20230815/Frodo20230815_Q85N6001WT.nwb\n"
     ]
    },
    {
     "name": "stdout",
     "output_type": "stream",
     "text": [
      "Fast Gamma 65-100 Hz Frodo20230815_.nwb pos 1 valid times 5aac6b87-bcfc-46bb-d4e2-ba1922835fad\n"
     ]
    },
    {
     "name": "stderr",
     "output_type": "stream",
     "text": [
      "[2023-12-06 09:15:38,991][WARNING]: Skipped checksum for file with hash: ef941b32-6c7d-6c44-cdee-bc3568ff6bea, and path: /stelmo/nwb/analysis/Frodo20230815/Frodo20230815_IKJCPDE868.nwb\n",
      "WARNING:datajoint:Skipped checksum for file with hash: ef941b32-6c7d-6c44-cdee-bc3568ff6bea, and path: /stelmo/nwb/analysis/Frodo20230815/Frodo20230815_IKJCPDE868.nwb\n"
     ]
    },
    {
     "name": "stdout",
     "output_type": "stream",
     "text": [
      "Slow Gamma 25-55 Hz Frodo20230815_.nwb pos 2 valid times fd9ad036-28d3-b015-8852-fe58b5ff5740\n"
     ]
    },
    {
     "name": "stderr",
     "output_type": "stream",
     "text": [
      "[2023-12-06 09:15:40,790][WARNING]: Skipped checksum for file with hash: ef941b32-6c7d-6c44-cdee-bc3568ff6bea, and path: /stelmo/nwb/analysis/Frodo20230815/Frodo20230815_IKJCPDE868.nwb\n",
      "WARNING:datajoint:Skipped checksum for file with hash: ef941b32-6c7d-6c44-cdee-bc3568ff6bea, and path: /stelmo/nwb/analysis/Frodo20230815/Frodo20230815_IKJCPDE868.nwb\n"
     ]
    },
    {
     "name": "stdout",
     "output_type": "stream",
     "text": [
      "Fast Gamma 65-100 Hz Frodo20230815_.nwb pos 2 valid times fd9ad036-28d3-b015-8852-fe58b5ff5740\n"
     ]
    },
    {
     "name": "stderr",
     "output_type": "stream",
     "text": [
      "[2023-12-06 09:15:41,530][WARNING]: Skipped checksum for file with hash: 0039452d-35a2-caf6-b17b-f7ee28d94294, and path: /stelmo/nwb/analysis/Frodo20230815/Frodo20230815_O6Y4E6FG7K.nwb\n",
      "WARNING:datajoint:Skipped checksum for file with hash: 0039452d-35a2-caf6-b17b-f7ee28d94294, and path: /stelmo/nwb/analysis/Frodo20230815/Frodo20230815_O6Y4E6FG7K.nwb\n"
     ]
    },
    {
     "name": "stdout",
     "output_type": "stream",
     "text": [
      "Slow Gamma 25-55 Hz Frodo20230815_.nwb pos 3 valid times a2a74459-4908-b5c9-5cb8-6e14c29c11e0\n"
     ]
    },
    {
     "name": "stderr",
     "output_type": "stream",
     "text": [
      "[2023-12-06 09:15:43,261][WARNING]: Skipped checksum for file with hash: 0039452d-35a2-caf6-b17b-f7ee28d94294, and path: /stelmo/nwb/analysis/Frodo20230815/Frodo20230815_O6Y4E6FG7K.nwb\n",
      "WARNING:datajoint:Skipped checksum for file with hash: 0039452d-35a2-caf6-b17b-f7ee28d94294, and path: /stelmo/nwb/analysis/Frodo20230815/Frodo20230815_O6Y4E6FG7K.nwb\n"
     ]
    },
    {
     "name": "stdout",
     "output_type": "stream",
     "text": [
      "Fast Gamma 65-100 Hz Frodo20230815_.nwb pos 3 valid times a2a74459-4908-b5c9-5cb8-6e14c29c11e0\n"
     ]
    },
    {
     "name": "stderr",
     "output_type": "stream",
     "text": [
      "[2023-12-06 09:15:44,000][WARNING]: Skipped checksum for file with hash: 1fb9a1be-6651-0da7-1ee1-1f978818a43f, and path: /stelmo/nwb/analysis/Frodo20230815/Frodo20230815_TLW8LCOE2Q.nwb\n",
      "WARNING:datajoint:Skipped checksum for file with hash: 1fb9a1be-6651-0da7-1ee1-1f978818a43f, and path: /stelmo/nwb/analysis/Frodo20230815/Frodo20230815_TLW8LCOE2Q.nwb\n"
     ]
    },
    {
     "name": "stdout",
     "output_type": "stream",
     "text": [
      "Slow Gamma 25-55 Hz Frodo20230815_.nwb pos 4 valid times c3963fd9-cf34-0abe-5264-746f5dbb33b3\n"
     ]
    },
    {
     "name": "stderr",
     "output_type": "stream",
     "text": [
      "[2023-12-06 09:15:45,670][WARNING]: Skipped checksum for file with hash: 1fb9a1be-6651-0da7-1ee1-1f978818a43f, and path: /stelmo/nwb/analysis/Frodo20230815/Frodo20230815_TLW8LCOE2Q.nwb\n",
      "WARNING:datajoint:Skipped checksum for file with hash: 1fb9a1be-6651-0da7-1ee1-1f978818a43f, and path: /stelmo/nwb/analysis/Frodo20230815/Frodo20230815_TLW8LCOE2Q.nwb\n"
     ]
    },
    {
     "name": "stdout",
     "output_type": "stream",
     "text": [
      "Fast Gamma 65-100 Hz Frodo20230815_.nwb pos 4 valid times c3963fd9-cf34-0abe-5264-746f5dbb33b3\n"
     ]
    },
    {
     "name": "stderr",
     "output_type": "stream",
     "text": [
      "[2023-12-06 09:15:46,415][WARNING]: Skipped checksum for file with hash: 25703ed5-c0c8-808e-06ba-8692c76aa3d3, and path: /stelmo/nwb/analysis/Frodo20230815/Frodo20230815_RM18PVGTJL.nwb\n",
      "WARNING:datajoint:Skipped checksum for file with hash: 25703ed5-c0c8-808e-06ba-8692c76aa3d3, and path: /stelmo/nwb/analysis/Frodo20230815/Frodo20230815_RM18PVGTJL.nwb\n"
     ]
    },
    {
     "name": "stdout",
     "output_type": "stream",
     "text": [
      "Slow Gamma 25-55 Hz Frodo20230815_.nwb pos 5 valid times 3dd92f27-e1bb-8278-3b36-50c0ec6bd096\n"
     ]
    },
    {
     "name": "stderr",
     "output_type": "stream",
     "text": [
      "[2023-12-06 09:15:48,127][WARNING]: Skipped checksum for file with hash: 25703ed5-c0c8-808e-06ba-8692c76aa3d3, and path: /stelmo/nwb/analysis/Frodo20230815/Frodo20230815_RM18PVGTJL.nwb\n",
      "WARNING:datajoint:Skipped checksum for file with hash: 25703ed5-c0c8-808e-06ba-8692c76aa3d3, and path: /stelmo/nwb/analysis/Frodo20230815/Frodo20230815_RM18PVGTJL.nwb\n"
     ]
    },
    {
     "name": "stdout",
     "output_type": "stream",
     "text": [
      "Fast Gamma 65-100 Hz Frodo20230815_.nwb pos 5 valid times 3dd92f27-e1bb-8278-3b36-50c0ec6bd096\n"
     ]
    },
    {
     "name": "stderr",
     "output_type": "stream",
     "text": [
      "[2023-12-06 09:15:48,946][WARNING]: Skipped checksum for file with hash: 33cfe011-5a52-131d-0af4-27cdcadf007b, and path: /stelmo/nwb/analysis/Frodo20230815/Frodo20230815_MWDMLZPMFL.nwb\n",
      "WARNING:datajoint:Skipped checksum for file with hash: 33cfe011-5a52-131d-0af4-27cdcadf007b, and path: /stelmo/nwb/analysis/Frodo20230815/Frodo20230815_MWDMLZPMFL.nwb\n"
     ]
    },
    {
     "name": "stdout",
     "output_type": "stream",
     "text": [
      "Slow Gamma 25-55 Hz Frodo20230815_.nwb pos 6 valid times e92a5881-ec66-e309-b7cc-aa9f848b18ee\n"
     ]
    },
    {
     "name": "stderr",
     "output_type": "stream",
     "text": [
      "[2023-12-06 09:15:50,732][WARNING]: Skipped checksum for file with hash: 33cfe011-5a52-131d-0af4-27cdcadf007b, and path: /stelmo/nwb/analysis/Frodo20230815/Frodo20230815_MWDMLZPMFL.nwb\n",
      "WARNING:datajoint:Skipped checksum for file with hash: 33cfe011-5a52-131d-0af4-27cdcadf007b, and path: /stelmo/nwb/analysis/Frodo20230815/Frodo20230815_MWDMLZPMFL.nwb\n"
     ]
    },
    {
     "name": "stdout",
     "output_type": "stream",
     "text": [
      "Fast Gamma 65-100 Hz Frodo20230815_.nwb pos 6 valid times e92a5881-ec66-e309-b7cc-aa9f848b18ee\n"
     ]
    },
    {
     "name": "stderr",
     "output_type": "stream",
     "text": [
      "[2023-12-06 09:15:51,456][WARNING]: Skipped checksum for file with hash: b1a7e919-4076-012d-556a-8437088e4fb1, and path: /stelmo/nwb/analysis/Frodo20230815/Frodo20230815_VMB98GVGS0.nwb\n",
      "WARNING:datajoint:Skipped checksum for file with hash: b1a7e919-4076-012d-556a-8437088e4fb1, and path: /stelmo/nwb/analysis/Frodo20230815/Frodo20230815_VMB98GVGS0.nwb\n"
     ]
    },
    {
     "name": "stdout",
     "output_type": "stream",
     "text": [
      "Slow Gamma 25-55 Hz Frodo20230815_.nwb pos 7 valid times acf61f81-698b-7861-0bc3-da18076731bf\n"
     ]
    },
    {
     "name": "stderr",
     "output_type": "stream",
     "text": [
      "[2023-12-06 09:15:53,161][WARNING]: Skipped checksum for file with hash: b1a7e919-4076-012d-556a-8437088e4fb1, and path: /stelmo/nwb/analysis/Frodo20230815/Frodo20230815_VMB98GVGS0.nwb\n",
      "WARNING:datajoint:Skipped checksum for file with hash: b1a7e919-4076-012d-556a-8437088e4fb1, and path: /stelmo/nwb/analysis/Frodo20230815/Frodo20230815_VMB98GVGS0.nwb\n"
     ]
    },
    {
     "name": "stdout",
     "output_type": "stream",
     "text": [
      "Fast Gamma 65-100 Hz Frodo20230815_.nwb pos 7 valid times acf61f81-698b-7861-0bc3-da18076731bf\n"
     ]
    },
    {
     "name": "stderr",
     "output_type": "stream",
     "text": [
      "[2023-12-06 09:15:53,965][WARNING]: Skipped checksum for file with hash: c90689e1-882f-1cd5-20f8-3fc671abd7ee, and path: /stelmo/nwb/analysis/Frodo20230815/Frodo20230815_S1H7SHVP1U.nwb\n",
      "WARNING:datajoint:Skipped checksum for file with hash: c90689e1-882f-1cd5-20f8-3fc671abd7ee, and path: /stelmo/nwb/analysis/Frodo20230815/Frodo20230815_S1H7SHVP1U.nwb\n"
     ]
    },
    {
     "name": "stdout",
     "output_type": "stream",
     "text": [
      "Slow Gamma 25-55 Hz Frodo20230815_.nwb pos 8 valid times 7adab894-6bce-4785-1c90-4881bc75aecf\n"
     ]
    },
    {
     "name": "stderr",
     "output_type": "stream",
     "text": [
      "[2023-12-06 09:15:55,729][WARNING]: Skipped checksum for file with hash: c90689e1-882f-1cd5-20f8-3fc671abd7ee, and path: /stelmo/nwb/analysis/Frodo20230815/Frodo20230815_S1H7SHVP1U.nwb\n",
      "WARNING:datajoint:Skipped checksum for file with hash: c90689e1-882f-1cd5-20f8-3fc671abd7ee, and path: /stelmo/nwb/analysis/Frodo20230815/Frodo20230815_S1H7SHVP1U.nwb\n"
     ]
    },
    {
     "name": "stdout",
     "output_type": "stream",
     "text": [
      "Fast Gamma 65-100 Hz Frodo20230815_.nwb pos 8 valid times 7adab894-6bce-4785-1c90-4881bc75aecf\n"
     ]
    },
    {
     "name": "stderr",
     "output_type": "stream",
     "text": [
      "[2023-12-06 09:15:56,474][WARNING]: Skipped checksum for file with hash: 6ca47926-8ed7-aefd-ee3e-3f99c1090486, and path: /stelmo/nwb/analysis/Frodo20230816/Frodo20230816_OQ5PCWK0WT.nwb\n",
      "WARNING:datajoint:Skipped checksum for file with hash: 6ca47926-8ed7-aefd-ee3e-3f99c1090486, and path: /stelmo/nwb/analysis/Frodo20230816/Frodo20230816_OQ5PCWK0WT.nwb\n"
     ]
    },
    {
     "name": "stdout",
     "output_type": "stream",
     "text": [
      "Slow Gamma 25-55 Hz Frodo20230816_.nwb pos 0 valid times 0b3fbbe1-b599-30b3-79fb-196bb87b1440\n"
     ]
    },
    {
     "name": "stderr",
     "output_type": "stream",
     "text": [
      "[2023-12-06 09:15:58,189][WARNING]: Skipped checksum for file with hash: 6ca47926-8ed7-aefd-ee3e-3f99c1090486, and path: /stelmo/nwb/analysis/Frodo20230816/Frodo20230816_OQ5PCWK0WT.nwb\n",
      "WARNING:datajoint:Skipped checksum for file with hash: 6ca47926-8ed7-aefd-ee3e-3f99c1090486, and path: /stelmo/nwb/analysis/Frodo20230816/Frodo20230816_OQ5PCWK0WT.nwb\n"
     ]
    },
    {
     "name": "stdout",
     "output_type": "stream",
     "text": [
      "Fast Gamma 65-100 Hz Frodo20230816_.nwb pos 0 valid times 0b3fbbe1-b599-30b3-79fb-196bb87b1440\n"
     ]
    },
    {
     "name": "stderr",
     "output_type": "stream",
     "text": [
      "[2023-12-06 09:15:58,932][WARNING]: Skipped checksum for file with hash: 583856f3-2663-4e26-b6da-ae15e795bc97, and path: /stelmo/nwb/analysis/Frodo20230816/Frodo20230816_B8H25W50RV.nwb\n",
      "WARNING:datajoint:Skipped checksum for file with hash: 583856f3-2663-4e26-b6da-ae15e795bc97, and path: /stelmo/nwb/analysis/Frodo20230816/Frodo20230816_B8H25W50RV.nwb\n"
     ]
    },
    {
     "name": "stdout",
     "output_type": "stream",
     "text": [
      "Slow Gamma 25-55 Hz Frodo20230816_.nwb pos 1 valid times 549f0b0e-febf-6855-98b7-97044ef3ddd6\n"
     ]
    },
    {
     "name": "stderr",
     "output_type": "stream",
     "text": [
      "[2023-12-06 09:16:00,618][WARNING]: Skipped checksum for file with hash: 583856f3-2663-4e26-b6da-ae15e795bc97, and path: /stelmo/nwb/analysis/Frodo20230816/Frodo20230816_B8H25W50RV.nwb\n",
      "WARNING:datajoint:Skipped checksum for file with hash: 583856f3-2663-4e26-b6da-ae15e795bc97, and path: /stelmo/nwb/analysis/Frodo20230816/Frodo20230816_B8H25W50RV.nwb\n"
     ]
    },
    {
     "name": "stdout",
     "output_type": "stream",
     "text": [
      "Fast Gamma 65-100 Hz Frodo20230816_.nwb pos 1 valid times 549f0b0e-febf-6855-98b7-97044ef3ddd6\n"
     ]
    },
    {
     "name": "stderr",
     "output_type": "stream",
     "text": [
      "[2023-12-06 09:16:01,368][WARNING]: Skipped checksum for file with hash: 6ca8fea1-de3f-f90a-307f-1690f621bcbc, and path: /stelmo/nwb/analysis/Frodo20230816/Frodo20230816_YAZM8UOVVB.nwb\n",
      "WARNING:datajoint:Skipped checksum for file with hash: 6ca8fea1-de3f-f90a-307f-1690f621bcbc, and path: /stelmo/nwb/analysis/Frodo20230816/Frodo20230816_YAZM8UOVVB.nwb\n"
     ]
    },
    {
     "name": "stdout",
     "output_type": "stream",
     "text": [
      "Slow Gamma 25-55 Hz Frodo20230816_.nwb pos 2 valid times ddd0f43f-b039-a99a-8862-0a396ef2d1a9\n"
     ]
    },
    {
     "name": "stderr",
     "output_type": "stream",
     "text": [
      "[2023-12-06 09:16:03,089][WARNING]: Skipped checksum for file with hash: 6ca8fea1-de3f-f90a-307f-1690f621bcbc, and path: /stelmo/nwb/analysis/Frodo20230816/Frodo20230816_YAZM8UOVVB.nwb\n",
      "WARNING:datajoint:Skipped checksum for file with hash: 6ca8fea1-de3f-f90a-307f-1690f621bcbc, and path: /stelmo/nwb/analysis/Frodo20230816/Frodo20230816_YAZM8UOVVB.nwb\n"
     ]
    },
    {
     "name": "stdout",
     "output_type": "stream",
     "text": [
      "Fast Gamma 65-100 Hz Frodo20230816_.nwb pos 2 valid times ddd0f43f-b039-a99a-8862-0a396ef2d1a9\n"
     ]
    },
    {
     "name": "stderr",
     "output_type": "stream",
     "text": [
      "[2023-12-06 09:16:03,916][WARNING]: Skipped checksum for file with hash: 69d27d6f-a1c9-8ebc-9cc0-c90a76c71b7d, and path: /stelmo/nwb/analysis/Frodo20230816/Frodo20230816_4N66UADZ5M.nwb\n",
      "WARNING:datajoint:Skipped checksum for file with hash: 69d27d6f-a1c9-8ebc-9cc0-c90a76c71b7d, and path: /stelmo/nwb/analysis/Frodo20230816/Frodo20230816_4N66UADZ5M.nwb\n"
     ]
    },
    {
     "name": "stdout",
     "output_type": "stream",
     "text": [
      "Slow Gamma 25-55 Hz Frodo20230816_.nwb pos 3 valid times bd843292-e447-7196-f29c-54513dfcdef9\n"
     ]
    },
    {
     "name": "stderr",
     "output_type": "stream",
     "text": [
      "[2023-12-06 09:16:05,633][WARNING]: Skipped checksum for file with hash: 69d27d6f-a1c9-8ebc-9cc0-c90a76c71b7d, and path: /stelmo/nwb/analysis/Frodo20230816/Frodo20230816_4N66UADZ5M.nwb\n",
      "WARNING:datajoint:Skipped checksum for file with hash: 69d27d6f-a1c9-8ebc-9cc0-c90a76c71b7d, and path: /stelmo/nwb/analysis/Frodo20230816/Frodo20230816_4N66UADZ5M.nwb\n"
     ]
    },
    {
     "name": "stdout",
     "output_type": "stream",
     "text": [
      "Fast Gamma 65-100 Hz Frodo20230816_.nwb pos 3 valid times bd843292-e447-7196-f29c-54513dfcdef9\n"
     ]
    },
    {
     "name": "stderr",
     "output_type": "stream",
     "text": [
      "[2023-12-06 09:16:06,381][WARNING]: Skipped checksum for file with hash: 03d7f95c-63b8-1c4a-b940-b1638e0fe6c5, and path: /stelmo/nwb/analysis/Frodo20230816/Frodo20230816_KXWFODF4R0.nwb\n",
      "WARNING:datajoint:Skipped checksum for file with hash: 03d7f95c-63b8-1c4a-b940-b1638e0fe6c5, and path: /stelmo/nwb/analysis/Frodo20230816/Frodo20230816_KXWFODF4R0.nwb\n"
     ]
    },
    {
     "name": "stdout",
     "output_type": "stream",
     "text": [
      "Slow Gamma 25-55 Hz Frodo20230816_.nwb pos 4 valid times 9f9e2abb-f3de-d6b0-4dee-55733e83c788\n"
     ]
    },
    {
     "name": "stderr",
     "output_type": "stream",
     "text": [
      "[2023-12-06 09:16:08,069][WARNING]: Skipped checksum for file with hash: 03d7f95c-63b8-1c4a-b940-b1638e0fe6c5, and path: /stelmo/nwb/analysis/Frodo20230816/Frodo20230816_KXWFODF4R0.nwb\n",
      "WARNING:datajoint:Skipped checksum for file with hash: 03d7f95c-63b8-1c4a-b940-b1638e0fe6c5, and path: /stelmo/nwb/analysis/Frodo20230816/Frodo20230816_KXWFODF4R0.nwb\n"
     ]
    },
    {
     "name": "stdout",
     "output_type": "stream",
     "text": [
      "Fast Gamma 65-100 Hz Frodo20230816_.nwb pos 4 valid times 9f9e2abb-f3de-d6b0-4dee-55733e83c788\n"
     ]
    },
    {
     "name": "stderr",
     "output_type": "stream",
     "text": [
      "[2023-12-06 09:16:08,858][WARNING]: Skipped checksum for file with hash: 0bac15c3-1a45-7bf4-69e3-ffead805e501, and path: /stelmo/nwb/analysis/Bilbo20230722/Bilbo20230722_1HWPR2IJ60.nwb\n",
      "WARNING:datajoint:Skipped checksum for file with hash: 0bac15c3-1a45-7bf4-69e3-ffead805e501, and path: /stelmo/nwb/analysis/Bilbo20230722/Bilbo20230722_1HWPR2IJ60.nwb\n"
     ]
    },
    {
     "name": "stdout",
     "output_type": "stream",
     "text": [
      "Slow Gamma 25-55 Hz Bilbo20230722_.nwb pos 0 valid times 3e09f534-ad47-ece3-e2bf-2ce0a7378a0d\n"
     ]
    },
    {
     "name": "stderr",
     "output_type": "stream",
     "text": [
      "[2023-12-06 09:16:10,513][WARNING]: Skipped checksum for file with hash: 0bac15c3-1a45-7bf4-69e3-ffead805e501, and path: /stelmo/nwb/analysis/Bilbo20230722/Bilbo20230722_1HWPR2IJ60.nwb\n",
      "WARNING:datajoint:Skipped checksum for file with hash: 0bac15c3-1a45-7bf4-69e3-ffead805e501, and path: /stelmo/nwb/analysis/Bilbo20230722/Bilbo20230722_1HWPR2IJ60.nwb\n"
     ]
    },
    {
     "name": "stdout",
     "output_type": "stream",
     "text": [
      "Fast Gamma 65-100 Hz Bilbo20230722_.nwb pos 0 valid times 3e09f534-ad47-ece3-e2bf-2ce0a7378a0d\n"
     ]
    },
    {
     "name": "stderr",
     "output_type": "stream",
     "text": [
      "[2023-12-06 09:16:11,195][WARNING]: Skipped checksum for file with hash: 355a8735-eb4f-285a-7a76-69ac041c07c0, and path: /stelmo/nwb/analysis/Bilbo20230722/Bilbo20230722_H5B6QMI88O.nwb\n",
      "WARNING:datajoint:Skipped checksum for file with hash: 355a8735-eb4f-285a-7a76-69ac041c07c0, and path: /stelmo/nwb/analysis/Bilbo20230722/Bilbo20230722_H5B6QMI88O.nwb\n"
     ]
    },
    {
     "name": "stdout",
     "output_type": "stream",
     "text": [
      "Slow Gamma 25-55 Hz Bilbo20230722_.nwb pos 1 valid times 63d1891f-8a14-cbcf-d023-607140e97ea2\n"
     ]
    },
    {
     "name": "stderr",
     "output_type": "stream",
     "text": [
      "[2023-12-06 09:16:12,836][WARNING]: Skipped checksum for file with hash: 355a8735-eb4f-285a-7a76-69ac041c07c0, and path: /stelmo/nwb/analysis/Bilbo20230722/Bilbo20230722_H5B6QMI88O.nwb\n",
      "WARNING:datajoint:Skipped checksum for file with hash: 355a8735-eb4f-285a-7a76-69ac041c07c0, and path: /stelmo/nwb/analysis/Bilbo20230722/Bilbo20230722_H5B6QMI88O.nwb\n"
     ]
    },
    {
     "name": "stdout",
     "output_type": "stream",
     "text": [
      "Fast Gamma 65-100 Hz Bilbo20230722_.nwb pos 1 valid times 63d1891f-8a14-cbcf-d023-607140e97ea2\n"
     ]
    },
    {
     "name": "stderr",
     "output_type": "stream",
     "text": [
      "[2023-12-06 09:16:13,488][WARNING]: Skipped checksum for file with hash: 0797f06e-5cde-e05d-fa1e-8189f144bcf4, and path: /stelmo/nwb/analysis/Bilbo20230722/Bilbo20230722_0YO1WQQAXW.nwb\n",
      "WARNING:datajoint:Skipped checksum for file with hash: 0797f06e-5cde-e05d-fa1e-8189f144bcf4, and path: /stelmo/nwb/analysis/Bilbo20230722/Bilbo20230722_0YO1WQQAXW.nwb\n"
     ]
    },
    {
     "name": "stdout",
     "output_type": "stream",
     "text": [
      "Slow Gamma 25-55 Hz Bilbo20230722_.nwb pos 2 valid times c9f584fa-4af6-06e8-268c-7c21f70a5c87\n"
     ]
    },
    {
     "name": "stderr",
     "output_type": "stream",
     "text": [
      "[2023-12-06 09:16:15,137][WARNING]: Skipped checksum for file with hash: 0797f06e-5cde-e05d-fa1e-8189f144bcf4, and path: /stelmo/nwb/analysis/Bilbo20230722/Bilbo20230722_0YO1WQQAXW.nwb\n",
      "WARNING:datajoint:Skipped checksum for file with hash: 0797f06e-5cde-e05d-fa1e-8189f144bcf4, and path: /stelmo/nwb/analysis/Bilbo20230722/Bilbo20230722_0YO1WQQAXW.nwb\n"
     ]
    },
    {
     "name": "stdout",
     "output_type": "stream",
     "text": [
      "Fast Gamma 65-100 Hz Bilbo20230722_.nwb pos 2 valid times c9f584fa-4af6-06e8-268c-7c21f70a5c87\n"
     ]
    },
    {
     "name": "stderr",
     "output_type": "stream",
     "text": [
      "[2023-12-06 09:16:15,813][WARNING]: Skipped checksum for file with hash: 1b34fa4d-4bbe-c803-9111-922eeea71f05, and path: /stelmo/nwb/analysis/Bilbo20230722/Bilbo20230722_N7ZT1TTGNR.nwb\n",
      "WARNING:datajoint:Skipped checksum for file with hash: 1b34fa4d-4bbe-c803-9111-922eeea71f05, and path: /stelmo/nwb/analysis/Bilbo20230722/Bilbo20230722_N7ZT1TTGNR.nwb\n"
     ]
    },
    {
     "name": "stdout",
     "output_type": "stream",
     "text": [
      "Slow Gamma 25-55 Hz Bilbo20230722_.nwb pos 3 valid times f2b7cd0d-8e91-7683-8e0f-7f459be10265\n"
     ]
    },
    {
     "name": "stderr",
     "output_type": "stream",
     "text": [
      "[2023-12-06 09:16:17,523][WARNING]: Skipped checksum for file with hash: 1b34fa4d-4bbe-c803-9111-922eeea71f05, and path: /stelmo/nwb/analysis/Bilbo20230722/Bilbo20230722_N7ZT1TTGNR.nwb\n",
      "WARNING:datajoint:Skipped checksum for file with hash: 1b34fa4d-4bbe-c803-9111-922eeea71f05, and path: /stelmo/nwb/analysis/Bilbo20230722/Bilbo20230722_N7ZT1TTGNR.nwb\n"
     ]
    },
    {
     "name": "stdout",
     "output_type": "stream",
     "text": [
      "Fast Gamma 65-100 Hz Bilbo20230722_.nwb pos 3 valid times f2b7cd0d-8e91-7683-8e0f-7f459be10265\n"
     ]
    },
    {
     "name": "stderr",
     "output_type": "stream",
     "text": [
      "[2023-12-06 09:16:18,202][WARNING]: Skipped checksum for file with hash: 33e30388-e869-0e5f-208f-f256d1404c46, and path: /stelmo/nwb/analysis/Bilbo20230722/Bilbo20230722_PH9YU7CM0C.nwb\n",
      "WARNING:datajoint:Skipped checksum for file with hash: 33e30388-e869-0e5f-208f-f256d1404c46, and path: /stelmo/nwb/analysis/Bilbo20230722/Bilbo20230722_PH9YU7CM0C.nwb\n"
     ]
    },
    {
     "name": "stdout",
     "output_type": "stream",
     "text": [
      "Slow Gamma 25-55 Hz Bilbo20230722_.nwb pos 4 valid times 1a3a2b92-2a2e-b7c8-f955-a78a55285848\n"
     ]
    },
    {
     "name": "stderr",
     "output_type": "stream",
     "text": [
      "[2023-12-06 09:16:19,797][WARNING]: Skipped checksum for file with hash: 33e30388-e869-0e5f-208f-f256d1404c46, and path: /stelmo/nwb/analysis/Bilbo20230722/Bilbo20230722_PH9YU7CM0C.nwb\n",
      "WARNING:datajoint:Skipped checksum for file with hash: 33e30388-e869-0e5f-208f-f256d1404c46, and path: /stelmo/nwb/analysis/Bilbo20230722/Bilbo20230722_PH9YU7CM0C.nwb\n"
     ]
    },
    {
     "name": "stdout",
     "output_type": "stream",
     "text": [
      "Fast Gamma 65-100 Hz Bilbo20230722_.nwb pos 4 valid times 1a3a2b92-2a2e-b7c8-f955-a78a55285848\n"
     ]
    },
    {
     "name": "stderr",
     "output_type": "stream",
     "text": [
      "[2023-12-06 09:16:20,474][WARNING]: Skipped checksum for file with hash: acbb874c-c8b2-146f-9ffa-b4ff7cc85e96, and path: /stelmo/nwb/analysis/Bilbo20230724/Bilbo20230724_DOMW7W08S5.nwb\n",
      "WARNING:datajoint:Skipped checksum for file with hash: acbb874c-c8b2-146f-9ffa-b4ff7cc85e96, and path: /stelmo/nwb/analysis/Bilbo20230724/Bilbo20230724_DOMW7W08S5.nwb\n"
     ]
    },
    {
     "name": "stdout",
     "output_type": "stream",
     "text": [
      "Slow Gamma 25-55 Hz Bilbo20230724_.nwb pos 0 valid times 21c82552-ee81-5375-ae74-595e2871074b\n"
     ]
    },
    {
     "name": "stderr",
     "output_type": "stream",
     "text": [
      "[2023-12-06 09:16:22,179][WARNING]: Skipped checksum for file with hash: acbb874c-c8b2-146f-9ffa-b4ff7cc85e96, and path: /stelmo/nwb/analysis/Bilbo20230724/Bilbo20230724_DOMW7W08S5.nwb\n",
      "WARNING:datajoint:Skipped checksum for file with hash: acbb874c-c8b2-146f-9ffa-b4ff7cc85e96, and path: /stelmo/nwb/analysis/Bilbo20230724/Bilbo20230724_DOMW7W08S5.nwb\n"
     ]
    },
    {
     "name": "stdout",
     "output_type": "stream",
     "text": [
      "Fast Gamma 65-100 Hz Bilbo20230724_.nwb pos 0 valid times 21c82552-ee81-5375-ae74-595e2871074b\n"
     ]
    },
    {
     "name": "stderr",
     "output_type": "stream",
     "text": [
      "[2023-12-06 09:16:22,844][WARNING]: Skipped checksum for file with hash: f141c32d-ee49-cc7c-8457-a24b7d5d9ba6, and path: /stelmo/nwb/analysis/Bilbo20230724/Bilbo20230724_WJEUL6PUPL.nwb\n",
      "WARNING:datajoint:Skipped checksum for file with hash: f141c32d-ee49-cc7c-8457-a24b7d5d9ba6, and path: /stelmo/nwb/analysis/Bilbo20230724/Bilbo20230724_WJEUL6PUPL.nwb\n"
     ]
    },
    {
     "name": "stdout",
     "output_type": "stream",
     "text": [
      "Slow Gamma 25-55 Hz Bilbo20230724_.nwb pos 1 valid times 338c4449-bf25-1501-4a14-24b33af894fd\n"
     ]
    },
    {
     "name": "stderr",
     "output_type": "stream",
     "text": [
      "[2023-12-06 09:16:24,520][WARNING]: Skipped checksum for file with hash: f141c32d-ee49-cc7c-8457-a24b7d5d9ba6, and path: /stelmo/nwb/analysis/Bilbo20230724/Bilbo20230724_WJEUL6PUPL.nwb\n",
      "WARNING:datajoint:Skipped checksum for file with hash: f141c32d-ee49-cc7c-8457-a24b7d5d9ba6, and path: /stelmo/nwb/analysis/Bilbo20230724/Bilbo20230724_WJEUL6PUPL.nwb\n"
     ]
    },
    {
     "name": "stdout",
     "output_type": "stream",
     "text": [
      "Fast Gamma 65-100 Hz Bilbo20230724_.nwb pos 1 valid times 338c4449-bf25-1501-4a14-24b33af894fd\n"
     ]
    },
    {
     "name": "stderr",
     "output_type": "stream",
     "text": [
      "[2023-12-06 09:16:25,166][WARNING]: Skipped checksum for file with hash: bd4abba8-53e6-e24c-54d3-7200cd8a8b47, and path: /stelmo/nwb/analysis/Bilbo20230724/Bilbo20230724_EOIQH0YK9H.nwb\n",
      "WARNING:datajoint:Skipped checksum for file with hash: bd4abba8-53e6-e24c-54d3-7200cd8a8b47, and path: /stelmo/nwb/analysis/Bilbo20230724/Bilbo20230724_EOIQH0YK9H.nwb\n"
     ]
    },
    {
     "name": "stdout",
     "output_type": "stream",
     "text": [
      "Slow Gamma 25-55 Hz Bilbo20230724_.nwb pos 10 valid times c2590777-c9fe-732c-901a-f29811b63eae\n"
     ]
    },
    {
     "name": "stderr",
     "output_type": "stream",
     "text": [
      "[2023-12-06 09:16:26,813][WARNING]: Skipped checksum for file with hash: bd4abba8-53e6-e24c-54d3-7200cd8a8b47, and path: /stelmo/nwb/analysis/Bilbo20230724/Bilbo20230724_EOIQH0YK9H.nwb\n",
      "WARNING:datajoint:Skipped checksum for file with hash: bd4abba8-53e6-e24c-54d3-7200cd8a8b47, and path: /stelmo/nwb/analysis/Bilbo20230724/Bilbo20230724_EOIQH0YK9H.nwb\n"
     ]
    },
    {
     "name": "stdout",
     "output_type": "stream",
     "text": [
      "Fast Gamma 65-100 Hz Bilbo20230724_.nwb pos 10 valid times c2590777-c9fe-732c-901a-f29811b63eae\n"
     ]
    },
    {
     "name": "stderr",
     "output_type": "stream",
     "text": [
      "[2023-12-06 09:16:27,465][WARNING]: Skipped checksum for file with hash: c801ec93-e6eb-9b40-526a-8359d397bbff, and path: /stelmo/nwb/analysis/Bilbo20230724/Bilbo20230724_ET6CVP9K6E.nwb\n",
      "WARNING:datajoint:Skipped checksum for file with hash: c801ec93-e6eb-9b40-526a-8359d397bbff, and path: /stelmo/nwb/analysis/Bilbo20230724/Bilbo20230724_ET6CVP9K6E.nwb\n"
     ]
    },
    {
     "name": "stdout",
     "output_type": "stream",
     "text": [
      "Slow Gamma 25-55 Hz Bilbo20230724_.nwb pos 11 valid times 5d42d8ea-4af4-e39f-ea6b-41996f378e48\n"
     ]
    },
    {
     "name": "stderr",
     "output_type": "stream",
     "text": [
      "[2023-12-06 09:16:29,100][WARNING]: Skipped checksum for file with hash: c801ec93-e6eb-9b40-526a-8359d397bbff, and path: /stelmo/nwb/analysis/Bilbo20230724/Bilbo20230724_ET6CVP9K6E.nwb\n",
      "WARNING:datajoint:Skipped checksum for file with hash: c801ec93-e6eb-9b40-526a-8359d397bbff, and path: /stelmo/nwb/analysis/Bilbo20230724/Bilbo20230724_ET6CVP9K6E.nwb\n"
     ]
    },
    {
     "name": "stdout",
     "output_type": "stream",
     "text": [
      "Fast Gamma 65-100 Hz Bilbo20230724_.nwb pos 11 valid times 5d42d8ea-4af4-e39f-ea6b-41996f378e48\n"
     ]
    },
    {
     "name": "stderr",
     "output_type": "stream",
     "text": [
      "[2023-12-06 09:16:29,797][WARNING]: Skipped checksum for file with hash: 6e53ecfc-57c2-31ec-1a83-9ae6ed4a2280, and path: /stelmo/nwb/analysis/Bilbo20230724/Bilbo20230724_RIU84L3NZN.nwb\n",
      "WARNING:datajoint:Skipped checksum for file with hash: 6e53ecfc-57c2-31ec-1a83-9ae6ed4a2280, and path: /stelmo/nwb/analysis/Bilbo20230724/Bilbo20230724_RIU84L3NZN.nwb\n"
     ]
    },
    {
     "name": "stdout",
     "output_type": "stream",
     "text": [
      "Slow Gamma 25-55 Hz Bilbo20230724_.nwb pos 12 valid times 62586939-5e83-caa0-2269-ce005f025f9e\n"
     ]
    },
    {
     "name": "stderr",
     "output_type": "stream",
     "text": [
      "[2023-12-06 09:16:31,495][WARNING]: Skipped checksum for file with hash: 6e53ecfc-57c2-31ec-1a83-9ae6ed4a2280, and path: /stelmo/nwb/analysis/Bilbo20230724/Bilbo20230724_RIU84L3NZN.nwb\n",
      "WARNING:datajoint:Skipped checksum for file with hash: 6e53ecfc-57c2-31ec-1a83-9ae6ed4a2280, and path: /stelmo/nwb/analysis/Bilbo20230724/Bilbo20230724_RIU84L3NZN.nwb\n"
     ]
    },
    {
     "name": "stdout",
     "output_type": "stream",
     "text": [
      "Fast Gamma 65-100 Hz Bilbo20230724_.nwb pos 12 valid times 62586939-5e83-caa0-2269-ce005f025f9e\n"
     ]
    },
    {
     "name": "stderr",
     "output_type": "stream",
     "text": [
      "[2023-12-06 09:16:32,179][WARNING]: Skipped checksum for file with hash: eb1668d0-99aa-7ad5-a8e6-9fe4fcd0fd9b, and path: /stelmo/nwb/analysis/Bilbo20230724/Bilbo20230724_U72ULL7HVN.nwb\n",
      "WARNING:datajoint:Skipped checksum for file with hash: eb1668d0-99aa-7ad5-a8e6-9fe4fcd0fd9b, and path: /stelmo/nwb/analysis/Bilbo20230724/Bilbo20230724_U72ULL7HVN.nwb\n"
     ]
    },
    {
     "name": "stdout",
     "output_type": "stream",
     "text": [
      "Slow Gamma 25-55 Hz Bilbo20230724_.nwb pos 2 valid times 69db74e2-c9e7-fa7f-2d7f-afc4c5b877e0\n"
     ]
    },
    {
     "name": "stderr",
     "output_type": "stream",
     "text": [
      "[2023-12-06 09:16:34,006][WARNING]: Skipped checksum for file with hash: eb1668d0-99aa-7ad5-a8e6-9fe4fcd0fd9b, and path: /stelmo/nwb/analysis/Bilbo20230724/Bilbo20230724_U72ULL7HVN.nwb\n",
      "WARNING:datajoint:Skipped checksum for file with hash: eb1668d0-99aa-7ad5-a8e6-9fe4fcd0fd9b, and path: /stelmo/nwb/analysis/Bilbo20230724/Bilbo20230724_U72ULL7HVN.nwb\n"
     ]
    },
    {
     "name": "stdout",
     "output_type": "stream",
     "text": [
      "Fast Gamma 65-100 Hz Bilbo20230724_.nwb pos 2 valid times 69db74e2-c9e7-fa7f-2d7f-afc4c5b877e0\n"
     ]
    },
    {
     "name": "stderr",
     "output_type": "stream",
     "text": [
      "[2023-12-06 09:16:34,737][WARNING]: Skipped checksum for file with hash: 336178fc-003b-6fbe-9ce8-3011deb6e94c, and path: /stelmo/nwb/analysis/Bilbo20230724/Bilbo20230724_2U8CR1HOB5.nwb\n",
      "WARNING:datajoint:Skipped checksum for file with hash: 336178fc-003b-6fbe-9ce8-3011deb6e94c, and path: /stelmo/nwb/analysis/Bilbo20230724/Bilbo20230724_2U8CR1HOB5.nwb\n"
     ]
    },
    {
     "name": "stdout",
     "output_type": "stream",
     "text": [
      "Slow Gamma 25-55 Hz Bilbo20230724_.nwb pos 3 valid times b015c4ba-f910-2fae-0386-8e6d463f3427\n"
     ]
    },
    {
     "name": "stderr",
     "output_type": "stream",
     "text": [
      "[2023-12-06 09:16:36,386][WARNING]: Skipped checksum for file with hash: 336178fc-003b-6fbe-9ce8-3011deb6e94c, and path: /stelmo/nwb/analysis/Bilbo20230724/Bilbo20230724_2U8CR1HOB5.nwb\n",
      "WARNING:datajoint:Skipped checksum for file with hash: 336178fc-003b-6fbe-9ce8-3011deb6e94c, and path: /stelmo/nwb/analysis/Bilbo20230724/Bilbo20230724_2U8CR1HOB5.nwb\n"
     ]
    },
    {
     "name": "stdout",
     "output_type": "stream",
     "text": [
      "Fast Gamma 65-100 Hz Bilbo20230724_.nwb pos 3 valid times b015c4ba-f910-2fae-0386-8e6d463f3427\n"
     ]
    },
    {
     "name": "stderr",
     "output_type": "stream",
     "text": [
      "[2023-12-06 09:16:37,077][WARNING]: Skipped checksum for file with hash: d186e5c9-413d-723e-58e4-4e8ec3f72e62, and path: /stelmo/nwb/analysis/Bilbo20230724/Bilbo20230724_6NME4B1DHD.nwb\n",
      "WARNING:datajoint:Skipped checksum for file with hash: d186e5c9-413d-723e-58e4-4e8ec3f72e62, and path: /stelmo/nwb/analysis/Bilbo20230724/Bilbo20230724_6NME4B1DHD.nwb\n"
     ]
    },
    {
     "name": "stdout",
     "output_type": "stream",
     "text": [
      "Slow Gamma 25-55 Hz Bilbo20230724_.nwb pos 4 valid times 49c1993b-c674-1a42-5207-353273729e8a\n"
     ]
    },
    {
     "name": "stderr",
     "output_type": "stream",
     "text": [
      "[2023-12-06 09:16:38,741][WARNING]: Skipped checksum for file with hash: d186e5c9-413d-723e-58e4-4e8ec3f72e62, and path: /stelmo/nwb/analysis/Bilbo20230724/Bilbo20230724_6NME4B1DHD.nwb\n",
      "WARNING:datajoint:Skipped checksum for file with hash: d186e5c9-413d-723e-58e4-4e8ec3f72e62, and path: /stelmo/nwb/analysis/Bilbo20230724/Bilbo20230724_6NME4B1DHD.nwb\n"
     ]
    },
    {
     "name": "stdout",
     "output_type": "stream",
     "text": [
      "Fast Gamma 65-100 Hz Bilbo20230724_.nwb pos 4 valid times 49c1993b-c674-1a42-5207-353273729e8a\n"
     ]
    },
    {
     "name": "stderr",
     "output_type": "stream",
     "text": [
      "[2023-12-06 09:16:39,433][WARNING]: Skipped checksum for file with hash: 8314ac33-21c4-d6e4-832a-93643ab2a876, and path: /stelmo/nwb/analysis/Bilbo20230724/Bilbo20230724_D6H1ZCCZ1E.nwb\n",
      "WARNING:datajoint:Skipped checksum for file with hash: 8314ac33-21c4-d6e4-832a-93643ab2a876, and path: /stelmo/nwb/analysis/Bilbo20230724/Bilbo20230724_D6H1ZCCZ1E.nwb\n"
     ]
    },
    {
     "name": "stdout",
     "output_type": "stream",
     "text": [
      "Slow Gamma 25-55 Hz Bilbo20230724_.nwb pos 5 valid times d10a2758-a8e8-b9ce-a62a-98dc04ef89f0\n"
     ]
    },
    {
     "name": "stderr",
     "output_type": "stream",
     "text": [
      "[2023-12-06 09:16:41,044][WARNING]: Skipped checksum for file with hash: 8314ac33-21c4-d6e4-832a-93643ab2a876, and path: /stelmo/nwb/analysis/Bilbo20230724/Bilbo20230724_D6H1ZCCZ1E.nwb\n",
      "WARNING:datajoint:Skipped checksum for file with hash: 8314ac33-21c4-d6e4-832a-93643ab2a876, and path: /stelmo/nwb/analysis/Bilbo20230724/Bilbo20230724_D6H1ZCCZ1E.nwb\n"
     ]
    },
    {
     "name": "stdout",
     "output_type": "stream",
     "text": [
      "Fast Gamma 65-100 Hz Bilbo20230724_.nwb pos 5 valid times d10a2758-a8e8-b9ce-a62a-98dc04ef89f0\n"
     ]
    },
    {
     "name": "stderr",
     "output_type": "stream",
     "text": [
      "[2023-12-06 09:16:41,763][WARNING]: Skipped checksum for file with hash: 6b996562-2810-5263-846d-cd2c7f12750b, and path: /stelmo/nwb/analysis/Bilbo20230724/Bilbo20230724_5Z68P602A2.nwb\n",
      "WARNING:datajoint:Skipped checksum for file with hash: 6b996562-2810-5263-846d-cd2c7f12750b, and path: /stelmo/nwb/analysis/Bilbo20230724/Bilbo20230724_5Z68P602A2.nwb\n"
     ]
    },
    {
     "name": "stdout",
     "output_type": "stream",
     "text": [
      "Slow Gamma 25-55 Hz Bilbo20230724_.nwb pos 6 valid times 3d18d099-7829-b8d8-8b93-f32dfec57115\n"
     ]
    },
    {
     "name": "stderr",
     "output_type": "stream",
     "text": [
      "[2023-12-06 09:16:43,448][WARNING]: Skipped checksum for file with hash: 6b996562-2810-5263-846d-cd2c7f12750b, and path: /stelmo/nwb/analysis/Bilbo20230724/Bilbo20230724_5Z68P602A2.nwb\n",
      "WARNING:datajoint:Skipped checksum for file with hash: 6b996562-2810-5263-846d-cd2c7f12750b, and path: /stelmo/nwb/analysis/Bilbo20230724/Bilbo20230724_5Z68P602A2.nwb\n"
     ]
    },
    {
     "name": "stdout",
     "output_type": "stream",
     "text": [
      "Fast Gamma 65-100 Hz Bilbo20230724_.nwb pos 6 valid times 3d18d099-7829-b8d8-8b93-f32dfec57115\n"
     ]
    },
    {
     "name": "stderr",
     "output_type": "stream",
     "text": [
      "[2023-12-06 09:16:44,147][WARNING]: Skipped checksum for file with hash: 2e25a7ae-83e2-6899-7452-753224b15fb6, and path: /stelmo/nwb/analysis/Bilbo20230724/Bilbo20230724_D8QN9TLCVP.nwb\n",
      "WARNING:datajoint:Skipped checksum for file with hash: 2e25a7ae-83e2-6899-7452-753224b15fb6, and path: /stelmo/nwb/analysis/Bilbo20230724/Bilbo20230724_D8QN9TLCVP.nwb\n"
     ]
    },
    {
     "name": "stdout",
     "output_type": "stream",
     "text": [
      "Slow Gamma 25-55 Hz Bilbo20230724_.nwb pos 7 valid times b9350fbe-0e12-2298-a985-0fa40036baa6\n"
     ]
    },
    {
     "name": "stderr",
     "output_type": "stream",
     "text": [
      "[2023-12-06 09:16:46,105][WARNING]: Skipped checksum for file with hash: 2e25a7ae-83e2-6899-7452-753224b15fb6, and path: /stelmo/nwb/analysis/Bilbo20230724/Bilbo20230724_D8QN9TLCVP.nwb\n",
      "WARNING:datajoint:Skipped checksum for file with hash: 2e25a7ae-83e2-6899-7452-753224b15fb6, and path: /stelmo/nwb/analysis/Bilbo20230724/Bilbo20230724_D8QN9TLCVP.nwb\n"
     ]
    },
    {
     "name": "stdout",
     "output_type": "stream",
     "text": [
      "Fast Gamma 65-100 Hz Bilbo20230724_.nwb pos 7 valid times b9350fbe-0e12-2298-a985-0fa40036baa6\n"
     ]
    },
    {
     "name": "stderr",
     "output_type": "stream",
     "text": [
      "[2023-12-06 09:16:46,842][WARNING]: Skipped checksum for file with hash: f2708cd5-0c14-cd08-b8b2-bedcd0fd10f6, and path: /stelmo/nwb/analysis/Bilbo20230724/Bilbo20230724_TYIZ1L6A6Z.nwb\n",
      "WARNING:datajoint:Skipped checksum for file with hash: f2708cd5-0c14-cd08-b8b2-bedcd0fd10f6, and path: /stelmo/nwb/analysis/Bilbo20230724/Bilbo20230724_TYIZ1L6A6Z.nwb\n"
     ]
    },
    {
     "name": "stdout",
     "output_type": "stream",
     "text": [
      "Slow Gamma 25-55 Hz Bilbo20230724_.nwb pos 8 valid times f7597b79-9d28-5c5f-cbf6-c79e54896bb2\n"
     ]
    },
    {
     "name": "stderr",
     "output_type": "stream",
     "text": [
      "[2023-12-06 09:16:48,466][WARNING]: Skipped checksum for file with hash: f2708cd5-0c14-cd08-b8b2-bedcd0fd10f6, and path: /stelmo/nwb/analysis/Bilbo20230724/Bilbo20230724_TYIZ1L6A6Z.nwb\n",
      "WARNING:datajoint:Skipped checksum for file with hash: f2708cd5-0c14-cd08-b8b2-bedcd0fd10f6, and path: /stelmo/nwb/analysis/Bilbo20230724/Bilbo20230724_TYIZ1L6A6Z.nwb\n"
     ]
    },
    {
     "name": "stdout",
     "output_type": "stream",
     "text": [
      "Fast Gamma 65-100 Hz Bilbo20230724_.nwb pos 8 valid times f7597b79-9d28-5c5f-cbf6-c79e54896bb2\n"
     ]
    },
    {
     "name": "stderr",
     "output_type": "stream",
     "text": [
      "[2023-12-06 09:16:49,151][WARNING]: Skipped checksum for file with hash: f658fa54-ca93-e721-854d-28c2703eeef9, and path: /stelmo/nwb/analysis/Bilbo20230724/Bilbo20230724_EOIA1A9PV8.nwb\n",
      "WARNING:datajoint:Skipped checksum for file with hash: f658fa54-ca93-e721-854d-28c2703eeef9, and path: /stelmo/nwb/analysis/Bilbo20230724/Bilbo20230724_EOIA1A9PV8.nwb\n"
     ]
    },
    {
     "name": "stdout",
     "output_type": "stream",
     "text": [
      "Slow Gamma 25-55 Hz Bilbo20230724_.nwb pos 9 valid times a44d7c20-7f45-9167-9a2f-3be2470fc514\n"
     ]
    },
    {
     "name": "stderr",
     "output_type": "stream",
     "text": [
      "[2023-12-06 09:16:50,792][WARNING]: Skipped checksum for file with hash: f658fa54-ca93-e721-854d-28c2703eeef9, and path: /stelmo/nwb/analysis/Bilbo20230724/Bilbo20230724_EOIA1A9PV8.nwb\n",
      "WARNING:datajoint:Skipped checksum for file with hash: f658fa54-ca93-e721-854d-28c2703eeef9, and path: /stelmo/nwb/analysis/Bilbo20230724/Bilbo20230724_EOIA1A9PV8.nwb\n"
     ]
    },
    {
     "name": "stdout",
     "output_type": "stream",
     "text": [
      "Fast Gamma 65-100 Hz Bilbo20230724_.nwb pos 9 valid times a44d7c20-7f45-9167-9a2f-3be2470fc514\n"
     ]
    },
    {
     "name": "stderr",
     "output_type": "stream",
     "text": [
      "[2023-12-06 09:16:51,460][WARNING]: Skipped checksum for file with hash: d00a51c4-81ca-2044-7566-26c75c87da1f, and path: /stelmo/nwb/analysis/Bilbo20230725/Bilbo20230725_04MELDDAZ8.nwb\n",
      "WARNING:datajoint:Skipped checksum for file with hash: d00a51c4-81ca-2044-7566-26c75c87da1f, and path: /stelmo/nwb/analysis/Bilbo20230725/Bilbo20230725_04MELDDAZ8.nwb\n"
     ]
    },
    {
     "name": "stdout",
     "output_type": "stream",
     "text": [
      "Slow Gamma 25-55 Hz Bilbo20230725_.nwb pos 0 valid times 7bbbcdd8-ab9b-6b9f-1777-9f2ae75d7d3b\n"
     ]
    },
    {
     "name": "stderr",
     "output_type": "stream",
     "text": [
      "[2023-12-06 09:16:53,148][WARNING]: Skipped checksum for file with hash: d00a51c4-81ca-2044-7566-26c75c87da1f, and path: /stelmo/nwb/analysis/Bilbo20230725/Bilbo20230725_04MELDDAZ8.nwb\n",
      "WARNING:datajoint:Skipped checksum for file with hash: d00a51c4-81ca-2044-7566-26c75c87da1f, and path: /stelmo/nwb/analysis/Bilbo20230725/Bilbo20230725_04MELDDAZ8.nwb\n"
     ]
    },
    {
     "name": "stdout",
     "output_type": "stream",
     "text": [
      "Fast Gamma 65-100 Hz Bilbo20230725_.nwb pos 0 valid times 7bbbcdd8-ab9b-6b9f-1777-9f2ae75d7d3b\n"
     ]
    },
    {
     "name": "stderr",
     "output_type": "stream",
     "text": [
      "[2023-12-06 09:16:53,867][WARNING]: Skipped checksum for file with hash: 72621d52-94fe-6ec0-08a6-485727d984bb, and path: /stelmo/nwb/analysis/Bilbo20230725/Bilbo20230725_VZLYWWYFCW.nwb\n",
      "WARNING:datajoint:Skipped checksum for file with hash: 72621d52-94fe-6ec0-08a6-485727d984bb, and path: /stelmo/nwb/analysis/Bilbo20230725/Bilbo20230725_VZLYWWYFCW.nwb\n"
     ]
    },
    {
     "name": "stdout",
     "output_type": "stream",
     "text": [
      "Slow Gamma 25-55 Hz Bilbo20230725_.nwb pos 1 valid times 058e4daa-7e1c-f42b-0a73-4e3d4ecde5fd\n"
     ]
    },
    {
     "name": "stderr",
     "output_type": "stream",
     "text": [
      "[2023-12-06 09:16:55,496][WARNING]: Skipped checksum for file with hash: 72621d52-94fe-6ec0-08a6-485727d984bb, and path: /stelmo/nwb/analysis/Bilbo20230725/Bilbo20230725_VZLYWWYFCW.nwb\n",
      "WARNING:datajoint:Skipped checksum for file with hash: 72621d52-94fe-6ec0-08a6-485727d984bb, and path: /stelmo/nwb/analysis/Bilbo20230725/Bilbo20230725_VZLYWWYFCW.nwb\n"
     ]
    },
    {
     "name": "stdout",
     "output_type": "stream",
     "text": [
      "Fast Gamma 65-100 Hz Bilbo20230725_.nwb pos 1 valid times 058e4daa-7e1c-f42b-0a73-4e3d4ecde5fd\n"
     ]
    },
    {
     "name": "stderr",
     "output_type": "stream",
     "text": [
      "[2023-12-06 09:16:56,186][WARNING]: Skipped checksum for file with hash: f982b3ec-7839-5e8b-94ef-72116c56ea0a, and path: /stelmo/nwb/analysis/Bilbo20230725/Bilbo20230725_ORGVXQ7YX6.nwb\n",
      "WARNING:datajoint:Skipped checksum for file with hash: f982b3ec-7839-5e8b-94ef-72116c56ea0a, and path: /stelmo/nwb/analysis/Bilbo20230725/Bilbo20230725_ORGVXQ7YX6.nwb\n"
     ]
    },
    {
     "name": "stdout",
     "output_type": "stream",
     "text": [
      "Slow Gamma 25-55 Hz Bilbo20230725_.nwb pos 10 valid times 139cb452-d584-c73b-5bc7-b9622e8bd765\n"
     ]
    },
    {
     "name": "stderr",
     "output_type": "stream",
     "text": [
      "[2023-12-06 09:16:57,779][WARNING]: Skipped checksum for file with hash: f982b3ec-7839-5e8b-94ef-72116c56ea0a, and path: /stelmo/nwb/analysis/Bilbo20230725/Bilbo20230725_ORGVXQ7YX6.nwb\n",
      "WARNING:datajoint:Skipped checksum for file with hash: f982b3ec-7839-5e8b-94ef-72116c56ea0a, and path: /stelmo/nwb/analysis/Bilbo20230725/Bilbo20230725_ORGVXQ7YX6.nwb\n"
     ]
    },
    {
     "name": "stdout",
     "output_type": "stream",
     "text": [
      "Fast Gamma 65-100 Hz Bilbo20230725_.nwb pos 10 valid times 139cb452-d584-c73b-5bc7-b9622e8bd765\n"
     ]
    },
    {
     "name": "stderr",
     "output_type": "stream",
     "text": [
      "[2023-12-06 09:16:58,448][WARNING]: Skipped checksum for file with hash: 913ca044-9d31-b58c-ff6b-846ecd5fe2d8, and path: /stelmo/nwb/analysis/Bilbo20230725/Bilbo20230725_43WZ7SSC52.nwb\n",
      "WARNING:datajoint:Skipped checksum for file with hash: 913ca044-9d31-b58c-ff6b-846ecd5fe2d8, and path: /stelmo/nwb/analysis/Bilbo20230725/Bilbo20230725_43WZ7SSC52.nwb\n"
     ]
    },
    {
     "name": "stdout",
     "output_type": "stream",
     "text": [
      "Slow Gamma 25-55 Hz Bilbo20230725_.nwb pos 11 valid times 1214faf7-75ce-19e2-3b65-5b31732a0798\n"
     ]
    },
    {
     "name": "stderr",
     "output_type": "stream",
     "text": [
      "[2023-12-06 09:17:00,051][WARNING]: Skipped checksum for file with hash: 913ca044-9d31-b58c-ff6b-846ecd5fe2d8, and path: /stelmo/nwb/analysis/Bilbo20230725/Bilbo20230725_43WZ7SSC52.nwb\n",
      "WARNING:datajoint:Skipped checksum for file with hash: 913ca044-9d31-b58c-ff6b-846ecd5fe2d8, and path: /stelmo/nwb/analysis/Bilbo20230725/Bilbo20230725_43WZ7SSC52.nwb\n"
     ]
    },
    {
     "name": "stdout",
     "output_type": "stream",
     "text": [
      "Fast Gamma 65-100 Hz Bilbo20230725_.nwb pos 11 valid times 1214faf7-75ce-19e2-3b65-5b31732a0798\n"
     ]
    },
    {
     "name": "stderr",
     "output_type": "stream",
     "text": [
      "[2023-12-06 09:17:00,751][WARNING]: Skipped checksum for file with hash: 499d27aa-34c8-28a0-adc9-c4dbf76f6ffa, and path: /stelmo/nwb/analysis/Bilbo20230725/Bilbo20230725_QAYID6G9ZB.nwb\n",
      "WARNING:datajoint:Skipped checksum for file with hash: 499d27aa-34c8-28a0-adc9-c4dbf76f6ffa, and path: /stelmo/nwb/analysis/Bilbo20230725/Bilbo20230725_QAYID6G9ZB.nwb\n"
     ]
    },
    {
     "name": "stdout",
     "output_type": "stream",
     "text": [
      "Slow Gamma 25-55 Hz Bilbo20230725_.nwb pos 2 valid times f75c07b0-0e86-361f-d27a-5bf4a1ef1a87\n"
     ]
    },
    {
     "name": "stderr",
     "output_type": "stream",
     "text": [
      "[2023-12-06 09:17:02,342][WARNING]: Skipped checksum for file with hash: 499d27aa-34c8-28a0-adc9-c4dbf76f6ffa, and path: /stelmo/nwb/analysis/Bilbo20230725/Bilbo20230725_QAYID6G9ZB.nwb\n",
      "WARNING:datajoint:Skipped checksum for file with hash: 499d27aa-34c8-28a0-adc9-c4dbf76f6ffa, and path: /stelmo/nwb/analysis/Bilbo20230725/Bilbo20230725_QAYID6G9ZB.nwb\n"
     ]
    },
    {
     "name": "stdout",
     "output_type": "stream",
     "text": [
      "Fast Gamma 65-100 Hz Bilbo20230725_.nwb pos 2 valid times f75c07b0-0e86-361f-d27a-5bf4a1ef1a87\n"
     ]
    },
    {
     "name": "stderr",
     "output_type": "stream",
     "text": [
      "[2023-12-06 09:17:03,037][WARNING]: Skipped checksum for file with hash: 4b182e31-623b-083e-449b-26479ad184b7, and path: /stelmo/nwb/analysis/Bilbo20230725/Bilbo20230725_B9VKS9RBM6.nwb\n",
      "WARNING:datajoint:Skipped checksum for file with hash: 4b182e31-623b-083e-449b-26479ad184b7, and path: /stelmo/nwb/analysis/Bilbo20230725/Bilbo20230725_B9VKS9RBM6.nwb\n"
     ]
    },
    {
     "name": "stdout",
     "output_type": "stream",
     "text": [
      "Slow Gamma 25-55 Hz Bilbo20230725_.nwb pos 3 valid times e6f9ce44-cdb6-808b-830e-edbea75376ab\n"
     ]
    },
    {
     "name": "stderr",
     "output_type": "stream",
     "text": [
      "[2023-12-06 09:17:04,612][WARNING]: Skipped checksum for file with hash: 4b182e31-623b-083e-449b-26479ad184b7, and path: /stelmo/nwb/analysis/Bilbo20230725/Bilbo20230725_B9VKS9RBM6.nwb\n",
      "WARNING:datajoint:Skipped checksum for file with hash: 4b182e31-623b-083e-449b-26479ad184b7, and path: /stelmo/nwb/analysis/Bilbo20230725/Bilbo20230725_B9VKS9RBM6.nwb\n"
     ]
    },
    {
     "name": "stdout",
     "output_type": "stream",
     "text": [
      "Fast Gamma 65-100 Hz Bilbo20230725_.nwb pos 3 valid times e6f9ce44-cdb6-808b-830e-edbea75376ab\n"
     ]
    },
    {
     "name": "stderr",
     "output_type": "stream",
     "text": [
      "[2023-12-06 09:17:05,279][WARNING]: Skipped checksum for file with hash: db0a4436-43e0-c5d3-93d4-564bc62a8074, and path: /stelmo/nwb/analysis/Bilbo20230725/Bilbo20230725_WXAY79NUZ9.nwb\n",
      "WARNING:datajoint:Skipped checksum for file with hash: db0a4436-43e0-c5d3-93d4-564bc62a8074, and path: /stelmo/nwb/analysis/Bilbo20230725/Bilbo20230725_WXAY79NUZ9.nwb\n"
     ]
    },
    {
     "name": "stdout",
     "output_type": "stream",
     "text": [
      "Slow Gamma 25-55 Hz Bilbo20230725_.nwb pos 4 valid times aef699ad-9b79-921d-d12a-ccf7e7408991\n"
     ]
    },
    {
     "name": "stderr",
     "output_type": "stream",
     "text": [
      "[2023-12-06 09:17:06,911][WARNING]: Skipped checksum for file with hash: db0a4436-43e0-c5d3-93d4-564bc62a8074, and path: /stelmo/nwb/analysis/Bilbo20230725/Bilbo20230725_WXAY79NUZ9.nwb\n",
      "WARNING:datajoint:Skipped checksum for file with hash: db0a4436-43e0-c5d3-93d4-564bc62a8074, and path: /stelmo/nwb/analysis/Bilbo20230725/Bilbo20230725_WXAY79NUZ9.nwb\n"
     ]
    },
    {
     "name": "stdout",
     "output_type": "stream",
     "text": [
      "Fast Gamma 65-100 Hz Bilbo20230725_.nwb pos 4 valid times aef699ad-9b79-921d-d12a-ccf7e7408991\n"
     ]
    },
    {
     "name": "stderr",
     "output_type": "stream",
     "text": [
      "[2023-12-06 09:17:07,590][WARNING]: Skipped checksum for file with hash: 7b320f6f-98c0-c942-8dcb-a28b925d1f75, and path: /stelmo/nwb/analysis/Bilbo20230725/Bilbo20230725_S1E8IB22ZO.nwb\n",
      "WARNING:datajoint:Skipped checksum for file with hash: 7b320f6f-98c0-c942-8dcb-a28b925d1f75, and path: /stelmo/nwb/analysis/Bilbo20230725/Bilbo20230725_S1E8IB22ZO.nwb\n"
     ]
    },
    {
     "name": "stdout",
     "output_type": "stream",
     "text": [
      "Slow Gamma 25-55 Hz Bilbo20230725_.nwb pos 5 valid times 948c2645-9a2b-804a-02f9-1aa24e537b12\n"
     ]
    },
    {
     "name": "stderr",
     "output_type": "stream",
     "text": [
      "[2023-12-06 09:17:09,263][WARNING]: Skipped checksum for file with hash: 7b320f6f-98c0-c942-8dcb-a28b925d1f75, and path: /stelmo/nwb/analysis/Bilbo20230725/Bilbo20230725_S1E8IB22ZO.nwb\n",
      "WARNING:datajoint:Skipped checksum for file with hash: 7b320f6f-98c0-c942-8dcb-a28b925d1f75, and path: /stelmo/nwb/analysis/Bilbo20230725/Bilbo20230725_S1E8IB22ZO.nwb\n"
     ]
    },
    {
     "name": "stdout",
     "output_type": "stream",
     "text": [
      "Fast Gamma 65-100 Hz Bilbo20230725_.nwb pos 5 valid times 948c2645-9a2b-804a-02f9-1aa24e537b12\n"
     ]
    },
    {
     "name": "stderr",
     "output_type": "stream",
     "text": [
      "[2023-12-06 09:17:09,933][WARNING]: Skipped checksum for file with hash: eb032c43-e28f-acca-f329-fe4fc955c0da, and path: /stelmo/nwb/analysis/Bilbo20230725/Bilbo20230725_JTT0UQ6G72.nwb\n",
      "WARNING:datajoint:Skipped checksum for file with hash: eb032c43-e28f-acca-f329-fe4fc955c0da, and path: /stelmo/nwb/analysis/Bilbo20230725/Bilbo20230725_JTT0UQ6G72.nwb\n"
     ]
    },
    {
     "name": "stdout",
     "output_type": "stream",
     "text": [
      "Slow Gamma 25-55 Hz Bilbo20230725_.nwb pos 6 valid times 37bd2cf7-4fdb-b156-c6b5-ebafd30413e5\n"
     ]
    },
    {
     "name": "stderr",
     "output_type": "stream",
     "text": [
      "[2023-12-06 09:17:11,667][WARNING]: Skipped checksum for file with hash: eb032c43-e28f-acca-f329-fe4fc955c0da, and path: /stelmo/nwb/analysis/Bilbo20230725/Bilbo20230725_JTT0UQ6G72.nwb\n",
      "WARNING:datajoint:Skipped checksum for file with hash: eb032c43-e28f-acca-f329-fe4fc955c0da, and path: /stelmo/nwb/analysis/Bilbo20230725/Bilbo20230725_JTT0UQ6G72.nwb\n"
     ]
    },
    {
     "name": "stdout",
     "output_type": "stream",
     "text": [
      "Fast Gamma 65-100 Hz Bilbo20230725_.nwb pos 6 valid times 37bd2cf7-4fdb-b156-c6b5-ebafd30413e5\n"
     ]
    },
    {
     "name": "stderr",
     "output_type": "stream",
     "text": [
      "[2023-12-06 09:17:12,349][WARNING]: Skipped checksum for file with hash: 1f41ed1f-df73-533d-6c95-5cb459607516, and path: /stelmo/nwb/analysis/Bilbo20230725/Bilbo20230725_JRH9I6411O.nwb\n",
      "WARNING:datajoint:Skipped checksum for file with hash: 1f41ed1f-df73-533d-6c95-5cb459607516, and path: /stelmo/nwb/analysis/Bilbo20230725/Bilbo20230725_JRH9I6411O.nwb\n"
     ]
    },
    {
     "name": "stdout",
     "output_type": "stream",
     "text": [
      "Slow Gamma 25-55 Hz Bilbo20230725_.nwb pos 7 valid times 5604a721-8685-d9b9-97d3-00d706963afe\n"
     ]
    },
    {
     "name": "stderr",
     "output_type": "stream",
     "text": [
      "[2023-12-06 09:17:13,921][WARNING]: Skipped checksum for file with hash: 1f41ed1f-df73-533d-6c95-5cb459607516, and path: /stelmo/nwb/analysis/Bilbo20230725/Bilbo20230725_JRH9I6411O.nwb\n",
      "WARNING:datajoint:Skipped checksum for file with hash: 1f41ed1f-df73-533d-6c95-5cb459607516, and path: /stelmo/nwb/analysis/Bilbo20230725/Bilbo20230725_JRH9I6411O.nwb\n"
     ]
    },
    {
     "name": "stdout",
     "output_type": "stream",
     "text": [
      "Fast Gamma 65-100 Hz Bilbo20230725_.nwb pos 7 valid times 5604a721-8685-d9b9-97d3-00d706963afe\n"
     ]
    },
    {
     "name": "stderr",
     "output_type": "stream",
     "text": [
      "[2023-12-06 09:17:14,601][WARNING]: Skipped checksum for file with hash: 00a60c81-d843-753e-dcc4-ce62b25916a0, and path: /stelmo/nwb/analysis/Bilbo20230725/Bilbo20230725_KSUZJ9Y5K2.nwb\n",
      "WARNING:datajoint:Skipped checksum for file with hash: 00a60c81-d843-753e-dcc4-ce62b25916a0, and path: /stelmo/nwb/analysis/Bilbo20230725/Bilbo20230725_KSUZJ9Y5K2.nwb\n"
     ]
    },
    {
     "name": "stdout",
     "output_type": "stream",
     "text": [
      "Slow Gamma 25-55 Hz Bilbo20230725_.nwb pos 8 valid times 074e8556-345a-d12f-eeb3-356253607303\n"
     ]
    },
    {
     "name": "stderr",
     "output_type": "stream",
     "text": [
      "[2023-12-06 09:17:16,261][WARNING]: Skipped checksum for file with hash: 00a60c81-d843-753e-dcc4-ce62b25916a0, and path: /stelmo/nwb/analysis/Bilbo20230725/Bilbo20230725_KSUZJ9Y5K2.nwb\n",
      "WARNING:datajoint:Skipped checksum for file with hash: 00a60c81-d843-753e-dcc4-ce62b25916a0, and path: /stelmo/nwb/analysis/Bilbo20230725/Bilbo20230725_KSUZJ9Y5K2.nwb\n"
     ]
    },
    {
     "name": "stdout",
     "output_type": "stream",
     "text": [
      "Fast Gamma 65-100 Hz Bilbo20230725_.nwb pos 8 valid times 074e8556-345a-d12f-eeb3-356253607303\n"
     ]
    },
    {
     "name": "stderr",
     "output_type": "stream",
     "text": [
      "[2023-12-06 09:17:16,915][WARNING]: Skipped checksum for file with hash: aae05233-1f49-c700-156b-df63b7b852a3, and path: /stelmo/nwb/analysis/Bilbo20230725/Bilbo20230725_029WNM2RQF.nwb\n",
      "WARNING:datajoint:Skipped checksum for file with hash: aae05233-1f49-c700-156b-df63b7b852a3, and path: /stelmo/nwb/analysis/Bilbo20230725/Bilbo20230725_029WNM2RQF.nwb\n"
     ]
    },
    {
     "name": "stdout",
     "output_type": "stream",
     "text": [
      "Slow Gamma 25-55 Hz Bilbo20230725_.nwb pos 9 valid times e2981767-a538-46b9-1be9-2e34e961336e\n"
     ]
    },
    {
     "name": "stderr",
     "output_type": "stream",
     "text": [
      "[2023-12-06 09:17:20,019][WARNING]: Skipped checksum for file with hash: aae05233-1f49-c700-156b-df63b7b852a3, and path: /stelmo/nwb/analysis/Bilbo20230725/Bilbo20230725_029WNM2RQF.nwb\n",
      "WARNING:datajoint:Skipped checksum for file with hash: aae05233-1f49-c700-156b-df63b7b852a3, and path: /stelmo/nwb/analysis/Bilbo20230725/Bilbo20230725_029WNM2RQF.nwb\n"
     ]
    },
    {
     "name": "stdout",
     "output_type": "stream",
     "text": [
      "Fast Gamma 65-100 Hz Bilbo20230725_.nwb pos 9 valid times e2981767-a538-46b9-1be9-2e34e961336e\n"
     ]
    },
    {
     "name": "stderr",
     "output_type": "stream",
     "text": [
      "[2023-12-06 09:17:20,752][WARNING]: Skipped checksum for file with hash: 1d429e3a-61ea-30dc-88c7-d4c4d3c1f174, and path: /stelmo/nwb/analysis/Bilbo20230726/Bilbo20230726_5Q1H0DLFHF.nwb\n",
      "WARNING:datajoint:Skipped checksum for file with hash: 1d429e3a-61ea-30dc-88c7-d4c4d3c1f174, and path: /stelmo/nwb/analysis/Bilbo20230726/Bilbo20230726_5Q1H0DLFHF.nwb\n"
     ]
    },
    {
     "name": "stdout",
     "output_type": "stream",
     "text": [
      "Slow Gamma 25-55 Hz Bilbo20230726_.nwb pos 0 valid times 806bf333-1594-e91d-80c9-df47d92dcdf2\n"
     ]
    },
    {
     "name": "stderr",
     "output_type": "stream",
     "text": [
      "[2023-12-06 09:17:22,434][WARNING]: Skipped checksum for file with hash: 1d429e3a-61ea-30dc-88c7-d4c4d3c1f174, and path: /stelmo/nwb/analysis/Bilbo20230726/Bilbo20230726_5Q1H0DLFHF.nwb\n",
      "WARNING:datajoint:Skipped checksum for file with hash: 1d429e3a-61ea-30dc-88c7-d4c4d3c1f174, and path: /stelmo/nwb/analysis/Bilbo20230726/Bilbo20230726_5Q1H0DLFHF.nwb\n"
     ]
    },
    {
     "name": "stdout",
     "output_type": "stream",
     "text": [
      "Fast Gamma 65-100 Hz Bilbo20230726_.nwb pos 0 valid times 806bf333-1594-e91d-80c9-df47d92dcdf2\n"
     ]
    },
    {
     "name": "stderr",
     "output_type": "stream",
     "text": [
      "[2023-12-06 09:17:23,099][WARNING]: Skipped checksum for file with hash: c2295d08-7ba9-97a9-413f-bf507b7e93c9, and path: /stelmo/nwb/analysis/Bilbo20230726/Bilbo20230726_A3I2N3CZWV.nwb\n",
      "WARNING:datajoint:Skipped checksum for file with hash: c2295d08-7ba9-97a9-413f-bf507b7e93c9, and path: /stelmo/nwb/analysis/Bilbo20230726/Bilbo20230726_A3I2N3CZWV.nwb\n"
     ]
    },
    {
     "name": "stdout",
     "output_type": "stream",
     "text": [
      "Slow Gamma 25-55 Hz Bilbo20230726_.nwb pos 1 valid times 0d6efd0a-27bf-7ee1-8ba6-5304730b30dc\n"
     ]
    },
    {
     "name": "stderr",
     "output_type": "stream",
     "text": [
      "[2023-12-06 09:17:24,729][WARNING]: Skipped checksum for file with hash: c2295d08-7ba9-97a9-413f-bf507b7e93c9, and path: /stelmo/nwb/analysis/Bilbo20230726/Bilbo20230726_A3I2N3CZWV.nwb\n",
      "WARNING:datajoint:Skipped checksum for file with hash: c2295d08-7ba9-97a9-413f-bf507b7e93c9, and path: /stelmo/nwb/analysis/Bilbo20230726/Bilbo20230726_A3I2N3CZWV.nwb\n"
     ]
    },
    {
     "name": "stdout",
     "output_type": "stream",
     "text": [
      "Fast Gamma 65-100 Hz Bilbo20230726_.nwb pos 1 valid times 0d6efd0a-27bf-7ee1-8ba6-5304730b30dc\n"
     ]
    },
    {
     "name": "stderr",
     "output_type": "stream",
     "text": [
      "[2023-12-06 09:17:25,379][WARNING]: Skipped checksum for file with hash: f4db791e-3d94-1725-289e-4836a2c1716e, and path: /stelmo/nwb/analysis/Bilbo20230726/Bilbo20230726_PZSPJTAZGU.nwb\n",
      "WARNING:datajoint:Skipped checksum for file with hash: f4db791e-3d94-1725-289e-4836a2c1716e, and path: /stelmo/nwb/analysis/Bilbo20230726/Bilbo20230726_PZSPJTAZGU.nwb\n"
     ]
    },
    {
     "name": "stdout",
     "output_type": "stream",
     "text": [
      "Slow Gamma 25-55 Hz Bilbo20230726_.nwb pos 2 valid times 01c4b3a6-561f-11b1-4dbc-81ccaa83936b\n"
     ]
    },
    {
     "name": "stderr",
     "output_type": "stream",
     "text": [
      "[2023-12-06 09:17:27,156][WARNING]: Skipped checksum for file with hash: f4db791e-3d94-1725-289e-4836a2c1716e, and path: /stelmo/nwb/analysis/Bilbo20230726/Bilbo20230726_PZSPJTAZGU.nwb\n",
      "WARNING:datajoint:Skipped checksum for file with hash: f4db791e-3d94-1725-289e-4836a2c1716e, and path: /stelmo/nwb/analysis/Bilbo20230726/Bilbo20230726_PZSPJTAZGU.nwb\n"
     ]
    },
    {
     "name": "stdout",
     "output_type": "stream",
     "text": [
      "Fast Gamma 65-100 Hz Bilbo20230726_.nwb pos 2 valid times 01c4b3a6-561f-11b1-4dbc-81ccaa83936b\n"
     ]
    },
    {
     "name": "stderr",
     "output_type": "stream",
     "text": [
      "[2023-12-06 09:17:27,874][WARNING]: Skipped checksum for file with hash: cba6eb2d-84c9-7d8e-e053-ac45a666d02a, and path: /stelmo/nwb/analysis/Bilbo20230726/Bilbo20230726_Q6598T7A9K.nwb\n",
      "WARNING:datajoint:Skipped checksum for file with hash: cba6eb2d-84c9-7d8e-e053-ac45a666d02a, and path: /stelmo/nwb/analysis/Bilbo20230726/Bilbo20230726_Q6598T7A9K.nwb\n"
     ]
    },
    {
     "name": "stdout",
     "output_type": "stream",
     "text": [
      "Slow Gamma 25-55 Hz Bilbo20230726_.nwb pos 3 valid times 623561e3-864a-7db7-5bb8-aee3e7e5d6fc\n"
     ]
    },
    {
     "name": "stderr",
     "output_type": "stream",
     "text": [
      "[2023-12-06 09:17:29,479][WARNING]: Skipped checksum for file with hash: cba6eb2d-84c9-7d8e-e053-ac45a666d02a, and path: /stelmo/nwb/analysis/Bilbo20230726/Bilbo20230726_Q6598T7A9K.nwb\n",
      "WARNING:datajoint:Skipped checksum for file with hash: cba6eb2d-84c9-7d8e-e053-ac45a666d02a, and path: /stelmo/nwb/analysis/Bilbo20230726/Bilbo20230726_Q6598T7A9K.nwb\n"
     ]
    },
    {
     "name": "stdout",
     "output_type": "stream",
     "text": [
      "Fast Gamma 65-100 Hz Bilbo20230726_.nwb pos 3 valid times 623561e3-864a-7db7-5bb8-aee3e7e5d6fc\n"
     ]
    },
    {
     "name": "stderr",
     "output_type": "stream",
     "text": [
      "[2023-12-06 09:17:30,112][WARNING]: Skipped checksum for file with hash: 560929bf-1c56-b2e1-56b1-6fc8791fb74f, and path: /stelmo/nwb/analysis/Bilbo20230726/Bilbo20230726_HSOYW8PWND.nwb\n",
      "WARNING:datajoint:Skipped checksum for file with hash: 560929bf-1c56-b2e1-56b1-6fc8791fb74f, and path: /stelmo/nwb/analysis/Bilbo20230726/Bilbo20230726_HSOYW8PWND.nwb\n"
     ]
    },
    {
     "name": "stdout",
     "output_type": "stream",
     "text": [
      "Slow Gamma 25-55 Hz Bilbo20230726_.nwb pos 4 valid times 32e78913-212f-a092-e2e4-2e3e77e39a69\n"
     ]
    },
    {
     "name": "stderr",
     "output_type": "stream",
     "text": [
      "[2023-12-06 09:17:31,714][WARNING]: Skipped checksum for file with hash: 560929bf-1c56-b2e1-56b1-6fc8791fb74f, and path: /stelmo/nwb/analysis/Bilbo20230726/Bilbo20230726_HSOYW8PWND.nwb\n",
      "WARNING:datajoint:Skipped checksum for file with hash: 560929bf-1c56-b2e1-56b1-6fc8791fb74f, and path: /stelmo/nwb/analysis/Bilbo20230726/Bilbo20230726_HSOYW8PWND.nwb\n"
     ]
    },
    {
     "name": "stdout",
     "output_type": "stream",
     "text": [
      "Fast Gamma 65-100 Hz Bilbo20230726_.nwb pos 4 valid times 32e78913-212f-a092-e2e4-2e3e77e39a69\n"
     ]
    },
    {
     "name": "stderr",
     "output_type": "stream",
     "text": [
      "[2023-12-06 09:17:32,398][WARNING]: Skipped checksum for file with hash: 8a6fce0e-f663-6864-ad4e-9616049f9574, and path: /stelmo/nwb/analysis/Bilbo20230726/Bilbo20230726_EE4E9RVFWI.nwb\n",
      "WARNING:datajoint:Skipped checksum for file with hash: 8a6fce0e-f663-6864-ad4e-9616049f9574, and path: /stelmo/nwb/analysis/Bilbo20230726/Bilbo20230726_EE4E9RVFWI.nwb\n"
     ]
    },
    {
     "name": "stdout",
     "output_type": "stream",
     "text": [
      "Slow Gamma 25-55 Hz Bilbo20230726_.nwb pos 5 valid times b81cf62a-923f-f882-4ef1-e29f8e4a8f26\n"
     ]
    },
    {
     "name": "stderr",
     "output_type": "stream",
     "text": [
      "[2023-12-06 09:17:34,092][WARNING]: Skipped checksum for file with hash: 8a6fce0e-f663-6864-ad4e-9616049f9574, and path: /stelmo/nwb/analysis/Bilbo20230726/Bilbo20230726_EE4E9RVFWI.nwb\n",
      "WARNING:datajoint:Skipped checksum for file with hash: 8a6fce0e-f663-6864-ad4e-9616049f9574, and path: /stelmo/nwb/analysis/Bilbo20230726/Bilbo20230726_EE4E9RVFWI.nwb\n"
     ]
    },
    {
     "name": "stdout",
     "output_type": "stream",
     "text": [
      "Fast Gamma 65-100 Hz Bilbo20230726_.nwb pos 5 valid times b81cf62a-923f-f882-4ef1-e29f8e4a8f26\n"
     ]
    },
    {
     "name": "stderr",
     "output_type": "stream",
     "text": [
      "[2023-12-06 09:17:34,819][WARNING]: Skipped checksum for file with hash: c1186736-7591-e162-f9d7-98bbbaa8cc0d, and path: /stelmo/nwb/analysis/Bilbo20230726/Bilbo20230726_2KG94WZJS6.nwb\n",
      "WARNING:datajoint:Skipped checksum for file with hash: c1186736-7591-e162-f9d7-98bbbaa8cc0d, and path: /stelmo/nwb/analysis/Bilbo20230726/Bilbo20230726_2KG94WZJS6.nwb\n"
     ]
    },
    {
     "name": "stdout",
     "output_type": "stream",
     "text": [
      "Slow Gamma 25-55 Hz Bilbo20230726_.nwb pos 6 valid times 852f779f-1b4e-a83c-86c6-099c8c811061\n"
     ]
    },
    {
     "name": "stderr",
     "output_type": "stream",
     "text": [
      "[2023-12-06 09:17:36,467][WARNING]: Skipped checksum for file with hash: c1186736-7591-e162-f9d7-98bbbaa8cc0d, and path: /stelmo/nwb/analysis/Bilbo20230726/Bilbo20230726_2KG94WZJS6.nwb\n",
      "WARNING:datajoint:Skipped checksum for file with hash: c1186736-7591-e162-f9d7-98bbbaa8cc0d, and path: /stelmo/nwb/analysis/Bilbo20230726/Bilbo20230726_2KG94WZJS6.nwb\n"
     ]
    },
    {
     "name": "stdout",
     "output_type": "stream",
     "text": [
      "Fast Gamma 65-100 Hz Bilbo20230726_.nwb pos 6 valid times 852f779f-1b4e-a83c-86c6-099c8c811061\n"
     ]
    },
    {
     "name": "stderr",
     "output_type": "stream",
     "text": [
      "[2023-12-06 09:17:37,169][WARNING]: Skipped checksum for file with hash: 9732aec8-d5ff-fe97-b0c7-2b22b8c38743, and path: /stelmo/nwb/analysis/Bilbo20230802/Bilbo20230802_VCS9FK367M.nwb\n",
      "WARNING:datajoint:Skipped checksum for file with hash: 9732aec8-d5ff-fe97-b0c7-2b22b8c38743, and path: /stelmo/nwb/analysis/Bilbo20230802/Bilbo20230802_VCS9FK367M.nwb\n"
     ]
    },
    {
     "name": "stdout",
     "output_type": "stream",
     "text": [
      "Slow Gamma 25-55 Hz Bilbo20230802_.nwb pos 0 valid times 97055cdf-ee22-930f-6d80-14e5685fb5f2\n"
     ]
    },
    {
     "name": "stderr",
     "output_type": "stream",
     "text": [
      "[2023-12-06 09:17:38,799][WARNING]: Skipped checksum for file with hash: 9732aec8-d5ff-fe97-b0c7-2b22b8c38743, and path: /stelmo/nwb/analysis/Bilbo20230802/Bilbo20230802_VCS9FK367M.nwb\n",
      "WARNING:datajoint:Skipped checksum for file with hash: 9732aec8-d5ff-fe97-b0c7-2b22b8c38743, and path: /stelmo/nwb/analysis/Bilbo20230802/Bilbo20230802_VCS9FK367M.nwb\n"
     ]
    },
    {
     "name": "stdout",
     "output_type": "stream",
     "text": [
      "Fast Gamma 65-100 Hz Bilbo20230802_.nwb pos 0 valid times 97055cdf-ee22-930f-6d80-14e5685fb5f2\n"
     ]
    },
    {
     "name": "stderr",
     "output_type": "stream",
     "text": [
      "[2023-12-06 09:17:39,452][WARNING]: Skipped checksum for file with hash: e1763e9a-1c63-6f6f-d791-079e77e00590, and path: /stelmo/nwb/analysis/Bilbo20230802/Bilbo20230802_N66KIB53H4.nwb\n",
      "WARNING:datajoint:Skipped checksum for file with hash: e1763e9a-1c63-6f6f-d791-079e77e00590, and path: /stelmo/nwb/analysis/Bilbo20230802/Bilbo20230802_N66KIB53H4.nwb\n"
     ]
    },
    {
     "name": "stdout",
     "output_type": "stream",
     "text": [
      "Slow Gamma 25-55 Hz Bilbo20230802_.nwb pos 1 valid times bc73db2b-7bf1-727c-77af-c8b65331205c\n"
     ]
    },
    {
     "name": "stderr",
     "output_type": "stream",
     "text": [
      "[2023-12-06 09:17:41,039][WARNING]: Skipped checksum for file with hash: e1763e9a-1c63-6f6f-d791-079e77e00590, and path: /stelmo/nwb/analysis/Bilbo20230802/Bilbo20230802_N66KIB53H4.nwb\n",
      "WARNING:datajoint:Skipped checksum for file with hash: e1763e9a-1c63-6f6f-d791-079e77e00590, and path: /stelmo/nwb/analysis/Bilbo20230802/Bilbo20230802_N66KIB53H4.nwb\n"
     ]
    },
    {
     "name": "stdout",
     "output_type": "stream",
     "text": [
      "Fast Gamma 65-100 Hz Bilbo20230802_.nwb pos 1 valid times bc73db2b-7bf1-727c-77af-c8b65331205c\n"
     ]
    },
    {
     "name": "stderr",
     "output_type": "stream",
     "text": [
      "[2023-12-06 09:17:41,749][WARNING]: Skipped checksum for file with hash: b9177057-b1e3-42ae-4001-00d648479fb2, and path: /stelmo/nwb/analysis/Bilbo20230802/Bilbo20230802_VC0H6FCNWM.nwb\n",
      "WARNING:datajoint:Skipped checksum for file with hash: b9177057-b1e3-42ae-4001-00d648479fb2, and path: /stelmo/nwb/analysis/Bilbo20230802/Bilbo20230802_VC0H6FCNWM.nwb\n"
     ]
    },
    {
     "name": "stdout",
     "output_type": "stream",
     "text": [
      "Slow Gamma 25-55 Hz Bilbo20230802_.nwb pos 10 valid times cbb013f4-8a29-ed07-b4b4-fb8b84e8277e\n"
     ]
    },
    {
     "name": "stderr",
     "output_type": "stream",
     "text": [
      "[2023-12-06 09:17:43,366][WARNING]: Skipped checksum for file with hash: b9177057-b1e3-42ae-4001-00d648479fb2, and path: /stelmo/nwb/analysis/Bilbo20230802/Bilbo20230802_VC0H6FCNWM.nwb\n",
      "WARNING:datajoint:Skipped checksum for file with hash: b9177057-b1e3-42ae-4001-00d648479fb2, and path: /stelmo/nwb/analysis/Bilbo20230802/Bilbo20230802_VC0H6FCNWM.nwb\n"
     ]
    },
    {
     "name": "stdout",
     "output_type": "stream",
     "text": [
      "Fast Gamma 65-100 Hz Bilbo20230802_.nwb pos 10 valid times cbb013f4-8a29-ed07-b4b4-fb8b84e8277e\n"
     ]
    },
    {
     "name": "stderr",
     "output_type": "stream",
     "text": [
      "[2023-12-06 09:17:43,987][WARNING]: Skipped checksum for file with hash: 0375e9ba-a6c3-7253-0c90-d7c67493f063, and path: /stelmo/nwb/analysis/Bilbo20230802/Bilbo20230802_C3KSOSTUSI.nwb\n",
      "WARNING:datajoint:Skipped checksum for file with hash: 0375e9ba-a6c3-7253-0c90-d7c67493f063, and path: /stelmo/nwb/analysis/Bilbo20230802/Bilbo20230802_C3KSOSTUSI.nwb\n"
     ]
    },
    {
     "name": "stdout",
     "output_type": "stream",
     "text": [
      "Slow Gamma 25-55 Hz Bilbo20230802_.nwb pos 11 valid times 2bf6e13a-12cd-8ae9-2e91-8b97c792d326\n"
     ]
    },
    {
     "name": "stderr",
     "output_type": "stream",
     "text": [
      "[2023-12-06 09:17:45,593][WARNING]: Skipped checksum for file with hash: 0375e9ba-a6c3-7253-0c90-d7c67493f063, and path: /stelmo/nwb/analysis/Bilbo20230802/Bilbo20230802_C3KSOSTUSI.nwb\n",
      "WARNING:datajoint:Skipped checksum for file with hash: 0375e9ba-a6c3-7253-0c90-d7c67493f063, and path: /stelmo/nwb/analysis/Bilbo20230802/Bilbo20230802_C3KSOSTUSI.nwb\n"
     ]
    },
    {
     "name": "stdout",
     "output_type": "stream",
     "text": [
      "Fast Gamma 65-100 Hz Bilbo20230802_.nwb pos 11 valid times 2bf6e13a-12cd-8ae9-2e91-8b97c792d326\n"
     ]
    },
    {
     "name": "stderr",
     "output_type": "stream",
     "text": [
      "[2023-12-06 09:17:46,277][WARNING]: Skipped checksum for file with hash: 2bc439a5-7dbe-2cac-ed5d-ba55867c18b2, and path: /stelmo/nwb/analysis/Bilbo20230802/Bilbo20230802_WBCNHEY9AT.nwb\n",
      "WARNING:datajoint:Skipped checksum for file with hash: 2bc439a5-7dbe-2cac-ed5d-ba55867c18b2, and path: /stelmo/nwb/analysis/Bilbo20230802/Bilbo20230802_WBCNHEY9AT.nwb\n"
     ]
    },
    {
     "name": "stdout",
     "output_type": "stream",
     "text": [
      "Slow Gamma 25-55 Hz Bilbo20230802_.nwb pos 12 valid times 3dde7662-8325-bab7-2dbf-708c1874512d\n"
     ]
    },
    {
     "name": "stderr",
     "output_type": "stream",
     "text": [
      "[2023-12-06 09:17:47,978][WARNING]: Skipped checksum for file with hash: 2bc439a5-7dbe-2cac-ed5d-ba55867c18b2, and path: /stelmo/nwb/analysis/Bilbo20230802/Bilbo20230802_WBCNHEY9AT.nwb\n",
      "WARNING:datajoint:Skipped checksum for file with hash: 2bc439a5-7dbe-2cac-ed5d-ba55867c18b2, and path: /stelmo/nwb/analysis/Bilbo20230802/Bilbo20230802_WBCNHEY9AT.nwb\n"
     ]
    },
    {
     "name": "stdout",
     "output_type": "stream",
     "text": [
      "Fast Gamma 65-100 Hz Bilbo20230802_.nwb pos 12 valid times 3dde7662-8325-bab7-2dbf-708c1874512d\n"
     ]
    },
    {
     "name": "stderr",
     "output_type": "stream",
     "text": [
      "[2023-12-06 09:17:48,648][WARNING]: Skipped checksum for file with hash: e1474d0d-79da-8d7f-48f5-2ee855ece171, and path: /stelmo/nwb/analysis/Bilbo20230802/Bilbo20230802_99C5H7JYYC.nwb\n",
      "WARNING:datajoint:Skipped checksum for file with hash: e1474d0d-79da-8d7f-48f5-2ee855ece171, and path: /stelmo/nwb/analysis/Bilbo20230802/Bilbo20230802_99C5H7JYYC.nwb\n"
     ]
    },
    {
     "name": "stdout",
     "output_type": "stream",
     "text": [
      "Slow Gamma 25-55 Hz Bilbo20230802_.nwb pos 13 valid times 3e527ddd-cbbb-2572-9048-af6661caeeca\n"
     ]
    },
    {
     "name": "stderr",
     "output_type": "stream",
     "text": [
      "[2023-12-06 09:17:50,302][WARNING]: Skipped checksum for file with hash: e1474d0d-79da-8d7f-48f5-2ee855ece171, and path: /stelmo/nwb/analysis/Bilbo20230802/Bilbo20230802_99C5H7JYYC.nwb\n",
      "WARNING:datajoint:Skipped checksum for file with hash: e1474d0d-79da-8d7f-48f5-2ee855ece171, and path: /stelmo/nwb/analysis/Bilbo20230802/Bilbo20230802_99C5H7JYYC.nwb\n"
     ]
    },
    {
     "name": "stdout",
     "output_type": "stream",
     "text": [
      "Fast Gamma 65-100 Hz Bilbo20230802_.nwb pos 13 valid times 3e527ddd-cbbb-2572-9048-af6661caeeca\n"
     ]
    },
    {
     "name": "stderr",
     "output_type": "stream",
     "text": [
      "[2023-12-06 09:17:50,976][WARNING]: Skipped checksum for file with hash: 274b64b0-ba9f-6427-a177-25eedc50bdc3, and path: /stelmo/nwb/analysis/Bilbo20230802/Bilbo20230802_CUV30SWCIG.nwb\n",
      "WARNING:datajoint:Skipped checksum for file with hash: 274b64b0-ba9f-6427-a177-25eedc50bdc3, and path: /stelmo/nwb/analysis/Bilbo20230802/Bilbo20230802_CUV30SWCIG.nwb\n"
     ]
    },
    {
     "name": "stdout",
     "output_type": "stream",
     "text": [
      "Slow Gamma 25-55 Hz Bilbo20230802_.nwb pos 14 valid times d9146b3b-24dc-3962-6967-aeef8d419a2a\n"
     ]
    },
    {
     "name": "stderr",
     "output_type": "stream",
     "text": [
      "[2023-12-06 09:17:52,594][WARNING]: Skipped checksum for file with hash: 274b64b0-ba9f-6427-a177-25eedc50bdc3, and path: /stelmo/nwb/analysis/Bilbo20230802/Bilbo20230802_CUV30SWCIG.nwb\n",
      "WARNING:datajoint:Skipped checksum for file with hash: 274b64b0-ba9f-6427-a177-25eedc50bdc3, and path: /stelmo/nwb/analysis/Bilbo20230802/Bilbo20230802_CUV30SWCIG.nwb\n"
     ]
    },
    {
     "name": "stdout",
     "output_type": "stream",
     "text": [
      "Fast Gamma 65-100 Hz Bilbo20230802_.nwb pos 14 valid times d9146b3b-24dc-3962-6967-aeef8d419a2a\n"
     ]
    },
    {
     "name": "stderr",
     "output_type": "stream",
     "text": [
      "[2023-12-06 09:17:53,250][WARNING]: Skipped checksum for file with hash: b4351702-87e3-6d19-d017-e57a1453272f, and path: /stelmo/nwb/analysis/Bilbo20230802/Bilbo20230802_QEVKS4E18X.nwb\n",
      "WARNING:datajoint:Skipped checksum for file with hash: b4351702-87e3-6d19-d017-e57a1453272f, and path: /stelmo/nwb/analysis/Bilbo20230802/Bilbo20230802_QEVKS4E18X.nwb\n"
     ]
    },
    {
     "name": "stdout",
     "output_type": "stream",
     "text": [
      "Slow Gamma 25-55 Hz Bilbo20230802_.nwb pos 15 valid times 4515d03a-2795-c4aa-d869-a064ec7d41cc\n"
     ]
    },
    {
     "name": "stderr",
     "output_type": "stream",
     "text": [
      "[2023-12-06 09:17:54,900][WARNING]: Skipped checksum for file with hash: b4351702-87e3-6d19-d017-e57a1453272f, and path: /stelmo/nwb/analysis/Bilbo20230802/Bilbo20230802_QEVKS4E18X.nwb\n",
      "WARNING:datajoint:Skipped checksum for file with hash: b4351702-87e3-6d19-d017-e57a1453272f, and path: /stelmo/nwb/analysis/Bilbo20230802/Bilbo20230802_QEVKS4E18X.nwb\n"
     ]
    },
    {
     "name": "stdout",
     "output_type": "stream",
     "text": [
      "Fast Gamma 65-100 Hz Bilbo20230802_.nwb pos 15 valid times 4515d03a-2795-c4aa-d869-a064ec7d41cc\n"
     ]
    },
    {
     "name": "stderr",
     "output_type": "stream",
     "text": [
      "[2023-12-06 09:17:55,562][WARNING]: Skipped checksum for file with hash: bf1729e0-2f1f-a1c2-5bbf-ca8dfddf6f19, and path: /stelmo/nwb/analysis/Bilbo20230802/Bilbo20230802_FT4YZAUQ1C.nwb\n",
      "WARNING:datajoint:Skipped checksum for file with hash: bf1729e0-2f1f-a1c2-5bbf-ca8dfddf6f19, and path: /stelmo/nwb/analysis/Bilbo20230802/Bilbo20230802_FT4YZAUQ1C.nwb\n"
     ]
    },
    {
     "name": "stdout",
     "output_type": "stream",
     "text": [
      "Slow Gamma 25-55 Hz Bilbo20230802_.nwb pos 16 valid times 9a1eecce-6282-69ed-52f9-d44c2c3c0ec5\n"
     ]
    },
    {
     "name": "stderr",
     "output_type": "stream",
     "text": [
      "[2023-12-06 09:17:57,183][WARNING]: Skipped checksum for file with hash: bf1729e0-2f1f-a1c2-5bbf-ca8dfddf6f19, and path: /stelmo/nwb/analysis/Bilbo20230802/Bilbo20230802_FT4YZAUQ1C.nwb\n",
      "WARNING:datajoint:Skipped checksum for file with hash: bf1729e0-2f1f-a1c2-5bbf-ca8dfddf6f19, and path: /stelmo/nwb/analysis/Bilbo20230802/Bilbo20230802_FT4YZAUQ1C.nwb\n"
     ]
    },
    {
     "name": "stdout",
     "output_type": "stream",
     "text": [
      "Fast Gamma 65-100 Hz Bilbo20230802_.nwb pos 16 valid times 9a1eecce-6282-69ed-52f9-d44c2c3c0ec5\n"
     ]
    },
    {
     "name": "stderr",
     "output_type": "stream",
     "text": [
      "[2023-12-06 09:17:57,831][WARNING]: Skipped checksum for file with hash: dba8e7ac-f826-f8c5-163d-ee065434aa54, and path: /stelmo/nwb/analysis/Bilbo20230802/Bilbo20230802_VFPPDZSII0.nwb\n",
      "WARNING:datajoint:Skipped checksum for file with hash: dba8e7ac-f826-f8c5-163d-ee065434aa54, and path: /stelmo/nwb/analysis/Bilbo20230802/Bilbo20230802_VFPPDZSII0.nwb\n"
     ]
    },
    {
     "name": "stdout",
     "output_type": "stream",
     "text": [
      "Slow Gamma 25-55 Hz Bilbo20230802_.nwb pos 2 valid times c34644ff-9a94-bc43-8111-ba51068cf222\n"
     ]
    },
    {
     "name": "stderr",
     "output_type": "stream",
     "text": [
      "[2023-12-06 09:17:59,525][WARNING]: Skipped checksum for file with hash: dba8e7ac-f826-f8c5-163d-ee065434aa54, and path: /stelmo/nwb/analysis/Bilbo20230802/Bilbo20230802_VFPPDZSII0.nwb\n",
      "WARNING:datajoint:Skipped checksum for file with hash: dba8e7ac-f826-f8c5-163d-ee065434aa54, and path: /stelmo/nwb/analysis/Bilbo20230802/Bilbo20230802_VFPPDZSII0.nwb\n"
     ]
    },
    {
     "name": "stdout",
     "output_type": "stream",
     "text": [
      "Fast Gamma 65-100 Hz Bilbo20230802_.nwb pos 2 valid times c34644ff-9a94-bc43-8111-ba51068cf222\n"
     ]
    },
    {
     "name": "stderr",
     "output_type": "stream",
     "text": [
      "[2023-12-06 09:18:00,215][WARNING]: Skipped checksum for file with hash: e6a2d5fd-7e1d-ad75-95dd-22eb4120d974, and path: /stelmo/nwb/analysis/Bilbo20230802/Bilbo20230802_R7TQZ03EY1.nwb\n",
      "WARNING:datajoint:Skipped checksum for file with hash: e6a2d5fd-7e1d-ad75-95dd-22eb4120d974, and path: /stelmo/nwb/analysis/Bilbo20230802/Bilbo20230802_R7TQZ03EY1.nwb\n"
     ]
    },
    {
     "name": "stdout",
     "output_type": "stream",
     "text": [
      "Slow Gamma 25-55 Hz Bilbo20230802_.nwb pos 3 valid times 95c558e2-7fb8-2cba-e9bf-d9daa92a4b62\n"
     ]
    },
    {
     "name": "stderr",
     "output_type": "stream",
     "text": [
      "[2023-12-06 09:18:01,841][WARNING]: Skipped checksum for file with hash: e6a2d5fd-7e1d-ad75-95dd-22eb4120d974, and path: /stelmo/nwb/analysis/Bilbo20230802/Bilbo20230802_R7TQZ03EY1.nwb\n",
      "WARNING:datajoint:Skipped checksum for file with hash: e6a2d5fd-7e1d-ad75-95dd-22eb4120d974, and path: /stelmo/nwb/analysis/Bilbo20230802/Bilbo20230802_R7TQZ03EY1.nwb\n"
     ]
    },
    {
     "name": "stdout",
     "output_type": "stream",
     "text": [
      "Fast Gamma 65-100 Hz Bilbo20230802_.nwb pos 3 valid times 95c558e2-7fb8-2cba-e9bf-d9daa92a4b62\n"
     ]
    },
    {
     "name": "stderr",
     "output_type": "stream",
     "text": [
      "[2023-12-06 09:18:02,492][WARNING]: Skipped checksum for file with hash: b32bf460-4ff0-a27e-99a9-34027e0e6457, and path: /stelmo/nwb/analysis/Bilbo20230802/Bilbo20230802_MBIN29KIBE.nwb\n",
      "WARNING:datajoint:Skipped checksum for file with hash: b32bf460-4ff0-a27e-99a9-34027e0e6457, and path: /stelmo/nwb/analysis/Bilbo20230802/Bilbo20230802_MBIN29KIBE.nwb\n"
     ]
    },
    {
     "name": "stdout",
     "output_type": "stream",
     "text": [
      "Slow Gamma 25-55 Hz Bilbo20230802_.nwb pos 4 valid times fb391352-c50f-8365-57dc-dc20b4f15cd1\n"
     ]
    },
    {
     "name": "stderr",
     "output_type": "stream",
     "text": [
      "[2023-12-06 09:18:04,133][WARNING]: Skipped checksum for file with hash: b32bf460-4ff0-a27e-99a9-34027e0e6457, and path: /stelmo/nwb/analysis/Bilbo20230802/Bilbo20230802_MBIN29KIBE.nwb\n",
      "WARNING:datajoint:Skipped checksum for file with hash: b32bf460-4ff0-a27e-99a9-34027e0e6457, and path: /stelmo/nwb/analysis/Bilbo20230802/Bilbo20230802_MBIN29KIBE.nwb\n"
     ]
    },
    {
     "name": "stdout",
     "output_type": "stream",
     "text": [
      "Fast Gamma 65-100 Hz Bilbo20230802_.nwb pos 4 valid times fb391352-c50f-8365-57dc-dc20b4f15cd1\n"
     ]
    },
    {
     "name": "stderr",
     "output_type": "stream",
     "text": [
      "[2023-12-06 09:18:04,795][WARNING]: Skipped checksum for file with hash: 2e58e0f1-e354-4de1-ac71-980f7e0fddfa, and path: /stelmo/nwb/analysis/Bilbo20230802/Bilbo20230802_C26PKYDLJ8.nwb\n",
      "WARNING:datajoint:Skipped checksum for file with hash: 2e58e0f1-e354-4de1-ac71-980f7e0fddfa, and path: /stelmo/nwb/analysis/Bilbo20230802/Bilbo20230802_C26PKYDLJ8.nwb\n"
     ]
    },
    {
     "name": "stdout",
     "output_type": "stream",
     "text": [
      "Slow Gamma 25-55 Hz Bilbo20230802_.nwb pos 5 valid times 05e450a7-e414-6ff9-cc67-4f7e83b577c9\n"
     ]
    },
    {
     "name": "stderr",
     "output_type": "stream",
     "text": [
      "[2023-12-06 09:18:06,413][WARNING]: Skipped checksum for file with hash: 2e58e0f1-e354-4de1-ac71-980f7e0fddfa, and path: /stelmo/nwb/analysis/Bilbo20230802/Bilbo20230802_C26PKYDLJ8.nwb\n",
      "WARNING:datajoint:Skipped checksum for file with hash: 2e58e0f1-e354-4de1-ac71-980f7e0fddfa, and path: /stelmo/nwb/analysis/Bilbo20230802/Bilbo20230802_C26PKYDLJ8.nwb\n"
     ]
    },
    {
     "name": "stdout",
     "output_type": "stream",
     "text": [
      "Fast Gamma 65-100 Hz Bilbo20230802_.nwb pos 5 valid times 05e450a7-e414-6ff9-cc67-4f7e83b577c9\n"
     ]
    },
    {
     "name": "stderr",
     "output_type": "stream",
     "text": [
      "[2023-12-06 09:18:07,062][WARNING]: Skipped checksum for file with hash: 82ccf091-7aaf-3c94-f5b0-cfdc6ef97aa3, and path: /stelmo/nwb/analysis/Bilbo20230802/Bilbo20230802_3V16C3QWG3.nwb\n",
      "WARNING:datajoint:Skipped checksum for file with hash: 82ccf091-7aaf-3c94-f5b0-cfdc6ef97aa3, and path: /stelmo/nwb/analysis/Bilbo20230802/Bilbo20230802_3V16C3QWG3.nwb\n"
     ]
    },
    {
     "name": "stdout",
     "output_type": "stream",
     "text": [
      "Slow Gamma 25-55 Hz Bilbo20230802_.nwb pos 6 valid times b109094d-83e4-42aa-b11a-5a4b59ec5eed\n"
     ]
    },
    {
     "name": "stderr",
     "output_type": "stream",
     "text": [
      "[2023-12-06 09:18:08,773][WARNING]: Skipped checksum for file with hash: 82ccf091-7aaf-3c94-f5b0-cfdc6ef97aa3, and path: /stelmo/nwb/analysis/Bilbo20230802/Bilbo20230802_3V16C3QWG3.nwb\n",
      "WARNING:datajoint:Skipped checksum for file with hash: 82ccf091-7aaf-3c94-f5b0-cfdc6ef97aa3, and path: /stelmo/nwb/analysis/Bilbo20230802/Bilbo20230802_3V16C3QWG3.nwb\n"
     ]
    },
    {
     "name": "stdout",
     "output_type": "stream",
     "text": [
      "Fast Gamma 65-100 Hz Bilbo20230802_.nwb pos 6 valid times b109094d-83e4-42aa-b11a-5a4b59ec5eed\n"
     ]
    },
    {
     "name": "stderr",
     "output_type": "stream",
     "text": [
      "[2023-12-06 09:18:09,445][WARNING]: Skipped checksum for file with hash: 4a3d6c84-585c-a3df-933d-4a2ac29922c5, and path: /stelmo/nwb/analysis/Bilbo20230802/Bilbo20230802_XVQJRS56SR.nwb\n",
      "WARNING:datajoint:Skipped checksum for file with hash: 4a3d6c84-585c-a3df-933d-4a2ac29922c5, and path: /stelmo/nwb/analysis/Bilbo20230802/Bilbo20230802_XVQJRS56SR.nwb\n"
     ]
    },
    {
     "name": "stdout",
     "output_type": "stream",
     "text": [
      "Slow Gamma 25-55 Hz Bilbo20230802_.nwb pos 7 valid times d48ad191-0a96-665a-b288-5ad73415f5ed\n"
     ]
    },
    {
     "name": "stderr",
     "output_type": "stream",
     "text": [
      "[2023-12-06 09:18:11,139][WARNING]: Skipped checksum for file with hash: 4a3d6c84-585c-a3df-933d-4a2ac29922c5, and path: /stelmo/nwb/analysis/Bilbo20230802/Bilbo20230802_XVQJRS56SR.nwb\n",
      "WARNING:datajoint:Skipped checksum for file with hash: 4a3d6c84-585c-a3df-933d-4a2ac29922c5, and path: /stelmo/nwb/analysis/Bilbo20230802/Bilbo20230802_XVQJRS56SR.nwb\n"
     ]
    },
    {
     "name": "stdout",
     "output_type": "stream",
     "text": [
      "Fast Gamma 65-100 Hz Bilbo20230802_.nwb pos 7 valid times d48ad191-0a96-665a-b288-5ad73415f5ed\n"
     ]
    },
    {
     "name": "stderr",
     "output_type": "stream",
     "text": [
      "[2023-12-06 09:18:11,855][WARNING]: Skipped checksum for file with hash: 88b7e92c-a24b-0585-9d39-3a078348775f, and path: /stelmo/nwb/analysis/Bilbo20230802/Bilbo20230802_F164IPOYIH.nwb\n",
      "WARNING:datajoint:Skipped checksum for file with hash: 88b7e92c-a24b-0585-9d39-3a078348775f, and path: /stelmo/nwb/analysis/Bilbo20230802/Bilbo20230802_F164IPOYIH.nwb\n"
     ]
    },
    {
     "name": "stdout",
     "output_type": "stream",
     "text": [
      "Slow Gamma 25-55 Hz Bilbo20230802_.nwb pos 8 valid times 0d2524ee-8f3e-d840-cb61-1a33082919f1\n"
     ]
    },
    {
     "name": "stderr",
     "output_type": "stream",
     "text": [
      "[2023-12-06 09:18:13,554][WARNING]: Skipped checksum for file with hash: 88b7e92c-a24b-0585-9d39-3a078348775f, and path: /stelmo/nwb/analysis/Bilbo20230802/Bilbo20230802_F164IPOYIH.nwb\n",
      "WARNING:datajoint:Skipped checksum for file with hash: 88b7e92c-a24b-0585-9d39-3a078348775f, and path: /stelmo/nwb/analysis/Bilbo20230802/Bilbo20230802_F164IPOYIH.nwb\n"
     ]
    },
    {
     "name": "stdout",
     "output_type": "stream",
     "text": [
      "Fast Gamma 65-100 Hz Bilbo20230802_.nwb pos 8 valid times 0d2524ee-8f3e-d840-cb61-1a33082919f1\n"
     ]
    },
    {
     "name": "stderr",
     "output_type": "stream",
     "text": [
      "[2023-12-06 09:18:14,181][WARNING]: Skipped checksum for file with hash: 4d1b2c83-0f92-68a7-1256-7c576c4a282f, and path: /stelmo/nwb/analysis/Bilbo20230802/Bilbo20230802_UQHLR53D1W.nwb\n",
      "WARNING:datajoint:Skipped checksum for file with hash: 4d1b2c83-0f92-68a7-1256-7c576c4a282f, and path: /stelmo/nwb/analysis/Bilbo20230802/Bilbo20230802_UQHLR53D1W.nwb\n"
     ]
    },
    {
     "name": "stdout",
     "output_type": "stream",
     "text": [
      "Slow Gamma 25-55 Hz Bilbo20230802_.nwb pos 9 valid times ea1752a4-4e2e-22c4-a35a-c38eaac06f33\n"
     ]
    },
    {
     "name": "stderr",
     "output_type": "stream",
     "text": [
      "[2023-12-06 09:18:15,914][WARNING]: Skipped checksum for file with hash: 4d1b2c83-0f92-68a7-1256-7c576c4a282f, and path: /stelmo/nwb/analysis/Bilbo20230802/Bilbo20230802_UQHLR53D1W.nwb\n",
      "WARNING:datajoint:Skipped checksum for file with hash: 4d1b2c83-0f92-68a7-1256-7c576c4a282f, and path: /stelmo/nwb/analysis/Bilbo20230802/Bilbo20230802_UQHLR53D1W.nwb\n"
     ]
    },
    {
     "name": "stdout",
     "output_type": "stream",
     "text": [
      "Fast Gamma 65-100 Hz Bilbo20230802_.nwb pos 9 valid times ea1752a4-4e2e-22c4-a35a-c38eaac06f33\n"
     ]
    },
    {
     "name": "stderr",
     "output_type": "stream",
     "text": [
      "[2023-12-06 09:18:16,570][WARNING]: Skipped checksum for file with hash: 5e953a61-a05a-7b6d-3add-4768170e8351, and path: /stelmo/nwb/analysis/Bilbo20230804/Bilbo20230804_LLQLBUHB27.nwb\n",
      "WARNING:datajoint:Skipped checksum for file with hash: 5e953a61-a05a-7b6d-3add-4768170e8351, and path: /stelmo/nwb/analysis/Bilbo20230804/Bilbo20230804_LLQLBUHB27.nwb\n"
     ]
    },
    {
     "name": "stdout",
     "output_type": "stream",
     "text": [
      "Slow Gamma 25-55 Hz Bilbo20230804_.nwb pos 0 valid times 6e807a9e-6cfc-76f8-aa08-7ca28d0f9180\n"
     ]
    },
    {
     "name": "stderr",
     "output_type": "stream",
     "text": [
      "[2023-12-06 09:18:18,209][WARNING]: Skipped checksum for file with hash: 5e953a61-a05a-7b6d-3add-4768170e8351, and path: /stelmo/nwb/analysis/Bilbo20230804/Bilbo20230804_LLQLBUHB27.nwb\n",
      "WARNING:datajoint:Skipped checksum for file with hash: 5e953a61-a05a-7b6d-3add-4768170e8351, and path: /stelmo/nwb/analysis/Bilbo20230804/Bilbo20230804_LLQLBUHB27.nwb\n"
     ]
    },
    {
     "name": "stdout",
     "output_type": "stream",
     "text": [
      "Fast Gamma 65-100 Hz Bilbo20230804_.nwb pos 0 valid times 6e807a9e-6cfc-76f8-aa08-7ca28d0f9180\n"
     ]
    },
    {
     "name": "stderr",
     "output_type": "stream",
     "text": [
      "[2023-12-06 09:18:18,872][WARNING]: Skipped checksum for file with hash: d67a8a67-374c-afde-ab95-cb8c71956296, and path: /stelmo/nwb/analysis/Bilbo20230804/Bilbo20230804_A5E9ZH97TN.nwb\n",
      "WARNING:datajoint:Skipped checksum for file with hash: d67a8a67-374c-afde-ab95-cb8c71956296, and path: /stelmo/nwb/analysis/Bilbo20230804/Bilbo20230804_A5E9ZH97TN.nwb\n"
     ]
    },
    {
     "name": "stdout",
     "output_type": "stream",
     "text": [
      "Slow Gamma 25-55 Hz Bilbo20230804_.nwb pos 1 valid times 36b362a9-60a8-db3e-a802-128b6a9b52cf\n"
     ]
    },
    {
     "name": "stderr",
     "output_type": "stream",
     "text": [
      "[2023-12-06 09:18:20,670][WARNING]: Skipped checksum for file with hash: d67a8a67-374c-afde-ab95-cb8c71956296, and path: /stelmo/nwb/analysis/Bilbo20230804/Bilbo20230804_A5E9ZH97TN.nwb\n",
      "WARNING:datajoint:Skipped checksum for file with hash: d67a8a67-374c-afde-ab95-cb8c71956296, and path: /stelmo/nwb/analysis/Bilbo20230804/Bilbo20230804_A5E9ZH97TN.nwb\n"
     ]
    },
    {
     "name": "stdout",
     "output_type": "stream",
     "text": [
      "Fast Gamma 65-100 Hz Bilbo20230804_.nwb pos 1 valid times 36b362a9-60a8-db3e-a802-128b6a9b52cf\n"
     ]
    },
    {
     "name": "stderr",
     "output_type": "stream",
     "text": [
      "[2023-12-06 09:18:21,357][WARNING]: Skipped checksum for file with hash: e7ceccc0-a045-e06d-8232-bf129bad016e, and path: /stelmo/nwb/analysis/Bilbo20230804/Bilbo20230804_6IWRMKB2RI.nwb\n",
      "WARNING:datajoint:Skipped checksum for file with hash: e7ceccc0-a045-e06d-8232-bf129bad016e, and path: /stelmo/nwb/analysis/Bilbo20230804/Bilbo20230804_6IWRMKB2RI.nwb\n"
     ]
    },
    {
     "name": "stdout",
     "output_type": "stream",
     "text": [
      "Slow Gamma 25-55 Hz Bilbo20230804_.nwb pos 2 valid times 58f438e0-4dd9-f16c-41ba-692f510fc3e3\n"
     ]
    },
    {
     "name": "stderr",
     "output_type": "stream",
     "text": [
      "[2023-12-06 09:18:23,080][WARNING]: Skipped checksum for file with hash: e7ceccc0-a045-e06d-8232-bf129bad016e, and path: /stelmo/nwb/analysis/Bilbo20230804/Bilbo20230804_6IWRMKB2RI.nwb\n",
      "WARNING:datajoint:Skipped checksum for file with hash: e7ceccc0-a045-e06d-8232-bf129bad016e, and path: /stelmo/nwb/analysis/Bilbo20230804/Bilbo20230804_6IWRMKB2RI.nwb\n"
     ]
    },
    {
     "name": "stdout",
     "output_type": "stream",
     "text": [
      "Fast Gamma 65-100 Hz Bilbo20230804_.nwb pos 2 valid times 58f438e0-4dd9-f16c-41ba-692f510fc3e3\n"
     ]
    },
    {
     "name": "stderr",
     "output_type": "stream",
     "text": [
      "[2023-12-06 09:18:23,793][WARNING]: Skipped checksum for file with hash: 422e0db9-abcb-d053-d7c3-c5a8b7988b37, and path: /stelmo/nwb/analysis/Bilbo20230804/Bilbo20230804_XO59JSQ5F0.nwb\n",
      "WARNING:datajoint:Skipped checksum for file with hash: 422e0db9-abcb-d053-d7c3-c5a8b7988b37, and path: /stelmo/nwb/analysis/Bilbo20230804/Bilbo20230804_XO59JSQ5F0.nwb\n"
     ]
    },
    {
     "name": "stdout",
     "output_type": "stream",
     "text": [
      "Slow Gamma 25-55 Hz Bilbo20230804_.nwb pos 3 valid times 58939102-7774-fe1e-7361-726242519b50\n"
     ]
    },
    {
     "name": "stderr",
     "output_type": "stream",
     "text": [
      "[2023-12-06 09:18:25,501][WARNING]: Skipped checksum for file with hash: 422e0db9-abcb-d053-d7c3-c5a8b7988b37, and path: /stelmo/nwb/analysis/Bilbo20230804/Bilbo20230804_XO59JSQ5F0.nwb\n",
      "WARNING:datajoint:Skipped checksum for file with hash: 422e0db9-abcb-d053-d7c3-c5a8b7988b37, and path: /stelmo/nwb/analysis/Bilbo20230804/Bilbo20230804_XO59JSQ5F0.nwb\n"
     ]
    },
    {
     "name": "stdout",
     "output_type": "stream",
     "text": [
      "Fast Gamma 65-100 Hz Bilbo20230804_.nwb pos 3 valid times 58939102-7774-fe1e-7361-726242519b50\n"
     ]
    },
    {
     "name": "stderr",
     "output_type": "stream",
     "text": [
      "[2023-12-06 09:18:26,161][WARNING]: Skipped checksum for file with hash: 3a31e642-721c-d401-d697-5019361f3ab5, and path: /stelmo/nwb/analysis/Bilbo20230804/Bilbo20230804_3QTOB4AKX6.nwb\n",
      "WARNING:datajoint:Skipped checksum for file with hash: 3a31e642-721c-d401-d697-5019361f3ab5, and path: /stelmo/nwb/analysis/Bilbo20230804/Bilbo20230804_3QTOB4AKX6.nwb\n"
     ]
    },
    {
     "name": "stdout",
     "output_type": "stream",
     "text": [
      "Slow Gamma 25-55 Hz Bilbo20230804_.nwb pos 4 valid times d1512c83-6945-f029-72bb-2453a666a918\n"
     ]
    },
    {
     "name": "stderr",
     "output_type": "stream",
     "text": [
      "[2023-12-06 09:18:28,526][WARNING]: Skipped checksum for file with hash: 3a31e642-721c-d401-d697-5019361f3ab5, and path: /stelmo/nwb/analysis/Bilbo20230804/Bilbo20230804_3QTOB4AKX6.nwb\n",
      "WARNING:datajoint:Skipped checksum for file with hash: 3a31e642-721c-d401-d697-5019361f3ab5, and path: /stelmo/nwb/analysis/Bilbo20230804/Bilbo20230804_3QTOB4AKX6.nwb\n"
     ]
    },
    {
     "name": "stdout",
     "output_type": "stream",
     "text": [
      "Fast Gamma 65-100 Hz Bilbo20230804_.nwb pos 4 valid times d1512c83-6945-f029-72bb-2453a666a918\n"
     ]
    }
   ],
   "source": [
    "# desired sampling rate\n",
    "lfp_band_sampling_rate = 1000\n",
    "missing_lfp = []\n",
    "\n",
    "\n",
    "for nwb_file_name, interval_list_name in zip(nwb_file_names,interval_list_names):\n",
    "    \n",
    "    for filter_name in filter_names:\n",
    "                \n",
    "        basic_key = {\"nwb_file_name\": nwb_file_name,'target_interval_list_name':interval_list_name}\n",
    "        \n",
    "        #check that lfp exists for this animal\n",
    "        if len(LFPV1() & basic_key)==0:\n",
    "            missing_lfp.append(basic_key)\n",
    "            continue\n",
    "        if len(LFPV1 & basic_key)>1:\n",
    "            electrode_group_names = (LFPV1() & basic_key).fetch(\"lfp_electrode_group_name\")\n",
    "            electrode_group_name =[x for x in electrode_group_names if nwb_file_name.split('202')[0] in x][0]\n",
    "            basic_key[\"lfp_electrode_group_name\"] = electrode_group_name\n",
    "        if not (LFPV1 & basic_key).fetch1('lfp_sampling_rate')==1000:\n",
    "            continue\n",
    "          \n",
    "        # skip if already in the selection table\n",
    "        if LFPBandSelection() & {'nwb_file_name':nwb_file_name,'target_interval_list_name':interval_list_name,\n",
    "                                 'filter_name':filter_name,'lfp_band_sampling_rate':lfp_band_sampling_rate}:\n",
    "            continue    \n",
    "        #get lfp's sampling rate\n",
    "        lfp_sampling_rate = (LFPV1() & basic_key ).fetch1(\n",
    "            \"lfp_sampling_rate\"\n",
    "        )\n",
    "        \n",
    "        #get lfp filter sampling_rate\n",
    "        lfp_filter_sampling_rate = (LFPV1() & basic_key).fetch1(\n",
    "            \"filter_sampling_rate\"\n",
    "        )\n",
    "        \n",
    "        #get lfp filter name\n",
    "        lfp_filter_name = (LFPV1() & basic_key).fetch1(\n",
    "            \"filter_name\"\n",
    "        )\n",
    "        \n",
    "        # make lfp selection key\n",
    "        lfp_s_key = basic_key.copy()\n",
    "        lfp_s_key[\"target_interval_list_name\"] = interval_list_name\n",
    "        lfp_s_key[\"filter_name\"] = lfp_filter_name\n",
    "        lfp_s_key[\"filter_sampling_rate\"] = lfp_filter_sampling_rate\n",
    "        \n",
    "        # get the electrodes the lfp was run on\n",
    "        lfp_electrode_group_name = (LFPV1 & lfp_s_key).fetch1('lfp_electrode_group_name')\n",
    "        lfp_eg_key = {\n",
    "                \"nwb_file_name\": nwb_file_name,\n",
    "                \"lfp_electrode_group_name\": lfp_electrode_group_name,\n",
    "                }\n",
    "        electrode_list = list(np.asarray((LFPV1 & basic_key).fetch_nwb()[0]['lfp'].electrodes.to_dataframe().index))\n",
    "        \n",
    "        # remake lfp selection key\n",
    "        lfp_s_key = basic_key.copy()\n",
    "        lfp_s_key[\"target_interval_list_name\"] = interval_list_name\n",
    "        lfp_s_key[\"filter_name\"] = lfp_filter_name\n",
    "        lfp_s_key[\"filter_sampling_rate\"] = lfp_filter_sampling_rate\n",
    "        \n",
    "        # set the reference to -1 to indicate no reference for all channels\n",
    "        ref_elect = [-1]\n",
    "        \n",
    "        # we also need the uuid for the LFP object\n",
    "        lfp_merge_id = (LFPOutput.LFPV1 & lfp_s_key).fetch1('merge_id')\n",
    "        \n",
    "        print(filter_name, nwb_file_name, interval_list_name, lfp_merge_id)\n",
    "        # #make Band selection table entry\n",
    "        LFPBandSelection().set_lfp_band_electrodes(\n",
    "                nwb_file_name=nwb_file_name,\n",
    "                lfp_merge_id=lfp_merge_id,\n",
    "                electrode_list=electrode_list,\n",
    "                filter_name=filter_name,\n",
    "                interval_list_name=interval_list_name,\n",
    "                reference_electrode_list=ref_elect,\n",
    "                lfp_band_sampling_rate=lfp_band_sampling_rate,\n",
    "            )\n",
    "        \n",
    "        # lfp_band_key = (\n",
    "        #     LFPBandSelection\n",
    "        #     & {\n",
    "        #         \"lfp_merge_id\": lfp_merge_id,\n",
    "        #         \"filter_name\": filter_name,\n",
    "        #         \"lfp_band_sampling_rate\": lfp_band_sampling_rate,\n",
    "        #         \"target_interval_list_name\":interval_list_name,\n",
    "        #     }\n",
    "        # ).fetch1(\"KEY\")\n",
    "        # if LFPBandV1() & lfp_band_key:\n",
    "        #     continue #already populated\n",
    "        # # lfp_band_key['lfp_electrode_group_name']=\"full_probe\"\n",
    "        # LFPBandV1().populate(LFPBandSelection()&lfp_band_key)\n"
   ]
  },
  {
   "cell_type": "code",
   "execution_count": 30,
   "id": "cc9830e8",
   "metadata": {},
   "outputs": [
    {
     "name": "stderr",
     "output_type": "stream",
     "text": [
      "[2023-12-06 08:51:36,901][WARNING]: MySQL server has gone away. Reconnecting to the server.\n",
      "WARNING:datajoint:MySQL server has gone away. Reconnecting to the server.\n"
     ]
    },
    {
     "data": {
      "text/html": [
       "\n",
       "    \n",
       "    <style type=\"text/css\">\n",
       "        .Table{\n",
       "            border-collapse:collapse;\n",
       "        }\n",
       "        .Table th{\n",
       "            background: #A0A0A0; color: #ffffff; padding:4px; border:#f0e0e0 1px solid;\n",
       "            font-weight: normal; font-family: monospace; font-size: 100%;\n",
       "        }\n",
       "        .Table td{\n",
       "            padding:4px; border:#f0e0e0 1px solid; font-size:100%;\n",
       "        }\n",
       "        .Table tr:nth-child(odd){\n",
       "            background: #ffffff;\n",
       "            color: #000000;\n",
       "        }\n",
       "        .Table tr:nth-child(even){\n",
       "            background: #f3f1ff;\n",
       "            color: #000000;\n",
       "        }\n",
       "        /* Tooltip container */\n",
       "        .djtooltip {\n",
       "        }\n",
       "        /* Tooltip text */\n",
       "        .djtooltip .djtooltiptext {\n",
       "            visibility: hidden;\n",
       "            width: 120px;\n",
       "            background-color: black;\n",
       "            color: #fff;\n",
       "            text-align: center;\n",
       "            padding: 5px 0;\n",
       "            border-radius: 6px;\n",
       "            /* Position the tooltip text - see examples below! */\n",
       "            position: absolute;\n",
       "            z-index: 1;\n",
       "        }\n",
       "        #primary {\n",
       "            font-weight: bold;\n",
       "            color: black;\n",
       "        }\n",
       "        #nonprimary {\n",
       "            font-weight: normal;\n",
       "            color: white;\n",
       "        }\n",
       "\n",
       "        /* Show the tooltip text when you mouse over the tooltip container */\n",
       "        .djtooltip:hover .djtooltiptext {\n",
       "            visibility: visible;\n",
       "        }\n",
       "    </style>\n",
       "    \n",
       "    <b></b>\n",
       "        <div style=\"max-height:1000px;max-width:1500px;overflow:auto;\">\n",
       "        <table border=\"1\" class=\"Table\">\n",
       "            <thead> <tr style=\"text-align: right;\"> <th> <div class=\"djtooltip\">\n",
       "                            <p id=\"primary\">lfp_merge_id</p>\n",
       "                            <span class=\"djtooltiptext\"></span>\n",
       "                        </div></th><th><div class=\"djtooltip\">\n",
       "                            <p id=\"primary\">filter_name</p>\n",
       "                            <span class=\"djtooltiptext\">descriptive name of this filter</span>\n",
       "                        </div></th><th><div class=\"djtooltip\">\n",
       "                            <p id=\"primary\">filter_sampling_rate</p>\n",
       "                            <span class=\"djtooltiptext\">sampling rate for this filter</span>\n",
       "                        </div></th><th><div class=\"djtooltip\">\n",
       "                            <p id=\"primary\">nwb_file_name</p>\n",
       "                            <span class=\"djtooltiptext\">name of the NWB file</span>\n",
       "                        </div></th><th><div class=\"djtooltip\">\n",
       "                            <p id=\"primary\">target_interval_list_name</p>\n",
       "                            <span class=\"djtooltiptext\">descriptive name of this interval list</span>\n",
       "                        </div></th><th><div class=\"djtooltip\">\n",
       "                            <p id=\"primary\">lfp_band_sampling_rate</p>\n",
       "                            <span class=\"djtooltiptext\">the sampling rate for this band</span>\n",
       "                        </div></th><th><div class=\"djtooltip\">\n",
       "                            <p id=\"nonprimary\">min_interval_len</p>\n",
       "                            <span class=\"djtooltiptext\">the minimum length of a valid interval to filter</span>\n",
       "                        </div> </th> </tr> </thead>\n",
       "            <tbody> <tr> <td>00aedd21-9c6e-39e1-4e91-04a00f5dc57c</td>\n",
       "<td>Slow Gamma 25-55 Hz</td>\n",
       "<td>1000</td>\n",
       "<td>Wallie20220922_.nwb</td>\n",
       "<td>pos 5 valid times</td>\n",
       "<td>1000</td>\n",
       "<td>1.0</td></tr><tr><td>01db9906-95a3-afa2-adf2-8307a6b66905</td>\n",
       "<td>Slow Gamma 25-55 Hz</td>\n",
       "<td>1000</td>\n",
       "<td>Totoro20220531_.nwb</td>\n",
       "<td>pos 1 valid times</td>\n",
       "<td>1000</td>\n",
       "<td>1.0</td></tr><tr><td>0350db5a-d32b-8745-b3b0-10dfab3fdb4b</td>\n",
       "<td>Slow Gamma 25-55 Hz</td>\n",
       "<td>1000</td>\n",
       "<td>Odins20220216_.nwb</td>\n",
       "<td>pos 7 valid times</td>\n",
       "<td>1000</td>\n",
       "<td>1.0</td></tr><tr><td>0378ca90-bd31-def0-aca8-b3a705adaf76</td>\n",
       "<td>Slow Gamma 25-55 Hz</td>\n",
       "<td>1000</td>\n",
       "<td>Odins20220110_.nwb</td>\n",
       "<td>pos 2 valid times</td>\n",
       "<td>1000</td>\n",
       "<td>1.0</td></tr><tr><td>046ceb75-8820-b22e-21e4-a7c3d942b99b</td>\n",
       "<td>Slow Gamma 25-55 Hz</td>\n",
       "<td>1000</td>\n",
       "<td>Totoro20220527_.nwb</td>\n",
       "<td>pos 1 valid times</td>\n",
       "<td>1000</td>\n",
       "<td>1.0</td></tr><tr><td>04d0d8c3-db8c-528e-a03f-131749f785b3</td>\n",
       "<td>Slow Gamma 25-55 Hz</td>\n",
       "<td>1000</td>\n",
       "<td>Totoro20220610_.nwb</td>\n",
       "<td>pos 5 valid times</td>\n",
       "<td>1000</td>\n",
       "<td>1.0</td></tr><tr><td>0601305a-fadf-eea1-d54f-694abfec91fa</td>\n",
       "<td>Slow Gamma 25-55 Hz</td>\n",
       "<td>1000</td>\n",
       "<td>Banner20220225_.nwb</td>\n",
       "<td>pos 2 valid times</td>\n",
       "<td>1000</td>\n",
       "<td>1.0</td></tr><tr><td>07a627ed-018c-78bb-08d2-f02357811af8</td>\n",
       "<td>Slow Gamma 25-55 Hz</td>\n",
       "<td>1000</td>\n",
       "<td>Wallie20220913_.nwb</td>\n",
       "<td>pos 5 valid times</td>\n",
       "<td>1000</td>\n",
       "<td>1.0</td></tr><tr><td>08cb60ed-cb5a-09ea-9420-551854ee3f88</td>\n",
       "<td>Slow Gamma 25-55 Hz</td>\n",
       "<td>1000</td>\n",
       "<td>Totoro20220530_.nwb</td>\n",
       "<td>pos 1 valid times</td>\n",
       "<td>1000</td>\n",
       "<td>1.0</td></tr><tr><td>093796f3-db61-7b08-d0d3-7841c2d2f9c9</td>\n",
       "<td>Slow Gamma 25-55 Hz</td>\n",
       "<td>1000</td>\n",
       "<td>Odins20220216_.nwb</td>\n",
       "<td>pos 5 valid times</td>\n",
       "<td>1000</td>\n",
       "<td>1.0</td></tr><tr><td>094efd71-cf65-b2f5-cb84-93988d612abb</td>\n",
       "<td>Slow Gamma 25-55 Hz</td>\n",
       "<td>1000</td>\n",
       "<td>Wallie20220912_.nwb</td>\n",
       "<td>pos 1 valid times</td>\n",
       "<td>1000</td>\n",
       "<td>1.0</td></tr><tr><td>0aa24de6-c02f-b5c6-3c62-70b950544a25</td>\n",
       "<td>Slow Gamma 25-55 Hz</td>\n",
       "<td>1000</td>\n",
       "<td>Totoro20220610_.nwb</td>\n",
       "<td>pos 6 valid times</td>\n",
       "<td>1000</td>\n",
       "<td>1.0</td> </tr> </tbody>\n",
       "        </table>\n",
       "        <p>...</p>\n",
       "        <p>Total: 425</p></div>\n",
       "        "
      ],
      "text/plain": [
       "*lfp_merge_id  *filter_name   *filter_sampli *nwb_file_name *target_interv *lfp_band_samp min_interval_l\n",
       "+------------+ +------------+ +------------+ +------------+ +------------+ +------------+ +------------+\n",
       "00aedd21-9c6e- Slow Gamma 25- 1000           Wallie20220922 pos 5 valid ti 1000           1.0           \n",
       "01db9906-95a3- Slow Gamma 25- 1000           Totoro20220531 pos 1 valid ti 1000           1.0           \n",
       "0350db5a-d32b- Slow Gamma 25- 1000           Odins20220216_ pos 7 valid ti 1000           1.0           \n",
       "0378ca90-bd31- Slow Gamma 25- 1000           Odins20220110_ pos 2 valid ti 1000           1.0           \n",
       "046ceb75-8820- Slow Gamma 25- 1000           Totoro20220527 pos 1 valid ti 1000           1.0           \n",
       "04d0d8c3-db8c- Slow Gamma 25- 1000           Totoro20220610 pos 5 valid ti 1000           1.0           \n",
       "0601305a-fadf- Slow Gamma 25- 1000           Banner20220225 pos 2 valid ti 1000           1.0           \n",
       "07a627ed-018c- Slow Gamma 25- 1000           Wallie20220913 pos 5 valid ti 1000           1.0           \n",
       "08cb60ed-cb5a- Slow Gamma 25- 1000           Totoro20220530 pos 1 valid ti 1000           1.0           \n",
       "093796f3-db61- Slow Gamma 25- 1000           Odins20220216_ pos 5 valid ti 1000           1.0           \n",
       "094efd71-cf65- Slow Gamma 25- 1000           Wallie20220912 pos 1 valid ti 1000           1.0           \n",
       "0aa24de6-c02f- Slow Gamma 25- 1000           Totoro20220610 pos 6 valid ti 1000           1.0           \n",
       "   ...\n",
       " (Total: 425)"
      ]
     },
     "execution_count": 30,
     "metadata": {},
     "output_type": "execute_result"
    }
   ],
   "source": [
    "LFPBandSelection() & {'filter_name':'Slow Gamma 25-55 Hz'}"
   ]
  },
  {
   "cell_type": "code",
   "execution_count": 43,
   "id": "9abe9f39",
   "metadata": {},
   "outputs": [
    {
     "name": "stderr",
     "output_type": "stream",
     "text": [
      "Processes:   0%|          | 0/674 [00:00<?, ?it/s][2023-12-06 10:44:50,325][WARNING]: Skipped checksum for file with hash: 44704709-7097-5086-3812-4f0c30c8e691, and path: /stelmo/nwb/analysis/Wallie20220911/Wallie20220911_Y5H7RNRESZ.nwb\n",
      "WARNING:datajoint:Skipped checksum for file with hash: 44704709-7097-5086-3812-4f0c30c8e691, and path: /stelmo/nwb/analysis/Wallie20220911/Wallie20220911_Y5H7RNRESZ.nwb\n",
      "[2023-12-06 10:44:50,335][WARNING]: Skipped checksum for file with hash: 25d8b8cd-4a4e-b4ba-2252-776d28bb4718, and path: /stelmo/nwb/analysis/Winnie20220713/Winnie20220713_YYUM4C0GTJ.nwb\n",
      "[2023-12-06 10:44:50,337][WARNING]: Skipped checksum for file with hash: 09dc5a4b-74f2-7763-9da8-41ef3138b720, and path: /stelmo/nwb/analysis/Totoro20220606/Totoro20220606_Y2D8H6PYY4.nwb\n",
      "WARNING:datajoint:Skipped checksum for file with hash: 25d8b8cd-4a4e-b4ba-2252-776d28bb4718, and path: /stelmo/nwb/analysis/Winnie20220713/Winnie20220713_YYUM4C0GTJ.nwb\n",
      "WARNING:datajoint:Skipped checksum for file with hash: 09dc5a4b-74f2-7763-9da8-41ef3138b720, and path: /stelmo/nwb/analysis/Totoro20220606/Totoro20220606_Y2D8H6PYY4.nwb\n",
      "[2023-12-06 10:44:50,342][WARNING]: Skipped checksum for file with hash: 1dbff963-9ba7-3014-3a43-fec29d480df2, and path: /stelmo/nwb/analysis/Frodo20230809/Frodo20230809_239VGF5BXR.nwb\n",
      "WARNING:datajoint:Skipped checksum for file with hash: 1dbff963-9ba7-3014-3a43-fec29d480df2, and path: /stelmo/nwb/analysis/Frodo20230809/Frodo20230809_239VGF5BXR.nwb\n",
      "[2023-12-06 10:44:50,346][WARNING]: Skipped checksum for file with hash: 0500b1b8-30d7-d1b0-fc3f-e69379ef3c7c, and path: /stelmo/nwb/analysis/Winnie20220718/Winnie20220718_JN19HSGFES.nwb\n",
      "[2023-12-06 10:44:50,347][WARNING]: Skipped checksum for file with hash: 7102307c-e3a0-1af2-e4c0-71b6fe5cdde4, and path: /stelmo/nwb/analysis/Winnie20220713/Winnie20220713_824JXQAB78.nwb\n",
      "[2023-12-06 10:44:50,347][WARNING]: Skipped checksum for file with hash: 1c9c4ce8-4fe9-a884-fd4c-0089d28c9c54, and path: /stelmo/nwb/analysis/Odins20220107/Odins20220107_Q35MGROIAG.nwb\n",
      "[2023-12-06 10:44:50,347][WARNING]: Skipped checksum for file with hash: 0ef15ed7-9b3d-f3e4-b150-1e125e3e1634, and path: /stelmo/nwb/analysis/Olive20220706/Olive20220706_I3PY2A64WK.nwb\n",
      "[2023-12-06 10:44:50,347][WARNING]: Skipped checksum for file with hash: 69dbc038-278a-3b5a-fa8c-3073fed4a92c, and path: /stelmo/nwb/analysis/Winnie20220717/Winnie20220717_05FYO1MYUZ.nwb\n",
      "[2023-12-06 10:44:50,348][WARNING]: Skipped checksum for file with hash: 0734d2c4-84bc-77ab-21c3-8808634fc0a5, and path: /stelmo/nwb/analysis/Winnie20220719/Winnie20220719_8CMXVMQCZ2.nwb\n",
      "[2023-12-06 10:44:50,349][WARNING]: Skipped checksum for file with hash: 544931b9-125c-8b3a-172d-573db30dfd01, and path: /stelmo/nwb/analysis/Olive20220629/Olive20220629_KIMX577XXU.nwb\n",
      "[2023-12-06 10:44:50,349][WARNING]: Skipped checksum for file with hash: 8836b924-8635-d919-2ea9-11a690d8ca4b, and path: /stelmo/nwb/analysis/Olive20220629/Olive20220629_FUCKU3L7K1.nwb\n",
      "WARNING:datajoint:Skipped checksum for file with hash: 0500b1b8-30d7-d1b0-fc3f-e69379ef3c7c, and path: /stelmo/nwb/analysis/Winnie20220718/Winnie20220718_JN19HSGFES.nwb\n",
      "WARNING:datajoint:Skipped checksum for file with hash: 69dbc038-278a-3b5a-fa8c-3073fed4a92c, and path: /stelmo/nwb/analysis/Winnie20220717/Winnie20220717_05FYO1MYUZ.nwb\n",
      "WARNING:datajoint:Skipped checksum for file with hash: 0ef15ed7-9b3d-f3e4-b150-1e125e3e1634, and path: /stelmo/nwb/analysis/Olive20220706/Olive20220706_I3PY2A64WK.nwb\n",
      "WARNING:datajoint:Skipped checksum for file with hash: 1c9c4ce8-4fe9-a884-fd4c-0089d28c9c54, and path: /stelmo/nwb/analysis/Odins20220107/Odins20220107_Q35MGROIAG.nwb\n",
      "WARNING:datajoint:Skipped checksum for file with hash: 0734d2c4-84bc-77ab-21c3-8808634fc0a5, and path: /stelmo/nwb/analysis/Winnie20220719/Winnie20220719_8CMXVMQCZ2.nwb\n",
      "[2023-12-06 10:44:50,351][WARNING]: Skipped checksum for file with hash: 12dc2ad7-dab7-feb2-94a4-ba37a478539b, and path: /stelmo/nwb/analysis/Olive20220708/Olive20220708_3FPJXNXFMY.nwb\n",
      "[2023-12-06 10:44:50,352][WARNING]: Skipped checksum for file with hash: 499e9522-e63b-02ad-d0a7-e81e12972859, and path: /stelmo/nwb/analysis/Banner20220126/Banner20220126_MIQD2FI3WV.nwb\n",
      "WARNING:datajoint:Skipped checksum for file with hash: 8836b924-8635-d919-2ea9-11a690d8ca4b, and path: /stelmo/nwb/analysis/Olive20220629/Olive20220629_FUCKU3L7K1.nwb\n",
      "WARNING:datajoint:Skipped checksum for file with hash: 544931b9-125c-8b3a-172d-573db30dfd01, and path: /stelmo/nwb/analysis/Olive20220629/Olive20220629_KIMX577XXU.nwb\n",
      "[2023-12-06 10:44:50,352][WARNING]: Skipped checksum for file with hash: 6a991efe-84dc-0dec-300b-2586dbcc2df6, and path: /stelmo/nwb/analysis/Totoro20220617/Totoro20220617_ZUFQNR7OX0.nwb\n",
      "WARNING:datajoint:Skipped checksum for file with hash: 7102307c-e3a0-1af2-e4c0-71b6fe5cdde4, and path: /stelmo/nwb/analysis/Winnie20220713/Winnie20220713_824JXQAB78.nwb\n",
      "[2023-12-06 10:44:50,352][WARNING]: Skipped checksum for file with hash: 1e7a2ecf-1cb3-4009-2f3b-1676c35ab8ed, and path: /stelmo/nwb/analysis/Frodo20230815/Frodo20230815_Q85N6001WT.nwb\n",
      "[2023-12-06 10:44:50,353][WARNING]: Skipped checksum for file with hash: 3ffe0282-21ca-4d2d-7697-5b00e20bc8f4, and path: /stelmo/nwb/analysis/Winnie20220716/Winnie20220716_AWAPZ7NOYN.nwb\n",
      "WARNING:datajoint:Skipped checksum for file with hash: 12dc2ad7-dab7-feb2-94a4-ba37a478539b, and path: /stelmo/nwb/analysis/Olive20220708/Olive20220708_3FPJXNXFMY.nwb\n",
      "WARNING:datajoint:Skipped checksum for file with hash: 499e9522-e63b-02ad-d0a7-e81e12972859, and path: /stelmo/nwb/analysis/Banner20220126/Banner20220126_MIQD2FI3WV.nwb\n",
      "[2023-12-06 10:44:50,354][WARNING]: Skipped checksum for file with hash: 8e0fca63-23b3-0ce5-3ad3-b231d77a81f6, and path: /stelmo/nwb/analysis/Yoshi20220516/Yoshi20220516_F65X7GKW8H.nwb\n",
      "WARNING:datajoint:Skipped checksum for file with hash: 6a991efe-84dc-0dec-300b-2586dbcc2df6, and path: /stelmo/nwb/analysis/Totoro20220617/Totoro20220617_ZUFQNR7OX0.nwb\n",
      "WARNING:datajoint:Skipped checksum for file with hash: 1e7a2ecf-1cb3-4009-2f3b-1676c35ab8ed, and path: /stelmo/nwb/analysis/Frodo20230815/Frodo20230815_Q85N6001WT.nwb\n",
      "[2023-12-06 10:44:50,356][WARNING]: Skipped checksum for file with hash: 4ccfd355-75fe-18a8-4b14-c52fced75075, and path: /stelmo/nwb/analysis/Winnie20220714/Winnie20220714_GW6DVTK51X.nwb\n",
      "[2023-12-06 10:44:50,356][WARNING]: Skipped checksum for file with hash: ed2830cc-18be-c07a-0e7e-2b28886c23ee, and path: /stelmo/nwb/analysis/Wallie20220912/Wallie20220912_MKIOBWXYK1.nwb\n",
      "WARNING:datajoint:Skipped checksum for file with hash: 3ffe0282-21ca-4d2d-7697-5b00e20bc8f4, and path: /stelmo/nwb/analysis/Winnie20220716/Winnie20220716_AWAPZ7NOYN.nwb\n",
      "[2023-12-06 10:44:50,356][WARNING]: Skipped checksum for file with hash: c801ec93-e6eb-9b40-526a-8359d397bbff, and path: /stelmo/nwb/analysis/Bilbo20230724/Bilbo20230724_ET6CVP9K6E.nwb\n",
      "WARNING:datajoint:Skipped checksum for file with hash: 8e0fca63-23b3-0ce5-3ad3-b231d77a81f6, and path: /stelmo/nwb/analysis/Yoshi20220516/Yoshi20220516_F65X7GKW8H.nwb\n",
      "[2023-12-06 10:44:50,358][WARNING]: Skipped checksum for file with hash: aa0388cd-d5e0-94eb-9bde-0eb0d3cdd253, and path: /stelmo/nwb/analysis/Olive20220701/Olive20220701_MZ9NX11XLE.nwb\n",
      "WARNING:datajoint:Skipped checksum for file with hash: ed2830cc-18be-c07a-0e7e-2b28886c23ee, and path: /stelmo/nwb/analysis/Wallie20220912/Wallie20220912_MKIOBWXYK1.nwb\n",
      "[2023-12-06 10:44:50,358][WARNING]: Skipped checksum for file with hash: e0257f41-d9dc-712d-8ab5-253c52acc63f, and path: /stelmo/nwb/analysis/Olive20220629/Olive20220629_MA1GXW1V1G.nwb\n",
      "WARNING:datajoint:Skipped checksum for file with hash: 4ccfd355-75fe-18a8-4b14-c52fced75075, and path: /stelmo/nwb/analysis/Winnie20220714/Winnie20220714_GW6DVTK51X.nwb\n",
      "WARNING:datajoint:Skipped checksum for file with hash: c801ec93-e6eb-9b40-526a-8359d397bbff, and path: /stelmo/nwb/analysis/Bilbo20230724/Bilbo20230724_ET6CVP9K6E.nwb\n",
      "[2023-12-06 10:44:50,358][WARNING]: Skipped checksum for file with hash: 158d392f-809b-656b-f9af-4cc8b65d3041, and path: /stelmo/nwb/analysis/Winnie20220718/Winnie20220718_074KB32E65.nwb\n",
      "WARNING:datajoint:Skipped checksum for file with hash: aa0388cd-d5e0-94eb-9bde-0eb0d3cdd253, and path: /stelmo/nwb/analysis/Olive20220701/Olive20220701_MZ9NX11XLE.nwb\n",
      "WARNING:datajoint:Skipped checksum for file with hash: 158d392f-809b-656b-f9af-4cc8b65d3041, and path: /stelmo/nwb/analysis/Winnie20220718/Winnie20220718_074KB32E65.nwb\n",
      "[2023-12-06 10:44:50,359][WARNING]: Skipped checksum for file with hash: 9b11e881-04e4-a1ad-17fd-7340d5b033bd, and path: /stelmo/nwb/analysis/Yoshi20220516/Yoshi20220516_VYVRDLH6QS.nwb\n",
      "WARNING:datajoint:Skipped checksum for file with hash: e0257f41-d9dc-712d-8ab5-253c52acc63f, and path: /stelmo/nwb/analysis/Olive20220629/Olive20220629_MA1GXW1V1G.nwb\n",
      "[2023-12-06 10:44:50,361][WARNING]: Skipped checksum for file with hash: bab2464f-1ef1-b860-6d2d-cf77b37f0598, and path: /stelmo/nwb/analysis/Olive20220707/Olive20220707_M9N9RK9277.nwb\n",
      "WARNING:datajoint:Skipped checksum for file with hash: 9b11e881-04e4-a1ad-17fd-7340d5b033bd, and path: /stelmo/nwb/analysis/Yoshi20220516/Yoshi20220516_VYVRDLH6QS.nwb\n",
      "WARNING:datajoint:Skipped checksum for file with hash: bab2464f-1ef1-b860-6d2d-cf77b37f0598, and path: /stelmo/nwb/analysis/Olive20220707/Olive20220707_M9N9RK9277.nwb\n",
      "[2023-12-06 10:44:50,364][WARNING]: Skipped checksum for file with hash: ff3c9981-a6cd-ee8d-6e66-b9b58a5d45e2, and path: /stelmo/nwb/analysis/Olive20220630/Olive20220630_B4SVTKAYFL.nwb\n",
      "WARNING:datajoint:Skipped checksum for file with hash: ff3c9981-a6cd-ee8d-6e66-b9b58a5d45e2, and path: /stelmo/nwb/analysis/Olive20220630/Olive20220630_B4SVTKAYFL.nwb\n",
      "[2023-12-06 10:44:50,371][WARNING]: Skipped checksum for file with hash: e5ed0066-a696-6324-c4be-c0579cb1d746, and path: /stelmo/nwb/analysis/Totoro20220617/Totoro20220617_6QCUJBGUS1.nwb\n",
      "WARNING:datajoint:Skipped checksum for file with hash: e5ed0066-a696-6324-c4be-c0579cb1d746, and path: /stelmo/nwb/analysis/Totoro20220617/Totoro20220617_6QCUJBGUS1.nwb\n",
      "[2023-12-06 10:44:50,379][WARNING]: Skipped checksum for file with hash: ff57e36d-91f8-d583-4d72-14556a9e38d5, and path: /stelmo/nwb/analysis/Frodo20230809/Frodo20230809_S0NQ2MLQNS.nwb\n",
      "WARNING:datajoint:Skipped checksum for file with hash: ff57e36d-91f8-d583-4d72-14556a9e38d5, and path: /stelmo/nwb/analysis/Frodo20230809/Frodo20230809_S0NQ2MLQNS.nwb\n",
      "[2023-12-06 10:44:50,383][WARNING]: Skipped checksum for file with hash: c254ff67-65f4-bbe0-e72f-33e1eacd1d10, and path: /stelmo/nwb/analysis/Totoro20220616/Totoro20220616_N7VLZ6UFF9.nwb\n",
      "WARNING:datajoint:Skipped checksum for file with hash: c254ff67-65f4-bbe0-e72f-33e1eacd1d10, and path: /stelmo/nwb/analysis/Totoro20220616/Totoro20220616_N7VLZ6UFF9.nwb\n",
      "[2023-12-06 10:44:50,392][WARNING]: Skipped checksum for file with hash: dd8778d7-4984-4e3b-1cc5-5c9b0a9113cb, and path: /stelmo/nwb/analysis/Wallie20220922/Wallie20220922_GEUGO4L4DJ.nwb\n",
      "WARNING:datajoint:Skipped checksum for file with hash: dd8778d7-4984-4e3b-1cc5-5c9b0a9113cb, and path: /stelmo/nwb/analysis/Wallie20220922/Wallie20220922_GEUGO4L4DJ.nwb\n",
      "[2023-12-06 10:44:50,433][WARNING]: Skipped checksum for file with hash: 925afa5b-55e5-8368-524d-0fe3b5e6d6cc, and path: /stelmo/nwb/analysis/Olive20220708/Olive20220708_ERNG5OZ4XI.nwb\n",
      "WARNING:datajoint:Skipped checksum for file with hash: 925afa5b-55e5-8368-524d-0fe3b5e6d6cc, and path: /stelmo/nwb/analysis/Olive20220708/Olive20220708_ERNG5OZ4XI.nwb\n"
     ]
    },
    {
     "name": "stdout",
     "output_type": "stream",
     "text": [
      "Writing new NWB file Olive20220630_CAFXJIRTYT.nwb\n",
      "Writing new NWB file Olive20220629_A3GR8RTPJI.nwbWriting new NWB file Banner20220126_5SDTBVF9P2.nwb\n",
      "\n",
      "Writing new NWB file Odins20220107_Y3L4TBLY06.nwb\n",
      "Writing new NWB file Olive20220629_HGET3ODR90.nwb\n",
      "Writing new NWB file Olive20220629_S153MTOXWE.nwb\n",
      "Writing new NWB file Olive20220707_8FCXAJMMYI.nwb\n",
      "Writing new NWB file Yoshi20220516_65GK83SXCO.nwb\n",
      "Writing new NWB file Yoshi20220516_9KJDG1GNZN.nwb\n",
      "Writing new NWB file Olive20220701_8ZEF9EER3K.nwb\n",
      "Writing new NWB file Olive20220706_C7LCMOTKV1.nwb\n",
      "Writing new NWB file Winnie20220713_0M2DS005DV.nwb\n",
      "Writing new NWB file Wallie20220911_I1HHQ4WSWJ.nwb\n",
      "Writing new NWB file Totoro20220616_M5JJ8ABMEM.nwb\n",
      "Writing new NWB file Totoro20220617_HMS52R7DIC.nwbWriting new NWB file Totoro20220617_NPLRQBQKZ7.nwb\n",
      "\n",
      "Writing new NWB file Winnie20220713_FPA7K2953U.nwb\n",
      "Writing new NWB file Olive20220708_KN7KXMUACD.nwb\n",
      "Writing new NWB file Winnie20220718_EVEI6BDQQY.nwb\n",
      "Writing new NWB file Winnie20220718_X8AATA1LCQ.nwb\n",
      "Writing new NWB file Wallie20220912_PCWFEXSLFX.nwb\n",
      "Writing new NWB file Frodo20230815_FGGMS02JGF.nwb\n",
      "Writing new NWB file Wallie20220922_FNSUJYVIM7.nwb\n",
      "Writing new NWB file Totoro20220606_D5ARMRMHP3.nwb\n",
      "Writing new NWB file Winnie20220719_82D0GON5Q7.nwb\n",
      "Writing new NWB file Winnie20220717_XAQVSQDTDY.nwb\n",
      "Writing new NWB file Winnie20220716_4QB6J362TA.nwb\n",
      "Writing new NWB file Winnie20220714_R66EBBC1LN.nwb\n",
      "Writing new NWB file Bilbo20230724_YU0ENAXJ0D.nwb\n",
      "Writing new NWB file Frodo20230809_BXKSUE3HRC.nwb\n",
      "Writing new NWB file Frodo20230809_NYKOVJIJXD.nwb\n",
      "Writing new NWB file Olive20220708_ZBUOZ8B4JA.nwb\n"
     ]
    }
   ],
   "source": [
    "filter_name = filter_names[0]\n",
    "(LFPBandSelection() & {'filter_name':filter_name}).proj()\n",
    "LFPBandV1().populate((LFPBandSelection() & {'filter_name':filter_name}).proj() ,display_progress=True,processes=32)\n"
   ]
  },
  {
   "cell_type": "code",
   "execution_count": 37,
   "id": "0449ff61",
   "metadata": {},
   "outputs": [
    {
     "name": "stdout",
     "output_type": "stream",
     "text": [
      "> \u001b[0;32m/home/sambray/mambaforge-pypy3/envs/spyglass/lib/python3.9/site-packages/ghostipy/dsp/convolution.py\u001b[0m(31)\u001b[0;36mosconvolve\u001b[0;34m()\u001b[0m\n",
      "\u001b[0;32m     29 \u001b[0;31m                             \" input_index_bounds but must have 2 elements\")\n",
      "\u001b[0m\u001b[0;32m     30 \u001b[0;31m        \u001b[0;32mif\u001b[0m \u001b[0;32mnot\u001b[0m \u001b[0minput_index_bounds\u001b[0m\u001b[0;34m[\u001b[0m\u001b[0;36m0\u001b[0m\u001b[0;34m]\u001b[0m \u001b[0;34m<\u001b[0m \u001b[0minput_index_bounds\u001b[0m\u001b[0;34m[\u001b[0m\u001b[0;36m1\u001b[0m\u001b[0;34m]\u001b[0m\u001b[0;34m:\u001b[0m\u001b[0;34m\u001b[0m\u001b[0;34m\u001b[0m\u001b[0m\n",
      "\u001b[0m\u001b[0;32m---> 31 \u001b[0;31m            raise ValueError(f\"'input_index_bounds' {input_index_bounds} is not\"\n",
      "\u001b[0m\u001b[0;32m     32 \u001b[0;31m                             f\" strictly increasing\")\n",
      "\u001b[0m\u001b[0;32m     33 \u001b[0;31m        \u001b[0;32mtry\u001b[0m\u001b[0;34m:\u001b[0m\u001b[0;34m\u001b[0m\u001b[0;34m\u001b[0m\u001b[0m\n",
      "\u001b[0m\n",
      "> \u001b[0;32m/home/sambray/mambaforge-pypy3/envs/spyglass/lib/python3.9/site-packages/ghostipy/dsp/filtering.py\u001b[0m(84)\u001b[0;36mfilter_data_fir\u001b[0;34m()\u001b[0m\n",
      "\u001b[0;32m     82 \u001b[0;31m    \"\"\"\n",
      "\u001b[0m\u001b[0;32m     83 \u001b[0;31m\u001b[0;34m\u001b[0m\u001b[0m\n",
      "\u001b[0m\u001b[0;32m---> 84 \u001b[0;31m    return osconvolve(\n",
      "\u001b[0m\u001b[0;32m     85 \u001b[0;31m        \u001b[0mdata\u001b[0m\u001b[0;34m,\u001b[0m\u001b[0;34m\u001b[0m\u001b[0;34m\u001b[0m\u001b[0m\n",
      "\u001b[0m\u001b[0;32m     86 \u001b[0;31m        \u001b[0mb\u001b[0m\u001b[0;34m,\u001b[0m\u001b[0;34m\u001b[0m\u001b[0;34m\u001b[0m\u001b[0m\n",
      "\u001b[0m\n",
      "> \u001b[0;32m/home/sambray/Documents/spyglass/src/spyglass/common/common_filter.py\u001b[0m(467)\u001b[0;36mfilter_data\u001b[0;34m()\u001b[0m\n",
      "\u001b[0;32m    465 \u001b[0;31m            \u001b[0mindices\u001b[0m\u001b[0;34m.\u001b[0m\u001b[0mappend\u001b[0m\u001b[0;34m(\u001b[0m\u001b[0;34m(\u001b[0m\u001b[0mfrm\u001b[0m\u001b[0;34m,\u001b[0m \u001b[0mto\u001b[0m\u001b[0;34m)\u001b[0m\u001b[0;34m)\u001b[0m\u001b[0;34m\u001b[0m\u001b[0;34m\u001b[0m\u001b[0m\n",
      "\u001b[0m\u001b[0;32m    466 \u001b[0;31m\u001b[0;34m\u001b[0m\u001b[0m\n",
      "\u001b[0m\u001b[0;32m--> 467 \u001b[0;31m            shape, _ = gsp.filter_data_fir(\n",
      "\u001b[0m\u001b[0;32m    468 \u001b[0;31m                \u001b[0mdata\u001b[0m\u001b[0;34m,\u001b[0m\u001b[0;34m\u001b[0m\u001b[0;34m\u001b[0m\u001b[0m\n",
      "\u001b[0m\u001b[0;32m    469 \u001b[0;31m                \u001b[0mfilter_coeff\u001b[0m\u001b[0;34m,\u001b[0m\u001b[0;34m\u001b[0m\u001b[0;34m\u001b[0m\u001b[0m\n",
      "\u001b[0m\n",
      "> \u001b[0;32m/home/sambray/Documents/spyglass/src/spyglass/lfp/analysis/v1/lfp_band.py\u001b[0m(289)\u001b[0;36mmake\u001b[0;34m()\u001b[0m\n",
      "\u001b[0;32m    287 \u001b[0;31m        )\n",
      "\u001b[0m\u001b[0;32m    288 \u001b[0;31m        \u001b[0;31m# filter the data and write to an the nwb file\u001b[0m\u001b[0;34m\u001b[0m\u001b[0;34m\u001b[0m\u001b[0m\n",
      "\u001b[0m\u001b[0;32m--> 289 \u001b[0;31m        filtered_data, new_timestamps = FirFilterParameters().filter_data(\n",
      "\u001b[0m\u001b[0;32m    290 \u001b[0;31m            \u001b[0mtimestamps\u001b[0m\u001b[0;34m,\u001b[0m\u001b[0;34m\u001b[0m\u001b[0;34m\u001b[0m\u001b[0m\n",
      "\u001b[0m\u001b[0;32m    291 \u001b[0;31m            \u001b[0mlfp_data\u001b[0m\u001b[0;34m,\u001b[0m\u001b[0;34m\u001b[0m\u001b[0;34m\u001b[0m\u001b[0m\n",
      "\u001b[0m\n",
      "*** NameError: name 'key' is not defined\n",
      "*** NameError: name 'nwb_file_name' is not defined\n",
      "*** NameError: name 'lfp_key' is not defined\n",
      "*** NameError: name 'filtered_data' is not defined\n",
      "> \u001b[0;32m/home/sambray/mambaforge-pypy3/envs/spyglass/lib/python3.9/site-packages/datajoint/autopopulate.py\u001b[0m(292)\u001b[0;36m_populate1\u001b[0;34m()\u001b[0m\n",
      "\u001b[0;32m    290 \u001b[0;31m                \u001b[0mself\u001b[0m\u001b[0;34m.\u001b[0m\u001b[0m__class__\u001b[0m\u001b[0;34m.\u001b[0m\u001b[0m_allow_insert\u001b[0m \u001b[0;34m=\u001b[0m \u001b[0;32mTrue\u001b[0m\u001b[0;34m\u001b[0m\u001b[0;34m\u001b[0m\u001b[0m\n",
      "\u001b[0m\u001b[0;32m    291 \u001b[0;31m                \u001b[0;32mtry\u001b[0m\u001b[0;34m:\u001b[0m\u001b[0;34m\u001b[0m\u001b[0;34m\u001b[0m\u001b[0m\n",
      "\u001b[0m\u001b[0;32m--> 292 \u001b[0;31m                    \u001b[0mmake\u001b[0m\u001b[0;34m(\u001b[0m\u001b[0mdict\u001b[0m\u001b[0;34m(\u001b[0m\u001b[0mkey\u001b[0m\u001b[0;34m)\u001b[0m\u001b[0;34m,\u001b[0m \u001b[0;34m**\u001b[0m\u001b[0;34m(\u001b[0m\u001b[0mmake_kwargs\u001b[0m \u001b[0;32mor\u001b[0m \u001b[0;34m{\u001b[0m\u001b[0;34m}\u001b[0m\u001b[0;34m)\u001b[0m\u001b[0;34m)\u001b[0m\u001b[0;34m\u001b[0m\u001b[0;34m\u001b[0m\u001b[0m\n",
      "\u001b[0m\u001b[0;32m    293 \u001b[0;31m                \u001b[0;32mexcept\u001b[0m \u001b[0;34m(\u001b[0m\u001b[0mKeyboardInterrupt\u001b[0m\u001b[0;34m,\u001b[0m \u001b[0mSystemExit\u001b[0m\u001b[0;34m,\u001b[0m \u001b[0mException\u001b[0m\u001b[0;34m)\u001b[0m \u001b[0;32mas\u001b[0m \u001b[0merror\u001b[0m\u001b[0;34m:\u001b[0m\u001b[0;34m\u001b[0m\u001b[0;34m\u001b[0m\u001b[0m\n",
      "\u001b[0m\u001b[0;32m    294 \u001b[0;31m                    \u001b[0;32mtry\u001b[0m\u001b[0;34m:\u001b[0m\u001b[0;34m\u001b[0m\u001b[0;34m\u001b[0m\u001b[0m\n",
      "\u001b[0m\n",
      "*** NameError: name 'key' is not defined\n",
      "> \u001b[0;32m/home/sambray/mambaforge-pypy3/envs/spyglass/lib/python3.9/site-packages/datajoint/autopopulate.py\u001b[0m(42)\u001b[0;36m_call_populate1\u001b[0;34m()\u001b[0m\n",
      "\u001b[0;32m     40 \u001b[0;31m    \"\"\"\n",
      "\u001b[0m\u001b[0;32m     41 \u001b[0;31m    \u001b[0mprocess\u001b[0m \u001b[0;34m=\u001b[0m \u001b[0mmp\u001b[0m\u001b[0;34m.\u001b[0m\u001b[0mcurrent_process\u001b[0m\u001b[0;34m(\u001b[0m\u001b[0;34m)\u001b[0m\u001b[0;34m\u001b[0m\u001b[0;34m\u001b[0m\u001b[0m\n",
      "\u001b[0m\u001b[0;32m---> 42 \u001b[0;31m    \u001b[0;32mreturn\u001b[0m \u001b[0mprocess\u001b[0m\u001b[0;34m.\u001b[0m\u001b[0mtable\u001b[0m\u001b[0;34m.\u001b[0m\u001b[0m_populate1\u001b[0m\u001b[0;34m(\u001b[0m\u001b[0mkey\u001b[0m\u001b[0;34m,\u001b[0m \u001b[0mprocess\u001b[0m\u001b[0;34m.\u001b[0m\u001b[0mjobs\u001b[0m\u001b[0;34m,\u001b[0m \u001b[0;34m**\u001b[0m\u001b[0mprocess\u001b[0m\u001b[0;34m.\u001b[0m\u001b[0mpopulate_kwargs\u001b[0m\u001b[0;34m)\u001b[0m\u001b[0;34m\u001b[0m\u001b[0;34m\u001b[0m\u001b[0m\n",
      "\u001b[0m\u001b[0;32m     43 \u001b[0;31m\u001b[0;34m\u001b[0m\u001b[0m\n",
      "\u001b[0m\u001b[0;32m     44 \u001b[0;31m\u001b[0;34m\u001b[0m\u001b[0m\n",
      "\u001b[0m\n",
      "> \u001b[0;32m/home/sambray/mambaforge-pypy3/envs/spyglass/lib/python3.9/site-packages/datajoint/autopopulate.py\u001b[0m(292)\u001b[0;36m_populate1\u001b[0;34m()\u001b[0m\n",
      "\u001b[0;32m    290 \u001b[0;31m                \u001b[0mself\u001b[0m\u001b[0;34m.\u001b[0m\u001b[0m__class__\u001b[0m\u001b[0;34m.\u001b[0m\u001b[0m_allow_insert\u001b[0m \u001b[0;34m=\u001b[0m \u001b[0;32mTrue\u001b[0m\u001b[0;34m\u001b[0m\u001b[0;34m\u001b[0m\u001b[0m\n",
      "\u001b[0m\u001b[0;32m    291 \u001b[0;31m                \u001b[0;32mtry\u001b[0m\u001b[0;34m:\u001b[0m\u001b[0;34m\u001b[0m\u001b[0;34m\u001b[0m\u001b[0m\n",
      "\u001b[0m\u001b[0;32m--> 292 \u001b[0;31m                    \u001b[0mmake\u001b[0m\u001b[0;34m(\u001b[0m\u001b[0mdict\u001b[0m\u001b[0;34m(\u001b[0m\u001b[0mkey\u001b[0m\u001b[0;34m)\u001b[0m\u001b[0;34m,\u001b[0m \u001b[0;34m**\u001b[0m\u001b[0;34m(\u001b[0m\u001b[0mmake_kwargs\u001b[0m \u001b[0;32mor\u001b[0m \u001b[0;34m{\u001b[0m\u001b[0;34m}\u001b[0m\u001b[0;34m)\u001b[0m\u001b[0;34m)\u001b[0m\u001b[0;34m\u001b[0m\u001b[0;34m\u001b[0m\u001b[0m\n",
      "\u001b[0m\u001b[0;32m    293 \u001b[0;31m                \u001b[0;32mexcept\u001b[0m \u001b[0;34m(\u001b[0m\u001b[0mKeyboardInterrupt\u001b[0m\u001b[0;34m,\u001b[0m \u001b[0mSystemExit\u001b[0m\u001b[0;34m,\u001b[0m \u001b[0mException\u001b[0m\u001b[0;34m)\u001b[0m \u001b[0;32mas\u001b[0m \u001b[0merror\u001b[0m\u001b[0;34m:\u001b[0m\u001b[0;34m\u001b[0m\u001b[0;34m\u001b[0m\u001b[0m\n",
      "\u001b[0m\u001b[0;32m    294 \u001b[0;31m                    \u001b[0;32mtry\u001b[0m\u001b[0;34m:\u001b[0m\u001b[0;34m\u001b[0m\u001b[0;34m\u001b[0m\u001b[0m\n",
      "\u001b[0m\n",
      "> \u001b[0;32m/home/sambray/Documents/spyglass/src/spyglass/lfp/analysis/v1/lfp_band.py\u001b[0m(289)\u001b[0;36mmake\u001b[0;34m()\u001b[0m\n",
      "\u001b[0;32m    287 \u001b[0;31m        )\n",
      "\u001b[0m\u001b[0;32m    288 \u001b[0;31m        \u001b[0;31m# filter the data and write to an the nwb file\u001b[0m\u001b[0;34m\u001b[0m\u001b[0;34m\u001b[0m\u001b[0m\n",
      "\u001b[0m\u001b[0;32m--> 289 \u001b[0;31m        filtered_data, new_timestamps = FirFilterParameters().filter_data(\n",
      "\u001b[0m\u001b[0;32m    290 \u001b[0;31m            \u001b[0mtimestamps\u001b[0m\u001b[0;34m,\u001b[0m\u001b[0;34m\u001b[0m\u001b[0;34m\u001b[0m\u001b[0m\n",
      "\u001b[0m\u001b[0;32m    291 \u001b[0;31m            \u001b[0mlfp_data\u001b[0m\u001b[0;34m,\u001b[0m\u001b[0;34m\u001b[0m\u001b[0;34m\u001b[0m\u001b[0m\n",
      "\u001b[0m\n",
      "*** NameError: name 'key' is not defined\n",
      "*** NameError: name 'lfp_key' is not defined\n",
      "*** NameError: name 'lfp_key' is not defined\n",
      "*** NameError: name 'lfp_key' is not defined\n"
     ]
    }
   ],
   "source": [
    "%debug"
   ]
  },
  {
   "cell_type": "code",
   "execution_count": 46,
   "id": "2714ae3d",
   "metadata": {},
   "outputs": [
    {
     "data": {
      "text/html": [
       "\n",
       "    \n",
       "    <style type=\"text/css\">\n",
       "        .Table{\n",
       "            border-collapse:collapse;\n",
       "        }\n",
       "        .Table th{\n",
       "            background: #A0A0A0; color: #ffffff; padding:4px; border:#f0e0e0 1px solid;\n",
       "            font-weight: normal; font-family: monospace; font-size: 100%;\n",
       "        }\n",
       "        .Table td{\n",
       "            padding:4px; border:#f0e0e0 1px solid; font-size:100%;\n",
       "        }\n",
       "        .Table tr:nth-child(odd){\n",
       "            background: #ffffff;\n",
       "            color: #000000;\n",
       "        }\n",
       "        .Table tr:nth-child(even){\n",
       "            background: #f3f1ff;\n",
       "            color: #000000;\n",
       "        }\n",
       "        /* Tooltip container */\n",
       "        .djtooltip {\n",
       "        }\n",
       "        /* Tooltip text */\n",
       "        .djtooltip .djtooltiptext {\n",
       "            visibility: hidden;\n",
       "            width: 120px;\n",
       "            background-color: black;\n",
       "            color: #fff;\n",
       "            text-align: center;\n",
       "            padding: 5px 0;\n",
       "            border-radius: 6px;\n",
       "            /* Position the tooltip text - see examples below! */\n",
       "            position: absolute;\n",
       "            z-index: 1;\n",
       "        }\n",
       "        #primary {\n",
       "            font-weight: bold;\n",
       "            color: black;\n",
       "        }\n",
       "        #nonprimary {\n",
       "            font-weight: normal;\n",
       "            color: white;\n",
       "        }\n",
       "\n",
       "        /* Show the tooltip text when you mouse over the tooltip container */\n",
       "        .djtooltip:hover .djtooltiptext {\n",
       "            visibility: visible;\n",
       "        }\n",
       "    </style>\n",
       "    \n",
       "    <b></b>\n",
       "        <div style=\"max-height:1000px;max-width:1500px;overflow:auto;\">\n",
       "        <table border=\"1\" class=\"Table\">\n",
       "            <thead> <tr style=\"text-align: right;\"> <th> <div class=\"djtooltip\">\n",
       "                            <p id=\"primary\">nwb_file_name</p>\n",
       "                            <span class=\"djtooltiptext\">name of the NWB file</span>\n",
       "                        </div></th><th><div class=\"djtooltip\">\n",
       "                            <p id=\"primary\">lfp_electrode_group_name</p>\n",
       "                            <span class=\"djtooltiptext\">the name of this group of electrodes</span>\n",
       "                        </div></th><th><div class=\"djtooltip\">\n",
       "                            <p id=\"primary\">target_interval_list_name</p>\n",
       "                            <span class=\"djtooltiptext\">descriptive name of this interval list</span>\n",
       "                        </div></th><th><div class=\"djtooltip\">\n",
       "                            <p id=\"primary\">filter_name</p>\n",
       "                            <span class=\"djtooltiptext\">descriptive name of this filter</span>\n",
       "                        </div></th><th><div class=\"djtooltip\">\n",
       "                            <p id=\"primary\">filter_sampling_rate</p>\n",
       "                            <span class=\"djtooltiptext\">sampling rate for this filter</span>\n",
       "                        </div></th><th><div class=\"djtooltip\">\n",
       "                            <p id=\"nonprimary\">analysis_file_name</p>\n",
       "                            <span class=\"djtooltiptext\">name of the file</span>\n",
       "                        </div></th><th><div class=\"djtooltip\">\n",
       "                            <p id=\"nonprimary\">interval_list_name</p>\n",
       "                            <span class=\"djtooltiptext\">descriptive name of this interval list</span>\n",
       "                        </div></th><th><div class=\"djtooltip\">\n",
       "                            <p id=\"nonprimary\">lfp_object_id</p>\n",
       "                            <span class=\"djtooltiptext\">the NWB object ID for loading this object from the file</span>\n",
       "                        </div></th><th><div class=\"djtooltip\">\n",
       "                            <p id=\"nonprimary\">lfp_sampling_rate</p>\n",
       "                            <span class=\"djtooltiptext\">the sampling rate, in HZ</span>\n",
       "                        </div> </th> </tr> </thead>\n",
       "            <tbody> <tr> <td>Winnie20220713_.nwb</td>\n",
       "<td>tetrode_sample_Winnie</td>\n",
       "<td>pos 0 valid times</td>\n",
       "<td>LFP 0-400 Hz</td>\n",
       "<td>30000</td>\n",
       "<td>Winnie20220713_C52XDICU6D.nwb</td>\n",
       "<td>lfp_tetrode_sample_Winnie_pos 0 valid times_valid times</td>\n",
       "<td>a89c590f-290b-4f9c-a568-b9ae67eee96d</td>\n",
       "<td>1000.0</td></tr><tr><td>Winnie20220713_.nwb</td>\n",
       "<td>tetrode_sample_Winnie</td>\n",
       "<td>pos 1 valid times</td>\n",
       "<td>LFP 0-400 Hz</td>\n",
       "<td>30000</td>\n",
       "<td>Winnie20220713_FURB0FGK1A.nwb</td>\n",
       "<td>lfp_tetrode_sample_Winnie_pos 1 valid times_valid times</td>\n",
       "<td>2d99415e-6646-44e1-8745-d0af2912f9b1</td>\n",
       "<td>1000.0</td></tr><tr><td>Winnie20220713_.nwb</td>\n",
       "<td>tetrode_sample_Winnie</td>\n",
       "<td>pos 10 valid times</td>\n",
       "<td>LFP 0-400 Hz</td>\n",
       "<td>30000</td>\n",
       "<td>Winnie20220713_9GNIXRYWTS.nwb</td>\n",
       "<td>lfp_tetrode_sample_Winnie_pos 10 valid times_valid times</td>\n",
       "<td>48bc053f-ff5b-460f-838b-cefd8eba4b0d</td>\n",
       "<td>1000.0</td></tr><tr><td>Winnie20220713_.nwb</td>\n",
       "<td>tetrode_sample_Winnie</td>\n",
       "<td>pos 11 valid times</td>\n",
       "<td>LFP 0-400 Hz</td>\n",
       "<td>30000</td>\n",
       "<td>Winnie20220713_824JXQAB78.nwb</td>\n",
       "<td>lfp_tetrode_sample_Winnie_pos 11 valid times_valid times</td>\n",
       "<td>87e1b640-4938-4974-bce2-766f61c2e66f</td>\n",
       "<td>1000.0</td></tr><tr><td>Winnie20220713_.nwb</td>\n",
       "<td>tetrode_sample_Winnie</td>\n",
       "<td>pos 12 valid times</td>\n",
       "<td>LFP 0-400 Hz</td>\n",
       "<td>30000</td>\n",
       "<td>Winnie20220713_FLOILA8D0V.nwb</td>\n",
       "<td>lfp_tetrode_sample_Winnie_pos 12 valid times_valid times</td>\n",
       "<td>21aa2368-261b-4a1e-9e3b-151727e7a8b9</td>\n",
       "<td>1000.0</td></tr><tr><td>Winnie20220713_.nwb</td>\n",
       "<td>tetrode_sample_Winnie</td>\n",
       "<td>pos 13 valid times</td>\n",
       "<td>LFP 0-400 Hz</td>\n",
       "<td>30000</td>\n",
       "<td>Winnie20220713_YYUM4C0GTJ.nwb</td>\n",
       "<td>lfp_tetrode_sample_Winnie_pos 13 valid times_valid times</td>\n",
       "<td>599008ed-d7b4-4aca-9a65-b7cb6619a026</td>\n",
       "<td>1000.0</td></tr><tr><td>Winnie20220713_.nwb</td>\n",
       "<td>tetrode_sample_Winnie</td>\n",
       "<td>pos 14 valid times</td>\n",
       "<td>LFP 0-400 Hz</td>\n",
       "<td>30000</td>\n",
       "<td>Winnie20220713_49PBQ0QLK5.nwb</td>\n",
       "<td>lfp_tetrode_sample_Winnie_pos 14 valid times_valid times</td>\n",
       "<td>5aac489d-2f02-49eb-92e3-46d31390c193</td>\n",
       "<td>1000.0</td></tr><tr><td>Winnie20220713_.nwb</td>\n",
       "<td>tetrode_sample_Winnie</td>\n",
       "<td>pos 2 valid times</td>\n",
       "<td>LFP 0-400 Hz</td>\n",
       "<td>30000</td>\n",
       "<td>Winnie20220713_HBKDTJIJAR.nwb</td>\n",
       "<td>lfp_tetrode_sample_Winnie_pos 2 valid times_valid times</td>\n",
       "<td>3e8e3eaf-a12d-4b0f-b218-6e2deac10f30</td>\n",
       "<td>1000.0</td></tr><tr><td>Winnie20220713_.nwb</td>\n",
       "<td>tetrode_sample_Winnie</td>\n",
       "<td>pos 3 valid times</td>\n",
       "<td>LFP 0-400 Hz</td>\n",
       "<td>30000</td>\n",
       "<td>Winnie20220713_I2WK0NS3K8.nwb</td>\n",
       "<td>lfp_tetrode_sample_Winnie_pos 3 valid times_valid times</td>\n",
       "<td>e7e39ca8-98e9-4dc2-bded-2a0b2980ff07</td>\n",
       "<td>1000.0</td></tr><tr><td>Winnie20220713_.nwb</td>\n",
       "<td>tetrode_sample_Winnie</td>\n",
       "<td>pos 4 valid times</td>\n",
       "<td>LFP 0-400 Hz</td>\n",
       "<td>30000</td>\n",
       "<td>Winnie20220713_W4TKS379ID.nwb</td>\n",
       "<td>lfp_tetrode_sample_Winnie_pos 4 valid times_valid times</td>\n",
       "<td>bf864bf0-6b1a-4043-a34a-65f036dd3e27</td>\n",
       "<td>1000.0</td></tr><tr><td>Winnie20220713_.nwb</td>\n",
       "<td>tetrode_sample_Winnie</td>\n",
       "<td>pos 5 valid times</td>\n",
       "<td>LFP 0-400 Hz</td>\n",
       "<td>30000</td>\n",
       "<td>Winnie20220713_SMXSE3L1U6.nwb</td>\n",
       "<td>lfp_tetrode_sample_Winnie_pos 5 valid times_valid times</td>\n",
       "<td>d59bcfcf-771f-4c7b-9b33-3a799296e965</td>\n",
       "<td>1000.0</td></tr><tr><td>Winnie20220713_.nwb</td>\n",
       "<td>tetrode_sample_Winnie</td>\n",
       "<td>pos 6 valid times</td>\n",
       "<td>LFP 0-400 Hz</td>\n",
       "<td>30000</td>\n",
       "<td>Winnie20220713_9UU7KTKP5F.nwb</td>\n",
       "<td>lfp_tetrode_sample_Winnie_pos 6 valid times_valid times</td>\n",
       "<td>48c4f047-534f-4f74-9060-4f75cd0cbac8</td>\n",
       "<td>1000.0</td> </tr> </tbody>\n",
       "        </table>\n",
       "        <p>...</p>\n",
       "        <p>Total: 15</p></div>\n",
       "        "
      ],
      "text/plain": [
       "*nwb_file_name *lfp_electrode *target_interv *filter_name   *filter_sampli analysis_file_ interval_list_ lfp_object_id  lfp_sampling_r\n",
       "+------------+ +------------+ +------------+ +------------+ +------------+ +------------+ +------------+ +------------+ +------------+\n",
       "Winnie20220713 tetrode_sample pos 0 valid ti LFP 0-400 Hz   30000          Winnie20220713 lfp_tetrode_sa a89c590f-290b- 1000.0        \n",
       "Winnie20220713 tetrode_sample pos 1 valid ti LFP 0-400 Hz   30000          Winnie20220713 lfp_tetrode_sa 2d99415e-6646- 1000.0        \n",
       "Winnie20220713 tetrode_sample pos 10 valid t LFP 0-400 Hz   30000          Winnie20220713 lfp_tetrode_sa 48bc053f-ff5b- 1000.0        \n",
       "Winnie20220713 tetrode_sample pos 11 valid t LFP 0-400 Hz   30000          Winnie20220713 lfp_tetrode_sa 87e1b640-4938- 1000.0        \n",
       "Winnie20220713 tetrode_sample pos 12 valid t LFP 0-400 Hz   30000          Winnie20220713 lfp_tetrode_sa 21aa2368-261b- 1000.0        \n",
       "Winnie20220713 tetrode_sample pos 13 valid t LFP 0-400 Hz   30000          Winnie20220713 lfp_tetrode_sa 599008ed-d7b4- 1000.0        \n",
       "Winnie20220713 tetrode_sample pos 14 valid t LFP 0-400 Hz   30000          Winnie20220713 lfp_tetrode_sa 5aac489d-2f02- 1000.0        \n",
       "Winnie20220713 tetrode_sample pos 2 valid ti LFP 0-400 Hz   30000          Winnie20220713 lfp_tetrode_sa 3e8e3eaf-a12d- 1000.0        \n",
       "Winnie20220713 tetrode_sample pos 3 valid ti LFP 0-400 Hz   30000          Winnie20220713 lfp_tetrode_sa e7e39ca8-98e9- 1000.0        \n",
       "Winnie20220713 tetrode_sample pos 4 valid ti LFP 0-400 Hz   30000          Winnie20220713 lfp_tetrode_sa bf864bf0-6b1a- 1000.0        \n",
       "Winnie20220713 tetrode_sample pos 5 valid ti LFP 0-400 Hz   30000          Winnie20220713 lfp_tetrode_sa d59bcfcf-771f- 1000.0        \n",
       "Winnie20220713 tetrode_sample pos 6 valid ti LFP 0-400 Hz   30000          Winnie20220713 lfp_tetrode_sa 48c4f047-534f- 1000.0        \n",
       "   ...\n",
       " (Total: 15)"
      ]
     },
     "execution_count": 46,
     "metadata": {},
     "output_type": "execute_result"
    }
   ],
   "source": [
    "basic_key\n",
    "period_ms\n",
    "(LFPV1 & basic_key)#.fetch1('lfp_sampling_rate')\n",
    "LFPV1() & {'nwb_file_name':'Winnie20220713_.nwb'}\n",
    "animal = Session & {'nwb_file_name':nwb_file_name}.fetch1('subject_id')\n",
    "electrode_group_name = f'tetrode_sample_{animal}'\n"
   ]
  },
  {
   "cell_type": "code",
   "execution_count": 10,
   "id": "4a0ff770",
   "metadata": {},
   "outputs": [
    {
     "name": "stderr",
     "output_type": "stream",
     "text": [
      "[2023-10-20 08:18:10,755][WARNING]: Skipped checksum for file with hash: 1f41ed1f-df73-533d-6c95-5cb459607516, and path: /stelmo/nwb/analysis/Bilbo20230725/Bilbo20230725_JRH9I6411O.nwb\n",
      "WARNING:datajoint:Skipped checksum for file with hash: 1f41ed1f-df73-533d-6c95-5cb459607516, and path: /stelmo/nwb/analysis/Bilbo20230725/Bilbo20230725_JRH9I6411O.nwb\n"
     ]
    },
    {
     "data": {
      "text/plain": [
       "filtered data pynwb.ecephys.ElectricalSeries at 0x140401433184672\n",
       "Fields:\n",
       "  comments: no comments\n",
       "  conversion: 1.0\n",
       "  data: <HDF5 dataset \"data\": shape (2016507, 14), type \"<i2\">\n",
       "  description: filtered data\n",
       "  electrodes: electrodes <class 'hdmf.common.table.DynamicTableRegion'>\n",
       "  interval: 1\n",
       "  offset: 0.0\n",
       "  resolution: -1.0\n",
       "  timestamps: <HDF5 dataset \"timestamps\": shape (2016507,), type \"<f8\">\n",
       "  timestamps_unit: seconds\n",
       "  unit: volts"
      ]
     },
     "execution_count": 10,
     "metadata": {},
     "output_type": "execute_result"
    }
   ],
   "source": [
    "lfp_band_key\n",
    "\n",
    "(LFPV1 & basic_key).fetch_nwb()[0]['lfp']"
   ]
  },
  {
   "cell_type": "markdown",
   "id": "1e3d7cf8-7f26-4f55-832e-506a5aa551d8",
   "metadata": {},
   "source": [
    "## Check missing LFP's"
   ]
  },
  {
   "cell_type": "code",
   "execution_count": 13,
   "id": "b44704f6-b5b9-4416-8fd2-6c538734ad3f",
   "metadata": {},
   "outputs": [
    {
     "data": {
      "text/plain": [
       "'Banner20220225_.nwb'"
      ]
     },
     "execution_count": 13,
     "metadata": {},
     "output_type": "execute_result"
    }
   ],
   "source": [
    "print(missing_lfp)"
   ]
  },
  {
   "cell_type": "code",
   "execution_count": null,
   "id": "c4e31406-9c3b-4449-833a-eaa6e877b25c",
   "metadata": {},
   "outputs": [],
   "source": []
  }
 ],
 "metadata": {
  "kernelspec": {
   "display_name": "spyglass",
   "language": "python",
   "name": "python3"
  },
  "language_info": {
   "codemirror_mode": {
    "name": "ipython",
    "version": 3
   },
   "file_extension": ".py",
   "mimetype": "text/x-python",
   "name": "python",
   "nbconvert_exporter": "python",
   "pygments_lexer": "ipython3",
   "version": "3.9.16"
  }
 },
 "nbformat": 4,
 "nbformat_minor": 5
}
