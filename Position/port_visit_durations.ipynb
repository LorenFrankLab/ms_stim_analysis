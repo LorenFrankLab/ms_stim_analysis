{
 "cells": [
  {
   "cell_type": "code",
   "execution_count": 1,
   "id": "28ecd587-ad3a-4be1-9b4e-caff81b433fa",
   "metadata": {},
   "outputs": [
    {
     "name": "stdin",
     "output_type": "stream",
     "text": [
      "Please enter DataJoint username:  sambray\n"
     ]
    },
    {
     "name": "stderr",
     "output_type": "stream",
     "text": [
      "[2023-08-21 10:35:26,532][INFO]: Connecting sambray@lmf-db.cin.ucsf.edu:3306\n",
      "[2023-08-21 10:35:26,582][INFO]: Connected sambray@lmf-db.cin.ucsf.edu:3306\n"
     ]
    }
   ],
   "source": [
    "import warnings\n",
    "warnings.filterwarnings('ignore')\n",
    "import matplotlib.pyplot as plt\n",
    "import numpy as np\n",
    "from spyglass.common import Session, IntervalList, Electrode, get_electrode_indices, interval_list_contains, interval_list_intersect\n",
    "from spyglass.lfp.v1 import LFPV1\n",
    "# from spyglass.lfp_band.v1 import LFPBandV1\n",
    "from spyglass.position import PositionOutput\n",
    "from spyglass.position.v1 import TrodesPosV1\n",
    "\n",
    "import os\n",
    "os.chdir('/home/sambray/Documents/MS_analysis_samsplaying/')\n",
    "from ms_opto_stim_protocol import OptoStimProtocol,OptoStimProtocolParams, OptoStimProtocolTransfected, OptoStimProtocolLaser, OptoStimProtocolClosedLoop\n",
    "from Analysis.utils import filter_animal, filter_task\n",
    "from Analysis.lfp_analysis import get_ref_electrode_index, power_spectrum\n",
    "from Analysis.position_analysis import filter_position_ports\n",
    "\n",
    "os.chdir('/home/sambray/Documents/MS_analysis/')\n",
    "from ms_task_performance import AlternationTaskPerformance\n",
    "from ms_dio_event import DioEvents, ProcessedDioEvents\n",
    "\n",
    "from ms_task_identification import TaskIdentification\n",
    "from ms_interval import EpochIntervalListName"
   ]
  },
  {
   "cell_type": "code",
   "execution_count": 3,
   "id": "851eccb8-9481-456a-87dc-4e523b71d2f3",
   "metadata": {},
   "outputs": [],
   "source": [
    "import datajoint as dj"
   ]
  },
  {
   "cell_type": "markdown",
   "id": "ef3bcd80-4a55-447e-ac4f-9a8372e97cf1",
   "metadata": {},
   "source": [
    "## define trial by first poke times"
   ]
  },
  {
   "cell_type": "code",
   "execution_count": 2,
   "id": "ec701a82-d345-4649-9315-103fcf674f64",
   "metadata": {},
   "outputs": [
    {
     "ename": "NameError",
     "evalue": "name 'key' is not defined",
     "output_type": "error",
     "traceback": [
      "\u001b[0;31m---------------------------------------------------------------------------\u001b[0m",
      "\u001b[0;31mNameError\u001b[0m                                 Traceback (most recent call last)",
      "Cell \u001b[0;32mIn[2], line 1\u001b[0m\n\u001b[0;32m----> 1\u001b[0m \u001b[38;5;28mprint\u001b[39m(\u001b[38;5;28mlen\u001b[39m(((ProcessedDioEvents()\u001b[38;5;241m.\u001b[39mLastDownPokes() \u001b[38;5;241m*\u001b[39m EpochIntervalListName) \u001b[38;5;241m&\u001b[39m \u001b[43mkey\u001b[49m)\u001b[38;5;241m.\u001b[39mfetch1(\u001b[38;5;124m\"\u001b[39m\u001b[38;5;124mdio_last_poke_times\u001b[39m\u001b[38;5;124m\"\u001b[39m)))\n\u001b[1;32m      2\u001b[0m \u001b[38;5;28mprint\u001b[39m(\u001b[38;5;28mlen\u001b[39m(((ProcessedDioEvents()\u001b[38;5;241m.\u001b[39mFirstUpPokes() \u001b[38;5;241m*\u001b[39m EpochIntervalListName)\u001b[38;5;241m&\u001b[39m key)\u001b[38;5;241m.\u001b[39mfetch1(\u001b[38;5;124m\"\u001b[39m\u001b[38;5;124mdio_first_poke_times\u001b[39m\u001b[38;5;124m\"\u001b[39m)))\n",
      "\u001b[0;31mNameError\u001b[0m: name 'key' is not defined"
     ]
    }
   ],
   "source": [
    "print(len(((ProcessedDioEvents().LastDownPokes() * EpochIntervalListName) & key).fetch1(\"dio_last_poke_times\")))\n",
    "print(len(((ProcessedDioEvents().FirstUpPokes() * EpochIntervalListName)& key).fetch1(\"dio_first_poke_times\")))"
   ]
  },
  {
   "cell_type": "code",
   "execution_count": 29,
   "id": "c80b5a82-5c42-4a9c-bee1-878ad37340fd",
   "metadata": {},
   "outputs": [
    {
     "name": "stdout",
     "output_type": "stream",
     "text": [
      "wtrack_limit 30.300000000000097\n",
      "wtrack_limit 28.59999999999952\n",
      "wtrack_limit 31.199999999999854\n",
      "wtrack_limit 29.37999999999982\n",
      "wtrack_limit 32.95\n",
      "wtrack_limit 30.99999999999994\n",
      "wtrack_limit 34.30000000000001\n",
      "wtrack_limit 28.630000000000067\n",
      "wtrack_limit 32.24999999999994\n",
      "wtrack_limit 30.759999999999938\n",
      "wtrack_limit 33.949999999999946\n",
      "wtrack_limit 29.70999999999985\n",
      "wtrack_limit 31.749999999999954\n",
      "wtrack_limit 31.95999999999986\n",
      "wtrack_limit 32.0499999999999\n",
      "wtrack_limit 30.639999999999965\n",
      "wtrack_limit 28.32999999999928\n",
      "wtrack_limit 26.77000000000004\n",
      "wtrack_limit 28.330000000000048\n",
      "wtrack_limit 28.54000000000019\n",
      "wtrack_limit 30.249999999999773\n",
      "wtrack_limit 29.649999999999714\n",
      "wtrack_limit 30.670000000000023\n",
      "wtrack_limit 27.940000000000055\n",
      "wtrack_limit 30.519999999999946\n",
      "wtrack_limit 30.339999999999918\n",
      "wtrack_limit 27.250000000000046\n",
      "wtrack_limit 25.719999999999946\n",
      "wtrack_limit 28.78000000000001\n",
      "wtrack_limit 27.249999999999943\n",
      "wtrack_limit 28.270000000000078\n",
      "wtrack_limit 27.70000000000039\n",
      "wtrack_limit 27.160000000000053\n",
      "wtrack_limit 25.899999999999984\n",
      "wtrack_limit 27.009999999999437\n",
      "wtrack_limit 28.600000000000026\n",
      "wtrack_limit 30.729999999999844\n",
      "wtrack_limit 30.220000000000336\n",
      "wtrack_limit 30.580000000000155\n",
      "wtrack_limit 29.530000000000243\n",
      "wtrack_limit 28.959999999999887\n",
      "wtrack_limit 30.4\n",
      "wtrack_limit 30.250000000000295\n",
      "wtrack_limit 27.099999999999856\n",
      "wtrack_limit 27.670000000000048\n",
      "wtrack_limit 27.610000000000166\n",
      "wtrack_limit 30.939999999999607\n",
      "wtrack_limit 30.94000000000011\n",
      "wtrack_limit 30.760000000000005\n",
      "wtrack_limit 27.489999999999903\n",
      "wtrack_limit 27.880000000000052\n",
      "wtrack_limit 29.649999999999956\n",
      "wtrack_limit 31.059999999999917\n",
      "wtrack_limit 26.440000000000182\n",
      "wtrack_limit 30.760000000000137\n",
      "wtrack_limit 30.609999999999964\n",
      "wtrack_limit 28.660000000000114\n",
      "wtrack_limit 30.73000000000004\n",
      "wtrack_limit 30.939999999999987\n",
      "wtrack_limit 30.250000000000156\n",
      "wtrack_limit 30.759999999999867\n",
      "wtrack_limit 30.160000000000096\n",
      "wtrack_limit 30.789999999999925\n",
      "wtrack_limit 27.4599999999999\n",
      "wtrack_limit 26.5599999999999\n",
      "wtrack_limit 30.430000000000195\n",
      "wtrack_limit 27.969999999999995\n",
      "wtrack_limit 26.500000000000178\n",
      "wtrack_limit 27.850000000000037\n",
      "wtrack_limit 26.17000000000007\n",
      "wtrack_limit 28.419999999999966\n",
      "wtrack_limit 30.220000000000056\n",
      "wtrack_limit 29.260000000000055\n",
      "wtrack_limit 29.67999999999992\n",
      "wtrack_limit 26.830000000000098\n",
      "wtrack_limit 31.180000000000224\n",
      "wtrack_limit 31.12000000000013\n",
      "wtrack_limit 30.639999999999997\n",
      "wtrack_limit 30.400000000000045\n"
     ]
    }
   ],
   "source": [
    "track_type = \"wtrack\"\n",
    "inbound_trial = []\n",
    "trial_durations = []\n",
    "opto_trial = []\n",
    "transfected_trial = []\n",
    "accuracy = []\n",
    "animal = \"\"\n",
    "\n",
    "\n",
    "\n",
    "#################################\n",
    "for transfected in [True,False]:\n",
    "    dataset_key = {\n",
    "                       # 'pulse_length_ms':40,\n",
    "                       # \"transfected\":True,\n",
    "                       \"laser_power\": 77,\n",
    "                       'targeted_phase':90,\n",
    "                        'animal':animal,\n",
    "                        'transfected':transfected,\n",
    "                        # \"interval_list_name\":\"pos 3 valid times\",\n",
    "        }\n",
    "        \n",
    "    dataset = (OptoStimProtocol *\n",
    "               OptoStimProtocolTransfected *\n",
    "               OptoStimProtocolLaser *\n",
    "               OptoStimProtocolClosedLoop) & dataset_key\n",
    "    \n",
    "    dataset = filter_animal(dataset,dataset_key['animal'])\n",
    "    dataset = filter_task(dataset,track_type)\n",
    "    \n",
    "    \n",
    "    for nwb_file_name,interval_name in zip(dataset.fetch(\"nwb_file_name\"),dataset.fetch(\"interval_list_name\")):\n",
    "        key = {\"nwb_file_name\":nwb_file_name,\"interval_list_name\":interval_name}\n",
    "        #outcomes and durations\n",
    "        outcomes = ((AlternationTaskPerformance() * EpochIntervalListName)&key).fetch('performance_outcomes')[0]\n",
    "        poke_times = ((ProcessedDioEvents().FirstUpPokes() * EpochIntervalListName)& key).fetch1(\"dio_first_poke_times\")\n",
    "        last_poke_times = ((ProcessedDioEvents().LastDownPokes() * EpochIntervalListName) & key).fetch1(\"dio_last_poke_times\")\n",
    "        # trial_durations.extend(np.diff(poke_times))\n",
    "        inbound_trial.extend([('inbound' in x) for x in outcomes[1:]])\n",
    "        accuracy.extend([('incorrect' in x) for x in outcomes[1:]])\n",
    "    \n",
    "        #durations\n",
    "        travel_intervals = np.array(filter_position_ports(key))\n",
    "        for i in range(poke_times.size-1):\n",
    "            travel_ = interval_list_intersect(np.array([[poke_times[i],poke_times[i+1]]]),travel_intervals)\n",
    "            trial_durations.append(np.sum([interval[1]-interval[0] for interval in travel_]))\n",
    "        # trial_durations.extend(poke_times[1:]-last_poke_times[:poke_times.size-1])\n",
    "        \n",
    "        #Dio intervals\n",
    "        test_intervals = (OptoStimProtocol() & key).fetch1(\"test_intervals\")\n",
    "        opto_trial.extend([interval_list_contains(test_intervals,np.array([i])).size for i in poke_times[1:]])\n",
    "\n",
    "        #transfected\n",
    "        transfected_trial.extend(np.ones(outcomes.size-1)*int(transfected))\n",
    "\n",
    "trial_durations = np.array(trial_durations)\n",
    "inbound_trial = np.array(inbound_trial)\n",
    "opto_trial = np.array(opto_trial).astype(bool)\n",
    "transfected_trial = np.array(transfected_trial).astype(bool)\n",
    "accuracy = ~np.array(accuracy).astype(bool)"
   ]
  },
  {
   "cell_type": "code",
   "execution_count": 32,
   "id": "a9f5f1be-aa2b-4b04-a014-ad1a7984165d",
   "metadata": {},
   "outputs": [
    {
     "data": {
      "text/plain": [
       "<matplotlib.legend.Legend at 0x7fdbb7a5efa0>"
      ]
     },
     "execution_count": 32,
     "metadata": {},
     "output_type": "execute_result"
    },
    {
     "data": {
      "image/png": "[encoded data removed]",
      "text/plain": [
       "<Figure size 640x480 with 1 Axes>"
      ]
     },
     "metadata": {},
     "output_type": "display_data"
    }
   ],
   "source": [
    "positions = np.array([0,2])\n",
    "# control = plt.violinplot([trial_durations[inbound_trial & ~transfected_trial& ~accuracy],\n",
    "#                 trial_durations[~inbound_trial & ~transfected_trial& ~accuracy],],\n",
    "#                positions = positions,\n",
    "#                showmedians=False,showextrema=False,points=1000,)\n",
    "# test = plt.violinplot([trial_durations[inbound_trial & transfected_trial& ~accuracy],\n",
    "#                 trial_durations[~inbound_trial & transfected_trial& ~accuracy],],\n",
    "#                positions = positions+.5,\n",
    "#                showmeans=False,showextrema=False,points=1000,)\n",
    "# plt.scatter(positions,[np.mean(trial_durations[inbound_trial & ~transfected_trial & ~accuracy]),\n",
    "#                 np.mean(trial_durations[~inbound_trial & ~transfected_trial& ~accuracy]),],color = 'cornflowerblue',label='control')\n",
    "# plt.scatter(positions+.5,[np.mean(trial_durations[inbound_trial & transfected_trial& ~accuracy]),\n",
    "#                 np.mean(trial_durations[~inbound_trial & transfected_trial& ~accuracy]),],color = 'firebrick',label='septal transfected')\n",
    "\n",
    "\n",
    "control_sets = [trial_durations[inbound_trial & ~transfected_trial & opto_trial],\n",
    "                trial_durations[~inbound_trial & ~transfected_trial& opto_trial],]\n",
    "test_sets = [trial_durations[inbound_trial & transfected_trial& opto_trial],\n",
    "                trial_durations[~inbound_trial & transfected_trial& opto_trial],]\n",
    "control = plt.violinplot(control_sets,\n",
    "               positions = positions,\n",
    "               showmedians=False,showextrema=False,points=1000,)\n",
    "test = plt.violinplot(test_sets,\n",
    "               positions = positions+.5,\n",
    "               showmeans=False,showextrema=False,points=1000,)\n",
    "\n",
    "plt.scatter(positions,[np.mean(x) for x in control_sets],color = 'cornflowerblue',label='control')\n",
    "plt.scatter(positions+.5,[np.mean(x) for x in test_sets],color = 'firebrick',label='septal transfected')\n",
    "\n",
    "from scipy.stats import ttest_ind\n",
    "inbound_p = ttest_ind(trial_durations[inbound_trial & ~transfected_trial],trial_durations[inbound_trial & transfected_trial],equal_var=False)[1]\n",
    "outbound_p = ttest_ind(trial_durations[~inbound_trial & ~transfected_trial],trial_durations[~inbound_trial & transfected_trial],equal_var=False)[1]\n",
    "\n",
    "for pc in control['bodies']:\n",
    "    pc.set_facecolor('cornflowerblue')\n",
    "    pc.set_alpha(.5)\n",
    "for pc in test['bodies']:\n",
    "    pc.set_facecolor('firebrick')\n",
    "    pc.set_alpha(.5)\n",
    "plt.xticks(positions+.25,labels=[f'inbound, p={np.round(inbound_p,4)}',f'outbound, p={np.round(outbound_p,4)}'])\n",
    "plt.ylabel('trial non-port time (seconds)')\n",
    "plt.ylim(0,50)\n",
    "\n",
    "plt.legend()\n"
   ]
  },
  {
   "cell_type": "code",
   "execution_count": 202,
   "id": "41b9e90f-282a-4f3f-971c-54408875188d",
   "metadata": {},
   "outputs": [
    {
     "name": "stderr",
     "output_type": "stream",
     "text": [
      "WARNING:matplotlib.legend:No artists with labels found to put in legend.  Note that artists whose label start with an underscore are ignored when legend() is called with no argument.\n"
     ]
    },
    {
     "data": {
      "text/plain": [
       "<matplotlib.legend.Legend at 0x7f98a2b84490>"
      ]
     },
     "execution_count": 202,
     "metadata": {},
     "output_type": "execute_result"
    },
    {
     "data": {
      "image/png": "[encoded data removed]",
      "text/plain": [
       "<Figure size 640x480 with 1 Axes>"
      ]
     },
     "metadata": {},
     "output_type": "display_data"
    }
   ],
   "source": [
    "control = plt.violinplot([trial_durations[inbound_trial & ~transfected_trial& ~accuracy],\n",
    "                trial_durations[inbound_trial & ~transfected_trial& accuracy],],\n",
    "               positions = positions,\n",
    "               showmedians=False,showextrema=False,points=1000,)\n",
    "test = plt.violinplot([trial_durations[inbound_trial & transfected_trial& ~accuracy],\n",
    "                trial_durations[inbound_trial & transfected_trial& accuracy],],\n",
    "               positions = positions+.5,\n",
    "               showmeans=False,showextrema=False,points=1000,)\n",
    "\n",
    "\n",
    "for pc in control['bodies']:\n",
    "    pc.set_facecolor('cornflowerblue')\n",
    "    pc.set_alpha(.5)\n",
    "for pc in test['bodies']:\n",
    "    pc.set_facecolor('firebrick')\n",
    "    pc.set_alpha(.5)\n",
    "\n",
    "plt.ylim(0,100)\n",
    "plt.xticks(positions+.25,labels=['inbound inaccurate', 'inbound accurate'])\n",
    "plt.ylabel('trial non-port time (seconds)')\n",
    "plt.ylim(0,100)\n",
    "\n",
    "plt.legend()"
   ]
  },
  {
   "cell_type": "code",
   "execution_count": 145,
   "id": "d12cdfb0-d7cc-4401-9b96-124e0fe0e43c",
   "metadata": {},
   "outputs": [
    {
     "data": {
      "text/plain": [
       "0.23801773745361235"
      ]
     },
     "execution_count": 145,
     "metadata": {},
     "output_type": "execute_result"
    }
   ],
   "source": [
    "from scipy.stats import ttest_ind\n",
    "inbound_p = ttest_ind(trial_durations[inbound_trial & ~transfected_trial],trial_durations[inbound_trial & transfected_trial],equal_var=False)[1]\n",
    "\n",
    "outbound_p = ttest_ind(trial_durations[~inbound_trial & ~transfected_trial],trial_durations[~inbound_trial & transfected_trial],equal_var=False)[1]"
   ]
  },
  {
   "cell_type": "markdown",
   "id": "d5156a53-2714-4b96-8a55-3c718581da94",
   "metadata": {},
   "source": [
    "## Define Trial by running times"
   ]
  },
  {
   "cell_type": "code",
   "execution_count": 87,
   "id": "9285f839-4a11-4358-8f3d-1a30044c7c70",
   "metadata": {},
   "outputs": [
    {
     "name": "stdout",
     "output_type": "stream",
     "text": [
      "wtrack_limit 27.250000000000046\n"
     ]
    }
   ],
   "source": [
    "animal = \"Winnie\"\n",
    "track_type = \"wtrack\"\n",
    "dataset_key = {\n",
    "                   # 'pulse_length_ms':40,\n",
    "                   # \"transfected\":True,\n",
    "                   \"laser_power\": 77,\n",
    "                   'targeted_phase':90,\n",
    "                    'animal':animal,\n",
    "    }\n",
    "    \n",
    "dataset = (OptoStimProtocol *\n",
    "           OptoStimProtocolTransfected *\n",
    "           OptoStimProtocolLaser *\n",
    "           OptoStimProtocolClosedLoop) & dataset_key\n",
    "\n",
    "dataset = filter_animal(dataset,dataset_key['animal'])\n",
    "dataset = filter_task(dataset,track_type)\n",
    "\n",
    "inbound_trial = []\n",
    "trial_durations = []\n",
    "opto_trial = []\n",
    "for nwb_file_name,interval_name in zip(dataset.fetch(\"nwb_file_name\"),dataset.fetch(\"interval_list_name\")):\n",
    "    key = {\"nwb_file_name\":nwb_file_name,\"interval_list_name\":interval_name}\n",
    "    \n",
    "    break\n",
    "interval = (IntervalList & key).fetch1(\"valid_times\")\n",
    "travel_intervals = np.array(filter_position_ports(key))"
   ]
  },
  {
   "cell_type": "code",
   "execution_count": 89,
   "id": "40972a38-3ddd-4ce4-8c62-9baefe50ad46",
   "metadata": {},
   "outputs": [],
   "source": [
    "travel_durations = np.array([interval[1]-interval[0] for interval in travel_intervals])\n",
    "ind = np.where(travel_durations>5)[0]\n",
    "travel_durations = travel_durations[ind]\n",
    "travel_intervals = travel_intervals[ind]"
   ]
  },
  {
   "cell_type": "code",
   "execution_count": 91,
   "id": "4fd94350-57e9-48a4-86ea-90f62b687d2b",
   "metadata": {},
   "outputs": [
    {
     "data": {
      "text/plain": [
       "array([23.03309441, 13.16654086, 41.66623831, 67.16599464, 13.4665339 ,\n",
       "        9.16657758, 27.13304543, 26.26641488,  6.69993663, 22.69979262,\n",
       "       19.76646733,  5.53326893, 23.19978118, 35.86629915, 14.26653147,\n",
       "       30.03302574, 37.09962034, 17.39983702, 27.99971843, 43.49957609,\n",
       "        5.39993525, 14.6665144 , 39.93292117, 22.76644826, 32.09968638,\n",
       "       25.03307891, 33.7996552 , 68.19932914, 15.46650863, 24.29976654,\n",
       "        5.43326664])"
      ]
     },
     "execution_count": 91,
     "metadata": {},
     "output_type": "execute_result"
    }
   ],
   "source": [
    "travel_durations"
   ]
  }
 ],
 "metadata": {
  "kernelspec": {
   "display_name": "Python [conda env:spyglass] *",
   "language": "python",
   "name": "conda-env-spyglass-py"
  },
  "language_info": {
   "codemirror_mode": {
    "name": "ipython",
    "version": 3
   },
   "file_extension": ".py",
   "mimetype": "text/x-python",
   "name": "python",
   "nbconvert_exporter": "python",
   "pygments_lexer": "ipython3",
   "version": "3.9.16"
  }
 },
 "nbformat": 4,
 "nbformat_minor": 5
}
